{
 "cells": [
  {
   "cell_type": "markdown",
   "metadata": {
    "slideshow": {
     "slide_type": "slide"
    }
   },
   "source": [
    "# 推导式（comprehensions）\n",
    "\n",
    "在 Python 编程中 `for` 循环是常用的一种循环语句。在实际工作中常有这样的应用场景，遍历一个序列或可迭代对象，对每个元素进行运算，并把结果组成一个新的序列。\n",
    "\n",
    "在下面实例中，对已有列表的每个数字求平方，组成新的列表："
   ]
  },
  {
   "cell_type": "code",
   "execution_count": null,
   "metadata": {
    "slideshow": {
     "slide_type": "-"
    }
   },
   "outputs": [],
   "source": [
    "result_list = []\n",
    "xs = (10, 15, 20, 25, 30, 35, 40, 45, 50, 55, 60, 65, 70, 75, 80, 95, 90, 95)\n",
    "for i in xs:\n",
    "    result_list.append(i * i)\n",
    "\n",
    "print(result_list)   "
   ]
  },
  {
   "cell_type": "markdown",
   "metadata": {
    "slideshow": {
     "slide_type": "slide"
    }
   },
   "source": [
    "有时候还需要做个判断，仅对符合条件的元素进行处理："
   ]
  },
  {
   "cell_type": "code",
   "execution_count": null,
   "metadata": {
    "slideshow": {
     "slide_type": "-"
    }
   },
   "outputs": [],
   "source": [
    "result_list = []\n",
    "xs = (10, 15, 20, 25, 30, 35, 40, 45, 50, 55, 60, 65, 70, 75, 80, 95, 90, 95)\n",
    "for i in xs:\n",
    "    if i % 10 != 0:\n",
    "        result_list.append(i * i)\n",
    "\n",
    "print(result_list)   "
   ]
  },
  {
   "cell_type": "markdown",
   "metadata": {
    "slideshow": {
     "slide_type": "slide"
    }
   },
   "source": [
    "对于这类相对简单的循环操作，Python 可以使用使用推导式来实现。推导式是 Python 独有的特性，可以简洁优雅地实现这种轻量级循序，而且速度更快。Python 内置了列表、字典、集合和元组这四种结构类型，相应的也有四种推导式：\n",
    "- 列表推导式（list comprehension）\n",
    "- 字典推导式（dict comprehension）\n",
    "- 集合推导式（set comprehension）\n",
    "- “元组推导式”"
   ]
  },
  {
   "cell_type": "markdown",
   "metadata": {
    "slideshow": {
     "slide_type": "slide"
    }
   },
   "source": [
    "## 列表推导式\n",
    "\n",
    "列表推导式是 Python 的内置方法，用来简明扼要地创建新的列表。列表推导式的语法是：\n",
    "```\n",
    "[expression for item in list if condition]\n",
    "```\n",
    "在中括号里包含一个表达式，然后是 `for` 循环语句，后面包含一个可选的`if`语句。表达式可以是任意的，即可以在推导式中放入任意类型的对\n",
    "象。列表推导式最终会返回一个新的列表。\n",
    "\n",
    "下面使用列表推导式重新实现上面所提功能要求："
   ]
  },
  {
   "cell_type": "code",
   "execution_count": null,
   "metadata": {
    "slideshow": {
     "slide_type": "-"
    }
   },
   "outputs": [],
   "source": [
    "xs = (10, 15, 20, 25, 30, 35, 40, 45, 50, 55, 60, 65, 70, 75, 80, 95, 90, 95)\n",
    "result_list = [i * i for i in xs]\n",
    "\n",
    "print(result_list)   "
   ]
  },
  {
   "cell_type": "markdown",
   "metadata": {},
   "source": [
    "还可以在列表推导式中使用 `if` 语句："
   ]
  },
  {
   "cell_type": "code",
   "execution_count": null,
   "metadata": {
    "slideshow": {
     "slide_type": "-"
    }
   },
   "outputs": [],
   "source": [
    "xs = (10, 15, 20, 25, 30, 35, 40, 45, 50, 55, 60, 65, 70, 75, 80, 95, 90, 95)\n",
    "result_list = [i*i for i in xs if i%10 != 0]\n",
    "\n",
    "print(result_list)   "
   ]
  },
  {
   "cell_type": "markdown",
   "metadata": {
    "slideshow": {
     "slide_type": "slide"
    }
   },
   "source": [
    "列表推导式的结果是一个列表对象："
   ]
  },
  {
   "cell_type": "code",
   "execution_count": null,
   "metadata": {
    "slideshow": {
     "slide_type": "-"
    }
   },
   "outputs": [],
   "source": [
    "print(type(result_list))"
   ]
  },
  {
   "cell_type": "markdown",
   "metadata": {
    "slideshow": {
     "slide_type": "slide"
    }
   },
   "source": [
    "可以看出使用列表推导式，其语句表达更简洁。除此之外，列表推导式的速度更快。使用 `IPython` 的魔术命令 `%%timeit` 来测量一下语句的运行速度："
   ]
  },
  {
   "cell_type": "code",
   "execution_count": null,
   "metadata": {
    "slideshow": {
     "slide_type": "slide"
    }
   },
   "outputs": [],
   "source": [
    "%%timeit\n",
    "result_list = []\n",
    "for i in range(1024*1024):\n",
    "    result_list.append(i * i)"
   ]
  },
  {
   "cell_type": "code",
   "execution_count": null,
   "metadata": {
    "slideshow": {
     "slide_type": "-"
    }
   },
   "outputs": [],
   "source": [
    "%%timeit\n",
    "result_list = [i*i for i in range(1024*1024)]"
   ]
  },
  {
   "cell_type": "markdown",
   "metadata": {},
   "source": [
    "再测量比较一下包含 `if` 语句的列表推导式的速度："
   ]
  },
  {
   "cell_type": "code",
   "execution_count": null,
   "metadata": {
    "slideshow": {
     "slide_type": "slide"
    }
   },
   "outputs": [],
   "source": [
    "%%timeit\n",
    "result_list = []\n",
    "for i in range(1024*1024):\n",
    "    if i % 2 != 0:\n",
    "        result_list.append(i * i)"
   ]
  },
  {
   "cell_type": "code",
   "execution_count": null,
   "metadata": {
    "slideshow": {
     "slide_type": "-"
    }
   },
   "outputs": [],
   "source": [
    "%%timeit\n",
    "result_list = [i*i for i in range(1024*1024) if i%2 != 0]"
   ]
  },
  {
   "cell_type": "markdown",
   "metadata": {
    "slideshow": {
     "slide_type": "slide"
    }
   },
   "source": [
    "在列表表达式中可以使用更为复杂一些的表达式。在下面示例中，在列表表达式中使用`if...else`语句，来实现小时候常玩的明 7 暗 7 游戏："
   ]
  },
  {
   "cell_type": "code",
   "execution_count": null,
   "metadata": {
    "slideshow": {
     "slide_type": "-"
    }
   },
   "outputs": [],
   "source": [
    "# 明7暗7游戏\n",
    "alist = ['Pass' if i%7==0 or i%10==7 else i for i in range(1,100)]\n",
    "print(alist)"
   ]
  },
  {
   "cell_type": "markdown",
   "metadata": {
    "slideshow": {
     "slide_type": "slide"
    }
   },
   "source": [
    "在列表推导式中，循环还可以嵌套："
   ]
  },
  {
   "cell_type": "code",
   "execution_count": null,
   "metadata": {
    "slideshow": {
     "slide_type": "-"
    }
   },
   "outputs": [],
   "source": [
    "blist = [m + int(n) for m in [10, 100, 1000] for n in '0123456789']\n",
    "print(blist)"
   ]
  },
  {
   "cell_type": "markdown",
   "metadata": {
    "slideshow": {
     "slide_type": "slide"
    }
   },
   "source": [
    "使用列表推导式可以从一个序列快捷地创建出一个新的列表，序列可以是列表、元组、集合，也可以是字典。列表表达式的初心是实现轻量级循环，故列表表达式都可以用 `for` 循环语句实现，但并非所有 `for` 循环都能用列表推导式来实现。同样基于此，应尽量避免写太长或太多层的列表推导式，毕竟简单易懂才是王道。"
   ]
  },
  {
   "cell_type": "markdown",
   "metadata": {
    "slideshow": {
     "slide_type": "slide"
    }
   },
   "source": [
    "## 字典推导式\n",
    "\n",
    "字典推导式的方法与列表推导式类似，也是快捷地从序列中创建新的字典。字典推导式的语法\n",
    "```\n",
    "{}expression for item in list if condition}\n",
    "```\n",
    "表达式则使用键值对形式。"
   ]
  },
  {
   "cell_type": "code",
   "execution_count": null,
   "metadata": {},
   "outputs": [],
   "source": [
    "xs = (10, 15, 20, 25, 30, 35, 40, 45, 50, 55, 60, 65, 70, 75, 80, 95, 90, 95)\n",
    "result_dict = {str(i): i*i for i in xs if i%10 != 0}\n",
    "print(result_dict)"
   ]
  },
  {
   "cell_type": "markdown",
   "metadata": {},
   "source": [
    "字典推导式返回结果是字典对象："
   ]
  },
  {
   "cell_type": "code",
   "execution_count": null,
   "metadata": {},
   "outputs": [],
   "source": [
    "print(type(result_dict))"
   ]
  },
  {
   "cell_type": "markdown",
   "metadata": {
    "slideshow": {
     "slide_type": "slide"
    }
   },
   "source": [
    "再举一个字典推导式的例子，有时候需要把字典的键值对快随对换一下："
   ]
  },
  {
   "cell_type": "code",
   "execution_count": null,
   "metadata": {
    "slideshow": {
     "slide_type": "-"
    }
   },
   "outputs": [],
   "source": [
    "adict = {'Python': 'Class 1', 'C':  'Class 2'}\n",
    "bdict = {v: k for k, v in adict.items()}\n",
    "print(bdict)"
   ]
  },
  {
   "cell_type": "markdown",
   "metadata": {
    "slideshow": {
     "slide_type": "slide"
    }
   },
   "source": [
    "## 集合推导式\n",
    "\n",
    "集合推导式用来简单快捷地创建一个新的集合，其语法为：\n",
    "```\n",
    "{expression for item in list if condition}\n",
    "```"
   ]
  },
  {
   "cell_type": "markdown",
   "metadata": {},
   "source": [
    "下面实例中，使用列表中元素快捷创建一个集合："
   ]
  },
  {
   "cell_type": "code",
   "execution_count": null,
   "metadata": {
    "slideshow": {
     "slide_type": "slide"
    }
   },
   "outputs": [],
   "source": [
    "alist = ['Wang Weihua', 'wang weihua', 'Python', 'pythoN', 'python']\n",
    "result_set = {name.lower() for name in alist}\n",
    "print(result_set)"
   ]
  },
  {
   "cell_type": "markdown",
   "metadata": {},
   "source": [
    "集合推导式的结果是集合对象："
   ]
  },
  {
   "cell_type": "code",
   "execution_count": null,
   "metadata": {
    "slideshow": {
     "slide_type": "-"
    }
   },
   "outputs": [],
   "source": [
    "print(type(result_set))"
   ]
  },
  {
   "cell_type": "markdown",
   "metadata": {
    "slideshow": {
     "slide_type": "slide"
    }
   },
   "source": [
    "## “元组推导式”\n",
    "\n",
    "使用列表推导式、字典推导式与集合表达式可以快速创建列表、字典、集合，那有没有元组表达式呢？元组是用圆括号的，那就试一试，说干就上代码："
   ]
  },
  {
   "cell_type": "code",
   "execution_count": null,
   "metadata": {
    "slideshow": {
     "slide_type": "-"
    }
   },
   "outputs": [],
   "source": [
    "xs = (10, 15, 20, 25, 30, 35, 40, 45, 50, 55, 60, 65, 70, 75, 80, 95, 90, 95)\n",
    "result_tuple = (i*i for i in xs if i%10 != 0)"
   ]
  },
  {
   "cell_type": "markdown",
   "metadata": {},
   "source": [
    "看起来一切正常， 没有抛出异常错误。那用循环来查看一下结果："
   ]
  },
  {
   "cell_type": "code",
   "execution_count": null,
   "metadata": {},
   "outputs": [],
   "source": [
    "for x in result_tuple:\n",
    "    print(x, end=' ')"
   ]
  },
  {
   "cell_type": "markdown",
   "metadata": {
    "slideshow": {
     "slide_type": "slide"
    }
   },
   "source": [
    "似乎也符合结果预期。不过查看一下结果是啥类型："
   ]
  },
  {
   "cell_type": "code",
   "execution_count": null,
   "metadata": {
    "slideshow": {
     "slide_type": "-"
    }
   },
   "outputs": [],
   "source": [
    "print(type(result_tuple))"
   ]
  },
  {
   "cell_type": "markdown",
   "metadata": {
    "slideshow": {
     "slide_type": "slide"
    }
   },
   "source": [
    "也就是说“元组推导式”返回结果是生成器（`generator`），故可称其为生成器推导式或生成器表达式，在后续章节将会予以介绍。"
   ]
  }
 ],
 "metadata": {
  "kernelspec": {
   "display_name": "Python 3",
   "language": "python",
   "name": "python3"
  },
  "language_info": {
   "codemirror_mode": {
    "name": "ipython",
    "version": 3
   },
   "file_extension": ".py",
   "mimetype": "text/x-python",
   "name": "python",
   "nbconvert_exporter": "python",
   "pygments_lexer": "ipython3",
   "version": "3.6.4"
  },
  "toc": {
   "base_numbering": 1,
   "nav_menu": {},
   "number_sections": true,
   "sideBar": true,
   "skip_h1_title": false,
   "title_cell": "Table of Contents",
   "title_sidebar": "Contents",
   "toc_cell": false,
   "toc_position": {},
   "toc_section_display": true,
   "toc_window_display": false
  }
 },
 "nbformat": 4,
 "nbformat_minor": 2
}
