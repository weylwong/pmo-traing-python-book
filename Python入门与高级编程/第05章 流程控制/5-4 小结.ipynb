{
 "cells": [
  {
   "cell_type": "markdown",
   "metadata": {},
   "source": [
    "# 小结\n",
    "\n",
    "本章再次介绍了流程控制。在 Python 共有33个关键字，而与流程控制的关键字就有8个：\n",
    "```\n",
    "if, else, elif, for, while, break, continue, pass\n",
    "```\n",
    "\n",
    "除了流程控制，本章还介绍了推导式的使用方法。"
   ]
  },
  {
   "cell_type": "markdown",
   "metadata": {},
   "source": [
    "本章新介绍的 Pyhton 内置函数有：\n",
    "\n",
    "- 序列运算\n",
    "    - `range()`\n",
    "    - `enumerate()` 把一个序列组合为一个索引序列\n",
    "    - `zip()`，可以把多个序列的元素打包为元组，并把元组组成新的序列"
   ]
  }
 ],
 "metadata": {
  "kernelspec": {
   "display_name": "Python 3",
   "language": "python",
   "name": "python3"
  },
  "language_info": {
   "codemirror_mode": {
    "name": "ipython",
    "version": 3
   },
   "file_extension": ".py",
   "mimetype": "text/x-python",
   "name": "python",
   "nbconvert_exporter": "python",
   "pygments_lexer": "ipython3",
   "version": "3.6.4"
  },
  "toc": {
   "base_numbering": 1,
   "nav_menu": {},
   "number_sections": true,
   "sideBar": true,
   "skip_h1_title": false,
   "title_cell": "Table of Contents",
   "title_sidebar": "Contents",
   "toc_cell": false,
   "toc_position": {},
   "toc_section_display": true,
   "toc_window_display": false
  }
 },
 "nbformat": 4,
 "nbformat_minor": 2
}
