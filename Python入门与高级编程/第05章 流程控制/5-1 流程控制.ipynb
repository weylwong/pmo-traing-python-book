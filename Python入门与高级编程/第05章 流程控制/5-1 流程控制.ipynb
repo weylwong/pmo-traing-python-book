{
 "cells": [
  {
   "cell_type": "markdown",
   "metadata": {
    "slideshow": {
     "slide_type": "slide"
    }
   },
   "source": [
    "# 流程控制\n",
    "\n",
    "Python 代码文件是由一行行语句组成的，当 Python 在解释运行程序文件时，按照顺序执行原则，从上到下依次读取语句并解释执行。如果编程语言仅仅支持顺序语句，那么任谁都很难写出满足现实需求的程序。实际上，大多数编程语言都提供有条件语句以及循环语句，支持语句的终端和跳转。如前面几章的实例，那怕编写一些很简单的程序，都需要条件语句或循环语句。本节将介绍流程控制的更多内容，包括：\n",
    "- 条件语句\n",
    "- 循环语句\n",
    "    - `for`循环\n",
    "    - `while`循环\n",
    "    - `break`与`continue`语句\n",
    "- `pass`语句"
   ]
  },
  {
   "cell_type": "markdown",
   "metadata": {
    "slideshow": {
     "slide_type": "slide"
    }
   },
   "source": [
    "## 条件语句\n",
    "\n",
    "当要根据不同条件来执行不同的代码时，就需要条件语句来实现不同的分支。在 Python 中，可以使用`if…elif…else`语句来实现条件分支。其语法为：\n",
    "```python\n",
    "if expression1:\n",
    "   statement(s)\n",
    "elif expression2:\n",
    "   statement(s)\n",
    "elif expression3:\n",
    "   statement(s)\n",
    "else:\n",
    "   statement(s)\n",
    "```\n",
    "\n",
    "与大多语言不同的是，Python 的条件语句使用冒号`:`与缩进来实现：\n",
    "- 条件表达式后面要有冒号`:`\n",
    "- 使用缩进来表示分支语句块要缩进。\n",
    "\n",
    "计算机编程中关于缩进的代码风格争论旷日持久，这里不再赘述。按照[PEP8规范](https://www.python.org/dev/peps/pep-0008/)，统一使用4个空格。"
   ]
  },
  {
   "cell_type": "markdown",
   "metadata": {
    "slideshow": {
     "slide_type": "slide"
    }
   },
   "source": [
    "### `if` 语句\n",
    "\n",
    "先介绍最简单条件语句，就是只用 `if` 语句，其语法为：\n",
    "```\n",
    "if condition:\n",
    "    statement(s)\n",
    "```"
   ]
  },
  {
   "cell_type": "markdown",
   "metadata": {
    "slideshow": {
     "slide_type": "slide"
    }
   },
   "source": [
    "这里仍然用地球是否是平的示例，当地球天圆地方说是正确的，那么打印一句提醒。如果不正确，则没有啥动作："
   ]
  },
  {
   "cell_type": "code",
   "execution_count": null,
   "metadata": {
    "slideshow": {
     "slide_type": "-"
    }
   },
   "outputs": [],
   "source": [
    "earth_is_flat = True\n",
    "if earth_is_flat:\n",
    "    print('Be careful not to fall off!')\n",
    "print(\"This is always printed.\")"
   ]
  },
  {
   "cell_type": "markdown",
   "metadata": {},
   "source": [
    "从上面实例中，当条件表达式`earth_is_flat`为真时，就会执行分支语句。当为假时则不会执行。"
   ]
  },
  {
   "cell_type": "markdown",
   "metadata": {
    "slideshow": {
     "slide_type": "slide"
    }
   },
   "source": [
    "也就是说当条件表达式为 `False` 时，其缩进的语句块不会执行。在这种情况，这些语句块只要没有语法错误，Python 并不会抛出其它异常错误。例如在下面代码中，`IF` 语句块在运行时存在零除错误和命名错误："
   ]
  },
  {
   "cell_type": "code",
   "execution_count": null,
   "metadata": {
    "slideshow": {
     "slide_type": "-"
    }
   },
   "outputs": [],
   "source": [
    "if False:\n",
    "    x = 1 / 0     # ZeroDivisionError\n",
    "    syntax        # NameError"
   ]
  },
  {
   "cell_type": "markdown",
   "metadata": {
    "slideshow": {
     "slide_type": "slide"
    }
   },
   "source": [
    "由于条件表达式为假，所以 Python 会对这些错误视而不见。但是，一旦该条件表达式为真时，Python 就会抛出异常错误，导致软件无法中断："
   ]
  },
  {
   "cell_type": "code",
   "execution_count": null,
   "metadata": {
    "slideshow": {
     "slide_type": "-"
    }
   },
   "outputs": [],
   "source": [
    "if True:\n",
    "    x = 1 / 0     # ZeroDivisionError\n",
    "    syntax          # NameError"
   ]
  },
  {
   "cell_type": "markdown",
   "metadata": {
    "slideshow": {
     "slide_type": "slide"
    }
   },
   "source": [
    "也就是说，即使一个程序能够顺利运行，并不意味着里面没有错误。正是这个原因，人们希望在软件测试中代码覆盖率要尽量高。"
   ]
  },
  {
   "cell_type": "markdown",
   "metadata": {
    "slideshow": {
     "slide_type": "slide"
    }
   },
   "source": [
    "### `if...else...` 语句\n",
    "\n",
    "使用 `if` 与 `else` 语句可以实现流程的两个分支。：\n",
    "```\n",
    "if condition:\n",
    "    statement(s) of if\n",
    "else:\n",
    "    statement(s) of else\n",
    "```"
   ]
  },
  {
   "cell_type": "markdown",
   "metadata": {
    "slideshow": {
     "slide_type": "-"
    }
   },
   "source": [
    "如果条件表达式为真则执行 `if` 语句下的语句块；如果条件为假则执行`else`语句下的语句块。下面实例根据输入的整数是否大于等于 0 ，打印出自然数或负整数："
   ]
  },
  {
   "cell_type": "code",
   "execution_count": null,
   "metadata": {
    "slideshow": {
     "slide_type": "slide"
    }
   },
   "outputs": [],
   "source": [
    "# Try different number\n",
    "num = 3   \n",
    "# num = -5\n",
    "# num = 0\n",
    "\n",
    "if num >= 0:\n",
    "    print(\"自然数\")\n",
    "else:\n",
    "    print(\"负整数\")"
   ]
  },
  {
   "cell_type": "markdown",
   "metadata": {
    "slideshow": {
     "slide_type": "slide"
    }
   },
   "source": [
    "### 多个分支\n",
    "\n",
    "使用if…elif…else语句可以实现多个条件分支。Python 是在操作系统上运行的，`sys` 模块的变量`sys.platform`存放所在操作系统的名称，不同操作系统会有不同的值：\n",
    "- `win`，代表Windows系统\n",
    "- `linux`，代表Linux系统\n",
    "- `darwin`，代表苹果系统\n",
    "\n",
    "下面的实例用来判断并打印出操作系统："
   ]
  },
  {
   "cell_type": "code",
   "execution_count": null,
   "metadata": {
    "slideshow": {
     "slide_type": "slide"
    }
   },
   "outputs": [],
   "source": [
    "import sys\n",
    "\n",
    "if sys.platform.startswith('win'):\n",
    "    print('Windows system')\n",
    "elif sys.platform.startswith('linux'):\n",
    "    print('Linux system')\n",
    "elif sys.platform.startswith('darwin'):\n",
    "    print('Apple system')\n",
    "else:\n",
    "    print('Unknown system')"
   ]
  },
  {
   "cell_type": "markdown",
   "metadata": {
    "slideshow": {
     "slide_type": "slide"
    }
   },
   "source": [
    "### 三元运算符替代\n",
    "\n",
    "在其它语言，例如 C 语言中有三元运算符可以实现轻量级的 `if...else...` 表达式：\n",
    "```c\n",
    "X ? V1:V2\n",
    "```\n",
    "\n",
    "Python 没有这种三元预算符，不过通过把`if...else...`语句缩减为单一表达式，也可实现类似三元运算符操作，其语法为：\n",
    "```pyhton\n",
    "expression1 if boolean_expression else expression2\n",
    "```"
   ]
  },
  {
   "cell_type": "markdown",
   "metadata": {
    "slideshow": {
     "slide_type": "-"
    }
   },
   "source": [
    "下面使用这种语法，根据性别来进行变量赋值："
   ]
  },
  {
   "cell_type": "code",
   "execution_count": null,
   "metadata": {
    "slideshow": {
     "slide_type": "-"
    }
   },
   "outputs": [],
   "source": [
    "sex = 'male'\n",
    "address = 'Gentleman' if sex == 'male' else 'Lady'\n",
    "'Hi, {0}'.format(address)"
   ]
  },
  {
   "cell_type": "markdown",
   "metadata": {
    "slideshow": {
     "slide_type": "slide"
    }
   },
   "source": [
    "### 嵌套条件语句\n",
    "\n",
    "在条件语句中可以继续使用条件语句，也就是嵌套条件语句。嵌套条件语句可以有很多层，不过嵌套层次太多容易令人误解，产生不必要的混乱。故嵌套条件语句最好不要层次太多。下面使用嵌套条件语句来判断整数是整数、负整数亦或是0 ："
   ]
  },
  {
   "cell_type": "code",
   "execution_count": null,
   "metadata": {
    "slideshow": {
     "slide_type": "slide"
    }
   },
   "outputs": [],
   "source": [
    "# Try different number\n",
    "num = 3   \n",
    "# num = -5\n",
    "# num = 0\n",
    "\n",
    "if num >= 0:\n",
    "    if num == 0:\n",
    "        print(\"零\")\n",
    "    else:\n",
    "        print(\"正整数\")\n",
    "else:\n",
    "    print(\"负整数\")"
   ]
  },
  {
   "cell_type": "markdown",
   "metadata": {},
   "source": [
    "## 循环语句\n",
    "\n",
    "循环语句包括\n",
    "- `for`语句\n",
    "- `while`语句"
   ]
  },
  {
   "cell_type": "markdown",
   "metadata": {
    "slideshow": {
     "slide_type": "slide"
    }
   },
   "source": [
    "### `for`循环语句\n",
    "\n",
    "前面提过，计算机很笨但是计算的快。在进行大量计算时计算机比人的优势要显著得多。使用循环语句来运行指定语句块，能充分发挥计算机的优势。在 Python 中提供了 `for` 循环语句。`for`语句语法为：\n",
    "```pyhton\n",
    "for <variable> in <iterable>:\n",
    "    <statement(s)>\n",
    "else:\n",
    "    <statement(s)>\n",
    "```\n",
    "其中else分支是可选的。\n",
    "\n",
    "与条件语句一样，序号语句使用冒号`:`与缩进来实现。冒号之后缩进的语句块称为循环体。"
   ]
  },
  {
   "cell_type": "markdown",
   "metadata": {},
   "source": [
    "实现 `__getitem__()` 魔术方法的对象称为序列对象，实现 `__iter__()` 魔术方法的对象称为可迭代对象。Python 内置的字符串、列表、元组和字典对象都是序列对象，可以进行遍历循环，故通常也把序列对象称为可迭代对象。实际上这些对象同时也定义有`__iter__`方法。Python 内置的集合没有实现 `__getitem__()` 方法，但实现 `__iter__()` 魔术方法。所以集合对象是可迭代对象，但不是序列对象。\n",
    "\n",
    "无论如何，只要是可迭代对象，就可以使用 `for` 语句来遍历序列中的所有元素，依次执行循环体语句。例如下面来循环遍历列表的每个元素："
   ]
  },
  {
   "cell_type": "code",
   "execution_count": null,
   "metadata": {
    "slideshow": {
     "slide_type": "slide"
    }
   },
   "outputs": [],
   "source": [
    "datatypes = [1, 2, 3]\n",
    "for datatype in datatypes:\n",
    "    print(datatype)\n",
    "\n",
    "print(\"This is always printed.\")"
   ]
  },
  {
   "cell_type": "markdown",
   "metadata": {},
   "source": [
    "在上面语句中，`for`语句会遍历列表中的每个元素，执行循环体语句，打印出元素。循环语句执行完后，又进入顺序执行模式。下面的几个实例则分别对字符串，元组、字典进行循环："
   ]
  },
  {
   "cell_type": "code",
   "execution_count": null,
   "metadata": {
    "slideshow": {
     "slide_type": "slide"
    }
   },
   "outputs": [],
   "source": [
    "# a string\n",
    "for char in 'HelloPython!':\n",
    "    print(ord(char), end=' ')"
   ]
  },
  {
   "cell_type": "code",
   "execution_count": null,
   "metadata": {
    "slideshow": {
     "slide_type": "slide"
    }
   },
   "outputs": [],
   "source": [
    "# a tuple\n",
    "for color in ('red', 'green', 'blue'):\n",
    "    print('Current color is ', color)"
   ]
  },
  {
   "cell_type": "code",
   "execution_count": null,
   "metadata": {
    "slideshow": {
     "slide_type": "slide"
    }
   },
   "outputs": [],
   "source": [
    "stock = {\n",
    "    'code': 600519 , \n",
    "    'name': '贵州茅台', \n",
    "    'listing_date': 20010827,\n",
    "    'issue_price': 34.51,\n",
    "    'low_price': 25.88,    \n",
    "}\n",
    "for key, value in stock.items():\n",
    "    print('{0}={1}'.format(key, value))"
   ]
  },
  {
   "cell_type": "markdown",
   "metadata": {
    "slideshow": {
     "slide_type": "slide"
    }
   },
   "source": [
    "#### 内置函数`range()`\n",
    "\n",
    "如果需要简单遍历数字序列，可以使用 Python 内置函数 `range()` 函数："
   ]
  },
  {
   "cell_type": "code",
   "execution_count": null,
   "metadata": {
    "slideshow": {
     "slide_type": "-"
    }
   },
   "outputs": [],
   "source": [
    "for i in range(90, 100, 2):\n",
    "    print(i)"
   ]
  },
  {
   "cell_type": "markdown",
   "metadata": {
    "slideshow": {
     "slide_type": "slide"
    }
   },
   "source": [
    "#### 内置函数 `enumerate()`\n",
    "\n",
    "Python 内置函数 `enumerate()` 把一个序列组合为一个索引序列，即包括元素索引和元素。索引缺省从 0 开始，可以设置起始数："
   ]
  },
  {
   "cell_type": "code",
   "execution_count": null,
   "metadata": {
    "slideshow": {
     "slide_type": "slide"
    }
   },
   "outputs": [],
   "source": [
    "# a list \n",
    "citylist = ['北', '上', '广', '深']\n",
    "for index, city in enumerate(citylist):\n",
    "    print('大城市 {0}: {1}'.format(index, city))  \n",
    "    "
   ]
  },
  {
   "cell_type": "code",
   "execution_count": null,
   "metadata": {},
   "outputs": [],
   "source": [
    "for index, city in enumerate(citylist, start=1):\n",
    "    print('大城市 {0}: {1}'.format(index, city))"
   ]
  },
  {
   "cell_type": "markdown",
   "metadata": {},
   "source": [
    "#### 内置函数 `zip()`\n",
    "\n",
    "使用 Python 内置函数 `zip()`，可以把多个序列的元素打包为元组，并把元组组成新的序列。下面实例使用 `zip()`函数实现两个序列的循环： "
   ]
  },
  {
   "cell_type": "code",
   "execution_count": null,
   "metadata": {},
   "outputs": [],
   "source": [
    "# two list\n",
    "alist = ['东', '西', '南', '北']\n",
    "blist = ['邪', '毒', '帝', '丐']\n",
    "for w1, w2 in zip(alist, blist):\n",
    "    print('{}{}'.format(w1, w2))"
   ]
  },
  {
   "cell_type": "markdown",
   "metadata": {
    "slideshow": {
     "slide_type": "slide"
    }
   },
   "source": [
    "### while 循环\n",
    "\n",
    "Python 还提供了 `while` 循环语句，其使用语法为：\n",
    "```pyhton\n",
    "while condition_expression:\n",
    "    while_suite\n",
    "else:\n",
    "    else_suite\n",
    "```\n",
    "其中`else`分支是可选的。"
   ]
  },
  {
   "cell_type": "code",
   "execution_count": null,
   "metadata": {
    "slideshow": {
     "slide_type": "slide"
    }
   },
   "outputs": [],
   "source": [
    "count = 0\n",
    "while count < 5:\n",
    "    count += 1\n",
    "    print('count = ', count)\n",
    "    \n",
    "print(\"This is always printed.\")"
   ]
  },
  {
   "cell_type": "markdown",
   "metadata": {
    "slideshow": {
     "slide_type": "-"
    }
   },
   "source": [
    "在上述代码中，首先定义变量`count`，并赋值为 0；在 `while` 循环语句的表达式是判断变量 `count` 是否小于 5，如果表达式为真，则运行循环体语句。在循环体语句中，让变量`count`增加 1，并打印其值。随着循环体的反复执行，知道条件表达式不再满足则退出循环。然后又进入顺序执行模式。 "
   ]
  },
  {
   "cell_type": "markdown",
   "metadata": {
    "slideshow": {
     "slide_type": "slide"
    }
   },
   "source": [
    "#### 无限循环\n",
    "\n",
    "在一些应用中，程序需要一直运行，可以通过设置条件表达式永远为真来实现无限循环。为了减慢循环运行速度，使用`time`模块的`time.sleep()`函数来推迟运行："
   ]
  },
  {
   "cell_type": "code",
   "execution_count": null,
   "metadata": {
    "slideshow": {
     "slide_type": "-"
    }
   },
   "outputs": [],
   "source": [
    "import time\n",
    "\n",
    "while True:\n",
    "    print('使用 CTRL+C 或来中断循环；在Jupyter Notebook中终端内核')\n",
    "    time.sleep(5)"
   ]
  },
  {
   "cell_type": "markdown",
   "metadata": {
    "slideshow": {
     "slide_type": "slide"
    }
   },
   "source": [
    "### 中断跳转语句（break 与continue）\n",
    "\n",
    "在 `for` 或 `while` 循环中，在循环体中使用 `break` 语句，会中断循环。如果循环语句执行了 `break` 语句，则循环语句中的 `else` 语句不会执行。"
   ]
  },
  {
   "cell_type": "code",
   "execution_count": null,
   "metadata": {
    "slideshow": {
     "slide_type": "-"
    }
   },
   "outputs": [],
   "source": [
    "citylist = ['北', '上', '广', '深']\n",
    "for index, city in enumerate(citylist):\n",
    "    if city == '上':\n",
    "        print('大城市 {0}: {1}'.format(index, city))\n",
    "        break\n",
    "else:\n",
    "    print('没有运行 break')"
   ]
  },
  {
   "cell_type": "markdown",
   "metadata": {
    "slideshow": {
     "slide_type": "slide"
    }
   },
   "source": [
    "使用 `continue` 语句，则会跳过循环体余下的语句，进入下一循环："
   ]
  },
  {
   "cell_type": "code",
   "execution_count": null,
   "metadata": {
    "slideshow": {
     "slide_type": "-"
    }
   },
   "outputs": [],
   "source": [
    "citylist = ['北', '上', '广', '深']\n",
    "for city in citylist:\n",
    "    if city == '上':\n",
    "        continue\n",
    "        \n",
    "    print(\"I don't like city {0}\".format(city))"
   ]
  },
  {
   "cell_type": "markdown",
   "metadata": {},
   "source": [
    "在上述循环中，当执行 `continue` 语句时，后续的打印语句就不再执行，直接进入下一循环。 `"
   ]
  },
  {
   "cell_type": "markdown",
   "metadata": {
    "slideshow": {
     "slide_type": "slide"
    }
   },
   "source": [
    "## pass 语句\n",
    "\n",
    "Python 中的 `pass` 是一个空语句，顾名思义,啥也不做。一般用来做占位语句，目的是保持程序结构的完整性。"
   ]
  },
  {
   "cell_type": "code",
   "execution_count": null,
   "metadata": {
    "slideshow": {
     "slide_type": "-"
    }
   },
   "outputs": [],
   "source": [
    "citylist = ['北', '上', '广', '深']\n",
    "for index, city in enumerate(citylist):\n",
    "    pass"
   ]
  },
  {
   "cell_type": "markdown",
   "metadata": {},
   "source": [
    "在上述代码中，打算写一个 `for` 循环语句，但还没计划好写什么。如果不用 `pass` 语句则会跑出语法错误，使用 `pass` 语句先保持程序完整，以后再补上。同样在条件语句中也可以使用 `pass` 语句。"
   ]
  },
  {
   "cell_type": "code",
   "execution_count": null,
   "metadata": {
    "slideshow": {
     "slide_type": "slide"
    }
   },
   "outputs": [],
   "source": [
    "citylist = ['北', '上', '广', '深']\n",
    "for index, city in enumerate(citylist):\n",
    "    if city == '上':\n",
    "        pass\n",
    "    else:\n",
    "        print('city {0}: {1}'.format(index, city))    \n",
    "else:\n",
    "    print('else suite')"
   ]
  }
 ],
 "metadata": {
  "celltoolbar": "Slideshow",
  "kernelspec": {
   "display_name": "Python 3",
   "language": "python",
   "name": "python3"
  },
  "language_info": {
   "codemirror_mode": {
    "name": "ipython",
    "version": 3
   },
   "file_extension": ".py",
   "mimetype": "text/x-python",
   "name": "python",
   "nbconvert_exporter": "python",
   "pygments_lexer": "ipython3",
   "version": "3.6.4"
  },
  "toc": {
   "base_numbering": 1,
   "nav_menu": {},
   "number_sections": true,
   "sideBar": true,
   "skip_h1_title": false,
   "title_cell": "Table of Contents",
   "title_sidebar": "Contents",
   "toc_cell": false,
   "toc_position": {},
   "toc_section_display": true,
   "toc_window_display": true
  }
 },
 "nbformat": 4,
 "nbformat_minor": 1
}
