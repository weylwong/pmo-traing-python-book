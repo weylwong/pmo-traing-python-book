{
 "cells": [
  {
   "cell_type": "markdown",
   "metadata": {
    "slideshow": {
     "slide_type": "slide"
    }
   },
   "source": [
    "# 结构类定义实例\n",
    "\n",
    "Python 内置了列表(list)、元组(tuple)、字典(dict)、集合(set)等基本结构类型。自定义类时向这些内置类看齐，可以提高自己的编程水平，同时也能更好地理解和运用它们。\n",
    "\n",
    "本节通过编写一个背单词序列来演示来演示如何在 Python 中定义和使用结构类。"
   ]
  },
  {
   "cell_type": "markdown",
   "metadata": {},
   "source": [
    "## 定义单词类\n",
    "\n",
    "中国大部分学生都背过单词，下面来定义一个背单词序列类来记录大家记过的单词。序列有如下特征：\n",
    "- 同质，都是字符串\n",
    "- 单词唯一，不区分大小写；\n",
    "- 有序的，分得清是背的第几个单词；\n",
    "- 可变对象，可以增加与删除；\n",
    "- 无映射\n",
    "\n",
    "下面代码来定义背单词序列类："
   ]
  },
  {
   "cell_type": "code",
   "execution_count": 1,
   "metadata": {
    "slideshow": {
     "slide_type": "slide"
    }
   },
   "outputs": [],
   "source": [
    "class Word(object):\n",
    "    \"\"\"\\\n",
    "    Word()  -> Word([])\n",
    "    Word('Hello Python')  -> Word(['hello', 'python'])\n",
    "    Word(['Hello', 'Python'])  -> Word(['hello', 'python'])\n",
    "\n",
    "    创建单词序列\n",
    "    \"\"\"\n",
    "    def __init__(self, seq=None, wordtype='english'):\n",
    "        self.wordtype = wordtype\n",
    "        self.__words = []\n",
    "        if isinstance(seq, str):\n",
    "            for w in seq.split():\n",
    "                value = str(w).lower()\n",
    "                if value not in self.__words:\n",
    "                    self.__words.append(value)\n",
    "        elif hasattr(seq, '__iter__'):\n",
    "            for w in seq:\n",
    "                value = str(w).lower()\n",
    "                if value not in self.__words:\n",
    "                    self.__words.append(value)\n",
    "                    \n",
    "    def __str__(self):\n",
    "        \"\"\"Return str(self).\"\"\"\n",
    "        return '{}'.format(self.__words)\n",
    "\n",
    "    def __repr__(self):\n",
    "        \"\"\"Return repr(self).\"\"\"\n",
    "        class_name = type(self).__name__\n",
    "        return '{0}({1})'.format(class_name, self.__words)"
   ]
  },
  {
   "cell_type": "markdown",
   "metadata": {},
   "source": [
    "下面创建单词序列对象，并演示创建对象和对象字符串显示操作："
   ]
  },
  {
   "cell_type": "code",
   "execution_count": 2,
   "metadata": {},
   "outputs": [
    {
     "data": {
      "text/plain": [
       "(Word([]), Word(['hello', 'python']), Word(['hello', 'python']))"
      ]
     },
     "execution_count": 2,
     "metadata": {},
     "output_type": "execute_result"
    }
   ],
   "source": [
    "emptywords = Word()\n",
    "wordset1 = Word('Hello Python')\n",
    "wordset2 = Word(['Hello', 'Python', 'python'])\n",
    "\n",
    "emptywords, wordset1, wordset2"
   ]
  },
  {
   "cell_type": "code",
   "execution_count": 3,
   "metadata": {},
   "outputs": [
    {
     "data": {
      "text/plain": [
       "('[]', \"['hello', 'python']\", \"['hello', 'python']\")"
      ]
     },
     "execution_count": 3,
     "metadata": {},
     "output_type": "execute_result"
    }
   ],
   "source": [
    "str(emptywords), str(wordset1), str(wordset2)"
   ]
  },
  {
   "cell_type": "code",
   "execution_count": 4,
   "metadata": {},
   "outputs": [
    {
     "data": {
      "text/plain": [
       "('Word([])', \"Word(['hello', 'python'])\", \"Word(['hello', 'python'])\")"
      ]
     },
     "execution_count": 4,
     "metadata": {},
     "output_type": "execute_result"
    }
   ],
   "source": [
    "repr(emptywords), repr(wordset1), repr(wordset2)"
   ]
  },
  {
   "cell_type": "markdown",
   "metadata": {},
   "source": [
    "## 序列方法\n",
    "\n",
    "与序列操作有关的魔术方法如下表所示：\n",
    "\n",
    "|运算符 | 特殊方法    |  说明   |\n",
    "| :----:|:-------------| -------: |\n",
    "|`len()` | `__len__`   | 返回序列长度  |\n",
    "|`in`   | `__contains__` | 成员 |\n",
    "|`s[k]`  | `__getitem__` | 返回元素  |\n",
    "|`s[k]=x`| `__setitem__` | 更改元素  |\n",
    "|`del s[k]`| `__delitem__` | 删除元素  |\n",
    "\n",
    "这里的单词序列对象是可变对象，故在类中增加如下方法："
   ]
  },
  {
   "cell_type": "code",
   "execution_count": 5,
   "metadata": {},
   "outputs": [],
   "source": [
    "class Word(object):\n",
    "    \"\"\"\\\n",
    "    Word()  -> Word([])\n",
    "    Word('Hello Python')  -> Word(['hello', 'python'])\n",
    "    Word(['Hello', 'Python'])  -> Word(['hello', 'python'])\n",
    "\n",
    "    创建单词\n",
    "    \"\"\"\n",
    "    def __init__(self, seq=None, wordtype='english'):\n",
    "        self.wordtype = wordtype\n",
    "        self.__words = []\n",
    "        if isinstance(seq, str):\n",
    "            for w in seq.split():\n",
    "                if w.lower() not in self.__words:\n",
    "                    self.__words.append(w.lower())\n",
    "        elif hasattr(seq, '__iter__'):\n",
    "            for w in seq:\n",
    "                value = str(w).lower()\n",
    "                if value not in self.__words:\n",
    "                    self.__words.append(value)\n",
    "                    \n",
    "    def __str__(self):\n",
    "        \"\"\"Return str(self).\"\"\"\n",
    "        return '{}'.format(self.__words)\n",
    "\n",
    "    def __repr__(self):\n",
    "        \"\"\"Return repr(self).\"\"\"\n",
    "        class_name = type(self).__name__\n",
    "        return '{0}({1})'.format(class_name, self.__words)\n",
    "    \n",
    "    def __len__(self):\n",
    "        \"\"\"Return len(self).\"\"\"\n",
    "        return len(self.__words)\n",
    "    \n",
    "    def __contains__(self, word):\n",
    "        \"\"\"Return word in self.\"\"\"\n",
    "        value = str(word).lower()\n",
    "        return value in self.__words\n",
    "    \n",
    "    def __getitem__(self, index):\n",
    "        \"\"\"x.__getitem__(i) <==> x[i]\"\"\"\n",
    "        return self.__words[index]\n",
    "    \n",
    "    def __setitem__(self, index, value):\n",
    "        \"\"\"Set self[index] to value.\"\"\"\n",
    "        value = str(value).lower()\n",
    "        if value not in self.__words:\n",
    "            self.__words[index] = value\n",
    "        else:\n",
    "            pos = self.__words.index(value)\n",
    "            if pos > index:\n",
    "                self.__words[index] = value\n",
    "                del self.__words[pos]\n",
    "    \n",
    "    def __delitem__(self, index):\n",
    "        \"\"\"Delete self[i].\"\"\"\n",
    "        del self.__words[index]        "
   ]
  },
  {
   "cell_type": "markdown",
   "metadata": {},
   "source": [
    "下面创建单词序列对象，并演示元素的序列操作："
   ]
  },
  {
   "cell_type": "code",
   "execution_count": 6,
   "metadata": {},
   "outputs": [
    {
     "data": {
      "text/plain": [
       "Word(['python', 'c', 'c++', 'java'])"
      ]
     },
     "execution_count": 6,
     "metadata": {},
     "output_type": "execute_result"
    }
   ],
   "source": [
    "wordset = Word('Python python C C++ Java java')\n",
    "wordset"
   ]
  },
  {
   "cell_type": "code",
   "execution_count": 7,
   "metadata": {},
   "outputs": [
    {
     "name": "stdout",
     "output_type": "stream",
     "text": [
      "4 True\n"
     ]
    }
   ],
   "source": [
    "print(len(wordset), 'Python' in wordset)"
   ]
  },
  {
   "cell_type": "code",
   "execution_count": 8,
   "metadata": {},
   "outputs": [
    {
     "name": "stdout",
     "output_type": "stream",
     "text": [
      "python java\n",
      "['python', 'c'] ['python', 'c++']\n"
     ]
    }
   ],
   "source": [
    "print(wordset[0], wordset[-1])\n",
    "print(wordset[0:2], wordset[::2])"
   ]
  },
  {
   "cell_type": "code",
   "execution_count": 9,
   "metadata": {},
   "outputs": [
    {
     "data": {
      "text/plain": [
       "Word(['r', 'c', 'c++', 'java'])"
      ]
     },
     "execution_count": 9,
     "metadata": {},
     "output_type": "execute_result"
    }
   ],
   "source": [
    "wordset[0] = 'R'\n",
    "wordset"
   ]
  },
  {
   "cell_type": "code",
   "execution_count": 10,
   "metadata": {},
   "outputs": [
    {
     "data": {
      "text/plain": [
       "Word(['java', 'c', 'c++'])"
      ]
     },
     "execution_count": 10,
     "metadata": {},
     "output_type": "execute_result"
    }
   ],
   "source": [
    "wordset[0] = 'java'\n",
    "wordset"
   ]
  },
  {
   "cell_type": "code",
   "execution_count": 11,
   "metadata": {},
   "outputs": [
    {
     "data": {
      "text/plain": [
       "Word(['c', 'c++'])"
      ]
     },
     "execution_count": 11,
     "metadata": {},
     "output_type": "execute_result"
    }
   ],
   "source": [
    "del wordset[0]\n",
    "wordset"
   ]
  },
  {
   "cell_type": "markdown",
   "metadata": {},
   "source": [
    "作为一个序列，可以`for`语句来遍历："
   ]
  },
  {
   "cell_type": "code",
   "execution_count": 12,
   "metadata": {},
   "outputs": [
    {
     "name": "stdout",
     "output_type": "stream",
     "text": [
      "背的第1单词：c\n",
      "背的第2单词：c++\n"
     ]
    }
   ],
   "source": [
    "for i, word in enumerate(wordset, start=1):\n",
    "    print('背的第{}单词：{}'.format(i, word))"
   ]
  },
  {
   "cell_type": "markdown",
   "metadata": {},
   "source": [
    "## 算术运算\n",
    "\n",
    "对于背单词类而言，适合的算术运算有：\n",
    "- 加法，两个对象合并为新的对象；\n",
    "- 减法，两个对象相减得到新的对象；\n",
    "\n",
    "下面在类中增加这些魔术方法："
   ]
  },
  {
   "cell_type": "code",
   "execution_count": 13,
   "metadata": {},
   "outputs": [],
   "source": [
    "class Word(object):\n",
    "    \"\"\"\\\n",
    "    Word()  -> Word([])\n",
    "    Word('Hello Python')  -> Word(['hello', 'python'])\n",
    "    Word(['Hello', 'Python'])  -> Word(['hello', 'python'])\n",
    "\n",
    "    创建单词\n",
    "    \"\"\"\n",
    "    def __init__(self, seq=None, wordtype='english'):\n",
    "        self.wordtype = wordtype\n",
    "        self.__words = []\n",
    "        if isinstance(seq, str):\n",
    "            for w in seq.split():\n",
    "                if w.lower() not in self.__words:\n",
    "                    self.__words.append(w.lower())\n",
    "        elif hasattr(seq, '__iter__'):\n",
    "            for w in seq:\n",
    "                value = str(w).lower()\n",
    "                if value not in self.__words:\n",
    "                    self.__words.append(value)\n",
    "                    \n",
    "    def __str__(self):\n",
    "        \"\"\"Return str(self).\"\"\"\n",
    "        return '{}'.format(self.__words)\n",
    "\n",
    "    def __repr__(self):\n",
    "        \"\"\"Return repr(self).\"\"\"\n",
    "        class_name = type(self).__name__\n",
    "        return '{0}({1})'.format(class_name, self.__words)\n",
    "    \n",
    "    def __len__(self):\n",
    "        \"\"\"Return len(self).\"\"\"\n",
    "        return len(self.__words)\n",
    "    \n",
    "    def __contains__(self, word):\n",
    "        \"\"\"Return word in self.\"\"\"\n",
    "        value = str(word).lower()\n",
    "        return value in self.__words\n",
    "    \n",
    "    def __getitem__(self, index):\n",
    "        \"\"\"x.__getitem__(i) <==> x[i]\"\"\"\n",
    "        return self.__words[index]\n",
    "    \n",
    "    def __setitem__(self, index, value):\n",
    "        \"\"\"Set self[index] to value.\"\"\"\n",
    "        value = str(value).lower()\n",
    "        if value not in self.__words:\n",
    "            self.__words[index] = value\n",
    "        else:\n",
    "            pos = self.__words.index(value)\n",
    "            if pos > index:\n",
    "                self.__words[index] = value\n",
    "                del self.__words[pos]\n",
    "    \n",
    "    def __delitem__(self, index):\n",
    "        \"\"\"Delete self[i].\"\"\"\n",
    "        del self.__words[index]        \n",
    "        \n",
    "    def __add__(self, other):\n",
    "        \"\"\"Return self+other.\"\"\"\n",
    "        words = [w for w in other if w not in self.__words]\n",
    "        return Word(self.__words + words)        \n",
    "    \n",
    "    def __sub__(self, other):\n",
    "        \"\"\"Return self-other.\"\"\"\n",
    "        words = [w for w in self.__words if w not in other]\n",
    "        return Word(words)        "
   ]
  },
  {
   "cell_type": "markdown",
   "metadata": {},
   "source": [
    "下面创建单词序列对象，并演示对象的算术操作："
   ]
  },
  {
   "cell_type": "code",
   "execution_count": 14,
   "metadata": {},
   "outputs": [
    {
     "data": {
      "text/plain": [
       "(Word(['python', 'c', 'c++', 'java']), Word(['python', 'r', 'ruby']))"
      ]
     },
     "execution_count": 14,
     "metadata": {},
     "output_type": "execute_result"
    }
   ],
   "source": [
    "wordset1 = Word('Python python C C++ Java java')\n",
    "wordset2 = Word('python R ruby')\n",
    "wordset1, wordset2"
   ]
  },
  {
   "cell_type": "code",
   "execution_count": 15,
   "metadata": {},
   "outputs": [
    {
     "data": {
      "text/plain": [
       "Word(['python', 'c', 'c++', 'java', 'r', 'ruby'])"
      ]
     },
     "execution_count": 15,
     "metadata": {},
     "output_type": "execute_result"
    }
   ],
   "source": [
    "wordset1 + wordset2"
   ]
  },
  {
   "cell_type": "code",
   "execution_count": 16,
   "metadata": {},
   "outputs": [
    {
     "data": {
      "text/plain": [
       "Word(['c', 'c++', 'java'])"
      ]
     },
     "execution_count": 16,
     "metadata": {},
     "output_type": "execute_result"
    }
   ],
   "source": [
    "wordset1 - wordset2"
   ]
  },
  {
   "cell_type": "markdown",
   "metadata": {},
   "source": [
    "## 增强型赋值运算\n",
    "\n",
    "下表列出了增强型赋值运算符与对应的魔术方法：\n",
    "\n",
    "|运算符 | 魔术方法    |  说明   |\n",
    "| :----:|:--------------| -------: |\n",
    "| `+=`  | `__iadd__`   |  加法   |\n",
    "| `-=`  | `__isub__`   |  减法   |\n",
    "| `*=`  | `__imul__`   |  乘法   |\n",
    "| `/=`  | `__itruediv__` |  真除   |\n",
    "| `//=` | `__ifloordiv__`|  地板除  |\n",
    "| `%=`  | `__imod__`    |  求余   |\n",
    "| `**=` | `__ipow__`    |  求幂   |\n",
    "\n",
    "如果没有定义这些魔术方法，增强型赋值运算`a += b`只不过是`a = a + b`的语法糖："
   ]
  },
  {
   "cell_type": "code",
   "execution_count": 17,
   "metadata": {},
   "outputs": [
    {
     "name": "stdout",
     "output_type": "stream",
     "text": [
      "1414065877456 1414065877064\n",
      "1414065878856 1414065877064\n"
     ]
    },
    {
     "data": {
      "text/plain": [
       "Word(['python', 'c', 'c++', 'java', 'r', 'ruby'])"
      ]
     },
     "execution_count": 17,
     "metadata": {},
     "output_type": "execute_result"
    }
   ],
   "source": [
    "wordset1 = Word('Python python C C++ Java java')\n",
    "wordset2 = Word('python R ruby')\n",
    "print(id(wordset1), id(wordset2))\n",
    "wordset1 += wordset2\n",
    "print(id(wordset1), id(wordset2))\n",
    "wordset1"
   ]
  },
  {
   "cell_type": "markdown",
   "metadata": {},
   "source": [
    "这里为了演示增强型赋值运算符对应的魔术方法，新增两个模式方法："
   ]
  },
  {
   "cell_type": "code",
   "execution_count": 27,
   "metadata": {},
   "outputs": [],
   "source": [
    "class Word(object):\n",
    "    \"\"\"\\\n",
    "    Word()  -> Word([])\n",
    "    Word('Hello Python')  -> Word(['hello', 'python'])\n",
    "    Word(['Hello', 'Python'])  -> Word(['hello', 'python'])\n",
    "\n",
    "    创建单词\n",
    "    \"\"\"\n",
    "    def __init__(self, seq=None, wordtype='english'):\n",
    "        self.wordtype = wordtype\n",
    "        self.__words = []\n",
    "        if isinstance(seq, str):\n",
    "            for w in seq.split():\n",
    "                if w.lower() not in self.__words:\n",
    "                    self.__words.append(w.lower())\n",
    "        elif hasattr(seq, '__iter__'):\n",
    "            for w in seq:\n",
    "                value = str(w).lower()\n",
    "                if value not in self.__words:\n",
    "                    self.__words.append(value)\n",
    "                    \n",
    "    def __str__(self):\n",
    "        \"\"\"Return str(self).\"\"\"\n",
    "        return '{}'.format(self.__words)\n",
    "\n",
    "    def __repr__(self):\n",
    "        \"\"\"Return repr(self).\"\"\"\n",
    "        class_name = type(self).__name__\n",
    "        return '{0}({1})'.format(class_name, self.__words)\n",
    "    \n",
    "    def __len__(self):\n",
    "        \"\"\"Return len(self).\"\"\"\n",
    "        return len(self.__words)\n",
    "    \n",
    "    def __contains__(self, word):\n",
    "        \"\"\"Return word in self.\"\"\"\n",
    "        value = str(word).lower()\n",
    "        return value in self.__words\n",
    "    \n",
    "    def __getitem__(self, index):\n",
    "        \"\"\"x.__getitem__(i) <==> x[i]\"\"\"\n",
    "        return self.__words[index]\n",
    "    \n",
    "    def __setitem__(self, index, value):\n",
    "        \"\"\"Set self[index] to value.\"\"\"\n",
    "        value = str(value).lower()\n",
    "        if value not in self.__words:\n",
    "            self.__words[index] = value\n",
    "        else:\n",
    "            pos = self.__words.index(value)\n",
    "            if pos > index:\n",
    "                self.__words[index] = value\n",
    "                del self.__words[pos]\n",
    "    \n",
    "    def __delitem__(self, index):\n",
    "        \"\"\"Delete self[i].\"\"\"\n",
    "        del self.__words[index]        \n",
    "        \n",
    "    def __add__(self, other):\n",
    "        \"\"\"Return self+other.\"\"\"\n",
    "        words = [w for w in other if w not in self.__words]\n",
    "        return Word(self.__words + words)        \n",
    "    \n",
    "    def __sub__(self, other):\n",
    "        \"\"\"Return self-other.\"\"\"\n",
    "        words = [w for w in self.__words if w not in other]\n",
    "        return Word(words)        \n",
    "        \n",
    "    def __iadd__(self, other):\n",
    "        \"\"\"Return self+other.\"\"\"\n",
    "        words = [w for w in other if w not in self.__words]\n",
    "        self.__words.extend(words)\n",
    "        return self\n",
    "    \n",
    "    def __isub__(self, other):\n",
    "        \"\"\"Return self-other.\"\"\"\n",
    "        for w in self.__words:\n",
    "            if w in other:\n",
    "                self.__words.remove(w)\n",
    "        return self"
   ]
  },
  {
   "cell_type": "markdown",
   "metadata": {},
   "source": [
    "下面创建单词序列对象，并演示对象的增强赋值操作："
   ]
  },
  {
   "cell_type": "code",
   "execution_count": 28,
   "metadata": {},
   "outputs": [
    {
     "name": "stdout",
     "output_type": "stream",
     "text": [
      "1414066073784 1414066077200\n",
      "1414066073784 1414066077200\n"
     ]
    },
    {
     "data": {
      "text/plain": [
       "Word(['python', 'c', 'c++', 'java', 'r', 'ruby'])"
      ]
     },
     "execution_count": 28,
     "metadata": {},
     "output_type": "execute_result"
    }
   ],
   "source": [
    "wordset1 = Word('Python python C C++ Java java')\n",
    "wordset2 = Word('python R ruby')\n",
    "print(id(wordset1), id(wordset2))\n",
    "wordset1 += wordset2\n",
    "print(id(wordset1), id(wordset2))\n",
    "wordset1"
   ]
  },
  {
   "cell_type": "code",
   "execution_count": 29,
   "metadata": {},
   "outputs": [
    {
     "name": "stdout",
     "output_type": "stream",
     "text": [
      "1414066077368 1414066077648\n",
      "1414066077368 1414066077648\n"
     ]
    },
    {
     "data": {
      "text/plain": [
       "Word(['c', 'c++', 'java'])"
      ]
     },
     "execution_count": 29,
     "metadata": {},
     "output_type": "execute_result"
    }
   ],
   "source": [
    "wordset1 = Word('Python python C C++ Java java')\n",
    "wordset2 = Word('python R ruby')\n",
    "print(id(wordset1), id(wordset2))\n",
    "wordset1 -= wordset2\n",
    "print(id(wordset1), id(wordset2))\n",
    "wordset1"
   ]
  },
  {
   "cell_type": "markdown",
   "metadata": {},
   "source": [
    "## 比较运算\n",
    "\n",
    "Python 中的比较运算符与对应的魔术方法如下表所示： \n",
    "\n",
    "|运算符 | 魔术方法    |  说明   |\n",
    "| :----:|:-------------| -------: |\n",
    "| `<`  | `__lt__`    | 小于    |\n",
    "| `<=`  | `__le__`   | 小于等于 |\n",
    "| `>`  | `__gt__`    | 大于    |\n",
    "| `>=` | `__ge__`    | 大于等于 |\n",
    "| `==`  | `__eq__`   | 等于    |\n",
    "| `!=` | `__ne__`    | 不等于  |\n",
    "\n",
    "下面在背单词类中新增比较运算的魔术方法："
   ]
  },
  {
   "cell_type": "code",
   "execution_count": 21,
   "metadata": {},
   "outputs": [],
   "source": [
    "class Word(object):\n",
    "    \"\"\"\\\n",
    "    Word()  -> Word([])\n",
    "    Word('Hello Python')  -> Word(['hello', 'python'])\n",
    "    Word(['Hello', 'Python'])  -> Word(['hello', 'python'])\n",
    "\n",
    "    创建单词\n",
    "    \"\"\"\n",
    "    def __init__(self, seq=None, wordtype='english'):\n",
    "        self.wordtype = wordtype\n",
    "        self.__words = []\n",
    "        if isinstance(seq, str):\n",
    "            for w in seq.split():\n",
    "                if w.lower() not in self.__words:\n",
    "                    self.__words.append(w.lower())\n",
    "        elif hasattr(seq, '__iter__'):\n",
    "            for w in seq:\n",
    "                value = str(w).lower()\n",
    "                if value not in self.__words:\n",
    "                    self.__words.append(value)\n",
    "                    \n",
    "    def __str__(self):\n",
    "        \"\"\"Return str(self).\"\"\"\n",
    "        return '{}'.format(self.__words)\n",
    "\n",
    "    def __repr__(self):\n",
    "        \"\"\"Return repr(self).\"\"\"\n",
    "        class_name = type(self).__name__\n",
    "        return '{0}({1})'.format(class_name, self.__words)\n",
    "    \n",
    "    def __len__(self):\n",
    "        \"\"\"Return len(self).\"\"\"\n",
    "        return len(self.__words)\n",
    "    \n",
    "    def __contains__(self, word):\n",
    "        \"\"\"Return word in self.\"\"\"\n",
    "        value = str(word).lower()\n",
    "        return value in self.__words\n",
    "    \n",
    "    def __getitem__(self, index):\n",
    "        \"\"\"x.__getitem__(i) <==> x[i]\"\"\"\n",
    "        return self.__words[index]\n",
    "    \n",
    "    def __setitem__(self, index, value):\n",
    "        \"\"\"Set self[index] to value.\"\"\"\n",
    "        value = str(value).lower()\n",
    "        if value not in self.__words:\n",
    "            self.__words[index] = value\n",
    "        else:\n",
    "            pos = self.__words.index(value)\n",
    "            if pos > index:\n",
    "                self.__words[index] = value\n",
    "                del self.__words[pos]\n",
    "    \n",
    "    def __delitem__(self, index):\n",
    "        \"\"\"Delete self[i].\"\"\"\n",
    "        del self.__words[index]        \n",
    "        \n",
    "    def __add__(self, other):\n",
    "        \"\"\"Return self+other.\"\"\"\n",
    "        words = [w for w in other if w not in self.__words]\n",
    "        return Word(self.__words + words)        \n",
    "    \n",
    "    def __sub__(self, other):\n",
    "        \"\"\"Return self-other.\"\"\"\n",
    "        words = [w for w in self.__words if w not in other]\n",
    "        return Word(words)        \n",
    "        \n",
    "    def __iadd__(self, other):\n",
    "        \"\"\"Return self+other.\"\"\"\n",
    "        words = [w for w in other if w not in self.__words]\n",
    "        self.__words.extend(words)\n",
    "        return self\n",
    "    \n",
    "    def __isub__(self, other):\n",
    "        \"\"\"Return self-other.\"\"\"\n",
    "        for w in self.__words:\n",
    "            if w in other:\n",
    "                self.__words.remove(w)\n",
    "        return self\n",
    "    \n",
    "    def __eq__(self, other):\n",
    "        \"\"\"Return self==other.\"\"\"\n",
    "        return tuple(self) == tuple(other)\n",
    "    \n",
    "    def __ne__(self, other):\n",
    "        \"\"\"Return self != other.\"\"\"\n",
    "        return tuple(self) != tuple(other)\n",
    "    \n",
    "    def __ge__(self, other):\n",
    "        \"\"\"Return self >= other.\"\"\"\n",
    "        return tuple(self) >= tuple(other)\n",
    "    \n",
    "    def __gt__(self, other):\n",
    "        \"\"\"Return self > other.\"\"\"\n",
    "        return tuple(self) > tuple(other)\n",
    "    \n",
    "    def __le__(self, other):\n",
    "        \"\"\"Return self <= other.\"\"\"\n",
    "        return tuple(self) <= tuple(other)\n",
    "    \n",
    "    def __lt__(self, other):\n",
    "        \"\"\"Return self < other.\"\"\"\n",
    "        return tuple(self) < tuple(other)    "
   ]
  },
  {
   "cell_type": "markdown",
   "metadata": {},
   "source": [
    "下面创建单词序列对象，并演示对象的算术操作："
   ]
  },
  {
   "cell_type": "code",
   "execution_count": 22,
   "metadata": {},
   "outputs": [
    {
     "data": {
      "text/plain": [
       "True"
      ]
     },
     "execution_count": 22,
     "metadata": {},
     "output_type": "execute_result"
    }
   ],
   "source": [
    "wordset1 = Word('Python python C Java')\n",
    "wordset2 = Word('python c java')\n",
    "wordset1 == wordset2"
   ]
  },
  {
   "cell_type": "code",
   "execution_count": 23,
   "metadata": {},
   "outputs": [
    {
     "data": {
      "text/plain": [
       "True"
      ]
     },
     "execution_count": 23,
     "metadata": {},
     "output_type": "execute_result"
    }
   ],
   "source": [
    "wordset1 = Word('Python python C Java')\n",
    "wordset2 = Word('python c jbva')\n",
    "wordset1 < wordset2"
   ]
  },
  {
   "cell_type": "markdown",
   "metadata": {},
   "source": [
    "## 类型转换\n",
    "\n",
    "对背单词对象来说，只需要实现布尔数转换的魔术方法即可。下面新增一个`__bool__()`方法："
   ]
  },
  {
   "cell_type": "code",
   "execution_count": 24,
   "metadata": {},
   "outputs": [],
   "source": [
    "class Word(object):\n",
    "    \"\"\"\\\n",
    "    Word()  -> Word([])\n",
    "    Word('Hello Python')  -> Word(['hello', 'python'])\n",
    "    Word(['Hello', 'Python'])  -> Word(['hello', 'python'])\n",
    "\n",
    "    创建单词\n",
    "    \"\"\"\n",
    "    def __init__(self, seq=None, wordtype='english'):\n",
    "        self.wordtype = wordtype\n",
    "        self.__words = []\n",
    "        if isinstance(seq, str):\n",
    "            for w in seq.split():\n",
    "                if w.lower() not in self.__words:\n",
    "                    self.__words.append(w.lower())\n",
    "        elif hasattr(seq, '__iter__'):\n",
    "            for w in seq:\n",
    "                value = str(w).lower()\n",
    "                if value not in self.__words:\n",
    "                    self.__words.append(value)\n",
    "                    \n",
    "    def __str__(self):\n",
    "        \"\"\"Return str(self).\"\"\"\n",
    "        return '{}'.format(self.__words)\n",
    "\n",
    "    def __repr__(self):\n",
    "        \"\"\"Return repr(self).\"\"\"\n",
    "        class_name = type(self).__name__\n",
    "        return '{0}({1})'.format(class_name, self.__words)\n",
    "    \n",
    "    def __len__(self):\n",
    "        \"\"\"Return len(self).\"\"\"\n",
    "        return len(self.__words)\n",
    "    \n",
    "    def __contains__(self, word):\n",
    "        \"\"\"Return word in self.\"\"\"\n",
    "        value = str(word).lower()\n",
    "        return value in self.__words\n",
    "    \n",
    "    def __getitem__(self, index):\n",
    "        \"\"\"x.__getitem__(i) <==> x[i]\"\"\"\n",
    "        return self.__words[index]\n",
    "    \n",
    "    def __setitem__(self, index, value):\n",
    "        \"\"\"Set self[index] to value.\"\"\"\n",
    "        value = str(value).lower()\n",
    "        if value not in self.__words:\n",
    "            self.__words[index] = value\n",
    "        else:\n",
    "            pos = self.__words.index(value)\n",
    "            if pos > index:\n",
    "                self.__words[index] = value\n",
    "                del self.__words[pos]\n",
    "    \n",
    "    def __delitem__(self, index):\n",
    "        \"\"\"Delete self[i].\"\"\"\n",
    "        del self.__words[index]        \n",
    "        \n",
    "    def __add__(self, other):\n",
    "        \"\"\"Return self+other.\"\"\"\n",
    "        words = [w for w in other if w not in self.__words]\n",
    "        return Word(self.__words + words)        \n",
    "    \n",
    "    def __sub__(self, other):\n",
    "        \"\"\"Return self-other.\"\"\"\n",
    "        words = [w for w in self.__words if w not in other]\n",
    "        return Word(words)        \n",
    "        \n",
    "    def __iadd__(self, other):\n",
    "        \"\"\"Return self+other.\"\"\"\n",
    "        words = [w for w in other if w not in self.__words]\n",
    "        self.__words.extend(words)\n",
    "        return self\n",
    "    \n",
    "    def __isub__(self, other):\n",
    "        \"\"\"Return self-other.\"\"\"\n",
    "        for w in self.__words:\n",
    "            if w in other:\n",
    "                self.__words.remove(w)\n",
    "        return self\n",
    "    \n",
    "    def __eq__(self, other):\n",
    "        \"\"\"Return self==other.\"\"\"\n",
    "        return tuple(self) == tuple(other)\n",
    "    \n",
    "    def __ne__(self, other):\n",
    "        \"\"\"Return self != other.\"\"\"\n",
    "        return tuple(self) != tuple(other)\n",
    "    \n",
    "    def __ge__(self, other):\n",
    "        \"\"\"Return self >= other.\"\"\"\n",
    "        return tuple(self) >= tuple(other)\n",
    "    \n",
    "    def __gt__(self, other):\n",
    "        \"\"\"Return self > other.\"\"\"\n",
    "        return tuple(self) > tuple(other)\n",
    "    \n",
    "    def __le__(self, other):\n",
    "        \"\"\"Return self <= other.\"\"\"\n",
    "        return tuple(self) <= tuple(other)\n",
    "    \n",
    "    def __lt__(self, other):\n",
    "        \"\"\"Return self < other.\"\"\"\n",
    "        return tuple(self) < tuple(other)    \n",
    "    \n",
    "    def __bool__(self):\n",
    "        \"\"\"Return self < other.\"\"\"\n",
    "        return len(self.__words) != 0"
   ]
  },
  {
   "cell_type": "markdown",
   "metadata": {},
   "source": [
    "下面创建单词序列对象，并演示对象的算术操作："
   ]
  },
  {
   "cell_type": "code",
   "execution_count": 25,
   "metadata": {},
   "outputs": [
    {
     "data": {
      "text/plain": [
       "(Word([]), Word(['python', 'c', 'java']))"
      ]
     },
     "execution_count": 25,
     "metadata": {},
     "output_type": "execute_result"
    }
   ],
   "source": [
    "emptywords = Word('')\n",
    "wordset1 = Word('Python python C Java')\n",
    "emptywords, wordset1"
   ]
  },
  {
   "cell_type": "code",
   "execution_count": 26,
   "metadata": {},
   "outputs": [
    {
     "name": "stdout",
     "output_type": "stream",
     "text": [
      "False True\n"
     ]
    }
   ],
   "source": [
    "print(bool(emptywords), bool(wordset1))"
   ]
  },
  {
   "cell_type": "markdown",
   "metadata": {},
   "source": [
    "Python支持很多魔术方法，需要选择适合自定义类的魔术方法。上述通过一个实例来演示结构类的定义。"
   ]
  }
 ],
 "metadata": {
  "kernelspec": {
   "display_name": "Python 3",
   "language": "python",
   "name": "python3"
  },
  "language_info": {
   "codemirror_mode": {
    "name": "ipython",
    "version": 3
   },
   "file_extension": ".py",
   "mimetype": "text/x-python",
   "name": "python",
   "nbconvert_exporter": "python",
   "pygments_lexer": "ipython3",
   "version": "3.6.4"
  },
  "toc": {
   "base_numbering": 1,
   "nav_menu": {},
   "number_sections": true,
   "sideBar": true,
   "skip_h1_title": false,
   "title_cell": "Table of Contents",
   "title_sidebar": "Contents",
   "toc_cell": false,
   "toc_position": {
    "height": "calc(100% - 180px)",
    "left": "10px",
    "top": "150px",
    "width": "307px"
   },
   "toc_section_display": true,
   "toc_window_display": false
  }
 },
 "nbformat": 4,
 "nbformat_minor": 2
}
