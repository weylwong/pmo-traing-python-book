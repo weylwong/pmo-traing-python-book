{
 "cells": [
  {
   "cell_type": "markdown",
   "metadata": {
    "slideshow": {
     "slide_type": "slide"
    }
   },
   "source": [
    "# 面向对象编程简介\n",
    "\n",
    "自计算机发明以来，编程方法经历了从早期指令序列到面向过程，再到面向对象的发展。这三种编程方法适用的场景可以三类大桥建设场景来形象说明，如下图所示：\n",
    "\n",
    "<img src=\"../images/class01.png\" width=\"60%\" >"
   ]
  },
  {
   "cell_type": "markdown",
   "metadata": {
    "slideshow": {
     "slide_type": "slide"
    }
   },
   "source": [
    "## 面向过程与面向对象\n",
    "\n",
    "面向过程编程也称为结构化编程，其主要思想是将一个大的问题划分为几个小的问题，再将几个小的问题划分为更小的问题。小的问题可以用一个函数来实现，程序就是一系列函数的集合。调用函数时传入输入数据，就会得到一个输出数据。程序就是有多个函数组成的类似流水线东东，给定输入数据，每个函数都会接力进行处理，最后得到结果。故有人提出了一个著名的编程公式：\n",
    "```\n",
    "程序 = 数据结构 + 算法\n",
    "```"
   ]
  },
  {
   "cell_type": "markdown",
   "metadata": {
    "slideshow": {
     "slide_type": "slide"
    }
   },
   "source": [
    "面向对象编程（Object-Oriented Programming，OOP），是应用程序开发的一种新方法新思想。在面向对象中，算法与数据结构当做一个整体，也就是一个对象。现实世界中很多事物，都可以抽象为具有一定的属性和操作的对象，面向对象更符合人类的思维习惯。故面向对象的编程公式就是：\n",
    "```\n",
    "对象 = 算法 + 数据结构\n",
    "程序 = 对象 + 对象 + ...\n",
    "```"
   ]
  },
  {
   "cell_type": "markdown",
   "metadata": {
    "slideshow": {
     "slide_type": "slide"
    }
   },
   "source": [
    "面向过程与面向对象二者并不是非此即彼的关系，而是相辅相成的关系。函数的输入与输出都是对象，在类中也常常会调用函数。类定义的方法也可以理解为就是函数。要根据具体问题来决定使用函数还是类。\n",
    "\n",
    "使用面向过程编程方法可以编写任何程序是完全可能的，当程序规模不大时（在千行之内），面向过程编程有时还会体现出一些优势。然而，对于大多数程序而言，尤其是对中等规模和大型应用程序，面向对象编程方法还是会有一些优势的。"
   ]
  },
  {
   "cell_type": "markdown",
   "metadata": {
    "slideshow": {
     "slide_type": "slide"
    }
   },
   "source": [
    "**面向对象的优势**\n",
    "\n",
    "> 通过面向对象的方法，更利于用人理解的方式对复杂系统进行分析、设计与编程。同时，面向对象能有效提高编程的效率，通过封装技术，消息机制可以像搭积木的一样快速开发出一个全新的系统。"
   ]
  },
  {
   "cell_type": "markdown",
   "metadata": {
    "slideshow": {
     "slide_type": "slide"
    }
   },
   "source": [
    "对象的抽象是类，类的实例是对象。\n",
    "\n",
    "**对象**\n",
    "- 对象具有状态（即属性），一个对象用数据值来描述它的状态。\n",
    "- 对象还有操作（即方法），用于改变对象的状态，对象及其操作就是对象的行为。\n",
    "- 对象实现了数据和操作的结合，使数据和操作封装于对象的统一体中\n",
    "\n",
    "**类**\n",
    "- 使用类可以轻易地实例化千万个对象；\n",
    "- 同一类型的对象具有相同特性（数据元素）和行为（功能）；"
   ]
  },
  {
   "cell_type": "markdown",
   "metadata": {
    "slideshow": {
     "slide_type": "slide"
    }
   },
   "source": [
    "## 自定义类\n",
    "\n",
    "前面几章，我们已经学习了 Python 内置的一些类型：\n",
    "- 数据型\n",
    "    - 整数(int)、布尔数(bool)、浮点数(float)、复数(complex)、字符串(str)、空（NoneType）\n",
    "- 结构型\n",
    "    - 列表(list)、元组(tuple)、字典(dict)、集合(set)\n",
    "    \n",
    "尽管 Python 提供了很多很酷的类，但在完成自己特定的工作时，这还远远不够。现在是时候定义自己的类，创建自己的对象。"
   ]
  },
  {
   "cell_type": "markdown",
   "metadata": {},
   "source": [
    "要吃红烧肉有两个方法：照着菜谱做或者找个厨师来做。同样在 Python 编程中，可以使用面向过程和面向对象编程方法，换句话说可以编写函数或类。那么这两种方法如何选择，标准是什么呢？\n",
    "\n",
    "下一节开始学习自定义类，把这个问题记在心里，在面向对象编程的同时，与函数实现方法进行比较一下，思考一下二者使用场景，随着开发经验的丰富，相信自己会找到自己的标准。"
   ]
  }
 ],
 "metadata": {
  "celltoolbar": "Slideshow",
  "kernelspec": {
   "display_name": "Python 3",
   "language": "python",
   "name": "python3"
  },
  "language_info": {
   "codemirror_mode": {
    "name": "ipython",
    "version": 3
   },
   "file_extension": ".py",
   "mimetype": "text/x-python",
   "name": "python",
   "nbconvert_exporter": "python",
   "pygments_lexer": "ipython3",
   "version": "3.6.4"
  },
  "toc": {
   "base_numbering": 1,
   "nav_menu": {},
   "number_sections": true,
   "sideBar": true,
   "skip_h1_title": false,
   "title_cell": "Table of Contents",
   "title_sidebar": "Contents",
   "toc_cell": false,
   "toc_position": {
    "height": "calc(100% - 180px)",
    "left": "10px",
    "top": "150px",
    "width": "183px"
   },
   "toc_section_display": true,
   "toc_window_display": false
  }
 },
 "nbformat": 4,
 "nbformat_minor": 1
}
