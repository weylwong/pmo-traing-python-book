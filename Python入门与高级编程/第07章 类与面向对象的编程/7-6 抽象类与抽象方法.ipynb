{
 "cells": [
  {
   "cell_type": "markdown",
   "metadata": {
    "slideshow": {
     "slide_type": "slide"
    }
   },
   "source": [
    "# 抽象类与抽象方法\n",
    "\n",
    "使用内置模块`abc`来实现抽象类。抽象类也是一个类，但主要目的不是用来创建对象，而是用来定义接口，即在抽象类中定义一些方法与特性。然后，强制要求继承抽象类的子类实现这些方法和特性。基于此，任何继承自抽象类的类都具有指定的方法与特性。"
   ]
  },
  {
   "cell_type": "markdown",
   "metadata": {
    "slideshow": {
     "slide_type": "slide"
    }
   },
   "source": [
    "下面定义一个抽象类 `FileBase`，包括两个抽象方法\n",
    "- `load()`，从文件读取数据\n",
    "- `write()`，把数据写入文件"
   ]
  },
  {
   "cell_type": "code",
   "execution_count": 1,
   "metadata": {
    "slideshow": {
     "slide_type": "-"
    }
   },
   "outputs": [],
   "source": [
    "import abc\n",
    "\n",
    "class FileBase(abc.ABC):\n",
    "    @abc.abstractmethod\n",
    "    def load(self, filename):\n",
    "        \"\"\"load data from the input file\"\"\"\n",
    "        pass\n",
    "    \n",
    "    @abc.abstractmethod\n",
    "    def save(self, data, filename):\n",
    "        \"\"\"save the data into the file\"\"\"\n",
    "        pass"
   ]
  },
  {
   "cell_type": "markdown",
   "metadata": {
    "slideshow": {
     "slide_type": "slide"
    }
   },
   "source": [
    "其中用装饰器 `abc.abstractmethod` 来定义一个抽象方法，意思就是子类必须重新实现该方法，否则不能调用。\n",
    "\n",
    "也可以通过传入`metaclass`关键词阐述来定义："
   ]
  },
  {
   "cell_type": "code",
   "execution_count": 2,
   "metadata": {
    "slideshow": {
     "slide_type": "-"
    }
   },
   "outputs": [],
   "source": [
    "import abc\n",
    "\n",
    "class FileBase(metaclass=abc.ABCMeta):\n",
    "    @abc.abstractmethod\n",
    "    def load(self, filename):\n",
    "        \"\"\"load data from the input file\"\"\"\n",
    "        pass\n",
    "    \n",
    "    @abc.abstractmethod\n",
    "    def save(self, data, filename):\n",
    "        \"\"\"save the data into the file\"\"\"\n",
    "        pass"
   ]
  },
  {
   "cell_type": "markdown",
   "metadata": {
    "slideshow": {
     "slide_type": "slide"
    }
   },
   "source": [
    "不能用抽象类来创建对象，否则会抛出 `TypeError` 异常："
   ]
  },
  {
   "cell_type": "code",
   "execution_count": 3,
   "metadata": {},
   "outputs": [
    {
     "ename": "TypeError",
     "evalue": "Can't instantiate abstract class FileBase with abstract methods load, save",
     "output_type": "error",
     "traceback": [
      "\u001b[1;31m---------------------------------------------------------------------------\u001b[0m",
      "\u001b[1;31mTypeError\u001b[0m                                 Traceback (most recent call last)",
      "\u001b[1;32m<ipython-input-3-40f0223e76c2>\u001b[0m in \u001b[0;36m<module>\u001b[1;34m()\u001b[0m\n\u001b[1;32m----> 1\u001b[1;33m \u001b[0mobj\u001b[0m \u001b[1;33m=\u001b[0m \u001b[0mFileBase\u001b[0m\u001b[1;33m(\u001b[0m\u001b[1;33m)\u001b[0m\u001b[1;33m\u001b[0m\u001b[0m\n\u001b[0m",
      "\u001b[1;31mTypeError\u001b[0m: Can't instantiate abstract class FileBase with abstract methods load, save"
     ]
    }
   ],
   "source": [
    "obj = FileBase()"
   ]
  },
  {
   "cell_type": "markdown",
   "metadata": {
    "slideshow": {
     "slide_type": "slide"
    }
   },
   "source": [
    "在子类中只有完全实现了抽象方法与特性后，才能创建实例对象，否则会引起 `TypeError` 异常："
   ]
  },
  {
   "cell_type": "code",
   "execution_count": 4,
   "metadata": {
    "slideshow": {
     "slide_type": "-"
    }
   },
   "outputs": [],
   "source": [
    "class CsvFileReader(FileBase):\n",
    "    def load(self, filename):\n",
    "        \"\"\"load data from the input file\"\"\"\n",
    "        print('implement csv load method')"
   ]
  },
  {
   "cell_type": "code",
   "execution_count": 6,
   "metadata": {
    "slideshow": {
     "slide_type": "slide"
    }
   },
   "outputs": [
    {
     "ename": "TypeError",
     "evalue": "Can't instantiate abstract class CsvFileReader with abstract methods save",
     "output_type": "error",
     "traceback": [
      "\u001b[1;31m---------------------------------------------------------------------------\u001b[0m",
      "\u001b[1;31mTypeError\u001b[0m                                 Traceback (most recent call last)",
      "\u001b[1;32m<ipython-input-6-ec46ad355f9d>\u001b[0m in \u001b[0;36m<module>\u001b[1;34m()\u001b[0m\n\u001b[1;32m----> 1\u001b[1;33m \u001b[0mcsv\u001b[0m \u001b[1;33m=\u001b[0m \u001b[0mCsvFileReader\u001b[0m\u001b[1;33m(\u001b[0m\u001b[1;33m)\u001b[0m\u001b[1;33m\u001b[0m\u001b[0m\n\u001b[0m",
      "\u001b[1;31mTypeError\u001b[0m: Can't instantiate abstract class CsvFileReader with abstract methods save"
     ]
    }
   ],
   "source": [
    "csv = CsvFileReader()"
   ]
  },
  {
   "cell_type": "markdown",
   "metadata": {
    "slideshow": {
     "slide_type": "slide"
    }
   },
   "source": [
    " 也就是说，必须完全实现抽象方法，才能用子类创建对象："
   ]
  },
  {
   "cell_type": "code",
   "execution_count": 7,
   "metadata": {
    "slideshow": {
     "slide_type": "-"
    }
   },
   "outputs": [],
   "source": [
    "class CsvFileReader(FileBase):\n",
    "    def load(self, filename):\n",
    "        \"\"\"load data from the input file\"\"\"\n",
    "        print('implement csv load method')\n",
    "\n",
    "    def save(self, data, filename):\n",
    "        \"\"\"save the data into the file\"\"\"        \n",
    "        print('implement csv save method')       "
   ]
  },
  {
   "cell_type": "code",
   "execution_count": 8,
   "metadata": {
    "slideshow": {
     "slide_type": "slide"
    }
   },
   "outputs": [
    {
     "name": "stdout",
     "output_type": "stream",
     "text": [
      "implement csv load method\n",
      "implement csv save method\n"
     ]
    }
   ],
   "source": [
    "csv = CsvFileReader()\n",
    "csv.load('filename')\n",
    "csv.save('data', 'filename')"
   ]
  },
  {
   "cell_type": "markdown",
   "metadata": {
    "slideshow": {
     "slide_type": "slide"
    }
   },
   "source": [
    "可以在实现一个子类："
   ]
  },
  {
   "cell_type": "code",
   "execution_count": 9,
   "metadata": {
    "slideshow": {
     "slide_type": "-"
    }
   },
   "outputs": [],
   "source": [
    "class TabFileReader(FileBase):\n",
    "    def load(self, filename):\n",
    "        \"\"\"load data from the input file\"\"\"\n",
    "        print('implement tab load method')\n",
    "\n",
    "    def save(self, data, filename):\n",
    "        \"\"\"save the data into the file\"\"\"        \n",
    "        print('implement tab save method')      "
   ]
  },
  {
   "cell_type": "code",
   "execution_count": 10,
   "metadata": {
    "slideshow": {
     "slide_type": "slide"
    }
   },
   "outputs": [
    {
     "name": "stdout",
     "output_type": "stream",
     "text": [
      "implement tab load method\n",
      "implement tab save method\n"
     ]
    }
   ],
   "source": [
    "tab = TabFileReader()\n",
    "tab.load('filename')\n",
    "tab.save('data', 'filename')"
   ]
  },
  {
   "cell_type": "markdown",
   "metadata": {
    "slideshow": {
     "slide_type": "slide"
    }
   },
   "source": [
    "如上所述，所有继承抽象类的子类，保证具有相同的方法。"
   ]
  }
 ],
 "metadata": {
  "celltoolbar": "Slideshow",
  "kernelspec": {
   "display_name": "Python 3",
   "language": "python",
   "name": "python3"
  },
  "language_info": {
   "codemirror_mode": {
    "name": "ipython",
    "version": 3
   },
   "file_extension": ".py",
   "mimetype": "text/x-python",
   "name": "python",
   "nbconvert_exporter": "python",
   "pygments_lexer": "ipython3",
   "version": "3.6.4"
  },
  "toc": {
   "base_numbering": 1,
   "nav_menu": {},
   "number_sections": true,
   "sideBar": true,
   "skip_h1_title": false,
   "title_cell": "Table of Contents",
   "title_sidebar": "Contents",
   "toc_cell": false,
   "toc_position": {},
   "toc_section_display": true,
   "toc_window_display": false
  }
 },
 "nbformat": 4,
 "nbformat_minor": 2
}
