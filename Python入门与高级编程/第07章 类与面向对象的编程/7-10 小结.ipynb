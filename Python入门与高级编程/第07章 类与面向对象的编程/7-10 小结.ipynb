{
 "cells": [
  {
   "cell_type": "markdown",
   "metadata": {
    "slideshow": {
     "slide_type": "slide"
    }
   },
   "source": [
    "# 小结\n",
    "\n",
    "在本章，简要介绍了面向过程与面向对象编程的不同之处。然后通过实例介绍了如何定义类，以及类的封装、继承和多态特性。在 Python 中类也是对象，本章还介绍如何定义类的属性、类方法与静态方法，以及元类的概念。还介绍了抽象类与抽象方法的定义以及应用。最后通过一个数据类与结构类应用，了解魔术方法定义与运算符操作之间的关系。"
   ]
  }
 ],
 "metadata": {
  "celltoolbar": "Slideshow",
  "kernelspec": {
   "display_name": "Python 3",
   "language": "python",
   "name": "python3"
  },
  "language_info": {
   "codemirror_mode": {
    "name": "ipython",
    "version": 3
   },
   "file_extension": ".py",
   "mimetype": "text/x-python",
   "name": "python",
   "nbconvert_exporter": "python",
   "pygments_lexer": "ipython3",
   "version": "3.6.4"
  },
  "toc": {
   "base_numbering": 1,
   "nav_menu": {},
   "number_sections": true,
   "sideBar": true,
   "skip_h1_title": false,
   "title_cell": "Table of Contents",
   "title_sidebar": "Contents",
   "toc_cell": false,
   "toc_position": {},
   "toc_section_display": true,
   "toc_window_display": false
  }
 },
 "nbformat": 4,
 "nbformat_minor": 2
}
