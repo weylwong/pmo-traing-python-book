{
 "cells": [
  {
   "cell_type": "markdown",
   "metadata": {},
   "source": [
    "# 类的继承与多态\n",
    "\n",
    "面向对象有三个特性：\n",
    "- 封装  \n",
    "封装用来隐藏对象的属性和实现细节，只提供公共访问方式。\n",
    "- 继承  \n",
    "继承是一种创建新类的方式，实现了代码的复用。\n",
    "- 多态  \n",
    "多态指的是一类事物有多种形态\n",
    "\n",
    "本节介绍类的继承与多态。"
   ]
  },
  {
   "cell_type": "markdown",
   "metadata": {
    "slideshow": {
     "slide_type": "slide"
    }
   },
   "source": [
    "## 类的继承\n",
    "\n",
    "在现实世界中，经常会看到继承的应用场景。如一句老话“龙生龙凤生凤，老鼠的儿子会打洞”，意指孩子具有父母的一些特征，继承了父亲或者母亲的某些特征。这是最常见也是最基本的一种继承关系。\n",
    "\n",
    "继承也是面向对象的重要特征，这种机制实现了代码的复用。一个父类提供了一些公用代码，其他类只需要继承父类即可获得这些代码功能。\n",
    "\n",
    "使用Python定义新类时，可以从现有的类继承，新定义的类称为子类（subclass），被继承的类称为父类、基类或超类（Base class, Super class）。继承最大的好处就是子类获得父类的全部属性和方法，而且子类还能在此基础上进行改进、扩展，实现更多属性和方法，青出于蓝而胜于蓝。"
   ]
  },
  {
   "cell_type": "markdown",
   "metadata": {
    "slideshow": {
     "slide_type": "slide"
    }
   },
   "source": [
    "### 定义子类\n",
    "\n",
    "这里使用上节定义的`Human`类："
   ]
  },
  {
   "cell_type": "code",
   "execution_count": 2,
   "metadata": {
    "slideshow": {
     "slide_type": "slide"
    }
   },
   "outputs": [],
   "source": [
    "class Human(object):\n",
    "    \"\"\"\\\n",
    "    Human(name, age, height)  -> person\n",
    "    Human(name, age, height, gender='Male)  -> person\n",
    "\n",
    "    Create a person by a name, age, height, gender\n",
    "    \"\"\"\n",
    "    def __init__(self, name, age, height, gender='Male'):\n",
    "        self.__name = name\n",
    "        self.__age = age\n",
    "        self.__height = height\n",
    "        self.__gender = gender\n",
    "    \n",
    "    @property\n",
    "    def name(self):\n",
    "        return self.__name\n",
    "    \n",
    "    @property\n",
    "    def gender(self):\n",
    "        return self.__gender\n",
    "    \n",
    "    @property\n",
    "    def age(self):\n",
    "        return self.__age\n",
    "    \n",
    "    @age.setter\n",
    "    def age(self, age):\n",
    "        if isinstance(age, int):\n",
    "            self.__age = age\n",
    "    \n",
    "    @property\n",
    "    def height(self):\n",
    "        return self.__height\n",
    "    \n",
    "    def introduce_myself(self):\n",
    "        \"\"\"introduce myself\"\"\"\n",
    "        print('我是{0}，今年{1}岁了'.format(self.name, self.age))\n",
    "    \n",
    "    def say_hello(self, other):\n",
    "        \"\"\"say hello to the other person\"\"\"\n",
    "        print('{0}，很高兴见到您'.format(other.name))\n",
    "    \n",
    "    def fight(self, other):\n",
    "        \"\"\"fight if win\"\"\"\n",
    "        if self.height >= other.height:\n",
    "            print('{0}，我赢了'.format(other.name))\n",
    "        else:\n",
    "            print('{0}，我输了'.format(other.name))\n",
    "            \n",
    "    def __repr__(self):\n",
    "        return 'Human2({0.__name!r}, {0.age!r}, {0.height!r}, {0.__gender!r})'.format(self)\n",
    "    \n",
    "    def __str__(self):\n",
    "        return '{0.__name!r}'.format(self)"
   ]
  },
  {
   "cell_type": "markdown",
   "metadata": {
    "slideshow": {
     "slide_type": "slide"
    }
   },
   "source": [
    "下面定义一个继承`Human`的学生类，只需在 `class` 语句的括号中加入父类名即可。在学生类中，增加如下属性与方法：\n",
    "- `score`，考分\n",
    "- `print_score()`，打印成绩"
   ]
  },
  {
   "cell_type": "code",
   "execution_count": 3,
   "metadata": {
    "slideshow": {
     "slide_type": "-"
    }
   },
   "outputs": [],
   "source": [
    "class Student(Human):\n",
    "    \"\"\"Provide student class in python training\"\"\"\n",
    "    def __init__(self, name, age, height, score, gender='Male'):\n",
    "        Human.__init__(self, name, age, height, gender=gender)\n",
    "        self.__score = score\n",
    "\n",
    "    @property\n",
    "    def score(self):\n",
    "        return self.__score\n",
    "\n",
    "    @score.setter\n",
    "    def score(self, score):\n",
    "        self.__score = score\n",
    "    \n",
    "    def __is_pass(self):\n",
    "        return self.__score >= 60\n",
    "    \n",
    "    def print_score(self):\n",
    "        status = '及格' if self.__is_pass() else '不及格'\n",
    "        print('{0}: {1}, {2}'.format(self.name, self.__score, status))    "
   ]
  },
  {
   "cell_type": "markdown",
   "metadata": {},
   "source": [
    "> 注意，父类中的私有属性只能在父类访问，在子类中也无法访问。"
   ]
  },
  {
   "cell_type": "markdown",
   "metadata": {
    "slideshow": {
     "slide_type": "slide"
    }
   },
   "source": [
    "类定义完毕后，创建实例对象："
   ]
  },
  {
   "cell_type": "code",
   "execution_count": 4,
   "metadata": {
    "slideshow": {
     "slide_type": "-"
    }
   },
   "outputs": [
    {
     "name": "stdout",
     "output_type": "stream",
     "text": [
      "老王: 59, 不及格\n",
      "老王: 60, 及格\n"
     ]
    }
   ],
   "source": [
    "oldwang = Student('老王', 42, 178, 59)\n",
    "oldwang.print_score()\n",
    "oldwang.score = 60\n",
    "oldwang.print_score()"
   ]
  },
  {
   "cell_type": "markdown",
   "metadata": {
    "slideshow": {
     "slide_type": "slide"
    }
   },
   "source": [
    "除此之外，对象还继承了父类的一些方法："
   ]
  },
  {
   "cell_type": "code",
   "execution_count": 9,
   "metadata": {
    "slideshow": {
     "slide_type": "-"
    }
   },
   "outputs": [
    {
     "name": "stdout",
     "output_type": "stream",
     "text": [
      "我是老王，今年42岁了\n",
      "我是小白，今年22岁了\n",
      "小白，很高兴见到您\n",
      "老王，很高兴见到您\n",
      "老王: 59, 不及格\n",
      "小白: 60, 及格\n",
      "小白，我输了\n"
     ]
    }
   ],
   "source": [
    "oldwang = Student('老王', 42, 178, 59)\n",
    "xiaobai = Student('小白', 22, 180, 60)\n",
    "oldwang.introduce_myself()\n",
    "xiaobai.introduce_myself()\n",
    "oldwang.say_hello(xiaobai)\n",
    "xiaobai.say_hello(oldwang)\n",
    "oldwang.print_score()\n",
    "xiaobai.print_score()\n",
    "oldwang.fight(xiaobai)"
   ]
  },
  {
   "cell_type": "markdown",
   "metadata": {
    "slideshow": {
     "slide_type": "slide"
    }
   },
   "source": [
    "下面再定义一个子类（老师类），在老师类中，增加如下属性与方法：\n",
    "- `__students`，学生（私有属性）\n",
    "- `add_student()`，添加学生\n",
    "- `set_score()`，给学生改分\n",
    "- `list_students()`，列出学生"
   ]
  },
  {
   "cell_type": "code",
   "execution_count": 6,
   "metadata": {
    "slideshow": {
     "slide_type": "slide"
    }
   },
   "outputs": [],
   "source": [
    "class Teacher(Human):\n",
    "    \"\"\"Provide teacher class in python training\"\"\"\n",
    "    def __init__(self, name, age, height, gender='Male'):\n",
    "        Human.__init__(self, name, age, gender)\n",
    "        self.__students = []\n",
    "        \n",
    "    def add_student(self, student):\n",
    "        self.__students.append(student)\n",
    "\n",
    "    def set_score(self, student, score):\n",
    "        student.score = score\n",
    "    \n",
    "    def list_student_score(self):\n",
    "        for student in self.__students:\n",
    "            student.print_score()"
   ]
  },
  {
   "cell_type": "markdown",
   "metadata": {
    "slideshow": {
     "slide_type": "slide"
    }
   },
   "source": [
    "类定义完毕后，创建老师与学生的对象："
   ]
  },
  {
   "cell_type": "code",
   "execution_count": 7,
   "metadata": {
    "slideshow": {
     "slide_type": "slide"
    }
   },
   "outputs": [],
   "source": [
    "teacher = Teacher('老王', 42, 179)\n",
    "xiaohei = Student('小黑', 22, 59, 180)\n",
    "xiaobai = Student('小白', 24, 80, 160, 'Female') "
   ]
  },
  {
   "cell_type": "code",
   "execution_count": 8,
   "metadata": {
    "slideshow": {
     "slide_type": "slide"
    }
   },
   "outputs": [
    {
     "name": "stdout",
     "output_type": "stream",
     "text": [
      "小白，很高兴见到您\n",
      "小黑，很高兴见到您\n",
      "小白: 90, 及格\n",
      "小黑: 50, 不及格\n"
     ]
    }
   ],
   "source": [
    "teacher.say_hello(xiaobai)\n",
    "teacher.set_score(xiaobai, 90)\n",
    "teacher.add_student(xiaobai)\n",
    "teacher.say_hello(xiaohei)\n",
    "teacher.set_score(xiaohei, 50)\n",
    "teacher.add_student(xiaohei)\n",
    "teacher.list_student_score()"
   ]
  },
  {
   "cell_type": "markdown",
   "metadata": {
    "slideshow": {
     "slide_type": "slide"
    }
   },
   "source": [
    "可以看出，使用类的继承，使得代码具有良好的可重用性和扩展性。"
   ]
  },
  {
   "cell_type": "markdown",
   "metadata": {
    "slideshow": {
     "slide_type": "slide"
    }
   },
   "source": [
    "### `super`函数\n",
    "\n",
    "在子类中调用属性或方法时，首先会从子类中查找，如果没有再从父类中寻找。有时需要调用父类成员，可以使用 Pyhton 内置函数`super()`来强调使用父类的成员。例如，在上面子类定义中，显式的调用父类的`__init__()`，使用函数 `super()` 可以特指调用父类的`__init()`方法。\n",
    "\n",
    "`super()`的语法：\n",
    "```python\n",
    "super(SubClassName, self).method()\n",
    "```\n",
    "\n",
    "下面使用`super()`函数重新定义 `Teacher` 和 `Student` 类"
   ]
  },
  {
   "cell_type": "code",
   "execution_count": 47,
   "metadata": {
    "slideshow": {
     "slide_type": "slide"
    }
   },
   "outputs": [],
   "source": [
    "class Student(Human):\n",
    "    \"\"\"Provide student class in python training\"\"\"\n",
    "    def __init__(self, name, age, height, score, gender='Male'):\n",
    "        super(Student, self).__init__(name, age, height, gender=gender)\n",
    "        self.__score = score\n",
    "\n",
    "    @property\n",
    "    def score(self):\n",
    "        return self.__score\n",
    "\n",
    "    @score.setter\n",
    "    def score(self, score):\n",
    "        self.__score = score\n",
    "    \n",
    "    def __is_pass(self):\n",
    "        return self.__score >= 60\n",
    "    \n",
    "    def print_score(self):\n",
    "        status = '及格' if self.__is_pass() else '不及格'\n",
    "        print('{0}: {1}, {2}'.format(self.name, self.__score, status))    "
   ]
  },
  {
   "cell_type": "code",
   "execution_count": 41,
   "metadata": {
    "slideshow": {
     "slide_type": "slide"
    }
   },
   "outputs": [],
   "source": [
    "class Teacher(Human):\n",
    "    \"\"\"Provide teacher class in python training\"\"\"\n",
    "    def __init__(self, name, age, height, gender='Male'):\n",
    "        super(Teacher, self).__init__(name, age, gender)\n",
    "        self.__students = []\n",
    "        \n",
    "    def add_student(self, student):\n",
    "        self.__students.append(student)\n",
    "\n",
    "    def set_score(self, student, score):\n",
    "        student.score = score\n",
    "    \n",
    "    def list_student_score(self):\n",
    "        for student in self.__students:\n",
    "            student.print_score()"
   ]
  },
  {
   "cell_type": "markdown",
   "metadata": {
    "slideshow": {
     "slide_type": "slide"
    }
   },
   "source": [
    "### 方法重写\n",
    "\n",
    "在继承父类时，如果父类方法不适合或不能满足需求，子类中使用父类方法名重新定义即可。例如，在下面新定义的学生子类中，重定义`say_hello()`方法，对老师类实例，使用尊称："
   ]
  },
  {
   "cell_type": "code",
   "execution_count": 44,
   "metadata": {
    "slideshow": {
     "slide_type": "slide"
    }
   },
   "outputs": [],
   "source": [
    "class Student(Human):\n",
    "    \"\"\"Provide student class in python training\"\"\"\n",
    "    def __init__(self, name, age, height, score, gender='Male'):\n",
    "        super(Student, self).__init__(name, age, height, gender)\n",
    "        self.__score = score\n",
    "\n",
    "    @property\n",
    "    def score(self):\n",
    "        return self.__score\n",
    "\n",
    "    @score.setter\n",
    "    def score(self, score):\n",
    "        self.__score = score\n",
    "    \n",
    "    def __is_pass(self):\n",
    "        return self.__score >= 60\n",
    "    \n",
    "    def print_score(self):\n",
    "        status = '及格' if self.__is_pass() else '不及格'\n",
    "        print('{0}: {1}, {2}'.format(self.name, self.__score, status))    \n",
    "    \n",
    "    def say_hello(self, other):\n",
    "        \"\"\"say hello to the other person\"\"\"\n",
    "        if isinstance(other, Teacher):\n",
    "            print('{0}老师，很高兴见到您'.format(other.name))\n",
    "        else:\n",
    "            print('{0}，很高兴见到您'.format(other.name))            "
   ]
  },
  {
   "cell_type": "code",
   "execution_count": 45,
   "metadata": {
    "slideshow": {
     "slide_type": "slide"
    }
   },
   "outputs": [],
   "source": [
    "teacher = Teacher('老王', 42, 179)\n",
    "xiaohei = Student('小黑', 22, 59, 180)\n",
    "xiaobai = Student('小白', 24, 80, 'Female') "
   ]
  },
  {
   "cell_type": "code",
   "execution_count": 46,
   "metadata": {
    "slideshow": {
     "slide_type": "-"
    }
   },
   "outputs": [
    {
     "name": "stdout",
     "output_type": "stream",
     "text": [
      "小黑，很高兴见到您\n",
      "小白，很高兴见到您\n",
      "老王老师，很高兴见到您\n",
      "小白，很高兴见到您\n"
     ]
    }
   ],
   "source": [
    "teacher.say_hello(xiaohei)\n",
    "teacher.say_hello(xiaobai)\n",
    "xiaohei.say_hello(teacher)\n",
    "xiaohei.say_hello(xiaobai)"
   ]
  },
  {
   "cell_type": "markdown",
   "metadata": {
    "slideshow": {
     "slide_type": "slide"
    }
   },
   "source": [
    "### 多继承\n",
    "\n",
    "多继承是指某个类继承自两个或多个类。多继承可能会存在一些问题，如某个调用的方法不在子类的话，会搞不清楚来自哪个父类。调用方法来自哪里取决于父类定义的顺序。\n",
    "\n",
    "子类调用某个方法或属性的时候，核心原则有两点：\n",
    "- 首先在子类中查找，找不到的话就到从父类中查找\n",
    "- 根据父类定义顺序，按照深度优先方式查找。"
   ]
  },
  {
   "cell_type": "markdown",
   "metadata": {
    "slideshow": {
     "slide_type": "slide"
    }
   },
   "source": [
    "实际上，也不同太担心多继承问题。使用帮助文件查看`Student`对象"
   ]
  },
  {
   "cell_type": "code",
   "execution_count": 48,
   "metadata": {
    "slideshow": {
     "slide_type": "-"
    }
   },
   "outputs": [
    {
     "name": "stdout",
     "output_type": "stream",
     "text": [
      "Help on Student in module __main__ object:\n",
      "\n",
      "class Student(Human)\n",
      " |  Provide student class in python training\n",
      " |  \n",
      " |  Method resolution order:\n",
      " |      Student\n",
      " |      Human\n",
      " |      builtins.object\n",
      " |  \n",
      " |  Methods defined here:\n",
      " |  \n",
      " |  __init__(self, name, age, height, score, gender='Male')\n",
      " |  \n",
      " |  print_score(self)\n",
      " |  \n",
      " |  say_hello(self, other)\n",
      " |      say hello to the other person\n",
      " |  \n",
      " |  ----------------------------------------------------------------------\n",
      " |  Data descriptors defined here:\n",
      " |  \n",
      " |  score\n",
      " |  \n",
      " |  ----------------------------------------------------------------------\n",
      " |  Methods inherited from Human:\n",
      " |  \n",
      " |  __repr__(self)\n",
      " |      Return repr(self).\n",
      " |  \n",
      " |  __str__(self)\n",
      " |      Return str(self).\n",
      " |  \n",
      " |  fight(self, other)\n",
      " |      fight if win\n",
      " |  \n",
      " |  introduce_myself(self)\n",
      " |      introduce myself\n",
      " |  \n",
      " |  ----------------------------------------------------------------------\n",
      " |  Data descriptors inherited from Human:\n",
      " |  \n",
      " |  __dict__\n",
      " |      dictionary for instance variables (if defined)\n",
      " |  \n",
      " |  __weakref__\n",
      " |      list of weak references to the object (if defined)\n",
      " |  \n",
      " |  age\n",
      " |  \n",
      " |  gender\n",
      " |  \n",
      " |  height\n",
      " |  \n",
      " |  name\n",
      "\n"
     ]
    }
   ],
   "source": [
    "help(xiaohei)"
   ]
  },
  {
   "cell_type": "markdown",
   "metadata": {
    "slideshow": {
     "slide_type": "slide"
    }
   },
   "source": [
    "可以发现解析次序为：\n",
    "```\n",
    " |  Method resolution order:\n",
    " |      Student\n",
    " |      Human\n",
    " |      builtins.object\n",
    "``` \n",
    "\n",
    "这是因为在 Python 中定义的类都会是内置`object`的子类。"
   ]
  },
  {
   "cell_type": "markdown",
   "metadata": {},
   "source": [
    "下面定义一些多继承的示例："
   ]
  },
  {
   "cell_type": "code",
   "execution_count": 9,
   "metadata": {
    "slideshow": {
     "slide_type": "slide"
    }
   },
   "outputs": [],
   "source": [
    "class A(object):\n",
    "    def print_me(self):\n",
    "        print('from A')\n",
    "    def show_me(self):\n",
    "        print('from A')\n",
    "\n",
    "        \n",
    "class B(A):\n",
    "    def print_me(self):\n",
    "        print('from B')\n",
    "\n",
    "        \n",
    "class C(A):\n",
    "    def print_me(self):\n",
    "        print('from C')\n",
    "\n",
    "        \n",
    "class D(B, C):\n",
    "    pass\n",
    "\n",
    "\n",
    "class E(C, B):\n",
    "    pass"
   ]
  },
  {
   "cell_type": "code",
   "execution_count": 10,
   "metadata": {
    "slideshow": {
     "slide_type": "slide"
    }
   },
   "outputs": [
    {
     "name": "stdout",
     "output_type": "stream",
     "text": [
      "from B\n",
      "from C\n",
      "from A\n"
     ]
    }
   ],
   "source": [
    "d = D()\n",
    "d.print_me()\n",
    "\n",
    "e = E()\n",
    "e.print_me()\n",
    "e.show_me()"
   ]
  },
  {
   "cell_type": "markdown",
   "metadata": {
    "slideshow": {
     "slide_type": "slide"
    }
   },
   "source": [
    "###  继承与复合\n",
    "\n",
    "继承是`is-a`的关系；\n",
    "\n",
    "复合体现了`has-a`的关系，即用包含已有类的对象来产生新的类。\n",
    "\n",
    "防止滥用继承，应该考虑多用复合"
   ]
  },
  {
   "cell_type": "markdown",
   "metadata": {
    "slideshow": {
     "slide_type": "slide"
    }
   },
   "source": [
    "例如在下面实例中，车与引擎的关系应该是车有一个引擎，所以应该用复合的方法来定义新类；如果采用继承，意为车是引擎，显然有些不正确："
   ]
  },
  {
   "cell_type": "code",
   "execution_count": 50,
   "metadata": {
    "slideshow": {
     "slide_type": "slide"
    }
   },
   "outputs": [],
   "source": [
    "class Engine:\n",
    "    def run(self):\n",
    "        print(\"running\")\n",
    "\n",
    "class Car1(Engine):\n",
    "    pass\n",
    "\n",
    "class Car2:\n",
    "    def __init__(self):\n",
    "        self.__engine = Engine()\n",
    "\n",
    "    def run(self):\n",
    "        self.__engine.run()"
   ]
  },
  {
   "cell_type": "code",
   "execution_count": 51,
   "metadata": {},
   "outputs": [
    {
     "name": "stdout",
     "output_type": "stream",
     "text": [
      "running\n",
      "running\n"
     ]
    }
   ],
   "source": [
    "car1 = Car1()\n",
    "car2 = Car2()\n",
    "\n",
    "car1.run()\n",
    "car2.run()"
   ]
  },
  {
   "cell_type": "markdown",
   "metadata": {
    "slideshow": {
     "slide_type": "slide"
    }
   },
   "source": [
    "## 类的多态\n",
    "\n",
    "多态通常用于对不同对象使用同样的操作。例如要发送一个消息，可能会使用短信、微信、电话、邮件不同的方式。\n",
    "\n",
    "多态需要使用继承，子类重写父类的方法，继承是代码重用，而多态体现了接口重用。在运行时动态确定对象状态，可能会以多种形态呈现出结果。"
   ]
  },
  {
   "cell_type": "markdown",
   "metadata": {},
   "source": [
    "### 定义父类\n",
    "\n",
    "首先定义一个消息机父类，定义一个发送消息的接口。"
   ]
  },
  {
   "cell_type": "code",
   "execution_count": 63,
   "metadata": {},
   "outputs": [],
   "source": [
    "class Messager(object):\n",
    "    def __init__(self, kind):\n",
    "        self.kind = kind\n",
    "\n",
    "    def send(self, message):\n",
    "        print('发送 {} in'.format(message, self.kind))"
   ]
  },
  {
   "cell_type": "markdown",
   "metadata": {},
   "source": [
    "### 定义子类\n",
    "\n",
    "定义多个子类，重写发送消息接口："
   ]
  },
  {
   "cell_type": "code",
   "execution_count": 79,
   "metadata": {},
   "outputs": [],
   "source": [
    "class EmailMessager(Messager):\n",
    "    def __init__(self):\n",
    "        super(EmailMessager, self).__init__('email')\n",
    "\n",
    "    def send(self, message):\n",
    "        print('XXX发送 {} in {}'.format(message, self.kind))"
   ]
  },
  {
   "cell_type": "code",
   "execution_count": 80,
   "metadata": {},
   "outputs": [],
   "source": [
    "class MsgMessager(Messager):\n",
    "    def __init__(self):\n",
    "        super(MsgMessager, self).__init__('Msg')\n",
    "\n",
    "    def send(self, message):\n",
    "        print('YYY发送 {} in {}'.format(message, self.kind))"
   ]
  },
  {
   "cell_type": "code",
   "execution_count": 81,
   "metadata": {},
   "outputs": [],
   "source": [
    "class PhoneMessager(Messager):\n",
    "    def __init__(self):\n",
    "        super(PhoneMessager, self).__init__('Phone')\n",
    "\n",
    "    def send(self, message):\n",
    "        print('ZZZ发送 {} in {}'.format(message, self.kind))"
   ]
  },
  {
   "cell_type": "code",
   "execution_count": 82,
   "metadata": {},
   "outputs": [],
   "source": [
    "class WechatMessager(Messager):\n",
    "    def __init__(self):\n",
    "        super(WechatMessager, self).__init__('Wechat')\n",
    "\n",
    "    def send(self, message):\n",
    "        print('DDD发送 {} in {}'.format(message, self.kind))"
   ]
  },
  {
   "cell_type": "markdown",
   "metadata": {},
   "source": [
    "### 定义操作函数**\n",
    "\n",
    "定义一个函数，实现相同的操作。"
   ]
  },
  {
   "cell_type": "code",
   "execution_count": 83,
   "metadata": {},
   "outputs": [],
   "source": [
    "def send(sender, message):\n",
    "    sender.send(message)"
   ]
  },
  {
   "cell_type": "code",
   "execution_count": 84,
   "metadata": {},
   "outputs": [
    {
     "name": "stdout",
     "output_type": "stream",
     "text": [
      "XXX发送 放假了 in email\n",
      "YYY发送 放假了 in Msg\n",
      "ZZZ发送 放假了 in Phone\n",
      "DDD发送 放假了 in Wechat\n"
     ]
    }
   ],
   "source": [
    "mail =  EmailMessager()\n",
    "msg =  MsgMessager()\n",
    "phone =  PhoneMessager()\n",
    "wechat =  WechatMessager()\n",
    "for sender in [mail, msg, phone, wechat]:\n",
    "    send(sender, '放假了')"
   ]
  },
  {
   "cell_type": "markdown",
   "metadata": {},
   "source": [
    "在 Python 中支持鸭子类型：“如果看起来像且走起路来像鸭子，那么它就是鸭子”。即在调用对象方法时并不检查类型，只要方法存在，参数正确，就可以调用。在函数 `send()` 中参数 `sender` 可有传入任何类型的对象，只要该对象有`send()`的方法即可。\n",
    "\n",
    "Python 内置的 `len()` 函数也可以传入任意类型的对象，只要该对象具有`__len__()`方法即可。"
   ]
  }
 ],
 "metadata": {
  "celltoolbar": "Slideshow",
  "kernelspec": {
   "display_name": "Python 3",
   "language": "python",
   "name": "python3"
  },
  "language_info": {
   "codemirror_mode": {
    "name": "ipython",
    "version": 3
   },
   "file_extension": ".py",
   "mimetype": "text/x-python",
   "name": "python",
   "nbconvert_exporter": "python",
   "pygments_lexer": "ipython3",
   "version": "3.6.4"
  },
  "toc": {
   "base_numbering": 1,
   "nav_menu": {},
   "number_sections": true,
   "sideBar": true,
   "skip_h1_title": false,
   "title_cell": "Table of Contents",
   "title_sidebar": "Contents",
   "toc_cell": false,
   "toc_position": {
    "height": "calc(100% - 180px)",
    "left": "10px",
    "top": "150px",
    "width": "183px"
   },
   "toc_section_display": true,
   "toc_window_display": false
  }
 },
 "nbformat": 4,
 "nbformat_minor": 1
}
