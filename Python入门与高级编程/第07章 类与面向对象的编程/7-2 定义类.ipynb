{
 "cells": [
  {
   "cell_type": "markdown",
   "metadata": {
    "slideshow": {
     "slide_type": "slide"
    }
   },
   "source": [
    "# 定义类\n",
    "\n",
    "本节介绍在 Python 中如何自定义类以及面向对象编程应用。"
   ]
  },
  {
   "cell_type": "markdown",
   "metadata": {
    "slideshow": {
     "slide_type": "slide"
    }
   },
   "source": [
    "## 类的定义\n",
    "\n",
    "定义类的的语法为\n",
    "```python\n",
    "class ClassName(base_classes):\n",
    "    suite\n",
    "```\n",
    "\n",
    "在 Python 中使用关键词 `class` 来定义类；必须提供一个类名；括号中指定父类（可选）；与流程控制、函数定义一样，使用 冒号 `:` 与缩进来区别自定义类的语句块。\n",
    "\n",
    "> 按照 PEP8 规范，类名首字母大写，如果是多个单词要使用驼峰命名。"
   ]
  },
  {
   "cell_type": "markdown",
   "metadata": {
    "slideshow": {
     "slide_type": "slide"
    }
   },
   "source": [
    "### 准备工作\n",
    "\n",
    "在定义类之前，也就是解决问题之前需要做的事情有：\n",
    "- 面向对象分析（Object Oriented Analysis，OOA）  \n",
    "有哪些对象，对象有哪些属性和方法？可以抽象出那些类？\n",
    "\n",
    "- 面向对象设计（Object Oriented Design，OOD）  \n",
    "如何设计类及其属性和方法？"
   ]
  },
  {
   "cell_type": "markdown",
   "metadata": {
    "slideshow": {
     "slide_type": "slide"
    }
   },
   "source": [
    "### 最简单的类\n",
    "\n",
    "下面来定义一个最简单的类，类的语句块使用 `pass` 语句，即没有定义特定的属性或方法："
   ]
  },
  {
   "cell_type": "code",
   "execution_count": 1,
   "metadata": {
    "slideshow": {
     "slide_type": "-"
    }
   },
   "outputs": [],
   "source": [
    "class SimpleClass():\n",
    "    pass"
   ]
  },
  {
   "cell_type": "markdown",
   "metadata": {
    "slideshow": {
     "slide_type": "slide"
    }
   },
   "source": [
    "当没有特别指定父类时，可以省略圆括号："
   ]
  },
  {
   "cell_type": "code",
   "execution_count": 19,
   "metadata": {
    "slideshow": {
     "slide_type": "-"
    }
   },
   "outputs": [],
   "source": [
    "class SimpleClass:\n",
    "    pass"
   ]
  },
  {
   "cell_type": "markdown",
   "metadata": {
    "slideshow": {
     "slide_type": "slide"
    }
   },
   "source": [
    "当定义了一个类之后，就可以创建类的对象，也就是类的实例化。创建类的对象时，就像调用函数一样，调用类并传入相应参数即可。下面来创建 `SimpleClass` 的两个对象："
   ]
  },
  {
   "cell_type": "code",
   "execution_count": 3,
   "metadata": {
    "slideshow": {
     "slide_type": "-"
    }
   },
   "outputs": [],
   "source": [
    "obj1 = SimpleClass()\n",
    "obj2 = SimpleClass()"
   ]
  },
  {
   "cell_type": "markdown",
   "metadata": {
    "slideshow": {
     "slide_type": "slide"
    }
   },
   "source": [
    "这些对象是 `SimpleClass` 类的实例，可以使用自省函数来查看："
   ]
  },
  {
   "cell_type": "code",
   "execution_count": 7,
   "metadata": {
    "slideshow": {
     "slide_type": "-"
    }
   },
   "outputs": [
    {
     "name": "stdout",
     "output_type": "stream",
     "text": [
      "<class '__main__.SimpleClass'> <class '__main__.SimpleClass'>\n"
     ]
    }
   ],
   "source": [
    "print(type(obj1), type(obj2))"
   ]
  },
  {
   "cell_type": "markdown",
   "metadata": {
    "slideshow": {
     "slide_type": "slide"
    }
   },
   "source": [
    "在 Python 中万物皆对象，`SimpleClass` 类也是对象，它的类是啥呢？也可以使用自省函数来查看："
   ]
  },
  {
   "cell_type": "code",
   "execution_count": 21,
   "metadata": {
    "slideshow": {
     "slide_type": "-"
    }
   },
   "outputs": [
    {
     "name": "stdout",
     "output_type": "stream",
     "text": [
      "<class 'type'>\n"
     ]
    }
   ],
   "source": [
    "print(type(SimpleClass))"
   ]
  },
  {
   "cell_type": "markdown",
   "metadata": {
    "slideshow": {
     "slide_type": "-"
    }
   },
   "source": [
    "也就是说，`SimpleClass`是 `type`类的实例化，`obj1`与`obj2`是`SimpleClass`类的实例化。当 Python 运行类定义语句，并运行类的实例操作，创建的变量和对对象如下下图所示：\n",
    "![类的定义与实例化对象](../images/class_objects.png)`"
   ]
  },
  {
   "cell_type": "markdown",
   "metadata": {
    "slideshow": {
     "slide_type": "slide"
    }
   },
   "source": [
    "缺省情况下，使用 `class` 语句定义的类都是继承自父类`object`类。可以通过`SimpleClass`的特殊属性`__base__`来查看，也可以使用 Python 内置函数`issubclass()`来检查指定类是否是父类的子类："
   ]
  },
  {
   "cell_type": "code",
   "execution_count": 31,
   "metadata": {
    "slideshow": {
     "slide_type": "-"
    }
   },
   "outputs": [
    {
     "data": {
      "text/plain": [
       "object"
      ]
     },
     "execution_count": 31,
     "metadata": {},
     "output_type": "execute_result"
    }
   ],
   "source": [
    "SimpleClass.__base__"
   ]
  },
  {
   "cell_type": "code",
   "execution_count": 32,
   "metadata": {
    "slideshow": {
     "slide_type": "-"
    }
   },
   "outputs": [
    {
     "data": {
      "text/plain": [
       "True"
      ]
     },
     "execution_count": 32,
     "metadata": {},
     "output_type": "execute_result"
    }
   ],
   "source": [
    "issubclass(SimpleClass, object)"
   ]
  },
  {
   "cell_type": "markdown",
   "metadata": {},
   "source": [
    "也就是说，当不指定父类时，上述定义类语句与如下语句是一样的：\n",
    "```python\n",
    "class SimpleClass(object):\n",
    "    pass\n",
    "```"
   ]
  },
  {
   "cell_type": "markdown",
   "metadata": {
    "slideshow": {
     "slide_type": "slide"
    }
   },
   "source": [
    "使用更多自省方法查看 `SimpleClass` 对象:"
   ]
  },
  {
   "cell_type": "code",
   "execution_count": 27,
   "metadata": {},
   "outputs": [
    {
     "name": "stdout",
     "output_type": "stream",
     "text": [
      "Help on SimpleClass in module __main__ object:\n",
      "\n",
      "class SimpleClass(builtins.object)\n",
      " |  Data descriptors defined here:\n",
      " |  \n",
      " |  __dict__\n",
      " |      dictionary for instance variables (if defined)\n",
      " |  \n",
      " |  __weakref__\n",
      " |      list of weak references to the object (if defined)\n",
      "\n"
     ]
    }
   ],
   "source": [
    "help(obj1)"
   ]
  },
  {
   "cell_type": "code",
   "execution_count": 28,
   "metadata": {},
   "outputs": [
    {
     "name": "stdout",
     "output_type": "stream",
     "text": [
      "<__main__.SimpleClass object at 0x00000266166027B8>\n",
      "<__main__.SimpleClass object at 0x0000026616602860>\n"
     ]
    }
   ],
   "source": [
    "print(str(obj1))\n",
    "print(repr(obj2))"
   ]
  },
  {
   "cell_type": "markdown",
   "metadata": {
    "slideshow": {
     "slide_type": "slide"
    }
   },
   "source": [
    "### 一个自定义类例子\n",
    "\n",
    "在上面的自定义类中，其自省结果与 Python 内置数据和结构类型相比，丑陋难于理解。向 Python 内置类型看齐，是学好 Python 的重要方法。下面定义一个与现实工作贴近且稍微实用一些的类。环顾四周，尽管大家肥瘦美丑不尽相同，但可以把大家抽象为人，也就是说大家都是人类的实例。下面来定义一个 `Human` 类："
   ]
  },
  {
   "cell_type": "markdown",
   "metadata": {
    "slideshow": {
     "slide_type": "slide"
    }
   },
   "source": [
    "#### 分析和设计\n",
    "\n",
    "`Human` 对象即 `Human` 类的实例，也就是大家。可以分析和归纳人类具有哪些属性或行为。每个人都有一些属性，例如名字、年龄，性别、身高等，考虑深远的话，还有身份证、国籍等。这里为了简化示例，假定 `Human`对象的属性只包括：名字、性别、年龄、身高。\n",
    "\n",
    "人的行为那就多了，这里假定有如下行为：\n",
    "- 自我介绍，说出自己的名字；\n",
    "- 打招呼，向别人打招呼。\n",
    "- 打架，与别人打架，看看是否能赢。"
   ]
  },
  {
   "cell_type": "markdown",
   "metadata": {
    "slideshow": {
     "slide_type": "slide"
    }
   },
   "source": [
    "#### 类的实现\n",
    "\n",
    "在 Python 自定义一个类，通常要重新实现`__init__`魔术方法。在前面几章也一直在强调，类定义的魔术方法可以使用相应的运算符来操作。为了向 Python 内置类型看齐，在 `Human` 类的定义中，我们要重新实现如下魔术方法：\n",
    "- `__init__`，当创建一个实例时，调用的构造方法\n",
    "- `__str__`，可以用`str()`得到对象的字符串，面向用户\n",
    "- `__repr__`，可以用`repr()`得到对象的字符串，面向程序员"
   ]
  },
  {
   "cell_type": "markdown",
   "metadata": {
    "slideshow": {
     "slide_type": "-"
    }
   },
   "source": [
    "此外，还需要定义如下常规方法（人的行为）：\n",
    "- `introduce_myself()`\n",
    "- `say_hello()`\n",
    "- `fight()`"
   ]
  },
  {
   "cell_type": "code",
   "execution_count": 35,
   "metadata": {
    "slideshow": {
     "slide_type": "slide"
    }
   },
   "outputs": [],
   "source": [
    "class Human(object):\n",
    "    \"\"\"\\\n",
    "    Human(name, age, height)  -> person\n",
    "    Human(name, age, height, gender='Male)  -> person\n",
    "\n",
    "    Create a person by a name, age, height, gender\n",
    "    \"\"\"\n",
    "    def __init__(self, name, age, height, gender='Male'):\n",
    "        self.name = name\n",
    "        self.age = age\n",
    "        self.height = height\n",
    "        self.gender = gender\n",
    "    \n",
    "    def introduce_myself(self):\n",
    "        \"\"\"introduce myself\"\"\"\n",
    "        print('我是{0}，今年{1}岁了'.format(self.name, self.age))\n",
    "    \n",
    "    def say_hello(self, other):\n",
    "        \"\"\"say hello to the other person\"\"\"\n",
    "        print('{0}，很高兴见到您'.format(other.name))\n",
    "    \n",
    "    def fight(self, other):\n",
    "        \"\"\"fight if win\"\"\"\n",
    "        if self.height >= other.height:\n",
    "            print('{0}，我赢了'.format(other.name))\n",
    "        else:\n",
    "            print('{0}，我输了'.format(other.name))\n",
    "            \n",
    "    def __repr__(self):\n",
    "        return 'Human({0.name!r}, {0.age!r}, {0.height!r}, {0.gender!r})'.format(self)\n",
    "    \n",
    "    def __str__(self):\n",
    "        return '{0.name!r}'.format(self)"
   ]
  },
  {
   "cell_type": "markdown",
   "metadata": {
    "slideshow": {
     "slide_type": "slide"
    }
   },
   "source": [
    "与上面的自定义类相比，在类定义语句体起始位置增加了文档字符串。\n",
    "\n",
    "在类定义语句体中，新增一些使用关键词 `def` 的定义方法语句。与函数定义类似，唯一差别在于第一个参数名为 `self`，看起来有些奇怪，实际上它是对对象自身的引用。类是对象的抽象，对象是类的实例。下面创建 2 个 `Human` 对象来予以说明："
   ]
  },
  {
   "cell_type": "code",
   "execution_count": 39,
   "metadata": {
    "slideshow": {
     "slide_type": "slide"
    }
   },
   "outputs": [
    {
     "name": "stdout",
     "output_type": "stream",
     "text": [
      "我是老王，今年42岁了\n",
      "我是小白，今年22岁了\n"
     ]
    }
   ],
   "source": [
    "oldwang = Human('老王', 42, 178)\n",
    "xiaobai = Human('小白', 22, 182)\n",
    "Human.introduce_myself(oldwang)\n",
    "Human.introduce_myself(xiaobai)"
   ]
  },
  {
   "cell_type": "markdown",
   "metadata": {
    "slideshow": {
     "slide_type": "-"
    }
   },
   "source": [
    "在上面代码中，前面2行定义2个变量`oldwang`与`xiaobai`，它们是`Human`对象，也就是`Human`的实例。在后面 2 行中，调用`Human.introduc_myself`方法时，参数`self`对应实参就是 `Human` 对象，即`self`是对对象自身的引用。实际上通常并不这么调用方法，而是使用如下调用方法："
   ]
  },
  {
   "cell_type": "code",
   "execution_count": 40,
   "metadata": {
    "slideshow": {
     "slide_type": "-"
    }
   },
   "outputs": [
    {
     "name": "stdout",
     "output_type": "stream",
     "text": [
      "我是老王，今年42岁了\n",
      "我是小白，今年22岁了\n"
     ]
    }
   ],
   "source": [
    "oldwang.introduce_myself()\n",
    "xiaobai.introduce_myself()"
   ]
  },
  {
   "cell_type": "markdown",
   "metadata": {},
   "source": [
    "当调用某 `Human` 对象的方法`introduce_myself`时，它会自动把自身作为第一个参数传入方法。由于第一个参数总是对象自身，所以习惯上称为`self`。"
   ]
  },
  {
   "cell_type": "markdown",
   "metadata": {},
   "source": [
    "在使用类来创建对象时，首先 Python 会调用`__new__()`来创建对象，然后调用魔术方法`__init__()`来进行初始化。在实际编程中，定义的类几乎都不需要再重新定义`__new__()`方法，Python 会自动调用父类，如`object.__new__()`方法。但通常都需要重新定义`__init__()`方法。"
   ]
  },
  {
   "cell_type": "markdown",
   "metadata": {},
   "source": [
    "由上可知，当调用如下创建对象的语句：\n",
    "```python\n",
    "oldwang = Human('老王', 42, 178)\n",
    "```\n",
    "Python 会调用`__init__()`方法，并传入3个参数`'老王'`, `42`, `178`。"
   ]
  },
  {
   "cell_type": "markdown",
   "metadata": {
    "slideshow": {
     "slide_type": "slide"
    }
   },
   "source": [
    "下面使用自省函数来查看这些对象："
   ]
  },
  {
   "cell_type": "code",
   "execution_count": 41,
   "metadata": {
    "slideshow": {
     "slide_type": "-"
    }
   },
   "outputs": [
    {
     "name": "stdout",
     "output_type": "stream",
     "text": [
      "<class '__main__.Human'> <class '__main__.Human'>\n"
     ]
    }
   ],
   "source": [
    "print(type(oldwang), type(xiaobai))"
   ]
  },
  {
   "cell_type": "code",
   "execution_count": 44,
   "metadata": {
    "slideshow": {
     "slide_type": "slide"
    }
   },
   "outputs": [
    {
     "name": "stdout",
     "output_type": "stream",
     "text": [
      "Help on Human in module __main__ object:\n",
      "\n",
      "class Human(builtins.object)\n",
      " |  Human(name, age, height)  -> person\n",
      " |  Human(name, age, height, gender='Male)  -> person\n",
      " |  \n",
      " |  Create a person by a name, age, height, gender\n",
      " |  \n",
      " |  Methods defined here:\n",
      " |  \n",
      " |  __init__(self, name, age, height, gender='Male')\n",
      " |      Initialize self.  See help(type(self)) for accurate signature.\n",
      " |  \n",
      " |  __repr__(self)\n",
      " |      Return repr(self).\n",
      " |  \n",
      " |  __str__(self)\n",
      " |      Return str(self).\n",
      " |  \n",
      " |  fight(self, other)\n",
      " |      fight if win\n",
      " |  \n",
      " |  introduce_myself(self)\n",
      " |      introduce myself\n",
      " |  \n",
      " |  say_hello(self, other)\n",
      " |      say hello to the other person\n",
      " |  \n",
      " |  ----------------------------------------------------------------------\n",
      " |  Data descriptors defined here:\n",
      " |  \n",
      " |  __dict__\n",
      " |      dictionary for instance variables (if defined)\n",
      " |  \n",
      " |  __weakref__\n",
      " |      list of weak references to the object (if defined)\n",
      "\n"
     ]
    }
   ],
   "source": [
    "help(oldwang)"
   ]
  },
  {
   "cell_type": "code",
   "execution_count": 47,
   "metadata": {
    "slideshow": {
     "slide_type": "-"
    }
   },
   "outputs": [
    {
     "data": {
      "text/plain": [
       "(\"'老王'\", \"Human('老王', 42, 178, 'Male')\")"
      ]
     },
     "execution_count": 47,
     "metadata": {},
     "output_type": "execute_result"
    }
   ],
   "source": [
    "str(oldwang), repr(oldwang)"
   ]
  },
  {
   "cell_type": "markdown",
   "metadata": {},
   "source": [
    "#### 属性与方法\n",
    "\n",
    "使用`dir()`方法来查看 `Human` 对象的成员："
   ]
  },
  {
   "cell_type": "code",
   "execution_count": 46,
   "metadata": {
    "slideshow": {
     "slide_type": "-"
    }
   },
   "outputs": [
    {
     "name": "stdout",
     "output_type": "stream",
     "text": [
      "['__class__', '__delattr__', '__dict__', '__dir__', '__doc__', '__eq__', '__format__', '__ge__', '__getattribute__', '__gt__', '__hash__', '__init__', '__init_subclass__', '__le__', '__lt__', '__module__', '__ne__', '__new__', '__reduce__', '__reduce_ex__', '__repr__', '__setattr__', '__sizeof__', '__str__', '__subclasshook__', '__weakref__', 'age', 'fight', 'gender', 'height', 'introduce_myself', 'name', 'say_hello']\n"
     ]
    }
   ],
   "source": [
    "print(dir(oldwang))"
   ]
  },
  {
   "cell_type": "markdown",
   "metadata": {
    "slideshow": {
     "slide_type": "slide"
    }
   },
   "source": [
    "##### 魔术方法\n",
    "\n",
    "在 Python 类中，包括魔术方法与魔术属性：\n",
    "- `__init__()`，当创建一个实例时，调用的构造方法\n",
    "- `__doc__`，文档字符串，存放类的说明\n",
    "- `__dict__`，存放实例的特性\n",
    "- `__str__()`，可以用`str()`得到对象的字符串，面向用户\n",
    "- `__repr__()`，可以用`repr()`得到对象的字符串，面向程序员"
   ]
  },
  {
   "cell_type": "code",
   "execution_count": 57,
   "metadata": {
    "slideshow": {
     "slide_type": "slide"
    }
   },
   "outputs": [
    {
     "name": "stdout",
     "output_type": "stream",
     "text": [
      "    Human(name, age, height)  -> person\n",
      "    Human(name, age, height, gender='Male)  -> person\n",
      "\n",
      "    Create a person by a name, age, height, gender\n",
      "    \n"
     ]
    }
   ],
   "source": [
    "print(oldwang.__doc__)"
   ]
  },
  {
   "cell_type": "code",
   "execution_count": 51,
   "metadata": {
    "slideshow": {
     "slide_type": "-"
    }
   },
   "outputs": [
    {
     "name": "stdout",
     "output_type": "stream",
     "text": [
      "<class 'dict'>\n",
      "{'name': '老王', 'age': 42, 'height': 178, 'gender': 'Male'}\n"
     ]
    }
   ],
   "source": [
    "print(type(oldwang.__dict__))\n",
    "print(oldwang.__dict__)"
   ]
  },
  {
   "cell_type": "markdown",
   "metadata": {
    "slideshow": {
     "slide_type": "slide"
    }
   },
   "source": [
    "##### 常规方法和属性\n",
    "\n",
    "可以访问对象的属性和调用方法："
   ]
  },
  {
   "cell_type": "code",
   "execution_count": 53,
   "metadata": {
    "slideshow": {
     "slide_type": "-"
    }
   },
   "outputs": [
    {
     "name": "stdout",
     "output_type": "stream",
     "text": [
      "老王 178 小白 182\n"
     ]
    }
   ],
   "source": [
    "print(oldwang.name, oldwang.height, xiaobai.name, xiaobai.height)"
   ]
  },
  {
   "cell_type": "code",
   "execution_count": 89,
   "metadata": {
    "slideshow": {
     "slide_type": "-"
    }
   },
   "outputs": [
    {
     "name": "stdout",
     "output_type": "stream",
     "text": [
      "我是老王，今年42岁了\n",
      "我是小白，今年23岁了\n",
      "小白，很高兴见到您\n",
      "老王，很高兴见到您\n",
      "小白，我输了\n",
      "老王，我赢了\n"
     ]
    }
   ],
   "source": [
    "oldwang.introduce_myself()\n",
    "xiaobai.introduce_myself()\n",
    "oldwang.say_hello(xiaobai)\n",
    "xiaobai.say_hello(oldwang)\n",
    "oldwang.fight(xiaobai)\n",
    "xiaobai.fight(oldwang)"
   ]
  },
  {
   "cell_type": "markdown",
   "metadata": {},
   "source": [
    "#### 函数与方法的区别\n",
    "\n",
    "类的方法（method）与函数（function）有很多共同点，都是对处理过程的封装，传入参数然后返回处理结果。不过二者还是有些不同的。函数定义完毕后，就可以进行调用："
   ]
  },
  {
   "cell_type": "code",
   "execution_count": 90,
   "metadata": {},
   "outputs": [
    {
     "data": {
      "text/plain": [
       "3"
      ]
     },
     "execution_count": 90,
     "metadata": {},
     "output_type": "execute_result"
    }
   ],
   "source": [
    "def add(x, y):\n",
    "    return x + y\n",
    "\n",
    "add(1, 2)"
   ]
  },
  {
   "cell_type": "markdown",
   "metadata": {},
   "source": [
    "当类定义完毕后，还不能调用方法时，调用会抛出`TypeError`错误："
   ]
  },
  {
   "cell_type": "code",
   "execution_count": 91,
   "metadata": {},
   "outputs": [
    {
     "ename": "TypeError",
     "evalue": "introduce_myself() missing 1 required positional argument: 'self'",
     "output_type": "error",
     "traceback": [
      "\u001b[1;31m---------------------------------------------------------------------------\u001b[0m",
      "\u001b[1;31mTypeError\u001b[0m                                 Traceback (most recent call last)",
      "\u001b[1;32m<ipython-input-91-439628815a10>\u001b[0m in \u001b[0;36m<module>\u001b[1;34m()\u001b[0m\n\u001b[1;32m----> 1\u001b[1;33m \u001b[0mHuman\u001b[0m\u001b[1;33m.\u001b[0m\u001b[0mintroduce_myself\u001b[0m\u001b[1;33m(\u001b[0m\u001b[1;33m)\u001b[0m\u001b[1;33m\u001b[0m\u001b[0m\n\u001b[0m",
      "\u001b[1;31mTypeError\u001b[0m: introduce_myself() missing 1 required positional argument: 'self'"
     ]
    }
   ],
   "source": [
    "Human.introduce_myself()"
   ]
  },
  {
   "cell_type": "markdown",
   "metadata": {},
   "source": [
    "错误信息指明需要传入一个位置参数，也就是要传入类的实例。也就是说，必须把类的方法绑定到类的实例上才可以。"
   ]
  },
  {
   "cell_type": "markdown",
   "metadata": {
    "slideshow": {
     "slide_type": "slide"
    }
   },
   "source": [
    "## 类的封装\n",
    "\n",
    "辛辛苦苦写出类是给谁用呢，有人说，到目前为止都是自己在用。呵呵，编写类不是自娱自乐，万一有人用呢。如果能像 Python 内置类型那样，有成千上万用户用，何乐不为呢。一个专家在设计开发一个产品展现给用户时，通常会采用封装的技术，封装是面向对象编程的重要特征。封装就是将数据与具体操作的代码放在对象内部，用户无需了解具体实现细节。用户所能看到的只是公开的对外接口。比如手机，我们无需知道手机中的天线或芯片，知道如何拨打电话即可。在面向对象编程中，通过类的封装技术把内部状态隐藏起来，提供了一个有效途径来保护数据，避免用户无意地错用对象属性。\n",
    "\n",
    "在上面定义的`Human`类中，对象的属性包括名字、年龄、性别与身高。或许随着时光的流逝，年龄和身高是可以修改的，但我们并不期望修改名字与性别。\n",
    "\n",
    "换句话说，类的封装就是需要保护对象的内部属性，不让外部直接访问它们。在 Python 编程中，以`__`开头的属性名称为私有属性（private），以`__`开头的方法会变成一个私有方法（private），只能在内部访问，外部无法访问。注意与特魔术属性的区别。\n",
    "\n",
    "下面新定义一个包含私有属性的 `Human2` 类:"
   ]
  },
  {
   "cell_type": "code",
   "execution_count": 1,
   "metadata": {
    "slideshow": {
     "slide_type": "slide"
    }
   },
   "outputs": [],
   "source": [
    "class Human2():\n",
    "    \"\"\"\\\n",
    "    Human2(name, age, height)  -> person\n",
    "    Human2(name, age, height, gender='Male)  -> person\n",
    "\n",
    "    Create a person by a name, age, height, gender\n",
    "    \"\"\"\n",
    "    def __init__(self, name, age, height, gender='Male'):\n",
    "        self.__name = name\n",
    "        self.age = age\n",
    "        self.height = height\n",
    "        self.__gender = gender\n",
    "    \n",
    "    def introduce_myself(self):\n",
    "        \"\"\"introduce myself\"\"\"\n",
    "        print('我是{0}，今年{1}岁了'.format(self.__name, self.age))\n",
    "    \n",
    "    def say_hello(self, other):\n",
    "        \"\"\"say hello to the other person\"\"\"\n",
    "        print('{0}，很高兴见到您'.format(other.__name))\n",
    "    \n",
    "    def fight(self, other):\n",
    "        \"\"\"fight if win\"\"\"\n",
    "        if self.height >= other.height:\n",
    "            print('{0}，我赢了'.format(other.__name))\n",
    "        else:\n",
    "            print('{0}，我输了'.format(other.__name))\n",
    "            \n",
    "    def __repr__(self):\n",
    "        return 'Human2({0.__name!r}, {0.age!r}, {0.height!r}, {0.__gender!r})'.format(self)\n",
    "    \n",
    "    def __str__(self):\n",
    "        return '{0.__name!r}'.format(self)"
   ]
  },
  {
   "cell_type": "markdown",
   "metadata": {
    "slideshow": {
     "slide_type": "slide"
    }
   },
   "source": [
    "然后创建两个 `Human2` 对象，然后调用一些方法："
   ]
  },
  {
   "cell_type": "code",
   "execution_count": 3,
   "metadata": {},
   "outputs": [
    {
     "name": "stdout",
     "output_type": "stream",
     "text": [
      "小白，很高兴见到您\n",
      "老王，很高兴见到您\n"
     ]
    }
   ],
   "source": [
    "oldwang = Human2('老王', 42, 178)\n",
    "xiaobai = Human2('小白', 22, 182)\n",
    "oldwang.say_hello(xiaobai)\n",
    "xiaobai.say_hello(oldwang)"
   ]
  },
  {
   "cell_type": "markdown",
   "metadata": {
    "slideshow": {
     "slide_type": "slide"
    }
   },
   "source": [
    "可以访问与修改 `Human2`对象的普通属性，但不能访问私有属性，否则会引发`AtrributeError`异常："
   ]
  },
  {
   "cell_type": "code",
   "execution_count": 73,
   "metadata": {},
   "outputs": [
    {
     "name": "stdout",
     "output_type": "stream",
     "text": [
      "43\n"
     ]
    },
    {
     "ename": "AttributeError",
     "evalue": "'Human' object has no attribute '__name'",
     "output_type": "error",
     "traceback": [
      "\u001b[1;31m---------------------------------------------------------------------------\u001b[0m",
      "\u001b[1;31mAttributeError\u001b[0m                            Traceback (most recent call last)",
      "\u001b[1;32m<ipython-input-73-232a96dd07a7>\u001b[0m in \u001b[0;36m<module>\u001b[1;34m()\u001b[0m\n\u001b[0;32m      1\u001b[0m \u001b[0moldwang\u001b[0m\u001b[1;33m.\u001b[0m\u001b[0mage\u001b[0m \u001b[1;33m+=\u001b[0m \u001b[1;36m1\u001b[0m\u001b[1;33m\u001b[0m\u001b[0m\n\u001b[0;32m      2\u001b[0m \u001b[0mprint\u001b[0m\u001b[1;33m(\u001b[0m\u001b[0moldwang\u001b[0m\u001b[1;33m.\u001b[0m\u001b[0mage\u001b[0m\u001b[1;33m)\u001b[0m\u001b[1;33m\u001b[0m\u001b[0m\n\u001b[1;32m----> 3\u001b[1;33m \u001b[0moldwang\u001b[0m\u001b[1;33m.\u001b[0m\u001b[0m__name\u001b[0m\u001b[1;33m\u001b[0m\u001b[0m\n\u001b[0m",
      "\u001b[1;31mAttributeError\u001b[0m: 'Human' object has no attribute '__name'"
     ]
    }
   ],
   "source": [
    "oldwang.age += 1\n",
    "print(oldwang.age)\n",
    "oldwang.__name"
   ]
  },
  {
   "cell_type": "markdown",
   "metadata": {
    "slideshow": {
     "slide_type": "slide"
    }
   },
   "source": [
    "使用类的封装技术就可以保护对象的数据，使得外部代码不能随意修改对象内部属性，代码也会更加健壮。很多时候还是需要提供访问内部数据的场景，通过增加对应的接口方法即可。下面重新定义 `Human2` 类:"
   ]
  },
  {
   "cell_type": "code",
   "execution_count": 74,
   "metadata": {
    "slideshow": {
     "slide_type": "slide"
    }
   },
   "outputs": [],
   "source": [
    "class Human2():\n",
    "    \"\"\"\\\n",
    "    Human2(name, age, height)  -> person\n",
    "    Human2(name, age, height, gender='Male)  -> person\n",
    "\n",
    "    Create a person by a name, age, height, gender\n",
    "    \"\"\"\n",
    "    def __init__(self, name, age, height, gender='Male'):\n",
    "        self.__name = name\n",
    "        self.age = age\n",
    "        self.height = height\n",
    "        self.__gender = gender\n",
    "    \n",
    "    def get_name(self):\n",
    "        return self.__name\n",
    "    \n",
    "    def get_gender(self):\n",
    "        return self.__gender\n",
    "    \n",
    "    def introduce_myself(self):\n",
    "        \"\"\"introduce myself\"\"\"\n",
    "        print('我是{0}，今年{1}岁了'.format(self.__name, self.age))\n",
    "    \n",
    "    def say_hello(self, other):\n",
    "        \"\"\"say hello to the other person\"\"\"\n",
    "        print('{0}，很高兴见到您'.format(other.__name))\n",
    "    \n",
    "    def fight(self, other):\n",
    "        \"\"\"fight if win\"\"\"\n",
    "        if self.height >= other.height:\n",
    "            print('{0}，我赢了'.format(other.__name))\n",
    "        else:\n",
    "            print('{0}，我输了'.format(other.__name))\n",
    "            \n",
    "    def __repr__(self):\n",
    "        return 'Human2({0.__name!r}, {0.age!r}, {0.height!r}, {0.__gender!r})'.format(self)\n",
    "    \n",
    "    def __str__(self):\n",
    "        return '{0.__name!r}'.format(self)"
   ]
  },
  {
   "cell_type": "code",
   "execution_count": 75,
   "metadata": {
    "slideshow": {
     "slide_type": "slide"
    }
   },
   "outputs": [
    {
     "data": {
      "text/plain": [
       "'老王'"
      ]
     },
     "execution_count": 75,
     "metadata": {},
     "output_type": "execute_result"
    }
   ],
   "source": [
    "oldwang = Human2('老王', 42, 178)\n",
    "oldwang.get_name()"
   ]
  },
  {
   "cell_type": "markdown",
   "metadata": {},
   "source": [
    "使用这种方法，实现了对内部属性`__name`的只读操作。不过，使用 Python 内置的装饰器函数 `property()` 可以更优雅地实现内部属性的“只读”、“只写”、“读写”等灵活操作。下面再次重新定义 `Human2` 类:"
   ]
  },
  {
   "cell_type": "code",
   "execution_count": 25,
   "metadata": {},
   "outputs": [],
   "source": [
    "class Human2():\n",
    "    \"\"\"\\\n",
    "    Human2(name, age, height)  -> person\n",
    "    Human2(name, age, height, gender='Male)  -> person\n",
    "\n",
    "    Create a person by a name, age, height, gender\n",
    "    \"\"\"\n",
    "    def __init__(self, name, age, height, gender='Male'):\n",
    "        self.__name = name\n",
    "        self.__age = age\n",
    "        self.__height = height\n",
    "        self.__gender = gender\n",
    "    \n",
    "    @property\n",
    "    def name(self):\n",
    "        return self.__name\n",
    "    \n",
    "    @property\n",
    "    def gender(self):\n",
    "        return self.__gender\n",
    "    \n",
    "    @property\n",
    "    def age(self):\n",
    "        return self.__age\n",
    "    \n",
    "    @age.setter\n",
    "    def age(self, age):\n",
    "        if isinstance(age, int):\n",
    "            self.__age = age\n",
    "    \n",
    "    @age.deleter\n",
    "    def age(self):\n",
    "        del self.__age\n",
    "    \n",
    "    @property\n",
    "    def height(self):\n",
    "        return self.__height\n",
    "    \n",
    "    def introduce_myself(self):\n",
    "        \"\"\"introduce myself\"\"\"\n",
    "        print('我是{0}，今年{1}岁了'.format(self.name, self.age))\n",
    "    \n",
    "    def say_hello(self, other):\n",
    "        \"\"\"say hello to the other person\"\"\"\n",
    "        print('{0}，很高兴见到您'.format(other.name))\n",
    "    \n",
    "    def fight(self, other):\n",
    "        \"\"\"fight if win\"\"\"\n",
    "        if self.height >= other.height:\n",
    "            print('{0}，我赢了'.format(other.name))\n",
    "        else:\n",
    "            print('{0}，我输了'.format(other.name))\n",
    "            \n",
    "    def __repr__(self):\n",
    "        return 'Human2({0.name!r}, {0.age!r}, {0.height!r}, {0.gender!r})'.format(self)\n",
    "    \n",
    "    def __str__(self):\n",
    "        return '{0.name!r}'.format(self)"
   ]
  },
  {
   "cell_type": "markdown",
   "metadata": {
    "slideshow": {
     "slide_type": "slide"
    }
   },
   "source": [
    "在上述代码中，使用装饰器函数`property()`创建可读特性`name`，`age`等。每个创建的特性都包含`getter`, `setter`与`deleter`等属性。\n",
    "\n",
    "如果定义只读属性，可以使用如下语法：\n",
    "```python\n",
    "    @property\n",
    "    def name(self):\n",
    "        return self.__name\n",
    "```\n",
    "\n",
    "如果还需要定义可写属性，再定义属性的`setter`方法即可：\n",
    "```python\n",
    "    \n",
    "    @property\n",
    "    def age(self):\n",
    "        return self.__age\n",
    "    \n",
    "    @age.setter\n",
    "    def age(self, age):\n",
    "        if isinstance(age, int):\n",
    "            self.__age = age\n",
    "```"
   ]
  },
  {
   "cell_type": "code",
   "execution_count": 26,
   "metadata": {},
   "outputs": [
    {
     "name": "stdout",
     "output_type": "stream",
     "text": [
      "小白，很高兴见到您\n",
      "老王，很高兴见到您\n"
     ]
    }
   ],
   "source": [
    "oldwang = Human2('老王', 42, 178)\n",
    "xiaobai = Human2('小白', 22, 182)\n",
    "oldwang.say_hello(xiaobai)\n",
    "xiaobai.say_hello(oldwang)"
   ]
  },
  {
   "cell_type": "code",
   "execution_count": 12,
   "metadata": {},
   "outputs": [
    {
     "name": "stdout",
     "output_type": "stream",
     "text": [
      "老王 28\n",
      "老王 29\n"
     ]
    }
   ],
   "source": [
    "# 查看\n",
    "print(oldwang.name, xiaobai.age)\n",
    "# 更改\n",
    "xiaobai.age += 1\n",
    "print(oldwang.name, xiaobai.age)"
   ]
  },
  {
   "cell_type": "code",
   "execution_count": 15,
   "metadata": {},
   "outputs": [
    {
     "data": {
      "text/plain": [
       "{'_Human2__age': 42,\n",
       " '_Human2__gender': 'Male',\n",
       " '_Human2__height': 178,\n",
       " '_Human2__name': '老王'}"
      ]
     },
     "execution_count": 15,
     "metadata": {},
     "output_type": "execute_result"
    }
   ],
   "source": [
    "oldwang.__dict__"
   ]
  },
  {
   "cell_type": "markdown",
   "metadata": {},
   "source": [
    "Python 包括一些内置函数来读写对象的属性\n",
    "- `getattr()` \n",
    "- `setattr()`\n",
    "- `delattr()`"
   ]
  },
  {
   "cell_type": "code",
   "execution_count": 17,
   "metadata": {},
   "outputs": [
    {
     "data": {
      "text/plain": [
       "'老王'"
      ]
     },
     "execution_count": 17,
     "metadata": {},
     "output_type": "execute_result"
    }
   ],
   "source": [
    "getattr(oldwang, 'name')"
   ]
  },
  {
   "cell_type": "code",
   "execution_count": 20,
   "metadata": {},
   "outputs": [
    {
     "data": {
      "text/plain": [
       "\"Human2('老王', 10, 178, 'Male')\""
      ]
     },
     "execution_count": 20,
     "metadata": {},
     "output_type": "execute_result"
    }
   ],
   "source": [
    "setattr(oldwang, 'age', 10)\n",
    "repr(oldwang)"
   ]
  },
  {
   "cell_type": "code",
   "execution_count": 29,
   "metadata": {},
   "outputs": [
    {
     "ename": "AttributeError",
     "evalue": "_Human2__age",
     "output_type": "error",
     "traceback": [
      "\u001b[1;31m---------------------------------------------------------------------------\u001b[0m",
      "\u001b[1;31mAttributeError\u001b[0m                            Traceback (most recent call last)",
      "\u001b[1;32m<ipython-input-29-82ef19cc2f98>\u001b[0m in \u001b[0;36m<module>\u001b[1;34m()\u001b[0m\n\u001b[1;32m----> 1\u001b[1;33m \u001b[0mdelattr\u001b[0m\u001b[1;33m(\u001b[0m\u001b[0moldwang\u001b[0m\u001b[1;33m,\u001b[0m \u001b[1;34m'age'\u001b[0m\u001b[1;33m)\u001b[0m\u001b[1;33m\u001b[0m\u001b[0m\n\u001b[0m",
      "\u001b[1;32m<ipython-input-25-149a5c36a966>\u001b[0m in \u001b[0;36mage\u001b[1;34m(self)\u001b[0m\n\u001b[0;32m     30\u001b[0m     \u001b[1;33m@\u001b[0m\u001b[0mage\u001b[0m\u001b[1;33m.\u001b[0m\u001b[0mdeleter\u001b[0m\u001b[1;33m\u001b[0m\u001b[0m\n\u001b[0;32m     31\u001b[0m     \u001b[1;32mdef\u001b[0m \u001b[0mage\u001b[0m\u001b[1;33m(\u001b[0m\u001b[0mself\u001b[0m\u001b[1;33m)\u001b[0m\u001b[1;33m:\u001b[0m\u001b[1;33m\u001b[0m\u001b[0m\n\u001b[1;32m---> 32\u001b[1;33m         \u001b[1;32mdel\u001b[0m \u001b[0mself\u001b[0m\u001b[1;33m.\u001b[0m\u001b[0m__age\u001b[0m\u001b[1;33m\u001b[0m\u001b[0m\n\u001b[0m\u001b[0;32m     33\u001b[0m \u001b[1;33m\u001b[0m\u001b[0m\n\u001b[0;32m     34\u001b[0m     \u001b[1;33m@\u001b[0m\u001b[0mproperty\u001b[0m\u001b[1;33m\u001b[0m\u001b[0m\n",
      "\u001b[1;31mAttributeError\u001b[0m: _Human2__age"
     ]
    }
   ],
   "source": [
    "delattr(oldwang, 'age')"
   ]
  }
 ],
 "metadata": {
  "celltoolbar": "Slideshow",
  "kernelspec": {
   "display_name": "Python 3",
   "language": "python",
   "name": "python3"
  },
  "language_info": {
   "codemirror_mode": {
    "name": "ipython",
    "version": 3
   },
   "file_extension": ".py",
   "mimetype": "text/x-python",
   "name": "python",
   "nbconvert_exporter": "python",
   "pygments_lexer": "ipython3",
   "version": "3.6.4"
  },
  "toc": {
   "base_numbering": 1,
   "nav_menu": {},
   "number_sections": true,
   "sideBar": true,
   "skip_h1_title": false,
   "title_cell": "Table of Contents",
   "title_sidebar": "Contents",
   "toc_cell": false,
   "toc_position": {
    "height": "calc(100% - 180px)",
    "left": "10px",
    "top": "150px",
    "width": "183px"
   },
   "toc_section_display": true,
   "toc_window_display": true
  }
 },
 "nbformat": 4,
 "nbformat_minor": 1
}
