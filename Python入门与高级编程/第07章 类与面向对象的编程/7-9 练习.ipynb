{
 "cells": [
  {
   "cell_type": "markdown",
   "metadata": {},
   "source": [
    "# 练习（exercise）"
   ]
  },
  {
   "cell_type": "markdown",
   "metadata": {},
   "source": [
    "## 股票类定义"
   ]
  },
  {
   "cell_type": "markdown",
   "metadata": {},
   "source": [
    "列出一个股票的特征和操作：\n",
    "\n",
    "特征：\n",
    "- 代码（code），例如600282,603300\n",
    "- 名称（name），例如南钢股份、华铁科技\n",
    "- 上市日期（listing_date）\n",
    "- issue_price\n",
    "- history_high_price\n",
    "- history_low_price\n",
    "\n",
    "\n",
    "操作：\n",
    "- 根据当前价格，计算最大盈利以及年化收益率；\n",
    "- 设置历史最低价\n",
    "- 设置历史最高价"
   ]
  },
  {
   "cell_type": "code",
   "execution_count": 1,
   "metadata": {},
   "outputs": [],
   "source": [
    "class StocksManager():\n",
    "    \"\"\"stock\"\"\"\n",
    "    def __init__(self, code, name, listing_date, issue_price):\n",
    "        self.code = code\n",
    "        self.name = name\n",
    "        self.listing_date = listing_date\n",
    "        self.issue_price = issue_price\n",
    "        self.history_high_price = None\n",
    "        self.history_low_price = None\n",
    "        \n",
    "    def set_history_high_price(self, price):\n",
    "        self.history_high_price = price\n",
    "        \n",
    "    def set_history_low_price(self, price):\n",
    "        self.history_low_price = price\n",
    "        \n",
    "    def set_history_price(self, high_price, low_price):\n",
    "        self.history_high_price = high_price\n",
    "        self.history_low_price = low_price\n",
    "        \n",
    "    def interest(self, current_date, current_price):\n",
    "        return (current_price / self.issue_price - 1) * 100               "
   ]
  },
  {
   "cell_type": "code",
   "execution_count": 2,
   "metadata": {},
   "outputs": [],
   "source": [
    "stockA = StocksManager(441320, '贵州茅台', 19970112, 34.2)"
   ]
  },
  {
   "cell_type": "code",
   "execution_count": 3,
   "metadata": {},
   "outputs": [
    {
     "data": {
      "text/plain": [
       "11438.654970760233"
      ]
     },
     "execution_count": 3,
     "metadata": {},
     "output_type": "execute_result"
    }
   ],
   "source": [
    "stockA.interest(20180718, 3946.22)"
   ]
  },
  {
   "cell_type": "code",
   "execution_count": 4,
   "metadata": {},
   "outputs": [],
   "source": [
    "stockA.set_history_high_price(4212.01)"
   ]
  },
  {
   "cell_type": "code",
   "execution_count": 5,
   "metadata": {},
   "outputs": [
    {
     "data": {
      "text/plain": [
       "4212.01"
      ]
     },
     "execution_count": 5,
     "metadata": {},
     "output_type": "execute_result"
    }
   ],
   "source": [
    "stockA.history_high_price"
   ]
  },
  {
   "cell_type": "code",
   "execution_count": 6,
   "metadata": {},
   "outputs": [],
   "source": [
    "stockA.set_history_low_price(20.0)"
   ]
  },
  {
   "cell_type": "code",
   "execution_count": 7,
   "metadata": {},
   "outputs": [
    {
     "data": {
      "text/plain": [
       "<__main__.StocksManager at 0x7fd1584c3cc0>"
      ]
     },
     "execution_count": 7,
     "metadata": {},
     "output_type": "execute_result"
    }
   ],
   "source": [
    "stockA"
   ]
  },
  {
   "cell_type": "code",
   "execution_count": 9,
   "metadata": {},
   "outputs": [],
   "source": [
    "stockA.set_history_price(4312, 20)"
   ]
  }
 ],
 "metadata": {
  "kernelspec": {
   "display_name": "Python 3",
   "language": "python",
   "name": "python3"
  },
  "language_info": {
   "codemirror_mode": {
    "name": "ipython",
    "version": 3
   },
   "file_extension": ".py",
   "mimetype": "text/x-python",
   "name": "python",
   "nbconvert_exporter": "python",
   "pygments_lexer": "ipython3",
   "version": "3.6.4"
  },
  "toc": {
   "base_numbering": 1,
   "nav_menu": {},
   "number_sections": true,
   "sideBar": true,
   "skip_h1_title": false,
   "title_cell": "Table of Contents",
   "title_sidebar": "Contents",
   "toc_cell": false,
   "toc_position": {},
   "toc_section_display": true,
   "toc_window_display": false
  }
 },
 "nbformat": 4,
 "nbformat_minor": 2
}
