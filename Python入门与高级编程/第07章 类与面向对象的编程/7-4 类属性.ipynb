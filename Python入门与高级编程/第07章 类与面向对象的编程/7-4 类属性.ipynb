{
 "cells": [
  {
   "cell_type": "markdown",
   "metadata": {
    "slideshow": {
     "slide_type": "slide"
    }
   },
   "source": [
    "# 类属性、类方法与静态方法\n",
    "\n",
    "本节介绍类属性、类方法与静态方法的定义和使用。"
   ]
  },
  {
   "cell_type": "markdown",
   "metadata": {
    "slideshow": {
     "slide_type": "slide"
    }
   },
   "source": [
    "## 类属性\n",
    "\n",
    "类是对象的抽象、对象是类的实例。使用 `class` 语句来自定义类，在前面自定义类一节中，当类定义完毕后，就可以来创建类的实例，即对象。对象包括有属性与方法。同时我们知道，类也是对象，那意味着类也可以拥有属性。"
   ]
  },
  {
   "cell_type": "markdown",
   "metadata": {
    "slideshow": {
     "slide_type": "slide"
    }
   },
   "source": [
    "下面来自定义一个狗（`Dog`）类，定义的属性与方法包括：\n",
    "- `name`，名字\n",
    "- `tricks`，小把戏\n",
    "- `add_trick`，添加小把戏\n",
    "\n",
    "此外，还为`Dog`类添加了类的属性`kind`，用于说明狗的种类。代码如下所示："
   ]
  },
  {
   "cell_type": "code",
   "execution_count": 1,
   "metadata": {
    "slideshow": {
     "slide_type": "slide"
    }
   },
   "outputs": [],
   "source": [
    "class Dog():\n",
    "    \"\"\"class for Dog\"\"\"\n",
    "    kind = 'canine'\n",
    "\n",
    "    def __init__(self, name):\n",
    "        self.name = name\n",
    "        self.tricks = []\n",
    "\n",
    "    def add_trick(self, trick):\n",
    "        \"\"\"add a trick\"\"\"\n",
    "        self.tricks.append(trick)"
   ]
  },
  {
   "cell_type": "markdown",
   "metadata": {
    "slideshow": {
     "slide_type": "slide"
    }
   },
   "source": [
    "与定义对象属性差别之处在于，类属性 `kind` 是在类语句块定义，而非方法中定义。类的属性可以直接使用类变量来访问："
   ]
  },
  {
   "cell_type": "code",
   "execution_count": 2,
   "metadata": {
    "slideshow": {
     "slide_type": "-"
    }
   },
   "outputs": [
    {
     "data": {
      "text/plain": [
       "'canine'"
      ]
     },
     "execution_count": 2,
     "metadata": {},
     "output_type": "execute_result"
    }
   ],
   "source": [
    "Dog.kind"
   ]
  },
  {
   "cell_type": "markdown",
   "metadata": {
    "slideshow": {
     "slide_type": "slide"
    }
   },
   "source": [
    "当使用类创造实例对象，还可以使用对象来访问该类属性："
   ]
  },
  {
   "cell_type": "code",
   "execution_count": 3,
   "metadata": {
    "slideshow": {
     "slide_type": "-"
    }
   },
   "outputs": [
    {
     "name": "stdout",
     "output_type": "stream",
     "text": [
      "canine\n",
      "canine\n"
     ]
    }
   ],
   "source": [
    "dog1 = Dog('Fido')\n",
    "dog2 = Dog('Buddy')\n",
    "print(dog1.kind)\n",
    "print(dog2.kind)"
   ]
  },
  {
   "cell_type": "markdown",
   "metadata": {
    "slideshow": {
     "slide_type": "slide"
    }
   },
   "source": [
    "要注意的是，`kind` 不是狗对象的属性。查看实例对象的魔术属性 `__dict__` 可一探究竟："
   ]
  },
  {
   "cell_type": "code",
   "execution_count": 5,
   "metadata": {
    "slideshow": {
     "slide_type": "-"
    }
   },
   "outputs": [
    {
     "name": "stdout",
     "output_type": "stream",
     "text": [
      "False\n",
      "{'name': 'Fido', 'tricks': []}\n"
     ]
    }
   ],
   "source": [
    "print('kind' in dog1.__dict__)\n",
    "print(dog1.__dict__)"
   ]
  },
  {
   "cell_type": "markdown",
   "metadata": {
    "slideshow": {
     "slide_type": "slide"
    }
   },
   "source": [
    " 访问 `dog1.kind` 时，如果实例对象中没有该属性，会去查找类的属性。所以尽管可以通过对象来访问类属性，但二者是不同的。例如在实例对象中添加同名属性 `kind`："
   ]
  },
  {
   "cell_type": "code",
   "execution_count": 6,
   "metadata": {
    "slideshow": {
     "slide_type": "-"
    }
   },
   "outputs": [],
   "source": [
    "dog1.kind = 'pet'"
   ]
  },
  {
   "cell_type": "markdown",
   "metadata": {
    "slideshow": {
     "slide_type": "slide"
    }
   },
   "source": [
    "就可以看出类属性与实例属性的差异："
   ]
  },
  {
   "cell_type": "code",
   "execution_count": 7,
   "metadata": {
    "slideshow": {
     "slide_type": "-"
    }
   },
   "outputs": [
    {
     "name": "stdout",
     "output_type": "stream",
     "text": [
      "canine pet\n",
      "{'name': 'Fido', 'tricks': [], 'kind': 'pet'}\n"
     ]
    }
   ],
   "source": [
    "print(Dog.kind, dog1.kind)\n",
    "print(dog1.__dict__)"
   ]
  },
  {
   "cell_type": "markdown",
   "metadata": {
    "slideshow": {
     "slide_type": "slide"
    }
   },
   "source": [
    "在使用内置函数 `dir()` 列出对象的属性和方法时，同样用到上述操作：\n",
    "- 对于模块对象，会列出模块的属性；\n",
    "- 对于类，会列出类及其父类的属性；\n",
    "- 对于其它对象，会列出自身属性，所属类及其父类的属性。"
   ]
  },
  {
   "cell_type": "markdown",
   "metadata": {},
   "source": [
    "下面语句会分别列出来自狗实例与狗类的成员："
   ]
  },
  {
   "cell_type": "code",
   "execution_count": 8,
   "metadata": {
    "slideshow": {
     "slide_type": "slide"
    }
   },
   "outputs": [
    {
     "name": "stdout",
     "output_type": "stream",
     "text": [
      "{'__new__', '__eq__', '__dict__', '__reduce__', '__hash__', '__lt__', '__le__', '__getattribute__', '__subclasshook__', '__dir__', '__str__', '__ne__', '__weakref__', '__module__', 'add_trick', 'kind', '__delattr__', '__class__', '__setattr__', '__ge__', '__init__', '__reduce_ex__', '__sizeof__', '__repr__', '__init_subclass__', '__format__', '__doc__', '__gt__'}\n",
      "{'tricks', 'name'}\n"
     ]
    }
   ],
   "source": [
    "dog_class_attributes = set(dir(Dog))\n",
    "dog_obj_attributes = set(dir(dog2)) - set(dir(Dog))\n",
    "print(dog_obj_attributes)\n",
    "print(dog_class_attributes)"
   ]
  },
  {
   "cell_type": "markdown",
   "metadata": {
    "slideshow": {
     "slide_type": "slide"
    }
   },
   "source": [
    "由上可知，当使用 `.` 来获取对象属性时，是按照深度优先方法来查找的。下面用一个面试题来说明类属性，首先定义三个类，并打印出类的属性："
   ]
  },
  {
   "cell_type": "code",
   "execution_count": 11,
   "metadata": {
    "slideshow": {
     "slide_type": "slide"
    }
   },
   "outputs": [
    {
     "name": "stdout",
     "output_type": "stream",
     "text": [
      "1 1 1\n"
     ]
    }
   ],
   "source": [
    "class A():\n",
    "    x = 1\n",
    "    \n",
    "class B(A):\n",
    "    pass\n",
    "    \n",
    "class C(A):\n",
    "    pass\n",
    "\n",
    "print(A.x, B.x, C.x)"
   ]
  },
  {
   "cell_type": "markdown",
   "metadata": {
    "slideshow": {
     "slide_type": "slide"
    }
   },
   "source": [
    "可知子类 `B` 与 `C` 的属性都是来自父类。下面更改子类 `B` 的属性，并打印它们的属性："
   ]
  },
  {
   "cell_type": "code",
   "execution_count": 12,
   "metadata": {
    "slideshow": {
     "slide_type": "-"
    }
   },
   "outputs": [
    {
     "name": "stdout",
     "output_type": "stream",
     "text": [
      "1 2 1\n"
     ]
    }
   ],
   "source": [
    "B.x = 2\n",
    "print(A.x, B.x, C.x)"
   ]
  },
  {
   "cell_type": "markdown",
   "metadata": {
    "slideshow": {
     "slide_type": "slide"
    }
   },
   "source": [
    "此时 `B.x` 访问的是子类 `B` 自身属性，子类 `C.x` 访问的仍然是父类的属性。再来更改父类的属性："
   ]
  },
  {
   "cell_type": "code",
   "execution_count": 13,
   "metadata": {
    "slideshow": {
     "slide_type": "-"
    }
   },
   "outputs": [
    {
     "name": "stdout",
     "output_type": "stream",
     "text": [
      "3 2 3\n"
     ]
    }
   ],
   "source": [
    "A.x = 3\n",
    "print(A.x, B.x, C.x)"
   ]
  },
  {
   "cell_type": "markdown",
   "metadata": {
    "slideshow": {
     "slide_type": "slide"
    }
   },
   "source": [
    "父类属性更改后，`A.x`, `C.x` 访问的是父类的属性, `B.x` 访问的则是其自身属性，并没有任何改变。"
   ]
  },
  {
   "cell_type": "markdown",
   "metadata": {
    "slideshow": {
     "slide_type": "slide"
    }
   },
   "source": [
    "## 类方法 （`classmethod`）\n",
    "\n",
    "使用 Python 内置函数`classmethod()`，可以实现与类属性的一样的类方法，也就是把方法绑定到类而非实例。`classmethod()`是一个装饰器函数，在定义类的方法是，使用装饰器语法就可以把方法转换为类方法："
   ]
  },
  {
   "cell_type": "code",
   "execution_count": 17,
   "metadata": {
    "slideshow": {
     "slide_type": "slide"
    }
   },
   "outputs": [],
   "source": [
    "class Dog2():\n",
    "    \"\"\"class for Dog\"\"\"\n",
    "    kind = 'canine'\n",
    "\n",
    "    @classmethod\n",
    "    def get_kind(cls):\n",
    "        return cls.kind\n",
    "    \n",
    "    def __init__(self, name):\n",
    "        self.name = name\n",
    "        self.tricks = []\n",
    "\n",
    "    def add_trick(self, trick):\n",
    "        \"\"\"add a trick\"\"\"\n",
    "        self.tricks.append(trick)"
   ]
  },
  {
   "cell_type": "markdown",
   "metadata": {
    "slideshow": {
     "slide_type": "slide"
    }
   },
   "source": [
    "在使用`@classmethod`装饰器来定义类方法时，习惯把第一个参数使用`cls`来表示类对象。同样类方法，可以使用类名或来实例来调用："
   ]
  },
  {
   "cell_type": "code",
   "execution_count": 18,
   "metadata": {
    "slideshow": {
     "slide_type": "-"
    }
   },
   "outputs": [
    {
     "name": "stdout",
     "output_type": "stream",
     "text": [
      "canine\n",
      "canine\n",
      "canine\n"
     ]
    }
   ],
   "source": [
    "dog1 = Dog2('Fido')\n",
    "dog2 = Dog2('Buddy')\n",
    "print(Dog2.get_kind())\n",
    "print(dog1.get_kind())\n",
    "print(dog2.get_kind())"
   ]
  },
  {
   "cell_type": "markdown",
   "metadata": {
    "slideshow": {
     "slide_type": "slide"
    }
   },
   "source": [
    "## 静态方法（`staticmethod`）\n",
    "\n",
    "与类方法类似，使用 Python 内置函数`staticmethod()`，可定义类的静态方法，也就是把方法绑定到类而非实例。\n",
    "\n",
    "使用 `@staticmethod` 装饰器来定义静态方法时，不需要传入 `self` 参数。使用静态方法的好处包括：\n",
    "- 静态方法不用绑定到实例化对象。\n",
    "- 代码可读性更高，静态方法不依赖与对象状态"
   ]
  },
  {
   "cell_type": "code",
   "execution_count": 19,
   "metadata": {
    "slideshow": {
     "slide_type": "slide"
    }
   },
   "outputs": [],
   "source": [
    "class Dog3():\n",
    "    \"\"\"class for Dog\"\"\"\n",
    "    kind = 'canine'\n",
    "\n",
    "    @classmethod\n",
    "    def get_kind(cls):\n",
    "        return cls.kind\n",
    "\n",
    "    def __init__(self, name):\n",
    "        self.name = name\n",
    "        self.tricks = []\n",
    "\n",
    "    def add_trick(self, trick):\n",
    "        \"\"\"add a trick\"\"\"\n",
    "        self.tricks.append(trick)\n",
    "        \n",
    "    @staticmethod\n",
    "    def add(x, y):\n",
    "        return x + y"
   ]
  },
  {
   "cell_type": "markdown",
   "metadata": {
    "slideshow": {
     "slide_type": "slide"
    }
   },
   "source": [
    "对于静态方法，可以通过类名或实例对象来调用："
   ]
  },
  {
   "cell_type": "code",
   "execution_count": 20,
   "metadata": {
    "slideshow": {
     "slide_type": "-"
    }
   },
   "outputs": [
    {
     "name": "stdout",
     "output_type": "stream",
     "text": [
      "3\n",
      "3\n",
      "3\n"
     ]
    }
   ],
   "source": [
    "dog1 = Dog3('Fido')\n",
    "dog2 = Dog3('Buddy')\n",
    "print(Dog3.add(1, 2))\n",
    "print(dog1.add(1, 2))\n",
    "print(dog2.add(1, 2))"
   ]
  }
 ],
 "metadata": {
  "celltoolbar": "Slideshow",
  "kernelspec": {
   "display_name": "Python 3",
   "language": "python",
   "name": "python3"
  },
  "language_info": {
   "codemirror_mode": {
    "name": "ipython",
    "version": 3
   },
   "file_extension": ".py",
   "mimetype": "text/x-python",
   "name": "python",
   "nbconvert_exporter": "python",
   "pygments_lexer": "ipython3",
   "version": "3.6.4"
  },
  "toc": {
   "base_numbering": 1,
   "nav_menu": {},
   "number_sections": true,
   "sideBar": true,
   "skip_h1_title": false,
   "title_cell": "Table of Contents",
   "title_sidebar": "Contents",
   "toc_cell": false,
   "toc_position": {
    "height": "calc(100% - 180px)",
    "left": "10px",
    "top": "150px",
    "width": "226px"
   },
   "toc_section_display": true,
   "toc_window_display": false
  }
 },
 "nbformat": 4,
 "nbformat_minor": 2
}
