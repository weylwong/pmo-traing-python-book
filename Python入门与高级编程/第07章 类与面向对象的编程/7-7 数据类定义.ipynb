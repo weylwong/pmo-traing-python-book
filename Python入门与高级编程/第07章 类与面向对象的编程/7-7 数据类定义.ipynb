{
 "cells": [
  {
   "cell_type": "markdown",
   "metadata": {
    "slideshow": {
     "slide_type": "slide"
    }
   },
   "source": [
    "# 数据类定义实例\n",
    "\n",
    "在 Python 中万物皆对象，Python 提供了布尔数(bool)、整数(int)、浮点数(float)、复数(complex)等基本数据类型。在前面几节介绍如何使用 `class` 语句自定义一个类，也了解了面向对象的3个特性，封装、继承与多态。把 Python 内置的数据类型作为自己定义类的标杆，会提高自定义类的质量，反过来也能更好地理解 Python 的内置类型和运用。\n",
    "\n",
    "本节通过一个天体位置类实例来介绍数据类的定义和使用。"
   ]
  },
  {
   "cell_type": "markdown",
   "metadata": {},
   "source": [
    "## 定义天体位置类\n",
    "\n",
    "> “四方上下曰宇，往古来今曰宙\" -- 《尸子》\n",
    "\n",
    "世界万事万物都存在于时间和空间之中。在天文学中，一个天体在空间的位置可以使用直角坐标系的`(x,y,z)`来表示。天体位置类包括：\n",
    "- 有3个属性，为浮点数，不能更改；\n",
    "- 距离方法，返回2个位置之间的距离\n",
    "\n",
    "下面通过定义天体位置类来演示如何在 Python 中定义和使用数据类。"
   ]
  },
  {
   "cell_type": "code",
   "execution_count": 5,
   "metadata": {
    "slideshow": {
     "slide_type": "-"
    }
   },
   "outputs": [],
   "source": [
    "import math\n",
    "\n",
    "\n",
    "class AstroPosition(object):\n",
    "    \"\"\"\\\n",
    "    AstroPosition()  -> position\n",
    "    AstroPosition(x, y, z)  -> position\n",
    "\n",
    "    创建天文位置\n",
    "    \"\"\"\n",
    "    def __init__(self, x=0, y=0, z=0):\n",
    "        self.__x = float(x)\n",
    "        self.__y = float(y)\n",
    "        self.__z = float(z)\n",
    "\n",
    "    @property\n",
    "    def x(self):\n",
    "        return self.__x\n",
    "\n",
    "    @property\n",
    "    def y(self):\n",
    "        return self.__y\n",
    "\n",
    "    @property\n",
    "    def z(self):\n",
    "        return self.__z\n",
    "        \n",
    "    def __str__(self):\n",
    "        \"\"\"Return str(self).\"\"\"\n",
    "        return '(x={0.x}, y={0.y}, z={0.z})'.format(self)\n",
    "\n",
    "    def __repr__(self):\n",
    "        \"\"\"Return repr(self).\"\"\"\n",
    "        class_name = type(self).__name__\n",
    "        return '{0}({1.x}, {1.y}, {1.z})'.format(class_name, self)    \n",
    "    \n",
    "    def distance(self, pos):\n",
    "        \"\"\"计算两点之间的位置\"\"\"\n",
    "        dx = self.x - pos.x\n",
    "        dy = self.y - pos.y\n",
    "        dz = self.z - pos.z\n",
    "        return math.sqrt(dx*dx + dy*dy + dz*dz)"
   ]
  },
  {
   "cell_type": "markdown",
   "metadata": {
    "slideshow": {
     "slide_type": "-"
    }
   },
   "source": [
    "在上述代码中，定义了一个天文位置类，类名为`AstroPostion`，显式指定父类为`object`。定义了三个魔术方法和常规方法：\n",
    "- `__init__()`，输入直角坐标系位置；\n",
    "- `__str__()`，返回面向用户的对象字符串；\n",
    "- `__repr__()`，返回面向开发人员的对象的字符串。\n",
    "- `distance()`，返回两个位置之间的距离。\n",
    "\n",
    "此外还是用装饰器函数`property()`，定义了3个特性，并设置为只读。"
   ]
  },
  {
   "cell_type": "markdown",
   "metadata": {},
   "source": [
    "下面创建天文位置对象，并演示其使用："
   ]
  },
  {
   "cell_type": "code",
   "execution_count": 6,
   "metadata": {},
   "outputs": [
    {
     "data": {
      "text/plain": [
       "(AstroPosition(0.0, 0.0, 0.0),\n",
       " AstroPosition(3.0, 4.0, 5.0),\n",
       " AstroPosition(3.0, 4.0, -5.0))"
      ]
     },
     "execution_count": 6,
     "metadata": {},
     "output_type": "execute_result"
    }
   ],
   "source": [
    "p0 = AstroPosition()\n",
    "p1 = AstroPosition(3.0, 4.0, 5.0)\n",
    "p2 = AstroPosition(3.0, 4.0, -5.0)\n",
    "p0, p1, p2"
   ]
  },
  {
   "cell_type": "markdown",
   "metadata": {},
   "source": [
    "可以使用 Python 内置函数`str()`和`repr()`来返回对象字符串："
   ]
  },
  {
   "cell_type": "code",
   "execution_count": 7,
   "metadata": {},
   "outputs": [
    {
     "name": "stdout",
     "output_type": "stream",
     "text": [
      "(x=0.0, y=0.0, z=0.0) (x=3.0, y=4.0, z=5.0) (x=3.0, y=4.0, z=-5.0)\n",
      "AstroPosition(0.0, 0.0, 0.0) AstroPosition(3.0, 4.0, 5.0) AstroPosition(3.0, 4.0, -5.0)\n"
     ]
    }
   ],
   "source": [
    "print(str(p0), str(p1), str(p2))\n",
    "print(repr(p0), repr(p1), repr(p2))"
   ]
  },
  {
   "cell_type": "code",
   "execution_count": 8,
   "metadata": {},
   "outputs": [
    {
     "name": "stdout",
     "output_type": "stream",
     "text": [
      "10.0\n"
     ]
    }
   ],
   "source": [
    "print(p1.distance(p2))"
   ]
  },
  {
   "cell_type": "markdown",
   "metadata": {},
   "source": [
    "## 算术运算\n",
    "\n",
    "在类中通过定义魔术方法，可以使用相应的运算符来操作对象。下面列出算术运算符及其对应的魔术方法：\n",
    "\n",
    "|运算符 | 魔术方法    |  说明   |\n",
    "| :----:|:-------------| -------: |\n",
    "| `+`  | `__add__`    | 加法   |\n",
    "| `-`  | `__sub__`    | 减法   |\n",
    "| `*`  | `__mul__`    | 乘法   |\n",
    "| `/`  | `__truediv__` | 真除   |\n",
    "| `//` | `__floordiv__`| 地板除  |\n",
    "| `%`  | `__mod__`    | 求余   |\n",
    "| `**` | `__pow__`    | 求幂   |\n"
   ]
  },
  {
   "cell_type": "markdown",
   "metadata": {},
   "source": [
    "对于一个天文位置类而言，适合的算术运算有：\n",
    "- 加法，把两个位置相加得到新的位置；\n",
    "- 减法，把两个位置相减得到新的位置；\n",
    "* 乘法，使用一个因子，对位置放大；\n",
    "* 真除，使用一个因子，对位置进行缩小；\n",
    "\n",
    "下面在类中增加这些魔术方法："
   ]
  },
  {
   "cell_type": "code",
   "execution_count": 9,
   "metadata": {},
   "outputs": [],
   "source": [
    "class AstroPosition(object):\n",
    "    \"\"\"\\\n",
    "    AstroPosition()  -> position\n",
    "    AstroPosition(x, y, z)  -> position\n",
    "\n",
    "    创建天文位置\n",
    "    \"\"\"\n",
    "    def __init__(self, x=0, y=0, z=0):\n",
    "        self.__x = float(x)\n",
    "        self.__y = float(y)\n",
    "        self.__z = float(z)\n",
    "\n",
    "    @property\n",
    "    def x(self):\n",
    "        return self.__x\n",
    "\n",
    "    @property\n",
    "    def y(self):\n",
    "        return self.__y\n",
    "\n",
    "    @property\n",
    "    def z(self):\n",
    "        return self.__z\n",
    "        \n",
    "    def __str__(self):\n",
    "        \"\"\"Return str(self).\"\"\"\n",
    "        return '(x={0.x}, y={0.y}, z={0.z})'.format(self)\n",
    "\n",
    "    def __repr__(self):\n",
    "        \"\"\"Return repr(self).\"\"\"\n",
    "        class_name = type(self).__name__\n",
    "        return '{0}({1.x}, {1.y}, {1.z})'.format(class_name, self)    \n",
    "    \n",
    "    def distance(self, pos):\n",
    "        \"\"\"计算两点之间的位置\"\"\"\n",
    "        dx = self.x - pos.x\n",
    "        dy = self.y - pos.y\n",
    "        dz = self.z - pos.z\n",
    "        return math.sqrt(dx*dx + dy*dy + dz*dz)\n",
    "    \n",
    "    def __add__(self, pos):\n",
    "        \"\"\"Return self+pos.\"\"\"\n",
    "        return AstroPosition(self.x + pos.x, self.y + pos.y, self.z + pos.z)\n",
    "    \n",
    "    def __sub__(self, pos):\n",
    "        \"\"\"Return self-pos.\"\"\"\n",
    "        return AstroPosition(self.x - pos.x, self.y - pos.y, self.z - pos.z)\n",
    "    \n",
    "    def __mul__(self, scale):\n",
    "        \"\"\"Return self * scale.\"\"\"\n",
    "        return AstroPosition(self.x * scale, self.y * scale, self.z * scale)\n",
    "    \n",
    "    def __truediv__(self, scale):\n",
    "        \"\"\"Return self / scale.\"\"\"\n",
    "        return AstroPosition(self.x / scale, self.y / scale, self.z / scale)    "
   ]
  },
  {
   "cell_type": "markdown",
   "metadata": {},
   "source": [
    "下面创建天文位置对象，并演示算术运算操作："
   ]
  },
  {
   "cell_type": "code",
   "execution_count": 10,
   "metadata": {},
   "outputs": [],
   "source": [
    "p0 = AstroPosition()\n",
    "p1 = AstroPosition(3.0, 4.0, 5.0)\n",
    "p2 = AstroPosition(3.0, 4.0, -5.0)"
   ]
  },
  {
   "cell_type": "code",
   "execution_count": 11,
   "metadata": {},
   "outputs": [
    {
     "name": "stdout",
     "output_type": "stream",
     "text": [
      "(x=6.0, y=8.0, z=0.0)\n",
      "(x=0.0, y=0.0, z=10.0)\n",
      "(x=30.0, y=40.0, z=50.0)\n",
      "(x=0.3, y=0.4, z=0.5)\n"
     ]
    }
   ],
   "source": [
    "# 加法\n",
    "print(p1 + p2)\n",
    "# 减法\n",
    "print(p1 - p2)\n",
    "# 乘法\n",
    "print(p1 * 10)\n",
    "# 真除\n",
    "print(p1 / 10)"
   ]
  },
  {
   "cell_type": "markdown",
   "metadata": {},
   "source": [
    "显然，如果运行其它算术运算操作，则会跑出类型错误（`TypeError`） :"
   ]
  },
  {
   "cell_type": "code",
   "execution_count": 12,
   "metadata": {},
   "outputs": [
    {
     "ename": "TypeError",
     "evalue": "unsupported operand type(s) for //: 'AstroPosition' and 'float'",
     "output_type": "error",
     "traceback": [
      "\u001b[1;31m---------------------------------------------------------------------------\u001b[0m",
      "\u001b[1;31mTypeError\u001b[0m                                 Traceback (most recent call last)",
      "\u001b[1;32m<ipython-input-12-c438ce7f845e>\u001b[0m in \u001b[0;36m<module>\u001b[1;34m()\u001b[0m\n\u001b[1;32m----> 1\u001b[1;33m \u001b[0mp1\u001b[0m \u001b[1;33m//\u001b[0m \u001b[1;36m10.0\u001b[0m\u001b[1;33m\u001b[0m\u001b[0m\n\u001b[0m",
      "\u001b[1;31mTypeError\u001b[0m: unsupported operand type(s) for //: 'AstroPosition' and 'float'"
     ]
    }
   ],
   "source": [
    "p1 // 10.0"
   ]
  },
  {
   "cell_type": "markdown",
   "metadata": {},
   "source": [
    "## 一元运算\n",
    "\n",
    "Python 还包括有一元运算符\n",
    "\n",
    "|运算符  | 魔术方法    |  说明   |\n",
    "| :-----:|:-------------| -------: |\n",
    "| `-`   | `__neg__`   | 取负    |\n",
    "| `+`   | `__pos__`   | 取正   |\n",
    "| `abs()`| `__abs__`   | 求绝对值 |\n",
    "\n",
    "对于天文位置对象，可以使用取负、取正运算。绝对值运算则对应了位置与原点之间的距离："
   ]
  },
  {
   "cell_type": "code",
   "execution_count": null,
   "metadata": {},
   "outputs": [],
   "source": [
    "class AstroPosition(object):\n",
    "    \"\"\"\\\n",
    "    AstroPosition()  -> position\n",
    "    AstroPosition(x, y, z)  -> position\n",
    "\n",
    "    创建天文位置\n",
    "    \"\"\"\n",
    "    def __init__(self, x=0, y=0, z=0):\n",
    "        self.__x = float(x)\n",
    "        self.__y = float(y)\n",
    "        self.__z = float(z)\n",
    "\n",
    "    @property\n",
    "    def x(self):\n",
    "        return self.__x\n",
    "\n",
    "    @property\n",
    "    def y(self):\n",
    "        return self.__y\n",
    "\n",
    "    @property\n",
    "    def z(self):\n",
    "        return self.__z\n",
    "        \n",
    "    def __str__(self):\n",
    "        \"\"\"Return str(self).\"\"\"\n",
    "        return '(x={0.x}, y={0.y}, z={0.z})'.format(self)\n",
    "\n",
    "    def __repr__(self):\n",
    "        \"\"\"Return repr(self).\"\"\"\n",
    "        class_name = type(self).__name__\n",
    "        return '{0}({1.x}, {1.y}, {1.z})'.format(class_name, self)    \n",
    "    \n",
    "    def distance(self, pos):\n",
    "        \"\"\"计算两点之间的位置\"\"\"\n",
    "        dx = self.x - pos.x\n",
    "        dy = self.y - pos.y\n",
    "        dz = self.z - pos.z\n",
    "        return math.sqrt(dx*dx + dy*dy + dz*dz)\n",
    "    \n",
    "    def __add__(self, pos):\n",
    "        \"\"\"Return self+pos.\"\"\"\n",
    "        return AstroPosition(self.x + pos.x, self.y + pos.y, self.z + pos.z)\n",
    "    \n",
    "    def __sub__(self, pos):\n",
    "        \"\"\"Return self-pos.\"\"\"\n",
    "        return AstroPosition(self.x - pos.x, self.y - pos.y, self.z - pos.z)\n",
    "    \n",
    "    def __mul__(self, scale):\n",
    "        \"\"\"Return self * scale.\"\"\"\n",
    "        return AstroPosition(self.x * scale, self.y * scale, self.z * scale)\n",
    "    \n",
    "    def __truediv__(self, scale):\n",
    "        \"\"\"Return self / scale.\"\"\"\n",
    "        return AstroPosition(self.x / scale, self.y / scale, self.z / scale)   \n",
    "    \n",
    "    def __neg__(self):\n",
    "        \"\"\"-self\"\"\"\n",
    "        return AstroPosition(-self.x, -self.y, -self.z)\n",
    "    \n",
    "    def __pos__(self):\n",
    "        \"\"\"+self\"\"\"\n",
    "        return self        \n",
    "    \n",
    "    def __abs__(self):\n",
    "        \"\"\"abs(self)\"\"\"\n",
    "        return math.sqrt(self.x*self.x + self.y*self.y + self.z*self.z)"
   ]
  },
  {
   "cell_type": "markdown",
   "metadata": {},
   "source": [
    "下面创建几个天文位置对象，并演示一元运算符操作："
   ]
  },
  {
   "cell_type": "code",
   "execution_count": 13,
   "metadata": {},
   "outputs": [],
   "source": [
    "p0 = AstroPosition()\n",
    "p1 = AstroPosition(3.0, 4.0, 5.0)\n",
    "p2 = AstroPosition(3.0, 4.0, -5.0)"
   ]
  },
  {
   "cell_type": "code",
   "execution_count": 14,
   "metadata": {},
   "outputs": [
    {
     "ename": "TypeError",
     "evalue": "bad operand type for unary -: 'AstroPosition'",
     "output_type": "error",
     "traceback": [
      "\u001b[1;31m---------------------------------------------------------------------------\u001b[0m",
      "\u001b[1;31mTypeError\u001b[0m                                 Traceback (most recent call last)",
      "\u001b[1;32m<ipython-input-14-1f6c86586f90>\u001b[0m in \u001b[0;36m<module>\u001b[1;34m()\u001b[0m\n\u001b[0;32m      1\u001b[0m \u001b[1;31m# 取负\u001b[0m\u001b[1;33m\u001b[0m\u001b[1;33m\u001b[0m\u001b[0m\n\u001b[1;32m----> 2\u001b[1;33m \u001b[0mprint\u001b[0m\u001b[1;33m(\u001b[0m\u001b[1;33m-\u001b[0m\u001b[0mp1\u001b[0m\u001b[1;33m)\u001b[0m\u001b[1;33m\u001b[0m\u001b[0m\n\u001b[0m\u001b[0;32m      3\u001b[0m \u001b[1;31m# 取正\u001b[0m\u001b[1;33m\u001b[0m\u001b[1;33m\u001b[0m\u001b[0m\n\u001b[0;32m      4\u001b[0m \u001b[0mprint\u001b[0m\u001b[1;33m(\u001b[0m\u001b[1;33m+\u001b[0m\u001b[0mp1\u001b[0m\u001b[1;33m)\u001b[0m\u001b[1;33m\u001b[0m\u001b[0m\n\u001b[0;32m      5\u001b[0m \u001b[1;31m# 取绝对值\u001b[0m\u001b[1;33m\u001b[0m\u001b[1;33m\u001b[0m\u001b[0m\n",
      "\u001b[1;31mTypeError\u001b[0m: bad operand type for unary -: 'AstroPosition'"
     ]
    }
   ],
   "source": [
    "# 取负\n",
    "print(-p1)\n",
    "# 取正\n",
    "print(+p1)\n",
    "# 取绝对值\n",
    "print(abs(p1))"
   ]
  },
  {
   "cell_type": "markdown",
   "metadata": {},
   "source": [
    "## 反向算术运算\n",
    "\n",
    "一般来说，乘法符合交换律，即满足$a*b = b*a$。对于天文位置对象来说，已经定义了魔术方法`__mul__()`，可以实现与一个数字的乘法，例如："
   ]
  },
  {
   "cell_type": "code",
   "execution_count": 15,
   "metadata": {
    "slideshow": {
     "slide_type": "-"
    }
   },
   "outputs": [
    {
     "data": {
      "text/plain": [
       "AstroPosition(30.0, 40.0, 50.0)"
      ]
     },
     "execution_count": 15,
     "metadata": {},
     "output_type": "execute_result"
    }
   ],
   "source": [
    "p1 * 10"
   ]
  },
  {
   "cell_type": "markdown",
   "metadata": {
    "slideshow": {
     "slide_type": "slide"
    }
   },
   "source": [
    "然而反过来则会报错："
   ]
  },
  {
   "cell_type": "code",
   "execution_count": 16,
   "metadata": {
    "slideshow": {
     "slide_type": "-"
    }
   },
   "outputs": [
    {
     "ename": "TypeError",
     "evalue": "unsupported operand type(s) for *: 'int' and 'AstroPosition'",
     "output_type": "error",
     "traceback": [
      "\u001b[1;31m---------------------------------------------------------------------------\u001b[0m",
      "\u001b[1;31mTypeError\u001b[0m                                 Traceback (most recent call last)",
      "\u001b[1;32m<ipython-input-16-b238d334d50e>\u001b[0m in \u001b[0;36m<module>\u001b[1;34m()\u001b[0m\n\u001b[1;32m----> 1\u001b[1;33m \u001b[1;36m10\u001b[0m \u001b[1;33m*\u001b[0m \u001b[0mp1\u001b[0m\u001b[1;33m\u001b[0m\u001b[0m\n\u001b[0m",
      "\u001b[1;31mTypeError\u001b[0m: unsupported operand type(s) for *: 'int' and 'AstroPosition'"
     ]
    }
   ],
   "source": [
    "10 * p1"
   ]
  },
  {
   "cell_type": "markdown",
   "metadata": {},
   "source": [
    "在运行上述代码时，Python 会调用整数的`__mul__()`方法，不过该方法不支持与天文位置对象的乘法；如果在天文位置类中定义了反向运算魔术方法`__rmul__()`，那么 Python 则会尝试调用天文位置对象`__rmul__()`的方法；如果没有定义或不支持，那就只能抛出类错误（`TypeError`）了。类似`__rmul__()`的方法也称为右向运算魔术方法，包括：\n",
    "\n",
    "|运算符 | 魔术方法    |  说明      |\n",
    "| :----:|:-------------| ------------: |\n",
    "| `+`  | `__radd__`    | 加法右向操作 |\n",
    "| `-`  | `__rsub__`    | 减法右向操作 |\n",
    "| `*`  | `__rmul__`    | 乘法右向操作 |\n",
    "| `/`  | `__rtruediv__` | 除法右向操作 |\n",
    "| `//` | `__rfloordir__`| 除法右向操作 |\n",
    "| `%`  | `__rmod__`    | 求余右向操作 |\n",
    "| `**` | `__rpow__`    | 求幂右向操作 |\n",
    "\n",
    "下面在天文位置类中增加反向乘法魔术方法："
   ]
  },
  {
   "cell_type": "code",
   "execution_count": 17,
   "metadata": {},
   "outputs": [],
   "source": [
    "class AstroPosition(object):\n",
    "    \"\"\"\\\n",
    "    AstroPosition()  -> position\n",
    "    AstroPosition(x, y, z)  -> position\n",
    "\n",
    "    创建天文位置\n",
    "    \"\"\"\n",
    "    def __init__(self, x=0, y=0, z=0):\n",
    "        self.__x = float(x)\n",
    "        self.__y = float(y)\n",
    "        self.__z = float(z)\n",
    "\n",
    "    @property\n",
    "    def x(self):\n",
    "        return self.__x\n",
    "\n",
    "    @property\n",
    "    def y(self):\n",
    "        return self.__y\n",
    "\n",
    "    @property\n",
    "    def z(self):\n",
    "        return self.__z\n",
    "        \n",
    "    def __str__(self):\n",
    "        \"\"\"Return str(self).\"\"\"\n",
    "        return '(x={0.x}, y={0.y}, z={0.z})'.format(self)\n",
    "\n",
    "    def __repr__(self):\n",
    "        \"\"\"Return repr(self).\"\"\"\n",
    "        class_name = type(self).__name__\n",
    "        return '{0}({1.x}, {1.y}, {1.z})'.format(class_name, self)    \n",
    "    \n",
    "    def distance(self, pos):\n",
    "        \"\"\"计算两点之间的位置\"\"\"\n",
    "        dx = self.x - pos.x\n",
    "        dy = self.y - pos.y\n",
    "        dz = self.z - pos.z\n",
    "        return math.sqrt(dx*dx + dy*dy + dz*dz)\n",
    "    \n",
    "    def __add__(self, pos):\n",
    "        \"\"\"Return self + pos.\"\"\"\n",
    "        return AstroPosition(self.x + pos.x, self.y + pos.y, self.z + pos.z)\n",
    "    \n",
    "    def __sub__(self, pos):\n",
    "        \"\"\"Return self - pos.\"\"\"\n",
    "        return AstroPosition(self.x - pos.x, self.y - pos.y, self.z - pos.z)\n",
    "    \n",
    "    def __mul__(self, scale):\n",
    "        \"\"\"Return self * scale.\"\"\"\n",
    "        return AstroPosition(self.x * scale, self.y * scale, self.z * scale)\n",
    "    \n",
    "    def __truediv__(self, scale):\n",
    "        \"\"\"Return self / scale.\"\"\"\n",
    "        return AstroPosition(self.x / scale, self.y / scale, self.z / scale)   \n",
    "    \n",
    "    def __neg__(self):\n",
    "        \"\"\"-self\"\"\"\n",
    "        return AstroPosition(-self.x, -self.y, -self.z)\n",
    "    \n",
    "    def __pos__(self):\n",
    "        \"\"\"+self\"\"\"\n",
    "        return self        \n",
    "    \n",
    "    def __abs__(self):\n",
    "        \"\"\"abs(self)\"\"\"\n",
    "        return math.sqrt(self.x*self.x + self.y*self.y + self.z*self.z)\n",
    "    \n",
    "    def __rmul__(self, scale):\n",
    "        \"\"\"Return scale * self.\"\"\"\n",
    "        return self.__mul__(scale)   "
   ]
  },
  {
   "cell_type": "markdown",
   "metadata": {},
   "source": [
    "下面创建天文位置对象，并演示反向乘法运算操作："
   ]
  },
  {
   "cell_type": "code",
   "execution_count": 18,
   "metadata": {},
   "outputs": [],
   "source": [
    "p0 = AstroPosition()\n",
    "p1 = AstroPosition(3.0, 4.0, 5.0)\n",
    "p2 = AstroPosition(3.0, 4.0, -5.0)"
   ]
  },
  {
   "cell_type": "code",
   "execution_count": 19,
   "metadata": {},
   "outputs": [
    {
     "name": "stdout",
     "output_type": "stream",
     "text": [
      "(x=30.0, y=40.0, z=50.0)\n"
     ]
    }
   ],
   "source": [
    "print(10 * p1)"
   ]
  },
  {
   "cell_type": "markdown",
   "metadata": {},
   "source": [
    "##  增强赋值运算\n",
    "\n",
    "下表列出了增强型赋值运算符与对应的魔术方法：\n",
    "\n",
    "|运算符 | 魔术方法    |  说明   |\n",
    "| :----:|:--------------| -------: |\n",
    "| `+=`  | `__iadd__`   |  加法   |\n",
    "| `-=`  | `__isub__`   |  减法   |\n",
    "| `*=`  | `__imul__`   |  乘法   |\n",
    "| `/=`  | `__itruediv__` |  真除   |\n",
    "| `//=` | `__ifloordiv__`|  地板除  |\n",
    "| `%=`  | `__imod__`    |  求余   |\n",
    "| `**=` | `__ipow__`    |  求幂   |"
   ]
  },
  {
   "cell_type": "markdown",
   "metadata": {},
   "source": [
    "在进行增强型赋值操作时，如果对象定义有这些魔术方法，会调用它们。如果没有则会使用类似如下的语法糖操作：\n",
    "```python\n",
    "p1 = p1 + p2\n",
    "```\n",
    "\n",
    "天文位置对象是不可变对象，并不需要定义这些魔术方法。在天文位置类中定义了加法等算术运算符，就可以使用对应的增强型赋值运算："
   ]
  },
  {
   "cell_type": "code",
   "execution_count": 20,
   "metadata": {},
   "outputs": [
    {
     "name": "stdout",
     "output_type": "stream",
     "text": [
      "(x=3.0, y=4.0, z=5.0)\n",
      "(x=6.0, y=8.0, z=0.0)\n",
      "(x=60.0, y=80.0, z=0.0)\n"
     ]
    }
   ],
   "source": [
    "print(p1)\n",
    "p1 += p2\n",
    "print(p1)\n",
    "\n",
    "p1 *= 10\n",
    "print(p1)"
   ]
  },
  {
   "cell_type": "markdown",
   "metadata": {},
   "source": [
    "## 比较运算\n",
    "\n",
    "Python 中的比较运算符与对应的魔术方法如下表所示： \n",
    "\n",
    "|运算符 | 魔术方法    |  说明   |\n",
    "| :----:|:-------------| -------: |\n",
    "| `<`  | `__lt__`    | 小于    |\n",
    "| `<=`  | `__le__`   | 小于等于 |\n",
    "| `>`  | `__gt__`    | 大于    |\n",
    "| `>=` | `__ge__`    | 大于等于 |\n",
    "| `==`  | `__eq__`   | 等于    |\n",
    "| `!=` | `__ne__`    | 不等于  |\n",
    "\n",
    "对于天文位置对象来说，不需要进行大于或小于之类的比较运算。下面在类中添加`__eq__()`魔术方法："
   ]
  },
  {
   "cell_type": "code",
   "execution_count": 21,
   "metadata": {},
   "outputs": [],
   "source": [
    "class AstroPosition(object):\n",
    "    \"\"\"\\\n",
    "    AstroPosition()  -> position\n",
    "    AstroPosition(x, y, z)  -> position\n",
    "\n",
    "    创建天文位置\n",
    "    \"\"\"\n",
    "    def __init__(self, x=0, y=0, z=0):\n",
    "        self.__x = float(x)\n",
    "        self.__y = float(y)\n",
    "        self.__z = float(z)\n",
    "\n",
    "    @property\n",
    "    def x(self):\n",
    "        return self.__x\n",
    "\n",
    "    @property\n",
    "    def y(self):\n",
    "        return self.__y\n",
    "\n",
    "    @property\n",
    "    def z(self):\n",
    "        return self.__z\n",
    "        \n",
    "    def __str__(self):\n",
    "        \"\"\"Return str(self).\"\"\"\n",
    "        return '(x={0.x}, y={0.y}, z={0.z})'.format(self)\n",
    "\n",
    "    def __repr__(self):\n",
    "        \"\"\"Return repr(self).\"\"\"\n",
    "        class_name = type(self).__name__\n",
    "        return '{0}({1.x}, {1.y}, {1.z})'.format(class_name, self)    \n",
    "    \n",
    "    def distance(self, pos):\n",
    "        \"\"\"计算两点之间的位置\"\"\"\n",
    "        dx = self.x - pos.x\n",
    "        dy = self.y - pos.y\n",
    "        dz = self.z - pos.z\n",
    "        return math.sqrt(dx*dx + dy*dy + dz*dz)\n",
    "    \n",
    "    def __add__(self, pos):\n",
    "        \"\"\"Return self + pos.\"\"\"\n",
    "        return AstroPosition(self.x + pos.x, self.y + pos.y, self.z + pos.z)\n",
    "    \n",
    "    def __sub__(self, pos):\n",
    "        \"\"\"Return self - pos.\"\"\"\n",
    "        return AstroPosition(self.x - pos.x, self.y - pos.y, self.z - pos.z)\n",
    "    \n",
    "    def __mul__(self, scale):\n",
    "        \"\"\"Return self * scale.\"\"\"\n",
    "        return AstroPosition(self.x * scale, self.y * scale, self.z * scale)\n",
    "    \n",
    "    def __truediv__(self, scale):\n",
    "        \"\"\"Return self / scale.\"\"\"\n",
    "        return AstroPosition(self.x / scale, self.y / scale, self.z / scale)   \n",
    "    \n",
    "    def __neg__(self):\n",
    "        \"\"\"-self\"\"\"\n",
    "        return AstroPosition(-self.x, -self.y, -self.z)\n",
    "    \n",
    "    def __pos__(self):\n",
    "        \"\"\"+self\"\"\"\n",
    "        return self        \n",
    "    \n",
    "    def __abs__(self):\n",
    "        \"\"\"abs(self)\"\"\"\n",
    "        return math.sqrt(self.x*self.x + self.y*self.y + self.z*self.z)\n",
    "    \n",
    "    def __rmul__(self, scale):\n",
    "        \"\"\"Return scale * self.\"\"\"\n",
    "        return self.__mul__(scale)   \n",
    "    \n",
    "    def __eq__(self, pos):\n",
    "        \"\"\"Return self==value.\"\"\"\n",
    "        return self.x == pos.x and self.y == pos.y and self.z == pos.z"
   ]
  },
  {
   "cell_type": "markdown",
   "metadata": {},
   "source": [
    "下面创建几个天文位置对象，并演示比较运算操作："
   ]
  },
  {
   "cell_type": "code",
   "execution_count": 22,
   "metadata": {},
   "outputs": [],
   "source": [
    "p0 = AstroPosition()\n",
    "p1 = AstroPosition(3.0, 4.0, 5.0)\n",
    "p2 = AstroPosition(3.0, 4.0, -5.0)"
   ]
  },
  {
   "cell_type": "code",
   "execution_count": 23,
   "metadata": {},
   "outputs": [
    {
     "name": "stdout",
     "output_type": "stream",
     "text": [
      "False\n",
      "True\n"
     ]
    }
   ],
   "source": [
    "print(p0 == p1)\n",
    "print(p1 != p2)"
   ]
  },
  {
   "cell_type": "markdown",
   "metadata": {},
   "source": [
    "## 类型转换\n",
    "\n",
    "在类中定义下面的魔术方法，将把实例转换为对应类型的对象：\n",
    "- `__int__()`，转换为整数对象\n",
    "- `__float__()`，转换为浮点数对象\n",
    "- `__bool__()`，转换为布尔数\n",
    "- `__complex__()`，转换为复数\n",
    "- `__bin__()`，转换为二进制字符串\n",
    "- `__oct__()`，转换为八进制字符串\n",
    "- `__hex__()`，转换为十六进制字符串"
   ]
  },
  {
   "cell_type": "markdown",
   "metadata": {},
   "source": [
    "对天文位置对象来说，只需要实现布尔数转换的魔术方法即可。使用内置函数 `bool()` 来测试对象时，如果对象没有实现`__bool__()`方法，则返回为`True`；如果定义则调用`__bool__()`魔术方法。截至目前，尚未实现`__bool__()`方法，则下述运算返回`True`:"
   ]
  },
  {
   "cell_type": "code",
   "execution_count": 24,
   "metadata": {},
   "outputs": [
    {
     "data": {
      "text/plain": [
       "True"
      ]
     },
     "execution_count": 24,
     "metadata": {},
     "output_type": "execute_result"
    }
   ],
   "source": [
    "bool(p0)"
   ]
  },
  {
   "cell_type": "markdown",
   "metadata": {},
   "source": [
    "下面增加`__bool__()`方法，如果天文位置对象的绝对值（也就是模）为 0 时返回`False`，否则返回`True`。"
   ]
  },
  {
   "cell_type": "code",
   "execution_count": 25,
   "metadata": {},
   "outputs": [],
   "source": [
    "class AstroPosition(object):\n",
    "    \"\"\"\\\n",
    "    AstroPosition()  -> position\n",
    "    AstroPosition(x, y, z)  -> position\n",
    "\n",
    "    创建天文位置\n",
    "    \"\"\"\n",
    "    def __init__(self, x=0, y=0, z=0):\n",
    "        self.__x = float(x)\n",
    "        self.__y = float(y)\n",
    "        self.__z = float(z)\n",
    "\n",
    "    @property\n",
    "    def x(self):\n",
    "        return self.__x\n",
    "\n",
    "    @property\n",
    "    def y(self):\n",
    "        return self.__y\n",
    "\n",
    "    @property\n",
    "    def z(self):\n",
    "        return self.__z\n",
    "        \n",
    "    def __str__(self):\n",
    "        \"\"\"Return str(self).\"\"\"\n",
    "        return '(x={0.x}, y={0.y}, z={0.z})'.format(self)\n",
    "\n",
    "    def __repr__(self):\n",
    "        \"\"\"Return repr(self).\"\"\"\n",
    "        class_name = type(self).__name__\n",
    "        return '{0}({1.x}, {1.y}, {1.z})'.format(class_name, self)    \n",
    "    \n",
    "    def distance(self, pos):\n",
    "        \"\"\"计算两点之间的位置\"\"\"\n",
    "        dx = self.x - pos.x\n",
    "        dy = self.y - pos.y\n",
    "        dz = self.z - pos.z\n",
    "        return math.sqrt(dx*dx + dy*dy + dz*dz)\n",
    "    \n",
    "    def __add__(self, pos):\n",
    "        \"\"\"Return self + pos.\"\"\"\n",
    "        return AstroPosition(self.x + pos.x, self.y + pos.y, self.z + pos.z)\n",
    "    \n",
    "    def __sub__(self, pos):\n",
    "        \"\"\"Return self - pos.\"\"\"\n",
    "        return AstroPosition(self.x - pos.x, self.y - pos.y, self.z - pos.z)\n",
    "    \n",
    "    def __mul__(self, scale):\n",
    "        \"\"\"Return self * scale.\"\"\"\n",
    "        return AstroPosition(self.x * scale, self.y * scale, self.z * scale)\n",
    "    \n",
    "    def __truediv__(self, scale):\n",
    "        \"\"\"Return self / scale.\"\"\"\n",
    "        return AstroPosition(self.x / scale, self.y / scale, self.z / scale)   \n",
    "    \n",
    "    def __neg__(self):\n",
    "        \"\"\"-self\"\"\"\n",
    "        return AstroPosition(-self.x, -self.y, -self.z)\n",
    "    \n",
    "    def __pos__(self):\n",
    "        \"\"\"+self\"\"\"\n",
    "        return self        \n",
    "    \n",
    "    def __abs__(self):\n",
    "        \"\"\"abs(self)\"\"\"\n",
    "        return math.sqrt(self.x*self.x + self.y*self.y + self.z*self.z)\n",
    "    \n",
    "    def __rmul__(self, scale):\n",
    "        \"\"\"Return scale * self.\"\"\"\n",
    "        return self.__mul__(scale)   \n",
    "    \n",
    "    def __eq__(self, pos):\n",
    "        \"\"\"Return self==value.\"\"\"\n",
    "        return self.x == pos.x and self.y == pos.y and self.z == pos.z\n",
    "    \n",
    "    def __bool__(self):\n",
    "        \"\"\"self != (0, 0, 0).\"\"\"\n",
    "        return bool(abs(self))"
   ]
  },
  {
   "cell_type": "markdown",
   "metadata": {},
   "source": [
    "下面创建天文位置对象，并演示`bool()`运算操作："
   ]
  },
  {
   "cell_type": "code",
   "execution_count": 26,
   "metadata": {},
   "outputs": [],
   "source": [
    "p0 = AstroPosition()\n",
    "p1 = AstroPosition(3.0, 4.0, 5.0)\n",
    "p2 = AstroPosition(3.0, 4.0, -5.0)"
   ]
  },
  {
   "cell_type": "code",
   "execution_count": 27,
   "metadata": {},
   "outputs": [
    {
     "name": "stdout",
     "output_type": "stream",
     "text": [
      "False True True\n"
     ]
    }
   ],
   "source": [
    "print(bool(p0), bool(p1), bool(p2))"
   ]
  },
  {
   "cell_type": "markdown",
   "metadata": {},
   "source": [
    "## 哈希\n",
    "\n",
    "截止目前，天文位置类定义`__eq__()`方法，但尚未定义 `__hash__` 方法： "
   ]
  },
  {
   "cell_type": "code",
   "execution_count": 28,
   "metadata": {},
   "outputs": [
    {
     "data": {
      "text/plain": [
       "True"
      ]
     },
     "execution_count": 28,
     "metadata": {},
     "output_type": "execute_result"
    }
   ],
   "source": [
    "p0.__hash__ is None"
   ]
  },
  {
   "cell_type": "markdown",
   "metadata": {},
   "source": [
    "也就是说，天文位置对象还不是可哈希的对象，不能用作字典的键，也不能添加到集合中。例如调用`hash()`函数会抛出类错误(`TypeError`)异常："
   ]
  },
  {
   "cell_type": "code",
   "execution_count": 29,
   "metadata": {},
   "outputs": [
    {
     "ename": "TypeError",
     "evalue": "unhashable type: 'AstroPosition'",
     "output_type": "error",
     "traceback": [
      "\u001b[1;31m---------------------------------------------------------------------------\u001b[0m",
      "\u001b[1;31mTypeError\u001b[0m                                 Traceback (most recent call last)",
      "\u001b[1;32m<ipython-input-29-537a6ca7a47e>\u001b[0m in \u001b[0;36m<module>\u001b[1;34m()\u001b[0m\n\u001b[1;32m----> 1\u001b[1;33m \u001b[0mhash\u001b[0m\u001b[1;33m(\u001b[0m\u001b[0mp0\u001b[0m\u001b[1;33m)\u001b[0m\u001b[1;33m\u001b[0m\u001b[0m\n\u001b[0m",
      "\u001b[1;31mTypeError\u001b[0m: unhashable type: 'AstroPosition'"
     ]
    }
   ],
   "source": [
    "hash(p0)"
   ]
  },
  {
   "cell_type": "markdown",
   "metadata": {},
   "source": [
    "一个对象的哈希值如果在其生命周期内绝不改变，称其可哈希对象。它需要实现`__eq__()`和`__hash__()`方法，同时该对象还是不可变对象。天文位置对象已经定义了`__eq__()`其实不可变对象。下面添加`__hash__()`定义："
   ]
  },
  {
   "cell_type": "code",
   "execution_count": 30,
   "metadata": {},
   "outputs": [],
   "source": [
    "class AstroPosition(object):\n",
    "    \"\"\"\\\n",
    "    AstroPosition()  -> position\n",
    "    AstroPosition(x, y, z)  -> position\n",
    "\n",
    "    创建天文位置\n",
    "    \"\"\"\n",
    "    def __init__(self, x=0, y=0, z=0):\n",
    "        self.__x = float(x)\n",
    "        self.__y = float(y)\n",
    "        self.__z = float(z)\n",
    "\n",
    "    @property\n",
    "    def x(self):\n",
    "        return self.__x\n",
    "\n",
    "    @property\n",
    "    def y(self):\n",
    "        return self.__y\n",
    "\n",
    "    @property\n",
    "    def z(self):\n",
    "        return self.__z\n",
    "        \n",
    "    def __str__(self):\n",
    "        \"\"\"Return str(self).\"\"\"\n",
    "        return '(x={0.x}, y={0.y}, z={0.z})'.format(self)\n",
    "\n",
    "    def __repr__(self):\n",
    "        \"\"\"Return repr(self).\"\"\"\n",
    "        class_name = type(self).__name__\n",
    "        return '{0}({1.x}, {1.y}, {1.z})'.format(class_name, self)    \n",
    "    \n",
    "    def distance(self, pos):\n",
    "        \"\"\"计算两点之间的位置\"\"\"\n",
    "        dx = self.x - pos.x\n",
    "        dy = self.y - pos.y\n",
    "        dz = self.z - pos.z\n",
    "        return math.sqrt(dx*dx + dy*dy + dz*dz)\n",
    "    \n",
    "    def __add__(self, pos):\n",
    "        \"\"\"Return self + pos.\"\"\"\n",
    "        return AstroPosition(self.x + pos.x, self.y + pos.y, self.z + pos.z)\n",
    "    \n",
    "    def __sub__(self, pos):\n",
    "        \"\"\"Return self - pos.\"\"\"\n",
    "        return AstroPosition(self.x - pos.x, self.y - pos.y, self.z - pos.z)\n",
    "    \n",
    "    def __mul__(self, scale):\n",
    "        \"\"\"Return self * scale.\"\"\"\n",
    "        return AstroPosition(self.x * scale, self.y * scale, self.z * scale)\n",
    "    \n",
    "    def __truediv__(self, scale):\n",
    "        \"\"\"Return self / scale.\"\"\"\n",
    "        return AstroPosition(self.x / scale, self.y / scale, self.z / scale)   \n",
    "    \n",
    "    def __neg__(self):\n",
    "        \"\"\"-self\"\"\"\n",
    "        return AstroPosition(-self.x, -self.y, -self.z)\n",
    "    \n",
    "    def __pos__(self):\n",
    "        \"\"\"+self\"\"\"\n",
    "        return self        \n",
    "    \n",
    "    def __abs__(self):\n",
    "        \"\"\"abs(self)\"\"\"\n",
    "        return math.sqrt(self.x*self.x + self.y*self.y + self.z*self.z)\n",
    "    \n",
    "    def __rmul__(self, scale):\n",
    "        \"\"\"Return scale * self.\"\"\"\n",
    "        return self.__mul__(scale)   \n",
    "    \n",
    "    def __eq__(self, pos):\n",
    "        \"\"\"Return self==value.\"\"\"\n",
    "        return self.x == pos.x and self.y == pos.y and self.z == pos.z\n",
    "    \n",
    "    def __bool__(self):\n",
    "        \"\"\"self != (0, 0, 0).\"\"\"\n",
    "        return bool(abs(self))\n",
    "    \n",
    "    def __hash__(self):\n",
    "        \"\"\"Return hash(self).\"\"\"\n",
    "        return hash(self.x) ^ hash(self.y) ^ hash(self.z)"
   ]
  },
  {
   "cell_type": "markdown",
   "metadata": {},
   "source": [
    "下面创建天文位置对象，并演示`hash()`运算操作："
   ]
  },
  {
   "cell_type": "code",
   "execution_count": 31,
   "metadata": {},
   "outputs": [],
   "source": [
    "p0 = AstroPosition()\n",
    "p1 = AstroPosition(3.0, 4.0, 5.0)\n",
    "p2 = AstroPosition(3.0, 4.0, -5.0)"
   ]
  },
  {
   "cell_type": "code",
   "execution_count": 32,
   "metadata": {},
   "outputs": [
    {
     "data": {
      "text/plain": [
       "(0, 2, -4)"
      ]
     },
     "execution_count": 32,
     "metadata": {},
     "output_type": "execute_result"
    }
   ],
   "source": [
    "hash(p0), hash(p1), hash(p2)"
   ]
  },
  {
   "cell_type": "code",
   "execution_count": 33,
   "metadata": {},
   "outputs": [
    {
     "data": {
      "text/plain": [
       "{AstroPosition(0.0, 0.0, 0.0),\n",
       " AstroPosition(3.0, 4.0, -5.0),\n",
       " AstroPosition(3.0, 4.0, 5.0)}"
      ]
     },
     "execution_count": 33,
     "metadata": {},
     "output_type": "execute_result"
    }
   ],
   "source": [
    "set([p0, p1, p2])"
   ]
  },
  {
   "cell_type": "markdown",
   "metadata": {},
   "source": [
    "## 迭代\n",
    "\n",
    "如果一个对象是可迭代对象，就可以使用 `for` 语句进行遍历循环。在 Python 进行对象的迭代运算时，其过程为：\n",
    "1. 首先会查看该对象是否实现了`__iter__()`方法。如果实现则调用该方法，获取一个迭代器。\n",
    "2. 如果没有实现`__iter__()`方法，但是实现`__getitem()`方法， Python 解释器会创建一个迭代器，从索引 0 开始获取元素。\n",
    "3. 如果都失败，则抛出类型错误（TypeError），提示对象不是可迭代对象。"
   ]
  },
  {
   "cell_type": "markdown",
   "metadata": {},
   "source": [
    "截止目前，天文位置对象还不是可迭代对象，可以试一试如下操作："
   ]
  },
  {
   "cell_type": "code",
   "execution_count": 39,
   "metadata": {},
   "outputs": [
    {
     "name": "stdout",
     "output_type": "stream",
     "text": [
      "0.0\n",
      "0.0\n",
      "0.0\n"
     ]
    }
   ],
   "source": [
    "for v in p0:\n",
    "    print(v)"
   ]
  },
  {
   "cell_type": "markdown",
   "metadata": {},
   "source": [
    "天文位置对象包括3个属性 `x, y, z`，可以使用成员访问语法`.`来访问对象的属性，这三个属性本身并没有先后顺序之分，不过习惯上会按照`x, y, z`顺序依次访问。对于天文位置对象来说，这里只是想通过`for` 语句遍历 `x, y, z` 属性，或使用拆包方式获得这3个属性。故在类中定义魔术方法`__iter__()`来实现上述目的。\n",
    "\n",
    "在类中定义魔术方法`__iter__()`，该方法返回一个迭代器。迭代器是一个实现了`__next__()`方法的对象，该方法会依次返回数据元素，直到没有数据元素引起`StopIteration`异常。此外还可以使用生成器，生成器是用函数方法实现的迭代器。\n",
    "\n",
    "这里，在定义`__iter__()`方法时，使用“元组推导式”也就是生成器表达式来返回一个生成器，也就是迭代器。"
   ]
  },
  {
   "cell_type": "code",
   "execution_count": 40,
   "metadata": {},
   "outputs": [],
   "source": [
    "class AstroPosition(object):\n",
    "    \"\"\"\\\n",
    "    AstroPosition()  -> position\n",
    "    AstroPosition(x, y, z)  -> position\n",
    "\n",
    "    创建天文位置\n",
    "    \"\"\"\n",
    "    def __init__(self, x=0, y=0, z=0):\n",
    "        self.__x = float(x)\n",
    "        self.__y = float(y)\n",
    "        self.__z = float(z)\n",
    "\n",
    "    @property\n",
    "    def x(self):\n",
    "        return self.__x\n",
    "\n",
    "    @property\n",
    "    def y(self):\n",
    "        return self.__y\n",
    "\n",
    "    @property\n",
    "    def z(self):\n",
    "        return self.__z\n",
    "        \n",
    "    def __str__(self):\n",
    "        \"\"\"Return str(self).\"\"\"\n",
    "        return '(x={0.x}, y={0.y}, z={0.z})'.format(self)\n",
    "\n",
    "    def __repr__(self):\n",
    "        \"\"\"Return repr(self).\"\"\"\n",
    "        class_name = type(self).__name__\n",
    "        return '{0}({1.x}, {1.y}, {1.z})'.format(class_name, self)    \n",
    "    \n",
    "    def distance(self, pos):\n",
    "        \"\"\"计算两点之间的位置\"\"\"\n",
    "        dx = self.x - pos.x\n",
    "        dy = self.y - pos.y\n",
    "        dz = self.z - pos.z\n",
    "        return math.sqrt(dx*dx + dy*dy + dz*dz)\n",
    "    \n",
    "    def __add__(self, pos):\n",
    "        \"\"\"Return self + pos.\"\"\"\n",
    "        return AstroPosition(self.x + pos.x, self.y + pos.y, self.z + pos.z)\n",
    "    \n",
    "    def __sub__(self, pos):\n",
    "        \"\"\"Return self - pos.\"\"\"\n",
    "        return AstroPosition(self.x - pos.x, self.y - pos.y, self.z - pos.z)\n",
    "    \n",
    "    def __mul__(self, scale):\n",
    "        \"\"\"Return self * scale.\"\"\"\n",
    "        return AstroPosition(self.x * scale, self.y * scale, self.z * scale)\n",
    "    \n",
    "    def __truediv__(self, scale):\n",
    "        \"\"\"Return self / scale.\"\"\"\n",
    "        return AstroPosition(self.x / scale, self.y / scale, self.z / scale)   \n",
    "    \n",
    "    def __neg__(self):\n",
    "        \"\"\"-self\"\"\"\n",
    "        return AstroPosition(-self.x, -self.y, -self.z)\n",
    "    \n",
    "    def __pos__(self):\n",
    "        \"\"\"+self\"\"\"\n",
    "        return self        \n",
    "    \n",
    "    def __abs__(self):\n",
    "        \"\"\"abs(self)\"\"\"\n",
    "        return math.sqrt(self.x*self.x + self.y*self.y + self.z*self.z)\n",
    "    \n",
    "    def __rmul__(self, scale):\n",
    "        \"\"\"Return scale * self.\"\"\"\n",
    "        return self.__mul__(scale)   \n",
    "    \n",
    "    def __eq__(self, pos):\n",
    "        \"\"\"Return self==value.\"\"\"\n",
    "        return self.x == pos.x and self.y == pos.y and self.z == pos.z\n",
    "    \n",
    "    def __bool__(self):\n",
    "        \"\"\"self != (0, 0, 0).\"\"\"\n",
    "        return bool(abs(self))\n",
    "    \n",
    "    def __hash__(self):\n",
    "        \"\"\"Return hash(self).\"\"\"\n",
    "        return hash(self.x) ^ hash(self.y) ^ hash(self.z)\n",
    "    \n",
    "    def __iter__(self):\n",
    "        \"\"\"Impleter iter(self).\"\"\"\n",
    "        return (i for i in (self.x, self.y, self.z))"
   ]
  },
  {
   "cell_type": "markdown",
   "metadata": {},
   "source": [
    "下面创建天文位置对象，并演示`for`循环和拆包操作："
   ]
  },
  {
   "cell_type": "code",
   "execution_count": 36,
   "metadata": {},
   "outputs": [],
   "source": [
    "p0 = AstroPosition()\n",
    "p1 = AstroPosition(3.0, 4.0, 5.0)\n",
    "p2 = AstroPosition(3.0, 4.0, -5.0)"
   ]
  },
  {
   "cell_type": "code",
   "execution_count": 37,
   "metadata": {},
   "outputs": [
    {
     "name": "stdout",
     "output_type": "stream",
     "text": [
      "3.0\n",
      "4.0\n",
      "5.0\n"
     ]
    }
   ],
   "source": [
    "# 循环遍历\n",
    "for value in p1:\n",
    "    print(value)"
   ]
  },
  {
   "cell_type": "code",
   "execution_count": 38,
   "metadata": {
    "scrolled": true
   },
   "outputs": [
    {
     "name": "stdout",
     "output_type": "stream",
     "text": [
      "0.0 0.0 0.0\n"
     ]
    }
   ],
   "source": [
    "# 拆包操作\n",
    "x, y, z = p0\n",
    "print(x, y, z)"
   ]
  },
  {
   "cell_type": "markdown",
   "metadata": {},
   "source": [
    "Python支持很多魔术方法，需要选择适合自定义类的魔术方法。上述通过一个实例来演示数据类的定义。"
   ]
  }
 ],
 "metadata": {
  "kernelspec": {
   "display_name": "Python 3",
   "language": "python",
   "name": "python3"
  },
  "language_info": {
   "codemirror_mode": {
    "name": "ipython",
    "version": 3
   },
   "file_extension": ".py",
   "mimetype": "text/x-python",
   "name": "python",
   "nbconvert_exporter": "python",
   "pygments_lexer": "ipython3",
   "version": "3.6.4"
  },
  "toc": {
   "base_numbering": 1,
   "nav_menu": {},
   "number_sections": true,
   "sideBar": true,
   "skip_h1_title": false,
   "title_cell": "Table of Contents",
   "title_sidebar": "Contents",
   "toc_cell": false,
   "toc_position": {
    "height": "calc(100% - 180px)",
    "left": "10px",
    "top": "150px",
    "width": "202px"
   },
   "toc_section_display": true,
   "toc_window_display": false
  }
 },
 "nbformat": 4,
 "nbformat_minor": 2
}
