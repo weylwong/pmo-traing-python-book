{
 "cells": [
  {
   "cell_type": "markdown",
   "metadata": {},
   "source": [
    "# 使用正则表达式进行匹配\n",
    "\n",
    "使用正则表达式进行文本提取、分隔、搜索、替换之前，需要了解如何使用正则表达式如何匹配字符串。"
   ]
  },
  {
   "cell_type": "code",
   "execution_count": 1,
   "metadata": {},
   "outputs": [],
   "source": [
    "import re"
   ]
  },
  {
   "cell_type": "markdown",
   "metadata": {},
   "source": [
    "## 字面字符匹配\n",
    "\n",
    "最简单的正则表达式就是如何匹配字面意义的字符。例如下面使用 `re.search()` 来演示如何在文本中匹配字符 `re`："
   ]
  },
  {
   "cell_type": "code",
   "execution_count": 2,
   "metadata": {},
   "outputs": [
    {
     "data": {
      "text/plain": [
       "True"
      ]
     },
     "execution_count": 2,
     "metadata": {},
     "output_type": "execute_result"
    }
   ],
   "source": [
    "s = 'Re is a Python regexes library'\n",
    "match = re.match('re', s)\n",
    "match is None"
   ]
  },
  {
   "cell_type": "markdown",
   "metadata": {},
   "source": [
    "如果匹配成功 `re.search()` 函数会返回一个匹配对象，否则会返回`None`对象。使用自省函数`type()`来查看返回对象："
   ]
  },
  {
   "cell_type": "code",
   "execution_count": 3,
   "metadata": {},
   "outputs": [
    {
     "name": "stdout",
     "output_type": "stream",
     "text": [
      "<class 'NoneType'>\n"
     ]
    }
   ],
   "source": [
    "print(type(match))"
   ]
  },
  {
   "cell_type": "markdown",
   "metadata": {},
   "source": [
    "匹配对象有如下属性与方法来检查匹配结果：\n",
    "- `m.re`，产生匹配对象的正则表达式对象\n",
    "- `m.string`，产生匹配对象对应的文本\n",
    "- `m.pos`，搜索起始位置\n",
    "- `m.endpos()`，搜索结尾索引位置\n",
    "- `m.group()`，匹配结果组\n",
    "- `m.span()`，匹配结果起始索引与结尾索引位置\n",
    "- `m.start()`，匹配结果在文本中初始位置\n",
    "- `m.end()`，匹配结果在文本中终点位置"
   ]
  },
  {
   "cell_type": "code",
   "execution_count": 4,
   "metadata": {},
   "outputs": [
    {
     "ename": "AttributeError",
     "evalue": "'NoneType' object has no attribute 'string'",
     "output_type": "error",
     "traceback": [
      "\u001b[1;31m---------------------------------------------------------------------------\u001b[0m",
      "\u001b[1;31mAttributeError\u001b[0m                            Traceback (most recent call last)",
      "\u001b[1;32m<ipython-input-4-ddce4545192b>\u001b[0m in \u001b[0;36m<module>\u001b[1;34m()\u001b[0m\n\u001b[0;32m      1\u001b[0m \u001b[1;31m# 字符串与正则表达式\u001b[0m\u001b[1;33m\u001b[0m\u001b[1;33m\u001b[0m\u001b[0m\n\u001b[1;32m----> 2\u001b[1;33m \u001b[0mprint\u001b[0m\u001b[1;33m(\u001b[0m\u001b[0mmatch\u001b[0m\u001b[1;33m.\u001b[0m\u001b[0mstring\u001b[0m\u001b[1;33m,\u001b[0m \u001b[0mmatch\u001b[0m\u001b[1;33m.\u001b[0m\u001b[0mre\u001b[0m\u001b[1;33m)\u001b[0m\u001b[1;33m\u001b[0m\u001b[0m\n\u001b[0m\u001b[0;32m      3\u001b[0m \u001b[1;31m# 搜索的起始与结尾索引未知\u001b[0m\u001b[1;33m\u001b[0m\u001b[1;33m\u001b[0m\u001b[0m\n\u001b[0;32m      4\u001b[0m \u001b[0mprint\u001b[0m\u001b[1;33m(\u001b[0m\u001b[0mmatch\u001b[0m\u001b[1;33m.\u001b[0m\u001b[0mpos\u001b[0m\u001b[1;33m,\u001b[0m \u001b[0mmatch\u001b[0m\u001b[1;33m.\u001b[0m\u001b[0mendpos\u001b[0m\u001b[1;33m)\u001b[0m\u001b[1;33m\u001b[0m\u001b[0m\n",
      "\u001b[1;31mAttributeError\u001b[0m: 'NoneType' object has no attribute 'string'"
     ]
    }
   ],
   "source": [
    "# 字符串与正则表达式\n",
    "print(match.string, match.re)\n",
    "# 搜索的起始与结尾索引未知\n",
    "print(match.pos, match.endpos)"
   ]
  },
  {
   "cell_type": "code",
   "execution_count": null,
   "metadata": {},
   "outputs": [],
   "source": [
    "# 匹配结果\n",
    "print(match.group(), match.span())\n",
    "# \n",
    "print(match.start(), match.end())"
   ]
  },
  {
   "cell_type": "markdown",
   "metadata": {},
   "source": [
    "由上述结果可知，在此正则表达式模式下，匹配结果位于文本的$[15,17)$处，结果字符串是`re`。"
   ]
  },
  {
   "cell_type": "markdown",
   "metadata": {},
   "source": [
    "### 标记符\n",
    "\n",
    "在正则表达式中可以用一些标记符来控制匹配的模式，使用位运算(`|`)可以指定多个标志符。例如，对于上面的例子，通过指定`re.I`标记符，使得在文本匹配时大小写不敏感，代码如下："
   ]
  },
  {
   "cell_type": "code",
   "execution_count": null,
   "metadata": {},
   "outputs": [],
   "source": [
    "s = 'Re is a Python regexes library'\n",
    "match = re.search('re', s, re.I)"
   ]
  },
  {
   "cell_type": "code",
   "execution_count": null,
   "metadata": {},
   "outputs": [],
   "source": [
    "# 匹配结果\n",
    "print(match.group(), match.span())\n",
    "# \n",
    "print(match.start(), match.end())"
   ]
  },
  {
   "cell_type": "markdown",
   "metadata": {},
   "source": [
    "由上述结果可知，在此正则表达式模式下，匹配结果位于文本的$[0,2)$处，结果字符串是`Re`。"
   ]
  },
  {
   "cell_type": "markdown",
   "metadata": {},
   "source": [
    "### 匹配函数的差别\n",
    "\n",
    "`re.match()`函数会从文本起始处开始进行匹配，`re.match()` 函数则从文本的任意位置成匹配，二者只返回一个匹配结果；`re.findall()`与`re.finditer()`函数则会返回所有匹配结果，即返回列表或迭代器。"
   ]
  },
  {
   "cell_type": "markdown",
   "metadata": {},
   "source": [
    "例如，在上面示例中，如果调用`re.match()`函数，则匹配会失败："
   ]
  },
  {
   "cell_type": "code",
   "execution_count": null,
   "metadata": {},
   "outputs": [],
   "source": [
    "s = 'Re is a Python regexes library'\n",
    "match = re.match('re', s)\n",
    "match is None"
   ]
  },
  {
   "cell_type": "markdown",
   "metadata": {},
   "source": [
    "在使用正则表达式`re`且用大小写不敏感模式，`re.findall()`函数会得到多个匹配结果："
   ]
  },
  {
   "cell_type": "code",
   "execution_count": null,
   "metadata": {},
   "outputs": [],
   "source": [
    "s = 'Re is a Python regexes library'\n",
    "match_list = re.findall('re', s, re.I)\n",
    "match_iterator = re.finditer('re', s, re.I)\n",
    "print(type(match_list), type(match_iterator))"
   ]
  },
  {
   "cell_type": "markdown",
   "metadata": {},
   "source": [
    "`re.findall()`返回匹配字符串组成的列表，`re.finditer()`返回由匹配对象组成的迭代器："
   ]
  },
  {
   "cell_type": "code",
   "execution_count": null,
   "metadata": {},
   "outputs": [],
   "source": [
    "for m in match_list:\n",
    "    print(m)"
   ]
  },
  {
   "cell_type": "code",
   "execution_count": null,
   "metadata": {},
   "outputs": [],
   "source": [
    "for m in match_iterator:\n",
    "    print(m.group(), m.span())\n",
    "    print(m.start(), m.end())"
   ]
  },
  {
   "cell_type": "markdown",
   "metadata": {},
   "source": [
    "## 字符与字符类匹配\n",
    "\n",
    "### 特殊字符\n",
    "\n",
    "如果正则表达式只会使用字面字符来进行匹配，那与字符串对象的操作不会差太多。正则表达式作为一种迷你语言，有些字符是有特殊意义的，称之为特殊字符。正则表达式的特殊字符包括如下：\n",
    "1. `\\`\n",
    "2. `.`\n",
    "3. `^`\n",
    "4. `$`\n",
    "5. `?`\n",
    "6. `+`\n",
    "7. `*`\n",
    "8. `()`\n",
    "9. `[]`\n",
    "10. `{}`\n",
    "11. `|`\n",
    "\n",
    "如果要用正则表达式来匹配这些特殊字符，需要在这些特殊符号前面加上反斜杠`\\`进行转义。这带来了另外一个问题，正则表达式用字符串来表示，而反斜杠`\\` 是 Python 字符串的转义符，故而正则表达式字符串通常用原始字符串来表达。例如，要在文本中匹配是否有`({`，正则表达式可以表示如下："
   ]
  },
  {
   "cell_type": "code",
   "execution_count": null,
   "metadata": {},
   "outputs": [],
   "source": [
    "s = \"\"\"t0 = ({'x': 1, 'y': 2}, {'x': 3, 'y': 4})\"\"\"\n",
    "pattern = r'\\(\\{'\n",
    "match = re.search(pattern, s)\n",
    "match"
   ]
  },
  {
   "cell_type": "code",
   "execution_count": null,
   "metadata": {},
   "outputs": [],
   "source": [
    "# 匹配结果\n",
    "print(match.group(), match.span())"
   ]
  },
  {
   "cell_type": "markdown",
   "metadata": {},
   "source": [
    "### 字符类\n",
    "\n",
    "大多数情况下，正则表达式要匹配的不是某个特定字符，而是某个字符集中的任意一个。可以使用字符类来实现，即使用特殊字符方括号`[]`，包含 1 个或多个字符。例如，正则表达式`x[13579]`会在文本查找是否有`x1`, `x3`, `x5`, `x7`, `x9`，代码如下所示："
   ]
  },
  {
   "cell_type": "code",
   "execution_count": null,
   "metadata": {},
   "outputs": [],
   "source": [
    "string = 'x0, x1, x2, x3, x4, x5, x6, x7, x8, x9'\n",
    "pattern = r'x[13579]'\n",
    "matchs = re.finditer(pattern, string)\n",
    "for m in matchs:\n",
    "    print(m.group(), m.span())"
   ]
  },
  {
   "cell_type": "markdown",
   "metadata": {},
   "source": [
    "为了方便起见，可以使用连字符`-`来指定某个范围的字符，例如`[a-zA-Z0-9_]`用来表示字母数字与下划线字符。在下面实例中，使用`x[1-5]`来表示从`x1`到`x5`："
   ]
  },
  {
   "cell_type": "code",
   "execution_count": null,
   "metadata": {},
   "outputs": [],
   "source": [
    "string = 'x0, x1, x2, x3, x4, x5, x6, x7, x8, x9'\n",
    "pattern = r'x[1-5]'\n",
    "matchs = re.finditer(pattern, string)\n",
    "for m in matchs:\n",
    "    print(m.group(), m.span())"
   ]
  },
  {
   "cell_type": "code",
   "execution_count": null,
   "metadata": {},
   "outputs": [],
   "source": []
  },
  {
   "cell_type": "markdown",
   "metadata": {},
   "source": [
    "还可以使用特殊符号`^`用来对字符类求非。例如`[^0-5]`，表示可以匹配除了从0到5之外的数字或字符，参见如下代码："
   ]
  },
  {
   "cell_type": "code",
   "execution_count": null,
   "metadata": {},
   "outputs": [],
   "source": [
    "string = 'x0, x1, x2, x3, x4, x5, x6, x7, x8, x9, xa, xb'\n",
    "pattern = r'x[^0-5]'\n",
    "matchs = re.finditer(pattern, string)\n",
    "for m in matchs:\n",
    "    print(m.group(), m.span())"
   ]
  },
  {
   "cell_type": "markdown",
   "metadata": {},
   "source": [
    "在正则表达式中，常常会用到一些字符集，如数字，字面等字符集，可以使用如下速记符来表示这些字符集：\n",
    "\n",
    "|符号     |   含义 |\n",
    "|:-------:|:-------|\n",
    "| `.`   |匹配换行符之外的任意字符 |\n",
    "| `\\d`  | 匹配一个数字字符（Unicode）|\n",
    "| `\\D`\t| 匹配一个非数字字符（Unicode）| \n",
    "| `\\s`  | 匹配任何空白字符（Unicode）|\n",
    "| `\\S`  | 匹配任何非空白字符（Unicode）|\n",
    "| `\\w`  | 匹配一个单词字符（Unicode）|\n",
    "| `\\W`  | 匹配一个非单词字符（Unicode） |\n",
    "\n",
    "在 Python 3 中，字符串都是 Unicode 编码，这里速记符表示的也是 Unicode 编码的字符集。在下面实例中，`\\w`表示单词字符，中文的每个字都是一个单词字符："
   ]
  },
  {
   "cell_type": "code",
   "execution_count": null,
   "metadata": {},
   "outputs": [],
   "source": [
    "string = '中文'\n",
    "pattern = r'\\w'\n",
    "matchs = re.finditer(pattern, string)\n",
    "for m in matchs:\n",
    "    print(m.group(), m.span())"
   ]
  },
  {
   "cell_type": "markdown",
   "metadata": {},
   "source": [
    "通过指定标记符 `re.ASCII`，上述速记符则用来表示 ASCII 编码对应的字符。例如`\\w`相当于`[a-zA-Z0-9_]`，即匹配字母、数字、下划线。对于上面示例的中文来说，匹配不会成功："
   ]
  },
  {
   "cell_type": "code",
   "execution_count": null,
   "metadata": {},
   "outputs": [],
   "source": [
    "string = '中文'\n",
    "pattern = r'\\w'\n",
    "match = re.search(pattern, string, re.ASCII)\n",
    "print(match)"
   ]
  },
  {
   "cell_type": "markdown",
   "metadata": {},
   "source": [
    "使用正则表达式`'x[\\w]'`则会匹配到如下结果："
   ]
  },
  {
   "cell_type": "code",
   "execution_count": null,
   "metadata": {},
   "outputs": [],
   "source": [
    "string = 'x0, x1, x2, x3, x4, x5, x6, x7, x8, x9, xa, xb'\n",
    "pattern = r'x[\\w]'\n",
    "matchs = re.finditer(pattern, string)\n",
    "for m in matchs:\n",
    "    print(m.group(), m.span())"
   ]
  },
  {
   "cell_type": "markdown",
   "metadata": {},
   "source": [
    "## 限定符\n",
    "\n",
    "在前面的正则表达式中，没有显式指定限定符（也称为量词），默认为匹配一次。正则表达式的限定符形式为`{m,n}`，表示使用该限定符的表达式必须匹配的最小次数与最大次数。例如对于正则表达式`fe{2,4}ling`，可以匹配的文本为`feeling`，`feeeling`或`feeeeling`。这种限定符`{m,n}`相对来说比较麻烦，正则表达式提供有一些简答写法，限定符方法包括如下：\n",
    "- `*`，匹配次数为 0 或多次；\n",
    "- `+`，匹配次数为 1 或多次；\n",
    "- `?`，匹配次数为 0 或 1 次；\n",
    "- `{n}`，匹配`n`次，`n` 是非负整数；\n",
    "- `{n,}`，匹配最小次数为 `n`，最多次数不限；\n",
    "- `{{n,m}}`，匹配最小次数为 `n`，最大次数为 `m`。"
   ]
  },
  {
   "cell_type": "markdown",
   "metadata": {},
   "source": [
    "下面的实例来演示正则表达式限定符的使用方法："
   ]
  },
  {
   "cell_type": "code",
   "execution_count": null,
   "metadata": {},
   "outputs": [],
   "source": [
    "# *   匹配次数 >=0 \n",
    "for string in ['b', 'ab', 'aab']:\n",
    "    match = re.search(r'a*', string)\n",
    "    if match is not None:\n",
    "        print(string, match.group(), match.span())\n",
    "    else:\n",
    "        print(string, match)"
   ]
  },
  {
   "cell_type": "code",
   "execution_count": null,
   "metadata": {},
   "outputs": [],
   "source": [
    "# +   匹配次数 >=1 \n",
    "for string in ['b', 'ab', 'aab']:\n",
    "    match = re.search(r'a+', string)\n",
    "    if match is not None:\n",
    "        print(string, match.group(), match.span())\n",
    "    else:\n",
    "        print(string, match)"
   ]
  },
  {
   "cell_type": "code",
   "execution_count": null,
   "metadata": {},
   "outputs": [],
   "source": [
    "# ?   匹配0或1次\n",
    "for string in ['b', 'ab', 'aab']:\n",
    "    match = re.search(r'a?b', string)\n",
    "    if match is not None:\n",
    "        print(string, match.group(), match.span())\n",
    "    else:\n",
    "        print(string, match)"
   ]
  },
  {
   "cell_type": "code",
   "execution_count": null,
   "metadata": {},
   "outputs": [],
   "source": [
    "# {n}   匹配n次\n",
    "for string in ['b', 'ab', 'aab', 'aaab']:\n",
    "    match = re.search(r'a{2}b', string)\n",
    "    if match is not None:\n",
    "        print(string, match.group(), match.span())\n",
    "    else:\n",
    "        print(string, match)"
   ]
  },
  {
   "cell_type": "code",
   "execution_count": null,
   "metadata": {},
   "outputs": [],
   "source": [
    "# {n, m}   匹配n到m次\n",
    "for string in ['b', 'ab', 'aab', 'aaab']:\n",
    "    match = re.search(r'a{1,2}b', string)\n",
    "    if match is not None:\n",
    "        print(string, match.group(), match.span())\n",
    "    else:\n",
    "        print(string, match)"
   ]
  },
  {
   "cell_type": "code",
   "execution_count": null,
   "metadata": {},
   "outputs": [],
   "source": [
    "# {n, }   匹配n到多次\n",
    "for string in ['b', 'ab', 'aab', 'aaab']:\n",
    "    match = re.search(r'a{1,}b', string)\n",
    "    if match is not None:\n",
    "        print(string, match.group(), match.span())\n",
    "    else:\n",
    "        print(string, match)"
   ]
  },
  {
   "cell_type": "markdown",
   "metadata": {},
   "source": [
    "在匹配数字，空格，或一个单词时，使用限定符`+`可以很方便地写出正则表达式。如下实例："
   ]
  },
  {
   "cell_type": "code",
   "execution_count": 5,
   "metadata": {},
   "outputs": [
    {
     "name": "stdout",
     "output_type": "stream",
     "text": [
      "'a123d' 123 (1, 4)\n",
      "'a1b3' 1 (1, 2)\n",
      "'abd' None\n",
      "'1\\t2\\n' 1 (0, 1)\n"
     ]
    }
   ],
   "source": [
    "# \\d   匹配数字\n",
    "for string in ['a123d', 'a1b3', 'abd', '1\\t2\\n']:\n",
    "    match = re.search(r'\\d+', string)\n",
    "    if match is not None:\n",
    "        print(repr(string), match.group(), match.span())\n",
    "    else:\n",
    "        print(repr(string), match)"
   ]
  },
  {
   "cell_type": "code",
   "execution_count": 6,
   "metadata": {},
   "outputs": [
    {
     "name": "stdout",
     "output_type": "stream",
     "text": [
      "'a123d' a (0, 1)\n",
      "'a1b3' a (0, 1)\n",
      "'abd' abd (0, 3)\n",
      "'1\\t2\\n' \t (1, 2)\n"
     ]
    }
   ],
   "source": [
    "# \\D   匹配非数字\n",
    "for string in ['a123d', 'a1b3', 'abd', '1\\t2\\n']:\n",
    "    match = re.search(r'\\D+', string)\n",
    "    if match is not None:\n",
    "        print(repr(string), match.group(), match.span())\n",
    "    else:\n",
    "        print(repr(string), match)"
   ]
  },
  {
   "cell_type": "code",
   "execution_count": 7,
   "metadata": {},
   "outputs": [
    {
     "name": "stdout",
     "output_type": "stream",
     "text": [
      "'a  b'    (1, 3)\n",
      "'a\\tb' \t (1, 2)\n",
      "'ab\\n' \n",
      " (2, 3)\n",
      "'ac\\r\\x0cd' \r",
      "\f",
      " (2, 4)\n",
      "'abadf' None\n"
     ]
    }
   ],
   "source": [
    "# \\s   匹配空白字符\n",
    "for string in ['a  b', 'a\\tb', 'ab\\n', 'ac\\r\\fd', 'abadf']:\n",
    "    match = re.search(r'\\s+', string)\n",
    "    if match is not None:\n",
    "        print(repr(string), match.group(), match.span())\n",
    "    else:\n",
    "        print(repr(string), match)"
   ]
  },
  {
   "cell_type": "code",
   "execution_count": 8,
   "metadata": {},
   "outputs": [
    {
     "name": "stdout",
     "output_type": "stream",
     "text": [
      "'a  b' a (0, 1)\n",
      "'a\\tb' a (0, 1)\n",
      "'ab\\n' ab (0, 2)\n",
      "'ac\\r\\x0cd' ac (0, 2)\n",
      "'abadf' abadf (0, 5)\n"
     ]
    }
   ],
   "source": [
    "# \\S   匹配非空白字符\n",
    "for string in ['a  b', 'a\\tb', 'ab\\n', 'ac\\r\\fd', 'abadf']:\n",
    "    match = re.search(r'\\S+', string)\n",
    "    if match is not None:\n",
    "        print(repr(string), match.group(), match.span())\n",
    "    else:\n",
    "        print(repr(string), match)"
   ]
  },
  {
   "cell_type": "code",
   "execution_count": 9,
   "metadata": {},
   "outputs": [
    {
     "name": "stdout",
     "output_type": "stream",
     "text": [
      "'aA912' aA912 (0, 5)\n",
      "'a\\tb' a (0, 1)\n",
      "'012\\n' 012 (0, 3)\n",
      "'\\t123' 123 (1, 4)\n"
     ]
    }
   ],
   "source": [
    "# \\w   匹配单词\n",
    "for string in ['aA912', 'a\\tb', '012\\n', '\\t123']:\n",
    "    match = re.search(r'\\w+', string)\n",
    "    if match is not None:\n",
    "        print(repr(string), match.group(), match.span())\n",
    "    else:\n",
    "        print(repr(string), match)"
   ]
  },
  {
   "cell_type": "code",
   "execution_count": 10,
   "metadata": {},
   "outputs": [
    {
     "name": "stdout",
     "output_type": "stream",
     "text": [
      "'aA912' None\n",
      "'a\\tb' \t (1, 2)\n",
      "'012\\n' \n",
      " (3, 4)\n",
      "'\\t123' \t (0, 1)\n"
     ]
    }
   ],
   "source": [
    "# \\W   匹配非单词\n",
    "for string in ['aA912', 'a\\tb', '012\\n', '\\t123']:\n",
    "    match = re.search(r'\\W+', string)\n",
    "    if match is not None:\n",
    "        print(repr(string), match.group(), match.span())\n",
    "    else:\n",
    "        print(repr(string), match)"
   ]
  },
  {
   "cell_type": "markdown",
   "metadata": {},
   "source": [
    "## 替换与分组\n",
    "\n",
    "在使用正则表达式进行文本提取、搜索或替换时，有时需要可以匹配两个或多个方案中的任意一种正则表达式，可以使用交替字符`|`。有时需要把限定符应用到多个表达式上，则可以使用`()`来进行组合完成。"
   ]
  },
  {
   "cell_type": "markdown",
   "metadata": {},
   "source": [
    "在下面实例中，想匹配具有不同后缀的文本："
   ]
  },
  {
   "cell_type": "code",
   "execution_count": 11,
   "metadata": {},
   "outputs": [
    {
     "name": "stdout",
     "output_type": "stream",
     "text": [
      "'x.py' .py (1, 4)\n",
      "'x.r' .r (1, 3)\n",
      "'x.jpg' None\n",
      "'x.cpp' .cpp (1, 5)\n"
     ]
    }
   ],
   "source": [
    "# 交替字符|  \n",
    "for string in ['x.py', 'x.r', 'x.jpg', 'x.cpp']:\n",
    "    match = re.search(r'\\.py|\\.r|\\.cpp', string)\n",
    "    if match is not None:\n",
    "        print(repr(string), match.group(), match.span())\n",
    "    else:\n",
    "        print(repr(string), match)"
   ]
  },
  {
   "cell_type": "markdown",
   "metadata": {},
   "source": [
    "## 定位符\n",
    "\n",
    "在正则表达式中，还可以使用定位符来限定匹配在文本中的位置。正则表达式的定位符有如下：\n",
    "- `^`，字符串或行的开头\n",
    "- `$`，字符串或行的末尾\n",
    "- `\\A`，字符串开头\n",
    "- `\\Z`，字符串末尾\n",
    "- `\\b`，单词开头或末尾\n",
    "- `\\B`，非单词开头或末尾"
   ]
  },
  {
   "cell_type": "code",
   "execution_count": 12,
   "metadata": {},
   "outputs": [
    {
     "name": "stdout",
     "output_type": "stream",
     "text": [
      "'abc' None\n",
      "'a\\nbc' b (2, 3)\n",
      "'bc\\na' b (0, 1)\n"
     ]
    }
   ],
   "source": [
    "# ^  字符串或行的开头\n",
    "for string in ['abc', 'a\\nbc', 'bc\\na']:\n",
    "    match = re.search(r'^b', string, re.M)\n",
    "    if match is not None:\n",
    "        print(repr(string), match.group(), match.span())\n",
    "    else:\n",
    "        print(repr(string), match)"
   ]
  },
  {
   "cell_type": "code",
   "execution_count": 13,
   "metadata": {},
   "outputs": [
    {
     "name": "stdout",
     "output_type": "stream",
     "text": [
      "'aba' a (2, 3)\n",
      "'ab\\na' a (3, 4)\n",
      "'aa\\nb' a (1, 2)\n"
     ]
    }
   ],
   "source": [
    "# $  字符串或行的末尾\n",
    "for string in ['aba', 'ab\\na', 'aa\\nb']:\n",
    "    match = re.search(r'a$', string, re.M)\n",
    "    if match is not None:\n",
    "        print(repr(string), match.group(), match.span())\n",
    "    else:\n",
    "        print(repr(string), match)"
   ]
  },
  {
   "cell_type": "code",
   "execution_count": 14,
   "metadata": {},
   "outputs": [
    {
     "name": "stdout",
     "output_type": "stream",
     "text": [
      "'abc' None\n",
      "'a\\nbc' None\n",
      "'bc\\na' b (0, 1)\n"
     ]
    }
   ],
   "source": [
    "# \\A   匹配字符串开头\n",
    "for string in ['abc', 'a\\nbc', 'bc\\na']:\n",
    "    match = re.search(r'\\Ab', string)\n",
    "    if match is not None:\n",
    "        print(repr(string), match.group(), match.span())\n",
    "    else:\n",
    "        print(repr(string), match)"
   ]
  },
  {
   "cell_type": "code",
   "execution_count": 15,
   "metadata": {},
   "outputs": [
    {
     "name": "stdout",
     "output_type": "stream",
     "text": [
      "'aba' a (2, 3)\n",
      "'ab\\na' a (3, 4)\n",
      "'aa\\nb' None\n"
     ]
    }
   ],
   "source": [
    "# \\Z   匹配字符串结尾\n",
    "for string in ['aba', 'ab\\na', 'aa\\nb']:\n",
    "    match = re.search(r'a\\Z', string)\n",
    "    if match is not None:\n",
    "        print(repr(string), match.group(), match.span())\n",
    "    else:\n",
    "        print(repr(string), match)"
   ]
  },
  {
   "cell_type": "code",
   "execution_count": 16,
   "metadata": {},
   "outputs": [
    {
     "name": "stdout",
     "output_type": "stream",
     "text": [
      "'Chapter 01' Cha (0, 3)\n",
      "'a Chapter' Cha (2, 5)\n",
      "'aChapter' None\n"
     ]
    }
   ],
   "source": [
    "# \\b   匹配单词\n",
    "for string in ['Chapter 01', 'a Chapter', 'aChapter']:\n",
    "    match = re.search(r'\\bCha', string)\n",
    "    if match is not None:\n",
    "        print(repr(string), match.group(), match.span())\n",
    "    else:\n",
    "        print(repr(string), match)"
   ]
  },
  {
   "cell_type": "code",
   "execution_count": 17,
   "metadata": {},
   "outputs": [
    {
     "name": "stdout",
     "output_type": "stream",
     "text": [
      "'Chapter 01' apt (2, 5)\n",
      "'aptter' None\n",
      "'a Chapter' apt (4, 7)\n"
     ]
    }
   ],
   "source": [
    "# \\B   匹配非单词\n",
    "for string in ['Chapter 01', 'aptter', 'a Chapter']:\n",
    "    match = re.search(r'\\Bapt', string)\n",
    "    if match is not None:\n",
    "        print(repr(string), match.group(), match.span())\n",
    "    else:\n",
    "        print(repr(string), match)"
   ]
  }
 ],
 "metadata": {
  "kernelspec": {
   "display_name": "Python 3",
   "language": "python",
   "name": "python3"
  },
  "language_info": {
   "codemirror_mode": {
    "name": "ipython",
    "version": 3
   },
   "file_extension": ".py",
   "mimetype": "text/x-python",
   "name": "python",
   "nbconvert_exporter": "python",
   "pygments_lexer": "ipython3",
   "version": "3.6.4"
  },
  "toc": {
   "base_numbering": 1,
   "nav_menu": {},
   "number_sections": true,
   "sideBar": true,
   "skip_h1_title": false,
   "title_cell": "Table of Contents",
   "title_sidebar": "Contents",
   "toc_cell": false,
   "toc_position": {},
   "toc_section_display": true,
   "toc_window_display": false
  }
 },
 "nbformat": 4,
 "nbformat_minor": 2
}
