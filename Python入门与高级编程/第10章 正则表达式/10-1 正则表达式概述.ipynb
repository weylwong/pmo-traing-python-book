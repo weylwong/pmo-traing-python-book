{
 "cells": [
  {
   "cell_type": "markdown",
   "metadata": {},
   "source": [
    "# 正则表达式概述\n",
    "\n",
    "字符串是现实世界文本的一种抽象，是一种重要的信息载体。对于文本有如下应用和操作：\n",
    "1. 提取，识别并提取符合要求的文本，例如从杂乱信息中获取用户姓名，手机号码等信息。\n",
    "2. 验证，检测文本是否符合某些标准，例如用户输入的邮件地址是否符合邮件地址规范。\n",
    "3. 搜索，定位文本是否有指定的字符串，例如从文本信息中查找是否有图像的文件名。\n",
    "4. 替换，根据搜索匹配结果，使用一个字符串进行替换。例如，把文本中的 Windows 命令替换为 Linux 命令。\n",
    "5. 分割，根据匹配位置，分割字符串。\n",
    "\n",
    "Python 内置了字符串类型，实现的方法包括字符串的分割、搜索、替换等基本操作，然而功能还不足够强大。"
   ]
  },
  {
   "cell_type": "markdown",
   "metadata": {},
   "source": [
    "## 与字符串方法的比较\n",
    "\n",
    "例如，对于下面的逗号分隔字符串，可以调用 `str.split()` 方法轻松实现字符串字词的分隔："
   ]
  },
  {
   "cell_type": "code",
   "execution_count": 1,
   "metadata": {},
   "outputs": [
    {
     "data": {
      "text/plain": [
       "['java', 'c', 'c++', 'python']"
      ]
     },
     "execution_count": 1,
     "metadata": {},
     "output_type": "execute_result"
    }
   ],
   "source": [
    "s1 = 'java,c,c++,python'\n",
    "s1.split(',')"
   ]
  },
  {
   "cell_type": "markdown",
   "metadata": {},
   "source": [
    "然而，如果在字符串可能会逗号(`,`)、分号(`;`)或冒号`:`进行词语分隔，那么使用 `str.split()` 方法就无法一步搞定："
   ]
  },
  {
   "cell_type": "code",
   "execution_count": 2,
   "metadata": {},
   "outputs": [
    {
     "data": {
      "text/plain": [
       "['java,c', 'c++:python']"
      ]
     },
     "execution_count": 2,
     "metadata": {},
     "output_type": "execute_result"
    }
   ],
   "source": [
    "s2 = 'java,c;c++:python'\n",
    "s2.split(';')"
   ]
  },
  {
   "cell_type": "markdown",
   "metadata": {},
   "source": [
    "字符串的`str.find()`与`str.rfind()`方法可以在字符串中搜索指定子字符串，例如对于如下字符串："
   ]
  },
  {
   "cell_type": "code",
   "execution_count": 3,
   "metadata": {},
   "outputs": [
    {
     "name": "stdout",
     "output_type": "stream",
     "text": [
      "32\n",
      "59\n"
     ]
    }
   ],
   "source": [
    "s3 = 'There are a lot of image files: pet.png, cat.png, dog.png, pet.png'\n",
    "print(s3.find('pet.png'))\n",
    "print(s3.rfind('pet.png'))"
   ]
  },
  {
   "cell_type": "markdown",
   "metadata": {},
   "source": [
    "然而，当字符串复杂一些，搜索条件包括多个字符串形式，例如搜索`pet.png`，`pet.jpg`，`pet.svg`但不包括`dogpet.png`的位置，`str.find()` 就有些捉襟见肘："
   ]
  },
  {
   "cell_type": "code",
   "execution_count": 4,
   "metadata": {},
   "outputs": [
    {
     "name": "stdout",
     "output_type": "stream",
     "text": [
      "32\n",
      "71\n"
     ]
    }
   ],
   "source": [
    "s4 = 'There are a lot of image files: pet.png, cat.png, pet.jpg, pet.svg, catpet.png'\n",
    "print(s4.find('pet.png'))\n",
    "print(s4.rfind('pet.png'))"
   ]
  },
  {
   "cell_type": "markdown",
   "metadata": {},
   "source": [
    "字符串的 `str.replace()` 方法可以替换字符串中指定的子字符串，例如在如下示例中："
   ]
  },
  {
   "cell_type": "code",
   "execution_count": 5,
   "metadata": {},
   "outputs": [
    {
     "name": "stdout",
     "output_type": "stream",
     "text": [
      "There are some Python books, Python Video, Python codes under this directory\n"
     ]
    }
   ],
   "source": [
    "s5 = 'There are some Matlab books, Matlab Video, Matlab codes under this directory'\n",
    "print(s5.replace(\"Matlab\", \"Python\"))"
   ]
  },
  {
   "cell_type": "markdown",
   "metadata": {},
   "source": [
    "不过，当字符串稍微复杂一些，`str.replace()` 方法就会有些吃力："
   ]
  },
  {
   "cell_type": "code",
   "execution_count": 6,
   "metadata": {},
   "outputs": [
    {
     "name": "stdout",
     "output_type": "stream",
     "text": [
      "There are some Python books, matlab Video, MatLab codes under this directory\n"
     ]
    }
   ],
   "source": [
    "s6 = 'There are some Matlab books, matlab Video, MatLab codes under this directory'\n",
    "print(s6.replace(\"Matlab\", \"Python\"))"
   ]
  },
  {
   "cell_type": "markdown",
   "metadata": {},
   "source": [
    "在编程中遇到字符串问题的时候，总会有人说，那使用正则表达式（regular expression）吧，它能帮你搞定问题。正则表达式功能强大，实际上大部分编程语言都有正则表达式的库，有很多应用程序也提供正则表达式的插件。大家或许听过正则表达式会有些难。呵呵，确实有些难，不过每次学几个，日积月累还是能学会的。\n",
    "\n",
    "正则表达式功能强大有些难学，在于它提供了一种紧凑的表示法，仅仅用一个表达式就能表示无限可能的字符串。正则表达式可以理解为是一种迷你语言，使用 Python 标准库 `re` 可以无缝实现正则表达式创建和使用。在使用 `re` 模块前需要导入模块："
   ]
  },
  {
   "cell_type": "code",
   "execution_count": 7,
   "metadata": {},
   "outputs": [
    {
     "name": "stdout",
     "output_type": "stream",
     "text": [
      "2.2.1\n"
     ]
    }
   ],
   "source": [
    "import re\n",
    "print(re.__version__)"
   ]
  },
  {
   "cell_type": "markdown",
   "metadata": {},
   "source": [
    "对于上面的字符串分割示例，`re`模块提供了 `re.split()` 函数来对字符串进行分隔。例如对于第一个字符串，可以运行如下代码进行分割："
   ]
  },
  {
   "cell_type": "code",
   "execution_count": 8,
   "metadata": {},
   "outputs": [
    {
     "data": {
      "text/plain": [
       "['java', 'c', 'c++', 'python']"
      ]
     },
     "execution_count": 8,
     "metadata": {},
     "output_type": "execute_result"
    }
   ],
   "source": [
    "s1 = 'java,c,c++,python'\n",
    "re.split(',', s1)"
   ]
  },
  {
   "cell_type": "markdown",
   "metadata": {},
   "source": [
    "调用`re.split()`函数时，第一个参数是正则表达式`,`。这里的表达式匹配的字符自然是`,`，使用这种匹配行为来搜索整个文本，这与`str.split()`差别不大。不过正则表达式显然不会如此简单。对于第 2 个字符串，使用如下正则表达式进行分割："
   ]
  },
  {
   "cell_type": "code",
   "execution_count": 9,
   "metadata": {},
   "outputs": [
    {
     "data": {
      "text/plain": [
       "['java', 'c', 'c++', 'python']"
      ]
     },
     "execution_count": 9,
     "metadata": {},
     "output_type": "execute_result"
    }
   ],
   "source": [
    "re.split('[,;:]', s2)"
   ]
  },
  {
   "cell_type": "markdown",
   "metadata": {},
   "source": [
    "在上述语句中的正则表达式使用`[]`来表示范围，来进行更精准地匹配，即搜索的字符是逗号、分号或冒号。如上可以看出，正则表达式的语句并没有增加多少，但结果已经满足要求。"
   ]
  },
  {
   "cell_type": "markdown",
   "metadata": {},
   "source": [
    "对于字符串搜索示例，`re`模块也提供了 `re.search()` 和 `re.findall()`函数。例如对第3个字符串，可以运行如下语句："
   ]
  },
  {
   "cell_type": "code",
   "execution_count": 10,
   "metadata": {},
   "outputs": [],
   "source": [
    "s3 = 'There are a lot of image files: pet.png, cat.png, dog.png, pet.png'\n",
    "res = re.search('pet.png', s3)"
   ]
  },
  {
   "cell_type": "markdown",
   "metadata": {},
   "source": [
    "调用`re.search()`函数时，第一个参数正则表达式，这里是最简单的。"
   ]
  },
  {
   "cell_type": "code",
   "execution_count": 11,
   "metadata": {},
   "outputs": [
    {
     "data": {
      "text/plain": [
       "' pet.png'"
      ]
     },
     "execution_count": 11,
     "metadata": {},
     "output_type": "execute_result"
    }
   ],
   "source": [
    "s4 = 'There are a lot of image files: pet.png, cat.png, pet.jpg, pet.svg, catpet.png'\n",
    "res = re.search('[^(catpet)](pet)\\.(png|svg|jpg)', s4).group()\n",
    "res"
   ]
  },
  {
   "cell_type": "markdown",
   "metadata": {},
   "source": [
    "对于上面的字符串替换示例，`re`模块提供了`re.sub()`来实现字符串替换。同样，运行如下语句："
   ]
  },
  {
   "cell_type": "code",
   "execution_count": 12,
   "metadata": {},
   "outputs": [
    {
     "data": {
      "text/plain": [
       "'There are some Python books, Python Video, Python codes under this directory'"
      ]
     },
     "execution_count": 12,
     "metadata": {},
     "output_type": "execute_result"
    }
   ],
   "source": [
    "s5 = 'There are some Matlab books, Matlab Video, Matlab codes under this directory'\n",
    "re.sub('Matlab', 'Python', s5)"
   ]
  },
  {
   "cell_type": "markdown",
   "metadata": {},
   "source": [
    "调用`re.sub()`函数时，第1个为正则表达式，第2个位要替换内容。这里使用的正则表达式是。\n",
    "\n",
    "对于第6个字符串，只需要增加`flags=re.IGNORECASE`关键词，即对大小写不敏感。就这么轻松搞定："
   ]
  },
  {
   "cell_type": "code",
   "execution_count": 13,
   "metadata": {},
   "outputs": [
    {
     "data": {
      "text/plain": [
       "'There are some Pytho books, Pytho Video, Pytho codes under this directory'"
      ]
     },
     "execution_count": 13,
     "metadata": {},
     "output_type": "execute_result"
    }
   ],
   "source": [
    "s6 = 'There are some Matlab books, matlab Video, MatLab codes under this directory'\n",
    "re.sub('matlab', 'Pytho', s6, flags=re.IGNORECASE)"
   ]
  },
  {
   "cell_type": "markdown",
   "metadata": {},
   "source": [
    "## re模块简介\n",
    "\n",
    "使用自省函数 `dir()` 列出 `re` 模块内容。"
   ]
  },
  {
   "cell_type": "code",
   "execution_count": 14,
   "metadata": {},
   "outputs": [
    {
     "name": "stdout",
     "output_type": "stream",
     "text": [
      "['A', 'ASCII', 'DEBUG', 'DOTALL', 'I', 'IGNORECASE', 'L', 'LOCALE', 'M', 'MULTILINE', 'RegexFlag', 'S', 'Scanner', 'T', 'TEMPLATE', 'U', 'UNICODE', 'VERBOSE', 'X', '_MAXCACHE', '__all__', '__builtins__', '__cached__', '__doc__', '__file__', '__loader__', '__name__', '__package__', '__spec__', '__version__', '_alphanum_bytes', '_alphanum_str', '_cache', '_compile', '_compile_repl', '_expand', '_locale', '_pattern_type', '_pickle', '_subx', 'compile', 'copyreg', 'enum', 'error', 'escape', 'findall', 'finditer', 'fullmatch', 'functools', 'match', 'purge', 'search', 'split', 'sre_compile', 'sre_parse', 'sub', 'subn', 'template']\n"
     ]
    }
   ],
   "source": [
    "print(dir(re))"
   ]
  },
  {
   "cell_type": "markdown",
   "metadata": {},
   "source": [
    "### 主要函数\n",
    "\n",
    "正则表达式主要用来进行文本匹配、文本提取、文本搜索、文本替换等功能，下表列出实现这些功能的函数:\n",
    "- `re.split(pattern, string, maxsplit=0, flags=0)`，使用正则表达式匹配子字符串把字符串进行分割，返回列表。\n",
    "- `re.match(pattern, string, flags=0)`，在字符串起始位置匹配一个正则表达式模式，返回匹配对象或`None`。\n",
    "- `re.search(pattern, string, flags=0)`，搜索整个字符串来匹配正则表达式模式，返回匹配对象或`None`。\n",
    "- `re.findall(pattern, string, flags=0)`，在字符串找到正则表达式匹配的所有子串，返回列表。\n",
    "- `re.finditer(pattern, string, flags=0)`，在字符串找到正则表达式匹配的所有子串，返回迭代器。\n",
    "- `re.sub(pattern, repl, string, count=0, flags=0)`，替换字符串中的匹配项，返回替换后的字符串。\n",
    "- `re.subn(pattern, repl, string, count=0, flags=0)`，替换字符串中的匹配项，返回替换后的字符串与替换次数。"
   ]
  },
  {
   "cell_type": "markdown",
   "metadata": {},
   "source": [
    "上面列的函数的第一个参数都是一个正则表达式字符串，在函数内部会把字符串进行编译转换为内部格式，然后再做进一步的处理。如果需要多次执行正则表达式的话，`re` 模块有另外一种工作方式 ：使用 `re.compile()` 函数把一个正则表达式字符串进行编译，返回一个正则表达式对象，然后调用对象的方法来实现字符串的匹配、提取、搜索和文本替换功能。下表列出正则表达式对象的方法：\n",
    "- `rx.split(string, maxsplit=0, ...)`，文本分割，与`re.split()`类似。\n",
    "- `rx.match(string=None, pos=0, ...)`，文本正则表达式匹配，与`re.match()`类似。\n",
    "- `rx.search(string=None, pos=0, ...)`，文本正则表达式搜索匹配，与`re.search()`类似。\n",
    "- `rx.findall(string=None, pos=0, ...)`，字符串正则表达式提取，与`re.findall()`类似。\n",
    "- `rx.finditer(string=None, pos=0, ...)`，字符串正则表达式提取，与`re.finditer()`类似。\n",
    "- `rx.sub(repl, string, count=0)`，文本正则表达式替换，与`re.sub()`类似。\n",
    "- `rx.subn(repl, string, count=0)`，文本正则表达式替换，与`re.subn()`类似。"
   ]
  },
  {
   "cell_type": "markdown",
   "metadata": {},
   "source": [
    "在 `re` 模块中，调用`re.compile()` 函数会返回一个正则表达式对象，调用 `re.match()` 等函数会返回匹配对象，下面列出这两个对象：\n",
    "- `_sre.SRE_Pattern`\n",
    "- `_sre.SRE_Match`"
   ]
  },
  {
   "cell_type": "markdown",
   "metadata": {},
   "source": [
    "在 `re` 模块中还提供一些标记符常数，在正则表达式中可以用一些标记符来控制匹配的模式，如下表所示：\n",
    "- `re.I, re.IGNORECASE`，大小写不敏感。\n",
    "- `re.L, re.LOCALE`，本地化识别。\n",
    "- `re.M, re.MULTILINE`，多行匹配。\n",
    "- `re.S, re.DOTALL`，使`.`匹配每个字符，包括换行符。\n",
    "- `re.U, re.UNICODE`，根据 Unicode 字符集解析字符。\n",
    "- `re.X, re.VERBOSE`，使空白与注释包含在匹配中。"
   ]
  },
  {
   "cell_type": "markdown",
   "metadata": {},
   "source": [
    "在下面几节中，将详细介绍使用正则表达式，进行文本的匹配、提取、搜索和替换等操作应用。"
   ]
  }
 ],
 "metadata": {
  "kernelspec": {
   "display_name": "Python 3",
   "language": "python",
   "name": "python3"
  },
  "language_info": {
   "codemirror_mode": {
    "name": "ipython",
    "version": 3
   },
   "file_extension": ".py",
   "mimetype": "text/x-python",
   "name": "python",
   "nbconvert_exporter": "python",
   "pygments_lexer": "ipython3",
   "version": "3.6.4"
  },
  "toc": {
   "base_numbering": 1,
   "nav_menu": {},
   "number_sections": true,
   "sideBar": true,
   "skip_h1_title": false,
   "title_cell": "Table of Contents",
   "title_sidebar": "Contents",
   "toc_cell": false,
   "toc_position": {},
   "toc_section_display": true,
   "toc_window_display": false
  }
 },
 "nbformat": 4,
 "nbformat_minor": 2
}
