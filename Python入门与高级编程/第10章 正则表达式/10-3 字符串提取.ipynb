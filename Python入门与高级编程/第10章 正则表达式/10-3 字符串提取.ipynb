{
 "cells": [
  {
   "cell_type": "markdown",
   "metadata": {},
   "source": [
    "# 使用正则表达式提取字符串\n",
    "\n",
    "正则表达式`re`库提供了两个函数从文本中提取字符串。\n",
    "\n",
    "`re.findall()`从文本中提取正则表达式匹配的所有子串，其语法为：\n",
    "```python\n",
    "re.findall(pattern, string, flags=0)\n",
    "```\n",
    "- 输入\n",
    "    - `pattern`，正则表达式字符串。\n",
    "    - `string`，文本字符串。\n",
    "    - `flags`，标记符。\n",
    "- 输出\n",
    "    - 子串列表\n",
    "\n",
    "`re.finditer()`与`re.findall()`功能类似，只是会返回迭代器，迭代器的元素是正则匹配对象。"
   ]
  },
  {
   "cell_type": "markdown",
   "metadata": {},
   "source": [
    "下面通过一些实例来熟悉如何使用正则表达式提取字符串。"
   ]
  },
  {
   "cell_type": "code",
   "execution_count": 3,
   "metadata": {},
   "outputs": [],
   "source": [
    "import re"
   ]
  },
  {
   "cell_type": "markdown",
   "metadata": {},
   "source": [
    "## 提取数字\n",
    "\n",
    "一个比较常见的应用是从杂乱的文本中快速提取数字，例如电话号码，身份证号码，QQ号、IP地址等。"
   ]
  },
  {
   "cell_type": "markdown",
   "metadata": {},
   "source": [
    "国内的电话号码通常为11个数字，有移动号码或座机号码，例如：\n",
    "- `0533-4405222`\n",
    "- `010-86888822`\n",
    "\n",
    "下面实例来提取电话号码："
   ]
  },
  {
   "cell_type": "code",
   "execution_count": 5,
   "metadata": {},
   "outputs": [
    {
     "data": {
      "text/plain": [
       "['0533-4405222', '010-86888822']"
      ]
     },
     "execution_count": 5,
     "metadata": {},
     "output_type": "execute_result"
    }
   ],
   "source": [
    "string = '电话号码( 0533-4405222、010-86888822 )'\n",
    "pattern = '\\d{3}-\\d{8}|\\d{4}-\\d{7}'\n",
    "re.findall(pattern, string)"
   ]
  },
  {
   "cell_type": "markdown",
   "metadata": {},
   "source": [
    "国内身份证号有两种，一种是 15 位，另一种 18 位数字。最后一位是校验位可能为数字或字符X。下面实例来提取身份证号："
   ]
  },
  {
   "cell_type": "code",
   "execution_count": 12,
   "metadata": {},
   "outputs": [
    {
     "data": {
      "text/plain": [
       "['123414191401244', '123414191401244', '123414191401244']"
      ]
     },
     "execution_count": 12,
     "metadata": {},
     "output_type": "execute_result"
    }
   ],
   "source": [
    "string = '张三：123414191401244444；李四：12341419140124444x；王麻子：12341419140124444X'\n",
    "pattern = '\\d{15}|\\d{17}[\\dXx]'\n",
    "re.findall(pattern, string)"
   ]
  },
  {
   "cell_type": "markdown",
   "metadata": {},
   "source": [
    "腾讯QQ号是从10000开始的，正则表达式可以写为`[1-9][0-9]{4,}`，即从10000开始，长度不限："
   ]
  },
  {
   "cell_type": "code",
   "execution_count": 13,
   "metadata": {},
   "outputs": [
    {
     "data": {
      "text/plain": [
       "['1000234', '412341341234']"
      ]
     },
     "execution_count": 13,
     "metadata": {},
     "output_type": "execute_result"
    }
   ],
   "source": [
    "string = '张QQ：1000234；老鼠吃大米：412341341234；2008年'\n",
    "pattern = '[1-9][0-9]{4,}'\n",
    "re.findall(pattern, string)"
   ]
  },
  {
   "cell_type": "markdown",
   "metadata": {},
   "source": [
    "IP V4的地址是`xxx.xxx.xxx.xxx`，正则表达式可以写为`\\d+\\.\\d+\\.\\d+\\.\\d+`，下面实例来提取IP地址："
   ]
  },
  {
   "cell_type": "code",
   "execution_count": 11,
   "metadata": {},
   "outputs": [
    {
     "data": {
      "text/plain": [
       "['255.255.255.4', '127.127.0.127']"
      ]
     },
     "execution_count": 11,
     "metadata": {},
     "output_type": "execute_result"
    }
   ],
   "source": [
    "string = 'dns：255.255.255.4；web：127.127.0.127'\n",
    "pattern = '\\d+\\.\\d+\\.\\d+\\.\\d+'\n",
    "re.findall(pattern, string)"
   ]
  },
  {
   "cell_type": "markdown",
   "metadata": {},
   "source": [
    "## 提取特定字符串\n",
    "\n",
    "使用正则表达式从文本中提取特定字符串，例如邮件地址等。"
   ]
  },
  {
   "cell_type": "code",
   "execution_count": null,
   "metadata": {},
   "outputs": [],
   "source": []
  }
 ],
 "metadata": {
  "kernelspec": {
   "display_name": "Python 3",
   "language": "python",
   "name": "python3"
  },
  "language_info": {
   "codemirror_mode": {
    "name": "ipython",
    "version": 3
   },
   "file_extension": ".py",
   "mimetype": "text/x-python",
   "name": "python",
   "nbconvert_exporter": "python",
   "pygments_lexer": "ipython3",
   "version": "3.6.4"
  },
  "toc": {
   "base_numbering": 1,
   "nav_menu": {},
   "number_sections": true,
   "sideBar": true,
   "skip_h1_title": false,
   "title_cell": "Table of Contents",
   "title_sidebar": "Contents",
   "toc_cell": false,
   "toc_position": {},
   "toc_section_display": true,
   "toc_window_display": false
  }
 },
 "nbformat": 4,
 "nbformat_minor": 2
}
