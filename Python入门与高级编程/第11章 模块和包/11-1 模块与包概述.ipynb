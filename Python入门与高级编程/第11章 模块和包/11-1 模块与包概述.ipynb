{
 "cells": [
  {
   "cell_type": "markdown",
   "metadata": {
    "slideshow": {
     "slide_type": "slide"
    }
   },
   "source": [
    "# 模块和包概述\n",
    "\n",
    "地球上有 60-70 亿个人，如何快捷认识地球上另外1个人呢？据说有个六度法则，只要通过六个朋友就能达到目的。而要组织管理这些人，通常用层级关系来管理。例如在中国就是用4个层级来管理10亿人：\n",
    "- 村队，从几百到几千；\n",
    "- 乡镇，从几十到上百；\n",
    "- 县市，从十几到上百；\n",
    "- 省区，几十个；\n"
   ]
  },
  {
   "cell_type": "markdown",
   "metadata": {},
   "source": [
    "每个人在学编程语言时，都学着编写“你好，世界”的语句。在 Python 中，一行语句就是最小的可执行单元。随后学习的不断深入，开始从一行语句到多行语句，甚至到几十行的语句，进一步还把语句组织成函数与类。总有一天，自己编写的语句、函数与类也会越积越多。更深层次的想，全世界有这么多程序员，自然会有那么多的代码，Python 如何组织管理这些代码呢？\n",
    "\n",
    "与人的组织管理一样，Python 使用模块与包的方法来组织管理 Python 语句：\n",
    "<img src=\"../images/module_package.jpg\" width=\"50%\">\n",
    "\n",
    "不同的的是，Python 代码组织采用扁平模式：\n",
    "- 语句\n",
    "- 模块与包\n",
    "\n",
    "这意味着 Python 会有很多模块与包。实际上 [PyPi（Python Package Index）](https://pypi.org/)已经收集发布了大约 100 多万个 Python 模块与包。"
   ]
  },
  {
   "cell_type": "markdown",
   "metadata": {
    "slideshow": {
     "slide_type": "slide"
    }
   },
   "source": [
    "## 导入模块\n",
    "\n",
    "在 Python 编程中，一个模块就是一个文件；一个软件包就是一个目录，包含多个文件，目录可以有多层目录。在 Python 编程中，模块与包仅仅是文件与目录的差别，其本质都是提供一些功能，常常合称库。要使用这些模块与包，需要使用`import`来导入。在安装 Python 解释器时，会内置安装许多常用功能库，称为标准库。例如，下面导入一些标准库：随机函数与日志库："
   ]
  },
  {
   "cell_type": "code",
   "execution_count": 3,
   "metadata": {
    "slideshow": {
     "slide_type": "-"
    }
   },
   "outputs": [],
   "source": [
    "import random\n",
    "import logging"
   ]
  },
  {
   "cell_type": "markdown",
   "metadata": {
    "slideshow": {
     "slide_type": "slide"
    }
   },
   "source": [
    "在 Python 中万物皆对象，使用`import` 语句会创建对象并赋值到变量`random`, `logging`，使用自省函数来查看对象的类型："
   ]
  },
  {
   "cell_type": "code",
   "execution_count": 12,
   "metadata": {
    "slideshow": {
     "slide_type": "-"
    }
   },
   "outputs": [
    {
     "data": {
      "text/plain": [
       "(module, module, type)"
      ]
     },
     "execution_count": 12,
     "metadata": {},
     "output_type": "execute_result"
    }
   ],
   "source": [
    "type(random), type(logging), type(type(random))"
   ]
  },
  {
   "cell_type": "markdown",
   "metadata": {
    "slideshow": {
     "slide_type": "-"
    }
   },
   "source": [
    "可见看出，使用`import` 语句会创建的对象都是`module`类的实例，`module`类则是元类的实例。"
   ]
  },
  {
   "cell_type": "markdown",
   "metadata": {
    "slideshow": {
     "slide_type": "slide"
    }
   },
   "source": [
    "使用内置函数 `help()` 打印模块对象的帮助，可以看出：\n",
    "- `random`库是模块，是一个文件`randoml.py`\n",
    "- `logging`库是软件包，是目录下的一个特殊文件`logging/__init__.py`"
   ]
  },
  {
   "cell_type": "code",
   "execution_count": 20,
   "metadata": {
    "slideshow": {
     "slide_type": "-"
    }
   },
   "outputs": [],
   "source": [
    "# help(random)\n",
    "# help(logging)"
   ]
  },
  {
   "cell_type": "markdown",
   "metadata": {},
   "source": [
    "也可以打印模块对象的特殊属性`__file__`来查看库对应的文件："
   ]
  },
  {
   "cell_type": "code",
   "execution_count": 21,
   "metadata": {
    "slideshow": {
     "slide_type": "-"
    }
   },
   "outputs": [
    {
     "name": "stdout",
     "output_type": "stream",
     "text": [
      "C:\\Anaconda3\\lib\\random.py\n",
      "C:\\Anaconda3\\lib\\logging\\__init__.py\n"
     ]
    }
   ],
   "source": [
    "print(random.__file__)\n",
    "print(logging.__file__)"
   ]
  },
  {
   "cell_type": "markdown",
   "metadata": {
    "slideshow": {
     "slide_type": "slide"
    }
   },
   "source": [
    "## 访问模块中内容\n",
    "\n",
    "模块中通常包括实现各种功能的函数、类与对象，使用`.`操作符来访问："
   ]
  },
  {
   "cell_type": "code",
   "execution_count": 24,
   "metadata": {
    "slideshow": {
     "slide_type": "-"
    }
   },
   "outputs": [],
   "source": [
    "# 生成随机整数\n",
    "random.randint(0, 100)\n",
    "# 打印日志信息\n",
    "logging.info('日志信息')"
   ]
  }
 ],
 "metadata": {
  "kernelspec": {
   "display_name": "Python 3",
   "language": "python",
   "name": "python3"
  },
  "language_info": {
   "codemirror_mode": {
    "name": "ipython",
    "version": 3
   },
   "file_extension": ".py",
   "mimetype": "text/x-python",
   "name": "python",
   "nbconvert_exporter": "python",
   "pygments_lexer": "ipython3",
   "version": "3.6.4"
  },
  "toc": {
   "base_numbering": 1,
   "nav_menu": {},
   "number_sections": true,
   "sideBar": true,
   "skip_h1_title": false,
   "title_cell": "Table of Contents",
   "title_sidebar": "Contents",
   "toc_cell": false,
   "toc_position": {
    "height": "calc(100% - 180px)",
    "left": "10px",
    "top": "150px",
    "width": "253px"
   },
   "toc_section_display": true,
   "toc_window_display": false
  }
 },
 "nbformat": 4,
 "nbformat_minor": 1
}
