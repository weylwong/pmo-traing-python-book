{
 "cells": [
  {
   "cell_type": "markdown",
   "metadata": {
    "slideshow": {
     "slide_type": "slide"
    }
   },
   "source": [
    "# 自定义模块和包\n",
    "\n",
    "Python 系统除了提供自带的标准库外，自己还会安装大量的外部库。在 Python 编程中，仍然还会实现自己的模块与包。本节会介绍如何实现自定义模块与包，不过在动手之前，不要忘了这句话：\n",
    "> 不要重复造轮子(Stop Trying to Reinvent the Wheel)"
   ]
  },
  {
   "cell_type": "markdown",
   "metadata": {
    "slideshow": {
     "slide_type": "slide"
    }
   },
   "source": [
    "## 模块(module)\n",
    "\n",
    "在 Python 中一个模块就是一个文件，编写Python代码并用“.py”后缀名进行保存，也就编写了一个 Python 模块。\n",
    "\n",
    "模块名字应该尽量用简短全小写的名字，还是一句老话，做到望文生义不容易。"
   ]
  },
  {
   "cell_type": "markdown",
   "metadata": {
    "slideshow": {
     "slide_type": "slide"
    }
   },
   "source": [
    "模块编写通常采用“高内聚低耦合”的思想原则：\n",
    "- 内聚，描述模块内各个元素彼此结合的紧密程度，高内聚就是一个模块内各个元素彼此结合的紧密程度高。\n",
    "- 耦合，不同模块之间互连程度的度量，低耦合是指模块尽可能独立完成某特定功能。\n",
    "也就是说，一个模块尽量做到代码相关性强、功能独立。"
   ]
  },
  {
   "cell_type": "markdown",
   "metadata": {
    "slideshow": {
     "slide_type": "slide"
    }
   },
   "source": [
    "### 创建模块\n",
    "\n",
    "下面来创建自己的一个模块，假定模块包括一些常量、函数和类。"
   ]
  },
  {
   "cell_type": "code",
   "execution_count": 1,
   "metadata": {
    "slideshow": {
     "slide_type": "slide"
    }
   },
   "outputs": [
    {
     "name": "stdout",
     "output_type": "stream",
     "text": [
      "Writing simplemodule.py\n"
     ]
    }
   ],
   "source": [
    "%%writefile simplemodule.py\n",
    "#!/usr/bin/env python\n",
    "# -*- coding: utf-8 -*-\n",
    "\"\"\"简单模块\n",
    "\n",
    "- 函数、类、变量\n",
    "\"\"\"\n",
    "__author__ = 'Wang Weihua'\n",
    "\n",
    "hello = ['Hi', '您好']\n",
    "\n",
    "def sayhello(name):\n",
    "    \"\"\"Say hello to a person\"\"\"\n",
    "    print('Hi, {}'.format(name))\n",
    "\n",
    "    \n",
    "class SimpleClass(object):\n",
    "    pass"
   ]
  },
  {
   "cell_type": "markdown",
   "metadata": {},
   "source": [
    "### 模块导入\n",
    "\n",
    "可以使用 `import` 命令导入模块:"
   ]
  },
  {
   "cell_type": "code",
   "execution_count": null,
   "metadata": {},
   "outputs": [],
   "source": [
    "import simplemodule"
   ]
  },
  {
   "cell_type": "markdown",
   "metadata": {},
   "source": [
    "由于要导入的模块名字比较长或者其它原因，可以使用如下导入语法：\n",
    "```\n",
    "import module_name as qualname\n",
    "```\n",
    "创建新的模块对象："
   ]
  },
  {
   "cell_type": "code",
   "execution_count": null,
   "metadata": {
    "slideshow": {
     "slide_type": "-"
    }
   },
   "outputs": [],
   "source": [
    "import simplemodule as sm"
   ]
  },
  {
   "cell_type": "markdown",
   "metadata": {},
   "source": [
    "模块对象导入后，就可以使用`.`操作符来访问模块中的函数、类或对象："
   ]
  },
  {
   "cell_type": "code",
   "execution_count": null,
   "metadata": {},
   "outputs": [],
   "source": [
    "print(sm.hello)"
   ]
  },
  {
   "cell_type": "code",
   "execution_count": null,
   "metadata": {},
   "outputs": [],
   "source": [
    "sm.sayhello('Peter')"
   ]
  },
  {
   "cell_type": "code",
   "execution_count": null,
   "metadata": {},
   "outputs": [],
   "source": [
    "obj1 = sm.SimpleClass()\n",
    "print(obj1)"
   ]
  },
  {
   "cell_type": "markdown",
   "metadata": {
    "slideshow": {
     "slide_type": "slide"
    }
   },
   "source": [
    "### 自省\n",
    "\n",
    "使用内置函数`type()`查看模块对象的类型："
   ]
  },
  {
   "cell_type": "code",
   "execution_count": null,
   "metadata": {
    "slideshow": {
     "slide_type": "-"
    }
   },
   "outputs": [],
   "source": [
    "print(type(simplemodule), type(sm))"
   ]
  },
  {
   "cell_type": "markdown",
   "metadata": {
    "slideshow": {
     "slide_type": "slide"
    }
   },
   "source": [
    "模块对象是可变对象，也就是说，可以增加、更改、删除模块中的属性："
   ]
  },
  {
   "cell_type": "code",
   "execution_count": null,
   "metadata": {
    "slideshow": {
     "slide_type": "-"
    }
   },
   "outputs": [],
   "source": [
    "sm.hello = 'hello world'\n",
    "sm.newdata = 'New Data'\n",
    "print(sm.hello, sm.newdata)"
   ]
  },
  {
   "cell_type": "markdown",
   "metadata": {
    "slideshow": {
     "slide_type": "slide"
    }
   },
   "source": [
    "模块对象一般由如下魔术属性：\n",
    "- `__author__`, 作者\n",
    "- `__doc__`, 文档字符串\n",
    "- `__file__`, 模块文件路径\n",
    "- `__name__`, 模块名字"
   ]
  },
  {
   "cell_type": "code",
   "execution_count": null,
   "metadata": {},
   "outputs": [],
   "source": [
    "print(sm.__author__)\n",
    "print(sm.__doc__)\n",
    "print(sm.__file__)\n",
    "print(sm.__name__)"
   ]
  },
  {
   "cell_type": "markdown",
   "metadata": {
    "slideshow": {
     "slide_type": "slide"
    }
   },
   "source": [
    "使用内置函数 `help()` 函数或者 IPython 自省功能可以查看模块的帮助："
   ]
  },
  {
   "cell_type": "code",
   "execution_count": null,
   "metadata": {
    "slideshow": {
     "slide_type": "slide"
    }
   },
   "outputs": [],
   "source": [
    "help(sm)"
   ]
  },
  {
   "cell_type": "markdown",
   "metadata": {},
   "source": [
    "### 重复导入\n",
    "\n",
    "当导入一个模块时，Python解释器会执行模块文件中的语句，并创建一个模块对象。在不同地方，经常会导入同一个模块。但要注意的是，当多次导入同一模块时，解释器并没有运行两次，也就是模块不会重复导入，这样可以节省内存和计算资源。\n",
    "\n",
    "![模块对象](../images/module_objects.png)"
   ]
  },
  {
   "cell_type": "markdown",
   "metadata": {
    "slideshow": {
     "slide_type": "slide"
    }
   },
   "source": [
    "在开发调试时，经常需要重新导入，可以使用 `importlib.reload` 实现重复导入："
   ]
  },
  {
   "cell_type": "code",
   "execution_count": null,
   "metadata": {
    "slideshow": {
     "slide_type": "-"
    }
   },
   "outputs": [],
   "source": [
    "import importlib\n",
    "\n",
    "importlib.reload(sm)"
   ]
  },
  {
   "cell_type": "markdown",
   "metadata": {
    "slideshow": {
     "slide_type": "slide"
    }
   },
   "source": [
    "## 程序与模块\n",
    "\n",
    "一个 Python 代码文件可以是程序文件，也可以是模块文件。当用 Python 运行文件时就是主程序，在程序文件使用 `import` 命令导入时，就是模块。\n",
    "\n",
    "一个 Python 代码文件有一个特殊属性 `__name__`，在这两种场景下其值并不同：\n",
    "- 使用 Python 运行文件时，也就是说为主程序时其值被设置为`__main__`。\n",
    "- 使用 `import` 命令导入模块时， 其值为文件名。"
   ]
  },
  {
   "cell_type": "markdown",
   "metadata": {
    "slideshow": {
     "slide_type": "-"
    }
   },
   "source": [
    "基于此特性，编写新的代码文件："
   ]
  },
  {
   "cell_type": "code",
   "execution_count": null,
   "metadata": {
    "slideshow": {
     "slide_type": "slide"
    }
   },
   "outputs": [],
   "source": [
    "%%writefile simplemodule2.py\n",
    "#!/usr/bin/env python\n",
    "# -*- coding: utf-8 -*-\n",
    "\"\"\"My Simple Module\n",
    "\n",
    "This exports:\n",
    "  - all simple functions and class.\n",
    "  - sm.sayhello is either posixpath or ntpath\n",
    "  - sm.SimpleClass is either 'posix' or 'nt'\n",
    "\n",
    "Programs that import and use 'sm' name \n",
    "\"\"\"\n",
    "__author__ = 'Wu Yang'\n",
    "\n",
    "hello = ['Hi', '您好']\n",
    "\n",
    "def sayhello(name):\n",
    "    \"\"\"Say hello to a person\"\"\"\n",
    "    print('Hi, {}'.format(name))\n",
    "\n",
    "    \n",
    "class SimpleClass():\n",
    "    pass\n",
    "\n",
    "print(__name__)\n",
    "if __name__ == '__main__':\n",
    "    for x in hello:\n",
    "        print(x)\n",
    "        \n",
    "    sayhello('老王')"
   ]
  },
  {
   "cell_type": "markdown",
   "metadata": {
    "slideshow": {
     "slide_type": "slide"
    }
   },
   "source": [
    "使用 `import` 语句导入模块，则模块的特殊属性`__name__`为模块名字："
   ]
  },
  {
   "cell_type": "code",
   "execution_count": null,
   "metadata": {
    "slideshow": {
     "slide_type": "-"
    }
   },
   "outputs": [],
   "source": [
    "import simplemodule2 as sm2\n",
    "\n",
    "print(sm2.__name__)"
   ]
  },
  {
   "cell_type": "markdown",
   "metadata": {
    "slideshow": {
     "slide_type": "slide"
    }
   },
   "source": [
    "在命令行下，使用 Python 解释器来运行程序，则其特殊属性`__name__`为`__main__`："
   ]
  },
  {
   "cell_type": "code",
   "execution_count": null,
   "metadata": {
    "slideshow": {
     "slide_type": "-"
    }
   },
   "outputs": [],
   "source": [
    "%run simplemodule2.py"
   ]
  },
  {
   "cell_type": "markdown",
   "metadata": {},
   "source": [
    "基于这个特性，编写 Python 文件时常常用如下语句：\n",
    "```\n",
    "if __name__ == '__main__':\n",
    "    suits\n",
    "```\n",
    "\n",
    "当文件作为模块时，不执行该语句块；当文件作为程序运行时则执行该语句块。"
   ]
  },
  {
   "cell_type": "markdown",
   "metadata": {
    "slideshow": {
     "slide_type": "slide"
    }
   },
   "source": [
    "## 包（package）\n",
    "\n",
    "在 Python 中，一个模块就是一个文件，一个软件包就是一个目录，使用多层目录，软件包可以嵌套。Python 包是模块的集合，是更高一级的封装。"
   ]
  },
  {
   "cell_type": "markdown",
   "metadata": {
    "slideshow": {
     "slide_type": "slide"
    }
   },
   "source": [
    "### 创建包\n",
    "\n",
    "一个目录就是软件包，不过区别在于，目录必须包含一个`__init__.py`文件。包是模块的集合，通常包含多个多个模块或子包。从理论上说，一个最简单的包允许只是一个目录（只有`__init__.py`文件），不过如果是这样的话，为啥不用模块呢？"
   ]
  },
  {
   "cell_type": "markdown",
   "metadata": {
    "slideshow": {
     "slide_type": "slide"
    }
   },
   "source": [
    "下面来创建一个最简单的包，只包含`__init__.py`。也就是创建一个目录，然后在目录下创建一个`__init__.py`空文件："
   ]
  },
  {
   "cell_type": "code",
   "execution_count": null,
   "metadata": {
    "slideshow": {
     "slide_type": "-"
    }
   },
   "outputs": [],
   "source": [
    "%mkdir simpkg\n",
    "!touch simpkg/__init__.py"
   ]
  },
  {
   "cell_type": "code",
   "execution_count": null,
   "metadata": {
    "slideshow": {
     "slide_type": "slide"
    }
   },
   "outputs": [],
   "source": [
    "!tree simpkg"
   ]
  },
  {
   "cell_type": "markdown",
   "metadata": {},
   "source": [
    "### 导入包\n",
    "\n",
    "使用`import`来导入软件包。由于一个软件包可能会包含子包以及模块，可以使用如下语法：\n",
    "```\n",
    "# 导入包\n",
    "import dir1\n",
    "# 导入子包中的模块\n",
    "import dir1.dir2.module\n",
    "# 导入子包中的模块\n",
    "from dir1.dir2 import module\n",
    "```"
   ]
  },
  {
   "cell_type": "code",
   "execution_count": null,
   "metadata": {
    "slideshow": {
     "slide_type": "-"
    }
   },
   "outputs": [],
   "source": [
    "import simpkg\n",
    "import simpkg as sm"
   ]
  },
  {
   "cell_type": "markdown",
   "metadata": {
    "slideshow": {
     "slide_type": "slide"
    }
   },
   "source": [
    "### 自省\n",
    "\n",
    "使用内置函数`type()`查看对象的类型"
   ]
  },
  {
   "cell_type": "code",
   "execution_count": null,
   "metadata": {
    "slideshow": {
     "slide_type": "-"
    }
   },
   "outputs": [],
   "source": [
    "print(type(simpkg), type(sm))"
   ]
  },
  {
   "cell_type": "markdown",
   "metadata": {},
   "source": [
    "这说明，包也是模块的实例对象。查看软件包的特殊属性："
   ]
  },
  {
   "cell_type": "code",
   "execution_count": null,
   "metadata": {},
   "outputs": [],
   "source": [
    "simpkg.__file__"
   ]
  },
  {
   "cell_type": "markdown",
   "metadata": {},
   "source": [
    "### 包含模块与子包\n",
    "\n",
    "下面在`__init__.py`添加一些内容，再添加一个新的模块，以及一个子包。"
   ]
  },
  {
   "cell_type": "code",
   "execution_count": null,
   "metadata": {
    "slideshow": {
     "slide_type": "slide"
    }
   },
   "outputs": [],
   "source": [
    "%%writefile simpkg/__init__.py\n",
    "#!/usr/bin/env python\n",
    "# -*- coding: utf-8 -*-\n",
    "\"\"\"My Simple Package\n",
    "\n",
    "simple package include a module and a subpackage\n",
    "\"\"\"\n",
    "__author__ = 'Wang Weihua <whwang@isciencehub.com>'\n",
    "__status__  = \"production\"\n",
    "__version__ = \"0.0.1.1\"\n",
    "__date__    = \"24 July 2018\"\n",
    "\n",
    "hello = ['Hi', '您好']\n",
    "\n",
    "def sayhello(name):\n",
    "    \"\"\"Say hello to a person\"\"\"\n",
    "    print('Hi, {}'.format(name))\n",
    "\n",
    "    \n",
    "class SimpleClass():\n",
    "    pass"
   ]
  },
  {
   "cell_type": "markdown",
   "metadata": {},
   "source": [
    "在包中添加一个模块，也就是在目录中添加一个文件："
   ]
  },
  {
   "cell_type": "code",
   "execution_count": null,
   "metadata": {
    "slideshow": {
     "slide_type": "slide"
    }
   },
   "outputs": [],
   "source": [
    "%%writefile simpkg/multilang.py\n",
    "#!/usr/bin/env python\n",
    "# -*- coding: utf-8 -*-\n",
    "def loveyou():\n",
    "    \"\"\"say love in multi language\"\"\"\n",
    "    print('我爱你')    \n",
    "    print('I Love You')\n",
    "    print('私は爱する')             # 日本：\n",
    "    print('나는 너를 사랑한다')     # 韩国\n",
    "    print('Я люблю вас')   # 俄罗斯\n",
    "    print(\"Je t'aime\")              # 法国\n",
    "    print('Ich liebe dich')         # 德国\n",
    "    print('∑ας αγαπώ')       # 希腊\n",
    "    print('Te amo')                 # 西班牙\n",
    "    print('Ik houd van u')          # 荷兰"
   ]
  },
  {
   "cell_type": "markdown",
   "metadata": {},
   "source": [
    "在包中添加一个子包，也就是创建一个子目录和`__init__.py`文件："
   ]
  },
  {
   "cell_type": "code",
   "execution_count": null,
   "metadata": {
    "slideshow": {
     "slide_type": "slide"
    }
   },
   "outputs": [],
   "source": [
    "%mkdir -p simpkg/fibo\n",
    "!touch simpkg/fibo/__init__.py"
   ]
  },
  {
   "cell_type": "code",
   "execution_count": null,
   "metadata": {
    "slideshow": {
     "slide_type": "slide"
    }
   },
   "outputs": [],
   "source": [
    "%%writefile simpkg/fibo/fibo.py\n",
    "\"\"\"Fibonacci numbers module\n",
    "\"\"\"\n",
    "\n",
    "def fibo_gen(n):\n",
    "    \"\"\"Return Fibonacci series uup to n\"\"\"\n",
    "    result = []\n",
    "    a, b = 0, 1\n",
    "    while b < n:\n",
    "        result.append(b)\n",
    "        a, b = b, a+b\n",
    "    \n",
    "    return result\n",
    "\n",
    "def fibo_print(n):\n",
    "    \"\"\"Print a Fibonacci series\"\"\"\n",
    "    print(fibo_gen(n))"
   ]
  },
  {
   "cell_type": "markdown",
   "metadata": {
    "slideshow": {
     "slide_type": "slide"
    }
   },
   "source": [
    "使用`tree`命令列出包的内容"
   ]
  },
  {
   "cell_type": "code",
   "execution_count": null,
   "metadata": {
    "slideshow": {
     "slide_type": "-"
    }
   },
   "outputs": [],
   "source": [
    "!tree simpkg"
   ]
  },
  {
   "cell_type": "markdown",
   "metadata": {},
   "source": [
    "### 导入包与调用\n",
    "\n",
    "使用`import`导入需要的软件包："
   ]
  },
  {
   "cell_type": "code",
   "execution_count": null,
   "metadata": {
    "slideshow": {
     "slide_type": "-"
    }
   },
   "outputs": [],
   "source": [
    "importlib.reload(sm)\n",
    "import simpkg.multilang as mlang\n",
    "from simpkg.fibo import fibo"
   ]
  },
  {
   "cell_type": "markdown",
   "metadata": {},
   "source": [
    "使用`help()`查看软件包的帮助："
   ]
  },
  {
   "cell_type": "code",
   "execution_count": null,
   "metadata": {
    "slideshow": {
     "slide_type": "slide"
    }
   },
   "outputs": [],
   "source": [
    "# help(sm)"
   ]
  },
  {
   "cell_type": "markdown",
   "metadata": {},
   "source": [
    "调用包中的函数："
   ]
  },
  {
   "cell_type": "code",
   "execution_count": null,
   "metadata": {
    "slideshow": {
     "slide_type": "slide"
    }
   },
   "outputs": [],
   "source": [
    "sm.sayhello('老王')\n",
    "fibo.fibo_print(5)\n",
    "sm.multilang.loveyou()"
   ]
  },
  {
   "cell_type": "markdown",
   "metadata": {},
   "source": [
    "## 模块路径\n",
    "\n",
    "在 Python 编程中，会用到：\n",
    "- 标准库\n",
    "- 外部库\n",
    "- 自定义库\n",
    "\n",
    "模块和包有很多，难免会出现重名现象。当使用 `import` 来加载模块会使用哪一个呢？ Python 在导入模块时依赖一个路径列表（`sys.path`），会根据这个列表中的路径去搜索要加载的模块："
   ]
  },
  {
   "cell_type": "code",
   "execution_count": null,
   "metadata": {},
   "outputs": [],
   "source": [
    "import sys\n",
    "\n",
    "print(sys.path)"
   ]
  },
  {
   "cell_type": "markdown",
   "metadata": {},
   "source": [
    "`sys.path` 是一个列表，可以进行添加或删除。在 `sys.path` 中目录顺序很重要，Python 通过遍历这个列表来寻找请求的模块。总体而言，模块的搜索顺序如下：\n",
    "1. Python 安装目录\n",
    "2. 外部库 `site-packages` 目录。\n",
    "3. 当前目录\n",
    "\n",
    "在Linux系统下，还可以通过修改环境变量`PYTHONPATH`，改变搜索路径。"
   ]
  },
  {
   "cell_type": "markdown",
   "metadata": {
    "slideshow": {
     "slide_type": "slide"
    }
   },
   "source": [
    "## 错误与异常\n",
    "\n",
    "在导入模块时，经常遇到的错误是`ModuleNotFoundError`异常，`ImportError`异常的子类。当导入模块没有安装或者模块名字拼写错误时，会抛出该异常："
   ]
  },
  {
   "cell_type": "code",
   "execution_count": null,
   "metadata": {
    "slideshow": {
     "slide_type": "-"
    }
   },
   "outputs": [],
   "source": [
    "import nomodule"
   ]
  },
  {
   "cell_type": "markdown",
   "metadata": {
    "slideshow": {
     "slide_type": "slide"
    }
   },
   "source": [
    "在一些情况下下，可以选用多个类似功能的模块，使用`try..except`方法来实现：\n",
    "```\n",
    "try:\n",
    "    import A\n",
    "except ImportError:\n",
    "    import B\n",
    "```    "
   ]
  }
 ],
 "metadata": {
  "kernelspec": {
   "display_name": "Python 3",
   "language": "python",
   "name": "python3"
  },
  "language_info": {
   "codemirror_mode": {
    "name": "ipython",
    "version": 3
   },
   "file_extension": ".py",
   "mimetype": "text/x-python",
   "name": "python",
   "nbconvert_exporter": "python",
   "pygments_lexer": "ipython3",
   "version": "3.6.4"
  },
  "toc": {
   "base_numbering": 1,
   "nav_menu": {},
   "number_sections": true,
   "sideBar": true,
   "skip_h1_title": false,
   "title_cell": "Table of Contents",
   "title_sidebar": "Contents",
   "toc_cell": false,
   "toc_position": {
    "height": "calc(100% - 180px)",
    "left": "10px",
    "top": "150px",
    "width": "253px"
   },
   "toc_section_display": true,
   "toc_window_display": false
  }
 },
 "nbformat": 4,
 "nbformat_minor": 1
}
