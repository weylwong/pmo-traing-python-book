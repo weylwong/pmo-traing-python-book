{
 "cells": [
  {
   "cell_type": "markdown",
   "metadata": {
    "slideshow": {
     "slide_type": "slide"
    }
   },
   "source": [
    "# 安装外部库\n",
    "\n",
    "在安装 Python 解释器时，系统自带安装了很多库，称之为标准库。例如前面用到的数学库（math）、随机数库（random）等。Python 的标准库大约有200多个，涉及各个领域方面。\n",
    "\n",
    "然而在 Python 编程中仅仅使用标准库还远远不够，Python 的高速发展带来了众多优秀的第三方库和软件。把标准库之外由第三方实现的功能库与软件称为外部库或第三方库或，实际上，外部库已经多达上百万之多。\n",
    "\n",
    "要使用外部库，首先需要安装它们，然后再使用`import`导入。本节介绍如何使用 `pip` 工具安装外部库。"
   ]
  },
  {
   "cell_type": "markdown",
   "metadata": {
    "slideshow": {
     "slide_type": "slide"
    }
   },
   "source": [
    "## 使用 `pip` 安装\n",
    "\n",
    "[PyPi（Python Package Index）](https://pypi.org/)是 Python 语言开发的软件包的仓库，截止目前已收集发布大约100多万个 Python 库与软件。\n",
    "\n",
    "`pip` 软件是 Python 软件包安装工具，用来安装，升级以及删除软件包，缺省是从 PyPi 仓库安装包，不过对于中国用户，常常需要使用镜像，理由你懂的。"
   ]
  },
  {
   "cell_type": "markdown",
   "metadata": {
    "slideshow": {
     "slide_type": "slide"
    }
   },
   "source": [
    "**使用PyPi国内镜像（清华大学）**\n",
    "\n",
    "- Linux操作系统   \n",
    "新建或修改`~/.pip/pip.conf`，添加内容：\n",
    "```\n",
    "[global]\n",
    "index-url = https://pypi.tuna.tsinghua.edu.cn/simple\n",
    "```\n",
    "- Windows操作系统  \n",
    "在用户主目录下新建文件`C:\\Users\\xxx\\pip\\pip.ini`，添加内容\n",
    "```\n",
    "[global]\n",
    "index-url = https://pypi.tuna.tsinghua.edu.cn/simple\n",
    "```"
   ]
  },
  {
   "cell_type": "markdown",
   "metadata": {
    "slideshow": {
     "slide_type": "slide"
    }
   },
   "source": [
    "### 检查和更新`pip`\n",
    "\n",
    "使用`anaconda`套件安装Python环境，通常已经安装`pip`。使用如下命令查看`pip`是否安装以及安装版本：\n",
    "```\n",
    "pip --version\n",
    "```"
   ]
  },
  {
   "cell_type": "code",
   "execution_count": 1,
   "metadata": {
    "slideshow": {
     "slide_type": "-"
    }
   },
   "outputs": [
    {
     "name": "stdout",
     "output_type": "stream",
     "text": [
      "pip 18.1 from c:\\anaconda3\\lib\\site-packages\\pip (python 3.6)\n",
      "\n"
     ]
    }
   ],
   "source": [
    "!pip --version"
   ]
  },
  {
   "cell_type": "markdown",
   "metadata": {
    "slideshow": {
     "slide_type": "slide"
    }
   },
   "source": [
    "缺省安装的`pip`版本可能比较旧，可以自己进行更新升级:\n",
    "- Linux或Mac操作系统\n",
    "```\n",
    "pip install -U pip\n",
    "```\n",
    "- Linux或Mac操作系统\n",
    "```\n",
    "python -m pip install -U pip\n",
    "```"
   ]
  },
  {
   "cell_type": "markdown",
   "metadata": {
    "slideshow": {
     "slide_type": "slide"
    }
   },
   "source": [
    "### pip概述\n",
    "\n",
    "`pip`命令的使用语法如下：\n",
    "```\n",
    "pip <command> [options]\n",
    "```"
   ]
  },
  {
   "cell_type": "markdown",
   "metadata": {
    "slideshow": {
     "slide_type": "slide"
    }
   },
   "source": [
    "可以通过帮助文档，了解`pip`程序命令和参数的详细说明：\n",
    "```\n",
    "pip --help\n",
    "```"
   ]
  },
  {
   "cell_type": "code",
   "execution_count": 3,
   "metadata": {
    "slideshow": {
     "slide_type": "slide"
    }
   },
   "outputs": [],
   "source": [
    "# !pip --help"
   ]
  },
  {
   "cell_type": "markdown",
   "metadata": {
    "slideshow": {
     "slide_type": "slide"
    }
   },
   "source": [
    "`pip` 常用子命令如下所示：\n",
    "\n",
    "| 子命令  | 说明 |\n",
    "|:-------:|:-------|\n",
    "|`install` | 安装软件包|\n",
    "|`download` | 下载软件包 |\n",
    "|`uninstall` |卸载软件包 |\n",
    "|`freeze` | 导出依赖文件列表 |\n",
    "|`list` | 查看已安装软件包 |\n",
    "|`show` | 显示软件包的详细安装信息（文件及路径） |\n",
    "|`search` | 搜索 PyPi 仓库的软件包 |\n",
    "|`help` | 帮助 |"
   ]
  },
  {
   "cell_type": "markdown",
   "metadata": {
    "slideshow": {
     "slide_type": "slide"
    }
   },
   "source": [
    "### `pip install`安装软件包\n",
    "\n",
    "使用`pip install`安装软件包，这里假定要安装的软件包是`packagename`。"
   ]
  },
  {
   "cell_type": "markdown",
   "metadata": {
    "slideshow": {
     "slide_type": "slide"
    }
   },
   "source": [
    "从缺省PyPi仓库安装指定软件包的当前版本\n",
    "```\n",
    "$ pip install packagename\n",
    "```\n",
    "\n",
    "可以使用`==, >=, <=, >, <`操作符，安装指定版本号的软件包：\n",
    "```\n",
    "$ pip install packagename==1.0.4     # 指定版本号\n",
    "pip install packagename>=1,<2       # 指定版本范围\n",
    "$ pip install packagename>=1.0.4     # 指定最小版本\n",
    "```"
   ]
  },
  {
   "cell_type": "markdown",
   "metadata": {
    "slideshow": {
     "slide_type": "slide"
    }
   },
   "source": [
    "更新已安装软件包：\n",
    "```\n",
    "pip install --upgrade packagename\n",
    "```"
   ]
  },
  {
   "cell_type": "markdown",
   "metadata": {
    "slideshow": {
     "slide_type": "slide"
    }
   },
   "source": [
    "从其它仓库安装指定软件包：\n",
    "```\n",
    "pip install --index-url http://my.package.repo/simple/ SomeProject\n",
    "```"
   ]
  },
  {
   "cell_type": "markdown",
   "metadata": {
    "slideshow": {
     "slide_type": "slide"
    }
   },
   "source": [
    "安装指定软件到当前用户主目录中，可以避免软件包在系统层面安装导致混乱。\n",
    "```\n",
    "pip install --user SomeProject\n",
    "```"
   ]
  },
  {
   "cell_type": "markdown",
   "metadata": {
    "slideshow": {
     "slide_type": "slide"
    }
   },
   "source": [
    "### `pip uninstall`卸载软件包\n",
    "\n",
    "可以轻松卸载指定软件包\n",
    "```\n",
    "pip uninstall packagename\n",
    "```"
   ]
  },
  {
   "cell_type": "markdown",
   "metadata": {},
   "source": [
    "### `pip freeze`导出依赖文件列表\n",
    "\n",
    "`pip freeze`子命令会把当前环境安装的库导出到一个列表文件中：\n",
    "\n",
    "```\n",
    "pip freeze > requirements.txt\n",
    "```"
   ]
  },
  {
   "cell_type": "code",
   "execution_count": 18,
   "metadata": {},
   "outputs": [],
   "source": [
    "!pip freeze > requirements.txt"
   ]
  },
  {
   "cell_type": "code",
   "execution_count": 19,
   "metadata": {},
   "outputs": [
    {
     "name": "stdout",
     "output_type": "stream",
     "text": [
      "alabaster==0.7.10\r\n",
      "alembic==0.9.7\r\n",
      "anaconda-client==1.6.9\r\n",
      "anaconda-navigator==1.7.0\r\n",
      "anaconda-project==0.8.2\r\n",
      "asn1crypto==0.24.0\r\n",
      "astroid==1.6.1\r\n",
      "astropy==2.0.3\r\n",
      "attrs==17.4.0\r\n",
      "Babel==2.5.3\r\n",
      "backports.shutil-get-terminal-size==1.0.0\r\n",
      "beautifulsoup4==4.6.0\r\n",
      "bitarray==0.8.1\r\n",
      "bkcharts==0.2\r\n",
      "blaze==0.11.3\r\n",
      "bleach==2.1.3\r\n",
      "bokeh==0.12.13\r\n",
      "boto==2.48.0\r\n",
      "Bottleneck==1.2.1\r\n",
      "certifi==2018.1.18\r\n",
      "cffi==1.11.4\r\n",
      "chardet==3.0.4\r\n",
      "click==6.7\r\n",
      "cloudpickle==0.5.2\r\n",
      "clyent==1.2.2\r\n",
      "cntk==2.3.1\r\n",
      "colorama==0.3.9\r\n",
      "conda==4.4.10\r\n",
      "conda-build==3.4.1\r\n",
      "conda-verify==2.0.0\r\n",
      "contextlib2==0.5.5\r\n",
      "cryptography==2.1.4\r\n",
      "cycler==0.10.0\r\n",
      "Cython==0.27.3\r\n",
      "cytoolz==0.9.0\r\n",
      "dask==0.16.1\r\n",
      "datashape==0.5.4\r\n",
      "decorator==4.2.1\r\n",
      "distributed==1.20.2\r\n",
      "docutils==0.14\r\n",
      "entrypoints==0.2.3\r\n",
      "et-xmlfile==1.0.1\r\n",
      "fastcache==1.0.2\r\n",
      "filelock==2.0.13\r\n",
      "Flask==0.12.2\r\n",
      "Flask-Cors==3.0.3\r\n",
      "gevent==1.2.2\r\n",
      "glob2==0.6\r\n",
      "gmpy2==2.0.8\r\n",
      "googletrans==2.2.0\r\n",
      "graphviz==0.8.2\r\n",
      "greenlet==0.4.12\r\n",
      "h5py==2.7.1\r\n",
      "heapdict==1.0.0\r\n",
      "html5lib==1.0.1\r\n",
      "idna==2.6\r\n",
      "imageio==2.2.0\r\n",
      "imagesize==0.7.1\r\n",
      "ipykernel==4.8.2\r\n",
      "ipython==6.2.1\r\n",
      "ipython-genutils==0.2.0\r\n",
      "ipywidgets==7.1.1\r\n",
      "isort==4.2.15\r\n",
      "itsdangerous==0.24\r\n",
      "jdcal==1.3\r\n",
      "jedi==0.11.1\r\n",
      "Jinja2==2.10\r\n",
      "jsonschema==2.6.0\r\n",
      "jupyter==1.0.0\r\n",
      "jupyter-client==5.2.3\r\n",
      "jupyter-console==5.2.0\r\n",
      "jupyter-contrib-core==0.3.3\r\n",
      "jupyter-contrib-nbextensions==0.5.0\r\n",
      "jupyter-core==4.4.0\r\n",
      "jupyter-highlight-selected-word==0.1.1\r\n",
      "jupyter-latex-envs==1.4.4\r\n",
      "jupyter-nbextensions-configurator==0.4.0\r\n",
      "jupyterhub==0.8.1\r\n",
      "jupyterlab==0.31.5\r\n",
      "jupyterlab-launcher==0.10.2\r\n",
      "Keras==2.1.5\r\n",
      "lazy-object-proxy==1.3.1\r\n",
      "llvmlite==0.21.0\r\n",
      "locket==0.2.0\r\n",
      "lxml==4.1.1\r\n",
      "Mako==1.0.7\r\n",
      "MarkupSafe==1.0\r\n",
      "matplotlib==2.1.2\r\n",
      "mccabe==0.6.1\r\n",
      "mistune==0.8.3\r\n",
      "mock==2.0.0\r\n",
      "mpmath==1.0.0\r\n",
      "msgpack-python==0.5.1\r\n",
      "multipledispatch==0.4.9\r\n",
      "navigator-updater==0.1.0\r\n",
      "nbconvert==5.3.1\r\n",
      "nbformat==4.4.0\r\n",
      "networkx==2.1\r\n",
      "nltk==3.2.5\r\n",
      "nose==1.3.7\r\n",
      "notebook==5.4.1\r\n",
      "numba==0.36.2\r\n",
      "numexpr==2.6.4\r\n",
      "numpy==1.14.0\r\n",
      "numpydoc==0.7.0\r\n",
      "odo==0.5.1\r\n",
      "olefile==0.45.1\r\n",
      "openpyxl==2.4.10\r\n",
      "packaging==16.8\r\n",
      "pamela==0.3.0\r\n",
      "pandas==0.22.0\r\n",
      "pandocfilters==1.4.2\r\n",
      "parso==0.1.1\r\n",
      "partd==0.3.8\r\n",
      "path.py==10.5\r\n",
      "pathlib2==2.3.0\r\n",
      "patsy==0.5.0\r\n",
      "pbr==3.1.1\r\n",
      "pdf2image==0.1.11\r\n",
      "pdfminer.six==20170720\r\n",
      "pep8==1.7.1\r\n",
      "pexpect==4.4.0\r\n",
      "pickleshare==0.7.4\r\n",
      "Pillow==5.0.0\r\n",
      "pkginfo==1.4.1\r\n",
      "pluggy==0.6.0\r\n",
      "ply==3.10\r\n",
      "prompt-toolkit==1.0.15\r\n",
      "protobuf==3.5.1\r\n",
      "psutil==5.4.3\r\n",
      "ptyprocess==0.5.2\r\n",
      "py==1.5.2\r\n",
      "pycodestyle==2.3.1\r\n",
      "pycosat==0.6.3\r\n",
      "pycparser==2.18\r\n",
      "pycrypto==2.6.1\r\n",
      "pycryptodome==3.6.1\r\n",
      "pycurl==7.43.0.1\r\n",
      "pyflakes==1.6.0\r\n",
      "Pygments==2.2.0\r\n",
      "pylint==1.8.2\r\n",
      "pymssql==2.1.3\r\n",
      "PyMuPDF==1.13.8\r\n",
      "pyodbc==4.0.22\r\n",
      "pyOpenSSL==17.5.0\r\n",
      "pyparsing==2.2.0\r\n",
      "PyPDF2==1.26.0\r\n",
      "PySocks==1.6.7\r\n",
      "pytdx==1.65\r\n",
      "pytest==3.3.2\r\n",
      "python-dateutil==2.7.2\r\n",
      "python-editor==1.0.3\r\n",
      "python-oauth2==1.0.1\r\n",
      "pytz==2017.3\r\n",
      "PyWavelets==0.5.2\r\n",
      "PyYAML==3.12\r\n",
      "pyzmq==17.0.0\r\n",
      "QtAwesome==0.4.4\r\n",
      "qtconsole==4.3.1\r\n",
      "QtPy==1.3.1\r\n",
      "requests==2.18.4\r\n",
      "rise==5.2.0\r\n",
      "rope==0.10.7\r\n",
      "ruamel-yaml==0.15.35\r\n",
      "scikit-image==0.13.1\r\n",
      "scikit-learn==0.19.1\r\n",
      "scipy==1.0.0\r\n",
      "seaborn==0.8.1\r\n",
      "Send2Trash==1.5.0\r\n",
      "simplegeneric==0.8.1\r\n",
      "singledispatch==3.4.0.3\r\n",
      "six==1.11.0\r\n",
      "snowballstemmer==1.2.1\r\n",
      "sortedcollections==0.5.3\r\n",
      "sortedcontainers==1.5.9\r\n",
      "Sphinx==1.6.6\r\n",
      "sphinxcontrib-websupport==1.0.1\r\n",
      "spyder==3.2.6\r\n",
      "SQLAlchemy==1.2.1\r\n",
      "statsmodels==0.8.0\r\n",
      "sympy==1.1.1\r\n",
      "TA-Lib==0.4.17\r\n",
      "tables==3.4.2\r\n",
      "tblib==1.3.2\r\n",
      "tensorflow==1.1.0\r\n",
      "terminado==0.8.1\r\n",
      "testpath==0.3.1\r\n",
      "toolz==0.9.0\r\n",
      "tornado==5.0.1\r\n",
      "traitlets==4.3.2\r\n",
      "tushare==1.1.6\r\n",
      "typing==3.6.2\r\n",
      "unicodecsv==0.14.1\r\n",
      "urllib3==1.22\r\n",
      "wcwidth==0.1.7\r\n",
      "webencodings==0.5.1\r\n",
      "Werkzeug==0.14.1\r\n",
      "widgetsnbextension==3.1.0\r\n",
      "wrapt==1.10.11\r\n",
      "xlrd==1.1.0\r\n",
      "XlsxWriter==1.0.2\r\n",
      "xlwt==1.3.0\r\n",
      "zict==0.1.3\r\n"
     ]
    }
   ],
   "source": [
    "%cat requirements.txt"
   ]
  },
  {
   "cell_type": "markdown",
   "metadata": {},
   "source": [
    "反之，使用`requirements.txt`文件可以批处理安装软件包：\n",
    "```\n",
    "pip install -r requirements.txt\n",
    "```"
   ]
  },
  {
   "cell_type": "markdown",
   "metadata": {
    "slideshow": {
     "slide_type": "slide"
    }
   },
   "source": [
    "也可以根据`requirements.txt`文件批处理卸载软件包\n",
    "```\n",
    "pip uninstall -r requirements.txt\n",
    "```"
   ]
  },
  {
   "cell_type": "markdown",
   "metadata": {
    "slideshow": {
     "slide_type": "slide"
    }
   },
   "source": [
    "### `pip list`列出已安装软件包\n",
    "\n",
    "- 列出所有已安装软件包\n",
    "```\n",
    "pip list\n",
    "```\n",
    "\n",
    "- 列出可升级软件包\n",
    "```\n",
    "pip list --outdated\n",
    "```"
   ]
  },
  {
   "cell_type": "code",
   "execution_count": 4,
   "metadata": {
    "slideshow": {
     "slide_type": "slide"
    }
   },
   "outputs": [
    {
     "name": "stdout",
     "output_type": "stream",
     "text": [
      "Package                            Version  \r\n",
      "---------------------------------- ---------\r\n",
      "alabaster                          0.7.10   \r\n",
      "alembic                            0.9.7    \r\n",
      "anaconda-client                    1.6.9    \r\n",
      "anaconda-navigator                 1.7.0    \r\n",
      "anaconda-project                   0.8.2    \r\n",
      "asn1crypto                         0.24.0   \r\n",
      "astroid                            1.6.1    \r\n",
      "astropy                            2.0.3    \r\n",
      "attrs                              17.4.0   \r\n",
      "Babel                              2.5.3    \r\n",
      "backports.shutil-get-terminal-size 1.0.0    \r\n",
      "beautifulsoup4                     4.6.0    \r\n",
      "bitarray                           0.8.1    \r\n",
      "bkcharts                           0.2      \r\n",
      "blaze                              0.11.3   \r\n",
      "bleach                             2.1.3    \r\n",
      "bokeh                              0.12.13  \r\n",
      "boto                               2.48.0   \r\n",
      "Bottleneck                         1.2.1    \r\n",
      "certifi                            2018.1.18\r\n",
      "cffi                               1.11.4   \r\n",
      "chardet                            3.0.4    \r\n",
      "click                              6.7      \r\n",
      "cloudpickle                        0.5.2    \r\n",
      "clyent                             1.2.2    \r\n",
      "cntk                               2.3.1    \r\n",
      "colorama                           0.3.9    \r\n",
      "conda                              4.4.10   \r\n",
      "conda-build                        3.4.1    \r\n",
      "conda-verify                       2.0.0    \r\n",
      "contextlib2                        0.5.5    \r\n",
      "cryptography                       2.1.4    \r\n",
      "cycler                             0.10.0   \r\n",
      "Cython                             0.27.3   \r\n",
      "cytoolz                            0.9.0    \r\n",
      "dask                               0.16.1   \r\n",
      "datashape                          0.5.4    \r\n",
      "decorator                          4.2.1    \r\n",
      "distributed                        1.20.2   \r\n",
      "docutils                           0.14     \r\n",
      "entrypoints                        0.2.3    \r\n",
      "et-xmlfile                         1.0.1    \r\n",
      "fastcache                          1.0.2    \r\n",
      "filelock                           2.0.13   \r\n",
      "Flask                              0.12.2   \r\n",
      "Flask-Cors                         3.0.3    \r\n",
      "gevent                             1.2.2    \r\n",
      "glob2                              0.6      \r\n",
      "gmpy2                              2.0.8    \r\n",
      "googletrans                        2.2.0    \r\n",
      "graphviz                           0.8.2    \r\n",
      "greenlet                           0.4.12   \r\n",
      "h5py                               2.7.1    \r\n",
      "heapdict                           1.0.0    \r\n",
      "html5lib                           1.0.1    \r\n",
      "idna                               2.6      \r\n",
      "imageio                            2.2.0    \r\n",
      "imagesize                          0.7.1    \r\n",
      "ipykernel                          4.8.2    \r\n",
      "ipython                            6.2.1    \r\n",
      "ipython-genutils                   0.2.0    \r\n",
      "ipywidgets                         7.1.1    \r\n",
      "isort                              4.2.15   \r\n",
      "itsdangerous                       0.24     \r\n",
      "jdcal                              1.3      \r\n",
      "jedi                               0.11.1   \r\n",
      "Jinja2                             2.10     \r\n",
      "jsonschema                         2.6.0    \r\n",
      "jupyter                            1.0.0    \r\n",
      "jupyter-client                     5.2.3    \r\n",
      "jupyter-console                    5.2.0    \r\n",
      "jupyter-contrib-core               0.3.3    \r\n",
      "jupyter-contrib-nbextensions       0.5.0    \r\n",
      "jupyter-core                       4.4.0    \r\n",
      "jupyter-highlight-selected-word    0.1.1    \r\n",
      "jupyter-latex-envs                 1.4.4    \r\n",
      "jupyter-nbextensions-configurator  0.4.0    \r\n",
      "jupyterhub                         0.8.1    \r\n",
      "jupyterlab                         0.31.5   \r\n",
      "jupyterlab-launcher                0.10.2   \r\n",
      "Keras                              2.1.5    \r\n",
      "lazy-object-proxy                  1.3.1    \r\n",
      "llvmlite                           0.21.0   \r\n",
      "locket                             0.2.0    \r\n",
      "lxml                               4.1.1    \r\n",
      "Mako                               1.0.7    \r\n",
      "MarkupSafe                         1.0      \r\n",
      "matplotlib                         2.1.2    \r\n",
      "mccabe                             0.6.1    \r\n",
      "mistune                            0.8.3    \r\n",
      "mock                               2.0.0    \r\n",
      "mpmath                             1.0.0    \r\n",
      "msgpack-python                     0.5.1    \r\n",
      "multipledispatch                   0.4.9    \r\n",
      "navigator-updater                  0.1.0    \r\n",
      "nbconvert                          5.3.1    \r\n",
      "nbformat                           4.4.0    \r\n",
      "networkx                           2.1      \r\n",
      "nltk                               3.2.5    \r\n",
      "nose                               1.3.7    \r\n",
      "notebook                           5.4.1    \r\n",
      "numba                              0.36.2   \r\n",
      "numexpr                            2.6.4    \r\n",
      "numpy                              1.14.0   \r\n",
      "numpydoc                           0.7.0    \r\n",
      "odo                                0.5.1    \r\n",
      "olefile                            0.45.1   \r\n",
      "openpyxl                           2.4.10   \r\n",
      "packaging                          16.8     \r\n",
      "pamela                             0.3.0    \r\n",
      "pandas                             0.22.0   \r\n",
      "pandocfilters                      1.4.2    \r\n",
      "parso                              0.1.1    \r\n",
      "partd                              0.3.8    \r\n",
      "path.py                            10.5     \r\n",
      "pathlib2                           2.3.0    \r\n",
      "patsy                              0.5.0    \r\n",
      "pbr                                3.1.1    \r\n",
      "pdf2image                          0.1.11   \r\n",
      "pdfminer.six                       20170720 \r\n",
      "pep8                               1.7.1    \r\n",
      "pexpect                            4.4.0    \r\n",
      "pickleshare                        0.7.4    \r\n",
      "Pillow                             5.0.0    \r\n",
      "pip                                10.0.1   \r\n",
      "pkginfo                            1.4.1    \r\n",
      "pluggy                             0.6.0    \r\n",
      "ply                                3.10     \r\n",
      "prompt-toolkit                     1.0.15   \r\n",
      "protobuf                           3.5.1    \r\n",
      "psutil                             5.4.3    \r\n",
      "ptyprocess                         0.5.2    \r\n",
      "py                                 1.5.2    \r\n",
      "pycodestyle                        2.3.1    \r\n",
      "pycosat                            0.6.3    \r\n",
      "pycparser                          2.18     \r\n",
      "pycrypto                           2.6.1    \r\n",
      "pycryptodome                       3.6.1    \r\n",
      "pycurl                             7.43.0.1 \r\n",
      "pyflakes                           1.6.0    \r\n",
      "Pygments                           2.2.0    \r\n",
      "pylint                             1.8.2    \r\n",
      "pymssql                            2.1.3    \r\n",
      "PyMuPDF                            1.13.8   \r\n",
      "pyodbc                             4.0.22   \r\n",
      "pyOpenSSL                          17.5.0   \r\n",
      "pyparsing                          2.2.0    \r\n",
      "PyPDF2                             1.26.0   \r\n",
      "PySocks                            1.6.7    \r\n",
      "pytdx                              1.65     \r\n",
      "pytest                             3.3.2    \r\n",
      "python-dateutil                    2.7.2    \r\n",
      "python-editor                      1.0.3    \r\n",
      "python-oauth2                      1.0.1    \r\n",
      "pytz                               2017.3   \r\n",
      "PyWavelets                         0.5.2    \r\n",
      "PyYAML                             3.12     \r\n",
      "pyzmq                              17.0.0   \r\n",
      "QtAwesome                          0.4.4    \r\n",
      "qtconsole                          4.3.1    \r\n",
      "QtPy                               1.3.1    \r\n",
      "requests                           2.18.4   \r\n",
      "rise                               5.2.0    \r\n",
      "rope                               0.10.7   \r\n",
      "ruamel-yaml                        0.15.35  \r\n",
      "scikit-image                       0.13.1   \r\n",
      "scikit-learn                       0.19.1   \r\n",
      "scipy                              1.0.0    \r\n",
      "seaborn                            0.8.1    \r\n",
      "Send2Trash                         1.5.0    \r\n",
      "setuptools                         39.0.1   \r\n",
      "simplegeneric                      0.8.1    \r\n",
      "singledispatch                     3.4.0.3  \r\n",
      "six                                1.11.0   \r\n",
      "snowballstemmer                    1.2.1    \r\n",
      "sortedcollections                  0.5.3    \r\n",
      "sortedcontainers                   1.5.9    \r\n",
      "Sphinx                             1.6.6    \r\n",
      "sphinxcontrib-websupport           1.0.1    \r\n",
      "spyder                             3.2.6    \r\n",
      "SQLAlchemy                         1.2.1    \r\n",
      "statsmodels                        0.8.0    \r\n",
      "sympy                              1.1.1    \r\n",
      "TA-Lib                             0.4.17   \r\n",
      "tables                             3.4.2    \r\n",
      "tblib                              1.3.2    \r\n",
      "tensorflow                         1.1.0    \r\n",
      "terminado                          0.8.1    \r\n",
      "testpath                           0.3.1    \r\n",
      "toolz                              0.9.0    \r\n",
      "tornado                            5.0.1    \r\n",
      "traitlets                          4.3.2    \r\n",
      "tushare                            1.1.6    \r\n",
      "typing                             3.6.2    \r\n",
      "unicodecsv                         0.14.1   \r\n",
      "urllib3                            1.22     \r\n",
      "wcwidth                            0.1.7    \r\n",
      "webencodings                       0.5.1    \r\n",
      "Werkzeug                           0.14.1   \r\n",
      "wheel                              0.30.0   \r\n",
      "widgetsnbextension                 3.1.0    \r\n",
      "wrapt                              1.10.11  \r\n",
      "xlrd                               1.1.0    \r\n",
      "XlsxWriter                         1.0.2    \r\n",
      "xlwt                               1.3.0    \r\n",
      "zict                               0.1.3    \r\n"
     ]
    }
   ],
   "source": [
    "!pip list"
   ]
  },
  {
   "cell_type": "code",
   "execution_count": 7,
   "metadata": {
    "slideshow": {
     "slide_type": "slide"
    }
   },
   "outputs": [
    {
     "name": "stdout",
     "output_type": "stream",
     "text": [
      "Package                         Version   Latest    Type \r\n",
      "------------------------------- --------- --------- -----\r\n",
      "alabaster                       0.7.10    0.7.11    wheel\r\n",
      "alembic                         0.9.7     1.0.0     wheel\r\n",
      "astroid                         1.6.1     2.0.1     wheel\r\n",
      "astropy                         2.0.3     3.0.3     wheel\r\n",
      "attrs                           17.4.0    18.1.0    wheel\r\n",
      "Babel                           2.5.3     2.6.0     wheel\r\n",
      "bitarray                        0.8.1     0.8.3     sdist\r\n",
      "bokeh                           0.12.13   0.13.0    sdist\r\n",
      "boto                            2.48.0    2.49.0    wheel\r\n",
      "certifi                         2018.1.18 2018.4.16 wheel\r\n",
      "cffi                            1.11.4    1.11.5    wheel\r\n",
      "cloudpickle                     0.5.2     0.5.3     wheel\r\n",
      "cntk                            2.3.1     2.5.1     wheel\r\n",
      "cryptography                    2.1.4     2.3       wheel\r\n",
      "Cython                          0.27.3    0.28.4    wheel\r\n",
      "cytoolz                         0.9.0     0.9.0.1   sdist\r\n",
      "dask                            0.16.1    0.18.1    wheel\r\n",
      "decorator                       4.2.1     4.3.0     wheel\r\n",
      "distributed                     1.20.2    1.22.0    wheel\r\n",
      "filelock                        2.0.13    3.0.4     sdist\r\n",
      "Flask                           0.12.2    1.0.2     wheel\r\n",
      "Flask-Cors                      3.0.3     3.0.6     wheel\r\n",
      "gevent                          1.2.2     1.3.5     wheel\r\n",
      "googletrans                     2.2.0     2.3.0     sdist\r\n",
      "graphviz                        0.8.2     0.8.4     wheel\r\n",
      "greenlet                        0.4.12    0.4.14    wheel\r\n",
      "h5py                            2.7.1     2.8.0     wheel\r\n",
      "idna                            2.6       2.7       wheel\r\n",
      "imageio                         2.2.0     2.3.0     wheel\r\n",
      "imagesize                       0.7.1     1.0.0     wheel\r\n",
      "ipython                         6.2.1     6.4.0     wheel\r\n",
      "ipywidgets                      7.1.1     7.3.0     wheel\r\n",
      "isort                           4.2.15    4.3.4     wheel\r\n",
      "jdcal                           1.3       1.4       wheel\r\n",
      "jedi                            0.11.1    0.12.1    wheel\r\n",
      "jupyter-highlight-selected-word 0.1.1     0.2.0     wheel\r\n",
      "jupyterhub                      0.8.1     0.9.1     wheel\r\n",
      "jupyterlab                      0.31.5    0.32.1    wheel\r\n",
      "jupyterlab-launcher             0.10.2    0.11.2    wheel\r\n",
      "Keras                           2.1.5     2.2.0     wheel\r\n",
      "llvmlite                        0.21.0    0.24.0    wheel\r\n",
      "lxml                            4.1.1     4.2.3     wheel\r\n",
      "matplotlib                      2.1.2     2.2.2     wheel\r\n",
      "msgpack-python                  0.5.1     0.5.6     sdist\r\n",
      "multipledispatch                0.4.9     0.5.0     wheel\r\n",
      "nltk                            3.2.5     3.3.0     sdist\r\n",
      "notebook                        5.4.1     5.6.0     wheel\r\n",
      "numba                           0.36.2    0.39.0    wheel\r\n",
      "numexpr                         2.6.4     2.6.6     wheel\r\n",
      "numpy                           1.14.0    1.14.5    wheel\r\n",
      "numpydoc                        0.7.0     0.8.0     sdist\r\n",
      "openpyxl                        2.4.10    2.5.4     sdist\r\n",
      "packaging                       16.8      17.1      wheel\r\n",
      "pandas                          0.22.0    0.23.3    wheel\r\n",
      "parso                           0.1.1     0.3.1     wheel\r\n",
      "path.py                         10.5      11.0.1    wheel\r\n",
      "pathlib2                        2.3.0     2.3.2     wheel\r\n",
      "pbr                             3.1.1     4.1.1     wheel\r\n",
      "pdf2image                       0.1.11    0.1.14    sdist\r\n",
      "pexpect                         4.4.0     4.6.0     wheel\r\n",
      "Pillow                          5.0.0     5.2.0     wheel\r\n",
      "pkginfo                         1.4.1     1.4.2     wheel\r\n",
      "ply                             3.10      3.11      wheel\r\n",
      "prompt-toolkit                  1.0.15    2.0.3     wheel\r\n",
      "protobuf                        3.5.1     3.6.0     wheel\r\n",
      "psutil                          5.4.3     5.4.6     sdist\r\n",
      "ptyprocess                      0.5.2     0.6.0     wheel\r\n",
      "py                              1.5.2     1.5.4     wheel\r\n",
      "pycodestyle                     2.3.1     2.4.0     wheel\r\n",
      "pycryptodome                    3.6.1     3.6.4     wheel\r\n",
      "pycurl                          7.43.0.1  7.43.0.2  sdist\r\n",
      "pyflakes                        1.6.0     2.0.0     wheel\r\n",
      "pylint                          1.8.2     2.0.0     wheel\r\n",
      "PyMuPDF                         1.13.8    1.13.14   wheel\r\n",
      "pyodbc                          4.0.22    4.0.23    sdist\r\n",
      "pyOpenSSL                       17.5.0    18.0.0    wheel\r\n",
      "PySocks                         1.6.7     1.6.8     sdist\r\n",
      "pytdx                           1.65      1.67      sdist\r\n",
      "pytest                          3.3.2     3.6.3     wheel\r\n",
      "python-dateutil                 2.7.2     2.7.3     wheel\r\n",
      "python-oauth2                   1.0.1     1.1.0     sdist\r\n",
      "pytz                            2017.3    2018.5    wheel\r\n",
      "PyYAML                          3.12      3.13      sdist\r\n",
      "pyzmq                           17.0.0    17.1.0    wheel\r\n",
      "QtPy                            1.3.1     1.4.2     wheel\r\n",
      "requests                        2.18.4    2.19.1    wheel\r\n",
      "rise                            5.2.0     5.3.0     wheel\r\n",
      "ruamel-yaml                     0.15.35   0.15.42   wheel\r\n",
      "scikit-image                    0.13.1    0.14.0    wheel\r\n",
      "scikit-learn                    0.19.1    0.19.2    wheel\r\n",
      "scipy                           1.0.0     1.1.0     wheel\r\n",
      "seaborn                         0.8.1     0.9.0     wheel\r\n",
      "setuptools                      39.0.1    40.0.0    wheel\r\n",
      "sortedcollections               0.5.3     1.0.1     wheel\r\n",
      "sortedcontainers                1.5.9     2.0.4     wheel\r\n",
      "Sphinx                          1.6.6     1.7.6     wheel\r\n",
      "sphinxcontrib-websupport        1.0.1     1.1.0     wheel\r\n",
      "spyder                          3.2.6     3.3.0     wheel\r\n",
      "SQLAlchemy                      1.2.1     1.2.10    sdist\r\n",
      "statsmodels                     0.8.0     0.9.0     wheel\r\n",
      "sympy                           1.1.1     1.2       sdist\r\n",
      "tables                          3.4.2     3.4.4     wheel\r\n",
      "tensorflow                      1.1.0     1.9.0     wheel\r\n",
      "tornado                         5.0.1     5.1       sdist\r\n",
      "tushare                         1.1.6     1.2.4     sdist\r\n",
      "typing                          3.6.2     3.6.4     wheel\r\n",
      "urllib3                         1.22      1.23      wheel\r\n",
      "wheel                           0.30.0    0.31.1    wheel\r\n",
      "widgetsnbextension              3.1.0     3.3.0     wheel\r\n",
      "XlsxWriter                      1.0.2     1.0.5     wheel\r\n"
     ]
    }
   ],
   "source": [
    "!pip list --outdated"
   ]
  },
  {
   "cell_type": "code",
   "execution_count": 8,
   "metadata": {
    "slideshow": {
     "slide_type": "slide"
    }
   },
   "outputs": [],
   "source": [
    "!pip list --user"
   ]
  },
  {
   "cell_type": "markdown",
   "metadata": {},
   "source": [
    "### `pip show`显示软件包的详细安装信息\n",
    "\n"
   ]
  },
  {
   "cell_type": "code",
   "execution_count": 15,
   "metadata": {},
   "outputs": [
    {
     "name": "stdout",
     "output_type": "stream",
     "text": [
      "Name: numpy\r\n",
      "Version: 1.14.0\r\n",
      "Summary: NumPy: array processing for numbers, strings, records, and objects.\r\n",
      "Home-page: http://www.numpy.org\r\n",
      "Author: NumPy Developers\r\n",
      "Author-email: numpy-discussion@python.org\r\n",
      "License: BSD\r\n",
      "Location: /opt/anaconda3/lib/python3.6/site-packages\r\n",
      "Requires: \r\n",
      "Required-by: tensorflow, tables, TA-Lib, seaborn, PyWavelets, patsy, pandas, odo, numexpr, numba, matplotlib, Keras, h5py, datashape, cntk, Bottleneck, bokeh, bkcharts, astropy\r\n",
      "Files:\r\n",
      "Cannot locate installed-files.txt\r\n"
     ]
    }
   ],
   "source": [
    "!pip show -f numpy"
   ]
  },
  {
   "cell_type": "markdown",
   "metadata": {},
   "source": [
    "### `pip search`搜索软件包\n",
    "\n",
    "从PyPi仓库搜索指定软件包：\n",
    "```\n",
    "pip search packagename\n",
    "```"
   ]
  },
  {
   "cell_type": "markdown",
   "metadata": {
    "slideshow": {
     "slide_type": "slide"
    }
   },
   "source": [
    "## 源码安装\n",
    "\n",
    "大多 Python 库都是开源的，可以通过 git 仓库找到源码文件。例如在 Github 仓库，可以使用`pip`直接软件仓库进行安装：\n",
    "```\n",
    "pip install -e git+https://git.repo/some_pkg.git#egg=SomeProject         # from git\n",
    "pip install -e git+https://git.repo/some_pkg.git@feature#egg=SomeProject    # from a branch\n",
    "```"
   ]
  },
  {
   "cell_type": "markdown",
   "metadata": {
    "slideshow": {
     "slide_type": "slide"
    }
   },
   "source": [
    "极个别情况有些库或包只提供源码；或者需要用最新的开发源码亦或需要适当修改。这就需要进行源码安装。下载的源码文件通常都是压缩包形式。首先需要解压软件包，然后切换到解压目录，通常会有一个`setup.py`文件。在命令行中执行如下命令进行安装：\n",
    "```\n",
    "python setup.py install\n",
    "```\n",
    "如果正常即可顺利安装毕。"
   ]
  },
  {
   "cell_type": "markdown",
   "metadata": {},
   "source": [
    "## 二进制安装\n",
    "\n",
    "Python 是胶水语言，可以与其它语言很好的融合。很多 Python 库来自于其它语言，在安装时需要用到 C 语言等编译器。在Windows系统下，通常要用到Visual C++编译器，有时候会无法编译成功。一些网站提供了实现编译好的二进制版本库（wheel格式），例如:\n",
    "- <https://www.lfd.uci.edu/~gohlke/pythonlibs/>\n",
    "\n",
    "可以根据自己操作系统位数与 Python 解释器版本来下载适合的二进制文件，然后使用 pip 来安装下载的Wheel文件：\n",
    "```\n",
    "pip install  packagename.whl\n",
    "```"
   ]
  },
  {
   "cell_type": "markdown",
   "metadata": {
    "slideshow": {
     "slide_type": "slide"
    }
   },
   "source": [
    "## 第三方库选择\n",
    "\n",
    "Python 标准库是稳定、可靠和安全的，而且模块文档化程度很高，用户群也比较庞大。相对来说，遇到的问题会比较少，如果有也早有高手解决了。\n",
    "\n",
    "选择外部库则要慎之又慎，要谨记可能带来的风险。这里列出几条选择外部库原则：\n",
    "- 支持 Python3。\n",
    "- 开发维护活跃，看看版本信息，用户人群。\n",
    "- 与操作系统发行版打包在一起\n",
    "\n",
    "> 关键的还是能够满足当前需求。"
   ]
  }
 ],
 "metadata": {
  "kernelspec": {
   "display_name": "Python 3",
   "language": "python",
   "name": "python3"
  },
  "language_info": {
   "codemirror_mode": {
    "name": "ipython",
    "version": 3
   },
   "file_extension": ".py",
   "mimetype": "text/x-python",
   "name": "python",
   "nbconvert_exporter": "python",
   "pygments_lexer": "ipython3",
   "version": "3.6.4"
  },
  "toc": {
   "base_numbering": 1,
   "nav_menu": {},
   "number_sections": true,
   "sideBar": true,
   "skip_h1_title": false,
   "title_cell": "Table of Contents",
   "title_sidebar": "Contents",
   "toc_cell": false,
   "toc_position": {
    "height": "calc(100% - 180px)",
    "left": "10px",
    "top": "150px",
    "width": "384px"
   },
   "toc_section_display": true,
   "toc_window_display": false
  }
 },
 "nbformat": 4,
 "nbformat_minor": 1
}
