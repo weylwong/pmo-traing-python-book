{
 "cells": [
  {
   "cell_type": "markdown",
   "metadata": {
    "collapsed": true,
    "slideshow": {
     "slide_type": "slide"
    }
   },
   "source": [
    "# Python 概述\n",
    "\n",
    "学习和掌握一门高级编程语言，就可以编写程序来与计算机进行交互，控制和运行计算机来实现用户需求。Python 语言就是一种解释型、面向对象、动态数据类型的高级程序设计语言。本节介绍 Python 的前世今生，比较 Python 优劣，探讨其发展。"
   ]
  },
  {
   "cell_type": "markdown",
   "metadata": {
    "slideshow": {
     "slide_type": "slide"
    }
   },
   "source": [
    "## Python 的前世今生\n",
    "\n",
    "### Van Guido 其人其事\n",
    "\n",
    "1989年圣诞节期间，时年33岁的程序猿[吉多·范罗苏姆(Guido van Rossum)](https://www.python.org/~guido/)尚未有佳人相许，无聊假期长夜漫漫，于是乎开始编写 Python 语言。Python 语言就此诞生！\n",
    "\n",
    "![Python语言创始人](../images/GuidovanRossum.jpg 'Guido van Rossum')"
   ]
  },
  {
   "cell_type": "markdown",
   "metadata": {},
   "source": [
    "> `Guido van Rossum` 1956年1月31日出生在荷兰。在荷兰，`Van Rossum`是两个字的姓氏（例如荷兰著名画家梵高（Van Gogh）先生），类似中国的复姓。荷兰拼写语法规定，如果姓名合起来，则要小写`van`；如单独使用，则要大写`Van`，例如`Van Rossum`先生是对的(Van Rossum is right)。在荷兰语中 Guido 的 G 是个重音，发音类似，参见[语音](../images/guido.au)。"
   ]
  },
  {
   "cell_type": "markdown",
   "metadata": {
    "slideshow": {
     "slide_type": "slide"
    }
   },
   "source": [
    "###  Python 版本历史\n",
    "\n",
    "与其它计算机语言的发展类似，英雄创世纪后开始高速发展，如下是 Python 的重要的历史版本：\n",
    "- Python Zero -- 1989年圣诞\n",
    "- Python 编译器 -- 1991年\n",
    "- Python1.0--1994年01月\n",
    "- Python2.0--2000年10月\n",
    "- Python3.0--2008年12月  --  Python2.6--2008年10月\n",
    "- Python3.6--2016年12月  --  Python2.7.13--2016年12月"
   ]
  },
  {
   "cell_type": "markdown",
   "metadata": {},
   "source": [
    "需要注意的是，从 2008 年 12 月之后，Python 同时有两个版本系列，分别称为Python 2 和Python 3。"
   ]
  },
  {
   "cell_type": "markdown",
   "metadata": {
    "slideshow": {
     "slide_type": "slide"
    }
   },
   "source": [
    "## Python 的优缺点\n",
    "\n",
    "Python 优缺点见仁见智，你眼中的优点在别人眼中也许是缺点。"
   ]
  },
  {
   "cell_type": "markdown",
   "metadata": {},
   "source": [
    "### 简单易学（simple and easy-to-learn）\n",
    "\n",
    "Python 语言设计目标是简单易学，其有个愿景是：人人都是程序员（[Everybody a Programmer](http://legacy.python.org/doc/essays/ppt/acm-cp4e/sld003.htm)）。像老头乐一样，遇到小问题自己就用 Python 解决，痒了自己挠蛮好。\n",
    "\n",
    "Python 在设计上坚持了清晰划一风格，有意设计了限制性很强语法，保证了 Python 代码的友好和一致。甚至有人认为，Python 程序接近于伪代码，读代码如同读英语一般。"
   ]
  },
  {
   "cell_type": "markdown",
   "metadata": {
    "slideshow": {
     "slide_type": "skip"
    }
   },
   "source": [
    "### 功能强大（powerful）\n",
    "\n",
    "- 交互式解释型语言。不需要编译即可运行，在开发程序时可以不断试错，查看和检测程序内容。\n",
    "- 面向对象。类支持多态、操作符重载和多重继承等高级概念。在Python语言中，万物皆对象。\n",
    "- 支持动态类型。在运行过程中随时跟踪对象的种类，不需要代码中声明。自动内存管理自动进行对象分配和垃圾回收，替代用户做内存管理。\n",
    "- Python支持多种范式编程，包括过程、面向对象、函数式编程。\n",
    "- Python内置常用高级数据类型，同时包括众多预编译的标准库。\n",
    "- 易于扩展。类似“胶水”语言，和其它语言混搭便利，容易使用C、Fortran等语言编写的库文件。"
   ]
  },
  {
   "cell_type": "markdown",
   "metadata": {},
   "source": [
    "### 高效能\n",
    "\n",
    "- 与 C、C＋＋ 和 Java 等编译语言相比，Python 代码量往往比它们少2-10倍。这也就意味着维护工作也大大减少。\n",
    "- 同时 Python 程序还是解释性语言，无需编译及连接等步骤，进一步提高编程效能。\n",
    "- 随着计算机硬件的快速发展，人力费用已经远贵于硬件。社会的高速发展，也使得开发时间远急于CPU时间。\n",
    "- Python 设计更注重可读性和一致性，其软件质量也会大有提高，减少了维护成本，意味着效能的提高。"
   ]
  },
  {
   "cell_type": "markdown",
   "metadata": {},
   "source": [
    "### 开源\n",
    "\n",
    "Python 是自由开源软件之一，易于使用，Python 的在线社区提供的支持响应也相当快。"
   ]
  },
  {
   "cell_type": "markdown",
   "metadata": {},
   "source": [
    "### 可移植\n",
    "\n",
    "Pyhton 语言的开源本质，使得绝大多数 Python 程序不做任何改变，就可在所有主流计算机平台上运行。例如，从个人计算机到超级计算机，甚至移动平台。"
   ]
  },
  {
   "cell_type": "markdown",
   "metadata": {},
   "source": [
    "### 运行速度慢\n",
    "\n",
    "与 C 语言等编译语言相比，Python 运行速度确实慢。\n",
    "\n",
    "对于计算机程序，评价快慢优劣的标准应当是需求是否足够。在现实生活中，应用程序归根结底是要解决问题。通常最大需求是尽快编写程序把问题解决掉，显然Python更快。其次，大多应用程序对速度要求并不高，0.001 秒和 0.1 秒的差异人类感觉并不明显，而且随着计算机产业发展，人力资源会比硬件资源越来越贵，使用性能更优硬件满足需求即可。"
   ]
  },
  {
   "cell_type": "markdown",
   "metadata": {},
   "source": [
    "### 代码不加密\n",
    "\n",
    "Python 程序通常是源代码。\n",
    "\n",
    "随着互联网模式的快速发展，可以通过网站提供服务，在此情况是不需要提供源代码的。开阔视野，放眼未来，也许开源才是生存之道。"
   ]
  },
  {
   "cell_type": "markdown",
   "metadata": {},
   "source": [
    "## Python 的应用范围与发展态势\n",
    "\n",
    "Python 的应用范围广泛，包括如下领域：\n",
    "- Web 开发、网络爬虫\n",
    "- 数据分析、人工智能\n",
    "- 自动运维开发\n",
    "- 自动化测试\n",
    "- 云计算\n",
    "- 量化交易\n",
    "- 科学计算\n",
    "- 树莓派智能设备"
   ]
  },
  {
   "cell_type": "markdown",
   "metadata": {},
   "source": [
    "[TIOBE 开发语言排行榜](http://www.tiobe.com/tiobe_index?page=index)使用搜索引擎等对大约 200 多个开发语言进行统计排名，借此反映某个编程语言的热门程度。最新统计显示，Python 语言目前排名第 3 位。\n",
    "\n",
    "![TIOBE 开发语言排行榜](../images/tiobe_Jan2019.png)"
   ]
  },
  {
   "cell_type": "markdown",
   "metadata": {
    "slideshow": {
     "slide_type": "slide"
    }
   },
   "source": [
    "## 小结\n",
    "\n",
    "在 TIOBE 开发语言排行榜排名靠前的几个语言中，除了 Python 语言之外，其它 C、C++、Java语言都是编译语言。Van Guido 在开发 Python 之初也曾建议把 Python 语言当做其它编译的第二语言。时至今日，笔者建议学习掌握一种编译语言和一种解释型脚本语言即可。"
   ]
  }
 ],
 "metadata": {
  "kernelspec": {
   "display_name": "Python 3",
   "language": "python",
   "name": "python3"
  },
  "language_info": {
   "codemirror_mode": {
    "name": "ipython",
    "version": 3
   },
   "file_extension": ".py",
   "mimetype": "text/x-python",
   "name": "python",
   "nbconvert_exporter": "python",
   "pygments_lexer": "ipython3",
   "version": "3.6.4"
  },
  "toc": {
   "base_numbering": 1,
   "nav_menu": {},
   "number_sections": true,
   "sideBar": true,
   "skip_h1_title": false,
   "title_cell": "Table of Contents",
   "title_sidebar": "Contents",
   "toc_cell": false,
   "toc_position": {
    "height": "calc(100% - 180px)",
    "left": "10px",
    "top": "150px",
    "width": "349px"
   },
   "toc_section_display": true,
   "toc_window_display": false
  }
 },
 "nbformat": 4,
 "nbformat_minor": 1
}
