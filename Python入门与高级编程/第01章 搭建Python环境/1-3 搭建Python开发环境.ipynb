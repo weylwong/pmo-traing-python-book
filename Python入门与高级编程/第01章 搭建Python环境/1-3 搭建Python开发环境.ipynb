{
 "cells": [
  {
   "cell_type": "markdown",
   "metadata": {
    "collapsed": true,
    "slideshow": {
     "slide_type": "slide"
    }
   },
   "source": [
    "# 搭建 Python 开发环境\n",
    "\n",
    "曾经听闻一个故事，一位女士来到一个事业单位，办事人员帮她安排办公环境，她左挑右选的让办事人员很不耐烦。这位女士说道，要知道来到事业单位，或许直到退休都得待在这个小小的一片天地，那么为什么不好好选择呢？\n",
    "\n",
    "人们编写完 Python 语句之后，需要 Pyhton 解释器来把语句翻译为机器语言并让计算机去执行。除此之外还需要其它各种工具如编辑器等组成自己的开发环境。所以，当我们选择了 Python 开发作为自己的职业，或许一生都在这个 Python 开发环境下工作，那么为什么不好好选择呢？如果是一辈子，为什么不好好善待自己的吃饭家伙什。\n",
    "\n",
    "> 工欲善其事，必先利其器。"
   ]
  },
  {
   "cell_type": "markdown",
   "metadata": {},
   "source": [
    "本节介绍 Python 开发环境的搭建"
   ]
  },
  {
   "cell_type": "markdown",
   "metadata": {},
   "source": [
    "## Python环境选择"
   ]
  },
  {
   "cell_type": "markdown",
   "metadata": {},
   "source": [
    "### Python 2  与 Python 3？\n",
    "\n",
    "如上节所述，Python 同时维持了 Python 2.x（称为Python2）和Python 3.x（称为Python3），二者之间之间并不兼容，存在较大的差异。那么使用 Python 2 还是 Python 3？又是一个见智见仁的问题。"
   ]
  },
  {
   "cell_type": "markdown",
   "metadata": {},
   "source": [
    "在 Python 官网也专门有[Python 版本选择讨论](https://wiki.python.org/moin/Python2orPython3)。Python 官方说法是，Python2 是历史遗留，Python3 则是当下，是Python语言的未来\n",
    "\n",
    "> Python 2.x is legacy, Python 3.x is the present and future of the language."
   ]
  },
  {
   "cell_type": "markdown",
   "metadata": {},
   "source": [
    "> Python 官方在 2014 年 11 月宣布：Python 2.7 只会被支持到 2020 年，所以不会有 Python 2.8 版。"
   ]
  },
  {
   "cell_type": "markdown",
   "metadata": {},
   "source": [
    "### Python解释器\n",
    "\n",
    "运行 Python 语句需要一个 Python 解释器。目前有各种 Python 解释器的实现：\n",
    "- CPython。使用 C 语言实现 Python 解释器，也是使用最广的 Python 解释器。\n",
    "- [Jython](http://www.jython.org/)。使用 Java 语言实现的 Python 解释器，运行在 Java 平台，可以把 Python 代码编译成 Java 字节码执行。\n",
    "- [IronPython](http://ironpython.net/)。使用`C#`实现的 Python 解释器，运行在`.net`平台上，可以把 Python 代码编译成`.net`字节码执行。\n",
    "- [PyPy](http://pypy.org/)。使用 Python 实现的 Python 解释器，提供了 JIT 编译器和沙盒功能，运行速度会比 CPython 快。"
   ]
  },
  {
   "cell_type": "markdown",
   "metadata": {},
   "source": [
    "> 本教程使用 Python3 进行讲解，同时使用 CPython 实现。"
   ]
  },
  {
   "cell_type": "markdown",
   "metadata": {
    "slideshow": {
     "slide_type": "slide"
    }
   },
   "source": [
    "## Python环境安装"
   ]
  },
  {
   "cell_type": "markdown",
   "metadata": {
    "slideshow": {
     "slide_type": "slide"
    }
   },
   "source": [
    "### 安装 Anaconda Python 套件\n",
    "\n",
    "随着 Python 的快速发展，各种用途的第三方软件包越来越多，所以业界提供了各种 Python 软件包套件，可以一下在安装开发所需的大多数软件包和工具。常用的 Python 软件套件有：\n",
    "- [Anaconda](https://www.continuum.io/)\n",
    "- [Canopy](https://www.enthought.com/product/canopy/)\n",
    "- [WinPython](http://winpython.github.io/)\n",
    "\n",
    "对于数据分析用户，这里推荐安装 Anaconda Python 套件。"
   ]
  },
  {
   "cell_type": "markdown",
   "metadata": {
    "collapsed": true,
    "slideshow": {
     "slide_type": "skip"
    }
   },
   "source": [
    "#### Anaconda Python套件概述\n",
    "\n",
    "[Anaconda Python套件](https://www.continuum.io)是一个基于强大Python的开源分析平台，易于安装、发现直观、分析快捷、协作简单，人人皆可使用。主要特色包括：\n",
    "- 开放源码  \n",
    "Anaconda Python团队始终秉持开源思想，保持分发版本始终免费。\n",
    "- 功能强大\n",
    "Anaconda Python套件包括300多个开源软件包，包含了通用工具、数据可视化和数据分析的大部分软件包，安装一次即可获得。\n",
    "- 安全可靠\n",
    "Anaconda Python套件的开源软件包，都经过测试确认，降低使用风险。\n",
    "- 跨平台  \n",
    "Anaconda可以用于Windows、Linux和Mac Os平台。\n",
    "- 跨版本  \n",
    "Anaconda同时支持Python2和Python3版本。\n",
    "- 分离式安装  \n",
    "Anaconda可以安装到一个单独目录，不会与现有安装冲突；可以不需要超级用户权限，即一般用户也可以安装专用于自己的Python版本。"
   ]
  },
  {
   "cell_type": "markdown",
   "metadata": {
    "slideshow": {
     "slide_type": "skip"
    }
   },
   "source": [
    "#### Windows系统安装\n",
    "\n",
    "在资源管理器中选择【此电脑】，然后单击右键选择【属性】，查看有关计算机的基本信息，了解自己计算机的操作系统位数。如下图所示：\n",
    "![操作系统](../images/operatingsystem.png)"
   ]
  },
  {
   "cell_type": "markdown",
   "metadata": {},
   "source": [
    "然后根据自己操作系统位数，从[Anaconda Python官网](https://www.continuum.io/downloads)下载与系统匹配的 Python 3.X 版本的安装程序。\n",
    "\n",
    "> 在国内青岛到[清华大学镜像站](https://mirrors.tuna.tsinghua.edu.cn/help/anaconda/)的[下载安装包](https://mirrors.tuna.tsinghua.edu.cn/anaconda/archive/)下载指定安装程序。\n",
    "\n",
    "例如当前最新版本安装程序为`Anaconda3-5.3.1-Windows-x86_64.exe`（2018年11月），表示Windows 64 位系统， 支持 Python 3。"
   ]
  },
  {
   "cell_type": "markdown",
   "metadata": {
    "slideshow": {
     "slide_type": "skip"
    }
   },
   "source": [
    "然后双击安装程序文件，并按照提示进行操作，即可顺利安装。推荐安装目录为`C:\\Anaconda3`"
   ]
  },
  {
   "cell_type": "markdown",
   "metadata": {},
   "source": [
    "安装完毕后，选择【开始】=>【Anaconda】=>【Anaconda Prompt】,进入Anaconda 命令终端。在命令终端中，键入`python`，启动Python程序，键入：\n",
    "```\n",
    "1 + 1\n",
    "```\n",
    "\n",
    "![Anaconda Python](../images/anaconda_python.png)"
   ]
  },
  {
   "cell_type": "markdown",
   "metadata": {},
   "source": [
    "如果如上图所示，能正常返回2，说明anaconda安装正常。\n",
    "\n",
    "> 在任务栏上，选择Anaconda终端按钮，单击右键选择“固定到任务栏”。以便于通过任务栏快捷启动Anaconda终端。"
   ]
  },
  {
   "cell_type": "markdown",
   "metadata": {
    "slideshow": {
     "slide_type": "skip"
    }
   },
   "source": [
    "#### linux操作系统\n",
    "\n",
    "到[清华大学镜像站](https://mirrors.tuna.tsinghua.edu.cn/help/anaconda/)的[下载安装包](https://mirrors.tuna.tsinghua.edu.cn/anaconda/archive/)，下载64位Linux系统的Python3安装程序(`Anaconda3-5.3.1-Linux-x86_64.sh`, 2018年11月期间)。\n",
    "\n",
    "使用超级用户，在终端提示符下，切换到安装程序文件所在目录，键入如下命令：\n",
    "```shell\n",
    "$ bash Anaconda3-5.3.1-Linux-x86_64.sh\n",
    "```\n",
    "按照提示进行，即可安装。建议安装目录为`/opt/anaconda3`"
   ]
  },
  {
   "cell_type": "markdown",
   "metadata": {},
   "source": [
    "使用个人用户，在用户主目录下，修改初始化文件`.bashrc`文件，增加如下内容：\n",
    "```shell\n",
    "export PATH=\"/opt/anaconda3/bin:$PATH\"\n",
    "export PYTHONPATH='/opt/anaconda3/lib'\n",
    "```\n",
    "\n",
    "然后键入如下命令：\n",
    "```\n",
    "source .bashrc\n",
    "```"
   ]
  },
  {
   "cell_type": "markdown",
   "metadata": {},
   "source": [
    "同样在命令终端下，键入`python`运行 Python 程序，然后输入：\n",
    "```\n",
    "1 + 1\n",
    "```\n",
    "\n",
    "正常返回2，说明 Anaconda 安装正常"
   ]
  },
  {
   "cell_type": "markdown",
   "metadata": {
    "slideshow": {
     "slide_type": "skip"
    }
   },
   "source": [
    "#### Mac Os操作系统\n",
    "\n",
    "从[Anaconda Python官网](https://www.continuum.io/downloads#_macosx)下载Python3 Mac Os X64位系统安装程序(`Anaconda3-5.3.1-MacOSX-x86_64.pkg`, 2018年11月期间)。\n",
    "\n",
    "双击下载的安装程序文件，并按照提示进行操作，即可顺利安装。"
   ]
  },
  {
   "cell_type": "markdown",
   "metadata": {},
   "source": [
    "## 安装 Pycharm 集成开发环境\n",
    "\n",
    "Anaconda Python 套件会安装 Python 解释器、一组用于数据分析的库以及一些常用工具。有了 Python 解释器就可以把 Python 语句翻译为机器语言并让计算机去执行。不过在 Python 编程过程，需要一个编辑器用来编写代码。在使用任何编程语言开发软件的周期中，还会涉及到软件调试、测试、软件代码管理等过程。一个集成开发环境（Integrated Development Environment，IDE) ，通常会集中实现这些功能，例如：\n",
    "- 项目管理\n",
    "- 语法高亮\n",
    "- 代码跳转\n",
    "- 智能提示\n",
    "- 自动完成\n",
    "- 调试\n",
    "- 单元测试\n",
    "- 版本控制\n",
    "\n",
    "Pyhton 集成开发环境有很多，包括如下：\n",
    "- pycharm\n",
    "- visual code\n",
    "- Spyder\n",
    "- Sublime3\n",
    "- Eclipse+Pydev\n",
    "- Emacs\n",
    "\n",
    "在 Anaconda 套件中已经安装了 spyder 集成开发环境。如何选择集成开发环境因个人偏好而异，这里选择功能更为强大的 PyCharm 。其实选择并不不重要，重要的是要用一辈子去坚持。"
   ]
  },
  {
   "cell_type": "markdown",
   "metadata": {},
   "source": [
    "### 安装\n",
    "\n",
    "Pycharm 是个跨平台开发环境，可以运行在 Windows、Linux、Mac 等常用操作系统。Pycharm 包括社区版（Community）和专业版（Professional）。前者免费，后者需要收费。这里选择免费的社区版。"
   ]
  },
  {
   "cell_type": "markdown",
   "metadata": {},
   "source": [
    "#### Windows 系统\n",
    "\n",
    "浏览[PyCharm官网](https://www.jetbrains.com/pycharm/)，找到下载按钮并单击，切换到[下载页面](https://www.jetbrains.com/pycharm/download/)。根据操作系统版本，选择下载合适的 PyCharm 社区版。\n",
    "\n",
    "切换到下载目录，双击下载安装程序（例如`pycharm-community-2018.2.1.exe`），按照提示使用缺省值，一路安装下去。Pycharm程序安装目录可以进行更改：\n",
    "![Pycharm安装目录](../images/pycharm_windows_install.png)\n",
    "\n",
    "安装完成后，Pycharm 第一次启动时，也使用缺省选择，例如；\n",
    "![Pycharm首次启动选择](../images/pycharm_windows_complete_installation.png)\n",
    "\n",
    "最后就进入欢迎界面：\n",
    "![首次使用](../images/pycharm_welcome.png)"
   ]
  },
  {
   "cell_type": "markdown",
   "metadata": {},
   "source": [
    "#### Linux\n",
    "\n",
    "同样去 Pycharm 官网，下载支持 Linux 系统的PyCharm 社区版，是一个压缩文件（例如`pycharm-professional-2018.2.tar.gz`）。切换到下载目录并解压缩文件：\n",
    "```sh\n",
    "tar zxvf pycharm-professional-2018.2.tar.gz\n",
    "```\n",
    "\n",
    "把解压缩后的目录拷贝到安装目录（如`/usr/local`），这样 PyCharm 的目录为：\n",
    "```sh\n",
    "/usr/local/pycharm-2018.2\n",
    "```\n",
    "\n",
    "在用户初始化文件`.bashrc`中，添加\n",
    "```\n",
    "alias pycharm='/usr/local/pycharm-2018.2/bin/pycharm.sh'\n",
    "```\n",
    "\n",
    "这样启动用户终端，并键入如下命令：\n",
    "```sh\n",
    "$ pycharm\n",
    "```\n",
    "就可以在 Linux 系统下运行 pycharm 继承开发环境，启动和欢迎界面与Windows系统下界面类似。"
   ]
  }
 ],
 "metadata": {
  "kernelspec": {
   "display_name": "Python 3",
   "language": "python",
   "name": "python3"
  },
  "language_info": {
   "codemirror_mode": {
    "name": "ipython",
    "version": 3
   },
   "file_extension": ".py",
   "mimetype": "text/x-python",
   "name": "python",
   "nbconvert_exporter": "python",
   "pygments_lexer": "ipython3",
   "version": "3.6.4"
  },
  "toc": {
   "base_numbering": 1,
   "nav_menu": {},
   "number_sections": true,
   "sideBar": true,
   "skip_h1_title": false,
   "title_cell": "Table of Contents",
   "title_sidebar": "Contents",
   "toc_cell": false,
   "toc_position": {
    "height": "calc(100% - 180px)",
    "left": "10px",
    "top": "150px",
    "width": "349px"
   },
   "toc_section_display": true,
   "toc_window_display": false
  }
 },
 "nbformat": 4,
 "nbformat_minor": 1
}
