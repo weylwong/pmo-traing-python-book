{
 "cells": [
  {
   "cell_type": "markdown",
   "metadata": {
    "collapsed": true,
    "slideshow": {
     "slide_type": "slide"
    }
   },
   "source": [
    "# 运行 Python \n",
    "\n",
    "编写 Python 语句之后，需要一个 Python 解释器进行解释执行。Python 解释器使用交互和脚本两种模式来运行 Python 语句。\n",
    "\n",
    "为了满足人们对交互运行模式更多更强需求，业界开发了增强的交互式 Python 工具IPython。欲望永无止境，业界又开发了基于浏览器的 Jupyter Notebook 工具。当然对于开发人员而言，还有一个 Pycharm 集成开发环境。也就是说，Python 的运行与开发可以使用如下工具:\n",
    "- python\n",
    "- ipython\n",
    "- jupyter notebook\n",
    "- pycharm\n",
    "\n",
    "本节介绍简单介绍如何用这几个运行和开发工具来开发 Python 程序。"
   ]
  },
  {
   "cell_type": "markdown",
   "metadata": {
    "slideshow": {
     "slide_type": "slide"
    }
   },
   "source": [
    "## Python 解释器\n",
    "\n",
    "安装Anaconda Python套件时，会安装一个Python 解释器。例如在 Linux 系统其全路径为：\n",
    "```\n",
    "/opt/anaconda3/bin/python\n",
    "```\n",
    "\n",
    "在 Windows 系统下则为：\n",
    "```\n",
    "C:\\Anaconda3\\python.exe\n",
    "```\n",
    "\n",
    "Python 解释器包括交互和脚本两种运行方式。"
   ]
  },
  {
   "cell_type": "markdown",
   "metadata": {
    "slideshow": {
     "slide_type": "-"
    }
   },
   "source": [
    "### 初识 Python 解释器\n",
    "\n",
    "#### 启动 Python 解释器\n",
    "\n",
    "- 在 Windows 操作系统下，进入 Anaconda 命令终端，切换到工作目录，然后键入如下命令:\n",
    "```shell\n",
    "E:\\learnpython> python\n",
    "```\n",
    "\n",
    "- 在Linux操作系统下，打开Shell终端，切换到工作目录，然后键入如下命令:\n",
    "```shell\n",
    "$ python\n",
    "```\n",
    "\n",
    "> 注：后续章节统一用命令终端来指代不同系统的终端程序。后续演示主要以 Linux 操作系统为例。如因操作系统导致的结果不同，会尽量提示。"
   ]
  },
  {
   "cell_type": "markdown",
   "metadata": {
    "slideshow": {
     "slide_type": "slide"
    }
   },
   "source": [
    "Python 解释器启动后，出现如下内容：\n",
    "```\n",
    "Python 3.6.4 |Anaconda, Inc.| (default, Jan 16 2018, 18:10:19) \n",
    "[GCC 7.2.0] on linux\n",
    "Type \"help\", \"copyright\", \"credits\" or \"license\" for more information.\n",
    ">>> \n",
    "```\n",
    "\n",
    "Python解释器启动后，进入交互模式，等待用户的输入与操作。\n",
    "\n",
    "交互模式的**主提示符**为三个大于号:`>>>`。"
   ]
  },
  {
   "cell_type": "markdown",
   "metadata": {
    "slideshow": {
     "slide_type": "slide"
    }
   },
   "source": [
    "除此之外还列出了解释器版本号和提示帮助等信息：  \n",
    "- 第一行显示Python版本号（本例为：Python 3.6.4），及其它信息（不同安装版本会有所不同）。\n",
    "- 第二行显示Python编译所用的编译器及操作系统、编译器（本例为：Linux操作系统，GCC编译）。\n",
    "- 第三行提示，使用如下命令获得更多信息：\n",
    "    - **credits**，列出Python的致谢信息；\n",
    "    - **copyright**，列出Python的版权变化信息；\n",
    "    - **license**，列出Python的授权方式及其演变；\n",
    "    - **help**命令，最重要的帮助语句。"
   ]
  },
  {
   "cell_type": "markdown",
   "metadata": {
    "slideshow": {
     "slide_type": "slide"
    }
   },
   "source": [
    "在提示符下输入语句，Python 解释器会执行并给出结果；完毕后再列出提示符，继续等待用户输入下一条语句。"
   ]
  },
  {
   "cell_type": "markdown",
   "metadata": {
    "slideshow": {
     "slide_type": "slide"
    }
   },
   "source": [
    "#### 退出程序\n",
    "\n",
    "> 退出Python解释器，返回命令终端，输入`exit()`或按下`Ctrl-D`即可：\n",
    "\n",
    "```\n",
    ">>> exit()\n",
    "```"
   ]
  },
  {
   "cell_type": "markdown",
   "metadata": {
    "slideshow": {
     "slide_type": "skip"
    }
   },
   "source": [
    "#### 致谢（credits）\n",
    "\n",
    "在Python提示符下，键入命令：\n",
    "```python\n",
    ">>> credits()\n",
    "    Thanks to CWI, CNRI, BeOpen.com, Zope Corporation and a cast of thousands\n",
    "    for supporting Python development.  See www.python.org for more information.\n",
    "```\n",
    "从中可见 Python 与 Van Guido 先生工作经历的关系。对每一份帮助的感谢都在程序中予以体现。这就是的情怀！"
   ]
  },
  {
   "cell_type": "markdown",
   "metadata": {
    "slideshow": {
     "slide_type": "skip"
    }
   },
   "source": [
    "#### 版权（copyright）\n",
    "\n",
    "在 Python 提示符下，键入命令：\n",
    "```python\n",
    ">>> copyright()\n",
    "Copyright (c) 2001-2017 Python Software Foundation.\n",
    "All Rights Reserved.\n",
    "\n",
    "Copyright (c) 2000 BeOpen.com.\n",
    "All Rights Reserved.\n",
    "\n",
    "Copyright (c) 1995-2001 Corporation for National Research Initiatives.\n",
    "All Rights Reserved.\n",
    "\n",
    "Copyright (c) 1991-1995 Stichting Mathematisch Centrum, Amsterdam.\n",
    "All Rights Reserved.\n",
    "```\n",
    "会列出Python版权的变化。从中亦可，从 2001 年开始，Python 版权属于 Python 软件基金会。"
   ]
  },
  {
   "cell_type": "markdown",
   "metadata": {
    "slideshow": {
     "slide_type": "skip"
    }
   },
   "source": [
    "#### 授权（license） \n",
    "\n",
    "在 Python 提示符下，键入命令：\n",
    "```python\n",
    ">>> license()\n",
    "See https://www.python.org/psf/license/\n",
    "```\n",
    "会列出 Python 版本历史及授权方式的演变的介绍页面。从中可知，除了 2000 年短暂的创业期间外，Python 始终坚持开源精神，是纯粹的自由软件。"
   ]
  },
  {
   "cell_type": "markdown",
   "metadata": {
    "slideshow": {
     "slide_type": "skip"
    }
   },
   "source": [
    "#### 帮助（help）\n",
    "\n",
    "Python的帮助功能强大，在Python提示符下，键入命令：\n",
    "```python\n",
    ">>> help()\n",
    "\n",
    "Welcome to Python 3.6's help utility!\n",
    "\n",
    "If this is your first time using Python, you should definitely check out\n",
    "the tutorial on the Internet at http://docs.python.org/3.6/tutorial/.\n",
    "\n",
    "Enter the name of any module, keyword, or topic to get help on writing\n",
    "Python programs and using Python modules.  To quit this help utility and\n",
    "return to the interpreter, just type \"quit\".\n",
    "\n",
    "To get a list of available modules, keywords, symbols, or topics, type\n",
    "\"modules\", \"keywords\", \"symbols\", or \"topics\".  Each module also comes\n",
    "with a one-line summary of what it does; to list the modules whose name\n",
    "or summary contain a given string such as \"spam\", type \"modules spam\".\n",
    "\n",
    "help> \n",
    "```"
   ]
  },
  {
   "cell_type": "markdown",
   "metadata": {
    "slideshow": {
     "slide_type": "skip"
    }
   },
   "source": [
    "> 注意：前面提到`>>>`是 Python 交互模式的主提示符，**主**意味着还有**次**。\n",
    "\n",
    "> 执行`help()`后，见到提示符**help>**就是次级提示符，表示切换到了帮助交互模式下，按下回车又切换回Python交互模式。"
   ]
  },
  {
   "cell_type": "markdown",
   "metadata": {
    "slideshow": {
     "slide_type": "skip"
    }
   },
   "source": [
    "`help()`是重要的Python内置帮助函数，在后续章节还有`help()`使用介绍。"
   ]
  },
  {
   "cell_type": "markdown",
   "metadata": {
    "slideshow": {
     "slide_type": "slide"
    }
   },
   "source": [
    "### HelloWorld 程序\n",
    "\n",
    "Python 解释器包括两种运行方式：第一种是如上所述的交互模式，即在交互模式下逐行输入和运行；第二种是使用脚本文件运行。下面来演示“helloworld”程序的 Python 版本。 "
   ]
  },
  {
   "cell_type": "markdown",
   "metadata": {
    "slideshow": {
     "slide_type": "slide"
    }
   },
   "source": [
    "#### Python 交互式程序\n",
    "\n",
    "启动 Python 程序，在提示符后键入如下 Python 语句，然后按回车键：\n",
    "```python\n",
    ">>> print('Hello, World!')\n",
    "Hello, World!\n",
    ">>>\n",
    "```"
   ]
  },
  {
   "cell_type": "markdown",
   "metadata": {},
   "source": [
    "在此语句中，调用`print()`函数来在终端打印出`Hello, World!`文本信息。\n",
    "\n",
    "恭喜！您已经编写自己的 Python 程序，在终端打印出了一条语句。"
   ]
  },
  {
   "cell_type": "markdown",
   "metadata": {
    "slideshow": {
     "slide_type": "slide"
    }
   },
   "source": [
    "#### Python 脚本程序\n",
    "\n",
    "在交互模式下，用户逐行输入 Python 语句然后进行解释运行。另外一种情况是用户编写的 Python 语句存放到一个脚本文件，然后使用 Python 解释器运行脚本文件，类似 Linux 系统的 Shell 脚本或 Windows 系统的批处理文件。"
   ]
  },
  {
   "cell_type": "markdown",
   "metadata": {
    "slideshow": {
     "slide_type": "-"
    }
   },
   "source": [
    "使用一个文本编辑器把，写入如上 `print` 语句，并保存为一个文件，命名为`helloworld.py`:\n",
    "```python\n",
    "print('Hello, World!')\n",
    "```"
   ]
  },
  {
   "cell_type": "markdown",
   "metadata": {
    "slideshow": {
     "slide_type": "-"
    }
   },
   "source": [
    "然后使用 Python 解释器来运行脚本文件，即在命令终端上键入如下命令：\n",
    "```sh\n",
    "$ python hellodworld.py\n",
    "Hello, World!\n",
    "```"
   ]
  },
  {
   "cell_type": "markdown",
   "metadata": {},
   "source": [
    "再次恭喜！您写的第一个 Python 脚本文件运行成本，在终端上打印出`Hello World!`。"
   ]
  },
  {
   "cell_type": "markdown",
   "metadata": {
    "slideshow": {
     "slide_type": "slide"
    }
   },
   "source": [
    "在 Python 中，`#`开头的语句是**注释行**。也就是说，python 解释器看到注释行都会跳过去，并不执行。利用注释行，可以在程序中增加如下辅助信息：\n",
    "\n",
    "```python\n",
    "#!/usr/bin/env python\n",
    "# -*- coding: utf-8 -*-\n",
    "# Copyright (c) 2019--2023, Your Name.\n",
    "# All rights reserved.\n",
    "\n",
    "print('Hello, World!')\n",
    "```"
   ]
  },
  {
   "cell_type": "markdown",
   "metadata": {},
   "source": [
    "程序文件第一行是 Shebang 语句。在 Linux 系统下把脚本文件当做应用程序执行时，脚本文件会由 Shebang 语句指定的解释程序去执行。例如在 Linux 系统下，使用`chmod`命令更改脚本文件执行模式和权限：\n",
    "\n",
    "```sh\n",
    "$ chmod +x helloworld.py\n",
    "```\n",
    "\n",
    "这样就可以把脚本文件当应用程序直接执行：\n",
    "```sh\n",
    "$ ./helloworld.py\n",
    "Hello, World!\n",
    "```"
   ]
  },
  {
   "cell_type": "markdown",
   "metadata": {},
   "source": [
    "在Windows系统中没有类似执行模式，可以把`.py`文件关联到相应的`python`程序；然后双击该脚本文件，即可当做应用程序来运行。"
   ]
  },
  {
   "cell_type": "markdown",
   "metadata": {},
   "source": [
    "程序文件第二行是文件编码格式语句，在第 3 章会有说明。\n",
    "\n",
    "其它两行注释行是版权说明语句。"
   ]
  },
  {
   "cell_type": "markdown",
   "metadata": {},
   "source": [
    "## IPython 工具\n",
    "\n",
    "[IPython](http://ipython.org/)是一个增强的交互式 Python，其目标是提供一个用于交互计算的富架构系统。\n",
    "\n",
    "其功能特点为：\n",
    "* 强大的交互shell；\n",
    "* Jupyter内核；\n",
    "* 使用GUI工具箱，支持交互数据可视化；\n",
    "* 易用、高性能的并行计算工具。"
   ]
  },
  {
   "cell_type": "markdown",
   "metadata": {},
   "source": [
    "在 Linux 系统 IPython 全路径为：\n",
    "```\n",
    "/opt/anaconda3/bin/ipython\n",
    "```\n",
    "\n",
    "在 Windows 系统下则为：\n",
    "```\n",
    "C:\\Anaconda3\\Scripts\\ipython.exe\n",
    "```"
   ]
  },
  {
   "cell_type": "markdown",
   "metadata": {},
   "source": [
    "> 必须清楚一点，IPython 首先是个纯的 Python。也就是说，在 IPython 中能够执行任何Python语句。"
   ]
  },
  {
   "cell_type": "markdown",
   "metadata": {},
   "source": [
    "### 运行IPython\n",
    "\n",
    "在命令终端下，键入如下命令启动IPython：\n",
    "\n",
    "```sh\n",
    "$ ipython\n",
    "Python 3.6.4 |Anaconda, Inc.| (default, Jan 16 2018, 18:10:19) \n",
    "Type 'copyright', 'credits' or 'license' for more information\n",
    "IPython 6.2.1 -- An enhanced Interactive Python. Type '?' for help.\n",
    "\n",
    "In [1]: \n",
    "```"
   ]
  },
  {
   "cell_type": "markdown",
   "metadata": {},
   "source": [
    "启动 IPython 后进入交互模式，其显示信息与启动 Python 类似，增加了一行IPython的版本信息：\n",
    "\n",
    "```\n",
    "IPython 6.2.1 -- An enhanced Interactive Python. Type '?' for help.\n",
    "```\n",
    "\n",
    "交互模式的主提示符变为`In [1]`"
   ]
  },
  {
   "cell_type": "markdown",
   "metadata": {},
   "source": [
    "当运行Python语句后，会给出后新的主提示符：\n",
    "\n",
    "```python\n",
    "In [1]: print('Hello World!')\n",
    "Hello World!\n",
    "\n",
    "In [2]: \n",
    "```\n",
    "\n",
    "从提示符可以看出是运行 Python 语句的序数。"
   ]
  },
  {
   "cell_type": "markdown",
   "metadata": {},
   "source": [
    "在提示符中输入`exit()`即可退出IPython。"
   ]
  },
  {
   "cell_type": "markdown",
   "metadata": {},
   "source": [
    "### IPython的交互功能\n",
    "\n",
    "使用 IPython 可以高效能地交互式地运行Python，主要功能包括：\n",
    "- Tab键自动补全\n",
    "- 自省和帮助\n",
    "- 扩展SHELL\n",
    "- 魔术命令"
   ]
  },
  {
   "cell_type": "markdown",
   "metadata": {},
   "source": [
    "#### Tab键自动补全\n",
    "\n",
    "在输入命令、变量名或函数时，偶尔大脑也会卡壳一下。单击Tab建会帮助补全想要输入的内容或者列出可能的命令或变量列表供选择。例如想输入`isinstance`，输入`isi`时按下Tab键，会自动补全为`isinstance`：\n",
    "```python\n",
    "In [1]: isi<TAB>\n",
    "```"
   ]
  },
  {
   "cell_type": "markdown",
   "metadata": {},
   "source": [
    "Tab键补全功能免去记忆之苦，输入更加便利。对于初学者，建议先不使用Tab键功能，多输入会记得牢Python的命令和函数，加快学习进度。"
   ]
  },
  {
   "cell_type": "markdown",
   "metadata": {},
   "source": [
    "#### 自省功能\n",
    "\n",
    "在 Python 解释器中，可以使用`help()`函数获得帮助，在 IPython 可以使用`?`或`??`更快捷地获得帮助。例如想获得在上述程序用到`print()`函数，可以在`print`后加上`?`符号即可：\n",
    "```\n",
    "In [2]: print?\n",
    "Docstring:\n",
    "print(value, ..., sep=' ', end='\\n', file=sys.stdout, flush=False)\n",
    "\n",
    "Prints the values to a stream, or to sys.stdout by default.\n",
    "Optional keyword arguments:\n",
    "file:  a file-like object (stream); defaults to the current sys.stdout.\n",
    "sep:   string inserted between values, default a space.\n",
    "end:   string appended after the last value, default a newline.\n",
    "flush: whether to forcibly flush the stream.\n",
    "Type:      builtin_function_or_method\n",
    "\n",
    "In [3]: \n",
    "```"
   ]
  },
  {
   "cell_type": "markdown",
   "metadata": {},
   "source": [
    "#### 运行系统shell\n",
    "\n",
    "IPython 设计初衷之一就是增强与与系统的交互操作。在 IPytho n中可以直接使用系统命令，只需在对应命令加上前缀`!`即可。例如执行系统的`pwd`命令：\n",
    "```python\n",
    "In [3]: !pwd\n",
    "/home/whwang\n",
    "```\n",
    "\n",
    "> 注意，不同操作系统的命令是不同的。"
   ]
  },
  {
   "cell_type": "markdown",
   "metadata": {},
   "source": [
    "#### 魔术函数\n",
    "\n",
    "IPython 重要的特性就是內建了功能强大的魔术函数，它包括包括一组函数，用来控制 IPython 自身行为、以及系统类型的功能。\n",
    "\n",
    "魔术函数包括两类：\n",
    "* 命令行魔术函数(line magics) \n",
    "命令行魔术函数以百分号`%`作为前缀，工作类似系统命令行的调用，只对单行起作用。\n",
    "\n",
    "* 单元魔术函数（cell magics）  \n",
    "单元魔术函数使用两个百分号`%%`作为前缀，单元的第一行，对整个单元有效。主要是渲染下节 jupyter notebook 页面效果以及执行某语言的代码"
   ]
  },
  {
   "cell_type": "markdown",
   "metadata": {},
   "source": [
    "使用魔术函数`%lsmagic`列出当前版本所有内置的命令行魔术函数和单元函数。\n",
    "\n",
    "```python\n",
    "In [4]: %lsmagic\n",
    "Out[4]: \n",
    "Available line magics:\n",
    "%alias  %alias_magic  %autocall  %autoindent  %automagic  %bookmark  %cat  %cd  %clear  %colors  %config  %cp  %cpaste  %debug  %dhist  %dirs  %doctest_mode  %ed  %edit  %env  %gui  %hist  %history  %killbgscripts  %ldir  %less  %lf  %lk  %ll  %load  %load_ext  %loadpy  %logoff  %logon  %logstart  %logstate  %logstop  %ls  %lsmagic  %lx  %macro  %magic  %man  %matplotlib  %mkdir  %more  %mv  %notebook  %page  %paste  %pastebin  %pdb  %pdef  %pdoc  %pfile  %pinfo  %pinfo2  %popd  %pprint  %precision  %profile  %prun  %psearch  %psource  %pushd  %pwd  %pycat  %pylab  %quickref  %recall  %rehashx  %reload_ext  %rep  %rerun  %reset  %reset_selective  %rm  %rmdir  %run  %save  %sc  %set_env  %store  %sx  %system  %tb  %time  %timeit  %unalias  %unload_ext  %who  %who_ls  %whos  %xdel  %xmode\n",
    "\n",
    "Available cell magics:\n",
    "%%!  %%HTML  %%SVG  %%bash  %%capture  %%debug  %%file  %%html  %%javascript  %%js  %%latex  %%markdown  %%perl  %%prun  %%pypy  %%python  %%python2  %%python3  %%ruby  %%script  %%sh  %%svg  %%sx  %%system  %%time  %%timeit  %%writefile\n",
    "\n",
    "Automagic is ON, % prefix IS NOT needed for line magics.\n",
    "```"
   ]
  },
  {
   "cell_type": "markdown",
   "metadata": {},
   "source": [
    "使用魔术命令能够使 IPython 如虎添翼，变得更加高效能和强大。下面是一些功能应用：\n",
    "- 扩展SHELL\n",
    "- 运行Python程序\n",
    "- 目录书签系统\n",
    "- Python交互调试\n",
    "- 性能分析操作\n",
    "- 图形图像\n",
    "- 运行其它语言\n",
    "- 多媒体和富文本输出"
   ]
  },
  {
   "cell_type": "markdown",
   "metadata": {},
   "source": [
    "## Jupyter Notebook 工具\n",
    "\n",
    "尽管 IPython 工具已经大大增强了 Python 的交互功能。然而 Jupyter Notebook 工具增加了更多功能。Jupyter Notebook工具是一个基于Web技术的增强的交互式Python计算环境，实现了在线文档编辑、在线编程、以及展示的功能。具有如下功能特征：\n",
    "- 语言可选。不仅仅支持Python，还支持其它编程语言，例如Julia、Scala等语言。\n",
    "- 交互窗口。代码能够生成富文本输出，包括图像、视频、$\\LaTeX$、JavaScrip等。交互窗口用来实时操作和可视化数据。\n",
    "- 共享笔记。可以使用email等多种方式与人共享。"
   ]
  },
  {
   "cell_type": "markdown",
   "metadata": {},
   "source": [
    "### 本地运转 Jupyter notebook 服务器\n",
    "\n",
    "打开命令终端，切换到自己工作目录（存放先前下载或后续创建的IPython notebook文件），然后键入命令：\n",
    "\n",
    "```shell\n",
    "$ jupyter notebook >jupyter notebook\n",
    "[I 23:21:01.532 NotebookApp] [jupyter_nbextensions_configurator] enabled 0.4.0\n",
    "[I 23:21:01.565 NotebookApp] JupyterLab beta preview extension loaded from C:\\Anaconda3\\lib\\site-packages\\jupyterlab\n",
    "[I 23:21:01.566 NotebookApp] JupyterLab application directory is C:\\Anaconda3\\share\\jupyter\\lab\n",
    "[I 23:21:02.805 NotebookApp] Serving notebooks from local directory: D:\\training\n",
    "[I 23:21:02.806 NotebookApp] 0 active kernels\n",
    "[I 23:21:02.807 NotebookApp] The Jupyter Notebook is running at:\n",
    "[I 23:21:02.810 NotebookApp] http://localhost:8888/?token=3cd16ba43fe502cd8321732f2ec50f108c70686e30206bf4\n",
    "[I 23:21:02.810 NotebookApp] Use Control-C to stop this server and shut down all kernels (twice to skip confirmation).\n",
    "[C 23:21:02.818 NotebookApp]\n",
    "\n",
    "    Copy/paste this URL into your browser when you connect for the first time,\n",
    "    to login with a token:\n",
    "        http://localhost:8888/?token=3cd16ba43fe502cd8321732f2ec50f108c70686e30206bf4\n",
    "```"
   ]
  },
  {
   "cell_type": "markdown",
   "metadata": {},
   "source": [
    "如果顺利会就会启动 Jupyter 服务器，同时自动打开一个缺省浏览器窗口，如图所示:\n",
    "![Jupyter应用面板](../images/jupyter_notebook_dashboard.png)"
   ]
  },
  {
   "cell_type": "markdown",
   "metadata": {},
   "source": [
    "> 在命令终端中按两次`Ctrl-C`即可关闭 Jupyter Notebook 服务器。"
   ]
  },
  {
   "cell_type": "markdown",
   "metadata": {},
   "source": [
    "### Jupyter应用面板\n",
    "\n",
    "如上图所示，Jupyter notebook服务器运行后，打开浏览器并输入链接地址，会进入Jupyter Notebook的主页。\n",
    "\n",
    "在Jupyter 主页上可能有三个选项卡，用来实现如下目的：\n",
    "- 文件（Files）选项卡。  \n",
    "显示、管理用户读写的文件系统；\n",
    "- 运行（Running）选项卡。  \n",
    "给出运行的内核和命令终端概述；\n",
    "- 集群（Clusters）选项卡。  \n",
    "给出并行集群概述。"
   ]
  },
  {
   "cell_type": "markdown",
   "metadata": {},
   "source": [
    "在文件选项卡中，可以实现与文件系统的交互操作，包括如下内容：  \n",
    "\n",
    "- 文件管理  \n",
    "  实现文件或目录的选取、复制、删除、命名等操作。\n",
    "- 文件上传  \n",
    "  从本地选取文件，上传到当前目录。\n",
    "- 状态刷新  \n",
    "  刷新文件目录信息。\n",
    "- 新建下拉菜单  \n",
    "  单击`New`下拉菜单，可以创建普通文本文件、目录、命令终端，Notebook文件。"
   ]
  },
  {
   "cell_type": "markdown",
   "metadata": {},
   "source": [
    "在 Jupyter notebook 最重要的工作就是创建 Notebook 文件，并在其中编写文档和代码。点击`New`选项，在弹出下拉菜单中选择【Python 3】选项，即可创建Jupyter Notebook文件。\n",
    "\n",
    "![Jupyter新建Notebook文件](../images/jupyter_notebook_new_python.png)"
   ]
  },
  {
   "cell_type": "markdown",
   "metadata": {},
   "source": [
    "### Jupyter Notebook （笔记）\n",
    "\n",
    "创建Notebook成功，浏览器会弹出新的选项页面，即Jupyter Notebook文件页面：\n",
    "![Jupyter空Notebook文件](../images/jupyter_notebook_empty_notebook.png)"
   ]
  },
  {
   "cell_type": "markdown",
   "metadata": {},
   "source": [
    "Jupyter Notebook支持多种语言，例如 Python、Ruby等。创建一个Notebook文件，必须与一个语言内核关联。对于Python 语言来说，Notebook 文件关联的是IPython 内核。\n",
    "\n",
    "一个Jupyter Notebook文件就是一个含有代码、文本和其它要素的交互式文档，使用JSON格式保存为纯文本文件，后缀通常为`.ipynb`。\n",
    "\n",
    "实际上，您现在所看的文件就是一个Jupyter Notebook文件。"
   ]
  },
  {
   "cell_type": "markdown",
   "metadata": {},
   "source": [
    "当新建或打开一个 Jupytet Notebook 文件时，浏览器会创建一个Jupyter Notebook用户界面标签页，如上图所示。使用用户界面可以实现Jupyter Notebook文档的交互编辑和运行。"
   ]
  },
  {
   "cell_type": "markdown",
   "metadata": {},
   "source": [
    "一个Notebook标签页面包括两部分内容：\n",
    "\n",
    "**头部**, Jupyter Notebook标签页面的上面部分称为头部，架构和内容通常固定不变，包括如下：\n",
    "- 标题名，显示当前Notebook文件名字。单击标题名区域，可以执行重命名操作。\n",
    "- 菜单栏，包含各种Notebook操作命令。\n",
    "- 工具栏，包含重用Notebook操作命令。  \n",
    "    \n",
    "**主体**,Jupyter Notebook标签页面的主体由一组单元组成。单元类别包括：\n",
    "- **Markdown单元**。使用 Markdown 标记语言构建美观的格式化文本。\n",
    "- **代码单元(code)**。用来输入计算机语言代码，这里就是IPython。\n",
    "- **原始文本单元(Raw NBConvert)** - 用来输入原始格式文本。即不需要进行格式转换或代码执行。"
   ]
  },
  {
   "cell_type": "markdown",
   "metadata": {},
   "source": [
    "下图显示三个单元：\n",
    "\n",
    "![Jupyter Notebook的三类单元](../images/jupyter_notebook_body.png)"
   ]
  },
  {
   "cell_type": "markdown",
   "metadata": {},
   "source": [
    "Jupyter Notebook也可以运行在远程服务器或云服务器上，为了通过互联网访问Jupyter Notebook，实现如下工作：  \n",
    "- 在线编码和运行，可以输出绘图结果；\n",
    "- 文档记录，包括文本、公式、图片和音频视频。\n",
    "- 输出HTML、$\\LaTeX{}$、PDF等格式文档，方便共享交换。"
   ]
  },
  {
   "cell_type": "markdown",
   "metadata": {},
   "source": [
    "### HelloWorld 程序\n",
    "\n",
    "这里演示在Jupyter notebook环境下编写和运行HelloWorld程序。"
   ]
  },
  {
   "cell_type": "markdown",
   "metadata": {},
   "source": [
    "在新建的Jupyter Notebook页面中，在 code 单元使用魔术命令单`%%writefile`来创建 Python 脚本文件："
   ]
  },
  {
   "cell_type": "code",
   "execution_count": 1,
   "metadata": {},
   "outputs": [
    {
     "name": "stdout",
     "output_type": "stream",
     "text": [
      "Writing helloworld.py\n"
     ]
    }
   ],
   "source": [
    "%%writefile helloworld.py\n",
    "#!/usr/bin/env python\n",
    "# -*- coding: utf-8 -*-\n",
    "# Copyright (c) 2019--2023, Your Name.\n",
    "# All rights reserved.\n",
    "\n",
    "print('Hello, World!')"
   ]
  },
  {
   "cell_type": "markdown",
   "metadata": {},
   "source": [
    "运行该 code 单元就可创建 Python 脚本文件`helloworld.py`。然后在新的 code 单元使用魔术命令`%run`,即可运行`helloworld.py`脚本文件："
   ]
  },
  {
   "cell_type": "code",
   "execution_count": 2,
   "metadata": {},
   "outputs": [
    {
     "name": "stdout",
     "output_type": "stream",
     "text": [
      "Hello, World!\n"
     ]
    }
   ],
   "source": [
    "%run helloworld.py"
   ]
  },
  {
   "cell_type": "markdown",
   "metadata": {},
   "source": [
    "## Pycharm 集成开发环境\n",
    "\n",
    "Pycharm 是一个重量级的Python集成开发环境，包括如下主要功能：\n",
    "* 强大编辑器\n",
    "* 交互式命令终端\n",
    "* 在线帮助和文档查看\n",
    "* 内容查找\n",
    "* 文件浏览器\n",
    "* 历史日志"
   ]
  },
  {
   "cell_type": "markdown",
   "metadata": {},
   "source": [
    "### 启动 Pycharm\n",
    "\n",
    "在 Windows 系统或 Linux 系统启动 Pycharm 程序，会弹出如下欢迎页面。\n",
    "\n",
    "![首次使用](../images/pycharm_welcome.png)"
   ]
  },
  {
   "cell_type": "markdown",
   "metadata": {},
   "source": [
    "### 创建项目\n",
    "\n",
    "在PyCharm环境中，所有事情都是在项目（Project）的上下文中去完成的。也就是说，项目是智能助手、重构、编码风格兼容等的一个基础。启动欢迎页面中，提示有三种方法来创建或打开一个项目：\n",
    "- 打开已有项目\n",
    "- 检出已有项目\n",
    "- 创建新项目\n",
    "\n",
    "这里选择【Create New Project】从零开始创建新项目。在弹出页面，首先选择项目位置，这里指定为`D:\\pywork\\helloword`。这里项目 Python 解释器选择已有Pyhton解释器：\n",
    "\n",
    "![创建项目](../images/pycharm_helloworld_newproject.png)\n",
    "\n",
    "然后 PyCharm 会创建`helloworld`项目，项目创建完成后，出现如下界面\n",
    "![项目创建完成](../images/pycharm_helloworld_project_created.png)"
   ]
  },
  {
   "cell_type": "markdown",
   "metadata": {},
   "source": [
    "### 创建 Python 文件\n",
    "\n",
    "选择【File】=》【New】，在弹出窗口上选择【Python File】，在弹出的页面输入`helloworld`：\n",
    "![创建Python文件](../images/pycharm_helloworld_newfile.png)\n",
    "\n",
    "PyCharm 会创建一个`helloworld.py`文件，然后弹出编辑页面，并在页面中输入文件内容：\n",
    "```\n",
    "#!/usr/bin/env python\n",
    "# -*- coding: utf-8 -*-\n",
    "# Copyright (c) 2019--2023, Your Name.\n",
    "# All rights reserved.\n",
    "\n",
    "print('Hello, World!')\n",
    "```\n",
    "\n",
    "界面如下图所示：\n",
    "![编写Python文件](../images/pycharm_helloworld_helloworld.png)"
   ]
  },
  {
   "cell_type": "markdown",
   "metadata": {},
   "source": [
    "### 运行程序\n",
    "\n",
    "第一次可以选择选择菜单【Run】下的【Run...】，在弹出窗口中选择`helloworld`，Pycharm 会运行代码，界面如下所示：\n",
    "![运行Python文件](../images/pycharm_helloworld_helloworld.png)\n",
    "\n",
    "PyCharm 会自动为代码运行、调试、测试创建一个配置。代码修改再次运行`helloworld.py`可以工具栏的运行按钮，最右边的绿色箭头按钮：\n",
    "![运行Python文件](../images/pycharm_helloworld_runbutton.png)"
   ]
  },
  {
   "cell_type": "markdown",
   "metadata": {},
   "source": [
    "Pycharm功能强大，在后续章节还有详细介绍。"
   ]
  },
  {
   "cell_type": "markdown",
   "metadata": {
    "slideshow": {
     "slide_type": "slide"
    }
   },
   "source": [
    "## 小结\n",
    "\n",
    "本章介绍使用python、ipython、jupyter notebook和pycharm集成开发环境来运行 Python 代码。\n",
    "- python 应用场景  \n",
    "    - 运行脚本文件。\n",
    "- ipython 应用场景\n",
    "    - 简单、快速去探索 Python 代码运行\n",
    "- Jupyter/IPython应用场景  \n",
    "    - 在任何时候任何地方，通过任意联网设备可以联通到一个功能更为强大的计算环境。\n",
    "    - 在同一个Jupyter Notebook文档中，实现了富文本文档、代码编写和运行结果的结合，特别适合边学边开发的科学计算工作人员。\n",
    "    - 利用高效能的交互式环境，实现与系统交互的快捷、可以不断试错。\n",
    "    - 完善的文档和强大自省功能，方便自学和功能查询。\n",
    "    - 多种格式的转换输出，使得论文发表或书籍出版、文档共享都变得非常便利。\n",
    "- Pycharm 集成开发环境应用场景\n",
    "    - 大规模应用开发，以开发而非探索为主的 Python 编程。"
   ]
  }
 ],
 "metadata": {
  "kernelspec": {
   "display_name": "Python 3",
   "language": "python",
   "name": "python3"
  },
  "language_info": {
   "codemirror_mode": {
    "name": "ipython",
    "version": 3
   },
   "file_extension": ".py",
   "mimetype": "text/x-python",
   "name": "python",
   "nbconvert_exporter": "python",
   "pygments_lexer": "ipython3",
   "version": "3.7.3"
  },
  "toc": {
   "base_numbering": 1,
   "nav_menu": {},
   "number_sections": true,
   "sideBar": true,
   "skip_h1_title": false,
   "title_cell": "Table of Contents",
   "title_sidebar": "Contents",
   "toc_cell": false,
   "toc_position": {
    "height": "calc(100% - 180px)",
    "left": "10px",
    "top": "150px",
    "width": "349px"
   },
   "toc_section_display": true,
   "toc_window_display": true
  }
 },
 "nbformat": 4,
 "nbformat_minor": 1
}
