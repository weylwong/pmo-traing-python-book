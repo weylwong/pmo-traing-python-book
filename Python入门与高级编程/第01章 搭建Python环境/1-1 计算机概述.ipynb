{
 "cells": [
  {
   "cell_type": "markdown",
   "metadata": {
    "collapsed": true,
    "slideshow": {
     "slide_type": "slide"
    }
   },
   "source": [
    "# 计算机概述\n",
    "\n",
    "陆地上跑的最快的是猎豹，但人类发明的汽车却远比猎豹跑得快；天空飞的最快的是军舰鸟，但人类发明的飞行器，却要比军舰鸟飞的更快更远；或许是发明和使用工具的原因，人类最终处于地球食物链的最顶端。\n",
    "\n",
    "地球上最会计算的是人类，所以人类一直梦想着发明会计算的机器，要比人计算的更快，更聪明！\n",
    "\n",
    "结论，人类是地球上欲望最强的物种。"
   ]
  },
  {
   "cell_type": "markdown",
   "metadata": {
    "slideshow": {
     "slide_type": "slide"
    }
   },
   "source": [
    "## 计算机的前世今生\n",
    "\n",
    "计算机（computer）的英文原意是指从事计算的人，他们往往需要借助一些机械计算设备。计算设备的祖先包括中国发明的算盘、古希腊人发明的安提基特拉机械。在1642年法国数学家帕斯卡改进制作了计算尺，能够进行八位计算。直到1941年，那个夏天诞生了世界上第一部电子计算机[阿塔纳索夫-贝瑞计算机](https://zh.wikipedia.org/wiki/%E9%98%BF%E5%A1%94%E7%BA%B3%E7%B4%A2%E5%A4%AB-%E8%B4%9D%E7%91%9E%E8%AE%A1%E7%AE%97%E6%9C%BA)。自此以后，Computer 意为计算机。\n",
    "\n",
    "\n",
    "算盘 | 阿塔纳索夫-贝瑞计算机(ABC计算机)\n",
    ":---:|:---:\n",
    "![算盘](../images/chinese_abacus.jpeg) | ![ABC计算机](../images/Atanasoff-Berry_Computer_at_Durhum_Center.jpg)\n",
    "\n",
    "\n",
    "算盘与计算机都可以用来计算，二者最大的区别是：如果没有人来操作，算盘就是个串珠子的木架子；对于计算机，只要事先输入程序，没有人计算机照样可以工作。"
   ]
  },
  {
   "cell_type": "markdown",
   "metadata": {
    "slideshow": {
     "slide_type": "slide"
    }
   },
   "source": [
    "自从发明第 1 台计算机以后，计算机始终保持着史诗般的高速发展。截至目前，全球的计算机产品已经多到无法统计，计算机形态也千奇百怪，例如智能手机、iPad、笔记本、工控机、服务器、超级计算机等等。在现实生活中，计算机已经无处不在，须臾无法离开。使用计算机可以看电影、听音乐、聊天、下棋，出门可以买票、指路，吃饭可以买单，几乎无所不能。人们也越来越依赖计算机，以致于有人称手机为电子毒品。"
   ]
  },
  {
   "cell_type": "markdown",
   "metadata": {
    "slideshow": {
     "slide_type": "slide"
    }
   },
   "source": [
    "计算机的根本之处在于没有人也可以进行计算，另外一个特点就是计算的快。例如，中国的“神威·太湖之光”运算速度达到每秒运算一千万亿次。即使是普通的计算机运行速度也能达到10亿次，远远超过人类的计算速度，量变引起质变！\n",
    "\n",
    "> 天下武功，唯快不破\n",
    "\n",
    "![超级计算机](../images/supercomputer.jpeg)"
   ]
  },
  {
   "cell_type": "markdown",
   "metadata": {
    "slideshow": {
     "slide_type": "slide"
    }
   },
   "source": [
    "## 计算机硬件与操作系统\n",
    "\n",
    "计算机可以在无人情况下进行运行和计算，不过前提是把工作指令（也可以称为程序）事先告知给计算机。那么程序到计算机过程如何呢？"
   ]
  },
  {
   "cell_type": "markdown",
   "metadata": {
    "slideshow": {
     "slide_type": "slide"
    }
   },
   "source": [
    "计算机首先是一台机器设备，是由很多部件组成的，例如个人计算机通常包括如下：\n",
    "- 中央处理器（CPU）  \n",
    "中央处理器（CPU）是主机的心脏，是一台计算机的运算核心和控制核心，负责统一指挥调度计算机的所有工作。CPU的运行速度直接决定着整台计算机的运行速度。\n",
    "- 存储器（memory）  \n",
    "存储器即内存，又叫内部存储器或者是随机存储器（RAM）。当计算机系统在运行时，负责贮存CPU需要的指令与数据，以及CPU处理后的数据。当计算机断电后，所有存储在内存的数据都会清零。故而常称内存为计算机的临时记忆装置。\n",
    "- 硬盘  \n",
    "由于在断电后，内部存储器上的数据都会丢失。而硬盘属于外部存储器，存储到磁片上的数据，不论在开机或断电，硬盘上的数据都不会丢失。可以说是计算机的长期记忆装置。\n",
    "- 主板  \n",
    "主板又称为系统板或母板，是计算机内最大的一块集成电路板。主板是主机的骨架，大多数设备都得通过它连在一起，整个计算机的组织平台。\n",
    "- 适配器  \n",
    "计算机可以通过各种适配器，如网卡、声卡等适配器设备，实现各种功能。通过网卡设备可以实现计算机在互联网上进行通讯。\n",
    "- 电源供应器  \n",
    "电源供应器是计算机中不可缺少的供电设备。\n",
    "- 光驱与U盘\n",
    "与移动存储设备进行数据交换。实际上，由于网络的高速发展，很少用到这些设备。\n",
    "- 键盘（Keyboard）  \n",
    "键盘是主要的人工学输入设备。\n",
    "- 鼠标（Mouse）  \n",
    "鼠标也是主要的人工输入设备，快速地在屏幕上定位。\n",
    "- 显示器（display device）  \n",
    "显示器是一种输出设备，用于显示视频及色彩，是与计算机进行交互的重要设备。"
   ]
  },
  {
   "cell_type": "markdown",
   "metadata": {
    "slideshow": {
     "slide_type": "slide"
    }
   },
   "source": [
    "对于普通人来说，要直接与计算机硬件设备打交道实在太难。幸运的是，人们开发了操作系统。操作系统是管理计算机硬件与软件资源的计算机程序，是计算机系统的内核与基石。操作系统会处理如管理与配置内存、决定系统资源供需的优先次序、控制输入与输出设备、操作网络与管理文件系统等基本事务。操作系统也提供一个让用户与系统交互的操作界面。\n",
    "\n",
    "这样人类要让计算机去计算和工作，通过操作系统传话即可。有了操作系统，大家就不用直接和硬件打交道了。"
   ]
  },
  {
   "cell_type": "markdown",
   "metadata": {
    "slideshow": {
     "slide_type": "slide"
    }
   },
   "source": [
    "计算机形态各异，计算机操作系统也非常多样。常用的操作系统有：\n",
    "- Windows系统，如Windows 7,Windows 10等\n",
    "- 类Unix系统，如Ubuntu、CentOS等\n",
    "- Mac OS系统，苹果的Mac Os X系统\n",
    "- 移动系统，如iOS、Android系统\n",
    "- 嵌入式操作系统，如VxWorks等\n",
    "- 大型机系统"
   ]
  },
  {
   "cell_type": "markdown",
   "metadata": {
    "slideshow": {
     "slide_type": "slide"
    }
   },
   "source": [
    "在操作系统之上，人们还开发了各种各样的系统和应用软件，用来控制和协调计算机及外部设备运行，各种实际应用。\n",
    "\n",
    "综上所述，计算机就是由硬件系统和软件系统组成的一个整体。"
   ]
  },
  {
   "cell_type": "markdown",
   "metadata": {
    "slideshow": {
     "slide_type": "slide"
    }
   },
   "source": [
    "## 计算机的运行\n",
    "\n",
    "当人们通过操作系统下达计算机工作指令或程序后，计算机是如何执行呢？这里通过计算机的铁三角（CPU、内存、硬盘）来了解一下计算机的运行。\n",
    "\n",
    "![CPU-内存-硬盘](../images/cpu_memory_harddisk.png)"
   ]
  },
  {
   "cell_type": "markdown",
   "metadata": {
    "slideshow": {
     "slide_type": "slide"
    }
   },
   "source": [
    "### 内存与CPU\n",
    "\n",
    "内存是计算机的临时存储设备，其大小通常为GB量级。在计算机运行时，内存存放了下达给计算机的工作指令。可以把内存条理解为一个有编号的、分格的储物柜。对于内存来说，最小的格子就是一个字节（Byte），一个字节包括8个位（bit）。内存条为2GB，也就是说有`2*1024*1024*1024`个1字节的小格子。\n",
    "\n",
    "储物柜自然是用来存放各种各样的物品，为了存取方便，通常需要给储物柜进行编号，在计算机中会使用二进制进行编号。例如`0x100000`就是编号为`1024*1024`的柜子。\n",
    "\n",
    "内存除了大小的概念外，还有一个读写速度的概念，例如大家常见的DDR4和DDR3内存，前者比后者要快，价钱也贵。"
   ]
  },
  {
   "cell_type": "markdown",
   "metadata": {
    "slideshow": {
     "slide_type": "slide"
    }
   },
   "source": [
    "中央处理器（CPU）是计算机的心脏。大家都知道CPU是一个高大上的产品，偌大世界，也就那么几家公司能够制造。但对CPU的功能，可以简而化之，用一句话来说明：\n",
    "> **Processors = Instruction Fetch/Decode/Execute Engine  \n",
    "> 《奔腾4大全》。\n",
    "\n",
    "简单来说，CPU就是一个从内存中读取指令（Fetch），然后解码（Decode）和执行（Execute）的引擎。\n",
    "\n",
    "可以把CPU想象为打铁铺子里打铁师傅，从内存中读取指令，然后咣咣干完活，接着继续读取指令和执行任务，周而复始，永不休息，最终锻造出一个完美的物品。"
   ]
  },
  {
   "cell_type": "markdown",
   "metadata": {
    "slideshow": {
     "slide_type": "slide"
    }
   },
   "source": [
    "### 内存与硬盘\n",
    "\n",
    "计算机运行时，内存存放着下达给计算机的工作指令。内存是临时存储设备，一旦断电后数据不会丢失，需要一个永久存储设备。\n",
    "\n",
    "硬盘是永久存储设备，断电后数据不会丢失；硬盘容量很大，单个硬盘可以达到TB量级；不过其读写速度要比内存忙的多。可以把硬盘想象为一个储物仓库，地方大存的多，但去拿东西会慢些。\n",
    "\n",
    "一般而言，工作指令或程序存储在硬盘上，当要运行程序时，首先会把硬盘上的程序加载到内存，然后再与CPU一道来进行指令读取和执行。"
   ]
  },
  {
   "cell_type": "markdown",
   "metadata": {
    "slideshow": {
     "slide_type": "slide"
    }
   },
   "source": [
    "硬盘大而慢，永久存储；内存快而小，临时存储；CPU干活快不知疲倦，不废话不说三道四。三者合作共同完成程序的运行。"
   ]
  },
  {
   "cell_type": "markdown",
   "metadata": {},
   "source": [
    "## 计算机语言\n",
    "\n",
    "由上可知，人们实现编写工作指令或程序，通过操作系统告知计算机，然后由计算机硬盘、内存、CPU等共同完成计算和运行任务。其工作流如下图所示：\n",
    "<img style=\"float;\" src=\"../images/cpu_memory_harddisk_flow.jpg\" width=\"60%\">"
   ]
  },
  {
   "cell_type": "markdown",
   "metadata": {
    "slideshow": {
     "slide_type": "slide"
    }
   },
   "source": [
    "不过计算机的CPU、内存、硬盘等设备运行时都使用二进制方式，也就是机器语言，不太适合人脑记忆和工作。但幸运的是，人们又发明了各种各样的高级编程语言和工具，例如Java、C、C++、Python等。使用这些高级语言和工具，就能使用适合人类理解的语句编写程序，并翻译为机器语句，从而实现了人们与机器之间的交流，达到计算机无人计算。\n",
    "\n",
    "重要的是学习掌握一门编程语言，实现与计算机的交流，使用计算机完成各种各样神奇的事情。"
   ]
  },
  {
   "cell_type": "markdown",
   "metadata": {
    "slideshow": {
     "slide_type": "slide"
    }
   },
   "source": [
    "## 小结\n",
    "\n",
    "从使用编程语言写出一行语句到计算机运行得到结果，其过程可能会涉及到编程语言工具翻译、操作系统的控制以及计算机硬件执行。我们无须知道期间各个环节的具体细节。不过稍微了解一些 CPU、内存、硬盘等设备的基本概念，以及硬件、操作系统、编程语言工具的关系，无益是有所帮助的。正是如此，在《格蠹汇编》中，作者呼吁程序员也要“硬”起来。"
   ]
  },
  {
   "cell_type": "markdown",
   "metadata": {},
   "source": [
    "人类已经发明了比人计算的更快的计算机，不过还需要人类来编写程序。那么人类会发明比人还会编程的东东吗？"
   ]
  }
 ],
 "metadata": {
  "kernelspec": {
   "display_name": "Python 3",
   "language": "python",
   "name": "python3"
  },
  "language_info": {
   "codemirror_mode": {
    "name": "ipython",
    "version": 3
   },
   "file_extension": ".py",
   "mimetype": "text/x-python",
   "name": "python",
   "nbconvert_exporter": "python",
   "pygments_lexer": "ipython3",
   "version": "3.6.4"
  },
  "toc": {
   "base_numbering": 1,
   "nav_menu": {},
   "number_sections": true,
   "sideBar": true,
   "skip_h1_title": false,
   "title_cell": "Table of Contents",
   "title_sidebar": "Contents",
   "toc_cell": false,
   "toc_position": {},
   "toc_section_display": true,
   "toc_window_display": false
  }
 },
 "nbformat": 4,
 "nbformat_minor": 1
}
