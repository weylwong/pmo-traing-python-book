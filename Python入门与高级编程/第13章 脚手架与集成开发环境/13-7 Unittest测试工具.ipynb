{
 "cells": [
  {
   "cell_type": "markdown",
   "metadata": {
    "slideshow": {
     "slide_type": "slide"
    }
   },
   "source": [
    "# unittest 测试工具的使用说明\n",
    "\n",
    "本节介绍如何使用 unittest 测试框架进行 Python 测试。"
   ]
  },
  {
   "cell_type": "markdown",
   "metadata": {
    "slideshow": {
     "slide_type": "slide"
    }
   },
   "source": [
    "## 简介\n",
    "\n",
    "unittest 是 Python 的一个标准库，也是 Python 的一个单元测试框架，是由 Java 的 JUnit 衍生而来。\n",
    "\n",
    "为了理解单元测试，需要着重了解如下几个重要概念：\n",
    "- 测试用例（Test Case）\n",
    "- 测试套件（Test Suite）\n",
    "- 测试运行（Test Runner）\n",
    "- 测试夹具（Test Fixture）"
   ]
  },
  {
   "cell_type": "markdown",
   "metadata": {
    "slideshow": {
     "slide_type": "slide"
    }
   },
   "source": [
    "### Test Case\n",
    "\n",
    "测试就是编写程序来测试另一个程序。一个测试用例就是测试的最小单位，也是一个完整的测试流程。通常包括测试环境的搭建，实现测试过程代码完成结果比对，最后是测试环境的恢复还原。\n",
    "\n",
    "为了实现一个程序或模块的单元测试，一般采用分而治之的方法，仅对某个基本单元的某个功能进行测试，这样使得测试用例尽量简单易写。"
   ]
  },
  {
   "cell_type": "markdown",
   "metadata": {
    "slideshow": {
     "slide_type": "slide"
    }
   },
   "source": [
    "### Test Suite\n",
    "\n",
    "一个程序或模块包括多个函数或类等基本单元，每个单元可能会包括功能、接口、性能等多个测试，一个功能的验证往往需要多个测试用例。需要把多个测试用例组织在一起，进行管理与测试，也就是测试套件的应用。"
   ]
  },
  {
   "cell_type": "markdown",
   "metadata": {
    "slideshow": {
     "slide_type": "slide"
    }
   },
   "source": [
    "### Test Runner\n",
    "\n",
    "测试运行就是让测试运行尽可能快捷自动化，对测试结果进行分析总结。一般单元测试框架都会提供多种测试运行策略以及分析输出结果。例如，提供图形界面形式、文本界面形式等。"
   ]
  },
  {
   "cell_type": "markdown",
   "metadata": {
    "slideshow": {
     "slide_type": "slide"
    }
   },
   "source": [
    "### Test Fixture\n",
    "\n",
    "每个测试用例通常都需要进行测试环境的准备搭建与恢复还原。测试夹具有点像文件夹，是实现“测试前创建、测试后销毁”的一种辅助性组件。测试夹具会在许多不同的地方重用，可以简化测试用例编写。\n",
    "\n",
    "![文件夹](../images/testing_file_fixture.jpg)"
   ]
  },
  {
   "cell_type": "markdown",
   "metadata": {
    "slideshow": {
     "slide_type": "slide"
    }
   },
   "source": [
    "## unittest 包的函数与类\n",
    "\n",
    "`unittest`是软件包，提供的主要函数与类：\n",
    "- 测试用例类（`TestCase`），通过继承`TestCase`类来快速实现一个测试用例。\n",
    "- 测试套件类（`TestSuite`），通过继承`TestSuite`类来快速实现一个测试套件。\n",
    "- `main`函数（实际上是`TestProgram`类），实现测试用例的组织与运行。\n",
    "\n",
    "为了使用unittest，需要加载`unittest`库。"
   ]
  },
  {
   "cell_type": "code",
   "execution_count": 1,
   "metadata": {
    "slideshow": {
     "slide_type": "-"
    }
   },
   "outputs": [],
   "source": [
    "import unittest"
   ]
  },
  {
   "cell_type": "markdown",
   "metadata": {
    "slideshow": {
     "slide_type": "slide"
    }
   },
   "source": [
    "## 快速运行unittest\n",
    "\n",
    "下面通过几个示例来快速运行unittest测试。"
   ]
  },
  {
   "cell_type": "markdown",
   "metadata": {
    "slideshow": {
     "slide_type": "slide"
    }
   },
   "source": [
    "### 一个简单示例\n",
    "\n",
    "下面定义一个最简单的函数的，实现两个变量的相乘。"
   ]
  },
  {
   "cell_type": "code",
   "execution_count": 2,
   "metadata": {
    "slideshow": {
     "slide_type": "slide"
    }
   },
   "outputs": [],
   "source": [
    "def multiply(a, b):\n",
    "    \"\"\"return a * b\n",
    "    \"\"\"\n",
    "    return a * b"
   ]
  },
  {
   "cell_type": "markdown",
   "metadata": {
    "slideshow": {
     "slide_type": "slide"
    }
   },
   "source": [
    "下面创建一个测试用例"
   ]
  },
  {
   "cell_type": "code",
   "execution_count": 3,
   "metadata": {
    "slideshow": {
     "slide_type": "slide"
    }
   },
   "outputs": [
    {
     "name": "stdout",
     "output_type": "stream",
     "text": [
      "Writing test_multiply.py\n"
     ]
    }
   ],
   "source": [
    "%%writefile test_multiply.py\n",
    "#!/usr/bin/env python\n",
    "# -*- coding: utf-8 -*-\n",
    "import unittest\n",
    "\n",
    "\n",
    "def multiply(a, b):\n",
    "    \"\"\"return a * b\n",
    "    \"\"\"\n",
    "    return a * b\n",
    "\n",
    "\n",
    "class TestMultiply(unittest.TestCase):\n",
    "    \"\"\"test case of function multiply\"\"\"\n",
    "    def setUp(self):\n",
    "        print('test start...')\n",
    "\n",
    "    def test_multiply01(self):\n",
    "        print('multiply01...')\n",
    "        self.assertEqual(multiply(3, 3), 9)\n",
    "\n",
    "    def test_multiply02(self):\n",
    "        print('multiply02...')\n",
    "        self.assertEqual(multiply('x', 3), 'xxx')\n",
    "\n",
    "    def test_multiply_list_3(self):\n",
    "        print('multiply03...')\n",
    "        res = multiply(['a', 'b'], 3)\n",
    "        self.assertListEqual(res, ['a', 'b', 'a', 'b', 'a', 'b'])\n",
    "        \n",
    "    def tearDown(self):\n",
    "        print('test end')        \n",
    "        \n",
    "\n",
    "if __name__ == '__main__':\n",
    "    unittest.main()"
   ]
  },
  {
   "cell_type": "code",
   "execution_count": 4,
   "metadata": {
    "slideshow": {
     "slide_type": "slide"
    }
   },
   "outputs": [
    {
     "name": "stdout",
     "output_type": "stream",
     "text": [
      "test start...\n",
      "multiply01...\n",
      "test end\n",
      "test start...\n",
      "multiply02...\n",
      "test end\n",
      "test start...\n",
      "multiply03...\n",
      "test end\n"
     ]
    },
    {
     "name": "stderr",
     "output_type": "stream",
     "text": [
      "...\n",
      "----------------------------------------------------------------------\n",
      "Ran 3 tests in 0.000s\n",
      "\n",
      "OK\n"
     ]
    }
   ],
   "source": [
    "!python test_multiply.py"
   ]
  },
  {
   "cell_type": "markdown",
   "metadata": {
    "slideshow": {
     "slide_type": "slide"
    }
   },
   "source": [
    "首先需要导入unittest包：\n",
    "```\n",
    "import unittest\n",
    "```"
   ]
  },
  {
   "cell_type": "markdown",
   "metadata": {
    "slideshow": {
     "slide_type": "slide"
    }
   },
   "source": [
    "其次需要从其它模块导入需要测试的函数或类，这里为了方便直接在测试程序中定义了`multiply()`函数。"
   ]
  },
  {
   "cell_type": "markdown",
   "metadata": {
    "slideshow": {
     "slide_type": "slide"
    }
   },
   "source": [
    "接着定义一个继承`TestCase`的类`TestMultiply`,也就是一个测试用例。在测试用例中有两个方法`setUp()`与`tearDown()`，也就是测试夹具。缺省这两个方法不做什么。这里为了演示使用方法，重定义了这两个方法。\n",
    "```\n",
    "    def setUp(self):\n",
    "        print('test start...')\n",
    "        \n",
    "    def tearDown(self):\n",
    "        print('test end')        \n",
    "```"
   ]
  },
  {
   "cell_type": "markdown",
   "metadata": {
    "slideshow": {
     "slide_type": "slide"
    }
   },
   "source": [
    "重要的是，定义用于测试的代码。这里共定义了三个方法，测试multiply的不同用法。\n",
    "```\n",
    "    def test_multiply01(self):\n",
    "        print('multiply01...')\n",
    "        self.assertEqual(multiply(3, 3), 9)\n",
    "\n",
    "    def test_multiply02(self):\n",
    "        print('multiply02...')\n",
    "        self.assertEqual(res = multiply('x', 3), 'xxx')\n",
    "\n",
    "    def test_multiply03(self):\n",
    "        print('multiply03...')\n",
    "        res = multiply(['a', 'b'], 3)\n",
    "        self.assertListEqual(res, ['a', 'b', 'a', 'b', 'a', 'b'])\n",
    "```"
   ]
  },
  {
   "cell_type": "markdown",
   "metadata": {
    "slideshow": {
     "slide_type": "slide"
    }
   },
   "source": [
    "测试代码通常是调用待测的函数或类方法，传入已知参数，并把实际结果与预期结果进行比对，来判断是否测试通过。测试实现的方法命名规则通常如下：\n",
    "```\n",
    "test_*\n",
    "```"
   ]
  },
  {
   "cell_type": "markdown",
   "metadata": {
    "slideshow": {
     "slide_type": "slide"
    }
   },
   "source": [
    "最后调用`unittest.main()`来运行测试。unittest会搜索该模块下所有已`test`开头的测试用例方法，组织为一个测试组件，然后启动运行它们。\n",
    "\n",
    "搜索结果是按照命名来排序。故执行顺序是`test_multiply01, test_multiply02, test_multiply03` 。"
   ]
  },
  {
   "cell_type": "markdown",
   "metadata": {
    "slideshow": {
     "slide_type": "slide"
    }
   },
   "source": [
    "如果在`__main__`语句中不愿调用`unittest.main()`。"
   ]
  },
  {
   "cell_type": "code",
   "execution_count": 5,
   "metadata": {
    "slideshow": {
     "slide_type": "slide"
    }
   },
   "outputs": [
    {
     "name": "stdout",
     "output_type": "stream",
     "text": [
      "Writing test_multiply2.py\n"
     ]
    }
   ],
   "source": [
    "%%writefile test_multiply2.py\n",
    "#!/usr/bin/env python\n",
    "# -*- coding: utf-8 -*-\n",
    "import unittest\n",
    "\n",
    "\n",
    "def multiply(a, b):\n",
    "    \"\"\"return a * b\n",
    "    \"\"\"\n",
    "    return a * b\n",
    "\n",
    "\n",
    "class TestMultiply(unittest.TestCase):\n",
    "    \"\"\"test case of function multiply\"\"\"\n",
    "    def setUp(self):\n",
    "        print('test start...')\n",
    "\n",
    "    def test_multiply01(self):\n",
    "        print('multiply01...')\n",
    "        res = multiply(3, 3)\n",
    "        self.assertEqual(res, 9)\n",
    "\n",
    "    def test_multiply02(self):\n",
    "        print('multiply02...')\n",
    "        res = multiply('x', 3)\n",
    "        self.assertEqual(res, 'xxx')\n",
    "\n",
    "    def test_multiply03(self):\n",
    "        print('multiply03...')\n",
    "        res = multiply(['a', 'b'], 3)\n",
    "        self.assertListEqual(res, ['a', 'b', 'a', 'b', 'a', 'b'])\n",
    "        \n",
    "    def tearDown(self):\n",
    "        print('test end')               \n"
   ]
  },
  {
   "cell_type": "code",
   "execution_count": 6,
   "metadata": {
    "slideshow": {
     "slide_type": "slide"
    }
   },
   "outputs": [
    {
     "name": "stdout",
     "output_type": "stream",
     "text": [
      "test start...\n",
      "multiply01...\n",
      "test end\n",
      "test start...\n",
      "multiply02...\n",
      "test end\n",
      "test start...\n",
      "multiply03...\n",
      "test end\n"
     ]
    },
    {
     "name": "stderr",
     "output_type": "stream",
     "text": [
      "...\n",
      "----------------------------------------------------------------------\n",
      "Ran 3 tests in 0.001s\n",
      "\n",
      "OK\n"
     ]
    }
   ],
   "source": [
    "!python -m unittest test_multiply2.py"
   ]
  },
  {
   "cell_type": "markdown",
   "metadata": {
    "slideshow": {
     "slide_type": "slide"
    }
   },
   "source": [
    "### 断言方法\n",
    "\n",
    "在运行测试用例的过程中，需要把实际结果与预期结果进行比对，来判断最终用例是否执行通过。unittest的TestCase类提供了丰富的断言方法用于测试结果的判断。"
   ]
  },
  {
   "cell_type": "markdown",
   "metadata": {
    "slideshow": {
     "slide_type": "slide"
    }
   },
   "source": [
    "| 断言方法 | 检查 |\n",
    "|:---------|:------|\n",
    "| `assertEqual(a, b)` | `a == b` |\n",
    "| `assertNotEqual(a, b)` | `a != b` |\n",
    "| `assertEquals` | 两个对象相等 |\n",
    "| `assertNotEquals` | 两个对象不相等 |\n",
    "| `assertAlmostEqual(a, b)` | `round(a-b, 7） == 0` |\n",
    "| `assertNotAlmostEqual` | `round(a-b, 7） != 0` |\n",
    "| `assertAlmostEquals` |  |\n",
    "| `assertNotAlmostEquals` |  |\n",
    "| `assertCountEqual(a, b)` | `a`与`b`具有相同元素，不考虑顺序 |\n",
    "| `assertMultiLineEqual(a, b)` | 比较字符串  |\n",
    "| `assertSequenceEqual(a, b)` | 比较序列 |\n",
    "| `assertTupleEqual(a, b)` | 比较元组（tuple） |\n",
    "| `assertListEqual(a, b)` | 比较列表（list） |\n",
    "| `assertSetEqual(a, b)` | 比较集合（set frozensets） |\n",
    "| `assertDictEqual(a, b)` | 比较字典（dict） |"
   ]
  },
  {
   "cell_type": "markdown",
   "metadata": {
    "slideshow": {
     "slide_type": "slide"
    }
   },
   "source": [
    "| 断言方法 | 检查 |\n",
    "|:---------|:------|\n",
    "| `assertTrue(x)` | `bool(x) is True` |\n",
    "| `assertFalse(x)` | `bool(x) is False` |\n",
    "| `assertGreater(a, b)` | `a > b`  |\n",
    "| `assertGreaterEqual(a, b)` | `a >= b` |\n",
    "| `assertLess(a, b)` | `a < b`  |\n",
    "| `assertLessEqual(a, b)` | `a <= b` |"
   ]
  },
  {
   "cell_type": "markdown",
   "metadata": {
    "slideshow": {
     "slide_type": "slide"
    }
   },
   "source": [
    "| 断言方法 | 检查 |\n",
    "|:---------|:------|\n",
    "| `assertIs(a, b)` | `a is b` |\n",
    "| `assertIsNot(a, b)` | `a is not b` |\n",
    "| `assertIsInstance(a, b)` | isinstance(a, b) |\n",
    "| `assertNotIsInstance(a, b)` | not isinstance(a, b) |\n",
    "| `assertIsNone(x)` | `x is None` |\n",
    "| `assertIsNotNone` | `x is not None` |"
   ]
  },
  {
   "cell_type": "markdown",
   "metadata": {
    "slideshow": {
     "slide_type": "slide"
    }
   },
   "source": [
    "| 断言方法 | 检查 |\n",
    "|:---------|:------|\n",
    "| `assertIn(a, b)` | `a in b` |\n",
    "| `assertNotIn(a, b)` | `a not in b` |\n",
    "| `assertDictContainsSubset(a, b)` | 所有键值对均在字典b |"
   ]
  },
  {
   "cell_type": "markdown",
   "metadata": {
    "slideshow": {
     "slide_type": "slide"
    }
   },
   "source": [
    "| 断言方法 | 检查 |\n",
    "|:---------|:------|\n",
    "| `assertLogs` | 日志信息检查 |\n",
    "| `assertRegex(s, r)` | `r.search(s)` |\n",
    "| `assertNotRegex(s, r)` | `not r.search(s)` |\n",
    "| `assertRegexpMatches(s ,re)` | `regex.search(s)` |\n",
    "| `assertNotRegexpMatches(s ,re)` | `not regex.search(s)` |"
   ]
  },
  {
   "cell_type": "markdown",
   "metadata": {
    "slideshow": {
     "slide_type": "slide"
    }
   },
   "source": [
    "| 断言方法 | 检查 |\n",
    "|:---------|:------|\n",
    "| `assertRaises` | 检查抛出异常  |\n",
    "| `assertRaisesRegex` |  |\n",
    "| `assertRaisesRegexp` |  |\n",
    "| `assertWarns` | 检查警告 |\n",
    "| `assertWarnsRegex` |  |"
   ]
  },
  {
   "cell_type": "markdown",
   "metadata": {
    "slideshow": {
     "slide_type": "slide"
    }
   },
   "source": [
    "下面创建一个包含各种断言用法的示例\n"
   ]
  },
  {
   "cell_type": "code",
   "execution_count": 7,
   "metadata": {
    "slideshow": {
     "slide_type": "slide"
    }
   },
   "outputs": [
    {
     "name": "stdout",
     "output_type": "stream",
     "text": [
      "Writing test_assert.py\n"
     ]
    }
   ],
   "source": [
    "%%writefile test_assert.py\n",
    "#!/usr/bin/env python\n",
    "# -*- coding: utf-8 -*-\n",
    "import unittest\n",
    "\n",
    "\n",
    "class AssertTest(unittest.TestCase):\n",
    "    \n",
    "    def test_pass(self):\n",
    "        return\n",
    "    \n",
    "    def test_assert_equal(self):\n",
    "        self.assertEqual(3 - 2, 1)\n",
    "        self.assertEqual('x' * 3, 'xxx')\n",
    "    \n",
    "    def test_assert_not_equal(self):\n",
    "        self.assertNotEqual(3 - 2, 2)\n",
    "        self.assertNotEqual('x' * 2, 'xxx')\n",
    "    \n",
    "    def test_assert_true(self):\n",
    "        self.assertTrue(12 > 11)\n",
    "    \n",
    "    def test_assert_false(self):\n",
    "        self.assertFalse(12 > 11)\n",
    "    \n",
    "    def test_assert_almost_equal(self):\n",
    "        self.assertAlmostEqual(1.1, 3.3 - 2.2)\n",
    "        \n",
    "    def test_assert_not_almost_equal(self):\n",
    "        self.assertNotAlmostEqual(1.1, 3.3 - 2.0, places=7)\n",
    "        \n",
    "    def test_assert_count_equal(self):\n",
    "        self.assertCountEqual([1, 2, 3, 2], [1, 3, 2, 2])\n",
    "        \n",
    "    def test_assert_dict_equal(self):\n",
    "        self.assertDictEqual({'a': 1, 'b': 2}, {'b': 2, 'a': 1})\n",
    "        \n",
    "    def test_assert_in(self):\n",
    "        self.assertIn(1, {1: 'a', 2: 'b', 3: 'c'})\n",
    "        self.assertIn(1, [1, 2, 3])"
   ]
  },
  {
   "cell_type": "code",
   "execution_count": 8,
   "metadata": {
    "slideshow": {
     "slide_type": "slide"
    }
   },
   "outputs": [
    {
     "name": "stderr",
     "output_type": "stream",
     "text": [
      "....F.....\n",
      "======================================================================\n",
      "FAIL: test_assert_false (test_assert.AssertTest)\n",
      "----------------------------------------------------------------------\n",
      "Traceback (most recent call last):\n",
      "  File \"D:\\training\\python-basics-book\\Python入门与高级编程\\第13章 脚手架与集成开发环境\\test_assert.py\", line 23, in test_assert_false\n",
      "    self.assertFalse(12 > 11)\n",
      "AssertionError: True is not false\n",
      "\n",
      "----------------------------------------------------------------------\n",
      "Ran 10 tests in 0.001s\n",
      "\n",
      "FAILED (failures=1)\n"
     ]
    }
   ],
   "source": [
    "!python -m unittest test_assert.py"
   ]
  },
  {
   "cell_type": "markdown",
   "metadata": {
    "slideshow": {
     "slide_type": "slide"
    }
   },
   "source": [
    "##  综合示例\n",
    "\n",
    "先创建一个模块，包括函数与类等定义。"
   ]
  },
  {
   "cell_type": "code",
   "execution_count": 9,
   "metadata": {
    "slideshow": {
     "slide_type": "slide"
    }
   },
   "outputs": [
    {
     "name": "stdout",
     "output_type": "stream",
     "text": [
      "Writing sampmodule.py\n"
     ]
    }
   ],
   "source": [
    "%%writefile sampmodule.py\n",
    "#!/usr/bin/env python\n",
    "# -*- coding: utf-8 -*-\n",
    "\n",
    "\n",
    "def multiply(a, b):\n",
    "    \"\"\"return a * b\n",
    "    \"\"\"\n",
    "    return a * b\n",
    "\n",
    "\n",
    "def raises_error(*args, **kwds):\n",
    "    raise ValueError('Invalid value: ' + str(args) + str(kwds))\n",
    "    \n",
    "    \n",
    "class Dog():\n",
    "    \"\"\"class for Dog\"\"\"\n",
    "    kind = 'canine'\n",
    "\n",
    "    def __init__(self, name):\n",
    "        self.name = name\n",
    "        self.tricks = []\n",
    "\n",
    "    def add_trick(self, trick):\n",
    "        \"\"\"add a trick\"\"\"\n",
    "        self.tricks.append(trick)    "
   ]
  },
  {
   "cell_type": "markdown",
   "metadata": {
    "slideshow": {
     "slide_type": "slide"
    }
   },
   "source": [
    "下面开始编写`sampmodule`模块的测试用例"
   ]
  },
  {
   "cell_type": "code",
   "execution_count": 10,
   "metadata": {
    "slideshow": {
     "slide_type": "slide"
    }
   },
   "outputs": [
    {
     "name": "stdout",
     "output_type": "stream",
     "text": [
      "Writing test_sampmodule.py\n"
     ]
    }
   ],
   "source": [
    "%%writefile test_sampmodule.py\n",
    "#!/usr/bin/env python\n",
    "# -*- coding: utf-8 -*-\n",
    "import unittest\n",
    "from sampmodule import multiply, raises_error, Dog \n",
    "\n",
    "\n",
    "class TestMultiply(unittest.TestCase):\n",
    "    \"\"\"test case of function multiply\"\"\"\n",
    "    def test_multiply_3_3(self):\n",
    "        self.assertEqual(multiply(3, 3), 9)\n",
    "\n",
    "    def test_multiply_x_3(self):\n",
    "        self.assertEqual(multiply('x', 3), 'xxx')\n",
    "\n",
    "    def test_multiply_list_3(self):\n",
    "        res = multiply(['a', 'b'], 3)\n",
    "        self.assertListEqual(res, ['a', 'b', 'a', 'b', 'a', 'b'])"
   ]
  },
  {
   "cell_type": "code",
   "execution_count": 11,
   "metadata": {
    "slideshow": {
     "slide_type": "slide"
    }
   },
   "outputs": [
    {
     "name": "stderr",
     "output_type": "stream",
     "text": [
      "...\n",
      "----------------------------------------------------------------------\n",
      "Ran 3 tests in 0.001s\n",
      "\n",
      "OK\n"
     ]
    }
   ],
   "source": [
    "!python -m unittest test_sampmodule.py"
   ]
  },
  {
   "cell_type": "markdown",
   "metadata": {
    "slideshow": {
     "slide_type": "slide"
    }
   },
   "source": [
    "编写异常的测试用例"
   ]
  },
  {
   "cell_type": "code",
   "execution_count": 12,
   "metadata": {
    "slideshow": {
     "slide_type": "slide"
    }
   },
   "outputs": [
    {
     "name": "stdout",
     "output_type": "stream",
     "text": [
      "Overwriting test_sampmodule.py\n"
     ]
    }
   ],
   "source": [
    "%%writefile test_sampmodule.py\n",
    "#!/usr/bin/env python\n",
    "# -*- coding: utf-8 -*-\n",
    "import unittest\n",
    "from sampmodule import multiply, raises_error, Dog \n",
    "        \n",
    "\n",
    "class TestException(unittest.TestCase):\n",
    "\n",
    "    def test_trap_locally(self):\n",
    "        try:\n",
    "            raises_error('a', b='c')\n",
    "        except ValueError:\n",
    "            pass\n",
    "        else:\n",
    "            self.fail('Did not see ValueError')\n",
    "\n",
    "    def test_assert_raises(self):\n",
    "        self.assertRaises(\n",
    "            ValueError,\n",
    "            raises_error,\n",
    "            'a',\n",
    "            b='c',\n",
    "        )    "
   ]
  },
  {
   "cell_type": "code",
   "execution_count": 13,
   "metadata": {
    "slideshow": {
     "slide_type": "slide"
    }
   },
   "outputs": [
    {
     "name": "stderr",
     "output_type": "stream",
     "text": [
      "..\n",
      "----------------------------------------------------------------------\n",
      "Ran 2 tests in 0.000s\n",
      "\n",
      "OK\n"
     ]
    }
   ],
   "source": [
    "!python -m unittest test_sampmodule.py"
   ]
  },
  {
   "cell_type": "markdown",
   "metadata": {
    "slideshow": {
     "slide_type": "slide"
    }
   },
   "source": [
    "编写类的测试用例"
   ]
  },
  {
   "cell_type": "code",
   "execution_count": 14,
   "metadata": {
    "slideshow": {
     "slide_type": "slide"
    }
   },
   "outputs": [
    {
     "name": "stdout",
     "output_type": "stream",
     "text": [
      "Overwriting test_sampmodule.py\n"
     ]
    }
   ],
   "source": [
    "%%writefile test_sampmodule.py\n",
    "#!/usr/bin/env python\n",
    "# -*- coding: utf-8 -*-\n",
    "import unittest\n",
    "from sampmodule import multiply, raises_error, Dog \n",
    "\n",
    "\n",
    "class TestDog(unittest.TestCase):\n",
    "    \"\"\"test case of function multiply\"\"\"\n",
    "    def setUp(self):\n",
    "        self.fido = Dog('Fido')\n",
    "        self.buddy = Dog('Buddy')\n",
    "\n",
    "    def test_name(self):\n",
    "        self.assertEqual(self.fido.name, 'Fido')\n",
    "        self.assertEqual(self.fido.tricks, [])\n",
    "\n",
    "    def test_add_trick(self):\n",
    "        self.fido.add_trick('roll over')\n",
    "        self.assertIn('roll over', self.fido.tricks)\n",
    "\n",
    "    def test_add_trick_02(self):\n",
    "        self.fido.add_trick('play dead')\n",
    "        self.buddy.add_trick('play dead')\n",
    "        self.assertIn('play dead', self.buddy.tricks)\n",
    "        self.assertIn('play dead', self.fido.tricks)\n",
    "        self.assertIn('roll over', self.fido.tricks)\n"
   ]
  },
  {
   "cell_type": "code",
   "execution_count": 15,
   "metadata": {
    "slideshow": {
     "slide_type": "slide"
    }
   },
   "outputs": [
    {
     "name": "stderr",
     "output_type": "stream",
     "text": [
      ".F.\n",
      "======================================================================\n",
      "FAIL: test_add_trick_02 (test_sampmodule.TestDog)\n",
      "----------------------------------------------------------------------\n",
      "Traceback (most recent call last):\n",
      "  File \"D:\\training\\python-basics-book\\Python入门与高级编程\\第13章 脚手架与集成开发环境\\test_sampmodule.py\", line 26, in test_add_trick_02\n",
      "    self.assertIn('roll over', self.fido.tricks)\n",
      "AssertionError: 'roll over' not found in ['play dead']\n",
      "\n",
      "----------------------------------------------------------------------\n",
      "Ran 3 tests in 0.000s\n",
      "\n",
      "FAILED (failures=1)\n"
     ]
    }
   ],
   "source": [
    "!python -m unittest test_sampmodule.py"
   ]
  },
  {
   "cell_type": "markdown",
   "metadata": {
    "slideshow": {
     "slide_type": "slide"
    }
   },
   "source": [
    "把测试用例写到一起，并创建测试套件"
   ]
  },
  {
   "cell_type": "code",
   "execution_count": 16,
   "metadata": {
    "slideshow": {
     "slide_type": "slide"
    }
   },
   "outputs": [
    {
     "name": "stdout",
     "output_type": "stream",
     "text": [
      "Overwriting test_sampmodule.py\n"
     ]
    }
   ],
   "source": [
    "%%writefile test_sampmodule.py\n",
    "#!/usr/bin/env python\n",
    "# -*- coding: utf-8 -*-\n",
    "import unittest\n",
    "from sampmodule import multiply, raises_error, Dog \n",
    "\n",
    "\n",
    "class TestMultiply(unittest.TestCase):\n",
    "    \"\"\"test case of function multiply\"\"\"\n",
    "    def test_multiply_3_3(self):\n",
    "        self.assertEqual(multiply(3, 3), 9)\n",
    "\n",
    "    def test_multiply_x_3(self):\n",
    "        self.assertEqual(multiply('x', 3), 'xxx')\n",
    "\n",
    "    def test_multiply_list_3(self):\n",
    "        res = multiply(['a', 'b'], 3)\n",
    "        self.assertListEqual(res, ['a', 'b', 'a', 'b', 'a', 'b'])        \n",
    "\n",
    "        \n",
    "class TestException(unittest.TestCase):\n",
    "\n",
    "    def test_trap_locally(self):\n",
    "        try:\n",
    "            raises_error('a', b='c')\n",
    "        except ValueError:\n",
    "            pass\n",
    "        else:\n",
    "            self.fail('Did not see ValueError')\n",
    "\n",
    "    def test_assert_raises(self):\n",
    "        self.assertRaises(\n",
    "            ValueError,\n",
    "            raises_error,\n",
    "            'a',\n",
    "            b='c',\n",
    "        )    \n",
    "        \n",
    "\n",
    "class TestDog(unittest.TestCase):\n",
    "    \"\"\"test case of function multiply\"\"\"\n",
    "    def setUp(self):\n",
    "        print('create two dog')\n",
    "        self.fido = Dog('Fido')\n",
    "        self.buddy = Dog('Buddy')\n",
    "\n",
    "    def test_name(self):\n",
    "        self.assertEqual(self.fido.name, 'Fido')\n",
    "        self.assertEqual(self.fido.tricks, [])\n",
    "\n",
    "    def test_add_trick(self):\n",
    "        self.fido.add_trick('roll over')\n",
    "        self.assertIn('roll over', self.fido.tricks)\n",
    "\n",
    "    def test_add_trick_02(self):\n",
    "        self.fido.add_trick('play dead')\n",
    "        self.buddy.add_trick('play dead')\n",
    "        self.assertIn('play dead', self.buddy.tricks)\n",
    "        self.assertIn('play dead', self.fido.tricks)\n",
    "        self.assertIn('roll over', self.fido.tricks)\n",
    "        \n",
    "\n",
    "if __name__ == '__main__':\n",
    "    # 构建测试套件\n",
    "    suite = unittest.TestSuite()\n",
    "    suite.addTest(TestMultiply('test_multiply_3_3'))\n",
    "    suite.addTest(TestMultiply('test_multiply_list_3'))    \n",
    "    suite.addTest(TestException('test_assert_raises'))\n",
    "    suite.addTest(TestDog('test_add_trick_02'))    \n",
    "        \n",
    "    # 测试运行\n",
    "    runner = unittest.TextTestRunner()\n",
    "    runner.run(suite)"
   ]
  },
  {
   "cell_type": "code",
   "execution_count": 17,
   "metadata": {
    "slideshow": {
     "slide_type": "slide"
    }
   },
   "outputs": [
    {
     "name": "stdout",
     "output_type": "stream",
     "text": [
      "create two dog\n"
     ]
    },
    {
     "name": "stderr",
     "output_type": "stream",
     "text": [
      "...F\n",
      "======================================================================\n",
      "FAIL: test_add_trick_02 (__main__.TestDog)\n",
      "----------------------------------------------------------------------\n",
      "Traceback (most recent call last):\n",
      "  File \"test_sampmodule.py\", line 59, in test_add_trick_02\n",
      "    self.assertIn('roll over', self.fido.tricks)\n",
      "AssertionError: 'roll over' not found in ['play dead']\n",
      "\n",
      "----------------------------------------------------------------------\n",
      "Ran 4 tests in 0.001s\n",
      "\n",
      "FAILED (failures=1)\n"
     ]
    }
   ],
   "source": [
    "!python test_sampmodule.py"
   ]
  },
  {
   "cell_type": "markdown",
   "metadata": {
    "slideshow": {
     "slide_type": "slide"
    }
   },
   "source": [
    "## 更多测试用例情况\n",
    "\n",
    "随着软件功能的不断增多，测试用例会快速增长。当测试用例成百上千的时候，通常会把测试用例拆分在多个文件，甚至是目录架构。\n",
    "\n",
    "在一个单独的文件（常常命名为`runtest.py`）中，使用`TestSuite()`类来构建测试套件，然后再添加各个测试文件中的测试用例，最后在运行测试。\n",
    "\n",
    "然而，由于测试用例成百上千，使用`addTest()`方法手工维护测试用例集合，会变得比较麻烦，可以使用`TestLoader`类中的`discover()`方法来自动查找和加载测试用例。\n",
    "\n",
    "大部分情况，测试运行都是使用`TextTestRunner`类来运行，会输出文本格式测试结果。可以使用更多的unittest扩展模块输出其它格式测试结果，例如HTML格式测试报告。"
   ]
  },
  {
   "cell_type": "markdown",
   "metadata": {
    "slideshow": {
     "slide_type": "slide"
    }
   },
   "source": [
    "随着单元测试框架的发展，大家会使用`pytest`与`nose`框架。其测试概念、过程与方法都是类似，只是实现有所不同而已。"
   ]
  }
 ],
 "metadata": {
  "celltoolbar": "Slideshow",
  "kernelspec": {
   "display_name": "Python 3",
   "language": "python",
   "name": "python3"
  },
  "language_info": {
   "codemirror_mode": {
    "name": "ipython",
    "version": 3
   },
   "file_extension": ".py",
   "mimetype": "text/x-python",
   "name": "python",
   "nbconvert_exporter": "python",
   "pygments_lexer": "ipython3",
   "version": "3.6.4"
  },
  "toc": {
   "base_numbering": 1,
   "nav_menu": {},
   "number_sections": true,
   "sideBar": true,
   "skip_h1_title": false,
   "title_cell": "Table of Contents",
   "title_sidebar": "Contents",
   "toc_cell": false,
   "toc_position": {},
   "toc_section_display": true,
   "toc_window_display": false
  }
 },
 "nbformat": 4,
 "nbformat_minor": 2
}
