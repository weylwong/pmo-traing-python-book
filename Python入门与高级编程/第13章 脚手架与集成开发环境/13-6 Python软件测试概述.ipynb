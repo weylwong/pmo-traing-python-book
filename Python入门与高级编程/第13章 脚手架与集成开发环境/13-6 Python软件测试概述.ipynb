{
 "cells": [
  {
   "cell_type": "markdown",
   "metadata": {
    "slideshow": {
     "slide_type": "slide"
    }
   },
   "source": [
    "# Python 软件测试\n",
    "\n",
    "可能大家都听过华家三兄弟的故事。华佗医术高超，名扬四海，治好了很多癌症患者，世人对其医术赞叹不已。华佗却感叹说，“其实我的两位哥哥医术更高！”\n",
    "\n",
    "华佗大哥超凡入圣，常常在肺癌和肺炎都尚未发生，患者才咳嗽了几声时，就已经察觉到问题，控制病情的发展，断了这咳嗽的根，使之连变成肺炎的机会都没有。\n",
    "\n",
    "华佗二哥医术精良，常常在肺癌还处在肺炎阶段就已经做出了确切的诊断，知道这个普通的肺炎存在着演变成肺癌的可能性，并在病情恶化之前予以治愈。"
   ]
  },
  {
   "cell_type": "markdown",
   "metadata": {
    "slideshow": {
     "slide_type": "slide"
    }
   },
   "source": [
    "人非圣贤孰能无过，人类编写的软件自然也会犯错。然而在编程开发中会有高下之分，也会有华家三兄弟类似的三种境界：\n",
    "- 如华佗一样，在软件出现故障后，能调试分析，定位故障，并解决问题；\n",
    "- 如华家二哥一样，在软件发布之前，进行软件测试，预防软件出错；\n",
    "- 如华家大哥一样，对系统理解深刻，对语言洞察秋毫，能编写安全代码，避免软件错误。"
   ]
  },
  {
   "cell_type": "markdown",
   "metadata": {
    "slideshow": {
     "slide_type": "slide"
    }
   },
   "source": [
    "在软件开发中，三种情况实际上常常交缠在一起，需要兼具这三种能力。在前面章节介绍过软件调试，在本章则会介绍软件测试。至于软件开发的最高境界，则需要不断学习，随着经验提高，安全编码水平逐渐提升，是软件程序员需要终其一生去努力追求。"
   ]
  },
  {
   "cell_type": "markdown",
   "metadata": {
    "slideshow": {
     "slide_type": "slide"
    }
   },
   "source": [
    "## 软件测试的分类\n",
    "\n",
    "软件测试的根本目的是减少和避免软件错误。软件错误包括语法错误、运行错误和语义错误，软件测试主要解决的是语义错误及其引发的运行错误。软件测试的概念名词众多，实际上都是从不同的角度对软件测试描述而已。\n",
    "\n",
    "从软件阶段出发测试可以分为：\n",
    "- 单元测试，对程序中的函数、类或具有独立功能代码段进行测试的过程。\n",
    "- 集成测试，对单元模块组成的系统或子系统进行测试。重点是检查模块之间的接口是否正确。\n",
    "- 系统测试，对整个软件产品进行测试，验证软件系统是否满足需求规格。\n",
    "- 验收测试，交付客户之前的最后一个测试阶段，向客户展示软件系统已经满足用户要求，已经准备就绪\n",
    "\n",
    "从功能与性能出发，测试可以分为：\n",
    "- 功能测试，检查功能是否符合用户的需求\n",
    "- 性能测试，对软件系统各项指标进行测试，通常包括时间性能（CPU），空间性能（内存）。\n",
    "\n",
    "根据软件代码介入程度或者可见程度，测试可以分为：\n",
    "- 黑盒测试，把被测软件当做黑盒子，只关心软件的输入与输出。\n",
    "- 白盒测试，要测试分析软件中的源代码、逻辑结构和程序执行结果。\n",
    "- 灰盒测试，介于二者之间的一种测试。\n",
    "\n",
    "根据自动化程度，测试可划分为：\n",
    "- 手工测试，依赖测试人员手工操作去执行测试用例，查看返回结果。\n",
    "- 自动化测试，使用自动化测试工具，变手工为自动化操作。"
   ]
  },
  {
   "cell_type": "markdown",
   "metadata": {
    "slideshow": {
     "slide_type": "slide"
    }
   },
   "source": [
    "## 编码与测试\n",
    "\n",
    "当前国内评价一个程序员价值，还是依赖程序员的产出，也就是编码的工作量。测试的目的是为了减少编码中的错误，减少调试除错以及维护的时间，通过提高软件质量而提高开发效率。\n",
    "\n",
    "从长远看，写好测试时会提高开发效率的；从短期看，测试有时候多花费时间。有时候出活，抢时间是第一位的，那么就不要为测试而测试。对这个问题要辩证地看待，仁者见仁智者见智。"
   ]
  },
  {
   "cell_type": "markdown",
   "metadata": {
    "slideshow": {
     "slide_type": "slide"
    }
   },
   "source": [
    "## 测试框架工具\n",
    "\n",
    "Python 中自动化测试框架包括包括如下：\n",
    "- doctest\n",
    "- unittest\n",
    "- pytest\n",
    "- nose\n",
    "- UFT\n",
    "- Selenium"
   ]
  },
  {
   "cell_type": "markdown",
   "metadata": {},
   "source": [
    "在下节将介绍`unittest`的使用"
   ]
  }
 ],
 "metadata": {
  "celltoolbar": "Slideshow",
  "kernelspec": {
   "display_name": "Python 3",
   "language": "python",
   "name": "python3"
  },
  "language_info": {
   "codemirror_mode": {
    "name": "ipython",
    "version": 3
   },
   "file_extension": ".py",
   "mimetype": "text/x-python",
   "name": "python",
   "nbconvert_exporter": "python",
   "pygments_lexer": "ipython3",
   "version": "3.6.4"
  },
  "toc": {
   "base_numbering": 1,
   "nav_menu": {},
   "number_sections": true,
   "sideBar": true,
   "skip_h1_title": false,
   "title_cell": "Table of Contents",
   "title_sidebar": "Contents",
   "toc_cell": false,
   "toc_position": {},
   "toc_section_display": true,
   "toc_window_display": false
  }
 },
 "nbformat": 4,
 "nbformat_minor": 2
}
