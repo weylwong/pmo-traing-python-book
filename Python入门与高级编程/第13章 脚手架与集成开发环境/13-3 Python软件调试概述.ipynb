{
 "cells": [
  {
   "cell_type": "markdown",
   "metadata": {
    "slideshow": {
     "slide_type": "slide"
    }
   },
   "source": [
    "# Python软件调试（debugging）\n",
    "\n",
    "世界正处于数字化的浪潮之中，硬件正在变“软”、变的互联、变的智能。软件几乎已经无处不在，人类对软件的依赖日益增大。那么软件会犯错吗？人非圣贤孰能无过，软件是人编写的，自然也会犯错。\n",
    "\n",
    "软件的错误或缺陷也称为臭虫（`Bug`）。名字的由来要回到上世纪，1947年9月9日，在测试Mark II计算机时突发故障。经过工作人员几个小时的检查，发现在面板F的第70号继电器中有一个死飞蛾。把飞蛾取出后，系统恢复正常。当时工作的著名的女科学家霍普（Grace Hopper）把飞蛾粘贴在工作手册中，并写了一行注释，“First actual case of bug being found”。自此之后，Bug就用来指代软件的错误或缺陷；而调试（debug，除虫）就用来泛指排除软件错误的过程。\n",
    "\n",
    "![第一个计算机Bug](../images/debug_firstbug.jpg)"
   ]
  },
  {
   "cell_type": "markdown",
   "metadata": {
    "slideshow": {
     "slide_type": "slide"
    }
   },
   "source": [
    "也许大家会觉得，发现臭虫一脚踩死不就完了，软件有Bug也没什么大不了的。软件Bug的历史也充满了人类鲜血和泪水。美国NASA的火星气候探测者号（Mars ClimateOrbiter），于1998年12月1日发射，在1999年9月23日到达预定轨道后失联。失联原因很简单：地面控制团队使用英制单位来发送导航指令，探测器的软件系统使用公制来读取指令，导致探测器进入低轨道后摩擦解体。损失高达3亿美元。因为软件错误缺陷导致的灾难举不胜举，可以阅读《致命Bug：软件缺陷的灾难与启示》一书了解更多。\n",
    "\n",
    "如何编写安全代码，尽量避免软件错误，是一个程序员毕生需要修炼提高的。本节主要介绍Python软件调试的基本方法。"
   ]
  },
  {
   "cell_type": "markdown",
   "metadata": {
    "slideshow": {
     "slide_type": "slide"
    }
   },
   "source": [
    "## 调试错误分类\n",
    "\n",
    "当程序出现了问题，先别着急去调试。首先检查一下当前代码是否在版本控制中。如果是在开发状态中修改代码引起的bug，建议先添加一下更改，再进行调试；如果是发布版本引起的bug，建议使用Git创建一个调试分支，等解决问题后再合并到主分支。\n",
    "\n",
    "在国内常常称调试为填坑，由于时间紧急工作匆忙，经常犯填完一个坑又挖了几个坑的问题。故调试完成后，建议好好测试一下，然后再发布。\n",
    "\n",
    "在编写和运行Python程序的过程中，问题可以大致分为如下：\n",
    "- 语法错误\n",
    "- 运行错误\n",
    "- 语义错误"
   ]
  },
  {
   "cell_type": "markdown",
   "metadata": {
    "slideshow": {
     "slide_type": "slide"
    }
   },
   "source": [
    "### 语法错误（syntax error）\n",
    "\n",
    "语法错误常见于初学者，常常是漏写一些符号，例如，在条件和循环语句后面忘记写冒号`:`，从其它地方拷贝过来代码，却忘记做适当修改。一般来说，语法错误容易修改，只要在出错代码行附近，仔细查看代码，定位错误，即可快速修复。\n",
    "\n",
    "对于语法错误，PyCharm编辑器会自动检查并提示。建议每次提交更动前，把PyCharm给出的警告去全部处理完。另外还可以使用flake8工具对程序做静态分析。"
   ]
  },
  {
   "cell_type": "markdown",
   "metadata": {
    "slideshow": {
     "slide_type": "slide"
    }
   },
   "source": [
    "下面列出一些新手常犯的错误"
   ]
  },
  {
   "cell_type": "markdown",
   "metadata": {
    "slideshow": {
     "slide_type": "slide"
    }
   },
   "source": [
    "变量命名时违反命名规则："
   ]
  },
  {
   "cell_type": "code",
   "execution_count": 9,
   "metadata": {
    "slideshow": {
     "slide_type": "-"
    }
   },
   "outputs": [
    {
     "ename": "SyntaxError",
     "evalue": "invalid syntax (<ipython-input-9-60eeeb9c04ca>, line 1)",
     "output_type": "error",
     "traceback": [
      "\u001b[0;36m  File \u001b[0;32m\"<ipython-input-9-60eeeb9c04ca>\"\u001b[0;36m, line \u001b[0;32m1\u001b[0m\n\u001b[0;31m    21century = 2000\u001b[0m\n\u001b[0m            ^\u001b[0m\n\u001b[0;31mSyntaxError\u001b[0m\u001b[0;31m:\u001b[0m invalid syntax\n"
     ]
    }
   ],
   "source": [
    "21century = 2000"
   ]
  },
  {
   "cell_type": "markdown",
   "metadata": {
    "slideshow": {
     "slide_type": "slide"
    }
   },
   "source": [
    "变量未定义即使用"
   ]
  },
  {
   "cell_type": "code",
   "execution_count": 10,
   "metadata": {
    "slideshow": {
     "slide_type": "-"
    }
   },
   "outputs": [
    {
     "ename": "NameError",
     "evalue": "name 'grade' is not defined",
     "output_type": "error",
     "traceback": [
      "\u001b[0;31m---------------------------------------------------------------------------\u001b[0m",
      "\u001b[0;31mNameError\u001b[0m                                 Traceback (most recent call last)",
      "\u001b[0;32m<ipython-input-10-4a48fb5391e7>\u001b[0m in \u001b[0;36m<module>\u001b[0;34m()\u001b[0m\n\u001b[1;32m      1\u001b[0m \u001b[0mscore\u001b[0m \u001b[0;34m=\u001b[0m \u001b[0;36m60\u001b[0m\u001b[0;34m\u001b[0m\u001b[0m\n\u001b[1;32m      2\u001b[0m \u001b[0mscore\u001b[0m \u001b[0;34m+=\u001b[0m \u001b[0;36m1\u001b[0m\u001b[0;34m\u001b[0m\u001b[0m\n\u001b[0;32m----> 3\u001b[0;31m \u001b[0mgrade\u001b[0m \u001b[0;34m+=\u001b[0m \u001b[0;36m1\u001b[0m\u001b[0;34m\u001b[0m\u001b[0m\n\u001b[0m",
      "\u001b[0;31mNameError\u001b[0m: name 'grade' is not defined"
     ]
    }
   ],
   "source": [
    "score = 60\n",
    "score += 1\n",
    "grade += 1"
   ]
  },
  {
   "cell_type": "markdown",
   "metadata": {
    "slideshow": {
     "slide_type": "slide"
    }
   },
   "source": [
    "代码缩进不一致"
   ]
  },
  {
   "cell_type": "code",
   "execution_count": 1,
   "metadata": {
    "slideshow": {
     "slide_type": "-"
    }
   },
   "outputs": [
    {
     "ename": "IndentationError",
     "evalue": "unindent does not match any outer indentation level (<tokenize>, line 4)",
     "output_type": "error",
     "traceback": [
      "\u001b[0;36m  File \u001b[0;32m\"<tokenize>\"\u001b[0;36m, line \u001b[0;32m4\u001b[0m\n\u001b[0;31m    return\u001b[0m\n\u001b[0m    ^\u001b[0m\n\u001b[0;31mIndentationError\u001b[0m\u001b[0;31m:\u001b[0m unindent does not match any outer indentation level\n"
     ]
    }
   ],
   "source": [
    "def func():\n",
    "    if score == 59：\n",
    "        print('勉强通过')    \n",
    "      return "
   ]
  },
  {
   "cell_type": "markdown",
   "metadata": {
    "slideshow": {
     "slide_type": "slide"
    }
   },
   "source": [
    "忘记在`if`, `elif`, `else`, `for`, `while`, `class`,`def` 声明末尾添加`：`"
   ]
  },
  {
   "cell_type": "code",
   "execution_count": 11,
   "metadata": {
    "slideshow": {
     "slide_type": "-"
    }
   },
   "outputs": [
    {
     "ename": "SyntaxError",
     "evalue": "invalid syntax (<ipython-input-11-e84e0bc47456>, line 1)",
     "output_type": "error",
     "traceback": [
      "\u001b[0;36m  File \u001b[0;32m\"<ipython-input-11-e84e0bc47456>\"\u001b[0;36m, line \u001b[0;32m1\u001b[0m\n\u001b[0;31m    if score == 59\u001b[0m\n\u001b[0m                  ^\u001b[0m\n\u001b[0;31mSyntaxError\u001b[0m\u001b[0;31m:\u001b[0m invalid syntax\n"
     ]
    }
   ],
   "source": [
    "if score == 59\n",
    "    print('勉强通过')"
   ]
  },
  {
   "cell_type": "markdown",
   "metadata": {
    "slideshow": {
     "slide_type": "slide"
    }
   },
   "source": [
    "在做条件判断时，使用`=`而不是`==`操作符"
   ]
  },
  {
   "cell_type": "code",
   "execution_count": 2,
   "metadata": {},
   "outputs": [
    {
     "ename": "SyntaxError",
     "evalue": "invalid syntax (<ipython-input-2-1b84b3ef0a80>, line 1)",
     "output_type": "error",
     "traceback": [
      "\u001b[0;36m  File \u001b[0;32m\"<ipython-input-2-1b84b3ef0a80>\"\u001b[0;36m, line \u001b[0;32m1\u001b[0m\n\u001b[0;31m    if score = 59:\u001b[0m\n\u001b[0m             ^\u001b[0m\n\u001b[0;31mSyntaxError\u001b[0m\u001b[0;31m:\u001b[0m invalid syntax\n"
     ]
    }
   ],
   "source": [
    "if score = 59:\n",
    "    print('勉强通过')"
   ]
  },
  {
   "cell_type": "markdown",
   "metadata": {
    "slideshow": {
     "slide_type": "slide"
    }
   },
   "source": [
    "字符串前后不闭合"
   ]
  },
  {
   "cell_type": "code",
   "execution_count": 3,
   "metadata": {
    "slideshow": {
     "slide_type": "-"
    }
   },
   "outputs": [
    {
     "ename": "SyntaxError",
     "evalue": "EOL while scanning string literal (<ipython-input-3-074e375d634d>, line 1)",
     "output_type": "error",
     "traceback": [
      "\u001b[0;36m  File \u001b[0;32m\"<ipython-input-3-074e375d634d>\"\u001b[0;36m, line \u001b[0;32m1\u001b[0m\n\u001b[0;31m    print('Hello Python!\")\u001b[0m\n\u001b[0m                          ^\u001b[0m\n\u001b[0;31mSyntaxError\u001b[0m\u001b[0;31m:\u001b[0m EOL while scanning string literal\n"
     ]
    }
   ],
   "source": [
    "print('Hello Python!\")"
   ]
  },
  {
   "cell_type": "markdown",
   "metadata": {
    "slideshow": {
     "slide_type": "slide"
    }
   },
   "source": [
    "函数或方法调用时括号没有成对闭合"
   ]
  },
  {
   "cell_type": "code",
   "execution_count": 4,
   "metadata": {
    "slideshow": {
     "slide_type": "-"
    }
   },
   "outputs": [
    {
     "ename": "SyntaxError",
     "evalue": "unexpected EOF while parsing (<ipython-input-4-790ff9a980c1>, line 1)",
     "output_type": "error",
     "traceback": [
      "\u001b[0;36m  File \u001b[0;32m\"<ipython-input-4-790ff9a980c1>\"\u001b[0;36m, line \u001b[0;32m1\u001b[0m\n\u001b[0;31m    print('PI={}'.format(3.131592)\u001b[0m\n\u001b[0m                                  ^\u001b[0m\n\u001b[0;31mSyntaxError\u001b[0m\u001b[0;31m:\u001b[0m unexpected EOF while parsing\n"
     ]
    }
   ],
   "source": [
    "print('PI={}'.format(3.131592)"
   ]
  },
  {
   "cell_type": "markdown",
   "metadata": {
    "slideshow": {
     "slide_type": "slide"
    }
   },
   "source": [
    "在编写代码时，混入中文输入字符"
   ]
  },
  {
   "cell_type": "code",
   "execution_count": 5,
   "metadata": {
    "slideshow": {
     "slide_type": "-"
    }
   },
   "outputs": [
    {
     "ename": "SyntaxError",
     "evalue": "invalid character in identifier (<ipython-input-5-33e71ed88c91>, line 1)",
     "output_type": "error",
     "traceback": [
      "\u001b[0;36m  File \u001b[0;32m\"<ipython-input-5-33e71ed88c91>\"\u001b[0;36m, line \u001b[0;32m1\u001b[0m\n\u001b[0;31m    print('My name is '，\"老王\")\u001b[0m\n\u001b[0m                       ^\u001b[0m\n\u001b[0;31mSyntaxError\u001b[0m\u001b[0;31m:\u001b[0m invalid character in identifier\n"
     ]
    }
   ],
   "source": [
    "print('My name is '，\"老王\")"
   ]
  },
  {
   "cell_type": "markdown",
   "metadata": {
    "slideshow": {
     "slide_type": "slide"
    }
   },
   "source": [
    "### 运行错误（`run-time error`）\n",
    "\n",
    "Python程序的语法正确，但在运行时出现错误引发异常，导致程序终止，这类错误称为运行错误。Python解释器通常会抛出异常对象，同时用回溯（Traceback）来终止运行。对于经验丰富程序员来说，可以根据异常对象类型和回溯信息来定位错误，进而解决错误。\n",
    "\n",
    "一些简单的运行错误通常是对所用对象用法不熟悉，错误使用而导致的。例如：\n",
    "- 在调用除法运算时，除数为0；\n",
    "- 访问列表元素时，索引出界；\n",
    "- 访问字典元素时，使用错误键值；\n",
    "- 打开文件时，文件不存在；\n",
    "- 导入的模块并没有安装。"
   ]
  },
  {
   "cell_type": "markdown",
   "metadata": {
    "slideshow": {
     "slide_type": "slide"
    }
   },
   "source": [
    "索引超出序列最大范围"
   ]
  },
  {
   "cell_type": "code",
   "execution_count": 6,
   "metadata": {
    "slideshow": {
     "slide_type": "-"
    }
   },
   "outputs": [
    {
     "ename": "IndexError",
     "evalue": "list index out of range",
     "output_type": "error",
     "traceback": [
      "\u001b[0;31m---------------------------------------------------------------------------\u001b[0m",
      "\u001b[0;31mIndexError\u001b[0m                                Traceback (most recent call last)",
      "\u001b[0;32m<ipython-input-6-cd4f6c986b48>\u001b[0m in \u001b[0;36m<module>\u001b[0;34m()\u001b[0m\n\u001b[1;32m      1\u001b[0m \u001b[0mcolors\u001b[0m \u001b[0;34m=\u001b[0m \u001b[0;34m[\u001b[0m\u001b[0;34m'red'\u001b[0m\u001b[0;34m,\u001b[0m \u001b[0;34m'yellow'\u001b[0m\u001b[0;34m,\u001b[0m \u001b[0;34m'green'\u001b[0m\u001b[0;34m]\u001b[0m\u001b[0;34m\u001b[0m\u001b[0m\n\u001b[0;32m----> 2\u001b[0;31m \u001b[0mprint\u001b[0m\u001b[0;34m(\u001b[0m\u001b[0mcolors\u001b[0m\u001b[0;34m[\u001b[0m\u001b[0;36m3\u001b[0m\u001b[0;34m]\u001b[0m\u001b[0;34m)\u001b[0m\u001b[0;34m\u001b[0m\u001b[0m\n\u001b[0m",
      "\u001b[0;31mIndexError\u001b[0m: list index out of range"
     ]
    }
   ],
   "source": [
    "colors = ['red', 'yellow', 'green']\n",
    "print(colors[3])"
   ]
  },
  {
   "cell_type": "markdown",
   "metadata": {
    "slideshow": {
     "slide_type": "slide"
    }
   },
   "source": [
    "使用错误键值访问字典元素"
   ]
  },
  {
   "cell_type": "code",
   "execution_count": 7,
   "metadata": {
    "slideshow": {
     "slide_type": "-"
    }
   },
   "outputs": [
    {
     "ename": "KeyError",
     "evalue": "'RED'",
     "output_type": "error",
     "traceback": [
      "\u001b[0;31m---------------------------------------------------------------------------\u001b[0m",
      "\u001b[0;31mKeyError\u001b[0m                                  Traceback (most recent call last)",
      "\u001b[0;32m<ipython-input-7-b9f4ea24b4ce>\u001b[0m in \u001b[0;36m<module>\u001b[0;34m()\u001b[0m\n\u001b[1;32m      1\u001b[0m \u001b[0mcolor2value\u001b[0m \u001b[0;34m=\u001b[0m \u001b[0;34m{\u001b[0m\u001b[0;34m'red'\u001b[0m\u001b[0;34m:\u001b[0m \u001b[0;36m0\u001b[0m\u001b[0;34m,\u001b[0m \u001b[0;34m'yellow'\u001b[0m\u001b[0;34m:\u001b[0m \u001b[0;36m2\u001b[0m\u001b[0;34m,\u001b[0m \u001b[0;34m'green'\u001b[0m\u001b[0;34m:\u001b[0m \u001b[0;36m4\u001b[0m\u001b[0;34m}\u001b[0m\u001b[0;34m\u001b[0m\u001b[0m\n\u001b[0;32m----> 2\u001b[0;31m \u001b[0mcolor2value\u001b[0m\u001b[0;34m[\u001b[0m\u001b[0;34m'RED'\u001b[0m\u001b[0;34m]\u001b[0m\u001b[0;34m\u001b[0m\u001b[0m\n\u001b[0m",
      "\u001b[0;31mKeyError\u001b[0m: 'RED'"
     ]
    }
   ],
   "source": [
    "color2value = {'red': 0, 'yellow': 2, 'green': 4}\n",
    "color2value['RED']"
   ]
  },
  {
   "cell_type": "markdown",
   "metadata": {
    "slideshow": {
     "slide_type": "slide"
    }
   },
   "source": [
    "导入模块拼写错误或者未安装"
   ]
  },
  {
   "cell_type": "code",
   "execution_count": 8,
   "metadata": {
    "slideshow": {
     "slide_type": "-"
    }
   },
   "outputs": [
    {
     "ename": "ModuleNotFoundError",
     "evalue": "No module named 'Numpy'",
     "output_type": "error",
     "traceback": [
      "\u001b[0;31m---------------------------------------------------------------------------\u001b[0m",
      "\u001b[0;31mModuleNotFoundError\u001b[0m                       Traceback (most recent call last)",
      "\u001b[0;32m<ipython-input-8-9230c8785cb1>\u001b[0m in \u001b[0;36m<module>\u001b[0;34m()\u001b[0m\n\u001b[0;32m----> 1\u001b[0;31m \u001b[0;32mimport\u001b[0m \u001b[0mNumpy\u001b[0m\u001b[0;34m\u001b[0m\u001b[0m\n\u001b[0m",
      "\u001b[0;31mModuleNotFoundError\u001b[0m: No module named 'Numpy'"
     ]
    }
   ],
   "source": [
    "import Numpy"
   ]
  },
  {
   "cell_type": "markdown",
   "metadata": {
    "slideshow": {
     "slide_type": "slide"
    }
   },
   "source": [
    "然而很多时候，运行错误的原因隐晦不明，其根源未必就出错代码行附近，则需要使用更好的调试方法来解决。"
   ]
  },
  {
   "cell_type": "markdown",
   "metadata": {
    "slideshow": {
     "slide_type": "slide"
    }
   },
   "source": [
    "### 语义错误（semantic error）\n",
    "\n",
    "语义错误，也称为逻辑错误，是指程序运行状态或结果与预期不符合。对于此类错误，程序代码没有语法错误，在运行时可能并没有引起异常，甚至没有产生错误信息，但就是不能工作或结果错误。\n",
    "\n",
    "语义错误通常隐藏的很深，并不容易发现。在发布的版本中，可能仍存在语义错误，一旦发生就容易引起致命错误。例如火星气候探测者号的错误就是语义错误，也是致命的错误。\n",
    "\n",
    "大部分发生语义错误的情况是理解和沟通问题。一般来说，程序员都不是提出需求或设计程序的人。术业有专攻，程序员未必能够完全理解需求，如果再有沟通问题，很可能就会出现程序实现与需求或设计之间出现偏差，最终导致语义错误。"
   ]
  },
  {
   "cell_type": "markdown",
   "metadata": {
    "slideshow": {
     "slide_type": "slide"
    }
   },
   "source": [
    "还有一些语义错误是由于程序员心手不一，出现的语义错误。程序员原意是想计算平均值，由于忘记了括号，导致语义错误"
   ]
  },
  {
   "cell_type": "code",
   "execution_count": 9,
   "metadata": {
    "slideshow": {
     "slide_type": "-"
    }
   },
   "outputs": [],
   "source": [
    "a, b = 1.0, 3.0\n",
    "average = a + b / 2"
   ]
  },
  {
   "cell_type": "markdown",
   "metadata": {
    "slideshow": {
     "slide_type": "slide"
    }
   },
   "source": [
    "使用字典方法`D.get()`时，如果指定键值不存在，缺省会返回'None'。而实际上程序员本意是返回指定值。"
   ]
  },
  {
   "cell_type": "code",
   "execution_count": 29,
   "metadata": {
    "slideshow": {
     "slide_type": "-"
    }
   },
   "outputs": [],
   "source": [
    "def getcolor(color):\n",
    "    try:\n",
    "        color2vlaue = {'red': 0, 'yellow': 2, 'green': 4}\n",
    "        return color2value.get(color)\n",
    "    except KeyError:\n",
    "        raise NameError('Unknown color {}'.format(color))\n",
    "        \n",
    "getcolor('blue')        "
   ]
  },
  {
   "cell_type": "markdown",
   "metadata": {
    "slideshow": {
     "slide_type": "slide"
    }
   },
   "source": [
    "很多时候，是由于语义错误最终导致运行错误的。"
   ]
  },
  {
   "cell_type": "markdown",
   "metadata": {
    "slideshow": {
     "slide_type": "slide"
    }
   },
   "source": [
    "## 调试过程\n",
    "\n",
    "在有记录的第一次计算机调试中，取出那只飞虫很任意，不过找到它却耗费了几个小时的时间。故而从一开始，软件调试就包括了定位错误与去除错误这两个基本步骤。一个完整的调试过程有如下步骤组成。\n",
    "\n",
    "首先，**bug重现**。调试如同破案。一般出问题的软件运行在另一个地方的系统上，也就是说自己的调试系统并不是案发现场。所以，软件调试第一步就是在自己调试的系统上能够重现故障，就像案件重组一样。\n",
    "\n",
    "第二，**定位根源**。综合利用各种调试工具与手段，寻找导致软件错误的根源。用户上报的通常是软件错误的外在表现，必须从外在出发，找到内在原因。是需求与实现不一致？还是程序员心手不一？还是对Python的错误使用？\n",
    "\n",
    "第三，**bug修复**。根据寻找到的故障根源、紧迫程度，设计和实现修复bug方案。\n",
    "\n",
    "第四，**修复验证**，对修复进行测试。首先验证上报Bug是否有效清除，然后验证此次修复没有导致新的Bug。\n",
    "\n",
    "经过bug修复与修复验证的多次迭代，最终提交更改。"
   ]
  },
  {
   "cell_type": "markdown",
   "metadata": {
    "slideshow": {
     "slide_type": "slide"
    }
   },
   "source": [
    "## 调试的特点\n",
    "\n",
    "调试的难度大。调试要定位程序错误，就是从程序中逐步缩小搜索空间，最终锁定问题语句行或语句块。程序通常不会小，而且模块众多。这就要求程序员具有高超的分析能力，还得熟悉各个模块的架构和具体功能。此外，程序出现问题通常是程序员没想到的问题，通常是自己的软肋。\n",
    "\n",
    "软件调试具有广泛的关联性，与计算机硬件、操作系统、编程语言等密切相关，这就要求程序员对各个环节都有所了解，经验丰富，方能融汇贯通，进而快速解决软件问题。\n",
    "\n",
    "软件调试技术难度大，有很大的不确定性，故修复bug的时间也很难确定。软件项目工程又很紧张，常常导致软件问题简而化之或者不了了之。"
   ]
  },
  {
   "cell_type": "markdown",
   "metadata": {
    "slideshow": {
     "slide_type": "slide"
    }
   },
   "source": [
    "## 调试工具\n",
    "\n",
    "计算机最显著的一个特点就是“快”，现在日常用的计算机的计算速度也能达到一秒数亿次。而调试工具的一个特点就是“慢”，目的就是帮助人们来驾驭这台高速机器，利用调试工具，计算机可以暂停、慢速前进、直达目的地，任由程序员控制，最终发现软件 Bug。\n",
    "\n",
    "对于 Python 软件调试，有如下工具：\n",
    "- 日志输出\n",
    "- 命令行调试工具pdb\n",
    "- 图形界面调试工具pycharm"
   ]
  },
  {
   "cell_type": "markdown",
   "metadata": {
    "slideshow": {
     "slide_type": "slide"
    }
   },
   "source": [
    "### 日志输出\n",
    "\n",
    "很多时候，我们无法故障重现。那么日志就是程序提供的辅助调试手段。通过记录的日志信息，回放程序运行的过程，包括时间、地点与事件。通过日志信息，使得能够追踪软件问题发生的来龙去脉，找到案发的蛛丝马迹，最终找到故障根源。\n",
    "\n",
    "尽管 pdb 或 pycharm 都提供有先进的调试工具，日志输出仍然不能不替代。所以写程序时，尽量能够使用`logging`模块来输出日志信息。"
   ]
  },
  {
   "cell_type": "markdown",
   "metadata": {
    "slideshow": {
     "slide_type": "slide"
    }
   },
   "source": [
    "### pdb\n",
    "\n",
    "pdb是Python内置的标准库之一，可以使用pdb来调试程序。pdb能够帮助我们准确的定位错误，发现程序中Bug。Pdb也有一些限制，例如无法进行远程调试或多线程调试。"
   ]
  },
  {
   "cell_type": "markdown",
   "metadata": {
    "slideshow": {
     "slide_type": "slide"
    }
   },
   "source": [
    "### PyCharm调试器\n",
    "\n",
    "PyCharm提供了先进的图形界面调试工具，使得用户可以轻松调试。同时PyCharm支持远程调试和多线程调试等功能。"
   ]
  },
  {
   "cell_type": "markdown",
   "metadata": {
    "slideshow": {
     "slide_type": "slide"
    }
   },
   "source": [
    "## 更多\n",
    "\n",
    "软件调试不仅仅是用来软件“除虫”的。使用软件调试，可以深入触碰和探索从计算机硬件、操作系统、编程语言到程序的方方面面。故而在《格囊汇编》一书作者张银奎更是建议，把软件调试作为编程学习的一把利剑，一种方法。\n",
    "\n",
    "笔者深有同感。实际上，如果一个程序员不懂调试，很难谈得上对编程有深刻理解。这里推荐好朋友张银奎的两本书：\n",
    "- 《格囊汇编》，张银奎\n",
    "- 《软件调试》，张银奎"
   ]
  }
 ],
 "metadata": {
  "celltoolbar": "Slideshow",
  "kernelspec": {
   "display_name": "Python 3",
   "language": "python",
   "name": "python3"
  },
  "language_info": {
   "codemirror_mode": {
    "name": "ipython",
    "version": 3
   },
   "file_extension": ".py",
   "mimetype": "text/x-python",
   "name": "python",
   "nbconvert_exporter": "python",
   "pygments_lexer": "ipython3",
   "version": "3.6.4"
  },
  "toc": {
   "base_numbering": 1,
   "nav_menu": {},
   "number_sections": true,
   "sideBar": true,
   "skip_h1_title": false,
   "title_cell": "Table of Contents",
   "title_sidebar": "Contents",
   "toc_cell": false,
   "toc_position": {},
   "toc_section_display": true,
   "toc_window_display": false
  }
 },
 "nbformat": 4,
 "nbformat_minor": 2
}
