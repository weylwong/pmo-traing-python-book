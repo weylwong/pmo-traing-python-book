{
 "cells": [
  {
   "cell_type": "markdown",
   "metadata": {
    "slideshow": {
     "slide_type": "slide"
    }
   },
   "source": [
    "# Python项目开发脚手架\n",
    "\n",
    "一个 Python 项目开发过程会涉及到多个方面。随着项目开发日益增多，每个人或团队会形成相对固化的开发过程以及应用工具。使用脚手架工具，可以高效地创建出强大的应用程序。\n",
    "\n",
    "[cookiecutter](https://github.com/audreyr/cookiecutter)是使用Python编写的一个项目开发脚手架工具，支持大多数开发语言，例如Python、C、 C++、Java、LaTex、JS等。"
   ]
  },
  {
   "cell_type": "markdown",
   "metadata": {
    "slideshow": {
     "slide_type": "slide"
    }
   },
   "source": [
    "## 安装\n",
    "\n",
    "使用pip安装  \n",
    "```pip install cookiecutter\n",
    "```\n"
   ]
  },
  {
   "cell_type": "markdown",
   "metadata": {
    "slideshow": {
     "slide_type": "slide"
    }
   },
   "source": [
    "检查 cookiecutter 工具安装情况："
   ]
  },
  {
   "cell_type": "code",
   "execution_count": 1,
   "metadata": {
    "slideshow": {
     "slide_type": "-"
    }
   },
   "outputs": [
    {
     "name": "stdout",
     "output_type": "stream",
     "text": [
      "Usage: cookiecutter [OPTIONS] TEMPLATE [EXTRA_CONTEXT]...\n",
      "\n",
      "  Create a project from a Cookiecutter project template (TEMPLATE).\n",
      "\n",
      "  Cookiecutter is free and open source software, developed and managed by\n",
      "  volunteers. If you would like to help out or fund the project, please get\n",
      "  in touch at https://github.com/audreyr/cookiecutter.\n",
      "\n",
      "Options:\n",
      "  -V, --version              Show the version and exit.\n",
      "  --no-input                 Do not prompt for parameters and only use\n",
      "                             cookiecutter.json file content\n",
      "  -c, --checkout TEXT        branch, tag or commit to checkout after git clone\n",
      "  -v, --verbose              Print debug information\n",
      "  --replay                   Do not prompt for parameters and only use\n",
      "                             information entered previously\n",
      "  -f, --overwrite-if-exists  Overwrite the contents of the output directory if\n",
      "                             it already exists\n",
      "  -o, --output-dir PATH      Where to output the generated project dir into\n",
      "  --config-file PATH         User configuration file\n",
      "  --default-config           Do not load a config file. Use the defaults\n",
      "                             instead\n",
      "  --debug-file PATH          File to be used as a stream for DEBUG logging\n",
      "  -h, --help                 Show this message and exit.\n"
     ]
    }
   ],
   "source": [
    "!cookiecutter -h"
   ]
  },
  {
   "cell_type": "markdown",
   "metadata": {
    "slideshow": {
     "slide_type": "slide"
    }
   },
   "source": [
    "## 创建项目\n",
    "\n",
    "cookiecutter安装完毕后，就可以使用项目模板来创建项目。\n",
    "\n",
    "对于Python项目开发，有很多脚手架项目模板。`cookiecutter`项目团队自身维护了三个项目框架：\n",
    "- `cookecutter-pypackage`，Python包项目模板\n",
    "- `cookecutter-django`，Django项目模板\n",
    "- `cookecutter-pytest-plugin`，pytest插件项目迷你模板\n",
    "\n",
    "实际上，每个团队或个人都可以定制项目模板。"
   ]
  },
  {
   "cell_type": "markdown",
   "metadata": {
    "slideshow": {
     "slide_type": "slide"
    }
   },
   "source": [
    "### 克隆Python项目模板到本地目录\n",
    "\n",
    "使用`git`可能项目到本地目录：\n",
    "```\n",
    "git clone https://github.com/audreyr/cookiecutter-pypackage.git\n",
    "```"
   ]
  },
  {
   "cell_type": "markdown",
   "metadata": {
    "slideshow": {
     "slide_type": "slide"
    }
   },
   "source": [
    "在执行`cookiecutter`命令时，指定模板目录，即可创建一个Python项目:\n",
    "```sh\n",
    "cookiecutter /path/cookiecutter-pypackage\n",
    "```"
   ]
  },
  {
   "cell_type": "markdown",
   "metadata": {
    "slideshow": {
     "slide_type": "slide"
    }
   },
   "source": [
    "通常把脚手架项目模板存放到用户主目录下`~/.cookiecutters/`："
   ]
  },
  {
   "cell_type": "code",
   "execution_count": 4,
   "metadata": {
    "slideshow": {
     "slide_type": "-"
    }
   },
   "outputs": [
    {
     "name": "stdout",
     "output_type": "stream",
     "text": [
      "cookiecutter-isciencehub  cookiecutter-pypackage\r\n"
     ]
    }
   ],
   "source": [
    "!ls ~/.cookiecutters"
   ]
  },
  {
   "cell_type": "markdown",
   "metadata": {
    "slideshow": {
     "slide_type": "slide"
    }
   },
   "source": [
    "这样的话，在创建Python项目时，给出模板名字即可：\n",
    "```\n",
    "cookiecutter cookiecutter-pypackage\n",
    "```"
   ]
  },
  {
   "cell_type": "markdown",
   "metadata": {
    "slideshow": {
     "slide_type": "slide"
    }
   },
   "source": [
    "### 使用git仓库的项目模板\n",
    "\n",
    "使用`cookiecutter`创建项目时，也可以用git仓库的URL来指定项目模板，例如：\n",
    "```\n",
    "cookiecutter https://github.com/audreyr/cookiecutter-pypackage.git\n",
    "```\n",
    "\n",
    "实际上，还是会从git仓库克隆项目模板到特定目录`~/.cookiecutters/`，然后再来创建项目。"
   ]
  },
  {
   "cell_type": "markdown",
   "metadata": {
    "slideshow": {
     "slide_type": "slide"
    }
   },
   "source": [
    "### 项目创建用法\n",
    "\n",
    "使用`cookiecutter cookiecutter-pypackage` 创建项目时，有提示如下操作"
   ]
  },
  {
   "cell_type": "markdown",
   "metadata": {
    "slideshow": {
     "slide_type": "slide"
    }
   },
   "source": [
    "**用户全名**\n",
    "```\n",
    "full_name [Audrey Roy Greenfeld]:\n",
    "```\n",
    "\n",
    "**用户邮箱**\n",
    "```\n",
    "email [audreyr@example.com]:\n",
    "```\n",
    "\n",
    "**github用户名**\n",
    "```\n",
    "github_username [audreyr]:\n",
    "```"
   ]
  },
  {
   "cell_type": "markdown",
   "metadata": {
    "slideshow": {
     "slide_type": "slide"
    }
   },
   "source": [
    "**项目名**\n",
    "```\n",
    "project_name [Python Boilerplate]:\n",
    "```\n",
    "\n",
    "**项目简称**\n",
    "```\n",
    "project_slug [python_boilerplate]:\n",
    "```\n",
    "\n",
    "**项目简介**\n",
    "```\n",
    "project_short_description [Python Boilerplate contains all the boilerplate you need to create a Python package.]:\n",
    "```"
   ]
  },
  {
   "cell_type": "markdown",
   "metadata": {
    "slideshow": {
     "slide_type": "slide"
    }
   },
   "source": [
    "**pypi 用户**\n",
    "```\n",
    "pypi_username [audreyr]:\n",
    "```\n",
    "\n",
    "**项目初始版本**\n",
    "```\n",
    "version [0.1.0]:\n",
    "```\n",
    "\n",
    "**单元测试pytest**\n",
    "```\n",
    "use_pytest [n]:\n",
    "```"
   ]
  },
  {
   "cell_type": "markdown",
   "metadata": {
    "slideshow": {
     "slide_type": "-"
    }
   },
   "source": [
    "**travis集成部署**\n",
    "```\n",
    "use_pypi_deployment_with_travis [y]:\n",
    "```\n",
    "\n",
    "**pyup**\n",
    "```\n",
    "add_pyup_badge [n]:\n",
    "```\n",
    "\n",
    "**命令行接口**\n",
    "```\n",
    "Select command_line_interface:\n",
    "1 - Click\n",
    "2 - No command-line interface\n",
    "Choose from 1, 2 [1]:```"
   ]
  },
  {
   "cell_type": "markdown",
   "metadata": {
    "slideshow": {
     "slide_type": "-"
    }
   },
   "source": [
    "**创建用户文件**\n",
    "```\n",
    "create_author_file [y]: n\n",
    "```\n",
    "\n",
    "**代码版权**\n",
    "```\n",
    "Select open_source_license:\n",
    "1 - MIT license\n",
    "2 - BSD license\n",
    "3 - ISC license\n",
    "4 - Apache Software License 2.0\n",
    "5 - GNU General Public License v3\n",
    "6 - Not open source\n",
    "Choose from 1, 2, 3, 4, 5, 6 [1]:\n",
    "```"
   ]
  },
  {
   "cell_type": "markdown",
   "metadata": {
    "slideshow": {
     "slide_type": "slide"
    }
   },
   "source": [
    "### 项目框架\n",
    "\n",
    "项目创建完毕后，目录架构如下所示：\n",
    "\n",
    "```\n",
    "python_boilerplate\n",
    "├── CONTRIBUTING.rst\n",
    "├── docs\n",
    "│   ├── conf.py\n",
    "│   ├── contributing.rst\n",
    "│   ├── history.rst\n",
    "│   ├── index.rst\n",
    "│   ├── installation.rst\n",
    "│   ├── make.bat\n",
    "│   ├── Makefile\n",
    "│   ├── readme.rst\n",
    "│   └── usage.rst\n",
    "├── HISTORY.rst\n",
    "├── LICENSE\n",
    "├── Makefile\n",
    "├── MANIFEST.in\n",
    "├── python_boilerplate\n",
    "│   ├── __init__.py\n",
    "│   └── python_boilerplate.py\n",
    "├── README.rst\n",
    "├── requirements_dev.txt\n",
    "├── setup.cfg\n",
    "├── setup.py\n",
    "├── tests\n",
    "│   ├── __init__.py\n",
    "│   └── test_python_boilerplate.py\n",
    "└── tox.ini\n",
    "\n",
    "3 directories, 23 files\n",
    "```\n",
    "\n",
    "其中：\n",
    "- `python_boilerplate`为源代码所在目录\n",
    "- `tests`为测试代码所在目录\n",
    "- `docs`为文档所在目录"
   ]
  },
  {
   "cell_type": "markdown",
   "metadata": {
    "slideshow": {
     "slide_type": "slide"
    }
   },
   "source": [
    "## 定制项目模板\n",
    "\n",
    "对脚手架`cookiecutter`来说，目前有很多Python项目模板可供使用，例如`cookiecutter-pypackage`。在模板基础上进行简单修改，就可以快捷创建符合自己习惯的Python项目。"
   ]
  },
  {
   "cell_type": "markdown",
   "metadata": {
    "slideshow": {
     "slide_type": "slide"
    }
   },
   "source": [
    "### `cookiecutter.json`\n",
    "\n",
    "在模板`cookiecutter-pypackage`目录中，有一个`cookiecutter.json`文件，是JSON格式，包含的信息创建项目时提示及缺省值。"
   ]
  },
  {
   "cell_type": "markdown",
   "metadata": {
    "slideshow": {
     "slide_type": "slide"
    }
   },
   "source": [
    "```json\n",
    "{\n",
    "  \"full_name\": \"Audrey Roy Greenfeld\",\n",
    "  \"email\": \"audreyr@example.com\",\n",
    "  \"github_username\": \"audreyr\",\n",
    "  \"project_name\": \"Python Boilerplate\",\n",
    "  \"project_slug\": \"{{ cookiecutter.project_name.lower().replace(' ', '_').replace('-', '_') }}\",\n",
    "  \"project_short_description\": \"Python Boilerplate contains all the boilerplate you need to create a Python package.\",\n",
    "  \"pypi_username\": \"{{ cookiecutter.github_username }}\",\n",
    "  \"version\": \"0.1.0\",\n",
    "  \"use_pytest\": \"n\",\n",
    "  \"use_pypi_deployment_with_travis\": \"y\",\n",
    "  \"add_pyup_badge\": \"n\",\n",
    "  \"command_line_interface\": [\"Click\", \"No command-line interface\"],\n",
    "  \"create_author_file\": \"y\",\n",
    "  \"open_source_license\": [\"MIT license\", \"BSD license\", \"ISC license\", \"Apache Software License 2.0\", \"GNU General Public License v3\", \"Not open source\"]\n",
    "}\n",
    "```"
   ]
  },
  {
   "cell_type": "markdown",
   "metadata": {
    "slideshow": {
     "slide_type": "slide"
    }
   },
   "source": [
    "可以进行修改，符合自己需求："
   ]
  },
  {
   "cell_type": "code",
   "execution_count": 17,
   "metadata": {
    "slideshow": {
     "slide_type": "-"
    }
   },
   "outputs": [
    {
     "name": "stdout",
     "output_type": "stream",
     "text": [
      "Overwriting cookiecutter.json\n"
     ]
    }
   ],
   "source": [
    "%%writefile cookiecutter.json\n",
    "{\n",
    "  \"full_name\": \"Wang Weihua\",\n",
    "  \"email\": \"whwang@isciencehub.com\",\n",
    "  \"github_username\": \"whwang\",\n",
    "  \"project_name\": \"Python Package\",\n",
    "  \"project_slug\": \"{{ cookiecutter.project_name.lower().replace(' ', '_').replace('-', '_') }}\",\n",
    "  \"project_short_description\": \"Create a Python package.\",\n",
    "  \"pypi_username\": \"{{ cookiecutter.github_username }}\",\n",
    "  \"version\": \"0.1.0\",\n",
    "  \"use_pytest\": \"y\",\n",
    "  \"use_pypi_deployment_with_travis\": \"y\",\n",
    "  \"add_pyup_badge\": \"n\",\n",
    "  \"command_line_interface\": [\"No command-line interface\", \"Click\"],\n",
    "  \"create_author_file\": \"n\",\n",
    "  \"open_source_license\": [\"Not open source\", \"MIT license\", \"BSD license\", \"ISC license\", \"Apache Software License 2.0\", \"GNU General Public License v3\"]\n",
    "}\n"
   ]
  },
  {
   "cell_type": "markdown",
   "metadata": {
    "slideshow": {
     "slide_type": "slide"
    }
   },
   "source": [
    "可以把自己定制的项目模板上传到github或其它git仓库，作为团队或个人使用的项目模板。"
   ]
  },
  {
   "cell_type": "markdown",
   "metadata": {
    "slideshow": {
     "slide_type": "slide"
    }
   },
   "source": [
    "## 项目示例\n",
    "\n",
    "下面我们将通过一个简单的项目来演示Python软件开发过程。"
   ]
  },
  {
   "cell_type": "markdown",
   "metadata": {
    "slideshow": {
     "slide_type": "slide"
    }
   },
   "source": [
    "### 创建项目\n",
    "\n",
    "使用`cookiecutter`创建一个项目。\n",
    "```\n",
    "cookiecutter cookiecutter-pypackage\n",
    "```"
   ]
  },
  {
   "cell_type": "markdown",
   "metadata": {
    "slideshow": {
     "slide_type": "slide"
    }
   },
   "source": [
    "```\n",
    "$ cookiecutter cookiecutter-pypackage\n",
    "full_name [Wang Weihua]:\n",
    "email [whwang@isciencehub.com]:\n",
    "github_username [wangweihua]:\n",
    "project_name [Python Package]: A Simple Python Package\n",
    "project_slug [a_simple_python_package]: foobar\n",
    "project_short_description [Create a Python package.]: A simple python package for cookiecutter\n",
    "pypi_username [wangweihua]:\n",
    "version [0.1.0]:\n",
    "use_pytest [y]:\n",
    "use_pypi_deployment_with_travis [y]:\n",
    "add_pyup_badge [n]:\n",
    "Select command_line_interface:\n",
    "1 - No command-line interface\n",
    "2 - Click\n",
    "Choose from 1, 2 [1]:\n",
    "create_author_file [n]:\n",
    "Select open_source_license:\n",
    "1 - Not open source\n",
    "2 - MIT license\n",
    "3 - BSD license\n",
    "4 - ISC license\n",
    "5 - Apache Software License 2.0\n",
    "6 - GNU General Public License v3\n",
    "Choose from 1, 2, 3, 4, 5, 6 [1]:\n",
    "```"
   ]
  },
  {
   "cell_type": "markdown",
   "metadata": {
    "slideshow": {
     "slide_type": "slide"
    }
   },
   "source": [
    "### 创建git仓库\n",
    "\n",
    "使用git来进行版本控制管理。首先在`github`创建仓库`foobar`，作为项目的远程仓库。\n",
    "\n",
    "切换到项目目录\n",
    "```\n",
    "cd foobar\n",
    "```\n",
    "\n",
    "创建仓库，并添加文件，然后提交：\n",
    "```\n",
    "git init \n",
    "git add .\n",
    "git commit -m \"Initial skeleton.\"\n",
    "```\n",
    "\n",
    "添加github服务器的远程仓库，并推送到远程仓库：\n",
    "```sh\n",
    "git remote add origin https://github.com/wangweihua/foobar.git\n",
    "git push -u origin master\n",
    "```"
   ]
  },
  {
   "cell_type": "markdown",
   "metadata": {
    "slideshow": {
     "slide_type": "slide"
    }
   },
   "source": [
    "### 使用PyCharm环境\n",
    "\n",
    "使用PyCharm开发环境来创建foobar项目。设置项目解释器。\n",
    "\n",
    "需要注意的是PyCharm环境创建项目后，会创建`.idea`目录。是否在`.gitignore`文件中添加该目录，还存在不同意见，视乎个人情况决定。"
   ]
  },
  {
   "cell_type": "markdown",
   "metadata": {
    "slideshow": {
     "slide_type": "slide"
    }
   },
   "source": [
    "### 编写代码\n",
    "\n",
    "然后开始编写`foobar.py`文件。"
   ]
  },
  {
   "cell_type": "code",
   "execution_count": 15,
   "metadata": {
    "slideshow": {
     "slide_type": "slide"
    }
   },
   "outputs": [
    {
     "name": "stdout",
     "output_type": "stream",
     "text": [
      "Overwriting foobar.py\n"
     ]
    }
   ],
   "source": [
    "%%writefile foobar.py\n",
    "#!/usr/bin/env python\n",
    "# -*- coding: utf-8 -*-\n",
    "\n",
    "\n",
    "def multiply(a, b):\n",
    "    \"\"\"return a * b\n",
    "    \"\"\"\n",
    "    return a * b\n",
    "    \n",
    "    \n",
    "class Dog(object):\n",
    "    \"\"\"class for Dog\"\"\"\n",
    "    kind = 'canine'\n",
    "\n",
    "    def __init__(self, name):\n",
    "        self.name = name\n",
    "        self.tricks = []\n",
    "\n",
    "    def add_trick(self, trick):\n",
    "        \"\"\"add a trick\"\"\"\n",
    "        self.tricks.append(trick)    "
   ]
  },
  {
   "cell_type": "markdown",
   "metadata": {
    "slideshow": {
     "slide_type": "slide"
    }
   },
   "source": [
    "### 调试\n",
    "\n",
    "如果代码出现问题，使用PyCharm的调试功能进行调试。"
   ]
  },
  {
   "cell_type": "markdown",
   "metadata": {
    "slideshow": {
     "slide_type": "slide"
    }
   },
   "source": [
    "### 测试\n",
    "\n",
    "tests目录下面存放的是测试代码，在`test_foobr.py`文件中，编写如下代码"
   ]
  },
  {
   "cell_type": "markdown",
   "metadata": {},
   "source": [
    "```\n",
    "#!/usr/bin/env python\n",
    "# -*- coding: utf-8 -*-\n",
    "\"\"\"Tests for `foobar` package.\"\"\"\n",
    "import pytest\n",
    "from foobar.foobar import multiply, Dog\n",
    "\n",
    "\n",
    "def test_multiply_3_3():\n",
    "    assert multiply(3, 3) == 9\n",
    "\n",
    "\n",
    "def test_multiply_x_3():\n",
    "    assert multiply('x', 3) == 'xxx'\n",
    "\n",
    "\n",
    "def test_multiply_list_3():\n",
    "    res = multiply(['a', 'b'], 3)\n",
    "    assert res == ['a', 'b', 'a', 'b', 'a', 'b']\n",
    "\n",
    "\n",
    "@pytest.fixture()\n",
    "def twodog():\n",
    "    fido = Dog('Fido')\n",
    "    buddy = Dog('Buddy')\n",
    "    return fido, buddy\n",
    "\n",
    "\n",
    "class TestDog(object):\n",
    "    \"\"\"test case of function multiply\"\"\"\n",
    "\n",
    "    def test_name(self, twodog):\n",
    "        fido, buddy = twodog\n",
    "        assert fido.name == 'Fido'\n",
    "        assert fido.tricks == []\n",
    "\n",
    "    def test_add_trick(self, twodog):\n",
    "        fido, buddy = twodog\n",
    "        fido.add_trick('roll over')\n",
    "        assert 'roll over' in fido.tricks\n",
    "\n",
    "    def test_add_trick_02(self, twodog):\n",
    "        fido, buddy = twodog\n",
    "        fido.add_trick('play dead')\n",
    "        buddy.add_trick('play dead')\n",
    "        assert 'roll over' in fido.tricks\n",
    "        assert 'play dead' in fido.tricks\n",
    "        assert 'play dead' in buddy.tricks\n",
    "```"
   ]
  },
  {
   "cell_type": "markdown",
   "metadata": {
    "slideshow": {
     "slide_type": "slide"
    }
   },
   "source": [
    "使用快捷键`Ctrl+Shift+F10`运行测试代码，查看测试结果。"
   ]
  },
  {
   "cell_type": "markdown",
   "metadata": {
    "slideshow": {
     "slide_type": "slide"
    }
   },
   "source": [
    "使用如下方式运行测试：\n",
    "```\n",
    "make test\n",
    "```\n",
    "\n",
    "```\n",
    "python setup.py test\n",
    "```"
   ]
  },
  {
   "cell_type": "markdown",
   "metadata": {
    "slideshow": {
     "slide_type": "slide"
    }
   },
   "source": [
    "### 打包与上传\n",
    "\n",
    "程序编写完毕后，可以打包：\n",
    "```\n",
    "python setup.py sdist\n",
    "python setup.py bdist_wheel\n",
    "```\n",
    "\n",
    "或者使用\n",
    "```\n",
    "make dist\n",
    "```"
   ]
  },
  {
   "cell_type": "markdown",
   "metadata": {
    "slideshow": {
     "slide_type": "slide"
    }
   },
   "source": [
    "会创建如下文件：\n",
    "```\n",
    "$ tree dist\n",
    "dist\n",
    "├── foobar-0.1.0-py2.py3-none-any.whl\n",
    "└── foobar-0.1.0.tar.gz\n",
    "```"
   ]
  },
  {
   "cell_type": "markdown",
   "metadata": {
    "slideshow": {
     "slide_type": "slide"
    }
   },
   "source": [
    "自己编写的程序或模块可以打包上传到PyPi网站，需要实现在PyPi网站注册用户名。\n",
    "```\n",
    "make release\n",
    "```\n",
    "\n",
    "打包上传实际上使用了`twine`包发布工具。\n",
    "\n",
    "需要注意的是，上传的包不能与PyPi的包重名。"
   ]
  },
  {
   "cell_type": "markdown",
   "metadata": {
    "slideshow": {
     "slide_type": "slide"
    }
   },
   "source": [
    "## 小结\n",
    "\n",
    "Python 项目开发多了，可以进一步定制项目模块。"
   ]
  }
 ],
 "metadata": {
  "celltoolbar": "Slideshow",
  "kernelspec": {
   "display_name": "Python 3",
   "language": "python",
   "name": "python3"
  },
  "language_info": {
   "codemirror_mode": {
    "name": "ipython",
    "version": 3
   },
   "file_extension": ".py",
   "mimetype": "text/x-python",
   "name": "python",
   "nbconvert_exporter": "python",
   "pygments_lexer": "ipython3",
   "version": "3.6.4"
  },
  "toc": {
   "base_numbering": 1,
   "nav_menu": {},
   "number_sections": true,
   "sideBar": true,
   "skip_h1_title": false,
   "title_cell": "Table of Contents",
   "title_sidebar": "Contents",
   "toc_cell": false,
   "toc_position": {
    "height": "calc(100% - 180px)",
    "left": "10px",
    "top": "150px",
    "width": "165px"
   },
   "toc_section_display": true,
   "toc_window_display": true
  }
 },
 "nbformat": 4,
 "nbformat_minor": 2
}
