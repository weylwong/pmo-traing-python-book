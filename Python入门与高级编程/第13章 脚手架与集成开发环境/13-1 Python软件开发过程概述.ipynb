{
 "cells": [
  {
   "cell_type": "markdown",
   "metadata": {
    "slideshow": {
     "slide_type": "slide"
    }
   },
   "source": [
    "# Python 软件开发过程概述\n",
    "\n",
    "要吃红烧肉有两个方法：\n",
    "- 照着菜谱做；\n",
    "- 找个厨师。"
   ]
  },
  {
   "cell_type": "markdown",
   "metadata": {},
   "source": [
    "为了使用 Python 编程来解决显示问题，大家已经掌握 Python 的基础知识：\n",
    "\n",
    "Python 内置函数：\n",
    "\n",
    "| 1  | 2 |  3 | 4 | 5  |\n",
    "|:------|:------|:------|:------|:------||\n",
    "| `abs()` |\t`delattr()` |\t`hash()` |\t`memoryview()` |\t`set()` |\n",
    "| `all()` |\t`dict()` |\t`help()` |\t`min()` |\t`setattr()` |\n",
    "| `any()` |\t`dir()` |\t`hex()` |\t`next()` |\t`slice()` |\n",
    "| `ascii()` |\t`divmod()` |\t`id()` |\t`object()` |\t`sorted()` |\n",
    "| `bin()` |\t`enumerate()` |\t`input()` |\t`oct()` |\t`staticmethod()` |\n",
    "| `bool()` |\t`eval()` |\t`int()` |\t`open()` |\t`str()` |\n",
    "| `breakpoint()` |\t`exec()` |\t`isinstance()` |\t`ord()` |\t`sum()` |\n",
    "| `bytearray()` |\t`filter()` |\t`issubclass()` |\t`pow()` |\t`super()` |\n",
    "| `bytes()` |\t`float()` |\t`iter()` |\t`print()` |\t`tuple()` |\n",
    "| `callable()` |\t`format()` |\t`len()` |\t`property()` |\t`type()` |\n",
    "| `chr()` |\t`frozenset()` |\t`list()` |\t`range()` |\t`vars()` |\n",
    "| `classmethod()` |\t`getattr()` |\t`locals()` |\t`repr()` |\t`zip()` |\n",
    "| `compile()` |\t`globals()` |\t`map()` |\t`reversed()` |\t`__import__()` |\n",
    "| `complex()` |\t`hasattr()` |\t`max()` |\t`round()` | "
   ]
  },
  {
   "cell_type": "markdown",
   "metadata": {},
   "source": [
    "Python 内置的基本数据类型：\n",
    "- 数字（numerics）  \n",
    "    - 整数（int）\n",
    "    - 布尔数（bool）\n",
    "    - 浮点数（float）\n",
    "    - 复数（complex）\n",
    "- 文本\n",
    "    - 字符串（string）\n",
    "- 空\n",
    "    - 空（Nonetype）    \n",
    "    \n",
    "Python 内置的基本数据类型：\n",
    "- 序列（sequences）  \n",
    "    - 列表（list）\n",
    "    - 元祖（tuple）\n",
    "    - 集合（set）    \n",
    "- 映射（mapping）  \n",
    "    - 字典（dict）        "
   ]
  },
  {
   "cell_type": "markdown",
   "metadata": {},
   "source": [
    "已经能够使用这些基本类型和函数编写几十行语句，还能熟练使用流程控制语句（条件语句、循环语句，以及异常处理）来编写更长的语句块；进一步的能定义自己的函数或类；最后把这些函数、类与对象组织成自己模块和软件包。除了Python内置的类型与函数外，还熟悉了Python的标准库以及各种各样的第 3 方库。\n",
    "\n",
    "看起来，已经具备了去解决现实问题的能力。"
   ]
  },
  {
   "cell_type": "markdown",
   "metadata": {},
   "source": [
    "使用 Python 编程去解决现实世界中的一个问题，这会涉及到多方面的内容。除了 Python 编程语言之外，还需要对现实世界问题的调查和理解，对解决问题的人、财、物等关系的掌控。这里只讨论 Python 编程涉及的计算机问题，即使只限制在计算机范围讨论，还会涉及到方方面面的问题：\n",
    "- 计算机环境  \n",
    "在什么操作系统上开发，计算机部署在哪里？使用云计算环境吗？\n",
    "- 版本管理\n",
    "代码、数据如何管理，使用git版本控制系统吗\n",
    "- Python环境  \n",
    "使用 Python 虚拟环境吗？\n",
    "- 集成开发环境\n",
    "如何提高开发效率，使用何种集成开发环境？\n",
    "- 编码风格  \n",
    "每个人编码风格都不同一样，使用哪种编码风格呢？\n",
    "- 调试  \n",
    "程序处理问题，如何解决呢？\n",
    "- 测试   \n",
    "如果避免程序上线就崩掉呢？\n",
    "- 性能  \n",
    "程序跑的太慢了，如何提高性能？\n",
    "- 文档  \n",
    "这人要走，没有留下文档，程序看不懂啊。\n",
    "\n",
    "随着个人编写水平的提高或团队极限开发，可能还会涉及更多技能和工具。"
   ]
  },
  {
   "cell_type": "markdown",
   "metadata": {},
   "source": [
    "本章讲将简单介绍 Python 集成开发环境的使用，以及 Python 编程中必须掌握的调试和测试方法和工具。最后还介绍项目开发脚手架工具[cookiecutter](https://github.com/audreyr/cookiecutter)以及通过一个实例，来熟悉这些过程并融会贯通整个过程。"
   ]
  }
 ],
 "metadata": {
  "kernelspec": {
   "display_name": "Python 3",
   "language": "python",
   "name": "python3"
  },
  "language_info": {
   "codemirror_mode": {
    "name": "ipython",
    "version": 3
   },
   "file_extension": ".py",
   "mimetype": "text/x-python",
   "name": "python",
   "nbconvert_exporter": "python",
   "pygments_lexer": "ipython3",
   "version": "3.6.4"
  },
  "toc": {
   "base_numbering": 1,
   "nav_menu": {},
   "number_sections": true,
   "sideBar": true,
   "skip_h1_title": false,
   "title_cell": "Table of Contents",
   "title_sidebar": "Contents",
   "toc_cell": false,
   "toc_position": {
    "height": "calc(100% - 180px)",
    "left": "10px",
    "top": "150px",
    "width": "165px"
   },
   "toc_section_display": true,
   "toc_window_display": false
  }
 },
 "nbformat": 4,
 "nbformat_minor": 2
}
