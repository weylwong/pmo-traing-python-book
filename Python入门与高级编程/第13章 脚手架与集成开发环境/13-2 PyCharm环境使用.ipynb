{
 "cells": [
  {
   "cell_type": "markdown",
   "metadata": {
    "slideshow": {
     "slide_type": "slide"
    }
   },
   "source": [
    "# PyCharm环境使用说明\n",
    "\n",
    "PyCharm 是专门用 于Python 开发的集成开发环境，对 Django、Flask 等 Web 开发有特别支持。除此之外，PyCharm 缺省还支持 HTML5、CSS、JavaSscript 等语言。通过安装其他插件还可以支持其他语言。\n",
    "\n",
    "PyCharm是一个专业的集成开发环境，支持如下功能：\n",
    "- 项目管理\n",
    "- 语法高亮\n",
    "- 代码跳转\n",
    "- 智能提示\n",
    "- 自动完成\n",
    "- 调试\n",
    "- 单元测试\n",
    "- 版本控制"
   ]
  },
  {
   "cell_type": "markdown",
   "metadata": {
    "slideshow": {
     "slide_type": "slide"
    }
   },
   "source": [
    "## 快速开始\n",
    "\n",
    "下面介绍如何快速使用PyCharm软件开发Python程序。示例使用平台为Windows系统。"
   ]
  },
  {
   "cell_type": "markdown",
   "metadata": {
    "slideshow": {
     "slide_type": "slide"
    }
   },
   "source": [
    "### 打开或创建项目\n",
    "\n",
    "在PyCharm环境中，所有事情都是在项目（Project）的上下文中去完成的。也就是说，项目是智能助手、重构、编码风格兼容等的一个基础。\n",
    "\n",
    "在PyCharm启动后的欢迎页面中，提示有三种方法来创建或打开一个项目：\n",
    "- 打开已有项目\n",
    "- 检出已有项目\n",
    "- 创建新项目\n",
    "\n",
    "![欢迎页面](../images/pycharm_welcome.png)"
   ]
  },
  {
   "cell_type": "markdown",
   "metadata": {
    "slideshow": {
     "slide_type": "slide"
    }
   },
   "source": [
    "#### 创建新项目\n",
    "\n",
    "在欢迎界面选择【Create New Project】从零开始创建新项目。在弹出页面，首先选择项目位置，这里指定为`D:\\pywork\\helloworld`。\n",
    "\n",
    "选择项目使用的Python解释器，有两种选项：\n",
    "- 指定已有Pyhton解释器\n",
    "- 新建Python虚拟环境\n",
    "    - Virtualenv\n",
    "    - Pipenv\n",
    "    - Conda"
   ]
  },
  {
   "cell_type": "markdown",
   "metadata": {
    "slideshow": {
     "slide_type": "slide"
    }
   },
   "source": [
    "这里选择使用Pipenv来创建Python虚拟环境。\n",
    "![创建新项目](../images/pycharm_create_project_pipenv.png)"
   ]
  },
  {
   "cell_type": "markdown",
   "metadata": {
    "slideshow": {
     "slide_type": "slide"
    }
   },
   "source": [
    "PyCharm会会创建`pycharm-first`项目，同时使用Pipenv创建Python虚拟环境。项目创建完成后，出现如下界面\n",
    "![项目创建完成](../images/pycharm_project_created.png)"
   ]
  },
  {
   "cell_type": "markdown",
   "metadata": {
    "slideshow": {
     "slide_type": "slide"
    }
   },
   "source": [
    "#### 打开已有项目\n",
    "\n",
    "在欢迎页面选择【Open】，然后从用户目录中选择项目全路径。例如这里选择为`D:\\pywork\\pycharm-hello`，然后单击【OK】确认。\n",
    "\n",
    "![打开已有项目](../images/pycharm_opening_project.png)\n",
    "\n",
    "同样PyCharm会为源码目录创建项目。"
   ]
  },
  {
   "cell_type": "markdown",
   "metadata": {
    "slideshow": {
     "slide_type": "slide"
    }
   },
   "source": [
    "#### 检出已有项目\n",
    "\n",
    "在欢迎页面选择【Check out from Version Control】下来菜单，从中显示【Git】，然后从用户目录中选择项目全路径。例如这里选择为`D:\\pywork\\pycharm-hello`，然后单击【OK】确认。\n",
    "\n",
    "PyCharm会克隆远程仓库，同时也会创建一个项目。"
   ]
  },
  {
   "cell_type": "markdown",
   "metadata": {
    "slideshow": {
     "slide_type": "slide"
    }
   },
   "source": [
    "#### 定制项目的Python解释器\n",
    "\n",
    "Python项目开发总是要有一个Python解释器。在PyCharm中可以为项目定制Python解释器。选择【File】=>【Settings】（`Ctrl+Alt+S`），在弹出配置窗口，选择【Project Interpreter】会弹出Python解释器配置窗口。\n",
    "![定制Python解释器](../images/pycharm_settings_project_intepreter.png)\n",
    "\n",
    "\n",
    "在弹出窗选择【Project Interpreter】，单击项目解释器一栏最右边的按钮，并选择【Add...】，会弹出`Add Python Interpreter`窗口。\n",
    "![添加Python解释器](../images/pycharm_settings_project_intepreter_add.png)\n",
    "可以添加如下Python解释器：\n",
    "- 系统解释器\n",
    "- Pipenv虚拟环境\n",
    "- Virtualenv虚拟环境\n",
    "- Conda虚拟环境"
   ]
  },
  {
   "cell_type": "markdown",
   "metadata": {
    "slideshow": {
     "slide_type": "slide"
    }
   },
   "source": [
    "在Pycharm专业版本中，还支持\n",
    "- 远程Python解释器（SSH、Vagrant、WSL）\n",
    "- 基于Docker的解释器（Docker、Docker Compose）"
   ]
  },
  {
   "cell_type": "markdown",
   "metadata": {
    "slideshow": {
     "slide_type": "slide"
    }
   },
   "source": [
    "#### `.idea`目录\n",
    "\n",
    "当PyCharm创建一个项目后，会在项目中创建一个`.idea`的文件夹，用于PyCharm的项目管理。"
   ]
  },
  {
   "cell_type": "markdown",
   "metadata": {
    "slideshow": {
     "slide_type": "slide"
    }
   },
   "source": [
    "### PyCharm窗口浏览\n",
    "\n",
    "打开一个项目后，会看到一个分为多个工作区域的主窗口，如下图所示。\n",
    "![PyCharm工作区域](../images/pycharm_lookAroundThumb.png)"
   ]
  },
  {
   "cell_type": "markdown",
   "metadata": {
    "slideshow": {
     "slide_type": "slide"
    }
   },
   "source": [
    "1. 项目视图，显示项目文件\n",
    "2. 编辑器，代码编写的主战场。可以使用标签在打开文件中导航。\n",
    "3. 导航栏，用于快速运行、调试、以及版本控制操作\n",
    "4. 左边框，用于断点显示、代码导航、代码行、版本历史\n",
    "5. 右边框，代码审查显示，如错误、经过等。\n",
    "6. 工具窗口，绑定专业工具\n",
    "7. 状态栏，指示项目与IDE状态，显示警告，以及文件编码、行分隔符、断面检查等信息。"
   ]
  },
  {
   "cell_type": "markdown",
   "metadata": {
    "slideshow": {
     "slide_type": "slide"
    }
   },
   "source": [
    "在PyCharm窗口左下角，状态栏最左边，有一个按钮。鼠标在按钮上悬停一些时间，弹出一个列表窗口，列出了当前窗口有效工具列表来。\n",
    "![PyCharm有效工具列表](../images/pycharm_ToolWindowQuickAccess.png)"
   ]
  },
  {
   "cell_type": "markdown",
   "metadata": {
    "slideshow": {
     "slide_type": "slide"
    }
   },
   "source": [
    "### 定制环境\n",
    "\n",
    "PyCharm高度可定制化，可以定制出符合自己使用习惯的开发环境。选择【File】=>【Settings】（`Ctrl+Alt+S`），会弹出配置窗口。下面介绍一些可定制内容选项。"
   ]
  },
  {
   "cell_type": "markdown",
   "metadata": {
    "slideshow": {
     "slide_type": "slide"
    }
   },
   "source": [
    "#### 外观（Appearance）\n",
    "\n",
    "在配置窗口，选择【Appearance & Behavior】=>【Appearance】，可以选择不同的IDE主题，缺省是`Darcula`主题。\n",
    "![外观定制](../images/pycharm_settings_appearance.png)"
   ]
  },
  {
   "cell_type": "markdown",
   "metadata": {
    "slideshow": {
     "slide_type": "slide"
    }
   },
   "source": [
    "#### 编辑器（Editor）\n",
    "\n",
    "在配置窗口，选择【Editor】，有如下内容可供定制：\n",
    "- 通用\n",
    "- 字体\n",
    "- 颜色\n",
    "- 代码风格\n",
    "- 代码审查（Inspections）"
   ]
  },
  {
   "cell_type": "markdown",
   "metadata": {
    "slideshow": {
     "slide_type": "slide"
    }
   },
   "source": [
    "- 文件和代码模板（File and Code Templates）\n",
    "- 文件编码（File Encodings）\n",
    "- Live Templates\n",
    "- 文件类型（File Types）\n",
    "- Emmet"
   ]
  },
  {
   "cell_type": "markdown",
   "metadata": {
    "slideshow": {
     "slide_type": "slide"
    }
   },
   "source": [
    "- 图像（Images）\n",
    "- 意向（Intentions）\n",
    "- Language Injections\n",
    "- 拼写（Spelling）\n",
    "- TODO"
   ]
  },
  {
   "cell_type": "markdown",
   "metadata": {
    "slideshow": {
     "slide_type": "slide"
    }
   },
   "source": [
    "#### 快捷键\n",
    "\n",
    "PyCharm是以快捷键为中心的使用方法，其中大多数操作都对应有快捷键。\n",
    "\n",
    "在配置窗口，选择【Keymap】可以更改快捷键风格，也可以修改某些快捷键。这里使用缺省。\n",
    "\n",
    "![快捷键定制](../images/pycharm_settings_keymap.png)"
   ]
  },
  {
   "cell_type": "markdown",
   "metadata": {
    "slideshow": {
     "slide_type": "slide"
    }
   },
   "source": [
    "#### 其它\n",
    "\n",
    "其它可定制的内容还有：\n",
    "- 版本控制（Version Control）\n",
    "- 项目解释器（Project）\n",
    "- 编译、执行、部署（Build、Execution，Deployment）\n",
    "- 语言与框架（Languages&Frameworks）\n",
    "- 工具（Tools）"
   ]
  },
  {
   "cell_type": "markdown",
   "metadata": {
    "slideshow": {
     "slide_type": "slide"
    }
   },
   "source": [
    "### 编码智能提示\n",
    "\n",
    "PyCharm致力于用户专注。"
   ]
  },
  {
   "cell_type": "markdown",
   "metadata": {
    "slideshow": {
     "slide_type": "slide"
    }
   },
   "source": [
    "#### 代码补全\n",
    "\n",
    "代码补全大大节约了编程时间。"
   ]
  },
  {
   "cell_type": "markdown",
   "metadata": {
    "slideshow": {
     "slide_type": "slide"
    }
   },
   "source": [
    "### 保护代码简洁\n",
    "\n",
    "PyCharm会监视代码，并试图保持代码的正确与简洁。代码审查会检测存在的潜在错误与问题，并建议修改。\n",
    "\n",
    "集成开发环境会发现无用代码、无限循环或其它需要注意的事情，会使用灯泡图标来提示，使用快捷键`Alt+Enter`会进行修复。"
   ]
  },
  {
   "cell_type": "markdown",
   "metadata": {
    "slideshow": {
     "slide_type": "slide"
    }
   },
   "source": [
    "### 代码自动生成\n",
    "\n",
    "使用PyCharm能自动生成一些结构化代码，这有助于加快编写速度，提高效率。在【Code】=>【Generate】（`Alt+Insert`）会帮助创建代码。"
   ]
  },
  {
   "cell_type": "markdown",
   "metadata": {
    "slideshow": {
     "slide_type": "slide"
    }
   },
   "source": [
    "### 查找搜索\n",
    "\n",
    "当项目大到一定程度，或者在阅读他人代码时，准确快速查找内容，对深入研究代码至关重要。"
   ]
  },
  {
   "cell_type": "markdown",
   "metadata": {
    "slideshow": {
     "slide_type": "slide"
    }
   },
   "source": [
    "####  基本搜索\n",
    "\n",
    "可以在指定范围内，查找替换任何片段代码，包括：\n",
    "- 当前打开文件（`Ctrl+F`）\n",
    "- 整个项目（`Ctrl+Shift+F）`）"
   ]
  },
  {
   "cell_type": "markdown",
   "metadata": {
    "slideshow": {
     "slide_type": "slide"
    }
   },
   "source": [
    "### 运行、调试与测试\n",
    "\n",
    "初始时导航栏上的【运行】和【调试】都是灰色的，是无法点击使用的。要想使用，需要先创建一个运行调试配置。在PyCharm中要想对代码进行运行、调试、测试操作时，实际上开启了基于配置的一个进程。\n",
    "\n",
    "选择【Run】=>【Edit Configurations】会打开【Run/Debug Configurations】窗口。在窗口单击【加号】按钮添加一个配置。\n",
    "\n",
    "在配置界面需要指定如下：\n",
    "- 配置名字\n",
    "- 脚本路径\n",
    "- 指定脚本参数（Script parameters）\n",
    "- Python解释器\n",
    "\n",
    "其它还包括\n",
    "- 环境变量\n",
    "- 解释器选项\n",
    "- 工作路径\n",
    "\n",
    "![添加运行调试配置](../images/pycharm_configurations_add.png)"
   ]
  },
  {
   "cell_type": "markdown",
   "metadata": {
    "slideshow": {
     "slide_type": "slide"
    }
   },
   "source": [
    "创建运行调试配置后，使用快捷键`Shift+F10`可以运行该配置。"
   ]
  },
  {
   "cell_type": "markdown",
   "metadata": {
    "slideshow": {
     "slide_type": "slide"
    }
   },
   "source": [
    "#### 运行\n",
    "\n",
    "在代码编辑区域按右键，选择**Run [name]**（或`Ctrl+Shift+F10`），会快捷创建一个配置文件，同时运行配置文件。\n",
    "\n",
    "如果Python脚本中包含**__main__**语句，在左边框会有一个执行按钮，单击并选择相应命令。"
   ]
  },
  {
   "cell_type": "markdown",
   "metadata": {
    "slideshow": {
     "slide_type": "slide"
    }
   },
   "source": [
    "#### 调试\n",
    "\n",
    "如果程序在运行时出现错误异常，可以使用调试来查找问题解决问题。\n",
    "\n",
    "在程序代码中，找到期望终端暂停的代码行，在其左边框处单击，就会出现断点标识。\n",
    "\n",
    "使用快捷键`Shift+F9`，可以快速启动程序的调试。使用**Run**菜单下选项或调试工具窗口按钮，就可以单步执行、计算表达式，添加变量监视等。\n",
    "\n",
    "![调试窗口](../images/pycharm_configurations_debug.png)"
   ]
  },
  {
   "cell_type": "markdown",
   "metadata": {
    "slideshow": {
     "slide_type": "slide"
    }
   },
   "source": [
    "#### 测试\n",
    "\n",
    "测试自己的程序总是不错，使用PyCharm会让测试变得简单。\n",
    "\n",
    "PyCharm支持如下测试框架：\n",
    "- Doctest\n",
    "- Unittest\n",
    "- Nosetest\n",
    "- py.test"
   ]
  },
  {
   "cell_type": "markdown",
   "metadata": {
    "slideshow": {
     "slide_type": "slide"
    }
   },
   "source": [
    "### 代码版本控制\n",
    "\n",
    "使用版本控制系统来管理代码应该成为程序员的标配。PyCharm集成了常见的版本控制系统，如Git等。选择【File】=>【Settings】=>【Version Control】进行配置。\n",
    "\n",
    "选择【VCS】【Show Changes】（`Alt + 9`）用来查看更动。"
   ]
  },
  {
   "cell_type": "markdown",
   "metadata": {
    "slideshow": {
     "slide_type": "slide"
    }
   },
   "source": [
    "## 快捷键使用\n",
    "\n",
    "PyCharm大多操作都可以使用快捷键。熟练使用快捷键也会大大提高编写速度。"
   ]
  },
  {
   "cell_type": "markdown",
   "metadata": {
    "slideshow": {
     "slide_type": "slide"
    }
   },
   "source": [
    "### 编辑（Editing）"
   ]
  },
  {
   "cell_type": "markdown",
   "metadata": {
    "slideshow": {
     "slide_type": "slide"
    }
   },
   "source": [
    "### 运行（Running）"
   ]
  },
  {
   "cell_type": "markdown",
   "metadata": {
    "slideshow": {
     "slide_type": "slide"
    }
   },
   "source": [
    "### 调试(Debugging)"
   ]
  },
  {
   "cell_type": "markdown",
   "metadata": {
    "slideshow": {
     "slide_type": "slide"
    }
   },
   "source": [
    "### 导航（Navigation）"
   ]
  },
  {
   "cell_type": "markdown",
   "metadata": {
    "slideshow": {
     "slide_type": "slide"
    }
   },
   "source": [
    "### 搜索替换（Search/Replace）"
   ]
  },
  {
   "cell_type": "markdown",
   "metadata": {
    "slideshow": {
     "slide_type": "slide"
    }
   },
   "source": [
    "### 功能替换（Usage Search）"
   ]
  },
  {
   "cell_type": "markdown",
   "metadata": {
    "slideshow": {
     "slide_type": "slide"
    }
   },
   "source": [
    "### 重构（Refactoring）"
   ]
  },
  {
   "cell_type": "markdown",
   "metadata": {
    "slideshow": {
     "slide_type": "slide"
    }
   },
   "source": [
    "### 版本控制（VCS）"
   ]
  },
  {
   "cell_type": "markdown",
   "metadata": {
    "slideshow": {
     "slide_type": "slide"
    }
   },
   "source": [
    "### （Live Templates）"
   ]
  },
  {
   "cell_type": "markdown",
   "metadata": {
    "slideshow": {
     "slide_type": "slide"
    }
   },
   "source": [
    "### 通用（General）"
   ]
  },
  {
   "cell_type": "markdown",
   "metadata": {
    "slideshow": {
     "slide_type": "slide"
    }
   },
   "source": [
    "## 偏好定制"
   ]
  },
  {
   "cell_type": "markdown",
   "metadata": {
    "slideshow": {
     "slide_type": "slide"
    }
   },
   "source": [
    "### 配色\n",
    "\n",
    "在[File]-->[Settings]的Editor的子选项中设置配色方案（Colors Scheme）\n",
    "\n",
    "![pycharm配色方案](../images/pycharm_colorscheme.png)"
   ]
  },
  {
   "cell_type": "markdown",
   "metadata": {
    "slideshow": {
     "slide_type": "slide"
    }
   },
   "source": [
    "### 设置字体大小\n",
    "\n",
    "PyCharm在windows和macOS下，都能很好的运行。缺点是启动慢，默认字体太小。可以把字体调整大一些。\n",
    "\n",
    "选择【Settings】=>【Editor】=>【Font】=>【size】调整字体大小。\n",
    "![调整字体大小](../images/pycharm_fontsize.png)"
   ]
  },
  {
   "cell_type": "markdown",
   "metadata": {
    "slideshow": {
     "slide_type": "slide"
    }
   },
   "source": [
    "## 参考文献\n",
    "\n",
    "- <https://www.jianshu.com/p/2bfc19e1381c>\n",
    "- <https://www.jetbrains.com/help/pycharm/quick-start-guide.html>"
   ]
  }
 ],
 "metadata": {
  "celltoolbar": "Slideshow",
  "kernelspec": {
   "display_name": "Python 3",
   "language": "python",
   "name": "python3"
  },
  "language_info": {
   "codemirror_mode": {
    "name": "ipython",
    "version": 3
   },
   "file_extension": ".py",
   "mimetype": "text/x-python",
   "name": "python",
   "nbconvert_exporter": "python",
   "pygments_lexer": "ipython3",
   "version": "3.6.4"
  },
  "toc": {
   "base_numbering": 1,
   "nav_menu": {},
   "number_sections": true,
   "sideBar": true,
   "skip_h1_title": false,
   "title_cell": "Table of Contents",
   "title_sidebar": "Contents",
   "toc_cell": false,
   "toc_position": {
    "height": "calc(100% - 180px)",
    "left": "10px",
    "top": "150px",
    "width": "383px"
   },
   "toc_section_display": true,
   "toc_window_display": true
  }
 },
 "nbformat": 4,
 "nbformat_minor": 2
}
