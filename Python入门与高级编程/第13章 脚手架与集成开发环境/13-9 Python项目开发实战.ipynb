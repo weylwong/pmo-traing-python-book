{
 "cells": [
  {
   "cell_type": "markdown",
   "metadata": {
    "slideshow": {
     "slide_type": "slide"
    }
   },
   "source": [
    "# Python项目开发实战\n",
    "\n",
    "本节通过一个实战项目，结合Python项目的开发过程，来融汇贯通各个章节内容。"
   ]
  },
  {
   "cell_type": "markdown",
   "metadata": {
    "slideshow": {
     "slide_type": "slide"
    }
   },
   "source": [
    "## 创建项目\n",
    "\n",
    "使用`cookiecutter`创建一个项目。\n",
    "```\n",
    "cookiecutter cookiecutter-pypackage\n",
    "```"
   ]
  },
  {
   "cell_type": "markdown",
   "metadata": {
    "slideshow": {
     "slide_type": "slide"
    }
   },
   "source": [
    "```\n",
    "$ cookiecutter cookiecutter-pypackage\n",
    "full_name [Wang Weihua]:\n",
    "email [whwang@isciencehub.com]:\n",
    "github_username [wangweihua]:\n",
    "project_name [Python Package]: A Simple Python Package\n",
    "project_slug [a_simple_python_package]: foobar\n",
    "project_short_description [Create a Python package.]: A simple python package for cookiecutter\n",
    "pypi_username [wangweihua]:\n",
    "version [0.1.0]:\n",
    "use_pytest [y]:\n",
    "use_pypi_deployment_with_travis [y]:\n",
    "add_pyup_badge [n]:\n",
    "Select command_line_interface:\n",
    "1 - No command-line interface\n",
    "2 - Click\n",
    "Choose from 1, 2 [1]:\n",
    "create_author_file [n]:\n",
    "Select open_source_license:\n",
    "1 - Not open source\n",
    "2 - MIT license\n",
    "3 - BSD license\n",
    "4 - ISC license\n",
    "5 - Apache Software License 2.0\n",
    "6 - GNU General Public License v3\n",
    "Choose from 1, 2, 3, 4, 5, 6 [1]:\n",
    "```"
   ]
  },
  {
   "cell_type": "markdown",
   "metadata": {
    "slideshow": {
     "slide_type": "slide"
    }
   },
   "source": [
    "### 创建git仓库\n",
    "\n",
    "使用git来进行版本控制管理。"
   ]
  },
  {
   "cell_type": "markdown",
   "metadata": {
    "slideshow": {
     "slide_type": "slide"
    }
   },
   "source": [
    "首先在`github`创建仓库`foobar`，作为项目的远程仓库。"
   ]
  },
  {
   "cell_type": "markdown",
   "metadata": {
    "slideshow": {
     "slide_type": "slide"
    }
   },
   "source": [
    "切换到项目目录\n",
    "```\n",
    "cd foobar\n",
    "```"
   ]
  },
  {
   "cell_type": "markdown",
   "metadata": {
    "slideshow": {
     "slide_type": "-"
    }
   },
   "source": [
    "创建仓库，并添加文件，然后提交：\n",
    "```\n",
    "git init \n",
    "git add .\n",
    "git commit -m \"Initial skeleton.\"\n",
    "```"
   ]
  },
  {
   "cell_type": "markdown",
   "metadata": {
    "slideshow": {
     "slide_type": "slide"
    }
   },
   "source": [
    "添加github服务器的远程仓库，并推送到远程仓库：\n",
    "```sh\n",
    "git remote add origin https://github.com/wangweihua/foobar.git\n",
    "git push -u origin master\n",
    "```"
   ]
  },
  {
   "cell_type": "markdown",
   "metadata": {
    "slideshow": {
     "slide_type": "slide"
    }
   },
   "source": [
    "### 创建虚拟环境\n",
    "\n",
    "`cookiecutter-pypackage`项目可以使用`virtualenv`作为虚拟环境管理工具。"
   ]
  },
  {
   "cell_type": "markdown",
   "metadata": {},
   "source": [
    "#### 使用`virtualenv`创建虚拟环境"
   ]
  },
  {
   "cell_type": "markdown",
   "metadata": {
    "slideshow": {
     "slide_type": "slide"
    }
   },
   "source": [
    "使用`virtualenv`创建虚拟环境\n",
    "```\n",
    "virtualenv ~/.virtualenvs/foobar\n",
    "```"
   ]
  },
  {
   "cell_type": "markdown",
   "metadata": {
    "slideshow": {
     "slide_type": "-"
    }
   },
   "source": [
    "激活虚拟环境：\n",
    "```\n",
    "source ~/.virtualenvs/foobar/bin/activate\n",
    "```"
   ]
  },
  {
   "cell_type": "markdown",
   "metadata": {
    "slideshow": {
     "slide_type": "slide"
    }
   },
   "source": [
    "然后安装软件开发所需要的模块：\n",
    "```\n",
    "pip install -r requirements_dev.txt\n",
    "```"
   ]
  },
  {
   "cell_type": "markdown",
   "metadata": {
    "slideshow": {
     "slide_type": "slide"
    }
   },
   "source": [
    "#### 使用`pipenv`创建虚拟环境\n",
    "\n",
    "可以使用`pipenv`工具来创建虚拟环境。\n",
    "```\n",
    "pipenv install --pypi-mirror https://pypi.tuna.tsinghua.edu.cn/simple\n",
    "```"
   ]
  },
  {
   "cell_type": "markdown",
   "metadata": {
    "slideshow": {
     "slide_type": "-"
    }
   },
   "source": [
    "会创建两个文件：\n",
    "```\n",
    "Pipfile\n",
    "Pipfile.lock\n",
    "```"
   ]
  },
  {
   "cell_type": "markdown",
   "metadata": {
    "slideshow": {
     "slide_type": "slide"
    }
   },
   "source": [
    "安装开发环境模块：\n",
    "```\n",
    "pipenv install --dev -r requirements_dev.txt\n",
    "```"
   ]
  },
  {
   "cell_type": "markdown",
   "metadata": {
    "slideshow": {
     "slide_type": "slide"
    }
   },
   "source": [
    "把pipenv的管理文件添加到仓库，并提交。\n",
    "```\n",
    "git add Pipfile Pipfile.lock\n",
    "git ci -m \"add virtualenv with pipenv\"\n",
    "```"
   ]
  },
  {
   "cell_type": "markdown",
   "metadata": {
    "slideshow": {
     "slide_type": "slide"
    }
   },
   "source": [
    "### 使用PyCharm环境\n",
    "\n",
    "使用PyCharm开发环境来创建foobar项目。"
   ]
  },
  {
   "cell_type": "markdown",
   "metadata": {
    "slideshow": {
     "slide_type": "-"
    }
   },
   "source": [
    "设置项目解释器，更改为Pipenv虚拟环境。"
   ]
  },
  {
   "cell_type": "markdown",
   "metadata": {
    "slideshow": {
     "slide_type": "slide"
    }
   },
   "source": [
    "需要注意的是PyCharm环境创建项目后，会创建`.idea`目录。是否在`.gitignore`文件中添加该目录，还存在不同意见，视乎个人情况决定。"
   ]
  },
  {
   "cell_type": "markdown",
   "metadata": {
    "slideshow": {
     "slide_type": "slide"
    }
   },
   "source": [
    "### 编写代码\n",
    "\n",
    "然后开始编写`foobar.py`文件。"
   ]
  },
  {
   "cell_type": "code",
   "execution_count": 15,
   "metadata": {
    "slideshow": {
     "slide_type": "slide"
    }
   },
   "outputs": [
    {
     "name": "stdout",
     "output_type": "stream",
     "text": [
      "Overwriting foobar.py\n"
     ]
    }
   ],
   "source": [
    "%%writefile foobar.py\n",
    "#!/usr/bin/env python\n",
    "# -*- coding: utf-8 -*-\n",
    "\n",
    "\n",
    "def multiply(a, b):\n",
    "    \"\"\"return a * b\n",
    "    \"\"\"\n",
    "    return a * b\n",
    "    \n",
    "    \n",
    "class Dog(object):\n",
    "    \"\"\"class for Dog\"\"\"\n",
    "    kind = 'canine'\n",
    "\n",
    "    def __init__(self, name):\n",
    "        self.name = name\n",
    "        self.tricks = []\n",
    "\n",
    "    def add_trick(self, trick):\n",
    "        \"\"\"add a trick\"\"\"\n",
    "        self.tricks.append(trick)    "
   ]
  },
  {
   "cell_type": "markdown",
   "metadata": {
    "slideshow": {
     "slide_type": "slide"
    }
   },
   "source": [
    "### 编码风格\n",
    "\n",
    "检查代码编程风格，支持Pep8标准。"
   ]
  },
  {
   "cell_type": "markdown",
   "metadata": {
    "slideshow": {
     "slide_type": "slide"
    }
   },
   "source": [
    "使用PyCharm的代码检查功能，检查右边框是否有警告错误"
   ]
  },
  {
   "cell_type": "markdown",
   "metadata": {
    "slideshow": {
     "slide_type": "-"
    }
   },
   "source": [
    "使用项目的Makefile文件，运行：\n",
    "```\n",
    "make lint\n",
    "```"
   ]
  },
  {
   "cell_type": "markdown",
   "metadata": {
    "slideshow": {
     "slide_type": "slide"
    }
   },
   "source": [
    "### 调试\n",
    "\n",
    "如果代码出现问题，使用PyCharm的调试功能进行调试。"
   ]
  },
  {
   "cell_type": "markdown",
   "metadata": {
    "slideshow": {
     "slide_type": "slide"
    }
   },
   "source": [
    "### 测试\n",
    "\n",
    "tests目录下面存放的是测试代码，在`test_foobr.py`文件中，编写如下代码"
   ]
  },
  {
   "cell_type": "markdown",
   "metadata": {},
   "source": [
    "```\n",
    "#!/usr/bin/env python\n",
    "# -*- coding: utf-8 -*-\n",
    "\"\"\"Tests for `foobar` package.\"\"\"\n",
    "import pytest\n",
    "from foobar.foobar import multiply, Dog\n",
    "\n",
    "\n",
    "def test_multiply_3_3():\n",
    "    assert multiply(3, 3) == 9\n",
    "\n",
    "\n",
    "def test_multiply_x_3():\n",
    "    assert multiply('x', 3) == 'xxx'\n",
    "\n",
    "\n",
    "def test_multiply_list_3():\n",
    "    res = multiply(['a', 'b'], 3)\n",
    "    assert res == ['a', 'b', 'a', 'b', 'a', 'b']\n",
    "\n",
    "\n",
    "@pytest.fixture()\n",
    "def twodog():\n",
    "    fido = Dog('Fido')\n",
    "    buddy = Dog('Buddy')\n",
    "    return fido, buddy\n",
    "\n",
    "\n",
    "class TestDog(object):\n",
    "    \"\"\"test case of function multiply\"\"\"\n",
    "\n",
    "    def test_name(self, twodog):\n",
    "        fido, buddy = twodog\n",
    "        assert fido.name == 'Fido'\n",
    "        assert fido.tricks == []\n",
    "\n",
    "    def test_add_trick(self, twodog):\n",
    "        fido, buddy = twodog\n",
    "        fido.add_trick('roll over')\n",
    "        assert 'roll over' in fido.tricks\n",
    "\n",
    "    def test_add_trick_02(self, twodog):\n",
    "        fido, buddy = twodog\n",
    "        fido.add_trick('play dead')\n",
    "        buddy.add_trick('play dead')\n",
    "        assert 'roll over' in fido.tricks\n",
    "        assert 'play dead' in fido.tricks\n",
    "        assert 'play dead' in buddy.tricks\n",
    "```"
   ]
  },
  {
   "cell_type": "markdown",
   "metadata": {
    "slideshow": {
     "slide_type": "slide"
    }
   },
   "source": [
    "使用快捷键`Ctrl+Shift+F10`运行测试代码，查看测试结果。"
   ]
  },
  {
   "cell_type": "markdown",
   "metadata": {
    "slideshow": {
     "slide_type": "slide"
    }
   },
   "source": [
    "使用如下方式运行测试：\n",
    "```\n",
    "make test\n",
    "```\n",
    "\n",
    "```\n",
    "python setup.py test\n",
    "```"
   ]
  },
  {
   "cell_type": "markdown",
   "metadata": {
    "slideshow": {
     "slide_type": "slide"
    }
   },
   "source": [
    "### 优化\n",
    "\n",
    "使用`cProfile`编写测试脚本。"
   ]
  },
  {
   "cell_type": "markdown",
   "metadata": {
    "slideshow": {
     "slide_type": "slide"
    }
   },
   "source": [
    "### 扩展\n",
    "\n",
    "使用`Cython`编写脚本转换，创建二进制模块。"
   ]
  },
  {
   "cell_type": "markdown",
   "metadata": {
    "slideshow": {
     "slide_type": "slide"
    }
   },
   "source": [
    "### 文档\n",
    "\n",
    "使用sphinx来管理文档。"
   ]
  },
  {
   "cell_type": "markdown",
   "metadata": {
    "slideshow": {
     "slide_type": "slide"
    }
   },
   "source": [
    "### 打包与上传\n",
    "\n",
    "程序编写完毕后，可以打包：\n",
    "```\n",
    "python setup.py sdist\n",
    "python setup.py bdist_wheel\n",
    "```"
   ]
  },
  {
   "cell_type": "markdown",
   "metadata": {
    "slideshow": {
     "slide_type": "-"
    }
   },
   "source": [
    "或者使用\n",
    "```\n",
    "make dist\n",
    "```"
   ]
  },
  {
   "cell_type": "markdown",
   "metadata": {
    "slideshow": {
     "slide_type": "slide"
    }
   },
   "source": [
    "会创建如下文件：\n",
    "```\n",
    "$ tree dist\n",
    "dist\n",
    "├── foobar-0.1.0-py2.py3-none-any.whl\n",
    "└── foobar-0.1.0.tar.gz\n",
    "```"
   ]
  },
  {
   "cell_type": "markdown",
   "metadata": {
    "slideshow": {
     "slide_type": "slide"
    }
   },
   "source": [
    "自己编写的程序或模块可以打包上传到PyPi网站，需要实现在PyPi网站注册用户名。\n",
    "```\n",
    "make release\n",
    "```"
   ]
  },
  {
   "cell_type": "markdown",
   "metadata": {
    "slideshow": {
     "slide_type": "-"
    }
   },
   "source": [
    "打包上传实际上使用了`twine`包发布工具。"
   ]
  },
  {
   "cell_type": "markdown",
   "metadata": {
    "slideshow": {
     "slide_type": "-"
    }
   },
   "source": [
    "需要注意的是，上传的包不能与PyPi的包重名。"
   ]
  },
  {
   "cell_type": "markdown",
   "metadata": {
    "slideshow": {
     "slide_type": "slide"
    }
   },
   "source": [
    "## 小结\n",
    "\n",
    "Python项目开发多了，可以进一步定制项目模块。"
   ]
  }
 ],
 "metadata": {
  "celltoolbar": "Slideshow",
  "kernelspec": {
   "display_name": "Python 3",
   "language": "python",
   "name": "python3"
  },
  "language_info": {
   "codemirror_mode": {
    "name": "ipython",
    "version": 3
   },
   "file_extension": ".py",
   "mimetype": "text/x-python",
   "name": "python",
   "nbconvert_exporter": "python",
   "pygments_lexer": "ipython3",
   "version": "3.6.4"
  },
  "toc": {
   "base_numbering": 1,
   "nav_menu": {},
   "number_sections": true,
   "sideBar": true,
   "skip_h1_title": false,
   "title_cell": "Table of Contents",
   "title_sidebar": "Contents",
   "toc_cell": false,
   "toc_position": {
    "height": "calc(100% - 180px)",
    "left": "10px",
    "top": "150px",
    "width": "165px"
   },
   "toc_section_display": true,
   "toc_window_display": false
  }
 },
 "nbformat": 4,
 "nbformat_minor": 2
}
