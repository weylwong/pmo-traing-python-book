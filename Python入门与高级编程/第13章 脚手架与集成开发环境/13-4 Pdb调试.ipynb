{
 "cells": [
  {
   "cell_type": "markdown",
   "metadata": {
    "slideshow": {
     "slide_type": "slide"
    }
   },
   "source": [
    "# pdb调试工具\n",
    "\n",
    "pdb 是一个 Python 内置的标准库，是一个 Python 调试工具。pdb 提供了交互式命令行源码调试功能，包括如下主要特性：\n",
    "- 断点设置\n",
    "- 单步调试\n",
    "- 进入函数\n",
    "- 查看代码\n",
    "- 查看栈片段\n",
    "- 动态改变变量"
   ]
  },
  {
   "cell_type": "markdown",
   "metadata": {
    "slideshow": {
     "slide_type": "slide"
    }
   },
   "source": [
    "pdb 提供了一些常用命令，如下表所示，后续将逐一使用。\n",
    "\n",
    "| 命令 | 说明  |\n",
    "|:-----|:------|\n",
    "| `break`, `b` | 设置断点 |\n",
    "| `tbreak`| 临时设置断点 |\n",
    "| `conditon`| 设置条件断点 |\n",
    "| `clear`, `cl` | 清除断点 |\n",
    "| `until`| 持续执行直到运行到指定行 |\n",
    "| `jump`, `j`| 持续执行直到运行到指定行 |\n",
    "| `list`, `l` | 查看当前行的代码块 |\n",
    "| `longlist`, `ll` | 查看当前行的更多代码块 |\n",
    "| `next`, `n` | 执行下一行 |\n",
    "| `step`, `s` | 进入函数 |\n",
    "| `reurn`, `r` | 执行代码知道从当前函数返回 |\n",
    "| `exit`, `quit`, `q` | 终止并退出 |\n",
    "| `print`, `p`| 打印变量 |\n",
    "| `pp`| 打印变量的值 |"
   ]
  },
  {
   "cell_type": "markdown",
   "metadata": {
    "slideshow": {
     "slide_type": "slide"
    }
   },
   "source": [
    "## 启动 pdb\n",
    "\n",
    "使用 pdb 工具可以把高速运行的Python程序慢下来，像放电影一样，自己来控制程序的运行。\n",
    "\n",
    "下面先编写一个能够正常运行的Python程序："
   ]
  },
  {
   "cell_type": "code",
   "execution_count": 1,
   "metadata": {
    "slideshow": {
     "slide_type": "slide"
    }
   },
   "outputs": [
    {
     "name": "stdout",
     "output_type": "stream",
     "text": [
      "Overwriting debug_demo01.py\n"
     ]
    }
   ],
   "source": [
    "%%writefile debug_demo01.py\n",
    "#!/usr/bin/env python\n",
    "# -*- coding: utf-8 -*-\n",
    "# Copyright (c) 2018--2023, Wang Weihua.\n",
    "# All rights reserved.\n",
    "\"\"\"pdb demo program\"\"\"\n",
    "\n",
    "\n",
    "class SimpleClass(object):\n",
    "    \"\"\"simple class\"\"\"\n",
    "    def __init__(self):\n",
    "        self.number = 0\n",
    "\n",
    "    def increment(self):\n",
    "        \"\"\"increment 1\"\"\"\n",
    "        self.number += 1\n",
    "\n",
    "\n",
    "def afunc(var):\n",
    "    \"\"\"a function\"\"\"\n",
    "    result = 0\n",
    "    print(type(var), id(var), var)\n",
    "    if isinstance(var, int):\n",
    "        for i in range(var):\n",
    "            result += i\n",
    "\n",
    "    return result\n",
    "\n",
    "\n",
    "def main():\n",
    "    \"\"\"main entry\"\"\"\n",
    "    result = afunc(5)\n",
    "    sa = SimpleClass()\n",
    "    sa.increment()\n",
    "    print(result, sa.number)\n",
    "\n",
    "\n",
    "if __name__ == '__main__':\n",
    "    main()\n"
   ]
  },
  {
   "cell_type": "markdown",
   "metadata": {
    "slideshow": {
     "slide_type": "slide"
    }
   },
   "source": [
    "在命令行下，输入如下命令就进入调试状态：\n",
    "```\n",
    "python -m pdb debug_demo01.py\n",
    "```"
   ]
  },
  {
   "cell_type": "markdown",
   "metadata": {
    "slideshow": {
     "slide_type": "slide"
    }
   },
   "source": [
    "如果运行成功，结果如图所示：\n",
    "```\n",
    "> /home/whwang/training/python-expert/debug/debug_demo01.py(5)<module>()\n",
    "-> \"\"\"pdb demo program\"\"\"\n",
    "(Pdb)\n",
    "```"
   ]
  },
  {
   "cell_type": "markdown",
   "metadata": {
    "slideshow": {
     "slide_type": "slide"
    }
   },
   "source": [
    "箭头`->`所指内容，为准备运行的当前语句：\n",
    "```\n",
    "-> \"\"\"pdb demo program\"\"\"\n",
    "```\n",
    "\n",
    "下一行是pdb的提示符为`(Pdb)`。在该提示符下，可以输入pdb命令。"
   ]
  },
  {
   "cell_type": "markdown",
   "metadata": {
    "slideshow": {
     "slide_type": "slide"
    }
   },
   "source": [
    "键入`help`命令并回车，会列出pdb常用命令：\n",
    "```\n",
    "(Pdb) help\n",
    "\n",
    "Documented commands (type help <topic>):\n",
    "========================================\n",
    "EOF    c          d        h         list      q        rv       undisplay\n",
    "a      cl         debug    help      ll        quit     s        unt\n",
    "alias  clear      disable  ignore    longlist  r        source   until\n",
    "args   commands   display  interact  n         restart  step     up\n",
    "b      condition  down     j         next      return   tbreak   w\n",
    "break  cont       enable   jump      p         retval   u        whatis\n",
    "bt     continue   exit     l         pp        run      unalias  where\n",
    "\n",
    "Miscellaneous help topics:\n",
    "==========================\n",
    "exec  pdb\n",
    "\n",
    "```"
   ]
  },
  {
   "cell_type": "markdown",
   "metadata": {
    "slideshow": {
     "slide_type": "slide"
    }
   },
   "source": [
    "执行`exit`命令，会终止并退出软件调试。"
   ]
  },
  {
   "cell_type": "markdown",
   "metadata": {
    "slideshow": {
     "slide_type": "slide"
    }
   },
   "source": [
    "## 单步运行和查看\n",
    "\n",
    "Python程序按照顺序自上而下运行，跳过注释行，首先来到文档字符串语句。\n",
    "\n",
    "使用`list`命令会列出当前语句前后的语句块，同时会用箭头`->`来提醒当前语句；使用`ll`会列出更多代码块。\n",
    "\n",
    "使用`next`命令会执行当前语句，并来到下一行语句，注意会跳过注释行以及空行。\n",
    "\n",
    "执行`next`语句时，会一下子跳过`def`与`class`定义语句块。也就是说，定义语句块只是定义，并没有调用其中的语句，只要语法正确是不会出错的。"
   ]
  },
  {
   "cell_type": "markdown",
   "metadata": {
    "slideshow": {
     "slide_type": "slide"
    }
   },
   "source": [
    "运行到`if`语句\n",
    "```\n",
    "(Pdb) l\n",
    " 32         sa = SimpleClass()\n",
    " 33         sa.increment()\n",
    " 34         print(result, sa.number)\n",
    " 35\n",
    " 36\n",
    " 37  -> if __name__ == '__main__':\n",
    " 38         main()\n",
    "[EOF]\n",
    "```\n",
    "再运行`next`命令时，会根据条件判断结果，跳到分支语句块中。"
   ]
  },
  {
   "cell_type": "markdown",
   "metadata": {
    "slideshow": {
     "slide_type": "slide"
    }
   },
   "source": [
    "pdb控制程序来到\n",
    "```\n",
    "(Pdb) n\n",
    "> d:\\training\\debug_demo01.py(38)<module>()\n",
    "-> main()\n",
    "(Pdb)\n",
    "```"
   ]
  },
  {
   "cell_type": "markdown",
   "metadata": {
    "slideshow": {
     "slide_type": "slide"
    }
   },
   "source": [
    "在调用函数`main()`时，可以做如下选择：\n",
    "- 如果使用命令`next`，会把当前语句执行完毕，进入下一行；\n",
    "- 如果使用命令`step`，会进入`main`函数空间。"
   ]
  },
  {
   "cell_type": "markdown",
   "metadata": {
    "slideshow": {
     "slide_type": "slide"
    }
   },
   "source": [
    "这里使用命令`step`，并使用`list`命令查看：\n",
    "```\n",
    "(Pdb) l\n",
    " 24                 result += i\n",
    " 25\n",
    " 26         return result\n",
    " 27\n",
    " 28\n",
    " 29  -> def main():\n",
    " 30         \"\"\"main entry\"\"\"\n",
    " 31         result = afunc(5)\n",
    " 32         sa = SimpleClass()\n",
    " 33         sa.increment()\n",
    " 34         print(result, sa.number)\n",
    "(Pdb)\n",
    "```"
   ]
  },
  {
   "cell_type": "markdown",
   "metadata": {
    "slideshow": {
     "slide_type": "slide"
    }
   },
   "source": [
    "会发现，pdb又来到了`main`函数定义语句，与上次不同的是，继续使用`next`命令，会进入到`main`函数的第一行语句。\n",
    "```\n",
    "(Pdb) n\n",
    "> d:\\training\\debug_demo01.py(31)main()\n",
    "-> result = afunc(5)\n",
    "```"
   ]
  },
  {
   "cell_type": "markdown",
   "metadata": {
    "slideshow": {
     "slide_type": "slide"
    }
   },
   "source": [
    "同样可以继续使用`step`命令，进入`afunc()`函数空间内部，继续进行pdb调试。使用`next`命令会继续单步执行下去，来到`for`循环语句：\n",
    "```\n",
    "(Pdb) next\n",
    "> d:\\training\\debug_demo01.py(23)afunc()\n",
    "-> for i in range(var):\n",
    "```"
   ]
  },
  {
   "cell_type": "markdown",
   "metadata": {
    "slideshow": {
     "slide_type": "slide"
    }
   },
   "source": [
    "在循环语句，使用`next`命令会反复运行循环体内的语句，可以使用`p`显示变量值。"
   ]
  },
  {
   "cell_type": "markdown",
   "metadata": {
    "slideshow": {
     "slide_type": "slide"
    }
   },
   "source": [
    "如果认为函数体内没有什么问题，可以使用命令`return`，执行函数体内余下语句，并从当前函数返回。"
   ]
  },
  {
   "cell_type": "markdown",
   "metadata": {
    "slideshow": {
     "slide_type": "slide"
    }
   },
   "source": [
    "来到构建对象语句：\n",
    "```\n",
    "(Pdb) n\n",
    "> d:\\training\\debug_demo01.py(32)main()\n",
    "-> sa = SimpleClass()\n",
    "(Pdb) l\n",
    " 27\n",
    " 28\n",
    " 29     def main():\n",
    " 30         \"\"\"main entry\"\"\"\n",
    " 31         result = afunc(5)\n",
    " 32  ->     sa = SimpleClass()\n",
    " 33         sa.increment()\n",
    " 34         print(result, sa.number)\n",
    " 35\n",
    " 36\n",
    " 37     if __name__ == '__main__':\n",
    "(Pdb)\n",
    "```"
   ]
  },
  {
   "cell_type": "markdown",
   "metadata": {
    "slideshow": {
     "slide_type": "slide"
    }
   },
   "source": [
    "同样可以用命令`next`或`step`，选择执行或进入类构造方法。"
   ]
  },
  {
   "cell_type": "markdown",
   "metadata": {
    "slideshow": {
     "slide_type": "slide"
    }
   },
   "source": [
    "使用`step`命令，返回如下：\n",
    "```\n",
    "(Pdb) s\n",
    "--Call--\n",
    "> d:\\training\\debug_demo01.py(10)__init__()\n",
    "-> def __init__(self):\n",
    "(Pdb)     \n",
    "```"
   ]
  },
  {
   "cell_type": "markdown",
   "metadata": {
    "slideshow": {
     "slide_type": "slide"
    }
   },
   "source": [
    "最后，使用命令`exit`退出调试。"
   ]
  },
  {
   "cell_type": "markdown",
   "metadata": {
    "slideshow": {
     "slide_type": "slide"
    }
   },
   "source": [
    "如上所示，使用 pdb 调试工具可以让 Python 程序慢下来，时停时走，间或查看语句执行结果，像会看电影一样，把程序的运行过程看了个清清楚楚明明白白。"
   ]
  },
  {
   "cell_type": "markdown",
   "metadata": {
    "slideshow": {
     "slide_type": "slide"
    }
   },
   "source": [
    "## 飞跳运行\n",
    "\n",
    "上一节，使用`next`或`step`等命令，逐行调试Python程序语句，使得我们能深入理解程序运行过程。然而，在调试程序定位Bug时，常常需要加快运行速度，一步到达指定位置。可以通过设置断点或通过指定语句行数来实现。\n",
    "\n",
    "启动pdb调试器后，会来到程序的第一行语句。现在打算直接跳到第21行语句：\n",
    "```\n",
    "    print(type(var), id(var), var)\n",
    "```\n",
    "\n",
    "可以通过设置pdb命令`break`设置断点，其使用语法包括如下：\n",
    "- `break lineno`，在指定行设置断点；\n",
    "- `break filename:lineno` ，在指定文件指定行设置断点；\n",
    "- `break functionname`，在指定函数名的第一行语句设置断点\n",
    "```"
   ]
  },
  {
   "cell_type": "markdown",
   "metadata": {
    "slideshow": {
     "slide_type": "slide"
    }
   },
   "source": [
    "这里使用如下命令：\n",
    "```\n",
    "(Pdb) break 21\n",
    "Breakpoint 1 at d:\\training\\debug_demo01.py:21\n",
    "(Pdb)\n",
    "```"
   ]
  },
  {
   "cell_type": "markdown",
   "metadata": {
    "slideshow": {
     "slide_type": "slide"
    }
   },
   "source": [
    "然后使用`continue`命令，会持续执行以下语句，知道遇到第一个断点：\n",
    "```\n",
    "(Pdb) continue\n",
    "> d:\\training\\debug_demo01.py(21)afunc()\n",
    "-> print(type(var), id(var), var)\n",
    "(Pdb)\n",
    "```"
   ]
  },
  {
   "cell_type": "markdown",
   "metadata": {
    "slideshow": {
     "slide_type": "slide"
    }
   },
   "source": [
    "有时候，需要临时添加一个断点，例如在第11行语句：\n",
    "```\n",
    "        self.number = 0\n",
    "```"
   ]
  },
  {
   "cell_type": "markdown",
   "metadata": {
    "slideshow": {
     "slide_type": "-"
    }
   },
   "source": [
    "可以使用`tbreak`来设置断点。其语法与`break`命令类似，但是执行一次后，会自动删除。\n",
    "```\n",
    "(Pdb) tbreak 11\n",
    "Breakpoint 2 at d:\\training\\debug_demo01.py:11\n",
    "(Pdb)\n",
    "```"
   ]
  },
  {
   "cell_type": "markdown",
   "metadata": {
    "slideshow": {
     "slide_type": "slide"
    }
   },
   "source": [
    "不跟选项，执行命令`break`会列出所有断点，包括临时断点：\n",
    "```\n",
    "(Pdb) b\n",
    "Num Type         Disp Enb   Where\n",
    "1   breakpoint   keep yes   at d:\\training\\debug_demo01.py:21\n",
    "        breakpoint already hit 1 time\n",
    "2   breakpoint   del  yes   at d:\\training\\debug_demo01.py:11\n",
    "(Pdb)\n",
    "```"
   ]
  },
  {
   "cell_type": "markdown",
   "metadata": {
    "slideshow": {
     "slide_type": "slide"
    }
   },
   "source": [
    "设断点置后，可以使用命令`clear`来删除断点，其命令语法为：\n",
    "- `clear`，清除所有断点；\n",
    "- `clear filename:lineno`，清除指定文件行的断点；\n",
    "- `clear bpnumber [bpnumber ...]`，清除指定断点。"
   ]
  },
  {
   "cell_type": "markdown",
   "metadata": {
    "slideshow": {
     "slide_type": "slide"
    }
   },
   "source": [
    "例如，删除编号为1的断点：\n",
    "```\n",
    "(Pdb) cl 1\n",
    "Deleted breakpoint 1 at d:\\training\\debug_demo01.py:21\n",
    "(Pdb) b\n",
    "Num Type         Disp Enb   Where\n",
    "2   breakpoint   del  yes   at d:\\training\\debug_demo01.py:11\n",
    "(Pdb)\n",
    "```"
   ]
  },
  {
   "cell_type": "markdown",
   "metadata": {
    "slideshow": {
     "slide_type": "slide"
    }
   },
   "source": [
    "使用`until`命令，并指定行数，可以持续执行直到运行到指定行（或遇到断点）。\n",
    "\n",
    "也可以使用`jump`命令，也指定行数，同样持续执行直到运行到指定行（或遇到断点）。\n",
    "\n",
    "这两个命令，可以更快捷运行到指定行数。"
   ]
  },
  {
   "cell_type": "markdown",
   "metadata": {
    "slideshow": {
     "slide_type": "slide"
    }
   },
   "source": [
    "## 条件断点\n",
    "\n",
    "在循环语句设置断点，那么每次循环都会在该断点中断。有时候需要在指定条件下才会中断，可以使用`condition`来设置条件断点。\n",
    "\n",
    "例如，需要在第24行语句：\n",
    "```\n",
    "            result += i\n",
    "```\n",
    "设置条件断点，条件为`result == 3\"时中断。"
   ]
  },
  {
   "cell_type": "markdown",
   "metadata": {
    "slideshow": {
     "slide_type": "slide"
    }
   },
   "source": [
    "首先使用`break`设置断点，然后再使用`condition`命令设置条件：\n",
    "```\n",
    "(Pdb) b 24\n",
    "Breakpoint 1 at d:\\training\\debug_demo01.py:24\n",
    "(Pdb) condition 1 result == 3\n",
    "New condition set for breakpoint 1.\n",
    "(Pdb) b\n",
    "Num Type         Disp Enb   Where\n",
    "1   breakpoint   keep yes   at d:\\training\\debug_demo01.py:24\n",
    "        stop only if result == 3\n",
    "(Pdb)\n",
    "```"
   ]
  },
  {
   "cell_type": "markdown",
   "metadata": {
    "slideshow": {
     "slide_type": "slide"
    }
   },
   "source": [
    "条件断点设置完毕后，运行命令`continue`，检查是否符合条件：\n",
    "```\n",
    "(Pdb) c\n",
    "<class 'int'> 1838444128 5\n",
    "> d:\\training\\debug_demo01.py(24)afunc()\n",
    "-> result += i\n",
    "(Pdb) p result\n",
    "3\n",
    "(Pdb)\n",
    "```"
   ]
  },
  {
   "cell_type": "markdown",
   "metadata": {
    "slideshow": {
     "slide_type": "slide"
    }
   },
   "source": [
    "## 更改变量\n",
    "\n",
    "在用pdb调试程序时，有时需要临时更改某个变量，以便尝试程序运行过程，可以在感叹号`!`后跟语句来改变变量。如果变量名不是pdb保留的命令，可以省略`!`。\n",
    "\n",
    "例如在第21行语句：\n",
    "```\n",
    "    print(type(var), id(var), var)\n",
    "```\n",
    "程序传入的参数为整数5，我们可以更改为字符串`hello`，再来看看后续如何运行。"
   ]
  },
  {
   "cell_type": "markdown",
   "metadata": {
    "slideshow": {
     "slide_type": "slide"
    }
   },
   "source": [
    "```\n",
    "(Pdb) var = 'hello'\n",
    "(Pdb) p var\n",
    "'hello'\n",
    "(Pdb) n\n",
    "<class 'str'> 2213549452176 hello\n",
    "> d:\\training\\debug_demo01.py(22)afunc()\n",
    "-> if isinstance(var, int):\n",
    "(Pdb)\n",
    "> d:\\training\\debug_demo01.py(26)afunc()\n",
    "-> return result\n",
    "```"
   ]
  },
  {
   "cell_type": "markdown",
   "metadata": {
    "slideshow": {
     "slide_type": "slide"
    }
   },
   "source": [
    "## 查看栈帧\n",
    "\n",
    "使用pdb调试Python程序，开始时处于主程序中，当使用`step`命令，进入所调用函数体，也就是进入函数空间，可以用栈帧来表示。\n",
    "\n",
    "**pdb有关栈帧的命令**\n",
    "\n",
    "| 命令 | 说明  |\n",
    "|:-----|:------|\n",
    "| `args`, `a`| 列出当前函数的参数 |\n",
    "| `bt` | 查看调用堆栈 |\n",
    "| `where`| 打印当前执行堆栈 |\n",
    "| `up`, `u`| 执行跳转到当前堆栈的上一层 |\n",
    "| `down`, `d`| 执行跳转到在当前堆栈的深一层 |"
   ]
  },
  {
   "cell_type": "markdown",
   "metadata": {
    "slideshow": {
     "slide_type": "slide"
    }
   },
   "source": [
    "例如，运行到第20行语句：\n",
    "```\n",
    "    result = 0\n",
    "```\n",
    "\n",
    "该语句是调用`main()`中的`afunc()`函数。"
   ]
  },
  {
   "cell_type": "markdown",
   "metadata": {},
   "source": [
    "使用`args`命令查看函数参数：\n",
    "```\n",
    "(Pdb) c\n",
    "> d:\\training\\debug_demo01.py(20)afunc()\n",
    "-> result = 0\n",
    "(Pdb) args\n",
    "var = 5\n",
    "(Pdb)\n",
    "```"
   ]
  },
  {
   "cell_type": "markdown",
   "metadata": {
    "slideshow": {
     "slide_type": "slide"
    }
   },
   "source": [
    "使用命令`bt`或`where`查看对应堆栈：\n",
    "```\n",
    "(Pdb) bt\n",
    "  c:\\anaconda3\\lib\\bdb.py(431)run()\n",
    "-> exec(cmd, globals, locals)\n",
    "  <string>(1)<module>()\n",
    "  d:\\training\\debug_demo01.py(38)<module>()\n",
    "-> main()\n",
    "  d:\\training\\debug_demo01.py(31)main()\n",
    "-> result = afunc(5)\n",
    "> d:\\training\\debug_demo01.py(20)afunc()\n",
    "-> result = 0\n",
    "```"
   ]
  },
  {
   "cell_type": "markdown",
   "metadata": {
    "slideshow": {
     "slide_type": "slide"
    }
   },
   "source": [
    "使用命令`up`回到上一层堆栈：\n",
    "```\n",
    "(Pdb) u\n",
    "> d:\\training\\debug_demo01.py(31)main()\n",
    "-> result = afunc(5)\n",
    "(Pdb) where\n",
    "  c:\\anaconda3\\lib\\bdb.py(431)run()\n",
    "-> exec(cmd, globals, locals)\n",
    "  <string>(1)<module>()\n",
    "  d:\\training\\debug_demo01.py(38)<module>()\n",
    "-> main()\n",
    "> d:\\training\\debug_demo01.py(31)main()\n",
    "-> result = afunc(5)\n",
    "  d:\\training\\debug_demo01.py(20)afunc()\n",
    "-> result = 0\n",
    "(Pdb)\n",
    "```"
   ]
  },
  {
   "cell_type": "markdown",
   "metadata": {
    "slideshow": {
     "slide_type": "slide"
    }
   },
   "source": [
    "## 小结\n",
    "\n",
    "pdb 对多线程，远程调试支持得不够好，没有使用图形界面有些人会觉得不太方便，使用 PyCharm 可以使用图形界面调试，不过调试过程与 pdb 是类似的。"
   ]
  }
 ],
 "metadata": {
  "celltoolbar": "Slideshow",
  "kernelspec": {
   "display_name": "Python 3",
   "language": "python",
   "name": "python3"
  },
  "language_info": {
   "codemirror_mode": {
    "name": "ipython",
    "version": 3
   },
   "file_extension": ".py",
   "mimetype": "text/x-python",
   "name": "python",
   "nbconvert_exporter": "python",
   "pygments_lexer": "ipython3",
   "version": "3.6.4"
  },
  "toc": {
   "base_numbering": 1,
   "nav_menu": {},
   "number_sections": true,
   "sideBar": true,
   "skip_h1_title": false,
   "title_cell": "Table of Contents",
   "title_sidebar": "Contents",
   "toc_cell": false,
   "toc_position": {},
   "toc_section_display": true,
   "toc_window_display": false
  }
 },
 "nbformat": 4,
 "nbformat_minor": 2
}
