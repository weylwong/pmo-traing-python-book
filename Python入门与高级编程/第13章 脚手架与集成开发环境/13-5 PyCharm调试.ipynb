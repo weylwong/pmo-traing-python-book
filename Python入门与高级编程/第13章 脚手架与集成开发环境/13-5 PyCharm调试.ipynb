{
 "cells": [
  {
   "cell_type": "markdown",
   "metadata": {
    "slideshow": {
     "slide_type": "slide"
    }
   },
   "source": [
    "# PyCharm调试\n",
    "\n",
    "PyCharm提供了图形化的、完善的调试功能，支持断点设置，单步模式，表达式求值，变量查看等功能，特别是支持多线程，远程调试等pdb不具备的功能，\n",
    "\n",
    "在运行调试之前，复习一下在PyCharm中设置运行/调试配置文件的相关知识。也就是说，在运行或调试程序之前，先设置运行/调试配置文件。\n",
    "\n",
    "仍然使用pdb用过的程序来演示使用PyCharm调试器的使用："
   ]
  },
  {
   "cell_type": "code",
   "execution_count": 1,
   "metadata": {
    "slideshow": {
     "slide_type": "slide"
    }
   },
   "outputs": [
    {
     "name": "stdout",
     "output_type": "stream",
     "text": [
      "Overwriting debug_demo01.py\n"
     ]
    }
   ],
   "source": [
    "%%writefile debug_demo01.py\n",
    "#!/usr/bin/env python\n",
    "# -*- coding: utf-8 -*-\n",
    "# Copyright (c) 2018--2023, Wang Weihua.\n",
    "# All rights reserved.\n",
    "\"\"\"pdb demo program\"\"\"\n",
    "\n",
    "\n",
    "class SimpleClass(object):\n",
    "    \"\"\"simple class\"\"\"\n",
    "    def __init__(self):\n",
    "        self.number = 0\n",
    "\n",
    "    def increment(self):\n",
    "        \"\"\"increment 1\"\"\"\n",
    "        self.number += 1\n",
    "\n",
    "\n",
    "def afunc(var):\n",
    "    \"\"\"a function\"\"\"\n",
    "    result = 0\n",
    "    print(type(var), id(var), var)\n",
    "    if isinstance(var, int):\n",
    "        for i in range(var):\n",
    "            result += i\n",
    "\n",
    "    return result\n",
    "\n",
    "\n",
    "def main():\n",
    "    \"\"\"main entry\"\"\"\n",
    "    result = afunc(5)\n",
    "    sa = SimpleClass()\n",
    "    sa.increment()\n",
    "    print(result, sa.number)\n",
    "\n",
    "\n",
    "if __name__ == '__main__':\n",
    "    main()\n"
   ]
  },
  {
   "cell_type": "markdown",
   "metadata": {
    "slideshow": {
     "slide_type": "slide"
    }
   },
   "source": [
    "## 设置断点\n",
    "\n",
    "在PyCharm中调试程序，首先要设置断点。选中对应代码行，有两种方法可以设置断点：\n",
    "- 单击左边框的空白处\n",
    "- 按下`Ctrl+F8`快捷键\n",
    "\n",
    "例如在第20行设置断点，结果如下图所示：\n",
    "![设置断点](../images/pycharm_debug_break.png)\n",
    "\n",
    "选中已设置断点的语句行，再次单击左边框的空白处或者按`Ctrl+F8`快捷键，会取消断点设置"
   ]
  },
  {
   "cell_type": "markdown",
   "metadata": {
    "slideshow": {
     "slide_type": "slide"
    }
   },
   "source": [
    "在第24行语句也设置断点，然后按`Ctrl+Shift+F8`快捷键，会弹出窗口用来断点修改窗口，在该窗口可以设置条件断点，如`result == 3`。\n",
    "\n",
    "![条件断点](../images/pycharm_debug_break_condtion.png)\n",
    "\n",
    "可以看出断点图标已经有所改变，如下图所示：\n",
    "![断点图标](../images/pycharm_debug_breaks.png)"
   ]
  },
  {
   "cell_type": "markdown",
   "metadata": {},
   "source": [
    "使用快捷键`Ctrl+Shift+F8`还可以用来查看所有断点。\n",
    "![查看全部断点](../images/pycharm_debug_breakpoints.png)"
   ]
  },
  {
   "cell_type": "markdown",
   "metadata": {
    "slideshow": {
     "slide_type": "slide"
    }
   },
   "source": [
    "## 调试运行\n",
    "\n",
    "设置好断点后，单击工具栏中的绿色蜘蛛按钮，或者按`Shift+F9`开始调试，并在第一个断点出停止。\n",
    "\n",
    "![运行调试](../images/pycharm_debug_start.png)\n",
    "\n",
    "在控制台窗口有下图如下：\n",
    "![调试控制台](../images/pycharm_debug_windows.png)"
   ]
  },
  {
   "cell_type": "markdown",
   "metadata": {
    "slideshow": {
     "slide_type": "slide"
    }
   },
   "source": [
    "控制台窗口有如下内容：\n",
    "- Debugger页\n",
    "    - Frames\n",
    "    - Variables\n",
    "- Console页\n",
    "    - ipython\n",
    "- 工具栏\n",
    "- Debug控制按钮"
   ]
  },
  {
   "cell_type": "markdown",
   "metadata": {
    "slideshow": {
     "slide_type": "slide"
    }
   },
   "source": [
    "主要运行快捷键：\n",
    "- `F8`，步进（step over）\n",
    "- `F7`，进入（step into）函数体\n",
    "- `Shift+F8`，跳出（step out）函数体\n",
    "- `Alt+F9`,运行到当前光标"
   ]
  }
 ],
 "metadata": {
  "celltoolbar": "Slideshow",
  "kernelspec": {
   "display_name": "Python 3",
   "language": "python",
   "name": "python3"
  },
  "language_info": {
   "codemirror_mode": {
    "name": "ipython",
    "version": 3
   },
   "file_extension": ".py",
   "mimetype": "text/x-python",
   "name": "python",
   "nbconvert_exporter": "python",
   "pygments_lexer": "ipython3",
   "version": "3.6.4"
  },
  "toc": {
   "base_numbering": 1,
   "nav_menu": {},
   "number_sections": true,
   "sideBar": true,
   "skip_h1_title": false,
   "title_cell": "Table of Contents",
   "title_sidebar": "Contents",
   "toc_cell": false,
   "toc_position": {},
   "toc_section_display": true,
   "toc_window_display": false
  }
 },
 "nbformat": 4,
 "nbformat_minor": 2
}
