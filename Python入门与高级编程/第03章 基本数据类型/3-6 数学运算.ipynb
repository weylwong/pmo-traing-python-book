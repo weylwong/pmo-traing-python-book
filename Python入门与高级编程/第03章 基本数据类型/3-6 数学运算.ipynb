{
 "cells": [
  {
   "cell_type": "markdown",
   "metadata": {
    "slideshow": {
     "slide_type": "slide"
    }
   },
   "source": [
    "# 数学运算\n",
    "\n",
    "Python 内置了4种基本数字类型：\n",
    "- 布尔数（bool）\n",
    "- 整数（int）\n",
    "- 浮点数（float）\n",
    "- 复数\n",
    "\n",
    "Python 还提供了一些内置函数用于数学运算，例如：\n",
    "- `abs(x)`：计算绝对值]\n",
    "- `divmod(x, y)`: 计算取商和余数\n",
    "- `pow(x, y, z=None)`: 求幂\n",
    "- `round(number)`: 四舍五入"
   ]
  },
  {
   "cell_type": "markdown",
   "metadata": {
    "slideshow": {
     "slide_type": "slide"
    }
   },
   "source": [
    "下面是函数的使用实例："
   ]
  },
  {
   "cell_type": "code",
   "execution_count": null,
   "metadata": {
    "slideshow": {
     "slide_type": "-"
    }
   },
   "outputs": [],
   "source": [
    "# abs\n",
    "print(abs(-45), abs(100.12))\n",
    "\n",
    "# pow\n",
    "print(pow(2, 16), pow(3.5, 3))\n",
    "\n",
    "# divmod\n",
    "print(divmod(11, 2))"
   ]
  },
  {
   "cell_type": "code",
   "execution_count": null,
   "metadata": {
    "slideshow": {
     "slide_type": "-"
    }
   },
   "outputs": [],
   "source": [
    "# round\n",
    "print(round(70.23456), round(-5.6))\n",
    "print(round(80.264, 2), round(100.000056, 3), round(100.000056, 5))\n",
    "print(round(-100.000056, 3))"
   ]
  },
  {
   "cell_type": "markdown",
   "metadata": {
    "slideshow": {
     "slide_type": "slide"
    }
   },
   "source": [
    "这些函数还远远不能满足数学运算的需求，在实际工作中还需要大量的数据运行，不过这用不着自己去编写，Python 标准库中有几个数学库可以满足需求：\n",
    "- math库，常用数学运算函数库\n",
    "- random库，常用随机函数库\n",
    "- cmath库，常用复数运算函数库"
   ]
  },
  {
   "cell_type": "markdown",
   "metadata": {
    "slideshow": {
     "slide_type": "slide"
    }
   },
   "source": [
    "## math模块\n",
    "\n",
    "Python 已经提供了一些基本的算数运算，不过要进行稍微高级的数学计算还是不够的，Python 标准库`math`提供有基本数学计算函数。使用之前需要导入`math`模块："
   ]
  },
  {
   "cell_type": "code",
   "execution_count": null,
   "metadata": {
    "slideshow": {
     "slide_type": "-"
    }
   },
   "outputs": [],
   "source": [
    "import math"
   ]
  },
  {
   "cell_type": "markdown",
   "metadata": {
    "slideshow": {
     "slide_type": "slide"
    }
   },
   "source": [
    "### 数学常数\n",
    "\n",
    "在`math`模块提供了常见的数学常数，使用`.`操作来使用这些常数：\n",
    "- `math.e`: 自然对数$e$\n",
    "- `math.pi`: 圆周率$\\pi$\n",
    "- `math.tau`: $2\\pi$\n",
    "- `math.inf`: 无穷大\n",
    "- `math.nan`: 非数字"
   ]
  },
  {
   "cell_type": "code",
   "execution_count": null,
   "metadata": {
    "slideshow": {
     "slide_type": "-"
    }
   },
   "outputs": [],
   "source": [
    "print(math.e, math.pi, math.tau)\n",
    "print(math.inf, math.nan)"
   ]
  },
  {
   "cell_type": "markdown",
   "metadata": {
    "slideshow": {
     "slide_type": "slide"
    }
   },
   "source": [
    "### 常用函数\n",
    "\n",
    "在`math`模块中提供了如下类别的常用函数\n",
    "- 基本运算\n",
    "- 角度转换\n",
    "- 指数函数\n",
    "- 幂函数\n",
    "- 三角函数\n",
    "- 双曲函数\n",
    "- 误差及伽马函数\n",
    "- 临近整数的浮点运算\n",
    "- 浮点数操作函数\n",
    "- 分类及比较"
   ]
  },
  {
   "cell_type": "markdown",
   "metadata": {
    "slideshow": {
     "slide_type": "slide"
    }
   },
   "source": [
    "#### 基本运算\n",
    "\n",
    "| 函数       |    说明  |\n",
    "| :----------- |:------------|\n",
    "|`math.fabs`  |  计算浮点值的绝对值 |\n",
    "|`math.fmod`  |  计算浮点除法运算的余数 |"
   ]
  },
  {
   "cell_type": "markdown",
   "metadata": {
    "slideshow": {
     "slide_type": "slide"
    }
   },
   "source": [
    "#### 指数函数\n",
    "\n",
    "| 函数       |    说明  |\n",
    "| :----------- |:------------:|\n",
    "|`math.exp`   | 计算e的给定幂 |\n",
    "|`math.expm1`  | 计算e的给定幂减一 |\n",
    "|`math.log`   | 计算自然对数（底为e）|\n",
    "|`math.log10`  | 计算常用对数 （底为10）|\n",
    "|`math.log2`  | 计算底为2的对数| \n",
    "|`math.log1p`  | 计算给定数加1的自然对数（底为e） |"
   ]
  },
  {
   "cell_type": "markdown",
   "metadata": {
    "slideshow": {
     "slide_type": "skip"
    }
   },
   "source": [
    "#### 幂函数\n",
    "\n",
    "| 函数       |    说明  |\n",
    "| :----------- |:------------:|\n",
    "|`math.pow` | 计算一个数的给定次幂 （$x^y$） |\n",
    "|`math.sqrt` | 计算平方根 （$\\sqrt{x}$） |\n",
    "|`math.hypot(x, y)` | 计算两个给定数平方和的平方根$\\sqrt{x^2 + y^2}$  |"
   ]
  },
  {
   "cell_type": "markdown",
   "metadata": {
    "slideshow": {
     "slide_type": "skip"
    }
   },
   "source": [
    "#### 角度转换函数\n",
    "\n",
    "| 函数       |    说明  |\n",
    "| :----------- |:------------|\n",
    "|`math.degrees(x)` | 弧度转换为角度   |\n",
    "|`math.radians(x)` | 角度转换为弧度   |"
   ]
  },
  {
   "cell_type": "markdown",
   "metadata": {
    "slideshow": {
     "slide_type": "skip"
    }
   },
   "source": [
    "#### 三角函数\n",
    "\n",
    "| 函数       |    说明  |\n",
    "| :----------- |:------------|\n",
    "|`math.sin(x)`  | 计算正弦   |\n",
    "|`math.cos(x)`  | 计算余弦   |\n",
    "|`math.tan(x)`  | 计算正切   |\n",
    "|`math.asin(x)` | 计算反正弦   |\n",
    "|`math.acos(x)` | 计算反余弦   |\n",
    "|`math.atan(x)` | 计算反正切   |\n",
    "|`math.atan2(y, x)` | 返回`atan(y/x)`  |"
   ]
  },
  {
   "cell_type": "markdown",
   "metadata": {
    "slideshow": {
     "slide_type": "skip"
    }
   },
   "source": [
    "#### 双曲函数\n",
    "\n",
    "| 函数       |    说明  |\n",
    "| :----------- |:------------|\n",
    "|`math.sinh(x)`  | 计算双曲正弦   |\n",
    "|`math.cosh(x)`  | 计算双曲余弦   |\n",
    "|`math.tanh(x)`  | 计算双曲正切   |\n",
    "|`math.asinh(x)` | 计算反双曲正弦   |\n",
    "|`math.acosh(x)` | 计算反双曲余弦  |\n",
    "|`math.atanh(x)` | 计算反双曲正切 |"
   ]
  },
  {
   "cell_type": "markdown",
   "metadata": {
    "slideshow": {
     "slide_type": "skip"
    }
   },
   "source": [
    "#### 误差及伽马函数\n",
    "\n",
    "| 函数       |    说明  |\n",
    "| :----------- |:------------|\n",
    "|`math.erf(x)`    | 计算误差函数 |\n",
    "|`math.erfc(x)`   | 计算补误差函数    |\n",
    "|`math.tgamma(x)` | 计算伽马函数   |\n",
    "|`math.lgamma(x)` | 计算伽马函数的自然对数（底为e）    |\n"
   ]
  },
  {
   "cell_type": "markdown",
   "metadata": {
    "slideshow": {
     "slide_type": "skip"
    }
   },
   "source": [
    "#### 临近整数的浮点运算\n",
    "\n",
    "| 函数       |    说明  |\n",
    "| :----------- |:------------|\n",
    "|`math.ceil`  |  计算不小于给定值的最小整数 |\n",
    "|`math.floor` | 计算不大于给定值的最大整数 |\n",
    "|`math.trunc` | 取整到绝对值不大于给定值的最接近整数 |"
   ]
  },
  {
   "cell_type": "markdown",
   "metadata": {
    "slideshow": {
     "slide_type": "skip"
    }
   },
   "source": [
    "#### 浮点数操作\n",
    "\n",
    "| 函数       |    说明  |\n",
    "| :----------- |:------------|\n",
    "|`math.frexp` | 将数拆分成有效数字和2的幂次 |\n",
    "|`math.ldexp` | 将数乘以 2 的幂 |\n",
    "|`math.modf` | 把一个数拆分成整数和小数部分 |\n",
    "|`math.copysign` | 从一个给定值的绝对值和另一个给定值的符号产生值 |"
   ]
  },
  {
   "cell_type": "markdown",
   "metadata": {
    "slideshow": {
     "slide_type": "slide"
    }
   },
   "source": [
    "#### 分类及比较\n",
    "\n",
    "| 函数       |    说明  |\n",
    "| :----------- |:------------|\n",
    "|`math.isfinite` | 检查给定数是否具有有限值 |\n",
    "|`math.isinf`   | 检查给定数是否是无穷大  |\n",
    "|`math.isnan`   | 检查给定数是否是NaN  |\n",
    "|`math.isclose`  | 检查浮点数之差是否在规定范围 |"
   ]
  },
  {
   "cell_type": "markdown",
   "metadata": {
    "slideshow": {
     "slide_type": "skip"
    }
   },
   "source": [
    "#### 其它函数\n",
    "\n",
    "\n",
    "| 函数       |    说明  |\n",
    "| :----------- |:------------|\n",
    "|`math.factorial(x)` | 返回 $x!$ |\n",
    "|`math.fsum`   | 计算浮点数值的总和，避免丢失精度 |\n",
    "|`math.gcd`   | 计算两数的最大公约数 |"
   ]
  },
  {
   "cell_type": "markdown",
   "metadata": {
    "slideshow": {
     "slide_type": "slide"
    }
   },
   "source": [
    "### 使用示例\n",
    "\n",
    "下面列出一些常用函数的使用实例："
   ]
  },
  {
   "cell_type": "code",
   "execution_count": null,
   "metadata": {
    "slideshow": {
     "slide_type": "-"
    }
   },
   "outputs": [],
   "source": [
    "# Number Radian Method\n",
    "print(math.radians(180), math.radians(-180))\n",
    "print(math.radians(0), math.radians(360))\n",
    "print(math.radians(90), math.radians(-90))"
   ]
  },
  {
   "cell_type": "code",
   "execution_count": null,
   "metadata": {
    "slideshow": {
     "slide_type": "skip"
    }
   },
   "outputs": [],
   "source": [
    "# Number Degrees\n",
    "print(math.degrees(3), math.degrees(-3))\n",
    "print(math.degrees(0), math.degrees(math.pi))\n",
    "print(math.degrees(math.pi/2), math.degrees(math.pi/4))"
   ]
  },
  {
   "cell_type": "code",
   "execution_count": null,
   "metadata": {
    "slideshow": {
     "slide_type": "skip"
    }
   },
   "outputs": [],
   "source": [
    "# Tan Method\n",
    "print(math.tan(3), math.tan(-3))\n",
    "print(math.tan(0), math.tan(math.pi))\n",
    "print(math.tan(math.pi/2), math.tan(math.pi/4))"
   ]
  },
  {
   "cell_type": "code",
   "execution_count": null,
   "metadata": {
    "slideshow": {
     "slide_type": "skip"
    }
   },
   "outputs": [],
   "source": [
    "# Math Sin Function\n",
    "print(math.sin(3), math.sin(-3))\n",
    "print(math.sin(0), math.sin(math.pi))\n",
    "print(math.sin(math.pi/2), math.sin(math.pi/4))"
   ]
  },
  {
   "cell_type": "code",
   "execution_count": null,
   "metadata": {
    "slideshow": {
     "slide_type": "skip"
    }
   },
   "outputs": [],
   "source": [
    "# Math Hypot Funcition\n",
    "print(math.hypot(3, 2))\n",
    "print(math.hypot(-3, 3))\n",
    "print(math.hypot(0, 2))"
   ]
  },
  {
   "cell_type": "code",
   "execution_count": null,
   "metadata": {
    "slideshow": {
     "slide_type": "skip"
    }
   },
   "outputs": [],
   "source": [
    "# Math Cos Function\n",
    "print(math.cos(3), math.cos(-3))\n",
    "print(math.cos(0), math.cos(math.pi))\n",
    "print(math.cos(math.pi/2), math.cos(math.pi/4))"
   ]
  },
  {
   "cell_type": "code",
   "execution_count": null,
   "metadata": {
    "slideshow": {
     "slide_type": "skip"
    }
   },
   "outputs": [],
   "source": [
    "# math Atan2 Function\n",
    "print(math.atan2(-0.50, -0.50), math.atan2(0.50, 0.50))\n",
    "print(math.atan2(5, 5), math.atan2(-10, 10))\n",
    "print(math.atan2(10, 20))"
   ]
  },
  {
   "cell_type": "code",
   "execution_count": null,
   "metadata": {
    "slideshow": {
     "slide_type": "skip"
    }
   },
   "outputs": [],
   "source": [
    "# Math Atan Function\n",
    "print(math.atan(0.64), math.atan(0))\n",
    "print(math.atan(10), math.atan(-1), math.atan(1))"
   ]
  },
  {
   "cell_type": "code",
   "execution_count": null,
   "metadata": {
    "slideshow": {
     "slide_type": "skip"
    }
   },
   "outputs": [],
   "source": [
    "# Math Asin Function\n",
    "print(math.asin(0.64), math.asin(0))\n",
    "print(math.asin(-1), math.asin(1))"
   ]
  },
  {
   "cell_type": "code",
   "execution_count": null,
   "metadata": {
    "slideshow": {
     "slide_type": "skip"
    }
   },
   "outputs": [],
   "source": [
    "# Math Acos Function\n",
    "print(math.acos(0.64), math.acos(0))\n",
    "print(math.acos(-1), math.acos(1))"
   ]
  },
  {
   "cell_type": "code",
   "execution_count": null,
   "metadata": {
    "slideshow": {
     "slide_type": "skip"
    }
   },
   "outputs": [],
   "source": [
    "# Math Sqrt Method\n",
    "print(math.sqrt(100), math.sqrt(7))\n",
    "print(math.sqrt(math.pi))"
   ]
  },
  {
   "cell_type": "code",
   "execution_count": null,
   "metadata": {
    "slideshow": {
     "slide_type": "skip"
    }
   },
   "outputs": [],
   "source": [
    "# Math Pow Method\n",
    "print(math.pow(100, 2), math.pow(100, -2))\n",
    "print(math.pow(2, 4), math.pow(3, 0))"
   ]
  },
  {
   "cell_type": "code",
   "execution_count": null,
   "metadata": {
    "slideshow": {
     "slide_type": "skip"
    }
   },
   "outputs": [],
   "source": [
    "# Math Modf Method\n",
    "print(math.modf(100.12), math.modf(100.72))\n",
    "print(math.modf(119), math.modf(math.pi))"
   ]
  },
  {
   "cell_type": "code",
   "execution_count": null,
   "metadata": {
    "slideshow": {
     "slide_type": "skip"
    }
   },
   "outputs": [],
   "source": [
    "# Math Log10 Method\n",
    "print(math.log10(100.12), math.log10(100.72))\n",
    "print(math.log10(119), math.log10(math.pi))"
   ]
  },
  {
   "cell_type": "code",
   "execution_count": null,
   "metadata": {
    "slideshow": {
     "slide_type": "skip"
    }
   },
   "outputs": [],
   "source": [
    "# Math Log Method\n",
    "print(math.log(100.12), math.log(100.72), math.log(math.pi))"
   ]
  },
  {
   "cell_type": "code",
   "execution_count": null,
   "metadata": {
    "slideshow": {
     "slide_type": "skip"
    }
   },
   "outputs": [],
   "source": [
    "# Math floor method\n",
    "print(math.floor(-45.17), math.floor(100.12), math.floor(100.72), math.floor(math.pi))"
   ]
  },
  {
   "cell_type": "code",
   "execution_count": null,
   "metadata": {
    "slideshow": {
     "slide_type": "skip"
    }
   },
   "outputs": [],
   "source": [
    "# Math Fabs Method\n",
    "print(math.fabs(-45.17), math.fabs(100.12), math.fabs(100.72), math.fabs(math.pi))"
   ]
  },
  {
   "cell_type": "code",
   "execution_count": null,
   "metadata": {
    "slideshow": {
     "slide_type": "skip"
    }
   },
   "outputs": [],
   "source": [
    "# Math Exp Method\n",
    "print(math.exp(-45.17), math.exp(100.12), math.exp(100.72), math.exp(math.pi))"
   ]
  },
  {
   "cell_type": "code",
   "execution_count": null,
   "metadata": {
    "slideshow": {
     "slide_type": "skip"
    }
   },
   "outputs": [],
   "source": [
    "# Math Ceil Method\n",
    "print(math.ceil(-45.17), math.ceil(100.12), math.ceil(100.72), math.ceil(math.pi))"
   ]
  },
  {
   "cell_type": "markdown",
   "metadata": {
    "slideshow": {
     "slide_type": "slide"
    }
   },
   "source": [
    "## random库\n",
    "\n",
    "`random`是一个随机库，用来产生一个随机数。同样需要先导入`random`模块："
   ]
  },
  {
   "cell_type": "code",
   "execution_count": null,
   "metadata": {
    "slideshow": {
     "slide_type": "-"
    }
   },
   "outputs": [],
   "source": [
    "import random"
   ]
  },
  {
   "cell_type": "markdown",
   "metadata": {
    "slideshow": {
     "slide_type": "slide"
    }
   },
   "source": [
    "### 常用函数\n",
    "\n",
    "- `random.random()`: 随机产生浮点数（范围`[0,1)`）.\n",
    "- `random.randint(a,b)`: 随机产生整数（范围`[a,b]`）.\n",
    "- `random.choice(seq)`: 从序列元素中随机选择一个.\n",
    "- `random.shuffle(x)`：将序列`x`的元素随机排序。"
   ]
  },
  {
   "cell_type": "markdown",
   "metadata": {
    "slideshow": {
     "slide_type": "slide"
    }
   },
   "source": [
    "### 使用示例\n",
    "\n",
    "常用方法示例"
   ]
  },
  {
   "cell_type": "code",
   "execution_count": null,
   "metadata": {
    "slideshow": {
     "slide_type": "-"
    }
   },
   "outputs": [],
   "source": [
    "random.random()"
   ]
  },
  {
   "cell_type": "code",
   "execution_count": null,
   "metadata": {
    "slideshow": {
     "slide_type": "-"
    }
   },
   "outputs": [],
   "source": [
    "random.randint(0, 2)"
   ]
  },
  {
   "cell_type": "code",
   "execution_count": null,
   "metadata": {
    "slideshow": {
     "slide_type": "slide"
    }
   },
   "outputs": [],
   "source": [
    "random.choice(['Python', 'Java', 'C++'])"
   ]
  },
  {
   "cell_type": "code",
   "execution_count": null,
   "metadata": {
    "slideshow": {
     "slide_type": "-"
    }
   },
   "outputs": [],
   "source": [
    "x = ['Python', 'Java', 'C++']\n",
    "random.shuffle(x)\n",
    "x"
   ]
  },
  {
   "cell_type": "markdown",
   "metadata": {
    "slideshow": {
     "slide_type": "slide"
    }
   },
   "source": [
    "## cmath\n",
    "\n",
    "`math` 库是不支持复数运算操作的。`cmath` 库支持复数的运算。使用之前需要导入 `cmath` 库："
   ]
  },
  {
   "cell_type": "code",
   "execution_count": null,
   "metadata": {
    "slideshow": {
     "slide_type": "-"
    }
   },
   "outputs": [],
   "source": [
    "import cmath"
   ]
  },
  {
   "cell_type": "markdown",
   "metadata": {
    "slideshow": {
     "slide_type": "slide"
    }
   },
   "source": [
    "### 常用常数\n",
    "\n",
    "`cmath`模块提供了常见的数学常数：\n",
    "- `cmath.e`: 自然对数$e$\n",
    "- `cmath.pi`: 圆周率$\\pi$\n",
    "- `cmath.tau`: $2\\pi$\n",
    "- `cmath.inf`: 无穷大\n",
    "- `cmath.infj`: 无穷大(complex)\n",
    "- `cmath.nan`: 非数字\n",
    "- `cmath.nanj`: 非数字(complex)"
   ]
  },
  {
   "cell_type": "code",
   "execution_count": null,
   "metadata": {
    "slideshow": {
     "slide_type": "slide"
    }
   },
   "outputs": [],
   "source": [
    "print(cmath.e, cmath.pi, cmath.tau)\n",
    "print(cmath.inf, cmath.nan)\n",
    "print(cmath.infj, cmath.nanj)"
   ]
  },
  {
   "cell_type": "code",
   "execution_count": null,
   "metadata": {
    "slideshow": {
     "slide_type": "-"
    }
   },
   "outputs": [],
   "source": [
    "print(type(cmath.inf), type(cmath.infj))"
   ]
  },
  {
   "cell_type": "markdown",
   "metadata": {
    "slideshow": {
     "slide_type": "slide"
    }
   },
   "source": [
    "### 常用函数\n",
    "\n",
    "cmath模块提供了math模块中大多数三角函数、对数函数的复数版本。"
   ]
  },
  {
   "cell_type": "markdown",
   "metadata": {
    "slideshow": {
     "slide_type": "slide"
    }
   },
   "source": [
    "#### 指数函数\n",
    "\n",
    "| 函数       |    说明  |\n",
    "| :----------- |:------------:|\n",
    "|`cmath.exp`   | 计算e的给定幂 |\n",
    "|`cmath.log`   | 计算自然对数（底为e）|\n",
    "|`cmath.log10`  | 计算常用对数 （底为10）|"
   ]
  },
  {
   "cell_type": "markdown",
   "metadata": {
    "slideshow": {
     "slide_type": "skip"
    }
   },
   "source": [
    "#### 幂函数\n",
    "\n",
    "| 函数       |    说明  |\n",
    "| :----------- |:------------:|\n",
    "|`cmath.sqrt` | 计算平方根 （$\\sqrt{x}$） |"
   ]
  },
  {
   "cell_type": "markdown",
   "metadata": {
    "slideshow": {
     "slide_type": "skip"
    }
   },
   "source": [
    "#### 三角函数\n",
    "\n",
    "| 函数       |    说明  |\n",
    "| :----------- |:------------|\n",
    "|`cmath.sin(x)`  | 计算正弦   |\n",
    "|`cmath.cos(x)`  | 计算余弦   |\n",
    "|`cmath.tan(x)`  | 计算正切   |\n",
    "|`cmath.asin(x)` | 计算反正弦   |\n",
    "|`cmath.acos(x)` | 计算反余弦   |\n",
    "|`cmath.atan(x)` | 计算反正切   |"
   ]
  },
  {
   "cell_type": "markdown",
   "metadata": {
    "slideshow": {
     "slide_type": "skip"
    }
   },
   "source": [
    "#### 双曲函数\n",
    "\n",
    "| 函数       |    说明  |\n",
    "| :----------- |:------------|\n",
    "|`math.sinh(x)`  | 计算双曲正弦   |\n",
    "|`math.cosh(x)`  | 计算双曲余弦   |\n",
    "|`math.tanh(x)`  | 计算双曲正切   |\n",
    "|`math.asinh(x)` | 计算反双曲正弦   |\n",
    "|`math.acosh(x)` | 计算反双曲余弦  |\n",
    "|`math.atanh(x)` | 计算反双曲正切 |"
   ]
  },
  {
   "cell_type": "markdown",
   "metadata": {
    "slideshow": {
     "slide_type": "skip"
    }
   },
   "source": [
    "#### 分类及比较\n",
    "\n",
    "| 函数       |    说明  |\n",
    "| :----------- |:------------|\n",
    "|`cmath.isfinite` | 检查给定数是否具有有限值 |\n",
    "|`cmath.isinf`   | 检查给定数是否是无穷大  |\n",
    "|`cmath.isnan`   | 检查给定数是否是NaN  |\n",
    "|`cmath.isclose`  | 检查两数之差是否在规定范围 |"
   ]
  },
  {
   "cell_type": "markdown",
   "metadata": {
    "slideshow": {
     "slide_type": "skip"
    }
   },
   "source": [
    "#### 复数特定函数\n",
    "\n",
    "| 函数       |    说明  |\n",
    "| :----------- |:------------|\n",
    "|`cmath.phase` | 就是复数的相位(辐角) |\n",
    "|`cmath.polar` | 计算复数的模和相位 |\n",
    "|`cmath.rect` | 用模和相位构建复数对象 |"
   ]
  },
  {
   "cell_type": "markdown",
   "metadata": {
    "slideshow": {
     "slide_type": "slide"
    }
   },
   "source": [
    "### 使用示例"
   ]
  },
  {
   "cell_type": "code",
   "execution_count": null,
   "metadata": {
    "slideshow": {
     "slide_type": "-"
    }
   },
   "outputs": [],
   "source": [
    "cmath.sin(cmath.pi / 4.0)"
   ]
  },
  {
   "cell_type": "code",
   "execution_count": null,
   "metadata": {
    "slideshow": {
     "slide_type": "-"
    }
   },
   "outputs": [],
   "source": [
    "cmath.cos(cmath.pi / 4.0)"
   ]
  }
 ],
 "metadata": {
  "celltoolbar": "Slideshow",
  "kernelspec": {
   "display_name": "Python 3",
   "language": "python",
   "name": "python3"
  },
  "language_info": {
   "codemirror_mode": {
    "name": "ipython",
    "version": 3
   },
   "file_extension": ".py",
   "mimetype": "text/x-python",
   "name": "python",
   "nbconvert_exporter": "python",
   "pygments_lexer": "ipython3",
   "version": "3.6.4"
  },
  "toc": {
   "base_numbering": 1,
   "nav_menu": {},
   "number_sections": true,
   "sideBar": true,
   "skip_h1_title": false,
   "title_cell": "Table of Contents",
   "title_sidebar": "Contents",
   "toc_cell": false,
   "toc_position": {
    "height": "calc(100% - 180px)",
    "left": "10px",
    "top": "150px",
    "width": "253px"
   },
   "toc_section_display": true,
   "toc_window_display": false
  }
 },
 "nbformat": 4,
 "nbformat_minor": 1
}
