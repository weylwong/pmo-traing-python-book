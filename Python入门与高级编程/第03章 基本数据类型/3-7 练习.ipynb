{
 "cells": [
  {
   "cell_type": "markdown",
   "metadata": {
    "slideshow": {
     "slide_type": "slide"
    }
   },
   "source": [
    "# 日期转换\n",
    "\n",
    "- 把年（year），月（month），日（day）合并为`yyyymmdd`格式整数；\n",
    "- 把`yyyymmdd`格式整数分拆为年（year），月（month），日（day）。"
   ]
  },
  {
   "cell_type": "code",
   "execution_count": null,
   "metadata": {},
   "outputs": [],
   "source": [
    "year = 2015\n",
    "month = 6\n",
    "day = 15\n",
    "yyyymmdd = year * 10000 + month * 100 + day\n",
    "print(yyyymmdd)"
   ]
  },
  {
   "cell_type": "code",
   "execution_count": null,
   "metadata": {},
   "outputs": [],
   "source": [
    "yyyymmdd = 20150615\n",
    "year, mmdd = divmod(yyyymmdd, 10000)\n",
    "month, day = divmod(mmdd, 100)\n",
    "print(year, month, day)"
   ]
  },
  {
   "cell_type": "markdown",
   "metadata": {
    "slideshow": {
     "slide_type": "slide"
    }
   },
   "source": [
    "# 猜数字游戏\n",
    "\n",
    "猜一个1到100之内数字，看看猜几次能猜中。"
   ]
  },
  {
   "cell_type": "markdown",
   "metadata": {
    "slideshow": {
     "slide_type": "slide"
    }
   },
   "source": [
    "## 第1步\n",
    "\n",
    "需要产生一个 1 到 100 之内的随机整数。可以使用`random.randint()`函数来产生："
   ]
  },
  {
   "cell_type": "code",
   "execution_count": null,
   "metadata": {
    "slideshow": {
     "slide_type": "slide"
    }
   },
   "outputs": [],
   "source": [
    "import random\n",
    "\n",
    "target_number = random.randint(1, 100)"
   ]
  },
  {
   "cell_type": "markdown",
   "metadata": {
    "slideshow": {
     "slide_type": "slide"
    }
   },
   "source": [
    "## 第2步\n",
    "\n",
    "提示用户猜一个数字，使用`input()`函数获取用户输入："
   ]
  },
  {
   "cell_type": "code",
   "execution_count": null,
   "metadata": {
    "slideshow": {
     "slide_type": "-"
    }
   },
   "outputs": [],
   "source": [
    "guess_number = input('猜一个数字：')\n",
    "guess_number"
   ]
  },
  {
   "cell_type": "markdown",
   "metadata": {
    "slideshow": {
     "slide_type": "slide"
    }
   },
   "source": [
    "`input()`返回的是字符串数字，需要把它转换为整数，使用`int()`函数进行转换："
   ]
  },
  {
   "cell_type": "code",
   "execution_count": null,
   "metadata": {
    "slideshow": {
     "slide_type": "-"
    }
   },
   "outputs": [],
   "source": [
    "guess_number = int(guess_number)\n",
    "guess_number"
   ]
  },
  {
   "cell_type": "markdown",
   "metadata": {
    "slideshow": {
     "slide_type": "slide"
    }
   },
   "source": [
    "## 判断整数\n",
    "\n",
    "判断用户是否猜对了，使用条件语句进行判断："
   ]
  },
  {
   "cell_type": "code",
   "execution_count": null,
   "metadata": {
    "slideshow": {
     "slide_type": "-"
    }
   },
   "outputs": [],
   "source": [
    "if guess_number == target_number:\n",
    "    print('猜对了', target_number)\n",
    "elif guess_number > target_number:\n",
    "    print('猜大了')\n",
    "else:\n",
    "    print('猜小了')    "
   ]
  },
  {
   "cell_type": "markdown",
   "metadata": {
    "slideshow": {
     "slide_type": "slide"
    }
   },
   "source": [
    "## 反复地猜\n",
    "\n",
    "如果猜不中的话，还得继续猜。需要再次输入和判断："
   ]
  },
  {
   "cell_type": "code",
   "execution_count": null,
   "metadata": {
    "slideshow": {
     "slide_type": "-"
    }
   },
   "outputs": [],
   "source": [
    "guess_number = input('猜一个数字：')\n",
    "guess_number = int(guess_number)\n",
    "if guess_number == target_number:\n",
    "    print('猜对了', target_number)\n",
    "elif guess_number > target_number:\n",
    "    print('猜大了')\n",
    "else:\n",
    "    print('猜小了')    "
   ]
  },
  {
   "cell_type": "markdown",
   "metadata": {
    "slideshow": {
     "slide_type": "slide"
    }
   },
   "source": [
    "这个过程要进行很多次，需要使用 `for` 循环语句，这里限定最多猜 8 次:"
   ]
  },
  {
   "cell_type": "code",
   "execution_count": null,
   "metadata": {
    "slideshow": {
     "slide_type": "-"
    }
   },
   "outputs": [],
   "source": [
    "for i in range(8):\n",
    "    guess_number = input('猜一个数字：')\n",
    "    guess_number = int(guess_number)\n",
    "    if guess_number == target_number:\n",
    "        print('猜对了', target_number)\n",
    "    elif guess_number > target_number:\n",
    "        print('猜大了')\n",
    "    else:\n",
    "        print('猜小了')    "
   ]
  },
  {
   "cell_type": "markdown",
   "metadata": {
    "slideshow": {
     "slide_type": "slide"
    }
   },
   "source": [
    "当猜对了，应该跳出循环，可以使用 `break` 语句实现:"
   ]
  },
  {
   "cell_type": "code",
   "execution_count": null,
   "metadata": {
    "slideshow": {
     "slide_type": "-"
    }
   },
   "outputs": [],
   "source": [
    "for i in range(8):\n",
    "    guess_number = input('猜一个数字：')\n",
    "    guess_number = int(guess_number)\n",
    "    if guess_number == target_number:\n",
    "        break\n",
    "    elif guess_number > target_number:\n",
    "        print('猜大了')\n",
    "    else:\n",
    "        print('猜小了')    "
   ]
  },
  {
   "cell_type": "markdown",
   "metadata": {
    "slideshow": {
     "slide_type": "slide"
    }
   },
   "source": [
    "猜对会跳出循环，但也可能循环结束也猜不对。在最后还要进行判断并总结发言："
   ]
  },
  {
   "cell_type": "code",
   "execution_count": null,
   "metadata": {
    "slideshow": {
     "slide_type": "-"
    }
   },
   "outputs": [],
   "source": [
    "if guess_number == target_number:\n",
    "    print('您太厉害了！猜了', i+1, '次')        \n",
    "else:\n",
    "    print('您需要努力啊')            \n",
    "    print('要猜的数字是', number)  "
   ]
  },
  {
   "cell_type": "markdown",
   "metadata": {
    "slideshow": {
     "slide_type": "slide"
    }
   },
   "source": [
    "## 把语句合在一起放\n",
    "\n",
    "最后把上面的语句合在一起："
   ]
  },
  {
   "cell_type": "code",
   "execution_count": null,
   "metadata": {
    "slideshow": {
     "slide_type": "-"
    }
   },
   "outputs": [],
   "source": [
    "import random\n",
    "\n",
    "target_number = random.randint(1, 100)\n",
    "for i in range(8):\n",
    "    guess_number = input('猜一个数字：')\n",
    "    guess_number = int(guess_number)\n",
    "    if guess_number == target_number:\n",
    "        break\n",
    "    elif guess_number > target_number:\n",
    "        print('猜大了')\n",
    "    else:\n",
    "        print('猜小了')       \n",
    "        \n",
    "if guess_number == target_number:\n",
    "    print('您太厉害了！猜了', i+1, '次')        \n",
    "else:\n",
    "    print('您需要努力啊')            \n",
    "    print('要猜的数字是', target_number)  "
   ]
  },
  {
   "cell_type": "markdown",
   "metadata": {
    "slideshow": {
     "slide_type": "skip"
    }
   },
   "source": [
    "## 最后\n",
    "\n",
    "把语句输出到一个文件中去写，使用注释行增加一些Shebang、文件格式说明等说明语句。"
   ]
  },
  {
   "cell_type": "code",
   "execution_count": null,
   "metadata": {
    "slideshow": {
     "slide_type": "slide"
    }
   },
   "outputs": [],
   "source": [
    "%%writefile guess_number.py \n",
    "#!/usr/bin/env python\n",
    "# -*- coding: utf-8 -*-\n",
    "# Copyright (c) 2018--2023, Wang Weihua.\n",
    "# All rights reserved.\n",
    "import random\n",
    "\n",
    "name = input(\"请问阁下尊姓大名？\")\n",
    "print('您好！', name)\n",
    "print('欢迎来到猜数字游戏，数字范围在1到100之间')\n",
    "\n",
    "target_number = random.randint(1, 100)\n",
    "for i in range(8):\n",
    "    guess_number = input('猜一个数字：')\n",
    "    guess_number = int(guess_number)\n",
    "    if guess_number == target_number:\n",
    "        break\n",
    "    elif guess_number > target_number:\n",
    "        print('猜大了')\n",
    "    else:\n",
    "        print('猜小了')       \n",
    "        \n",
    "if guess_number == target_number:\n",
    "    print('您太厉害了！猜了', i+1, '次')        \n",
    "else:\n",
    "    print('您需要努力啊')            \n",
    "    print('要猜的数字是', target_number)  "
   ]
  },
  {
   "cell_type": "markdown",
   "metadata": {},
   "source": [
    "以后就可以运行这个猜数字程序："
   ]
  },
  {
   "cell_type": "code",
   "execution_count": null,
   "metadata": {
    "slideshow": {
     "slide_type": "slide"
    }
   },
   "outputs": [],
   "source": [
    "%run guess_number.py"
   ]
  },
  {
   "cell_type": "markdown",
   "metadata": {
    "slideshow": {
     "slide_type": "slide"
    }
   },
   "source": [
    "# 凯撒密码\n",
    "\n",
    "恺撒密码（英语：Caesar cipher），是一种最简单且最广为人知的加密技术。\n",
    "\n",
    "恺撒密码是一种替换加密的技术，明文中的所有字母都在字母表上向后（或向前）按照一个固定数目进行偏移后被替换成密文。\n",
    "\n",
    "![凯撒密码](../images/caesarcipher.jpg)"
   ]
  },
  {
   "cell_type": "markdown",
   "metadata": {
    "slideshow": {
     "slide_type": "slide"
    }
   },
   "source": [
    "## 加密\n",
    "\n",
    "### 获取明文信息\n",
    "\n",
    "首先获取明文信息，使用`input()`函数获取明文信息："
   ]
  },
  {
   "cell_type": "code",
   "execution_count": null,
   "metadata": {},
   "outputs": [],
   "source": [
    "message = input('请输入明文')\n",
    "message"
   ]
  },
  {
   "cell_type": "markdown",
   "metadata": {},
   "source": [
    "暂时只转换大写字符，需要把明文转换为大写，使用字符串的`str.upper()`方法可以实现："
   ]
  },
  {
   "cell_type": "code",
   "execution_count": null,
   "metadata": {},
   "outputs": [],
   "source": [
    "message = message.upper()\n",
    "message"
   ]
  },
  {
   "cell_type": "markdown",
   "metadata": {},
   "source": [
    "### 获取凯撒密码数\n",
    "\n",
    "获取凯撒密码偏移数，使用 `input()` 函数获取用户输入数，同样使用 `int()` 函数转换为整数："
   ]
  },
  {
   "cell_type": "code",
   "execution_count": null,
   "metadata": {},
   "outputs": [],
   "source": [
    "key = input('请输入凯撒密码数（1-26）')\n",
    "key = int(key)\n",
    "key"
   ]
  },
  {
   "cell_type": "markdown",
   "metadata": {},
   "source": [
    "### 开始加密\n",
    "\n",
    "把明文进行加密编码。"
   ]
  },
  {
   "cell_type": "markdown",
   "metadata": {},
   "source": [
    "#### 循环明文的每个字符\n",
    "\n",
    "字符串是各序列，可以使用 `for` 循环每个字符："
   ]
  },
  {
   "cell_type": "code",
   "execution_count": null,
   "metadata": {},
   "outputs": [],
   "source": [
    "for c in message:\n",
    "    print(c)"
   ]
  },
  {
   "cell_type": "markdown",
   "metadata": {},
   "source": [
    "设置编码结果初始值为空字符，然后把编码后的字符连接起来，可以使用`+`操作符："
   ]
  },
  {
   "cell_type": "code",
   "execution_count": null,
   "metadata": {},
   "outputs": [],
   "source": [
    "translated = ''\n",
    "for c in message:\n",
    "    translated += c\n",
    "translated"
   ]
  },
  {
   "cell_type": "markdown",
   "metadata": {},
   "source": [
    "解密时，只能对字母字符进行加密，使用字符串的 `isalpha()` 方法来判断是否字母，如果是则进行加密，如果不是则不用管，使用条件语句。\n",
    "\n",
    "加密的过程就是，使用`ocd()`函数把字母转换为整数，然后进行偏移；如果偏移的数值超过字符`Z`，则需要减去26."
   ]
  },
  {
   "cell_type": "code",
   "execution_count": null,
   "metadata": {},
   "outputs": [],
   "source": [
    "translated = ''\n",
    "for c in message:\n",
    "    if c.isalpha():\n",
    "        num = ord(c) + key\n",
    "        if num > ord('Z'):\n",
    "            num -= 26\n",
    "        translated += chr(num)\n",
    "    else:\n",
    "        translated += c\n",
    "translated"
   ]
  },
  {
   "cell_type": "markdown",
   "metadata": {},
   "source": [
    "### 把代码组合在一起"
   ]
  },
  {
   "cell_type": "code",
   "execution_count": null,
   "metadata": {},
   "outputs": [],
   "source": [
    "message = input('请输入明文：')\n",
    "message = message.upper()\n",
    "\n",
    "key = input('请输入凯撒密码数（1-26）：')\n",
    "key = int(key)\n",
    "\n",
    "translated = ''\n",
    "for c in message:\n",
    "    if c.isalpha():\n",
    "        num = ord(c) + key\n",
    "        if num > ord('Z'):\n",
    "            num -= 26\n",
    "        translated += chr(num)\n",
    "    else:\n",
    "        translated += c\n",
    "print('加密文：', translated)"
   ]
  },
  {
   "cell_type": "markdown",
   "metadata": {
    "slideshow": {
     "slide_type": "slide"
    }
   },
   "source": [
    "### 保存为文件"
   ]
  },
  {
   "cell_type": "code",
   "execution_count": null,
   "metadata": {
    "slideshow": {
     "slide_type": "-"
    }
   },
   "outputs": [],
   "source": [
    "%%writefile caesarcipher01.py\n",
    "#!/usr/bin/env python\n",
    "# -*- coding: utf-8 -*-\n",
    "# Copyright (c) 2018--2023, Wang Weihua.\n",
    "# All rights reserved.\n",
    "message = input('请输入明文：')\n",
    "message = message.upper()\n",
    "\n",
    "key = input('请输入凯撒密码数（1-26）：')\n",
    "key = int(key)\n",
    "\n",
    "translated = ''\n",
    "for c in message:\n",
    "    if c.isalpha():\n",
    "        num = ord(c) + key\n",
    "        if num > ord('Z'):\n",
    "            num -= 26\n",
    "        translated += chr(num)\n",
    "    else:\n",
    "        translated += c\n",
    "print('加密文：', translated)"
   ]
  },
  {
   "cell_type": "markdown",
   "metadata": {},
   "source": [
    "## 解密\n",
    "\n",
    "解密是加密的逆过程。\n",
    "\n",
    "请自行完成程序！"
   ]
  },
  {
   "cell_type": "markdown",
   "metadata": {},
   "source": [
    "## 大小写字符\n",
    "\n",
    "加密解密应该对大小写敏感。\n",
    "\n",
    "请把这些功能加入进去。"
   ]
  }
 ],
 "metadata": {
  "kernelspec": {
   "display_name": "Python 3",
   "language": "python",
   "name": "python3"
  },
  "language_info": {
   "codemirror_mode": {
    "name": "ipython",
    "version": 3
   },
   "file_extension": ".py",
   "mimetype": "text/x-python",
   "name": "python",
   "nbconvert_exporter": "python",
   "pygments_lexer": "ipython3",
   "version": "3.6.4"
  },
  "toc": {
   "base_numbering": 1,
   "nav_menu": {},
   "number_sections": true,
   "sideBar": true,
   "skip_h1_title": false,
   "title_cell": "Table of Contents",
   "title_sidebar": "Contents",
   "toc_cell": false,
   "toc_position": {},
   "toc_section_display": true,
   "toc_window_display": false
  }
 },
 "nbformat": 4,
 "nbformat_minor": 2
}
