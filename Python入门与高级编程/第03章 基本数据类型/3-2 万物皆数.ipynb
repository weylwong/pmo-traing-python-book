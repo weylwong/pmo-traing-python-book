{
 "cells": [
  {
   "cell_type": "markdown",
   "metadata": {
    "slideshow": {
     "slide_type": "slide"
    }
   },
   "source": [
    "# 基本数据类型---整数\n",
    "\n",
    "> 万物皆数（All is number.） ---毕达哥拉斯 \n",
    "\n",
    "在古希腊毕达哥拉斯学派中，认为世界万物都可以用数来衡量。这里只是想说，数字是人类社会长期发展都是不可或缺的最基础之物。\n",
    "\n",
    "那什么是整数呢？整数是没有定义的，整数（integer）就是像$-65536， -256, -1, 0, 1, 256， 65536$等这样的数。"
   ]
  },
  {
   "cell_type": "markdown",
   "metadata": {
    "slideshow": {
     "slide_type": "slide"
    }
   },
   "source": [
    "## 创建对象\n",
    "\n",
    "在 Python 中学习和使用一种数据类型，首要的是如何创建这种类型的对象。可以通过字面常数、变量定义，表达式来创建整数对象。如下代码会创建两个整数对象："
   ]
  },
  {
   "cell_type": "code",
   "execution_count": 2,
   "metadata": {
    "slideshow": {
     "slide_type": "slide"
    }
   },
   "outputs": [
    {
     "name": "stdout",
     "output_type": "stream",
     "text": [
      "1 10000000000000000000000000000000000000000000000000000000000000000000000000000000000000000000000000000\n"
     ]
    }
   ],
   "source": [
    "i = 1\n",
    "googol = 10 ** 100\n",
    "print(i, googol)"
   ]
  },
  {
   "cell_type": "markdown",
   "metadata": {
    "slideshow": {
     "slide_type": "slide"
    }
   },
   "source": [
    "## 自省\n",
    "\n",
    "在 Python中，万物皆对象。对象是类的实例，类是对象的抽象。Python 提供了丰富的自省方法来来帮助认识对象。再重复一下对象三省的续貂之言：\n",
    "> 吾每遇对象必自省，用变量而知其类乎？用其值而知属性乎？用其法而知方法乎？"
   ]
  },
  {
   "cell_type": "markdown",
   "metadata": {
    "slideshow": {
     "slide_type": "slide"
    }
   },
   "source": [
    "### 对象的特性\n",
    "\n",
    "对象有3个特性，类型，身份标识与值。首先使用`type()`看看这些对象是什么类的实例（啥东西）："
   ]
  },
  {
   "cell_type": "code",
   "execution_count": 2,
   "metadata": {
    "slideshow": {
     "slide_type": "-"
    }
   },
   "outputs": [
    {
     "name": "stdout",
     "output_type": "stream",
     "text": [
      "<class 'int'> <class 'int'> <class 'int'> <class 'int'>\n"
     ]
    }
   ],
   "source": [
    "print(type(i), type(googol), type(123), type(1 + 1))"
   ]
  },
  {
   "cell_type": "markdown",
   "metadata": {
    "slideshow": {
     "slide_type": "slide"
    }
   },
   "source": [
    "由上可以看出，它们都是类(`int`)的实例，是整数对象。也可以使用`isinstance()`函数来检查对象是否是指定类的实例："
   ]
  },
  {
   "cell_type": "code",
   "execution_count": 3,
   "metadata": {
    "slideshow": {
     "slide_type": "-"
    }
   },
   "outputs": [
    {
     "data": {
      "text/plain": [
       "(True, True)"
      ]
     },
     "execution_count": 3,
     "metadata": {},
     "output_type": "execute_result"
    }
   ],
   "source": [
    "isinstance(i, int), isinstance(googol, int)"
   ]
  },
  {
   "cell_type": "markdown",
   "metadata": {
    "slideshow": {
     "slide_type": "slide"
    }
   },
   "source": [
    "使用内置函数`id()`查看对象内存地址"
   ]
  },
  {
   "cell_type": "code",
   "execution_count": 4,
   "metadata": {
    "slideshow": {
     "slide_type": "-"
    }
   },
   "outputs": [
    {
     "name": "stdout",
     "output_type": "stream",
     "text": [
      "1827565024 2177583731600 1827565024 1827565056\n"
     ]
    }
   ],
   "source": [
    "print(id(i), id(googol), id(1), id(1+1))"
   ]
  },
  {
   "cell_type": "markdown",
   "metadata": {
    "slideshow": {
     "slide_type": "slide"
    }
   },
   "source": [
    "> 在 Python 中对象一旦创建，在其生命周期，类型和身份标识不能改变。对象的值如果可以修改称为可变（mutable）对象，如果不能修改则成为不可变（immutable）对象。\n",
    "\n",
    "那整数对象的值是什么，能不能修改？呵呵，整数的值就是这些数。整数对象是不可变对象，实际上Python基本数据类型都是不可变对象。\n",
    "\n",
    "不可变对象是不能进行修改的，如果要进行修改，Python 就会抛出异常报错。那么对于整数变量，例如上面创建的变量`i, googol`，如何“变”起来呢？例如："
   ]
  },
  {
   "cell_type": "code",
   "execution_count": 5,
   "metadata": {
    "slideshow": {
     "slide_type": "slide"
    }
   },
   "outputs": [],
   "source": [
    "i = 1\n",
    "i = 2\n",
    "i = i + 1"
   ]
  },
  {
   "cell_type": "markdown",
   "metadata": {
    "slideshow": {
     "slide_type": "-"
    }
   },
   "source": [
    "1. 当运行第1行代码是，创建一个值为1的整数对象，并赋值为变量`i`；\n",
    "2. 当执行第2行代码是，会把变量`i`指向新创建对象，其值为2；\n",
    "3. 当执行第3行代码时，首先计算表达式`i+1`，创建值为3的整数对象，然后再把`i`指向这个对象。\n",
    "\n",
    "![](../images/integer_var_status.png)\n",
    "\n",
    "在这个过程中，整数对象自身并没有改变，只是创建了新的对象。"
   ]
  },
  {
   "cell_type": "markdown",
   "metadata": {
    "slideshow": {
     "slide_type": "slide"
    }
   },
   "source": [
    "也就是说，当我们使用赋值语句时，会创建一个对象，并用变量来引用该对象。下面定义3个变量"
   ]
  },
  {
   "cell_type": "code",
   "execution_count": 6,
   "metadata": {
    "slideshow": {
     "slide_type": "slide"
    }
   },
   "outputs": [],
   "source": [
    "g1 = 10 ** 100\n",
    "g2 = 10 ** 100\n",
    "g3 = g1"
   ]
  },
  {
   "cell_type": "markdown",
   "metadata": {
    "slideshow": {
     "slide_type": "slide"
    }
   },
   "source": [
    "前2行赋值语句使用字面常数来创建变量，会创建两个对象，并指向对应的变量；第3行定义的变量则指向`g1`引用的对象：\n",
    "\n",
    "![](../images/integer_three_objects.png)"
   ]
  },
  {
   "cell_type": "markdown",
   "metadata": {
    "slideshow": {
     "slide_type": "slide"
    }
   },
   "source": [
    "显然这3个变量指向的对象的值是相同的，可以使用`==`来判断对象的值相同："
   ]
  },
  {
   "cell_type": "code",
   "execution_count": 7,
   "metadata": {
    "slideshow": {
     "slide_type": "-"
    }
   },
   "outputs": [
    {
     "name": "stdout",
     "output_type": "stream",
     "text": [
      "True\n",
      "True\n"
     ]
    }
   ],
   "source": [
    "print(g1 == g2)\n",
    "\n",
    "print(g1 == g3)"
   ]
  },
  {
   "cell_type": "markdown",
   "metadata": {
    "slideshow": {
     "slide_type": "slide"
    }
   },
   "source": [
    "变量`g1`与`g2`的值相同，但却引用两个不同的对象，也就是说对应的身份地址是不同，可以使用`id()`来检查："
   ]
  },
  {
   "cell_type": "code",
   "execution_count": 8,
   "metadata": {
    "slideshow": {
     "slide_type": "-"
    }
   },
   "outputs": [
    {
     "data": {
      "text/plain": [
       "(2177583732896, 2177583786288, 2177583732896)"
      ]
     },
     "execution_count": 8,
     "metadata": {},
     "output_type": "execute_result"
    }
   ],
   "source": [
    "id(g1), id(g2), id(g3)"
   ]
  },
  {
   "cell_type": "markdown",
   "metadata": {
    "slideshow": {
     "slide_type": "slide"
    }
   },
   "source": [
    "在 Python 中提供有**身份运算符**`is`，用来检查两个变量的身份地址是否相同："
   ]
  },
  {
   "cell_type": "code",
   "execution_count": 9,
   "metadata": {
    "slideshow": {
     "slide_type": "-"
    }
   },
   "outputs": [
    {
     "name": "stdout",
     "output_type": "stream",
     "text": [
      "False\n",
      "True\n",
      "True\n",
      "False\n"
     ]
    }
   ],
   "source": [
    "# 检查身份是否相同\n",
    "print(g1 is g2)\n",
    "print(g1 is g3)\n",
    "\n",
    "# 检查身份是否不同\n",
    "print(g1 is not g2)\n",
    "print(g1 is not g3)"
   ]
  },
  {
   "cell_type": "markdown",
   "metadata": {
    "slideshow": {
     "slide_type": "slide"
    }
   },
   "source": [
    "#### Python 整数的内存秘密\n",
    "\n",
    "在上面的赋值语句中，当使用相同的字面常数来定义变量时，其身份地址是不同。但看看下面的代码："
   ]
  },
  {
   "cell_type": "code",
   "execution_count": 10,
   "metadata": {
    "slideshow": {
     "slide_type": "-"
    }
   },
   "outputs": [
    {
     "data": {
      "text/plain": [
       "True"
      ]
     },
     "execution_count": 10,
     "metadata": {},
     "output_type": "execute_result"
    }
   ],
   "source": [
    "i1 = 256\n",
    "i2 = 256\n",
    "i1 is i2"
   ]
  },
  {
   "cell_type": "markdown",
   "metadata": {
    "slideshow": {
     "slide_type": "slide"
    }
   },
   "source": [
    "它们的身份确是相同的，这是为啥呢？在 Python 中，每次定义变量可能都会创建对象，也就是分配内存。当对象没有引用时，就销毁内存。显然会影响 Python 程序的运行效率。所以，Python 会事先创建一批整数对象，这样当定义小一点的整数变量时，就不用反复创建和销毁内存了。这些数字的范围大约为$[-5,256]$："
   ]
  },
  {
   "cell_type": "code",
   "execution_count": 11,
   "metadata": {
    "slideshow": {
     "slide_type": "-"
    }
   },
   "outputs": [
    {
     "name": "stdout",
     "output_type": "stream",
     "text": [
      "False\n",
      "True\n",
      "True\n",
      "False\n"
     ]
    }
   ],
   "source": [
    "i1 = -6\n",
    "i2 = -6\n",
    "print(i1 is i2)\n",
    "i1 = -5\n",
    "i2 = -5\n",
    "print(i1 is i2)\n",
    "i1 = 256\n",
    "i2 = 256\n",
    "print(i1 is i2)\n",
    "i1 = 257\n",
    "i2 = 258\n",
    "print(i1 is i2)"
   ]
  },
  {
   "cell_type": "markdown",
   "metadata": {
    "slideshow": {
     "slide_type": "slide"
    }
   },
   "source": [
    "对于不变对象而言，不知道它们在内存中是如何分配，并不影响工作，但却有助于理解 Python 的运行。"
   ]
  },
  {
   "cell_type": "markdown",
   "metadata": {
    "slideshow": {
     "slide_type": "slide"
    }
   },
   "source": [
    "### 对象属性和方法\n",
    "\n",
    "站在实用主义的角度出发，遇到一个对象，重要的是使用它们，那么需要知道这些对象有哪些属性和方法。Python 提供了多种自省方法："
   ]
  },
  {
   "cell_type": "markdown",
   "metadata": {
    "slideshow": {
     "slide_type": "slide"
    }
   },
   "source": [
    "调用`help()`函数，传入一个对象，可以列出该对象的帮助，其中包括对象拥有的方法及其数据。例如，查看变量`googol`的帮助信息："
   ]
  },
  {
   "cell_type": "code",
   "execution_count": 41,
   "metadata": {},
   "outputs": [
    {
     "name": "stdout",
     "output_type": "stream",
     "text": [
      "Help on int object:\n",
      "\n",
      "class int(object)\n",
      " |  int(x=0) -> integer\n",
      " |  int(x, base=10) -> integer\n",
      " |  \n",
      " |  Convert a number or string to an integer, or return 0 if no arguments\n",
      " |  are given.  If x is a number, return x.__int__().  For floating point\n",
      " |  numbers, this truncates towards zero.\n",
      " |  \n",
      " |  If x is not a number or if base is given, then x must be a string,\n",
      " |  bytes, or bytearray instance representing an integer literal in the\n",
      " |  given base.  The literal can be preceded by '+' or '-' and be surrounded\n",
      " |  by whitespace.  The base defaults to 10.  Valid bases are 0 and 2-36.\n",
      " |  Base 0 means to interpret the base from the string as an integer literal.\n",
      " |  >>> int('0b100', base=0)\n",
      " |  4\n",
      " |  \n",
      " |  Methods defined here:\n",
      " |  \n",
      " |  __abs__(self, /)\n",
      " |      abs(self)\n",
      " |  \n",
      " |  __add__(self, value, /)\n",
      " |      Return self+value.\n",
      " |  \n",
      " |  __and__(self, value, /)\n",
      " |      Return self&value.\n",
      " |  \n",
      " |  __bool__(self, /)\n",
      " |      self != 0\n",
      " |  \n",
      " |  __ceil__(...)\n",
      " |      Ceiling of an Integral returns itself.\n",
      " |  \n",
      " |  __divmod__(self, value, /)\n",
      " |      Return divmod(self, value).\n",
      " |  \n",
      " |  __eq__(self, value, /)\n",
      " |      Return self==value.\n",
      " |  \n",
      " |  __float__(self, /)\n",
      " |      float(self)\n",
      " |  \n",
      " |  __floor__(...)\n",
      " |      Flooring an Integral returns itself.\n",
      " |  \n",
      " |  __floordiv__(self, value, /)\n",
      " |      Return self//value.\n",
      " |  \n",
      " |  __format__(...)\n",
      " |      default object formatter\n",
      " |  \n",
      " |  __ge__(self, value, /)\n",
      " |      Return self>=value.\n",
      " |  \n",
      " |  __getattribute__(self, name, /)\n",
      " |      Return getattr(self, name).\n",
      " |  \n",
      " |  __getnewargs__(...)\n",
      " |  \n",
      " |  __gt__(self, value, /)\n",
      " |      Return self>value.\n",
      " |  \n",
      " |  __hash__(self, /)\n",
      " |      Return hash(self).\n",
      " |  \n",
      " |  __index__(self, /)\n",
      " |      Return self converted to an integer, if self is suitable for use as an index into a list.\n",
      " |  \n",
      " |  __int__(self, /)\n",
      " |      int(self)\n",
      " |  \n",
      " |  __invert__(self, /)\n",
      " |      ~self\n",
      " |  \n",
      " |  __le__(self, value, /)\n",
      " |      Return self<=value.\n",
      " |  \n",
      " |  __lshift__(self, value, /)\n",
      " |      Return self<<value.\n",
      " |  \n",
      " |  __lt__(self, value, /)\n",
      " |      Return self<value.\n",
      " |  \n",
      " |  __mod__(self, value, /)\n",
      " |      Return self%value.\n",
      " |  \n",
      " |  __mul__(self, value, /)\n",
      " |      Return self*value.\n",
      " |  \n",
      " |  __ne__(self, value, /)\n",
      " |      Return self!=value.\n",
      " |  \n",
      " |  __neg__(self, /)\n",
      " |      -self\n",
      " |  \n",
      " |  __new__(*args, **kwargs) from builtins.type\n",
      " |      Create and return a new object.  See help(type) for accurate signature.\n",
      " |  \n",
      " |  __or__(self, value, /)\n",
      " |      Return self|value.\n",
      " |  \n",
      " |  __pos__(self, /)\n",
      " |      +self\n",
      " |  \n",
      " |  __pow__(self, value, mod=None, /)\n",
      " |      Return pow(self, value, mod).\n",
      " |  \n",
      " |  __radd__(self, value, /)\n",
      " |      Return value+self.\n",
      " |  \n",
      " |  __rand__(self, value, /)\n",
      " |      Return value&self.\n",
      " |  \n",
      " |  __rdivmod__(self, value, /)\n",
      " |      Return divmod(value, self).\n",
      " |  \n",
      " |  __repr__(self, /)\n",
      " |      Return repr(self).\n",
      " |  \n",
      " |  __rfloordiv__(self, value, /)\n",
      " |      Return value//self.\n",
      " |  \n",
      " |  __rlshift__(self, value, /)\n",
      " |      Return value<<self.\n",
      " |  \n",
      " |  __rmod__(self, value, /)\n",
      " |      Return value%self.\n",
      " |  \n",
      " |  __rmul__(self, value, /)\n",
      " |      Return value*self.\n",
      " |  \n",
      " |  __ror__(self, value, /)\n",
      " |      Return value|self.\n",
      " |  \n",
      " |  __round__(...)\n",
      " |      Rounding an Integral returns itself.\n",
      " |      Rounding with an ndigits argument also returns an integer.\n",
      " |  \n",
      " |  __rpow__(self, value, mod=None, /)\n",
      " |      Return pow(value, self, mod).\n",
      " |  \n",
      " |  __rrshift__(self, value, /)\n",
      " |      Return value>>self.\n",
      " |  \n",
      " |  __rshift__(self, value, /)\n",
      " |      Return self>>value.\n",
      " |  \n",
      " |  __rsub__(self, value, /)\n",
      " |      Return value-self.\n",
      " |  \n",
      " |  __rtruediv__(self, value, /)\n",
      " |      Return value/self.\n",
      " |  \n",
      " |  __rxor__(self, value, /)\n",
      " |      Return value^self.\n",
      " |  \n",
      " |  __sizeof__(...)\n",
      " |      Returns size in memory, in bytes\n",
      " |  \n",
      " |  __str__(self, /)\n",
      " |      Return str(self).\n",
      " |  \n",
      " |  __sub__(self, value, /)\n",
      " |      Return self-value.\n",
      " |  \n",
      " |  __truediv__(self, value, /)\n",
      " |      Return self/value.\n",
      " |  \n",
      " |  __trunc__(...)\n",
      " |      Truncating an Integral returns itself.\n",
      " |  \n",
      " |  __xor__(self, value, /)\n",
      " |      Return self^value.\n",
      " |  \n",
      " |  bit_length(...)\n",
      " |      int.bit_length() -> int\n",
      " |      \n",
      " |      Number of bits necessary to represent self in binary.\n",
      " |      >>> bin(37)\n",
      " |      '0b100101'\n",
      " |      >>> (37).bit_length()\n",
      " |      6\n",
      " |  \n",
      " |  conjugate(...)\n",
      " |      Returns self, the complex conjugate of any int.\n",
      " |  \n",
      " |  from_bytes(...) from builtins.type\n",
      " |      int.from_bytes(bytes, byteorder, *, signed=False) -> int\n",
      " |      \n",
      " |      Return the integer represented by the given array of bytes.\n",
      " |      \n",
      " |      The bytes argument must be a bytes-like object (e.g. bytes or bytearray).\n",
      " |      \n",
      " |      The byteorder argument determines the byte order used to represent the\n",
      " |      integer.  If byteorder is 'big', the most significant byte is at the\n",
      " |      beginning of the byte array.  If byteorder is 'little', the most\n",
      " |      significant byte is at the end of the byte array.  To request the native\n",
      " |      byte order of the host system, use `sys.byteorder' as the byte order value.\n",
      " |      \n",
      " |      The signed keyword-only argument indicates whether two's complement is\n",
      " |      used to represent the integer.\n",
      " |  \n",
      " |  to_bytes(...)\n",
      " |      int.to_bytes(length, byteorder, *, signed=False) -> bytes\n",
      " |      \n",
      " |      Return an array of bytes representing an integer.\n",
      " |      \n",
      " |      The integer is represented using length bytes.  An OverflowError is\n",
      " |      raised if the integer is not representable with the given number of\n",
      " |      bytes.\n",
      " |      \n",
      " |      The byteorder argument determines the byte order used to represent the\n",
      " |      integer.  If byteorder is 'big', the most significant byte is at the\n",
      " |      beginning of the byte array.  If byteorder is 'little', the most\n",
      " |      significant byte is at the end of the byte array.  To request the native\n",
      " |      byte order of the host system, use `sys.byteorder' as the byte order value.\n",
      " |      \n",
      " |      The signed keyword-only argument determines whether two's complement is\n",
      " |      used to represent the integer.  If signed is False and a negative integer\n",
      " |      is given, an OverflowError is raised.\n",
      " |  \n",
      " |  ----------------------------------------------------------------------\n",
      " |  Data descriptors defined here:\n",
      " |  \n",
      " |  denominator\n",
      " |      the denominator of a rational number in lowest terms\n",
      " |  \n",
      " |  imag\n",
      " |      the imaginary part of a complex number\n",
      " |  \n",
      " |  numerator\n",
      " |      the numerator of a rational number in lowest terms\n",
      " |  \n",
      " |  real\n",
      " |      the real part of a complex number\n",
      "\n"
     ]
    }
   ],
   "source": [
    "help(googol)"
   ]
  },
  {
   "cell_type": "markdown",
   "metadata": {
    "slideshow": {
     "slide_type": "slide"
    }
   },
   "source": [
    "使用内置函数`dir()`可以列出对象的属性和方法："
   ]
  },
  {
   "cell_type": "code",
   "execution_count": 47,
   "metadata": {
    "slideshow": {
     "slide_type": "-"
    }
   },
   "outputs": [
    {
     "name": "stdout",
     "output_type": "stream",
     "text": [
      "['__abs__', '__add__', '__and__', '__bool__', '__ceil__', '__class__', '__delattr__', '__dir__', '__divmod__', '__doc__', '__eq__', '__float__', '__floor__', '__floordiv__', '__format__', '__ge__', '__getattribute__', '__getnewargs__', '__gt__', '__hash__', '__index__', '__init__', '__init_subclass__', '__int__', '__invert__', '__le__', '__lshift__', '__lt__', '__mod__', '__mul__', '__ne__', '__neg__', '__new__', '__or__', '__pos__', '__pow__', '__radd__', '__rand__', '__rdivmod__', '__reduce__', '__reduce_ex__', '__repr__', '__rfloordiv__', '__rlshift__', '__rmod__', '__rmul__', '__ror__', '__round__', '__rpow__', '__rrshift__', '__rshift__', '__rsub__', '__rtruediv__', '__rxor__', '__setattr__', '__sizeof__', '__str__', '__sub__', '__subclasshook__', '__truediv__', '__trunc__', '__xor__', 'bit_length', 'conjugate', 'denominator', 'from_bytes', 'imag', 'numerator', 'real', 'to_bytes']\n"
     ]
    }
   ],
   "source": [
    "print(dir(googol))"
   ]
  },
  {
   "cell_type": "markdown",
   "metadata": {
    "slideshow": {
     "slide_type": "slide"
    }
   },
   "source": [
    "Python 内置函数`hasattr()`用来检查对象是否存在指定属性或方法："
   ]
  },
  {
   "cell_type": "code",
   "execution_count": 48,
   "metadata": {
    "slideshow": {
     "slide_type": "-"
    }
   },
   "outputs": [
    {
     "data": {
      "text/plain": [
       "True"
      ]
     },
     "execution_count": 48,
     "metadata": {},
     "output_type": "execute_result"
    }
   ],
   "source": [
    "hasattr(googol, '__add__')"
   ]
  },
  {
   "cell_type": "markdown",
   "metadata": {
    "slideshow": {
     "slide_type": "slide"
    }
   },
   "source": [
    "#### 魔术方法\n",
    "\n",
    "在整数对象使用自省和帮助函数时，例如使用`dir()`函数，我们发现整数对象有如下成员：\n",
    "```\n",
    "['__abs__',\n",
    " '__add__',\n",
    " ...\n",
    "```\n",
    "\n",
    "大家或许会想，`__add__`是不是加法啊？想了就做，尝试一下："
   ]
  },
  {
   "cell_type": "code",
   "execution_count": 49,
   "metadata": {
    "slideshow": {
     "slide_type": "-"
    }
   },
   "outputs": [
    {
     "data": {
      "text/plain": [
       "10000000000000000000000000000000000000000000000000000000000000000000000000000000000000000000000000001"
      ]
     },
     "execution_count": 49,
     "metadata": {},
     "output_type": "execute_result"
    }
   ],
   "source": [
    "googol.__add__(1)"
   ]
  },
  {
   "cell_type": "markdown",
   "metadata": {
    "slideshow": {
     "slide_type": "slide"
    }
   },
   "source": [
    "确实是加法！大家也许准备吐槽，Python也不咋地啊，Guido的数学是不是体育老师教的，在其它语言可以直接写为`googol + 1`，这种数学操作符号岂不简单又直观。确实如此，这样写确实更简洁优雅。不过 Python 也绝对不会笨的，可以试一下："
   ]
  },
  {
   "cell_type": "code",
   "execution_count": 16,
   "metadata": {
    "slideshow": {
     "slide_type": "-"
    }
   },
   "outputs": [
    {
     "data": {
      "text/plain": [
       "10000000000000000000000000000000000000000000000000000000000000000000000000000000000000000000000000001"
      ]
     },
     "execution_count": 16,
     "metadata": {},
     "output_type": "execute_result"
    }
   ],
   "source": [
    "googol + 1"
   ]
  },
  {
   "cell_type": "markdown",
   "metadata": {
    "slideshow": {
     "slide_type": "slide"
    }
   },
   "source": [
    "二者结果是一样的，那为什么多此一举呢？Python之父对语言设计美学的深入理解绝对厉害，其设计的 Python 语言简洁优雅，而且一致性非常好。在 Python 中万物皆对象，对象中使用双划线`__`包括起来方法，称为特殊方法或魔术方法（magic method），有时也称为双下方法，还为此创建了新词“dunder”(double under)。\n",
    "\n",
    "无论是整数，浮点数，还是字符串等其它类型，只要定义了`__add__`魔术方法，就可以使用`+`运算符来操作。使用`+`运算符操作，实际是调用`__add__`方法。"
   ]
  },
  {
   "cell_type": "markdown",
   "metadata": {
    "slideshow": {
     "slide_type": "slide"
    }
   },
   "source": [
    "在下面运算符操作一节中，将详细介绍各种运算符操作。"
   ]
  },
  {
   "cell_type": "markdown",
   "metadata": {
    "slideshow": {
     "slide_type": "slide"
    }
   },
   "source": [
    "#### 普通方法\n",
    "\n",
    "整数对象还有一些常规方法：\n",
    "- `bit_length()`，获得整数的位数。"
   ]
  },
  {
   "cell_type": "code",
   "execution_count": 53,
   "metadata": {
    "slideshow": {
     "slide_type": "-"
    }
   },
   "outputs": [
    {
     "name": "stdout",
     "output_type": "stream",
     "text": [
      "2\n",
      "333\n"
     ]
    }
   ],
   "source": [
    "print(i.bit_length())\n",
    "print(googol.bit_length())"
   ]
  },
  {
   "cell_type": "markdown",
   "metadata": {
    "slideshow": {
     "slide_type": "-"
    }
   },
   "source": [
    "可以看出整数大小不同，在内存中占用的位数也不相同。"
   ]
  },
  {
   "cell_type": "markdown",
   "metadata": {
    "slideshow": {
     "slide_type": "slide"
    }
   },
   "source": [
    "#### 属性与方法的差别\n",
    "\n",
    "对于一个对象来说，通常具有一些属性（特征）和方法（行为），二者的区别是，前者是数据值，后者类似可调用的方法。Python 提供了自省用的函数`callable()`，来检查其是否可调用。例如，如下代码检查整数对象的成员`__add__`与`real`："
   ]
  },
  {
   "cell_type": "code",
   "execution_count": 58,
   "metadata": {
    "slideshow": {
     "slide_type": "-"
    }
   },
   "outputs": [
    {
     "name": "stdout",
     "output_type": "stream",
     "text": [
      "True\n",
      "False\n"
     ]
    }
   ],
   "source": [
    "print(callable(googol.__add__))\n",
    "print(callable(googol.real))"
   ]
  },
  {
   "cell_type": "markdown",
   "metadata": {
    "slideshow": {
     "slide_type": "slide"
    }
   },
   "source": [
    "可知，前者是整数对象的模式方法，后者是整数对象的属性。整数有两个属性`real`与`imag`，基本上没有大用，主要是和复数等数值类型保持一致。"
   ]
  },
  {
   "cell_type": "code",
   "execution_count": 59,
   "metadata": {
    "slideshow": {
     "slide_type": "-"
    }
   },
   "outputs": [
    {
     "name": "stdout",
     "output_type": "stream",
     "text": [
      "10000000000000000000000000000000000000000000000000000000000000000000000000000000000000000000000000000 0\n"
     ]
    }
   ],
   "source": [
    "print(googol.real, googol.imag)"
   ]
  },
  {
   "cell_type": "markdown",
   "metadata": {
    "slideshow": {
     "slide_type": "slide"
    }
   },
   "source": [
    "## 运算符操作\n",
    "\n",
    "上面讲过，在 Python 中，运算符与魔术方法相关，这里介绍一些常用的操作符。"
   ]
  },
  {
   "cell_type": "markdown",
   "metadata": {
    "slideshow": {
     "slide_type": "slide"
    }
   },
   "source": [
    "### 算术运算符\n",
    "\n",
    "下面列出算术运算符及其对应的魔术方法\n",
    "\n",
    "|运算符 | 魔术方法    |  说明   |\n",
    "| :----:|:-------------| -------: |\n",
    "| `+`  | `__add__`    | 加法   |\n",
    "| `-`  | `__sub__`    | 减法   |\n",
    "| `*`  | `__mul__`    | 乘法   |\n",
    "| `/`  | `__truediv__` | 真除   |\n",
    "| `//` | `__floordiv__`| 地板除  |\n",
    "| `%`  | `__mod__`    | 求余   |\n",
    "| `**` | `__pow__`    | 求幂   |"
   ]
  },
  {
   "cell_type": "code",
   "execution_count": 60,
   "metadata": {},
   "outputs": [
    {
     "name": "stdout",
     "output_type": "stream",
     "text": [
      "2\n",
      "10000000000000000000000000000000000000000000000000000000000000000000000000000000000000000000000000100\n",
      "255\n",
      "0\n",
      "256\n",
      "1280000000000000000000000000000000000000000000000000000000000000000000000000000000000000000000000000000\n"
     ]
    }
   ],
   "source": [
    "# 加法(__add__)\n",
    "print(1 + 1)\n",
    "print(googol + 100)\n",
    "\n",
    "# 减法(__sub__)\n",
    "print(256 - 1)\n",
    "print(googol - googol)\n",
    "\n",
    "# 乘法(__mul__)\n",
    "print(16 * 16)\n",
    "print(googol * 128)"
   ]
  },
  {
   "cell_type": "markdown",
   "metadata": {
    "slideshow": {
     "slide_type": "slide"
    }
   },
   "source": [
    "在 Python 中除法包括两种：\n",
    "* 真除，即使分子和分母都是整数对象，也返回一个浮点数值\n",
    "* 整除（地板除），即整除，返回一个整数。"
   ]
  },
  {
   "cell_type": "code",
   "execution_count": 61,
   "metadata": {
    "slideshow": {
     "slide_type": "-"
    }
   },
   "outputs": [
    {
     "name": "stdout",
     "output_type": "stream",
     "text": [
      "6.0\n",
      "5\n",
      "1\n"
     ]
    }
   ],
   "source": [
    "# 真除(__truediv__)\n",
    "print(12 / 2)\n",
    "# 地板除(__floordiv__)\n",
    "print(11 // 2)"
   ]
  },
  {
   "cell_type": "markdown",
   "metadata": {
    "slideshow": {
     "slide_type": "slide"
    }
   },
   "source": [
    "在 Python 2 中，除法称为传统除法，整数除法相对于执行地板除：\n",
    "```python\n",
    "# python 2\n",
    "11 / 2 == 5\n",
    "```"
   ]
  },
  {
   "cell_type": "code",
   "execution_count": 63,
   "metadata": {
    "slideshow": {
     "slide_type": "slide"
    }
   },
   "outputs": [
    {
     "name": "stdout",
     "output_type": "stream",
     "text": [
      "1\n",
      "65536\n"
     ]
    }
   ],
   "source": [
    "# 取模（求余）(__mod__)\n",
    "print(11 % 2)      \n",
    "\n",
    "# 求幂(__pow__)\n",
    "print(2 ** 16)"
   ]
  },
  {
   "cell_type": "markdown",
   "metadata": {},
   "source": [
    "还有几个魔术方法，对应的是 Python 的内置函数运算：\n",
    "\n",
    "|运算符 | 魔术方法    |  说明   |\n",
    "| :----:|:-------------| -------: |\n",
    "| `divmod()`  | `__divmod__`  | 地板除与求余   |\n",
    "| `pow`     | `__pow__`    | 求幂   |"
   ]
  },
  {
   "cell_type": "markdown",
   "metadata": {
    "slideshow": {
     "slide_type": "slide"
    }
   },
   "source": [
    "定义了这些魔术方法，就可以使用 Python 内置函数`divmod()`：\n",
    "```python\n",
    "divmod (a,b)\n",
    "```\n",
    "即返回`(a//b, a%b)`结果"
   ]
  },
  {
   "cell_type": "code",
   "execution_count": 67,
   "metadata": {
    "slideshow": {
     "slide_type": "-"
    }
   },
   "outputs": [
    {
     "data": {
      "text/plain": [
       "(5, 1)"
      ]
     },
     "execution_count": 67,
     "metadata": {},
     "output_type": "execute_result"
    }
   ],
   "source": [
    "# divmod (__divmod__)\n",
    "divmod(11, 2)"
   ]
  },
  {
   "cell_type": "code",
   "execution_count": 65,
   "metadata": {
    "slideshow": {
     "slide_type": "-"
    }
   },
   "outputs": [
    {
     "name": "stdout",
     "output_type": "stream",
     "text": [
      "65536\n",
      "4294967296\n"
     ]
    }
   ],
   "source": [
    "# pow (__pow__)\n",
    "print(pow(2, 16))\n",
    "print(pow(2, 32))"
   ]
  },
  {
   "cell_type": "markdown",
   "metadata": {},
   "source": [
    "### 一元运算符\n",
    "\n",
    "|运算符  | 魔术方法    |  说明   |\n",
    "| :-----:|:-------------| -------: |\n",
    "| `-`   | `__neg__`   | 取负    |\n",
    "| `+`   | `__pos__`   | 取正   |\n",
    "| `abs()`| `__abs__`   | 求绝对值 |"
   ]
  },
  {
   "cell_type": "code",
   "execution_count": 72,
   "metadata": {
    "slideshow": {
     "slide_type": "slide"
    }
   },
   "outputs": [
    {
     "name": "stdout",
     "output_type": "stream",
     "text": [
      "-10000000000000000000000000000000000000000000000000000000000000000000000000000000000000000000000000000\n",
      "10000000000000000000000000000000000000000000000000000000000000000000000000000000000000000000000000000\n"
     ]
    }
   ],
   "source": [
    "# 取负\n",
    "print(-googol)\n",
    "# 取正，用于澄清代码\n",
    "print(+googol)"
   ]
  },
  {
   "cell_type": "markdown",
   "metadata": {
    "slideshow": {
     "slide_type": "slide"
    }
   },
   "source": [
    "定义了`__abs__` 方法，就可以使用 Python 内置函数`abs()`来计算绝对值："
   ]
  },
  {
   "cell_type": "code",
   "execution_count": 71,
   "metadata": {
    "slideshow": {
     "slide_type": "-"
    }
   },
   "outputs": [
    {
     "name": "stdout",
     "output_type": "stream",
     "text": [
      "1024\n",
      "3.1314\n"
     ]
    }
   ],
   "source": [
    "# 求绝对值 - `abs` (__abs__)\n",
    "print(abs(-1024))\n",
    "print(abs(-3.1314))"
   ]
  },
  {
   "cell_type": "markdown",
   "metadata": {},
   "source": [
    "###  反向算术运算符\n",
    "\n",
    "当运行`a + b`时，变量`a`引用的对象没有定义魔术方法`__add__`，那么就会调用变量`b`引用对象的魔术方法`__radd__`。\n",
    "\n",
    "|运算符 | 魔术方法    |  说明      |\n",
    "| :----:|:-------------| ------------: |\n",
    "| `+`  | `__radd__`    | 加法右向操作 |\n",
    "| `-`  | `__rsub__`    | 减法右向操作 |\n",
    "| `*`  | `__rmul__`    | 乘法右向操作 |\n",
    "| `/`  | `__rtruediv__` | 除法右向操作 |\n",
    "| `//` | `__rfloordir__`| 除法右向操作 |\n",
    "| `%`  | `__rmod__`    | 求余右向操作 |\n",
    "| `**` | `__rpow__`    | 求幂右向操作 |"
   ]
  },
  {
   "cell_type": "markdown",
   "metadata": {
    "slideshow": {
     "slide_type": "slide"
    }
   },
   "source": [
    "###  增强型赋值运算符\n",
    "\n",
    "在编程中经常会遇到如下操作：\n",
    "```python\n",
    "a = a + b\n",
    "```\n",
    "即把变量`a`与另一个对象进行操作运算，再把结果赋值给变量`a`。与其它语言一样，Python 也提供有增强型赋值运算符来实现上述运算，例如：\n",
    "```python\n",
    "a += b\n",
    "```"
   ]
  },
  {
   "cell_type": "markdown",
   "metadata": {},
   "source": [
    "增强型赋值运算符 `+=` 对应有魔术方法是`__iadd__()`，不过在整数类中并没有定义这些成员："
   ]
  },
  {
   "cell_type": "code",
   "execution_count": 5,
   "metadata": {},
   "outputs": [
    {
     "data": {
      "text/plain": [
       "False"
      ]
     },
     "execution_count": 5,
     "metadata": {},
     "output_type": "execute_result"
    }
   ],
   "source": [
    "hasattr(googol, '__iadd__')"
   ]
  },
  {
   "cell_type": "markdown",
   "metadata": {},
   "source": [
    "在进行增强型赋值运算 `+=`时，如果对象定义有`__iadd__()` 方法，则会调用该方法，如果为定义的话该赋值操作就相当于：\n",
    "```python\n",
    "a = a + b\n",
    "```\n",
    "\n",
    "对于不可变对象来说，这个操作会调用`__add__()`方法创建一个新的对象，然后再绑定到原变量上。"
   ]
  },
  {
   "cell_type": "markdown",
   "metadata": {
    "slideshow": {
     "slide_type": "slide"
    }
   },
   "source": [
    "对于二元算术运算符（`+,-,/,//,%,**`）来说，均存在类似运算，下表列出了增强型赋值运算符与对应的魔术方法：\n",
    "\n",
    "|运算符 | 魔术方法    |  说明   |\n",
    "| :----:|:--------------| -------: |\n",
    "| `+=`  | `__iadd__`   |  加法   |\n",
    "| `-=`  | `__isub__`   |  减法   |\n",
    "| `*=`  | `__imul__`   |  乘法   |\n",
    "| `/=`  | `__itruediv__` |  真除   |\n",
    "| `//=` | `__ifloordiv__`|  地板除  |\n",
    "| `%=`  | `__imod__`    |  求余   |\n",
    "| `**=` | `__ipow__`    |  求幂   |"
   ]
  },
  {
   "cell_type": "code",
   "execution_count": 73,
   "metadata": {
    "slideshow": {
     "slide_type": "slide"
    }
   },
   "outputs": [
    {
     "name": "stdout",
     "output_type": "stream",
     "text": [
      "3\n"
     ]
    }
   ],
   "source": [
    "x = 2\n",
    "x += 1\n",
    "print(x)"
   ]
  },
  {
   "cell_type": "code",
   "execution_count": 74,
   "metadata": {
    "slideshow": {
     "slide_type": "-"
    }
   },
   "outputs": [
    {
     "name": "stdout",
     "output_type": "stream",
     "text": [
      "5.5\n"
     ]
    }
   ],
   "source": [
    "x = 2\n",
    "x *= 2\n",
    "print(x)"
   ]
  },
  {
   "cell_type": "markdown",
   "metadata": {
    "slideshow": {
     "slide_type": "slide"
    }
   },
   "source": [
    "### 比较运算符     \n",
    "\n",
    "比较运算符用于两个对象的比较，返回值为布尔数。\n",
    "\n",
    "|运算符 | 魔术方法    |  说明   |\n",
    "| :----:|:-------------| -------: |\n",
    "| `<`  | `__lt__`    | 小于    |\n",
    "| `<=`  | `__le__`   | 小于等于 |\n",
    "| `>`  | `__gt__`    | 大于    |\n",
    "| `>=` | `__ge__`    | 大于等于 |\n",
    "| `==`  | `__eq__`   | 等于    |\n",
    "| `!=` | `__ne__`    | 不等于  |"
   ]
  },
  {
   "cell_type": "code",
   "execution_count": 75,
   "metadata": {
    "slideshow": {
     "slide_type": "slide"
    }
   },
   "outputs": [
    {
     "data": {
      "text/plain": [
       "False"
      ]
     },
     "execution_count": 75,
     "metadata": {},
     "output_type": "execute_result"
    }
   ],
   "source": [
    "# 小于(__lt__)\n",
    "googol = 10 ** 100\n",
    "googol < 10 ** 100 - 1"
   ]
  },
  {
   "cell_type": "code",
   "execution_count": 76,
   "metadata": {
    "slideshow": {
     "slide_type": "-"
    }
   },
   "outputs": [
    {
     "data": {
      "text/plain": [
       "True"
      ]
     },
     "execution_count": 76,
     "metadata": {},
     "output_type": "execute_result"
    }
   ],
   "source": [
    "# 大于(__gt__)\n",
    "googol > 10**100 - 1"
   ]
  },
  {
   "cell_type": "markdown",
   "metadata": {
    "slideshow": {
     "slide_type": "slide"
    }
   },
   "source": [
    "## 整数进制\n",
    "\n",
    "默认情况下，整数采用十进制，也可以使用其它进制表示， 例如：\n",
    "- 二进制（以`0b`开始）\n",
    "- 八进制（以`0o`开始）\n",
    "- 十六进制（以`0x`开始）"
   ]
  },
  {
   "cell_type": "code",
   "execution_count": 30,
   "metadata": {
    "slideshow": {
     "slide_type": "slide"
    }
   },
   "outputs": [
    {
     "name": "stdout",
     "output_type": "stream",
     "text": [
      "255 255 255 255\n"
     ]
    }
   ],
   "source": [
    "ix1 = 255\n",
    "ix2 = 0b11111111\n",
    "ix8 = 0o377\n",
    "ix16 = 0xff\n",
    "print(ix1, ix2, ix8, ix16)"
   ]
  },
  {
   "cell_type": "markdown",
   "metadata": {
    "slideshow": {
     "slide_type": "slide"
    }
   },
   "source": [
    "Python 内置提供了几个函数，用户返回整数对象对应进制的字符串：\n",
    "- `bin()`， 返回二进制表示\n",
    "- `oct()`， 返回八进制表示\n",
    "- `hex()`， 返回十六进制表示"
   ]
  },
  {
   "cell_type": "code",
   "execution_count": 31,
   "metadata": {
    "slideshow": {
     "slide_type": "-"
    }
   },
   "outputs": [
    {
     "name": "stdout",
     "output_type": "stream",
     "text": [
      "255\n",
      "0b11111111\n",
      "0o377\n",
      "0xff\n"
     ]
    }
   ],
   "source": [
    "print(ix1)\n",
    "print(bin(ix1))\n",
    "print(oct(ix1))\n",
    "print(hex(ix1))    "
   ]
  },
  {
   "cell_type": "markdown",
   "metadata": {
    "slideshow": {
     "slide_type": "slide"
    }
   },
   "source": [
    "### 位运算符\n",
    "\n",
    "对于整数，可以进行位运算操作，有如下位运算符：  \n",
    "\n",
    "| 运算符 | 魔术方法    |  说明     |\n",
    "| :----: |:-------------| :---------- |\n",
    "| `<<`   | `__lshift__` | 左移运算   |\n",
    "| `>>`   | `__rshift__` | 右移运算   |\n",
    "| `&`    | `__and__`   | 按位与运算  |\n",
    "| <code>&#124;</code>    | `__or__`    | 按位或运算  |\n",
    "| `^`    | `__xor__`   | 按位异或运算|\n",
    "| `~`    | `__invert__` | 按位取反运算|"
   ]
  },
  {
   "cell_type": "markdown",
   "metadata": {
    "slideshow": {
     "slide_type": "slide"
    }
   },
   "source": [
    "下面实例，展示了一些位操作运算："
   ]
  },
  {
   "cell_type": "code",
   "execution_count": 78,
   "metadata": {
    "slideshow": {
     "slide_type": "-"
    }
   },
   "outputs": [
    {
     "name": "stdout",
     "output_type": "stream",
     "text": [
      "0b1111001000\n",
      "0b111100\n",
      "0b0\n"
     ]
    }
   ],
   "source": [
    "# 左移运算(__lshift__)\n",
    "print(bin(0b11110010 << 2))\n",
    "\n",
    "# 右移运算(__rshift__)\n",
    "print(bin(0b11110010 >> 2))\n",
    "\n",
    "# 按位与运算(__and__)\n",
    "print(bin(0b10101010 & 0b01010101))"
   ]
  },
  {
   "cell_type": "markdown",
   "metadata": {
    "slideshow": {
     "slide_type": "slide"
    }
   },
   "source": [
    "## 转换\n",
    "\n",
    "> 在吃的法则里，风味重于一切。中国人从来没有把自己束缚在一张乏味的食品清单上。人们怀着对食物的理解，在不断的尝试中寻求着转化的灵感。\n",
    "> ---舌尖上的中国\n",
    "\n",
    "对于吃货来说，可以从豆子做出豆腐、豆浆，豆腐脑，豆皮等各种美食。在 Python 中，也需要在不同数据类型之间进行转换。"
   ]
  },
  {
   "cell_type": "markdown",
   "metadata": {
    "slideshow": {
     "slide_type": "slide"
    }
   },
   "source": [
    "在前面的实例中，都是使用字面常数或表达式来创建整数对象。除此之外，可以使用 Python 内置函数`int()`类来构造一个对象，例如下面代码会把其它类型数据转换为整数："
   ]
  },
  {
   "cell_type": "code",
   "execution_count": 88,
   "metadata": {
    "slideshow": {
     "slide_type": "-"
    }
   },
   "outputs": [
    {
     "name": "stdout",
     "output_type": "stream",
     "text": [
      "<class 'int'> <class 'int'> <class 'int'> <class 'int'>\n",
      "0 1 1024 1024\n"
     ]
    }
   ],
   "source": [
    "ixx0 = int()\n",
    "ixx1 = int(True)\n",
    "ixx2 = int(1024.1)\n",
    "ixx3 = int('1024')\n",
    "print(type(ixx0), type(ixx1), type(ixx2), type(ixx3))\n",
    "print(ixx0, ixx1, ixx2, ixx3)"
   ]
  },
  {
   "cell_type": "markdown",
   "metadata": {
    "slideshow": {
     "slide_type": "-"
    }
   },
   "source": [
    "> 注意！ `int`实际上是 Python 内置的数据类，类似的还有很多，但大家习惯上仍称呼它们为函数。"
   ]
  },
  {
   "cell_type": "markdown",
   "metadata": {
    "slideshow": {
     "slide_type": "slide"
    }
   },
   "source": [
    "## 与现实世界的差异\n",
    "\n",
    "计算机是对现实世界的抽象，抽象很难完美表现现实世界。可以说，Python 内置整数类型完美的实现了现实世界的整数。\n",
    "\n",
    "在计算机诸多编程语言中，整数是个特定的变量类型。例如在 32 位系统，一个整数是 32 位；在 64 位系统，整数是 64 位。整数类型还分为有符号整数（int）和无符号整数（unsigned int）之分。由于位数限制，也意味着对应的整数有一定范围。例如在32位系统下：\n",
    "- 无符号整数范围：$0 \\sim 2^{32}-1$\n",
    "- 有符号整数：$-2^{31} \\sim 2^{31}-1$\n",
    "\n",
    "那么就存在整数溢出的问题：\n",
    "> 溢出（overflow），数据大小超出数据类型能表达的范围。"
   ]
  },
  {
   "cell_type": "markdown",
   "metadata": {
    "slideshow": {
     "slide_type": "slide"
    }
   },
   "source": [
    "例如，在 C 语言中，32位操作系统的无符号整数的范围是$[0,2^{32}-1]$， 当一个变量大小为：\n",
    "```c\n",
    "uint_max = 2**32 - 1\n",
    "```\n",
    "\n",
    "进行加法操作：\n",
    "```c\n",
    "uint_max += 1\n",
    "```\n",
    "\n",
    "它的结果不是$2^{32}$，而是由于整数溢出问题，结果为$0$"
   ]
  },
  {
   "cell_type": "markdown",
   "metadata": {
    "slideshow": {
     "slide_type": "slide"
    }
   },
   "source": [
    "对于 Python 内置整数类型，不存在这个问题。其值可以足够大，直到自己计算机的物理内存无法不足够来存储这个数值。"
   ]
  },
  {
   "cell_type": "markdown",
   "metadata": {
    "slideshow": {
     "slide_type": "slide"
    }
   },
   "source": [
    "使用整数对象的`bit_length()`方法可以获得该整数对象的位数，例如："
   ]
  },
  {
   "cell_type": "code",
   "execution_count": 83,
   "metadata": {
    "slideshow": {
     "slide_type": "-"
    }
   },
   "outputs": [
    {
     "data": {
      "text/plain": [
       "3322"
      ]
     },
     "execution_count": 83,
     "metadata": {},
     "output_type": "execute_result"
    }
   ],
   "source": [
    "big_number = 10 ** 1000\n",
    "big_number.bit_length()"
   ]
  },
  {
   "cell_type": "markdown",
   "metadata": {
    "slideshow": {
     "slide_type": "slide"
    }
   },
   "source": [
    "## 错误与异常\n",
    "\n",
    "> 像硬币一样，任何事物都具有两重性或两面性。\n",
    "\n",
    "学习 Python，除了掌握正确的使用方法外，还需要了解出错是怎么回事。常有人问如何才算掌握了 Python，笔者觉得熟练掌握 Python 其中一个特征就是：知道哪里有坑，自己不掉进去；掉进去能快速知道咋回事，像条件反射一样爬出来。所以要熟练掌握 Python，把常犯错误列出来是个不错的办法。对于整数来说，常犯的错误有如下："
   ]
  },
  {
   "cell_type": "markdown",
   "metadata": {
    "slideshow": {
     "slide_type": "slide"
    }
   },
   "source": [
    "### 分母（除数）不能为零\n",
    "\n",
    "如果分母为零，则会出现零除异常`ZeroDivisionError`。"
   ]
  },
  {
   "cell_type": "code",
   "execution_count": 84,
   "metadata": {
    "slideshow": {
     "slide_type": "-"
    }
   },
   "outputs": [
    {
     "ename": "ZeroDivisionError",
     "evalue": "integer division or modulo by zero",
     "output_type": "error",
     "traceback": [
      "\u001b[1;31m---------------------------------------------------------------------------\u001b[0m",
      "\u001b[1;31mZeroDivisionError\u001b[0m                         Traceback (most recent call last)",
      "\u001b[1;32m<ipython-input-84-ab66c07cedbf>\u001b[0m in \u001b[0;36m<module>\u001b[1;34m()\u001b[0m\n\u001b[1;32m----> 1\u001b[1;33m \u001b[1;36m123\u001b[0m \u001b[1;33m//\u001b[0m \u001b[1;36m0\u001b[0m\u001b[1;33m\u001b[0m\u001b[0m\n\u001b[0m",
      "\u001b[1;31mZeroDivisionError\u001b[0m: integer division or modulo by zero"
     ]
    }
   ],
   "source": [
    "123 // 0"
   ]
  },
  {
   "cell_type": "markdown",
   "metadata": {
    "slideshow": {
     "slide_type": "slide"
    }
   },
   "source": [
    "### 转换错误\n",
    "\n",
    "使用`int()`创建整数对象时，输入的字符串不全是数字，Python 会抛出值错误(`ValueError`)。"
   ]
  },
  {
   "cell_type": "code",
   "execution_count": 87,
   "metadata": {
    "slideshow": {
     "slide_type": "-"
    }
   },
   "outputs": [
    {
     "ename": "ValueError",
     "evalue": "invalid literal for int() with base 10: 'nonumber'",
     "output_type": "error",
     "traceback": [
      "\u001b[1;31m---------------------------------------------------------------------------\u001b[0m",
      "\u001b[1;31mValueError\u001b[0m                                Traceback (most recent call last)",
      "\u001b[1;32m<ipython-input-87-edbb1eb54043>\u001b[0m in \u001b[0;36m<module>\u001b[1;34m()\u001b[0m\n\u001b[1;32m----> 1\u001b[1;33m \u001b[0mixx\u001b[0m \u001b[1;33m=\u001b[0m \u001b[0mint\u001b[0m\u001b[1;33m(\u001b[0m\u001b[1;34m'nonumber'\u001b[0m\u001b[1;33m)\u001b[0m\u001b[1;33m\u001b[0m\u001b[0m\n\u001b[0m",
      "\u001b[1;31mValueError\u001b[0m: invalid literal for int() with base 10: 'nonumber'"
     ]
    }
   ],
   "source": [
    "ixx = int('nonumber')"
   ]
  },
  {
   "cell_type": "markdown",
   "metadata": {
    "slideshow": {
     "slide_type": "slide"
    }
   },
   "source": [
    "## 小结\n",
    "\n",
    "本节花了大量笔墨使用面向对象的方法来介绍 Python 内置数据类型---整数。如何用自省的方法来剖析一个对象的各种特性、属性与方法。"
   ]
  },
  {
   "cell_type": "markdown",
   "metadata": {
    "slideshow": {
     "slide_type": "slide"
    }
   },
   "source": [
    "本节分析了运算符与对象魔术方法的关系，截止目前已经介绍了Python中的各种运算符：\n",
    "- 算术运算符\n",
    "- 一元运算符\n",
    "- 反向算术运算符\n",
    "- 增强赋值算术运算符\n",
    "- 比较运算符\n",
    "- 身份运算符\n",
    "\n",
    "在后续章节中，还会介绍更多运算符。"
   ]
  },
  {
   "cell_type": "markdown",
   "metadata": {
    "slideshow": {
     "slide_type": "slide"
    }
   },
   "source": [
    "截止现在，已经介绍和使用过的Python内置函数包括：\n",
    "- 自省\n",
    "    - `type()`,查询对象的类\n",
    "    - `isinstance()`，检查对象是否是指定类的实例\n",
    "    - `id()`，返回对象的身份地址\n",
    "    - `dir()`，列出对象的成员        \n",
    "    - `hasattr()`，检查对象是否有指定成员\n",
    "    - `callable()`，检查对象是否可以调用\n",
    "   \n",
    "- 帮助\n",
    "    - `help()`，打印帮助\n",
    "    \n",
    "- 数学运算\n",
    "    - 'abs()',求绝对值\n",
    "    - 'divmod()',返回整除与求余结果\n",
    "    - 'pow()',返回求幂结果    \n",
    "    \n",
    "- 类型函数\n",
    "    - `int()`，创建整数对象\n",
    "    \n",
    "- 整数进制\n",
    "    - `bin()`， 返回二进制表示\n",
    "    - `oct()`， 返回八进制表示\n",
    "    - `hex()`， 返回十六进制表示    "
   ]
  }
 ],
 "metadata": {
  "celltoolbar": "Slideshow",
  "kernelspec": {
   "display_name": "Python 3",
   "language": "python",
   "name": "python3"
  },
  "language_info": {
   "codemirror_mode": {
    "name": "ipython",
    "version": 3
   },
   "file_extension": ".py",
   "mimetype": "text/x-python",
   "name": "python",
   "nbconvert_exporter": "python",
   "pygments_lexer": "ipython3",
   "version": "3.6.4"
  },
  "toc": {
   "base_numbering": 1,
   "nav_menu": {},
   "number_sections": true,
   "sideBar": true,
   "skip_h1_title": false,
   "title_cell": "Table of Contents",
   "title_sidebar": "Contents",
   "toc_cell": false,
   "toc_position": {
    "height": "calc(100% - 180px)",
    "left": "10px",
    "top": "150px",
    "width": "349px"
   },
   "toc_section_display": true,
   "toc_window_display": true
  }
 },
 "nbformat": 4,
 "nbformat_minor": 2
}
