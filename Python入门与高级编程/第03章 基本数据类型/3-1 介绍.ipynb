{
 "cells": [
  {
   "cell_type": "markdown",
   "metadata": {
    "slideshow": {
     "slide_type": "slide"
    }
   },
   "source": [
    "# 介绍\n",
    "\n",
    "话说有一个故事，乾隆站在城门楼上，望着下面人山人海人来人往的，就问大臣一天要过多少人？纪晓岚回到只有2人。乾隆说，你瞎呀，这么多人，你说只2人？纪晓岚说道，天下熙熙皆为利来，天下攘攘皆为利往，故来往的只有两人，一曰名，二曰利。\n",
    "\n",
    "花花世界，繁复杂乱，如何有慧眼来识别万物。中国古代的五行学说，认为世界物质都由金木水火土而组成。在上个世纪，物理学认为世界万物则由化学元素周期表上的原子组成。"
   ]
  },
  {
   "cell_type": "markdown",
   "metadata": {
    "slideshow": {
     "slide_type": "slide"
    }
   },
   "source": [
    "计算机编程是对世界诸多事物和事务抽象进行信息化，花花世界如下图所示，Python 又如何为之？\n",
    "![现实世界中的数值与字符串](../images/read_world_datatypes.jpeg)\n",
    "\n",
    "在 Python 编程中，内置了一些基本数据类型，使用这些基本数据类型再组成更多类型，进而实现世界万物的信息化。下面几节将分别介绍这些内置数据类型：\n",
    "- 数值型\n",
    "    - 整数（int）\n",
    "    - 布尔数（bool）\n",
    "    - 浮点数（float）\n",
    "    - 复数（complex）\n",
    "- 文本型\n",
    "    - 字符串（str）\n",
    "- 空\n",
    "    - 空（NoneType）"
   ]
  }
 ],
 "metadata": {
  "celltoolbar": "Slideshow",
  "kernelspec": {
   "display_name": "Python 3",
   "language": "python",
   "name": "python3"
  },
  "language_info": {
   "codemirror_mode": {
    "name": "ipython",
    "version": 3
   },
   "file_extension": ".py",
   "mimetype": "text/x-python",
   "name": "python",
   "nbconvert_exporter": "python",
   "pygments_lexer": "ipython3",
   "version": "3.6.4"
  },
  "toc": {
   "base_numbering": 1,
   "nav_menu": {},
   "number_sections": true,
   "sideBar": true,
   "skip_h1_title": false,
   "title_cell": "Table of Contents",
   "title_sidebar": "Contents",
   "toc_cell": false,
   "toc_position": {},
   "toc_section_display": true,
   "toc_window_display": false
  }
 },
 "nbformat": 4,
 "nbformat_minor": 2
}
