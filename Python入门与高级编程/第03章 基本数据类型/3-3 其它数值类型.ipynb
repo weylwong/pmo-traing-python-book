{
 "cells": [
  {
   "cell_type": "markdown",
   "metadata": {
    "slideshow": {
     "slide_type": "slide"
    }
   },
   "source": [
    "# 基本数据类型 - 布尔数、浮点数与复数\n",
    "\n",
    "内置数据类型包括：\n",
    "- 数值型\n",
    "    - 整数（int）\n",
    "    - 布尔数（bool）\n",
    "    - 浮点数（float）\n",
    "    - 复数（complex）\n",
    "- 文本型\n",
    "    - 字符串（str）\n",
    "- 空\n",
    "    - 空（NoneType）\n",
    "    \n",
    "本节介绍布尔数、浮点数与复数类型。    "
   ]
  },
  {
   "cell_type": "markdown",
   "metadata": {},
   "source": [
    "对于逻辑问题，乔治·布尔（George Boole）用数学方法进行研究，成功地建立了逻辑演算。由于布尔在符号逻辑运算中的特殊贡献，将逻辑运算称为布尔运算，其结果称为布尔值。布尔数据类型又称为逻辑数据类型，是一种只有两种取值的原始类型：\n",
    "- 非零（通常是1或者-1），等价于真\n",
    "- 零，等价与假。\n",
    "\n",
    "实数可以用来测量连续的量。在计算机中，通常用浮点数这个有限小数来近似表示一个实数。\n",
    "\n",
    "复数是由意大利学者在十六世纪首次引入，把形如$a+bi$（$a$,$b$均为实数）的数称为复数，其中$a$称为实部，$b$称为虚部，$i$称为虚数单位（即$\\sqrt{-1}$）。\n",
    "- 当虚部等于零时，这个复数可以视为实数；\n",
    "- 当z的虚部不等于零时，实部等于零时，常称z为纯虚数。\n"
   ]
  },
  {
   "cell_type": "markdown",
   "metadata": {
    "slideshow": {
     "slide_type": "slide"
    }
   },
   "source": [
    "## 创建对象\n",
    "\n",
    "下面通过字面常数、表达式、定义变量来创建布尔数、浮点数与复数对象："
   ]
  },
  {
   "cell_type": "code",
   "execution_count": null,
   "metadata": {
    "slideshow": {
     "slide_type": "-"
    }
   },
   "outputs": [],
   "source": [
    "b1 = True\n",
    "b2 = False\n",
    "x1 = 1.\n",
    "x2 = 3.1415926\n",
    "z1 = 3.0 + 4.0j\n",
    "z2 = 3.0 - 4.0J\n",
    "print(b1, b2, x1, x2, z1, z2)"
   ]
  },
  {
   "cell_type": "markdown",
   "metadata": {
    "slideshow": {
     "slide_type": "slide"
    }
   },
   "source": [
    "布尔数只有两种取值，在 Python 中内置了两个布尔型对象：\n",
    "- `True`\n",
    "- `False`\n",
    "对布尔数来说，只有两个字面常数用来定义变量。，"
   ]
  },
  {
   "cell_type": "markdown",
   "metadata": {
    "slideshow": {
     "slide_type": "slide"
    }
   },
   "source": [
    "对于字面常数，浮点数与整数主要差别在于小数点，有小数点的为浮点数。例如`1.`为浮点数，`1`为整数。"
   ]
  },
  {
   "cell_type": "markdown",
   "metadata": {
    "slideshow": {
     "slide_type": "slide"
    }
   },
   "source": [
    "复数由实部和虚部组成，虚部用数字与字符`j`或`J`组合来表示，数字与字符`j`或`J`中间不能有空格，否则为语法错误："
   ]
  },
  {
   "cell_type": "code",
   "execution_count": null,
   "metadata": {
    "slideshow": {
     "slide_type": "-"
    }
   },
   "outputs": [],
   "source": [
    "z = 4.0 j"
   ]
  },
  {
   "cell_type": "markdown",
   "metadata": {
    "slideshow": {
     "slide_type": "slide"
    }
   },
   "source": [
    "## 自省\n",
    "\n",
    "> 吾每遇对象必自省，用变量而知其类乎？用其值而知属性乎？用其法而知方法乎？\n",
    "\n",
    "同样使用自省的方法来了解布尔数、浮点数与复数对象。"
   ]
  },
  {
   "cell_type": "markdown",
   "metadata": {
    "slideshow": {
     "slide_type": "slide"
    }
   },
   "source": [
    "### 对象的特性\n",
    "\n",
    "首先识别这些对象是何种类型的实例，是可变对象亦或不可变对象："
   ]
  },
  {
   "cell_type": "code",
   "execution_count": null,
   "metadata": {
    "slideshow": {
     "slide_type": "-"
    }
   },
   "outputs": [],
   "source": [
    "print(type(b1), type(b2), type(x1), type(x2), type(z1), type(z2))"
   ]
  },
  {
   "cell_type": "markdown",
   "metadata": {
    "slideshow": {
     "slide_type": "slide"
    }
   },
   "source": [
    "Python 中的布尔数、浮点数、复数都是不可变（immutable）对象。当一个变量指向浮点数或复数时，对变量的更改实际上是创建一个新的实例对象，在绑定到该变量上。变量引用的对象并没有改变，当一个对象没有变量引用时，Python 就会进行垃圾收集。\n",
    "\n",
    "![](../images/immutable_diagram.png)"
   ]
  },
  {
   "cell_type": "markdown",
   "metadata": {
    "slideshow": {
     "slide_type": "slide"
    }
   },
   "source": [
    "### 对象的成员\n",
    "\n",
    "同样使用自省方法来查看对应有哪些属性与方法，看看有啥本事："
   ]
  },
  {
   "cell_type": "code",
   "execution_count": null,
   "metadata": {},
   "outputs": [],
   "source": [
    "print(dir(b1))"
   ]
  },
  {
   "cell_type": "code",
   "execution_count": null,
   "metadata": {},
   "outputs": [],
   "source": [
    "print(dir(x1))"
   ]
  },
  {
   "cell_type": "code",
   "execution_count": null,
   "metadata": {
    "slideshow": {
     "slide_type": "slide"
    }
   },
   "outputs": [],
   "source": [
    "print(dir(z1))"
   ]
  },
  {
   "cell_type": "markdown",
   "metadata": {
    "slideshow": {
     "slide_type": "slide"
    }
   },
   "source": [
    "#### 魔术方法\n",
    "\n",
    "不同类型的对象的特殊方法是有所不同的，那就意味着对不同的对象有些运算符可以使用，有些运算符不可以使用。\n",
    "\n",
    "- 对于布尔数来说，增加了一些布尔运算的操作；\n",
    "- 对于浮点数来说，可以进行算术运算、比较运算等操作；\n",
    "- 对于复数来说，则相应少了一些操作\n",
    "\n",
    "下面会介绍新增加的运算符。"
   ]
  },
  {
   "cell_type": "markdown",
   "metadata": {
    "slideshow": {
     "slide_type": "slide"
    }
   },
   "source": [
    "#### 常规方法\n",
    "\n",
    "对于复数来说，其常规方法包括：\n",
    "- `conjugate`，共轭复数"
   ]
  },
  {
   "cell_type": "markdown",
   "metadata": {
    "slideshow": {
     "slide_type": "slide"
    }
   },
   "source": [
    "对于复数$z=a+bi$，其共轭复数为$\\overline{z}=a-bi$"
   ]
  },
  {
   "cell_type": "code",
   "execution_count": null,
   "metadata": {
    "slideshow": {
     "slide_type": "-"
    }
   },
   "outputs": [],
   "source": [
    "z = 3+4.0j\n",
    "print(z.conjugate())"
   ]
  },
  {
   "cell_type": "markdown",
   "metadata": {
    "slideshow": {
     "slide_type": "slide"
    }
   },
   "source": [
    "#### 属性\n",
    "\n",
    "可以看出，对于数值型来说，都有两个属性：\n",
    "- `real`，表示实部\n",
    "- `imag`，表示虚部"
   ]
  },
  {
   "cell_type": "code",
   "execution_count": null,
   "metadata": {
    "slideshow": {
     "slide_type": "-"
    }
   },
   "outputs": [],
   "source": [
    "print(z1.real, z1.imag)\n",
    "print(x1.real, x1.imag)"
   ]
  },
  {
   "cell_type": "markdown",
   "metadata": {
    "slideshow": {
     "slide_type": "slide"
    }
   },
   "source": [
    "## 更多运算符\n",
    "\n",
    "### 算术运算符\n",
    "\n",
    "定义了魔术方法`__round__`，可以使用 Python 的内置函数`round()`：\n",
    "\n",
    "| 运算       | 魔术方法    |  说明   |\n",
    "| :-----------:|:--------------| -------: |\n",
    "| `round(x, n)`| `__round__`  | 四舍五入  |"
   ]
  },
  {
   "cell_type": "code",
   "execution_count": null,
   "metadata": {
    "slideshow": {
     "slide_type": "slide"
    }
   },
   "outputs": [],
   "source": [
    "# 进行四舍五入并返回整数 round(), __round__()\n",
    "x1 = 3.1314\n",
    "print(round(x1), x1.__round__())"
   ]
  },
  {
   "cell_type": "code",
   "execution_count": null,
   "metadata": {},
   "outputs": [],
   "source": [
    "type(round(x1))"
   ]
  },
  {
   "cell_type": "markdown",
   "metadata": {
    "slideshow": {
     "slide_type": "-"
    }
   },
   "source": [
    "当调用`round(x1)`时，实际上执行的是`x1.__round()`"
   ]
  },
  {
   "cell_type": "markdown",
   "metadata": {
    "slideshow": {
     "slide_type": "slide"
    }
   },
   "source": [
    "### 布尔运算符\n",
    "\n",
    "布尔运算也称为逻辑运算，是对两个布尔数进行与、或和非运算，有如下布尔运算符：\n",
    "\n",
    "| 操作符| 特殊方法    |  说明  |\n",
    "| :---: |:-------------| :----- |\n",
    "| `and` |  `__and__`  | 与运算 |\n",
    "| `or`  | `__or__`    | 或运算 |\n",
    "| `not` | `__not__`   | 非运算 |"
   ]
  },
  {
   "cell_type": "markdown",
   "metadata": {
    "slideshow": {
     "slide_type": "slide"
    }
   },
   "source": [
    "**非运算**（`not x`）： \n",
    "\n",
    "先对表达式进行真值测试后再取反。"
   ]
  },
  {
   "cell_type": "code",
   "execution_count": null,
   "metadata": {
    "slideshow": {
     "slide_type": "-"
    }
   },
   "outputs": [],
   "source": [
    "x = 3.1314\n",
    "print(not x1 == 3.1314)\n",
    "print(not False)"
   ]
  },
  {
   "cell_type": "markdown",
   "metadata": {
    "slideshow": {
     "slide_type": "slide"
    }
   },
   "source": [
    "**与运算**（`x and y`）：\n",
    "\n",
    "如果 `x` 为 `False`，则返回 False，否则返回 `y` 的计算值。"
   ]
  },
  {
   "cell_type": "code",
   "execution_count": null,
   "metadata": {
    "slideshow": {
     "slide_type": "-"
    }
   },
   "outputs": [],
   "source": [
    "print(False and z1)\n",
    "print(True and z1)"
   ]
  },
  {
   "cell_type": "markdown",
   "metadata": {
    "slideshow": {
     "slide_type": "slide"
    }
   },
   "source": [
    "**或运算**（`x or y`）： \n",
    "\n",
    "如果 `x` 是 `True`，返回 `x` 的值，否则返回 `y` 的计算值。"
   ]
  },
  {
   "cell_type": "code",
   "execution_count": null,
   "metadata": {
    "slideshow": {
     "slide_type": "-"
    }
   },
   "outputs": [],
   "source": [
    "print(False or z1)\n",
    "print(True or z1)"
   ]
  },
  {
   "cell_type": "markdown",
   "metadata": {
    "slideshow": {
     "slide_type": "-"
    }
   },
   "source": [
    "Python 的与、或运算与其它语言有点不一样，最好只对布尔数进行布尔运算。"
   ]
  },
  {
   "cell_type": "markdown",
   "metadata": {
    "slideshow": {
     "slide_type": "slide"
    }
   },
   "source": [
    "## 类型提升与运算符级别\n",
    "\n",
    "### 类型提升\n",
    "\n",
    "当两个不同类型的数值型数据进行运算，例如算术运算或比较操作时，会先把数据转化为同一类型再进行操作，也就是会发生了类型提升。在 Python 中，也有类似的类型提升，即从布尔数到复数的提升：\n",
    "```\n",
    "bool -->  int --> float --> complex\n",
    "```"
   ]
  },
  {
   "cell_type": "markdown",
   "metadata": {
    "slideshow": {
     "slide_type": "-"
    }
   },
   "source": [
    "下面代码用来查看不同类型数据运算后的结果："
   ]
  },
  {
   "cell_type": "code",
   "execution_count": null,
   "metadata": {
    "slideshow": {
     "slide_type": "-"
    }
   },
   "outputs": [],
   "source": [
    "print(type(True + 1), type(1 + 3.14), type(2 + 1j), type(3.14 + 1j))"
   ]
  },
  {
   "cell_type": "markdown",
   "metadata": {
    "slideshow": {
     "slide_type": "slide"
    }
   },
   "source": [
    "### 运算符优先级\n",
    "\n",
    "截止目前，已经介绍如下这些运算符：\n",
    "- 算术运算符\n",
    "- 一元运算符\n",
    "- 赋值运算符\n",
    "- 比较运算符\n",
    "- 布尔运算符\n",
    "- 位运算符\n",
    "- 身份运算符"
   ]
  },
  {
   "cell_type": "markdown",
   "metadata": {
    "slideshow": {
     "slide_type": "slide"
    }
   },
   "source": [
    "当在一个表达式中，使用多个运算符，需要了解这些运算符级别是不同，即运算时有先有后的。运算符优先级如下表所示：\n",
    "\n",
    "\n",
    "| 运算符 | 描述     |\n",
    "| :----: |---------- |\n",
    "| `**` | 指数 (最高优先级) |\n",
    "| `~ + -` | 按位翻转, 正负号|\n",
    "| `* / % //` | 乘，真除，取模和地板除 |\n",
    "| `+ -` | 加法减法 |\n",
    "| `>> <<` | 右移，左移 |\n",
    "| `&` | 位与 |\n",
    "| `^`, <code>&#124;</code> | 按位异或、取反 |\n",
    "| `<=, <, >, >=` | 比较运算符 |\n",
    "| `== !=`  | 等于运算符 |\n",
    "| `=, %=, /=, //=, -=, +=, *=, **=` | 赋值运算符 |\n",
    "| `is, is not` | 身份运算符 |\n",
    "| `not, or, and` | 逻辑运算符 |"
   ]
  },
  {
   "cell_type": "markdown",
   "metadata": {
    "slideshow": {
     "slide_type": "slide"
    }
   },
   "source": [
    "看起来比较不太好记，那么可以使用使用括号`()`来提高优先级，也就是说，Python 解释器会优先计算括号内运算。当写太多操作符的表达式，尽量多写一些括号，以显示说明运算优先级，不要赌自己的记忆力好。"
   ]
  },
  {
   "cell_type": "markdown",
   "metadata": {
    "slideshow": {
     "slide_type": "slide"
    }
   },
   "source": [
    "## 转换\n",
    "\n",
    "同样，除了使用字面常数或表达式来创建布尔数、浮点数、复数对象外，可以使用 Python 如下内置函数：\n",
    "- `bool()`\n",
    "- `float()`\n",
    "- `str()`\n",
    "来创建相应对象。"
   ]
  },
  {
   "cell_type": "markdown",
   "metadata": {
    "slideshow": {
     "slide_type": "slide"
    }
   },
   "source": [
    "**使用`bool()`函数创建布尔数对象**："
   ]
  },
  {
   "cell_type": "code",
   "execution_count": null,
   "metadata": {
    "slideshow": {
     "slide_type": "-"
    }
   },
   "outputs": [],
   "source": [
    "print(bool(0), bool(1))\n",
    "print(bool(0.0), bool(1.0))\n",
    "print(bool(0.0J), bool(1.0J))\n",
    "print(bool(''), bool('not empty string'))"
   ]
  },
  {
   "cell_type": "markdown",
   "metadata": {
    "slideshow": {
     "slide_type": "slide"
    }
   },
   "source": [
    "**使用`float()`来创建浮点数对象**："
   ]
  },
  {
   "cell_type": "code",
   "execution_count": null,
   "metadata": {
    "slideshow": {
     "slide_type": "-"
    }
   },
   "outputs": [],
   "source": [
    "print(float())\n",
    "print(float(True))\n",
    "print(float(1024))\n",
    "print(float('3.1416926'))"
   ]
  },
  {
   "cell_type": "markdown",
   "metadata": {
    "slideshow": {
     "slide_type": "slide"
    }
   },
   "source": [
    "使用`complex()`来创建对象："
   ]
  },
  {
   "cell_type": "code",
   "execution_count": null,
   "metadata": {
    "slideshow": {
     "slide_type": "-"
    }
   },
   "outputs": [],
   "source": [
    "z3 = complex(3.0)\n",
    "z4 = complex(3.0, 4.0)\n",
    "print(z3, z4)"
   ]
  },
  {
   "cell_type": "code",
   "execution_count": null,
   "metadata": {},
   "outputs": [],
   "source": []
  },
  {
   "cell_type": "markdown",
   "metadata": {
    "slideshow": {
     "slide_type": "slide"
    }
   },
   "source": [
    "## 与现实世界的差异\n",
    "\n",
    "下图为复数、实数、整数之间的结构关系：\n",
    "\n",
    "<img src=\"../images/numberic.jpg\" width=\"60%\" />"
   ]
  },
  {
   "cell_type": "markdown",
   "metadata": {
    "slideshow": {
     "slide_type": "slide"
    }
   },
   "source": [
    "Python 内置的整数、浮点数和复数用计算机来抽象描述这些数学的一个实现，在计算机运行程序时，用一定的内存空间来存储数据。显然在计算机上没有那么多的内存来存储一个无理数的，实际上上在计算机领域，用浮点数来近似表示一个实数。\n",
    "\n",
    "一个浮点数$a$由两个数$m$和$e$来表示：$a = m\\times b^e$。在任意一个这样的系统中，我们选择一个基数$b$（记数系统的基）和精度$p$（即使用多少位来存储）。"
   ]
  },
  {
   "cell_type": "markdown",
   "metadata": {
    "slideshow": {
     "slide_type": "slide"
    }
   },
   "source": [
    "模块`sys`中的`float_info`变量存放了 Python 运行系统的浮点数信息。首先使用`import`来导入`sys`模块，然后打印`float_info`内容："
   ]
  },
  {
   "cell_type": "code",
   "execution_count": null,
   "metadata": {
    "slideshow": {
     "slide_type": "-"
    }
   },
   "outputs": [],
   "source": [
    "import sys\n",
    "\n",
    "print(sys.float_info)"
   ]
  },
  {
   "cell_type": "markdown",
   "metadata": {
    "slideshow": {
     "slide_type": "slide"
    }
   },
   "source": [
    "其中`sys.float_info.epsilon`表示两个浮点数之差的最小值，也就是说，当两个浮点数插值小于该值时，计算机认为这两个值是相等的。例如下面来比较两个浮点数："
   ]
  },
  {
   "cell_type": "code",
   "execution_count": null,
   "metadata": {
    "slideshow": {
     "slide_type": "-"
    }
   },
   "outputs": [],
   "source": [
    "3.01234567890123456781111 == 3.01234567890123456789"
   ]
  },
  {
   "cell_type": "markdown",
   "metadata": {
    "slideshow": {
     "slide_type": "slide"
    }
   },
   "source": [
    "## 错误与异常\n",
    "\n",
    "> 像硬币一样，任何事物都具有两重性或两面性。\n",
    "\n",
    "对于布尔数、浮点数和复数来说，常见的错误与异常有如下："
   ]
  },
  {
   "cell_type": "markdown",
   "metadata": {
    "slideshow": {
     "slide_type": "slide"
    }
   },
   "source": [
    "### 分母（除数）不能为零\n",
    "\n",
    "如果分母为零，则会出现异常`ZeroDivisionError`"
   ]
  },
  {
   "cell_type": "code",
   "execution_count": null,
   "metadata": {
    "slideshow": {
     "slide_type": "-"
    }
   },
   "outputs": [],
   "source": [
    "12.1 / 0"
   ]
  },
  {
   "cell_type": "markdown",
   "metadata": {
    "slideshow": {
     "slide_type": "slide"
    }
   },
   "source": [
    "### 比较错误\n",
    "\n",
    "复数支持等于、不等于运算，不支持其它比较操作："
   ]
  },
  {
   "cell_type": "code",
   "execution_count": null,
   "metadata": {
    "slideshow": {
     "slide_type": "-"
    }
   },
   "outputs": [],
   "source": [
    "z1 > z2"
   ]
  },
  {
   "cell_type": "markdown",
   "metadata": {
    "slideshow": {
     "slide_type": "slide"
    }
   },
   "source": [
    "### 转换时值错误\n",
    "\n",
    "在使用`float`创建对象时，当输入字符串不全是数字时，会泡池值错误异常："
   ]
  },
  {
   "cell_type": "code",
   "execution_count": null,
   "metadata": {
    "slideshow": {
     "slide_type": "slide"
    }
   },
   "outputs": [],
   "source": [
    "float('3.1415926 rad')"
   ]
  },
  {
   "cell_type": "markdown",
   "metadata": {},
   "source": [
    "另外，并不是所有类型都可以进行转换的，如果不支持则会抛出类型错误（TypeError）:"
   ]
  },
  {
   "cell_type": "code",
   "execution_count": null,
   "metadata": {
    "slideshow": {
     "slide_type": "slide"
    }
   },
   "outputs": [],
   "source": [
    "ixx = float(1.0+2.0j)"
   ]
  },
  {
   "cell_type": "markdown",
   "metadata": {
    "slideshow": {
     "slide_type": "slide"
    }
   },
   "source": [
    "## 小结\n",
    "\n",
    "本节介绍了Python 内置的布尔数、浮点数和复数类型，介绍了更多运算符，以及类型提升和运算符级别。"
   ]
  },
  {
   "cell_type": "markdown",
   "metadata": {
    "slideshow": {
     "slide_type": "-"
    }
   },
   "source": [
    "在本节新介绍了如下函数：\n",
    "- 数学运算\n",
    "    - 'round()'，进行四舍五入，返回整数\n",
    "    \n",
    "- 类型函数\n",
    "    - `bool()`，创建整数对象\n",
    "    - `float()`，创建整数对象\n",
    "    - `complex()`，创建整数对象"
   ]
  }
 ],
 "metadata": {
  "kernelspec": {
   "display_name": "Python 3",
   "language": "python",
   "name": "python3"
  },
  "language_info": {
   "codemirror_mode": {
    "name": "ipython",
    "version": 3
   },
   "file_extension": ".py",
   "mimetype": "text/x-python",
   "name": "python",
   "nbconvert_exporter": "python",
   "pygments_lexer": "ipython3",
   "version": "3.6.4"
  },
  "toc": {
   "base_numbering": 1,
   "nav_menu": {},
   "number_sections": true,
   "sideBar": true,
   "skip_h1_title": false,
   "title_cell": "Table of Contents",
   "title_sidebar": "Contents",
   "toc_cell": false,
   "toc_position": {
    "height": "calc(100% - 180px)",
    "left": "10px",
    "top": "150px",
    "width": "349px"
   },
   "toc_section_display": true,
   "toc_window_display": true
  }
 },
 "nbformat": 4,
 "nbformat_minor": 2
}
