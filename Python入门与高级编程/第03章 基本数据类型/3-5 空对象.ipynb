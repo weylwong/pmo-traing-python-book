{
 "cells": [
  {
   "cell_type": "markdown",
   "metadata": {
    "slideshow": {
     "slide_type": "slide"
    }
   },
   "source": [
    "# 基本数据类型 - 空类型（NoneType）\n",
    "\n",
    "生活中常常遇到踢皮球的事情，去办个事情，这个说不归我管，那个说不归我管。呵呵，那谁来管呢？在国外据说有个不管部，专门管没人管的事情。在计算机世界中，可以把世界万物的基本类型抽象为数值和文本，在 Python 中，还增加了一个空类型来描述这种不管部，或者所谓的空。\n",
    "\n",
    "本节来介绍空类型（NoneType）。"
   ]
  },
  {
   "cell_type": "markdown",
   "metadata": {
    "slideshow": {
     "slide_type": "slide"
    }
   },
   "source": [
    "## 创建对象\n",
    "\n",
    "在 Python 中内置了一个 `None` 对象，可以用这个字面常数来定义空对象："
   ]
  },
  {
   "cell_type": "code",
   "execution_count": null,
   "metadata": {
    "slideshow": {
     "slide_type": "slide"
    }
   },
   "outputs": [],
   "source": [
    "n1 = None\n",
    "n2 = None\n",
    "print(n1, n2)"
   ]
  },
  {
   "cell_type": "markdown",
   "metadata": {},
   "source": [
    "## 自省\n",
    "\n",
    "> 吾每遇对象必自省，用变量而知其类乎？用其值而知属性乎？用其法而知方法乎？"
   ]
  },
  {
   "cell_type": "markdown",
   "metadata": {},
   "source": [
    "### 对象的特性\n",
    "\n",
    "`None`是`NoneType`类型的一个实例对象，与其它数据类型有些不同的是，`NoneType`类型只有这一个实例对象，有点像的皇帝。因此所有的空对象变量都只引用同一个空对象。下面来查看空对象的类型和身份标识："
   ]
  },
  {
   "cell_type": "code",
   "execution_count": null,
   "metadata": {
    "slideshow": {
     "slide_type": "-"
    }
   },
   "outputs": [],
   "source": [
    "print(type(n1), type(n2), type(None))"
   ]
  },
  {
   "cell_type": "code",
   "execution_count": null,
   "metadata": {
    "slideshow": {
     "slide_type": "-"
    }
   },
   "outputs": [],
   "source": [
    "print(n1 is n2)\n",
    "\n",
    "print(n1 is None)"
   ]
  },
  {
   "cell_type": "markdown",
   "metadata": {
    "slideshow": {
     "slide_type": "slide"
    }
   },
   "source": [
    "`None`是个就是一个特殊的对象，不是`False`、不是`0`、也不是空字符串。"
   ]
  },
  {
   "cell_type": "markdown",
   "metadata": {
    "slideshow": {
     "slide_type": "-"
    }
   },
   "source": [
    "### 属性与方法\n",
    "\n",
    "`None`对象不支持比较运算，也没有其它内建方法，主要的操作就是身份操作。"
   ]
  },
  {
   "cell_type": "markdown",
   "metadata": {
    "slideshow": {
     "slide_type": "slide"
    }
   },
   "source": [
    "## 空对象的应用\n",
    "\n",
    "`None`表示一个空对象，通常用函数或方法的返回值。有时在定义变量时，先用`None`来赋值占个位置，以后再进行更改。"
   ]
  }
 ],
 "metadata": {
  "celltoolbar": "Slideshow",
  "kernelspec": {
   "display_name": "Python 3",
   "language": "python",
   "name": "python3"
  },
  "language_info": {
   "codemirror_mode": {
    "name": "ipython",
    "version": 3
   },
   "file_extension": ".py",
   "mimetype": "text/x-python",
   "name": "python",
   "nbconvert_exporter": "python",
   "pygments_lexer": "ipython3",
   "version": "3.6.4"
  },
  "toc": {
   "base_numbering": 1,
   "nav_menu": {},
   "number_sections": true,
   "sideBar": true,
   "skip_h1_title": false,
   "title_cell": "Table of Contents",
   "title_sidebar": "Contents",
   "toc_cell": false,
   "toc_position": {
    "height": "calc(100% - 180px)",
    "left": "10px",
    "top": "150px",
    "width": "349px"
   },
   "toc_section_display": true,
   "toc_window_display": false
  }
 },
 "nbformat": 4,
 "nbformat_minor": 2
}
