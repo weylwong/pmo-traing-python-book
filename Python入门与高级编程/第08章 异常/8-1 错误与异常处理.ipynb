{
 "cells": [
  {
   "cell_type": "markdown",
   "metadata": {
    "slideshow": {
     "slide_type": "slide"
    }
   },
   "source": [
    "# 错误和异常处理\n",
    "\n",
    "不论是编程初学者，还是经验老到的专家，在 Python 编程时都会遇到出错信息。出了错就得除错，除错要比写程序难得多。有人统计，一个程序员花在代码除错的时间要远远大于编写代码。实际上程序员熬夜的主要原因不是代码没写完，而是上线的代码要除错。\n",
    "\n",
    "那么如何才能提高开发效率？首先，写程序的时候尽量少写容易出错的代码；其次，代码出错的时候能够认识出错信息，尽快找到出错原因。当然还有其他一些办法，如在编写代码时使用静态分析工具、编写后进行单元测试，使用调试工具来除错等。编程水平高的一个表现就是除错的快，而这是需要时间和经验的积累。"
   ]
  },
  {
   "cell_type": "markdown",
   "metadata": {
    "slideshow": {
     "slide_type": "slide"
    }
   },
   "source": [
    "> 像硬币一样，任何事物都具有两重性或两面性。  \n",
    "\n",
    "编程亦如此，除了掌握正确的使用方法，了解错误情况也是学习编程的重要一面。在很多书籍中，错误和异常处理通常与其它内容合为一章，或者躲在某个角落里。这里把错误和异常单独列为一章，是充分认识到错误和异常处理的重要性。随着大家的进步本章能不断扩展。不经历风雨怎能见彩虹，没有无数次的除错哪能领悟编程的真谛！"
   ]
  },
  {
   "cell_type": "markdown",
   "metadata": {
    "slideshow": {
     "slide_type": "slide"
    }
   },
   "source": [
    "本章主要介绍异常处理的主要内容：\n",
    "- 错误和异常\n",
    "- 抛出异常\n",
    "- 捕获异常"
   ]
  },
  {
   "cell_type": "markdown",
   "metadata": {
    "slideshow": {
     "slide_type": "slide"
    }
   },
   "source": [
    "## 错误和异常\n",
    "\n",
    "错误分为三种：\n",
    "1. 编写代码时出的错误，称之为语法错误；\n",
    "2. 语法正确，在运行期检测到的错误，称之为异常；\n",
    "3. 语法正确且运行无异常，但结果与预期的不同，称之为理解错误。"
   ]
  },
  {
   "cell_type": "markdown",
   "metadata": {
    "slideshow": {
     "slide_type": "slide"
    }
   },
   "source": [
    "### 语法错误\n",
    "\n",
    "在初学 Python 时会经常碰到 Python 语法错误，例如在变量命名时使用了 Python 关键词："
   ]
  },
  {
   "cell_type": "code",
   "execution_count": 1,
   "metadata": {
    "slideshow": {
     "slide_type": "-"
    }
   },
   "outputs": [
    {
     "ename": "SyntaxError",
     "evalue": "invalid syntax (<ipython-input-1-8a281da2a97a>, line 1)",
     "output_type": "error",
     "traceback": [
      "\u001b[1;36m  File \u001b[1;32m\"<ipython-input-1-8a281da2a97a>\"\u001b[1;36m, line \u001b[1;32m1\u001b[0m\n\u001b[1;33m    global = 10\u001b[0m\n\u001b[1;37m           ^\u001b[0m\n\u001b[1;31mSyntaxError\u001b[0m\u001b[1;31m:\u001b[0m invalid syntax\n"
     ]
    }
   ],
   "source": [
    "global = 10"
   ]
  },
  {
   "cell_type": "markdown",
   "metadata": {
    "slideshow": {
     "slide_type": "slide"
    }
   },
   "source": [
    "Python 解释器检测到语法错误，会指出出错那行，并在找到错误的位置标记一个小箭头。"
   ]
  },
  {
   "cell_type": "markdown",
   "metadata": {},
   "source": [
    "熟练工作后，还会遇到一些因为拼写错误、条件语句或循环语句中忘了冒号`：`、一些标识符使用了中文字符之类的错误："
   ]
  },
  {
   "cell_type": "code",
   "execution_count": 2,
   "metadata": {},
   "outputs": [
    {
     "ename": "NameError",
     "evalue": "name 'kilomater' is not defined",
     "output_type": "error",
     "traceback": [
      "\u001b[1;31m---------------------------------------------------------------------------\u001b[0m",
      "\u001b[1;31mNameError\u001b[0m                                 Traceback (most recent call last)",
      "\u001b[1;32m<ipython-input-2-67045cc67983>\u001b[0m in \u001b[0;36m<module>\u001b[1;34m()\u001b[0m\n\u001b[0;32m      1\u001b[0m \u001b[0mkilometer\u001b[0m \u001b[1;33m=\u001b[0m \u001b[1;36m1000\u001b[0m\u001b[1;33m\u001b[0m\u001b[0m\n\u001b[1;32m----> 2\u001b[1;33m \u001b[0mprint\u001b[0m\u001b[1;33m(\u001b[0m\u001b[0mkilomater\u001b[0m\u001b[1;33m)\u001b[0m\u001b[1;33m\u001b[0m\u001b[0m\n\u001b[0m",
      "\u001b[1;31mNameError\u001b[0m: name 'kilomater' is not defined"
     ]
    }
   ],
   "source": [
    "kilometer = 1000\n",
    "print(kilomater)"
   ]
  },
  {
   "cell_type": "code",
   "execution_count": 3,
   "metadata": {},
   "outputs": [
    {
     "ename": "SyntaxError",
     "evalue": "invalid syntax (<ipython-input-3-01fa6274f8d5>, line 3)",
     "output_type": "error",
     "traceback": [
      "\u001b[1;36m  File \u001b[1;32m\"<ipython-input-3-01fa6274f8d5>\"\u001b[1;36m, line \u001b[1;32m3\u001b[0m\n\u001b[1;33m    else\u001b[0m\n\u001b[1;37m        ^\u001b[0m\n\u001b[1;31mSyntaxError\u001b[0m\u001b[1;31m:\u001b[0m invalid syntax\n"
     ]
    }
   ],
   "source": [
    "if kilometer == 1000:\n",
    "    print('Unit is km')\n",
    "else\n",
    "    print('No happen!')"
   ]
  },
  {
   "cell_type": "code",
   "execution_count": 4,
   "metadata": {},
   "outputs": [
    {
     "ename": "SyntaxError",
     "evalue": "invalid character in identifier (<ipython-input-4-aa882aaccc93>, line 1)",
     "output_type": "error",
     "traceback": [
      "\u001b[1;36m  File \u001b[1;32m\"<ipython-input-4-aa882aaccc93>\"\u001b[1;36m, line \u001b[1;32m1\u001b[0m\n\u001b[1;33m    xlist = [1, 2, 3， 'Hello']\u001b[0m\n\u001b[1;37m                    ^\u001b[0m\n\u001b[1;31mSyntaxError\u001b[0m\u001b[1;31m:\u001b[0m invalid character in identifier\n"
     ]
    }
   ],
   "source": [
    "xlist = [1, 2, 3， 'Hello']"
   ]
  },
  {
   "cell_type": "markdown",
   "metadata": {},
   "source": [
    "在使用 PyCharm 之类的集成开发环境，通常能对这些错误做静态分析，自动标识出来，根据分析提示结果修改即可。在交互界面中，如果出现语法错误，快速定位修改即可。 "
   ]
  },
  {
   "cell_type": "markdown",
   "metadata": {
    "slideshow": {
     "slide_type": "slide"
    }
   },
   "source": [
    "### 异常\n",
    "\n",
    "大部分情况下，Python 程序的语法是正确的，但在运行的时候遇到错误，会抛出异常。Python 用异常对象（except object）来表示异常情况。如果异常对象未被处理或捕捉，Python 解释器就会用回溯（Traceback）来终止运行。"
   ]
  },
  {
   "cell_type": "code",
   "execution_count": 5,
   "metadata": {
    "slideshow": {
     "slide_type": "slide"
    }
   },
   "outputs": [
    {
     "ename": "TypeError",
     "evalue": "must be str, not int",
     "output_type": "error",
     "traceback": [
      "\u001b[1;31m---------------------------------------------------------------------------\u001b[0m",
      "\u001b[1;31mTypeError\u001b[0m                                 Traceback (most recent call last)",
      "\u001b[1;32m<ipython-input-5-e9f6881424a6>\u001b[0m in \u001b[0;36m<module>\u001b[1;34m()\u001b[0m\n\u001b[0;32m      1\u001b[0m \u001b[1;32mfor\u001b[0m \u001b[0mitem\u001b[0m \u001b[1;32min\u001b[0m \u001b[1;33m[\u001b[0m\u001b[1;34m'red'\u001b[0m\u001b[1;33m,\u001b[0m \u001b[1;34m'green'\u001b[0m\u001b[1;33m,\u001b[0m \u001b[1;34m'yellow'\u001b[0m\u001b[1;33m]\u001b[0m\u001b[1;33m:\u001b[0m\u001b[1;33m\u001b[0m\u001b[0m\n\u001b[1;32m----> 2\u001b[1;33m     \u001b[0mprint\u001b[0m\u001b[1;33m(\u001b[0m\u001b[0mitem\u001b[0m \u001b[1;33m+\u001b[0m \u001b[1;36m1\u001b[0m\u001b[1;33m)\u001b[0m\u001b[1;33m\u001b[0m\u001b[0m\n\u001b[0m",
      "\u001b[1;31mTypeError\u001b[0m: must be str, not int"
     ]
    }
   ],
   "source": [
    "for item in ['red', 'green', 'yellow']:\n",
    "    print(item + 1)"
   ]
  },
  {
   "cell_type": "markdown",
   "metadata": {
    "slideshow": {
     "slide_type": "-"
    }
   },
   "source": [
    "在上面示例中，变量`item`是字符串类型，它不能与整数相加。遇到这个错误会引发 `TypeError` 异常。由于这里没有捕获或处理该异常，就以错误信息展现。错误信息的前面部分显示了异常发生的上下文，并以回溯的形式显示具体信息。其中用长箭头指出可能出错的行，以及错误信息 `TypeError: must be str, not int`。"
   ]
  },
  {
   "cell_type": "markdown",
   "metadata": {},
   "source": [
    "对于这类异常错误，需要熟悉各种异常类，以及异常对应的各种错误可能。跌的坑多了，经验就会丰富，做好记录和分析，就能吃一堑长一智。\n",
    "\n",
    "每个异常都是一个异常类的实例，也就是异常类的对象。Python 内置一些异常类，使用下面代码可以计算异常类数目："
   ]
  },
  {
   "cell_type": "code",
   "execution_count": 6,
   "metadata": {
    "slideshow": {
     "slide_type": "slide"
    }
   },
   "outputs": [
    {
     "name": "stdout",
     "output_type": "stream",
     "text": [
      "49 ['ArithmeticError', 'AssertionError', 'AttributeError', 'BlockingIOError', 'BrokenPipeError', 'BufferError', 'ChildProcessError', 'ConnectionAbortedError', 'ConnectionError', 'ConnectionRefusedError', 'ConnectionResetError', 'EOFError', 'EnvironmentError', 'FileExistsError', 'FileNotFoundError', 'FloatingPointError', 'IOError', 'ImportError', 'IndentationError', 'IndexError', 'InterruptedError', 'IsADirectoryError', 'KeyError', 'LookupError', 'MemoryError', 'ModuleNotFoundError', 'NameError', 'NotADirectoryError', 'NotImplementedError', 'OSError', 'OverflowError', 'PermissionError', 'ProcessLookupError', 'RecursionError', 'ReferenceError', 'RuntimeError', 'SyntaxError', 'SystemError', 'TabError', 'TimeoutError', 'TypeError', 'UnboundLocalError', 'UnicodeDecodeError', 'UnicodeEncodeError', 'UnicodeError', 'UnicodeTranslateError', 'ValueError', 'WindowsError', 'ZeroDivisionError']\n"
     ]
    }
   ],
   "source": [
    "exceptions = [item for item in dir(__builtin__) if item.endswith('Error')]\n",
    "print(len(exceptions), exceptions)"
   ]
  },
  {
   "cell_type": "markdown",
   "metadata": {
    "slideshow": {
     "slide_type": "slide"
    }
   },
   "source": [
    "在下表中列出一些常见的内置异常类以及对应的可能出错原因：\n",
    "\n",
    "| 异常类   | 出错原因  |\n",
    "|:----------:|-------------------:|\n",
    "|`AssertionError` |\t断言语句（assert）失败 |\n",
    "|`AttributeError` |\t尝试访问未知的对象属性 |\n",
    "|`EOFError` |\t用户输入文件末尾标志EOF |\n",
    "|`FloatingPointError` |\t浮点计算错误 |\n",
    "|`GeneratorExit` |\t`generator.close()`方法被调用的时候 |\n",
    "|`ImportError` |\t导入模块失败的时候 |\n",
    "|`IndexError` |\t索引超出序列的范围 |\n",
    "|`KeyError` |\t字典中查找一个不存在的关键字 |\n",
    "|`KeyboardInterrupt` |\t用户输入中断键 (Ctrl+c or delete). |\n",
    "|`MemoryError` |\t内存溢出 |\n",
    "|`NameError` |\t尝试访问一个未定义变量 |\n",
    "|`NotImplementedError` |\t尚未实现的方法 |\n",
    "|`OSError` |\t操作系统产生的异常 |\n",
    "|`OverflowError` |\t数值运算最大限制溢出 |\n",
    "|`ReferenceError` |\t弱引用（weak reference）试图访问一个已经被垃圾回收机制回收了的对象 |\n",
    "|`RuntimeError` |\t一般的运行时错误 |\n",
    "|`SyntaxError` |\tPython的语法错误 |\n",
    "|`IndentationError` |\t缩进错误 |\n",
    "|`TabError` |\tTab和空格混合使用 |\n",
    "|`SystemError` |\tPython编译器系统错误 |\n",
    "|`SystemExit` |\tPython编译器进程被关闭 |\n",
    "|`TypeError` |\t不同类型间的无效操作 |\n",
    "|`UnboundLocalError` |\t访问一个未初始化的本地变量 |\n",
    "|`UnicodeError` |\tUnicode相关的错误 |\n",
    "|`UnicodeEncodeError` |\tUnicode编码时的错误 |\n",
    "|`UnicodeDecodeError` |\tUnicode解码时的错误 |\n",
    "|`UnicodeTranslateError` |\tUnicode转换时的错误 |\n",
    "|`ValueError` |\t传入参数类型不正确 |\n",
    "|`ZeroDivisionError` |\t除数为零 |"
   ]
  },
  {
   "cell_type": "markdown",
   "metadata": {
    "slideshow": {
     "slide_type": "slide"
    }
   },
   "source": [
    "### 理解错误\n",
    "\n",
    "Python 程序语法正确且运行无异常，但结果与预期不同。大多是因为理解偏差导致，故称之为理解错误。这种偏差包括对 Python 语言理解的偏差，对项目需求理解的偏差。Python 简单且功能强大，根据二八原则，掌握 20% 的知识就能够做出不错的工作，这也意味着还有更多内容需要去了解。只有深刻理解 Python 语言，因为理解偏差造成的错误就会减少。"
   ]
  },
  {
   "cell_type": "code",
   "execution_count": 7,
   "metadata": {
    "slideshow": {
     "slide_type": "slide"
    }
   },
   "outputs": [],
   "source": [
    "xlist = [[]] * 3\n",
    "xlist[0].append(0)\n",
    "xlist[1].append(1)\n",
    "xlist[2].append(2)"
   ]
  },
  {
   "cell_type": "markdown",
   "metadata": {
    "slideshow": {
     "slide_type": "-"
    }
   },
   "source": [
    "在上述代码中，原本意图是创建三个空列表组成的列表，然后在第1个空列表中添加0，在第2个空列表中添加1，在第3个空列表中添加2。预期结果是：\n",
    "```python\n",
    "[[0], [1], [2]]\n",
    "```"
   ]
  },
  {
   "cell_type": "markdown",
   "metadata": {
    "slideshow": {
     "slide_type": "-"
    }
   },
   "source": [
    "然而最终的结果却是："
   ]
  },
  {
   "cell_type": "code",
   "execution_count": 8,
   "metadata": {
    "slideshow": {
     "slide_type": "-"
    }
   },
   "outputs": [
    {
     "data": {
      "text/plain": [
       "[[0, 1, 2], [0, 1, 2], [0, 1, 2]]"
      ]
     },
     "execution_count": 8,
     "metadata": {},
     "output_type": "execute_result"
    }
   ],
   "source": [
    "xlist"
   ]
  },
  {
   "cell_type": "markdown",
   "metadata": {},
   "source": [
    "理解偏差在于，对列表使用乘法运算符运行时，返回的列表中有3个元素，每个元素确实是列表对象，但这3个元素指向同一个空列表：\n",
    "![列表乘法](../images/except_error_list_mul.png)\n",
    "当依次对这三个元素指向的列表进行添加时，实际是对同一个列表添加了三次，导致最终结果如上所示。"
   ]
  },
  {
   "cell_type": "code",
   "execution_count": 9,
   "metadata": {},
   "outputs": [
    {
     "data": {
      "text/plain": [
       "[[0], [1], [2]]"
      ]
     },
     "execution_count": 9,
     "metadata": {},
     "output_type": "execute_result"
    }
   ],
   "source": [
    "xlist = [[], [], []]\n",
    "xlist[0].append(0)\n",
    "xlist[1].append(1)\n",
    "xlist[2].append(2)\n",
    "xlist"
   ]
  },
  {
   "cell_type": "markdown",
   "metadata": {},
   "source": [
    "在书面代码中，定义变量`xlist`时使用字面常数来创建嵌套列表，此时列表的三个元素分别指向一个空列表：\n",
    "![列表乘法](../images/except_nest_list.png)\n",
    "故而结果就符合预期。"
   ]
  },
  {
   "cell_type": "markdown",
   "metadata": {
    "slideshow": {
     "slide_type": "slide"
    }
   },
   "source": [
    "## 抛出异常\n",
    "\n",
    "### 异常类和对象\n",
    "\n",
    "使用内置异常类可以创建一个实例对象，也就是一个异常。"
   ]
  },
  {
   "cell_type": "code",
   "execution_count": null,
   "metadata": {
    "slideshow": {
     "slide_type": "-"
    }
   },
   "outputs": [],
   "source": [
    "err = ZeroDivisionError('零除错误')\n",
    "err2 = ZeroDivisionError('浮点数零除错误')"
   ]
  },
  {
   "cell_type": "markdown",
   "metadata": {
    "slideshow": {
     "slide_type": "slide"
    }
   },
   "source": [
    "使用自省方法来查看："
   ]
  },
  {
   "cell_type": "code",
   "execution_count": null,
   "metadata": {
    "slideshow": {
     "slide_type": "-"
    }
   },
   "outputs": [],
   "source": [
    "print(type(err), type(err2))"
   ]
  },
  {
   "cell_type": "markdown",
   "metadata": {
    "slideshow": {
     "slide_type": "slide"
    }
   },
   "source": [
    "### `raise` 语句\n",
    "\n",
    "异常是一个异常类的实例。使用 `raise` 语句可以引发一个异常，也就是抛出指定异常。`raise` 语句语法是\n",
    "```\n",
    "raise exception\n",
    "```\n",
    "`raise` 后面只有一个参数，该参数要么是一个异常对象，要么是异常类。例如在下面示例代码中，修改变量 `var` 来抛出不同异常："
   ]
  },
  {
   "cell_type": "code",
   "execution_count": null,
   "metadata": {
    "slideshow": {
     "slide_type": "slide"
    }
   },
   "outputs": [],
   "source": [
    "var = ''\n",
    "if isinstance(var, int):\n",
    "    raise err\n",
    "elif isinstance(var, float):\n",
    "    raise err2  \n",
    "else:\n",
    "    raise ZeroDivisionError"
   ]
  },
  {
   "cell_type": "markdown",
   "metadata": {
    "slideshow": {
     "slide_type": "slide"
    }
   },
   "source": [
    "## 捕获异常\n",
    "\n",
    "出了错怎么办？兵来将挡水来土掩，可以使用`try...except`语句块捕获异常，进行相应处理，以避免程序中断退出。语法具体为：\n",
    "```\n",
    "try:\n",
    "    try suite\n",
    "except exception1 as var1:\n",
    "    except suite1\n",
    "except exception2 as var2:\n",
    "    except suite2\n",
    "else:\n",
    "    suite\n",
    "finally:\n",
    "    finally suite\n",
    "```"
   ]
  },
  {
   "cell_type": "markdown",
   "metadata": {
    "slideshow": {
     "slide_type": "slide"
    }
   },
   "source": [
    "`try...except`语句块至少要包含一个`except`从句，`else`从句与`finally`从句是可选的。"
   ]
  },
  {
   "cell_type": "markdown",
   "metadata": {
    "slideshow": {
     "slide_type": "slide"
    }
   },
   "source": [
    "Python 程序基本规则是自上而下顺序执行代码的。与条件语句和循环语句一样，`try...except`语句也会改变运行流程。其具体步骤是：\n",
    "1. 执行`try`语句下的代码块；\n",
    "2. 如果没有引发异常，代码块执行完后会跳过`except`子句；\n",
    "3. 如果引发异常，那么会跳过余下语句。开始对`except`语句指定的类型与所引发异常对象的类型进行比对。\n",
    "    - 如果符合则执行该`except`语句下的语句块；\n",
    "    - 如果引发异常与任何的`except`均不匹配，那么会把这个异常传递给上层。"
   ]
  },
  {
   "cell_type": "markdown",
   "metadata": {
    "slideshow": {
     "slide_type": "slide"
    }
   },
   "source": [
    "### 开始捕获异常\n",
    "\n",
    "在每一个 `except` 语句指定一个具体异常类。"
   ]
  },
  {
   "cell_type": "code",
   "execution_count": null,
   "metadata": {
    "slideshow": {
     "slide_type": "slide"
    }
   },
   "outputs": [],
   "source": [
    "alist = ['a', 0, 3.1314]\n",
    "for i, item in enumerate(alist):\n",
    "    try:\n",
    "        print('item {0}: {1}'.format(i, item))\n",
    "        result = 1 / int(item)\n",
    "        print('the reciprocal: {0}'.format(result))\n",
    "    except ZeroDivisionError:\n",
    "        print('捕获 ZeroDivisionError 异常')\n",
    "    except ValueError:\n",
    "        print('捕获 ValueError 异常')\n",
    "\n",
    "    print('This is always printed.')"
   ]
  },
  {
   "cell_type": "markdown",
   "metadata": {
    "slideshow": {
     "slide_type": "slide"
    }
   },
   "source": [
    "也可以在一个 `except` 语句中指定多个异常类型，只需要把异常类型用元组括起来。"
   ]
  },
  {
   "cell_type": "code",
   "execution_count": null,
   "metadata": {
    "slideshow": {
     "slide_type": "slide"
    }
   },
   "outputs": [],
   "source": [
    "alist = ['a', 0, 3.1314]\n",
    "for i, item in enumerate(alist):\n",
    "    try:\n",
    "        print('item {0}: {1}'.format(i, item))\n",
    "        result = 1 / int(item)\n",
    "        print('the reciprocal: {0}'.format(result))\n",
    "    except (ValueError, ZeroDivisionError):\n",
    "        print('捕获  ZeroDivisionError 或 ValueError 异常')\n",
    "print('This is always printed.')"
   ]
  },
  {
   "cell_type": "markdown",
   "metadata": {
    "slideshow": {
     "slide_type": "slide"
    }
   },
   "source": [
    "有时候无法知道程序会抛出啥异常，可以在`except`指定内置异常类的父类`Exception`，这样就可以捕获所有内置异常类，也就是`Exception`的子类："
   ]
  },
  {
   "cell_type": "code",
   "execution_count": null,
   "metadata": {
    "slideshow": {
     "slide_type": "-"
    }
   },
   "outputs": [],
   "source": [
    "alist = ['a', 0, 3.1314]\n",
    "for i, item in enumerate(alist):\n",
    "    try:\n",
    "        print('item {0}: {1}'.format(i, item))\n",
    "        result = 1 / int(item)\n",
    "        print('the reciprocal: {0}'.format(result))\n",
    "    except Exception:\n",
    "        print('catch a exception')\n",
    "    \n",
    "    print('This is always printed.')"
   ]
  },
  {
   "cell_type": "markdown",
   "metadata": {
    "slideshow": {
     "slide_type": "slide"
    }
   },
   "source": [
    "> 注意，使用`except Exception`的方法并非是好的做法。尽管能够捕获所有异常，但是很容易掩盖了代码中的逻辑错误。"
   ]
  },
  {
   "cell_type": "markdown",
   "metadata": {
    "slideshow": {
     "slide_type": "slide"
    }
   },
   "source": [
    "在 `except` 语句甚至可以啥也不指定，在此情况下，会捕获所有异常，如那些继承自 `BaseException` 的异常。但掩盖的错误会更严重。"
   ]
  },
  {
   "cell_type": "code",
   "execution_count": null,
   "metadata": {
    "scrolled": true,
    "slideshow": {
     "slide_type": "slide"
    }
   },
   "outputs": [],
   "source": [
    "alist = ['a', 0, 3.1314]\n",
    "for i, item in enumerate(alist):\n",
    "    try:\n",
    "        print('item {0}: {1}'.format(i, item))\n",
    "        result = 1 / int(item)\n",
    "        print('the reciprocal: {0}'.format(result))\n",
    "    except:\n",
    "        print('catch a exception')\n",
    "    print('This is always printed.')"
   ]
  },
  {
   "cell_type": "markdown",
   "metadata": {
    "slideshow": {
     "slide_type": "slide"
    }
   },
   "source": [
    "### 捕获异常对象\n",
    "\n",
    "在捕获到异常对象后，如果想要访问异常本身，可以使用`as`来指定变量来指向异常对象。"
   ]
  },
  {
   "cell_type": "code",
   "execution_count": 10,
   "metadata": {
    "slideshow": {
     "slide_type": "-"
    }
   },
   "outputs": [
    {
     "name": "stdout",
     "output_type": "stream",
     "text": [
      "item 0: a\n",
      "捕获异常 <class 'ValueError'>: invalid literal for int() with base 10: 'a'\n",
      "item 1: 0\n",
      "捕获异常 <class 'ZeroDivisionError'>: division by zero\n",
      "item 2: 3.1314\n",
      "结果: 0.3333333333333333\n",
      "This is always printed.\n"
     ]
    }
   ],
   "source": [
    "alist = ['a', 0, 3.1314]\n",
    "for i, item in enumerate(alist):\n",
    "    try:\n",
    "        print('item {0}: {1}'.format(i, item))\n",
    "        result = 1 / int(item)\n",
    "        print('结果: {0}'.format(result))\n",
    "    except ZeroDivisionError as e:\n",
    "        print('捕获异常 {0}: {1}'.format(type(e), e))\n",
    "    except ValueError as e:\n",
    "        print('捕获异常 {0}: {1}'.format(type(e), e))\n",
    "print('This is always printed.')"
   ]
  },
  {
   "cell_type": "markdown",
   "metadata": {
    "slideshow": {
     "slide_type": "slide"
    }
   },
   "source": [
    "也可以一个 `except` 语句指定多个异常类型"
   ]
  },
  {
   "cell_type": "code",
   "execution_count": null,
   "metadata": {
    "slideshow": {
     "slide_type": "-"
    }
   },
   "outputs": [],
   "source": [
    "alist = ['a', 0, 3.1314]\n",
    "for i, item in enumerate(alist):\n",
    "    try:\n",
    "        print('item {0}: {1}'.format(i, item))\n",
    "        result = 1 / int(item)\n",
    "        print('the reciprocal: {0}'.format(result))\n",
    "    except (ValueError, ZeroDivisionError) as e:\n",
    "        print('catch a exception {0}: {1}'.format(type(e), e))\n",
    "print('This is always printed.')"
   ]
  },
  {
   "cell_type": "markdown",
   "metadata": {
    "slideshow": {
     "slide_type": "slide"
    }
   },
   "source": [
    "如果是在不知道程序会抛出什么样的异常，可以指定`Exception`，同时捕获异常对象本身，可以从中获取更多信息。"
   ]
  },
  {
   "cell_type": "code",
   "execution_count": null,
   "metadata": {
    "slideshow": {
     "slide_type": "slide"
    }
   },
   "outputs": [],
   "source": [
    "alist = ['a', 0, 3.1314]\n",
    "for i, item in enumerate(alist):\n",
    "    try:\n",
    "        print('item {0}: {1}'.format(i, item))\n",
    "        result = 1 / int(item)\n",
    "        print('the reciprocal: {0}'.format(result))\n",
    "    except Exception as e:\n",
    "        print('catch a exception {0}: {1}'.format(type(e), e))\n",
    "        raise\n",
    "        \n",
    "    print('This is always printed.')"
   ]
  },
  {
   "cell_type": "markdown",
   "metadata": {
    "slideshow": {
     "slide_type": "slide"
    }
   },
   "source": [
    "### `finally` 语句\n",
    "\n",
    "不管 `try` 语句是否发生异常，`finally` 从句都会执行。这在打开文件出现异常时比较有用，可以使用该语句把文件关闭。"
   ]
  },
  {
   "cell_type": "code",
   "execution_count": 11,
   "metadata": {
    "slideshow": {
     "slide_type": "slide"
    }
   },
   "outputs": [
    {
     "name": "stdout",
     "output_type": "stream",
     "text": [
      "item 0: a\n",
      "catch a exception <class 'ValueError'>: invalid literal for int() with base 10: 'a'\n",
      "finally statements.\n",
      "item 1: 0\n",
      "catch a exception <class 'ZeroDivisionError'>: division by zero\n",
      "finally statements.\n",
      "item 2: 3.1314\n",
      "the reciprocal: 0.3333333333333333\n",
      "finally statements.\n",
      "This is always printed.\n"
     ]
    }
   ],
   "source": [
    "alist = ['a', 0, 3.1314]\n",
    "for i, item in enumerate(alist):\n",
    "    try:\n",
    "        print('item {0}: {1}'.format(i, item))\n",
    "        result = 1 / int(item)\n",
    "        print('the reciprocal: {0}'.format(result))\n",
    "    except Exception as e:\n",
    "        print('catch a exception {0}: {1}'.format(type(e), e))\n",
    "    finally:\n",
    "        print('finally statements.')        \n",
    "\n",
    "print('This is always printed.')"
   ]
  },
  {
   "cell_type": "markdown",
   "metadata": {
    "slideshow": {
     "slide_type": "skip"
    }
   },
   "source": [
    "### `else`从句\n",
    "\n",
    "如果没有引起异常时，偶尔会想要执行一些语句,可以使用`else`从句实现。`else`从句只在没有异常的情况下才会运行，而且只在`finally`从句前才执行。很少人会用到`else`从句，不过有这个语法，还是的提一下。"
   ]
  },
  {
   "cell_type": "code",
   "execution_count": null,
   "metadata": {
    "slideshow": {
     "slide_type": "skip"
    }
   },
   "outputs": [],
   "source": [
    "alist = ['a', 0, 3.1314]\n",
    "for i, item in enumerate(alist):\n",
    "    try:\n",
    "        print('item {0}: {1}'.format(i, item))\n",
    "        result = 1 / int(item)\n",
    "    except Exception as e:\n",
    "        print('catch a exception {0}: {1}'.format(type(e), e))\n",
    "    else:\n",
    "        print('else statements.')        \n",
    "    finally:\n",
    "        print('finally statements.')        \n",
    "print('This is always printed.')"
   ]
  },
  {
   "cell_type": "markdown",
   "metadata": {
    "slideshow": {
     "slide_type": "slide"
    }
   },
   "source": [
    "## 自定义异常\n",
    "\n",
    "如果用户需要创建自己的异常类，来引发自定义异常，可以自定义父类为`Exception`的类即可，可以直接继承，或者间接继承。"
   ]
  },
  {
   "cell_type": "markdown",
   "metadata": {
    "slideshow": {
     "slide_type": "slide"
    }
   },
   "source": [
    "## 小结\n",
    "\n",
    "学会记录自己的错误案例。参见[系统内置异常](../builtins/builtins_exception.ipynb)"
   ]
  }
 ],
 "metadata": {
  "celltoolbar": "Slideshow",
  "kernelspec": {
   "display_name": "Python 3",
   "language": "python",
   "name": "python3"
  },
  "language_info": {
   "codemirror_mode": {
    "name": "ipython",
    "version": 3
   },
   "file_extension": ".py",
   "mimetype": "text/x-python",
   "name": "python",
   "nbconvert_exporter": "python",
   "pygments_lexer": "ipython3",
   "version": "3.6.4"
  },
  "toc": {
   "base_numbering": 1,
   "nav_menu": {},
   "number_sections": true,
   "sideBar": true,
   "skip_h1_title": false,
   "title_cell": "Table of Contents",
   "title_sidebar": "Contents",
   "toc_cell": false,
   "toc_position": {
    "height": "calc(100% - 180px)",
    "left": "10px",
    "top": "150px",
    "width": "384px"
   },
   "toc_section_display": true,
   "toc_window_display": false
  }
 },
 "nbformat": 4,
 "nbformat_minor": 1
}
