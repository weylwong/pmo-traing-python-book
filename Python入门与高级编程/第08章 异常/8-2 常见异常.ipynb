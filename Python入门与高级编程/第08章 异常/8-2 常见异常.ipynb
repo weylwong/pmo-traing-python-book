{
 "cells": [
  {
   "cell_type": "markdown",
   "metadata": {
    "slideshow": {
     "slide_type": "slide"
    }
   },
   "source": [
    "# 内置异常类常见案例\n",
    "\n",
    "Python 内置了大约49个异常类，下表列出内置异常类及其出错可能原因。\n",
    "\n",
    "| 异常类   | 出错原因  |\n",
    "|----------|-------------------|\n",
    "|`AssertionError` |\t断言语句（assert）失败 |\n",
    "|`AttributeError` |\t尝试访问未知的对象属性 |\n",
    "|`EOFError` |\t用户输入文件末尾标志EOF |\n",
    "|`FloatingPointError` |\t浮点计算错误 |\n",
    "|`GeneratorExit` |\t`generator.close()`方法被调用的时候 |\n",
    "|`ImportError` |\t导入模块失败的时候 |\n",
    "|`IndexError` |\t索引超出序列的范围 |\n",
    "|`KeyError` |\t字典中查找一个不存在的关键字 |\n",
    "|`KeyboardInterrupt` |\t用户输入中断键 (Ctrl+c or delete). |\n",
    "|`MemoryError` |\t内存溢出 |\n",
    "|`NameError` |\t尝试访问一个未定义变量 |\n",
    "|`NotImplementedError` |\t尚未实现的方法 |\n",
    "|`OSError` |\t操作系统产生的异常 |\n",
    "|`OverflowError` |\t数值运算最大限制溢出 |\n",
    "|`ReferenceError` |\t弱引用（weak reference）试图访问一个已经被垃圾回收机制回收了的对象 |\n",
    "|`RuntimeError` |\t一般的运行时错误 |\n",
    "|`StopIteration` |\t迭代器没有更多的值 |\n",
    "|`SyntaxError` |\tPython的语法错误 |\n",
    "|`IndentationError` |\t缩进错误 |\n",
    "|`TabError` |\tTab和空格混合使用 |\n",
    "|`SystemError` |\tPython编译器系统错误 |\n",
    "|`SystemExit` |\tPython编译器进程被关闭 |\n",
    "|`TypeError` |\t不同类型间的无效操作 |\n",
    "|`UnboundLocalError` |\t访问一个未初始化的本地变量 |\n",
    "|`UnicodeError` |\tUnicode相关的错误 |\n",
    "|`UnicodeEncodeError` |\tUnicode编码时的错误 |\n",
    "|`UnicodeDecodeError` |\tUnicode解码时的错误 |\n",
    "|`UnicodeTranslateError` |\tUnicode转换时的错误 |\n",
    "|`ValueError` |\t传入参数类型不正确 |\n",
    "|`ZeroDivisionError` |\t除数为零 |"
   ]
  },
  {
   "cell_type": "markdown",
   "metadata": {
    "slideshow": {
     "slide_type": "slide"
    }
   },
   "source": [
    "Python内置异常类都继承自`Exception`类，而`Exception`类则是`BaseException`的子类。Python 内置异常类的继承关系如下所示：\n",
    "```\n",
    "Exception\n",
    "    ArithmeticError\n",
    "        FloatingPointError\n",
    "        OverflowError\n",
    "        ZeroDivisionError\n",
    "    AssertionError\n",
    "    AttributeError\n",
    "    BufferError\n",
    "    EOFError\n",
    "    ImportError\n",
    "        ModuleNotFoundError\n",
    "    LookupError\n",
    "        IndexError\n",
    "        KeyError\n",
    "    MemoryError\n",
    "    NameError\n",
    "        UnboundLocalError\n",
    "    OSError\n",
    "        BlockingIOError\n",
    "        ChildProcessError\n",
    "        ConnectionError\n",
    "            BrokenPipeError\n",
    "            ConnectionAbortedError\n",
    "            ConnectionRefusedError\n",
    "            ConnectionResetError\n",
    "        FileExistsError\n",
    "        FileNotFoundError\n",
    "        InterruptedError\n",
    "        IsADirectoryError\n",
    "        NotADirectoryError\n",
    "        PermissionError\n",
    "        ProcessLookupError\n",
    "        TimeoutError\n",
    "    ReferenceError\n",
    "    RuntimeError\n",
    "        NotImplementedError\n",
    "        RecursionError\n",
    "    StopAsyncIteration\n",
    "    StopIteration\n",
    "    SyntaxError\n",
    "        IndentationError\n",
    "            TabError\n",
    "    SystemError\n",
    "    TypeError\n",
    "    ValueError\n",
    "        UnicodeError\n",
    "            UnicodeDecodeError\n",
    "            UnicodeEncodeError\n",
    "            UnicodeTranslateError\n",
    "```"
   ]
  },
  {
   "cell_type": "markdown",
   "metadata": {
    "slideshow": {
     "slide_type": "slide"
    }
   },
   "source": [
    "## 异常类常见案例\n",
    "\n",
    "| 1  | 2 |  3 | 4 | 5  |\n",
    "|:------:|:------:|:------:|:------:|:------:|\n",
    "| [`ArithmeticError`](ArithmeticError.ipynb) | [`AssertionError`](AssertionError.ipynb) | [`AttributeError`](AttributeError.ipynb) | [`BlockingIOError`](BlockingIOError.ipynb) | [`BrokenPipeError`](BrokenPipeError.ipynb) |\n",
    "| [`BufferError`](BufferError.ipynb) | [`ChildProcessError`](ChildProcessError.ipynb) | [`ConnectionAbortedError`](ConnectionAbortedError.ipynb) | [`ConnectionError`](ConnectionError.ipynb) | [`ConnectionRefusedError`](ConnectionRefusedError.ipynb) |\n",
    "| [`ConnectionResetError`](ConnectionResetError.ipynb) | [`EOFError`](EOFError.ipynb) | [`EnvironmentError`](EnvironmentError.ipynb) | [`FileExistsError`](FileExistsError.ipynb) | [`FileNotFoundError`](FileNotFoundError.ipynb) |\n",
    "| [`FloatingPointError`](FloatingPointError.ipynb) | [`IOError`](IOError.ipynb) | [`ImportError`](ImportError.ipynb) | [`IndentationError`](IndentationError.ipynb) | [`IndexError`](IndexError.ipynb) |\n",
    "| [`InterruptedError`](InterruptedError.ipynb) | [`IsADirectoryError`](IsADirectoryError.ipynb) | [`KeyError`](KeyError.ipynb) | [`LookupError`](LookupError.ipynb) | [`MemoryError`](MemoryError.ipynb) |\n",
    "| [`ModuleNotFoundError`](ModuleNotFoundError.ipynb) | [`NameError`](NameError.ipynb) | [`NotADirectoryError`](NotADirectoryError.ipynb) | [`NotImplementedError`](NotImplementedError.ipynb) | [`OSError`](OSError.ipynb) |\n",
    "| [`OverflowError`](OverflowError.ipynb) | [`PermissionError`](PermissionError.ipynb) | [`ProcessLookupError`](ProcessLookupError.ipynb) | [`RecursionError`](RecursionError.ipynb) | [`ReferenceError`](ReferenceError.ipynb) |\n",
    "| [`RuntimeError`](RuntimeError.ipynb) | [`SyntaxError`](SyntaxError.ipynb) | [`SystemError`](SystemError.ipynb) | [`TabError`](TabError.ipynb) | [`TimeoutError`](TimeoutError.ipynb) |\n",
    "| [`TypeError`](TypeError.ipynb) | [`UnboundLocalError`](UnboundLocalError.ipynb) | [`UnicodeDecodeError`](UnicodeDecodeError.ipynb) | [`UnicodeEncodeError`](UnicodeEncodeError.ipynb) | [`UnicodeError`](UnicodeError.ipynb) |\n",
    "| [`UnicodeTranslateError`](UnicodeTranslateError.ipynb) | [`ValueError`](ValueError.ipynb) | [`ZeroDivisionError`](ZeroDivisionError.ipynb) |"
   ]
  }
 ],
 "metadata": {
  "celltoolbar": "Slideshow",
  "kernelspec": {
   "display_name": "Python 3",
   "language": "python",
   "name": "python3"
  },
  "language_info": {
   "codemirror_mode": {
    "name": "ipython",
    "version": 3
   },
   "file_extension": ".py",
   "mimetype": "text/x-python",
   "name": "python",
   "nbconvert_exporter": "python",
   "pygments_lexer": "ipython3",
   "version": "3.6.4"
  },
  "toc": {
   "base_numbering": 1,
   "nav_menu": {},
   "number_sections": true,
   "sideBar": true,
   "skip_h1_title": false,
   "title_cell": "Table of Contents",
   "title_sidebar": "Contents",
   "toc_cell": false,
   "toc_position": {},
   "toc_section_display": true,
   "toc_window_display": false
  }
 },
 "nbformat": 4,
 "nbformat_minor": 2
}
