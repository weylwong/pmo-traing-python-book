{
 "cells": [
  {
   "cell_type": "markdown",
   "metadata": {
    "slideshow": {
     "slide_type": "slide"
    }
   },
   "source": [
    "# 内置函数\n",
    "\n",
    "| 1  | 2 |  3 | 4 | 5  |\n",
    "|:------|:------|:------|:------|:------|\n",
    "| `abs()` |\t`delattr()` |\t`hash()` |\t`memoryview()` |\t`set()` |\n",
    "| `all()` |\t`dict()` |\t`help()` |\t`min()` |\t`setattr()` |\n",
    "| `any()` |\t`dir()` |\t`hex()` |\t`next()` |\t`slice()` |\n",
    "| `ascii()` |\t`divmod()` |\t`id()` |\t`object()` |\t`sorted()` |\n",
    "| `bin()` |\t`enumerate()` |\t`input()` |\t`oct()` |\t`staticmethod()` |\n",
    "| `bool()` |\t`eval()` |\t`int()` |\t`open()` |\t`str()` |\n",
    "| `breakpoint()` |\t`exec()` |\t`isinstance()` |\t`ord()` |\t`sum()` |\n",
    "| `bytearray()` |\t`filter()` |\t`issubclass()` |\t`pow()` |\t`super()` |\n",
    "| `bytes()` |\t`float()` |\t`iter()` |\t`print()` |\t`tuple()` |\n",
    "| `callable()` |\t`format()` |\t`len()` |\t`property()` |\t`type()` |\n",
    "| `chr()` |\t`frozenset()` |\t`list()` |\t`range()` |\t`vars()` |\n",
    "| `classmethod()` |\t`getattr()` |\t`locals()` |\t`repr()` |\t`zip()` |\n",
    "| `compile()` |\t`globals()` |\t`map()` |\t`reversed()` |\t`__import__()` |\n",
    "| `complex()` |\t`hasattr()` |\t`max()` |\t`round()` |\t "
   ]
  },
  {
   "cell_type": "markdown",
   "metadata": {},
   "source": [
    "## 输入输出\n",
    "\n",
    "- `print()`，打印输出\n",
    "- `input(prompt='')`，返回用户输入"
   ]
  },
  {
   "cell_type": "markdown",
   "metadata": {},
   "source": [
    "### `print()` \n",
    "\n",
    "`print(x)`函数用于打印输出:\n",
    "```python\n",
    "print(*args, sep=' ', end='\\n', file=sys.stdout, flush=False)\n",
    "```\n",
    "- 输入\n",
    "    - 不定位置参数，输出0个或多个对象。\n",
    "    - `sep`, 分隔符，缺省是一个空格。\n",
    "    - `end`，指定结尾符号，缺省是换行符`\\n`。\n",
    "    - `file`，指定输出文件流，缺省是标准输出。\n",
    "    - `flush`，是否刷新缓冲区。\n",
    "- 输出\n",
    "    - 返回`None`"
   ]
  },
  {
   "cell_type": "code",
   "execution_count": null,
   "metadata": {},
   "outputs": [],
   "source": [
    "# print function\n",
    "print()\n",
    "print(True, None, 1.2)\n",
    "print(True, None, 1.2, sep=',')"
   ]
  },
  {
   "cell_type": "markdown",
   "metadata": {},
   "source": [
    " ### `input(prompt='')`\n",
    "\n",
    "从标准控制台接受一个用户输入数据，返回为字符串：\n",
    "```python\n",
    "input(prompt='')\n",
    "```\n",
    "- 输入\n",
    "    - `prompt`，提示信息，缺省是空字符。  \n",
    "- 输出\n",
    "    - 返回字符串"
   ]
  },
  {
   "cell_type": "code",
   "execution_count": null,
   "metadata": {},
   "outputs": [],
   "source": [
    "x = input()\n",
    "i = input('请输入整数：')\n",
    "print(x, type(x), i, type(i))"
   ]
  },
  {
   "cell_type": "markdown",
   "metadata": {
    "slideshow": {
     "slide_type": "slide"
    }
   },
   "source": [
    "## 自省\n",
    "\n",
    "- `callable(obj)`：检查对象是否可调用\n",
    "- `delattr(obj, name)`：删除对象的属性\n",
    "- `dir([object])`：列出对象的成员（属性与方法）\n",
    "- `getattr(object, name)`：获取对象的成员\n",
    "- `globals()`：返回当前状态全部全局变量。\n",
    "- `hasattr(obj, name)`：判断对象是否包含指定成员\n",
    "- `hash()`，返回对象哈希值。\n",
    "- `id(obj)`：返回对象的身份标识\n",
    "- `isinstance(obj, class_or_tuple)`：检查指定对象是否是已知类的实例\n",
    "- `issubclass(cls, class_or_tuple)`：检查类是否是已知类的子类\n",
    "- `locals()`：返回当前状态的全部局部变量\n",
    "- `setattr(obj, name, value)`：设置对象的属性值\n",
    "- `type(object)`：返回对象的类型\n",
    "- `vars`：返回对象的变量"
   ]
  },
  {
   "cell_type": "markdown",
   "metadata": {},
   "source": [
    "### `callable(obj)`\n",
    "\n",
    "检查对象是否可调用：\n",
    "```python\n",
    "callable(obj)\n",
    "```\n",
    "- 输入\n",
    "    - `obj`，对象  \n",
    "- 输出\n",
    "    - 返回布尔数\n",
    "    \n",
    "如果对象实现有`__call__`方法，那它就能被调用。"
   ]
  },
  {
   "cell_type": "code",
   "execution_count": null,
   "metadata": {},
   "outputs": [],
   "source": [
    "print(callable(abs), callable(int))\n",
    "x = 3.13\n",
    "print(callable(abs), callable(x))"
   ]
  },
  {
   "cell_type": "code",
   "execution_count": null,
   "metadata": {},
   "outputs": [],
   "source": [
    "def f1():\n",
    "    pass\n",
    "\n",
    "class SimpleClass:\n",
    "    pass\n",
    "\n",
    "print(callable(f1), callable(SimpleClass))"
   ]
  },
  {
   "cell_type": "markdown",
   "metadata": {},
   "source": [
    "### `delattr(obj, name)`\n",
    "\n",
    "删除对象属性返回对象成员的值：\n",
    "```python\n",
    "delattr(obj, name)\n",
    "```\n",
    "- 输入\n",
    "    - `object`，对象  \n",
    "    - `name`，成员名，字符串 \n",
    "- 输出\n",
    "    - 对象成员值"
   ]
  },
  {
   "cell_type": "code",
   "execution_count": null,
   "metadata": {},
   "outputs": [],
   "source": [
    "# 检查对象属性\n",
    "class Position:\n",
    "    def __init__(self, x=0, y=0, z=0):\n",
    "        self.x = x\n",
    "        self.y = y\n",
    "        self.z = z"
   ]
  },
  {
   "cell_type": "code",
   "execution_count": null,
   "metadata": {},
   "outputs": [],
   "source": [
    "p1 = Position(123, 312, -51)\n",
    "delattr(p1, 'x')\n",
    "print(hasattr(p1, 'x'))\n",
    "delattr(p1, 'y')\n",
    "print(hasattr(p1, 'y'))\n",
    "delattr(p1, 'z')\n",
    "print(hasattr(p1, 'z'))"
   ]
  },
  {
   "cell_type": "code",
   "execution_count": null,
   "metadata": {},
   "outputs": [],
   "source": [
    "# 引起AttributeError\n",
    "delattr(p1, 'x')"
   ]
  },
  {
   "cell_type": "markdown",
   "metadata": {},
   "source": [
    "### `dir([object])`\n",
    "\n",
    "显示对象的成员（属性和方法）：\n",
    "```python\n",
    "dir([object])\n",
    "```\n",
    "- 输入\n",
    "    - `object`，对象  \n",
    "- 输出\n",
    "    - 列表对象\n",
    "    \n",
    "如果不指定参数，返回当前空间内的变量、方法和定义类型；如果指定对象，则返回对象的成员（属性与方法），包括继承自父类的属性与方法。 "
   ]
  },
  {
   "cell_type": "code",
   "execution_count": null,
   "metadata": {},
   "outputs": [],
   "source": [
    "print(dir())"
   ]
  },
  {
   "cell_type": "code",
   "execution_count": null,
   "metadata": {},
   "outputs": [],
   "source": [
    "print(dir(int))"
   ]
  },
  {
   "cell_type": "markdown",
   "metadata": {},
   "source": [
    "### `getattr(object, name)`\n",
    "\n",
    "返回对象成员的值：\n",
    "```python\n",
    "getattr(object, name[, default])\n",
    "```\n",
    "- 输入\n",
    "    - `object`，对象  \n",
    "    - `name`，成员名，字符串 \n",
    "    - 如果成员不存在，`getattr()`函数会抛出成员错误(`AttributeError`)异常。通过指定该缺省值，返回缺省值，避免异常，\n",
    "- 输出\n",
    "    - 对象成员值"
   ]
  },
  {
   "cell_type": "code",
   "execution_count": null,
   "metadata": {},
   "outputs": [],
   "source": [
    "# 返回列表对象成员`__getitem__`\n",
    "xlist = []\n",
    "res = getattr(xlist, '__getitem__')\n",
    "print(res, type(res))\n",
    "\n",
    "res = getattr(xlist, 'no member', None)\n",
    "print(res, type(res))"
   ]
  },
  {
   "cell_type": "code",
   "execution_count": null,
   "metadata": {},
   "outputs": [],
   "source": [
    "# 如果成员不存在则抛出成员错误(AttributeError)异常\n",
    "res = getattr(xlist, 'no member')\n",
    "print(res, type(res))"
   ]
  },
  {
   "cell_type": "markdown",
   "metadata": {},
   "source": [
    "### `globals()`\n",
    "\n",
    "返回当前状态下全局变量：\n",
    "```python\n",
    "globals()\n",
    "```\n",
    "- 输入\n",
    "    - 无\n",
    "- 输出\n",
    "    - 字典"
   ]
  },
  {
   "cell_type": "code",
   "execution_count": null,
   "metadata": {},
   "outputs": [],
   "source": [
    "print(globals())"
   ]
  },
  {
   "cell_type": "markdown",
   "metadata": {},
   "source": [
    "###  `hasattr(obj, name)`\n",
    "\n",
    "判断对象是否包含对应成员：\n",
    "```python\n",
    "hasattr(obj, name)\n",
    "```\n",
    "- 输入\n",
    "    - `obj`，对象  \n",
    "    - `name`，成员名，字符串  \n",
    "- 输出\n",
    "    - 布尔数"
   ]
  },
  {
   "cell_type": "code",
   "execution_count": null,
   "metadata": {},
   "outputs": [],
   "source": [
    "# 检查列表对象是否有魔术方法`__getitem__\n",
    "xlist = []\n",
    "print(hasattr(xlist, '__getitem__'))"
   ]
  },
  {
   "cell_type": "code",
   "execution_count": null,
   "metadata": {},
   "outputs": [],
   "source": [
    "# 检查对象属性\n",
    "class Position:\n",
    "    def __init__(self, x=0, y=0, z=0):\n",
    "        self.x = x\n",
    "        self.y = y\n",
    "        self.z = z\n",
    "        \n",
    "p0 = Position()\n",
    "p1 = Position(123, 312, -51)\n",
    "print(hasattr(p0, 'x'), hasattr(p1, 'z'), hasattr(p1, 'o'))"
   ]
  },
  {
   "cell_type": "markdown",
   "metadata": {},
   "source": [
    "### `hash()`\n",
    "\n",
    "返回对象的哈希值：\n",
    "```python\n",
    "hash(obj\n",
    "```\n",
    "- 输入\n",
    "    - `object`，对象\n",
    "- 输出\n",
    "    - 返回哈希结果"
   ]
  },
  {
   "cell_type": "code",
   "execution_count": 5,
   "metadata": {},
   "outputs": [
    {
     "name": "stdout",
     "output_type": "stream",
     "text": [
      "123 -6170587702274420550 2528502973977326415\n"
     ]
    }
   ],
   "source": [
    "print(hash(123), hash('hello'), hash((1, 2, 3)))"
   ]
  },
  {
   "cell_type": "code",
   "execution_count": 6,
   "metadata": {},
   "outputs": [
    {
     "ename": "TypeError",
     "evalue": "unhashable type: 'list'",
     "output_type": "error",
     "traceback": [
      "\u001b[1;31m---------------------------------------------------------------------------\u001b[0m",
      "\u001b[1;31mTypeError\u001b[0m                                 Traceback (most recent call last)",
      "\u001b[1;32m<ipython-input-6-095a0a80b00b>\u001b[0m in \u001b[0;36m<module>\u001b[1;34m()\u001b[0m\n\u001b[0;32m      1\u001b[0m \u001b[1;31m# 如果对象不是可哈希对象，则抛出异常\u001b[0m\u001b[1;33m\u001b[0m\u001b[1;33m\u001b[0m\u001b[0m\n\u001b[1;32m----> 2\u001b[1;33m \u001b[0mhash\u001b[0m\u001b[1;33m(\u001b[0m\u001b[1;33m[\u001b[0m\u001b[1;36m1\u001b[0m\u001b[1;33m,\u001b[0m \u001b[1;36m2\u001b[0m\u001b[1;33m,\u001b[0m \u001b[1;36m3\u001b[0m\u001b[1;33m]\u001b[0m\u001b[1;33m)\u001b[0m\u001b[1;33m\u001b[0m\u001b[0m\n\u001b[0m",
      "\u001b[1;31mTypeError\u001b[0m: unhashable type: 'list'"
     ]
    }
   ],
   "source": [
    "# 如果对象不是可哈希对象，则抛出异常\n",
    "hash([1, 2, 3])"
   ]
  },
  {
   "cell_type": "markdown",
   "metadata": {},
   "source": [
    "### `id(obj)`\n",
    "\n",
    "返回对象的身份标识：\n",
    "```python\n",
    "id(obj)\n",
    "```\n",
    "- 输入\n",
    "    - `obj`，对象  \n",
    "- 输出\n",
    "    - 整数"
   ]
  },
  {
   "cell_type": "code",
   "execution_count": null,
   "metadata": {},
   "outputs": [],
   "source": [
    "x, y, z = 1, 3.1314, 1+2j\n",
    "print(id(x), id(y), id(z))"
   ]
  },
  {
   "cell_type": "markdown",
   "metadata": {},
   "source": [
    "### `isinstance()`\n",
    "\n",
    "检查对象是否是一个已知类型的实例：\n",
    "```python\n",
    "isinstance(obj, class_or_tuple)\n",
    "```\n",
    "- 输入\n",
    "    - `obj`，对象  \n",
    "    - `clsss_or_tuple`，类，或类组成的元组\n",
    "- 输出\n",
    "    - 返回布尔数"
   ]
  },
  {
   "cell_type": "code",
   "execution_count": null,
   "metadata": {},
   "outputs": [],
   "source": [
    "x, y = 1, 3.1314\n",
    "print(isinstance(x, int), isinstance(x, object))\n",
    "print(isinstance(x, (int, object)))"
   ]
  },
  {
   "cell_type": "markdown",
   "metadata": {},
   "source": [
    "### `issubclass()`\n",
    "\n",
    "检查类是否是已知类的子类：\n",
    "```python\n",
    "issubclass(cls, class_or_tuple)\n",
    "```\n",
    "- 输入\n",
    "    - `cls`，类名  \n",
    "    - `clsss_or_tuple`，类或类组成的元组\n",
    "- 输出\n",
    "    - 返回布尔数"
   ]
  },
  {
   "cell_type": "code",
   "execution_count": null,
   "metadata": {},
   "outputs": [],
   "source": [
    "class A:\n",
    "    pass\n",
    "\n",
    "class B(A):\n",
    "    pass\n",
    "\n",
    "print(issubclass(B, A), issubclass(B, object))\n",
    "print(issubclass(B, (A, object)))"
   ]
  },
  {
   "cell_type": "markdown",
   "metadata": {},
   "source": [
    "### `locals())`\n",
    "\n",
    "查看当前空间的全部局部变量：\n",
    "```python\n",
    "locals())\n",
    "```\n",
    "- 输入\n",
    "    - 无\n",
    "- 输出\n",
    "    - 返回字典对象"
   ]
  },
  {
   "cell_type": "code",
   "execution_count": null,
   "metadata": {},
   "outputs": [],
   "source": [
    "def f1():\n",
    "    x, y, z = 1, 1., '1'\n",
    "    print(locals())\n",
    "    \n",
    "f1()"
   ]
  },
  {
   "cell_type": "code",
   "execution_count": null,
   "metadata": {},
   "outputs": [],
   "source": [
    "class SimpleClass():\n",
    "    def __init__(self):\n",
    "        self.x = 1\n",
    "        print(locals())\n",
    "    \n",
    "    def add(self):\n",
    "        z = 3\n",
    "        print(locals())\n",
    "    \n",
    "obj = SimpleClass()\n",
    "obj.add()"
   ]
  },
  {
   "cell_type": "markdown",
   "metadata": {},
   "source": [
    "### `setattr(obj, name, value)`\n",
    "\n",
    "设置对象的属性值，该属性不一定存在：\n",
    "```python\n",
    "setattr(obj, name, value)\n",
    "```\n",
    "- 输入\n",
    "    - `obj`，对象  \n",
    "    - `name`，成员名,字符串 \n",
    "    - `value`, 值\n",
    "- 输出\n",
    "    - 对象成员值\n",
    "    \n",
    "如果对象的属性是可读，会抛出`AttributeError`异常。"
   ]
  },
  {
   "cell_type": "code",
   "execution_count": null,
   "metadata": {},
   "outputs": [],
   "source": [
    "# 检查对象属性\n",
    "class Position:\n",
    "    def __init__(self, x=0, y=0, z=0):\n",
    "        self.x = x\n",
    "        self.y = y\n",
    "        self.z = z\n",
    "        \n",
    "p0 = Position()\n",
    "setattr(p0, 'x', 100)\n",
    "print(getattr(p0, 'x'))\n",
    "setattr(p0, 'space', 10)\n",
    "print(getattr(p0, 'space'))"
   ]
  },
  {
   "cell_type": "code",
   "execution_count": null,
   "metadata": {},
   "outputs": [],
   "source": [
    "# `AttributeError`异常\n",
    "z = 2 + 3j\n",
    "print(getattr(z, 'real'))\n",
    "print(setattr(z, 'real', 2))"
   ]
  },
  {
   "cell_type": "markdown",
   "metadata": {},
   "source": [
    "### `type(object)`\n",
    "\n",
    "返回对象的类型：\n",
    "```python\n",
    "type(object)\n",
    "```\n",
    "- 输入\n",
    "    - `object`，对象  \n",
    "- 输出\n",
    "    - `type`对象\n",
    "\n",
    "创建一个类型：\n",
    "```python\n",
    "type(name, bases, dict)\n",
    "```\n",
    "- 输入\n",
    "    - `name`，类名。\n",
    "    - `bases`，父类（元组）。\n",
    "    - `dict` -- 类内定义的命名空间变量。\n",
    "- 输出\n",
    "    - 返回类"
   ]
  },
  {
   "cell_type": "code",
   "execution_count": null,
   "metadata": {},
   "outputs": [],
   "source": [
    "res = type(1)\n",
    "print(res, type(res))"
   ]
  },
  {
   "cell_type": "code",
   "execution_count": null,
   "metadata": {},
   "outputs": [],
   "source": [
    "TypedClass = type('TypedClass', (object,), dict(a=1))\n",
    "x0 = TypedClass()\n",
    "print(type(x0), type(TypedClass))"
   ]
  },
  {
   "cell_type": "markdown",
   "metadata": {},
   "source": [
    "### `vars([object])`\n",
    "\n",
    "查看当前空间的全部局部变量：\n",
    "```python\n",
    "vars([object])\n",
    "```\n",
    "- 输入\n",
    "    - `object`\n",
    "- 输出\n",
    "    - 返回字典对象\n",
    "    \n",
    "指定对象会返回对象的属性和属性值，等价于`obj.__dict__`，如果不指定对象，等价于`locals()`"
   ]
  },
  {
   "cell_type": "code",
   "execution_count": null,
   "metadata": {},
   "outputs": [],
   "source": [
    "# 检查对象属性\n",
    "class Position:\n",
    "    def __init__(self, x=0, y=0, z=0):\n",
    "        self.x = x\n",
    "        self.y = y\n",
    "        self.z = z\n",
    "        self.__dtype = 'pos'\n",
    "        \n",
    "p0 = Position()\n",
    "print(vars(p0))\n",
    "p1 = Position(3, 2, 1)\n",
    "print(vars(p1))\n"
   ]
  },
  {
   "cell_type": "markdown",
   "metadata": {
    "slideshow": {
     "slide_type": "slide"
    }
   },
   "source": [
    "##  数学运算\n",
    "\n",
    "- `abs(x)`：计算绝对值\n",
    "- `divmod(x, y)`：计算地板除与求余\n",
    "- `pow(x, y)`：求幂\n",
    "- `round(number)`：四舍五入"
   ]
  },
  {
   "cell_type": "markdown",
   "metadata": {},
   "source": [
    "### `abs(x)` \n",
    "\n",
    "`abs(x)`函数用于计算绝对值:\n",
    "```python\n",
    "abs(x)\n",
    "```\n",
    "- 输入\n",
    "    - 一个数字  \n",
    "- 输出\n",
    "    - 返回绝对值"
   ]
  },
  {
   "cell_type": "code",
   "execution_count": null,
   "metadata": {},
   "outputs": [],
   "source": [
    "# for int\n",
    "abs(-2014)"
   ]
  },
  {
   "cell_type": "code",
   "execution_count": null,
   "metadata": {},
   "outputs": [],
   "source": [
    "# for float\n",
    "abs(-3.1415926)"
   ]
  },
  {
   "cell_type": "code",
   "execution_count": null,
   "metadata": {},
   "outputs": [],
   "source": [
    "# for complex\n",
    "abs(3.0+4.0j)"
   ]
  },
  {
   "cell_type": "code",
   "execution_count": null,
   "metadata": {},
   "outputs": [],
   "source": [
    "# for str\n",
    "abs('xxx')"
   ]
  },
  {
   "cell_type": "markdown",
   "metadata": {},
   "source": [
    "### `divmod(x, y)`\n",
    "\n",
    "返回商和余数(`x//y, x%y`)：\n",
    "```python\n",
    "divmod(x, y)\n",
    "```\n",
    "- 输入\n",
    "    - 两个数字  \n",
    "- 输出\n",
    "    - 返回元组对象，地板除结果和余数"
   ]
  },
  {
   "cell_type": "code",
   "execution_count": null,
   "metadata": {},
   "outputs": [],
   "source": [
    "# for int\n",
    "divmod(11, 2)"
   ]
  },
  {
   "cell_type": "code",
   "execution_count": null,
   "metadata": {},
   "outputs": [],
   "source": [
    "# for float\n",
    "divmod(11.0, -2.5)"
   ]
  },
  {
   "cell_type": "code",
   "execution_count": null,
   "metadata": {},
   "outputs": [],
   "source": [
    "# for complex\n",
    "divmod(3.0+4.0j, 1+0.5j)"
   ]
  },
  {
   "cell_type": "markdown",
   "metadata": {},
   "source": [
    "### `pow(x, y)`\n",
    "\n",
    "进行求幂，返回$x^y$:\n",
    "```python\n",
    "pow(x, y, z=None)\n",
    "```\n",
    "- 输入\n",
    "    - 位置参数，`x`与`y`；\n",
    "    - 关键字参数，如果`z`存在则，再对结果进行取模，其结果等效于`pow(x,y) %z`\n",
    "- 输出\n",
    "    - 返回数字"
   ]
  },
  {
   "cell_type": "code",
   "execution_count": null,
   "metadata": {},
   "outputs": [],
   "source": [
    "print(pow(100, 2), pow(2, 5), pow(2.5, 4))\n",
    "\n",
    "print(pow(100, 2, 300), pow(2, 5, 19))"
   ]
  },
  {
   "cell_type": "code",
   "execution_count": null,
   "metadata": {},
   "outputs": [],
   "source": [
    "# 第3个参数，仅适用于整数运算\n",
    "print(pow(2.5, 4, 19))"
   ]
  },
  {
   "cell_type": "markdown",
   "metadata": {},
   "source": [
    "### `round(number)`\n",
    "\n",
    "返回浮点数的四舍五入值：：\n",
    "```python\n",
    "round(number[, ndigits])\n",
    "```\n",
    "- 输入\n",
    "    - 数字\n",
    "    - 保留小数点位数\n",
    "- 输出\n",
    "    - 数字"
   ]
  },
  {
   "cell_type": "code",
   "execution_count": null,
   "metadata": {},
   "outputs": [],
   "source": [
    "print(round(70.23456), round(100.012345), round(-100.012345))\n",
    "print(round(70.23456, 2), round(100.012345, 2), round(-100.012345, 2))\n",
    "print(round(70.23456, 5), round(100.012345, 5), round(-100.012345, 5))"
   ]
  },
  {
   "cell_type": "markdown",
   "metadata": {
    "slideshow": {
     "slide_type": "slide"
    }
   },
   "source": [
    "## 整数进制转换\n",
    "\n",
    "- `bin(number)`：返回整数的二进制形式字符串\n",
    "- `oct(number)`：返回整数的八进制形式字符串\n",
    "- `hex(number)`：返回整数十六进制形式字符串"
   ]
  },
  {
   "cell_type": "markdown",
   "metadata": {},
   "source": [
    "### `bin(number)`\n",
    "\n",
    "返回整数的二进制形式字符串：\n",
    "```python\n",
    "bin(number)\n",
    "```\n",
    "```\n",
    "- 输入\n",
    "    - 整数\n",
    "- 输出\n",
    "    - 字符串"
   ]
  },
  {
   "cell_type": "code",
   "execution_count": null,
   "metadata": {},
   "outputs": [],
   "source": [
    "print(bin(2796202), bin(255))"
   ]
  },
  {
   "cell_type": "code",
   "execution_count": null,
   "metadata": {},
   "outputs": [],
   "source": [
    "bin(3.1)"
   ]
  },
  {
   "cell_type": "markdown",
   "metadata": {},
   "source": [
    "### `oct(number)`\n",
    "\n",
    "返回整数的八进制形式字符串：\n",
    "```python\n",
    "oct(number)\n",
    "```\n",
    "- 输入\n",
    "    - 整数\n",
    "- 输出\n",
    "    - 八进制形式字符串"
   ]
  },
  {
   "cell_type": "code",
   "execution_count": null,
   "metadata": {},
   "outputs": [],
   "source": [
    "print(oct(2796202), oct(255))"
   ]
  },
  {
   "cell_type": "markdown",
   "metadata": {},
   "source": [
    "### `hex(number)`\n",
    "\n",
    "返回整数的十六进制形式字符串：\n",
    "```python\n",
    "hex(number)\n",
    "```\n",
    "- 输入\n",
    "    - 整数\n",
    "- 输出\n",
    "    - 十六进制形式字符串"
   ]
  },
  {
   "cell_type": "code",
   "execution_count": null,
   "metadata": {},
   "outputs": [],
   "source": [
    "print(hex(2796202), hex(255))"
   ]
  },
  {
   "cell_type": "markdown",
   "metadata": {
    "slideshow": {
     "slide_type": "slide"
    }
   },
   "source": [
    "## 字符转换与字符串显示\n",
    "\n",
    "- `chr(i)`：返回整数对应的字符\n",
    "- `ord(c)`：返回字符对应的编码整数\n",
    "- `ascii`：返回整数对应的字符\n",
    "- `format`：返回整数对应的字符\n",
    "- `repr(obj)`：返回对象的字符串表达式方式"
   ]
  },
  {
   "cell_type": "markdown",
   "metadata": {},
   "source": [
    "###  `chr(i)`\n",
    "\n",
    "返回编码整数对应的字符\n",
    "```python\n",
    "chr(i)\n",
    "```\n",
    "- 输入\n",
    "    - 输入整数  \n",
    "- 输出\n",
    "    - 返回整数对应编码的字符"
   ]
  },
  {
   "cell_type": "code",
   "execution_count": null,
   "metadata": {},
   "outputs": [],
   "source": [
    "for i in range(256):\n",
    "    print(i, bin(i), chr(i))"
   ]
  },
  {
   "cell_type": "code",
   "execution_count": null,
   "metadata": {},
   "outputs": [],
   "source": [
    "# 支持unicode编码\n",
    "chr(20013)"
   ]
  },
  {
   "cell_type": "markdown",
   "metadata": {},
   "source": [
    "### `ord(c)`\n",
    "\n",
    "返回字符对应的编码整数\n",
    "```python\n",
    "ord(c)\n",
    "```\n",
    "- 输入\n",
    "    - 输入字符  \n",
    "- 输出\n",
    "    - 返回对应编码的整数"
   ]
  },
  {
   "cell_type": "code",
   "execution_count": null,
   "metadata": {},
   "outputs": [],
   "source": [
    "for c in 'abcdefghijklmnopqrstuvwxyz':\n",
    "    print('{}-{}'.format(c, ord(c)))"
   ]
  },
  {
   "cell_type": "code",
   "execution_count": null,
   "metadata": {},
   "outputs": [],
   "source": [
    "# 支持unicode编码\n",
    "ord('中')"
   ]
  },
  {
   "cell_type": "markdown",
   "metadata": {},
   "source": [
    "### `ascii()`\n",
    "\n",
    "返回对象的 ASCII 字符串表示：\n",
    "```python\n",
    "ascii(obj)\n",
    "```\n",
    "- 输入\n",
    "    - `object`，对象  \n",
    "- 输出\n",
    "    - 字符串"
   ]
  },
  {
   "cell_type": "code",
   "execution_count": null,
   "metadata": {},
   "outputs": [],
   "source": [
    "ascii(9000000)"
   ]
  },
  {
   "cell_type": "code",
   "execution_count": null,
   "metadata": {},
   "outputs": [],
   "source": [
    "# 非ascii字符\n",
    "print(ascii('Pythön is interesting'))\n",
    "print(ascii('中文'))"
   ]
  },
  {
   "cell_type": "markdown",
   "metadata": {},
   "source": [
    "### `format()`\n",
    "\n",
    "格式化显示值：\n",
    "```python\n",
    "format(value, format_spec='')\n",
    "```\n",
    "- 输入\n",
    "    - `value`，数值或字符串  \n",
    "    - `format_spec`，对象  \n",
    "- 输出\n",
    "    - 字符串"
   ]
  },
  {
   "cell_type": "code",
   "execution_count": 2,
   "metadata": {},
   "outputs": [
    {
     "name": "stdout",
     "output_type": "stream",
     "text": [
      "11111111 377 ff FF\n",
      "3.131400e+00 3.131400 3.13140000\n",
      "*+1,234\n"
     ]
    }
   ],
   "source": [
    "print(format(255, 'b'), format(255, 'o'), format(255, 'x'), format(255, 'X'))\n",
    "\n",
    "print(format(3.1314, 'e'), format(3.1314,'f'), format(3.1314, '0.8f'))\n",
    "\n"
   ]
  },
  {
   "cell_type": "code",
   "execution_count": null,
   "metadata": {},
   "outputs": [],
   "source": [
    "help(format)"
   ]
  },
  {
   "cell_type": "markdown",
   "metadata": {},
   "source": [
    "### `repr()`\n",
    "\n",
    "返回对象的字符串表达式方式：\n",
    "```python\n",
    "repr(obj)\n",
    "```\n",
    "- 输入\n",
    "    - `object`，对象  \n",
    "- 输出\n",
    "    - 字符串\n",
    "    \n",
    "`repr()`与`str()`都返回对象的字符串表达方式，前者面向开发者，内容会更多。"
   ]
  },
  {
   "cell_type": "code",
   "execution_count": null,
   "metadata": {},
   "outputs": [],
   "source": [
    "res = repr(frozenset([1,2,3]))\n",
    "print(type(res), res)"
   ]
  },
  {
   "cell_type": "markdown",
   "metadata": {
    "slideshow": {
     "slide_type": "slide"
    }
   },
   "source": [
    "## 逻辑判断\n",
    "\n",
    "- `all(iterable)`，检查可迭代对象中所有元素是否全部为真\n",
    "- `any(iterable)`，检查可迭代对象中任一元素是符真"
   ]
  },
  {
   "cell_type": "markdown",
   "metadata": {},
   "source": [
    "### `all()`\n",
    "\n",
    "检查可迭代对象中所有元素是否全部为真：\n",
    "```python\n",
    "all(iterable)\n",
    "```\n",
    "- 输入\n",
    "    - 可迭代对象\n",
    "- 输出\n",
    "    - 返回布尔数"
   ]
  },
  {
   "cell_type": "code",
   "execution_count": null,
   "metadata": {},
   "outputs": [],
   "source": [
    "print(all([True, True, True, True]))\n",
    "print(all([True, True, True, False]))"
   ]
  },
  {
   "cell_type": "markdown",
   "metadata": {},
   "source": [
    "### `any()`\n",
    "\n",
    "检查可迭代对象中任一元素是否为真：\n",
    "```python\n",
    "any(iterable)\n",
    "```\n",
    "- 输入\n",
    "    - 可迭代对象\n",
    "- 输出\n",
    "    - 返回布尔数"
   ]
  },
  {
   "cell_type": "code",
   "execution_count": null,
   "metadata": {},
   "outputs": [],
   "source": [
    "print(any([True, True, True, False]))\n",
    "print(any([False, False, False, False]))"
   ]
  },
  {
   "cell_type": "markdown",
   "metadata": {
    "slideshow": {
     "slide_type": "slide"
    }
   },
   "source": [
    "## 迭代运算\n",
    "\n",
    "- `len(obj)`：返回对象长度\n",
    "- `max()`，返回可迭代对象最大值或给定参数最大值\n",
    "- `min()`，返回可迭代对象最小的元素\n",
    "- `sum(iterable, start=0)`，对可迭代对象元素求和\n",
    "- `sorted(iterable, key=None, reverse=False)`，对一个可迭代对象进行排序操作"
   ]
  },
  {
   "cell_type": "markdown",
   "metadata": {},
   "source": [
    "### `len(obj)`\n",
    "\n",
    "返回对象长度或元素个数：\n",
    "```python\n",
    "len(obj)\n",
    "```\n",
    "- 输入\n",
    "    - 对象，该对象具有魔术方法`__len__()`实现\n",
    "- 输出\n",
    "    - 返回整数"
   ]
  },
  {
   "cell_type": "code",
   "execution_count": null,
   "metadata": {
    "slideshow": {
     "slide_type": "-"
    }
   },
   "outputs": [],
   "source": [
    "print(len([1]), len((1, 2, 3)), len({}))"
   ]
  },
  {
   "cell_type": "markdown",
   "metadata": {},
   "source": [
    "### `max()`\n",
    "\n",
    "返回可迭代对象最大值或给定参数最大值\n",
    "```python\n",
    "    max(iterable, *[, default=obj, key=func]) -> value\n",
    "    max(arg1, arg2, *args, *[, key=func]) -> value\n",
    "```\n",
    "- 输入\n",
    "    - 可迭代对象\n",
    "    - 多个参数\n",
    "    - `key`指定比较函数\n",
    "- 输出\n",
    "    - 返回最大值"
   ]
  },
  {
   "cell_type": "code",
   "execution_count": null,
   "metadata": {},
   "outputs": [],
   "source": [
    "print(max([1.0, 3.0, 2.0]))\n",
    "print(max(1.0, 3.0, 4.0, 6.0))"
   ]
  },
  {
   "cell_type": "markdown",
   "metadata": {},
   "source": [
    "### `min()`\n",
    "\n",
    "返回可迭代对象最小值或给定参数最小值\n",
    "```python\n",
    "    min(iterable, *[, default=obj, key=func]) -> value\n",
    "    min(arg1, arg2, *args, *[, key=func]) -> value\n",
    "```\n",
    "- 输入\n",
    "    - 可迭代对象\n",
    "    - 多个参数\n",
    "    - `key`指定比较函数\n",
    "- 输出\n",
    "    - 返回最小值"
   ]
  },
  {
   "cell_type": "code",
   "execution_count": null,
   "metadata": {},
   "outputs": [],
   "source": [
    "print(min([1.0, 3.0, 2.0]))\n",
    "print(min(1.0, 3.0, 4.0, 6.0))"
   ]
  },
  {
   "cell_type": "markdown",
   "metadata": {},
   "source": [
    "### `sum()`\n",
    "\n",
    "返回可迭代对象元素之和：\n",
    "```python\n",
    "sum(iterable, start=0)\n",
    "```\n",
    "- 输入\n",
    "    - 可迭代对象\n",
    "    - `start=0`，指定相加的参数\n",
    "- 输出\n",
    "    - 返回元素之和"
   ]
  },
  {
   "cell_type": "code",
   "execution_count": null,
   "metadata": {},
   "outputs": [],
   "source": [
    "print(sum([1.0, 3.0, 2.0]))\n",
    "print(sum([1.0, 3.0, 2.0], 1))\n",
    "\n",
    "print(sum(range(5)))\n",
    "print(sum(range(5), 1))"
   ]
  },
  {
   "cell_type": "markdown",
   "metadata": {},
   "source": [
    "### `sorted()`\n",
    "\n",
    "对一个可迭代对象进行排序操作：\n",
    "```\n",
    "sorted(iterable, key=None, reverse=False)  \n",
    "```\n",
    "- 输入\n",
    "    - `iterable`: 可迭代对象;\n",
    "    - 不定参数 比较函数，具有两个参数，函数满足条件大于返回1，小于返回-1，等于则返回0。\n",
    "    - `key`，排序的关键字，必须是一个可调用的对象，只包括一个参数。\n",
    "    - `reverse=True`，排序方向，缺省为升序。\n",
    "- 输出\n",
    "    - 返回重新排序的列表"
   ]
  },
  {
   "cell_type": "code",
   "execution_count": null,
   "metadata": {},
   "outputs": [],
   "source": [
    "res = sorted(['python', 'Python3', 'Cplus', 'c'])\n",
    "print(type(res), res)"
   ]
  },
  {
   "cell_type": "code",
   "execution_count": null,
   "metadata": {},
   "outputs": [],
   "source": [
    "# 倒序排列\n",
    "sorted(['python', 'Python3', 'Cplus', 'c'], key=str.upper, reverse=True)"
   ]
  },
  {
   "cell_type": "code",
   "execution_count": null,
   "metadata": {},
   "outputs": [],
   "source": [
    "sorted([('Python', 80), ('C++', 59), ('C', 70)], key=lambda x: x[1])"
   ]
  },
  {
   "cell_type": "markdown",
   "metadata": {
    "slideshow": {
     "slide_type": "slide"
    }
   },
   "source": [
    "## 可迭代对象\n",
    "\n",
    "- `range()`，返回一个`range`对象\n",
    "- `enumerate(iterable[, start])`，把可迭代对象组合成带索引的可迭代对象\n",
    "- `reversed(sequence)`,对序列的元素进行反向排序\n",
    "- `zip(iter1 [,iter2 [...]])`, 组合多个可迭代对象的，返回`zip`对象\n",
    "- `iter(iterable)`，创建迭代器\n",
    "- `next(iterator[, default])` ，返回迭代器下一个元素"
   ]
  },
  {
   "cell_type": "markdown",
   "metadata": {},
   "source": [
    "### `range()`\n",
    "\n",
    "实际上`range`是一个类，可以把`range()`看做是类似生成器的函数，返回一个`range`对象：\n",
    "```\n",
    "range(stop) -> range object\n",
    "range(start, stop[, step]) -> range object\n",
    "```\n",
    "- 输入\n",
    "    - `start`: 计数从 `start` 开始。默认是从 0 开始;\n",
    "    - `stop`: 计数到 `stop` 结束，但不包括 `stop`;\n",
    "    - `step`：步长，默认为1。\n",
    "- 输出\n",
    "    - 返回`range`对象"
   ]
  },
  {
   "cell_type": "code",
   "execution_count": null,
   "metadata": {},
   "outputs": [],
   "source": [
    "xs = range(3)\n",
    "ys = range(1, 300, 100)\n",
    "print(type(xs), type(ys))"
   ]
  },
  {
   "cell_type": "code",
   "execution_count": null,
   "metadata": {},
   "outputs": [],
   "source": [
    "for i in range(3):\n",
    "    print(i, end=' ')"
   ]
  },
  {
   "cell_type": "markdown",
   "metadata": {},
   "source": [
    "### `enumerate()`\n",
    "\n",
    "把一个可迭代对象组合成带索引的可迭代对象，返回一个`enumerate`对象：\n",
    "```\n",
    "enumerate(iterable[, start])\n",
    "```\n",
    "- 输入\n",
    "    - `iterable`: 可迭代对象;\n",
    "    - `start`: 索引起始，缺省为0。\n",
    "- 输出\n",
    "    - 返回`enumerate`对象"
   ]
  },
  {
   "cell_type": "code",
   "execution_count": null,
   "metadata": {},
   "outputs": [],
   "source": [
    "alist = ['Python', 'C', 'C++']\n",
    "res = enumerate(alist, 1)\n",
    "print(type(res), res)"
   ]
  },
  {
   "cell_type": "code",
   "execution_count": null,
   "metadata": {},
   "outputs": [],
   "source": [
    "for i, item in enumerate(alist, 1):\n",
    "    print(i, item)"
   ]
  },
  {
   "cell_type": "markdown",
   "metadata": {},
   "source": [
    "### `reversed()`\n",
    "\n",
    "对序列的元素进行反向排序，返回一个逆序对象：\n",
    "```\n",
    "reversed(sequence)\n",
    "```\n",
    "- 输入\n",
    "    - `sequence`: 序列。\n",
    "- 输出\n",
    "    - 返回`enumerate`对象"
   ]
  },
  {
   "cell_type": "code",
   "execution_count": null,
   "metadata": {},
   "outputs": [],
   "source": [
    "alist = ['Python', 'C', 'C++']\n",
    "res = reversed(alist)\n",
    "print(type(res), res)"
   ]
  },
  {
   "cell_type": "code",
   "execution_count": null,
   "metadata": {},
   "outputs": [],
   "source": [
    "for item in reversed(alist):\n",
    "    print(item)"
   ]
  },
  {
   "cell_type": "markdown",
   "metadata": {},
   "source": [
    "### `zip()`\n",
    "\n",
    "将多个可迭代对象的元素组合成元组，返回`zip``对象：\n",
    "```\n",
    "zip(iter1 [,iter2 [...]]) --> zip object\n",
    "```\n",
    "- 输入\n",
    "    - 多个可迭代对象\n",
    "- 输出\n",
    "    - 返回`zip`对象，可迭代"
   ]
  },
  {
   "cell_type": "code",
   "execution_count": null,
   "metadata": {},
   "outputs": [],
   "source": [
    "langs = ['Python', 'C', 'C++']\n",
    "authors = 'Guido van Rossum', 'Dennis Ritchie', 'Bjarne Stroustrup'\n",
    "grades = range(3)\n",
    "\n",
    "res = zip(langs, authors, grades)\n",
    "print(type(res), res)\n",
    "for x in res:\n",
    "    print(x)"
   ]
  },
  {
   "cell_type": "markdown",
   "metadata": {},
   "source": [
    "### `iter()`\n",
    "\n",
    "生成迭代器：\n",
    "```python\n",
    "iter(iterable)\n",
    "```\n",
    "- 输入\n",
    "    - `iterable`: 可迭代对象;\n",
    "- 输出\n",
    "    - 返回迭代器对象\n",
    "    \n",
    "    \n",
    "生成迭代器：\n",
    "```\n",
    "iter(callable, sentinel)\n",
    "```\n",
    "- 输入\n",
    "    - `callable`: 可调用对象;\n",
    "    - `sentinel`: 索引起始，缺省为0。\n",
    "- 输出\n",
    "    - 返回`enumerate`对象    "
   ]
  },
  {
   "cell_type": "code",
   "execution_count": null,
   "metadata": {},
   "outputs": [],
   "source": [
    "xlist = ['python', 'Python3', 'Cplus', 'c']\n",
    "print(hasattr(xlist, '__next__'))\n",
    "iterator = iter(xlist)\n",
    "print(type(iterator), hasattr(iterator, '__next__'))"
   ]
  },
  {
   "cell_type": "code",
   "execution_count": null,
   "metadata": {},
   "outputs": [],
   "source": [
    "# 可以调用`next()`\n",
    "print(next(iterator))\n",
    "print(next(iterator))\n",
    "print(next(iterator))\n",
    "print(next(iterator))\n",
    "print(next(iterator))"
   ]
  },
  {
   "cell_type": "markdown",
   "metadata": {},
   "source": [
    "### `next()`\n",
    "\n",
    "返回迭代器的下一个元素：\n",
    "```\n",
    "next(iterator[, default])\n",
    "```\n",
    "- 输入\n",
    "    - `iterable`: 可迭代对象;\n",
    "    - `default`(可选)，迭代器没有元素时会抛出`StopIteration`异常。设置该参数，则没有元素时返回该值，避免异常。\n",
    "- 输出\n",
    "    - 返回`enumerate`对象"
   ]
  },
  {
   "cell_type": "code",
   "execution_count": 1,
   "metadata": {},
   "outputs": [
    {
     "name": "stdout",
     "output_type": "stream",
     "text": [
      "python\n",
      "Python3\n",
      "Cplus\n",
      "c\n",
      "default\n",
      "default\n"
     ]
    }
   ],
   "source": [
    "xlist = ['python', 'Python3', 'Cplus', 'c']\n",
    "iterator = iter(xlist)\n",
    "for i in range(6):\n",
    "    print(next(iterator, 'default'))"
   ]
  },
  {
   "cell_type": "markdown",
   "metadata": {},
   "source": [
    "## 函数式函数\n",
    "\n",
    "- `map(func, *iterables)`：可迭代对象做函数映射\n",
    "- `filter(function or None, iterable)`：对可迭代对象做过滤"
   ]
  },
  {
   "cell_type": "markdown",
   "metadata": {},
   "source": [
    "### `map()`\n",
    "\n",
    "对可迭代对象每个元素调用传入函数，返回可迭代的`map`对象：\n",
    "```\n",
    "map(func, *iterables) --> map object\n",
    "```\n",
    "- 输入\n",
    "    - 函数\n",
    "    - 多个可迭代对象\n",
    "- 输出\n",
    "    - 返回`map`对象，可迭代"
   ]
  },
  {
   "cell_type": "code",
   "execution_count": null,
   "metadata": {},
   "outputs": [],
   "source": [
    "help(filter)"
   ]
  },
  {
   "cell_type": "code",
   "execution_count": null,
   "metadata": {},
   "outputs": [],
   "source": [
    "xlist = ['Python', 'C', 'C++']\n",
    "for x in map(str.lower, xlist):\n",
    "    print(x)"
   ]
  },
  {
   "cell_type": "code",
   "execution_count": null,
   "metadata": {
    "slideshow": {
     "slide_type": "-"
    }
   },
   "outputs": [],
   "source": [
    "xtuple = 'English', 'chinese'\n",
    "for x in map(lambda x, y: x + '-' + y, xlist, xtuple):\n",
    "    print(x)"
   ]
  },
  {
   "cell_type": "markdown",
   "metadata": {},
   "source": [
    "### `filter()`\n",
    "\n",
    "对可迭代对象的元素应用函数，对返回结果进行过滤，过滤结果组成可迭代的`filter`对象：\n",
    "```\n",
    "filter(function or None, iterable) --> filter object\n",
    "```\n",
    "- 输入\n",
    "    - 函数\n",
    "    - 可迭代对象\n",
    "- 输出\n",
    "    - 返回`filter`对象"
   ]
  },
  {
   "cell_type": "code",
   "execution_count": null,
   "metadata": {},
   "outputs": [],
   "source": [
    "res  = filter(lambda x: x.endswith('.py'), ['helloworld.py', 'filter.py', 'helloworld.cpp'])\n",
    "print(type(res), res)\n",
    "for x in res:\n",
    "    print(x)"
   ]
  },
  {
   "cell_type": "markdown",
   "metadata": {
    "slideshow": {
     "slide_type": "slide"
    }
   },
   "source": [
    "## 数据类型\n",
    "\n",
    "Python 内置函数`int()`、`float()`实际上把类实例化，创建相应的对象，不过习惯上仍然把它们称作内置函数。下面列出一些数据类型和结构类型：\n",
    "- `bool()`：创建布尔数对象\n",
    "- `int()`：创建整数对象\n",
    "- `float()`：创建浮点数对象\n",
    "- `complex()`：创建复数对象\n",
    "- `str()`：创建字符串对象\n",
    "- `list()`：创建列表对象\n",
    "- `tuple()`：创建元组对象\n",
    "- `dict()`：创建字典对象\n",
    "- `set()`：创建集合对象\n",
    "- `bytearray()`：byte数组\n",
    "- `bytes()`：\n",
    "- `frozenset`：固定集合\n",
    "- `object()`：基类"
   ]
  },
  {
   "cell_type": "markdown",
   "metadata": {},
   "source": [
    " ### `bool()`\n",
    "\n",
    "测试对象或表达式真假，返回布尔数对象：\n",
    "```python\n",
    "bool(x) -> bool\n",
    "```\n",
    "- 输入\n",
    "    - `x`，对象。\n",
    "- 输出\n",
    "    - 返回布尔数对象"
   ]
  },
  {
   "cell_type": "code",
   "execution_count": null,
   "metadata": {},
   "outputs": [],
   "source": [
    "print(bool(), bool(0), bool(0.0), bool(0j), bool(''), bool([]), bool({}), bool(set()))"
   ]
  },
  {
   "cell_type": "code",
   "execution_count": null,
   "metadata": {},
   "outputs": [],
   "source": [
    "print(bool(True), bool(2), bool(2.), bool(2j), bool('2'), bool([2]), bool({'x': 2}), bool((2,)))"
   ]
  },
  {
   "cell_type": "markdown",
   "metadata": {},
   "source": [
    "### `int()`\n",
    "\n",
    "创建整数对象：\n",
    "```python\n",
    "int(x=0) -> integer\n",
    "int(x, base=10) -> integer\n",
    "```\n",
    "- 输入\n",
    "    - `x`，字符串或数字，缺省是0。\n",
    "    - `base`，进制数，默认十进制。\n",
    "- 输出\n",
    "    - 返回整数对象"
   ]
  },
  {
   "cell_type": "code",
   "execution_count": null,
   "metadata": {
    "slideshow": {
     "slide_type": "-"
    }
   },
   "outputs": [],
   "source": [
    "print(int(), int(9), int(9.3), int('9'))\n",
    "print(int('0b11111111', 2), int('10',8), int('FF', 16), int('0xa', 16))  "
   ]
  },
  {
   "cell_type": "code",
   "execution_count": null,
   "metadata": {},
   "outputs": [],
   "source": [
    "# ValueError异常\n",
    "print(int('9.6'), int('xa'))"
   ]
  },
  {
   "cell_type": "markdown",
   "metadata": {},
   "source": [
    "### `float()`\n",
    "\n",
    "创建浮点数对象：\n",
    "```python\n",
    "float(x) -> floating point number\n",
    "```\n",
    "- 输入\n",
    "    - `x`，字符串或数字，缺省是0。\n",
    "- 输出\n",
    "    - 返回浮点数对象"
   ]
  },
  {
   "cell_type": "code",
   "execution_count": null,
   "metadata": {},
   "outputs": [],
   "source": [
    "print(float(), float(9), float(9.3), float('9.6'))"
   ]
  },
  {
   "cell_type": "code",
   "execution_count": null,
   "metadata": {},
   "outputs": [],
   "source": [
    "# ValueError\n",
    "print(float('9.6 deg'))"
   ]
  },
  {
   "cell_type": "markdown",
   "metadata": {},
   "source": [
    "### `complex()`\n",
    "\n",
    "创建复数对象：\n",
    "```python\n",
    "complex(real[, imag]) -> complex number\n",
    "```\n",
    "- 输入\n",
    "    - `real`，实部。\n",
    "    - `imag`，虚部，缺省是0。\n",
    "- 输出\n",
    "    - 返回复数对象"
   ]
  },
  {
   "cell_type": "code",
   "execution_count": null,
   "metadata": {},
   "outputs": [],
   "source": [
    "print(complex(2), complex(2, 1))\n",
    "print(complex('2'), complex('2+1j'))"
   ]
  },
  {
   "cell_type": "code",
   "execution_count": null,
   "metadata": {},
   "outputs": [],
   "source": [
    "# ValueError异常\n",
    "print(complex('2 + 1j'))"
   ]
  },
  {
   "cell_type": "markdown",
   "metadata": {},
   "source": [
    "### `str()`\n",
    "\n",
    "返回对象的字符串，或者转换字节为字符串：\n",
    "```python\n",
    "str(object='') -> str\n",
    "str(bytes_or_buffer[, encoding[, errors]]) -> str\n",
    "```\n",
    "- 输入\n",
    "    - `object`，对象，缺省是空字符。\n",
    "    - `bytes_or_buffer`，字节流；\n",
    "    - `encoding`，指定编码方式；\n",
    "    - `errors='strict'`, 表示读取二进制的错误级别\n",
    "- 输出\n",
    "    - 返回字符串对象"
   ]
  },
  {
   "cell_type": "code",
   "execution_count": null,
   "metadata": {},
   "outputs": [],
   "source": [
    "print(str(3.1314), str(1 + 2.0j), str(list()), str(tuple()), str(dict()))"
   ]
  },
  {
   "cell_type": "code",
   "execution_count": null,
   "metadata": {},
   "outputs": [],
   "source": [
    "str(b'\\xe4\\xb8\\xad\\xe6\\x96\\x87', encoding='utf-8')"
   ]
  },
  {
   "cell_type": "markdown",
   "metadata": {},
   "source": [
    "### `list()`\n",
    "\n",
    "创建列表对象：\n",
    "```python\n",
    "list()\n",
    "list(iterable)\n",
    "```\n",
    "- 输入\n",
    "    - 无参数\n",
    "    - `iterable`，可迭代对象\n",
    "- 输出\n",
    "    - 返回列表对象"
   ]
  },
  {
   "cell_type": "code",
   "execution_count": null,
   "metadata": {},
   "outputs": [],
   "source": [
    "print(list(), list('abc'), list(range(3)))"
   ]
  },
  {
   "cell_type": "markdown",
   "metadata": {},
   "source": [
    "### `tuple()`\n",
    "\n",
    "创建元组对象：\n",
    "```python\n",
    "tuple() -> empty tuple\n",
    "tuple(iterable)\n",
    "```\n",
    "- 输入\n",
    "    - 无参数\n",
    "    - `iterable`，可迭代对象\n",
    "- 输出\n",
    "    - 返回元组对象"
   ]
  },
  {
   "cell_type": "code",
   "execution_count": null,
   "metadata": {},
   "outputs": [],
   "source": [
    "print(tuple(), tuple('abc'), tuple([1,2,3]), tuple(range(3)))"
   ]
  },
  {
   "cell_type": "markdown",
   "metadata": {},
   "source": [
    "### `dict()`\n",
    "\n",
    "创建对象：\n",
    "```python\n",
    "dict() -> 空字典\n",
    "dict(mapping)\n",
    "dict(iterable)\n",
    "dict(**kwargs)\n",
    "```\n",
    "- 输入\n",
    "    - 无参数\n",
    "    - `mapping`，映射对象\n",
    "    - `iterable`，可迭代对象\n",
    "    - `kwargs`，不定关键字参数\n",
    "- 输出\n",
    "    - 返回字典对象"
   ]
  },
  {
   "cell_type": "code",
   "execution_count": null,
   "metadata": {},
   "outputs": [],
   "source": [
    "# 空字典\n",
    "print(dict())\n",
    "# 映射\n",
    "print(dict(zip(range(3), ['one', 'two', 'three'])))\n",
    "# 可迭代对象\n",
    "print(dict([(1, '北'), (2, '上'), (3, '广')]))\n",
    "print(dict(one=1, two=2))"
   ]
  },
  {
   "cell_type": "markdown",
   "metadata": {},
   "source": [
    "### `set()`\n",
    "\n",
    "创建集合对象：\n",
    "```python\n",
    "set() -> new empty set object\n",
    "set(iterable)\n",
    "```\n",
    "- 输入\n",
    "    - 无参数返回空集合\n",
    "    - `iterable`，可迭代对象。\n",
    "- 输出\n",
    "    - 返回集合对象"
   ]
  },
  {
   "cell_type": "code",
   "execution_count": null,
   "metadata": {},
   "outputs": [],
   "source": [
    "print(set(), set('abccb'), set(['x', 2, 3]), set(range(3)))"
   ]
  },
  {
   "cell_type": "markdown",
   "metadata": {},
   "source": [
    "### `bytearray()`\n",
    "\n",
    "根据输入参数创建一个字节数组对象：\n",
    "```python\n",
    "bytearray()\n",
    "bytearray(iterable_of_ints)\n",
    "bytearray(string, encoding[, errors])\n",
    "bytearray(bytes_or_buffer)\n",
    "bytearray(int)\n",
    "```\n",
    "\n",
    "- 无参数情况下返回空字节数组对象\n",
    "- 输入整数可迭代对象，则返回字节数组对象\n",
    "- 输入字符串，对字符串进行解码，返回字节数组对象\n",
    "- 输入字节或缓存，则返回字节数组对象\n",
    "- 输如整数`n`，则返回`n`个`NUL`字符组成的字节数组对象"
   ]
  },
  {
   "cell_type": "code",
   "execution_count": null,
   "metadata": {},
   "outputs": [],
   "source": [
    "b1 = bytearray()\n",
    "b2 = bytearray([1, 2, 3])\n",
    "b3 = bytearray('中文', 'utf-8')\n",
    "b4 = bytearray(b'\\xe4\\xb8\\xad\\xe6\\x96\\x87')\n",
    "b5 = bytearray(5)\n",
    "print(type(b1), type(b2), type(b3), type(b4), type(b5))\n",
    "print(b1, b2, b3, b4, b5)"
   ]
  },
  {
   "cell_type": "markdown",
   "metadata": {},
   "source": [
    "### `bytes()`\n",
    "\n",
    "根据输入参数创建一个不可变字节数组对象：\n",
    "```python\n",
    "bytes()\n",
    "bytes(iterable_of_ints)\n",
    "bytes(string, encoding[, errors])\n",
    "bytes(bytes_or_buffer)\n",
    "bytes(int)\n",
    "```\n",
    "\n",
    "- 无参数情况下返回空的不可变字节数组对象\n",
    "- 输入整数可迭代对象，则返回不可变字节数组对象\n",
    "- 输入字符串，对字符串进行解码，返回不可变字节数组对象\n",
    "- 输入字节或缓存，则返回不可变字节数组对象\n",
    "- 输如整数`n`，则返回`n`个`NUL`字符组成的不可变字节数组对象"
   ]
  },
  {
   "cell_type": "code",
   "execution_count": null,
   "metadata": {},
   "outputs": [],
   "source": [
    "b1 = bytes()\n",
    "b2 = bytes([1, 2, 3])\n",
    "b3 = bytes('中文', 'utf-8')\n",
    "b4 = bytes(b'\\xe4\\xb8\\xad\\xe6\\x96\\x87')\n",
    "b5 = bytes(5)\n",
    "print(type(b1), type(b2), type(b3), type(b4), type(b5))\n",
    "print(b1, b2, b3, b4, b5)"
   ]
  },
  {
   "cell_type": "markdown",
   "metadata": {},
   "source": [
    "### `frozenset()`\n",
    "\n",
    "不可变集合是一个异质、无序、唯一，不变、无映射的数据集结构类型。`frozenset()`函数创建一个这样的对象：\n",
    "```python\n",
    "frozenset()\n",
    "frozenset(iterable)\n",
    "```\n",
    "- 输入\n",
    "    - 无参数返回空集合\n",
    "    - `iterable`，可迭代对象。\n",
    "- 输出\n",
    "    - 返回`frozenset`对象"
   ]
  },
  {
   "cell_type": "code",
   "execution_count": null,
   "metadata": {},
   "outputs": [],
   "source": [
    "emptyfset = frozenset()\n",
    "fseta = frozenset(range(10))\n",
    "fsetb = frozenset([1, 3.1, True, 'hello'])\n",
    "print(emptyfset, fseta, fsetb)\n",
    "print(type(emptyfset), type(fseta), type(fsetb))"
   ]
  },
  {
   "cell_type": "code",
   "execution_count": null,
   "metadata": {},
   "outputs": [],
   "source": [
    "for x in fsetb:\n",
    "    print(x)"
   ]
  },
  {
   "cell_type": "markdown",
   "metadata": {},
   "source": [
    "### `object()`\n",
    "\n",
    "创建新的`object`对象：\n",
    "```python\n",
    "object()\n",
    "```\n",
    "- 输入\n",
    "    - 无参数\n",
    "- 输出\n",
    "    - 返回`object`对象"
   ]
  },
  {
   "cell_type": "code",
   "execution_count": null,
   "metadata": {},
   "outputs": [],
   "source": [
    "x = object()\n",
    "print(type(x), x)"
   ]
  },
  {
   "cell_type": "code",
   "execution_count": null,
   "metadata": {},
   "outputs": [],
   "source": [
    "# 不能更改增加属性，否则抛出`AttributeError`异常\n",
    "x.name = 'new'"
   ]
  },
  {
   "cell_type": "markdown",
   "metadata": {
    "slideshow": {
     "slide_type": "slide"
    }
   },
   "source": [
    "## 类定义相关函数\n",
    "\n",
    "- `super()`，显式调用父类方法。\n",
    "- `classmethod()` ，把函数转换为类方法\n",
    "- `property()`，创建类的属性 \n",
    "- `staticmethod(function)`，把函数转换为类的静态方法"
   ]
  },
  {
   "cell_type": "markdown",
   "metadata": {},
   "source": [
    "### `super()`\n",
    "\n",
    "显式调用父类方法：\n",
    "```python\n",
    "super()\n",
    "super(type)\n",
    "super(type, obj)\n",
    "super(type, type2)\n",
    "```\n",
    "- 输入\n",
    "    - `type`，类\n",
    "    - `obj`或`type2`,对象或类，缺省是`self`\n",
    "- 输出\n",
    "    - 空    \n",
    "    \n",
    "使用`super().xxx`相当于使用`super(Class, self).xxx`\n",
    "\n",
    "使用方法：\n",
    "```python\n",
    "class C(B):\n",
    "    def method(self, arg):\n",
    "        # 调用父类方法\n",
    "        # super(C, self).method(arg)\n",
    "        super().method(arg)\n",
    "```        "
   ]
  },
  {
   "cell_type": "markdown",
   "metadata": {},
   "source": [
    "### `classmethod()`\n",
    "\n",
    "把函数转换为类方法：\n",
    "```python\n",
    "classmethod(function)\n",
    "```\n",
    "\n",
    "使用方法：\n",
    "```python\n",
    "class C:\n",
    "    @staticmethod\n",
    "    def f(arg1, arg2, ...):\n",
    "        ...\n",
    "```"
   ]
  },
  {
   "cell_type": "markdown",
   "metadata": {},
   "source": [
    "### `property()`\n",
    "\n",
    "用于生成类的属性：\n",
    "```python\n",
    "property(fget=None, fset=None, fdel=None, doc=None)\n",
    "```\n",
    "\n",
    "使用方法\n",
    "```python\n",
    "class C(object):\n",
    "    @property\n",
    "    def x(self):\n",
    "        \"I am the 'x' property.\"\n",
    "        return self._x\n",
    "    \n",
    "    @x.setter\n",
    "    def x(self, value):\n",
    "        self._x = value\n",
    "    \n",
    "    @x.deleter\n",
    "    def x(self):\n",
    "        del self._x\n",
    "```"
   ]
  },
  {
   "cell_type": "markdown",
   "metadata": {},
   "source": [
    "### `staticmethod()`\n",
    "\n",
    "把函数转换为类的静态方法：\n",
    "```python\n",
    "staticmethod(function)\n",
    "```\n",
    "\n",
    "使用方法\n",
    "```python\n",
    "class C:\n",
    "    @classmethod\n",
    "    def f(cls, arg1, arg2, ...):\n",
    "        ...\n",
    "```"
   ]
  },
  {
   "cell_type": "markdown",
   "metadata": {
    "slideshow": {
     "slide_type": "slide"
    }
   },
   "source": [
    "## 文件操作\n",
    "\n",
    "- `open()`，打开文件，返回文件对象。"
   ]
  },
  {
   "cell_type": "markdown",
   "metadata": {},
   "source": [
    "### `open()`\n",
    "\n",
    "使用指定的模式和编码打开文件，返回文件对象：\n",
    "```python\n",
    "open(file, mode='r', buffering=-1, encoding=None, errors=None, newline=None, closefd=True, opener=None)\n",
    "```\n",
    "- 输入\n",
    "    - `file`，文件名。\n",
    "    - `mode`，打开文件的模式，缺省是可读。\n",
    "    - `encoding`，文件编码。\n",
    "- 输出\n",
    "    - 返回文件对象"
   ]
  },
  {
   "cell_type": "markdown",
   "metadata": {
    "slideshow": {
     "slide_type": "slide"
    }
   },
   "source": [
    "## 编译运行\n",
    "\n",
    "- `compile()`，编译字符串为 Python 字节代码\n",
    "- `eval()`，运行字符串形式的表达式，返回表达式的值\n",
    "- `exec()`，执行字符串形式的 Python 语句"
   ]
  },
  {
   "cell_type": "markdown",
   "metadata": {},
   "source": [
    "### `compile()`\n",
    "\n",
    "编译字符串为 Python 字节代码：\n",
    "```python\n",
    "compile(source, filename, mode, flags=0, dont_inherit=False, optimize=-1)\n",
    "```\n",
    "- 输入\n",
    "    - `source`，字符串或者AST（Abstract Syntax Trees）对象。\n",
    "    - `filename`，如果代码来自文件则指定该文件名；如果不是自行指定。\n",
    "    - `mode`，编译代码的种类：`exec`, `eval`, `single`。\n",
    "    - `flags=0`，变量作用域，局部命名空间。\n",
    "    - `dont_inherit=0`，控制编译源码时的标志\n",
    "    - `optimize=-1`，优化级别标志\n",
    "- 输出\n",
    "    - 返回代码对象\n",
    "    \n",
    "编译代码种类包括：\n",
    "- `eval`，仅接受表达式\n",
    "- `exec`，可包括语句块、类、函数\n",
    "- `single`，单个可交互语句"
   ]
  },
  {
   "cell_type": "code",
   "execution_count": null,
   "metadata": {},
   "outputs": [],
   "source": [
    "# 表达式\n",
    "code = '1 + 2 + 3 + 4'\n",
    "res = compile(code, '', 'eval')\n",
    "# 查看结果类型并执行\n",
    "print(type(res), res)\n",
    "eval(res)"
   ]
  },
  {
   "cell_type": "code",
   "execution_count": null,
   "metadata": {},
   "outputs": [],
   "source": [
    "# 语句块\n",
    "code = \"\"\"\\\n",
    "x = 5.1\n",
    "y = 6.9\n",
    "print('sum = ', x + y)\n",
    "\"\"\"\n",
    "# 须指定`exec`\n",
    "res = compile(code, 'sumstring', 'exec')\n",
    "# 查看结果类型并执行\n",
    "print(type(res), res)\n",
    "exec(res)"
   ]
  },
  {
   "cell_type": "code",
   "execution_count": null,
   "metadata": {},
   "outputs": [],
   "source": [
    "# 函数\n",
    "code = \"\"\"\\\n",
    "def f1(x):\n",
    "    return abs(x)\n",
    "\n",
    "print(f1(-1.0))\n",
    "\"\"\"\n",
    "# 须指定`exec`\n",
    "res = compile(code, '', 'exec')\n",
    "# 查看结果类型并执行\n",
    "print(type(res), res)\n",
    "exec(res)"
   ]
  },
  {
   "cell_type": "code",
   "execution_count": null,
   "metadata": {},
   "outputs": [],
   "source": [
    "# 交互\n",
    "code = \"\"\"\\\n",
    "x = input('输入数字:')\n",
    "\"\"\"\n",
    "# 须指定`exec`\n",
    "res = compile(code, 'input_string', 'single')\n",
    "# 查看结果类型并执行\n",
    "print(type(res), res)\n",
    "exec(res)"
   ]
  },
  {
   "cell_type": "markdown",
   "metadata": {},
   "source": [
    "### `eval()`\n",
    "\n",
    "运行字符串形式的表达式，返回表达式的值：\n",
    "```python\n",
    "eval(expression, globals=None, locals=None)\n",
    "```\n",
    "- 输入\n",
    "    - `expression`，表达式，字符串或 Python 内置函数`compile()`编译的代码对象。\n",
    "    - `globals=None`，变量作用域，全局命名空间\n",
    "    - `locals=None`，变量作用域，局部命名空间\n",
    "- 输出\n",
    "    - 返回表达式结果"
   ]
  },
  {
   "cell_type": "code",
   "execution_count": null,
   "metadata": {},
   "outputs": [],
   "source": [
    "x = 1\n",
    "eval('x+1')"
   ]
  },
  {
   "cell_type": "markdown",
   "metadata": {},
   "source": [
    "### `exec()`\n",
    "\n",
    "执行字符串形式的 Python 语句：\n",
    "```python\n",
    "exec(source, globals=None, locals=None)\n",
    "```\n",
    "- 输入\n",
    "    - `source`，Python语句，字符串或 Python 内置函数`compile()`编译的代码对象。\n",
    "    - `globals=None`，变量作用域，全局命名空间\n",
    "    - `locals=None`，变量作用域，局部命名空间\n",
    "- 输出\n",
    "    - 返回运行结果"
   ]
  },
  {
   "cell_type": "code",
   "execution_count": null,
   "metadata": {},
   "outputs": [],
   "source": [
    "# 循环语句\n",
    "code = \"\"\"\\\n",
    "for i in range(n):\n",
    "    print(i)\n",
    "\"\"\"\n",
    "n = 3\n",
    "exec(code)"
   ]
  },
  {
   "cell_type": "markdown",
   "metadata": {
    "slideshow": {
     "slide_type": "slide"
    }
   },
   "source": [
    "## 其它\n",
    "\n",
    "- `slice()`，返回切片对象。\n",
    "- `memoryview(object)`，返回给定对象的内存查看对象\n",
    "- `breakpoint()`\n",
    "- `__import__()`"
   ]
  },
  {
   "cell_type": "markdown",
   "metadata": {},
   "source": [
    "### `slice()`\n",
    "\n",
    "返回切片对象，用在切片操作函数里的参数传递：\n",
    "```python\n",
    "slice(stop)\n",
    "slice(start, stop[, step])\n",
    "```\n",
    "- 输入\n",
    "    - `start`, 起始位置，缺省为 0。\n",
    "    - `stop`，结束位置。起始与结束设置左闭右开范围。\n",
    "    - `step`，间距，缺省为 1。\n",
    "- 输出\n",
    "    - 且反对象"
   ]
  },
  {
   "cell_type": "code",
   "execution_count": 8,
   "metadata": {},
   "outputs": [
    {
     "name": "stdout",
     "output_type": "stream",
     "text": [
      "<class 'slice'> <class 'slice'>\n",
      "slice(None, 5, None) slice(1, 5, 2)\n"
     ]
    }
   ],
   "source": [
    "xs1 = slice(5)\n",
    "xs2 = slice(1, 5, 2)\n",
    "print(type(xs1), type(xs2))\n",
    "print(xs1, xs2)"
   ]
  },
  {
   "cell_type": "code",
   "execution_count": 10,
   "metadata": {},
   "outputs": [
    {
     "name": "stdout",
     "output_type": "stream",
     "text": [
      "[0, 1, 2, 3, 4]\n",
      "[1, 3]\n"
     ]
    }
   ],
   "source": [
    "arr = list(range(10))\n",
    "print(arr[xs1])\n",
    "print(arr[xs2])"
   ]
  },
  {
   "cell_type": "markdown",
   "metadata": {},
   "source": [
    "### `memoryview(object)`\n",
    "\n",
    "返回给定对象的内存查看对象：\n",
    "```python\n",
    "memoryview(object)\n",
    "```\n",
    "- 输入\n",
    "    - `object`，指定对象\n",
    "- 输出\n",
    "    - 内存查看对象"
   ]
  },
  {
   "cell_type": "code",
   "execution_count": 14,
   "metadata": {},
   "outputs": [
    {
     "name": "stdout",
     "output_type": "stream",
     "text": [
      "bytearray(b'abc')\n",
      "<class 'memoryview'> <memory at 0x000001E5C4797108>\n",
      "bytearray(b'aZc')\n"
     ]
    }
   ],
   "source": [
    "b1 = bytearray('abc', 'utf-8')\n",
    "print(b1)\n",
    "# 创建内存查看对象\n",
    "mv = memoryview(b1)\n",
    "print(type(mv), mv)\n",
    "# 更新\n",
    "mv[1] = 90\n",
    "print(b1)"
   ]
  },
  {
   "cell_type": "markdown",
   "metadata": {},
   "source": [
    "### `breakpoint(*args, **kws)`\n",
    "\n",
    "进入调试器：\n",
    "```python\n",
    "breakpoint(*args, **kws)\n",
    "```\n",
    "- 输入\n",
    "    - `*args`，不定位置参数\n",
    "    - `*kws`，不定关键字参数\n",
    "- 输出\n",
    "    - 无\n",
    "    \n",
    "Pyton 3.7 版新增函数    "
   ]
  },
  {
   "cell_type": "markdown",
   "metadata": {},
   "source": [
    "### `__import__()`\n",
    "\n",
    "不建议直接使用`__import__()`而应该用 `importlib.import_module()`"
   ]
  },
  {
   "cell_type": "markdown",
   "metadata": {},
   "source": [
    "## 帮助\n",
    "\n",
    "- `help([object])`，打印帮助信息"
   ]
  },
  {
   "cell_type": "markdown",
   "metadata": {},
   "source": [
    "### `help()`\n",
    "\n",
    "打印帮助信息：\n",
    "```python\n",
    "help([object])\n",
    "```\n",
    "- 输入\n",
    "    - `object`，可选参数。如果指定则打印该对象帮助信息；如果不指定则进入帮助程序\n",
    "- 输出\n",
    "    - 打印帮助信息"
   ]
  },
  {
   "cell_type": "code",
   "execution_count": null,
   "metadata": {},
   "outputs": [],
   "source": [
    "help(int)"
   ]
  }
 ],
 "metadata": {
  "celltoolbar": "Slideshow",
  "kernelspec": {
   "display_name": "Python 3",
   "language": "python",
   "name": "python3"
  },
  "language_info": {
   "codemirror_mode": {
    "name": "ipython",
    "version": 3
   },
   "file_extension": ".py",
   "mimetype": "text/x-python",
   "name": "python",
   "nbconvert_exporter": "python",
   "pygments_lexer": "ipython3",
   "version": "3.7.3"
  },
  "toc": {
   "base_numbering": 1,
   "nav_menu": {},
   "number_sections": true,
   "sideBar": true,
   "skip_h1_title": false,
   "title_cell": "Table of Contents",
   "title_sidebar": "Contents",
   "toc_cell": false,
   "toc_position": {
    "height": "calc(100% - 180px)",
    "left": "10px",
    "top": "150px",
    "width": "239px"
   },
   "toc_section_display": true,
   "toc_window_display": true
  }
 },
 "nbformat": 4,
 "nbformat_minor": 1
}
