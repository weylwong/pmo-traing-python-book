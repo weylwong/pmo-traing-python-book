{
 "cells": [
  {
   "cell_type": "markdown",
   "metadata": {
    "slideshow": {
     "slide_type": "slide"
    }
   },
   "source": [
    "# 匿名函数（lambda）\n",
    "\n",
    "要定义一个函数，就得给函数起个名字。函数命名基本原则是要望文生义，要想出一个长期好用的函数名，犹如给新生儿起名，并非一件轻而易举的事情。\n",
    "\n",
    "在有些场景下，只需传入一个简单函数，并不需要显式地定义函数。Python 使用关键字 `lambda`来创建匿名函数(lambda)。顾名思义，就是简单快捷地创建函数，而又不用为函数命名大费周章。\n",
    "\n",
    "匿名函数的语法为：\n",
    "```\n",
    "lambda arguments: expression\n",
    "```\n",
    "- 使用关键词 `lambda` 而非 `def`；\n",
    "- 参数是可选，如果多个参数，使用逗号分隔参数；\n",
    "- 使用表达式来定义函数体。"
   ]
  },
  {
   "cell_type": "markdown",
   "metadata": {
    "slideshow": {
     "slide_type": "slide"
    }
   },
   "source": [
    "匿名函数的应用场景是快捷创建一个简单函数，其函数体只能使用表达式。也就是说，不能使用分支（条件表达式例外）与循环，赋值语句，以及 `return` 或 `yield` 等语句。"
   ]
  },
  {
   "cell_type": "markdown",
   "metadata": {
    "slideshow": {
     "slide_type": "slide"
    }
   },
   "source": [
    "## 匿名函数实例\n",
    "\n",
    "下面定义一个匿名函数，并绑定到一个变量上："
   ]
  },
  {
   "cell_type": "code",
   "execution_count": 1,
   "metadata": {
    "slideshow": {
     "slide_type": "-"
    }
   },
   "outputs": [],
   "source": [
    "f = lambda x: str(x) * 8 "
   ]
  },
  {
   "cell_type": "markdown",
   "metadata": {
    "slideshow": {
     "slide_type": "slide"
    }
   },
   "source": [
    "使用自省的方法来查看对象的类型："
   ]
  },
  {
   "cell_type": "code",
   "execution_count": 2,
   "metadata": {
    "slideshow": {
     "slide_type": "-"
    }
   },
   "outputs": [
    {
     "name": "stdout",
     "output_type": "stream",
     "text": [
      "<class 'function'>\n"
     ]
    }
   ],
   "source": [
    "print(type(f))"
   ]
  },
  {
   "cell_type": "markdown",
   "metadata": {
    "slideshow": {
     "slide_type": "slide"
    }
   },
   "source": [
    "匿名函数仍然是函数对象，可以像其它函数那样来调用："
   ]
  },
  {
   "cell_type": "code",
   "execution_count": 4,
   "metadata": {
    "slideshow": {
     "slide_type": "-"
    }
   },
   "outputs": [
    {
     "name": "stdout",
     "output_type": "stream",
     "text": [
      "11111111 喜喜喜喜喜喜喜喜\n"
     ]
    }
   ],
   "source": [
    "print(f(1), f('喜'))"
   ]
  },
  {
   "cell_type": "markdown",
   "metadata": {},
   "source": [
    "## 匿名函数的应用\n",
    "\n"
   ]
  }
 ],
 "metadata": {
  "celltoolbar": "Slideshow",
  "kernelspec": {
   "display_name": "Python 3",
   "language": "python",
   "name": "python3"
  },
  "language_info": {
   "codemirror_mode": {
    "name": "ipython",
    "version": 3
   },
   "file_extension": ".py",
   "mimetype": "text/x-python",
   "name": "python",
   "nbconvert_exporter": "python",
   "pygments_lexer": "ipython3",
   "version": "3.6.4"
  },
  "toc": {
   "base_numbering": 1,
   "nav_menu": {},
   "number_sections": true,
   "sideBar": true,
   "skip_h1_title": false,
   "title_cell": "Table of Contents",
   "title_sidebar": "Contents",
   "toc_cell": false,
   "toc_position": {
    "height": "calc(100% - 180px)",
    "left": "10px",
    "top": "150px",
    "width": "239px"
   },
   "toc_section_display": true,
   "toc_window_display": false
  }
 },
 "nbformat": 4,
 "nbformat_minor": 1
}
