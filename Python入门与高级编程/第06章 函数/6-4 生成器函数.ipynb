{
 "cells": [
  {
   "cell_type": "markdown",
   "metadata": {
    "slideshow": {
     "slide_type": "slide"
    }
   },
   "source": [
    "# 生成器与迭代器\n",
    "\n",
    "Python 内置的字符串、列表、元组和字典是序列，也就是在这些类型中实现有 `__getitem__()` 魔术方法。同时它们还是可迭代对象。定义有`__iter__`方法d的对象称为可迭代对象。Python 内置的集合是可迭代对象，但不是序列。对于可迭代对象来说，可以用`for`循环来遍历它们的每一个元素，也称之为迭代，这也是可迭代对象的来由。"
   ]
  },
  {
   "cell_type": "markdown",
   "metadata": {
    "slideshow": {
     "slide_type": "slide"
    }
   },
   "source": [
    "在Python中，万物皆对象，这也导致有些Python程序员不知道Python 的函数式编程。这里必须向大家道歉，要知道，函数式编程可以写出更为精确和高效的代码。"
   ]
  },
  {
   "cell_type": "markdown",
   "metadata": {
    "slideshow": {
     "slide_type": "slide"
    }
   },
   "source": [
    "以函数式编程时，实现的函数最好是纯函数式函数。有点绕口，主要意思就是，一个函数接收参数然后输出结果，不会保留任何状态。"
   ]
  },
  {
   "cell_type": "markdown",
   "metadata": {
    "slideshow": {
     "slide_type": "slide"
    }
   },
   "source": [
    "## 可迭代对象（Iterable）\n",
    "\n",
    "通过检查是否定义 `__iter__` 方法来判断对象是否是可迭代对象。使用内置函数`hasattr()`可以检查检查字符串、列表、元组、字典、集合等对象："
   ]
  },
  {
   "cell_type": "markdown",
   "metadata": {
    "slideshow": {
     "slide_type": "slide"
    }
   },
   "source": [
    "通过检查是否定义了`__iter__`方法来判断可迭代对象。使用内置函数`hasattr()`可以检查检查字符串、列表、元组、字典、集合等对象是否是可迭代对象"
   ]
  },
  {
   "cell_type": "code",
   "execution_count": 5,
   "metadata": {
    "slideshow": {
     "slide_type": "-"
    }
   },
   "outputs": [
    {
     "name": "stdout",
     "output_type": "stream",
     "text": [
      "<class 'str'> True\n",
      "<class 'list'> True\n",
      "<class 'tuple'> True\n",
      "<class 'dict'> True\n",
      "<class 'set'> True\n"
     ]
    }
   ],
   "source": [
    "for dtype in [str, list, tuple, dict, set]:\n",
    "    print(str(dtype), hasattr(dtype(), '__iter__'))"
   ]
  },
  {
   "cell_type": "markdown",
   "metadata": {
    "slideshow": {
     "slide_type": "slide"
    }
   },
   "source": [
    "显然整数、复数等数据类型不是可迭代对象："
   ]
  },
  {
   "cell_type": "code",
   "execution_count": 6,
   "metadata": {
    "slideshow": {
     "slide_type": "-"
    }
   },
   "outputs": [
    {
     "name": "stdout",
     "output_type": "stream",
     "text": [
      "<class 'int'> False\n",
      "<class 'bool'> False\n",
      "<class 'float'> False\n",
      "<class 'complex'> False\n"
     ]
    }
   ],
   "source": [
    "for dtype in [int, bool, float, complex]:\n",
    "    print(str(dtype), hasattr(dtype(), '__iter__'))"
   ]
  },
  {
   "cell_type": "markdown",
   "metadata": {
    "slideshow": {
     "slide_type": "slide"
    }
   },
   "source": [
    "## 迭代器（Iterator）\n",
    "\n",
    "迭代器(Iterator)是一种可以用`for`循环进行遍历的对象，此外还能使用内置函数`next()`依次返回元素。访问迭代器对象的元素只能从第一个元素，直到访问完所有元素，最后引起`StopIteration`异常。迭代器只能往后遍历不能回溯。通过检查是否定义`__next__`方法来判断迭代器对象。"
   ]
  },
  {
   "cell_type": "code",
   "execution_count": 8,
   "metadata": {
    "slideshow": {
     "slide_type": "slide"
    }
   },
   "outputs": [
    {
     "name": "stdout",
     "output_type": "stream",
     "text": [
      "<class 'str'> False\n",
      "<class 'list'> False\n",
      "<class 'tuple'> False\n",
      "<class 'dict'> False\n",
      "<class 'set'> False\n"
     ]
    }
   ],
   "source": [
    "for dtype in [str, list, tuple, dict, set]:\n",
    "    print(str(dtype), hasattr(dtype(), '__next__'))"
   ]
  },
  {
   "cell_type": "markdown",
   "metadata": {
    "slideshow": {
     "slide_type": "slide"
    }
   },
   "source": [
    "使用内置函数 `iter()` 可以把可迭代对象转化为迭代器:"
   ]
  },
  {
   "cell_type": "code",
   "execution_count": 16,
   "metadata": {
    "slideshow": {
     "slide_type": "-"
    }
   },
   "outputs": [
    {
     "name": "stdout",
     "output_type": "stream",
     "text": [
      "<class 'tuple_iterator'> <class 'list_iterator'>\n",
      "True True\n"
     ]
    }
   ],
   "source": [
    "xs = (1, 2, 3)\n",
    "ixs1 = iter(xs)\n",
    "ixs2 = iter([1, 2, 3])\n",
    "print(type(ixs1), type(ixs2))\n",
    "print(hasattr(ixs1, '__next__'), hasattr(ixs2, '__next__'))"
   ]
  },
  {
   "cell_type": "markdown",
   "metadata": {},
   "source": [
    "下面就可以使用 Python 内置的`next()`来访问其中的元素，直到引起`StopIteration`异常："
   ]
  },
  {
   "cell_type": "code",
   "execution_count": 18,
   "metadata": {
    "slideshow": {
     "slide_type": "slide"
    }
   },
   "outputs": [
    {
     "ename": "StopIteration",
     "evalue": "",
     "output_type": "error",
     "traceback": [
      "\u001b[1;31m---------------------------------------------------------------------------\u001b[0m",
      "\u001b[1;31mStopIteration\u001b[0m                             Traceback (most recent call last)",
      "\u001b[1;32m<ipython-input-18-61b649df1ac2>\u001b[0m in \u001b[0;36m<module>\u001b[1;34m()\u001b[0m\n\u001b[1;32m----> 1\u001b[1;33m \u001b[0mprint\u001b[0m\u001b[1;33m(\u001b[0m\u001b[0mnext\u001b[0m\u001b[1;33m(\u001b[0m\u001b[0mixs1\u001b[0m\u001b[1;33m)\u001b[0m\u001b[1;33m)\u001b[0m\u001b[1;33m\u001b[0m\u001b[0m\n\u001b[0m\u001b[0;32m      2\u001b[0m \u001b[0mprint\u001b[0m\u001b[1;33m(\u001b[0m\u001b[0mnext\u001b[0m\u001b[1;33m(\u001b[0m\u001b[0mixs1\u001b[0m\u001b[1;33m)\u001b[0m\u001b[1;33m)\u001b[0m\u001b[1;33m\u001b[0m\u001b[0m\n\u001b[0;32m      3\u001b[0m \u001b[0mprint\u001b[0m\u001b[1;33m(\u001b[0m\u001b[0mnext\u001b[0m\u001b[1;33m(\u001b[0m\u001b[0mixs1\u001b[0m\u001b[1;33m)\u001b[0m\u001b[1;33m)\u001b[0m\u001b[1;33m\u001b[0m\u001b[0m\n\u001b[0;32m      4\u001b[0m \u001b[0mprint\u001b[0m\u001b[1;33m(\u001b[0m\u001b[0mnext\u001b[0m\u001b[1;33m(\u001b[0m\u001b[0mixs1\u001b[0m\u001b[1;33m)\u001b[0m\u001b[1;33m)\u001b[0m\u001b[1;33m\u001b[0m\u001b[0m\n",
      "\u001b[1;31mStopIteration\u001b[0m: "
     ]
    }
   ],
   "source": [
    "print(next(ixs1))\n",
    "print(next(ixs1))\n",
    "print(next(ixs1))\n",
    "print(next(ixs1))"
   ]
  },
  {
   "cell_type": "code",
   "execution_count": 19,
   "metadata": {},
   "outputs": [
    {
     "data": {
      "text/plain": [
       "True"
      ]
     },
     "execution_count": 19,
     "metadata": {},
     "output_type": "execute_result"
    }
   ],
   "source": [
    "hasattr(ixs2, '__iter__')"
   ]
  },
  {
   "cell_type": "markdown",
   "metadata": {},
   "source": [
    "迭代器实现有`__iter__`方法，可以使用`for`语句来进行迭代循环："
   ]
  },
  {
   "cell_type": "code",
   "execution_count": 21,
   "metadata": {},
   "outputs": [],
   "source": [
    "for x in ixs2:\n",
    "    print(x)"
   ]
  },
  {
   "cell_type": "markdown",
   "metadata": {},
   "source": [
    "实际上，在实现对象的`__iter__()`方法时，就是返回一个迭代器。"
   ]
  },
  {
   "cell_type": "markdown",
   "metadata": {
    "slideshow": {
     "slide_type": "slide"
    }
   },
   "source": [
    "## 生成器（generator）\n",
    "\n",
    "### 有限的序列\n",
    "\n",
    "软件是运行在计算机硬件上，超出硬件的限制就会出现错误，比较常见的如内存溢出错误。假如要创建一个大的列表，就需要创建很多个对象，自然会耗费大量的内存。如果超出内存限制就会出现内存溢出异常。"
   ]
  },
  {
   "cell_type": "markdown",
   "metadata": {
    "slideshow": {
     "slide_type": "slide"
    }
   },
   "source": [
    "在Linux系统，使用`ulimit`命令把内存限制到256M。\n",
    "```sh\n",
    "ulimit -v 262144\n",
    "```"
   ]
  },
  {
   "cell_type": "markdown",
   "metadata": {
    "slideshow": {
     "slide_type": "-"
    }
   },
   "source": [
    "然后启动Python程序，在提示符下运行如下语句：\n",
    "```python\n",
    ">>> alist = list(range(1024*1024))\n",
    ">>> alist = list(range(1024*1024*1024))\n",
    "Traceback (most recent call last):\n",
    "  File \"<stdin>\", line 1, in <module>\n",
    "MemoryError\n",
    "```\n",
    "\n",
    "这证明，限制内存后，是无法创建1024M个对象。如果在Python或Jupyter Notebook中试图分配超过物理内存大小，进程会被直接杀掉。"
   ]
  },
  {
   "cell_type": "code",
   "execution_count": null,
   "metadata": {
    "slideshow": {
     "slide_type": "-"
    }
   },
   "outputs": [],
   "source": [
    "# Don't run the statement. The kernal will be killed.\n",
    "# alist = list(range(1024*1024*1024*8))"
   ]
  },
  {
   "cell_type": "markdown",
   "metadata": {
    "slideshow": {
     "slide_type": "slide"
    }
   },
   "source": [
    "### 无限的生成器\n",
    "\n",
    "在实际工作场景中，有时会需要得到非常众多的对象，然而并不需要一次性全部获得。Python 提供了生成器的方法，来依次得到不同对象。生成器（generator）是一个对象，通过调用内置函数`next()`可以依次返回不同值。可以使用定义函数的方法来创建一个生成器，要做的工作仅仅是使用`yield`语句："
   ]
  },
  {
   "cell_type": "code",
   "execution_count": 22,
   "metadata": {
    "slideshow": {
     "slide_type": "slide"
    }
   },
   "outputs": [],
   "source": [
    "def mygenerator():\n",
    "    print('generator 1')\n",
    "    yield 1\n",
    "    print('generator 2')\n",
    "    yield 3.1415\n",
    "    print('generator 3')\n",
    "    yield 'string'"
   ]
  },
  {
   "cell_type": "code",
   "execution_count": 3,
   "metadata": {
    "slideshow": {
     "slide_type": "slide"
    }
   },
   "outputs": [
    {
     "name": "stdout",
     "output_type": "stream",
     "text": [
      "<class 'function'>\n",
      "<function mygenerator at 0x7fa60829eea0>\n"
     ]
    }
   ],
   "source": [
    "print(type(mygenerator))"
   ]
  },
  {
   "cell_type": "markdown",
   "metadata": {},
   "source": [
    "在上面语句定义了一个函数`mygenerator`，可以看出就是函数对象，与其它对象没啥差别。不过该函数的返回结果则有所不同："
   ]
  },
  {
   "cell_type": "code",
   "execution_count": 23,
   "metadata": {
    "slideshow": {
     "slide_type": "-"
    }
   },
   "outputs": [
    {
     "name": "stdout",
     "output_type": "stream",
     "text": [
      "<class 'generator'> <generator object mygenerator at 0x000001EB5A179620>\n"
     ]
    }
   ],
   "source": [
    "gen = mygenerator()\n",
    "\n",
    "print(type(gen), gen)"
   ]
  },
  {
   "cell_type": "markdown",
   "metadata": {
    "slideshow": {
     "slide_type": "slide"
    }
   },
   "source": [
    "当 Python 检测到函数体中使用了 `yield` 语句,就将该函数标记为生成器函数。从上可知，函数返回的就是生成器对象。使用自省函数`dir()`检查生成器对象："
   ]
  },
  {
   "cell_type": "code",
   "execution_count": 24,
   "metadata": {
    "slideshow": {
     "slide_type": "slide"
    }
   },
   "outputs": [
    {
     "name": "stdout",
     "output_type": "stream",
     "text": [
      "['__class__', '__del__', '__delattr__', '__dir__', '__doc__', '__eq__', '__format__', '__ge__', '__getattribute__', '__gt__', '__hash__', '__init__', '__init_subclass__', '__iter__', '__le__', '__lt__', '__name__', '__ne__', '__new__', '__next__', '__qualname__', '__reduce__', '__reduce_ex__', '__repr__', '__setattr__', '__sizeof__', '__str__', '__subclasshook__', 'close', 'gi_code', 'gi_frame', 'gi_running', 'gi_yieldfrom', 'send', 'throw']\n"
     ]
    }
   ],
   "source": [
    "print(dir(gen))"
   ]
  },
  {
   "cell_type": "markdown",
   "metadata": {},
   "source": [
    "生成器对象包含了`__iter__`和`__next__`方法，也就是说生成器是迭代器，可以像迭代器那样进行迭代操作。下面使用内置函数`next()`来迭代生成器元素，直到最后引起 `StopIteration` 异常："
   ]
  },
  {
   "cell_type": "code",
   "execution_count": 27,
   "metadata": {
    "slideshow": {
     "slide_type": "-"
    }
   },
   "outputs": [
    {
     "ename": "StopIteration",
     "evalue": "",
     "output_type": "error",
     "traceback": [
      "\u001b[1;31m---------------------------------------------------------------------------\u001b[0m",
      "\u001b[1;31mStopIteration\u001b[0m                             Traceback (most recent call last)",
      "\u001b[1;32m<ipython-input-27-816b69930d80>\u001b[0m in \u001b[0;36m<module>\u001b[1;34m()\u001b[0m\n\u001b[1;32m----> 1\u001b[1;33m \u001b[0mprint\u001b[0m\u001b[1;33m(\u001b[0m\u001b[0mnext\u001b[0m\u001b[1;33m(\u001b[0m\u001b[0mgen\u001b[0m\u001b[1;33m)\u001b[0m\u001b[1;33m)\u001b[0m\u001b[1;33m\u001b[0m\u001b[0m\n\u001b[0m\u001b[0;32m      2\u001b[0m \u001b[0mprint\u001b[0m\u001b[1;33m(\u001b[0m\u001b[0mnext\u001b[0m\u001b[1;33m(\u001b[0m\u001b[0mgen\u001b[0m\u001b[1;33m)\u001b[0m\u001b[1;33m)\u001b[0m\u001b[1;33m\u001b[0m\u001b[0m\n\u001b[0;32m      3\u001b[0m \u001b[0mprint\u001b[0m\u001b[1;33m(\u001b[0m\u001b[0mnext\u001b[0m\u001b[1;33m(\u001b[0m\u001b[0mgen\u001b[0m\u001b[1;33m)\u001b[0m\u001b[1;33m)\u001b[0m\u001b[1;33m\u001b[0m\u001b[0m\n\u001b[0;32m      4\u001b[0m \u001b[0mprint\u001b[0m\u001b[1;33m(\u001b[0m\u001b[0mnext\u001b[0m\u001b[1;33m(\u001b[0m\u001b[0mgen\u001b[0m\u001b[1;33m)\u001b[0m\u001b[1;33m)\u001b[0m\u001b[1;33m\u001b[0m\u001b[0m\n",
      "\u001b[1;31mStopIteration\u001b[0m: "
     ]
    }
   ],
   "source": [
    "print(next(gen))\n",
    "print(next(gen))\n",
    "print(next(gen))\n",
    "print(next(gen))"
   ]
  },
  {
   "cell_type": "markdown",
   "metadata": {
    "slideshow": {
     "slide_type": "slide"
    }
   },
   "source": [
    "从运行结果可知，当函数执行到 `yield` 语句时，就会像遇到 `return` 那样返回表达式的结果。但有一个显著不同时，Python 解释器会保存当前运行位置，等下一次调用函数 `next()` 时，继续往下运行。"
   ]
  },
  {
   "cell_type": "markdown",
   "metadata": {
    "slideshow": {
     "slide_type": "slide"
    }
   },
   "source": [
    "使用 Python 标准库 `inspect` 可以来检查函数是否是生成器函数："
   ]
  },
  {
   "cell_type": "code",
   "execution_count": 28,
   "metadata": {
    "slideshow": {
     "slide_type": "-"
    }
   },
   "outputs": [
    {
     "name": "stdout",
     "output_type": "stream",
     "text": [
      "True\n",
      "True\n"
     ]
    }
   ],
   "source": [
    "import inspect\n",
    "\n",
    "print(inspect.isfunction(mygenerator))\n",
    "print(inspect.isgeneratorfunction(mygenerator))"
   ]
  },
  {
   "cell_type": "markdown",
   "metadata": {
    "slideshow": {
     "slide_type": "slide"
    }
   },
   "source": [
    "### 简单应用\n",
    "\n",
    "有了生成器，就可以应对和操作大规模数据集。回到刚开始的需求，动态创建一个大规模字符串序列。"
   ]
  },
  {
   "cell_type": "code",
   "execution_count": 10,
   "metadata": {
    "slideshow": {
     "slide_type": "slide"
    }
   },
   "outputs": [],
   "source": [
    "def srange(n):\n",
    "    i = 0\n",
    "    while i < n:\n",
    "        yield str(i)\n",
    "        i += 1"
   ]
  },
  {
   "cell_type": "code",
   "execution_count": 11,
   "metadata": {
    "slideshow": {
     "slide_type": "-"
    }
   },
   "outputs": [
    {
     "name": "stdout",
     "output_type": "stream",
     "text": [
      "8000000\n"
     ]
    }
   ],
   "source": [
    "for s in srange(1024*1024*8):\n",
    "    if s == '8000000':\n",
    "        print(s)"
   ]
  },
  {
   "cell_type": "markdown",
   "metadata": {
    "slideshow": {
     "slide_type": "slide"
    }
   },
   "source": [
    "生成器通过在运行时生成值而非一次性生成所有值，大大减少了内存了消耗，使得可以处理大规模数据集和循环。从某种程度上讲，使用时间换空间。"
   ]
  },
  {
   "cell_type": "markdown",
   "metadata": {
    "slideshow": {
     "slide_type": "slide"
    }
   },
   "source": [
    "### 内置的生成器\n",
    "\n",
    "在前面的列表推导式章节中，提到“元组推导式”实际上是生成器："
   ]
  },
  {
   "cell_type": "code",
   "execution_count": 29,
   "metadata": {
    "slideshow": {
     "slide_type": "slide"
    }
   },
   "outputs": [
    {
     "name": "stdout",
     "output_type": "stream",
     "text": [
      "<class 'generator'> <generator object <genexpr> at 0x000001EB5A218048>\n"
     ]
    }
   ],
   "source": [
    "xs = (i*i for i in range(3))\n",
    "print(type(xs), xs)"
   ]
  },
  {
   "cell_type": "markdown",
   "metadata": {
    "slideshow": {
     "slide_type": "slide"
    }
   },
   "source": [
    "Python 内置函数 `range()` 的语法是\n",
    "```\n",
    "range(stop) -> range object\n",
    "range(start, stop[, step]) -> range object\n",
    "``` \n",
    "\n",
    "`range()`返回一个`range`对象，与生成器函数功能有些类似，但它不是迭代器，即没有实现`__next__()`方法，也不能使用函数`next()`："
   ]
  },
  {
   "cell_type": "code",
   "execution_count": 33,
   "metadata": {
    "slideshow": {
     "slide_type": "slide"
    }
   },
   "outputs": [
    {
     "name": "stdout",
     "output_type": "stream",
     "text": [
      "<class 'range'> <class 'range'>\n",
      "False False\n"
     ]
    }
   ],
   "source": [
    "xs = range(3)\n",
    "ys = range(1, 300, 100)\n",
    "print(type(xs), type(ys))\n",
    "print(hasattr(xs, '__next__'), hasattr(ys, '__next__'))"
   ]
  },
  {
   "cell_type": "code",
   "execution_count": 36,
   "metadata": {
    "slideshow": {
     "slide_type": "-"
    }
   },
   "outputs": [
    {
     "ename": "TypeError",
     "evalue": "'range' object is not an iterator",
     "output_type": "error",
     "traceback": [
      "\u001b[1;31m---------------------------------------------------------------------------\u001b[0m",
      "\u001b[1;31mTypeError\u001b[0m                                 Traceback (most recent call last)",
      "\u001b[1;32m<ipython-input-36-d89dfb1dac5c>\u001b[0m in \u001b[0;36m<module>\u001b[1;34m()\u001b[0m\n\u001b[1;32m----> 1\u001b[1;33m \u001b[0mnext\u001b[0m\u001b[1;33m(\u001b[0m\u001b[0mxs\u001b[0m\u001b[1;33m)\u001b[0m\u001b[1;33m\u001b[0m\u001b[0m\n\u001b[0m",
      "\u001b[1;31mTypeError\u001b[0m: 'range' object is not an iterator"
     ]
    }
   ],
   "source": [
    "next(xs)"
   ]
  },
  {
   "cell_type": "markdown",
   "metadata": {},
   "source": [
    "但 `range` 对象定义了`__getitem__()`与`__iter__()`方法，是个可迭代对象，可以使用使用`for`循环："
   ]
  },
  {
   "cell_type": "code",
   "execution_count": 41,
   "metadata": {
    "slideshow": {
     "slide_type": "-"
    }
   },
   "outputs": [
    {
     "name": "stdout",
     "output_type": "stream",
     "text": [
      "True True\n",
      "True True\n",
      "1\n",
      "101\n",
      "201\n"
     ]
    }
   ],
   "source": [
    "print(hasattr(xs, '__getitem__'), hasattr(ys, '__getitem__'))\n",
    "print(hasattr(xs, '__iter__'), hasattr(ys, '__iter__'))\n",
    "\n",
    "for y in ys:\n",
    "    print(y)"
   ]
  },
  {
   "cell_type": "markdown",
   "metadata": {},
   "source": [
    "## 小结\n",
    "\n",
    "Python解释器在迭代一个对象时，会自动调用`iter(x)`。其执行过程为：\n",
    "1. 首先会查看该对象是否实现了`__iter__()`方法。如果实现则调用该方法，获取一个迭代器。\n",
    "2. 如果没有实现`__iter__()`方法，会检查是否实现`__getitem()`方法，如实现则创建一个迭代器，从索引 0 开始获取元素。\n",
    "3. 如果都失败，则抛出类型错误（TypeError），提示对象不是可迭代对象。"
   ]
  },
  {
   "cell_type": "markdown",
   "metadata": {},
   "source": [
    "由上可知，可迭代（iterable）对象是一种能够迭代循环的对象。\n",
    "\n",
    "序列对象是定义了`__getitem__()`方法的对象，可以通过整数索引来快捷访问其元素。序列对象是可迭代对象。\n",
    "\n",
    "迭代器是定义有`__next__()`方法的，可以依次遍历元素但不能回溯。迭代器是可迭代对象。\n",
    "\n",
    "生成器是一种特殊的迭代器。生成器也是可迭代对象。"
   ]
  }
 ],
 "metadata": {
  "celltoolbar": "Slideshow",
  "kernelspec": {
   "display_name": "Python 3",
   "language": "python",
   "name": "python3"
  },
  "language_info": {
   "codemirror_mode": {
    "name": "ipython",
    "version": 3
   },
   "file_extension": ".py",
   "mimetype": "text/x-python",
   "name": "python",
   "nbconvert_exporter": "python",
   "pygments_lexer": "ipython3",
   "version": "3.6.4"
  },
  "toc": {
   "base_numbering": 1,
   "nav_menu": {},
   "number_sections": true,
   "sideBar": true,
   "skip_h1_title": false,
   "title_cell": "Table of Contents",
   "title_sidebar": "Contents",
   "toc_cell": false,
   "toc_position": {},
   "toc_section_display": true,
   "toc_window_display": true
  }
 },
 "nbformat": 4,
 "nbformat_minor": 2
}
