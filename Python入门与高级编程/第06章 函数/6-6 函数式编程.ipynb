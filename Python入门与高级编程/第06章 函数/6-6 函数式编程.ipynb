{
 "cells": [
  {
   "cell_type": "markdown",
   "metadata": {
    "slideshow": {
     "slide_type": "slide"
    }
   },
   "source": [
    "# 函数式编程\n",
    "\n",
    "Python 是一种动态的，面向对象的解释型程序设计语言，在 Python 中万物皆对象。不过 Python 是支持多范式编程，也支持函数式编程，而且应用非常广泛。要知道，函数式编程可以写出更为精确和高效的代码。\n",
    "\n",
    "以函数式编程时，实现的函数最好是纯函数式函数。有点绕口，纯函数式函数的主要意思就是，一个函数接收参数然后输出结果，不会保留任何状态。"
   ]
  },
  {
   "cell_type": "markdown",
   "metadata": {
    "slideshow": {
     "slide_type": "slide"
    }
   },
   "source": [
    "## 函数式函数\n",
    "\n",
    "Python有一些内置的函数，实现了函数式编程。\n",
    "- `map()`\n",
    "- `filter()`\n",
    "- `enumerate()`\n",
    "- `sorted()`\n",
    "- `any()`\n",
    "- `all()`\n",
    "- `zip()`"
   ]
  },
  {
   "cell_type": "markdown",
   "metadata": {
    "slideshow": {
     "slide_type": "slide"
    }
   },
   "source": [
    "### `map()`\n",
    "\n",
    "内置函数`map()`的语法是\n",
    "```\n",
    "map(func, *iterables)\n",
    "```\n",
    "\n",
    "该函数会对可迭代对象的每一个元素应用于传入的函数，返回可迭代的`map`对象。"
   ]
  },
  {
   "cell_type": "code",
   "execution_count": 1,
   "metadata": {
    "slideshow": {
     "slide_type": "slide"
    }
   },
   "outputs": [
    {
     "name": "stdout",
     "output_type": "stream",
     "text": [
      "<class 'map'> <map object at 0x00000168BBF45EF0>\n",
      "I love Python\n",
      "I love C\n",
      "I love C++\n"
     ]
    }
   ],
   "source": [
    "res = map(lambda x: 'I love {}'.format(x), ['Python', 'C', 'C++'])\n",
    "print(type(res), res)\n",
    "for x in res:\n",
    "    print(x)"
   ]
  },
  {
   "cell_type": "markdown",
   "metadata": {
    "slideshow": {
     "slide_type": "slide"
    }
   },
   "source": [
    "### `filter()`\n",
    "\n",
    "内置函数`filter()`的语法是：\n",
    "```\n",
    "filter(function or None, iterable)\n",
    "```\n",
    "\n",
    "该函数会对可迭代对象的每一个元素应用`function`，对返回结果进行过滤，最后返回一个可迭代的`filter`对象。"
   ]
  },
  {
   "cell_type": "code",
   "execution_count": 2,
   "metadata": {
    "slideshow": {
     "slide_type": "slide"
    }
   },
   "outputs": [
    {
     "name": "stdout",
     "output_type": "stream",
     "text": [
      "<class 'filter'> <filter object at 0x00000168BBF45438>\n",
      "helloworld.py\n",
      "filter.py\n"
     ]
    }
   ],
   "source": [
    "res  = filter(lambda x: x.endswith('.py'), ['helloworld.py', 'filter.py', 'helloworld.cpp'])\n",
    "print(type(res), res)\n",
    "for x in res:\n",
    "    print(x)"
   ]
  },
  {
   "cell_type": "markdown",
   "metadata": {
    "slideshow": {
     "slide_type": "slide"
    }
   },
   "source": [
    "### `enumerate()`\n",
    "\n",
    "内置函数`enumerate()`的语法是：\n",
    "```\n",
    "enumerate(iterable[, start])\n",
    "```\n",
    "\n",
    "对于传入的可迭代对象，`enumerate()`会返回一个可迭代的`enumerate`对象，每个元素是一个元组，包括整数索引和传入可迭代对象的元素。"
   ]
  },
  {
   "cell_type": "code",
   "execution_count": 3,
   "metadata": {
    "slideshow": {
     "slide_type": "slide"
    }
   },
   "outputs": [
    {
     "name": "stdout",
     "output_type": "stream",
     "text": [
      "<class 'enumerate'> <enumerate object at 0x00000168BBF717E0>\n",
      "1 Python\n",
      "2 C\n",
      "3 C++\n"
     ]
    }
   ],
   "source": [
    "alist = ['Python', 'C', 'C++']\n",
    "res = enumerate(alist, 1)\n",
    "print(type(res), res)\n",
    "for i, item in res:\n",
    "    print(i, item)"
   ]
  },
  {
   "cell_type": "markdown",
   "metadata": {
    "slideshow": {
     "slide_type": "slide"
    }
   },
   "source": [
    "### `sorted`\n",
    "\n",
    "`sorted`的语法是：\n",
    "```\n",
    "sorted(iterable, key=None, reverse=False)\n",
    "```\n",
    "\n",
    "该函数对传入的可迭代对象进行排序，返回一个新的列表。参数`key`指定可调用对象，`reverse`指定是否倒序排列。"
   ]
  },
  {
   "cell_type": "code",
   "execution_count": 4,
   "metadata": {
    "slideshow": {
     "slide_type": "slide"
    }
   },
   "outputs": [
    {
     "name": "stdout",
     "output_type": "stream",
     "text": [
      "<class 'list'>\n",
      "['Cplus', 'Python3', 'c', 'python']\n"
     ]
    }
   ],
   "source": [
    "res = sorted(['python', 'Python3', 'Cplus', 'c'])\n",
    "print(type(res))\n",
    "print(res)"
   ]
  },
  {
   "cell_type": "code",
   "execution_count": 5,
   "metadata": {
    "slideshow": {
     "slide_type": "-"
    }
   },
   "outputs": [
    {
     "data": {
      "text/plain": [
       "['Python3', 'python', 'Cplus', 'c']"
      ]
     },
     "execution_count": 5,
     "metadata": {},
     "output_type": "execute_result"
    }
   ],
   "source": [
    "# 倒序排列\n",
    "sorted(['python', 'Python3', 'Cplus', 'c'], key=str.upper, reverse=True)"
   ]
  },
  {
   "cell_type": "markdown",
   "metadata": {
    "slideshow": {
     "slide_type": "slide"
    }
   },
   "source": [
    "### `all()`\n",
    "\n",
    "\n",
    "`all()`的语法是：\n",
    "```\n",
    "all(iterable)\n",
    "```\n",
    "\n",
    "该函数传入一个可迭代对象，全部元素`bool`运算值为`True`则返回`True`，否则返回`False`。"
   ]
  },
  {
   "cell_type": "code",
   "execution_count": 6,
   "metadata": {
    "slideshow": {
     "slide_type": "-"
    }
   },
   "outputs": [
    {
     "data": {
      "text/plain": [
       "True"
      ]
     },
     "execution_count": 6,
     "metadata": {},
     "output_type": "execute_result"
    }
   ],
   "source": [
    "all([True, 1, 'a string'])"
   ]
  },
  {
   "cell_type": "markdown",
   "metadata": {
    "slideshow": {
     "slide_type": "slide"
    }
   },
   "source": [
    "### `any()`\n",
    "\n",
    "\n",
    "`any()`的语法是：\n",
    "```\n",
    "any(iterable)\n",
    "```\n",
    "\n",
    "该函数传入一个可迭代对象，任一元素的`bool`运算值为`True`则返回`True`，否则返回`False`。"
   ]
  },
  {
   "cell_type": "code",
   "execution_count": 7,
   "metadata": {
    "slideshow": {
     "slide_type": "-"
    }
   },
   "outputs": [
    {
     "data": {
      "text/plain": [
       "False"
      ]
     },
     "execution_count": 7,
     "metadata": {},
     "output_type": "execute_result"
    }
   ],
   "source": [
    "any([False, 0, 0.0, 0+0j, '', [], (), {}, set(), None])"
   ]
  },
  {
   "cell_type": "markdown",
   "metadata": {
    "slideshow": {
     "slide_type": "slide"
    }
   },
   "source": [
    "### `zip()`\n",
    "\n",
    "`zip()`的语法是：\n",
    "```\n",
    "zip(iter1 [,iter2 [...]])\n",
    "```\n",
    "\n",
    "该函数传入多个序列，然后组合成元组。返回一个可迭代的`zip``对象。"
   ]
  },
  {
   "cell_type": "code",
   "execution_count": 8,
   "metadata": {
    "slideshow": {
     "slide_type": "slide"
    }
   },
   "outputs": [],
   "source": [
    "langs = ['Python', 'C', 'C++']\n",
    "authors = 'Guido van Rossum', 'Dennis Ritchie', 'Bjarne Stroustrup'\n",
    "grades = range(3)"
   ]
  },
  {
   "cell_type": "code",
   "execution_count": 9,
   "metadata": {
    "slideshow": {
     "slide_type": "-"
    }
   },
   "outputs": [
    {
     "name": "stdout",
     "output_type": "stream",
     "text": [
      "<class 'zip'> <zip object at 0x00000168BBF6D0C8>\n",
      "('Python', 'Guido van Rossum', 0)\n",
      "('C', 'Dennis Ritchie', 1)\n",
      "('C++', 'Bjarne Stroustrup', 2)\n"
     ]
    }
   ],
   "source": [
    "res = zip(langs, authors, grades)\n",
    "print(type(res), res)\n",
    "for x in res:\n",
    "    print(x)"
   ]
  },
  {
   "cell_type": "markdown",
   "metadata": {
    "slideshow": {
     "slide_type": "slide"
    }
   },
   "source": [
    "Python标准库`itertools`模块提供更多的有用函数。在标准库一章中会继续介绍。"
   ]
  }
 ],
 "metadata": {
  "celltoolbar": "Slideshow",
  "kernelspec": {
   "display_name": "Python 3",
   "language": "python",
   "name": "python3"
  },
  "language_info": {
   "codemirror_mode": {
    "name": "ipython",
    "version": 3
   },
   "file_extension": ".py",
   "mimetype": "text/x-python",
   "name": "python",
   "nbconvert_exporter": "python",
   "pygments_lexer": "ipython3",
   "version": "3.6.4"
  },
  "toc": {
   "base_numbering": 1,
   "nav_menu": {},
   "number_sections": true,
   "sideBar": true,
   "skip_h1_title": false,
   "title_cell": "Table of Contents",
   "title_sidebar": "Contents",
   "toc_cell": false,
   "toc_position": {},
   "toc_section_display": true,
   "toc_window_display": false
  }
 },
 "nbformat": 4,
 "nbformat_minor": 2
}
