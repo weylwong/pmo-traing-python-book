{
 "cells": [
  {
   "cell_type": "markdown",
   "metadata": {
    "slideshow": {
     "slide_type": "slide"
    }
   },
   "source": [
    "# 递归函数\n",
    "\n",
    "![蛇吞尾](../images/Uroborus.jpg)\n",
    "上图为衔尾蛇，也称为蛇吞尾，据说最早出现于埃及，象征着永恒、轮回、无穷大、循环。"
   ]
  },
  {
   "cell_type": "markdown",
   "metadata": {},
   "source": [
    "在定义函数时，会调用其它函数，例如 Python 内置函数。当函数定义完后，又可以在其它地方进行调用。那什么是递归函数呢？当一个函数直接或间接调用函数自身，则称该函数称为递归函数，这与知名的衔尾蛇有点相像。"
   ]
  },
  {
   "cell_type": "markdown",
   "metadata": {
    "slideshow": {
     "slide_type": "slide"
    }
   },
   "source": [
    "递归（recursion）有无穷尽循环的意思，下面代码定义一个最简单的递归函数："
   ]
  },
  {
   "cell_type": "code",
   "execution_count": null,
   "metadata": {
    "slideshow": {
     "slide_type": "-"
    }
   },
   "outputs": [],
   "source": [
    "def recursion():\n",
    "    print('recursion...')\n",
    "    return recursion()"
   ]
  },
  {
   "cell_type": "markdown",
   "metadata": {},
   "source": [
    "递归函数仍然是函数(function)的实例对象，可以使用 `type()` 查看递归函数的类型："
   ]
  },
  {
   "cell_type": "code",
   "execution_count": null,
   "metadata": {},
   "outputs": [],
   "source": [
    "print(type(recursion))"
   ]
  },
  {
   "cell_type": "markdown",
   "metadata": {
    "slideshow": {
     "slide_type": "slide"
    }
   },
   "source": [
    "显而易见，调用这个递归函数，会不停地打印递归信息。不过，最终函数会抛出`RecursionError`异常。在调用函数时，Python 会分配一些内存，当进行太多函数调用时，空间不够引起递归异常，会显示错误信息为“最大递归深度超出”："
   ]
  },
  {
   "cell_type": "code",
   "execution_count": null,
   "metadata": {},
   "outputs": [],
   "source": [
    "recursion()"
   ]
  },
  {
   "cell_type": "markdown",
   "metadata": {
    "slideshow": {
     "slide_type": "slide"
    }
   },
   "source": [
    "上述递归称为无限递归（infinite recursion），编写有用的递归函数，就要避免出现无限递归，得有办法让递归停下来。\n",
    "\n",
    "下面来实现经典递归函数案例阶乘计算，其算法是：已知正整数`n`，计算乘积$n\\times(n-1)\\times\\cdots\\times1$。先用常规方法实现阶乘："
   ]
  },
  {
   "cell_type": "code",
   "execution_count": null,
   "metadata": {
    "slideshow": {
     "slide_type": "slide"
    }
   },
   "outputs": [],
   "source": [
    "def factorial(n):\n",
    "    \"\"\"return the factorial of a number\"\"\"\n",
    "    result = n\n",
    "    for i in range(1, n):\n",
    "        result *= i\n",
    "    return result"
   ]
  },
  {
   "cell_type": "code",
   "execution_count": null,
   "metadata": {
    "slideshow": {
     "slide_type": "-"
    }
   },
   "outputs": [],
   "source": [
    "factorial(5)"
   ]
  },
  {
   "cell_type": "markdown",
   "metadata": {
    "slideshow": {
     "slide_type": "slide"
    }
   },
   "source": [
    "接着用递归的方法来实现。根据阶乘的定义可知，$n!$等于$n*(n-1)!$`，而$(n-1)!$又等于$(n-1)*(n-2)!$，如此循环下去，直到整数$n<2$时，其结果为$1$，即退出循环："
   ]
  },
  {
   "cell_type": "code",
   "execution_count": null,
   "metadata": {
    "slideshow": {
     "slide_type": "slide"
    }
   },
   "outputs": [],
   "source": [
    "def factorial2(n):\n",
    "    \"\"\"return a factorial of a number n with recursion\"\"\"\n",
    "    if n < 2:\n",
    "        print('recursion {} finished'.format(n))\n",
    "        return 1\n",
    "    else:\n",
    "        print('recursion {}'.format(n))\n",
    "        return n * factorial2(n-1)"
   ]
  },
  {
   "cell_type": "code",
   "execution_count": null,
   "metadata": {
    "slideshow": {
     "slide_type": "slide"
    }
   },
   "outputs": [],
   "source": [
    "factorial2(5)"
   ]
  },
  {
   "cell_type": "markdown",
   "metadata": {},
   "source": [
    "最后去除打印语句，重构阶乘函数："
   ]
  },
  {
   "cell_type": "code",
   "execution_count": null,
   "metadata": {},
   "outputs": [],
   "source": [
    "def factorial3(n):\n",
    "    \"\"\"return n!\"\"\"\n",
    "    return 1 if n < 2 else n * factorial3(n-1)"
   ]
  },
  {
   "cell_type": "code",
   "execution_count": null,
   "metadata": {},
   "outputs": [],
   "source": [
    "factorial3(5)"
   ]
  },
  {
   "cell_type": "markdown",
   "metadata": {
    "slideshow": {
     "slide_type": "slide"
    }
   },
   "source": [
    "基本上,递归函数都可以用循环来替代，甚至使用循环效率更高效。那为什么还使用递归函数呢？使用递归函数，代码可读性更高，但前提是理解了递归函数的定义。"
   ]
  }
 ],
 "metadata": {
  "kernelspec": {
   "display_name": "Python 3",
   "language": "python",
   "name": "python3"
  },
  "language_info": {
   "codemirror_mode": {
    "name": "ipython",
    "version": 3
   },
   "file_extension": ".py",
   "mimetype": "text/x-python",
   "name": "python",
   "nbconvert_exporter": "python",
   "pygments_lexer": "ipython3",
   "version": "3.6.4"
  },
  "toc": {
   "base_numbering": 1,
   "nav_menu": {},
   "number_sections": true,
   "sideBar": true,
   "skip_h1_title": false,
   "title_cell": "Table of Contents",
   "title_sidebar": "Contents",
   "toc_cell": false,
   "toc_position": {
    "height": "calc(100% - 180px)",
    "left": "10px",
    "top": "150px",
    "width": "239px"
   },
   "toc_section_display": true,
   "toc_window_display": false
  }
 },
 "nbformat": 4,
 "nbformat_minor": 1
}
