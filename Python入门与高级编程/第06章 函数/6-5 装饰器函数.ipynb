{
 "cells": [
  {
   "cell_type": "markdown",
   "metadata": {
    "slideshow": {
     "slide_type": "slide"
    }
   },
   "source": [
    "# 装饰器\n",
    "\n"
   ]
  },
  {
   "cell_type": "markdown",
   "metadata": {
    "slideshow": {
     "slide_type": "slide"
    }
   },
   "source": [
    "## 从debug版本说起\n",
    "\n",
    "大家也许经常听说，一个程序有release和debug版本。release是正式版，可执行文件较小，运行速度较快。debug版本是调试版本，可执行文件比较大，代码运行较慢，可以使用单步执行、跟踪等功能。除此之外，debug版本会打印更多信息。"
   ]
  },
  {
   "cell_type": "markdown",
   "metadata": {
    "slideshow": {
     "slide_type": "slide"
    }
   },
   "source": [
    "假定我们有一个非常简单的函数，返回两个参数的和。"
   ]
  },
  {
   "cell_type": "code",
   "execution_count": 2,
   "metadata": {
    "slideshow": {
     "slide_type": "-"
    }
   },
   "outputs": [],
   "source": [
    "def add(x, y):\n",
    "    \"\"\"return the sum of two argument\"\"\"\n",
    "    return x + y"
   ]
  },
  {
   "cell_type": "code",
   "execution_count": 3,
   "metadata": {
    "slideshow": {
     "slide_type": "slide"
    }
   },
   "outputs": [
    {
     "name": "stdout",
     "output_type": "stream",
     "text": [
      "3 3.0\n"
     ]
    },
    {
     "ename": "TypeError",
     "evalue": "must be str, not float",
     "output_type": "error",
     "traceback": [
      "\u001b[1;31m---------------------------------------------------------------------------\u001b[0m",
      "\u001b[1;31mTypeError\u001b[0m                                 Traceback (most recent call last)",
      "\u001b[1;32m<ipython-input-3-0487f4abdffe>\u001b[0m in \u001b[0;36m<module>\u001b[1;34m()\u001b[0m\n\u001b[0;32m      1\u001b[0m \u001b[0mprint\u001b[0m\u001b[1;33m(\u001b[0m\u001b[0madd\u001b[0m\u001b[1;33m(\u001b[0m\u001b[1;36m1\u001b[0m\u001b[1;33m,\u001b[0m \u001b[1;36m2\u001b[0m\u001b[1;33m)\u001b[0m\u001b[1;33m,\u001b[0m \u001b[0madd\u001b[0m\u001b[1;33m(\u001b[0m\u001b[1;36m1.0\u001b[0m\u001b[1;33m,\u001b[0m \u001b[1;36m2.0\u001b[0m\u001b[1;33m)\u001b[0m\u001b[1;33m)\u001b[0m\u001b[1;33m\u001b[0m\u001b[0m\n\u001b[1;32m----> 2\u001b[1;33m \u001b[0mprint\u001b[0m\u001b[1;33m(\u001b[0m\u001b[0madd\u001b[0m\u001b[1;33m(\u001b[0m\u001b[1;34m'1.0'\u001b[0m\u001b[1;33m,\u001b[0m \u001b[1;36m2.0\u001b[0m\u001b[1;33m)\u001b[0m\u001b[1;33m)\u001b[0m\u001b[1;33m\u001b[0m\u001b[0m\n\u001b[0m",
      "\u001b[1;32m<ipython-input-2-6d9a97cb6fec>\u001b[0m in \u001b[0;36madd\u001b[1;34m(x, y)\u001b[0m\n\u001b[0;32m      1\u001b[0m \u001b[1;32mdef\u001b[0m \u001b[0madd\u001b[0m\u001b[1;33m(\u001b[0m\u001b[0mx\u001b[0m\u001b[1;33m,\u001b[0m \u001b[0my\u001b[0m\u001b[1;33m)\u001b[0m\u001b[1;33m:\u001b[0m\u001b[1;33m\u001b[0m\u001b[0m\n\u001b[0;32m      2\u001b[0m     \u001b[1;34m\"\"\"return the sum of two argument\"\"\"\u001b[0m\u001b[1;33m\u001b[0m\u001b[0m\n\u001b[1;32m----> 3\u001b[1;33m     \u001b[1;32mreturn\u001b[0m \u001b[0mx\u001b[0m \u001b[1;33m+\u001b[0m \u001b[0my\u001b[0m\u001b[1;33m\u001b[0m\u001b[0m\n\u001b[0m",
      "\u001b[1;31mTypeError\u001b[0m: must be str, not float"
     ]
    }
   ],
   "source": [
    "print(add(1, 2), add(1.0, 2.0))\n",
    "print(add('1.0', 2.0))"
   ]
  },
  {
   "cell_type": "markdown",
   "metadata": {
    "slideshow": {
     "slide_type": "slide"
    }
   },
   "source": [
    "希望有一个debug版本，可以打印出函数输入及其参数，以及返回结果。可以利用Python中内置常量`__debug__`来轻松实现。运行Python时`__debug__`值为`True`，当使用选项`-O`会其值`False`。"
   ]
  },
  {
   "cell_type": "code",
   "execution_count": 4,
   "metadata": {
    "slideshow": {
     "slide_type": "slide"
    }
   },
   "outputs": [],
   "source": [
    "import time\n",
    "\n",
    "def add_debug(x, y):\n",
    "    \"\"\"the add debug function\"\"\"\n",
    "    if __debug__:\n",
    "        print(time.time(), 'add entry...')\n",
    "        print(time.time(), x, type(x))\n",
    "        print(time.time(), y, type(y))\n",
    "        \n",
    "    result = x + y\n",
    "    \n",
    "    if __debug__:\n",
    "        print(time.time(), result, type(result))\n",
    "        print(time.time(), 'add exit')\n",
    "        \n",
    "    return result"
   ]
  },
  {
   "cell_type": "code",
   "execution_count": 6,
   "metadata": {
    "slideshow": {
     "slide_type": "slide"
    }
   },
   "outputs": [
    {
     "name": "stdout",
     "output_type": "stream",
     "text": [
      "1554107138.351714 add entry...\n",
      "1554107138.3527093 1 <class 'int'>\n",
      "1554107138.3527093 2 <class 'int'>\n",
      "1554107138.3527093 3 <class 'int'>\n",
      "1554107138.353713 add exit\n",
      "1554107138.353713 add entry...\n",
      "1554107138.3546538 1.0 <class 'float'>\n",
      "1554107138.3547242 2.0 <class 'float'>\n",
      "1554107138.3547242 3.0 <class 'float'>\n",
      "1554107138.3547242 add exit\n"
     ]
    },
    {
     "data": {
      "text/plain": [
       "3.0"
      ]
     },
     "execution_count": 6,
     "metadata": {},
     "output_type": "execute_result"
    }
   ],
   "source": [
    "add_debug(1, 2)\n",
    "add_debug(1.0, 2.0)"
   ]
  },
  {
   "cell_type": "code",
   "execution_count": 7,
   "metadata": {
    "slideshow": {
     "slide_type": "slide"
    }
   },
   "outputs": [
    {
     "name": "stdout",
     "output_type": "stream",
     "text": [
      "1554107145.1006548 add entry...\n",
      "1554107145.1006548 1 <class 'int'>\n",
      "1554107145.1016533 x <class 'str'>\n"
     ]
    },
    {
     "ename": "TypeError",
     "evalue": "unsupported operand type(s) for +: 'int' and 'str'",
     "output_type": "error",
     "traceback": [
      "\u001b[1;31m---------------------------------------------------------------------------\u001b[0m",
      "\u001b[1;31mTypeError\u001b[0m                                 Traceback (most recent call last)",
      "\u001b[1;32m<ipython-input-7-94b8c730663a>\u001b[0m in \u001b[0;36m<module>\u001b[1;34m()\u001b[0m\n\u001b[1;32m----> 1\u001b[1;33m \u001b[0madd_debug\u001b[0m\u001b[1;33m(\u001b[0m\u001b[1;36m1\u001b[0m\u001b[1;33m,\u001b[0m \u001b[1;34m'x'\u001b[0m\u001b[1;33m)\u001b[0m\u001b[1;33m\u001b[0m\u001b[0m\n\u001b[0m",
      "\u001b[1;32m<ipython-input-4-947e9954857e>\u001b[0m in \u001b[0;36madd_debug\u001b[1;34m(x, y)\u001b[0m\n\u001b[0;32m      8\u001b[0m         \u001b[0mprint\u001b[0m\u001b[1;33m(\u001b[0m\u001b[0mtime\u001b[0m\u001b[1;33m.\u001b[0m\u001b[0mtime\u001b[0m\u001b[1;33m(\u001b[0m\u001b[1;33m)\u001b[0m\u001b[1;33m,\u001b[0m \u001b[0my\u001b[0m\u001b[1;33m,\u001b[0m \u001b[0mtype\u001b[0m\u001b[1;33m(\u001b[0m\u001b[0my\u001b[0m\u001b[1;33m)\u001b[0m\u001b[1;33m)\u001b[0m\u001b[1;33m\u001b[0m\u001b[0m\n\u001b[0;32m      9\u001b[0m \u001b[1;33m\u001b[0m\u001b[0m\n\u001b[1;32m---> 10\u001b[1;33m     \u001b[0mresult\u001b[0m \u001b[1;33m=\u001b[0m \u001b[0mx\u001b[0m \u001b[1;33m+\u001b[0m \u001b[0my\u001b[0m\u001b[1;33m\u001b[0m\u001b[0m\n\u001b[0m\u001b[0;32m     11\u001b[0m \u001b[1;33m\u001b[0m\u001b[0m\n\u001b[0;32m     12\u001b[0m     \u001b[1;32mif\u001b[0m \u001b[0m__debug__\u001b[0m\u001b[1;33m:\u001b[0m\u001b[1;33m\u001b[0m\u001b[0m\n",
      "\u001b[1;31mTypeError\u001b[0m: unsupported operand type(s) for +: 'int' and 'str'"
     ]
    }
   ],
   "source": [
    "add_debug(1, 'x')"
   ]
  },
  {
   "cell_type": "code",
   "execution_count": 8,
   "metadata": {
    "slideshow": {
     "slide_type": "slide"
    }
   },
   "outputs": [
    {
     "name": "stdout",
     "output_type": "stream",
     "text": [
      "Writing add_debug.py\n"
     ]
    }
   ],
   "source": [
    "%%writefile add_debug.py\n",
    "import time\n",
    "\n",
    "def add_debug(x, y):\n",
    "    \"\"\"the add debug function\"\"\"\n",
    "    if __debug__:\n",
    "        print(time.time(), 'add entry...')\n",
    "        print(time.time(), x, type(x))\n",
    "        print(time.time(), y, type(y))\n",
    "        \n",
    "    result = x + y\n",
    "    \n",
    "    if __debug__:\n",
    "        print(time.time(), result, type(result))\n",
    "        print(time.time(), 'add exit')\n",
    "        \n",
    "    return result\n",
    "\n",
    "add_debug(1, 2)\n",
    "add_debug(1.0, 2.0)\n",
    "add_debug(1.0, 'str')"
   ]
  },
  {
   "cell_type": "code",
   "execution_count": 9,
   "metadata": {
    "slideshow": {
     "slide_type": "slide"
    }
   },
   "outputs": [
    {
     "name": "stdout",
     "output_type": "stream",
     "text": [
      "1554107229.6863425 add entry...\n",
      "1554107229.6863425 1 <class 'int'>\n",
      "1554107229.6863425 2 <class 'int'>\n",
      "1554107229.6863425 3 <class 'int'>\n",
      "1554107229.6863425 add exit\n",
      "1554107229.6863425 add entry...\n",
      "1554107229.6863425 1.0 <class 'float'>\n",
      "1554107229.6863425 2.0 <class 'float'>\n",
      "1554107229.6863425 3.0 <class 'float'>\n",
      "1554107229.6863425 add exit\n",
      "1554107229.6863425 add entry...\n",
      "1554107229.6863425 1.0 <class 'float'>\n",
      "1554107229.6863425 str <class 'str'>\n"
     ]
    },
    {
     "name": "stderr",
     "output_type": "stream",
     "text": [
      "Traceback (most recent call last):\n",
      "  File \"add_debug.py\", line 20, in <module>\n",
      "    add_debug(1.0, 'str')\n",
      "  File \"add_debug.py\", line 10, in add_debug\n",
      "    result = x + y\n",
      "TypeError: unsupported operand type(s) for +: 'float' and 'str'\n"
     ]
    }
   ],
   "source": [
    "!python add_debug.py"
   ]
  },
  {
   "cell_type": "code",
   "execution_count": 10,
   "metadata": {
    "slideshow": {
     "slide_type": "slide"
    }
   },
   "outputs": [
    {
     "name": "stderr",
     "output_type": "stream",
     "text": [
      "Traceback (most recent call last):\n",
      "  File \"add_debug.py\", line 20, in <module>\n",
      "    add_debug(1.0, 'str')\n",
      "  File \"add_debug.py\", line 10, in add_debug\n",
      "    result = x + y\n",
      "TypeError: unsupported operand type(s) for +: 'float' and 'str'\n"
     ]
    }
   ],
   "source": [
    "!python -O add_debug.py"
   ]
  },
  {
   "cell_type": "markdown",
   "metadata": {
    "slideshow": {
     "slide_type": "slide"
    }
   },
   "source": [
    "对于一个已知函数，有时需要增加一些新的功能，如这里示例所示要增加一些debug信息。当前这个方法显得很费事。不过，在Python中函数也是对象，也可以作为参数来传递，故可以通过传入已知函数名来实现debug功能。"
   ]
  },
  {
   "cell_type": "code",
   "execution_count": 11,
   "metadata": {
    "slideshow": {
     "slide_type": "slide"
    }
   },
   "outputs": [
    {
     "name": "stdout",
     "output_type": "stream",
     "text": [
      "1554107453.1154244 function add entry...\n",
      "1554107453.1154244 1 <class 'int'>\n",
      "1554107453.1154244 2 <class 'int'>\n",
      "1554107453.1154244 3 <class 'int'>\n",
      "1554107453.1164215 function add exit\n",
      "1554107453.1164215 function add entry...\n",
      "1554107453.1164215 1.0 <class 'float'>\n",
      "1554107453.1174185 2.0 <class 'float'>\n",
      "1554107453.1187825 3.0 <class 'float'>\n",
      "1554107453.1187825 function add exit\n",
      "1554107453.1187825 function add entry...\n",
      "1554107453.1187825 1.0 <class 'float'>\n",
      "1554107453.119413 str <class 'str'>\n"
     ]
    },
    {
     "ename": "TypeError",
     "evalue": "unsupported operand type(s) for +: 'float' and 'str'",
     "output_type": "error",
     "traceback": [
      "\u001b[1;31m---------------------------------------------------------------------------\u001b[0m",
      "\u001b[1;31mTypeError\u001b[0m                                 Traceback (most recent call last)",
      "\u001b[1;32m<ipython-input-11-63840a650641>\u001b[0m in \u001b[0;36m<module>\u001b[1;34m()\u001b[0m\n\u001b[0;32m     18\u001b[0m \u001b[0madd_debug2\u001b[0m\u001b[1;33m(\u001b[0m\u001b[0madd\u001b[0m\u001b[1;33m,\u001b[0m \u001b[1;36m1\u001b[0m\u001b[1;33m,\u001b[0m \u001b[1;36m2\u001b[0m\u001b[1;33m)\u001b[0m\u001b[1;33m\u001b[0m\u001b[0m\n\u001b[0;32m     19\u001b[0m \u001b[0madd_debug2\u001b[0m\u001b[1;33m(\u001b[0m\u001b[0madd\u001b[0m\u001b[1;33m,\u001b[0m \u001b[1;36m1.0\u001b[0m\u001b[1;33m,\u001b[0m \u001b[1;36m2.0\u001b[0m\u001b[1;33m)\u001b[0m\u001b[1;33m\u001b[0m\u001b[0m\n\u001b[1;32m---> 20\u001b[1;33m \u001b[0madd_debug2\u001b[0m\u001b[1;33m(\u001b[0m\u001b[0madd\u001b[0m\u001b[1;33m,\u001b[0m \u001b[1;36m1.0\u001b[0m\u001b[1;33m,\u001b[0m \u001b[1;34m'str'\u001b[0m\u001b[1;33m)\u001b[0m\u001b[1;33m\u001b[0m\u001b[0m\n\u001b[0m",
      "\u001b[1;32m<ipython-input-11-63840a650641>\u001b[0m in \u001b[0;36madd_debug2\u001b[1;34m(func, x, y)\u001b[0m\n\u001b[0;32m      8\u001b[0m         \u001b[0mprint\u001b[0m\u001b[1;33m(\u001b[0m\u001b[0mtime\u001b[0m\u001b[1;33m.\u001b[0m\u001b[0mtime\u001b[0m\u001b[1;33m(\u001b[0m\u001b[1;33m)\u001b[0m\u001b[1;33m,\u001b[0m \u001b[0my\u001b[0m\u001b[1;33m,\u001b[0m \u001b[0mtype\u001b[0m\u001b[1;33m(\u001b[0m\u001b[0my\u001b[0m\u001b[1;33m)\u001b[0m\u001b[1;33m)\u001b[0m\u001b[1;33m\u001b[0m\u001b[0m\n\u001b[0;32m      9\u001b[0m \u001b[1;33m\u001b[0m\u001b[0m\n\u001b[1;32m---> 10\u001b[1;33m     \u001b[0mresult\u001b[0m \u001b[1;33m=\u001b[0m \u001b[0mfunc\u001b[0m\u001b[1;33m(\u001b[0m\u001b[0mx\u001b[0m\u001b[1;33m,\u001b[0m \u001b[0my\u001b[0m\u001b[1;33m)\u001b[0m\u001b[1;33m\u001b[0m\u001b[0m\n\u001b[0m\u001b[0;32m     11\u001b[0m \u001b[1;33m\u001b[0m\u001b[0m\n\u001b[0;32m     12\u001b[0m     \u001b[1;32mif\u001b[0m \u001b[0m__debug__\u001b[0m\u001b[1;33m:\u001b[0m\u001b[1;33m\u001b[0m\u001b[0m\n",
      "\u001b[1;32m<ipython-input-2-6d9a97cb6fec>\u001b[0m in \u001b[0;36madd\u001b[1;34m(x, y)\u001b[0m\n\u001b[0;32m      1\u001b[0m \u001b[1;32mdef\u001b[0m \u001b[0madd\u001b[0m\u001b[1;33m(\u001b[0m\u001b[0mx\u001b[0m\u001b[1;33m,\u001b[0m \u001b[0my\u001b[0m\u001b[1;33m)\u001b[0m\u001b[1;33m:\u001b[0m\u001b[1;33m\u001b[0m\u001b[0m\n\u001b[0;32m      2\u001b[0m     \u001b[1;34m\"\"\"return the sum of two argument\"\"\"\u001b[0m\u001b[1;33m\u001b[0m\u001b[0m\n\u001b[1;32m----> 3\u001b[1;33m     \u001b[1;32mreturn\u001b[0m \u001b[0mx\u001b[0m \u001b[1;33m+\u001b[0m \u001b[0my\u001b[0m\u001b[1;33m\u001b[0m\u001b[0m\n\u001b[0m",
      "\u001b[1;31mTypeError\u001b[0m: unsupported operand type(s) for +: 'float' and 'str'"
     ]
    }
   ],
   "source": [
    "import time\n",
    "\n",
    "def add_debug2(func, x, y):\n",
    "    \"\"\"the add debug function\"\"\"\n",
    "    if __debug__:\n",
    "        print(time.time(), 'function {} entry...'.format(func.__name__))\n",
    "        print(time.time(), x, type(x))\n",
    "        print(time.time(), y, type(y))\n",
    "        \n",
    "    result = func(x, y)\n",
    "    \n",
    "    if __debug__:\n",
    "        print(time.time(), result, type(result))\n",
    "        print(time.time(), 'function {} exit'.format(func.__name__))\n",
    "        \n",
    "    return result\n",
    "\n",
    "add_debug2(add, 1, 2)\n",
    "add_debug2(add, 1.0, 2.0)\n",
    "add_debug2(add, 1.0, 'str')"
   ]
  },
  {
   "cell_type": "markdown",
   "metadata": {
    "slideshow": {
     "slide_type": "slide"
    }
   },
   "source": [
    "尽管这里不用修改原定义的`add`函数，但是由于创建了新的函数，所有调用`add`函数的地方都需要更改。"
   ]
  },
  {
   "cell_type": "markdown",
   "metadata": {
    "slideshow": {
     "slide_type": "slide"
    }
   },
   "source": [
    "## 装饰器基础\n",
    "\n",
    "在Python函数中，可以传入函数参数，还可以定义函数并返回函数对象。下面进一步简化debug版函数。"
   ]
  },
  {
   "cell_type": "code",
   "execution_count": 12,
   "metadata": {
    "slideshow": {
     "slide_type": "slide"
    }
   },
   "outputs": [],
   "source": [
    "import time\n",
    "\n",
    "def add_debug3(func):\n",
    "    \"\"\"the add debug function\"\"\"\n",
    "    def new_add(x, y):\n",
    "        \"\"\"a new add function\"\"\"\n",
    "        if __debug__:\n",
    "            print(time.time(), 'function {} entry...'.format(func.__name__))\n",
    "            print(time.time(), x, type(x))\n",
    "            print(time.time(), y, type(y))\n",
    "        \n",
    "        result = func(x, y)\n",
    "        \n",
    "        if __debug__:\n",
    "            print(time.time(), result, type(result))\n",
    "            print(time.time(), 'function {} exit'.format(func.__name__))\n",
    "        \n",
    "        return result\n",
    "    \n",
    "    return new_add"
   ]
  },
  {
   "cell_type": "markdown",
   "metadata": {
    "slideshow": {
     "slide_type": "slide"
    }
   },
   "source": [
    "然后，调用函数`add_debug3`，传入`add`函数对象，会返回新的函数对象。"
   ]
  },
  {
   "cell_type": "code",
   "execution_count": 13,
   "metadata": {
    "slideshow": {
     "slide_type": "-"
    }
   },
   "outputs": [],
   "source": [
    "add2 = add_debug3(add)"
   ]
  },
  {
   "cell_type": "markdown",
   "metadata": {
    "slideshow": {
     "slide_type": "slide"
    }
   },
   "source": [
    "使用自省的方法，检查这两个函数的差异。"
   ]
  },
  {
   "cell_type": "code",
   "execution_count": 14,
   "metadata": {},
   "outputs": [
    {
     "name": "stdout",
     "output_type": "stream",
     "text": [
      "<class 'function'> <class 'function'>\n",
      "<function add at 0x0000024972F120D0> <function add_debug3.<locals>.new_add at 0x0000024972F49048>\n",
      "return the sum of two argument\n",
      "a new add function\n"
     ]
    }
   ],
   "source": [
    "print(type(add), type(add2))\n",
    "print(add, add2)\n",
    "print(add.__doc__)\n",
    "print(add2.__doc__)"
   ]
  },
  {
   "cell_type": "markdown",
   "metadata": {
    "slideshow": {
     "slide_type": "slide"
    }
   },
   "source": [
    "可以看出返回的`add2`函数仍然是函数，只不过是`add_debug3`中的子函数。可以调用函数。"
   ]
  },
  {
   "cell_type": "code",
   "execution_count": 15,
   "metadata": {
    "slideshow": {
     "slide_type": "-"
    }
   },
   "outputs": [
    {
     "name": "stdout",
     "output_type": "stream",
     "text": [
      "1554107630.4399164 function add entry...\n",
      "1554107630.4399164 1 <class 'int'>\n",
      "1554107630.4399164 2 <class 'int'>\n",
      "1554107630.4399164 3 <class 'int'>\n",
      "1554107630.4419124 function add exit\n",
      "1554107630.4419124 function add entry...\n",
      "1554107630.4419124 1.0 <class 'float'>\n",
      "1554107630.4419124 2.0 <class 'float'>\n",
      "1554107630.4429085 3.0 <class 'float'>\n",
      "1554107630.4439065 function add exit\n",
      "3 3.0\n"
     ]
    }
   ],
   "source": [
    "print(add2(1, 2), add2(1.0, 2.0))"
   ]
  },
  {
   "cell_type": "code",
   "execution_count": 16,
   "metadata": {
    "slideshow": {
     "slide_type": "slide"
    }
   },
   "outputs": [
    {
     "name": "stdout",
     "output_type": "stream",
     "text": [
      "1554107642.1497366 function add entry...\n",
      "1554107642.1497366 1.0 <class 'str'>\n",
      "1554107642.1497366 2.0 <class 'float'>\n"
     ]
    },
    {
     "ename": "TypeError",
     "evalue": "must be str, not float",
     "output_type": "error",
     "traceback": [
      "\u001b[1;31m---------------------------------------------------------------------------\u001b[0m",
      "\u001b[1;31mTypeError\u001b[0m                                 Traceback (most recent call last)",
      "\u001b[1;32m<ipython-input-16-58a8b0acccff>\u001b[0m in \u001b[0;36m<module>\u001b[1;34m()\u001b[0m\n\u001b[1;32m----> 1\u001b[1;33m \u001b[0mprint\u001b[0m\u001b[1;33m(\u001b[0m\u001b[0madd2\u001b[0m\u001b[1;33m(\u001b[0m\u001b[1;34m'1.0'\u001b[0m\u001b[1;33m,\u001b[0m \u001b[1;36m2.0\u001b[0m\u001b[1;33m)\u001b[0m\u001b[1;33m)\u001b[0m\u001b[1;33m\u001b[0m\u001b[0m\n\u001b[0m",
      "\u001b[1;32m<ipython-input-12-474eedd3fa39>\u001b[0m in \u001b[0;36mnew_add\u001b[1;34m(x, y)\u001b[0m\n\u001b[0;32m     10\u001b[0m             \u001b[0mprint\u001b[0m\u001b[1;33m(\u001b[0m\u001b[0mtime\u001b[0m\u001b[1;33m.\u001b[0m\u001b[0mtime\u001b[0m\u001b[1;33m(\u001b[0m\u001b[1;33m)\u001b[0m\u001b[1;33m,\u001b[0m \u001b[0my\u001b[0m\u001b[1;33m,\u001b[0m \u001b[0mtype\u001b[0m\u001b[1;33m(\u001b[0m\u001b[0my\u001b[0m\u001b[1;33m)\u001b[0m\u001b[1;33m)\u001b[0m\u001b[1;33m\u001b[0m\u001b[0m\n\u001b[0;32m     11\u001b[0m \u001b[1;33m\u001b[0m\u001b[0m\n\u001b[1;32m---> 12\u001b[1;33m         \u001b[0mresult\u001b[0m \u001b[1;33m=\u001b[0m \u001b[0mfunc\u001b[0m\u001b[1;33m(\u001b[0m\u001b[0mx\u001b[0m\u001b[1;33m,\u001b[0m \u001b[0my\u001b[0m\u001b[1;33m)\u001b[0m\u001b[1;33m\u001b[0m\u001b[0m\n\u001b[0m\u001b[0;32m     13\u001b[0m \u001b[1;33m\u001b[0m\u001b[0m\n\u001b[0;32m     14\u001b[0m         \u001b[1;32mif\u001b[0m \u001b[0m__debug__\u001b[0m\u001b[1;33m:\u001b[0m\u001b[1;33m\u001b[0m\u001b[0m\n",
      "\u001b[1;32m<ipython-input-2-6d9a97cb6fec>\u001b[0m in \u001b[0;36madd\u001b[1;34m(x, y)\u001b[0m\n\u001b[0;32m      1\u001b[0m \u001b[1;32mdef\u001b[0m \u001b[0madd\u001b[0m\u001b[1;33m(\u001b[0m\u001b[0mx\u001b[0m\u001b[1;33m,\u001b[0m \u001b[0my\u001b[0m\u001b[1;33m)\u001b[0m\u001b[1;33m:\u001b[0m\u001b[1;33m\u001b[0m\u001b[0m\n\u001b[0;32m      2\u001b[0m     \u001b[1;34m\"\"\"return the sum of two argument\"\"\"\u001b[0m\u001b[1;33m\u001b[0m\u001b[0m\n\u001b[1;32m----> 3\u001b[1;33m     \u001b[1;32mreturn\u001b[0m \u001b[0mx\u001b[0m \u001b[1;33m+\u001b[0m \u001b[0my\u001b[0m\u001b[1;33m\u001b[0m\u001b[0m\n\u001b[0m",
      "\u001b[1;31mTypeError\u001b[0m: must be str, not float"
     ]
    }
   ],
   "source": [
    "print(add2('1.0', 2.0))"
   ]
  },
  {
   "cell_type": "markdown",
   "metadata": {
    "slideshow": {
     "slide_type": "slide"
    }
   },
   "source": [
    "可以看出，除了函数名字不同外，其它参数调用完全一样。还可以更进一步！"
   ]
  },
  {
   "cell_type": "markdown",
   "metadata": {
    "slideshow": {
     "slide_type": "slide"
    }
   },
   "source": [
    "在Python中，函数名是一个变量，是指向一个函数对象。我们可以把`add`变量，指向add_debug3中的子函数。"
   ]
  },
  {
   "cell_type": "code",
   "execution_count": 17,
   "metadata": {
    "slideshow": {
     "slide_type": "-"
    }
   },
   "outputs": [
    {
     "name": "stdout",
     "output_type": "stream",
     "text": [
      "<class 'function'> <class 'function'>\n",
      "<function add at 0x0000024972F120D0> <function add_debug3.<locals>.new_add at 0x0000024972F121E0>\n",
      "return the sum of two argument\n",
      "a new add function\n"
     ]
    }
   ],
   "source": [
    "origin_add = add\n",
    "add = add_debug3(add)\n",
    "print(type(origin_add), type(add))\n",
    "print(origin_add, add)\n",
    "print(origin_add.__doc__)\n",
    "print(add.__doc__)"
   ]
  },
  {
   "cell_type": "markdown",
   "metadata": {
    "slideshow": {
     "slide_type": "slide"
    }
   },
   "source": [
    "经过这般处理，变量`add`已经是增加了debug功能的新函数了，不过过程还是很艰辛。辛运的是，Python提供了装饰器（Decorator）特性，可以简化上述功能实现。"
   ]
  },
  {
   "cell_type": "markdown",
   "metadata": {
    "slideshow": {
     "slide_type": "slide"
    }
   },
   "source": [
    "装饰器语法为：\n",
    "```\n",
    "@decorated_function\n",
    "def function_name(parameters):\n",
    "    suite\n",
    "```\n",
    "\n",
    "基本要素：\n",
    "- 用`@`引导一个装饰器函数\n",
    "- 其它不变。"
   ]
  },
  {
   "cell_type": "markdown",
   "metadata": {
    "slideshow": {
     "slide_type": "slide"
    }
   },
   "source": [
    "顾名思义，装饰器就是不用修改源代码，就能够为原对象增加新的功能。而装饰器函数的本质，就如同`add_debug3`类似，就是可以传入可调用对象，并且返回可调用对象的函数。而`@decorated_function`语法就相对于执行了如下语句：\n",
    "```\n",
    "function_name = decorated_function(function_name)\n",
    "```"
   ]
  },
  {
   "cell_type": "markdown",
   "metadata": {
    "slideshow": {
     "slide_type": "slide"
    }
   },
   "source": [
    "下面使用装饰器语法来重新定义`add`函数。首先定义装饰器函数，其中定义函数`inner(*args, **kwargs)`，以匹配任意调用函数。"
   ]
  },
  {
   "cell_type": "code",
   "execution_count": 18,
   "metadata": {},
   "outputs": [],
   "source": [
    "import time\n",
    "\n",
    "def decorated_by_debug(func):\n",
    "    \"\"\"the decorated debugdebug function\"\"\"\n",
    "    def inner(*args, **kwargs):\n",
    "        \"\"\"a inner function in decorated_debug\"\"\"\n",
    "        if __debug__:\n",
    "            print(time.time(), 'function {} entry...'.format(func.__name__))\n",
    "            for arg in args:\n",
    "                print(time.time(), arg, type(arg))\n",
    "        \n",
    "        result = func(*args, **kwargs)\n",
    "        \n",
    "        if __debug__:\n",
    "            print(time.time(), result, type(result))\n",
    "            print(time.time(), 'function {} exit'.format(func.__name__))\n",
    "        \n",
    "        return result\n",
    "    \n",
    "    return inner"
   ]
  },
  {
   "cell_type": "markdown",
   "metadata": {
    "slideshow": {
     "slide_type": "slide"
    }
   },
   "source": [
    "然后使用装饰器来封装函数"
   ]
  },
  {
   "cell_type": "code",
   "execution_count": 19,
   "metadata": {
    "slideshow": {
     "slide_type": "-"
    }
   },
   "outputs": [],
   "source": [
    "@decorated_by_debug\n",
    "def add(x, y):\n",
    "    \"\"\"return the sum of two argument\"\"\"\n",
    "    return x + y"
   ]
  },
  {
   "cell_type": "markdown",
   "metadata": {
    "slideshow": {
     "slide_type": "slide"
    }
   },
   "source": [
    "使用自省方法检查`add`函数对象。"
   ]
  },
  {
   "cell_type": "code",
   "execution_count": 20,
   "metadata": {
    "slideshow": {
     "slide_type": "-"
    }
   },
   "outputs": [
    {
     "name": "stdout",
     "output_type": "stream",
     "text": [
      "<class 'function'> <function decorated_by_debug.<locals>.inner at 0x0000024972F49C80>\n",
      "a inner function in decorated_debug\n"
     ]
    }
   ],
   "source": [
    "print(type(add), add)\n",
    "print(add.__doc__)"
   ]
  },
  {
   "cell_type": "code",
   "execution_count": 21,
   "metadata": {
    "slideshow": {
     "slide_type": "slide"
    }
   },
   "outputs": [
    {
     "name": "stdout",
     "output_type": "stream",
     "text": [
      "Help on function inner in module __main__:\n",
      "\n",
      "inner(*args, **kwargs)\n",
      "    a inner function in decorated_debug\n",
      "\n"
     ]
    }
   ],
   "source": [
    "help(add)"
   ]
  },
  {
   "cell_type": "code",
   "execution_count": 22,
   "metadata": {
    "slideshow": {
     "slide_type": "slide"
    }
   },
   "outputs": [
    {
     "name": "stdout",
     "output_type": "stream",
     "text": [
      "1554107894.050512 function add entry...\n",
      "1554107894.0515182 1 <class 'int'>\n",
      "1554107894.0515182 2 <class 'int'>\n",
      "1554107894.0515182 3 <class 'int'>\n",
      "1554107894.0525045 function add exit\n",
      "1554107894.0532842 function add entry...\n",
      "1554107894.0535023 1.0 <class 'float'>\n",
      "1554107894.0535023 2.0 <class 'float'>\n",
      "1554107894.0535023 3.0 <class 'float'>\n",
      "1554107894.054345 function add exit\n",
      "3 3.0\n"
     ]
    }
   ],
   "source": [
    "print(add(1, 2), add(1.0, 2.0))"
   ]
  },
  {
   "cell_type": "markdown",
   "metadata": {
    "slideshow": {
     "slide_type": "slide"
    }
   },
   "source": [
    "如果不想用装饰器进行封装，只需要把`@`语句注释即可。"
   ]
  },
  {
   "cell_type": "markdown",
   "metadata": {
    "slideshow": {
     "slide_type": "slide"
    }
   },
   "source": [
    "## 深入装饰器\n",
    "\n"
   ]
  },
  {
   "cell_type": "markdown",
   "metadata": {
    "slideshow": {
     "slide_type": "-"
    }
   },
   "source": [
    "装饰器有很多种，除了函数的装饰器，也有类的装饰器。"
   ]
  }
 ],
 "metadata": {
  "celltoolbar": "Slideshow",
  "kernelspec": {
   "display_name": "Python 3",
   "language": "python",
   "name": "python3"
  },
  "language_info": {
   "codemirror_mode": {
    "name": "ipython",
    "version": 3
   },
   "file_extension": ".py",
   "mimetype": "text/x-python",
   "name": "python",
   "nbconvert_exporter": "python",
   "pygments_lexer": "ipython3",
   "version": "3.6.4"
  },
  "toc": {
   "base_numbering": 1,
   "nav_menu": {},
   "number_sections": true,
   "sideBar": true,
   "skip_h1_title": false,
   "title_cell": "Table of Contents",
   "title_sidebar": "Contents",
   "toc_cell": false,
   "toc_position": {},
   "toc_section_display": true,
   "toc_window_display": false
  }
 },
 "nbformat": 4,
 "nbformat_minor": 2
}
