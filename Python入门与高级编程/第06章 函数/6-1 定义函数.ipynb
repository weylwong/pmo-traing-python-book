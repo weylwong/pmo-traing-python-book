{
 "cells": [
  {
   "cell_type": "markdown",
   "metadata": {
    "slideshow": {
     "slide_type": "slide"
    }
   },
   "source": [
    "# 定义函数\n",
    "\n",
    "要吃红烧肉有两个方法：照着菜谱做或者找个厨师来做。在 Python 编程中就是使用函数或面向对象（类与对象）。\n",
    "\n",
    "前面已经介绍很多 Python 内置函数，例如`print()`语句，传入一个字符串参数，就在终端上显示出对于文本，不论这个终端是液晶显示器、投影还是电视。调用一个函数，在内部或许执行了上千条指令，不过无需关注这些。可以把一个函数理解为一个黑盒子，只要给定输入，就会得到预期输出。正如下图所示：\n",
    "![函数](../images/Function_machine2.png)\n",
    "\n",
    "在解决现实问题时，常常会把大的问题分解小的问题，每个问题使用一个函数来实现，把这些函数串成一个流水线。那么只要给定输入，最后得到预期的结果。这也是面向过程的编程方法。\n",
    "\n",
    "我们已经用了不少 Python 内置函数，现在是时候来创建自己的函数了。"
   ]
  },
  {
   "cell_type": "markdown",
   "metadata": {
    "slideshow": {
     "slide_type": "-"
    }
   },
   "source": [
    "## 创建函数\n",
    "\n",
    "使用关键词 `def` 定义函数，也是创建一个函数，其语法为：\n",
    "```\n",
    "def function_name(arguments):\n",
    "    statement(s)\n",
    "```                  \n",
    "\n",
    "- 必须提供一个函数名和圆括号对`()`。在圆括号对中包括0个或多个形式参数变量。\n",
    "- 与条件语句一样，使用 冒号 `:` 与缩进来区别自定义函数的语句块。\n",
    "\n",
    "> 在 PEP8 规范中，通常建议函数名使用小写，如果有多个单词组成，使用`_`来进行连接"
   ]
  },
  {
   "cell_type": "markdown",
   "metadata": {},
   "source": [
    "尽管码农们整日面对着电脑，不善言辞，但同样也是爱如潮水且炽热。那么码农如何如何编程来表示爱呢？"
   ]
  },
  {
   "cell_type": "code",
   "execution_count": 1,
   "metadata": {
    "slideshow": {
     "slide_type": "-"
    }
   },
   "outputs": [],
   "source": [
    "# 爱如潮水\n",
    "def loveyou():\n",
    "    \"\"\"用十国语言说我爱你\n",
    "    \n",
    "    语言包括：中国、美国、日本、韩国、俄罗斯\n",
    "              法国、德国、希腊、西班牙、荷兰\n",
    "    \"\"\"\n",
    "    print('我爱你')    \n",
    "    print('I Love You')\n",
    "    print('私は爱する')             # 日本：\n",
    "    print('나는 너를 사랑한다')     # 韩国\n",
    "    print('Я люблю вас')   # 俄罗斯\n",
    "    print(\"Je t'aime\")              # 法国\n",
    "    print('Ich liebe dich')         # 德国\n",
    "    print('∑ας αγαπώ')       # 希腊\n",
    "    print('Te amo')                 # 西班牙\n",
    "    print('Ik houd van u')          # 荷兰"
   ]
  },
  {
   "cell_type": "markdown",
   "metadata": {
    "slideshow": {
     "slide_type": "-"
    }
   },
   "source": [
    "在上述定义函数中，没有输入参数。该函数会使用十国语言打印出码农的柔情蜜意。当函数定义完毕后，必须调用它："
   ]
  },
  {
   "cell_type": "code",
   "execution_count": 3,
   "metadata": {
    "slideshow": {
     "slide_type": "slide"
    }
   },
   "outputs": [
    {
     "name": "stdout",
     "output_type": "stream",
     "text": [
      "我爱你\n",
      "I Love You\n",
      "私は爱する\n",
      "나는 너를 사랑한다\n",
      "Я люблю вас\n",
      "Je t'aime\n",
      "Ich liebe dich\n",
      "∑ας αγαπώ\n",
      "Te amo\n",
      "Ik houd van u\n"
     ]
    }
   ],
   "source": [
    "# 爱如潮水\n",
    "loveyou()"
   ]
  },
  {
   "cell_type": "markdown",
   "metadata": {
    "slideshow": {
     "slide_type": "slide"
    }
   },
   "source": [
    "函数定义完毕后，可以反复进行调用："
   ]
  },
  {
   "cell_type": "code",
   "execution_count": 5,
   "metadata": {
    "slideshow": {
     "slide_type": "-"
    }
   },
   "outputs": [
    {
     "name": "stdout",
     "output_type": "stream",
     "text": [
      "我爱你\n",
      "I Love You\n",
      "私は爱する\n",
      "나는 너를 사랑한다\n",
      "Я люблю вас\n",
      "Je t'aime\n",
      "Ich liebe dich\n",
      "∑ας αγαπώ\n",
      "Te amo\n",
      "Ik houd van u\n",
      "我爱你\n",
      "I Love You\n",
      "私は爱する\n",
      "나는 너를 사랑한다\n",
      "Я люблю вас\n",
      "Je t'aime\n",
      "Ich liebe dich\n",
      "∑ας αγαπώ\n",
      "Te amo\n",
      "Ik houd van u\n",
      "我爱你\n",
      "I Love You\n",
      "私は爱する\n",
      "나는 너를 사랑한다\n",
      "Я люблю вас\n",
      "Je t'aime\n",
      "Ich liebe dich\n",
      "∑ας αγαπώ\n",
      "Te amo\n",
      "Ik houd van u\n"
     ]
    }
   ],
   "source": [
    "# 如果加上一个期限，我希望是一万年。\n",
    "for _ in range(3):\n",
    "    loveyou()"
   ]
  },
  {
   "cell_type": "markdown",
   "metadata": {},
   "source": [
    "## 自省\n",
    "\n",
    "### 对象的特性\n",
    "\n",
    "在 Python 中，万物皆对象。当使用`def`定义一个函数，也就会创建了一个名称为函数名的变量。可以使用 Python 自省函数来查看："
   ]
  },
  {
   "cell_type": "code",
   "execution_count": 8,
   "metadata": {
    "slideshow": {
     "slide_type": "-"
    }
   },
   "outputs": [
    {
     "name": "stdout",
     "output_type": "stream",
     "text": [
      "<class 'function'>\n"
     ]
    }
   ],
   "source": [
    "print(type(loveyou))"
   ]
  },
  {
   "cell_type": "markdown",
   "metadata": {},
   "source": [
    "也就是说，定义函数会创建一个`function`的实例对象：\n",
    "\n",
    "![`function`对象](../images/function_objects.png)"
   ]
  },
  {
   "cell_type": "code",
   "execution_count": 7,
   "metadata": {
    "slideshow": {
     "slide_type": "-"
    }
   },
   "outputs": [
    {
     "name": "stdout",
     "output_type": "stream",
     "text": [
      "Help on function loveyou in module __main__:\n",
      "\n",
      "loveyou()\n",
      "    用十国语言说我爱你\n",
      "    \n",
      "    语言包括：中国、美国、日本、韩国、俄罗斯\n",
      "              法国、德国、希腊、西班牙、荷兰\n",
      "\n"
     ]
    }
   ],
   "source": [
    "help(loveyou)"
   ]
  },
  {
   "cell_type": "markdown",
   "metadata": {
    "slideshow": {
     "slide_type": "slide"
    }
   },
   "source": [
    "### 文档字符串\n",
    "\n",
    "在函数体中，第一行语句可以是可选字符串文本，用来存放函数的说明文档，称为文档字符串（docstring）。"
   ]
  },
  {
   "cell_type": "code",
   "execution_count": 4,
   "metadata": {
    "slideshow": {
     "slide_type": "-"
    }
   },
   "outputs": [
    {
     "name": "stdout",
     "output_type": "stream",
     "text": [
      "用十国语言说我爱你\n",
      "    \n",
      "    语言包括：中国、美国、日本、韩国、俄罗斯\n",
      "              法国、德国、希腊、西班牙、荷兰\n",
      "    \n"
     ]
    }
   ],
   "source": [
    "print(loveyou.__doc__)"
   ]
  },
  {
   "cell_type": "markdown",
   "metadata": {
    "slideshow": {
     "slide_type": "slide"
    }
   },
   "source": [
    "## 函数输入与输出\n",
    "\n",
    "### 参数传递\n",
    "\n",
    "在定义函数时，名字后面圆括号所包括的是函数参数，也称为形式参数。在调用函数时，会传入实际参数来代替形式参数。\n",
    "\n",
    "Python函数的参数传入总是“传值调用”，即在函数体内实际是实参的拷贝值。不过，在Python中所有变量都是对象的引用，也就是说函数体内的参数引用的对象是同一个。"
   ]
  },
  {
   "cell_type": "markdown",
   "metadata": {
    "slideshow": {
     "slide_type": "slide"
    }
   },
   "source": [
    "对于不可变对象，当发生更改操作时，引用对象发生了变化，并不影响实参。"
   ]
  },
  {
   "cell_type": "code",
   "execution_count": 7,
   "metadata": {
    "slideshow": {
     "slide_type": "-"
    }
   },
   "outputs": [],
   "source": [
    "def change_parameter(obj):\n",
    "    \"\"\"change the immutable object passed\"\"\"\n",
    "    print('formal Parameter: ', type(obj), id(obj), obj)\n",
    "    obj = '老李'\n",
    "    print('formal Parameter: ', type(obj), id(obj), obj)    "
   ]
  },
  {
   "cell_type": "code",
   "execution_count": 8,
   "metadata": {
    "slideshow": {
     "slide_type": "slide"
    }
   },
   "outputs": [
    {
     "name": "stdout",
     "output_type": "stream",
     "text": [
      "real parameter:  <class 'str'> 2354559815152 老王\n",
      "formal Parameter:  <class 'str'> 2354559815152 老王\n",
      "formal Parameter:  <class 'str'> 2354559812600 老李\n",
      "after function call:  <class 'str'> 2354559815152 老王\n"
     ]
    }
   ],
   "source": [
    "var = '老王'\n",
    "print('real parameter: ', type(var), id(var), var)\n",
    "change_parameter(var)\n",
    "print('after function call: ', type(var), id(var), var)"
   ]
  },
  {
   "cell_type": "markdown",
   "metadata": {},
   "source": [
    "在上述语句中，定义了函数`change_parameter`和一个不可变对象`var`。调用函数会开启一个函数空间。在函数空间中，形参会指向实参指向的对象，如下图所示\n",
    "![函数与传入不可变参数](../images/function_input_immutable_parmeters.png)\n",
    "\n",
    "由于形参指向不可变对象，故在函数空间内的操作都不会影响实参。"
   ]
  },
  {
   "cell_type": "code",
   "execution_count": 11,
   "metadata": {
    "slideshow": {
     "slide_type": "-"
    }
   },
   "outputs": [],
   "source": [
    "def change_parameter2(obj):\n",
    "    \"\"\"change the mutable object passed\"\"\"\n",
    "    print('formal Parameter: ', type(obj), id(obj), obj)\n",
    "    obj.append(2)\n",
    "    print('formal Parameter: ', type(obj), id(obj), obj)    "
   ]
  },
  {
   "cell_type": "code",
   "execution_count": 12,
   "metadata": {
    "slideshow": {
     "slide_type": "slide"
    }
   },
   "outputs": [
    {
     "name": "stdout",
     "output_type": "stream",
     "text": [
      "real parameter:  <class 'list'> 1543958298440 ['老王']\n",
      "formal Parameter:  <class 'list'> 1543958298440 ['老王']\n",
      "formal Parameter:  <class 'list'> 1543958298440 ['老王', 2]\n",
      "after function call:  <class 'list'> 1543958298440 ['老王', 2]\n"
     ]
    }
   ],
   "source": [
    "var = ['老王']\n",
    "print('real parameter: ', type(var), id(var), var)\n",
    "change_parameter2(var)\n",
    "print('after function call: ', type(var), id(var), var)"
   ]
  },
  {
   "cell_type": "markdown",
   "metadata": {},
   "source": [
    "在上述语句中，定义了函数`change_parameter2`和一个可变对象`var`。调用函数会开启一个函数空间，形参会指向实参指向的对象，如下图所示\n",
    "![函数与传入可变参数](../images/function_input_mutable_parmeters.png)\n",
    "\n",
    "由于形参指向可变对象，如果在函数体内更改了可变对象的值，那么实参的值也就发生了变化。"
   ]
  },
  {
   "cell_type": "markdown",
   "metadata": {
    "slideshow": {
     "slide_type": "slide"
    }
   },
   "source": [
    "### `return`语句\n",
    "\n",
    "使用`return`语句会退出函数，同时向调用者返回一个表达式结果。"
   ]
  },
  {
   "cell_type": "code",
   "execution_count": 13,
   "metadata": {
    "slideshow": {
     "slide_type": "slide"
    }
   },
   "outputs": [],
   "source": [
    "def add(value1, value2):\n",
    "    \"\"\"return a sum\"\"\"\n",
    "    return value1 + value2"
   ]
  },
  {
   "cell_type": "code",
   "execution_count": 14,
   "metadata": {
    "slideshow": {
     "slide_type": "-"
    }
   },
   "outputs": [
    {
     "name": "stdout",
     "output_type": "stream",
     "text": [
      "8 <class 'int'>\n"
     ]
    }
   ],
   "source": [
    "result = add(3, 5)\n",
    "print(result, type(result))"
   ]
  },
  {
   "cell_type": "markdown",
   "metadata": {
    "slideshow": {
     "slide_type": "slide"
    }
   },
   "source": [
    "如果函数没有显式调用 `return` 语句，函数调用完毕后会返回一个 `None`值。在下面函数体中没有`return`语句，缺省会返回空对象`None`"
   ]
  },
  {
   "cell_type": "code",
   "execution_count": 15,
   "metadata": {
    "slideshow": {
     "slide_type": "slide"
    }
   },
   "outputs": [],
   "source": [
    "def add3(value1, value2):\n",
    "    \"\"\"no return statement\"\"\"\n",
    "    result = value1 + value2"
   ]
  },
  {
   "cell_type": "code",
   "execution_count": 16,
   "metadata": {
    "slideshow": {
     "slide_type": "-"
    }
   },
   "outputs": [
    {
     "name": "stdout",
     "output_type": "stream",
     "text": [
      "None <class 'NoneType'>\n"
     ]
    }
   ],
   "source": [
    "result = add3(3, 5)\n",
    "print(result, type(result))"
   ]
  },
  {
   "cell_type": "markdown",
   "metadata": {
    "slideshow": {
     "slide_type": "slide"
    }
   },
   "source": [
    "## 函数参数\n",
    "\n",
    "> 吃饭是为了活着，活着不是为了吃饭\n",
    "\n",
    "下面通过顶一个点菜函数，来介绍丰富多变的函数参数。"
   ]
  },
  {
   "cell_type": "markdown",
   "metadata": {
    "slideshow": {
     "slide_type": "slide"
    }
   },
   "source": [
    "### 位置参数\n",
    "\n",
    "现在假定三菜分别是肉、鱼、蔬菜类。我们可以创建如下函数："
   ]
  },
  {
   "cell_type": "code",
   "execution_count": 15,
   "metadata": {
    "slideshow": {
     "slide_type": "slide"
    }
   },
   "outputs": [],
   "source": [
    "def order(meat, fish, vegetable, soup):\n",
    "    \"\"\"Order meal include meat, fish, vegetable and soup\"\"\"\n",
    "    print('meat: {0}'.format(meat))\n",
    "    print('fish: {0}'.format(fish))\n",
    "    print('vegetable: {0}'.format(vegetable))\n",
    "    print('soup: {0}'.format(soup))"
   ]
  },
  {
   "cell_type": "code",
   "execution_count": 16,
   "metadata": {
    "slideshow": {
     "slide_type": "slide"
    }
   },
   "outputs": [
    {
     "name": "stdout",
     "output_type": "stream",
     "text": [
      "meat: 小炒肉\n",
      "fish: 清蒸鱼\n",
      "vegetable: 蔬菜拼盘\n",
      "soup: 鸡蛋汤\n"
     ]
    }
   ],
   "source": [
    "meat, fish, vegetable, soup = '小炒肉', '清蒸鱼', '蔬菜拼盘', '鸡蛋汤'\n",
    "order(meat, fish, vegetable, soup)"
   ]
  },
  {
   "cell_type": "markdown",
   "metadata": {
    "slideshow": {
     "slide_type": "slide"
    }
   },
   "source": [
    "位置参数是必须传入的参数，在调用函数时数目和声明的要一样。否则就会引发`TypeError`错误。"
   ]
  },
  {
   "cell_type": "code",
   "execution_count": 17,
   "metadata": {
    "slideshow": {
     "slide_type": "slide"
    }
   },
   "outputs": [
    {
     "ename": "TypeError",
     "evalue": "order() missing 1 required positional argument: 'soup'",
     "output_type": "error",
     "traceback": [
      "\u001b[1;31m---------------------------------------------------------------------------\u001b[0m",
      "\u001b[1;31mTypeError\u001b[0m                                 Traceback (most recent call last)",
      "\u001b[1;32m<ipython-input-17-6435449b2258>\u001b[0m in \u001b[0;36m<module>\u001b[1;34m()\u001b[0m\n\u001b[1;32m----> 1\u001b[1;33m \u001b[0morder\u001b[0m\u001b[1;33m(\u001b[0m\u001b[0mmeat\u001b[0m\u001b[1;33m,\u001b[0m \u001b[0mfish\u001b[0m\u001b[1;33m,\u001b[0m \u001b[0mvegetable\u001b[0m\u001b[1;33m)\u001b[0m\u001b[1;33m\u001b[0m\u001b[0m\n\u001b[0m",
      "\u001b[1;31mTypeError\u001b[0m: order() missing 1 required positional argument: 'soup'"
     ]
    }
   ],
   "source": [
    "order(meat, fish, vegetable)"
   ]
  },
  {
   "cell_type": "markdown",
   "metadata": {
    "slideshow": {
     "slide_type": "slide"
    }
   },
   "source": [
    "位置参数还有一个弊端就是，必须清楚每个参数的含义。在调用函数时，位置次序必须一致，否则就会表错情会错意，得到完全不同的结果。这也是位置参数名字的由来。"
   ]
  },
  {
   "cell_type": "code",
   "execution_count": 18,
   "metadata": {
    "slideshow": {
     "slide_type": "-"
    }
   },
   "outputs": [
    {
     "name": "stdout",
     "output_type": "stream",
     "text": [
      "meat: 清蒸鱼\n",
      "fish: 小炒肉\n",
      "vegetable: 鸡蛋汤\n",
      "soup: 蔬菜拼盘\n"
     ]
    }
   ],
   "source": [
    "order(fish, meat, soup, vegetable)"
   ]
  },
  {
   "cell_type": "markdown",
   "metadata": {
    "collapsed": true,
    "slideshow": {
     "slide_type": "slide"
    }
   },
   "source": [
    "### 关键字参数\n",
    "\n",
    "为了避免位置参数的弊端，Python函数可以通过关键字参数(`keyword=value`)的形式来调用。每个关键字参数会有一个缺省值。这非常有用。例如，在大多情况下，我们都会点蔬菜拼盘和鸡蛋汤，如果每次调用函数都得输入该值，实在是有些麻烦。那么通过关键字参数可以轻松实现。"
   ]
  },
  {
   "cell_type": "code",
   "execution_count": 19,
   "metadata": {
    "slideshow": {
     "slide_type": "-"
    }
   },
   "outputs": [],
   "source": [
    "def order2(meat, fish, vegetable='蔬菜拼盘', soup='鸡蛋汤'):\n",
    "    \"\"\"Order meal include meat, fish, vegetable and soup\"\"\"\n",
    "    print('meat: {0}'.format(meat))\n",
    "    print('fish: {0}'.format(fish))\n",
    "    print('vegetable: {0}'.format(vegetable))\n",
    "    print('soup: {0}'.format(soup))"
   ]
  },
  {
   "cell_type": "markdown",
   "metadata": {
    "slideshow": {
     "slide_type": "slide"
    }
   },
   "source": [
    "关键字参数必须放在位置参数后面，否则就会引发语法错误"
   ]
  },
  {
   "cell_type": "code",
   "execution_count": 20,
   "metadata": {
    "slideshow": {
     "slide_type": "-"
    }
   },
   "outputs": [
    {
     "ename": "SyntaxError",
     "evalue": "non-default argument follows default argument (<ipython-input-20-9e6287152fc0>, line 1)",
     "output_type": "error",
     "traceback": [
      "\u001b[1;36m  File \u001b[1;32m\"<ipython-input-20-9e6287152fc0>\"\u001b[1;36m, line \u001b[1;32m1\u001b[0m\n\u001b[1;33m    def wrongorder2(meat, vegetable='蔬菜拼盘', fish, soup='鸡蛋汤'):\u001b[0m\n\u001b[1;37m                   ^\u001b[0m\n\u001b[1;31mSyntaxError\u001b[0m\u001b[1;31m:\u001b[0m non-default argument follows default argument\n"
     ]
    }
   ],
   "source": [
    "def wrongorder2(meat, vegetable='蔬菜拼盘', fish, soup='鸡蛋汤'):\n",
    "    \"\"\"Order meal include meat, fish, vegetable and soup\"\"\"\n",
    "    print('meat: {0}'.format(meat))\n",
    "    print('fish: {0}'.format(fish))\n",
    "    print('vegetable: {0}'.format(vegetable))\n",
    "    print('soup: {0}'.format(soup))"
   ]
  },
  {
   "cell_type": "markdown",
   "metadata": {
    "slideshow": {
     "slide_type": "slide"
    }
   },
   "source": [
    "函数定义完后，可以通过只给出位置参数调用："
   ]
  },
  {
   "cell_type": "code",
   "execution_count": 21,
   "metadata": {
    "slideshow": {
     "slide_type": "-"
    }
   },
   "outputs": [
    {
     "name": "stdout",
     "output_type": "stream",
     "text": [
      "meat: 鱼香肉丝\n",
      "fish: 剁椒鱼头\n",
      "vegetable: 蔬菜拼盘\n",
      "soup: 鸡蛋汤\n"
     ]
    }
   ],
   "source": [
    "meat, fish = '鱼香肉丝', '剁椒鱼头'\n",
    "order2(meat, fish)"
   ]
  },
  {
   "cell_type": "markdown",
   "metadata": {
    "slideshow": {
     "slide_type": "slide"
    }
   },
   "source": [
    "给出一些可选参数："
   ]
  },
  {
   "cell_type": "code",
   "execution_count": 22,
   "metadata": {
    "slideshow": {
     "slide_type": "-"
    }
   },
   "outputs": [
    {
     "name": "stdout",
     "output_type": "stream",
     "text": [
      "meat: 红烧肉\n",
      "fish: 鱼头汤\n",
      "vegetable: 炒菠菜\n",
      "soup: 鸡蛋汤\n"
     ]
    }
   ],
   "source": [
    "meat, fish, vegetable = '红烧肉', '鱼头汤', '炒菠菜'\n",
    "order2(meat, fish, vegetable)"
   ]
  },
  {
   "cell_type": "markdown",
   "metadata": {
    "slideshow": {
     "slide_type": "slide"
    }
   },
   "source": [
    "从示例可知，传递位置参数时数目和次序需要保持一致；关键字参数是可选的，不一定需要输入，但位置参数方法来传递关键字参数，次序仍然要保持一致。\n",
    "\n",
    "不过在函数调用时，要传递关键字参数，通常使用`keyword=value`的方式来传递，如此则顺序并不重要。"
   ]
  },
  {
   "cell_type": "code",
   "execution_count": 24,
   "metadata": {
    "slideshow": {
     "slide_type": "-"
    }
   },
   "outputs": [
    {
     "name": "stdout",
     "output_type": "stream",
     "text": [
      "meat: 红烧肉\n",
      "fish: 鱼头汤\n",
      "vegetable: 炒生菜\n",
      "soup: 酒酿圆子\n"
     ]
    }
   ],
   "source": [
    "meat, fish, vegetable, soup = '红烧肉', '鱼头汤', '炒生菜', '酒酿圆子'\n",
    "order2(meat, fish, soup=soup, vegetable=vegetable)"
   ]
  },
  {
   "cell_type": "markdown",
   "metadata": {
    "slideshow": {
     "slide_type": "slide"
    }
   },
   "source": [
    "为了充分利用关键字参数的优点，点菜函数可以定义为"
   ]
  },
  {
   "cell_type": "code",
   "execution_count": 25,
   "metadata": {
    "slideshow": {
     "slide_type": "-"
    }
   },
   "outputs": [],
   "source": [
    "def order3(meat='红烧肉', fish='剁椒鱼头', vegetable='蔬菜拼盘', soup='鸡蛋汤'):\n",
    "    \"\"\"Order meal include meat, fish, vegetable and soup\"\"\"\n",
    "    print('meat: {0}'.format(meat))\n",
    "    print('fish: {0}'.format(fish))\n",
    "    print('vegetable: {0}'.format(vegetable))\n",
    "    print('soup: {0}'.format(soup))"
   ]
  },
  {
   "cell_type": "code",
   "execution_count": 26,
   "metadata": {
    "slideshow": {
     "slide_type": "slide"
    }
   },
   "outputs": [
    {
     "name": "stdout",
     "output_type": "stream",
     "text": [
      "meat: 红烧肉\n",
      "fish: 剁椒鱼头\n",
      "vegetable: 蔬菜拼盘\n",
      "soup: 鸡蛋汤\n"
     ]
    }
   ],
   "source": [
    "order3()"
   ]
  },
  {
   "cell_type": "markdown",
   "metadata": {
    "slideshow": {
     "slide_type": "slide"
    }
   },
   "source": [
    "### 不定参数（`*args`）\n",
    "\n",
    "在有些情况，函数的位置参数不定。也就是说，事先不知道用户会传递多少个位置参数。在此场景可以使用关键字`*args`。这个有些类似C语言函数中的不定参数，例如：\n",
    "```C\n",
    "printf(string, ...)\n",
    "```"
   ]
  },
  {
   "cell_type": "code",
   "execution_count": 27,
   "metadata": {
    "slideshow": {
     "slide_type": "slide"
    }
   },
   "outputs": [],
   "source": [
    "def order4(meat, *args):\n",
    "    \"\"\"Order meal include meat, ...\"\"\"\n",
    "    print('meat: {0}'.format(meat))\n",
    "    for i, arg in enumerate(args):\n",
    "        print('menu {0}: {1}'.format(i+1, arg))"
   ]
  },
  {
   "cell_type": "code",
   "execution_count": 31,
   "metadata": {
    "slideshow": {
     "slide_type": "slide"
    }
   },
   "outputs": [
    {
     "name": "stdout",
     "output_type": "stream",
     "text": [
      "meat: 红烧肉\n",
      "meat: 红烧肉\n",
      "menu 1: 鲍鱼\n"
     ]
    }
   ],
   "source": [
    "meat= '红烧肉'\n",
    "order4(meat)\n",
    "\n",
    "order4(meat, '鲍鱼', '鱼翅', '鱼肚', '海参')"
   ]
  },
  {
   "cell_type": "markdown",
   "metadata": {
    "slideshow": {
     "slide_type": "slide"
    }
   },
   "source": [
    "### 不定关键字参数（`**kwargs`）\n",
    "\n",
    "`**kwargs`将不定长度的键值对，作为参数传递给一个函数。"
   ]
  },
  {
   "cell_type": "code",
   "execution_count": 32,
   "metadata": {
    "slideshow": {
     "slide_type": "-"
    }
   },
   "outputs": [],
   "source": [
    "def order5(meat, **kwargs):\n",
    "    \"\"\"Order meal include meat, ...\"\"\"\n",
    "    print('meat: {0}'.format(meat))\n",
    "    for key, value in kwargs.items():\n",
    "        print('menu {0}: {1}'.format(key, value))"
   ]
  },
  {
   "cell_type": "code",
   "execution_count": 35,
   "metadata": {
    "slideshow": {
     "slide_type": "slide"
    }
   },
   "outputs": [
    {
     "name": "stdout",
     "output_type": "stream",
     "text": [
      "meat: 红烧肉\n",
      "menu seafood: 鲍鱼\n",
      "menu fish: 剁椒鱼头\n",
      "menu vegetable: 炒菠菜\n",
      "menu soup: 鸡蛋汤\n"
     ]
    }
   ],
   "source": [
    "meat= '红烧肉'\n",
    "order5(meat, seafood='鲍鱼', fish='剁椒鱼头', vegetable='炒菠菜', soup='鸡蛋汤')"
   ]
  },
  {
   "cell_type": "markdown",
   "metadata": {
    "slideshow": {
     "slide_type": "slide"
    }
   },
   "source": [
    "### 多参数混搭\n",
    "\n",
    "如果需要混合使用位置参数、关键字参数、不定位置参数、不定关键字参数，其顺序应该是：\n",
    "```\n",
    "some_func(fargs, *args, fkeyvalues, **kwargs)\n",
    "```"
   ]
  },
  {
   "cell_type": "markdown",
   "metadata": {
    "slideshow": {
     "slide_type": "slide"
    }
   },
   "source": [
    "编写如下函数，打印各参数"
   ]
  },
  {
   "cell_type": "code",
   "execution_count": 36,
   "metadata": {
    "slideshow": {
     "slide_type": "slide"
    }
   },
   "outputs": [],
   "source": [
    "def print_args(arg1, *args, keyword1=\"123\", **kwargs):\n",
    "    \"\"\"print args\"\"\"\n",
    "    print(type(arg1), arg1)\n",
    "    print(type(args), args)\n",
    "    print(type(keyword1), keyword1)\n",
    "    print(type(kwargs), kwargs)    "
   ]
  },
  {
   "cell_type": "code",
   "execution_count": 38,
   "metadata": {
    "slideshow": {
     "slide_type": "-"
    }
   },
   "outputs": [
    {
     "name": "stdout",
     "output_type": "stream",
     "text": [
      "<class 'str'> arg1\n",
      "<class 'tuple'> ('args0', 'args1')\n",
      "<class 'str'> 123\n",
      "<class 'dict'> {'kwargs0': 'kwargs0', 'kwargs1': 'kwargs1'}\n"
     ]
    }
   ],
   "source": [
    "print_args('arg1', 'args0', 'args1', kwargs0='kwargs0', kwargs1='kwargs1')"
   ]
  },
  {
   "cell_type": "markdown",
   "metadata": {
    "slideshow": {
     "slide_type": "slide"
    }
   },
   "source": [
    "从示例可知，不定参数是元组类型，不定关键字参数是字典类型"
   ]
  },
  {
   "cell_type": "markdown",
   "metadata": {
    "slideshow": {
     "slide_type": "slide"
    }
   },
   "source": [
    "最后，我们重新实现点菜函数。"
   ]
  },
  {
   "cell_type": "code",
   "execution_count": 39,
   "metadata": {
    "slideshow": {
     "slide_type": "-"
    }
   },
   "outputs": [],
   "source": [
    "def order6(meat, *args, staple_food='米饭', soup='鸡蛋汤', **kwargs):\n",
    "    \"\"\"Order meal include meat, soup and the other\"\"\"\n",
    "    print('免费菜')\n",
    "    print('\\t荤菜: {0}'.format(meat))\n",
    "    print('\\t主食: {0}'.format(staple_food))\n",
    "    print('\\t汤: {0}'.format(soup))\n",
    "    if len(args) + len(kwargs) > 0:\n",
    "        print('付费菜')\n",
    "        for i, arg in enumerate(args):\n",
    "            print('\\t荤菜{0}: {1}'.format(i+1, arg))        \n",
    "        for key, value in kwargs.items():\n",
    "            print('\\t{0}: {1}'.format(key, value))"
   ]
  },
  {
   "cell_type": "code",
   "execution_count": 40,
   "metadata": {
    "slideshow": {
     "slide_type": "slide"
    }
   },
   "outputs": [
    {
     "name": "stdout",
     "output_type": "stream",
     "text": [
      "免费菜\n",
      "\t荤菜: 红烧肉\n",
      "\t主食: 米饭\n",
      "\t汤: 鸡蛋汤\n"
     ]
    }
   ],
   "source": [
    "order6('红烧肉')"
   ]
  },
  {
   "cell_type": "code",
   "execution_count": 41,
   "metadata": {
    "slideshow": {
     "slide_type": "-"
    }
   },
   "outputs": [
    {
     "name": "stdout",
     "output_type": "stream",
     "text": [
      "免费菜\n",
      "\t荤菜: 红烧肉\n",
      "\t主食: 米饭\n",
      "\t汤: 鸡蛋汤\n",
      "付费菜\n",
      "\t荤菜1: 大虾\n",
      "\tdrink: 茅台\n"
     ]
    }
   ],
   "source": [
    "order6('红烧肉', '大虾', drink='茅台')"
   ]
  }
 ],
 "metadata": {
  "celltoolbar": "Slideshow",
  "kernelspec": {
   "display_name": "Python 3",
   "language": "python",
   "name": "python3"
  },
  "language_info": {
   "codemirror_mode": {
    "name": "ipython",
    "version": 3
   },
   "file_extension": ".py",
   "mimetype": "text/x-python",
   "name": "python",
   "nbconvert_exporter": "python",
   "pygments_lexer": "ipython3",
   "version": "3.6.4"
  },
  "toc": {
   "base_numbering": 1,
   "nav_menu": {},
   "number_sections": true,
   "sideBar": true,
   "skip_h1_title": false,
   "title_cell": "Table of Contents",
   "title_sidebar": "Contents",
   "toc_cell": false,
   "toc_position": {
    "height": "calc(100% - 180px)",
    "left": "10px",
    "top": "150px",
    "width": "239px"
   },
   "toc_section_display": true,
   "toc_window_display": true
  }
 },
 "nbformat": 4,
 "nbformat_minor": 1
}
