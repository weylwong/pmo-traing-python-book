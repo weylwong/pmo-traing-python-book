{
 "cells": [
  {
   "cell_type": "markdown",
   "metadata": {
    "slideshow": {
     "slide_type": "slide"
    }
   },
   "source": [
    "# 基本结构类型概述\n",
    "\n",
    "Python 已经提供了基本数据类型：\n",
    "- 数字型\n",
    "    - 整数（int）\n",
    "    - 布尔数（bool）\n",
    "    - 浮点数（float）\n",
    "    - 复数（complex）\n",
    "- 文本：    \n",
    "    - 字符串（str）\n",
    "- 空（NoneType）\n",
    "\n",
    "其中 `NoneType` 类型只有一个对象 `None`，布尔数有两个 `True` 与 `False`。其它类型则可以创建无数个对象。实际工作通常会用到很多数据或对象，那么如何组织以及如何使用就是一个问题。实际上，曾经有一个说法，程序就是算法加数据结构。"
   ]
  },
  {
   "cell_type": "markdown",
   "metadata": {
    "slideshow": {
     "slide_type": "slide"
    }
   },
   "source": [
    "在《一处好戏》这部电影中，三个不同的领导，形成了三种不同的规则或社会：\n",
    "1. 独裁者的丛林法则\n",
    "2. 利己主义者的物品交换体系\n",
    "3. 梦想主义者的“新社会”\n",
    "\n",
    "<img style=\"float;\" src=\"../images/yichuhaoxi.png\" width=\"60%\">"
   ]
  },
  {
   "cell_type": "markdown",
   "metadata": {
    "slideshow": {
     "slide_type": "slide"
    }
   },
   "source": [
    "在 Python 编程中，同样会遇到很多数据结构，哪种数据结构算是好的呢？笔者认为，数据结构无所谓好与坏，适合的就是最好的。那么如何选择一种数据结构呢？要明白数据集以及数据使用场景，方能选择合适的数据结构。"
   ]
  },
  {
   "cell_type": "markdown",
   "metadata": {},
   "source": [
    "很多数据元素组织在一起，可以成为数据集。根据数据集的数据情况可以用如下几个维度来描述：\n",
    "- 同质（Homogeneous）或异质（inhomogeneous），数据集中的数据类型一样或不一样\n",
    "- 可变（mutable）或不可变（immutable），数据集可以更改还是不允许更改\n",
    "- 独一（unique）或重复（duplicated），数据集中的元素是独一或可重复\n",
    "- 有序（ordered）或无序（unordered），数据集中的元素有序或无序\n",
    "- 映射（mapping）或无映射（no mapping），数据集中的元素有映射或无映射"
   ]
  },
  {
   "cell_type": "markdown",
   "metadata": {
    "slideshow": {
     "slide_type": "slide"
    }
   },
   "source": [
    "Python 已经提供了一些数据结构类型，实际上字符串也算是一种可结构类型。下表列出了数据结构在这几个维度的描述： \n",
    "\n",
    "| 结构      | 同质 | 可变 | 重复 |  有序  | 映射 |\n",
    "|------------:|-----:|-----:|-----:|-----:|-----:|\n",
    "|列表（list） | 否   |  是 | 是   | 是 |  否  |\n",
    "|元组（tuple）| 否   |  否 | 是   | 是 |  否  |\n",
    "|集合（set）  | 否   |  是 | 否   | 否 |  否  |\n",
    "|字典（dict） | 否   |  是 | 是   | 否 |  是  |\n",
    "|字符串（str）| 是   |  否 | 是   | 是 |  否  |"
   ]
  },
  {
   "cell_type": "markdown",
   "metadata": {},
   "source": [
    "下面几节将介绍 Python 内置的列表、元组、字典、集合结构类型。"
   ]
  }
 ],
 "metadata": {
  "kernelspec": {
   "display_name": "Python 3",
   "language": "python",
   "name": "python3"
  },
  "language_info": {
   "codemirror_mode": {
    "name": "ipython",
    "version": 3
   },
   "file_extension": ".py",
   "mimetype": "text/x-python",
   "name": "python",
   "nbconvert_exporter": "python",
   "pygments_lexer": "ipython3",
   "version": "3.6.4"
  },
  "toc": {
   "base_numbering": 1,
   "nav_menu": {},
   "number_sections": true,
   "sideBar": true,
   "skip_h1_title": false,
   "title_cell": "Table of Contents",
   "title_sidebar": "Contents",
   "toc_cell": false,
   "toc_position": {},
   "toc_section_display": true,
   "toc_window_display": false
  }
 },
 "nbformat": 4,
 "nbformat_minor": 2
}
