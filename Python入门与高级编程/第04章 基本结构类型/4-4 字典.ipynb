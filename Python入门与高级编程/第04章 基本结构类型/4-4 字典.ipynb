{
 "cells": [
  {
   "cell_type": "markdown",
   "metadata": {
    "slideshow": {
     "slide_type": "slide"
    }
   },
   "source": [
    "# 基本结构类型-字典(dict)\n",
    "\n",
    "大家都用过字典，翻到指定页面上查看某个字的解释。相对于数字来说，人们更容易记忆有意义的文本，如果把字与页码进行映射(`word => number`) ,根据字能自动找到对应的页码，这样就能快捷方便地操作数据。使用映射的方法，可以把简单与复杂、易记与难懂对应起来，方便操作。\n",
    "\n",
    "Python 内置的字典(dict)类型就是一种使用了映射的数据结构，适用于异质、可变、可重复，无序，映射的数据集。"
   ]
  },
  {
   "cell_type": "markdown",
   "metadata": {
    "slideshow": {
     "slide_type": "slide"
    }
   },
   "source": [
    "## 创建字典对象\n",
    "\n",
    "字典是由键-值对（`key-value`）数据项组成的集合，可以使用`{}`来创建字典对象。字典可以包含0个或多个键值对（key-value）数据项，键值对的键与值用冒号(`:`)进行分隔，一个键值对就是字典的一个元素，元素之间仍用逗号`,`进行分隔。定义字典对象的语法格式为：\n",
    "```\n",
    "d = {\n",
    "    key1: value1, \n",
    "    key2: value2,\n",
    "    key3: value3,\n",
    "}\n",
    "```"
   ]
  },
  {
   "cell_type": "code",
   "execution_count": null,
   "metadata": {
    "slideshow": {
     "slide_type": "slide"
    }
   },
   "outputs": [],
   "source": [
    "emptydict = {}\n",
    "stock = {\n",
    "    'code': 600519 , \n",
    "    'name': '贵州茅台', \n",
    "    'listing_date': 20010827,\n",
    "    'issue_price': 34.51,\n",
    "    'low_price': 25.88,    \n",
    "}\n",
    "print(emptydict)\n",
    "print(stock)"
   ]
  },
  {
   "cell_type": "markdown",
   "metadata": {
    "slideshow": {
     "slide_type": "slide"
    }
   },
   "source": [
    "字典对象包括了键与值的数据，字典的键与值都是异质，即不要求是同一类型:"
   ]
  },
  {
   "cell_type": "code",
   "execution_count": null,
   "metadata": {
    "slideshow": {
     "slide_type": "-"
    }
   },
   "outputs": [],
   "source": [
    "d1 = {12: 'December', 'pi': 3.1314}"
   ]
  },
  {
   "cell_type": "markdown",
   "metadata": {},
   "source": [
    "字典的键必须是唯一的，但字典的值则可以重复。创建时如果同一键赋值多次，最后一个值才有效:"
   ]
  },
  {
   "cell_type": "code",
   "execution_count": null,
   "metadata": {
    "slideshow": {
     "slide_type": "-"
    }
   },
   "outputs": [],
   "source": [
    "d2 = {'name': 'Weihua', '名字': 'Peter', 'name': 'Peter'}\n",
    "print(d2)"
   ]
  },
  {
   "cell_type": "markdown",
   "metadata": {},
   "source": [
    "字典中的元素是无序，也就是说对字典进行遍历时，可以保证每个元素都被遍历一次，但顺序是无法保证一样。"
   ]
  },
  {
   "cell_type": "markdown",
   "metadata": {
    "slideshow": {
     "slide_type": "slide"
    }
   },
   "source": [
    "字典是一种映射的数据结构，为了实现映射的高效访问，Python 使用了哈希（hash）算法来实现。字典不同的键须产生不同的哈希值，要求键必须是不可变对象，能够进行哈希计算。字典的值则没有任何要求。\n",
    "\n",
    "可以通过检查该对象的成员 `__hash__`来判断是否支持 `hash()` 函数。例如数字，字符串或元组支持哈希计算，而列表就不行:"
   ]
  },
  {
   "cell_type": "code",
   "execution_count": null,
   "metadata": {
    "slideshow": {
     "slide_type": "slide"
    }
   },
   "outputs": [],
   "source": [
    "print(''.__hash__)\n",
    "print(().__hash__)\n",
    "print([].__hash__)"
   ]
  },
  {
   "cell_type": "markdown",
   "metadata": {
    "slideshow": {
     "slide_type": "slide"
    }
   },
   "source": [
    "故使用可变对象作为键来创建字典，就会抛出类型错误（`TypeError`）："
   ]
  },
  {
   "cell_type": "code",
   "execution_count": null,
   "metadata": {
    "slideshow": {
     "slide_type": "-"
    }
   },
   "outputs": [],
   "source": [
    "d2 = {1: 'one', 'two': 2, (1,2,3): 3}\n",
    "d3 = {[1,2,3]: 3}"
   ]
  },
  {
   "cell_type": "markdown",
   "metadata": {
    "slideshow": {
     "slide_type": "slide"
    }
   },
   "source": [
    "## 自省\n",
    "\n",
    "> 吾每遇对象必自省，用变量而知其类乎？用其值而知属性乎？用其法而知方法乎？"
   ]
  },
  {
   "cell_type": "markdown",
   "metadata": {
    "slideshow": {
     "slide_type": "slide"
    }
   },
   "source": [
    "### 对象的特性\n",
    "\n",
    "创建的字典对象都是 Python 内置结构类型字典（dict）的实例对象："
   ]
  },
  {
   "cell_type": "code",
   "execution_count": null,
   "metadata": {
    "slideshow": {
     "slide_type": "-"
    }
   },
   "outputs": [],
   "source": [
    "print(type(emptydict), type({}), type(stock))"
   ]
  },
  {
   "cell_type": "markdown",
   "metadata": {
    "slideshow": {
     "slide_type": "slide"
    }
   },
   "source": [
    "字典包含多个元素时，字典会维持一个键值序号对，并分别指向键值对应的对象。例如下面创建一个字典对象："
   ]
  },
  {
   "cell_type": "code",
   "execution_count": null,
   "metadata": {},
   "outputs": [],
   "source": [
    "datatypes = {\n",
    "    'int': 1, \n",
    "    'str': 'Hello World', \n",
    "    'list': [128],\n",
    "}"
   ]
  },
  {
   "cell_type": "markdown",
   "metadata": {},
   "source": [
    "创建的字典对象以及每个元素的键与值对象，如下图所示：\n",
    "![字典与元素](../images/dict_objects.png)"
   ]
  },
  {
   "cell_type": "markdown",
   "metadata": {
    "slideshow": {
     "slide_type": "slide"
    }
   },
   "source": [
    "字典是可变对象，因此可以对字典进行更改、添加、删除等操作。"
   ]
  },
  {
   "cell_type": "markdown",
   "metadata": {
    "slideshow": {
     "slide_type": "slide"
    }
   },
   "source": [
    "### 属性和方法\n",
    "\n",
    "使用 `dir()` 函数列出字典对象的属性和方法："
   ]
  },
  {
   "cell_type": "code",
   "execution_count": null,
   "metadata": {
    "slideshow": {
     "slide_type": "slide"
    }
   },
   "outputs": [],
   "source": [
    "print(dir(dict))"
   ]
  },
  {
   "cell_type": "markdown",
   "metadata": {},
   "source": [
    "#### 魔术方法\n",
    "\n",
    "字典没有定义类似`__add__`之类的魔术方法，所以也就没有类似`+`，`*`之类的算术运算符。"
   ]
  },
  {
   "cell_type": "markdown",
   "metadata": {
    "slideshow": {
     "slide_type": "slide"
    }
   },
   "source": [
    "##### 比较运算符\n",
    "\n",
    "字典对象之间不能判断谁大谁小，但可以检查是否相等，会比较每个键以及键对应的值："
   ]
  },
  {
   "cell_type": "code",
   "execution_count": null,
   "metadata": {
    "slideshow": {
     "slide_type": "slide"
    }
   },
   "outputs": [],
   "source": [
    "d1 = {'name': 'Peter', 'value':  123, 'value2':  123}\n",
    "d2 = {'name': 'Peter', 'value':  123}\n",
    "d1 == d2"
   ]
  },
  {
   "cell_type": "markdown",
   "metadata": {
    "slideshow": {
     "slide_type": "slide"
    }
   },
   "source": [
    "##### 序列运算符\n",
    "\n",
    "字典可以理解为键值对组成的序列。在字符串、元组与列表对象中用序号来进行元素访问，而字典对象是无序的，需要键来进行访问。字典是可变对象，支持更改与删除操作。\n",
    "\n",
    "|运算符 | 魔术方法    |  说明   |\n",
    "| :----:|:-------------| -------: |\n",
    "|`len()` | `__len__`   | 返回元素数目  |\n",
    "|`in` | `__contains__`   | 成员 |\n",
    "|`D[k]`  | `__getitem__` | 访问元素  |\n",
    "|`D[k] = value`  | `__setitem__` | 修改元素  |\n",
    "|`del D[k]`  | `__delitem__` | 删除元素  |"
   ]
  },
  {
   "cell_type": "markdown",
   "metadata": {
    "slideshow": {
     "slide_type": "slide"
    }
   },
   "source": [
    "使用 `len()` 函数获得字典的长度，即元素的数目："
   ]
  },
  {
   "cell_type": "code",
   "execution_count": null,
   "metadata": {
    "slideshow": {
     "slide_type": "-"
    }
   },
   "outputs": [],
   "source": [
    "len(stock)"
   ]
  },
  {
   "cell_type": "markdown",
   "metadata": {
    "slideshow": {
     "slide_type": "slide"
    }
   },
   "source": [
    "使用成员运算符 `in` 来检查指定对象是否在字典中。注意要使用字典的键："
   ]
  },
  {
   "cell_type": "code",
   "execution_count": null,
   "metadata": {
    "slideshow": {
     "slide_type": "-"
    }
   },
   "outputs": [],
   "source": [
    "print('code' in stock)\n",
    "print('code' not in stock)"
   ]
  },
  {
   "cell_type": "markdown",
   "metadata": {
    "slideshow": {
     "slide_type": "slide"
    }
   },
   "source": [
    "对于字典对象来说，使用方括号`[]`运算符，并给定字典的键，即可访问对应的值："
   ]
  },
  {
   "cell_type": "code",
   "execution_count": null,
   "metadata": {
    "slideshow": {
     "slide_type": "-"
    }
   },
   "outputs": [],
   "source": [
    "print(stock['name'], stock['listing_date'], stock['issue_price'])\n",
    "print(stock['low_price'])"
   ]
  },
  {
   "cell_type": "markdown",
   "metadata": {},
   "source": [
    "注意，访问字典元素时，如果指定了字典里不存在的键，会抛出键错误`KeyError`异常："
   ]
  },
  {
   "cell_type": "code",
   "execution_count": null,
   "metadata": {
    "slideshow": {
     "slide_type": "-"
    }
   },
   "outputs": [],
   "source": [
    "print(stock['no key'])"
   ]
  },
  {
   "cell_type": "markdown",
   "metadata": {
    "slideshow": {
     "slide_type": "slide"
    }
   },
   "source": [
    "字典是可变对象，可以向字典里添加元素或更改键值，语法:\n",
    "```\n",
    "D[key] = value\n",
    "```\n",
    "\n",
    "当字典不存在该键时，会添加了新的键值对，如果字典存在该键，会更改该键对应的值："
   ]
  },
  {
   "cell_type": "code",
   "execution_count": null,
   "metadata": {},
   "outputs": [],
   "source": [
    "# 增加新的键值对\n",
    "stock['current_date'] = 20180612\n",
    "stock['current_price'] = 4212.01\n",
    "stock['position'] = 1000\n",
    "stock['return'] = (stock['current_price'] - stock['low_price']) * stock['position']\n",
    "print(stock['return'])"
   ]
  },
  {
   "cell_type": "code",
   "execution_count": null,
   "metadata": {},
   "outputs": [],
   "source": [
    "# 修改新的键值对\n",
    "stock['current_date'] = 20180710\n",
    "stock['current_price'] = 3869.0\n",
    "stock['position'] = 1000\n",
    "stock['return'] = (stock['current_price'] - stock['low_price']) * stock['position']\n",
    "print(stock['return'])"
   ]
  },
  {
   "cell_type": "markdown",
   "metadata": {
    "slideshow": {
     "slide_type": "slide"
    }
   },
   "source": [
    "使用`del`删除一个字典元素："
   ]
  },
  {
   "cell_type": "code",
   "execution_count": null,
   "metadata": {
    "slideshow": {
     "slide_type": "-"
    }
   },
   "outputs": [],
   "source": [
    "del stock['return']\n",
    "\n",
    "print(stock)"
   ]
  },
  {
   "cell_type": "markdown",
   "metadata": {
    "slideshow": {
     "slide_type": "skip"
    }
   },
   "source": [
    "#### 常规方法\n",
    "\n",
    "字典类型还定义常规方法，实现字典的更多操作：\n",
    "\n",
    "|方法         |  说明      |\n",
    "|:--------------:|-------------: |\n",
    "|`D.keys()`      | 返回字典中所有键 |\n",
    "|`T.values()`    | 返回字典中所有值 |\n",
    "|`D.items()`    | 返回字典中键值对|\n",
    "|`D.get()`    | 返回指定键的值 |\n",
    "|`D.update()`    | 更新字典 |\n",
    "|`D.setdefault()`  | 返回给定键的值 |\n",
    "|`D.pop()`    | 弹出指定键的元素并返回其值|\n",
    "|`T.popitem()`    | 弹出键值对 |\n",
    "|`D.clear()`    | 清空字典 |\n",
    "|`D.copy()`    | 浅拷贝字典 |\n",
    "|`D.fromkeys()`    | 创建新的字典 |"
   ]
  },
  {
   "cell_type": "markdown",
   "metadata": {
    "slideshow": {
     "slide_type": "slide"
    }
   },
   "source": [
    "## 操作和方法示例"
   ]
  },
  {
   "cell_type": "markdown",
   "metadata": {
    "slideshow": {
     "slide_type": "slide"
    }
   },
   "source": [
    "### 访问字典指定键的值\n",
    "\n",
    "使用`D.get()`来访问字典对应键值:\n",
    "```\n",
    "    D.get(k[,d]) -> D[k] if k in D, else d.  d defaults to None.\n",
    "```    "
   ]
  },
  {
   "cell_type": "markdown",
   "metadata": {
    "slideshow": {
     "slide_type": "slide"
    }
   },
   "source": [
    "使用运算符`[]`来读取字典对象中键对应的值，但如果该键不存在，则会抛出键错误`KeyError`异常。使用 `D.get()` 的话，如果键不存在则返回一个缺省值："
   ]
  },
  {
   "cell_type": "code",
   "execution_count": null,
   "metadata": {
    "slideshow": {
     "slide_type": "-"
    }
   },
   "outputs": [],
   "source": [
    "print(stock.get('current_date', 20180710))"
   ]
  },
  {
   "cell_type": "markdown",
   "metadata": {
    "slideshow": {
     "slide_type": "slide"
    }
   },
   "source": [
    "### 修改字典\n",
    "\n",
    "使用运算符`D[key] = value`来添加或更改字典的键值对。\n",
    "\n",
    "使用`D.update()`方法则可以从另一字典中添加和更新键值对：\n"
   ]
  },
  {
   "cell_type": "code",
   "execution_count": null,
   "metadata": {
    "slideshow": {
     "slide_type": "slide"
    }
   },
   "outputs": [],
   "source": [
    "d1 = {'id': 123, 'name': 'Peter'}\n",
    "d2 = {'id': 1, 'score': 99}\n",
    "d1.update(d2)\n",
    "print(d1)"
   ]
  },
  {
   "cell_type": "markdown",
   "metadata": {
    "slideshow": {
     "slide_type": "slide"
    }
   },
   "source": [
    "### `setdefault()`方法\n",
    "\n",
    "`D.setdefault()`方法与`D.get()`方法类似，用来访问字典的给定键的值，但区别在于如果该键不存在，就顺手添加键与值。\n",
    "```\n",
    "D.setdefault(k[,d]) -> D.get(k,d), also set D[k]=d if k not in D\n",
    "```"
   ]
  },
  {
   "cell_type": "code",
   "execution_count": null,
   "metadata": {
    "slideshow": {
     "slide_type": "slide"
    }
   },
   "outputs": [],
   "source": [
    "student = {'name': '老王'}\n",
    "print('Name: {}'.format(student.setdefault('name', '无名')))\n",
    "print('Grade: {}'.format(student.setdefault('grade', 60)))\n",
    "print(student)"
   ]
  },
  {
   "cell_type": "markdown",
   "metadata": {
    "slideshow": {
     "slide_type": "slide"
    }
   },
   "source": [
    "### 清空字典元素\n",
    "\n",
    "使用`D.clear()`清空字典所有元素：\n",
    "```\n",
    " D.clear() -> None.  Remove all items from D.\n",
    " ```"
   ]
  },
  {
   "cell_type": "code",
   "execution_count": null,
   "metadata": {
    "slideshow": {
     "slide_type": "slide"
    }
   },
   "outputs": [],
   "source": [
    "d1 = {'id': 123, 'name': 'Peter'}\n",
    "d1.clear()\n",
    "print(d1)"
   ]
  },
  {
   "cell_type": "markdown",
   "metadata": {
    "slideshow": {
     "slide_type": "slide"
    }
   },
   "source": [
    "### 弹出字典元素\n",
    "\n",
    "使用`D.pop()`与`D.popitem()`方法，可以一步实现字典元素获取以及从字典删除。"
   ]
  },
  {
   "cell_type": "markdown",
   "metadata": {
    "slideshow": {
     "slide_type": "slide"
    }
   },
   "source": [
    "`D.pop()`从字典中删除给定键的元素，同时返回该键对应的值。\n",
    "```\n",
    "D.pop(k[,d]) -> v\n",
    "```"
   ]
  },
  {
   "cell_type": "code",
   "execution_count": null,
   "metadata": {
    "slideshow": {
     "slide_type": "slide"
    }
   },
   "outputs": [],
   "source": [
    "d1 = {'id': 123, 'name': 'Peter'}\n",
    "name = d1.pop('name')\n",
    "print(name, d1)\n",
    "score = d1.pop('score', 100)\n",
    "print(score, d1)"
   ]
  },
  {
   "cell_type": "markdown",
   "metadata": {
    "slideshow": {
     "slide_type": "slide"
    }
   },
   "source": [
    "使用 `D.popitem()` 会得到字典对象的一个键值对。须注意，字典是无序的，故返回结果无法确保。\n",
    "```\n",
    "D.popitem() -> (k, v)\n",
    "```"
   ]
  },
  {
   "cell_type": "code",
   "execution_count": null,
   "metadata": {
    "slideshow": {
     "slide_type": "slide"
    }
   },
   "outputs": [],
   "source": [
    "# dict popitem method\n",
    "d1 = {'id': 123, 'name': 'Peter'}\n",
    "key, value = d1.popitem()\n",
    "print(key, value, d1)"
   ]
  },
  {
   "cell_type": "markdown",
   "metadata": {
    "slideshow": {
     "slide_type": "slide"
    }
   },
   "source": [
    "如果字典为空，则会抛出键错误`KeyError`:"
   ]
  },
  {
   "cell_type": "code",
   "execution_count": null,
   "metadata": {
    "slideshow": {
     "slide_type": "-"
    }
   },
   "outputs": [],
   "source": [
    "emptydict = {}\n",
    "key, value = emptydict.popitem()"
   ]
  },
  {
   "cell_type": "markdown",
   "metadata": {
    "slideshow": {
     "slide_type": "slide"
    }
   },
   "source": [
    "### 列出字典内容\n",
    "\n",
    "- `D.keys()`返回字典所有键；\n",
    "- `D.values()`返回字典所有值；\n",
    "- `D.values()`返回字典所有键值对元素；"
   ]
  },
  {
   "cell_type": "code",
   "execution_count": null,
   "metadata": {
    "slideshow": {
     "slide_type": "slide"
    }
   },
   "outputs": [],
   "source": [
    "for key in stock.keys():\n",
    "    print(key, end = ', ')"
   ]
  },
  {
   "cell_type": "code",
   "execution_count": null,
   "metadata": {
    "slideshow": {
     "slide_type": "slide"
    }
   },
   "outputs": [],
   "source": [
    "for value in stock.values():\n",
    "    print(key, end = ', ')"
   ]
  },
  {
   "cell_type": "code",
   "execution_count": null,
   "metadata": {
    "slideshow": {
     "slide_type": "slide"
    }
   },
   "outputs": [],
   "source": [
    "for key, value in stock.items():\n",
    "    print('{} - {}'.format(key, value))"
   ]
  },
  {
   "cell_type": "markdown",
   "metadata": {
    "slideshow": {
     "slide_type": "slide"
    }
   },
   "source": [
    "返回字典的键、值、键值对后，使用`for`来遍历。参见后续章节。"
   ]
  },
  {
   "cell_type": "markdown",
   "metadata": {
    "slideshow": {
     "slide_type": "slide"
    }
   },
   "source": [
    "### 浅拷贝字典\n",
    "\n",
    "使用 `D.copy()`浅拷贝字典。"
   ]
  },
  {
   "cell_type": "code",
   "execution_count": null,
   "metadata": {
    "slideshow": {
     "slide_type": "slide"
    }
   },
   "outputs": [],
   "source": [
    "student = {'name': '老王', 'grades': [60, 70, 80]}\n",
    "student2 = student.copy()\n",
    "print(student2)"
   ]
  },
  {
   "cell_type": "markdown",
   "metadata": {
    "slideshow": {
     "slide_type": "slide"
    }
   },
   "source": [
    "### `dict.fromkeys`方法\n",
    "\n",
    "创建一个新的字典，字典的键为传入序列参数中的元素，其值为给定值或缺省的None值。"
   ]
  },
  {
   "cell_type": "code",
   "execution_count": null,
   "metadata": {
    "slideshow": {
     "slide_type": "slide"
    }
   },
   "outputs": [],
   "source": [
    "seq = ('code', 'name', 'listing_date', 'issue_price', 'low_price')\n",
    "stock1 = dict.fromkeys(seq)\n",
    "print(stock1)\n",
    "stock2 = stock.fromkeys(seq, 10)\n",
    "print(stock2)"
   ]
  },
  {
   "cell_type": "markdown",
   "metadata": {},
   "source": [
    "## 遍历字典\n",
    "\n",
    "字典是一个序列，可以使用`for`语句来遍历字典的每一个键值："
   ]
  },
  {
   "cell_type": "code",
   "execution_count": null,
   "metadata": {},
   "outputs": [],
   "source": [
    "datatypes = {\n",
    "    'bool': True,\n",
    "    'int': 1024,\n",
    "    'float': 3.1314,\n",
    "    'str': 'Hello World',\n",
    "}\n",
    "\n",
    "for k in datatypes:\n",
    "    print(k)"
   ]
  },
  {
   "cell_type": "markdown",
   "metadata": {},
   "source": [
    "但通常会使用字典的方法`D.keys()`、`D.values()`、`D.items()`， 来遍历字典中的键、值或键值对："
   ]
  },
  {
   "cell_type": "code",
   "execution_count": null,
   "metadata": {},
   "outputs": [],
   "source": [
    "for key in datatypes.keys():\n",
    "    print(key, end = ', ')"
   ]
  },
  {
   "cell_type": "code",
   "execution_count": null,
   "metadata": {},
   "outputs": [],
   "source": [
    "for value in datatypes.values():\n",
    "    print(value, end = ', ')    "
   ]
  },
  {
   "cell_type": "code",
   "execution_count": null,
   "metadata": {},
   "outputs": [],
   "source": [
    "for key, value in datatypes.items():\n",
    "    print('{}:{}'.format(key, value), end=', ')"
   ]
  },
  {
   "cell_type": "markdown",
   "metadata": {
    "slideshow": {
     "slide_type": "slide"
    }
   },
   "source": [
    "## 转换\n",
    "\n",
    "使用内置`dict`类构造对象:\n",
    "- 不传入参数，返回空字典；\n",
    "- 传入映射对象，返回字典\n",
    "- 传入迭代对象，返回字典。"
   ]
  },
  {
   "cell_type": "code",
   "execution_count": null,
   "metadata": {
    "slideshow": {
     "slide_type": "slide"
    }
   },
   "outputs": [],
   "source": [
    "d1 = dict()\n",
    "print(d1)"
   ]
  },
  {
   "cell_type": "code",
   "execution_count": null,
   "metadata": {
    "slideshow": {
     "slide_type": "-"
    }
   },
   "outputs": [],
   "source": [
    "d2 = dict(x=1, y=2)\n",
    "print(d2)"
   ]
  },
  {
   "cell_type": "code",
   "execution_count": null,
   "metadata": {},
   "outputs": [],
   "source": [
    "keys = ('code', 'name', 'listing_date', 'issue_price', 'low_price')\n",
    "values = (600519 , '贵州茅台', 20010827, 34.51, 25.88)\n",
    "stock3 = zip(keys, values)\n",
    "print(dict(stock3))"
   ]
  },
  {
   "cell_type": "markdown",
   "metadata": {
    "slideshow": {
     "slide_type": "slide"
    }
   },
   "source": [
    "## 错误与异常\n",
    "\n",
    "> 像硬币一样，任何事物都具有两重性或两面性。\n",
    "\n",
    "- 类型错误\n",
    "- 键错误\n",
    "- 遍历错误"
   ]
  }
 ],
 "metadata": {
  "kernelspec": {
   "display_name": "Python 3",
   "language": "python",
   "name": "python3"
  },
  "language_info": {
   "codemirror_mode": {
    "name": "ipython",
    "version": 3
   },
   "file_extension": ".py",
   "mimetype": "text/x-python",
   "name": "python",
   "nbconvert_exporter": "python",
   "pygments_lexer": "ipython3",
   "version": "3.6.4"
  },
  "toc": {
   "base_numbering": 1,
   "nav_menu": {},
   "number_sections": true,
   "sideBar": true,
   "skip_h1_title": false,
   "title_cell": "Table of Contents",
   "title_sidebar": "Contents",
   "toc_cell": false,
   "toc_position": {
    "height": "calc(100% - 180px)",
    "left": "10px",
    "top": "150px",
    "width": "253px"
   },
   "toc_section_display": true,
   "toc_window_display": true
  }
 },
 "nbformat": 4,
 "nbformat_minor": 1
}
