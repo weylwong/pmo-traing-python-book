{
 "cells": [
  {
   "cell_type": "markdown",
   "metadata": {
    "slideshow": {
     "slide_type": "slide"
    }
   },
   "source": [
    "# 基本类型-列表(list)\n",
    "\n",
    "在显示生活中大家都用过或见过归纳箱、展示柜或货架之类的物件，用来存放各种各样的东西。\n",
    "<img src=\"../images/list_in_life.jpg\" style=\"zoom:30%\" />\n",
    "\n",
    "对于一个归纳箱或展示柜来说，常常会有如下操作：\n",
    "- 创建一个归纳箱（购买）\n",
    "- 可以放不同类型的东西\n",
    "- 数数有多少东西\n",
    "- 查看指定位置的东西\n",
    "- 往里面添加东西\n",
    "- 拿走东西\n",
    "- ..."
   ]
  },
  {
   "cell_type": "markdown",
   "metadata": {
    "slideshow": {
     "slide_type": "-"
    }
   },
   "source": [
    "本节要介绍的 Python 内置类型列表（list）具有类似收纳箱的作用，适用于异质，有序、可重复、可变，无映射的数据集。"
   ]
  },
  {
   "cell_type": "markdown",
   "metadata": {
    "slideshow": {
     "slide_type": "slide"
    }
   },
   "source": [
    "## 创建列表对象\n",
    "\n",
    "列表(list)是 Python 经常用到的结构类型，它是一个包含0个或多个元素的有序的序列。创建列表使用中括号`[]`，包含0个或多个 Python 对象，并用逗号`,`隔开："
   ]
  },
  {
   "cell_type": "code",
   "execution_count": null,
   "metadata": {
    "slideshow": {
     "slide_type": "-"
    }
   },
   "outputs": [],
   "source": [
    "emptylist = []\n",
    "digits = [0, 1, 2, 3, 4, 5, 6, 7, 8, 9]\n",
    "print(emptylist)\n",
    "print(digits)"
   ]
  },
  {
   "cell_type": "markdown",
   "metadata": {
    "slideshow": {
     "slide_type": "slide"
    }
   },
   "source": [
    "列表中的一个对象称为列表的一个元素，如果一个列表没有元素，称之为空列表。列表的元素可以重复："
   ]
  },
  {
   "cell_type": "code",
   "execution_count": null,
   "metadata": {},
   "outputs": [],
   "source": [
    "stocks = ['贵州茅台', '格力电器', '格力电器']\n",
    "print(stocks)"
   ]
  },
  {
   "cell_type": "markdown",
   "metadata": {
    "slideshow": {
     "slide_type": "slide"
    }
   },
   "source": [
    "列表的元素可以是不同的数据类型："
   ]
  },
  {
   "cell_type": "code",
   "execution_count": null,
   "metadata": {
    "slideshow": {
     "slide_type": "-"
    }
   },
   "outputs": [],
   "source": [
    "datatypes = [True, 10**100, 3.1415926, 3+4j, 'Python']\n",
    "print(datatypes)"
   ]
  },
  {
   "cell_type": "markdown",
   "metadata": {
    "slideshow": {
     "slide_type": "slide"
    }
   },
   "source": [
    "在 Python 中万物皆对象，列表中的元素只要是Python对象即可。在列表的元素也可以是列表对象，也就是嵌套列表："
   ]
  },
  {
   "cell_type": "code",
   "execution_count": null,
   "metadata": {
    "slideshow": {
     "slide_type": "-"
    }
   },
   "outputs": [],
   "source": [
    "nesting_list = ['nesting list', digits, stocks]\n",
    "print(nesting_list)"
   ]
  },
  {
   "cell_type": "markdown",
   "metadata": {
    "slideshow": {
     "slide_type": "slide"
    }
   },
   "source": [
    "## 自省\n",
    "\n",
    "> 吾每遇对象必自省，用变量而知其类乎？用其值而知属性乎？用其法而知方法乎？"
   ]
  },
  {
   "cell_type": "markdown",
   "metadata": {
    "slideshow": {
     "slide_type": "slide"
    }
   },
   "source": [
    "### 对象的特性\n",
    "\n",
    "创建的每个列表都是 Python 内置类型列表（list）的实例："
   ]
  },
  {
   "cell_type": "code",
   "execution_count": null,
   "metadata": {
    "slideshow": {
     "slide_type": "-"
    }
   },
   "outputs": [],
   "source": [
    "print(type([]), type(digits), type(datatypes), type(nesting_list))"
   ]
  },
  {
   "cell_type": "markdown",
   "metadata": {
    "slideshow": {
     "slide_type": "slide"
    }
   },
   "source": [
    "使用`[]`来定义变量，会创建一个列表对象，然后绑定到指定变量。如果创建两个空列表的变量，二者会指向不同的空列表对象："
   ]
  },
  {
   "cell_type": "code",
   "execution_count": null,
   "metadata": {
    "slideshow": {
     "slide_type": "-"
    }
   },
   "outputs": [],
   "source": [
    "emptylist1 = []\n",
    "emptylist2 = []\n",
    "print(emptylist1 is emptylist2)"
   ]
  },
  {
   "cell_type": "markdown",
   "metadata": {
    "slideshow": {
     "slide_type": "-"
    }
   },
   "source": [
    "![变量与列表对象](../images/list_two_objects.png)"
   ]
  },
  {
   "cell_type": "markdown",
   "metadata": {
    "slideshow": {
     "slide_type": "slide"
    }
   },
   "source": [
    "当列表包含多个元素时，列表会维持一个索引组，并指向创建的元素对象。例如，下面创建一个不同类型元素的列表："
   ]
  },
  {
   "cell_type": "code",
   "execution_count": null,
   "metadata": {
    "slideshow": {
     "slide_type": "-"
    }
   },
   "outputs": [],
   "source": [
    "datatypes = [True, 10**100, 3.1415926, 3+4j, 'Python', [1]]"
   ]
  },
  {
   "cell_type": "markdown",
   "metadata": {
    "slideshow": {
     "slide_type": "-"
    }
   },
   "source": [
    "创建的列表对象以及每个元素对象，如下图所示：\n",
    "![列表与元素](../images/list_objects.png))"
   ]
  },
  {
   "cell_type": "markdown",
   "metadata": {
    "slideshow": {
     "slide_type": "slide"
    }
   },
   "source": [
    "每个对象有三个特性：类型、身份标识、值。其值可以更改称为可变（mutable）对象，不可以更改称为不可变（immutable）对象。列表对象是可变对象。也就是说，可以对列表中的元素进行增删改操作。"
   ]
  },
  {
   "cell_type": "markdown",
   "metadata": {
    "slideshow": {
     "slide_type": "slide"
    }
   },
   "source": [
    "### 属性和方法\n",
    "\n",
    "可以使用`dir()`函数列出列表对象的属性和方法："
   ]
  },
  {
   "cell_type": "code",
   "execution_count": 2,
   "metadata": {
    "slideshow": {
     "slide_type": "-"
    }
   },
   "outputs": [
    {
     "name": "stdout",
     "output_type": "stream",
     "text": [
      "['__add__', '__class__', '__contains__', '__delattr__', '__delitem__', '__dir__', '__doc__', '__eq__', '__format__', '__ge__', '__getattribute__', '__getitem__', '__gt__', '__hash__', '__iadd__', '__imul__', '__init__', '__init_subclass__', '__iter__', '__le__', '__len__', '__lt__', '__mul__', '__ne__', '__new__', '__reduce__', '__reduce_ex__', '__repr__', '__reversed__', '__rmul__', '__setattr__', '__setitem__', '__sizeof__', '__str__', '__subclasshook__', 'append', 'clear', 'copy', 'count', 'extend', 'index', 'insert', 'pop', 'remove', 'reverse', 'sort']\n"
     ]
    }
   ],
   "source": [
    "print(dir(list))"
   ]
  },
  {
   "cell_type": "markdown",
   "metadata": {},
   "source": [
    "#### 魔术方法\n",
    "\n",
    "在列表类型中定义有魔术方法，可以使用`+`、`*`等操作。Python 最佳特征之一就是其一致性。"
   ]
  },
  {
   "cell_type": "markdown",
   "metadata": {
    "slideshow": {
     "slide_type": "slide"
    }
   },
   "source": [
    "##### 算术操作\n",
    "\n",
    "与字符串相似，列表的“加法”是列表的组合，“乘法” 号用于重复列表。同样加法与乘法操作会返回新的列表对象。\n",
    "\n",
    "|运算符 | 魔术方法    |  说明   |\n",
    "| :----:|:-------------| -------: |\n",
    "| `+`  | `__add__`    | 组合列表 |\n",
    "| `*`  | `__mul__`    | 重复列表 |"
   ]
  },
  {
   "cell_type": "code",
   "execution_count": null,
   "metadata": {
    "slideshow": {
     "slide_type": "-"
    }
   },
   "outputs": [],
   "source": [
    "print([1, 2, 3] + [4, 5, 6])"
   ]
  },
  {
   "cell_type": "code",
   "execution_count": null,
   "metadata": {
    "slideshow": {
     "slide_type": "-"
    }
   },
   "outputs": [],
   "source": [
    "print(digits * 3)"
   ]
  },
  {
   "cell_type": "markdown",
   "metadata": {
    "slideshow": {
     "slide_type": "slide"
    }
   },
   "source": [
    "##### 比较运算\n",
    "\n",
    "列表是一个有序的序列，支持比较运算。在进行比较运算时，会依次对每个元素进行比较："
   ]
  },
  {
   "cell_type": "code",
   "execution_count": null,
   "metadata": {
    "slideshow": {
     "slide_type": "slide"
    }
   },
   "outputs": [],
   "source": [
    "print([1, 2, 2, 2] < [2, 1, 1, 1])\n",
    "print([1, 2, 4, 3] == [1, 2, 3, 4])"
   ]
  },
  {
   "cell_type": "markdown",
   "metadata": {
    "slideshow": {
     "slide_type": "slide"
    }
   },
   "source": [
    "##### 序列操作\n",
    "\n",
    "列表是一个有序的序列，在下表列出实现的魔术方法与对应序列运算符。与不可变对象字符串相比，列表对象可以更改元素和删除元素：\n",
    "\n",
    "|运算符 | 特殊方法    |  说明   |\n",
    "| :----:|:-------------| -------: |\n",
    "|`len()` | `__len__`   | 返回序列长度  |\n",
    "|`in`   | `__contains__` | 成员 |\n",
    "|`s[k]`  | `__getitem__` | 返回元素  |\n",
    "|`s[k]=x`| `__setitem__` | 更改元素  |\n",
    "|`del s[k]`| `__delitem__` | 删除元素  |"
   ]
  },
  {
   "cell_type": "markdown",
   "metadata": {
    "slideshow": {
     "slide_type": "slide"
    }
   },
   "source": [
    "使用 `len()` 函数获得列表的长度，也即是列表元素的数目："
   ]
  },
  {
   "cell_type": "code",
   "execution_count": null,
   "metadata": {
    "slideshow": {
     "slide_type": "-"
    }
   },
   "outputs": [],
   "source": [
    "print(len(emptylist), len(digits), len(datatypes), len(nesting_list))"
   ]
  },
  {
   "cell_type": "markdown",
   "metadata": {
    "slideshow": {
     "slide_type": "slide"
    }
   },
   "source": [
    "可以使用成员运算符 `in` 来检查指定对象是否在列表中："
   ]
  },
  {
   "cell_type": "code",
   "execution_count": null,
   "metadata": {
    "slideshow": {
     "slide_type": "-"
    }
   },
   "outputs": [],
   "source": [
    "print(True in datatypes)\n",
    "print(3+4j in datatypes)"
   ]
  },
  {
   "cell_type": "markdown",
   "metadata": {
    "slideshow": {
     "slide_type": "slide"
    }
   },
   "source": [
    "与字符串一样，列表有类似切片的操作。使用切片操作可以访问列表中的单个元素或多个元素："
   ]
  },
  {
   "cell_type": "code",
   "execution_count": null,
   "metadata": {
    "slideshow": {
     "slide_type": "-"
    }
   },
   "outputs": [],
   "source": [
    "print(digits[0], digits[-1], digits[:3], digits[:7:2])"
   ]
  },
  {
   "cell_type": "markdown",
   "metadata": {
    "slideshow": {
     "slide_type": "slide"
    }
   },
   "source": [
    "列表是有序的序列，同样存在索引溢出问题："
   ]
  },
  {
   "cell_type": "code",
   "execution_count": null,
   "metadata": {
    "slideshow": {
     "slide_type": "-"
    }
   },
   "outputs": [],
   "source": [
    "print(digits[10])"
   ]
  },
  {
   "cell_type": "markdown",
   "metadata": {
    "slideshow": {
     "slide_type": "slide"
    }
   },
   "source": [
    "与字符串相比，列表还是可变对象，及可以更改、删除列表元素。使用如下运算符实现列表元素更改和删除："
   ]
  },
  {
   "cell_type": "code",
   "execution_count": null,
   "metadata": {
    "slideshow": {
     "slide_type": "-"
    }
   },
   "outputs": [],
   "source": [
    "digits = [0, 1, 2, 3, 4, 5, 6, 7, 8, 9]\n",
    "digits[5] = 'Changed'\n",
    "print(digits)"
   ]
  },
  {
   "cell_type": "code",
   "execution_count": null,
   "metadata": {
    "slideshow": {
     "slide_type": "-"
    }
   },
   "outputs": [],
   "source": [
    "del digits[5]\n",
    "print(digits)"
   ]
  },
  {
   "cell_type": "markdown",
   "metadata": {
    "slideshow": {
     "slide_type": "slide"
    }
   },
   "source": [
    "#### 常规方法\n",
    "\n",
    "除了上述使用运算符实现列表的更改、删除、合并与重复之外，列表还提供多个常规方法，实现列表的增加、合并、删除、查询、排序等操作："
   ]
  },
  {
   "cell_type": "markdown",
   "metadata": {
    "slideshow": {
     "slide_type": "-"
    }
   },
   "source": [
    "##### 列表增删\n",
    "\n",
    "|方法         |  说明      |\n",
    "|:--------------:|-------------: |\n",
    "|`L.append`     | 添加新的对象 |\n",
    "|`L.insert()`    | 添加新的对象 |\n",
    "|`L.extend()`   | 添加合并列表 |\n",
    "|`L.pop()`     | 移除列表一个元素 |\n",
    "|`L.remove()`    | 删除指定匹配的元素 |\n",
    "|`L.clear()`    | 清除列表元素 |\n",
    "|`L.copy()`     | 返回列表的一个浅拷贝|"
   ]
  },
  {
   "cell_type": "markdown",
   "metadata": {
    "slideshow": {
     "slide_type": "slide"
    }
   },
   "source": [
    "##### 搜索和排序\n",
    "\n",
    "\n",
    "|方法         |  说明      |\n",
    "|:--------------:|-------------: |\n",
    "|`L.index()`    | 查找指定匹配元素的索引值 |\n",
    "|`L.count()`    | 统计某个元素次数 |\n",
    "|`L.reverse()`   | 倒序 |\n",
    "|`L.sort()()`   | 排序 |"
   ]
  },
  {
   "cell_type": "markdown",
   "metadata": {
    "slideshow": {
     "slide_type": "slide"
    }
   },
   "source": [
    "## 列表操作和方法示例\n",
    "\n",
    "下面给出列表常见操作和方法的应用实例。"
   ]
  },
  {
   "cell_type": "markdown",
   "metadata": {
    "slideshow": {
     "slide_type": "slide"
    }
   },
   "source": [
    "添加新元素\n",
    "```\n",
    "    L.append(object) -> None -- append object to end\n",
    "```    "
   ]
  },
  {
   "cell_type": "code",
   "execution_count": null,
   "metadata": {
    "slideshow": {
     "slide_type": "-"
    }
   },
   "outputs": [],
   "source": [
    "# list append method\n",
    "alist = []\n",
    "alist.append(0)\n",
    "print(alist)\n",
    "alist.append('Hello World')\n",
    "print(alist)"
   ]
  },
  {
   "cell_type": "markdown",
   "metadata": {
    "slideshow": {
     "slide_type": "skip"
    }
   },
   "source": [
    "在指定索引位置前插入插入新元素\n",
    "```\n",
    "    L.insert(index, object) -- insert object before index\n",
    "```"
   ]
  },
  {
   "cell_type": "code",
   "execution_count": null,
   "metadata": {
    "slideshow": {
     "slide_type": "skip"
    }
   },
   "outputs": [],
   "source": [
    "# list insert method\n",
    "alist = [0, 1, 2, 3, 4]\n",
    "alist.insert(3, 'value1 index 3')\n",
    "print(alist)\n",
    "alist.insert(3, 'value2 index 3')\n",
    "print(alist)"
   ]
  },
  {
   "cell_type": "markdown",
   "metadata": {
    "slideshow": {
     "slide_type": "slide"
    }
   },
   "source": [
    "在列表尾部增加多个元素\n",
    "```\n",
    "    L.extend(iterable) -> None -- extend list by appending elements from the iterable\n",
    "```    "
   ]
  },
  {
   "cell_type": "code",
   "execution_count": null,
   "metadata": {
    "slideshow": {
     "slide_type": "-"
    }
   },
   "outputs": [],
   "source": [
    "# list extend method\n",
    "alist = [0, 1, 2, 3, 4]\n",
    "blist = [5, 6, 7, 8, 9]\n",
    "alist.extend(blist)\n",
    "print(alist)"
   ]
  },
  {
   "cell_type": "markdown",
   "metadata": {
    "slideshow": {
     "slide_type": "slide"
    }
   },
   "source": [
    "移除列表中的一个元素，并且返回该元素的值，默认最后一个元素。\n",
    "```\n",
    "    L.pop([index]) -> item -- remove and return item at index (default last).\n",
    "    Raises IndexError if list is empty or index is out of range.\n",
    "```"
   ]
  },
  {
   "cell_type": "code",
   "execution_count": null,
   "metadata": {
    "slideshow": {
     "slide_type": "-"
    }
   },
   "outputs": [],
   "source": [
    "# list pop method\n",
    "alist = [0, 1, 2, 3, 4]\n",
    "var = alist.pop()\n",
    "print(var, alist)\n",
    "alist = [0, 1, 2, 3, 4]\n",
    "var = alist.pop(2)\n",
    "print(var, alist)"
   ]
  },
  {
   "cell_type": "markdown",
   "metadata": {
    "slideshow": {
     "slide_type": "slide"
    }
   },
   "source": [
    "注意：如果索引超出列表长度，会出现索引溢出异常。"
   ]
  },
  {
   "cell_type": "code",
   "execution_count": null,
   "metadata": {
    "slideshow": {
     "slide_type": "-"
    }
   },
   "outputs": [],
   "source": [
    "# list pop method\n",
    "alist = [0, 1, 2, 3, 4]\n",
    "var = alist.pop(5)\n",
    "print(var, alist)"
   ]
  },
  {
   "cell_type": "markdown",
   "metadata": {
    "slideshow": {
     "slide_type": "slide"
    }
   },
   "source": [
    "删除列表中某个指定值的第一个匹配项，如果该值不存在则会抛出异常\n",
    "```\n",
    "    L.remove(value) -> None -- remove first occurrence of value.\n",
    "    Raises ValueError if the value is not present.\n",
    "```"
   ]
  },
  {
   "cell_type": "code",
   "execution_count": null,
   "metadata": {
    "slideshow": {
     "slide_type": "-"
    }
   },
   "outputs": [],
   "source": [
    "# list remove method\n",
    "alist = [0, 1, 2, 3, 4, 2, 'Hello']\n",
    "alist.remove('Hello')\n",
    "print(alist)"
   ]
  },
  {
   "cell_type": "code",
   "execution_count": null,
   "metadata": {
    "slideshow": {
     "slide_type": "slide"
    }
   },
   "outputs": [],
   "source": [
    "# list remove method\n",
    "alist = [0, 1, 2, 3, 4, 2, 2]\n",
    "alist.remove(5)\n",
    "print(alist)"
   ]
  },
  {
   "cell_type": "markdown",
   "metadata": {
    "slideshow": {
     "slide_type": "slide"
    }
   },
   "source": [
    "清除列表所有元素\n",
    "```\n",
    "    L.clear() -> None -- remove all items from L\n",
    "```    "
   ]
  },
  {
   "cell_type": "code",
   "execution_count": null,
   "metadata": {
    "slideshow": {
     "slide_type": "-"
    }
   },
   "outputs": [],
   "source": [
    "# list clear method\n",
    "alist = [0, 1, 2, 3, 4, 2, 2]\n",
    "alist.clear()\n",
    "print(alist)"
   ]
  },
  {
   "cell_type": "markdown",
   "metadata": {
    "slideshow": {
     "slide_type": "slide"
    }
   },
   "source": [
    "\n",
    "```\n",
    "    L.copy() -> list -- a shallow copy of L\n",
    "```    "
   ]
  },
  {
   "cell_type": "code",
   "execution_count": null,
   "metadata": {
    "slideshow": {
     "slide_type": "-"
    }
   },
   "outputs": [],
   "source": [
    "# list copy method\n",
    "alist = [0, 1, 2, 3, 4, 2, 2]\n",
    "blist = alist.copy()\n",
    "print(id(alist), id(blist))\n",
    "print(alist, blist)\n",
    "\n",
    "alist[0] = 2 ** 16\n",
    "alist.pop()\n",
    "print(alist, blist)"
   ]
  },
  {
   "cell_type": "markdown",
   "metadata": {
    "slideshow": {
     "slide_type": "slide"
    }
   },
   "source": [
    "在列表中搜索指定值，如果失败抛出异常。\n",
    "```\n",
    "    L.index(value, [start, [stop]]) -> integer -- return first index of value.\n",
    "    Raises ValueError if the value is not present.\n",
    "```    "
   ]
  },
  {
   "cell_type": "code",
   "execution_count": null,
   "metadata": {
    "slideshow": {
     "slide_type": "-"
    }
   },
   "outputs": [],
   "source": [
    "# list index method\n",
    "alist = [0, 1, 2, 3, 4, 2, 2]\n",
    "xindex = alist.index(2)\n",
    "print(xindex, alist)\n",
    "xindex = alist.index(2, xindex+1)\n",
    "print(xindex, alist)"
   ]
  },
  {
   "cell_type": "code",
   "execution_count": null,
   "metadata": {
    "slideshow": {
     "slide_type": "slide"
    }
   },
   "outputs": [],
   "source": [
    "# list index method\n",
    "alist = [0, 1, 2, 3, 4, 2, 2]\n",
    "xindex = alist.index(5)\n",
    "print(xindex, alist)"
   ]
  },
  {
   "cell_type": "markdown",
   "metadata": {
    "slideshow": {
     "slide_type": "slide"
    }
   },
   "source": [
    "对列表中指定值统计次数\n",
    "```\n",
    "    L.count(value) -> integer -- return number of occurrences of value\n",
    "```"
   ]
  },
  {
   "cell_type": "code",
   "execution_count": null,
   "metadata": {
    "slideshow": {
     "slide_type": "-"
    }
   },
   "outputs": [],
   "source": [
    "# list count method\n",
    "alist = [0, 1, 2, 3, 4, 2, 2]\n",
    "num = alist.count(2)\n",
    "print(num, alist)"
   ]
  },
  {
   "cell_type": "markdown",
   "metadata": {
    "slideshow": {
     "slide_type": "slide"
    }
   },
   "source": [
    "列表排序\n",
    "```\n",
    "    L.sort(key=None, reverse=False) -> None -- stable sort *IN PLACE*\n",
    "```    "
   ]
  },
  {
   "cell_type": "code",
   "execution_count": null,
   "metadata": {
    "slideshow": {
     "slide_type": "-"
    }
   },
   "outputs": [],
   "source": [
    "# list sort method\n",
    "alist = [0, 1, 5, 3, 4]\n",
    "print(alist)\n",
    "alist.sort()\n",
    "print(alist)\n",
    "alist.sort(reverse=True)\n",
    "print(alist)"
   ]
  },
  {
   "cell_type": "markdown",
   "metadata": {
    "slideshow": {
     "slide_type": "slide"
    }
   },
   "source": [
    "对列表进行逆序操作\n",
    "```\n",
    "    L.reverse() -- reverse *IN PLACE*\n",
    "```    "
   ]
  },
  {
   "cell_type": "code",
   "execution_count": null,
   "metadata": {
    "slideshow": {
     "slide_type": "-"
    }
   },
   "outputs": [],
   "source": [
    "# list sort method\n",
    "alist = [0, 1, 5, 3, 4]\n",
    "print(alist)\n",
    "alist.reverse()\n",
    "print(alist)"
   ]
  },
  {
   "cell_type": "markdown",
   "metadata": {
    "slideshow": {
     "slide_type": "slide"
    }
   },
   "source": [
    "## 转换\n",
    "\n",
    "除了使用`[]`来创建列表对象外，Python 提供了`list()`函数来创建对象。如果传入一个序列对象，会使用序列每个元素组成一个列表；如果不传入参数会返回一个空列表："
   ]
  },
  {
   "cell_type": "code",
   "execution_count": null,
   "metadata": {
    "slideshow": {
     "slide_type": "-"
    }
   },
   "outputs": [],
   "source": [
    "emptylist = list()\n",
    "print(emptylist)"
   ]
  },
  {
   "cell_type": "code",
   "execution_count": null,
   "metadata": {
    "slideshow": {
     "slide_type": "-"
    }
   },
   "outputs": [],
   "source": [
    "letters = list('abcdefghijklmnopqrstuvwxyz')\n",
    "print(letters)"
   ]
  },
  {
   "cell_type": "markdown",
   "metadata": {
    "slideshow": {
     "slide_type": "-"
    }
   },
   "source": [
    "字符串是有多个字符组成的序列，所以`list()`函数会返回有每个字符组成的列表。"
   ]
  },
  {
   "cell_type": "markdown",
   "metadata": {
    "slideshow": {
     "slide_type": "slide"
    }
   },
   "source": [
    "## 遍历列表\n",
    "\n",
    "对于一个序列，可以使用`for`语句来遍历其中的每一个元素。下面语句来遍历列表中的的每一个元素："
   ]
  },
  {
   "cell_type": "code",
   "execution_count": null,
   "metadata": {},
   "outputs": [],
   "source": [
    "datatypes = [True, 10**100, 3.1415926, 3+4j, 'Python', [1]]\n",
    "for datatype in datatypes:\n",
    "    print(type(datatype))"
   ]
  },
  {
   "cell_type": "code",
   "execution_count": 1,
   "metadata": {
    "slideshow": {
     "slide_type": "-"
    }
   },
   "outputs": [
    {
     "ename": "NameError",
     "evalue": "name 'letters' is not defined",
     "output_type": "error",
     "traceback": [
      "\u001b[1;31m---------------------------------------------------------------------------\u001b[0m",
      "\u001b[1;31mNameError\u001b[0m                                 Traceback (most recent call last)",
      "\u001b[1;32m<ipython-input-1-65f5bad314e4>\u001b[0m in \u001b[0;36m<module>\u001b[1;34m()\u001b[0m\n\u001b[1;32m----> 1\u001b[1;33m \u001b[1;32mfor\u001b[0m \u001b[0mletter\u001b[0m \u001b[1;32min\u001b[0m \u001b[0mletters\u001b[0m\u001b[1;33m:\u001b[0m\u001b[1;33m\u001b[0m\u001b[0m\n\u001b[0m\u001b[0;32m      2\u001b[0m     \u001b[0mprint\u001b[0m\u001b[1;33m(\u001b[0m\u001b[1;34m'{0:03d} --- {1}'\u001b[0m\u001b[1;33m.\u001b[0m\u001b[0mformat\u001b[0m\u001b[1;33m(\u001b[0m\u001b[0mord\u001b[0m\u001b[1;33m(\u001b[0m\u001b[0mletter\u001b[0m\u001b[1;33m)\u001b[0m\u001b[1;33m,\u001b[0m \u001b[0mletter\u001b[0m\u001b[1;33m)\u001b[0m\u001b[1;33m)\u001b[0m\u001b[1;33m\u001b[0m\u001b[0m\n",
      "\u001b[1;31mNameError\u001b[0m: name 'letters' is not defined"
     ]
    }
   ],
   "source": [
    "for letter in letters:\n",
    "    print('{0:03d} --- {1}'.format(ord(letter), letter))"
   ]
  },
  {
   "cell_type": "markdown",
   "metadata": {},
   "source": [
    "## 内置序列运算函数\n",
    "\n",
    "对于一个序列，Python 内置了几个函数用来序列操作：\n",
    "- `max()`，返回序列最大的元素\n",
    "- `min()`，返回序列最小的元素\n",
    "- `sum()`，计算序列元素求和\n",
    "- `all()`，判断序列所有元素是否为真\n",
    "- `any()`，判断序列任一元素是否为真"
   ]
  },
  {
   "cell_type": "code",
   "execution_count": 4,
   "metadata": {},
   "outputs": [
    {
     "name": "stdout",
     "output_type": "stream",
     "text": [
      "100\n",
      "1\n",
      "141\n"
     ]
    }
   ],
   "source": [
    "xlist  = [1,3, 2, 10, 100, 25]\n",
    "print(max(xlist))\n",
    "print(min(xlist))\n",
    "print(sum(xlist))"
   ]
  },
  {
   "cell_type": "code",
   "execution_count": 6,
   "metadata": {},
   "outputs": [
    {
     "name": "stdout",
     "output_type": "stream",
     "text": [
      "True True\n",
      "False True\n",
      "False False\n"
     ]
    }
   ],
   "source": [
    "xlist  = [True, True, True]\n",
    "print(all(xlist), any(xlist))\n",
    "xlist  = [True, True, False]\n",
    "print(all(xlist), any(xlist))\n",
    "xlist  = [False, False, False]\n",
    "print(all(xlist), any(xlist))"
   ]
  },
  {
   "cell_type": "markdown",
   "metadata": {
    "slideshow": {
     "slide_type": "slide"
    }
   },
   "source": [
    "## 错误与异常\n",
    "\n",
    "> 像硬币一样，任何事物都具有两重性或两面性。\n",
    "\n",
    "常见的列表错误包括：\n",
    "- 索引错误，指定索引超出列表范围，会抛出索引越界错误\n",
    "- 值错误，当搜索或删除的对象并不在列表中，会抛出值错误"
   ]
  },
  {
   "cell_type": "code",
   "execution_count": null,
   "metadata": {
    "slideshow": {
     "slide_type": "slide"
    }
   },
   "outputs": [],
   "source": [
    "print(digits[10])"
   ]
  },
  {
   "cell_type": "code",
   "execution_count": null,
   "metadata": {
    "slideshow": {
     "slide_type": "slide"
    }
   },
   "outputs": [],
   "source": [
    "# list remove method\n",
    "alist = [0, 1, 2, 3, 4, 2, 2]\n",
    "alist.remove(5)"
   ]
  }
 ],
 "metadata": {
  "kernelspec": {
   "display_name": "Python 3",
   "language": "python",
   "name": "python3"
  },
  "language_info": {
   "codemirror_mode": {
    "name": "ipython",
    "version": 3
   },
   "file_extension": ".py",
   "mimetype": "text/x-python",
   "name": "python",
   "nbconvert_exporter": "python",
   "pygments_lexer": "ipython3",
   "version": "3.6.4"
  },
  "toc": {
   "base_numbering": 1,
   "nav_menu": {},
   "number_sections": true,
   "sideBar": true,
   "skip_h1_title": false,
   "title_cell": "Table of Contents",
   "title_sidebar": "Contents",
   "toc_cell": false,
   "toc_position": {
    "height": "calc(100% - 180px)",
    "left": "10px",
    "top": "150px",
    "width": "349px"
   },
   "toc_section_display": true,
   "toc_window_display": true
  }
 },
 "nbformat": 4,
 "nbformat_minor": 1
}
