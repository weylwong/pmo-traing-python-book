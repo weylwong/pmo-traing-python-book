{
 "cells": [
  {
   "cell_type": "markdown",
   "metadata": {},
   "source": [
    "# 一行代码实现1--100之和\n",
    "\n"
   ]
  },
  {
   "cell_type": "code",
   "execution_count": 25,
   "metadata": {},
   "outputs": [
    {
     "data": {
      "text/plain": [
       "5050"
      ]
     },
     "execution_count": 25,
     "metadata": {},
     "output_type": "execute_result"
    }
   ],
   "source": [
    "sum(range(1, 101))"
   ]
  },
  {
   "cell_type": "markdown",
   "metadata": {},
   "source": [
    "# 列表去重\n",
    "\n"
   ]
  },
  {
   "cell_type": "code",
   "execution_count": 26,
   "metadata": {},
   "outputs": [
    {
     "name": "stdout",
     "output_type": "stream",
     "text": [
      "[11, 12, 13, 14, 15]\n"
     ]
    }
   ],
   "source": [
    "xlist = [11, 12, 13, 14, 15, 15, 13, 11]\n",
    "\n",
    "xlist = list(set(xlist))\n",
    "print(xlist)"
   ]
  },
  {
   "cell_type": "markdown",
   "metadata": {},
   "source": [
    "# 如何删除字典键和合并两个字典\n",
    "\n",
    "使用如下方法删除字典的键值对：\n",
    "- `del`\n",
    "- `pop()`\n",
    "\n",
    "使用字典的`D.update()`方法合并两个字典。"
   ]
  },
  {
   "cell_type": "code",
   "execution_count": 23,
   "metadata": {},
   "outputs": [
    {
     "name": "stdout",
     "output_type": "stream",
     "text": [
      "{'name': 'Peter', 'score': 99}\n",
      "{'score': 99}\n"
     ]
    }
   ],
   "source": [
    "d1 = {\n",
    "    'id': 1001,\n",
    "    'name': 'Peter',\n",
    "    'score': 99,\n",
    "}\n",
    "\n",
    "del d1['id']\n",
    "print(d1)\n",
    "\n",
    "d1.pop('name')\n",
    "print(d1)"
   ]
  },
  {
   "cell_type": "code",
   "execution_count": 24,
   "metadata": {},
   "outputs": [
    {
     "name": "stdout",
     "output_type": "stream",
     "text": [
      "{'id': 1001, 'name': 'Peter', 'score': 100, 'pass': True}\n"
     ]
    }
   ],
   "source": [
    "d1 = {\n",
    "    'id': 1001,\n",
    "    'name': 'Peter',\n",
    "    'score': 99,\n",
    "}\n",
    "\n",
    "d2 = {\n",
    "    'id': 1001,\n",
    "    'score': 100,\n",
    "    'pass': True,\n",
    "}\n",
    "d1.update(d2)\n",
    "print(d1)"
   ]
  },
  {
   "cell_type": "markdown",
   "metadata": {},
   "source": [
    "# 把字典对象根据键从小到大的顺序进行输出\n",
    "\n"
   ]
  },
  {
   "cell_type": "code",
   "execution_count": 12,
   "metadata": {},
   "outputs": [],
   "source": [
    "d1 = {\n",
    "    'name': 'zs',\n",
    "    'age': 18, \n",
    "    'city': '深圳',\n",
    "    'tel': '1362626627',\n",
    "}"
   ]
  },
  {
   "cell_type": "code",
   "execution_count": 15,
   "metadata": {},
   "outputs": [
    {
     "name": "stdout",
     "output_type": "stream",
     "text": [
      "age - 18\n",
      "city - 深圳\n",
      "name - zs\n",
      "tel - 1362626627\n"
     ]
    }
   ],
   "source": [
    "for key in sorted(d1.keys()):\n",
    "    print('{} - {}'.format(key, d1[key]))"
   ]
  },
  {
   "cell_type": "markdown",
   "metadata": {},
   "source": [
    "# 字符串去重和排序\n",
    "\n",
    "有一个字符串，得到没有重复的字符并按顺序输出：\n",
    "，去重并从小到大排序输出\"adfjl\""
   ]
  },
  {
   "cell_type": "code",
   "execution_count": 11,
   "metadata": {},
   "outputs": [
    {
     "name": "stdout",
     "output_type": "stream",
     "text": [
      "adfjl\n"
     ]
    }
   ],
   "source": [
    "s = 'ajldjlajfdljfddd'\n",
    "\n",
    "chars = list(set(s))\n",
    "output = ''.join(sorted(chars))\n",
    "\n",
    "print(output)"
   ]
  }
 ],
 "metadata": {
  "kernelspec": {
   "display_name": "Python 3",
   "language": "python",
   "name": "python3"
  },
  "language_info": {
   "codemirror_mode": {
    "name": "ipython",
    "version": 3
   },
   "file_extension": ".py",
   "mimetype": "text/x-python",
   "name": "python",
   "nbconvert_exporter": "python",
   "pygments_lexer": "ipython3",
   "version": "3.6.4"
  },
  "toc": {
   "base_numbering": 1,
   "nav_menu": {},
   "number_sections": true,
   "sideBar": true,
   "skip_h1_title": false,
   "title_cell": "Table of Contents",
   "title_sidebar": "Contents",
   "toc_cell": false,
   "toc_position": {},
   "toc_section_display": true,
   "toc_window_display": false
  }
 },
 "nbformat": 4,
 "nbformat_minor": 2
}
