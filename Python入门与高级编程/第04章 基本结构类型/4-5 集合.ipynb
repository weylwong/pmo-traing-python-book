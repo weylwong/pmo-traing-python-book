{
 "cells": [
  {
   "cell_type": "markdown",
   "metadata": {
    "slideshow": {
     "slide_type": "slide"
    }
   },
   "source": [
    "# 基本结构类型-集合(set)\n",
    "\n",
    "集合是数学中一个基本概念。Python 内置的集合（set）类型适用于异质，无序、唯一、可变，无映射的数据集。与列表有些类似，但差别在于集合中的元素是唯一的，无序的。"
   ]
  },
  {
   "cell_type": "markdown",
   "metadata": {
    "slideshow": {
     "slide_type": "slide"
    }
   },
   "source": [
    "## 创建集合对象\n",
    "\n",
    "在 Python 中使用`{}`来创建集合对象，包括0个或多个对象。但要注意**字典对象也是用大括号 `{}` 来创建**，字典的元素是一个键值对，集合的一个元素就是一个对象，二者能够区别开来的。但是当当创建空集合时，就无法区别了，故只能使用 Python 内置函数`set()`来创建空集合。\n",
    "\n",
    "集合是个元素唯一，无序的的序列，即集合中的元素都是独一无二的。在创建集合对象时，输入的元素有重复则会自动去重。"
   ]
  },
  {
   "cell_type": "code",
   "execution_count": 1,
   "metadata": {
    "slideshow": {
     "slide_type": "-"
    }
   },
   "outputs": [],
   "source": [
    "emptyset = set()\n",
    "colors = {'红', '黄', '绿', '红', '黄'}\n",
    "basket = {'apple', 'orange', 'apple', 'pear', 'orange', 'banana'}\n",
    "print(emptyset)\n",
    "print(colors)\n",
    "print(basket)"
   ]
  },
  {
   "cell_type": "markdown",
   "metadata": {
    "slideshow": {
     "slide_type": "slide"
    }
   },
   "source": [
    "## 自省\n",
    "\n",
    "> 吾每遇对象必自省，用变量而知其类乎？用其值而知属性乎？用其法而知方法乎？"
   ]
  },
  {
   "cell_type": "markdown",
   "metadata": {
    "slideshow": {
     "slide_type": "slide"
    }
   },
   "source": [
    "集合对象都是 Python 内置结构类型集合(set)的实例对象："
   ]
  },
  {
   "cell_type": "code",
   "execution_count": 2,
   "metadata": {
    "slideshow": {
     "slide_type": "-"
    }
   },
   "outputs": [],
   "source": [
    "print(type(colors), type(basket), type(set()), type({}))"
   ]
  },
  {
   "cell_type": "markdown",
   "metadata": {
    "slideshow": {
     "slide_type": "slide"
    }
   },
   "source": [
    "集合包含多个元素时，字典会维持一个键值序号对，并分别指向对应的对象。例如下面创建两个字典对象："
   ]
  },
  {
   "cell_type": "code",
   "execution_count": 3,
   "metadata": {
    "slideshow": {
     "slide_type": "-"
    }
   },
   "outputs": [],
   "source": [
    "datatypes = {128, 3.13, 'Hello World'}"
   ]
  },
  {
   "cell_type": "markdown",
   "metadata": {
    "slideshow": {
     "slide_type": "-"
    }
   },
   "source": [
    "创建的集合对象以及每个元素，如下图所示：\n",
    "![集合与元素](../images/set_objects.png)"
   ]
  },
  {
   "cell_type": "markdown",
   "metadata": {
    "slideshow": {
     "slide_type": "-"
    }
   },
   "source": [
    "> 每个对象都有三个特性：类型、身份标识、值。\n",
    "\n",
    "与列表、字典类似，集合对象的值可以改变，即集合是可变对象，能够可以对集合进行更改、增加、删除操作。"
   ]
  },
  {
   "cell_type": "markdown",
   "metadata": {
    "slideshow": {
     "slide_type": "slide"
    }
   },
   "source": [
    "### 属性和方法\n",
    "\n",
    "使用 `dir()` 函数列出集合对象的属性和方法："
   ]
  },
  {
   "cell_type": "code",
   "execution_count": 4,
   "metadata": {
    "slideshow": {
     "slide_type": "slide"
    }
   },
   "outputs": [],
   "source": [
    "# Try dir(colors)\n",
    "print(dir(set))"
   ]
  },
  {
   "cell_type": "markdown",
   "metadata": {
    "slideshow": {
     "slide_type": "slide"
    }
   },
   "source": [
    "#### 魔术方法\n",
    "\n",
    "集合定义了一些魔术方法，可以使用简单的算术运算符实现集合的差集，交集，并集，对称差集等操作。"
   ]
  },
  {
   "cell_type": "markdown",
   "metadata": {
    "slideshow": {
     "slide_type": "-"
    }
   },
   "source": [
    "##### 集合运算\n",
    "\n",
    "这些魔术方法用来实现集合的差集，交集，并集，对称差集等操作。\n",
    "\n",
    "|运算符 | 魔术方法    |  说明   |\n",
    "| :----:|:-------------| -------: |\n",
    "| `-`  | `__sub__`    | 计算差集   |\n",
    "| `&`    | `__and__`  | 计算交集  |\n",
    "| <code>&#124;</code>  | `__or__`    | 计算并集  |\n",
    "| `^`    | `__xor__`   | 计算对称差集|\n",
    "| `-=`    | `__isub__`   | 计算差集并更新  |\n",
    "| `&=`    | `__iand__`   | 计算交集并更新  |\n",
    "| <code>&#124;=</code>    | `__ior__`    | 计算并集并更新  |\n",
    "| `^=`    | `__ixor__`   | 计算堆成差集并更新 |"
   ]
  },
  {
   "cell_type": "markdown",
   "metadata": {
    "slideshow": {
     "slide_type": "slide"
    }
   },
   "source": [
    "##### 比较运算\n",
    "\n",
    "集合对象之间无法比较谁大谁小，但可以检查是否相等，即比较两个集合中的对象是否一致："
   ]
  },
  {
   "cell_type": "code",
   "execution_count": 5,
   "metadata": {
    "slideshow": {
     "slide_type": "-"
    }
   },
   "outputs": [],
   "source": [
    "seta = {1, 2, 3.1}\n",
    "setb = {3.1, 2, 1}\n",
    "print(seta == setb)\n",
    "seta = {1, 2, 3.1}\n",
    "setb = {1, 2, 3.2}\n",
    "print(seta == setb)"
   ]
  },
  {
   "cell_type": "markdown",
   "metadata": {
    "slideshow": {
     "slide_type": "slide"
    }
   },
   "source": [
    "##### 序列运算符\n",
    "\n",
    "严格意义来说，集合对象不是一个序列对象，它没有实现`__getitem__()`魔术方法。不过可以把它当做一个序列，使用如下运算符：\n",
    "\n",
    "|操作符 | 特殊方法    |  说明   |\n",
    "| :----:|:-------------| -------: |\n",
    "|`len()` | `__len__`   | 返回元素数目  |\n",
    "|`in` | `__contains__`   | 成员 |"
   ]
  },
  {
   "cell_type": "markdown",
   "metadata": {
    "slideshow": {
     "slide_type": "slide"
    }
   },
   "source": [
    "使用 `len()` 函数获得集合的长度，即元素的数目："
   ]
  },
  {
   "cell_type": "code",
   "execution_count": 6,
   "metadata": {
    "slideshow": {
     "slide_type": "slide"
    }
   },
   "outputs": [],
   "source": [
    "len(colors)"
   ]
  },
  {
   "cell_type": "markdown",
   "metadata": {},
   "source": [
    "使用成员运算符 `in` 来检查指定对象是否在集合中："
   ]
  },
  {
   "cell_type": "code",
   "execution_count": 7,
   "metadata": {
    "slideshow": {
     "slide_type": "slide"
    }
   },
   "outputs": [],
   "source": [
    "print('红' in colors)\n",
    "print('apple' in basket)"
   ]
  },
  {
   "cell_type": "markdown",
   "metadata": {
    "slideshow": {
     "slide_type": "skip"
    }
   },
   "source": [
    "#### 常规函数\n",
    "\n",
    "集合类型还定义许多常规方法，实现集合的元素增加、更改、删除等操作，以及集合的操作。"
   ]
  },
  {
   "cell_type": "markdown",
   "metadata": {
    "slideshow": {
     "slide_type": "slide"
    }
   },
   "source": [
    "##### 元素操作\n",
    "\n",
    "|方法         |  说明      |\n",
    "|:--------------:|-------------: |\n",
    "|`s.add()`     | 添加元素 |\n",
    "|`s.update()`    | 更新集合 |\n",
    "|`s.remove()`    | 移除元素 |\n",
    "|`s.discard()`    | 移除元素 |\n",
    "|`s.pop()`      | 弹出元素 |\n",
    "|`s.clear()`    | 删除所有元素 |\n",
    "|`s.copy()`     | 浅拷贝 |"
   ]
  },
  {
   "cell_type": "markdown",
   "metadata": {
    "slideshow": {
     "slide_type": "slide"
    }
   },
   "source": [
    "##### 集合操作\n",
    "\n",
    "|方法         |  说明      |\n",
    "|:-----------------:|-------------: |\n",
    "|`s.union()`    | 计算并集 |\n",
    "|`s.intersection()`      | 计算交集 |\n",
    "|`s.intersection_update()`    | 计算交集并更新 |\n",
    "|`s.difference()`      | 计算差集 |\n",
    "|`s.difference_update()`  | 计算差集并更新 |\n",
    "|`s.symmetric_difference()`   | 计算对称差集   |\n",
    "|`s.symmetric_difference_update()`    | 计算对称差集并更新 |"
   ]
  },
  {
   "cell_type": "markdown",
   "metadata": {
    "slideshow": {
     "slide_type": "slide"
    }
   },
   "source": [
    "##### 测试操作\n",
    "\n",
    "|方法         |  说明      |\n",
    "|:-----------------:|-------------: |\n",
    "|`s.issubset()`       | 子集测试 |\n",
    "|`s.issuperset()`  | 超集测试 |\n",
    "|`s.isdisjoint()`  | 测试集合是否不相交 |"
   ]
  },
  {
   "cell_type": "markdown",
   "metadata": {
    "slideshow": {
     "slide_type": "slide"
    }
   },
   "source": [
    "## 操作和方法示例"
   ]
  },
  {
   "cell_type": "markdown",
   "metadata": {
    "slideshow": {
     "slide_type": "slide"
    }
   },
   "source": [
    "### 增加元素\n",
    "\n",
    "集合对象是可变对象，可以添加元素：\n",
    "- `set.add()`\n",
    "- `set.update()`"
   ]
  },
  {
   "cell_type": "markdown",
   "metadata": {
    "slideshow": {
     "slide_type": "slide"
    }
   },
   "source": [
    "使用`set.add()`添加一个元素，如果元素已存在，则不进行任何操作。"
   ]
  },
  {
   "cell_type": "code",
   "execution_count": 8,
   "metadata": {
    "slideshow": {
     "slide_type": "slide"
    }
   },
   "outputs": [],
   "source": [
    "# set add method\n",
    "colors = {'红', '黄', '绿', '红', '黄'}\n",
    "print(colors)\n",
    "colors.add('黑')\n",
    "colors.add('白')\n",
    "print(colors)\n",
    "colors.add('黄')\n",
    "print(colors)"
   ]
  },
  {
   "cell_type": "markdown",
   "metadata": {
    "slideshow": {
     "slide_type": "slide"
    }
   },
   "source": [
    "使用`set.update()`添加多个元素，参数是包含多个元素的列表、元组、字典等数据结构对象。\n",
    "\n",
    "可以一次传入多个参数。"
   ]
  },
  {
   "cell_type": "code",
   "execution_count": 10,
   "metadata": {
    "slideshow": {
     "slide_type": "slide"
    }
   },
   "outputs": [
    {
     "name": "stdout",
     "output_type": "stream",
     "text": [
      "{0, 1, 2, '绿', '黄', 3, 4, 5, 6, 7, 8, '白', '红', '黑'}\n"
     ]
    }
   ],
   "source": [
    "bigset = set()\n",
    "digits = {0, 1, 2, 3, 4, 5 , 6,7, 8, 8}\n",
    "bigset.update(colors, digits)\n",
    "print(bigset)"
   ]
  },
  {
   "cell_type": "markdown",
   "metadata": {
    "slideshow": {
     "slide_type": "slide"
    }
   },
   "source": [
    "### 删除元素\n",
    "\n",
    "从集合中删除元素的方法包括：\n",
    "- `set.remove()`\n",
    "- `set.discard()`\n",
    "- `set.pop()`\n",
    "- `set.clear()`"
   ]
  },
  {
   "cell_type": "markdown",
   "metadata": {
    "slideshow": {
     "slide_type": "slide"
    }
   },
   "source": [
    "`set.remove`将指定元素从集合中删除："
   ]
  },
  {
   "cell_type": "code",
   "execution_count": 14,
   "metadata": {
    "slideshow": {
     "slide_type": "slide"
    }
   },
   "outputs": [
    {
     "name": "stdout",
     "output_type": "stream",
     "text": [
      "{0, 1, 2, 3, 4, 5, 6, 7, 8, 9}\n",
      "{0, 1, 2, 3, 4, 5, 6, 7, 8}\n",
      "{1, 2, 3, 4, 5, 6, 7, 8}\n"
     ]
    }
   ],
   "source": [
    "digits = set([0, 1, 2, 3, 4, 5, 6, 7, 8, 9])\n",
    "print(digits)\n",
    "digits.remove(9)\n",
    "print(digits)\n",
    "digits.remove(0)\n",
    "print(digits)"
   ]
  },
  {
   "cell_type": "markdown",
   "metadata": {},
   "source": [
    "如果元素不存在，会抛出键错误 `KeyError` 异常："
   ]
  },
  {
   "cell_type": "code",
   "execution_count": 15,
   "metadata": {
    "slideshow": {
     "slide_type": "-"
    }
   },
   "outputs": [
    {
     "ename": "KeyError",
     "evalue": "'NotAMember'",
     "output_type": "error",
     "traceback": [
      "\u001b[1;31m---------------------------------------------------------------------------\u001b[0m",
      "\u001b[1;31mKeyError\u001b[0m                                  Traceback (most recent call last)",
      "\u001b[1;32m<ipython-input-15-0cb15f52c3f4>\u001b[0m in \u001b[0;36m<module>\u001b[1;34m()\u001b[0m\n\u001b[1;32m----> 1\u001b[1;33m \u001b[0mdigits\u001b[0m\u001b[1;33m.\u001b[0m\u001b[0mremove\u001b[0m\u001b[1;33m(\u001b[0m\u001b[1;34m'NotAMember'\u001b[0m\u001b[1;33m)\u001b[0m\u001b[1;33m\u001b[0m\u001b[0m\n\u001b[0m",
      "\u001b[1;31mKeyError\u001b[0m: 'NotAMember'"
     ]
    }
   ],
   "source": [
    "digits.remove('NotAMember')"
   ]
  },
  {
   "cell_type": "markdown",
   "metadata": {
    "slideshow": {
     "slide_type": "slide"
    }
   },
   "source": [
    "`set.discard()`也会移除中的元素，但当元素不存在时，就啥也不干，也不会抛出异常。"
   ]
  },
  {
   "cell_type": "code",
   "execution_count": 16,
   "metadata": {
    "slideshow": {
     "slide_type": "slide"
    }
   },
   "outputs": [
    {
     "name": "stdout",
     "output_type": "stream",
     "text": [
      "{0, 1, 2, 3, 4, 5, 6, 7, 8, 9}\n",
      "{0, 1, 2, 3, 4, 5, 6, 7, 8}\n",
      "{1, 2, 3, 4, 5, 6, 7, 8}\n"
     ]
    }
   ],
   "source": [
    "digits = set([0, 1, 2, 3, 4, 5, 6, 7, 8, 9])\n",
    "print(digits)\n",
    "digits.discard(9)\n",
    "print(digits)\n",
    "digits.discard(0)\n",
    "digits.discard('NotAMember')\n",
    "print(digits)"
   ]
  },
  {
   "cell_type": "markdown",
   "metadata": {
    "slideshow": {
     "slide_type": "slide"
    }
   },
   "source": [
    "`set.pop()`会移除集合中的一个元素，并返回该元素。因为集合是无序的序列，所以是随机移除元素。集合如果为空则会抛出KeyError异常。"
   ]
  },
  {
   "cell_type": "code",
   "execution_count": 17,
   "metadata": {
    "slideshow": {
     "slide_type": "slide"
    }
   },
   "outputs": [
    {
     "name": "stdout",
     "output_type": "stream",
     "text": [
      "{'红', '绿', '黄'}\n",
      "红\n",
      "{'绿', '黄'}\n",
      "绿\n",
      "{'黄'}\n",
      "黄\n",
      "set()\n"
     ]
    }
   ],
   "source": [
    "colors = {'红', '绿', '黄', }\n",
    "print(colors)\n",
    "print(colors.pop())\n",
    "print(colors)\n",
    "print(colors.pop())\n",
    "print(colors)\n",
    "print(colors.pop())\n",
    "print(colors)"
   ]
  },
  {
   "cell_type": "code",
   "execution_count": 18,
   "metadata": {
    "slideshow": {
     "slide_type": "-"
    }
   },
   "outputs": [],
   "source": [
    "# print(colors.pop())\n",
    "# print(colors)"
   ]
  },
  {
   "cell_type": "markdown",
   "metadata": {
    "slideshow": {
     "slide_type": "slide"
    }
   },
   "source": [
    "`set.clear()`会把集合所有元素移除，成为空集合。"
   ]
  },
  {
   "cell_type": "code",
   "execution_count": 19,
   "metadata": {
    "slideshow": {
     "slide_type": "-"
    }
   },
   "outputs": [
    {
     "name": "stdout",
     "output_type": "stream",
     "text": [
      "{'红', '绿', '黄'}\n",
      "set()\n"
     ]
    }
   ],
   "source": [
    "colors = {'红', '绿', '黄', }\n",
    "print(colors)\n",
    "colors.clear()\n",
    "print(colors)"
   ]
  },
  {
   "cell_type": "markdown",
   "metadata": {
    "slideshow": {
     "slide_type": "slide"
    }
   },
   "source": [
    "### 浅拷贝集合\n",
    "\n",
    "使用`set.copy`获得集合的浅拷贝。"
   ]
  },
  {
   "cell_type": "code",
   "execution_count": 20,
   "metadata": {
    "slideshow": {
     "slide_type": "-"
    }
   },
   "outputs": [
    {
     "name": "stdout",
     "output_type": "stream",
     "text": [
      "{'红', '绿', '黄'}\n",
      "{'红', '绿', '黄'}\n",
      "False\n"
     ]
    }
   ],
   "source": [
    "colors = {'红', '绿', '黄', }\n",
    "colors2 = colors.copy()\n",
    "print(colors)\n",
    "print(colors2)\n",
    "print(colors is colors2)"
   ]
  },
  {
   "cell_type": "markdown",
   "metadata": {
    "slideshow": {
     "slide_type": "subslide"
    }
   },
   "source": [
    "### 并集计算\n",
    "\n",
    "A和B的并集就是把两个集合可以“相加”，是将A和B的元素放到一起构成的新集合。\n",
    "![并集](../images/set_union2.png)"
   ]
  },
  {
   "cell_type": "markdown",
   "metadata": {
    "slideshow": {
     "slide_type": "slide"
    }
   },
   "source": [
    "集合的并集可以使用如下方法：\n",
    "- 使用`|`运算符和`set.union()`，计算 A 和 B 的并集，返回并集结果对象；\n",
    "- 使用`|=`运算符和`set.update()`， 计算 A 和 B 的并集，结果更新到集合 A "
   ]
  },
  {
   "cell_type": "code",
   "execution_count": 21,
   "metadata": {
    "slideshow": {
     "slide_type": "slide"
    }
   },
   "outputs": [
    {
     "name": "stdout",
     "output_type": "stream",
     "text": [
      "{'c', 'r', 'a', 'b', 'd'} {'c', 'l', 'z', 'a', 'm'}\n",
      "{'c', 'l', 'r', 'z', 'a', 'm', 'b', 'd'}\n",
      "{'c', 'l', 'r', 'z', 'a', 'm', 'b', 'd'}\n"
     ]
    }
   ],
   "source": [
    "# set union\n",
    "sa = set('abracadabra')\n",
    "sb = set('alacazam')\n",
    "print(sa, sb)\n",
    "print(sa | sb)\n",
    "print(sa.union(sb))"
   ]
  },
  {
   "cell_type": "code",
   "execution_count": 22,
   "metadata": {
    "slideshow": {
     "slide_type": "slide"
    }
   },
   "outputs": [
    {
     "name": "stdout",
     "output_type": "stream",
     "text": [
      "{'c', 'l', 'r', 'z', 'a', 'm', 'b', 'd'}\n",
      "{'c', 'l', 'r', 'z', 'a', 'm', 'b', 'd'}\n"
     ]
    }
   ],
   "source": [
    "# set union\n",
    "sa = set('abracadabra')\n",
    "sb = set('alacazam')\n",
    "sa |= sb\n",
    "print(sa)\n",
    "sa = set('abracadabra')\n",
    "sb = set('alacazam')\n",
    "sa.update(sb)\n",
    "print(sa)"
   ]
  },
  {
   "cell_type": "markdown",
   "metadata": {
    "slideshow": {
     "slide_type": "slide"
    }
   },
   "source": [
    "### 交集\n",
    "\n",
    "通过两个集合共有的元素来构造新的集合。A和B的交集，是既属于A的、又属于B的所有元素组成的集合。\n",
    "![交集](../images/set_intersection2.png)"
   ]
  },
  {
   "cell_type": "markdown",
   "metadata": {
    "slideshow": {
     "slide_type": "slide"
    }
   },
   "source": [
    "集合的交集可以使用如下方法：\n",
    "- 运算符 `&` 和 `set.intersection()`，计算交集并返回结果\n",
    "- 运算符 `&=` 和 `set.intersection_update()`，计算交集并更新"
   ]
  },
  {
   "cell_type": "code",
   "execution_count": 23,
   "metadata": {
    "slideshow": {
     "slide_type": "slide"
    }
   },
   "outputs": [
    {
     "name": "stdout",
     "output_type": "stream",
     "text": [
      "{'a', 'c'}\n",
      "{'a', 'c'}\n"
     ]
    }
   ],
   "source": [
    "# set intersection\n",
    "sa = set('abracadabra')\n",
    "sb = set('alacazam')\n",
    "print(sa & sb)\n",
    "print(sa.intersection(sb))"
   ]
  },
  {
   "cell_type": "code",
   "execution_count": 24,
   "metadata": {
    "slideshow": {
     "slide_type": "slide"
    }
   },
   "outputs": [
    {
     "name": "stdout",
     "output_type": "stream",
     "text": [
      "{'a', 'c'}\n",
      "{'a', 'c'}\n"
     ]
    }
   ],
   "source": [
    "# set intersection_update\n",
    "sa = set('abracadabra')\n",
    "sb = set('alacazam')\n",
    "sa &= sb\n",
    "print(sa)\n",
    "sa = set('abracadabra')\n",
    "sb = set('alacazam')\n",
    "sa.intersection_update(sb)\n",
    "print(sa)"
   ]
  },
  {
   "cell_type": "markdown",
   "metadata": {
    "slideshow": {
     "slide_type": "slide"
    }
   },
   "source": [
    "### 差集\n",
    "\n",
    "两个集合也可以相\"减\"。差集（$A−B$），也就是是属于A的、但不属于B的所有元素组成的集合。\n",
    "\n",
    "![交集](../images/set_difference2.png)"
   ]
  },
  {
   "cell_type": "markdown",
   "metadata": {
    "slideshow": {
     "slide_type": "slide"
    }
   },
   "source": [
    "集合的差集可以使用如下方法：\n",
    "- 运算符 `-` 和 `set.difference()`，\n",
    "- 运算符 `-=` 和 `set.difference_update()`"
   ]
  },
  {
   "cell_type": "code",
   "execution_count": 25,
   "metadata": {
    "slideshow": {
     "slide_type": "slide"
    }
   },
   "outputs": [
    {
     "name": "stdout",
     "output_type": "stream",
     "text": [
      "{'r', 'b', 'd'}\n",
      "{'r', 'b', 'd'}\n"
     ]
    }
   ],
   "source": [
    "# set difference\n",
    "sa = set('abracadabra')\n",
    "sb = set('alacazam')\n",
    "print(sa - sb)\n",
    "print(sa.difference(sb))"
   ]
  },
  {
   "cell_type": "code",
   "execution_count": 26,
   "metadata": {
    "slideshow": {
     "slide_type": "slide"
    }
   },
   "outputs": [
    {
     "name": "stdout",
     "output_type": "stream",
     "text": [
      "{'r', 'b', 'd'}\n",
      "{'r', 'b', 'd'}\n"
     ]
    }
   ],
   "source": [
    "# set difference_update\n",
    "sa = set('abracadabra')\n",
    "sb = set('alacazam')\n",
    "sa -= sb\n",
    "print(sa)\n",
    "\n",
    "sa = set('abracadabra')\n",
    "sb = set('alacazam')\n",
    "sa.difference_update(sb)\n",
    "print(sa)"
   ]
  },
  {
   "cell_type": "markdown",
   "metadata": {
    "slideshow": {
     "slide_type": "slide"
    }
   },
   "source": [
    "### 对称差集\n",
    "\n",
    "对称差就是两个集合的交集减去其并集。\n",
    "![对称差](../images/set_sym_difference2.png)"
   ]
  },
  {
   "cell_type": "markdown",
   "metadata": {
    "slideshow": {
     "slide_type": "slide"
    }
   },
   "source": [
    "集合的对称差集可以使用如下方法：\n",
    "- 运算符 `^` 与 `set.symmetric_difference()`\n",
    "- 运算符`^=` 与 `set.symmetric_difference_update()`"
   ]
  },
  {
   "cell_type": "code",
   "execution_count": 27,
   "metadata": {
    "slideshow": {
     "slide_type": "-"
    }
   },
   "outputs": [
    {
     "name": "stdout",
     "output_type": "stream",
     "text": [
      "{'m', 'b', 'l', 'z', 'r', 'd'}\n",
      "{'m', 'b', 'l', 'z', 'r', 'd'}\n"
     ]
    }
   ],
   "source": [
    "# set symmetric_difference\n",
    "sa = set('abracadabra')\n",
    "sb = set('alacazam')\n",
    "print(sa ^ sb)\n",
    "print(sa.symmetric_difference(sb))"
   ]
  },
  {
   "cell_type": "code",
   "execution_count": 28,
   "metadata": {
    "slideshow": {
     "slide_type": "slide"
    }
   },
   "outputs": [
    {
     "name": "stdout",
     "output_type": "stream",
     "text": [
      "{'l', 'r', 'z', 'm', 'b', 'd'}\n",
      "{'l', 'r', 'z', 'm', 'b', 'd'}\n"
     ]
    }
   ],
   "source": [
    "# set systemtric_difference_update\n",
    "sa = set('abracadabra')\n",
    "sb = set('alacazam')\n",
    "sa ^= sb\n",
    "print(sa)\n",
    "\n",
    "sa = set('abracadabra')\n",
    "sb = set('alacazam')\n",
    "sa.symmetric_difference_update(sb)\n",
    "print(sa)"
   ]
  },
  {
   "cell_type": "markdown",
   "metadata": {
    "slideshow": {
     "slide_type": "slide"
    }
   },
   "source": [
    "### 测试操作\n",
    "\n",
    "如果一个集合A是另一个集合的子集，意味着A的所有元素也都是B的元素。反之，则为超集。\n",
    "![子集](../images/set-subset.jpg)"
   ]
  },
  {
   "cell_type": "code",
   "execution_count": 29,
   "metadata": {
    "slideshow": {
     "slide_type": "slide"
    }
   },
   "outputs": [
    {
     "name": "stdout",
     "output_type": "stream",
     "text": [
      "True\n",
      "True\n"
     ]
    }
   ],
   "source": [
    "A = {1, 2, 3}\n",
    "digits = {0, 1, 2, 3, 4, 5, 6, 7, 8, 9}\n",
    "print(A.issubset(digits))\n",
    "print(digits.issuperset(A))"
   ]
  },
  {
   "cell_type": "markdown",
   "metadata": {
    "slideshow": {
     "slide_type": "slide"
    }
   },
   "source": [
    "如果两个集合不相交，也就是说二者没有交集，即没有共同元素。\n",
    "![不相交](../images/set-disjoint-sets.jpg)"
   ]
  },
  {
   "cell_type": "code",
   "execution_count": 33,
   "metadata": {
    "slideshow": {
     "slide_type": "slide"
    }
   },
   "outputs": [
    {
     "name": "stdout",
     "output_type": "stream",
     "text": [
      "True\n"
     ]
    }
   ],
   "source": [
    "digits = {0, 1, 2, 3, 4, 5, 6, 7, 8, 9}\n",
    "colors = {'红', '绿', '黄'}\n",
    "print(colors.isdisjoint(A))"
   ]
  },
  {
   "cell_type": "markdown",
   "metadata": {},
   "source": [
    "## 遍历集合\n",
    "\n",
    "集合没有实现`__getitem__()`方法，不能算是序列对象，不过集合对象实现有`__iter__()`方法。实现了`__iter__()`方法的对象称为可迭代对象。序列对象或可迭代对象都可以进行遍历循环。下面使用 `for` 语句来遍历集合中的的每一个元素，注意集合是无序的："
   ]
  },
  {
   "cell_type": "code",
   "execution_count": 1,
   "metadata": {},
   "outputs": [
    {
     "name": "stdout",
     "output_type": "stream",
     "text": [
      "走起\n",
      "走起\n",
      "停下来\n"
     ]
    }
   ],
   "source": [
    "colors = {'红', '绿', '黄'}\n",
    "for color in colors:\n",
    "    if color == '红':\n",
    "        print('停下来')\n",
    "    else:\n",
    "        print('走起')        "
   ]
  },
  {
   "cell_type": "markdown",
   "metadata": {
    "slideshow": {
     "slide_type": "slide"
    }
   },
   "source": [
    "## 转换\n",
    "\n",
    "使用内置`set`类构造对象:\n",
    "- 不传入参数，返回空集合；\n",
    "- 传入迭代对象，返回新的集合对象。"
   ]
  },
  {
   "cell_type": "code",
   "execution_count": 31,
   "metadata": {
    "slideshow": {
     "slide_type": "slide"
    }
   },
   "outputs": [
    {
     "name": "stdout",
     "output_type": "stream",
     "text": [
      "set()\n"
     ]
    }
   ],
   "source": [
    "emptyset = set()\n",
    "print(emptyset)"
   ]
  },
  {
   "cell_type": "code",
   "execution_count": 2,
   "metadata": {
    "slideshow": {
     "slide_type": "-"
    }
   },
   "outputs": [
    {
     "name": "stdout",
     "output_type": "stream",
     "text": [
      "{0, 1, 2, 3, 4, 5, 6, 7, 8}\n"
     ]
    }
   ],
   "source": [
    "digits = set(range(9))\n",
    "print(digits)"
   ]
  },
  {
   "cell_type": "markdown",
   "metadata": {
    "slideshow": {
     "slide_type": "slide"
    }
   },
   "source": [
    "## 错误与异常\n",
    "\n",
    "> 像硬币一样，任何事物都具有两重性或两面性。\n",
    "\n",
    "集合中常见错误是\n",
    "- 键错误（KeyError），当集合中删除元素时，当元素不存在是会抛出键错误异常。"
   ]
  }
 ],
 "metadata": {
  "kernelspec": {
   "display_name": "Python 3",
   "language": "python",
   "name": "python3"
  },
  "language_info": {
   "codemirror_mode": {
    "name": "ipython",
    "version": 3
   },
   "file_extension": ".py",
   "mimetype": "text/x-python",
   "name": "python",
   "nbconvert_exporter": "python",
   "pygments_lexer": "ipython3",
   "version": "3.6.4"
  },
  "toc": {
   "base_numbering": 1,
   "nav_menu": {},
   "number_sections": true,
   "sideBar": true,
   "skip_h1_title": false,
   "title_cell": "Table of Contents",
   "title_sidebar": "Contents",
   "toc_cell": false,
   "toc_position": {
    "height": "calc(100% - 180px)",
    "left": "10px",
    "top": "150px",
    "width": "253px"
   },
   "toc_section_display": true,
   "toc_window_display": true
  }
 },
 "nbformat": 4,
 "nbformat_minor": 1
}
