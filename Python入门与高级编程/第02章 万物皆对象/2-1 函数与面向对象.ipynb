{
 "cells": [
  {
   "cell_type": "markdown",
   "metadata": {
    "slideshow": {
     "slide_type": "slide"
    }
   },
   "source": [
    "# 函数和面向对象\n",
    "\n"
   ]
  },
  {
   "cell_type": "markdown",
   "metadata": {},
   "source": [
    "## 菜谱和厨师\n",
    "\n",
    "\n",
    "话说宋朝时，苏东坡是个著名的美食家，来到杭州任知州。他组织民工疏浚西湖，筑堤建桥，使西湖旧貌变新颜。杭州老百姓很感谢苏东坡做的好事，在过年的时候，大家就抬猪担酒来拜年。苏东坡把肉烧好后分送给参加疏浚西湖的民工们吃，大家吃后无不称奇，把送来的肉称为“东坡肉” 。\n",
    "\n",
    "![东坡肉](../images/dongporou.jpg)"
   ]
  },
  {
   "cell_type": "markdown",
   "metadata": {},
   "source": [
    "于是大家纷纷开始试着做东坡肉，可就是做不出那个味道来，苏东坡闻讯后，就写了一个菜谱《食猪肉诗》。\n",
    "> 黄州好猪肉，价贱如粪土。富者不肯吃，贫者不解煮。  \n",
    "> 慢著火，少著水，火候足时他自美。  \n",
    "> 每日起来打一碗，饱得自家君莫管。  \n",
    ">     苏轼-《食猪肉诗》\n",
    "\n",
    "于是乎，大家照着这个菜谱去做，无论穷富，都能做出一样的味道，于是东坡肉就广泛流传至今。"
   ]
  },
  {
   "cell_type": "markdown",
   "metadata": {},
   "source": [
    "苏东坡有个古灵精怪的妹妹苏小妹，也喜欢吃东坡肉，就缠着哥哥要菜谱。苏东坡开玩笑说要拿好书来换。苏小妹不舍，于是就对哥哥说，没有菜谱也能做出东坡肉来，东坡不信。于是苏小妹就去厨房，不到一个时辰，就端出一盘肉来，东坡尝过之后，觉得味道确实相同。不仅好奇，跟着苏小妹来到厨房，原来厨房有个厨师，不仅哈哈大笑。\n",
    "\n",
    "要吃到红烧肉有两个方法：\n",
    "- 照着菜谱去做\n",
    "- 找个厨师，由厨师来做。"
   ]
  },
  {
   "cell_type": "markdown",
   "metadata": {},
   "source": [
    "## 函数\n",
    "\n",
    "在 Python 编程中解决问题时，常会用到函数。函数就好比菜谱，我们无需知道菜谱为啥这么写，只要准备好食料，就会做出一样味道的东坡肉。同样我们也无需知道在函数中做了什么，只要准备好正确的输入，就会得到相应的输出，如下图所示：\n",
    "![函数](../images/Function_machine2.png)"
   ]
  },
  {
   "cell_type": "markdown",
   "metadata": {},
   "source": [
    "例如在上一章中学到的`print()`与`input()`函数，只需要知道在`print()`函数中传入一个文本，就能在终端输出打印。在函数内部或许与计算机发生了数千条的机器指令，但这都无关紧要。我们只知道，输入什么，得到什么即可。"
   ]
  },
  {
   "cell_type": "markdown",
   "metadata": {
    "slideshow": {
     "slide_type": "slide"
    }
   },
   "source": [
    "## 面向对象\n",
    "\n",
    "在使用 Python 编程来解决问题时，除了使用函数的方法还会用到面向对象的方法。如上节所述，只要是厨师他就有做东坡肉的本事，要迟到红烧肉找个厨师就解决问题。"
   ]
  },
  {
   "cell_type": "markdown",
   "metadata": {},
   "source": [
    "### 从羊年说起\n",
    "\n",
    "2015 年是中国传统的羊年，老外也想沾沾“洋节”，没成想羊年让英语媒体抓了狂。在英语中，有绵羊（sheep）、山羊（goat）、羔羊（lamb），有角大公羊（ram）等词，但却没有“羊”这个统称名字。于是乎，众说纷纭争论不休，更有人干脆直译：\n",
    "\n",
    ">‘有角反刍动物’年(Year of any ruminant horned animal')。"
   ]
  },
  {
   "cell_type": "markdown",
   "metadata": {},
   "source": [
    "> 什么是抽象？  \n",
    "> 抽象是从众多的事物中抽取出共同的、本质性的特征，而舍弃其非本质的特征。一言以蔽之，抽象就是提炼（参见毛泽东《形象思维在文艺中的作用和思想性》）。  \n",
    "\n",
    "人类语言的进化，反映了对具体事物不断归纳总结，不断抽象的演化过程。在中国悠久的历史中，我们从成千上万只具体的羊亚科动物，抽象出绵羊、山羊、公羊等名称，最后再进一步抽象得到羊的统称。"
   ]
  },
  {
   "cell_type": "markdown",
   "metadata": {},
   "source": [
    "从有限个具体事物进行归纳抽象出名称，反过来在来认识具体事务。例如当把一个具体事物用抽象的名词来描述时，可以很快的认知这个事物。例如，当别人抓到一个动物，说它是羊的时候。大家很快就明白它的肉是可以吃的，口水忍不住就会流出来。"
   ]
  },
  {
   "cell_type": "markdown",
   "metadata": {},
   "source": [
    "### 对象和类\n",
    "\n",
    "面向对象是对复杂现实世界进行理解和抽象的一种方法，软件开发中的对象不是某个具体的现实世界事物，而是它们的映射或模型。当我们要解决现实世界的一个问题时，首先从众多对象中，归纳出相同特性和行为，进而抽象出类。然后再用抽象得到的类进行实例化，得到多个对象。这样同一类型的对象具有相同的特性和行为，仅仅值有所不同。"
   ]
  },
  {
   "cell_type": "markdown",
   "metadata": {},
   "source": [
    "也就是说类是对象的抽象，对象是类的实例化。\n",
    "- 对象的特性或状态，称为即属性(attribute)，用数据值来描述；\n",
    "- 对象的行为或操作，称为方法(method)，用于改变对象的状态。"
   ]
  },
  {
   "cell_type": "markdown",
   "metadata": {},
   "source": [
    "### 面向对象的优势\n",
    "\n",
    "看看咱们老祖宗的智慧就明白，为了做很多花馍处理，要先做一个模子来：\n",
    "<img src=\"../images/huamotype.jpg\" width=\"60%\" >"
   ]
  },
  {
   "cell_type": "markdown",
   "metadata": {},
   "source": [
    "要做花馍先做花馍模子，做模子费时间，但做花馍就好且省时。同样在 Python 面向对象编程中，同样先费时费事编写出类来，然后再用类来创建任意多的对象来。"
   ]
  }
 ],
 "metadata": {
  "kernelspec": {
   "display_name": "Python 3",
   "language": "python",
   "name": "python3"
  },
  "language_info": {
   "codemirror_mode": {
    "name": "ipython",
    "version": 3
   },
   "file_extension": ".py",
   "mimetype": "text/x-python",
   "name": "python",
   "nbconvert_exporter": "python",
   "pygments_lexer": "ipython3",
   "version": "3.6.4"
  },
  "toc": {
   "base_numbering": 1,
   "nav_menu": {},
   "number_sections": true,
   "sideBar": true,
   "skip_h1_title": false,
   "title_cell": "Table of Contents",
   "title_sidebar": "Contents",
   "toc_cell": false,
   "toc_position": {
    "height": "calc(100% - 180px)",
    "left": "10px",
    "top": "150px",
    "width": "253px"
   },
   "toc_section_display": true,
   "toc_window_display": false
  }
 },
 "nbformat": 4,
 "nbformat_minor": 1
}
