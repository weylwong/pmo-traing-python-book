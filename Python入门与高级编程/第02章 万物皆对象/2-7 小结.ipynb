{
 "cells": [
  {
   "cell_type": "markdown",
   "metadata": {},
   "source": [
    "# 小结\n",
    "\n",
    "要吃红烧肉有两个方法：照着菜谱做；找个厨师。要学好 Python 编程，就要学会函数和面向对象。\n",
    "\n",
    "在 Python 中已经内置很多函数和基本类型，在下面章节我们将逐一学习并达到熟练用之。在 Python 中万物皆对象，使用面向对象的方法去学习理解这些基本类型。\n",
    "\n",
    "Python 编程是有一行行语句开始的，有语句成语句块，再发展为一个个模块，进而形成一个个软件包，最终形成庞大的 Python 生态环境。在下面章节，我们将从一行行语句开始，逐渐构筑一个完整的程序。"
   ]
  }
 ],
 "metadata": {
  "kernelspec": {
   "display_name": "Python 3",
   "language": "python",
   "name": "python3"
  },
  "language_info": {
   "codemirror_mode": {
    "name": "ipython",
    "version": 3
   },
   "file_extension": ".py",
   "mimetype": "text/x-python",
   "name": "python",
   "nbconvert_exporter": "python",
   "pygments_lexer": "ipython3",
   "version": "3.6.4"
  },
  "toc": {
   "base_numbering": 1,
   "nav_menu": {},
   "number_sections": true,
   "sideBar": true,
   "skip_h1_title": false,
   "title_cell": "Table of Contents",
   "title_sidebar": "Contents",
   "toc_cell": false,
   "toc_position": {},
   "toc_section_display": true,
   "toc_window_display": false
  }
 },
 "nbformat": 4,
 "nbformat_minor": 2
}
