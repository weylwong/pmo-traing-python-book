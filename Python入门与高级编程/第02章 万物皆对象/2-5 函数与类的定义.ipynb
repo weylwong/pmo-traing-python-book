{
 "cells": [
  {
   "cell_type": "markdown",
   "metadata": {
    "slideshow": {
     "slide_type": "slide"
    }
   },
   "source": [
    "# 函数与类的定义\n",
    "\n",
    "要吃红烧肉有两个方法：照着菜谱做；找个厨师。\n",
    "\n",
    "而在Python编程中，为了解决问题就是要学会函数和面向对象的方法。"
   ]
  },
  {
   "cell_type": "markdown",
   "metadata": {
    "slideshow": {
     "slide_type": "slide"
    }
   },
   "source": [
    "要解决现实中的问题，首先去找有没有现成的函数或类，如果有的话就准备好输入并调用它们。\n",
    "\n",
    "例如为了吃到红烧肉，发现有个函数`cook_dongpo_pork()`能够做出红烧肉，那么调用该函数即可：\n",
    "```pyhton\n",
    "cook_dongpo_pork(pork)\n",
    "```\n",
    "\n",
    "如果有一个厨师类具有做红烧肉的特征，那么创建一个厨师对象，然后再调用其方法即可：\n",
    "```python\n",
    "chef_zhang = Cooker('zhang')\n",
    "chef_zhang.cook_dongpo_pork(pork)\n",
    "```"
   ]
  },
  {
   "cell_type": "markdown",
   "metadata": {
    "slideshow": {
     "slide_type": "slide"
    }
   },
   "source": [
    "## 函数定义\n",
    "\n",
    "在大多情况下，自己遇到的具体问题都需要都需要自己去解决，那么可以先定义函数，然后在调用函数即可：\n",
    "\n",
    "```python\n",
    "def my_cook_dongpo_pork(pork):\n",
    "    .....\n",
    "\n",
    "cook_dongpo_pork(pork)  \n",
    "```"
   ]
  },
  {
   "cell_type": "markdown",
   "metadata": {
    "slideshow": {
     "slide_type": "slide"
    }
   },
   "source": [
    "## 类定义\n",
    "\n",
    "同样，也可以先定义一个类，然后再创建对象和调用其方法来解决问题：\n",
    "\n",
    "```python\n",
    "class MyCooker():\n",
    "    ....\n",
    "    \n",
    "    \n",
    "chef_zhang = MyCooker('zhang')\n",
    "chef_zhang.cook_dongpo_pork(pork)\n",
    "```"
   ]
  }
 ],
 "metadata": {
  "kernelspec": {
   "display_name": "Python 3",
   "language": "python",
   "name": "python3"
  },
  "language_info": {
   "codemirror_mode": {
    "name": "ipython",
    "version": 3
   },
   "file_extension": ".py",
   "mimetype": "text/x-python",
   "name": "python",
   "nbconvert_exporter": "python",
   "pygments_lexer": "ipython3",
   "version": "3.6.4"
  },
  "toc": {
   "base_numbering": 1,
   "nav_menu": {},
   "number_sections": true,
   "sideBar": true,
   "skip_h1_title": false,
   "title_cell": "Table of Contents",
   "title_sidebar": "Contents",
   "toc_cell": false,
   "toc_position": {
    "height": "calc(100% - 180px)",
    "left": "10px",
    "top": "150px",
    "width": "253px"
   },
   "toc_section_display": true,
   "toc_window_display": false
  }
 },
 "nbformat": 4,
 "nbformat_minor": 1
}
