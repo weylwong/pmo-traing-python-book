{
 "cells": [
  {
   "cell_type": "markdown",
   "metadata": {
    "slideshow": {
     "slide_type": "slide"
    }
   },
   "source": [
    "# 流程控制\n",
    "\n",
    "一个 Python程序通常由多行代码组成。一个代码行可能是表达式或者语句。表达式是由变量、字面常数和操作符的组合。例如在 Python 提示符中，先定义一个变量`n`，"
   ]
  },
  {
   "cell_type": "code",
   "execution_count": 3,
   "metadata": {},
   "outputs": [],
   "source": [
    "n = 100"
   ]
  },
  {
   "cell_type": "markdown",
   "metadata": {},
   "source": [
    "然后输入如下表达式："
   ]
  },
  {
   "cell_type": "code",
   "execution_count": 1,
   "metadata": {},
   "outputs": [
    {
     "data": {
      "text/plain": [
       "2"
      ]
     },
     "execution_count": 1,
     "metadata": {},
     "output_type": "execute_result"
    }
   ],
   "source": [
    "1 + 1"
   ]
  },
  {
   "cell_type": "code",
   "execution_count": 4,
   "metadata": {},
   "outputs": [
    {
     "data": {
      "text/plain": [
       "1267650600228229401496703205376"
      ]
     },
     "execution_count": 4,
     "metadata": {},
     "output_type": "execute_result"
    }
   ],
   "source": [
    "2 ** n"
   ]
  },
  {
   "cell_type": "markdown",
   "metadata": {},
   "source": [
    "在交互模式下，Python 会计算表达式的结果，并显示处理。然而在脚本中，单单一行表达式并不能产生什么有用的效果。"
   ]
  },
  {
   "cell_type": "markdown",
   "metadata": {},
   "source": [
    "通常说的 Python 语句是一组具有某些效果的代码，比如赋值语句，或者调用`print()`的打印语句等。\n",
    "\n",
    "一个 Python 程序有多行 Python 语句组成，缺省情况下 Python 遵循的是顺序执行的原则，即从上到下逐行读取语句并解释执行。例如下面首先执行第1行赋值语句，然后执行第2行的打印语句，最后再运行第3行的打印语句。"
   ]
  },
  {
   "cell_type": "code",
   "execution_count": 5,
   "metadata": {
    "slideshow": {
     "slide_type": "-"
    }
   },
   "outputs": [
    {
     "name": "stdout",
     "output_type": "stream",
     "text": [
      "第1行\n",
      "第2行\n"
     ]
    }
   ],
   "source": [
    "n = 100\n",
    "print('第1行')\n",
    "print('第2行')"
   ]
  },
  {
   "cell_type": "markdown",
   "metadata": {
    "slideshow": {
     "slide_type": "slide"
    }
   },
   "source": [
    "如果程序只会顺序执行，那就太傻了。计算机编程语言都提供有条件语句和循环语句，可让计算机能够随机应变，实现判断分支、循环等操作。"
   ]
  },
  {
   "cell_type": "markdown",
   "metadata": {
    "slideshow": {
     "slide_type": "slide"
    }
   },
   "source": [
    "## 条件语句\n",
    "\n",
    "中国古人认为天圆地方，中国位于中心，四面被大海包围，月球围着地球在转。于是辛弃疾就写了一首诗，问月球掉到海里去怎么办？\n",
    "\n",
    "**木兰花慢·可怜今夕月  (辛弃疾)**\n",
    "\n",
    "> 中秋饮酒将旦，客谓前人诗词有赋待月无送月者，因用《天问》体赋。\n",
    "\n",
    "> 可怜今夕月，向何处，去悠悠？是别有人间，那边才见，光影东头？是天外。空汗漫，但长风浩浩送中秋？飞镜无根谁系？姮娥不嫁谁留？\n",
    "\n",
    "> 谓经海底问无由，恍惚使人愁。怕万里长鲸，纵横触破，玉殿琼楼。虾蟆故堪浴水，问云何玉兔解沉浮？若道都齐无恙，云何渐渐如钩？"
   ]
  },
  {
   "cell_type": "markdown",
   "metadata": {
    "slideshow": {
     "slide_type": "slide"
    }
   },
   "source": [
    "在 Python 中使用`if`与`else`语句就可以实现流程的两个分支，基本语法为：\n",
    "```\n",
    "if condition:\n",
    "    statement(s) of if\n",
    "else:\n",
    "    statement(s) of else\n",
    "```\n",
    "\n",
    "通过冒号`:`与缩进来判断哪些语句是条件语句。"
   ]
  },
  {
   "cell_type": "markdown",
   "metadata": {},
   "source": [
    "当地球是平的对的话，就提醒别掉到海里去；反之就不用杞人忧天："
   ]
  },
  {
   "cell_type": "code",
   "execution_count": null,
   "metadata": {
    "slideshow": {
     "slide_type": "slide"
    }
   },
   "outputs": [],
   "source": [
    "earth_is_flat = True\n",
    "if earth_is_flat:\n",
    "    print('小心别掉到海里去!')\n",
    "else:\n",
    "    print('不要杞人忧天!')"
   ]
  },
  {
   "cell_type": "markdown",
   "metadata": {
    "slideshow": {
     "slide_type": "slide"
    }
   },
   "source": [
    "## 循环语句\n",
    "\n",
    "很多情况下，需要循环多次来运行指定语句块，可以使用循环语句。\n",
    "\n",
    "这里简单介绍`for`循环语法：\n",
    "```\n",
    "for <variable> in <sequence>:\n",
    "    <statement(s)>\n",
    "```\n",
    "\n",
    "同样使用冒号`:`与缩进来判断哪些语句是循环语句。"
   ]
  },
  {
   "cell_type": "markdown",
   "metadata": {},
   "source": [
    "例如，对序列里的每个元素进行循环："
   ]
  },
  {
   "cell_type": "code",
   "execution_count": null,
   "metadata": {
    "slideshow": {
     "slide_type": "slide"
    }
   },
   "outputs": [],
   "source": [
    "for name in ['张三', '李四', '王麻子']:\n",
    "    print(name, '欢迎欢迎！' )"
   ]
  },
  {
   "cell_type": "markdown",
   "metadata": {},
   "source": [
    "Python 提供了`range()`函数，可以快捷实现数字循环："
   ]
  },
  {
   "cell_type": "code",
   "execution_count": null,
   "metadata": {
    "slideshow": {
     "slide_type": "-"
    }
   },
   "outputs": [],
   "source": [
    "for i in range(5):\n",
    "    print(i, '欢迎欢迎！')"
   ]
  },
  {
   "cell_type": "markdown",
   "metadata": {
    "slideshow": {
     "slide_type": "slide"
    }
   },
   "source": [
    "## 小结\n",
    "\n",
    "这里简单介绍一下条件语句和for循环语句，这样在前面几章学习时，也可以编写稍微有意义的程序。在后续章节还会专门介绍更多 Python 流程控制的内容。"
   ]
  }
 ],
 "metadata": {
  "kernelspec": {
   "display_name": "Python 3",
   "language": "python",
   "name": "python3"
  },
  "language_info": {
   "codemirror_mode": {
    "name": "ipython",
    "version": 3
   },
   "file_extension": ".py",
   "mimetype": "text/x-python",
   "name": "python",
   "nbconvert_exporter": "python",
   "pygments_lexer": "ipython3",
   "version": "3.6.4"
  },
  "toc": {
   "base_numbering": 1,
   "nav_menu": {},
   "number_sections": true,
   "sideBar": true,
   "skip_h1_title": false,
   "title_cell": "Table of Contents",
   "title_sidebar": "Contents",
   "toc_cell": false,
   "toc_position": {
    "height": "calc(100% - 180px)",
    "left": "10px",
    "top": "150px",
    "width": "253px"
   },
   "toc_section_display": true,
   "toc_window_display": false
  }
 },
 "nbformat": 4,
 "nbformat_minor": 1
}
