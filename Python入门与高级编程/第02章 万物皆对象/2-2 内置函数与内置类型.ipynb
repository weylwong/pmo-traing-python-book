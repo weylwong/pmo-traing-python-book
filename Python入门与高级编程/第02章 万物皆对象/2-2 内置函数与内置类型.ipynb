{
 "cells": [
  {
   "cell_type": "markdown",
   "metadata": {
    "slideshow": {
     "slide_type": "slide"
    }
   },
   "source": [
    "# 内置函数与内置类型\n",
    "\n",
    "要吃红烧肉有两个方法：照着菜谱做；找个厨师。要学好 Python 编程来解决问题，同样要学好函数和面向对象。在Python语言中，已经内置了许多函数和基本类型。"
   ]
  },
  {
   "cell_type": "markdown",
   "metadata": {
    "slideshow": {
     "slide_type": "slide"
    }
   },
   "source": [
    "## Python 内置函数\n",
    "\n",
    "Python的内置函数包括如下：\n",
    "\n",
    "| 1  | 2 |  3 | 4 | 5  |\n",
    "|:------|:------|:------|:------|:------|\n",
    "| `abs()` |\t`delattr()` |\t`hash()` |\t`memoryview()` |\t`set()` |\n",
    "| `all()` |\t`dict()` |\t`help()` |\t`min()` |\t`setattr()` |\n",
    "| `any()` |\t`dir()` |\t`hex()` |\t`next()` |\t`slice()` |\n",
    "| `ascii()` |\t`divmod()` |\t`id()` |\t`object()` |\t`sorted()` |\n",
    "| `bin()` |\t`enumerate()` |\t`input()` |\t`oct()` |\t`staticmethod()` |\n",
    "| `bool()` |\t`eval()` |\t`int()` |\t`open()` |\t`str()` |\n",
    "| `breakpoint()` |\t`exec()` |\t`isinstance()` |\t`ord()` |\t`sum()` |\n",
    "| `bytearray()` |\t`filter()` |\t`issubclass()` |\t`pow()` |\t`super()` |\n",
    "| `bytes()` |\t`float()` |\t`iter()` |\t`print()` |\t`tuple()` |\n",
    "| `callable()` |\t`format()` |\t`len()` |\t`property()` |\t`type()` |\n",
    "| `chr()` |\t`frozenset()` |\t`list()` |\t`range()` |\t`vars()` |\n",
    "| `classmethod()` |\t`getattr()` |\t`locals()` |\t`repr()` |\t`zip()` |\n",
    "| `compile()` |\t`globals()` |\t`map()` |\t`reversed()` |\t`__import__()` |\n",
    "| `complex()` |\t`hasattr()` |\t`max()` |\t`round()` |\t "
   ]
  },
  {
   "cell_type": "markdown",
   "metadata": {
    "slideshow": {
     "slide_type": "slide"
    }
   },
   "source": [
    "## Python 内置类型 \n",
    "\n",
    "Python语言内置了基本数据类型包括包括：\n",
    "- 数字（numerics）  \n",
    "    - 整数（int）\n",
    "    - 布尔数（bool）\n",
    "    - 浮点数（float）\n",
    "    - 复数（complex）\n",
    "- 文本\n",
    "    - 字符串（string）\n",
    "- 空\n",
    "    - 空（Nonetype）    "
   ]
  },
  {
   "cell_type": "markdown",
   "metadata": {
    "slideshow": {
     "slide_type": "slide"
    }
   },
   "source": [
    "基本结构类型包括：\n",
    "- 序列（sequences）  \n",
    "    - 列表（list）\n",
    "    - 元祖（tuple）\n",
    "    - 集合（set）    \n",
    "- 映射（mapping）  \n",
    "    - 字典（dict）    "
   ]
  },
  {
   "cell_type": "markdown",
   "metadata": {
    "slideshow": {
     "slide_type": "slide"
    }
   },
   "source": [
    "其它类型：\n",
    "- 函数（function）\n",
    "- 类（class）\n",
    "- 模块（module）"
   ]
  },
  {
   "cell_type": "markdown",
   "metadata": {
    "slideshow": {
     "slide_type": "slide"
    }
   },
   "source": [
    "## 小结\n",
    "\n",
    "正如下象棋要认识车马炮兵相士帅一样，学 Python 首先要熟练掌握这些内置函数与内置类型。"
   ]
  }
 ],
 "metadata": {
  "celltoolbar": "Slideshow",
  "kernelspec": {
   "display_name": "Python 3",
   "language": "python",
   "name": "python3"
  },
  "language_info": {
   "codemirror_mode": {
    "name": "ipython",
    "version": 3
   },
   "file_extension": ".py",
   "mimetype": "text/x-python",
   "name": "python",
   "nbconvert_exporter": "python",
   "pygments_lexer": "ipython3",
   "version": "3.7.3"
  },
  "toc": {
   "base_numbering": 1,
   "nav_menu": {},
   "number_sections": true,
   "sideBar": true,
   "skip_h1_title": false,
   "title_cell": "Table of Contents",
   "title_sidebar": "Contents",
   "toc_cell": false,
   "toc_position": {
    "height": "calc(100% - 180px)",
    "left": "10px",
    "top": "150px",
    "width": "253px"
   },
   "toc_section_display": true,
   "toc_window_display": false
  }
 },
 "nbformat": 4,
 "nbformat_minor": 1
}
