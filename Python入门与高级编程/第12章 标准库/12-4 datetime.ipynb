{
 "cells": [
  {
   "cell_type": "markdown",
   "metadata": {
    "slideshow": {
     "slide_type": "slide"
    }
   },
   "source": [
    "# datetime\n",
    "\n",
    "`datetime`是Python的一个标准库，用于有关时间方面的处理。要使用`datetime`模块，需要使用`import`先行导入："
   ]
  },
  {
   "cell_type": "code",
   "execution_count": 1,
   "metadata": {
    "slideshow": {
     "slide_type": "-"
    }
   },
   "outputs": [],
   "source": [
    "import datetime"
   ]
  },
  {
   "cell_type": "markdown",
   "metadata": {
    "slideshow": {
     "slide_type": "slide"
    }
   },
   "source": [
    "## 简介\n",
    "\n",
    "使用`dir()`函数列举`datetime`模块成员"
   ]
  },
  {
   "cell_type": "code",
   "execution_count": 2,
   "metadata": {
    "slideshow": {
     "slide_type": "-"
    }
   },
   "outputs": [
    {
     "name": "stdout",
     "output_type": "stream",
     "text": [
      "['MAXYEAR', 'MINYEAR', '__builtins__', '__cached__', '__doc__', '__file__', '__loader__', '__name__', '__package__', '__spec__', 'date', 'datetime', 'datetime_CAPI', 'time', 'timedelta', 'timezone', 'tzinfo']\n"
     ]
    }
   ],
   "source": [
    "print(dir(datetime))"
   ]
  },
  {
   "cell_type": "markdown",
   "metadata": {
    "slideshow": {
     "slide_type": "slide"
    }
   },
   "source": [
    "### 模块中的常数\n",
    "\n",
    "- `datetime.MAXYEAR`，年份最小值\n",
    "- `datetime.MINYEAR`，年份最大值"
   ]
  },
  {
   "cell_type": "code",
   "execution_count": 3,
   "metadata": {
    "slideshow": {
     "slide_type": "slide"
    }
   },
   "outputs": [
    {
     "name": "stdout",
     "output_type": "stream",
     "text": [
      "1 9999\n"
     ]
    }
   ],
   "source": [
    "# datetime支持年份范围\n",
    "print(datetime.MINYEAR, datetime.MAXYEAR)"
   ]
  },
  {
   "cell_type": "markdown",
   "metadata": {
    "slideshow": {
     "slide_type": "slide"
    }
   },
   "source": [
    "### 模块中的类\n",
    "\n",
    "datetime模块中提供了几个类，用与时间处理：\n",
    "- `datetime.time`，时间类。\n",
    "- `datetime.date`，日期类。\n",
    "- `datetime.datetime`，日期与时间类，是`datetime.date`的子类。\n",
    "- `datetime.timedelta`， 关于时间差的类\n",
    "- `datetime.tzinfo`，时区信息对象的抽象基类\n",
    "- `datetime.timezone`，时区信息类，是`datetime.tzinfo`子类。"
   ]
  },
  {
   "cell_type": "markdown",
   "metadata": {
    "slideshow": {
     "slide_type": "slide"
    }
   },
   "source": [
    "### `datetime.time`类\n",
    "\n",
    "`datetime.time`类用于与处理时分秒时间。传入时分秒等参数，创建`datetime.time`，语法为：\n",
    "```python\n",
    "time([hour[, minute[, second[, microsecond[, tzinfo]]]]]) --> a time object\n",
    "```"
   ]
  },
  {
   "cell_type": "code",
   "execution_count": 5,
   "metadata": {
    "slideshow": {
     "slide_type": "-"
    }
   },
   "outputs": [],
   "source": [
    "t1 = datetime.time(8, 30, 59)"
   ]
  },
  {
   "cell_type": "markdown",
   "metadata": {
    "slideshow": {
     "slide_type": "slide"
    }
   },
   "source": [
    "使用`dir()`函数列举对象的属性与方法"
   ]
  },
  {
   "cell_type": "code",
   "execution_count": 6,
   "metadata": {
    "slideshow": {
     "slide_type": "slide"
    }
   },
   "outputs": [
    {
     "name": "stdout",
     "output_type": "stream",
     "text": [
      "['__class__', '__delattr__', '__dir__', '__doc__', '__eq__', '__format__', '__ge__', '__getattribute__', '__gt__', '__hash__', '__init__', '__init_subclass__', '__le__', '__lt__', '__ne__', '__new__', '__reduce__', '__reduce_ex__', '__repr__', '__setattr__', '__sizeof__', '__str__', '__subclasshook__', 'dst', 'fold', 'hour', 'isoformat', 'max', 'microsecond', 'min', 'minute', 'replace', 'resolution', 'second', 'strftime', 'tzinfo', 'tzname', 'utcoffset']\n"
     ]
    }
   ],
   "source": [
    "print(dir(t1))"
   ]
  },
  {
   "cell_type": "markdown",
   "metadata": {
    "slideshow": {
     "slide_type": "slide"
    }
   },
   "source": [
    "`datetime.time`对象的属性包括：\n",
    "- `hour`，时\n",
    "- `minute`，分\n",
    "- `second`，秒\n",
    "- `microsecond`，微妙\n",
    "- `tzinfo`，时区对象\n",
    "- `max`，类属性，最大时间\n",
    "- `min`，类属性，最小时间\n",
    "- `resolution`，类属性，最小单位"
   ]
  },
  {
   "cell_type": "code",
   "execution_count": 7,
   "metadata": {
    "slideshow": {
     "slide_type": "slide"
    }
   },
   "outputs": [
    {
     "name": "stdout",
     "output_type": "stream",
     "text": [
      "8 30 59 0 None\n",
      "23:59:59.999999 00:00:00 0:00:00.000001\n"
     ]
    }
   ],
   "source": [
    "print(t1.hour, t1.minute, t1.second, t1.microsecond, t1.tzinfo)\n",
    "print(t1.max, t1.min, t1.resolution)"
   ]
  },
  {
   "cell_type": "markdown",
   "metadata": {
    "slideshow": {
     "slide_type": "slide"
    }
   },
   "source": [
    "`datetime.time`对象的常规方法有：\n",
    "- `replace()`，使用替换值，返回新的时间对象\n",
    "- `isoformat()`，返回时间的ISO格式化字符串\n",
    "- `strftime()`，返回格式化字符串"
   ]
  },
  {
   "cell_type": "markdown",
   "metadata": {
    "slideshow": {
     "slide_type": "slide"
    }
   },
   "source": [
    "### `datetime.date`类\n",
    "\n",
    "`datetime.date`类用于与处理年月日这类日期时间。传入年月日3个参数，可以创建`datetime.date`对象，语法是：\n",
    "```python\n",
    "date(year, month, day)\n",
    "```"
   ]
  },
  {
   "cell_type": "code",
   "execution_count": 8,
   "metadata": {
    "slideshow": {
     "slide_type": "-"
    }
   },
   "outputs": [],
   "source": [
    "firstday = datetime.date(2018, 1, 1)"
   ]
  },
  {
   "cell_type": "markdown",
   "metadata": {
    "slideshow": {
     "slide_type": "slide"
    }
   },
   "source": [
    "使用`dir()`函数列举对象的属性与方法"
   ]
  },
  {
   "cell_type": "code",
   "execution_count": 9,
   "metadata": {
    "scrolled": true,
    "slideshow": {
     "slide_type": "-"
    }
   },
   "outputs": [
    {
     "name": "stdout",
     "output_type": "stream",
     "text": [
      "['__add__', '__class__', '__delattr__', '__dir__', '__doc__', '__eq__', '__format__', '__ge__', '__getattribute__', '__gt__', '__hash__', '__init__', '__init_subclass__', '__le__', '__lt__', '__ne__', '__new__', '__radd__', '__reduce__', '__reduce_ex__', '__repr__', '__rsub__', '__setattr__', '__sizeof__', '__str__', '__sub__', '__subclasshook__', 'ctime', 'day', 'fromordinal', 'fromtimestamp', 'isocalendar', 'isoformat', 'isoweekday', 'max', 'min', 'month', 'replace', 'resolution', 'strftime', 'timetuple', 'today', 'toordinal', 'weekday', 'year']\n"
     ]
    }
   ],
   "source": [
    "print(dir(firstday))"
   ]
  },
  {
   "cell_type": "markdown",
   "metadata": {
    "slideshow": {
     "slide_type": "slide"
    }
   },
   "source": [
    "`datetime.date`对象包括如下属性：\n",
    "- `year`，年份\n",
    "- `month`，月份\n",
    "- `day`，日期\n",
    "- `max`，类属性，最大日期\n",
    "- `min`，类属性，最小日期\n",
    "- `resolution`，类属性，日期最小单位"
   ]
  },
  {
   "cell_type": "code",
   "execution_count": 10,
   "metadata": {
    "slideshow": {
     "slide_type": "slide"
    }
   },
   "outputs": [
    {
     "name": "stdout",
     "output_type": "stream",
     "text": [
      "2018 1 1\n",
      "9999-12-31 0001-01-01 1 day, 0:00:00\n"
     ]
    }
   ],
   "source": [
    "print(firstday.year, firstday.month, firstday.day)\n",
    "print(firstday.max, firstday.min, firstday.resolution)"
   ]
  },
  {
   "cell_type": "markdown",
   "metadata": {
    "slideshow": {
     "slide_type": "slide"
    }
   },
   "source": [
    "`datetime.date`对象的常规方法有：\n",
    "- `ctime()`，\n",
    "- `fromordinal()`，根据累计日，返回日期对象\n",
    "- `fromtimestamp()`，根据给定时间戳，返回日期对象\n",
    "- `isocalendar()`，返回元组（year, weekday, isoweekday）\n",
    "- `isoformat()`，返回ISO格式化字符串\n",
    "- `isoweekday()`，返回星期几（ISO格式）\n",
    "- `replace()`，使用替换值，返回新的日期对象\n",
    "- `strftime()`，返回格式化字符串\n",
    "- `timetuple()`，返回结构化时间。\n",
    "- `today()`，返回当前日期（地方时）\n",
    "- `toordinal()`，返回自最小日期后的天数\n",
    "- `weekday()`，返回星期"
   ]
  },
  {
   "cell_type": "markdown",
   "metadata": {
    "slideshow": {
     "slide_type": "slide"
    }
   },
   "source": [
    "### `datetime.datetime`类\n",
    "\n",
    "`datetime.datetime`类用于与处理日期与时间。传入年月日时分秒等个参数，可以创建`datetime.datedate`对象，语法是：\n",
    "```python\n",
    "datetime(year, month, day[, hour[, minute[, second[, microsecond[,tzinfo]]]]])\n",
    "```"
   ]
  },
  {
   "cell_type": "code",
   "execution_count": 11,
   "metadata": {
    "slideshow": {
     "slide_type": "-"
    }
   },
   "outputs": [],
   "source": [
    "d1 = datetime.datetime(2018, 1, 1, 14, 30, 10)"
   ]
  },
  {
   "cell_type": "markdown",
   "metadata": {
    "slideshow": {
     "slide_type": "slide"
    }
   },
   "source": [
    "使用`dir()`函数列举对象的属性与方法："
   ]
  },
  {
   "cell_type": "code",
   "execution_count": 12,
   "metadata": {
    "slideshow": {
     "slide_type": "-"
    }
   },
   "outputs": [
    {
     "name": "stdout",
     "output_type": "stream",
     "text": [
      "['__add__', '__class__', '__delattr__', '__dir__', '__doc__', '__eq__', '__format__', '__ge__', '__getattribute__', '__gt__', '__hash__', '__init__', '__init_subclass__', '__le__', '__lt__', '__ne__', '__new__', '__radd__', '__reduce__', '__reduce_ex__', '__repr__', '__rsub__', '__setattr__', '__sizeof__', '__str__', '__sub__', '__subclasshook__', 'astimezone', 'combine', 'ctime', 'date', 'day', 'dst', 'fold', 'fromordinal', 'fromtimestamp', 'hour', 'isocalendar', 'isoformat', 'isoweekday', 'max', 'microsecond', 'min', 'minute', 'month', 'now', 'replace', 'resolution', 'second', 'strftime', 'strptime', 'time', 'timestamp', 'timetuple', 'timetz', 'today', 'toordinal', 'tzinfo', 'tzname', 'utcfromtimestamp', 'utcnow', 'utcoffset', 'utctimetuple', 'weekday', 'year']\n"
     ]
    }
   ],
   "source": [
    "print(dir(d1))"
   ]
  },
  {
   "cell_type": "markdown",
   "metadata": {
    "slideshow": {
     "slide_type": "slide"
    }
   },
   "source": [
    "`datetime.datetime`对象包括如下属性：\n",
    "- `year`，年份\n",
    "- `month`，月份\n",
    "- `day`，日期\n",
    "- `hour`，时\n",
    "- `minute`，分\n",
    "- `second`，秒\n",
    "- `microsecond`，微妙\n",
    "- `tzinfo`，时区对象\n",
    "- `max`，类属性，最大日期\n",
    "- `min`，类属性，最小日期\n",
    "- `resolution`，类属性，日期最小单位"
   ]
  },
  {
   "cell_type": "code",
   "execution_count": 13,
   "metadata": {},
   "outputs": [
    {
     "name": "stdout",
     "output_type": "stream",
     "text": [
      "2018 1 1\n",
      "14 30 10 0 None\n",
      "9999-12-31 23:59:59.999999 0001-01-01 00:00:00 0:00:00.000001\n"
     ]
    }
   ],
   "source": [
    "print(d1.year, d1.month, d1.day)\n",
    "print(d1.hour, d1.minute, d1.second, d1.microsecond, d1.tzinfo)\n",
    "print(d1.max, d1.min, d1.resolution)"
   ]
  },
  {
   "cell_type": "markdown",
   "metadata": {
    "slideshow": {
     "slide_type": "slide"
    }
   },
   "source": [
    "`datetime.datetime`对象的主要方法有：\n",
    "- `today()`，返回当前日期（地方时）\n",
    "- `now()`，返回当前日期（指定时区，缺省时当前地方时）\n",
    "- `utcnow()`，返回UTC时间\n",
    "- `fromtimestamp()`，根据给定时间戳，返回`datetime`对象\n",
    "\n",
    "- `strptime()`，转换时间字符串为`datetime`对象\n",
    "- `strftime()`，返回格式化字符串\n",
    "- `isoformat()`，返回ISO格式化字符串\n",
    "- `replace()`，使用替换值，返回新的`datetime`对象\n",
    "- `timetuple()`，返回结构化时间。\n",
    "- `fromordinal()`，根据累计日，返回日期对象\n",
    "- `isocalendar()`，返回元组（year, weekday, isoweekday）\n",
    "- `isoweekday()`，返回星期几（ISO格式）\n",
    "- `toordinal()`，返回自最小日期后的天数\n",
    "- `weekday()`，返回星期几"
   ]
  },
  {
   "cell_type": "markdown",
   "metadata": {
    "slideshow": {
     "slide_type": "slide"
    }
   },
   "source": [
    "### `datetime.timedelta`类\n",
    "\n",
    "`datetime.timedelta`类对象用来表示两个不同时间之间的差值："
   ]
  },
  {
   "cell_type": "code",
   "execution_count": null,
   "metadata": {
    "slideshow": {
     "slide_type": "slide"
    }
   },
   "outputs": [],
   "source": [
    "difftime = datetime.timedelta(days=2, hours=2)"
   ]
  },
  {
   "cell_type": "markdown",
   "metadata": {
    "slideshow": {
     "slide_type": "slide"
    }
   },
   "source": [
    "使用`dir()`函数列举对象的属性与方法："
   ]
  },
  {
   "cell_type": "code",
   "execution_count": null,
   "metadata": {
    "slideshow": {
     "slide_type": "-"
    }
   },
   "outputs": [],
   "source": [
    "print(dir(difftime))"
   ]
  },
  {
   "cell_type": "markdown",
   "metadata": {
    "slideshow": {
     "slide_type": "slide"
    }
   },
   "source": [
    "`datetime.timedelta`对象包括如下属性：\n",
    "- `days`，日\n",
    "- `seconds`，秒\n",
    "- `microseconds`，微妙\n",
    "- `max`，类属性，最大时差\n",
    "- `min`，类属性，最小时差\n",
    "- `resolution`，类属性，最小单位"
   ]
  },
  {
   "cell_type": "code",
   "execution_count": null,
   "metadata": {
    "slideshow": {
     "slide_type": "slide"
    }
   },
   "outputs": [],
   "source": [
    "print(difftime.days, difftime.seconds, difftime.microseconds)\n",
    "print(difftime.max, difftime.min, difftime.resolution)"
   ]
  },
  {
   "cell_type": "markdown",
   "metadata": {
    "slideshow": {
     "slide_type": "slide"
    }
   },
   "source": [
    "`datetime.timedelta`对象常规属性：\n",
    "- `total_seconds()`，时间差中包含总秒数。"
   ]
  },
  {
   "cell_type": "code",
   "execution_count": null,
   "metadata": {
    "slideshow": {
     "slide_type": "-"
    }
   },
   "outputs": [],
   "source": [
    "difftime.total_seconds()"
   ]
  },
  {
   "cell_type": "markdown",
   "metadata": {
    "slideshow": {
     "slide_type": "slide"
    }
   },
   "source": [
    "## 常用示例"
   ]
  },
  {
   "cell_type": "markdown",
   "metadata": {
    "slideshow": {
     "slide_type": "slide"
    }
   },
   "source": [
    "### 时间\n",
    "\n",
    "用于计算日内时分秒时间。"
   ]
  },
  {
   "cell_type": "code",
   "execution_count": null,
   "metadata": {
    "slideshow": {
     "slide_type": "-"
    }
   },
   "outputs": [],
   "source": [
    "t = datetime.time(14, 29, 30, 500)\n",
    "print('hour       :', t.hour)\n",
    "print('minute     :', t.minute)\n",
    "print('second     :', t.second)\n",
    "print('microsecond:', t.microsecond)\n",
    "print('tzinfo     :', t.tzinfo)"
   ]
  },
  {
   "cell_type": "code",
   "execution_count": null,
   "metadata": {
    "slideshow": {
     "slide_type": "slide"
    }
   },
   "outputs": [],
   "source": [
    "# 参数必须是整数\n",
    "t = datetime.time(14, 4.0, 30, 500)"
   ]
  },
  {
   "cell_type": "markdown",
   "metadata": {
    "slideshow": {
     "slide_type": "slide"
    }
   },
   "source": [
    "### 时间差\n",
    "\n",
    "使用`datetime.timedelta`类创建时间差对象，可以与其它对象进行加减操作。"
   ]
  },
  {
   "cell_type": "code",
   "execution_count": null,
   "metadata": {
    "slideshow": {
     "slide_type": "-"
    }
   },
   "outputs": [],
   "source": [
    "print(datetime.timedelta(milliseconds=1))\n",
    "print(datetime.timedelta(seconds=1))\n",
    "print(datetime.timedelta(minutes=1))\n",
    "print(datetime.timedelta(hours=1))\n",
    "print(datetime.timedelta(days=1))\n",
    "print(datetime.timedelta(weeks=1))"
   ]
  },
  {
   "cell_type": "markdown",
   "metadata": {
    "slideshow": {
     "slide_type": "slide"
    }
   },
   "source": [
    "### 获取当前日期\n",
    "\n",
    "获取当前时间，地方时或UTC时间。"
   ]
  },
  {
   "cell_type": "code",
   "execution_count": null,
   "metadata": {
    "slideshow": {
     "slide_type": "-"
    }
   },
   "outputs": [],
   "source": [
    "print('当前时间(Today):', datetime.datetime.today())\n",
    "print('当前时间(Now):', datetime.datetime.now())\n",
    "print('当前时间(UTC):', datetime.datetime.utcnow())"
   ]
  },
  {
   "cell_type": "markdown",
   "metadata": {
    "slideshow": {
     "slide_type": "slide"
    }
   },
   "source": [
    "### 日期字符串格式化\n",
    "\n",
    "使用`datetime`把日期转换为适合人类阅读的日期字符串。"
   ]
  },
  {
   "cell_type": "code",
   "execution_count": null,
   "metadata": {
    "slideshow": {
     "slide_type": "-"
    }
   },
   "outputs": [],
   "source": [
    "# 日期字符串格式化\n",
    "today = datetime.datetime.today()\n",
    "print(today.strftime(\"%a %b %d %H:%M:%S %Y\"))\n",
    "print(today.isoformat())"
   ]
  },
  {
   "cell_type": "markdown",
   "metadata": {
    "slideshow": {
     "slide_type": "slide"
    }
   },
   "source": [
    "### 日期运算和比较\n",
    "\n",
    "利用`datetime.timedelta`对象，日期时间对象可以利用算术符进行加减。"
   ]
  },
  {
   "cell_type": "code",
   "execution_count": null,
   "metadata": {
    "slideshow": {
     "slide_type": "-"
    }
   },
   "outputs": [],
   "source": [
    "today = datetime.date.today()\n",
    "oneweek = datetime.timedelta(weeks=1)\n",
    "aday = today - oneweek\n",
    "bday = today + oneweek\n",
    "print(today)\n",
    "print(aday)\n",
    "print(bday)"
   ]
  },
  {
   "cell_type": "code",
   "execution_count": null,
   "metadata": {
    "slideshow": {
     "slide_type": "slide"
    }
   },
   "outputs": [],
   "source": [
    "print(today > aday)\n",
    "print(today > bday)"
   ]
  }
 ],
 "metadata": {
  "kernelspec": {
   "display_name": "Python 3",
   "language": "python",
   "name": "python3"
  },
  "language_info": {
   "codemirror_mode": {
    "name": "ipython",
    "version": 3
   },
   "file_extension": ".py",
   "mimetype": "text/x-python",
   "name": "python",
   "nbconvert_exporter": "python",
   "pygments_lexer": "ipython3",
   "version": "3.6.4"
  },
  "toc": {
   "base_numbering": 1,
   "nav_menu": {},
   "number_sections": true,
   "sideBar": true,
   "skip_h1_title": false,
   "title_cell": "Table of Contents",
   "title_sidebar": "Contents",
   "toc_cell": false,
   "toc_position": {
    "height": "calc(100% - 180px)",
    "left": "10px",
    "top": "150px",
    "width": "165px"
   },
   "toc_section_display": true,
   "toc_window_display": true
  }
 },
 "nbformat": 4,
 "nbformat_minor": 2
}
