{
 "cells": [
  {
   "cell_type": "markdown",
   "metadata": {
    "slideshow": {
     "slide_type": "slide"
    }
   },
   "source": [
    "# argparse 库\n",
    "\n",
    "[`argparse`库]()是Python标准库，用来解析命令行解析，是编写友好命令行程序的重要工具之一。使用`argparse`模块前，需要先行导入："
   ]
  },
  {
   "cell_type": "code",
   "execution_count": 6,
   "metadata": {},
   "outputs": [],
   "source": [
    "import argparse"
   ]
  },
  {
   "cell_type": "markdown",
   "metadata": {
    "slideshow": {
     "slide_type": "slide"
    }
   },
   "source": [
    "## 计算机中的程序\n",
    "\n",
    "大家常常期望一个程序功能强大，使用要灵活方便，尽管很多时候是有些自相矛盾的。\n",
    "\n",
    "一个程序总归是有一定的功能，人们用程序来完成任务。通常运行程序都需要一些输入，处理完后还会有一些输出。功能多且强大，意味着面临的情况多种多样，就需要很多输入。要实现灵活方便，就需要对输入进行分析。"
   ]
  },
  {
   "cell_type": "markdown",
   "metadata": {
    "slideshow": {
     "slide_type": "slide"
    }
   },
   "source": [
    "假设有很多人会用这个程序，而且又会经常使用该程序。那么，通过分析对程序使用情况进行分析统计，对输入进行如下归类：\n",
    "1. 程序必要，用户不得更改；\n",
    "2. 不同运行环境会有所不同，确定后基本不变；\n",
    "3. 每次运行都有所不同，变化特别频繁；\n",
    "4. 变化频率介于二者之间；"
   ]
  },
  {
   "cell_type": "markdown",
   "metadata": {
    "slideshow": {
     "slide_type": "slide"
    }
   },
   "source": [
    "对于第一种情况，程序不能让用户更改。这些输入数据通常以文件的形式，在程序指定位置存储。例如在程序的当前目录下。\n",
    "\n",
    "对于第二种情况，提供可修改的配置文件。在程序第一次安装时进行配置保存即可。\n",
    "\n",
    "对于第三种情况，在启动程序时，通过命令行传入即可。\n",
    "\n",
    "对于第四种情况，在配置文件中进行配置，同时还可以通过命令行传入，后者会覆盖前者。"
   ]
  },
  {
   "cell_type": "markdown",
   "metadata": {
    "slideshow": {
     "slide_type": "slide"
    }
   },
   "source": [
    "本节主要介绍如何用`argparse`处理程序的命令行输出，结合后续配置文件读写`configparser`可以是实现程序的各种输入。"
   ]
  },
  {
   "cell_type": "markdown",
   "metadata": {
    "slideshow": {
     "slide_type": "slide"
    }
   },
   "source": [
    "## `sys.argv`\n",
    "\n",
    "在使用 `argparse` 之前，先介绍一下 `sys.argv`。当使用 Python 在命令运行程序时，在命令行输入的程序名及其参数会存储在`sys.argv`中："
   ]
  },
  {
   "cell_type": "code",
   "execution_count": 1,
   "metadata": {
    "slideshow": {
     "slide_type": "-"
    }
   },
   "outputs": [
    {
     "name": "stdout",
     "output_type": "stream",
     "text": [
      "<class 'list'>\n"
     ]
    }
   ],
   "source": [
    "import sys\n",
    "\n",
    "print(type(sys.argv))"
   ]
  },
  {
   "cell_type": "markdown",
   "metadata": {
    "slideshow": {
     "slide_type": "slide"
    }
   },
   "source": [
    "可以查看一下Jupyter Notebook中运行的kernel启动情况："
   ]
  },
  {
   "cell_type": "code",
   "execution_count": 2,
   "metadata": {
    "slideshow": {
     "slide_type": "-"
    }
   },
   "outputs": [
    {
     "data": {
      "text/plain": [
       "['C:\\\\Anaconda3\\\\lib\\\\site-packages\\\\ipykernel_launcher.py',\n",
       " '-f',\n",
       " 'C:\\\\Users\\\\whwang\\\\AppData\\\\Roaming\\\\jupyter\\\\runtime\\\\kernel-b929e32b-7d89-4c21-ad78-9471bf7cd1b4.json']"
      ]
     },
     "execution_count": 2,
     "metadata": {},
     "output_type": "execute_result"
    }
   ],
   "source": [
    "sys.argv"
   ]
  },
  {
   "cell_type": "markdown",
   "metadata": {
    "slideshow": {
     "slide_type": "slide"
    }
   },
   "source": [
    "下面编写一个打印命令行参数的程序："
   ]
  },
  {
   "cell_type": "code",
   "execution_count": 3,
   "metadata": {},
   "outputs": [
    {
     "name": "stdout",
     "output_type": "stream",
     "text": [
      "Overwriting demo01.py\n"
     ]
    }
   ],
   "source": [
    "%%writefile demo01.py\n",
    "#!/usr/bin/env python\n",
    "# -*- coding: utf-8 -*-\n",
    "\"\"\"sys.argv demo\"\"\"\n",
    "import sys\n",
    "\n",
    "print(sys.argv)\n",
    "for index, arg in enumerate(sys.argv):\n",
    "    print(index, arg)"
   ]
  },
  {
   "cell_type": "code",
   "execution_count": 4,
   "metadata": {
    "slideshow": {
     "slide_type": "slide"
    }
   },
   "outputs": [
    {
     "name": "stdout",
     "output_type": "stream",
     "text": [
      "['demo01.py', 'arg1', 'arg2', 'arg3']\n",
      "0 demo01.py\n",
      "1 arg1\n",
      "2 arg2\n",
      "3 arg3\n"
     ]
    }
   ],
   "source": [
    "!python demo01.py arg1 arg2 arg3"
   ]
  },
  {
   "cell_type": "code",
   "execution_count": 5,
   "metadata": {
    "slideshow": {
     "slide_type": "slide"
    }
   },
   "outputs": [
    {
     "name": "stdout",
     "output_type": "stream",
     "text": [
      "['demo01.py', 'arg1', 'arg2', '=', \"'x'\", 'arg3', '=', '4']\n",
      "0 demo01.py\n",
      "1 arg1\n",
      "2 arg2\n",
      "3 =\n",
      "4 'x'\n",
      "5 arg3\n",
      "6 =\n",
      "7 4\n"
     ]
    }
   ],
   "source": [
    "!python demo01.py arg1 arg2 = 'x' arg3 = 4"
   ]
  },
  {
   "cell_type": "markdown",
   "metadata": {
    "slideshow": {
     "slide_type": "slide"
    }
   },
   "source": [
    "如上所示，直接使用 `sys.argv` 来分析获得输入，麻烦得很，而且很容易出错。不过，幸好有`argparse`库。"
   ]
  },
  {
   "cell_type": "markdown",
   "metadata": {
    "slideshow": {
     "slide_type": "slide"
    }
   },
   "source": [
    "## 自省\n",
    "\n",
    "使用`dir()`列出 `argparse` 内容："
   ]
  },
  {
   "cell_type": "code",
   "execution_count": 7,
   "metadata": {
    "slideshow": {
     "slide_type": "slide"
    }
   },
   "outputs": [
    {
     "name": "stdout",
     "output_type": "stream",
     "text": [
      "['Action', 'ArgumentDefaultsHelpFormatter', 'ArgumentError', 'ArgumentParser', 'ArgumentTypeError', 'FileType', 'HelpFormatter', 'MetavarTypeHelpFormatter', 'Namespace', 'ONE_OR_MORE', 'OPTIONAL', 'PARSER', 'REMAINDER', 'RawDescriptionHelpFormatter', 'RawTextHelpFormatter', 'SUPPRESS', 'ZERO_OR_MORE', '_', '_ActionsContainer', '_AppendAction', '_AppendConstAction', '_ArgumentGroup', '_AttributeHolder', '_CountAction', '_HelpAction', '_MutuallyExclusiveGroup', '_StoreAction', '_StoreConstAction', '_StoreFalseAction', '_StoreTrueAction', '_SubParsersAction', '_UNRECOGNIZED_ARGS_ATTR', '_VersionAction', '__all__', '__builtins__', '__cached__', '__doc__', '__file__', '__loader__', '__name__', '__package__', '__spec__', '__version__', '_collections', '_copy', '_ensure_value', '_get_action_name', '_os', '_re', '_sys', '_textwrap', 'ngettext']\n"
     ]
    }
   ],
   "source": [
    "print(dir(argparse))"
   ]
  },
  {
   "cell_type": "markdown",
   "metadata": {},
   "source": [
    "在`argparse`模块中，最主要的就是提供的参数解析器类 `ArgumentParser`。使用`argparse`解析命令行参数的主要步骤：\n",
    "1. 创建`ArgumentParser()`对象\n",
    "2. 调用`add_argument()`方法添加预期参数\n",
    "3. 使用`parse_args()`解析用户输入命令行参数"
   ]
  },
  {
   "cell_type": "markdown",
   "metadata": {
    "slideshow": {
     "slide_type": "slide"
    }
   },
   "source": [
    "下面创建一个`ArgumentParser()`对象，并使用自省方法查看使用。"
   ]
  },
  {
   "cell_type": "code",
   "execution_count": 9,
   "metadata": {
    "slideshow": {
     "slide_type": "-"
    }
   },
   "outputs": [],
   "source": [
    "parser = argparse.ArgumentParser()"
   ]
  },
  {
   "cell_type": "markdown",
   "metadata": {
    "slideshow": {
     "slide_type": "slide"
    }
   },
   "source": [
    "`parser`最常用的方法是`add_argument()`, 其语法:\n",
    "```\n",
    "ArgumentParser.add_argument(name or flags...\n",
    "    [, action][, nargs][, const][, default][, type]\n",
    "    [, choices][, required][, help][, metavar][, dest])\n",
    "```"
   ]
  },
  {
   "cell_type": "markdown",
   "metadata": {
    "slideshow": {
     "slide_type": "slide"
    }
   },
   "source": [
    "不定位置参数说明如下：\n",
    "- `name`，位置参数名: \n",
    "- `flags`，可选参数标识，短选项、长选项"
   ]
  },
  {
   "cell_type": "markdown",
   "metadata": {
    "slideshow": {
     "slide_type": "slide"
    }
   },
   "source": [
    "主要关键字参数：\n",
    "- `dest`: 在返回`ArgumentParser.parse_args`方法返回对象中，对应参数的属性名。\n",
    "- `default`: 在命令行中没有指定参数时，参数的默认值。\n",
    "- `action`: 在命令行中指定参数时，要执行的操作，即如何读取参数。\n",
    "- `type`: 用来指定参数的数据类型，默认读取参数都是字符串。\n",
    "- `help`: 参数说明\n",
    "- `metavar`: 在使用帮助信息中参数的名称\n",
    "- `choices`: 参数的可选值列表\n",
    "- `nargs`: 从命令中读取参数值的数目。\n",
    "- `const`: action或nargs所使用的一个常量值\n",
    "- `required`: 参数是否必须，对可选参数来说默认值为False。"
   ]
  },
  {
   "cell_type": "markdown",
   "metadata": {
    "slideshow": {
     "slide_type": "slide"
    }
   },
   "source": [
    "`action`关键字参数对应的值包括：\n",
    "- `store`，缺省值,存储参数值\n",
    "- `store_const`,存`const`指定的值\n",
    "- `store_true`，存为`True`\n",
    "- `store_false`，存为`False`\n",
    "- `append`，参数值添加到列表\n",
    "- `append_const`，添加`const`指定的值到列表中\n",
    "- `count`，存储参数出现次数\n",
    "- `version`，打印版本信息"
   ]
  },
  {
   "cell_type": "markdown",
   "metadata": {
    "slideshow": {
     "slide_type": "slide"
    }
   },
   "source": [
    "`parser`的方法 `parse_args()` 会返回解析结果，是`argparse.Namespace`对象，可以使用`.`来访问对象的属性。语法是：\n",
    "```\n",
    "parse_args(args=None, namespace=None)\n",
    "```\n",
    "参数包括：\n",
    "- `args`，缺省是`sys.argv`\n",
    "- `namespace`,用于存放参数的对象。缺省是空的`Namespace`对象。"
   ]
  },
  {
   "cell_type": "markdown",
   "metadata": {
    "slideshow": {
     "slide_type": "slide"
    }
   },
   "source": [
    "## 快速应用"
   ]
  },
  {
   "cell_type": "markdown",
   "metadata": {
    "slideshow": {
     "slide_type": "slide"
    }
   },
   "source": [
    "### 无参数\n",
    "\n",
    "下面给出一个没有参数的命令行解析示例。"
   ]
  },
  {
   "cell_type": "code",
   "execution_count": null,
   "metadata": {
    "slideshow": {
     "slide_type": "slide"
    }
   },
   "outputs": [],
   "source": [
    "%%writefile demo02.py\n",
    "#!/usr/bin/env python\n",
    "# -*- coding: utf-8 -*-\n",
    "\"\"\"argparse demo\"\"\"\n",
    "import argparse\n",
    "\n",
    "parser = argparse.ArgumentParser()\n",
    "args = parser.parse_args()\n",
    "\n",
    "print(args)"
   ]
  },
  {
   "cell_type": "markdown",
   "metadata": {
    "slideshow": {
     "slide_type": "slide"
    }
   },
   "source": [
    "运行示例，查看结果"
   ]
  },
  {
   "cell_type": "code",
   "execution_count": null,
   "metadata": {
    "slideshow": {
     "slide_type": "-"
    }
   },
   "outputs": [],
   "source": [
    "!python demo02.py"
   ]
  },
  {
   "cell_type": "markdown",
   "metadata": {
    "slideshow": {
     "slide_type": "slide"
    }
   },
   "source": [
    "不要着急，试一试帮助"
   ]
  },
  {
   "cell_type": "code",
   "execution_count": null,
   "metadata": {
    "slideshow": {
     "slide_type": "-"
    }
   },
   "outputs": [],
   "source": [
    "!python demo02.py -h"
   ]
  },
  {
   "cell_type": "markdown",
   "metadata": {
    "slideshow": {
     "slide_type": "slide"
    }
   },
   "source": [
    "输入一些错误情况"
   ]
  },
  {
   "cell_type": "code",
   "execution_count": null,
   "metadata": {
    "slideshow": {
     "slide_type": "-"
    }
   },
   "outputs": [],
   "source": [
    "!python demo02.py wronginput -w"
   ]
  },
  {
   "cell_type": "markdown",
   "metadata": {
    "slideshow": {
     "slide_type": "slide"
    }
   },
   "source": [
    "由上可知，`argparse`模块缺省提供了如下功能：\n",
    "- `--help`或`-h`的帮助选项，以及帮助说明；\n",
    "- 对于错误输入会给出提示"
   ]
  },
  {
   "cell_type": "markdown",
   "metadata": {
    "slideshow": {
     "slide_type": "slide"
    }
   },
   "source": [
    "### 位置参数\n",
    "\n",
    "前面讲过，程序的一些输入参数必须输入。对此种情况，可以使用位置参数（positional arguments）。"
   ]
  },
  {
   "cell_type": "code",
   "execution_count": null,
   "metadata": {
    "slideshow": {
     "slide_type": "slide"
    }
   },
   "outputs": [],
   "source": [
    "%%writefile demo03.py\n",
    "#!/usr/bin/env python\n",
    "# -*- coding: utf-8 -*-\n",
    "\"\"\"argparse demo\"\"\"\n",
    "import argparse\n",
    "\n",
    "parser = argparse.ArgumentParser()\n",
    "parser.add_argument('posarg1')\n",
    "parser.add_argument('posarg2', help=\"位置参数2\", type=float)\n",
    "parser.add_argument('posarg3', help=\"位置参数3\", type=int)\n",
    "args = parser.parse_args()\n",
    "\n",
    "print(args)"
   ]
  },
  {
   "cell_type": "markdown",
   "metadata": {
    "slideshow": {
     "slide_type": "slide"
    }
   },
   "source": [
    "其中使用了关键字：\n",
    "- `help`，会在说明帮助中显示\n",
    "- `type`，指定参数值类型。如果不正确会报错误"
   ]
  },
  {
   "cell_type": "markdown",
   "metadata": {
    "slideshow": {
     "slide_type": "slide"
    }
   },
   "source": [
    "查看程序的帮助信息"
   ]
  },
  {
   "cell_type": "code",
   "execution_count": null,
   "metadata": {
    "slideshow": {
     "slide_type": "-"
    }
   },
   "outputs": [],
   "source": [
    "!python demo03.py -h"
   ]
  },
  {
   "cell_type": "markdown",
   "metadata": {
    "slideshow": {
     "slide_type": "slide"
    }
   },
   "source": [
    "运行程序，并查看结果"
   ]
  },
  {
   "cell_type": "code",
   "execution_count": null,
   "metadata": {
    "slideshow": {
     "slide_type": "-"
    }
   },
   "outputs": [],
   "source": [
    "!python demo03.py xyz 3.1415 128"
   ]
  },
  {
   "cell_type": "markdown",
   "metadata": {
    "slideshow": {
     "slide_type": "slide"
    }
   },
   "source": [
    "试一试错误输入"
   ]
  },
  {
   "cell_type": "code",
   "execution_count": null,
   "metadata": {
    "slideshow": {
     "slide_type": "-"
    }
   },
   "outputs": [],
   "source": [
    "!python demo03.py 128 str xyz"
   ]
  },
  {
   "cell_type": "markdown",
   "metadata": {
    "slideshow": {
     "slide_type": "slide"
    }
   },
   "source": [
    "### 可选参数\n",
    "\n",
    "可选参数（optional arguments），也称为选项，有点像函数中的关键字参数，在Linux系统程序的选项通常用如下方式：\n",
    "- 短参数，`-h`，通常用的频率稍高些\n",
    "- 长参数，`--help`，通常用的频率稍低些"
   ]
  },
  {
   "cell_type": "markdown",
   "metadata": {
    "slideshow": {
     "slide_type": "slide"
    }
   },
   "source": [
    "选项后面可以指定值，也可以不指定。"
   ]
  },
  {
   "cell_type": "markdown",
   "metadata": {
    "slideshow": {
     "slide_type": "slide"
    }
   },
   "source": [
    "下面创建包括短参数和长参数的程序示例"
   ]
  },
  {
   "cell_type": "code",
   "execution_count": null,
   "metadata": {
    "slideshow": {
     "slide_type": "slide"
    }
   },
   "outputs": [],
   "source": [
    "%%writefile demo04.py\n",
    "#!/usr/bin/env python\n",
    "# -*- coding: utf-8 -*-\n",
    "\"\"\"argparse demo\"\"\"\n",
    "import argparse\n",
    "\n",
    "parser = argparse.ArgumentParser()\n",
    "parser.add_argument('-a', action=\"store_true\", default=False)\n",
    "parser.add_argument('-b', action=\"store\", dest=\"b\")\n",
    "parser.add_argument('-c', action=\"store\", dest=\"number\", type=int)\n",
    "parser.add_argument('--witharg', action=\"store\", default='default d')\n",
    "args = parser.parse_args()\n",
    "print(args)"
   ]
  },
  {
   "cell_type": "markdown",
   "metadata": {
    "slideshow": {
     "slide_type": "slide"
    }
   },
   "source": [
    "在调用`add_argument()`，使用了关键字参数：\n",
    "- `action`\n",
    "- `dest`\n",
    "- `default`"
   ]
  },
  {
   "cell_type": "markdown",
   "metadata": {
    "slideshow": {
     "slide_type": "slide"
    }
   },
   "source": [
    "在命令行中，指定每个选项"
   ]
  },
  {
   "cell_type": "code",
   "execution_count": null,
   "metadata": {
    "slideshow": {
     "slide_type": "-"
    }
   },
   "outputs": [],
   "source": [
    "!python demo04.py -a -bval -c 2 --witharg xyz"
   ]
  },
  {
   "cell_type": "markdown",
   "metadata": {
    "slideshow": {
     "slide_type": "slide"
    }
   },
   "source": [
    "再比较一下，不指定选项的结果。"
   ]
  },
  {
   "cell_type": "code",
   "execution_count": null,
   "metadata": {
    "slideshow": {
     "slide_type": "-"
    }
   },
   "outputs": [],
   "source": [
    "!python demo04.py"
   ]
  },
  {
   "cell_type": "markdown",
   "metadata": {
    "slideshow": {
     "slide_type": "slide"
    }
   },
   "source": [
    "可以看出，如果在命令行中不指定选项，则选项参数为`None`。可以使用`default`设置缺省值。"
   ]
  },
  {
   "cell_type": "markdown",
   "metadata": {
    "slideshow": {
     "slide_type": "slide"
    }
   },
   "source": [
    "也可以像帮助选项那样，同时提供短参数和长参数。"
   ]
  },
  {
   "cell_type": "code",
   "execution_count": null,
   "metadata": {
    "slideshow": {
     "slide_type": "slide"
    }
   },
   "outputs": [],
   "source": [
    "%%writefile demo05.py\n",
    "#!/usr/bin/env python\n",
    "# -*- coding: utf-8 -*-\n",
    "\"\"\"argparse demo\"\"\"\n",
    "import argparse\n",
    "\n",
    "parser = argparse.ArgumentParser()\n",
    "parser.add_argument('-a', '--longa', action='store_true', default=False)\n",
    "parser.add_argument('-b', '--longb', action='store', dest='longb')\n",
    "parser.add_argument('-c', '--longc', action='store', dest='number', type=int)\n",
    "args = parser.parse_args()\n",
    "print(args)"
   ]
  },
  {
   "cell_type": "markdown",
   "metadata": {
    "slideshow": {
     "slide_type": "slide"
    }
   },
   "source": [
    "运行程序，查看程序帮助信息"
   ]
  },
  {
   "cell_type": "code",
   "execution_count": null,
   "metadata": {
    "slideshow": {
     "slide_type": "-"
    }
   },
   "outputs": [],
   "source": [
    "!python demo05.py --help"
   ]
  },
  {
   "cell_type": "markdown",
   "metadata": {
    "slideshow": {
     "slide_type": "slide"
    }
   },
   "source": [
    "指定选项或不指定选项，运行程序，比较运行结果。"
   ]
  },
  {
   "cell_type": "code",
   "execution_count": null,
   "metadata": {
    "slideshow": {
     "slide_type": "-"
    }
   },
   "outputs": [],
   "source": [
    "!python demo05.py"
   ]
  },
  {
   "cell_type": "code",
   "execution_count": null,
   "metadata": {
    "slideshow": {
     "slide_type": "-"
    }
   },
   "outputs": [],
   "source": [
    "!python demo05.py --longa -b 123 -c=123"
   ]
  },
  {
   "cell_type": "markdown",
   "metadata": {
    "slideshow": {
     "slide_type": "slide"
    }
   },
   "source": [
    "### 参数混搭\n",
    "\n",
    "一个命令行程序，通常有少量的定位参数和较多的可选参数。"
   ]
  },
  {
   "cell_type": "code",
   "execution_count": null,
   "metadata": {
    "slideshow": {
     "slide_type": "slide"
    }
   },
   "outputs": [],
   "source": [
    "%%writefile demo06.py\n",
    "#!/usr/bin/env python\n",
    "# -*- coding: utf-8 -*-\n",
    "\"\"\"argparse demo\"\"\"\n",
    "import argparse\n",
    "\n",
    "parser = argparse.ArgumentParser()\n",
    "parser.add_argument('-a', '--longa', action='store_true', default=False)\n",
    "parser.add_argument('-b', '-longb', action='store', dest='longb')\n",
    "parser.add_argument('-c', '--longc', action='store', dest='number', type=int)\n",
    "parser.add_argument('inpfile')\n",
    "args = parser.parse_args()\n",
    "print(args)"
   ]
  },
  {
   "cell_type": "markdown",
   "metadata": {
    "slideshow": {
     "slide_type": "slide"
    }
   },
   "source": [
    "运行程序，查看帮助信息"
   ]
  },
  {
   "cell_type": "code",
   "execution_count": null,
   "metadata": {
    "slideshow": {
     "slide_type": "-"
    }
   },
   "outputs": [],
   "source": [
    "!python demo06.py -h"
   ]
  },
  {
   "cell_type": "markdown",
   "metadata": {
    "slideshow": {
     "slide_type": "slide"
    }
   },
   "source": [
    "运行程序，查看结果。"
   ]
  },
  {
   "cell_type": "code",
   "execution_count": null,
   "metadata": {
    "slideshow": {
     "slide_type": "-"
    }
   },
   "outputs": [],
   "source": [
    "!python demo06.py xxx.txt"
   ]
  },
  {
   "cell_type": "markdown",
   "metadata": {},
   "source": [
    "## 更多说明"
   ]
  },
  {
   "cell_type": "markdown",
   "metadata": {
    "slideshow": {
     "slide_type": "slide"
    }
   },
   "source": [
    "### `add_argument()`用法"
   ]
  },
  {
   "cell_type": "markdown",
   "metadata": {
    "slideshow": {
     "slide_type": "slide"
    }
   },
   "source": [
    "#### `action`的使用\n",
    "\n",
    "回顾一下，`action`关键字参数作用是对指定参数进行读取处理，并存到`dest`指定的属性中。`action`关键字参数对应的值有多个下面分别介绍。"
   ]
  },
  {
   "cell_type": "markdown",
   "metadata": {
    "slideshow": {
     "slide_type": "slide"
    }
   },
   "source": [
    "缺省值为`store`，把参数指定的值存储到命名空间（Namespace）中。"
   ]
  },
  {
   "cell_type": "code",
   "execution_count": null,
   "metadata": {
    "slideshow": {
     "slide_type": "-"
    }
   },
   "outputs": [],
   "source": [
    "parser = argparse.ArgumentParser()\n",
    "parser.add_argument('--foo')\n",
    "argv = '--foo 1'.split()\n",
    "parser.parse_args(argv)"
   ]
  },
  {
   "cell_type": "markdown",
   "metadata": {
    "slideshow": {
     "slide_type": "slide"
    }
   },
   "source": [
    "当指定为`store_const`值时，会存储`const`参数传入值。"
   ]
  },
  {
   "cell_type": "code",
   "execution_count": null,
   "metadata": {
    "slideshow": {
     "slide_type": "-"
    }
   },
   "outputs": [],
   "source": [
    "parser = argparse.ArgumentParser()\n",
    "parser.add_argument('--foo', action='store_const', const=42)\n",
    "argv = '--foo'.split()\n",
    "parser.parse_args(argv)"
   ]
  },
  {
   "cell_type": "markdown",
   "metadata": {
    "slideshow": {
     "slide_type": "slide"
    }
   },
   "source": [
    "当指定为`store_true`或`store_false`值时，会存储`True`或`False`值。"
   ]
  },
  {
   "cell_type": "code",
   "execution_count": null,
   "metadata": {
    "slideshow": {
     "slide_type": "-"
    }
   },
   "outputs": [],
   "source": [
    "parser = argparse.ArgumentParser()\n",
    "parser.add_argument('--foo', action='store_true')\n",
    "parser.add_argument('--bar', action='store_false')\n",
    "parser.add_argument('--baz', action='store_false')\n",
    "parser.parse_args('--foo --bar'.split())"
   ]
  },
  {
   "cell_type": "markdown",
   "metadata": {
    "slideshow": {
     "slide_type": "slide"
    }
   },
   "source": [
    "当指定为`append`值时，会把指定的参数添加到列表中，并存到命名空间中去。"
   ]
  },
  {
   "cell_type": "code",
   "execution_count": null,
   "metadata": {
    "slideshow": {
     "slide_type": "-"
    }
   },
   "outputs": [],
   "source": [
    "parser = argparse.ArgumentParser()\n",
    "parser.add_argument('--foo', action='append')\n",
    "parser.parse_args('--foo 1 --foo 2'.split())"
   ]
  },
  {
   "cell_type": "markdown",
   "metadata": {
    "slideshow": {
     "slide_type": "slide"
    }
   },
   "source": [
    "当指定为`append_const`值时，会把`const`传入值添加到列表，并存到`dest`指的属性中。"
   ]
  },
  {
   "cell_type": "code",
   "execution_count": null,
   "metadata": {
    "slideshow": {
     "slide_type": "-"
    }
   },
   "outputs": [],
   "source": [
    "parser = argparse.ArgumentParser()\n",
    "parser.add_argument('--str', dest='types', action='append_const', const=str)\n",
    "parser.add_argument('--int', dest='types', action='append_const', const=int)\n",
    "parser.parse_args('--str --int'.split())"
   ]
  },
  {
   "cell_type": "markdown",
   "metadata": {
    "slideshow": {
     "slide_type": "slide"
    }
   },
   "source": [
    "当指定为`count`值时，会对输入参数进行计数，并把结果存储。"
   ]
  },
  {
   "cell_type": "code",
   "execution_count": null,
   "metadata": {
    "slideshow": {
     "slide_type": "-"
    }
   },
   "outputs": [],
   "source": [
    "parser = argparse.ArgumentParser()\n",
    "parser.add_argument('--verbose', '-v', action='count')\n",
    "parser.parse_args(['-vvv'])"
   ]
  },
  {
   "cell_type": "markdown",
   "metadata": {
    "slideshow": {
     "slide_type": "slide"
    }
   },
   "source": [
    "当指定为`version`值，会把`version`传入值打印出来，并退出程序。"
   ]
  },
  {
   "cell_type": "code",
   "execution_count": null,
   "metadata": {
    "slideshow": {
     "slide_type": "-"
    }
   },
   "outputs": [],
   "source": [
    "%%writefile demo07.py\n",
    "#!/usr/bin/env python\n",
    "# -*- coding: utf-8 -*-\n",
    "\"\"\"argparse demo\"\"\"\n",
    "import argparse\n",
    "\n",
    "\n",
    "__version__ = '0.1.1'\n",
    "\n",
    "parser = argparse.ArgumentParser()\n",
    "parser.add_argument('-v', '--version', action='version', version=__version__)\n",
    "args = parser.parse_args()"
   ]
  },
  {
   "cell_type": "markdown",
   "metadata": {
    "slideshow": {
     "slide_type": "slide"
    }
   },
   "source": [
    "运行程序，检查帮助信息。"
   ]
  },
  {
   "cell_type": "code",
   "execution_count": null,
   "metadata": {
    "slideshow": {
     "slide_type": "-"
    }
   },
   "outputs": [],
   "source": [
    "!python demo07.py -h"
   ]
  },
  {
   "cell_type": "markdown",
   "metadata": {
    "slideshow": {
     "slide_type": "slide"
    }
   },
   "source": [
    "运行程序，查看版本信息。"
   ]
  },
  {
   "cell_type": "code",
   "execution_count": null,
   "metadata": {
    "slideshow": {
     "slide_type": "-"
    }
   },
   "outputs": [],
   "source": [
    "!python demo07.py -v"
   ]
  },
  {
   "cell_type": "markdown",
   "metadata": {
    "slideshow": {
     "slide_type": "slide"
    }
   },
   "source": [
    "#### `nargs`\n",
    "\n",
    "可以使用关键参数`nargs`来指定选项值的数量，有如下可选值：  \n",
    "\n",
    "| Value  |  说明|\n",
    "|:-------|:------|\n",
    "|N\t| N个选项 |\n",
    "|?\t| 零个或1个选项值 |\n",
    "|*\t| 零个或任意多个选项值 |\n",
    "|+\t| 1个或任意多个选项 |"
   ]
  },
  {
   "cell_type": "markdown",
   "metadata": {
    "slideshow": {
     "slide_type": "slide"
    }
   },
   "source": [
    "当指定为具体数字时，选项值数目必须匹配。"
   ]
  },
  {
   "cell_type": "code",
   "execution_count": null,
   "metadata": {
    "slideshow": {
     "slide_type": "-"
    }
   },
   "outputs": [],
   "source": [
    "parser = argparse.ArgumentParser()\n",
    "parser.add_argument('--foo', nargs=3)\n",
    "parser.add_argument('bar', nargs=1)\n",
    "argv = 'c --foo a b c'.split()\n",
    "parser.parse_args(argv)"
   ]
  },
  {
   "cell_type": "markdown",
   "metadata": {
    "slideshow": {
     "slide_type": "slide"
    }
   },
   "source": [
    "当指定为`?`时，表示要么指定一个选项值要么没有。"
   ]
  },
  {
   "cell_type": "code",
   "execution_count": null,
   "metadata": {
    "slideshow": {
     "slide_type": "-"
    }
   },
   "outputs": [],
   "source": [
    "parser = argparse.ArgumentParser()\n",
    "parser.add_argument('--foo', nargs='?', const='c', default='d')\n",
    "parser.add_argument('bar', nargs='?', default='d')\n",
    "argv = 'XX --foo a'.split()\n",
    "parser.parse_args(argv)"
   ]
  },
  {
   "cell_type": "markdown",
   "metadata": {
    "slideshow": {
     "slide_type": "slide"
    }
   },
   "source": [
    "当指定为`*`时，选项值数目可以是0，可以是1个，也可以任意多个。"
   ]
  },
  {
   "cell_type": "code",
   "execution_count": null,
   "metadata": {
    "slideshow": {
     "slide_type": "-"
    }
   },
   "outputs": [],
   "source": [
    "parser = argparse.ArgumentParser()\n",
    "parser.add_argument('--foo', nargs='*')\n",
    "parser.add_argument('--bar', nargs='*')\n",
    "parser.add_argument('baz', nargs='*')\n",
    "argv = 'a b --foo --bar 1 2 x y'.split()\n",
    "parser.parse_args(argv)"
   ]
  },
  {
   "cell_type": "markdown",
   "metadata": {
    "slideshow": {
     "slide_type": "slide"
    }
   },
   "source": [
    "当指定为`+`时，表示选项要指定任意多个选项值，至少有一个。如果没有指定选项值会出错退出。"
   ]
  },
  {
   "cell_type": "code",
   "execution_count": null,
   "metadata": {
    "slideshow": {
     "slide_type": "-"
    }
   },
   "outputs": [],
   "source": [
    "parser = argparse.ArgumentParser()\n",
    "parser.add_argument('foo', nargs='+')\n",
    "argv = 'a'.split()\n",
    "print(parser.parse_args(argv))\n",
    "argv = 'a b c'.split()\n",
    "print(parser.parse_args(argv))\n",
    "argv = ''.split()\n",
    "parser.parse_args(argv)"
   ]
  },
  {
   "cell_type": "markdown",
   "metadata": {
    "slideshow": {
     "slide_type": "slide"
    }
   },
   "source": [
    "#### `type`\n",
    "\n",
    "`type`用来指定参数的数据类型，默认读取参数都是字符串。"
   ]
  },
  {
   "cell_type": "code",
   "execution_count": null,
   "metadata": {
    "slideshow": {
     "slide_type": "-"
    }
   },
   "outputs": [],
   "source": [
    "parser = argparse.ArgumentParser()\n",
    "parser.add_argument('--foo', type=int)\n",
    "parser.add_argument('--bar', type=float)\n",
    "parser.add_argument('--file', type=open)\n",
    "argv = '--foo 1 --bar 2 --file demo01.py'.split()\n",
    "parser.parse_args(argv)"
   ]
  },
  {
   "cell_type": "markdown",
   "metadata": {
    "slideshow": {
     "slide_type": "slide"
    }
   },
   "source": [
    "#### `choices`\n",
    "\n",
    "`choices`指定一个列表，参数值必须该列表中取值，否则会出错。"
   ]
  },
  {
   "cell_type": "code",
   "execution_count": null,
   "metadata": {
    "slideshow": {
     "slide_type": "-"
    }
   },
   "outputs": [],
   "source": [
    "parser = argparse.ArgumentParser()\n",
    "msgnames = ['debug', 'info', 'warning', 'error', 'critical']\n",
    "parser.add_argument('-m', '--msglev', choices=msgnames)\n",
    "argv = '-m debug'.split()\n",
    "print(parser.parse_args(argv))\n",
    "argv = '-m x'.split()\n",
    "print(parser.parse_args(argv))"
   ]
  },
  {
   "cell_type": "markdown",
   "metadata": {
    "slideshow": {
     "slide_type": "slide"
    }
   },
   "source": [
    "### `ArgumentParser` 更多用法\n",
    "\n",
    "要进行命令行解析，首先需要创建`ArgumentParser()`对象。在创建`ArgumentParser()`对象，可以使用关键字参数，来进行更多定制。"
   ]
  },
  {
   "cell_type": "markdown",
   "metadata": {
    "slideshow": {
     "slide_type": "slide"
    }
   },
   "source": [
    "关键词参数包括：\n",
    "- `prog`：程序名，缺省值是`sys.argv[0]`。\n",
    "- `usage`：程序使用说明，缺省是自行创建。\n",
    "- `description`： 在帮助前信息添加程序描述。\n",
    "- `epilog`： 在帮助信息后显示内容\n",
    "- `parents`： `ArgumentParser`对象列表。\n",
    "- `formatter_class`： 帮助信息输出格式类。\n",
    "- `prefix_chars`： 选项前缀，默认值是`-`。\n",
    "- `fromfile_prefix_chars`： 前缀字符，放在文件名前，缺省是`None`。\n",
    "- `argument_default`： 选项缺省值全局设置。\n",
    "- `conflict_handler`： 冲突解决策略。\n",
    "- `add_help`： 是否增加选项`-h/--help`，缺省是`True`\n",
    "- `allow_abbrev`： Allows l"
   ]
  },
  {
   "cell_type": "markdown",
   "metadata": {
    "slideshow": {
     "slide_type": "slide"
    }
   },
   "source": [
    "####  `description` 与`epilog`\n",
    "\n",
    "使用`description` 与`epilog`在帮助信息中增加内容。"
   ]
  },
  {
   "cell_type": "code",
   "execution_count": null,
   "metadata": {},
   "outputs": [],
   "source": [
    "%%writefile demo08.py\n",
    "#!/usr/bin/env python\n",
    "# -*- coding: utf-8 -*-\n",
    "\"\"\"argparse demo\"\"\"\n",
    "import argparse\n",
    "\n",
    "\n",
    "__version__ = '0.1.1'\n",
    "\n",
    "description = \"程序用来演示version的用法\"\n",
    "epilog = \"程序还不错吧\"\n",
    "\n",
    "parser = argparse.ArgumentParser(description=description, epilog=epilog)\n",
    "parser.add_argument('-v', '--version', action='version', version=__version__)\n",
    "args = parser.parse_args()"
   ]
  },
  {
   "cell_type": "markdown",
   "metadata": {
    "slideshow": {
     "slide_type": "slide"
    }
   },
   "source": [
    "运行程序，比较与`demo07.py`的帮助信息差异"
   ]
  },
  {
   "cell_type": "code",
   "execution_count": null,
   "metadata": {
    "slideshow": {
     "slide_type": "-"
    }
   },
   "outputs": [],
   "source": [
    "!python demo08.py -h"
   ]
  },
  {
   "cell_type": "markdown",
   "metadata": {
    "slideshow": {
     "slide_type": "slide"
    }
   },
   "source": [
    "#### `prefix_chars`\n",
    "\n",
    "在Windows系统下，DOS命令的参数选项前缀不是`-`，而是使用`/`。故可以指定`prefix_chars='/'`来实现Dos风格的命令。"
   ]
  },
  {
   "cell_type": "code",
   "execution_count": null,
   "metadata": {},
   "outputs": [],
   "source": [
    "%%writefile demo09.py\n",
    "#!/usr/bin/env python\n",
    "# -*- coding: utf-8 -*-\n",
    "\"\"\"argparse demo\"\"\"\n",
    "import argparse\n",
    "\n",
    "\n",
    "__version__ = '0.1.1'\n",
    "\n",
    "parser = argparse.ArgumentParser(prefix_chars='/')\n",
    "parser.add_argument('/s', action='store_true', default=False)\n",
    "parser.add_argument('/f', action='store')\n",
    "args = parser.parse_args()\n",
    "print(args)"
   ]
  },
  {
   "cell_type": "markdown",
   "metadata": {
    "slideshow": {
     "slide_type": "slide"
    }
   },
   "source": [
    "运行程序，查看帮助信息。"
   ]
  },
  {
   "cell_type": "code",
   "execution_count": null,
   "metadata": {
    "slideshow": {
     "slide_type": "-"
    }
   },
   "outputs": [],
   "source": [
    "!python demo09.py /h"
   ]
  },
  {
   "cell_type": "markdown",
   "metadata": {
    "slideshow": {
     "slide_type": "slide"
    }
   },
   "source": [
    "运行程序，查看参数解析结果。"
   ]
  },
  {
   "cell_type": "code",
   "execution_count": null,
   "metadata": {
    "slideshow": {
     "slide_type": "-"
    }
   },
   "outputs": [],
   "source": [
    "!python demo09.py"
   ]
  },
  {
   "cell_type": "markdown",
   "metadata": {
    "slideshow": {
     "slide_type": "slide"
    }
   },
   "source": [
    "## 应用实例\n",
    "\n",
    "传入多个整数（至少有一个），使用`--method`指定计算方法，缺省是求和。"
   ]
  },
  {
   "cell_type": "code",
   "execution_count": null,
   "metadata": {
    "slideshow": {
     "slide_type": "slide"
    }
   },
   "outputs": [],
   "source": [
    "%%writefile calc.py\n",
    "#!/usr/bin/env python\n",
    "# -*- coding: utf-8 -*-\n",
    "\"\"\"argparse demo\"\"\"\n",
    "import argparse\n",
    "\n",
    "\n",
    "__version__ = '1.0.0'\n",
    "\n",
    "def main():\n",
    "    \"\"\"main entry\"\"\"\n",
    "    description = \"对多个整数进行累计运算\"\n",
    "    parser = argparse.ArgumentParser(description=description)\n",
    "    parser.add_argument('integers', metavar='N', type=int, nargs='+',\n",
    "                        help='an integer for the accumulator')\n",
    "    parser.add_argument('--method', choices=['sum', 'min', 'max'], default='sum',\n",
    "                        help='a math method for accumulator')\n",
    "    parser.add_argument('-v', '--version', action='version', version=__version__)\n",
    "    args = parser.parse_args()\n",
    "\n",
    "    result = None\n",
    "    if args.method == 'sum':\n",
    "        result = sum(args.integers)\n",
    "    elif args.method == 'max':\n",
    "        result = max(args.integers)\n",
    "    elif args.method == 'min':\n",
    "        result = min(args.integers)\n",
    "\n",
    "    print(result)\n",
    "    \n",
    "if __name__ == '__main__':\n",
    "    main()"
   ]
  },
  {
   "cell_type": "markdown",
   "metadata": {
    "slideshow": {
     "slide_type": "slide"
    }
   },
   "source": [
    "运行程序，检查帮助信息"
   ]
  },
  {
   "cell_type": "code",
   "execution_count": null,
   "metadata": {
    "slideshow": {
     "slide_type": "-"
    }
   },
   "outputs": [],
   "source": [
    "!python calc.py -h"
   ]
  },
  {
   "cell_type": "markdown",
   "metadata": {
    "slideshow": {
     "slide_type": "slide"
    }
   },
   "source": [
    "运行程序，查看结果。"
   ]
  },
  {
   "cell_type": "code",
   "execution_count": null,
   "metadata": {
    "slideshow": {
     "slide_type": "-"
    }
   },
   "outputs": [],
   "source": [
    "!python calc.py 1 2 3"
   ]
  },
  {
   "cell_type": "code",
   "execution_count": null,
   "metadata": {
    "slideshow": {
     "slide_type": "-"
    }
   },
   "outputs": [],
   "source": [
    "!python calc.py --method  max 1 2 3"
   ]
  }
 ],
 "metadata": {
  "kernelspec": {
   "display_name": "Python 3",
   "language": "python",
   "name": "python3"
  },
  "language_info": {
   "codemirror_mode": {
    "name": "ipython",
    "version": 3
   },
   "file_extension": ".py",
   "mimetype": "text/x-python",
   "name": "python",
   "nbconvert_exporter": "python",
   "pygments_lexer": "ipython3",
   "version": "3.6.4"
  },
  "toc": {
   "base_numbering": 1,
   "nav_menu": {},
   "number_sections": true,
   "sideBar": true,
   "skip_h1_title": false,
   "title_cell": "Table of Contents",
   "title_sidebar": "Contents",
   "toc_cell": false,
   "toc_position": {
    "height": "calc(100% - 180px)",
    "left": "10px",
    "top": "150px",
    "width": "210px"
   },
   "toc_section_display": true,
   "toc_window_display": false
  }
 },
 "nbformat": 4,
 "nbformat_minor": 2
}
