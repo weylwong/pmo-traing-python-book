{
 "cells": [
  {
   "cell_type": "markdown",
   "metadata": {
    "slideshow": {
     "slide_type": "slide"
    }
   },
   "source": [
    "# time 库\n",
    "\n",
    "实践活动都发在一定的时间和空间中，在编写程序中，时间处理的功能不可或缺。时间处理的模块很多，`time`与`datetime`是最基础的时间处理模块，也是必须掌握的。\n",
    "\n",
    "\n",
    "`time`是一个Python内置模块，提供了一些函数来处理处理时间。"
   ]
  },
  {
   "cell_type": "markdown",
   "metadata": {
    "slideshow": {
     "slide_type": "slide"
    }
   },
   "source": [
    "众所周知，地球是圆的，不同地方早上日出也是不同。协调世界时（Coordinated Universal Time, UTC），也称为世界标准时间。各个地方的地方时，就是通过时区差（与UTC时间的差），使得时间既符合当地人的日常作息，也保证时间的统一。\n",
    "\n",
    "格林尼治天文台位于伦敦的一个区，其时区差为0。也就是说格林尼治时间就是UTC时间。而中国的时区差为8，也就是说北京时间是UTC+8。\n",
    "\n",
    "天文学上的时间概念则更为复杂，还包括原子时等。通常情况下，了解地方时与UTC时间的差异即可。"
   ]
  },
  {
   "cell_type": "markdown",
   "metadata": {
    "slideshow": {
     "slide_type": "slide"
    }
   },
   "source": [
    "使用`time`模块，需要先用`import`命令："
   ]
  },
  {
   "cell_type": "code",
   "execution_count": 2,
   "metadata": {
    "slideshow": {
     "slide_type": "-"
    }
   },
   "outputs": [],
   "source": [
    "import time"
   ]
  },
  {
   "cell_type": "markdown",
   "metadata": {
    "slideshow": {
     "slide_type": "slide"
    }
   },
   "source": [
    "## 介绍\n",
    "\n",
    "使用`dir()`函数列举模块成员："
   ]
  },
  {
   "cell_type": "code",
   "execution_count": 3,
   "metadata": {
    "slideshow": {
     "slide_type": "slide"
    }
   },
   "outputs": [
    {
     "name": "stdout",
     "output_type": "stream",
     "text": [
      "['_STRUCT_TM_ITEMS', '__doc__', '__loader__', '__name__', '__package__', '__spec__', 'altzone', 'asctime', 'clock', 'ctime', 'daylight', 'get_clock_info', 'gmtime', 'localtime', 'mktime', 'monotonic', 'perf_counter', 'process_time', 'sleep', 'strftime', 'strptime', 'struct_time', 'time', 'timezone', 'tzname']\n"
     ]
    }
   ],
   "source": [
    "print(dir(time))"
   ]
  },
  {
   "cell_type": "markdown",
   "metadata": {
    "slideshow": {
     "slide_type": "slide"
    }
   },
   "source": [
    "`time`模块的一些常数值："
   ]
  },
  {
   "cell_type": "code",
   "execution_count": 4,
   "metadata": {
    "slideshow": {
     "slide_type": "-"
    }
   },
   "outputs": [
    {
     "name": "stdout",
     "output_type": "stream",
     "text": [
      "-32400\n",
      "('ÖÐ¹ú±ê×¼Ê±¼ä', 'ÖÐ¹úÏÄÁîÊ±')\n"
     ]
    }
   ],
   "source": [
    "print(time.altzone)\n",
    "print(time.tzname)"
   ]
  },
  {
   "cell_type": "markdown",
   "metadata": {
    "slideshow": {
     "slide_type": "slide"
    }
   },
   "source": [
    "### 计算机中的时间\n",
    "\n",
    "计算机的UTC时间通常用整数或浮点数来表示，也就是从1970年01月01日零时零分零秒开始的秒数，也称为Unix时间戳。"
   ]
  },
  {
   "cell_type": "markdown",
   "metadata": {
    "slideshow": {
     "slide_type": "slide"
    }
   },
   "source": [
    "由于秒数太大，另外使用结构化时间（`struct_time`）来表示时间，共有9个整数：\n",
    "- year，年，包括世纪\n",
    "- month (1-12)，月\n",
    "- day (1-31)， 日\n",
    "- hours (0-23)，时\n",
    "- minutes (0-59)，分\n",
    "- seconds (0-59)，秒\n",
    "- weekday (0-6, Monday is 0)，星期\n",
    "- Julian day (day in the year, 1-366)，年积日\n",
    "- DST (Daylight Savings Time) flag (-1, 0 or 1)，夏令时"
   ]
  },
  {
   "cell_type": "markdown",
   "metadata": {
    "slideshow": {
     "slide_type": "slide"
    }
   },
   "source": [
    "使用`time.time()`得到当前时间，时间是用秒数来表示。"
   ]
  },
  {
   "cell_type": "code",
   "execution_count": 5,
   "metadata": {
    "slideshow": {
     "slide_type": "-"
    }
   },
   "outputs": [],
   "source": [
    "now = time.time()"
   ]
  },
  {
   "cell_type": "markdown",
   "metadata": {
    "slideshow": {
     "slide_type": "slide"
    }
   },
   "source": [
    "使用自省的方法，查看对象。"
   ]
  },
  {
   "cell_type": "code",
   "execution_count": 6,
   "metadata": {
    "slideshow": {
     "slide_type": "-"
    }
   },
   "outputs": [
    {
     "name": "stdout",
     "output_type": "stream",
     "text": [
      "<class 'float'> 1555915600.2847762\n"
     ]
    }
   ],
   "source": [
    "print(type(now), now)"
   ]
  },
  {
   "cell_type": "markdown",
   "metadata": {
    "slideshow": {
     "slide_type": "slide"
    }
   },
   "source": [
    "下面使用`time.gmtime`函数得到Unix时间戳对应的结构化时间。"
   ]
  },
  {
   "cell_type": "code",
   "execution_count": 7,
   "metadata": {
    "slideshow": {
     "slide_type": "-"
    }
   },
   "outputs": [],
   "source": [
    "unix_time0 = time.gmtime(0)"
   ]
  },
  {
   "cell_type": "code",
   "execution_count": 8,
   "metadata": {
    "slideshow": {
     "slide_type": "-"
    }
   },
   "outputs": [
    {
     "name": "stdout",
     "output_type": "stream",
     "text": [
      "<class 'time.struct_time'>\n",
      "time.struct_time(tm_year=1970, tm_mon=1, tm_mday=1, tm_hour=0, tm_min=0, tm_sec=0, tm_wday=3, tm_yday=1, tm_isdst=0)\n"
     ]
    }
   ],
   "source": [
    "print(type(unix_time0))\n",
    "print(unix_time0)"
   ]
  },
  {
   "cell_type": "markdown",
   "metadata": {
    "slideshow": {
     "slide_type": "slide"
    }
   },
   "source": [
    "Python的结构化时间对象是不可变对象，只能访问，不能更改。"
   ]
  },
  {
   "cell_type": "code",
   "execution_count": 9,
   "metadata": {
    "slideshow": {
     "slide_type": "-"
    }
   },
   "outputs": [
    {
     "name": "stdout",
     "output_type": "stream",
     "text": [
      "1970 1\n"
     ]
    }
   ],
   "source": [
    "print(unix_time0.tm_year, unix_time0.tm_yday)"
   ]
  },
  {
   "cell_type": "markdown",
   "metadata": {
    "slideshow": {
     "slide_type": "slide"
    }
   },
   "source": [
    "### 时间格式化\n",
    "\n",
    "无论使用浮点数还是结构化时间，这两种方法都是便于计算机应用，并不适合面向人。人们通常还是习惯用字符串来表示。"
   ]
  },
  {
   "cell_type": "markdown",
   "metadata": {
    "slideshow": {
     "slide_type": "slide"
    }
   },
   "source": [
    "利用`time.strftime()`函数，传入字符串格式，可是获得一个格式化的时间字符串："
   ]
  },
  {
   "cell_type": "code",
   "execution_count": 10,
   "metadata": {
    "slideshow": {
     "slide_type": "-"
    }
   },
   "outputs": [
    {
     "data": {
      "text/plain": [
       "'2019-04-22 14:46:48'"
      ]
     },
     "execution_count": 10,
     "metadata": {},
     "output_type": "execute_result"
    }
   ],
   "source": [
    "time.strftime('%Y-%m-%d %H:%M:%S')"
   ]
  },
  {
   "cell_type": "markdown",
   "metadata": {
    "slideshow": {
     "slide_type": "slide"
    }
   },
   "source": [
    "常用的格式字符串的控制符如下所示：\n",
    "\n",
    "| 格式  | 含义 |\n",
    "|:----|:-------|\n",
    "| `%Y` |完整的年份（4个数字） |\n",
    "| `%y` |两个数字表示的年份（00 - 99） |\n",
    "| `%m` |月份（01 - 12） |\n",
    "| `%b` |月份名称的本地简写 |\n",
    "| `%B` |月份名称的本地全称 |\n",
    "| `%d` |一个月中的第几天（01 - 31） |\n",
    "| `%j` |一年中的第几天（001 - 366） |\n",
    "| `%H` |一天中的第几个小时（24小时制，00 - 23） |\n",
    "| `%I` |第几个小时（12小时制，0 - 11） |\n",
    "| `%p` |本地am或者pm的标识符 |\n",
    "| `%M` |分钟数（00 - 59） |\n",
    "| `%S` |秒（00 - 61） |\n",
    "| `%f` |微秒（范围0.999999） |\n",
    "| `%z` |与UTC时间的间隔（如果是本地时间，返回空字符串） |\n",
    "| `%Z` |时区的名字（如果是本地时间，返回空字符串） |\n",
    "| `%a` |星期名称的本地简写 |\n",
    "| `%A` |星期名称的本地全称 |\n",
    "| `%w` |一个星期中的第几天（0 - 6，0是星期天） |\n",
    "| `%U` |一年中的星期数。（00 - 53)星期天是一个星期的开始。|\n",
    "| `%W` |和`%U`基本相同，不同的是`%W`以星期一为一个星期的开始。 |\n",
    "| `%c` |本地相应的日期和时间的字符串表示 |\n",
    "| `%x` |本地相应日期字符串 |\n",
    "| `%X` |本地相应时间字符串|\n",
    "| `%%` | `%`字符 |"
   ]
  },
  {
   "cell_type": "code",
   "execution_count": 11,
   "metadata": {
    "scrolled": true,
    "slideshow": {
     "slide_type": "slide"
    }
   },
   "outputs": [
    {
     "name": "stdout",
     "output_type": "stream",
     "text": [
      "Help on built-in function strftime in module time:\n",
      "\n",
      "strftime(...)\n",
      "    strftime(format[, tuple]) -> string\n",
      "    \n",
      "    Convert a time tuple to a string according to a format specification.\n",
      "    See the library reference manual for formatting codes. When the time tuple\n",
      "    is not present, current time as returned by localtime() is used.\n",
      "    \n",
      "    Commonly used format codes:\n",
      "    \n",
      "    %Y  Year with century as a decimal number.\n",
      "    %m  Month as a decimal number [01,12].\n",
      "    %d  Day of the month as a decimal number [01,31].\n",
      "    %H  Hour (24-hour clock) as a decimal number [00,23].\n",
      "    %M  Minute as a decimal number [00,59].\n",
      "    %S  Second as a decimal number [00,61].\n",
      "    %z  Time zone offset from UTC.\n",
      "    %a  Locale's abbreviated weekday name.\n",
      "    %A  Locale's full weekday name.\n",
      "    %b  Locale's abbreviated month name.\n",
      "    %B  Locale's full month name.\n",
      "    %c  Locale's appropriate date and time representation.\n",
      "    %I  Hour (12-hour clock) as a decimal number [01,12].\n",
      "    %p  Locale's equivalent of either AM or PM.\n",
      "    \n",
      "    Other codes may be available on your platform.  See documentation for\n",
      "    the C library strftime function.\n",
      "\n"
     ]
    }
   ],
   "source": [
    "help(time.strftime"
   ]
  },
  {
   "cell_type": "markdown",
   "metadata": {
    "slideshow": {
     "slide_type": "slide"
    }
   },
   "source": [
    "## 常用示例\n",
    "\n",
    "在时间处理方面，使用`datetime`模块更为便利。故`time`模块常用的函数不多，有如下：\n",
    "- `time.sleep()`，暂停运行,程序休眠\n",
    "- `time.time()`，返回Unix时间戳"
   ]
  },
  {
   "cell_type": "markdown",
   "metadata": {
    "slideshow": {
     "slide_type": "slide"
    }
   },
   "source": [
    "### 监视监控\n",
    "\n",
    "每隔一段时间，做一次事情。"
   ]
  },
  {
   "cell_type": "code",
   "execution_count": null,
   "metadata": {
    "slideshow": {
     "slide_type": "-"
    }
   },
   "outputs": [],
   "source": [
    "for i in range(10):\n",
    "    if i % 2 == 0:\n",
    "        time.sleep(1)\n",
    "        continue\n",
    "    print(i)"
   ]
  },
  {
   "cell_type": "markdown",
   "metadata": {
    "slideshow": {
     "slide_type": "slide"
    }
   },
   "source": [
    "## 参考说明"
   ]
  },
  {
   "cell_type": "markdown",
   "metadata": {
    "slideshow": {
     "slide_type": "slide"
    }
   },
   "source": [
    "### `time.asctime()`\n",
    "\n",
    "`time.asctime()`函数转换结构化时间为字符串。"
   ]
  },
  {
   "cell_type": "code",
   "execution_count": null,
   "metadata": {
    "slideshow": {
     "slide_type": "slide"
    }
   },
   "outputs": [],
   "source": [
    "print(time.asctime())\n",
    "time.sleep(2)\n",
    "now = time.gmtime()\n",
    "print(time.asctime(now))"
   ]
  },
  {
   "cell_type": "markdown",
   "metadata": {
    "slideshow": {
     "slide_type": "slide"
    }
   },
   "source": [
    "### `time.clock()`\n",
    "\n",
    "`time.clock()`函数返回计算机CPU时间，再次调用时，会返回程序运行时间间隔。"
   ]
  },
  {
   "cell_type": "code",
   "execution_count": null,
   "metadata": {
    "slideshow": {
     "slide_type": "slide"
    }
   },
   "outputs": [],
   "source": [
    "print(time.clock())\n",
    "time.sleep(1.2)\n",
    "print(time.clock())\n",
    "x = 1\n",
    "for i in range(1024*1024):\n",
    "    x *= i\n",
    "print(time.clock())    "
   ]
  },
  {
   "cell_type": "markdown",
   "metadata": {
    "slideshow": {
     "slide_type": "slide"
    }
   },
   "source": [
    "### `time.ctime()`\n",
    "\n",
    "`time.ctime()`函数转换时间戳时间为字符串类型本地时间。"
   ]
  },
  {
   "cell_type": "code",
   "execution_count": null,
   "metadata": {
    "slideshow": {
     "slide_type": "slide"
    }
   },
   "outputs": [],
   "source": [
    "print(time.ctime(0))\n",
    "now = time.time()\n",
    "print(time.ctime(now))"
   ]
  },
  {
   "cell_type": "markdown",
   "metadata": {
    "slideshow": {
     "slide_type": "slide"
    }
   },
   "source": [
    "### `time.get_clock_info()`\n",
    "\n",
    "`time.get_clock_info()`函数获得指定钟的信息。"
   ]
  },
  {
   "cell_type": "code",
   "execution_count": null,
   "metadata": {
    "slideshow": {
     "slide_type": "slide"
    }
   },
   "outputs": [],
   "source": [
    "for clock in ['clock', 'monotonic', 'perf_counter', 'process_time', 'time']:\n",
    "    print(time.get_clock_info(clock))"
   ]
  },
  {
   "cell_type": "markdown",
   "metadata": {
    "slideshow": {
     "slide_type": "slide"
    }
   },
   "source": [
    "### `time.gmtime()`\n",
    "\n",
    "`time.gmtime()`函数转换时间错时间为结构化时间类型的UTC时间（格林尼治时间）。"
   ]
  },
  {
   "cell_type": "code",
   "execution_count": null,
   "metadata": {
    "slideshow": {
     "slide_type": "slide"
    }
   },
   "outputs": [],
   "source": [
    "print(time.gmtime(0))\n",
    "print(time.gmtime())"
   ]
  },
  {
   "cell_type": "markdown",
   "metadata": {
    "slideshow": {
     "slide_type": "slide"
    }
   },
   "source": [
    "### `time.localtime()`\n",
    "\n",
    "`time.localtime()`函数转换时间戳时间为结构化类型的地方时。"
   ]
  },
  {
   "cell_type": "code",
   "execution_count": null,
   "metadata": {
    "slideshow": {
     "slide_type": "slide"
    }
   },
   "outputs": [],
   "source": [
    "print(time.gmtime())\n",
    "print(time.localtime())"
   ]
  },
  {
   "cell_type": "markdown",
   "metadata": {
    "slideshow": {
     "slide_type": "slide"
    }
   },
   "source": [
    "### `time.mktime()`\n",
    "\n",
    "`time.mktime()`转换结构化时间类型的地方时为时间戳时间。"
   ]
  },
  {
   "cell_type": "code",
   "execution_count": null,
   "metadata": {
    "slideshow": {
     "slide_type": "slide"
    }
   },
   "outputs": [],
   "source": [
    "t = time.time()\n",
    "st = time.localtime(t)\n",
    "t2 = time.mktime(st)\n",
    "print(t, t2)"
   ]
  },
  {
   "cell_type": "markdown",
   "metadata": {
    "slideshow": {
     "slide_type": "slide"
    }
   },
   "source": [
    "###  `time.monotonic()`\n",
    "\n",
    "`time.monotonic()`函数返回Monotonic时钟。"
   ]
  },
  {
   "cell_type": "code",
   "execution_count": null,
   "metadata": {
    "slideshow": {
     "slide_type": "slide"
    }
   },
   "outputs": [],
   "source": [
    "print(time.monotonic())\n",
    "time.sleep(2)\n",
    "print(time.monotonic())"
   ]
  },
  {
   "cell_type": "markdown",
   "metadata": {
    "slideshow": {
     "slide_type": "slide"
    }
   },
   "source": [
    "### `time.perf_counter()`\n",
    "\n",
    "`time.perf_counter()`函数返回性能计数器，用于基准测试。"
   ]
  },
  {
   "cell_type": "code",
   "execution_count": null,
   "metadata": {
    "slideshow": {
     "slide_type": "slide"
    }
   },
   "outputs": [],
   "source": [
    "print(time.perf_counter())\n",
    "time.sleep(1.1)\n",
    "print(time.perf_counter())"
   ]
  },
  {
   "cell_type": "markdown",
   "metadata": {
    "slideshow": {
     "slide_type": "slide"
    }
   },
   "source": [
    "### `time.process_time()`\n",
    "\n",
    "`time.process_time()`函数返回处理时间。"
   ]
  },
  {
   "cell_type": "code",
   "execution_count": null,
   "metadata": {
    "slideshow": {
     "slide_type": "slide"
    }
   },
   "outputs": [],
   "source": [
    "print(time.process_time())\n",
    "time.sleep(1.12)\n",
    "print(time.process_time())"
   ]
  },
  {
   "cell_type": "markdown",
   "metadata": {
    "slideshow": {
     "slide_type": "slide"
    }
   },
   "source": [
    "### `time.sleep()`\n",
    "\n",
    "`time.sleep()`函数会暂停程序运行，需要传入需要休眠的秒数。"
   ]
  },
  {
   "cell_type": "code",
   "execution_count": null,
   "metadata": {
    "slideshow": {
     "slide_type": "slide"
    }
   },
   "outputs": [],
   "source": [
    "start = time.monotonic()\n",
    "time.sleep(0.1)\n",
    "end = time.monotonic()\n",
    "print('start : {:>9.2f}'.format(start))\n",
    "print('end   : {:>9.2f}'.format(end))\n",
    "print('span  : {:>9.2f}'.format(end - start))"
   ]
  },
  {
   "cell_type": "markdown",
   "metadata": {
    "slideshow": {
     "slide_type": "slide"
    }
   },
   "source": [
    "### `time.strftime()`\n",
    "\n",
    "`time.strftime()`函数会转换结构化时间为格式化字符串。"
   ]
  },
  {
   "cell_type": "code",
   "execution_count": null,
   "metadata": {
    "slideshow": {
     "slide_type": "slide"
    }
   },
   "outputs": [],
   "source": [
    "print(time.strftime('%Y-%m-%d %H:%M:%S'))\n",
    "time.sleep(2)\n",
    "now = time.localtime()\n",
    "print(time.strftime('%Y-%m-%d %H:%M:%S', now))"
   ]
  },
  {
   "cell_type": "markdown",
   "metadata": {
    "slideshow": {
     "slide_type": "slide"
    }
   },
   "source": [
    "### `time.strptime()`\n",
    "\n",
    "`time.strptime()`函数解析字符串，返回结构化时间。"
   ]
  },
  {
   "cell_type": "code",
   "execution_count": null,
   "metadata": {
    "slideshow": {
     "slide_type": "slide"
    }
   },
   "outputs": [],
   "source": [
    "s = '2018-07-26 00:40:41'\n",
    "t = time.strptime(s, '%Y-%m-%d %H:%M:%S')\n",
    "print(t)"
   ]
  },
  {
   "cell_type": "markdown",
   "metadata": {
    "slideshow": {
     "slide_type": "slide"
    }
   },
   "source": [
    "### `time.time()`\n",
    "\n",
    "`time.time()`函数返回当前时间戳时间。"
   ]
  },
  {
   "cell_type": "code",
   "execution_count": null,
   "metadata": {
    "slideshow": {
     "slide_type": "slide"
    }
   },
   "outputs": [],
   "source": [
    "print('Current time is', time.time())"
   ]
  },
  {
   "cell_type": "markdown",
   "metadata": {
    "slideshow": {
     "slide_type": "slide"
    }
   },
   "source": [
    "## 小结\n",
    "\n",
    "尽量使用`datetime`模块。"
   ]
  }
 ],
 "metadata": {
  "anaconda-cloud": {},
  "kernelspec": {
   "display_name": "Python 3",
   "language": "python",
   "name": "python3"
  },
  "language_info": {
   "codemirror_mode": {
    "name": "ipython",
    "version": 3
   },
   "file_extension": ".py",
   "mimetype": "text/x-python",
   "name": "python",
   "nbconvert_exporter": "python",
   "pygments_lexer": "ipython3",
   "version": "3.6.4"
  },
  "toc": {
   "base_numbering": 1,
   "nav_menu": {},
   "number_sections": true,
   "sideBar": true,
   "skip_h1_title": false,
   "title_cell": "Table of Contents",
   "title_sidebar": "Contents",
   "toc_cell": false,
   "toc_position": {},
   "toc_section_display": true,
   "toc_window_display": false
  }
 },
 "nbformat": 4,
 "nbformat_minor": 1
}
