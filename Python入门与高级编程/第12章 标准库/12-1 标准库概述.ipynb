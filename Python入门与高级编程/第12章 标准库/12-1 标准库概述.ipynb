{
 "cells": [
  {
   "cell_type": "markdown",
   "metadata": {
    "slideshow": {
     "slide_type": "slide"
    }
   },
   "source": [
    "# 标准库\n",
    "\n",
    "要吃红烧肉有两个方法：照着菜谱做；找个厨师。\n",
    "\n",
    "在 Python 编程中，要解决现实世界的问题，也需要函数与面向对象（类与对象）。在前面章节中，大家已经了解和掌握了 Python 内置函数与类型。不过未来要面对解决的问题而言，这还远远不够。不过不要担心，在 Python 标准库中涵盖了约 200 个左右的包与模块，涉及各个方面。包括如下：\n",
    "1. 文字处理服务\n",
    "2. 二进制数据服务\n",
    "3. 数据类型\n",
    "4. 数字和数学模块\n",
    "5. 函数式编程模块\n",
    "6. 文件和目录的访问\n",
    "7. 数据持久性\n",
    "8. 数据压缩和归档\n",
    "9. 文件格式\n",
    "10. 加密服务\n",
    "\n",
    "11. 通用操作系统服务\n",
    "12. 并发执行\n",
    "13. 进程间通信和网络\n",
    "14. 互联网数据处理\n",
    "15. 结构化标记处理工具\n",
    "16. 互联网协议和支持\n",
    "17. 多媒体服务\n",
    "18. 国际化\n",
    "19. 程序框架\n",
    "20. Tk的图形用户界面\n",
    "21. 开发工具\n",
    "22. 调试和性能分析\n",
    "23. 软件打包和分发\n",
    "24. Python运行时的服务\n",
    "25. 自定义Python解释器\n",
    "26. 导入模块\n",
    "27. Python语言服务\n",
    "28. 各种各样的服务\n",
    "29. MS Windows特定的服务\n",
    "30. Unix特定服务\n",
    "3. 废弃模块\n",
    "32. 非法模块"
   ]
  },
  {
   "cell_type": "markdown",
   "metadata": {
    "slideshow": {
     "slide_type": "slide"
    }
   },
   "source": [
    "下面列出这些标准库："
   ]
  },
  {
   "cell_type": "markdown",
   "metadata": {
    "slideshow": {
     "slide_type": "slide"
    }
   },
   "source": [
    "##  文字处理服务\n",
    "\n",
    "- `string`——常见的字符串操作\n",
    "- `re`——正则表达式操作\n",
    "- `difflib`——帮助计算增量\n",
    "- `textwrap`——文本包装和填充\n",
    "- `unicodedata`——Unicode数据库\n",
    "- `stringprep`——互联网字符串\n",
    "- `readline`——GNU readline接口\n",
    "- `rlcompleter`——对GNU readline功能的完善"
   ]
  },
  {
   "cell_type": "markdown",
   "metadata": {
    "slideshow": {
     "slide_type": "slide"
    }
   },
   "source": [
    "## 二进制数据服务\n",
    "\n",
    "- `struct`——解释字节二进制数据\n",
    "- `codecs`——注册表编解码器和基类"
   ]
  },
  {
   "cell_type": "markdown",
   "metadata": {
    "slideshow": {
     "slide_type": "slide"
    }
   },
   "source": [
    "## 数据类型\n",
    "- [`datetime`](datetime/datetime.ipynb)——基本日期和时间类型\n",
    "- `calendar`——般calendar-related的功能\n",
    "- `collections`——容器数据类型\n",
    "- `collections.abc`——抽象基类容器\n",
    "- `heapq`——堆队列算法\n",
    "- `bisect`——数组二分算法\n",
    "- `array`——高效的数值数组\n",
    "- `weakref`——弱引用\n",
    "- `types`——动态创建类型为内置类型和名称\n",
    "- `copy`——浅和深拷贝操作\n",
    "- `pprint`——打印整洁的数据\n",
    "- `reprlib`——备用 repr()实现\n",
    "- `enum`——支持枚举"
   ]
  },
  {
   "cell_type": "markdown",
   "metadata": {
    "slideshow": {
     "slide_type": "slide"
    }
   },
   "source": [
    "## 数字和数学模块\n",
    "\n",
    "- `numbers`——数字抽象基类\n",
    "- `math`——数学函数\n",
    "- `cmath`——复数的数学函数\n",
    "- `decimal`——十进制定点和浮点运算\n",
    "- `fractions`——有理数\n",
    "- `random`——生成伪随机数\n",
    "- `statistics`——数理统计功能"
   ]
  },
  {
   "cell_type": "markdown",
   "metadata": {
    "slideshow": {
     "slide_type": "slide"
    }
   },
   "source": [
    "## 函数式编程模块\n",
    "\n",
    "- `itertools`——函数创建的高效循环的迭代器\n",
    "- `functools`——高阶函数和对可调用对象上的操作\n",
    "- `operator`——标准操作功能"
   ]
  },
  {
   "cell_type": "markdown",
   "metadata": {
    "slideshow": {
     "slide_type": "slide"
    }
   },
   "source": [
    "## 文件和目录的访问\n",
    "\n",
    "- `pathlib`——面向对象的文件系统路径\n",
    "- `os.path`——共同路径名操作\n",
    "- `fileinput`——遍历行从多个输入流\n",
    "- `stat`——解释 stat()的结果\n",
    "- `filecmp`——文件和目录的比较\n",
    "- `tempfile`——生成临时文件和目录\n",
    "- `glob`——Unix风格扩张路径模式\n",
    "- `fnmatch`—— Unix文件名模式匹配\n",
    "- `linecache`——随机访问的文本行\n",
    "- `shutil`——高级文件操作\n",
    "- `macpath`——Mac OS 9路径操作函数"
   ]
  },
  {
   "cell_type": "markdown",
   "metadata": {
    "slideshow": {
     "slide_type": "slide"
    }
   },
   "source": [
    "## 数据持久性\n",
    "\n",
    "- `pickle`——Python对象序列化\n",
    "- `copyreg`——注册 pickle支持功能\n",
    "- ` shelve`——Python对象持久性\n",
    "- `marshal`——内部Python对象序列化\n",
    "- `dbm`——接口Unix的“数据库”\n",
    "- `sqlite3`—— `0 db api接口，用于SQLite数据库"
   ]
  },
  {
   "cell_type": "markdown",
   "metadata": {
    "slideshow": {
     "slide_type": "slide"
    }
   },
   "source": [
    "## 数据压缩和归档\n",
    "\n",
    "- `zlib`——与gzip压缩兼容\n",
    "- `gzip`——支持gzip文件\n",
    "- `bz- ——支持bzip2压缩\n",
    "- `lzma`——使用LZMA压缩算法\n",
    "- `zipfile`——操作zip文件\n",
    "- `tarfile`——读写tar文件"
   ]
  },
  {
   "cell_type": "markdown",
   "metadata": {
    "slideshow": {
     "slide_type": "slide"
    }
   },
   "source": [
    "## 文件格式\n",
    "- 'csv'——CSV文件读和写\n",
    "- 'configparser'——配置文件解析器\n",
    "- 'netrc'——netrc文件处理\n",
    "- 'xdrlib'——编码和解码XDR数据\n",
    "- 'plistlib'——生成和解析Mac OS X .plist文件"
   ]
  },
  {
   "cell_type": "markdown",
   "metadata": {
    "slideshow": {
     "slide_type": "slide"
    }
   },
   "source": [
    "## 加密服务\n",
    "\n",
    "- 'hashlib'——安全散列和消息摘要\n",
    "- 'hmac'——基于消息的身份验证"
   ]
  },
  {
   "cell_type": "markdown",
   "metadata": {
    "slideshow": {
     "slide_type": "slide"
    }
   },
   "source": [
    "## 通用操作系统服务\n",
    "\n",
    "- [`os`](os/os.ipynb)——各种各样的操作系统的接口\n",
    "- `io`——核心处理流工具\n",
    "- [`time`](time/time.ipynb)——时间访问和转换\n",
    "- [`argparse`](argparse/argparse.ipynb)——解析命令行选项，参数和sub-commands\n",
    "- `getopt`—— 解析命令行选项，C风格的解析器\n",
    "- [`logging`](logging.ipynb)——Python日志的工具\n",
    "- `logging.config`——日志配置\n",
    "- `logging.handlers`——日志处理程序\n",
    "- `getpass`——便携式密码输入\n",
    "- `curses`——终端处理单位字符显示\n",
    "- `curses.textpad`——文本输入小部件\n",
    "- `curses.ascii`——公用ASCII字符\n",
    "- `curses.panel`——一个面板堆栈扩展\n",
    "- `platform`——访问底层平台的数据\n",
    "- `errno`——标准errno系统符号\n",
    "- `ctypes`——外国对Python的函数库"
   ]
  },
  {
   "cell_type": "markdown",
   "metadata": {
    "slideshow": {
     "slide_type": "slide"
    }
   },
   "source": [
    "## 并发执行\n",
    "\n",
    "- `threading`——基于线程的并行\n",
    "- `multiprocessing`——基于流程的并行\n",
    "- `concurrent包\n",
    "- `concurrent.futures`——启动并行任务\n",
    "- `subprocess`——子流程管理\n",
    "- ` sched`——事件调度器\n",
    "- `queue`——同步队列类\n",
    "- `dummy_threading`——threading模块的替代品\n",
    "- ` _thread`——底层线程API\n",
    "- `_dummy_thread`——_thread模块的替代品"
   ]
  },
  {
   "cell_type": "markdown",
   "metadata": {
    "slideshow": {
     "slide_type": "slide"
    }
   },
   "source": [
    "## 进程间通信和网络\n",
    "\n",
    "- ` socket`——底层网络接口\n",
    "- `ssl`—— TLS / SSL套接字对象包装器\n",
    "- `select`——等待I / O完成\n",
    "- ` selectors`——高级I / O多路复用\n",
    "- `asyncio`——异步I / O，事件循环，协同程序和任务\n",
    "- `asyncore`——异步套接字处理程序\n",
    "- ` asynchat`——异步套接字命令/响应处理程序\n",
    "- ` signal`——异步事件处理的程序\n",
    "- ` mmap`——对内存映射文件的支持"
   ]
  },
  {
   "cell_type": "markdown",
   "metadata": {
    "slideshow": {
     "slide_type": "slide"
    }
   },
   "source": [
    "## 互联网数据处理\n",
    "\n",
    "- `email`——电子邮件和MIME处理包\n",
    "- ` json`—— JSON编码和译码器\n",
    "- `mailcap`——Mailcap文件处理\n",
    "- ` mailbox`——以各种格式操作邮箱\n",
    "- `mimetypes`——文件名映射到MIME类型\n",
    "- `base64`——Base32 ，Base6 Base64， Base85数据编码\n",
    "- `binhex`——编码和解码binhex4文件\n",
    "- `binascii`——在二进制和ASCII之间进行转换\n",
    "- `quopri`——编码和解码MIME quoted-printable数据\n",
    "- `uu`——编码和解码的一种编码的程式文件"
   ]
  },
  {
   "cell_type": "markdown",
   "metadata": {
    "slideshow": {
     "slide_type": "slide"
    }
   },
   "source": [
    "## 结构化标记处理工具\n",
    "\n",
    "- `html`——对超文本标记语言的支持\n",
    "- ` html.parser`——简单的HTML和XHTML的解析器\n",
    "- ` html.entities`——定义的HTML实体\n",
    "- `XML处理模块\n",
    "- `xml.etree.ElementTree`——ElementTree的XML API\n",
    "- `xml.dom`——文档对象模型API\n",
    "- `xml.dom.minidom`——最小的DOM实现\n",
    "- `xml.dom.pulldom`——支持建设部分DOM树\n",
    "- `xml.sax`——支持SAX2解析器\n",
    "- `xml.sax.handler`——基类SAX处理程序\n",
    "- `xml.sax.saxutils`——SAX公用类\n",
    "- `xml.sax.xmlreader`——XML解析器的接口\n",
    "- 3xml.parsers.expat`——快速使用Expat XML解析\n"
   ]
  },
  {
   "cell_type": "markdown",
   "metadata": {
    "slideshow": {
     "slide_type": "slide"
    }
   },
   "source": [
    "## 互联网协议和支持\n",
    "\n",
    "- `webbrowser`——方便的浏览器控制器\n",
    "- `cgi`——公共网关接口的支持\n",
    "- `cgitb`——回溯经历的CGI脚本\n",
    "- `wsgiref`——WSGI工具和参考实现\n",
    "- `urllib`——URL处理模块\n",
    "- `urllib.request`——打开url的可扩展库\n",
    "- `urllib.response`——响应urllib所使用的类\n",
    "- `urllib.parse`—— 将url解析成组件\n",
    "- `urllib.error`——urllib.request提出的异常类\n",
    "- ` urllib.robotparser`—— robots . txt的解释器\n",
    "- `http`—— HTTP模块\n",
    "- `http.client`——HTTP客户协议\n",
    "- `ftplib`——FTP客户协议\n",
    "- `poplib`——POP3协议客户\n",
    "- ` imaplib`——IMAP4客户协议\n",
    "- `nntplib`——NNTP客户协议\n",
    "- `smtplib`——SMTP客户协议\n",
    "- `smtpd`——SMTP服务器\n",
    "- `telnetlib`——Telnet客户机\n",
    "- `uuid`——根据RFC 422得到的UUID对象\n",
    "- `socketserver`——网络服务器框架\n",
    "- `http.server`—— HTTP服务器\n",
    "- `http.cookies`—— HTTP状态管理\n",
    "- `http.cookiejar`——为HTTP客户端处理cookies\n",
    "- `xmlrpc`——XMLRPC服务器和客户端模块\n",
    "- `xmlrpc.client`——xml - rpc客户端访问\n",
    "- `xmlrpc.server`——基本的xml - rpc服务器\n",
    "- `ipaddress`——IPv4 / IPv6操纵库\n"
   ]
  },
  {
   "cell_type": "markdown",
   "metadata": {
    "slideshow": {
     "slide_type": "slide"
    }
   },
   "source": [
    "## 多媒体服务\n",
    "\n",
    "- ` audioop`——操作原始音频数据\n",
    "- `aifc`——读和写AIFF和AIFC文件\n",
    "- `sunau`——读和写 Sun AU文件\n",
    "- `wave`——读和写WAV文件\n",
    "- `chunk`——读IFF分块数据\n",
    "- `colorsys`——颜色系统之间的转换\n",
    "- `imghdr`——确定图像的类型\n",
    "- `sndhdr`——确定声音文件的类型\n",
    "- `ossaudiodev`——访问OSS-compatible音频设备\n"
   ]
  },
  {
   "cell_type": "markdown",
   "metadata": {
    "slideshow": {
     "slide_type": "slide"
    }
   },
   "source": [
    "## 国际化\n",
    "\n",
    "- `gettext`——多语种国际化服务\n",
    "- `locale`——国际化服务"
   ]
  },
  {
   "cell_type": "markdown",
   "metadata": {
    "slideshow": {
     "slide_type": "slide"
    }
   },
   "source": [
    "## 程序框架\n",
    "\n",
    "- `turtle`——海龟绘图（一个简单的绘图工具）\n",
    "- `cmd`——支持面向行的命令解释器\n",
    "- `shlex`——简单的词法分析"
   ]
  },
  {
   "cell_type": "markdown",
   "metadata": {
    "slideshow": {
     "slide_type": "slide"
    }
   },
   "source": [
    "## Tk的图形用户界面\n",
    "\n",
    "- `tkinter`—— Tcl/Tk的Python接口\n",
    "- `tkinter.ttk`—— Tk主题的小部件\n",
    "- `tkinter.tix`——扩展Tk的部件\n",
    "- `tkinter.scrolledtext`——滚动文本小部件\n",
    "- `其他图形用户界面的包"
   ]
  },
  {
   "cell_type": "markdown",
   "metadata": {
    "slideshow": {
     "slide_type": "slide"
    }
   },
   "source": [
    "## 开发工具\n",
    "\n",
    "- `typing`——支持类型提示\n",
    "- `pydoc`——文档生成器和在线帮助系统\n",
    "- `doctest`——测试交互式Python示例\n",
    "- `unittest`——单元测试框架\n",
    "- `unittest.mock`——模拟对象库\n",
    "- `unittest.mock`——开始\n",
    "- `2to3`——2到3代码翻译\n",
    "- `test`——为Python 回归的测试包\n",
    "- `test.support`——公用的Python测试套件"
   ]
  },
  {
   "cell_type": "markdown",
   "metadata": {
    "slideshow": {
     "slide_type": "slide"
    }
   },
   "source": [
    "## 调试和性能分析\n",
    "- `bdb`——调试器框架\n",
    "- `faulthandler`——把Python回溯\n",
    "- `pdb`——Python调试器\n",
    "- `Python分析器\n",
    "- `timeit`——测量小代码片段的执行时间\n",
    "- `trace`——跟踪或Python语句执行跟踪\n",
    "- `tracemalloc`——跟踪内存分配"
   ]
  },
  {
   "cell_type": "markdown",
   "metadata": {
    "slideshow": {
     "slide_type": "slide"
    }
   },
   "source": [
    "## 软件打包和分发\n",
    "\n",
    "- `distutils`——构建和安装Python模块\n",
    "- `ensurepip`——引导 pip安装程序\n",
    "- `venv`——创建虚拟环境\n",
    "- `zipapp`——管理python可执行zip档案"
   ]
  },
  {
   "cell_type": "markdown",
   "metadata": {
    "slideshow": {
     "slide_type": "slide"
    }
   },
   "source": [
    "## Python运行时的服务\n",
    "\n",
    "- [`sys`](syse/sys.ipynb)——系统特定的参数和功能\n",
    "- `sysconfig`——提供Python的配置信息\n",
    "- `builtins`——内置对象\n",
    "- `_main`——顶级脚本环境\n",
    "- `warnings`——预警控制\n",
    "- `contextlib`——公用 with-statement 的上下文\n",
    "- `abc`——抽象基类\n",
    "- `atexit`——退出处理程序\n",
    "- `traceback`——打印或检索一个堆栈回溯\n",
    "- `future`——未来的声明中定义\n",
    "- `gc`——垃圾收集器接口\n",
    "- `inspect`——检查活动对象\n",
    "- `site`——特定站点配置钩\n",
    "- `fpectl`——浮点异常控制"
   ]
  },
  {
   "cell_type": "markdown",
   "metadata": {
    "slideshow": {
     "slide_type": "slide"
    }
   },
   "source": [
    "## 自定义Python解释器\n",
    "\n",
    "- `code`——翻译基类\n",
    "- `codeop`——编译Python代码"
   ]
  },
  {
   "cell_type": "markdown",
   "metadata": {
    "slideshow": {
     "slide_type": "slide"
    }
   },
   "source": [
    "## 导入模块\n",
    "\n",
    "- `zipimport`——从Zip文档导入模块\n",
    "- `pkgutil`——包扩展工具\n",
    "- `modulefinder`——找到模块使用的脚本\n",
    "- `runpy`——定位和执行Python模块\n",
    "- `importlib`—— import的实现"
   ]
  },
  {
   "cell_type": "markdown",
   "metadata": {
    "slideshow": {
     "slide_type": "slide"
    }
   },
   "source": [
    "## Python语言服务\n",
    "\n",
    "- `parser`——访问Python解析树\n",
    "- `ast`——抽象语法树\n",
    "- `symtable`——访问编译器的符号表\n",
    "- `symbol`——常量使用Python解析树\n",
    "- `token`——常量使用Python解析树\n",
    "- `keyword`——Python测试关键字\n",
    "- `tokenize`——对Python源代码编译器\n",
    "- `tabnanny`——检测模棱两可的缩进\n",
    "- `pyclbr`——Python类浏览器支持\n",
    "- `py_compile`——编译Python源文件\n",
    "- `compileall`——Byte-compile Python库\n",
    "- `dis`——反汇编程序Python字节码\n",
    "- `pickletools`——泡菜开发人员的工具\n"
   ]
  },
  {
   "cell_type": "markdown",
   "metadata": {
    "slideshow": {
     "slide_type": "slide"
    }
   },
   "source": [
    "## 各种各样的服务\n",
    "\n",
    "- `formatter`——通用的输出格式"
   ]
  },
  {
   "cell_type": "markdown",
   "metadata": {
    "slideshow": {
     "slide_type": "slide"
    }
   },
   "source": [
    "## MS Windows特定的服务\n",
    "\n",
    "- `msilib`——读和写微软安装程序文件\n",
    "- `msvcrt`——MS vc++运行时有用的程序\n",
    "- `winreg`——Windows注册表访问\n",
    "- `winsound`——声音播放界面窗口"
   ]
  },
  {
   "cell_type": "markdown",
   "metadata": {
    "slideshow": {
     "slide_type": "slide"
    }
   },
   "source": [
    "## Unix特定服务\n",
    "\n",
    "- `posix`——最常见的POSIX系统调用\n",
    "- `pwd`——密码数据库\n",
    "- `spwd`——影子密码数据库\n",
    "- `grp`——集团数据库\n",
    "- `crypt`——功能检查Unix密码\n",
    "- `termios`——POSIX风格遥控控制\n",
    "- `tty`——终端控制功能\n",
    "- `pty`——伪终端工具\n",
    "- `fcntl`—— fcntl和 ioctl系统调用\n",
    "- `pipes`——接口外壳管道\n",
    "- `resource`——资源使用信息\n",
    "- `nis`——Sun’s NIS(黄页) 接口\n",
    "- `syslog`—— Unix syslog库进程"
   ]
  },
  {
   "cell_type": "markdown",
   "metadata": {
    "slideshow": {
     "slide_type": "slide"
    }
   },
   "source": [
    "## 废弃模块\n",
    "\n",
    "- `optparse`——解析器的命令行选项\n",
    "- `imp`——访问 import内部"
   ]
  },
  {
   "cell_type": "markdown",
   "metadata": {
    "slideshow": {
     "slide_type": "slide"
    }
   },
   "source": [
    "## 非法模块\n",
    "\n",
    "- 特定于平台的模块"
   ]
  },
  {
   "cell_type": "markdown",
   "metadata": {},
   "source": [
    "## 更多资料\n",
    "\n",
    "标准库更多资料参见：\n",
    "- <https://docs.python.org/3/library/>\n",
    "- <https://pymotw.com/3/>\n",
    "- <https://blog.csdn.net/Jurbo/article/details/52334345>"
   ]
  },
  {
   "cell_type": "markdown",
   "metadata": {},
   "source": [
    "本章下面几节将介绍一些常用的标准库。"
   ]
  }
 ],
 "metadata": {
  "kernelspec": {
   "display_name": "Python 3",
   "language": "python",
   "name": "python3"
  },
  "language_info": {
   "codemirror_mode": {
    "name": "ipython",
    "version": 3
   },
   "file_extension": ".py",
   "mimetype": "text/x-python",
   "name": "python",
   "nbconvert_exporter": "python",
   "pygments_lexer": "ipython3",
   "version": "3.6.4"
  },
  "toc": {
   "base_numbering": 1,
   "nav_menu": {},
   "number_sections": true,
   "sideBar": true,
   "skip_h1_title": false,
   "title_cell": "Table of Contents",
   "title_sidebar": "Contents",
   "toc_cell": false,
   "toc_position": {},
   "toc_section_display": true,
   "toc_window_display": false
  }
 },
 "nbformat": 4,
 "nbformat_minor": 1
}
