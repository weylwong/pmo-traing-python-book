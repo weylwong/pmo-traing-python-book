{
 "cells": [
  {
   "cell_type": "markdown",
   "metadata": {
    "slideshow": {
     "slide_type": "slide"
    }
   },
   "source": [
    "# os库\n",
    "\n",
    "`os`是 `operating system` 的简写，是 Python 的一个标准库，提供丰富的方法实现与操作系统相关的操作，特别是文件和目录处理。\n",
    "\n",
    "目前操作系统有 Windows、Linux 等系统，Python 的`os`模块提供可移植、跨平台的操作系统功能方法。有少量`os`函数实现是针对特定平台的，例如与 Linux 相关的文件权限管理和进程管理。"
   ]
  },
  {
   "cell_type": "markdown",
   "metadata": {
    "slideshow": {
     "slide_type": "slide"
    }
   },
   "source": [
    "在使用 `os` 库之前需要使用`import`命令导入："
   ]
  },
  {
   "cell_type": "code",
   "execution_count": 1,
   "metadata": {
    "slideshow": {
     "slide_type": "-"
    }
   },
   "outputs": [],
   "source": [
    "import os"
   ]
  },
  {
   "cell_type": "markdown",
   "metadata": {
    "slideshow": {
     "slide_type": "slide"
    }
   },
   "source": [
    "## 自省\n",
    "\n",
    "使用`dir()`函数可以列出模块成员属性："
   ]
  },
  {
   "cell_type": "code",
   "execution_count": 7,
   "metadata": {},
   "outputs": [
    {
     "name": "stdout",
     "output_type": "stream",
     "text": [
      "['DirEntry', 'F_OK', 'MutableMapping', 'O_APPEND', 'O_BINARY', 'O_CREAT', 'O_EXCL', 'O_NOINHERIT', 'O_RANDOM', 'O_RDONLY', 'O_RDWR', 'O_SEQUENTIAL', 'O_SHORT_LIVED', 'O_TEMPORARY', 'O_TEXT', 'O_TRUNC', 'O_WRONLY', 'P_DETACH', 'P_NOWAIT', 'P_NOWAITO', 'P_OVERLAY', 'P_WAIT', 'PathLike', 'R_OK', 'SEEK_CUR', 'SEEK_END', 'SEEK_SET', 'TMP_MAX', 'W_OK', 'X_OK', '_Environ', '__all__', '__builtins__', '__cached__', '__doc__', '__file__', '__loader__', '__name__', '__package__', '__spec__', '_execvpe', '_exists', '_exit', '_fspath', '_get_exports_list', '_putenv', '_unsetenv', '_wrap_close', 'abc', 'abort', 'access', 'altsep', 'chdir', 'chmod', 'close', 'closerange', 'cpu_count', 'curdir', 'defpath', 'device_encoding', 'devnull', 'dup', 'dup2', 'environ', 'errno', 'error', 'execl', 'execle', 'execlp', 'execlpe', 'execv', 'execve', 'execvp', 'execvpe', 'extsep', 'fdopen', 'fsdecode', 'fsencode', 'fspath', 'fstat', 'fsync', 'ftruncate', 'get_exec_path', 'get_handle_inheritable', 'get_inheritable', 'get_terminal_size', 'getcwd', 'getcwdb', 'getenv', 'getlogin', 'getpid', 'getppid', 'isatty', 'kill', 'linesep', 'link', 'listdir', 'lseek', 'lstat', 'makedirs', 'mkdir', 'name', 'open', 'pardir', 'path', 'pathsep', 'pipe', 'popen', 'putenv', 'read', 'readlink', 'remove', 'removedirs', 'rename', 'renames', 'replace', 'rmdir', 'scandir', 'sep', 'set_handle_inheritable', 'set_inheritable', 'spawnl', 'spawnle', 'spawnv', 'spawnve', 'st', 'startfile', 'stat', 'stat_float_times', 'stat_result', 'statvfs_result', 'strerror', 'supports_bytes_environ', 'supports_dir_fd', 'supports_effective_ids', 'supports_fd', 'supports_follow_symlinks', 'symlink', 'sys', 'system', 'terminal_size', 'times', 'times_result', 'truncate', 'umask', 'uname_result', 'unlink', 'urandom', 'utime', 'waitpid', 'walk', 'write']\n"
     ]
    }
   ],
   "source": [
    "print(dir(os))"
   ]
  },
  {
   "cell_type": "markdown",
   "metadata": {},
   "source": [
    "并使用`isinstance()`来列出可调用的函数:"
   ]
  },
  {
   "cell_type": "code",
   "execution_count": 5,
   "metadata": {
    "slideshow": {
     "slide_type": "slide"
    }
   },
   "outputs": [
    {
     "name": "stdout",
     "output_type": "stream",
     "text": [
      "['_execvpe', '_exists', '_fspath', '_get_exports_list', '_unsetenv', 'execl', 'execle', 'execlp', 'execlpe', 'execvp', 'execvpe', 'fdopen', 'fsdecode', 'fsencode', 'get_exec_path', 'getenv', 'makedirs', 'popen', 'removedirs', 'renames', 'spawnl', 'spawnle', 'walk']\n"
     ]
    }
   ],
   "source": [
    "from types import FunctionType\n",
    "funlist = [f for f in dir(os) if isinstance(getattr(os, f), FunctionType)]\n",
    "print(funlist)"
   ]
  },
  {
   "cell_type": "markdown",
   "metadata": {
    "slideshow": {
     "slide_type": "slide"
    }
   },
   "source": [
    "`os` 模块提供了一些常量、函数以及类，主要包括：\n",
    "- 系统相关常量\n",
    "- 文件与目录操作\n",
    "- 命令执行\n",
    "- 进程管理\n",
    "- 异常类"
   ]
  },
  {
   "cell_type": "markdown",
   "metadata": {
    "slideshow": {
     "slide_type": "slide"
    }
   },
   "source": [
    "### 系统相关常量\n",
    "\n",
    "`os` 模块提供了一些常量，是与操作系统相关。使用这些常量，可以编写移植性高，可用性好的代码。"
   ]
  },
  {
   "cell_type": "markdown",
   "metadata": {
    "slideshow": {
     "slide_type": "slide"
    }
   },
   "source": [
    "| 常量 |  说明 |\n",
    "|:--------|:-----------|\n",
    "| `os.name` | 操作系统名称。`posix`或`nt`|\n",
    "| `os.curdir` |\t当前路径`.` |\n",
    "| `os.pardir` |\t父路径`..` |\n",
    "| `os.sep`   | 路径分隔符，`/`或`\\\\` |\n",
    "| `os.extsep` |\t扩展名（后缀）分隔符，`.` |\n",
    "| `os.altsep` |\t可替代路径分隔符，Windows系统为`/`|\n",
    "| `os.pathsep` | 环境变量`PATH`的分隔符 |\n",
    "| `os.linesep` | 文本文件换行符，(`\\r`, `\\n`, `\\r\\n`)|\n",
    "| `os.defpath` | 执行程序时缺省搜索路径 |\n",
    "| `os.devnull` | null设备的路径 |\n",
    "| `os.environ` | 系统环境变量 |"
   ]
  },
  {
   "cell_type": "code",
   "execution_count": 9,
   "metadata": {
    "slideshow": {
     "slide_type": "slide"
    }
   },
   "outputs": [
    {
     "data": {
      "text/plain": [
       "('nt', '.', '..', '\\\\', '/')"
      ]
     },
     "execution_count": 9,
     "metadata": {},
     "output_type": "execute_result"
    }
   ],
   "source": [
    "os.name, os.curdir, os.pardir, os.sep, os.altsep"
   ]
  },
  {
   "cell_type": "code",
   "execution_count": 10,
   "metadata": {
    "slideshow": {
     "slide_type": "-"
    }
   },
   "outputs": [
    {
     "data": {
      "text/plain": [
       "('.', ';', '\\r\\n', '.;C:\\\\bin', 'nul')"
      ]
     },
     "execution_count": 10,
     "metadata": {},
     "output_type": "execute_result"
    }
   ],
   "source": [
    "os.extsep, os.pathsep, os.linesep, os.defpath, os.devnull"
   ]
  },
  {
   "cell_type": "markdown",
   "metadata": {
    "slideshow": {
     "slide_type": "slide"
    }
   },
   "source": [
    "### 文件和目录操作\n",
    "\n",
    "`os` 库包含文件操作函数：\n",
    "\n",
    "| 函数   | 用途 |\n",
    "|:--------|:-----------|\n",
    "| `os.getcwd()` | 获取当前工作目录 |\n",
    "| `os.chdir()` | 改变当前工作目录 |\n",
    "| `os.makedirs()` |\t递归创建目录 |\n",
    "| `os.removedirs()` | 递归删除目录（小心）|\n",
    "| `os.mkdir()` | 创建目录 |\n",
    "| `os.rmdir()` |删除空目录 |\n",
    "| `os.listdir()` | 列出目录下文件和子目录 |\n",
    "| `os.remove()` | 删除一个文件 |\n",
    "| `os.rename()` | 重命名文件或目录 |\n",
    "| `os.stat()` | 获取文件/目录信息 |"
   ]
  },
  {
   "cell_type": "markdown",
   "metadata": {
    "slideshow": {
     "slide_type": "slide"
    }
   },
   "source": [
    "子模块 `os.path` 提供路径有关的的操作函数。实际上，`os.path` 在 Windows 系统会指向 `ntpath` 模块，在类 Linux 系统下则是 `posixpath`。使用自省函数查看子模块`os.path`："
   ]
  },
  {
   "cell_type": "code",
   "execution_count": null,
   "metadata": {
    "slideshow": {
     "slide_type": "-"
    }
   },
   "outputs": [],
   "source": [
    "print(type(os.path), os.path)"
   ]
  },
  {
   "cell_type": "code",
   "execution_count": null,
   "metadata": {
    "slideshow": {
     "slide_type": "slide"
    }
   },
   "outputs": [],
   "source": [
    "print(dir(os.path))"
   ]
  },
  {
   "cell_type": "markdown",
   "metadata": {
    "slideshow": {
     "slide_type": "slide"
    }
   },
   "source": [
    "`os.path`包括的功能函数有：\n",
    "\n",
    "| 函数   | 用途 |\n",
    "|:--------|:-----------|\n",
    "| `os.path.abspath()` | 返回规范化的绝对路径 |\n",
    "| `os.path.split()`  | 返回路径的目录和文件名 |\n",
    "| `os.path.dirname()` | 返回路径的目录 |\n",
    "| `os.path.basename()` | 返回路径的文件名|\n",
    "| `os.path.exists()` | 检查路径是否存在 |\n",
    "| `os.path.isabs()` | 检查是否是绝对路径 |\n",
    "| `os.path.isfile()` | 检查路径是否是文件 |\n",
    "| `os.path.isdir()` | 检查路径是否是目录 |\n",
    "| `os.path.join()` | 合并路径，返回路径 |\n",
    "| `os.path.getatime()` | 返回文件或目录的最后存取时间 |\n",
    "| `os.path.getmtime()` | 返回文件或目录的最后修改时间 |\n",
    "| `os.path.getsize()` | 返回文件大小 |"
   ]
  },
  {
   "cell_type": "markdown",
   "metadata": {
    "slideshow": {
     "slide_type": "slide"
    }
   },
   "source": [
    "### 命令执行\n",
    "\n",
    "`os.system`实现调用系统命令，不过推荐使用`subprocess`模块执行操作系统相关命令。"
   ]
  },
  {
   "cell_type": "markdown",
   "metadata": {
    "slideshow": {
     "slide_type": "slide"
    }
   },
   "source": [
    "## 常用示例"
   ]
  },
  {
   "cell_type": "markdown",
   "metadata": {
    "slideshow": {
     "slide_type": "slide"
    }
   },
   "source": [
    "### 创建目录\n",
    "\n",
    "如果目录不存在，创建目录。"
   ]
  },
  {
   "cell_type": "code",
   "execution_count": null,
   "metadata": {
    "slideshow": {
     "slide_type": "-"
    }
   },
   "outputs": [],
   "source": [
    "dirname = 'datadir/dir2'\n",
    "if not os.path.exists(dirname):\n",
    "    os.makedirs(dirname)"
   ]
  },
  {
   "cell_type": "code",
   "execution_count": null,
   "metadata": {
    "slideshow": {
     "slide_type": "-"
    }
   },
   "outputs": [],
   "source": [
    "%ls datadir"
   ]
  },
  {
   "cell_type": "markdown",
   "metadata": {
    "slideshow": {
     "slide_type": "slide"
    }
   },
   "source": [
    "### 构建路径\n",
    "\n",
    "使用`os.path.join()`拼接创建路径。"
   ]
  },
  {
   "cell_type": "code",
   "execution_count": null,
   "metadata": {
    "slideshow": {
     "slide_type": "-"
    }
   },
   "outputs": [],
   "source": [
    "print(os.path.join('one', 'two', 'three'))\n",
    "print(os.path.join('/', 'one', 'two', 'three'))\n",
    "print(os.path.join('/one', '/two', '/three'))"
   ]
  },
  {
   "cell_type": "markdown",
   "metadata": {
    "slideshow": {
     "slide_type": "slide"
    }
   },
   "source": [
    "### 路径分解\n",
    "\n",
    "使用`os.path.split()`分解路径，获得目录和文件。"
   ]
  },
  {
   "cell_type": "code",
   "execution_count": null,
   "metadata": {
    "slideshow": {
     "slide_type": "-"
    }
   },
   "outputs": [],
   "source": [
    "print(os.path.split('filename.txt'))\n",
    "print(os.path.split('filename'))\n",
    "print(os.path.split('/path/to/filename.txt'))\n",
    "print(os.path.split('/'))\n",
    "print(os.path.split(''))"
   ]
  },
  {
   "cell_type": "markdown",
   "metadata": {
    "slideshow": {
     "slide_type": "slide"
    }
   },
   "source": [
    "### 文件后缀名分解\n",
    "\n",
    "使用`os.path.splitext()`分解文件名，获得文件及后缀名。"
   ]
  },
  {
   "cell_type": "code",
   "execution_count": null,
   "metadata": {
    "slideshow": {
     "slide_type": "-"
    }
   },
   "outputs": [],
   "source": [
    "print(os.path.splitext('filename.txt'))\n",
    "print(os.path.splitext('filename'))\n",
    "print(os.path.splitext('my-archive.tar.gz'))\n",
    "print(os.path.splitext('no-extension.'))"
   ]
  },
  {
   "cell_type": "markdown",
   "metadata": {
    "slideshow": {
     "slide_type": "slide"
    }
   },
   "source": [
    "### 获得文件时间\n",
    "\n",
    "获取文件访问时间、修改时间，更改时间以及大小。"
   ]
  },
  {
   "cell_type": "code",
   "execution_count": null,
   "metadata": {
    "slideshow": {
     "slide_type": "-"
    }
   },
   "outputs": [],
   "source": [
    "import time\n",
    "\n",
    "filename = 'os.ipynb'\n",
    "print('访问时间:', time.ctime(os.path.getatime(filename)))\n",
    "print('修改时间:', time.ctime(os.path.getmtime(filename)))\n",
    "print('更改时间:', time.ctime(os.path.getctime(filename)))\n",
    "print('文件大小:', os.path.getsize(filename))"
   ]
  },
  {
   "cell_type": "markdown",
   "metadata": {
    "slideshow": {
     "slide_type": "slide"
    }
   },
   "source": [
    "### 文件测试\n",
    "\n",
    "测试文件类型。"
   ]
  },
  {
   "cell_type": "code",
   "execution_count": null,
   "metadata": {
    "slideshow": {
     "slide_type": "slide"
    }
   },
   "outputs": [],
   "source": [
    "filename = 'os.ipynb'\n",
    "for file in [filename, os.path.dirname(filename), '/']:\n",
    "    print('文件        : {!r}'.format(file))\n",
    "    print('Absolute    :', os.path.isabs(file))\n",
    "    print('Is File?    :', os.path.isfile(file))\n",
    "    print('Is Dir?     :', os.path.isdir(file))\n",
    "    print('Is Link?    :', os.path.islink(file))\n",
    "    print('Mountpoint? :', os.path.ismount(file))\n",
    "    print('Exists?     :', os.path.exists(file))\n",
    "    print('Link Exists?:', os.path.lexists(file))"
   ]
  },
  {
   "cell_type": "markdown",
   "metadata": {
    "slideshow": {
     "slide_type": "slide"
    }
   },
   "source": [
    "## 参考说明"
   ]
  },
  {
   "cell_type": "markdown",
   "metadata": {
    "slideshow": {
     "slide_type": "slide"
    }
   },
   "source": [
    "### `os.access()`\n",
    "\n",
    "`os.access()`用于检验权限模式，其语法为：\n",
    "```\n",
    "access(path, mode, *, dir_fd=None, effective_ids=False, follow_symlinks=True)\n",
    "```\n",
    "其中参数为：\n",
    "- `path`，文件路径\n",
    "- `mode`"
   ]
  },
  {
   "cell_type": "code",
   "execution_count": null,
   "metadata": {},
   "outputs": [],
   "source": [
    "path = 'myfile'\n",
    "print(os.access(path, os.R_OK))"
   ]
  },
  {
   "cell_type": "markdown",
   "metadata": {
    "slideshow": {
     "slide_type": "slide"
    }
   },
   "source": [
    "### `os.chdir()`\n",
    "\n",
    "`os.chdir()`改变当前工作目录，其语法为：\n",
    "```\n",
    "chdir(path)\n",
    "```"
   ]
  },
  {
   "cell_type": "markdown",
   "metadata": {},
   "source": [
    "### `os.chmod()`\n",
    "\n",
    "更改权限"
   ]
  },
  {
   "cell_type": "markdown",
   "metadata": {},
   "source": [
    "### `os.chown()`\n",
    "\n",
    "更改文件所有者"
   ]
  },
  {
   "cell_type": "markdown",
   "metadata": {},
   "source": [
    "### `os.chroot()`\n",
    "\n",
    "改变当前进程的根目录"
   ]
  },
  {
   "cell_type": "markdown",
   "metadata": {},
   "source": [
    "### `os.close()`  \n",
    "\n",
    "关闭文件描述符 "
   ]
  },
  {
   "cell_type": "markdown",
   "metadata": {},
   "source": [
    "### `os.closerange()`\n",
    "\n",
    "关闭所有文件描述符，从 fd_low (包含) 到 fd_high (不包含), 错误会忽略"
   ]
  },
  {
   "cell_type": "markdown",
   "metadata": {},
   "source": [
    "### `os.dup()`\n",
    "\n",
    "复制文件描述符 fd"
   ]
  },
  {
   "cell_type": "markdown",
   "metadata": {},
   "source": [
    "### `os.dup2()`\n",
    "\n",
    "将一个文件描述符 fd 复制到另一个 fd2"
   ]
  },
  {
   "cell_type": "markdown",
   "metadata": {},
   "source": [
    "### `os.fchdir()`\n",
    "\n",
    "通过文件描述符改变当前工作目录"
   ]
  },
  {
   "cell_type": "markdown",
   "metadata": {},
   "source": [
    "### `os.fchmod()`\n",
    "\n",
    "改变一个文件的访问权限，该文件由参数fd指定，参数mode是Unix下的文件访问权限。"
   ]
  },
  {
   "cell_type": "markdown",
   "metadata": {},
   "source": [
    "### `os.fchown()`\n",
    "\n",
    "修改一个文件的所有权，这个函数修改一个文件的用户ID和用户组ID，该文件由文件描述符fd指定。"
   ]
  },
  {
   "cell_type": "markdown",
   "metadata": {},
   "source": [
    "### `os.fdatasync()`\n",
    "\n",
    "强制将文件写入磁盘，该文件由文件描述符fd指定，但是不强制更新文件的状态信息。"
   ]
  },
  {
   "cell_type": "markdown",
   "metadata": {},
   "source": [
    "### `os.fdopen()`\n",
    "\n",
    "通过文件描述符 fd 创建一个文件对象，并返回这个文件对象\n",
    "\n"
   ]
  },
  {
   "cell_type": "markdown",
   "metadata": {},
   "source": [
    "### `os.fpathconf()`\n",
    "\n",
    "返回一个打开的文件的系统配置信息。name为检索的系统配置的值，它也许是一个定义系统值的字符串，这些名字在很多标准中指定（POSIX.1, Unix 95, Unix 98, 和其它）。\n"
   ]
  },
  {
   "cell_type": "markdown",
   "metadata": {},
   "source": [
    "### `os.fstat()`\n",
    "\n",
    "返回文件描述符fd的状态，像stat()。\n"
   ]
  },
  {
   "cell_type": "markdown",
   "metadata": {},
   "source": [
    "### `os.fstatvfs()`\n",
    "\n",
    "返回包含文件描述符fd的文件的文件系统的信息，像 statvfs()\n"
   ]
  },
  {
   "cell_type": "markdown",
   "metadata": {},
   "source": [
    "### `os.fsync()`\n",
    "\n",
    "强制将文件描述符为fd的文件写入硬盘。\n"
   ]
  },
  {
   "cell_type": "markdown",
   "metadata": {},
   "source": [
    "### `os.ftruncate()`\n",
    "\n",
    "裁剪文件描述符fd对应的文件, 所以它最大不能超过文件大小。`"
   ]
  },
  {
   "cell_type": "markdown",
   "metadata": {},
   "source": [
    "### `os.getcwd()`\n",
    "\n",
    "返回当前工作目录\n"
   ]
  },
  {
   "cell_type": "markdown",
   "metadata": {},
   "source": [
    "### `os.getcwdu()`\n",
    "\n",
    "返回一个当前工作目录的Unicode对象\n"
   ]
  },
  {
   "cell_type": "markdown",
   "metadata": {},
   "source": [
    "### `os.isatty()`\n",
    "\n",
    "如果文件描述符fd是打开的，同时与tty(-like)设备相连，则返回true, 否则False。\n",
    "\n"
   ]
  },
  {
   "cell_type": "markdown",
   "metadata": {},
   "source": [
    "\n",
    "### `os.lchflags()`\n",
    "\n",
    "设置路径的标记为数字标记，类似 chflags()，但是没有软链接\n"
   ]
  },
  {
   "cell_type": "markdown",
   "metadata": {},
   "source": [
    "### `os.lchmod()`\n",
    "\n",
    "修改连接文件权限\n"
   ]
  },
  {
   "cell_type": "markdown",
   "metadata": {},
   "source": [
    "### `os.lchown()`\n",
    "\n",
    "更改文件所有者，类似 chown，但是不追踪链接。\n"
   ]
  },
  {
   "cell_type": "markdown",
   "metadata": {},
   "source": [
    "### `os.link()`\n",
    "\n",
    "创建硬链接，名为参数 dst，指向参数 src\n"
   ]
  },
  {
   "cell_type": "markdown",
   "metadata": {},
   "source": [
    "### `os.listdir()`\n",
    "\n",
    "返回path指定的文件夹包含的文件或文件夹的名字的列表。"
   ]
  },
  {
   "cell_type": "markdown",
   "metadata": {},
   "source": [
    "### `os.lseek()`\n",
    "\n",
    "设置文件描述符 fd当前位置为pos, how方式修改: SEEK_SET 或者 0 设置从文件开始的计算的pos; SEEK_CUR或者 1 则从当前位置计算; os.SEEK_END或者2则从文件尾部开始. 在unix，Windows中有效\n"
   ]
  },
  {
   "cell_type": "markdown",
   "metadata": {},
   "source": [
    "### `os.lstat()`\n",
    "\n",
    "像stat(),但是没有软链接\n"
   ]
  },
  {
   "cell_type": "markdown",
   "metadata": {},
   "source": [
    "### `os.major()`\n",
    "\n",
    "从原始的设备号中提取设备major号码 (使用stat中的st_dev或者st_rdev field)。\n"
   ]
  },
  {
   "cell_type": "markdown",
   "metadata": {},
   "source": [
    "### `os.makedev()`\n",
    "\n",
    "以major和minor设备号组成一个原始设备号\n"
   ]
  },
  {
   "cell_type": "markdown",
   "metadata": {},
   "source": [
    "### `os.makedirs()`\n",
    "\n",
    "递归文件夹创建函数。像mkdir(), 但创建的所有intermediate-level文件夹需要包含子文件夹。\n"
   ]
  },
  {
   "cell_type": "markdown",
   "metadata": {},
   "source": [
    "### `os.minor()`\n",
    "\n",
    "从原始的设备号中提取设备minor号码 (使用stat中的st_dev或者st_rdev field )。\n"
   ]
  },
  {
   "cell_type": "markdown",
   "metadata": {},
   "source": [
    "### `os.mkdir()`\n",
    "\n",
    "以数字mode的mode创建一个名为path的文件夹.默认的 mode 是 0777 (八进制)。\n"
   ]
  },
  {
   "cell_type": "markdown",
   "metadata": {},
   "source": [
    "### `os.mkfifo()`\n",
    "\n",
    "创建命名管道，mode 为数字，默认为 0666 (八进制)\n"
   ]
  },
  {
   "cell_type": "markdown",
   "metadata": {},
   "source": [
    "### `os.mknod()`\n",
    "\n",
    "创建一个名为filename文件系统节点（文件，设备特别文件或者命名pipe）。\n",
    "\n"
   ]
  },
  {
   "cell_type": "markdown",
   "metadata": {},
   "source": [
    "### `os.open()`\n",
    "\n",
    "打开一个文件，并且设置需要的打开选项，mode参数是可选的\n"
   ]
  },
  {
   "cell_type": "markdown",
   "metadata": {},
   "source": [
    "### `os.openpty()`\n",
    "\n",
    "打开一个新的伪终端对。返回 pty 和 tty的文件描述符。\n"
   ]
  },
  {
   "cell_type": "markdown",
   "metadata": {},
   "source": [
    "### `os.pathconf()`\n",
    "\n",
    "返回相关文件的系统配置信息。\n"
   ]
  },
  {
   "cell_type": "markdown",
   "metadata": {},
   "source": [
    "### `os.pipe()`\n",
    "\n",
    "创建一个管道. 返回一对文件描述符(r, w) 分别为读和写\n"
   ]
  },
  {
   "cell_type": "markdown",
   "metadata": {},
   "source": [
    "### `os.popen()`\n",
    "\n",
    "从一个 command 打开一个管道\n"
   ]
  },
  {
   "cell_type": "markdown",
   "metadata": {},
   "source": [
    "### `os.read()`\n",
    "\n",
    "从文件描述符 fd 中读取最多 n 个字节，返回包含读取字节的字符串，文件描述符 fd对应文件已达到结尾, 返回一个空字符串。\n"
   ]
  },
  {
   "cell_type": "markdown",
   "metadata": {},
   "source": [
    "### `os.readlink()`\n",
    "\n",
    "返回软链接所指向的文件\n"
   ]
  },
  {
   "cell_type": "markdown",
   "metadata": {},
   "source": [
    "### `os.remove()`\n",
    "\n",
    "删除路径为path的文件。如果path 是一个文件夹，将抛出OSError; 查看下面的rmdir()删除一个 directory。\n"
   ]
  },
  {
   "cell_type": "markdown",
   "metadata": {},
   "source": [
    "### `os.removedirs()`\n",
    "\n",
    "递归删除目录。\n"
   ]
  },
  {
   "cell_type": "markdown",
   "metadata": {},
   "source": [
    "### `os.rename()`\n",
    "\n",
    "重命名文件或目录，从 src 到 dst\n"
   ]
  },
  {
   "cell_type": "markdown",
   "metadata": {},
   "source": [
    "### `os.renames()`\n",
    "\n",
    "递归地对目录进行更名，也可以对文件进行更名。\n"
   ]
  },
  {
   "cell_type": "markdown",
   "metadata": {},
   "source": [
    "### `os.rmdir()`\n",
    "\n",
    "删除path指定的空目录，如果目录非空，则抛出一个OSError异常。\n"
   ]
  },
  {
   "cell_type": "markdown",
   "metadata": {},
   "source": [
    "### `os.stat()`\n",
    "\n",
    "获取path指定的路径的信息，功能等同于C API中的stat()系统调用。"
   ]
  },
  {
   "cell_type": "markdown",
   "metadata": {},
   "source": [
    "### `os.stat_float_times()`\n",
    "\n",
    "决定stat_result是否以float对象显示时间戳\n"
   ]
  },
  {
   "cell_type": "markdown",
   "metadata": {},
   "source": [
    "### `os.statvfs()`\n",
    "\n",
    "获取指定路径的文件系统统计信息\n"
   ]
  },
  {
   "cell_type": "markdown",
   "metadata": {},
   "source": [
    "### `os.symlink()`\n",
    "\n",
    "创建一个软链接\n"
   ]
  },
  {
   "cell_type": "markdown",
   "metadata": {},
   "source": [
    "### `os.tcgetpgrp()`\n",
    "\n",
    "返回与终端fd（一个由os.open()返回的打开的文件描述符）关联的进程组\n"
   ]
  },
  {
   "cell_type": "markdown",
   "metadata": {},
   "source": [
    "### `os.tcsetpgrp()`\n",
    "\n",
    "设置与终端fd（一个由os.open()返回的打开的文件描述符）关联的进程组为pg。\n"
   ]
  },
  {
   "cell_type": "markdown",
   "metadata": {},
   "source": [
    "### `os.tempnam()`\n",
    "\n",
    "Python3 中已删除。返回唯一的路径名用于创建临时文件。\n"
   ]
  },
  {
   "cell_type": "markdown",
   "metadata": {},
   "source": [
    "### `os.tmpfile()`\n",
    "\n",
    "Python3 中已删除。返回一个打开的模式为(w+b)的文件对象 .这文件对象没有文件夹入口，没有文件描述符，将会自动删除。\n"
   ]
  },
  {
   "cell_type": "markdown",
   "metadata": {},
   "source": [
    "### `os.tmpnam()`\n",
    "\n",
    "Python3 中已删除。为创建一个临时文件返回一个唯一的路径\n"
   ]
  },
  {
   "cell_type": "markdown",
   "metadata": {},
   "source": [
    "### `os.ttyname()`\n",
    "\n",
    "返回一个字符串，它表示与文件描述符fd 关联的终端设备。如果fd 没有与终端设备关联，则引发一个异常。\n"
   ]
  },
  {
   "cell_type": "markdown",
   "metadata": {},
   "source": [
    "### `os.unlink()`\n",
    "\n",
    "删除文件路径\n"
   ]
  },
  {
   "cell_type": "markdown",
   "metadata": {},
   "source": [
    "### `os.utime()`\n",
    "\n",
    "返回指定的path文件的访问和修改的时间。\n"
   ]
  },
  {
   "cell_type": "markdown",
   "metadata": {},
   "source": [
    "### `os.walk()`\n",
    "\n",
    "输出在文件夹中的文件名通过在树中游走，向上或者向下。"
   ]
  },
  {
   "cell_type": "markdown",
   "metadata": {},
   "source": [
    "### `os.write()`\n",
    "\n",
    "写入字符串到文件描述符 fd中. 返回实际写入的字符串长度"
   ]
  }
 ],
 "metadata": {
  "kernelspec": {
   "display_name": "Python 3",
   "language": "python",
   "name": "python3"
  },
  "language_info": {
   "codemirror_mode": {
    "name": "ipython",
    "version": 3
   },
   "file_extension": ".py",
   "mimetype": "text/x-python",
   "name": "python",
   "nbconvert_exporter": "python",
   "pygments_lexer": "ipython3",
   "version": "3.6.4"
  },
  "toc": {
   "base_numbering": 1,
   "nav_menu": {},
   "number_sections": true,
   "sideBar": true,
   "skip_h1_title": false,
   "title_cell": "Table of Contents",
   "title_sidebar": "Contents",
   "toc_cell": false,
   "toc_position": {},
   "toc_section_display": true,
   "toc_window_display": false
  }
 },
 "nbformat": 4,
 "nbformat_minor": 2
}
