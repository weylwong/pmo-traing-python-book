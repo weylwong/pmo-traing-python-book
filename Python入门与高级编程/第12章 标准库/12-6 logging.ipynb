{
 "cells": [
  {
   "cell_type": "markdown",
   "metadata": {
    "slideshow": {
     "slide_type": "slide"
    }
   },
   "source": [
    "# logging 库\n",
    "\n",
    "[`logging`](https://docs.python.org/3/library/logging.html)是Python的标准库，是一个日志记录工具。使用logging 库之前，需要先行导入："
   ]
  },
  {
   "cell_type": "code",
   "execution_count": null,
   "metadata": {
    "slideshow": {
     "slide_type": "-"
    }
   },
   "outputs": [],
   "source": [
    "import logging"
   ]
  },
  {
   "cell_type": "markdown",
   "metadata": {
    "slideshow": {
     "slide_type": "slide"
    }
   },
   "source": [
    "## 日志记录\n",
    "\n",
    "> 起居注是东亚地区史书的一种形式，为编年体，也就是一种以历史事件发生的时间为顺序，来编撰、记述历史的一种方式。起居注的特色在于，它是由专门的史官起居舍人对于皇帝每日的行为和言论按时记录的史书。\n",
    "\n",
    "> ”古之人君，左史记事，右史记言，所以防过失，而示后王。记注之职，其来尙矣。”  \n",
    "> 顾炎武《日知录》"
   ]
  },
  {
   "cell_type": "markdown",
   "metadata": {
    "slideshow": {
     "slide_type": "slide"
    }
   },
   "source": [
    "在计算机编程中也广泛使用日志记录。在程序中记录日志有两个目的：\n",
    "- 故障定位（Troubleshooting）\n",
    "- 运行状态显示"
   ]
  },
  {
   "cell_type": "markdown",
   "metadata": {
    "slideshow": {
     "slide_type": "slide"
    }
   },
   "source": [
    "如何能快捷定位故障，可以通过日志记录关键要素：\n",
    "- 接口调用  \n",
    "对于外部系统、重要模块、重要方法的接口接口，记录输入以及输出结果。如果出问题，可以快速判断输入是否正确，结果是否正确。\n",
    "- 状态变化  \n",
    "对程序中重要的状态信息及其变化记录下来，方便故障重现，推断程序运行过程\n",
    "- 异常  \n",
    "对于业务异常，都要记录下来\n",
    "- 预期之外  \n",
    "按照设计，在预期之外出现的情况，可以记录下来。"
   ]
  },
  {
   "cell_type": "markdown",
   "metadata": {
    "slideshow": {
     "slide_type": "slide"
    }
   },
   "source": [
    "对于程序运行状态，需要记录的包括：\n",
    "- 时间\n",
    "- 位置\n",
    "- 关键事项\n",
    "- 重要结果"
   ]
  },
  {
   "cell_type": "markdown",
   "metadata": {
    "slideshow": {
     "slide_type": "slide"
    }
   },
   "source": [
    "## 自省\n",
    "\n",
    "使用内置函数`dir()`列出`logging`模块内容："
   ]
  },
  {
   "cell_type": "code",
   "execution_count": null,
   "metadata": {
    "slideshow": {
     "slide_type": "slide"
    }
   },
   "outputs": [],
   "source": [
    "print(sorted(dir(logging)))"
   ]
  },
  {
   "cell_type": "markdown",
   "metadata": {
    "slideshow": {
     "slide_type": "slide"
    }
   },
   "source": [
    "## 简单打印\n",
    "\n",
    "`logging`库包括如下函数，可以打印日志信息：\n",
    "- `critical(msg, *args, **kwargs)`\n",
    "- `debug()`\n",
    "- `error()`\n",
    "- `exception()`\n",
    "- `fatal = critical()`\n",
    "- `info()`\n",
    "- `warn()`\n",
    "- `warning()`"
   ]
  },
  {
   "cell_type": "code",
   "execution_count": null,
   "metadata": {
    "slideshow": {
     "slide_type": "slide"
    }
   },
   "outputs": [],
   "source": [
    "logging.debug('debug message')     # check the result\n",
    "logging.info('info message')       # check the result\n",
    "logging.warning('warning message')\n",
    "# logging.warn('deprecated message')\n",
    "logging.error('error message')\n",
    "logging.fatal('fatal message')\n",
    "logging.critical('critical message')\n",
    "logging.exception('exception message')       # check the result"
   ]
  },
  {
   "cell_type": "markdown",
   "metadata": {
    "slideshow": {
     "slide_type": "slide"
    }
   },
   "source": [
    "从结果可知，缺省情况`logging`模块会把日志打印到标准输出，也存在如下问题：\n",
    "- `logging.warn()`函数与`warning()`结果相同，不过已经废弃，不再推荐使用。\n",
    "- `logging.exception()`用在异常输出记录。"
   ]
  },
  {
   "cell_type": "markdown",
   "metadata": {
    "slideshow": {
     "slide_type": "slide"
    }
   },
   "source": [
    "与字符串格式化类似，`logging`的格式化输出也支持多种形式："
   ]
  },
  {
   "cell_type": "code",
   "execution_count": null,
   "metadata": {
    "slideshow": {
     "slide_type": "-"
    }
   },
   "outputs": [],
   "source": [
    "# 格式化输出\n",
    "name = '老王'\n",
    "x = 3.14\n",
    "logging.error('name=%s; x=%f' % (name, x))\n",
    "logging.error('name=%s; x=%12.5f!', name, x)\n",
    "logging.error('name={}; x={}'.format(name, x)) "
   ]
  },
  {
   "cell_type": "markdown",
   "metadata": {
    "slideshow": {
     "slide_type": "slide"
    }
   },
   "source": [
    "`logging`的格式化输出类似C语言方法，推荐使用Python新式格式化方法。"
   ]
  },
  {
   "cell_type": "markdown",
   "metadata": {
    "slideshow": {
     "slide_type": "slide"
    }
   },
   "source": [
    "### 日志级别\n",
    "\n",
    "由结果可知，`logging`模块是按照级别进行输出打印，并不一定会打印所有日志。`logging`库包括如下常数，也就是日志的级别。"
   ]
  },
  {
   "cell_type": "markdown",
   "metadata": {
    "slideshow": {
     "slide_type": "-"
    }
   },
   "source": [
    "|日志名（levelname）| 日志值 | 应用场景 |\n",
    "|:----------|:------|:--------|\n",
    "| NOTSET   | 0   |      |\n",
    "| DEBUG    | 10  |  用于调试问题 |\n",
    "| INFO    | 20  | 运行正常，状态显示 |\n",
    "| WARN    | 30  | 已废弃 |\n",
    "| WARNING  | 30  | 警告，发生意外，可能会出现问题 |\n",
    "| ERROR    | 40  | 错误，软件无法正常运行 |\n",
    "| CRITICAL  | 50  | 严重错误，软件不能再运行 |            \n",
    "| FATAL    | 50  | 与CRITICAL相同  |"
   ]
  },
  {
   "cell_type": "code",
   "execution_count": null,
   "metadata": {
    "slideshow": {
     "slide_type": "slide"
    }
   },
   "outputs": [],
   "source": [
    "print(logging.NOTSET)\n",
    "print(logging.DEBUG)\n",
    "print(logging.INFO)\n",
    "print(logging.WARNING)\n",
    "print(logging.ERROR)\n",
    "print(logging.CRITICAL)"
   ]
  },
  {
   "cell_type": "markdown",
   "metadata": {
    "slideshow": {
     "slide_type": "slide"
    }
   },
   "source": [
    "使用`logging.getLevelName`可以获得指定级别对应的级别名字："
   ]
  },
  {
   "cell_type": "code",
   "execution_count": null,
   "metadata": {
    "slideshow": {
     "slide_type": "-"
    }
   },
   "outputs": [],
   "source": [
    "print(logging.getLevelName(logging.NOTSET))\n",
    "print(logging.getLevelName(logging.DEBUG))\n",
    "print(logging.getLevelName(logging.INFO))\n",
    "print(logging.getLevelName(logging.WARNING))\n",
    "print(logging.getLevelName(logging.ERROR))\n",
    "print(logging.getLevelName(logging.CRITICAL))\n",
    "print(logging.getLevelName(60))"
   ]
  },
  {
   "cell_type": "markdown",
   "metadata": {
    "slideshow": {
     "slide_type": "slide"
    }
   },
   "source": [
    "`logging.log()`函数是个通用函数，会根据指定级别进行日志输出。"
   ]
  },
  {
   "cell_type": "code",
   "execution_count": null,
   "metadata": {
    "slideshow": {
     "slide_type": "slide"
    }
   },
   "outputs": [],
   "source": [
    "logging.log(logging.NOTSET, 'noteset')\n",
    "logging.log(logging.DEBUG, 'debug')\n",
    "logging.log(logging.INFO, 'info')\n",
    "logging.log(logging.WARNING, 'warning')\n",
    "logging.log(logging.ERROR, 'error')\n",
    "logging.log(logging.CRITICAL, 'critical')\n",
    "logging.log(60, '60')"
   ]
  },
  {
   "cell_type": "markdown",
   "metadata": {
    "slideshow": {
     "slide_type": "slide"
    }
   },
   "source": [
    "### 日志格式\n",
    "\n",
    "输出的日志也具有一定的格式，使用冒号进行分隔，缺省输出格式为：\n",
    "```\n",
    "%(levelname)s:%(name)s:%(message)s\n",
    "```"
   ]
  },
  {
   "cell_type": "code",
   "execution_count": null,
   "metadata": {
    "slideshow": {
     "slide_type": "-"
    }
   },
   "outputs": [],
   "source": [
    "print(logging.BASIC_FORMAT)"
   ]
  },
  {
   "cell_type": "markdown",
   "metadata": {
    "slideshow": {
     "slide_type": "slide"
    }
   },
   "source": [
    "`logging`库支持的格式包括如下：\n",
    "\n",
    "|格式     | 描述 |\n",
    "|:----------|:-------------|\n",
    "| `%(name)s` |  logger名字 |  \n",
    "| `%(levelno)s` | 日志级别的数值 |\n",
    "| `%(levelname)s` | 日志级别名称 |\n",
    "| `%(pathname)s` | 当前执行程序的路径 |\n",
    "| `%(filename)s` | 当前执行程序名称|\n",
    "| `%(module)s` | 模块名 |\n",
    "| `%(lineno)d` | 日志的当前行号 |\n",
    "| `%(funcName)s` | 日志的当前函数|\n",
    "| `%(created)f` | 记录创建时间 |\n",
    "| `%(asctime)s` | 日志的时间 |\n",
    "| `%(msecs)d` | 创建时间的毫秒 |\n",
    "| `%(thread)d` | 线程id |\n",
    "| `%(threadName)s` | 线程名称 |\n",
    "| `%(process)d` | 进程ID |\n",
    "| `%(message)s` |  日志信息 |"
   ]
  },
  {
   "cell_type": "markdown",
   "metadata": {
    "slideshow": {
     "slide_type": "slide"
    }
   },
   "source": [
    "### `异常日志`\n",
    "\n",
    "`logger.exception`与`ERROR`级别相同，但是会额外记录异常堆栈信息"
   ]
  },
  {
   "cell_type": "code",
   "execution_count": null,
   "metadata": {
    "slideshow": {
     "slide_type": "slide"
    }
   },
   "outputs": [],
   "source": [
    "try:\n",
    "    1 / 0\n",
    "except ZeroDivisionError as e:\n",
    "    logging.exception('exception message:{}'.format(e))"
   ]
  },
  {
   "cell_type": "markdown",
   "metadata": {
    "slideshow": {
     "slide_type": "slide"
    }
   },
   "source": [
    "## 简单配置\n",
    "\n",
    "缺省情况下，`logging`模块输出日志到屏幕，只显示输出`WARNING`及其以上级别，日志也具有指定格式。可以使用`logging.basicConfig()`进行修改配置。`logging.basicConfig()`的语法是：\n",
    "```\n",
    "basicConfig(**kwargs)\n",
    "```"
   ]
  },
  {
   "cell_type": "markdown",
   "metadata": {
    "slideshow": {
     "slide_type": "slide"
    }
   },
   "source": [
    "支持的主要关键字参数包括：\n",
    "- `filename`，指定日志输出文件；\n",
    "- `filemode`，指定日志输出文件打开模式，缺省是添加`a`.\n",
    "- `format`，指定格式字符串\n",
    "- `datefmt`，指定日期时间格式\n",
    "- `level`，设置级别\n",
    "- `stream`，指定输出流"
   ]
  },
  {
   "cell_type": "code",
   "execution_count": null,
   "metadata": {
    "slideshow": {
     "slide_type": "slide"
    }
   },
   "outputs": [],
   "source": [
    "help(logging.basicConfig)"
   ]
  },
  {
   "cell_type": "markdown",
   "metadata": {
    "slideshow": {
     "slide_type": "slide"
    }
   },
   "source": [
    "### 日志输出到指定文件\n",
    "\n",
    "使用`logging.basicConfig()`，并指定文件,然后把日志输出到文件。"
   ]
  },
  {
   "cell_type": "code",
   "execution_count": null,
   "metadata": {
    "slideshow": {
     "slide_type": "slide"
    }
   },
   "outputs": [],
   "source": [
    "%%writefile demo01.py\n",
    "#!/usr/bin/env python\n",
    "# -*- coding: utf-8 -*-\n",
    "\"\"\"logging demo\"\"\"\n",
    "import logging\n",
    "\n",
    "logfile = 'logging_demo01.log'\n",
    "logging.basicConfig(filename=logfile)\n",
    "\n",
    "logging.debug('debug message')     # check the result\n",
    "logging.info('info message')       # check the result\n",
    "logging.warning('warning message')\n",
    "logging.error('error message')\n",
    "logging.critical('critical message')"
   ]
  },
  {
   "cell_type": "markdown",
   "metadata": {
    "slideshow": {
     "slide_type": "slide"
    }
   },
   "source": [
    "运行示例程序，并检查结果："
   ]
  },
  {
   "cell_type": "code",
   "execution_count": null,
   "metadata": {
    "slideshow": {
     "slide_type": "-"
    }
   },
   "outputs": [],
   "source": [
    "!python demo01.py"
   ]
  },
  {
   "cell_type": "code",
   "execution_count": null,
   "metadata": {
    "slideshow": {
     "slide_type": "-"
    }
   },
   "outputs": [],
   "source": [
    "%cat logging_demo01.log"
   ]
  },
  {
   "cell_type": "markdown",
   "metadata": {
    "slideshow": {
     "slide_type": "slide"
    }
   },
   "source": [
    "### 指定日志级别\n",
    "\n",
    "使用`logging.basicConfig()`，指定日志级别为`logging.DEBUG`，则`DEBUG`及其以上级别都会显示输出。"
   ]
  },
  {
   "cell_type": "code",
   "execution_count": null,
   "metadata": {
    "slideshow": {
     "slide_type": "slide"
    }
   },
   "outputs": [],
   "source": [
    "%%writefile demo02.py\n",
    "#!/usr/bin/env python\n",
    "# -*- coding: utf-8 -*-\n",
    "\"\"\"logging demo\"\"\"\n",
    "import logging\n",
    "\n",
    "logfile = 'logging_demo02.log'\n",
    "logging.basicConfig(filename=logfile, level=logging.DEBUG)\n",
    "\n",
    "logging.debug('debug message')     # check the result\n",
    "logging.info('info message')       # check the result\n",
    "logging.warning('warning message')\n",
    "logging.error('error message')\n",
    "logging.critical('critical message')"
   ]
  },
  {
   "cell_type": "markdown",
   "metadata": {
    "slideshow": {
     "slide_type": "slide"
    }
   },
   "source": [
    "运行示例程序，并检查结果："
   ]
  },
  {
   "cell_type": "code",
   "execution_count": null,
   "metadata": {
    "slideshow": {
     "slide_type": "-"
    }
   },
   "outputs": [],
   "source": [
    "!python demo02.py"
   ]
  },
  {
   "cell_type": "code",
   "execution_count": null,
   "metadata": {
    "slideshow": {
     "slide_type": "-"
    }
   },
   "outputs": [],
   "source": [
    "%cat logging_demo02.log"
   ]
  },
  {
   "cell_type": "markdown",
   "metadata": {
    "slideshow": {
     "slide_type": "slide"
    }
   },
   "source": [
    "### 指定日志格式\n",
    "\n",
    "`logging`缺省输出格式为：\n",
    "```\n",
    "%(levelname)s:%(name)s:%(message)s\n",
    "```"
   ]
  },
  {
   "cell_type": "markdown",
   "metadata": {
    "slideshow": {
     "slide_type": "-"
    }
   },
   "source": [
    "在`logging.basicConfig()`，可以指定指定日志格式：\n",
    "- 参数`format`，指定日志格式\n",
    "- 参数`datefmt`指定其中日期格式"
   ]
  },
  {
   "cell_type": "code",
   "execution_count": null,
   "metadata": {
    "slideshow": {
     "slide_type": "slide"
    }
   },
   "outputs": [],
   "source": [
    "%%writefile demo03.py\n",
    "#!/usr/bin/env python\n",
    "# -*- coding: utf-8 -*-\n",
    "\"\"\"logging demo\"\"\"\n",
    "import logging\n",
    "\n",
    "logfmt = ('%(name)s:%(levelno)s:%(levelname)s:%(pathname)s:%(filename)s:%(module)s:'\n",
    "          '%(lineno)d:%(funcName)s:%(created)f:%(asctime)s:%(msecs)d:%(thread)d'\n",
    "          '%(threadName)s:%(process)d:%(message)s')\n",
    "logging.basicConfig(format=logfmt)\n",
    "logging.error('error message')"
   ]
  },
  {
   "cell_type": "markdown",
   "metadata": {
    "slideshow": {
     "slide_type": "slide"
    }
   },
   "source": [
    "运行示例程序，查看运行结果。"
   ]
  },
  {
   "cell_type": "code",
   "execution_count": null,
   "metadata": {
    "slideshow": {
     "slide_type": "-"
    }
   },
   "outputs": [],
   "source": [
    "!python demo03.py"
   ]
  },
  {
   "cell_type": "markdown",
   "metadata": {
    "slideshow": {
     "slide_type": "slide"
    }
   },
   "source": [
    "日志最好具有时间、位置等信息；日期可以使用ISO标准格式，参见datatime库。"
   ]
  },
  {
   "cell_type": "code",
   "execution_count": null,
   "metadata": {
    "slideshow": {
     "slide_type": "slide"
    }
   },
   "outputs": [],
   "source": [
    "%%writefile demo04.py\n",
    "#!/usr/bin/env python\n",
    "# -*- coding: utf-8 -*-\n",
    "\"\"\"logging demo\"\"\"\n",
    "import logging\n",
    "\n",
    "# Set the logging config\n",
    "logfile = 'logging_demo04.log'\n",
    "logfmt = '%(asctime)s:%(module)s:%(levelname)s:%(message)s'\n",
    "datefmt = '%Y-%m-%dT%Hh%Mm%Ss'\n",
    "logging.basicConfig(filename=logfile, level=logging.DEBUG, format=logfmt, datefmt=datefmt)\n",
    "\n",
    "logging.debug('debug message')     # check the result\n",
    "logging.info('info message')       # check the result\n",
    "logging.warning('warning message')\n",
    "logging.error('error message')\n",
    "logging.critical('critical message')"
   ]
  },
  {
   "cell_type": "markdown",
   "metadata": {
    "slideshow": {
     "slide_type": "slide"
    }
   },
   "source": [
    "运行示例程序，并检查结果："
   ]
  },
  {
   "cell_type": "code",
   "execution_count": null,
   "metadata": {
    "slideshow": {
     "slide_type": "-"
    }
   },
   "outputs": [],
   "source": [
    "!python demo04.py"
   ]
  },
  {
   "cell_type": "code",
   "execution_count": null,
   "metadata": {
    "slideshow": {
     "slide_type": "-"
    }
   },
   "outputs": [],
   "source": [
    "%cat logging_demo04.log"
   ]
  },
  {
   "cell_type": "markdown",
   "metadata": {
    "slideshow": {
     "slide_type": "slide"
    }
   },
   "source": [
    "## 高级配置\n",
    "\n",
    "很多时候，需要把日志输出到文件，同时还可以在屏幕上显示。实际上`logging`支持更高级的配置办法。在实现高级配置前，需要理解如下概念：\n",
    "- `Logger`， 记录器\n",
    "- `Handler`， 处理器\n",
    "- `Formatter`，格式器\n",
    "- `Filter`，过滤器"
   ]
  },
  {
   "cell_type": "markdown",
   "metadata": {
    "slideshow": {
     "slide_type": "slide"
    }
   },
   "source": [
    "### `Logger`记录器\n",
    "\n",
    "`Logger`是一个树形层级结构，输出日志之前必须创建一个`Logger`实例，也就是创建一个记录器。默认情况会创建一个根（`root`）记录器。"
   ]
  },
  {
   "cell_type": "markdown",
   "metadata": {
    "slideshow": {
     "slide_type": "slide"
    }
   },
   "source": [
    "![记录器树](../images/logging_tree.png)"
   ]
  },
  {
   "cell_type": "markdown",
   "metadata": {
    "slideshow": {
     "slide_type": "slide"
    }
   },
   "source": [
    "使用`logging.getLogger()`来创建记录器。语法是：\n",
    "```\n",
    "getLogger(name=None)\n",
    "```\n",
    "\n",
    "指定记录器名字，创建并返回一个记录器。如果记录器已经创建，则返回该记录器。不指定名字，则返回缺省的根记录器。"
   ]
  },
  {
   "cell_type": "code",
   "execution_count": null,
   "metadata": {
    "slideshow": {
     "slide_type": "slide"
    }
   },
   "outputs": [],
   "source": [
    "help(logging.getLogger)"
   ]
  },
  {
   "cell_type": "markdown",
   "metadata": {
    "slideshow": {
     "slide_type": "slide"
    }
   },
   "source": [
    "使用自省方法检查记录器"
   ]
  },
  {
   "cell_type": "code",
   "execution_count": null,
   "metadata": {
    "slideshow": {
     "slide_type": "-"
    }
   },
   "outputs": [],
   "source": [
    "root = logging.getLogger()\n",
    "app = logging.getLogger('app')"
   ]
  },
  {
   "cell_type": "code",
   "execution_count": null,
   "metadata": {
    "slideshow": {
     "slide_type": "-"
    }
   },
   "outputs": [],
   "source": [
    "print(type(root), type(app))"
   ]
  },
  {
   "cell_type": "markdown",
   "metadata": {
    "slideshow": {
     "slide_type": "slide"
    }
   },
   "source": [
    "使用帮助函数`help`查看二者差异。"
   ]
  },
  {
   "cell_type": "code",
   "execution_count": null,
   "metadata": {
    "slideshow": {
     "slide_type": "-"
    }
   },
   "outputs": [],
   "source": [
    "issubclass(logging.RootLogger, logging.Logger)"
   ]
  },
  {
   "cell_type": "markdown",
   "metadata": {
    "slideshow": {
     "slide_type": "slide"
    }
   },
   "source": [
    "创建Logger实例后，可以对每个实例进行不同的配置。可使用如下方法进行一些设置。\n",
    "- `logger.setLevel()`，设置日志级别\n",
    "- `logger.addHandler()`，为Logger实例增加一个处理器\n",
    "- `logger.removeHandler()`，为Logger实例删除一个处理器"
   ]
  },
  {
   "cell_type": "markdown",
   "metadata": {
    "slideshow": {
     "slide_type": "slide"
    }
   },
   "source": [
    "例如，设置不同的日志级别。"
   ]
  },
  {
   "cell_type": "code",
   "execution_count": null,
   "metadata": {
    "slideshow": {
     "slide_type": "-"
    }
   },
   "outputs": [],
   "source": [
    "app.setLevel(logging.DEBUG)"
   ]
  },
  {
   "cell_type": "markdown",
   "metadata": {
    "slideshow": {
     "slide_type": "slide"
    }
   },
   "source": [
    "使用记录器，调用日志方法输出日志"
   ]
  },
  {
   "cell_type": "code",
   "execution_count": null,
   "metadata": {
    "slideshow": {
     "slide_type": "-"
    }
   },
   "outputs": [],
   "source": [
    "root.debug('root logger debug')\n",
    "root.info('root logger info')\n",
    "root.error('root logger error')\n",
    "app.debug('app logger debug')\n",
    "app.info('app logger info')\n",
    "app.error('app logger error')"
   ]
  },
  {
   "cell_type": "markdown",
   "metadata": {
    "slideshow": {
     "slide_type": "slide"
    }
   },
   "source": [
    "### 日志处理器\n",
    "\n",
    "日志处理器handler用来实现日志的处理，常用的有：\n",
    "- `StreamHandler`，使用标准输出或文件对象来记录日志\n",
    "- `FileHandler`，使用文件来记录日志；"
   ]
  },
  {
   "cell_type": "markdown",
   "metadata": {
    "slideshow": {
     "slide_type": "slide"
    }
   },
   "source": [
    "下面来创建两个日志处理器"
   ]
  },
  {
   "cell_type": "code",
   "execution_count": null,
   "metadata": {
    "slideshow": {
     "slide_type": "-"
    }
   },
   "outputs": [],
   "source": [
    "fh = logging.FileHandler('filehandler.log')\n",
    "ch = logging.StreamHandler()"
   ]
  },
  {
   "cell_type": "markdown",
   "metadata": {
    "slideshow": {
     "slide_type": "slide"
    }
   },
   "source": [
    "使用自省方法查看处理器对象。"
   ]
  },
  {
   "cell_type": "code",
   "execution_count": null,
   "metadata": {
    "slideshow": {
     "slide_type": "-"
    }
   },
   "outputs": [],
   "source": [
    "print(type(fh), type(ch))"
   ]
  },
  {
   "cell_type": "code",
   "execution_count": null,
   "metadata": {
    "slideshow": {
     "slide_type": "-"
    }
   },
   "outputs": [],
   "source": [
    "issubclass(logging.FileHandler, logging.StreamHandler)"
   ]
  },
  {
   "cell_type": "markdown",
   "metadata": {
    "slideshow": {
     "slide_type": "slide"
    }
   },
   "source": [
    "日志处理器还可以设置日志级别，格式器，增加或删除过滤器。使用方法如下所示：\n",
    "- `ch.setLevel(logging.WARN)`，指定日志级别\n",
    "- `ch.setFormatter(formatter_name)`，设置格式化器formatter\n",
    "- `ch.addFilter(filter_name)`， 增加过滤器\n",
    "- `ch.removeFilter(filter_name)`， # 删除过滤器"
   ]
  },
  {
   "cell_type": "markdown",
   "metadata": {
    "slideshow": {
     "slide_type": "slide"
    }
   },
   "source": [
    "创建的日志处理器，可以添加到记录器中。一个记录器可以包含多个日志处理器。"
   ]
  },
  {
   "cell_type": "markdown",
   "metadata": {
    "slideshow": {
     "slide_type": "slide"
    }
   },
   "source": [
    "### 格式器\n",
    "\n",
    "使用`logging.Formatter`格式器设置日志信息最后的显示内容。与`logging.basicConfig`类似，需要传入日志格式化字符串和日期格式字符串。"
   ]
  },
  {
   "cell_type": "code",
   "execution_count": null,
   "metadata": {
    "slideshow": {
     "slide_type": "slide"
    }
   },
   "outputs": [],
   "source": [
    "help(logging.Formatter)"
   ]
  },
  {
   "cell_type": "code",
   "execution_count": null,
   "metadata": {
    "slideshow": {
     "slide_type": "slide"
    }
   },
   "outputs": [],
   "source": [
    "logfmt = '%(asctime)s:%(module)s:%(levelname)s:%(message)s'\n",
    "datefmt = '%Y-%m-%dT%Hh%Mm%Ss'\n",
    "afmt = logging.Formatter(logfmt, datefmt)"
   ]
  },
  {
   "cell_type": "markdown",
   "metadata": {
    "slideshow": {
     "slide_type": "slide"
    }
   },
   "source": [
    "使用自省方法查看格式器对象"
   ]
  },
  {
   "cell_type": "code",
   "execution_count": null,
   "metadata": {
    "slideshow": {
     "slide_type": "-"
    }
   },
   "outputs": [],
   "source": [
    "print(type(afmt))"
   ]
  },
  {
   "cell_type": "markdown",
   "metadata": {
    "slideshow": {
     "slide_type": "slide"
    }
   },
   "source": [
    "### 过滤器\n",
    "\n",
    "处理器和记录器会使用过滤器(Filters)来完成更复杂的过滤。使用`logging.Filter`创建过滤器。"
   ]
  },
  {
   "cell_type": "code",
   "execution_count": null,
   "metadata": {},
   "outputs": [],
   "source": [
    "help(logging.Filter)"
   ]
  },
  {
   "cell_type": "markdown",
   "metadata": {
    "slideshow": {
     "slide_type": "slide"
    }
   },
   "source": [
    "### 应用示例\n",
    "\n",
    "下面的示例，会将日志同时输出到文件和屏幕。"
   ]
  },
  {
   "cell_type": "code",
   "execution_count": null,
   "metadata": {},
   "outputs": [],
   "source": [
    "%%writefile demo05.py\n",
    "#!/usr/bin/env python\n",
    "# -*- coding: utf-8 -*-\n",
    "\"\"\"logging demo\"\"\"\n",
    "import logging\n",
    "\n",
    "# get the root logger\n",
    "logger = logging.getLogger()\n",
    "logger.setLevel(logging.DEBUG)\n",
    "\n",
    "# Create a StreamHandler object\n",
    "ch = logging.StreamHandler()\n",
    "# create a Formater object\n",
    "logfmt = '%(asctime)s:%(levelname)s:%(message)s'\n",
    "datefmt = '%Y-%m-%dT%Hh%Mm%Ss'\n",
    "formatter = logging.Formatter(logfmt, datefmt=datefmt)\n",
    "ch.setLevel(logging.INFO)\n",
    "ch.setFormatter(formatter)\n",
    "\n",
    "# create a FileHandler object\n",
    "logfile = 'logging_demo05.log'\n",
    "fh = logging.FileHandler(logfile)\n",
    "# create a Formater object\n",
    "logfmt = '%(asctime)s:%(module)s:%(lineno)d:%(levelname)s:%(message)s'\n",
    "datefmt = '%Y-%m-%dT%Hh%Mm%Ss'\n",
    "formatter = logging.Formatter(logfmt, datefmt=datefmt)\n",
    "fh.setLevel(logging.DEBUG)\n",
    "fh.setFormatter(formatter)\n",
    "\n",
    "# add handlers into logger\n",
    "logger.addHandler(ch)\n",
    "logger.addHandler(fh)\n",
    "\n",
    "logger.debug('logger debug')\n",
    "logger.info('logger info')\n",
    "logger.error('logger error')"
   ]
  },
  {
   "cell_type": "markdown",
   "metadata": {
    "slideshow": {
     "slide_type": "slide"
    }
   },
   "source": [
    "运行示例程序，检查结果文件"
   ]
  },
  {
   "cell_type": "code",
   "execution_count": null,
   "metadata": {
    "slideshow": {
     "slide_type": "-"
    }
   },
   "outputs": [],
   "source": [
    "!python demo05.py"
   ]
  },
  {
   "cell_type": "code",
   "execution_count": null,
   "metadata": {
    "slideshow": {
     "slide_type": "slide"
    }
   },
   "outputs": [],
   "source": [
    "%cat logging_demo05.log"
   ]
  },
  {
   "cell_type": "markdown",
   "metadata": {
    "slideshow": {
     "slide_type": "slide"
    }
   },
   "source": [
    "### 更多日志处理器\n",
    "\n",
    "`Logging`日志处理器还有很多：\n",
    "- `logging.handlers.RotatingFileHandler`,，与`FileHandler`类似，可以管理文件大小。\n",
    "- `logging.handlers.TimedRotatingFileHandler`，与`RotatingFileHandler`类似，根据时间间隔自动创建新的日志文件\n",
    "- `logging.handlers.SocketHandler`，使用TCP协议，将日志信息发送到网络。\n",
    "- `logging.handlers.DatagramHandler`， 使用UDP协议，将日志信息发送到网络。\n",
    "- `logging.handlers.SysLogHandler`，日志输出到syslog\n",
    "- `logging.handlers.NTEventLogHandler`，远程输出日志到Windows的事件日志 \n",
    "- `logging.handlers.SMTPHandler`，远程输出日志到邮件地址\n",
    "- `logging.handlers.MemoryHandler`，日志输出到内存中的制定buffer\n",
    "- `logging.handlers.HTTPHandler`，通过\"GET\"或\"POST\"远程输出到HTTP服务器"
   ]
  },
  {
   "cell_type": "code",
   "execution_count": null,
   "metadata": {
    "slideshow": {
     "slide_type": "slide"
    }
   },
   "outputs": [],
   "source": [
    "handlers = [handler for handler in dir(logging.handlers) if handler.endswith('Handler')]\n",
    "handlers"
   ]
  },
  {
   "cell_type": "markdown",
   "metadata": {
    "slideshow": {
     "slide_type": "slide"
    }
   },
   "source": [
    "## 实战示例\n",
    "\n",
    "下面给出实战程序。"
   ]
  },
  {
   "cell_type": "markdown",
   "metadata": {
    "slideshow": {
     "slide_type": "slide"
    }
   },
   "source": [
    "为了在更多程序中使用定制化日志，可以创建`mylogger`模块"
   ]
  },
  {
   "cell_type": "code",
   "execution_count": null,
   "metadata": {},
   "outputs": [],
   "source": [
    "%%writefile mylogger.py\n",
    "#!/usr/bin/env python\n",
    "# -*- coding: utf-8 -*-\n",
    "\"\"\"My Custom Logging Logger\"\"\"\n",
    "import logging\n",
    "\n",
    "def init_logging(ch_level=logging.WARNING, logfile=None, fh_level=logging.INFO):\n",
    "    \"\"\"init the root logger\"\"\"\n",
    "    # return the root logger\n",
    "    logger = logging.getLogger()\n",
    "    logger.setLevel(logging.DEBUG)\n",
    "\n",
    "    # remove the old handlers\n",
    "    for h in list(logger.handlers):\n",
    "        logger.removeHandler(h)\n",
    "\n",
    "    datefmt = '%Y-%m-%dT%Hh%Mm%Ss'\n",
    "    if ch_level is not None:\n",
    "        # create a Formater object\n",
    "        if ch_level == logging.DEBUG:\n",
    "            logfmt = '%(asctime)s:%(module)s:%(lineno)d:%(levelname)s:%(message)s'\n",
    "        else:\n",
    "            logfmt = '%(asctime)s:%(levelname)s:%(message)s'\n",
    "        formatter = logging.Formatter(logfmt, datefmt=datefmt)\n",
    "\n",
    "        # create a StreamHandler object\n",
    "        ch = logging.StreamHandler()\n",
    "        ch.setLevel(ch_level)\n",
    "        ch.setFormatter(formatter)\n",
    "        logger.addHandler(ch)\n",
    "\n",
    "    if logfile is not None:\n",
    "        # create a Formater object\n",
    "        logfmt = '%(asctime)s:%(module)s:%(lineno)d:%(levelname)s:%(message)s'\n",
    "        formatter = logging.Formatter(logfmt, datefmt=datefmt)\n",
    "        \n",
    "        # createa a FileHandler object\n",
    "        fh = logging.FileHandler(logfile)\n",
    "        fh.setLevel(fh_level)\n",
    "        fh.setFormatter(formatter)\n",
    "        logger.addHandler(fh)\n",
    "\n",
    "    return logger"
   ]
  },
  {
   "cell_type": "markdown",
   "metadata": {
    "slideshow": {
     "slide_type": "slide"
    }
   },
   "source": [
    "创建主程序"
   ]
  },
  {
   "cell_type": "code",
   "execution_count": null,
   "metadata": {
    "slideshow": {
     "slide_type": "slide"
    }
   },
   "outputs": [],
   "source": [
    "%%writefile demo06.py\n",
    "#!/usr/bin/env python\n",
    "# -*- coding: utf-8 -*-\n",
    "\"\"\"logging demo\"\"\"\n",
    "import logging\n",
    "import mylogger\n",
    "\n",
    "\n",
    "def main():\n",
    "    ch_level = logging.DEBUG\n",
    "    logfile = 'logging_demo06.log'\n",
    "    fh_level = logging.INFO\n",
    "    mylogger.init_logging(ch_level, logfile, fh_level)\n",
    "\n",
    "    logging.debug('messages')\n",
    "    logging.info('messages')\n",
    "    logging.error('messages')\n",
    "\n",
    "if __name__ == '__main__':\n",
    "    main()"
   ]
  },
  {
   "cell_type": "code",
   "execution_count": null,
   "metadata": {
    "slideshow": {
     "slide_type": "slide"
    }
   },
   "outputs": [],
   "source": [
    "!python demo06.py"
   ]
  },
  {
   "cell_type": "code",
   "execution_count": null,
   "metadata": {
    "slideshow": {
     "slide_type": "-"
    }
   },
   "outputs": [],
   "source": [
    "%cat logging_demo06.log"
   ]
  }
 ],
 "metadata": {
  "kernelspec": {
   "display_name": "Python 3",
   "language": "python",
   "name": "python3"
  },
  "language_info": {
   "codemirror_mode": {
    "name": "ipython",
    "version": 3
   },
   "file_extension": ".py",
   "mimetype": "text/x-python",
   "name": "python",
   "nbconvert_exporter": "python",
   "pygments_lexer": "ipython3",
   "version": "3.6.4"
  },
  "toc": {
   "base_numbering": 1,
   "nav_menu": {},
   "number_sections": true,
   "sideBar": true,
   "skip_h1_title": false,
   "title_cell": "Table of Contents",
   "title_sidebar": "Contents",
   "toc_cell": false,
   "toc_position": {},
   "toc_section_display": true,
   "toc_window_display": false
  }
 },
 "nbformat": 4,
 "nbformat_minor": 2
}
