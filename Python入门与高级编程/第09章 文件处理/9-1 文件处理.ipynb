{
 "cells": [
  {
   "cell_type": "markdown",
   "metadata": {
    "slideshow": {
     "slide_type": "slide"
    }
   },
   "source": [
    "# 文件读写\n",
    "\n",
    "无论什么编程语言，最后生成的程序，其运行过程大多如下所示：\n",
    "1. 输入  \n",
    "从键盘、硬盘、网络或其它设备获取数据\n",
    "2. 处理  \n",
    "运行各种功能、完成对数据进行处理任务\n",
    "3. 输出  \n",
    "把处理结果在屏幕显示、保存到硬盘，通过网络传送等。"
   ]
  },
  {
   "cell_type": "markdown",
   "metadata": {
    "slideshow": {
     "slide_type": "slide"
    }
   },
   "source": [
    "对于输入输出来说，很多时候都会用硬盘数据永久存储起来。程序永久储存数据的方式有文件和数据库。数据文件是一个简单的方法。"
   ]
  },
  {
   "cell_type": "markdown",
   "metadata": {
    "slideshow": {
     "slide_type": "-"
    }
   },
   "source": [
    "实际上大多数程序都会涉及从硬盘文件中读取数据，最后再保存数据到文件中，这也是把文件读写单独列为一章。对于数据库这种数据持久化方式，可能要单独一本书才可以介绍的更好。"
   ]
  },
  {
   "cell_type": "markdown",
   "metadata": {
    "slideshow": {
     "slide_type": "slide"
    }
   },
   "source": [
    "## 硬盘上的文件\n",
    "\n",
    "在硬盘上的文件存储与管理，以及读写文件的功能是有操作系统提供的。"
   ]
  },
  {
   "cell_type": "markdown",
   "metadata": {
    "slideshow": {
     "slide_type": "slide"
    }
   },
   "source": [
    "### 文件与目录\n",
    "\n",
    "硬盘上的文件是以目录（directory）的形式进行组织管理的，也常常称为文件夹。路径是一个字符串，用来指明一个文件或目录。操作系统不同，路径的表示方法也有所不同。假定有一个包含学生成绩的文件，在不同系统下的路径会是：\n",
    "- Windows系统，`E:\\\\data\\\\scores.csv`\n",
    "- Linux系统，`/home/whwang/data/scores.csv`"
   ]
  },
  {
   "cell_type": "markdown",
   "metadata": {
    "slideshow": {
     "slide_type": "slide"
    }
   },
   "source": [
    "在Python标准库`os`中，提供了很多操作文件和目录的函数，详见标准库章节。"
   ]
  },
  {
   "cell_type": "markdown",
   "metadata": {
    "slideshow": {
     "slide_type": "slide"
    }
   },
   "source": [
    "### 文件格式与编码\n",
    "\n",
    "从本质上讲，硬盘存储的文件都是二进制的。根据编码逻辑，可以把文件分为文本和二进制文件。\n",
    "- 文本文件是基于字符编码，其内容为人类可以阅读的文字。\n",
    "- 二进制文件是基于值编码的文件，应用不同，遵循的编码也不同。"
   ]
  },
  {
   "cell_type": "markdown",
   "metadata": {
    "slideshow": {
     "slide_type": "slide"
    }
   },
   "source": [
    "文本文件常见编码方法包括ASCII、UTF-8、Unicode等编码。参见字符串编码章节。"
   ]
  },
  {
   "cell_type": "markdown",
   "metadata": {
    "slideshow": {
     "slide_type": "-"
    }
   },
   "source": [
    "文本文件可读性强，使用记事本打开。常见的文本文件格式。\n"
   ]
  },
  {
   "cell_type": "markdown",
   "metadata": {
    "slideshow": {
     "slide_type": "slide"
    }
   },
   "source": [
    "二进制文件遵循特定的编码格式，要借助特定工具才能为人认识。常见二进制文件如下所示：\n",
    "- 可执行文件（exe,dll）\n",
    "- 图像文件（bpm、jpg、gif\n",
    "）\n",
    "- 影像文件（mp3,mp4）\n",
    "- office文件（doc, ppt, xls等）"
   ]
  },
  {
   "cell_type": "markdown",
   "metadata": {
    "slideshow": {
     "slide_type": "slide"
    }
   },
   "source": [
    "## `open()`函数\n",
    "\n",
    "磁盘文件的读写功能是由操作系统提供的，在Python中使用`open()`函数向操作系统请求打开一个文件对象（也称为文件描述符）；然后通过文件对象来读取数据，或者写入数据。"
   ]
  },
  {
   "cell_type": "markdown",
   "metadata": {
    "slideshow": {
     "slide_type": "slide"
    }
   },
   "source": [
    "`open()`函数的语法为：\n",
    "```\n",
    "open(file, mode='r', buffering=-1, encoding=None, errors=None, newline=None, closefd=True, opener=None)\n",
    "```\n",
    "其中主要参数为：\n",
    "- `file`，位置参数，指定文件路径名\n",
    "- `mode`，打开文件的模式，缺省是只读模式`rt`\n",
    "- `encoding`，指定文件编码方式"
   ]
  },
  {
   "cell_type": "code",
   "execution_count": 32,
   "metadata": {
    "slideshow": {
     "slide_type": "slide"
    }
   },
   "outputs": [
    {
     "name": "stdout",
     "output_type": "stream",
     "text": [
      "Help on built-in function open in module io:\n",
      "\n",
      "open(file, mode='r', buffering=-1, encoding=None, errors=None, newline=None, closefd=True, opener=None)\n",
      "    Open file and return a stream.  Raise IOError upon failure.\n",
      "    \n",
      "    file is either a text or byte string giving the name (and the path\n",
      "    if the file isn't in the current working directory) of the file to\n",
      "    be opened or an integer file descriptor of the file to be\n",
      "    wrapped. (If a file descriptor is given, it is closed when the\n",
      "    returned I/O object is closed, unless closefd is set to False.)\n",
      "    \n",
      "    mode is an optional string that specifies the mode in which the file\n",
      "    is opened. It defaults to 'r' which means open for reading in text\n",
      "    mode.  Other common values are 'w' for writing (truncating the file if\n",
      "    it already exists), 'x' for creating and writing to a new file, and\n",
      "    'a' for appending (which on some Unix systems, means that all writes\n",
      "    append to the end of the file regardless of the current seek position).\n",
      "    In text mode, if encoding is not specified the encoding used is platform\n",
      "    dependent: locale.getpreferredencoding(False) is called to get the\n",
      "    current locale encoding. (For reading and writing raw bytes use binary\n",
      "    mode and leave encoding unspecified.) The available modes are:\n",
      "    \n",
      "    ========= ===============================================================\n",
      "    Character Meaning\n",
      "    --------- ---------------------------------------------------------------\n",
      "    'r'       open for reading (default)\n",
      "    'w'       open for writing, truncating the file first\n",
      "    'x'       create a new file and open it for writing\n",
      "    'a'       open for writing, appending to the end of the file if it exists\n",
      "    'b'       binary mode\n",
      "    't'       text mode (default)\n",
      "    '+'       open a disk file for updating (reading and writing)\n",
      "    'U'       universal newline mode (deprecated)\n",
      "    ========= ===============================================================\n",
      "    \n",
      "    The default mode is 'rt' (open for reading text). For binary random\n",
      "    access, the mode 'w+b' opens and truncates the file to 0 bytes, while\n",
      "    'r+b' opens the file without truncation. The 'x' mode implies 'w' and\n",
      "    raises an `FileExistsError` if the file already exists.\n",
      "    \n",
      "    Python distinguishes between files opened in binary and text modes,\n",
      "    even when the underlying operating system doesn't. Files opened in\n",
      "    binary mode (appending 'b' to the mode argument) return contents as\n",
      "    bytes objects without any decoding. In text mode (the default, or when\n",
      "    't' is appended to the mode argument), the contents of the file are\n",
      "    returned as strings, the bytes having been first decoded using a\n",
      "    platform-dependent encoding or using the specified encoding if given.\n",
      "    \n",
      "    'U' mode is deprecated and will raise an exception in future versions\n",
      "    of Python.  It has no effect in Python 3.  Use newline to control\n",
      "    universal newlines mode.\n",
      "    \n",
      "    buffering is an optional integer used to set the buffering policy.\n",
      "    Pass 0 to switch buffering off (only allowed in binary mode), 1 to select\n",
      "    line buffering (only usable in text mode), and an integer > 1 to indicate\n",
      "    the size of a fixed-size chunk buffer.  When no buffering argument is\n",
      "    given, the default buffering policy works as follows:\n",
      "    \n",
      "    * Binary files are buffered in fixed-size chunks; the size of the buffer\n",
      "      is chosen using a heuristic trying to determine the underlying device's\n",
      "      \"block size\" and falling back on `io.DEFAULT_BUFFER_SIZE`.\n",
      "      On many systems, the buffer will typically be 4096 or 8192 bytes long.\n",
      "    \n",
      "    * \"Interactive\" text files (files for which isatty() returns True)\n",
      "      use line buffering.  Other text files use the policy described above\n",
      "      for binary files.\n",
      "    \n",
      "    encoding is the name of the encoding used to decode or encode the\n",
      "    file. This should only be used in text mode. The default encoding is\n",
      "    platform dependent, but any encoding supported by Python can be\n",
      "    passed.  See the codecs module for the list of supported encodings.\n",
      "    \n",
      "    errors is an optional string that specifies how encoding errors are to\n",
      "    be handled---this argument should not be used in binary mode. Pass\n",
      "    'strict' to raise a ValueError exception if there is an encoding error\n",
      "    (the default of None has the same effect), or pass 'ignore' to ignore\n",
      "    errors. (Note that ignoring encoding errors can lead to data loss.)\n",
      "    See the documentation for codecs.register or run 'help(codecs.Codec)'\n",
      "    for a list of the permitted encoding error strings.\n",
      "    \n",
      "    newline controls how universal newlines works (it only applies to text\n",
      "    mode). It can be None, '', '\\n', '\\r', and '\\r\\n'.  It works as\n",
      "    follows:\n",
      "    \n",
      "    * On input, if newline is None, universal newlines mode is\n",
      "      enabled. Lines in the input can end in '\\n', '\\r', or '\\r\\n', and\n",
      "      these are translated into '\\n' before being returned to the\n",
      "      caller. If it is '', universal newline mode is enabled, but line\n",
      "      endings are returned to the caller untranslated. If it has any of\n",
      "      the other legal values, input lines are only terminated by the given\n",
      "      string, and the line ending is returned to the caller untranslated.\n",
      "    \n",
      "    * On output, if newline is None, any '\\n' characters written are\n",
      "      translated to the system default line separator, os.linesep. If\n",
      "      newline is '' or '\\n', no translation takes place. If newline is any\n",
      "      of the other legal values, any '\\n' characters written are translated\n",
      "      to the given string.\n",
      "    \n",
      "    If closefd is False, the underlying file descriptor will be kept open\n",
      "    when the file is closed. This does not work when a file name is given\n",
      "    and must be True in that case.\n",
      "    \n",
      "    A custom opener can be used by passing a callable as *opener*. The\n",
      "    underlying file descriptor for the file object is then obtained by\n",
      "    calling *opener* with (*file*, *flags*). *opener* must return an open\n",
      "    file descriptor (passing os.open as *opener* results in functionality\n",
      "    similar to passing None).\n",
      "    \n",
      "    open() returns a file object whose type depends on the mode, and\n",
      "    through which the standard file operations such as reading and writing\n",
      "    are performed. When open() is used to open a file in a text mode ('w',\n",
      "    'r', 'wt', 'rt', etc.), it returns a TextIOWrapper. When used to open\n",
      "    a file in a binary mode, the returned class varies: in read binary\n",
      "    mode, it returns a BufferedReader; in write binary and append binary\n",
      "    modes, it returns a BufferedWriter, and in read/write mode, it returns\n",
      "    a BufferedRandom.\n",
      "    \n",
      "    It is also possible to use a string or bytearray as a file for both\n",
      "    reading and writing. For strings StringIO can be used like a file\n",
      "    opened in a text mode, and for bytes a BytesIO can be used like a file\n",
      "    opened in a binary mode.\n",
      "\n"
     ]
    }
   ],
   "source": [
    "help(open)"
   ]
  },
  {
   "cell_type": "markdown",
   "metadata": {
    "slideshow": {
     "slide_type": "slide"
    }
   },
   "source": [
    "### 打开模式\n",
    "\n",
    "`open`文件的打开模式有如下选项：\n",
    "\n",
    "| 模式  | 操作  | 说明  |\n",
    "|:-----:|:-----:|:------|\t\t\n",
    "| `r` |\t只读\t| 默认模式，打开文件准备读取 |\n",
    "| `w` |\t只写\t| 打开文件准备写入，会先清空文件内容|\n",
    "| `x` |\t新建\t| 新建文件，并打开准备写入，比`w`模式更安全|\n",
    "| `a` |\t追加\t| 打开文件准备写入，如果文件存在，从文件尾追加写入|\n",
    "| `b` |\t二进制模式\t| 以二进制模式操作文件 |\n",
    "| `t` |\t文本文件模式\t| 缺省值，以文本文件操作文件文件 |\n",
    "| `+` |\t读写模式\t| 打开文件准备读写 |"
   ]
  },
  {
   "cell_type": "markdown",
   "metadata": {
    "slideshow": {
     "slide_type": "slide"
    }
   },
   "source": [
    "### 打开文件\n",
    "\n",
    "下面使用只读模式打开磁盘上的文件`assets/scores.csv`。"
   ]
  },
  {
   "cell_type": "code",
   "execution_count": 1,
   "metadata": {
    "slideshow": {
     "slide_type": "slide"
    }
   },
   "outputs": [],
   "source": [
    "filename = 'scores.csv' \n",
    "fh = open(filename)"
   ]
  },
  {
   "cell_type": "code",
   "execution_count": null,
   "metadata": {},
   "outputs": [],
   "source": []
  },
  {
   "cell_type": "markdown",
   "metadata": {
    "collapsed": true,
    "slideshow": {
     "slide_type": "slide"
    }
   },
   "source": [
    "`open()`函数会返回一个文件对象。如果文件不存在会引起`FileNotFoundError`的异常。"
   ]
  },
  {
   "cell_type": "code",
   "execution_count": 2,
   "metadata": {
    "slideshow": {
     "slide_type": "-"
    }
   },
   "outputs": [
    {
     "ename": "FileNotFoundError",
     "evalue": "[Errno 2] No such file or directory: 'unknownfile.txt'",
     "output_type": "error",
     "traceback": [
      "\u001b[1;31m---------------------------------------------------------------------------\u001b[0m",
      "\u001b[1;31mFileNotFoundError\u001b[0m                         Traceback (most recent call last)",
      "\u001b[1;32m<ipython-input-2-16a035428e07>\u001b[0m in \u001b[0;36m<module>\u001b[1;34m()\u001b[0m\n\u001b[0;32m      1\u001b[0m \u001b[0mfilename\u001b[0m \u001b[1;33m=\u001b[0m \u001b[1;34m'unknownfile.txt'\u001b[0m\u001b[1;33m\u001b[0m\u001b[0m\n\u001b[1;32m----> 2\u001b[1;33m \u001b[0mfh\u001b[0m \u001b[1;33m=\u001b[0m \u001b[0mopen\u001b[0m\u001b[1;33m(\u001b[0m\u001b[0mfilename\u001b[0m\u001b[1;33m)\u001b[0m\u001b[1;33m\u001b[0m\u001b[0m\n\u001b[0m",
      "\u001b[1;31mFileNotFoundError\u001b[0m: [Errno 2] No such file or directory: 'unknownfile.txt'"
     ]
    }
   ],
   "source": [
    "filename = 'unknownfile.txt'\n",
    "fh = open(filename)"
   ]
  },
  {
   "cell_type": "markdown",
   "metadata": {
    "slideshow": {
     "slide_type": "slide"
    }
   },
   "source": [
    "为此，在读写文件通常使用异常处理。"
   ]
  },
  {
   "cell_type": "code",
   "execution_count": 4,
   "metadata": {
    "slideshow": {
     "slide_type": "slide"
    }
   },
   "outputs": [
    {
     "name": "stdout",
     "output_type": "stream",
     "text": [
      "[Errno 2] No such file or directory: 'unknownfile.txt'\n"
     ]
    }
   ],
   "source": [
    "try:\n",
    "    filename = 'unknownfile.txt'\n",
    "    fh = open(filename)\n",
    "except FileNotFoundError as e:\n",
    "    print('{}'.format(e))    "
   ]
  },
  {
   "cell_type": "markdown",
   "metadata": {
    "slideshow": {
     "slide_type": "slide"
    }
   },
   "source": [
    "文件打开成功，会进行文件的读取操作，最后需要调用文件对象的`close()`方法来关闭文件。可以使用`try...except...finally`语句来实现，最后都能正确地关闭文件。不过在Python中，可以使用`with`语句更简洁实现该功能。"
   ]
  },
  {
   "cell_type": "code",
   "execution_count": 5,
   "metadata": {
    "slideshow": {
     "slide_type": "slide"
    }
   },
   "outputs": [],
   "source": [
    "try:\n",
    "    filename = 'assets/scores.csv' \n",
    "    with open(filename) as fh:\n",
    "        pass\n",
    "except FileNotFoundError as e:\n",
    "    print('{}'.format(e))        "
   ]
  },
  {
   "cell_type": "markdown",
   "metadata": {
    "slideshow": {
     "slide_type": "slide"
    }
   },
   "source": [
    "## 文件对象\n",
    "\n",
    "`open()`函数打开文件，会返回一个文件对象，使用该文件对象可以实现数据的读取和写入。"
   ]
  },
  {
   "cell_type": "markdown",
   "metadata": {
    "slideshow": {
     "slide_type": "slide"
    }
   },
   "source": [
    "使用内置函数`type`查看对象："
   ]
  },
  {
   "cell_type": "code",
   "execution_count": 3,
   "metadata": {
    "slideshow": {
     "slide_type": "slide"
    }
   },
   "outputs": [
    {
     "name": "stdout",
     "output_type": "stream",
     "text": [
      "<class '_io.TextIOWrapper'>\n"
     ]
    }
   ],
   "source": [
    "filename = 'scores.csv' \n",
    "fh = open(filename)\n",
    "\n",
    "print(type(fh))"
   ]
  },
  {
   "cell_type": "markdown",
   "metadata": {
    "slideshow": {
     "slide_type": "slide"
    }
   },
   "source": [
    "### 属性和方法"
   ]
  },
  {
   "cell_type": "markdown",
   "metadata": {
    "slideshow": {
     "slide_type": "-"
    }
   },
   "source": [
    "#### 常用属性\n",
    "\n",
    "| 方法  |  说明       |\t\n",
    "|:------|:---------------|\n",
    "|`f.buffer`| 关闭文件。关闭后文件不能再进行读写操作。|\n",
    "|`f.flush`| 刷新文件内部缓冲，直接把内部缓冲区的数据立刻写入文件, 而不是被动的等待输出缓冲区写入。。|\n",
    "|`f.encoding`| 返回一个整型的文件描述符(file descriptor FD 整型), 可以用在如os模块的read方法等一些底层操作上。。|\n",
    "|`f.line_buffering`| 如果文件连接到一个终端设备返回 True，否则返回 False。。|\n",
    "|`f.name`| 返回文件下一行。。|\n",
    "|`f.newlines`| 从文件读取指定的字节数，如果未给定或为负则读取所有。|"
   ]
  },
  {
   "cell_type": "code",
   "execution_count": 4,
   "metadata": {
    "slideshow": {
     "slide_type": "slide"
    }
   },
   "outputs": [
    {
     "name": "stdout",
     "output_type": "stream",
     "text": [
      "<_io.BufferedReader name='scores.csv'>\n",
      "False\n",
      "cp936\n",
      "False\n",
      "scores.csv\n",
      "None\n"
     ]
    }
   ],
   "source": [
    "print(fh.buffer)\n",
    "print(fh.closed)\n",
    "print(fh.encoding)\n",
    "print(fh.line_buffering)\n",
    "print(fh.name)\n",
    "print(fh.newlines)"
   ]
  },
  {
   "cell_type": "markdown",
   "metadata": {
    "slideshow": {
     "slide_type": "slide"
    }
   },
   "source": [
    "#### 常用方法\n",
    "\n",
    "| 方法  |  说明       |\t\n",
    "|:------|:---------------|\n",
    "|`f.close()`| 关闭文件。关闭后文件不能再进行读写操作。|\n",
    "|`f.flush()`| 刷新文件内部缓冲，直接把内部缓冲区的数据立刻写入文件, 而不是被动的等待输出缓冲区写入。。|\n",
    "|`f.fileno()`| 返回一个整型的文件描述符(file descriptor FD 整型), 可以用在如os模块的read方法等一些底层操作上。。|\n",
    "|`f.isatty()`| 如果文件连接到一个终端设备返回 True，否则返回 False。。|\n",
    "|`f.next()`| 返回文件下一行。。|\n",
    "|`f.read()`| 从文件读取指定的字节数，如果未给定或为负则读取所有。|\n",
    "|`f.readline()`| 读取整行，包括 \"\\n\" 字符。|\n",
    "|`f.readlines()`| 读取所有行并返回列表，若给定sizeint>0，返回总和大约为sizeint字节的行, 实际读取值可能比 sizeint 较大, 因为需要填充缓冲区。|\n",
    "|`f.seek()`| 设置文件当前位置|\n",
    "|`f.tell()`| 返回文件当前位置。|\n",
    "|`f.truncate([size])`| 从文件的首行首字符开始截断，截断文件为 size 个字符，无 size 表示从当前位置截断；截断之后后面的所有字符被删除，其中 Widnows 系统下的换行代表2个字符大小。|\n",
    "|`f.write()`| 将字符串写入文件，返回的是写入的字符长度。|\n",
    "|`f.writelines()`| 向文件写入一个序列字符串列表，如果需要换行则要自己加入每行的换行符。|"
   ]
  },
  {
   "cell_type": "markdown",
   "metadata": {
    "slideshow": {
     "slide_type": "slide"
    }
   },
   "source": [
    "### 方法示例"
   ]
  },
  {
   "cell_type": "markdown",
   "metadata": {
    "slideshow": {
     "slide_type": "-"
    }
   },
   "source": [
    "** 读取文件 **\n",
    "\n",
    "* `f.read()`  \n",
    "读取字节\n",
    "\n",
    "* `f.readline()`  \n",
    "读取一行\n",
    "\n",
    "* `f.readlines()`  \n",
    "读取所有行"
   ]
  },
  {
   "cell_type": "markdown",
   "metadata": {
    "slideshow": {
     "slide_type": "slide"
    }
   },
   "source": [
    "** 写入文件**\n",
    "\n",
    "* `f.write()`\n",
    "* `f.writelines()`"
   ]
  },
  {
   "cell_type": "markdown",
   "metadata": {
    "slideshow": {
     "slide_type": "slide"
    }
   },
   "source": [
    "** 其他辅助函数 **\n",
    "\n",
    "* `f.seek()`\n",
    "* `f.tell()`\n",
    "* `f.flush()`"
   ]
  },
  {
   "cell_type": "code",
   "execution_count": 5,
   "metadata": {
    "slideshow": {
     "slide_type": "slide"
    }
   },
   "outputs": [
    {
     "name": "stdout",
     "output_type": "stream",
     "text": [
      "Number   Name            Chinese    Math     Python\n",
      "1        FengHaotong     80.0       90.0      62.0\n",
      "2        CuiYuzhu        90.0       88.0      64.0\n",
      "3        Shilingling     70.0       82.0      66.0\n",
      "4        LiuZiang        60.0       76.0      68.0\n"
     ]
    }
   ],
   "source": [
    "filename = 'scores.csv' \n",
    "fh = open(filename)\n",
    "text = fh.read()\n",
    "print(text)\n",
    "fh.close()"
   ]
  },
  {
   "cell_type": "code",
   "execution_count": 6,
   "metadata": {
    "slideshow": {
     "slide_type": "slide"
    }
   },
   "outputs": [
    {
     "name": "stdout",
     "output_type": "stream",
     "text": [
      "Number   Name            Chinese    Math     Python\n",
      "\n",
      "1        FengHaotong     80.0       90.0      62.0\n",
      "\n"
     ]
    }
   ],
   "source": [
    "filename = 'scores.csv' \n",
    "fh = open(filename)\n",
    "line = fh.readline()\n",
    "print(line)\n",
    "line = fh.readline()\n",
    "print(line)\n",
    "fh.close()"
   ]
  },
  {
   "cell_type": "code",
   "execution_count": 7,
   "metadata": {
    "slideshow": {
     "slide_type": "slide"
    }
   },
   "outputs": [
    {
     "name": "stdout",
     "output_type": "stream",
     "text": [
      "Number   Name            Chinese    Math     Python\n",
      "\n",
      "4        LiuZiang        60.0       76.0      68.0\n"
     ]
    }
   ],
   "source": [
    "filename = 'scores.csv' \n",
    "fh = open(filename)\n",
    "lines = fh.readlines()\n",
    "print(lines[0])\n",
    "print(lines[-1])\n",
    "fh.close()"
   ]
  },
  {
   "cell_type": "markdown",
   "metadata": {
    "slideshow": {
     "slide_type": "slide"
    }
   },
   "source": [
    "## 示例-学生成绩单统计\n",
    "\n",
    "学生成绩单保存在`scores.csv`文件里，每个学生一行，每行有学号，姓名，语文成绩，数学成绩，Python成绩，各栏目间用空格分隔。\n",
    "\n",
    "要求统计每个学生的三科总分，并打印出来。"
   ]
  },
  {
   "cell_type": "markdown",
   "metadata": {
    "slideshow": {
     "slide_type": "slide"
    }
   },
   "source": [
    "基本过程：\n",
    "- 从scores.csv里读取学生成绩单；\n",
    "- 统计三科总分（各科成绩均为浮点数）\n",
    "- 打印结果"
   ]
  },
  {
   "cell_type": "code",
   "execution_count": 12,
   "metadata": {
    "slideshow": {
     "slide_type": "slide"
    }
   },
   "outputs": [
    {
     "name": "stdout",
     "output_type": "stream",
     "text": [
      "1 FengHaotong 232.0\n",
      "2 CuiYuzhu 242.0\n",
      "3 Shilingling 218.0\n",
      "4 LiuZiang 204.0\n"
     ]
    }
   ],
   "source": [
    "try:\n",
    "    filename = 'assets/scores.csv' \n",
    "    with open(filename) as fh:\n",
    "        # read the first line\n",
    "        line = fh.readline()\n",
    "        # read the data lines\n",
    "        for line in fh.readlines():\n",
    "            words = line.split()\n",
    "            student_number = int(words[0])\n",
    "            name = words[1]\n",
    "            chinese = float(words[2])\n",
    "            math = float(words[3])\n",
    "            python = float(words[4])\n",
    "            total = chinese + math + python\n",
    "            print(student_number, name, total)\n",
    "except FileNotFoundError as e:\n",
    "    print('{}'.format(e))        "
   ]
  },
  {
   "cell_type": "markdown",
   "metadata": {
    "collapsed": true,
    "slideshow": {
     "slide_type": "slide"
    }
   },
   "source": [
    "## 应用\n",
    "\n",
    "* 打开`scores.csv`，并读取文件；\n",
    "* 对每一行进行解析，统计总分；\n",
    "* 打开`scores.done.csv'`，并写入"
   ]
  },
  {
   "cell_type": "code",
   "execution_count": 13,
   "metadata": {
    "slideshow": {
     "slide_type": "slide"
    }
   },
   "outputs": [],
   "source": [
    "%more assets/scores.csv"
   ]
  },
  {
   "cell_type": "code",
   "execution_count": 14,
   "metadata": {
    "slideshow": {
     "slide_type": "slide"
    }
   },
   "outputs": [
    {
     "name": "stdout",
     "output_type": "stream",
     "text": [
      "Writing sumscore.py\n"
     ]
    }
   ],
   "source": [
    "%%writefile sumscore.py\n",
    "# Open the input and output file\n",
    "inpfile = 'assets/scores.csv'\n",
    "outfile = 'assets/scores.done.csv'\n",
    "\n",
    "with open(inpfile, 'r') as inpfh, open(outfile, 'w') as outfh:\n",
    "    # the first line\n",
    "    headline = inpfh.readline()\n",
    "    s = '{0}   total\\n'.format(headline.strip())\n",
    "    outfh.write(s)\n",
    "\n",
    "    # for data lines\n",
    "    s = '{0:>4}   {1:<16}  {2:4.1f}  {3:4.1f}  {4:4.1f}  {5:4.1f}\\n'\n",
    "    for line in inpfh:\n",
    "        words = line.split()\n",
    "        studentNumber = int(words[0])\n",
    "        name = words[1]\n",
    "        chinese = float(words[2])\n",
    "        math = float(words[3])\n",
    "        python = float(words[4])\n",
    "        total = chinese + math + python\n",
    "        outline = s.format(studentNumber, name, chinese, math, python, total)\n",
    "        outfh.write(outline)"
   ]
  },
  {
   "cell_type": "code",
   "execution_count": 15,
   "metadata": {
    "slideshow": {
     "slide_type": "slide"
    }
   },
   "outputs": [],
   "source": [
    "%run sumscore.py"
   ]
  },
  {
   "cell_type": "code",
   "execution_count": 16,
   "metadata": {
    "slideshow": {
     "slide_type": "-"
    }
   },
   "outputs": [],
   "source": [
    "%more assets/scores.done.csv"
   ]
  },
  {
   "cell_type": "markdown",
   "metadata": {
    "slideshow": {
     "slide_type": "slide"
    }
   },
   "source": [
    "## 常用文件格式及其对应库\n",
    "\n",
    "- 文本文件\n",
    "- 二进制文件"
   ]
  },
  {
   "cell_type": "markdown",
   "metadata": {
    "slideshow": {
     "slide_type": "slide"
    }
   },
   "source": [
    "### 文本文件格式\n",
    "\n",
    "- CSV文件 （csv）\n",
    "- INI文件 （configparser）\n",
    "- yaml （pyyaml）\n",
    "- JSON文件（json）\n",
    "- HTML （lxml）"
   ]
  },
  {
   "cell_type": "markdown",
   "metadata": {
    "slideshow": {
     "slide_type": "slide"
    }
   },
   "source": [
    "### 二进制文件格式\n",
    "\n",
    "- excel （pandas, openpyxl）\n",
    "- doc （python-docx）\n",
    "- pdf （pdfminer）"
   ]
  }
 ],
 "metadata": {
  "celltoolbar": "Slideshow",
  "kernelspec": {
   "display_name": "Python 3",
   "language": "python",
   "name": "python3"
  },
  "language_info": {
   "codemirror_mode": {
    "name": "ipython",
    "version": 3
   },
   "file_extension": ".py",
   "mimetype": "text/x-python",
   "name": "python",
   "nbconvert_exporter": "python",
   "pygments_lexer": "ipython3",
   "version": "3.6.4"
  },
  "toc": {
   "base_numbering": 1,
   "nav_menu": {},
   "number_sections": true,
   "sideBar": true,
   "skip_h1_title": false,
   "title_cell": "Table of Contents",
   "title_sidebar": "Contents",
   "toc_cell": false,
   "toc_position": {},
   "toc_section_display": true,
   "toc_window_display": false
  }
 },
 "nbformat": 4,
 "nbformat_minor": 1
}
