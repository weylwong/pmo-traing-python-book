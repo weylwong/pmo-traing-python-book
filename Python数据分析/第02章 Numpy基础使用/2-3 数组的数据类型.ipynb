{
 "cells": [
  {
   "cell_type": "markdown",
   "metadata": {
    "slideshow": {
     "slide_type": "slide"
    }
   },
   "source": [
    "# 数组中的数据类型\n",
    "\n",
    "数组（`ndarray`）对象是同质结构类型，也就是说数组中的元素是同一类型。数组（`ndarray`）对象是可变结构类型，可以更改其元素类型。"
   ]
  },
  {
   "cell_type": "code",
   "execution_count": 4,
   "metadata": {},
   "outputs": [],
   "source": [
    "import numpy as np\n",
    "import matplotlib.pyplot as plt\n",
    "%matplotlib inline"
   ]
  },
  {
   "cell_type": "markdown",
   "metadata": {
    "slideshow": {
     "slide_type": "slide"
    }
   },
   "source": [
    "## 元素类型\n",
    "\n",
    "Python 有如下内置数据类型：\n",
    "- 数值型\n",
    "    - 整数（int）\n",
    "    - 布尔数（bool）\n",
    "    - 浮点数（float）\n",
    "    - 复数（complex）\n",
    "- 字符串（str）\n",
    "- 空（NoneType）\n",
    "\n",
    "NumPy 的数组对象支持的数据类型则要多得多，如下所示：\n",
    "\n",
    "| 类型        | 代码   |  说明|\n",
    "|:------------|:------|:------|\n",
    "|int8、uint8   |i1、u1 |有符号和无符号整型（1字节） |\n",
    "|int16、uint16 |i2、u2 |有符号和无符号整型（2字节） |\n",
    "|int32、uint32 |i4、u4 |有符号和无符号整型（4字节） |\n",
    "|int64、uint64 |i8、u8 |有符号和无符号整型（8字节） |\n",
    "|float16       |f2     |半精度浮点数 |\n",
    "|float32       |f4、f  |单精度浮点数 |\n",
    "|float64       |f8、d  |双精度浮点数 |\n",
    "|float128      |f16、g |扩展精度浮点数  |\n",
    "|complex64     |c8     |分别用两个32位表示的复数 |\n",
    "|complex128    |c16    |分别用两个64位表示的复数 |\n",
    "|complex256    |c32    |分别用两个128位表示的复数 |\n",
    "|`bool_`      |?      |布尔型  |\n",
    "|`object_`      |O      |python对象  |\n",
    "|`str_`        |Sn     |固定长度字符串，每个字符1字节，如S8  |\n",
    "|`unicode`     |Un     |固定长度Unicode，字节数由系统决定，如U8 |\n",
    "|`datetime64`   |     |日期|\n",
    "|`timedelta64`   |     |日期差|\n"
   ]
  },
  {
   "cell_type": "markdown",
   "metadata": {
    "slideshow": {
     "slide_type": "-"
    }
   },
   "source": [
    "数组对象的属性`dtype`用来指明其元素的数据类型，其值为`numpy.dtype`对象。例如如下数组对象："
   ]
  },
  {
   "cell_type": "code",
   "execution_count": 5,
   "metadata": {},
   "outputs": [],
   "source": [
    "ai32 = np.array([1, 2, 3, 4], dtype=np.int32)\n",
    "af = np.array([1, 2, 3, 4], dtype=float)\n",
    "ac = np.array([1, 2, 3, 4], dtype=complex)"
   ]
  },
  {
   "cell_type": "code",
   "execution_count": 6,
   "metadata": {},
   "outputs": [
    {
     "name": "stdout",
     "output_type": "stream",
     "text": [
      "int32 float64 complex128\n"
     ]
    }
   ],
   "source": [
    "print(ai32.dtype, af.dtype, ac.dtype)"
   ]
  },
  {
   "cell_type": "markdown",
   "metadata": {
    "slideshow": {
     "slide_type": "slide"
    }
   },
   "source": [
    "在`np.typeDict`字典中存储了字符串和类型的对应关系，从中可以获得NumPy支持的数据类型："
   ]
  },
  {
   "cell_type": "code",
   "execution_count": 24,
   "metadata": {
    "slideshow": {
     "slide_type": "-"
    }
   },
   "outputs": [
    {
     "data": {
      "text/plain": [
       "{numpy.bool_,\n",
       " numpy.bytes_,\n",
       " numpy.complex128,\n",
       " numpy.complex256,\n",
       " numpy.complex64,\n",
       " numpy.datetime64,\n",
       " numpy.float128,\n",
       " numpy.float16,\n",
       " numpy.float32,\n",
       " numpy.float64,\n",
       " numpy.int16,\n",
       " numpy.int32,\n",
       " numpy.int64,\n",
       " numpy.int64,\n",
       " numpy.int8,\n",
       " numpy.object_,\n",
       " numpy.str_,\n",
       " numpy.timedelta64,\n",
       " numpy.uint16,\n",
       " numpy.uint32,\n",
       " numpy.uint64,\n",
       " numpy.uint64,\n",
       " numpy.uint8,\n",
       " numpy.void}"
      ]
     },
     "execution_count": 24,
     "metadata": {},
     "output_type": "execute_result"
    }
   ],
   "source": [
    "set(np.typeDict.values())"
   ]
  },
  {
   "cell_type": "markdown",
   "metadata": {
    "slideshow": {
     "slide_type": "slide"
    }
   },
   "source": [
    "与`np.float64`数据类型对应的字符串包括："
   ]
  },
  {
   "cell_type": "code",
   "execution_count": 33,
   "metadata": {
    "slideshow": {
     "slide_type": "-"
    }
   },
   "outputs": [
    {
     "data": {
      "text/plain": [
       "['double', 'd', 12, 'float64', 'Float64', 'f8', 'float_', 'float']"
      ]
     },
     "execution_count": 33,
     "metadata": {},
     "output_type": "execute_result"
    }
   ],
   "source": [
    "[key for key, value in np.typeDict.items() if value is np.float64]"
   ]
  },
  {
   "cell_type": "markdown",
   "metadata": {
    "slideshow": {
     "slide_type": "slide"
    }
   },
   "source": [
    "## 整数溢出\n",
    "\n",
    "> 注意：Python内置的整数不存在溢出问题，而`np.int16`等整数类型、浮点数会存在溢出问题。"
   ]
  },
  {
   "cell_type": "code",
   "execution_count": 7,
   "metadata": {
    "slideshow": {
     "slide_type": "-"
    }
   },
   "outputs": [
    {
     "name": "stdout",
     "output_type": "stream",
     "text": [
      "<class 'int'> <class 'numpy.int16'>\n"
     ]
    }
   ],
   "source": [
    "a = np.int16(200)\n",
    "print(type(200), type(a))"
   ]
  },
  {
   "cell_type": "code",
   "execution_count": 8,
   "metadata": {
    "slideshow": {
     "slide_type": "slide"
    }
   },
   "outputs": [
    {
     "name": "stderr",
     "output_type": "stream",
     "text": [
      "C:\\Anaconda3\\lib\\site-packages\\ipykernel_launcher.py:1: RuntimeWarning: overflow encountered in short_scalars\n",
      "  \"\"\"Entry point for launching an IPython kernel.\n"
     ]
    },
    {
     "data": {
      "text/plain": [
       "(40000, -25536)"
      ]
     },
     "execution_count": 8,
     "metadata": {},
     "output_type": "execute_result"
    }
   ],
   "source": [
    "200* 200, a * a"
   ]
  },
  {
   "cell_type": "code",
   "execution_count": 9,
   "metadata": {
    "slideshow": {
     "slide_type": "-"
    }
   },
   "outputs": [
    {
     "ename": "OverflowError",
     "evalue": "Python int too large to convert to C long",
     "output_type": "error",
     "traceback": [
      "\u001b[1;31m---------------------------------------------------------------------------\u001b[0m",
      "\u001b[1;31mOverflowError\u001b[0m                             Traceback (most recent call last)",
      "\u001b[1;32m<ipython-input-9-e843d5929586>\u001b[0m in \u001b[0;36m<module>\u001b[1;34m()\u001b[0m\n\u001b[0;32m      1\u001b[0m \u001b[0marr1\u001b[0m \u001b[1;33m=\u001b[0m \u001b[0mnp\u001b[0m\u001b[1;33m.\u001b[0m\u001b[0marray\u001b[0m\u001b[1;33m(\u001b[0m\u001b[1;33m[\u001b[0m\u001b[1;36m1\u001b[0m\u001b[1;33m,\u001b[0m \u001b[1;36m2\u001b[0m\u001b[1;33m,\u001b[0m \u001b[1;36m3\u001b[0m\u001b[1;33m]\u001b[0m\u001b[1;33m)\u001b[0m\u001b[1;33m\u001b[0m\u001b[0m\n\u001b[1;32m----> 2\u001b[1;33m \u001b[0marr1\u001b[0m\u001b[1;33m[\u001b[0m\u001b[1;36m0\u001b[0m\u001b[1;33m]\u001b[0m \u001b[1;33m=\u001b[0m \u001b[1;36m10\u001b[0m \u001b[1;33m**\u001b[0m \u001b[1;36m100\u001b[0m\u001b[1;33m\u001b[0m\u001b[0m\n\u001b[0m",
      "\u001b[1;31mOverflowError\u001b[0m: Python int too large to convert to C long"
     ]
    }
   ],
   "source": [
    "arr1 = np.array([1, 2, 3])\n",
    "arr1[0] = 10 ** 100"
   ]
  }
 ],
 "metadata": {
  "celltoolbar": "Slideshow",
  "kernelspec": {
   "display_name": "Python 3",
   "language": "python",
   "name": "python3"
  },
  "language_info": {
   "codemirror_mode": {
    "name": "ipython",
    "version": 3
   },
   "file_extension": ".py",
   "mimetype": "text/x-python",
   "name": "python",
   "nbconvert_exporter": "python",
   "pygments_lexer": "ipython3",
   "version": "3.6.4"
  },
  "toc": {
   "base_numbering": 1,
   "nav_menu": {},
   "number_sections": true,
   "sideBar": true,
   "skip_h1_title": false,
   "title_cell": "Table of Contents",
   "title_sidebar": "Contents",
   "toc_cell": false,
   "toc_position": {
    "height": "calc(100% - 180px)",
    "left": "10px",
    "top": "150px",
    "width": "196px"
   },
   "toc_section_display": true,
   "toc_window_display": true
  }
 },
 "nbformat": 4,
 "nbformat_minor": 2
}
