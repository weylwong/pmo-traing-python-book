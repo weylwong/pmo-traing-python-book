{
 "cells": [
  {
   "cell_type": "markdown",
   "metadata": {
    "slideshow": {
     "slide_type": "slide"
    }
   },
   "source": [
    "# 数组对象的文件操作\n",
    "\n",
    "本节介绍如何将数组（ndarray）对象保存到文件中去，以及如何读取文件数到数组（ndarray）对象。"
   ]
  },
  {
   "cell_type": "code",
   "execution_count": null,
   "metadata": {
    "slideshow": {
     "slide_type": "-"
    }
   },
   "outputs": [],
   "source": [
    "import numpy as np\n",
    "import matplotlib.pyplot as plt\n",
    "%matplotlib inline"
   ]
  },
  {
   "cell_type": "markdown",
   "metadata": {},
   "source": [
    "## 二进制文件\n",
    "\n",
    "如下函数可以实现 Numpy 读取与写入二进制文件：\n",
    "- `np.save()`，保存单个数组对象到到一个文件(`.npy`)；\n",
    "- `np.savez()`，保存多个数组对象到一个文件(`.npz`)；\n",
    "- `np.savez_compressed()`，保存多个数组对象到一个文件(`.npz`)，并进行压缩；\n",
    "- `np.load()`，读取二进制文件。"
   ]
  },
  {
   "cell_type": "markdown",
   "metadata": {},
   "source": [
    "### `np.save()`\n",
    "\n",
    "保存单个数组对象到到一个文件(`.npy`)，其调用语法为：\n",
    "```python\n",
    "np.save(file, arr, allow_pickle=True, fix_imports=True)\n",
    "```\n",
    "其中主要参数说明：\n",
    "- `allow_pickle`：允许使用`pickle`的方式来保存对象。出于安全性和兼容性的考虑，会禁用pickle\n",
    "    - 安全性：加载一个`pickle`的数据时，会执行其中保存的任何代码\n",
    "    - 兼容性：`pickle`对象对版本有要求，不同版本的`python`不兼容"
   ]
  },
  {
   "cell_type": "code",
   "execution_count": null,
   "metadata": {},
   "outputs": [],
   "source": [
    "# 保存单个array\n",
    "arr1 = np.array([[1,2,3], [4,5,6]])\n",
    "np.save('arr1.npy', arr1)"
   ]
  },
  {
   "cell_type": "code",
   "execution_count": null,
   "metadata": {},
   "outputs": [],
   "source": [
    "%ls arr1.npy"
   ]
  },
  {
   "cell_type": "markdown",
   "metadata": {},
   "source": [
    "### `np.savez()`\n",
    "\n",
    "保存多个数组对象到一个文件(`.npz`)，其调用语法为：\n",
    "```python\n",
    "np.savez(file, *args, **kwds)\n",
    "```\n",
    "其中主要参数说明：\n",
    "- `args`：不定位置参数，以列表参数的方式指定要保存的数组对象\n",
    "- `kwargs`：不定关键字参数，以命名参数的方式指定数组对象"
   ]
  },
  {
   "cell_type": "code",
   "execution_count": null,
   "metadata": {},
   "outputs": [],
   "source": [
    "# 保存多个array\n",
    "arr_x = np.array([1, 2, 3])\n",
    "arr_y = np.array(['a', 'b', 'c'])\n",
    "np.savez('arr_x_y.npz', arr_x, arr_y)"
   ]
  },
  {
   "cell_type": "code",
   "execution_count": null,
   "metadata": {},
   "outputs": [],
   "source": [
    "%ls arr_x_y.npz"
   ]
  },
  {
   "cell_type": "markdown",
   "metadata": {},
   "source": [
    "### `np.load()`\n",
    "\n",
    "`np.load()`可以读`.npy`和`.npz`文件，读取`.npy`文件直接返回数组；读取`.npz`文件返回一个`NpzFile`对象，通过其方法`keys()`查看包含的数组。其调用语法为：\n",
    "```python\n",
    "np.load(file, mmap_mode=None, allow_pickle=True, fix_imports=True, encoding='ASCII')\n",
    "```\n",
    "其中参数说明：\n",
    "- `fname`：文件名，如果以.gz或.bz2结尾则自动解压\n",
    "- `mmap_mode`：可选值{None, 'r+', 'r', 'w+', 'c'}。如果不是None，则会用指定的模式把内存块映射为一个file对象。可以实现访问array中的一部分而不用把整个array导入内存\n",
    "- `fix_import`：仅在使用 python3 来读取 python2 生成的含 pickle 对象的文件时有用\n",
    "- `encoding`：仅使用 python3 来读取 python2 生成的含 pickle 对象的文件时有用，可选值有{'latin1', 'ASCII', 'bytes'}"
   ]
  },
  {
   "cell_type": "code",
   "execution_count": null,
   "metadata": {},
   "outputs": [],
   "source": [
    "# 读取\n",
    "rarr1 = np.load('arr1.npy')\n",
    "rarr1"
   ]
  },
  {
   "cell_type": "code",
   "execution_count": null,
   "metadata": {},
   "outputs": [],
   "source": [
    "# 读取\n",
    "with np.load('arr_x_y.npz') as data:\n",
    "    print(data.keys())\n",
    "    rx = data['arr_0']\n",
    "    ry = data['arr_1']\n",
    "    \n",
    "print(rx, ry)"
   ]
  },
  {
   "cell_type": "markdown",
   "metadata": {
    "slideshow": {
     "slide_type": "slide"
    }
   },
   "source": [
    "## 文本文件\n",
    "\n",
    "如下函数可以实现 Numpy 读取与写入文本文件：\n",
    "- `np.loadtxt()`\n",
    "- `np.savetxt()`"
   ]
  },
  {
   "cell_type": "markdown",
   "metadata": {
    "slideshow": {
     "slide_type": "slide"
    }
   },
   "source": [
    "### `np.loadtxt()`\n",
    "\n",
    "`np.loadtxt()`函数可以从文件中读取数据：\n",
    "```\n",
    "np.loadtxt(fname, dtype=<class 'float'>, comments='#', delimiter=None, \n",
    "           converters=None, skiprows=0, usecols=None, unpack=False, ndmin=0)\n",
    "```\n",
    "其中参数说明：\n",
    "- `fname`：文件名，如果以.gz或.bz2结尾则自动解压\n",
    "- `dtype`：数据类型\n",
    "- `comments`：注释\n",
    "- `delimiter`：分隔符，默认为空格\n",
    "- `converter`：转换函数字典，通过以列下标为key，为每列定义一个转换函数\n",
    "- `skiprows`：跳过开头的若干行\n",
    "- `usecols`：保留指定的列，下标从0开始\n",
    "- `unpack`：如果为True，可以用变量捕获每一列\n",
    "- `ndmin`：最小的维数"
   ]
  },
  {
   "cell_type": "markdown",
   "metadata": {
    "slideshow": {
     "slide_type": "slide"
    }
   },
   "source": [
    "例如从csv文件读取股价数据："
   ]
  },
  {
   "cell_type": "code",
   "execution_count": null,
   "metadata": {
    "slideshow": {
     "slide_type": "-"
    }
   },
   "outputs": [],
   "source": [
    "datafile = 'assets/goog.csv'\n",
    "\n",
    "c, v = np.loadtxt(datafile, delimiter=',', skiprows=1, usecols=(6,5), unpack=True)"
   ]
  },
  {
   "cell_type": "code",
   "execution_count": null,
   "metadata": {
    "slideshow": {
     "slide_type": "slide"
    }
   },
   "outputs": [],
   "source": [
    "c, v"
   ]
  },
  {
   "cell_type": "markdown",
   "metadata": {
    "slideshow": {
     "slide_type": "slide"
    }
   },
   "source": [
    "下面计算如下内容：\n",
    "- 计算收盘价的中位数\n",
    "- 计算收盘价的方差"
   ]
  },
  {
   "cell_type": "code",
   "execution_count": null,
   "metadata": {
    "slideshow": {
     "slide_type": "-"
    }
   },
   "outputs": [],
   "source": [
    "print(\"median =\", np.median(c))\n",
    "print('variance = ', np.var(c))"
   ]
  },
  {
   "cell_type": "code",
   "execution_count": null,
   "metadata": {
    "slideshow": {
     "slide_type": "slide"
    }
   },
   "outputs": [],
   "source": [
    "plt.plot(c)"
   ]
  },
  {
   "cell_type": "markdown",
   "metadata": {
    "slideshow": {
     "slide_type": "slide"
    }
   },
   "source": [
    "### `np.savetxt()`\n",
    "\n",
    "`np.savetxt()`函数可以把数组保存到指定文件，其语法格式为：\n",
    "```\n",
    "savetxt(fname, X, fmt='%.18e', delimiter=' ', newline='\\n', header='', footer='', comments='# ', encoding=None)\n",
    "```\n",
    "其中参数说明：\n",
    "- `fname`：文件名，如果以.gz结尾则自动以gzip压缩\n",
    "- `X`：要保存的array\n",
    "- `fmt`：保存的格式，可以是单个格式的字符串，格式列表或多格式的字符串\n",
    "- `delimiter`：分隔符\n",
    "- `newline`：换行符\n",
    "- `header`：首行输出内容\n",
    "- `footer`：末行输出内容\n",
    "- `comments`：在header和footer前插入的字符，表示注释"
   ]
  },
  {
   "cell_type": "code",
   "execution_count": null,
   "metadata": {
    "slideshow": {
     "slide_type": "slide"
    }
   },
   "outputs": [],
   "source": [
    "i2 = np.eye(10) \n",
    "outfile = 'data.csv'\n",
    "np.savetxt(outfile, i2, delimiter=',', fmt='%d', header='np.eye')"
   ]
  },
  {
   "cell_type": "code",
   "execution_count": null,
   "metadata": {
    "slideshow": {
     "slide_type": "-"
    }
   },
   "outputs": [],
   "source": [
    "%cat data.csv"
   ]
  },
  {
   "cell_type": "markdown",
   "metadata": {},
   "source": [
    "## 不推荐\n",
    "\n",
    "不建议使用数组对象的`tofile()`方法写出到文件，也不推荐使用`np.fromfile()`方法来读取文件。这些方法不支持跨平台操作，其字节顺序和数组形状信息会丢失。"
   ]
  },
  {
   "cell_type": "code",
   "execution_count": null,
   "metadata": {},
   "outputs": [],
   "source": [
    "# 使用ndarray.tofile保存\n",
    "arr1 = np.array([[1,2,3], [4,5,6]])\n",
    "arr1.tofile('arr1.bin')\n",
    "arr1"
   ]
  },
  {
   "cell_type": "code",
   "execution_count": null,
   "metadata": {},
   "outputs": [],
   "source": [
    "# 需指定同样的数据类型，且array维度信息丢失\n",
    "rarr1 = np.fromfile('arr1.bin', dtype=np.int_)\n",
    "rarr1"
   ]
  },
  {
   "cell_type": "code",
   "execution_count": null,
   "metadata": {},
   "outputs": [],
   "source": [
    "# 指定一个不同的类型\n",
    "rarr1 = np.fromfile('arr1.bin', dtype=np.float_)\n",
    "rarr1"
   ]
  },
  {
   "cell_type": "code",
   "execution_count": null,
   "metadata": {},
   "outputs": [],
   "source": [
    "# 类型相同，字节顺序不同也不行\n",
    "rarr1 = np.fromfile('arr1.bin', dtype='>i8')\n",
    "rarr1"
   ]
  },
  {
   "cell_type": "markdown",
   "metadata": {},
   "source": [
    "由上可知，不要使用这些方法。"
   ]
  }
 ],
 "metadata": {
  "celltoolbar": "Slideshow",
  "kernelspec": {
   "display_name": "Python 3",
   "language": "python",
   "name": "python3"
  },
  "language_info": {
   "codemirror_mode": {
    "name": "ipython",
    "version": 3
   },
   "file_extension": ".py",
   "mimetype": "text/x-python",
   "name": "python",
   "nbconvert_exporter": "python",
   "pygments_lexer": "ipython3",
   "version": "3.6.4"
  },
  "toc": {
   "base_numbering": 1,
   "nav_menu": {},
   "number_sections": true,
   "sideBar": true,
   "skip_h1_title": false,
   "title_cell": "Table of Contents",
   "title_sidebar": "Contents",
   "toc_cell": false,
   "toc_position": {
    "height": "calc(100% - 180px)",
    "left": "10px",
    "top": "150px",
    "width": "196px"
   },
   "toc_section_display": true,
   "toc_window_display": true
  }
 },
 "nbformat": 4,
 "nbformat_minor": 2
}
