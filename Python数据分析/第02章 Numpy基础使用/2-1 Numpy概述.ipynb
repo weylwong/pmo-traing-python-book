{
 "cells": [
  {
   "cell_type": "markdown",
   "metadata": {
    "slideshow": {
     "slide_type": "slide"
    }
   },
   "source": [
    "# Numpy概述\n",
    "\n",
    "Numpy 是 Numerical Python的简称，是 Python 数值计算最重要的基础包。大多数科学计算工具包都会用 Numpy 的数组作为基础。Numpy 主要功能包括如下：\n",
    "- `ndarray`，具有矢量运算和复杂广播能力的多维数组。\n",
    "- 对多维数组进行快速计算的数学函数（ufunc）。\n",
    "- 读写硬盘数据以及操作内存映射文件的工具。\n",
    "- 线性代数、随机数以及傅里叶变换功能。\n",
    "- 用于集成C、C++、Fortran等语言编写代码的工具。"
   ]
  },
  {
   "cell_type": "code",
   "execution_count": 1,
   "metadata": {
    "slideshow": {
     "slide_type": "-"
    }
   },
   "outputs": [],
   "source": [
    "import math\n",
    "import numpy as np\n",
    "import matplotlib.pyplot as plt\n",
    "%matplotlib inline"
   ]
  },
  {
   "cell_type": "markdown",
   "metadata": {
    "slideshow": {
     "slide_type": "slide"
    }
   },
   "source": [
    "## 为什么使用NumPy？\n",
    "\n",
    "Python 内置结构类型有：\n",
    "\n",
    "| 结构      | 同质 | 可变 | 重复 |  有序  | 映射 |\n",
    "|------------:|-----:|-----:|-----:|-----:|-----:|\n",
    "|列表（list） | 否   |  是 | 是   | 是 |  否  |\n",
    "|元组（tuple）| 否   |  否 | 是   | 是 |  否  |\n",
    "|集合（set）  | 否   |  是 | 否   | 否 |  否  |\n",
    "|字典（dict） | 否   |  是 | 是   | 否 |  是  |"
   ]
  },
  {
   "cell_type": "markdown",
   "metadata": {
    "slideshow": {
     "slide_type": "slide"
    }
   },
   "source": [
    "Python 列表中的元素可以为不同类型，也可以是相同类型。当使用列表对象包含大量同类型数据时，其计算速度会特别慢："
   ]
  },
  {
   "cell_type": "code",
   "execution_count": 2,
   "metadata": {
    "slideshow": {
     "slide_type": "-"
    }
   },
   "outputs": [],
   "source": [
    "# 创建列表\n",
    "NDATA = 1024 * 1024\n",
    "L1 = [i * 1.0 for i in range(NDATA)]"
   ]
  },
  {
   "cell_type": "code",
   "execution_count": 3,
   "metadata": {
    "slideshow": {
     "slide_type": "-"
    }
   },
   "outputs": [
    {
     "name": "stdout",
     "output_type": "stream",
     "text": [
      "175 ms ± 23.1 ms per loop (mean ± std. dev. of 7 runs, 10 loops each)\n"
     ]
    }
   ],
   "source": [
    "%%timeit\n",
    "# 测试速度\n",
    "L2 = [i * math.pi for i in L1]"
   ]
  },
  {
   "cell_type": "markdown",
   "metadata": {
    "slideshow": {
     "slide_type": "slide"
    }
   },
   "source": [
    "使用 Numpy 包，大量同类型数据的计算速度会大大提高："
   ]
  },
  {
   "cell_type": "code",
   "execution_count": 4,
   "metadata": {
    "slideshow": {
     "slide_type": "-"
    }
   },
   "outputs": [
    {
     "data": {
      "text/plain": [
       "array([      0,       1,       2, ..., 1048573, 1048574, 1048575])"
      ]
     },
     "execution_count": 4,
     "metadata": {},
     "output_type": "execute_result"
    }
   ],
   "source": [
    "# 创建数组\n",
    "arr1 =  np.arange(NDATA)\n",
    "arr1"
   ]
  },
  {
   "cell_type": "code",
   "execution_count": 5,
   "metadata": {
    "slideshow": {
     "slide_type": "-"
    }
   },
   "outputs": [
    {
     "name": "stdout",
     "output_type": "stream",
     "text": [
      "7.3 ms ± 641 µs per loop (mean ± std. dev. of 7 runs, 100 loops each)\n"
     ]
    }
   ],
   "source": [
    "%%timeit\n",
    "# 测试速度\n",
    "newarr = arr1 * math.pi"
   ]
  },
  {
   "cell_type": "markdown",
   "metadata": {
    "slideshow": {
     "slide_type": "slide"
    }
   },
   "source": [
    "使用 Numpy 包，可以实现类如数组的结构类型，其运行速度大约快了1到2个量级。Numpy 包的优势并不仅限于此，还包括更多：\n",
    "- 内存更为节俭；\n",
    "- 运算形式更为简洁；\n",
    "- 更多的科学计算。"
   ]
  },
  {
   "cell_type": "markdown",
   "metadata": {
    "slideshow": {
     "slide_type": "slide"
    }
   },
   "source": [
    "## 自省\n",
    "\n",
    "Numpy 是一个第三方的高性能科学计算基础包，提供了如下重要功能：\n",
    "- 任意维度的同类数组结构类型；\n",
    "- 高性能的数组运算；\n",
    "- 一些常用常数；\n",
    "- 线性拟合、傅里叶变换，随机数生成器等科学计算。\n",
    "\n",
    "要使用 Numpy 软件包，必须先行导入，在导入时习惯命名为库的缩写 `np` ："
   ]
  },
  {
   "cell_type": "code",
   "execution_count": 8,
   "metadata": {},
   "outputs": [],
   "source": [
    "import numpy as np"
   ]
  },
  {
   "cell_type": "markdown",
   "metadata": {},
   "source": [
    "NumPy 包提供了用于数值计算的两种基本对象：\n",
    "- `ndarray`，是`n-dimensional array object`的缩写，用来存储单一数据类型的多维数组（以后统称为数组）。\n",
    "- `ufunc`是`universal function object`的缩写，是一组对数组对象中的数据进行元素级运算的函数（以后统称为通用函数）。\n",
    "\n",
    "除此之外， NumPy 包提供了一系列实用函数和常用的数学常数。"
   ]
  },
  {
   "cell_type": "markdown",
   "metadata": {
    "slideshow": {
     "slide_type": "slide"
    }
   },
   "source": [
    "## 常数\n",
    "\n",
    "`Numpy`包提供由常用的数学常数：\n",
    "- `np.pi`: 圆周率$\\pi$\n",
    "- `np.e`: 自然对数$e$\n",
    "- `np.euler_gamma`: 欧拉常数\n",
    "- `np.PZERO, np.NZERO`: 正数零，负数零\n",
    "- `np.nan, np.NaN, np.NAN`: 非数字\n",
    "- `np.inf, np.Inf, np.Infinity, np.PINF, np.NINF, np.infty`: 无穷大"
   ]
  },
  {
   "cell_type": "code",
   "execution_count": 18,
   "metadata": {
    "slideshow": {
     "slide_type": "slide"
    }
   },
   "outputs": [
    {
     "data": {
      "text/plain": [
       "(3.141592653589793, 2.718281828459045, 0.5772156649015329, 0.0, -0.0)"
      ]
     },
     "execution_count": 18,
     "metadata": {},
     "output_type": "execute_result"
    }
   ],
   "source": [
    "np.pi, np.e, np.euler_gamma, np.PZERO, np.NZERO"
   ]
  },
  {
   "cell_type": "code",
   "execution_count": 19,
   "metadata": {
    "slideshow": {
     "slide_type": "-"
    }
   },
   "outputs": [
    {
     "data": {
      "text/plain": [
       "(nan, nan, nan, inf, inf, inf, -inf, inf, inf)"
      ]
     },
     "execution_count": 19,
     "metadata": {},
     "output_type": "execute_result"
    }
   ],
   "source": [
    "np.nan, np.NaN, np.NAN, np.inf, np.Inf, np.Infinity, np.NINF, np.PINF, np.infty"
   ]
  },
  {
   "cell_type": "markdown",
   "metadata": {
    "slideshow": {
     "slide_type": "slide"
    }
   },
   "source": [
    "## 数组（`ndarray`）\n",
    "\n",
    "数组(`ndarray`)对象是 Numpy 包中最重要的基础对象，Numpy 中所有函数都是围绕数组对象来进行处理。数组对象是数组类型的实例，是一种结构类型，用于存储多维数据集。与内置结构类型列表相比，数组对象同样是可变的、可重复的、有序的、无映射的数据集，区别在于数组对象是同质的。\n",
    "\n",
    "| 结构      | 同质 | 可变 | 重复 |  有序  | 映射 |\n",
    "|------------:|-----:|-----:|-----:|-----:|-----:|\n",
    "|列表（list） | 否   |  是 | 是   | 是 |  否  |\n",
    "|数组（ndarray）| 是   | 是 | 是   | 是 |  否  |"
   ]
  },
  {
   "cell_type": "markdown",
   "metadata": {
    "slideshow": {
     "slide_type": "slide"
    }
   },
   "source": [
    "### 创建对象\n",
    "\n",
    "类是对象的抽象，对象是类的实例。学习数组结构类型的最好方法是创建一个数组对象，然后去使用它。当然可以使用`np.ndarray()`来构造一个数组对象，但由于参数众多，初学时是会比较麻烦，故通常使用 Numpy 的实用函数来创建数组对象。例如使用 `np.array()` 来创建数组对象：\n",
    "```\n",
    "np.array(object, dtype=None, copy=True, order=None, subok=False, ndmin=0)\n",
    "```\n",
    "其中主要参数包括：\n",
    "- `object`，Python 对象，可以是列表、元组、迭代器或 Numpy 数组对象本身。\n",
    "- `dtype`，指定数组的数据类型。\n",
    "- `order`，数组元素在内存中存储顺序：`C`表示行-列；F（Fortran）表示列行。"
   ]
  },
  {
   "cell_type": "markdown",
   "metadata": {
    "slideshow": {
     "slide_type": "slide"
    }
   },
   "source": [
    "下面实用 `np.array()` 来创建一些数组对象："
   ]
  },
  {
   "cell_type": "code",
   "execution_count": 21,
   "metadata": {
    "slideshow": {
     "slide_type": "slide"
    }
   },
   "outputs": [
    {
     "name": "stdout",
     "output_type": "stream",
     "text": [
      "[1 2 3]\n",
      "[ 0  1  2  3  4  5  6  7  8  9 10 11 12 13 14 15 16 17 18 19 20 21 22 23\n",
      " 24 25 26 27 28 29 30 31 32 33 34 35 36 37 38 39 40 41 42 43 44 45 46 47\n",
      " 48 49 50 51 52 53 54 55 56 57 58 59 60 61 62 63]\n"
     ]
    }
   ],
   "source": [
    "# 序列\n",
    "xdata = [1, 2, 3]\n",
    "arr = np.array(xdata)\n",
    "print(arr)\n",
    "arr = np.array(range(64))\n",
    "print(arr)"
   ]
  },
  {
   "cell_type": "markdown",
   "metadata": {},
   "source": [
    "数组对象的数据是同一类型，当列表中的数据类型不同时，会进行类型提升："
   ]
  },
  {
   "cell_type": "code",
   "execution_count": 23,
   "metadata": {
    "slideshow": {
     "slide_type": "slide"
    }
   },
   "outputs": [
    {
     "name": "stdout",
     "output_type": "stream",
     "text": [
      "[1. 2. 3.]\n",
      "['Python' 'C' 'C++' '1']\n"
     ]
    }
   ],
   "source": [
    "# Upcasting\n",
    "xdata = (1, 2, 3.0)\n",
    "arr1 = np.array(xdata)\n",
    "print(arr1)\n",
    "arr2 = np.array(['Python', 'C', 'C++', 1])\n",
    "print(arr2)"
   ]
  },
  {
   "cell_type": "markdown",
   "metadata": {},
   "source": [
    "数组对象支持多维数据："
   ]
  },
  {
   "cell_type": "code",
   "execution_count": 24,
   "metadata": {
    "slideshow": {
     "slide_type": "slide"
    }
   },
   "outputs": [
    {
     "name": "stdout",
     "output_type": "stream",
     "text": [
      "[[1 2]\n",
      " [3 4]]\n"
     ]
    }
   ],
   "source": [
    "# More than one dimension\n",
    "xdata = [[1, 2], [3, 4]]\n",
    "arr3 = np.array(xdata)\n",
    "print(arr3)"
   ]
  },
  {
   "cell_type": "markdown",
   "metadata": {
    "slideshow": {
     "slide_type": "slide"
    }
   },
   "source": [
    "创建数组对象后，使用自省方法 `type()` 来查看数组对象的类型:"
   ]
  },
  {
   "cell_type": "code",
   "execution_count": 25,
   "metadata": {
    "slideshow": {
     "slide_type": "-"
    }
   },
   "outputs": [
    {
     "name": "stdout",
     "output_type": "stream",
     "text": [
      "<class 'numpy.ndarray'> <class 'numpy.ndarray'> <class 'numpy.ndarray'>\n"
     ]
    }
   ],
   "source": [
    "print(type(arr1), type(arr2), type(arr3))"
   ]
  },
  {
   "cell_type": "markdown",
   "metadata": {
    "slideshow": {
     "slide_type": "-"
    }
   },
   "source": [
    "`ndarray`对象的值可以修改，是可变对象。"
   ]
  },
  {
   "cell_type": "code",
   "execution_count": 26,
   "metadata": {
    "slideshow": {
     "slide_type": "slide"
    }
   },
   "outputs": [
    {
     "data": {
      "text/plain": [
       "array([1000,    1,    2,    3,    4,    5,    6,    7,    8,    9,   10,\n",
       "         11,   12,   13,   14,   15,   16,   17,   18,   19,   20,   21,\n",
       "         22,   23,   24,   25,   26,   27,   28,   29,   30,   31,   32,\n",
       "         33,   34,   35,   36,   37,   38,   39,   40,   41,   42,   43,\n",
       "         44,   45,   46,   47,   48,   49,   50,   51,   52,   53,   54,\n",
       "         55,   56,   57,   58,   59,   60,   61,   62,   63])"
      ]
     },
     "execution_count": 26,
     "metadata": {},
     "output_type": "execute_result"
    }
   ],
   "source": [
    "arr[0] = 1000\n",
    "arr"
   ]
  },
  {
   "cell_type": "markdown",
   "metadata": {},
   "source": [
    "### 数组对象的属性\n",
    "\n",
    "数组对象是多维数组，一个多维数组可以实用如下特征来描述：\n",
    "- 组成部分\n",
    "    - 实际数据\n",
    "    - 描诉数据的元数据\n",
    "- 数据类型\n",
    "- 数组属性\n",
    "    - 秩（rank）：数组的维数。一维数组秩为1，二维数组为2，以此类推\n",
    "    - 轴（axes）：轴的数量就是秩"
   ]
  },
  {
   "cell_type": "markdown",
   "metadata": {
    "slideshow": {
     "slide_type": "slide"
    }
   },
   "source": [
    "数组对象有如下属性来描述多维数组的特征：\n",
    "- `ndarray.ndim`：数组的维数（即数组轴的个数），等于秩。\n",
    "- `ndarray.shape`：数组的维度。用整数的元组来表示数组每个维度的大小。例如二维数组中，表示数组的“行数”和“列数”。\n",
    "- `ndarray.size`：数组元素的总数，等于shape属性中元组元素的乘积。\n",
    "- `ndarray.dtype`：表示数组中元素类型的对象\n",
    "- `ndarray.itemsize`：数组中每个元素的字节大小。例如数组元素类型为float64(64bits)，则其值为8。\n",
    "- `ndarray.strides`：在内存中沿着某个维度从一个元素移动到下一个所需的偏移量（字节）\n",
    "- `ndarray.nbytes`：存储该数组所需的内存大小 = itemsize * size\n",
    "- `ndarray.data`：包含实际数组元素的缓冲区。由于一般通过数组的位置索引获取元素。\n",
    "\n",
    "一个数组对象的数据结构如下图所示：\n",
    "![ndarray数据结构](../images/numpy_ndarray_type.png)"
   ]
  },
  {
   "cell_type": "markdown",
   "metadata": {},
   "source": [
    "下面创建一个数组对象，并打印对象的属性："
   ]
  },
  {
   "cell_type": "code",
   "execution_count": 27,
   "metadata": {
    "slideshow": {
     "slide_type": "slide"
    }
   },
   "outputs": [],
   "source": [
    "arr1 = np.array(range(64))\n",
    "arr2 = np.array([[1, 2, 3, 4], [5, 6, 7, 8]])"
   ]
  },
  {
   "cell_type": "code",
   "execution_count": 28,
   "metadata": {
    "slideshow": {
     "slide_type": "-"
    }
   },
   "outputs": [
    {
     "name": "stdout",
     "output_type": "stream",
     "text": [
      "ndim:  1 2\n",
      "shape:  (64,) (2, 4)\n",
      "size:  64 8\n",
      "dtype:  int32 int32\n",
      "itemsize:  4 4\n",
      "strides:  (4,) (16, 4)\n"
     ]
    }
   ],
   "source": [
    "print('ndim: ', arr1.ndim, arr2.ndim)\n",
    "print('shape: ', arr1.shape, arr2.shape)\n",
    "print('size: ', arr1.size, arr2.size)\n",
    "print('dtype: ', arr1.dtype, arr2.dtype)\n",
    "print('itemsize: ', arr1.itemsize, arr2.itemsize)\n",
    "print('strides: ', arr1.strides, arr2.strides)"
   ]
  },
  {
   "cell_type": "markdown",
   "metadata": {
    "slideshow": {
     "slide_type": "slide"
    }
   },
   "source": [
    "数组对象的 `shape` 属性是一个描述数组维度的元组（tuple），如下图所示。更改数组的shape属性，可以改变维度大小，数组元素在内存中位置并没有改变。\n",
    "\n",
    "![Numpy数组结构](../images/numpy_ndarray.png)"
   ]
  },
  {
   "cell_type": "markdown",
   "metadata": {
    "slideshow": {
     "slide_type": "slide"
    }
   },
   "source": [
    "例如，下面创建一个一维数组对象，然后更改 `shape` 属性，使其成为三维数组："
   ]
  },
  {
   "cell_type": "code",
   "execution_count": 29,
   "metadata": {
    "slideshow": {
     "slide_type": "slide"
    }
   },
   "outputs": [
    {
     "data": {
      "text/plain": [
       "array([[[ 0,  1,  2,  3],\n",
       "        [ 4,  5,  6,  7],\n",
       "        [ 8,  9, 10, 11],\n",
       "        [12, 13, 14, 15]],\n",
       "\n",
       "       [[16, 17, 18, 19],\n",
       "        [20, 21, 22, 23],\n",
       "        [24, 25, 26, 27],\n",
       "        [28, 29, 30, 31]],\n",
       "\n",
       "       [[32, 33, 34, 35],\n",
       "        [36, 37, 38, 39],\n",
       "        [40, 41, 42, 43],\n",
       "        [44, 45, 46, 47]],\n",
       "\n",
       "       [[48, 49, 50, 51],\n",
       "        [52, 53, 54, 55],\n",
       "        [56, 57, 58, 59],\n",
       "        [60, 61, 62, 63]]])"
      ]
     },
     "execution_count": 29,
     "metadata": {},
     "output_type": "execute_result"
    }
   ],
   "source": [
    "arr1 = np.array(range(64))\n",
    "arr1.shape = 4, 4, 4\n",
    "arr1"
   ]
  },
  {
   "cell_type": "markdown",
   "metadata": {
    "slideshow": {
     "slide_type": "slide"
    }
   },
   "source": [
    "当设置某个轴的元素格式为-1时，会自动计算此轴长度。"
   ]
  },
  {
   "cell_type": "code",
   "execution_count": 30,
   "metadata": {
    "slideshow": {
     "slide_type": "-"
    }
   },
   "outputs": [
    {
     "data": {
      "text/plain": [
       "array([[ 0,  1,  2,  3,  4,  5,  6,  7,  8,  9, 10, 11, 12, 13, 14, 15,\n",
       "        16, 17, 18, 19, 20, 21, 22, 23, 24, 25, 26, 27, 28, 29, 30, 31],\n",
       "       [32, 33, 34, 35, 36, 37, 38, 39, 40, 41, 42, 43, 44, 45, 46, 47,\n",
       "        48, 49, 50, 51, 52, 53, 54, 55, 56, 57, 58, 59, 60, 61, 62, 63]])"
      ]
     },
     "execution_count": 30,
     "metadata": {},
     "output_type": "execute_result"
    }
   ],
   "source": [
    "arr1.shape = 2, -1\n",
    "arr1"
   ]
  },
  {
   "cell_type": "markdown",
   "metadata": {
    "slideshow": {
     "slide_type": "slide"
    }
   },
   "source": [
    "数组对象的 `dtype` 属性指明其中元素的数据类型，其值为`numpy.dtype`对象。在创建数组时，可以使用关键字参数 `dtype` 来指定元素类型："
   ]
  },
  {
   "cell_type": "code",
   "execution_count": 32,
   "metadata": {
    "slideshow": {
     "slide_type": "-"
    }
   },
   "outputs": [],
   "source": [
    "ai32 = np.array([1, 2, 3, 4], dtype=np.int32)\n",
    "af = np.array([1, 2, 3, 4], dtype=float)\n",
    "ac = np.array([1, 2, 3, 4], dtype=complex)"
   ]
  },
  {
   "cell_type": "code",
   "execution_count": 33,
   "metadata": {
    "slideshow": {
     "slide_type": "-"
    }
   },
   "outputs": [
    {
     "data": {
      "text/plain": [
       "(dtype('int32'), dtype('float64'), dtype('complex128'))"
      ]
     },
     "execution_count": 33,
     "metadata": {},
     "output_type": "execute_result"
    }
   ],
   "source": [
    "ai32.dtype, af.dtype, ac.dtype"
   ]
  },
  {
   "cell_type": "markdown",
   "metadata": {
    "slideshow": {
     "slide_type": "slide"
    }
   },
   "source": [
    "###  存取数组元素\n",
    "\n",
    "与内置结构类型列表一样，可以使用切片方式来读取数组对象中的数据元素，其语法可写为`A[obj]`：\n",
    "- 第一种情况，实用单个位置索引来访问数据元素；\n",
    "- 第二种情况，实用切片方法 `start:stop:step`来访问多个数据元素：\n",
    "    - 变量`start`、`stop`和`step`都是非负整数，并且`start`小于等于`stop`值。\n",
    "    - `start`值大于`stop`值，用一个负的`step`值可以用来翻转序列。"
   ]
  },
  {
   "cell_type": "markdown",
   "metadata": {},
   "source": [
    "下面示例来演示如何访问数组对象的元素数据："
   ]
  },
  {
   "cell_type": "code",
   "execution_count": 35,
   "metadata": {
    "slideshow": {
     "slide_type": "slide"
    }
   },
   "outputs": [
    {
     "data": {
      "text/plain": [
       "array([ 0,  1,  2,  3,  4,  5,  6,  7,  8,  9, 10, 11, 12, 13, 14, 15, 16,\n",
       "       17, 18, 19, 20, 21, 22, 23, 24, 25, 26, 27, 28, 29, 30, 31, 32, 33,\n",
       "       34, 35, 36, 37, 38, 39, 40, 41, 42, 43, 44, 45, 46, 47, 48, 49, 50,\n",
       "       51, 52, 53, 54, 55, 56, 57, 58, 59, 60, 61, 62, 63])"
      ]
     },
     "execution_count": 35,
     "metadata": {},
     "output_type": "execute_result"
    }
   ],
   "source": [
    "arr1 = np.array(range(64))\n",
    "arr1"
   ]
  },
  {
   "cell_type": "code",
   "execution_count": 36,
   "metadata": {
    "slideshow": {
     "slide_type": "-"
    }
   },
   "outputs": [
    {
     "name": "stdout",
     "output_type": "stream",
     "text": [
      "[ 0  1  2  3  4  5  6  7  8  9 10 11 12 13 14 15 16 17 18 19]\n",
      "[16 17 18 19 20 21 22 23 24 25 26 27 28 29 30 31 32 33 34 35 36 37 38 39\n",
      " 40 41 42 43 44 45 46 47 48 49 50 51 52 53 54 55 56 57 58 59 60 61 62 63]\n",
      "[16 17 18 19]\n"
     ]
    }
   ],
   "source": [
    "print(arr1[:20])\n",
    "print(arr1[16:])\n",
    "print(arr1[16:20])"
   ]
  },
  {
   "cell_type": "code",
   "execution_count": 37,
   "metadata": {
    "slideshow": {
     "slide_type": "slide"
    }
   },
   "outputs": [
    {
     "name": "stdout",
     "output_type": "stream",
     "text": [
      "[16 18]\n",
      "[]\n",
      "[20 19 18 17]\n",
      "[63 62 61 60 59 58 57 56 55 54 53 52 51 50 49 48 47 46 45 44 43 42 41 40\n",
      " 39 38 37 36 35 34 33 32 31 30 29 28 27 26 25 24 23 22 21 20 19 18 17 16\n",
      " 15 14 13 12 11 10  9  8  7  6  5  4  3  2  1  0]\n"
     ]
    }
   ],
   "source": [
    "print(arr1[16:20:2])\n",
    "print(arr1[16:20:-1])\n",
    "print(arr1[20:16:-1])\n",
    "print(arr1[::-1])"
   ]
  },
  {
   "cell_type": "markdown",
   "metadata": {
    "slideshow": {
     "slide_type": "slide"
    }
   },
   "source": [
    "对于二维或多维数据，具有类似操作："
   ]
  },
  {
   "cell_type": "code",
   "execution_count": null,
   "metadata": {
    "slideshow": {
     "slide_type": "-"
    }
   },
   "outputs": [],
   "source": [
    "arr2 = np.array([[1, 2, 3, 4], [5, 6, 7, 8]], dtype=float)\n",
    "arr2"
   ]
  },
  {
   "cell_type": "code",
   "execution_count": null,
   "metadata": {
    "slideshow": {
     "slide_type": "slide"
    }
   },
   "outputs": [],
   "source": [
    "print(arr2[:, ::2])"
   ]
  },
  {
   "cell_type": "code",
   "execution_count": 34,
   "metadata": {
    "slideshow": {
     "slide_type": "-"
    }
   },
   "outputs": [
    {
     "name": "stdout",
     "output_type": "stream",
     "text": [
      "[[4 2]\n",
      " [8 6]]\n"
     ]
    }
   ],
   "source": [
    "print(arr2[0:2:1, 4:0:-2])"
   ]
  },
  {
   "cell_type": "markdown",
   "metadata": {},
   "source": [
    "数组对象是可变对象，也就是说数组对象的元素是可以修改的："
   ]
  },
  {
   "cell_type": "code",
   "execution_count": 38,
   "metadata": {},
   "outputs": [
    {
     "name": "stdout",
     "output_type": "stream",
     "text": [
      "[ 0  1  2  3  4  5  6  7  8  9 10 11 12 13 14 15]\n",
      "[1000    1    2    3    4    5    6    7    8    9   10   11   12   13\n",
      "   14   15]\n"
     ]
    }
   ],
   "source": [
    "arr = np.array(range(16))\n",
    "print(arr)\n",
    "arr[0] = 1000\n",
    "print(arr)"
   ]
  },
  {
   "cell_type": "markdown",
   "metadata": {
    "slideshow": {
     "slide_type": "slide"
    }
   },
   "source": [
    "### 数组对象的常规方法\n",
    "\n",
    "创建数组对象后，使用 `dir()` 函数可以列出数组对象的方法："
   ]
  },
  {
   "cell_type": "code",
   "execution_count": 46,
   "metadata": {},
   "outputs": [
    {
     "name": "stdout",
     "output_type": "stream",
     "text": [
      "['T', '__abs__', '__add__', '__and__', '__array__', '__array_finalize__', '__array_interface__', '__array_prepare__', '__array_priority__', '__array_struct__', '__array_ufunc__', '__array_wrap__', '__bool__', '__class__', '__complex__', '__contains__', '__copy__', '__deepcopy__', '__delattr__', '__delitem__', '__dir__', '__divmod__', '__doc__', '__eq__', '__float__', '__floordiv__', '__format__', '__ge__', '__getattribute__', '__getitem__', '__gt__', '__hash__', '__iadd__', '__iand__', '__ifloordiv__', '__ilshift__', '__imatmul__', '__imod__', '__imul__', '__index__', '__init__', '__init_subclass__', '__int__', '__invert__', '__ior__', '__ipow__', '__irshift__', '__isub__', '__iter__', '__itruediv__', '__ixor__', '__le__', '__len__', '__lshift__', '__lt__', '__matmul__', '__mod__', '__mul__', '__ne__', '__neg__', '__new__', '__or__', '__pos__', '__pow__', '__radd__', '__rand__', '__rdivmod__', '__reduce__', '__reduce_ex__', '__repr__', '__rfloordiv__', '__rlshift__', '__rmatmul__', '__rmod__', '__rmul__', '__ror__', '__rpow__', '__rrshift__', '__rshift__', '__rsub__', '__rtruediv__', '__rxor__', '__setattr__', '__setitem__', '__setstate__', '__sizeof__', '__str__', '__sub__', '__subclasshook__', '__truediv__', '__xor__', 'all', 'any', 'argmax', 'argmin', 'argpartition', 'argsort', 'astype', 'base', 'byteswap', 'choose', 'clip', 'compress', 'conj', 'conjugate', 'copy', 'ctypes', 'cumprod', 'cumsum', 'data', 'diagonal', 'dot', 'dtype', 'dump', 'dumps', 'fill', 'flags', 'flat', 'flatten', 'getfield', 'imag', 'item', 'itemset', 'itemsize', 'max', 'mean', 'min', 'nbytes', 'ndim', 'newbyteorder', 'nonzero', 'partition', 'prod', 'ptp', 'put', 'ravel', 'real', 'repeat', 'reshape', 'resize', 'round', 'searchsorted', 'setfield', 'setflags', 'shape', 'size', 'sort', 'squeeze', 'std', 'strides', 'sum', 'swapaxes', 'take', 'tobytes', 'tofile', 'tolist', 'tostring', 'trace', 'transpose', 'var', 'view']\n"
     ]
    }
   ],
   "source": [
    "print(dir(arr))"
   ]
  },
  {
   "cell_type": "markdown",
   "metadata": {},
   "source": [
    "调用数组对象的的常规方法，与调用 Numpy 同名函数来操作数组对象的作用很多情况下是相同，例如，下面两种操作都是计算数组对象的平均值，其结果也是相同的：\n",
    "- `arr.mean()`\n",
    "- `np.mean(arr)`"
   ]
  },
  {
   "cell_type": "code",
   "execution_count": 47,
   "metadata": {
    "slideshow": {
     "slide_type": "-"
    }
   },
   "outputs": [
    {
     "name": "stdout",
     "output_type": "stream",
     "text": [
      "70.0\n",
      "70.0\n"
     ]
    }
   ],
   "source": [
    "print(arr.mean())\n",
    "print(np.mean(arr))"
   ]
  },
  {
   "cell_type": "markdown",
   "metadata": {
    "slideshow": {
     "slide_type": "slide"
    }
   },
   "source": [
    "## 通用函数（`ufunc`）\n",
    "\n",
    "Numpy 包除了提供数组对象外，还提供通用函数(`ufunc`)对象，也就是一组对数组进行元素级运算的函数，是数组运算最常用的操作。通用函数是一个函数的“矢量化”包装器，输入数组并产生特定数组输出。\n",
    "\n",
    "在 Numpy 中，通用函数是 `numpy.ufunc` 类的实例。通用函数可以对标量进行运算操作，也可以对数组（向量，矩阵）进行操作，数组不一致会进行广播。 使用 `numpy.frompyfunc` 工厂函数可以生成自定义通用函数实例对象。\n",
    "\n",
    "所有通用函数函数都使用可选的关键字参数，大多数代表高级用法，通常不会被使用，有如下参数：\n",
    "- `out`，输出结果。\n",
    "- `where`，接受与操作数一起广播的布尔数组。\n",
    "- `casting`，提供允许何种类型的转换的策略。\n",
    "- `order`，内存布局。默认值是`K`，意味着尽可能紧密地匹配输入的元素顺序。\n",
    "- `dtype`，重写计算输出数组的数据类型\n",
    "- `subok`，默认值为True。如果设置为False，输出均严格为数组。\n"
   ]
  },
  {
   "cell_type": "markdown",
   "metadata": {
    "slideshow": {
     "slide_type": "slide"
    }
   },
   "source": [
    "Numpy 中定义多达60多个通用函数，涵盖各种运算操作：\n",
    "- 数学运算\n",
    "- 三角函数\n",
    "- 位运算函数\n",
    "- 比较函数\n",
    "- 浮点数运算函数"
   ]
  },
  {
   "cell_type": "markdown",
   "metadata": {
    "slideshow": {
     "slide_type": "slide"
    }
   },
   "source": [
    "### 数学操作\n",
    "\n",
    "| 函数                             |  说明              |\n",
    "|:-----------------------------------------------|:--------------------------|\n",
    "| `add(x1, x2, /[, out, where, casting, order, …])`|  `x1 + x2` | \n",
    "| `subtract(x1, x2, /[, out, where, casting, …])`|  `x1 - x2` |\n",
    "| `multiply(x1, x2, /[, out, where, casting, …])`|  `x1 * x2` |\n",
    "| `divide(x1, x2, /[, out, where, casting, …])`|  `x1 / x2` |\n",
    "| `true_divide(x1, x2, /[, out, where, …])`|  `x1 / x2` |\n",
    "| `floor_divide(x1, x2, /[, out, where, …])`|  `x1 // x2` |\n",
    "| `negative(x, /[, out, where, casting, order, …])`|  `-x1` |\n",
    "| `positive(x, /[, out, where, casting, order, …])`|  `+x1`|"
   ]
  },
  {
   "cell_type": "markdown",
   "metadata": {
    "slideshow": {
     "slide_type": "slide"
    }
   },
   "source": [
    "### 三角函数\n",
    "\n",
    "三角函数输入都是用弧度。\n",
    "\n",
    "| 函数                             |  说明              |\n",
    "|:-----------------------------------------------|:--------------------------|\n",
    "|`sin(x, /[, out, where, casting, order, …])`| 正弦函数 |\n",
    "|`cos(x, /[, out, where, casting, order, …])`| 余弦函数|\n",
    "|`tan(x, /[, out, where, casting, order, …])`|  正切函数|\n",
    "|`hypot(x1, x2, /[, out, where, casting, …])`| 返回斜边$\\sqrt{x_1^2+x_2^2}$ |\n",
    "|`deg2rad(x, /[, out, where, casting, order, …])`|角度转换为弧度 |\n",
    "|`rad2deg(x, /[, out, where, casting, order, …])`| 弧度转换为角度 |"
   ]
  },
  {
   "cell_type": "markdown",
   "metadata": {
    "slideshow": {
     "slide_type": "slide"
    }
   },
   "source": [
    "### 位运算函数\n",
    "\n",
    "| 函数                             |  说明              |\n",
    "|:-----------------------------------------------|:--------------------------|\n",
    "| `bitwise_and(x1, x2, /[, out, where, …])`| `x1 & x2` |\n",
    "| `bitwise_or(x1, x2, /[, out, where, casting, …])`| 求或 |\n",
    "| `bitwise_xor(x1, x2, /[, out, where, …])`| `x1 xor x2` |\n",
    "| `invert(x, /[, out, where, casting, order, …])`| `~x1` |\n",
    "| `left_shift(x1, x2, /[, out, where, casting, …])`| `x1 >> x2` |\n",
    "| `right_shift(x1, x2, /[, out, where, …])`| `x1 << x2` |"
   ]
  },
  {
   "cell_type": "markdown",
   "metadata": {
    "slideshow": {
     "slide_type": "slide"
    }
   },
   "source": [
    "### 比较函数\n",
    "\n",
    "| 函数                             |  说明              |\n",
    "|:-----------------------------------------------|:--------------------------|\n",
    "| `greater(x1, x2, /[, out, where, casting, …])`| 返回`x1 > x2`真值 |\n",
    "| `greater_equal(x1, x2, /[, out, where, …])`| 返回`x1 >= x2`真值 |\n",
    "| `less(x1, x2, /[, out, where, casting, …])`| 返回`x1 < x2`真值 |\n",
    "| `less_equal(x1, x2, /[, out, where, casting, …])`| 返回`x1 <= x2`真值 |\n",
    "| `not_equal(x1, x2, /[, out, where, casting, …])`| 返回`x1 != x2`真值 |\n",
    "| `equal(x1, x2, /[, out, where, casting, …])`| 返回`x1 == x2`真值  |"
   ]
  },
  {
   "cell_type": "markdown",
   "metadata": {
    "slideshow": {
     "slide_type": "slide"
    }
   },
   "source": [
    "\n",
    "| 函数                             |  说明              |\n",
    "|:-----------------------------------------------|:--------------------------|\n",
    "| `maximum(x1, x2, /[, out, where, casting, …])`| 返回最大值|\n",
    "| `minimum(x1, x2, /[, out, where, casting, …])`| 返回最小值 |\n",
    "| `fmax(x1, x2, /[, out, where, casting, …])`| 返回较大值 |\n",
    "| `fmin(x1, x2, /[, out, where, casting, …])`| 返回较小值 |"
   ]
  },
  {
   "cell_type": "markdown",
   "metadata": {
    "slideshow": {
     "slide_type": "slide"
    }
   },
   "source": [
    "### 浮点数运算函数\n",
    "\n",
    "\n",
    "| 函数                             |  说明              |\n",
    "|:-----------------------------------------------|:--------------------------|\n",
    "| `isfinite(x, /[, out, where, casting, order, …])`| 检查数组元素是否具有有限值 (非inf或nan）|\n",
    "| `isinf(x, /[, out, where, casting, order, …])`| 检查数组元素是否是无穷大 |\n",
    "| `isnan(x, /[, out, where, casting, order, …])`| 检查数组元素是否是NaN |\n",
    "| `isnat(x, /[, out, where, casting, order, …])`| 检查数组元素不是时间（not a time, NaT) |\n",
    "| `fabs(x, /[, out, where, casting, order, …])`| 计算绝对值 |\n",
    "| `signbit(x, /[, out, where, casting, order, …])`| 返回符号位是否设置|\n",
    "| `copysign(x1, x2, /[, out, where, casting, …])`| 根据`x1`的符号更改`x2` |\n",
    "| `nextafter(x1, x2, /[, out, where, casting, …])`| 返回`x1`往`x2`的浮点数 |\n",
    "| `spacing(x, /[, out, where, casting, order, …])`| 返回`x`与接近整数的距离 |\n",
    "| `modf(x[, out1, out2], / [[, out, where, …])`|  返回x的小数点与整数 |\n",
    "| `ldexp(x1, x2, /[, out, where, casting, …])`| 返回`x1 * 2**x2` |\n",
    "| `frexp(x[, out1, out2], / [[, out, where, …])`| 返回`x`的有效数字和2的幂次|\n",
    "| `fmod(x1, x2, /[, out, where, casting, …])`| 返回余数 |\n",
    "| `floor(x, /[, out, where, casting, order, …])`| 返回四舍五入 |\n",
    "| `ceil(x, /[, out, where, casting, order, …])`| 返回`ceil`运算结果 |\n",
    "| `trunc(x, /[, out, where, casting, order, …])`| 返回`trunc`运算结果 |"
   ]
  },
  {
   "cell_type": "markdown",
   "metadata": {
    "slideshow": {
     "slide_type": "slide"
    }
   },
   "source": [
    "### 简单示例\n",
    "\n",
    "下面用实际例子来演示通用函数的使用："
   ]
  },
  {
   "cell_type": "code",
   "execution_count": null,
   "metadata": {
    "slideshow": {
     "slide_type": "-"
    }
   },
   "outputs": [],
   "source": [
    "arr1 = np.array([1.0, 2.0, 3.0, 4.0])\n",
    "arr2 = np.array([-1.0, -2.0, -3.0, -4.0])\n",
    "arr3 = np.array([0.5, 1.5, 3.5, 5.5])"
   ]
  },
  {
   "cell_type": "code",
   "execution_count": null,
   "metadata": {
    "slideshow": {
     "slide_type": "slide"
    }
   },
   "outputs": [],
   "source": [
    "# 加法\n",
    "arr1 + arr2"
   ]
  },
  {
   "cell_type": "code",
   "execution_count": null,
   "metadata": {
    "slideshow": {
     "slide_type": "-"
    }
   },
   "outputs": [],
   "source": [
    "np.add(arr1, arr2)"
   ]
  },
  {
   "cell_type": "code",
   "execution_count": null,
   "metadata": {
    "slideshow": {
     "slide_type": "slide"
    }
   },
   "outputs": [],
   "source": [
    "# 真除\n",
    "arr1 / arr3"
   ]
  },
  {
   "cell_type": "code",
   "execution_count": null,
   "metadata": {
    "slideshow": {
     "slide_type": "-"
    }
   },
   "outputs": [],
   "source": [
    "np.divide(arr1, arr3)"
   ]
  },
  {
   "cell_type": "code",
   "execution_count": null,
   "metadata": {
    "slideshow": {
     "slide_type": "-"
    }
   },
   "outputs": [],
   "source": [
    "np.true_divide(arr1, arr3)"
   ]
  },
  {
   "cell_type": "markdown",
   "metadata": {
    "slideshow": {
     "slide_type": "slide"
    }
   },
   "source": [
    "## 实用函数\n",
    "\n",
    "Numpy 软件包还提供了一系列实用函数，可以使用 Numpy 直接访问，或者通过 Numpy 子包访问。Numpy 包实用函数分类如下：\n",
    "\n",
    "- 创建数组（Array creation routines）\n",
    "- 数组操作（Array manipulation routines）\n",
    "- 二进制运算（Binary operations）\n",
    "- 字符串运算（String operations）\n",
    "- 外部函数接口（C-Types Foreign Function Interface ）--- `numpy.ctypeslib`\n",
    "\n",
    "- 时间日期操作（Datetime Support Functions）\n",
    "- 数据类型操作（Data type routines）\n",
    "- 可选Scipy加速函数(numpy.dual)（Optionally Scipy-accelerated routines ）\n",
    "- 自动域数学函数（Mathematical functions with automatic domain ）---`numpy.emath`\n",
    "- 浮点数错误处理（Floating point error handling）"
   ]
  },
  {
   "cell_type": "markdown",
   "metadata": {
    "slideshow": {
     "slide_type": "slide"
    }
   },
   "source": [
    "- 离散傅里叶变换（Discrete Fourier Transform）--- `numpy.fft`\n",
    "- 金融函数（Financial functions）\n",
    "- 函数式编程（Functional programming）\n",
    "- Numpy帮助函数（NumPy-specific help functions）\n",
    "- 索引函数（Indexing routines）\n",
    "\n",
    "- 输入输出函数（Input and output）\n",
    "- 线性代数（Linear algebra） --- `numpy.linalg`\n",
    "- 逻辑函数（Logic functions）\n",
    "- 掩码数组操作（Masked array operations）\n",
    "- 数学函数（Mathematical functions）"
   ]
  },
  {
   "cell_type": "markdown",
   "metadata": {
    "slideshow": {
     "slide_type": "slide"
    }
   },
   "source": [
    "- 矩阵库（Matrix library）---`numpy.matlib`\n",
    "- 杂项函数（Miscellaneous routines）\n",
    "- 填充数组（Padding Arrays）\n",
    "- 多项式函数（Polynomials）\n",
    "- 随机Random sampling (numpy.random)\n",
    "\n",
    "- Set routines\n",
    "- 排序、搜索与技术（Sorting, searching, and counting）\n",
    "- 统计函数（Statistics）\n",
    "- 测试有关函数（Test Support） --- `numpy.testing`\n",
    "- 窗口函数（Window functions）"
   ]
  },
  {
   "cell_type": "markdown",
   "metadata": {
    "slideshow": {
     "slide_type": "slide"
    }
   },
   "source": [
    "## 小结\n",
    "\n",
    "本节简单列出 Numpy 包的内容。首要的是了解并掌握 Numpy 的基础数据结构数组对象（`np.ndarray`）；然后熟悉数组对象的创建、运算以及操作。再根据具体任务需求，不断深入了解各个领域的实用函数。总之，多看帮助以及参考，不断积累即可。\n",
    "\n",
    "下面会继续围绕数组对象，不断地深入介绍数组对象的操作与实用。"
   ]
  }
 ],
 "metadata": {
  "kernelspec": {
   "display_name": "Python 3",
   "language": "python",
   "name": "python3"
  },
  "language_info": {
   "codemirror_mode": {
    "name": "ipython",
    "version": 3
   },
   "file_extension": ".py",
   "mimetype": "text/x-python",
   "name": "python",
   "nbconvert_exporter": "python",
   "pygments_lexer": "ipython3",
   "version": "3.6.4"
  },
  "toc": {
   "base_numbering": 1,
   "nav_menu": {},
   "number_sections": true,
   "sideBar": true,
   "skip_h1_title": false,
   "title_cell": "Table of Contents",
   "title_sidebar": "Contents",
   "toc_cell": false,
   "toc_position": {
    "height": "calc(100% - 180px)",
    "left": "10px",
    "top": "150px",
    "width": "196px"
   },
   "toc_section_display": true,
   "toc_window_display": true
  }
 },
 "nbformat": 4,
 "nbformat_minor": 2
}
