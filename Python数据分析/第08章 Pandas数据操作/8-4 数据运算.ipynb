{
 "cells": [
  {
   "cell_type": "markdown",
   "metadata": {
    "slideshow": {
     "slide_type": "slide"
    }
   },
   "source": [
    "# 数据运算\n",
    "\n",
    "与 Numpy 数组对象一样，在 Pandas 中，可以对数值型、字符串与日期等数据进行各种矢量操作，在二元计算中需注意 Pandas 对象的索引特定。数据运算处理是数据加工的重要手段，本节介绍 Pandas 常使用的数据运算方法。"
   ]
  },
  {
   "cell_type": "code",
   "execution_count": null,
   "metadata": {
    "slideshow": {
     "slide_type": "-"
    }
   },
   "outputs": [],
   "source": [
    "import numpy as np\n",
    "import pandas as pd\n",
    "import matplotlib.pyplot as plt\n",
    "%matplotlib inline\n",
    "from IPython.core.interactiveshell import InteractiveShell\n",
    "InteractiveShell.ast_node_interactivity='all'"
   ]
  },
  {
   "cell_type": "markdown",
   "metadata": {},
   "source": [
    "## 一元运算\n",
    "\n",
    "对于数值型数据，使用 Pandas 对象的`map` 与 `applymap`方法，可以实现元素级的一元运算操作。例如下面创建"
   ]
  },
  {
   "cell_type": "code",
   "execution_count": null,
   "metadata": {},
   "outputs": [],
   "source": [
    "import string\n",
    "ser = pd.Series([0, 1, 2, np.nan, 4, 5, 6], index=list('abcdefg'))\n",
    "ser"
   ]
  },
  {
   "cell_type": "code",
   "execution_count": null,
   "metadata": {},
   "outputs": [],
   "source": [
    "ser.map(np.sqrt)"
   ]
  },
  {
   "cell_type": "markdown",
   "metadata": {},
   "source": [
    "也可以调用 `np.sqrt()` 函数来操作 `Series` 对象："
   ]
  },
  {
   "cell_type": "code",
   "execution_count": null,
   "metadata": {},
   "outputs": [],
   "source": [
    "np.sqrt(ser)"
   ]
  },
  {
   "cell_type": "markdown",
   "metadata": {},
   "source": [
    "一般来说，后者速度更快一些。"
   ]
  },
  {
   "cell_type": "markdown",
   "metadata": {},
   "source": [
    "## 二元计算\n",
    "\n",
    "当两个 Pandas 对象进行计算二元运算时，由于二者的索引可能并不完全匹配，存在数据对齐问题。Pandas 会取索引对象的并集进行数据对齐。对索引不匹配的位置使用使用缺失值赋值。"
   ]
  },
  {
   "cell_type": "code",
   "execution_count": null,
   "metadata": {},
   "outputs": [],
   "source": [
    "s1 = pd.Series([7.3, -2.5, 3.4, 1.5], index=['a', 'c', 'd', 'e'])\n",
    "s2 = pd.Series([-2.1, 3.6, -1.5, 4, 3.1], index=['a', 'c', 'e', 'f', 'g'])\n",
    "s1\n",
    "s2"
   ]
  },
  {
   "cell_type": "code",
   "execution_count": null,
   "metadata": {},
   "outputs": [],
   "source": [
    "# 二元计算，索引不匹配的位置使用缺失值\n",
    "s1 + s2"
   ]
  },
  {
   "cell_type": "markdown",
   "metadata": {},
   "source": [
    "相对于算术运算符，Pandas 对象提供有对应的方法，除此之外还有对应的翻转方法，例如：\n",
    "\n",
    "| 运算符 | 方法  | 翻转方法  |\n",
    "|:-----|:--------|:--------|\n",
    "| `+`  | `add()` | `radd()` |\n",
    "| `-`  | `sub()` | `rsub()` |\n",
    "| `*`  | `mul()` | `rmul()` |\n",
    "| `/`  | `div()` | `rdiv()` |\n",
    "| `//` | `floordiv()` | `rfloordiv()` |\n",
    "| `**` | `pow()` | `rpow()` |           \n",
    "\n",
    "下面示例会调用这些方法："
   ]
  },
  {
   "cell_type": "code",
   "execution_count": null,
   "metadata": {},
   "outputs": [],
   "source": [
    "# s1 * s2\n",
    "s1.mul(s2)"
   ]
  },
  {
   "cell_type": "code",
   "execution_count": null,
   "metadata": {},
   "outputs": [],
   "source": [
    "# s1 / s2\n",
    "# 翻转除法\n",
    "s2.rdiv(s1)"
   ]
  },
  {
   "cell_type": "markdown",
   "metadata": {},
   "source": [
    "## 字符串向量操作\n",
    "\n",
    "在数据分析过程中，经常需要对杂乱的字符串进行各种各样的处理，字符串列中的缺失值会乱上加乱。除了使用`df.map` 以及`df.apply()`进行矢量化函数操作外，Pandas 还可以通过使用 `Series` 对象的`str`属性来调用字符串向量化操作。例如，在下面的 `Series`对象中，字符串中包含数值与单位，需要拆分其中的数值与单位：  "
   ]
  },
  {
   "cell_type": "code",
   "execution_count": null,
   "metadata": {},
   "outputs": [],
   "source": [
    "# 创建对象\n",
    "s = pd.Series(['100 km', '100 m', np.nan, '20 m'])\n",
    "s"
   ]
  },
  {
   "cell_type": "markdown",
   "metadata": {},
   "source": [
    "由于数据集中有缺失值，使用`s.map()`方法传入`str.split`函数时会抛出异常："
   ]
  },
  {
   "cell_type": "code",
   "execution_count": null,
   "metadata": {},
   "outputs": [],
   "source": [
    "# 去掉注释，运行会抛出异常\n",
    "# s.map(str.split)"
   ]
  },
  {
   "cell_type": "markdown",
   "metadata": {},
   "source": [
    "可以使用`str`属性的`split()`方法来进行拆分："
   ]
  },
  {
   "cell_type": "code",
   "execution_count": null,
   "metadata": {},
   "outputs": [],
   "source": [
    "s.str.split(expand=True)"
   ]
  },
  {
   "cell_type": "markdown",
   "metadata": {},
   "source": [
    "除了提供类似 Python 内置字符串拥有方法外，还提供了正则表达式的向量化函数。例如："
   ]
  },
  {
   "cell_type": "code",
   "execution_count": null,
   "metadata": {},
   "outputs": [],
   "source": [
    "s = pd.Series(['Lion', 'Monkey', 'Rabbit'])\n",
    "# 使用正则表达式\n",
    "s.str.findall('on$')"
   ]
  },
  {
   "cell_type": "markdown",
   "metadata": {},
   "source": [
    "下面列出字符串有关的向量化函数："
   ]
  },
  {
   "cell_type": "code",
   "execution_count": null,
   "metadata": {},
   "outputs": [],
   "source": [
    "print([f for f in dir(s.str) if not f.startswith('_')])"
   ]
  },
  {
   "cell_type": "markdown",
   "metadata": {},
   "source": [
    "## 日期数据的向量操作\n",
    "\n",
    "对于Pandas 日期数据来说，使用`dt`属性也会提供一些向量化操作。下面创建一个`Series`，数据类型为 Pandas 日期类型："
   ]
  },
  {
   "cell_type": "code",
   "execution_count": null,
   "metadata": {},
   "outputs": [],
   "source": [
    "from datetime import datetime\n",
    "\n",
    "times = [datetime(2018, 10, 10, 6), datetime(2018, 10, 10, 7), \n",
    "         datetime(2018, 10, 10, 8), datetime(2018, 10, 10, 11), \n",
    "         datetime(2018, 10, 10, 12), datetime(2018, 10, 10, 13), \n",
    "         datetime(2018, 10, 10, 18), datetime(2018, 10, 10, 19), \n",
    "         datetime(2018, 10, 10, 20), datetime(2018, 10, 10, 21)]\n",
    "s = pd.Series(times)\n",
    "s"
   ]
  },
  {
   "cell_type": "markdown",
   "metadata": {},
   "source": [
    "其`dt`属性提供有一些向量化操作方法，例如返回对应的小时数："
   ]
  },
  {
   "cell_type": "code",
   "execution_count": null,
   "metadata": {},
   "outputs": [],
   "source": [
    "s.dt.hour"
   ]
  },
  {
   "cell_type": "code",
   "execution_count": null,
   "metadata": {},
   "outputs": [],
   "source": [
    "# 周名\n",
    "s.dt.weekday_name"
   ]
  }
 ],
 "metadata": {
  "kernelspec": {
   "display_name": "Python 3",
   "language": "python",
   "name": "python3"
  },
  "language_info": {
   "codemirror_mode": {
    "name": "ipython",
    "version": 3
   },
   "file_extension": ".py",
   "mimetype": "text/x-python",
   "name": "python",
   "nbconvert_exporter": "python",
   "pygments_lexer": "ipython3",
   "version": "3.6.4"
  },
  "toc": {
   "base_numbering": 1,
   "nav_menu": {},
   "number_sections": true,
   "sideBar": true,
   "skip_h1_title": false,
   "title_cell": "Table of Contents",
   "title_sidebar": "Contents",
   "toc_cell": false,
   "toc_position": {
    "height": "calc(100% - 180px)",
    "left": "10px",
    "top": "150px",
    "width": "256px"
   },
   "toc_section_display": true,
   "toc_window_display": true
  }
 },
 "nbformat": 4,
 "nbformat_minor": 2
}
