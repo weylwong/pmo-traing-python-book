{
 "cells": [
  {
   "cell_type": "markdown",
   "metadata": {
    "slideshow": {
     "slide_type": "slide"
    }
   },
   "source": [
    "# Pandas 数据更改\n",
    "\n",
    "Pandas 的 `Series` 与 `DataFrame` 对象是可变对象，意味着可以增加、删除、更改对象指向的数据集。与 Numpy 数组相比，`Series` 与 `DataFrame` 对象除了数据之外还包括行索引以及列索引，故 Pandas 数据修改包括如下内容：\n",
    "- 行列数据的增加、删除、更改\n",
    "- 行列索引的重命名、顺序调整\n",
    "- 数据的排序与专制\n",
    "- 数据清洗，包括缺失值的填充，删除，增加标志位\n",
    "\n",
    "本节主要介绍`Series` 与 `DataFrame` 对象中数据与索引的更改。"
   ]
  },
  {
   "cell_type": "code",
   "execution_count": 1,
   "metadata": {
    "slideshow": {
     "slide_type": "-"
    }
   },
   "outputs": [],
   "source": [
    "import os\n",
    "import numpy as np\n",
    "import pandas as pd\n",
    "import matplotlib.pyplot as plt\n",
    "%matplotlib inline\n",
    "from IPython.core.interactiveshell import InteractiveShell\n",
    "InteractiveShell.ast_node_interactivity='all'"
   ]
  },
  {
   "cell_type": "markdown",
   "metadata": {},
   "source": [
    "## 数据复制与赋值更改\n",
    "\n",
    "对于`Series` 与 `DataFrame` 对象，当进行选取、查看或其它操作时会返回一个新对象。与 Numpy 一样，有些是浅拷贝（视图）操作，有些则是深拷贝操作。对于浅拷贝操作，即返回的对象只是复制元数据（行列索引），仍然与原对象共享数据。对浅拷贝的对象进行数据修改，同时也会修改原对象相同内存位置的数据。"
   ]
  },
  {
   "cell_type": "markdown",
   "metadata": {},
   "source": [
    "例如下面创建一个序列与对象："
   ]
  },
  {
   "cell_type": "code",
   "execution_count": 3,
   "metadata": {},
   "outputs": [],
   "source": [
    "# 时间\n",
    "times = ['6h', '7h', '8h', '11h', '12h', '13h', '18h', '19h', '20h', '21h']\n",
    "# 餐时标识，顾客人数、平均消费、总消费\n",
    "meals = np.array(['B', 'B', 'B', 'L', 'L', 'L', 'D', 'D', 'D', ''])\n",
    "customers = np.array([60, 70, 65, 100, 230, 150, 100, 300, np.nan, 300])\n",
    "costs = np.array([6.5, 7, 8, 24, 23, 26, 45, 55.5, 45, np.nan])\n",
    "\n",
    "# 创建 Series，DataFrame对象\n",
    "customers_series = pd.Series(customers, index=times)\n",
    "data = {'meals': meals, 'customers': customers, 'costs': costs}\n",
    "restaurant_frame = pd.DataFrame(data, index=times)"
   ]
  },
  {
   "cell_type": "code",
   "execution_count": null,
   "metadata": {},
   "outputs": [],
   "source": [
    "customers_series\n",
    "restaurant_frame"
   ]
  },
  {
   "cell_type": "markdown",
   "metadata": {},
   "source": [
    "使用对象方法 `copy()` 会返回一个深拷贝的对象："
   ]
  },
  {
   "cell_type": "code",
   "execution_count": null,
   "metadata": {},
   "outputs": [],
   "source": [
    "ser = customers_series.copy()\n",
    "df = restaurant_frame.copy()"
   ]
  },
  {
   "cell_type": "markdown",
   "metadata": {},
   "source": [
    "对深拷贝对象进行修改，是不会影响原对象的数据："
   ]
  },
  {
   "cell_type": "code",
   "execution_count": null,
   "metadata": {},
   "outputs": [],
   "source": [
    "ser['20h'] = 350\n",
    "print(ser['20h'], customers_series['20h'])"
   ]
  },
  {
   "cell_type": "markdown",
   "metadata": {},
   "source": [
    "对于`Series` 与 `DataFrarme`对象，可以使用标签（索引）、整数位置、索引对象与布尔数组等多种方式来选取数据。同时，这种方式进行也可以进行赋值操作："
   ]
  },
  {
   "cell_type": "code",
   "execution_count": null,
   "metadata": {},
   "outputs": [],
   "source": [
    "ser['6h'] = 0\n",
    "ser"
   ]
  },
  {
   "cell_type": "code",
   "execution_count": null,
   "metadata": {},
   "outputs": [],
   "source": [
    "ser[['13h', '19h', '21h']] = 99.0\n",
    "ser"
   ]
  },
  {
   "cell_type": "code",
   "execution_count": null,
   "metadata": {},
   "outputs": [],
   "source": [
    "ser.iloc[::2] = np.nan\n",
    "ser"
   ]
  },
  {
   "cell_type": "code",
   "execution_count": null,
   "metadata": {},
   "outputs": [],
   "source": [
    "df.loc[df.meals == 'B', 'costs'] = 10000\n",
    "df"
   ]
  },
  {
   "cell_type": "code",
   "execution_count": null,
   "metadata": {},
   "outputs": [],
   "source": [
    "df.iat[0, 1] = 10\n",
    "df"
   ]
  },
  {
   "cell_type": "markdown",
   "metadata": {},
   "source": [
    "## 行列增删\n",
    "\n",
    "### 添加列\n",
    "\n",
    "使用`df[newcol] = x`赋值语句可以在`DataFrame`对象增加新列。注意如果指定列名已存在，则会更改该列。"
   ]
  },
  {
   "cell_type": "code",
   "execution_count": null,
   "metadata": {},
   "outputs": [],
   "source": [
    "# 深拷贝`restaurant_frame`\n",
    "df = restaurant_frame.copy()\n",
    "# 添加总消费列\n",
    "df['total_costs'] = df['customers'] * df['costs']"
   ]
  },
  {
   "cell_type": "markdown",
   "metadata": {},
   "source": [
    "除了传入一个序列外，可以赋值标量与数组方式来添加新列，前者相当于使用广播方式赋值，后者长度须与索引长度一致："
   ]
  },
  {
   "cell_type": "code",
   "execution_count": null,
   "metadata": {},
   "outputs": [],
   "source": [
    "# 添加老板，盈利率\n",
    "df['boss'] = '老王'\n",
    "df['gain_rate'] = [0.1, 0.1, 0.1, 0.2, 0.2, 0.2, 0.3, 0.3, 0.3, 0.3]"
   ]
  },
  {
   "cell_type": "markdown",
   "metadata": {},
   "source": [
    "还可以使用`loc`运算符来添加新列："
   ]
  },
  {
   "cell_type": "code",
   "execution_count": null,
   "metadata": {},
   "outputs": [],
   "source": [
    "# 添加盈利\n",
    "df.loc[:, 'gain'] = df['total_costs'] * df['gain_rate']"
   ]
  },
  {
   "cell_type": "markdown",
   "metadata": {},
   "source": [
    "下面检查添加的结果："
   ]
  },
  {
   "cell_type": "code",
   "execution_count": null,
   "metadata": {},
   "outputs": [],
   "source": [
    "# 检查结果\n",
    "df.info()"
   ]
  },
  {
   "cell_type": "code",
   "execution_count": null,
   "metadata": {},
   "outputs": [],
   "source": [
    "df.head()"
   ]
  },
  {
   "cell_type": "markdown",
   "metadata": {},
   "source": [
    "在使用上述方式添加新列时，都是在列索引尾部追加的。可以使用`insert`方法在指定位置添加一个新列，其使用语法为：\n",
    "```python\n",
    "df.insert(loc, column, value, allow_duplicates=False)\n",
    "```\n",
    "主要参数：\n",
    "- `loc`, 列索引位置\n",
    "- `column`, 列名\n",
    "- `values`，数据\n",
    "- `allow_duplicates=False`，是否允许重复插入。缺省是插入已存在列抛出异常。"
   ]
  },
  {
   "cell_type": "code",
   "execution_count": null,
   "metadata": {},
   "outputs": [],
   "source": [
    "# 在指定位置插入列\n",
    "df.insert(1, 'nonecol', np.nan)\n",
    "df.head()"
   ]
  },
  {
   "cell_type": "markdown",
   "metadata": {},
   "source": [
    "### 删除列\n",
    "\n",
    "有如下方法可以删除列：\n",
    "- `del`命令，一次只能删除一列\n",
    "- `df.drop()`方法，可以删除多列\n",
    "- `df.pop()`方法，删除一列，并返回删除列\n",
    "\n",
    "在删除列时，如果指定列名不存在，会抛出`KeyError`。"
   ]
  },
  {
   "cell_type": "code",
   "execution_count": null,
   "metadata": {},
   "outputs": [],
   "source": [
    "# 删除一列，如列名不存在则抛出KeyError\n",
    "del df['nonecol']"
   ]
  },
  {
   "cell_type": "markdown",
   "metadata": {},
   "source": [
    "使用`df.drop()`会返回删除列后的新对象，原对象本身并没有改变。函数提供`inplace`参数用于指定是否在对象内部进行删除。`df.drop()`可以删除行或列，使用参数`axis`来指定。其使用语法：\n",
    "```python\n",
    "df.drop(labels=None, axis=0, index=None, columns=None, level=None, inplace=False, errors='raise')\n",
    "```\n",
    "主要参数\n",
    "- `labels=None`，名称列表。\n",
    "- `axis=0`，0表示删除行（缺省），1表示删除列。\n",
    "- `inplace=False`, False表示原对象自身不删除，True表示原对象自身改变。\n",
    "- `index`, 用来删除行，等价于（labels, axis=0）。\n",
    "- `columns`, 用来删除列，等价于（labels, axis=1）。\n",
    "- `level`，用于层级索引"
   ]
  },
  {
   "cell_type": "code",
   "execution_count": null,
   "metadata": {},
   "outputs": [],
   "source": [
    "# 删除列\n",
    "df.drop(['boss', 'gain_rate'], axis=1, inplace=True)\n",
    "df.drop(columns=['total_costs'], inplace=True)\n",
    "# 检查结果\n",
    "df.head()"
   ]
  },
  {
   "cell_type": "markdown",
   "metadata": {},
   "source": [
    "下面使用`df.pop`方法来删除一列："
   ]
  },
  {
   "cell_type": "code",
   "execution_count": null,
   "metadata": {},
   "outputs": [],
   "source": [
    "gain_series = df.pop('gain')\n",
    "df.head()"
   ]
  },
  {
   "cell_type": "markdown",
   "metadata": {},
   "source": [
    "### 添加与删除行\n",
    "\n",
    "对于`Series`对象，可以使用赋值语句、`loc`运算符等多种方法添加行。对于`DataFrame`对象，可以使用`loc`运算符来添加行，但要注意的是，传入对象必须与列数保持一致。同样，如果指定行标签已存在，会更改该行。"
   ]
  },
  {
   "cell_type": "code",
   "execution_count": null,
   "metadata": {},
   "outputs": [],
   "source": [
    "# 深拷贝`restaurant_frame`\n",
    "df = restaurant_frame.copy()\n",
    "df.tail()"
   ]
  },
  {
   "cell_type": "code",
   "execution_count": null,
   "metadata": {},
   "outputs": [],
   "source": [
    "# 添加新行\n",
    "df.loc['22h'] = ['D', 200, 55]\n",
    "df.tail()"
   ]
  },
  {
   "cell_type": "markdown",
   "metadata": {},
   "source": [
    "使用`df.drop()`方法来删除指定行，如果指定行标签不存在会抛出异常。更多内容参见上节："
   ]
  },
  {
   "cell_type": "code",
   "execution_count": null,
   "metadata": {},
   "outputs": [],
   "source": [
    "# 删除行\n",
    "df.drop(['22h', '13h'], inplace=True)\n",
    "df.drop(index=['18h'], inplace=True)\n",
    "df.tail()"
   ]
  },
  {
   "cell_type": "markdown",
   "metadata": {},
   "source": [
    "## 索引更改\n",
    "\n",
    "Pandas 的 `Series` 与 `DataFrame` 对象包含有行与列索引对象。索引对象是不可变的，也就是说不能直接修改或删除索引对象中某个元素。不过作为一个整体，可以进行重命名等操作。"
   ]
  },
  {
   "cell_type": "code",
   "execution_count": null,
   "metadata": {},
   "outputs": [],
   "source": [
    "# 深拷贝`restaurant_frame`\n",
    "df = restaurant_frame.copy()\n",
    "df.index\n",
    "df.columns"
   ]
  },
  {
   "cell_type": "code",
   "execution_count": null,
   "metadata": {},
   "outputs": [],
   "source": [
    "df.index = df.index + '_hour'\n",
    "df.columns = 'new_' + df.columns\n",
    "df.head()"
   ]
  },
  {
   "cell_type": "markdown",
   "metadata": {},
   "source": [
    "### 重命名行列\n",
    "\n",
    "可以直接使用`df.index`, `df.columns` 的赋值语句来更改行与列索引："
   ]
  },
  {
   "cell_type": "code",
   "execution_count": null,
   "metadata": {},
   "outputs": [],
   "source": [
    "# 深拷贝`restaurant_frame`\n",
    "df = restaurant_frame.copy()\n",
    "df.columns = ['key1', 'key2', 'key3']\n",
    "df"
   ]
  },
  {
   "cell_type": "markdown",
   "metadata": {},
   "source": [
    "Pandas 提供了`df.rename()`方法可以同时重命名行与列：\n",
    "```python\n",
    "df.rename(mapper=None, index=None, columns=None, axis=None, copy=True, inplace=False, level=None)\n",
    "```\n",
    "主要参数\n",
    "- `mapper=None`，映射函数。\n",
    "- `index`, 用来重命名行，等价于（mapper, axis=0）。\n",
    "- `columns`, 用来重命名列，等价于（mapper, axis=1）。\n",
    "- `axis=None`，0表示行（缺省），1表示列。\n",
    "- `inplace=False`, False表示返回新对象，True表示自身改变。\n",
    "- `level`，用于层级索引"
   ]
  },
  {
   "cell_type": "code",
   "execution_count": null,
   "metadata": {},
   "outputs": [],
   "source": [
    "df.rename(columns={'key1': '用餐', 'key2': '顾客人数', 'key3': '平均消费'}, inplace=True)\n",
    "df.head()"
   ]
  },
  {
   "cell_type": "markdown",
   "metadata": {},
   "source": [
    "除了使用字典外，还可以使用匿名函数来重名行列索引："
   ]
  },
  {
   "cell_type": "code",
   "execution_count": null,
   "metadata": {},
   "outputs": [],
   "source": [
    "# 重命名 6h => 6hour\n",
    "df.rename(index=lambda x: x.replace('h', 'hour'))"
   ]
  },
  {
   "cell_type": "markdown",
   "metadata": {},
   "source": [
    "### 重建索引\n",
    "\n",
    "Pandas 对象的`reindex`方法使用新的索引对象，将数据进行重新排列，生成一个新对象。如果某个索引不存在，会引入缺失值。对于顺序数据（例如时间序列）等，可以通过参数`method`指定插值方法来填充。其使用语法为：\n",
    "```python\n",
    "df.reindex(labels=None, index=None, columns=None, axis=None, method=None, copy=True, level=None, fill_value=nan, limit=None, tolerance=None)\n",
    "```\n",
    "主要参数\n",
    "- `labels=None`，新标签（索引）。\n",
    "- `index`, 用来重建行索引，等价于（labels, axis=0）。\n",
    "- `columns`, 用来重建列索引，等价于（labels, axis=1）。\n",
    "- `axis=None`，0表示行，1表示列。\n",
    "- `method=None`，填充方法。\n",
    "- `copy=True`，是否复制新索引。\n",
    "- `fill_value`：引入缺失值时使用的替代值。"
   ]
  },
  {
   "cell_type": "code",
   "execution_count": null,
   "metadata": {},
   "outputs": [],
   "source": [
    "# 深拷贝`restaurant_frame`\n",
    "df = restaurant_frame.copy()\n",
    "newidx = ['6h', '7h', '8h', '9h', '11h', '12h', '13h', '14h', '18h', '19h', '20h', '21h']\n",
    "newdf = df.reindex(index=newidx)\n",
    "newdf"
   ]
  },
  {
   "cell_type": "markdown",
   "metadata": {},
   "source": [
    "`df.reindex`方法支持如下插值方法：\n",
    "- `ffill`，前向填充\n",
    "- `bfill`，后向填充\n",
    "\n",
    "下面语句更改`DataFrame`对象行索引为整数序列，"
   ]
  },
  {
   "cell_type": "code",
   "execution_count": null,
   "metadata": {},
   "outputs": [],
   "source": [
    "# 更改行索引为整数序列：\n",
    "df.index = [6, 7, 8, 11, 12, 13, 18, 19, 20, 21]\n",
    "# 使用前向填充\n",
    "newidx = [6, 7, 8, 9, 11, 12, 13, 14, 18, 19, 20, 21, 22]\n",
    "newdf = df.reindex(index=newidx, method='ffill', fill_value=10)\n",
    "newdf"
   ]
  },
  {
   "cell_type": "markdown",
   "metadata": {},
   "source": [
    "### 索引与列转换\n",
    "\n",
    "`DataFrame`对象提供如下方法实现索引与列之间的转换：\n",
    "- `df.reset_index()`把索引转换为列；\n",
    "- `df.set_index()` 则把列设置为索引；\n",
    "\n",
    "二者会返回一个新对象，使用参数`inplace=True`则在对象内部进行改变："
   ]
  },
  {
   "cell_type": "code",
   "execution_count": null,
   "metadata": {},
   "outputs": [],
   "source": [
    "# 深拷贝`restaurant_frame`\n",
    "df = restaurant_frame.copy()\n",
    "# 把索引转换为列\n",
    "df.reset_index(inplace=True)\n",
    "df"
   ]
  },
  {
   "cell_type": "code",
   "execution_count": null,
   "metadata": {},
   "outputs": [],
   "source": [
    "# 把`index`列转换为索引\n",
    "df.set_index('index')"
   ]
  },
  {
   "cell_type": "markdown",
   "metadata": {},
   "source": [
    "在后续章节分层索引中有更多介绍。"
   ]
  },
  {
   "cell_type": "markdown",
   "metadata": {},
   "source": [
    "### 列格式转换\n",
    "\n",
    "`Series` 用于同质的数据集，即数据类型都是一样的。`DataFrame` 用于异质的数据集，不同列的数据类型可以不同，但同一列数据类型则是一样的。Pandas 与 Python 内置、Numpy的数据类型对比如下：\n",
    "\n",
    "| Pandas  |  Python  |  Numpy  |  用途| \n",
    "|:-------:|:-------:|:-------:|:-------:|\n",
    "| object | str | string_, unicode_ | 文本 | \n",
    "| int64 | int | int_, int8, int16, int32, int64, uint8, uint16, uint32, uint64 | 整数 | \n",
    "| float64 | float | float_, float16, float32, float64 | 浮点数 | \n",
    "| bool | bool | bool_ | 布尔数（True/False）  | \n",
    "| datetime64 | NA | datetime64[ns] | 日期   |\n",
    "| timedelta[ns] | NA | NA | 时间间隔  |\n",
    "| category | NA | NA | 类别数据  |\n",
    "\n",
    "使用 Pandas 对象的 `astype()`方法，可以转换数据类型。其使用方法为：\n",
    "```python\n",
    "df.astype(dtype, copy=True, errors='raise', **kwargs)\n",
    "s.astype(dtype, copy=True, errors='raise', **kwargs)\n",
    "```\n",
    "主要参数为：\n",
    "- `dtype`，数据类型或字典\n",
    "- `errors='raise'`，在数据类型转换时会出错，缺省情况出错会抛出异常。设置为`ignore`则忽略。"
   ]
  },
  {
   "cell_type": "markdown",
   "metadata": {},
   "source": [
    "下面改变一个 `Series` 对象的数据类型，返回一个新对象："
   ]
  },
  {
   "cell_type": "code",
   "execution_count": 20,
   "metadata": {},
   "outputs": [
    {
     "data": {
      "text/plain": [
       "0    1\n",
       "1    2\n",
       "dtype: int32"
      ]
     },
     "execution_count": 20,
     "metadata": {},
     "output_type": "execute_result"
    },
    {
     "data": {
      "text/plain": [
       "0    1.0\n",
       "1    2.0\n",
       "dtype: float64"
      ]
     },
     "execution_count": 20,
     "metadata": {},
     "output_type": "execute_result"
    }
   ],
   "source": [
    "ser = pd.Series([1, 2], dtype='int32')\n",
    "ser\n",
    "\n",
    "ser2 = ser.astype('float64')\n",
    "ser2"
   ]
  },
  {
   "cell_type": "markdown",
   "metadata": {},
   "source": [
    "下面转换一个 `DataFrame` 对象的数据格式："
   ]
  },
  {
   "cell_type": "code",
   "execution_count": 21,
   "metadata": {},
   "outputs": [
    {
     "name": "stdout",
     "output_type": "stream",
     "text": [
      "<class 'pandas.core.frame.DataFrame'>\n",
      "Index: 10 entries, 6h to 21h\n",
      "Data columns (total 3 columns):\n",
      "meals        10 non-null object\n",
      "customers    9 non-null float64\n",
      "costs        9 non-null float64\n",
      "dtypes: float64(2), object(1)\n",
      "memory usage: 320.0+ bytes\n"
     ]
    }
   ],
   "source": [
    "# 深拷贝 restaurant_frame, customers_series\n",
    "df = restaurant_frame.copy()\n",
    "df.info()"
   ]
  },
  {
   "cell_type": "code",
   "execution_count": 23,
   "metadata": {},
   "outputs": [
    {
     "name": "stdout",
     "output_type": "stream",
     "text": [
      "<class 'pandas.core.frame.DataFrame'>\n",
      "Index: 10 entries, 6h to 21h\n",
      "Data columns (total 3 columns):\n",
      "meals        10 non-null category\n",
      "customers    10 non-null object\n",
      "costs        9 non-null float64\n",
      "dtypes: category(1), float64(1), object(1)\n",
      "memory usage: 442.0+ bytes\n"
     ]
    }
   ],
   "source": [
    "# 转换 meals列为类别数据类型； customers列为字符串\n",
    "newdf = df.astype(dtype={'meals': 'category', 'customers': np.str_})\n",
    "newdf.info()"
   ]
  },
  {
   "cell_type": "markdown",
   "metadata": {},
   "source": [
    "## 排序\n",
    "\n",
    "对数据集进行排序是常用操作。`Series` 与 `DataFrame` 对象包括数据与索引，可以使用索引与列值进行排序。"
   ]
  },
  {
   "cell_type": "markdown",
   "metadata": {},
   "source": [
    "### 索引排序\n",
    "\n",
    "Pandas 对象提供 `sort_index()`返回一个排序的新对象，其使用方法为：\n",
    "```python\n",
    "df.sort_index(axis=0, level=None, ascending=True, inplace=False, kind='quicksort', na_position='last', sort_remaining=True, by=None)\n",
    "```\n",
    "主要参数\n",
    "- `axis`，0表示行，1表示列\n",
    "- `ascending=True`，顺序亦或降序"
   ]
  },
  {
   "cell_type": "code",
   "execution_count": null,
   "metadata": {},
   "outputs": [],
   "source": [
    "ser = pd.Series(np.random.rand(4), index=['l3', 'l1', 'l4', 'l0'])\n",
    "ser"
   ]
  },
  {
   "cell_type": "code",
   "execution_count": null,
   "metadata": {},
   "outputs": [],
   "source": [
    "# 按降序排序\n",
    "ser.sort_index(ascending=False)"
   ]
  },
  {
   "cell_type": "markdown",
   "metadata": {},
   "source": [
    "### 列值排序\n",
    "\n",
    "使用列中的值进行排序，可以使用 `sort_values()` 方法：\n",
    "```python\n",
    "df.sort_values(by, axis=0, ascending=True, inplace=False, kind='quicksort', na_position='last')\n",
    "```\n",
    "主要参数\n",
    "- `by`，指定列，字符串或列表。\n",
    "- `axis=0`，0表示行，1表示列。\n",
    "- `ascending=True`，布尔数或列表，顺序亦或降序。可以使用列表分别指定排序顺序。\n",
    "- `na_position=last`，对于缺失值来说，其Nan值无法进行比较排序，缺省情况会放置在对象尾部。"
   ]
  },
  {
   "cell_type": "code",
   "execution_count": null,
   "metadata": {},
   "outputs": [],
   "source": [
    "# 深拷贝`restaurant_frame`\n",
    "df = restaurant_frame.copy()\n",
    "# `customers`列升序, `costs`降序\n",
    "df.sort_values(by=['customers', 'costs'], ascending=[True, False], na_position='first')"
   ]
  },
  {
   "cell_type": "markdown",
   "metadata": {},
   "source": [
    "### 排名\n",
    "\n",
    "Pandas对象提供方法`rank()`对数据进行排名，其使用语法为：\n",
    "```python\n",
    "ser.rank(axis=0, method='average', numeric_only=None, na_option='keep', ascending=True, pct=False)\n",
    "```\n",
    "主要参数\n",
    "- `method='average'`，指定平级时的排名方法。"
   ]
  },
  {
   "cell_type": "code",
   "execution_count": null,
   "metadata": {},
   "outputs": [],
   "source": [
    "ser = pd.Series(np.random.randint(1, 10, size=6), index=['l3', 'l1', 'l4', 'l0', 'l5', 'l2'])\n",
    "ser"
   ]
  },
  {
   "cell_type": "code",
   "execution_count": null,
   "metadata": {},
   "outputs": [],
   "source": [
    "# 平级时按照先后顺序进行排名\n",
    "ser.rank(method='first')"
   ]
  },
  {
   "cell_type": "markdown",
   "metadata": {},
   "source": [
    "## 转置\n",
    "\n",
    "与 Numpy 二维数组一样，有时需要对行列进行对换，使用`DataFrame`对象的转置属性`df.T`返回转置结果："
   ]
  },
  {
   "cell_type": "code",
   "execution_count": null,
   "metadata": {},
   "outputs": [],
   "source": [
    "# 深拷贝`restaurant_frame`\n",
    "df = restaurant_frame.copy()\n",
    "df.T"
   ]
  }
 ],
 "metadata": {
  "kernelspec": {
   "display_name": "Python 3",
   "language": "python",
   "name": "python3"
  },
  "language_info": {
   "codemirror_mode": {
    "name": "ipython",
    "version": 3
   },
   "file_extension": ".py",
   "mimetype": "text/x-python",
   "name": "python",
   "nbconvert_exporter": "python",
   "pygments_lexer": "ipython3",
   "version": "3.6.4"
  },
  "toc": {
   "base_numbering": 1,
   "nav_menu": {},
   "number_sections": true,
   "sideBar": true,
   "skip_h1_title": false,
   "title_cell": "Table of Contents",
   "title_sidebar": "Contents",
   "toc_cell": false,
   "toc_position": {
    "height": "calc(100% - 180px)",
    "left": "10px",
    "top": "150px",
    "width": "299px"
   },
   "toc_section_display": true,
   "toc_window_display": true
  }
 },
 "nbformat": 4,
 "nbformat_minor": 2
}
