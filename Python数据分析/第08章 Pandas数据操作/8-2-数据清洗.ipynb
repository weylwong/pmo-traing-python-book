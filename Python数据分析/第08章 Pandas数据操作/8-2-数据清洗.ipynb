{
 "cells": [
  {
   "cell_type": "markdown",
   "metadata": {
    "slideshow": {
     "slide_type": "slide"
    }
   },
   "source": [
    "# 数据清洗\n",
    "\n",
    "现实中的数据总有各种各样的错误，称为脏（dirty）数据或坏数据。坏数据在数据分析中可能会引发千奇百怪的异常与错误，所以有人说，坏数据要比无数据还坏。故在数据分析之前，常常要花费大量时间来清洗数据，来处理这些脏数据或坏数据。\n",
    "\n",
    "对于杂乱无规则的脏数据，常常可以归类如下：\n",
    "- 无用数据\n",
    "- 重复数据\n",
    "- 缺失数据\n",
    "- 错误或异常数据\n",
    "\n",
    "本节介绍相应的数据清洗方法。"
   ]
  },
  {
   "cell_type": "code",
   "execution_count": null,
   "metadata": {
    "slideshow": {
     "slide_type": "-"
    }
   },
   "outputs": [],
   "source": [
    "import numpy as np\n",
    "import pandas as pd\n",
    "import matplotlib.pyplot as plt\n",
    "%matplotlib inline\n",
    "from IPython.core.interactiveshell import InteractiveShell\n",
    "InteractiveShell.ast_node_interactivity='all'"
   ]
  },
  {
   "cell_type": "markdown",
   "metadata": {
    "slideshow": {
     "slide_type": "slide"
    }
   },
   "source": [
    "## 无用数据\n",
    "\n",
    "顾名思义，加载读取的数据集中有些字段与所需无关。对应的数据清洗方法有二：\n",
    "- 保留下来不理它，只是耗些内存而已。\n",
    "- 删除它，眼不见心不烦。"
   ]
  },
  {
   "cell_type": "markdown",
   "metadata": {
    "slideshow": {
     "slide_type": "slide"
    }
   },
   "source": [
    "### 删除无用数据\n",
    "\n",
    "使用`df.drop()`方法来删除无用数据："
   ]
  },
  {
   "cell_type": "code",
   "execution_count": null,
   "metadata": {
    "slideshow": {
     "slide_type": "slide"
    }
   },
   "outputs": [],
   "source": [
    "df = pd.DataFrame(np.arange(24).reshape(3, 8),\n",
    "                  columns=['A', 'B', 'C', 'D', 'E', 'F', 'G', 'H'])\n",
    "df"
   ]
  },
  {
   "cell_type": "code",
   "execution_count": null,
   "metadata": {
    "slideshow": {
     "slide_type": "slide"
    }
   },
   "outputs": [],
   "source": [
    "to_drop = ['B', 'D', 'F', 'H']\n",
    "df.drop(to_drop, axis=1, inplace=True)\n",
    "df"
   ]
  },
  {
   "cell_type": "markdown",
   "metadata": {
    "slideshow": {
     "slide_type": "slide"
    }
   },
   "source": [
    "### 使用列选择\n",
    "\n",
    "使用反向选择的方法："
   ]
  },
  {
   "cell_type": "code",
   "execution_count": null,
   "metadata": {
    "slideshow": {
     "slide_type": "slide"
    }
   },
   "outputs": [],
   "source": [
    "df = pd.DataFrame(np.arange(24).reshape(3, 8),\n",
    "                  columns=['A', 'B', 'C', 'D', 'E', 'F', 'G', 'H'])\n",
    "df"
   ]
  },
  {
   "cell_type": "code",
   "execution_count": null,
   "metadata": {
    "slideshow": {
     "slide_type": "-"
    }
   },
   "outputs": [],
   "source": [
    "colnames = ['A', 'C', 'E', 'G']\n",
    "df = df[colnames]\n",
    "df"
   ]
  },
  {
   "cell_type": "markdown",
   "metadata": {
    "slideshow": {
     "slide_type": "slide"
    }
   },
   "source": [
    "## 重复数据\n",
    "\n",
    "Pandas 数据帧中的数据行是可以重复的，判断数据是否重复取决于数据的实际意义。在数据收集过程中，特别是人工收集的过程中，常会出现数据重复的现象。"
   ]
  },
  {
   "cell_type": "markdown",
   "metadata": {
    "slideshow": {
     "slide_type": "slide"
    }
   },
   "source": [
    "### 重复数据检查\n",
    "\n",
    "`df.duplicated()`用来检查数据是否重复，其使用语法为：\n",
    "```python\n",
    "df.duplicated(subset=None, keep='first')\n",
    "```\n",
    "主要参数说明：\n",
    "- `subset=None`，识别重复标签（字符串或列表），默认是所有列标签；\n",
    "- `keep='first'`：`'first'`标记第一个之外数据；`'last'`标记最后一个之外数据；`False`标记全部重复数据；"
   ]
  },
  {
   "cell_type": "code",
   "execution_count": null,
   "metadata": {
    "scrolled": true,
    "slideshow": {
     "slide_type": "slide"
    }
   },
   "outputs": [],
   "source": [
    "df = pd.DataFrame({\n",
    "    'id1': ['a', 'a', 'a', 'b', 'b', 'b'],\n",
    "    'id2': ['a1', 'a2', 'a2', 'b1', 'b2', 'b2'],\n",
    "    'x': [1, 2, 3, 4, 5, 5] ,\n",
    "    'y': [0.1, 0.3, 0.3, 0.4, 0.5, 0.5] ,\n",
    "})\n",
    "\n",
    "df"
   ]
  },
  {
   "cell_type": "code",
   "execution_count": null,
   "metadata": {
    "slideshow": {
     "slide_type": "-"
    }
   },
   "outputs": [],
   "source": [
    "# 标记所有数据\n",
    "df.duplicated(keep=False)"
   ]
  },
  {
   "cell_type": "code",
   "execution_count": null,
   "metadata": {
    "slideshow": {
     "slide_type": "slide"
    }
   },
   "outputs": [],
   "source": [
    "# 标记最后一个之外数据\n",
    "df.duplicated(['id1', 'id2'], keep='last')"
   ]
  },
  {
   "cell_type": "markdown",
   "metadata": {
    "slideshow": {
     "slide_type": "slide"
    }
   },
   "source": [
    "### 数据去重\n",
    "\n",
    "使用 `df.drop_duplicates()` 方法用来删除重复数据，即数据去重，其使用语法为：\n",
    "```python\n",
    "df.drop_duplicates(subset=None, keep='first', inplace=False)\n",
    "```\n",
    "主要参数说明：\n",
    "- `subset=None`，识别重复标签（标量或序列），默认是所有列标签；\n",
    "- `keep='first'`：`'first'`表示从前向后，后面相同数据是重复；`'last'`表示从后向前，之前相同数据是重复值；`False`标记全部重复数据；\n",
    "- `inplace=False`，是否在对象中直接修改；"
   ]
  },
  {
   "cell_type": "markdown",
   "metadata": {},
   "source": [
    "下面代码返回数据去重后的新对象："
   ]
  },
  {
   "cell_type": "code",
   "execution_count": null,
   "metadata": {
    "slideshow": {
     "slide_type": "slide"
    }
   },
   "outputs": [],
   "source": [
    "df.drop_duplicates(keep='first')"
   ]
  },
  {
   "cell_type": "code",
   "execution_count": null,
   "metadata": {
    "slideshow": {
     "slide_type": "slide"
    }
   },
   "outputs": [],
   "source": [
    "df.drop_duplicates(['id1', 'id2'], keep='first')"
   ]
  },
  {
   "cell_type": "markdown",
   "metadata": {
    "slideshow": {
     "slide_type": "slide"
    }
   },
   "source": [
    "在实际工作中，有时会先对数据进行排序，然后再进行去重，以保留自己实际需要数据。\n",
    "\n",
    "假定一个数据集，是对于不同id的事物，在不同时间进行测量得到一个结果："
   ]
  },
  {
   "cell_type": "code",
   "execution_count": null,
   "metadata": {
    "slideshow": {
     "slide_type": "-"
    }
   },
   "outputs": [],
   "source": [
    "df = pd.DataFrame({\n",
    "    'id': ['a', 'a', 'c', 'b', 'b', 'b'],\n",
    "    'date': ['2018-01-01', '2018-10-01', '2018-09-01', '2018-01-01', '2018-10-01', '2018-10-01'],\n",
    "    'value': [1, 2, 3, 4, 5, 5] ,\n",
    "})\n",
    "df['date'] = pd.to_datetime(df['date'])"
   ]
  },
  {
   "cell_type": "code",
   "execution_count": null,
   "metadata": {
    "slideshow": {
     "slide_type": "slide"
    }
   },
   "outputs": [],
   "source": [
    "df.head()"
   ]
  },
  {
   "cell_type": "markdown",
   "metadata": {
    "slideshow": {
     "slide_type": "slide"
    }
   },
   "source": [
    "如果只想获得最近的测量结果，可以对时间列进行排序再去重即可："
   ]
  },
  {
   "cell_type": "code",
   "execution_count": null,
   "metadata": {
    "slideshow": {
     "slide_type": "-"
    }
   },
   "outputs": [],
   "source": [
    "df.sort_values(['date'], ascending=[False], inplace=True)\n",
    "df"
   ]
  },
  {
   "cell_type": "code",
   "execution_count": null,
   "metadata": {
    "slideshow": {
     "slide_type": "slide"
    }
   },
   "outputs": [],
   "source": [
    "df_droped = df.drop_duplicates(['id'])\n",
    "df_droped"
   ]
  },
  {
   "cell_type": "markdown",
   "metadata": {
    "slideshow": {
     "slide_type": "slide"
    }
   },
   "source": [
    "## 缺失数据\n",
    "\n",
    "在实际工作中，由于种种原因，采集到的数据中会存在缺失。Pandas设计目标之一就是便利地处理缺失值。然而，了解数据的缺失以及对缺失数据进行处理，仍然是一件重要的事。\n",
    "\n",
    "仍然使用上一示例数据："
   ]
  },
  {
   "cell_type": "code",
   "execution_count": null,
   "metadata": {
    "slideshow": {
     "slide_type": "-"
    }
   },
   "outputs": [],
   "source": [
    "df = pd.DataFrame({\n",
    "    'id': ['a', 'a', 'c', 'b', 'b', 'b'],\n",
    "    'date': ['2018-01-01', '2018-10-01', '2018-09-01', '', '2018-10-01', '2018-10-01'],\n",
    "    'value': [1, 2, 3, np.nan, 5, 5] ,\n",
    "})\n",
    "\n",
    "df['date'] = pd.to_datetime(df['date'])\n",
    "\n",
    "df.info()"
   ]
  },
  {
   "cell_type": "code",
   "execution_count": null,
   "metadata": {
    "slideshow": {
     "slide_type": "-"
    }
   },
   "outputs": [],
   "source": [
    "df.head()"
   ]
  },
  {
   "cell_type": "markdown",
   "metadata": {
    "slideshow": {
     "slide_type": "slide"
    }
   },
   "source": [
    "在Pandas中，对于数值型数据，使用`NaN (Not a Number)`来表示缺失值；对于日期型`datetime64`则使用`NaT (Not a Time)`来表示。Pandas 对缺失数据的处理方法有如下：\n",
    "- `df.isnull()`: 返回缺失数据的布尔结果\n",
    "- `df.notnull()`：`isnull()`的否定式\n",
    "- `df.dropna()`：去除缺失数据\n",
    "- `df.fillna()`：填充缺失数据"
   ]
  },
  {
   "cell_type": "markdown",
   "metadata": {
    "slideshow": {
     "slide_type": "slide"
    }
   },
   "source": [
    "### 缺失值检查\n",
    "\n",
    "使用 `df.isnull()` 与 `df.notnull()` 来判断数据中是否存在缺失值："
   ]
  },
  {
   "cell_type": "code",
   "execution_count": null,
   "metadata": {
    "slideshow": {
     "slide_type": "slide"
    }
   },
   "outputs": [],
   "source": [
    "# 检查所有列\n",
    "df.isnull()"
   ]
  },
  {
   "cell_type": "code",
   "execution_count": null,
   "metadata": {
    "slideshow": {
     "slide_type": "-"
    }
   },
   "outputs": [],
   "source": [
    "# 检查指定列\n",
    "df['date'].isnull()"
   ]
  },
  {
   "cell_type": "code",
   "execution_count": null,
   "metadata": {
    "slideshow": {
     "slide_type": "slide"
    }
   },
   "outputs": [],
   "source": [
    "df['value'].notnull()"
   ]
  },
  {
   "cell_type": "markdown",
   "metadata": {
    "slideshow": {
     "slide_type": "slide"
    }
   },
   "source": [
    "### 缺失值删除\n",
    "\n",
    "使用 `df.dropna()` 删除缺失值，其使用语法为：\n",
    "```python\n",
    "df.dropna(axis=0, how='any', thresh=None, subset=None, inplace=False)\n",
    "```\n",
    "主要参数说明：\n",
    "- `axis=0`：默认是丢弃行;\n",
    "- `how='any`: 默认是丢弃任何含有缺失值的行，`all`表示全部是缺失值才丢弃;"
   ]
  },
  {
   "cell_type": "code",
   "execution_count": null,
   "metadata": {
    "slideshow": {
     "slide_type": "slide"
    }
   },
   "outputs": [],
   "source": [
    "df.dropna(how='any')\n",
    "# df.dropna(how='all')"
   ]
  },
  {
   "cell_type": "markdown",
   "metadata": {
    "slideshow": {
     "slide_type": "slide"
    }
   },
   "source": [
    "### 缺失值填充\n",
    "\n",
    "使用`df.fillna()`方法来补全缺失值，而非简单过滤，其使用语法为：\n",
    "```python\n",
    "df.fillna(value=None, method=None, axis=None, inplace=False, limit=None, downcast=None, **kwargs)\n",
    "```\n",
    "主要参数：\n",
    "- `value`： 指定标量或字典对象用于填充缺失值。\n",
    "- `method`： 指定插值方法，默认是`ffill`前填充。"
   ]
  },
  {
   "cell_type": "code",
   "execution_count": null,
   "metadata": {
    "slideshow": {
     "slide_type": "slide"
    }
   },
   "outputs": [],
   "source": [
    "df = pd.DataFrame([[np.nan, 2, np.nan, 0],\n",
    "                   [3, 4, np.nan, 1],\n",
    "                   [np.nan, np.nan, np.nan, 5],\n",
    "                   [np.nan, 3, np.nan, 4]],\n",
    "                  columns=list('ABCD'))\n",
    "df"
   ]
  },
  {
   "cell_type": "markdown",
   "metadata": {
    "slideshow": {
     "slide_type": "slide"
    }
   },
   "source": [
    "下面使用指定值来填充："
   ]
  },
  {
   "cell_type": "code",
   "execution_count": null,
   "metadata": {
    "slideshow": {
     "slide_type": "-"
    }
   },
   "outputs": [],
   "source": [
    "df.fillna(0)"
   ]
  },
  {
   "cell_type": "markdown",
   "metadata": {
    "slideshow": {
     "slide_type": "slide"
    }
   },
   "source": [
    "使用字典型对象，不同的列用不同的值来填充："
   ]
  },
  {
   "cell_type": "code",
   "execution_count": null,
   "metadata": {
    "slideshow": {
     "slide_type": "-"
    }
   },
   "outputs": [],
   "source": [
    "values = {'A': 0, 'B': 1, 'C': 2, 'D': 3}\n",
    "df.fillna(value=values)"
   ]
  },
  {
   "cell_type": "markdown",
   "metadata": {
    "slideshow": {
     "slide_type": "slide"
    }
   },
   "source": [
    "使用插值方法来填充，插值方法包括：\n",
    "- `ffill`，用前一行的数据来填充。\n",
    "- `bfill`，后后一行的数据来填充。"
   ]
  },
  {
   "cell_type": "code",
   "execution_count": null,
   "metadata": {
    "slideshow": {
     "slide_type": "-"
    }
   },
   "outputs": [],
   "source": [
    "df.fillna(method='ffill')"
   ]
  },
  {
   "cell_type": "code",
   "execution_count": null,
   "metadata": {
    "slideshow": {
     "slide_type": "slide"
    }
   },
   "outputs": [],
   "source": [
    "df.fillna(method='bfill')"
   ]
  },
  {
   "cell_type": "markdown",
   "metadata": {
    "slideshow": {
     "slide_type": "slide"
    }
   },
   "source": [
    "对于数值型列，会用一些统计值，例如均值、中位数等来填充缺失值。"
   ]
  },
  {
   "cell_type": "markdown",
   "metadata": {
    "slideshow": {
     "slide_type": "slide"
    }
   },
   "source": [
    "## 错误和异常数据\n",
    "\n",
    "### 错误数据替换\n",
    "在数据集中，有些数据存在明显错误，需要进行清洗或者修正。使用 `replace()` 方法可以快捷进行修改，其使用语法为：\n",
    "```python\n",
    "df.replace(to_replace=None, value=None, inplace=False, limit=None, regex=False, method='pad')\n",
    "s.replace(to_replace=None, value=None, inplace=False, limit=None, regex=False, method='pad')\n",
    "```\n",
    "\n",
    "使用 `to_replace` 与 `value`，使用直接指定方法实现数据替换。\n",
    "\n",
    "指定`regex=True`，使用正则表达式来实现数据替换。"
   ]
  },
  {
   "cell_type": "markdown",
   "metadata": {},
   "source": [
    "旧值与替换值都为标量："
   ]
  },
  {
   "cell_type": "code",
   "execution_count": null,
   "metadata": {},
   "outputs": [],
   "source": [
    "# 0 ==>  5\n",
    "s = pd.Series([0, 1, 2, 3, 4])\n",
    "s.replace(0, 5)"
   ]
  },
  {
   "cell_type": "markdown",
   "metadata": {},
   "source": [
    "旧值为列表，替换值为标量或列表："
   ]
  },
  {
   "cell_type": "code",
   "execution_count": null,
   "metadata": {},
   "outputs": [],
   "source": [
    "df = pd.DataFrame({'A': [0, 1, 2, 3, 4],\n",
    "                   'B': [5, 6, 7, 8, 9],\n",
    "                   'C': ['a', 'b', 'c', 'd', 'e']})\n",
    "df"
   ]
  },
  {
   "cell_type": "code",
   "execution_count": null,
   "metadata": {},
   "outputs": [],
   "source": [
    "# [0, 1, 2, 3] => 4\n",
    "df.replace([0, 1, 2, 3], 4)"
   ]
  },
  {
   "cell_type": "code",
   "execution_count": null,
   "metadata": {},
   "outputs": [],
   "source": [
    "# [0, 1, 2, 3] => [4, 3, 2, 1]\n",
    "df.replace([0, 1, 2, 3], [4, 3, 2, 1])"
   ]
  },
  {
   "cell_type": "markdown",
   "metadata": {},
   "source": [
    "使用字典方式"
   ]
  },
  {
   "cell_type": "code",
   "execution_count": null,
   "metadata": {},
   "outputs": [],
   "source": [
    "# 0 in A， 5 in B  => 100\n",
    "df.replace({'A': 0, 'B': 5}, 100)"
   ]
  },
  {
   "cell_type": "markdown",
   "metadata": {},
   "source": [
    "指定`regex=True`，则使用正则表达式方法来进行替换，其它则类似："
   ]
  },
  {
   "cell_type": "code",
   "execution_count": null,
   "metadata": {},
   "outputs": [],
   "source": [
    "df = pd.DataFrame({'A': ['bat', 'foo', 'bait'],\n",
    "                   'B': ['abc', 'bar', 'xyz']})\n",
    "df.replace(to_replace=r'^ba.$', value='new', regex=True)"
   ]
  },
  {
   "cell_type": "markdown",
   "metadata": {},
   "source": [
    "### 异常数据清洗\n",
    "\n",
    "在数据集中，还有一些数据的格式正常，但其值超乎常规或者不符合业务逻辑。对于这些“异常”数据，要特别小心。它们或许是错误的，但也可能是真实的。\n",
    "\n",
    "这些异常数据，通常要结合业务逻辑来判断。不同数据集其方法也不同。常用方法是先使用统计得到标准房差，然后设定阈值，超过多少倍标准方差的即为异常数据。\n",
    "\n",
    "考虑生成一个IT与金融行业工资收入的随机分布数据集："
   ]
  },
  {
   "cell_type": "code",
   "execution_count": null,
   "metadata": {
    "slideshow": {
     "slide_type": "-"
    }
   },
   "outputs": [],
   "source": [
    "incomes = pd.DataFrame({\n",
    "    'it': np.random.normal(50000, 25000, 1024),\n",
    "    'finance': np.random.normal(80000, 25000, 1024)\n",
    "})\n",
    "incomes.head()"
   ]
  },
  {
   "cell_type": "markdown",
   "metadata": {
    "slideshow": {
     "slide_type": "slide"
    }
   },
   "source": [
    "添加几个异常值："
   ]
  },
  {
   "cell_type": "code",
   "execution_count": null,
   "metadata": {
    "slideshow": {
     "slide_type": "-"
    }
   },
   "outputs": [],
   "source": [
    "incomes['it'][512] = 1000000\n",
    "incomes['finance'][256] = 20000000"
   ]
  },
  {
   "cell_type": "markdown",
   "metadata": {
    "slideshow": {
     "slide_type": "slide"
    }
   },
   "source": [
    "可以得到它们的统计结果："
   ]
  },
  {
   "cell_type": "code",
   "execution_count": null,
   "metadata": {
    "slideshow": {
     "slide_type": "-"
    }
   },
   "outputs": [],
   "source": [
    "incomes.describe()"
   ]
  },
  {
   "cell_type": "markdown",
   "metadata": {
    "slideshow": {
     "slide_type": "slide"
    }
   },
   "source": [
    "设定8倍标准方差的数据为异常数据："
   ]
  },
  {
   "cell_type": "code",
   "execution_count": null,
   "metadata": {
    "slideshow": {
     "slide_type": "-"
    }
   },
   "outputs": [],
   "source": [
    "incomes_sigma = incomes.std()\n",
    "incomes_sigma"
   ]
  },
  {
   "cell_type": "code",
   "execution_count": null,
   "metadata": {
    "slideshow": {
     "slide_type": "slide"
    }
   },
   "outputs": [],
   "source": [
    "incomes.loc[abs(incomes['it']) > 8 * incomes_sigma['it'], 'it']"
   ]
  },
  {
   "cell_type": "code",
   "execution_count": null,
   "metadata": {
    "slideshow": {
     "slide_type": "-"
    }
   },
   "outputs": [],
   "source": [
    "incomes.loc[abs(incomes['finance']) > 8 * incomes_sigma['finance'], 'finance']"
   ]
  }
 ],
 "metadata": {
  "kernelspec": {
   "display_name": "Python 3",
   "language": "python",
   "name": "python3"
  },
  "language_info": {
   "codemirror_mode": {
    "name": "ipython",
    "version": 3
   },
   "file_extension": ".py",
   "mimetype": "text/x-python",
   "name": "python",
   "nbconvert_exporter": "python",
   "pygments_lexer": "ipython3",
   "version": "3.6.4"
  },
  "toc": {
   "base_numbering": 1,
   "nav_menu": {},
   "number_sections": true,
   "sideBar": true,
   "skip_h1_title": false,
   "title_cell": "Table of Contents",
   "title_sidebar": "Contents",
   "toc_cell": false,
   "toc_position": {},
   "toc_section_display": true,
   "toc_window_display": false
  }
 },
 "nbformat": 4,
 "nbformat_minor": 2
}
