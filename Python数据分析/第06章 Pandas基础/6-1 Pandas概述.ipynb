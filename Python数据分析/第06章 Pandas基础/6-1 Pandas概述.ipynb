{
 "cells": [
  {
   "cell_type": "markdown",
   "metadata": {
    "slideshow": {
     "slide_type": "slide"
    }
   },
   "source": [
    "# Pandas 概述\n",
    "\n",
    "[Pandas](http://pandas.pydata.org/)是一个基于 Numpy 的 Python 数据分析库。Pandas 提供了高效易用的数据结构与数据分析工具，应用领域广泛，包括金融，经济，统计，科学等学术和商业领域。或许正是 Pandas 的出现，才使得 Python 才成为一个强大而高效的数据分析环境。\n",
    "\n",
    "Pandas 的功能非常强大，主要特点如下：\n",
    "- 快速高效的 DataFrame 对象，非常适合于 SQL 数据库或 Excel 中的表格类数据。\n",
    "- 能够处理有序和无序（不一定是等间隔）的时间序列数据。\n",
    "- 支持带有行和列标签的任意的矩阵数据（同构或异构数据类型）。\n",
    "- 快捷地把其它形式的观测或统计数据导入到Pandas数据结构中。\n",
    "- 灵活处理缺失数据"
   ]
  },
  {
   "cell_type": "code",
   "execution_count": 1,
   "metadata": {
    "slideshow": {
     "slide_type": "-"
    }
   },
   "outputs": [],
   "source": [
    "import numpy as np\n",
    "import pandas as pd\n",
    "import matplotlib.pyplot as plt\n",
    "%matplotlib inline"
   ]
  },
  {
   "cell_type": "markdown",
   "metadata": {
    "slideshow": {
     "slide_type": "slide"
    }
   },
   "source": [
    "## 为什么使用Pandas？\n",
    "\n",
    "Python 内置数据结构类型以及 Numpy 的数组可用于组织管理数据集，其特点如下：\n",
    "\n",
    "| 结构      | 同质 | 可变 | 重复 |  有序  | 映射 |\n",
    "|------------:|-----:|-----:|-----:|-----:|-----:|\n",
    "|列表（list） | 否   |  是 | 是   | 是 |  否  |\n",
    "|元组（tuple）| 否   |  否 | 是   | 是 |  否  |\n",
    "|集合（set）  | 否   |  是 | 否   | 否 |  否  |\n",
    "|字典（dict） | 否   |  是 | 是   | 否 |  是  |\n",
    "|数组（ndarray）| 是   | 是 | 是   | 是 |  否  |"
   ]
  },
  {
   "cell_type": "markdown",
   "metadata": {
    "slideshow": {
     "slide_type": "slide"
    }
   },
   "source": [
    "在现实世界中观测或记录的数据，通常都是在某种时空条件下测量的。例如要分析饭店不同时段用餐人数，如果使用 Numpy 的话，需要创建两个数组："
   ]
  },
  {
   "cell_type": "code",
   "execution_count": 2,
   "metadata": {
    "slideshow": {
     "slide_type": "-"
    }
   },
   "outputs": [
    {
     "data": {
      "text/plain": [
       "array([ 60,  70,  65, 100, 230, 150, 100, 300, 250, 150])"
      ]
     },
     "execution_count": 2,
     "metadata": {},
     "output_type": "execute_result"
    }
   ],
   "source": [
    "# 时间4点，5点，... 22点\n",
    "times = np.array([6, 7, 8, 11, 12, 13, 18, 19, 20, 21])\n",
    "# 顾客人数\n",
    "customers = np.array([60, 70, 65, 100, 230, 150, 100, 300, 250, 150])\n",
    "customers"
   ]
  },
  {
   "cell_type": "code",
   "execution_count": 3,
   "metadata": {
    "slideshow": {
     "slide_type": "slide"
    }
   },
   "outputs": [
    {
     "data": {
      "text/plain": [
       "[<matplotlib.lines.Line2D at 0x23e5c4a3940>]"
      ]
     },
     "execution_count": 3,
     "metadata": {},
     "output_type": "execute_result"
    },
    {
     "data": {
      "image/png": "[encoded data removed]",
      "text/plain": [
       "<matplotlib.figure.Figure at 0x23e5c4a3a20>"
      ]
     },
     "metadata": {},
     "output_type": "display_data"
    }
   ],
   "source": [
    "# 绘制不同时段顾客人数的变化\n",
    "plt.plot(times, customers, '*')\n",
    "plt.plot(times, customers)"
   ]
  },
  {
   "cell_type": "markdown",
   "metadata": {
    "slideshow": {
     "slide_type": "slide"
    }
   },
   "source": [
    "使用两个数组或多个数组来维护同一个数据时，如果要进行修改、添加删除等操作就得同时对两个数组进行操作；而且很容易出现数据未对齐的现象。如果很多类似采集的数据，采集时间有所不同，那么就会出现不同数据源（索引不同）导致的数据处理问题。\n",
    "\n",
    "Pandas 提供新的数据结构以及数据分析工具，可以轻松实现上述需求。实际上，这仅仅是 Pandas 功能的一小部分。"
   ]
  },
  {
   "cell_type": "markdown",
   "metadata": {
    "slideshow": {
     "slide_type": "slide"
    }
   },
   "source": [
    "## 自省\n",
    "\n",
    "Pandas 是一个软件包，使用之前需要使用`import`导入。通常使用如下便捷方式导入："
   ]
  },
  {
   "cell_type": "code",
   "execution_count": 4,
   "metadata": {},
   "outputs": [],
   "source": [
    "import pandas as pd"
   ]
  },
  {
   "cell_type": "markdown",
   "metadata": {},
   "source": [
    "可以使用内置函数来查看`pandas`内容："
   ]
  },
  {
   "cell_type": "code",
   "execution_count": 59,
   "metadata": {
    "scrolled": true,
    "slideshow": {
     "slide_type": "-"
    }
   },
   "outputs": [
    {
     "name": "stdout",
     "output_type": "stream",
     "text": [
      "['Categorical', 'CategoricalIndex', 'DataFrame', 'DateOffset', 'DatetimeIndex', 'ExcelFile', 'ExcelWriter', 'Expr', 'Float64Index', 'Grouper', 'HDFStore', 'Index', 'IndexSlice', 'Int64Index', 'Interval', 'IntervalIndex', 'MultiIndex', 'NaT', 'Panel', 'Period', 'PeriodIndex', 'RangeIndex', 'Series', 'SparseArray', 'SparseDataFrame', 'SparseSeries', 'Term', 'TimeGrouper', 'Timedelta', 'TimedeltaIndex', 'Timestamp', 'UInt64Index', 'WidePanel', '_DeprecatedModule', '__builtins__', '__cached__', '__doc__', '__docformat__', '__file__', '__loader__', '__name__', '__package__', '__path__', '__spec__', '__version__', '_hashtable', '_lib', '_libs', '_np_version_under1p10', '_np_version_under1p11', '_np_version_under1p12', '_np_version_under1p13', '_np_version_under1p14', '_np_version_under1p15', '_tslib', '_version', 'api', 'bdate_range', 'compat', 'concat', 'core', 'crosstab', 'cut', 'date_range', 'datetime', 'datetools', 'describe_option', 'errors', 'eval', 'factorize', 'get_dummies', 'get_option', 'get_store', 'groupby', 'infer_freq', 'interval_range', 'io', 'isna', 'isnull', 'json', 'lib', 'lreshape', 'match', 'melt', 'merge', 'merge_asof', 'merge_ordered', 'notna', 'notnull', 'np', 'offsets', 'option_context', 'options', 'pandas', 'parser', 'period_range', 'pivot', 'pivot_table', 'plot_params', 'plotting', 'pnow', 'qcut', 'read_clipboard', 'read_csv', 'read_excel', 'read_feather', 'read_fwf', 'read_gbq', 'read_hdf', 'read_html', 'read_json', 'read_msgpack', 'read_parquet', 'read_pickle', 'read_sas', 'read_sql', 'read_sql_query', 'read_sql_table', 'read_stata', 'read_table', 'reset_option', 'scatter_matrix', 'set_eng_float_format', 'set_option', 'show_versions', 'test', 'testing', 'timedelta_range', 'to_datetime', 'to_msgpack', 'to_numeric', 'to_pickle', 'to_timedelta', 'tools', 'tseries', 'tslib', 'unique', 'util', 'value_counts', 'wide_to_long']\n"
     ]
    }
   ],
   "source": [
    "print(dir(pd))"
   ]
  },
  {
   "cell_type": "code",
   "execution_count": null,
   "metadata": {},
   "outputs": [],
   "source": []
  },
  {
   "cell_type": "markdown",
   "metadata": {},
   "source": [
    "与 Numpy 一样，Pandas 提供有几个核心数据结构，以及大量的实用函数。学习 Pandas 的方法，首先要掌握几个核心的数据类型：\n",
    "- `Series`；\n",
    "- `DataFrame`；\n",
    "\n",
    "然后按照数据分析的过程，逐步掌握如何使用 Pandas 来导入数据、探索数据、选取数据、清洗数据、处理数据、统计数据、导出数据等使用函数。"
   ]
  },
  {
   "cell_type": "markdown",
   "metadata": {
    "slideshow": {
     "slide_type": "slide"
    }
   },
   "source": [
    "## `Series`类型\n",
    "\n",
    "Pandas 中的 `Series` 类型类似于 Numpy 的一位数组，但与之不同的是，它还有一个与之相关的数据标签，即索引。可以通过索引来找出其值，与映射有些类似。故`Series`对象用于组织管理同质、可变、可重复、有序，有映射的数据集。如下表所示：\n",
    "\n",
    "| 结构      | 同质 | 可变 | 重复 |  有序  | 映射 |\n",
    "|------------:|-----:|-----:|-----:|-----:|-----:|\n",
    "|列表（list） | 否   |  是 | 是   | 是 |  否  |\n",
    "|数组（`ndarray`）| 是   | 是 | 是   | 是 |  否  |\n",
    "|序列（`Series`）| 是   | 是 | 是   | 是 |  是  |"
   ]
  },
  {
   "cell_type": "markdown",
   "metadata": {},
   "source": [
    "### 对象自省\n",
    "\n",
    "可以调用`pd.Series`来创建一个`Series`对象，其语法为：\n",
    "```\n",
    "pandas.Series(data, index, dtype, copy)\n",
    "```\n",
    "其中参数说明为：\n",
    "- `data`，数据，支持类数组、字典、标量对象；\n",
    "- `index`，索引，支持类数组、一维索引对象；\n",
    "- `dtype`，数据类型；\n",
    "- `copy`，布尔值，缺省是False，是否拷贝数据；"
   ]
  },
  {
   "cell_type": "markdown",
   "metadata": {
    "slideshow": {
     "slide_type": "slide"
    }
   },
   "source": [
    "使用前面提过的不同时段顾客人数来创建一个 `Series` 对象："
   ]
  },
  {
   "cell_type": "code",
   "execution_count": 6,
   "metadata": {
    "slideshow": {
     "slide_type": "-"
    }
   },
   "outputs": [
    {
     "data": {
      "text/plain": [
       "0     60\n",
       "1     70\n",
       "2     65\n",
       "3    100\n",
       "4    230\n",
       "5    150\n",
       "6    100\n",
       "7    300\n",
       "8    250\n",
       "9    150\n",
       "dtype: int64"
      ]
     },
     "execution_count": 6,
     "metadata": {},
     "output_type": "execute_result"
    }
   ],
   "source": [
    "customers = pd.Series([60, 70, 65, 100, 230, 150, 100, 300, 250, 150])\n",
    "customers"
   ]
  },
  {
   "cell_type": "markdown",
   "metadata": {
    "slideshow": {
     "slide_type": "slide"
    }
   },
   "source": [
    "使用自省方法来查看变量`customers`所属类型："
   ]
  },
  {
   "cell_type": "code",
   "execution_count": 7,
   "metadata": {
    "slideshow": {
     "slide_type": "-"
    }
   },
   "outputs": [
    {
     "data": {
      "text/plain": [
       "pandas.core.series.Series"
      ]
     },
     "execution_count": 7,
     "metadata": {},
     "output_type": "execute_result"
    }
   ],
   "source": [
    "type(customers)"
   ]
  },
  {
   "cell_type": "markdown",
   "metadata": {
    "slideshow": {
     "slide_type": "slide"
    }
   },
   "source": [
    "从上面结果可知，`Series`数据结构除了一维数组外，还有对应的索引（或标识）。索引在左，数据在右。在创建`Series`对象时不指定索引会自动创建一个整数型索引。可以通过`values`和`index`属性得到数据值和索引："
   ]
  },
  {
   "cell_type": "code",
   "execution_count": 8,
   "metadata": {
    "slideshow": {
     "slide_type": "-"
    }
   },
   "outputs": [
    {
     "name": "stdout",
     "output_type": "stream",
     "text": [
      "<class 'numpy.ndarray'> [ 60  70  65 100 230 150 100 300 250 150]\n",
      "<class 'pandas.core.indexes.range.RangeIndex'> RangeIndex(start=0, stop=10, step=1)\n"
     ]
    }
   ],
   "source": [
    "# 数据属性\n",
    "print(type(customers.values), customers.values)\n",
    "# 索引属性\n",
    "print(type(customers.index), customers.index)"
   ]
  },
  {
   "cell_type": "markdown",
   "metadata": {
    "slideshow": {
     "slide_type": "slide"
    }
   },
   "source": [
    "从上述结果可知，`Series`对象的属性 `values` 就是一个一维数组，属性`index`是不同的索引对象。\n",
    "\n",
    "`Series`的数据是一维数组，其数据类型都是一样，可以通过属性`dtype`来查看："
   ]
  },
  {
   "cell_type": "code",
   "execution_count": 9,
   "metadata": {
    "slideshow": {
     "slide_type": "-"
    }
   },
   "outputs": [
    {
     "data": {
      "text/plain": [
       "dtype('int64')"
      ]
     },
     "execution_count": 9,
     "metadata": {},
     "output_type": "execute_result"
    }
   ],
   "source": [
    "customers.dtypes"
   ]
  },
  {
   "cell_type": "markdown",
   "metadata": {
    "slideshow": {
     "slide_type": "slide"
    }
   },
   "source": [
    "在调用 `pd.Series` 创建一个 `Series` 对象时，可以指定一个列表或数组来创建索引。使用前面提过的顾客数以及采样时间创建一个`Series`对象："
   ]
  },
  {
   "cell_type": "code",
   "execution_count": 10,
   "metadata": {
    "slideshow": {
     "slide_type": "-"
    }
   },
   "outputs": [
    {
     "data": {
      "text/plain": [
       "6      60\n",
       "7      70\n",
       "8      65\n",
       "11    100\n",
       "12    230\n",
       "13    150\n",
       "18    100\n",
       "19    300\n",
       "20    250\n",
       "21    150\n",
       "dtype: int64"
      ]
     },
     "execution_count": 10,
     "metadata": {},
     "output_type": "execute_result"
    }
   ],
   "source": [
    "customers = pd.Series([60, 70, 65, 100, 230, 150, 100, 300, 250, 150], \n",
    "                      index=[6, 7, 8, 11, 12, 13, 18, 19, 20, 21])\n",
    "customers"
   ]
  },
  {
   "cell_type": "markdown",
   "metadata": {
    "slideshow": {
     "slide_type": "slide"
    }
   },
   "source": [
    "可以看出新创建的`Series`对象的索引已经更改为采样时间，是一种整数索引："
   ]
  },
  {
   "cell_type": "code",
   "execution_count": 11,
   "metadata": {
    "slideshow": {
     "slide_type": "-"
    }
   },
   "outputs": [
    {
     "name": "stdout",
     "output_type": "stream",
     "text": [
      "<class 'pandas.core.indexes.numeric.Int64Index'>\n"
     ]
    }
   ],
   "source": [
    "print(type(customers.index))"
   ]
  },
  {
   "cell_type": "markdown",
   "metadata": {
    "slideshow": {
     "slide_type": "slide"
    }
   },
   "source": [
    "`Series`对象与数组最主要的区别就是多了一个索引。在 Pandas 中有很多不同的索引对象。例如在刚才示例中，还可以使用字符串，或日期对象来创建`Series`对象："
   ]
  },
  {
   "cell_type": "code",
   "execution_count": 12,
   "metadata": {
    "slideshow": {
     "slide_type": "slide"
    }
   },
   "outputs": [
    {
     "data": {
      "text/plain": [
       "6h      60\n",
       "7h      70\n",
       "8h      65\n",
       "11h    100\n",
       "12h    230\n",
       "13h    150\n",
       "18h    100\n",
       "19h    300\n",
       "20h    250\n",
       "21h    150\n",
       "dtype: int64"
      ]
     },
     "execution_count": 12,
     "metadata": {},
     "output_type": "execute_result"
    }
   ],
   "source": [
    "times = ['6h', '7h', '8h', '11h', '12h', '13h', '18h', '19h', '20h', '21h']\n",
    "customers = pd.Series([60, 70, 65, 100, 230, 150, 100, 300, 250, 150], index=times)\n",
    "customers"
   ]
  },
  {
   "cell_type": "code",
   "execution_count": 13,
   "metadata": {
    "slideshow": {
     "slide_type": "-"
    }
   },
   "outputs": [
    {
     "data": {
      "text/plain": [
       "pandas.core.indexes.base.Index"
      ]
     },
     "execution_count": 13,
     "metadata": {},
     "output_type": "execute_result"
    }
   ],
   "source": [
    "type(customers.index)"
   ]
  },
  {
   "cell_type": "code",
   "execution_count": 14,
   "metadata": {
    "slideshow": {
     "slide_type": "slide"
    }
   },
   "outputs": [
    {
     "data": {
      "text/plain": [
       "2018-10-10 06:00:00     60\n",
       "2018-10-10 07:00:00     70\n",
       "2018-10-10 08:00:00     65\n",
       "2018-10-10 11:00:00    100\n",
       "2018-10-10 12:00:00    230\n",
       "2018-10-10 13:00:00    150\n",
       "2018-10-10 18:00:00    100\n",
       "2018-10-10 19:00:00    300\n",
       "2018-10-10 20:00:00    250\n",
       "2018-10-10 21:00:00    150\n",
       "dtype: int64"
      ]
     },
     "execution_count": 14,
     "metadata": {},
     "output_type": "execute_result"
    }
   ],
   "source": [
    "from datetime import datetime\n",
    "times = [datetime(2018, 10, 10, 6), datetime(2018, 10, 10, 7), \n",
    "         datetime(2018, 10, 10, 8), datetime(2018, 10, 10, 11), \n",
    "         datetime(2018, 10, 10, 12), datetime(2018, 10, 10, 13), \n",
    "         datetime(2018, 10, 10, 18), datetime(2018, 10, 10, 19), \n",
    "         datetime(2018, 10, 10, 20), datetime(2018, 10, 10, 21)]\n",
    "customers = pd.Series([60, 70, 65, 100, 230, 150, 100, 300, 250, 150], index=times)\n",
    "customers"
   ]
  },
  {
   "cell_type": "code",
   "execution_count": 15,
   "metadata": {
    "slideshow": {
     "slide_type": "-"
    }
   },
   "outputs": [
    {
     "data": {
      "text/plain": [
       "pandas.core.indexes.datetimes.DatetimeIndex"
      ]
     },
     "execution_count": 15,
     "metadata": {},
     "output_type": "execute_result"
    }
   ],
   "source": [
    "type(customers.index)"
   ]
  },
  {
   "cell_type": "markdown",
   "metadata": {
    "slideshow": {
     "slide_type": "slide"
    }
   },
   "source": [
    "### 创建对象\n",
    "\n",
    "可以从多种方式来创建`Series`对象，例如列表、字典、数组等。需要注意的是`Series`对象需要一个索引，也就是每个数据都对应与一个索引值。"
   ]
  },
  {
   "cell_type": "markdown",
   "metadata": {
    "slideshow": {
     "slide_type": "-"
    }
   },
   "source": [
    "#### 创建空的`Series`对象\n",
    "\n",
    "不指定数据及索引，会创建一个空的`Series`："
   ]
  },
  {
   "cell_type": "code",
   "execution_count": 16,
   "metadata": {
    "slideshow": {
     "slide_type": "-"
    }
   },
   "outputs": [
    {
     "data": {
      "text/plain": [
       "Series([], dtype: float64)"
      ]
     },
     "execution_count": 16,
     "metadata": {},
     "output_type": "execute_result"
    }
   ],
   "source": [
    "empty = pd.Series()\n",
    "empty"
   ]
  },
  {
   "cell_type": "markdown",
   "metadata": {
    "slideshow": {
     "slide_type": "slide"
    }
   },
   "source": [
    "#### 从标量来创建`Series`对象\n",
    "\n",
    "如果传入的数据参数是一个标量值，并且同时提供索引的话，可以广播该值来匹配索引："
   ]
  },
  {
   "cell_type": "code",
   "execution_count": 51,
   "metadata": {
    "slideshow": {
     "slide_type": "-"
    }
   },
   "outputs": [
    {
     "data": {
      "text/plain": [
       "6     休息\n",
       "7     休息\n",
       "8     休息\n",
       "11    休息\n",
       "12    休息\n",
       "13    休息\n",
       "18    休息\n",
       "19    休息\n",
       "20    休息\n",
       "21    休息\n",
       "dtype: object"
      ]
     },
     "execution_count": 51,
     "metadata": {},
     "output_type": "execute_result"
    }
   ],
   "source": [
    "pd.Series('休息', index=times)"
   ]
  },
  {
   "cell_type": "markdown",
   "metadata": {},
   "source": [
    "#### 使用列表对象创建`Series`\n",
    "\n",
    "使用列表对象创建`Series`，还可以使用`dtype`来指定数据类型："
   ]
  },
  {
   "cell_type": "code",
   "execution_count": 52,
   "metadata": {},
   "outputs": [
    {
     "data": {
      "text/plain": [
       "a    0\n",
       "b    0\n",
       "c    0\n",
       "d    1\n",
       "dtype: int8"
      ]
     },
     "execution_count": 52,
     "metadata": {},
     "output_type": "execute_result"
    }
   ],
   "source": [
    "pd.Series([0.25, 0.5, 0.75, 1.0], index=['a', 'b', 'c', 'd'], dtype='int8')"
   ]
  },
  {
   "cell_type": "markdown",
   "metadata": {},
   "source": [
    "#### 使用数组构建Series\n",
    "\n",
    "可以使用数组对象来构建`Series`对象："
   ]
  },
  {
   "cell_type": "code",
   "execution_count": 50,
   "metadata": {},
   "outputs": [
    {
     "data": {
      "text/plain": [
       "aa   -0.421059\n",
       "bb    0.500592\n",
       "c     0.813208\n",
       "d     0.127528\n",
       "dtype: float64"
      ]
     },
     "execution_count": 50,
     "metadata": {},
     "output_type": "execute_result"
    }
   ],
   "source": [
    "# data与索引长度须一致\n",
    "pd.Series(np.random.randn(4), index=['aa','bb','c','d']) "
   ]
  },
  {
   "cell_type": "markdown",
   "metadata": {
    "slideshow": {
     "slide_type": "slide"
    }
   },
   "source": [
    "#### 用字典来创建`Series`对象\n",
    "\n",
    "`Series`对象有一个索引以及数组，索引值与数据值存在一个映射关系。Python中的字典是一个类似键值对数据结构，使用`pd.Series`并传入一个字典对象，也可以创建一个`Series`对象，其索引就是字典中的键（有序排列）"
   ]
  },
  {
   "cell_type": "code",
   "execution_count": 49,
   "metadata": {
    "slideshow": {
     "slide_type": "-"
    }
   },
   "outputs": [
    {
     "data": {
      "text/plain": [
       "Xuhui      200\n",
       "Pudong     180\n",
       "Jingan     210\n",
       "Sheshan    100\n",
       "dtype: int64"
      ]
     },
     "execution_count": 49,
     "metadata": {},
     "output_type": "execute_result"
    }
   ],
   "source": [
    "# 饭店-顾客的字典\n",
    "hotel2customer = {'Xuhui': 200, 'Pudong': 180, 'Jingan': 210, 'Sheshan': 100}\n",
    "customers = pd.Series(hotel2customer)\n",
    "customers"
   ]
  },
  {
   "cell_type": "markdown",
   "metadata": {
    "slideshow": {
     "slide_type": "slide"
    }
   },
   "source": [
    "## `DataFrame`数据类型\n",
    "\n",
    "`DataFrame`是一个表格型的数据结构，中文可称为数据帧。把`DataFrame`理解为`Series`在横向上的扩展，包含一组有序的列，每个列都使用同一个索引，即`DataFrame`对象除了行索引外，还有列索引。\n",
    "\n",
    "可以把 `DataFrame` 对象理解为组织管理异质、可变、可重复、有序，有映射的数据集。如下表所示：\n",
    "\n",
    "| 结构      | 同质 | 可变 | 重复 |  有序  | 映射 |\n",
    "|------------:|-----:|-----:|-----:|-----:|-----:|\n",
    "|列表（list） | 否   |  是 | 是   | 是 |  否  |\n",
    "|数组（`ndarray`）| 是   | 是 | 是   | 是 |  否  |\n",
    "|序列（`Series`）| 是   | 是 | 是   | 是 |  是  |\n",
    "|数据帧（`DataFrame`）| 否  | 是 | 是   | 是 |  是  |"
   ]
  },
  {
   "cell_type": "markdown",
   "metadata": {
    "slideshow": {
     "slide_type": "-"
    }
   },
   "source": [
    "在实际工作中，表格型数据比比皆是，例如Excel表格，数据库的表。下图是一个简单数据库的示意：\n",
    "![数据库表格](../images/database_tables.png)"
   ]
  },
  {
   "cell_type": "markdown",
   "metadata": {},
   "source": [
    "### 对象自省\n",
    "\n",
    "可以调用`pd.DataFrame()`来创建一个`DataFrame`对象。其语法为：\n",
    "```\n",
    "pandas.DataFrame(data, index, columns, dtype, copy)\n",
    "```\n",
    "其中参数说明为：\n",
    "- `data`，数据支持多种形式，包括数组、Series、列表、字典、标量或`DataFrame`对象；\n",
    "- `index`，行索引，与`Series`的索引类似；\n",
    "- `columns`，列索引；\n",
    "- `dtype`，每列的数据类型；\n",
    "- `copy`，布尔值，默认是False，是否拷贝数据；"
   ]
  },
  {
   "cell_type": "markdown",
   "metadata": {
    "slideshow": {
     "slide_type": "slide"
    }
   },
   "source": [
    "同样仍然用饭店在不同时段顾客人数的例子，不过这里又增加了平均消费的内容："
   ]
  },
  {
   "cell_type": "code",
   "execution_count": 25,
   "metadata": {
    "slideshow": {
     "slide_type": "-"
    }
   },
   "outputs": [],
   "source": [
    "# 时段4点，5点，... 22点\n",
    "times = np.array([6, 7, 8, 11, 12, 13, 18, 19, 20, 21])\n",
    "# 顾客人数\n",
    "customers = np.array([60, 70, 65, 100, 230, 150, 100, 300, 250, 150])\n",
    "# 平均消费\n",
    "costs = np.array([6, 7, 8, 24, 23, 26, 45, 55, 45, 40])"
   ]
  },
  {
   "cell_type": "markdown",
   "metadata": {
    "slideshow": {
     "slide_type": "slide"
    }
   },
   "source": [
    "通过传入等长的列表或数组组成的字典来创建`DataFrame`对象："
   ]
  },
  {
   "cell_type": "code",
   "execution_count": 26,
   "metadata": {
    "slideshow": {
     "slide_type": "-"
    }
   },
   "outputs": [
    {
     "data": {
      "text/html": [
       "<div>\n",
       "<style scoped>\n",
       "    .dataframe tbody tr th:only-of-type {\n",
       "        vertical-align: middle;\n",
       "    }\n",
       "\n",
       "    .dataframe tbody tr th {\n",
       "        vertical-align: top;\n",
       "    }\n",
       "\n",
       "    .dataframe thead th {\n",
       "        text-align: right;\n",
       "    }\n",
       "</style>\n",
       "<table border=\"1\" class=\"dataframe\">\n",
       "  <thead>\n",
       "    <tr style=\"text-align: right;\">\n",
       "      <th></th>\n",
       "      <th>customers</th>\n",
       "      <th>costs</th>\n",
       "    </tr>\n",
       "  </thead>\n",
       "  <tbody>\n",
       "    <tr>\n",
       "      <th>6</th>\n",
       "      <td>60</td>\n",
       "      <td>6</td>\n",
       "    </tr>\n",
       "    <tr>\n",
       "      <th>7</th>\n",
       "      <td>70</td>\n",
       "      <td>7</td>\n",
       "    </tr>\n",
       "    <tr>\n",
       "      <th>8</th>\n",
       "      <td>65</td>\n",
       "      <td>8</td>\n",
       "    </tr>\n",
       "    <tr>\n",
       "      <th>11</th>\n",
       "      <td>100</td>\n",
       "      <td>24</td>\n",
       "    </tr>\n",
       "    <tr>\n",
       "      <th>12</th>\n",
       "      <td>230</td>\n",
       "      <td>23</td>\n",
       "    </tr>\n",
       "    <tr>\n",
       "      <th>13</th>\n",
       "      <td>150</td>\n",
       "      <td>26</td>\n",
       "    </tr>\n",
       "    <tr>\n",
       "      <th>18</th>\n",
       "      <td>100</td>\n",
       "      <td>45</td>\n",
       "    </tr>\n",
       "    <tr>\n",
       "      <th>19</th>\n",
       "      <td>300</td>\n",
       "      <td>55</td>\n",
       "    </tr>\n",
       "    <tr>\n",
       "      <th>20</th>\n",
       "      <td>250</td>\n",
       "      <td>45</td>\n",
       "    </tr>\n",
       "    <tr>\n",
       "      <th>21</th>\n",
       "      <td>150</td>\n",
       "      <td>40</td>\n",
       "    </tr>\n",
       "  </tbody>\n",
       "</table>\n",
       "</div>"
      ],
      "text/plain": [
       "    customers  costs\n",
       "6          60      6\n",
       "7          70      7\n",
       "8          65      8\n",
       "11        100     24\n",
       "12        230     23\n",
       "13        150     26\n",
       "18        100     45\n",
       "19        300     55\n",
       "20        250     45\n",
       "21        150     40"
      ]
     },
     "execution_count": 26,
     "metadata": {},
     "output_type": "execute_result"
    }
   ],
   "source": [
    "data = {'customers': customers, 'costs': costs}\n",
    "df = pd.DataFrame(data, index=times)\n",
    "df"
   ]
  },
  {
   "cell_type": "markdown",
   "metadata": {},
   "source": [
    "使用内置函数来查看创建的对象属于哪种数据类型："
   ]
  },
  {
   "cell_type": "code",
   "execution_count": 27,
   "metadata": {
    "slideshow": {
     "slide_type": "fragment"
    }
   },
   "outputs": [
    {
     "data": {
      "text/plain": [
       "pandas.core.frame.DataFrame"
      ]
     },
     "execution_count": 27,
     "metadata": {},
     "output_type": "execute_result"
    }
   ],
   "source": [
    "type(df)"
   ]
  },
  {
   "cell_type": "markdown",
   "metadata": {
    "slideshow": {
     "slide_type": "slide"
    }
   },
   "source": [
    "与`Series`一样，使用`index`参数来指定行索引，如果不指定会自动生成一个整数索引对象。不同之处在于，`DataFrame`对象多了列索引。使用`values`、`index`与`columns`属性来访问`DataFrame`对象的数据值、行索引与列索引："
   ]
  },
  {
   "cell_type": "code",
   "execution_count": 28,
   "metadata": {
    "slideshow": {
     "slide_type": "slide"
    }
   },
   "outputs": [
    {
     "name": "stdout",
     "output_type": "stream",
     "text": [
      "<class 'numpy.ndarray'>\n"
     ]
    },
    {
     "data": {
      "text/plain": [
       "array([[ 60,   6],\n",
       "       [ 70,   7],\n",
       "       [ 65,   8],\n",
       "       [100,  24],\n",
       "       [230,  23],\n",
       "       [150,  26],\n",
       "       [100,  45],\n",
       "       [300,  55],\n",
       "       [250,  45],\n",
       "       [150,  40]])"
      ]
     },
     "execution_count": 28,
     "metadata": {},
     "output_type": "execute_result"
    }
   ],
   "source": [
    "# 数据\n",
    "print(type(df.values))\n",
    "df.values"
   ]
  },
  {
   "cell_type": "code",
   "execution_count": 29,
   "metadata": {
    "slideshow": {
     "slide_type": "slide"
    }
   },
   "outputs": [
    {
     "name": "stdout",
     "output_type": "stream",
     "text": [
      "<class 'pandas.core.indexes.numeric.Int64Index'>\n"
     ]
    },
    {
     "data": {
      "text/plain": [
       "Int64Index([6, 7, 8, 11, 12, 13, 18, 19, 20, 21], dtype='int64')"
      ]
     },
     "execution_count": 29,
     "metadata": {},
     "output_type": "execute_result"
    }
   ],
   "source": [
    "# 行索引\n",
    "print(type(df.index))\n",
    "df.index"
   ]
  },
  {
   "cell_type": "code",
   "execution_count": 30,
   "metadata": {
    "slideshow": {
     "slide_type": "slide"
    }
   },
   "outputs": [
    {
     "name": "stdout",
     "output_type": "stream",
     "text": [
      "<class 'pandas.core.indexes.base.Index'>\n"
     ]
    },
    {
     "data": {
      "text/plain": [
       "Index(['customers', 'costs'], dtype='object')"
      ]
     },
     "execution_count": 30,
     "metadata": {},
     "output_type": "execute_result"
    }
   ],
   "source": [
    "# 列索引\n",
    "print(type(df.columns))\n",
    "df.columns"
   ]
  },
  {
   "cell_type": "markdown",
   "metadata": {
    "slideshow": {
     "slide_type": "slide"
    }
   },
   "source": [
    "`DataFrame`对象包括多个列，不同列的数据类型可以不同，但每个列的数据类型则是一样，可以通过属性`dtypes`来查看："
   ]
  },
  {
   "cell_type": "code",
   "execution_count": 31,
   "metadata": {
    "slideshow": {
     "slide_type": "-"
    }
   },
   "outputs": [
    {
     "data": {
      "text/plain": [
       "customers    int32\n",
       "costs        int32\n",
       "dtype: object"
      ]
     },
     "execution_count": 31,
     "metadata": {},
     "output_type": "execute_result"
    }
   ],
   "source": [
    "df.dtypes"
   ]
  },
  {
   "cell_type": "markdown",
   "metadata": {
    "slideshow": {
     "slide_type": "slide"
    }
   },
   "source": [
    "刚才使用字典来创建`DataFrame`对象时，字典的键自动转换为列索引，并且进行了自动排序。可以使用关键字参数`columns`来指定列索引："
   ]
  },
  {
   "cell_type": "code",
   "execution_count": 32,
   "metadata": {
    "slideshow": {
     "slide_type": "-"
    }
   },
   "outputs": [
    {
     "data": {
      "text/html": [
       "<div>\n",
       "<style scoped>\n",
       "    .dataframe tbody tr th:only-of-type {\n",
       "        vertical-align: middle;\n",
       "    }\n",
       "\n",
       "    .dataframe tbody tr th {\n",
       "        vertical-align: top;\n",
       "    }\n",
       "\n",
       "    .dataframe thead th {\n",
       "        text-align: right;\n",
       "    }\n",
       "</style>\n",
       "<table border=\"1\" class=\"dataframe\">\n",
       "  <thead>\n",
       "    <tr style=\"text-align: right;\">\n",
       "      <th></th>\n",
       "      <th>customers</th>\n",
       "      <th>costs</th>\n",
       "    </tr>\n",
       "  </thead>\n",
       "  <tbody>\n",
       "    <tr>\n",
       "      <th>6</th>\n",
       "      <td>60</td>\n",
       "      <td>6</td>\n",
       "    </tr>\n",
       "    <tr>\n",
       "      <th>7</th>\n",
       "      <td>70</td>\n",
       "      <td>7</td>\n",
       "    </tr>\n",
       "    <tr>\n",
       "      <th>8</th>\n",
       "      <td>65</td>\n",
       "      <td>8</td>\n",
       "    </tr>\n",
       "    <tr>\n",
       "      <th>11</th>\n",
       "      <td>100</td>\n",
       "      <td>24</td>\n",
       "    </tr>\n",
       "    <tr>\n",
       "      <th>12</th>\n",
       "      <td>230</td>\n",
       "      <td>23</td>\n",
       "    </tr>\n",
       "    <tr>\n",
       "      <th>13</th>\n",
       "      <td>150</td>\n",
       "      <td>26</td>\n",
       "    </tr>\n",
       "    <tr>\n",
       "      <th>18</th>\n",
       "      <td>100</td>\n",
       "      <td>45</td>\n",
       "    </tr>\n",
       "    <tr>\n",
       "      <th>19</th>\n",
       "      <td>300</td>\n",
       "      <td>55</td>\n",
       "    </tr>\n",
       "    <tr>\n",
       "      <th>20</th>\n",
       "      <td>250</td>\n",
       "      <td>45</td>\n",
       "    </tr>\n",
       "    <tr>\n",
       "      <th>21</th>\n",
       "      <td>150</td>\n",
       "      <td>40</td>\n",
       "    </tr>\n",
       "  </tbody>\n",
       "</table>\n",
       "</div>"
      ],
      "text/plain": [
       "    customers  costs\n",
       "6          60      6\n",
       "7          70      7\n",
       "8          65      8\n",
       "11        100     24\n",
       "12        230     23\n",
       "13        150     26\n",
       "18        100     45\n",
       "19        300     55\n",
       "20        250     45\n",
       "21        150     40"
      ]
     },
     "execution_count": 32,
     "metadata": {},
     "output_type": "execute_result"
    }
   ],
   "source": [
    "data = {'customers': customers, 'costs': costs}\n",
    "df = pd.DataFrame(data, index=times, columns=['customers', 'costs'])\n",
    "df"
   ]
  },
  {
   "cell_type": "markdown",
   "metadata": {
    "slideshow": {
     "slide_type": "slide"
    }
   },
   "source": [
    "### 创建对象\n",
    "\n",
    "可以从多种方式来创建`DataFrame`对象，例如字典、、嵌套列表、二维数组等。需要注意的是，`DataFrame`对象需要行索引与列索引。"
   ]
  },
  {
   "cell_type": "markdown",
   "metadata": {
    "slideshow": {
     "slide_type": "-"
    }
   },
   "source": [
    "#### 创建空`DataFrame`对象\n",
    "\n",
    "调用`pd.DataFrame()`时，不指定参数就会创建一个空`DataFrame`对象："
   ]
  },
  {
   "cell_type": "code",
   "execution_count": 33,
   "metadata": {
    "slideshow": {
     "slide_type": "-"
    }
   },
   "outputs": [
    {
     "name": "stdout",
     "output_type": "stream",
     "text": [
      "Empty DataFrame\n",
      "Columns: []\n",
      "Index: []\n"
     ]
    }
   ],
   "source": [
    "empty = pd.DataFrame()\n",
    "print(empty)"
   ]
  },
  {
   "cell_type": "markdown",
   "metadata": {
    "slideshow": {
     "slide_type": "slide"
    }
   },
   "source": [
    "#### 使用列表创建`DataFrame`\n",
    "\n",
    "可以使用嵌套列表来创建`DataFrame`对象："
   ]
  },
  {
   "cell_type": "code",
   "execution_count": 54,
   "metadata": {
    "slideshow": {
     "slide_type": "-"
    }
   },
   "outputs": [
    {
     "data": {
      "text/html": [
       "<div>\n",
       "<style scoped>\n",
       "    .dataframe tbody tr th:only-of-type {\n",
       "        vertical-align: middle;\n",
       "    }\n",
       "\n",
       "    .dataframe tbody tr th {\n",
       "        vertical-align: top;\n",
       "    }\n",
       "\n",
       "    .dataframe thead th {\n",
       "        text-align: right;\n",
       "    }\n",
       "</style>\n",
       "<table border=\"1\" class=\"dataframe\">\n",
       "  <thead>\n",
       "    <tr style=\"text-align: right;\">\n",
       "      <th></th>\n",
       "      <th>Login</th>\n",
       "      <th>LastName</th>\n",
       "      <th>FirstName</th>\n",
       "    </tr>\n",
       "  </thead>\n",
       "  <tbody>\n",
       "    <tr>\n",
       "      <th>0</th>\n",
       "      <td>skol</td>\n",
       "      <td>Kovalevskaya</td>\n",
       "      <td>Sofia</td>\n",
       "    </tr>\n",
       "    <tr>\n",
       "      <th>1</th>\n",
       "      <td>mlom</td>\n",
       "      <td>Lomonosov</td>\n",
       "      <td>Mikhail</td>\n",
       "    </tr>\n",
       "    <tr>\n",
       "      <th>2</th>\n",
       "      <td>dmitri</td>\n",
       "      <td>Mendeleev</td>\n",
       "      <td>Dmitri</td>\n",
       "    </tr>\n",
       "    <tr>\n",
       "      <th>3</th>\n",
       "      <td>ivan</td>\n",
       "      <td>Pavlov</td>\n",
       "      <td>Ivan</td>\n",
       "    </tr>\n",
       "  </tbody>\n",
       "</table>\n",
       "</div>"
      ],
      "text/plain": [
       "    Login      LastName FirstName\n",
       "0    skol  Kovalevskaya     Sofia\n",
       "1    mlom     Lomonosov   Mikhail\n",
       "2  dmitri     Mendeleev    Dmitri\n",
       "3    ivan        Pavlov      Ivan"
      ]
     },
     "execution_count": 54,
     "metadata": {},
     "output_type": "execute_result"
    }
   ],
   "source": [
    "data = [\n",
    "    ['skol', 'Kovalevskaya', 'Sofia'],\n",
    "    ['mlom', 'Lomonosov', 'Mikhail'],\n",
    "    ['dmitri', 'Mendeleev', 'Dmitri'],\n",
    "    ['ivan', 'Pavlov', 'Ivan'],\n",
    "]\n",
    "pd.DataFrame(data, columns=['Login', 'LastName', 'FirstName'])"
   ]
  },
  {
   "cell_type": "markdown",
   "metadata": {},
   "source": [
    "#### 通过数组构建`DataFrame`\n",
    "\n",
    "通过数组构建`DataFrame`，可以指定行索引和列名，如果不指定为自动创建："
   ]
  },
  {
   "cell_type": "code",
   "execution_count": 57,
   "metadata": {},
   "outputs": [
    {
     "data": {
      "text/html": [
       "<div>\n",
       "<style scoped>\n",
       "    .dataframe tbody tr th:only-of-type {\n",
       "        vertical-align: middle;\n",
       "    }\n",
       "\n",
       "    .dataframe tbody tr th {\n",
       "        vertical-align: top;\n",
       "    }\n",
       "\n",
       "    .dataframe thead th {\n",
       "        text-align: right;\n",
       "    }\n",
       "</style>\n",
       "<table border=\"1\" class=\"dataframe\">\n",
       "  <thead>\n",
       "    <tr style=\"text-align: right;\">\n",
       "      <th></th>\n",
       "      <th>0</th>\n",
       "      <th>1</th>\n",
       "      <th>2</th>\n",
       "      <th>3</th>\n",
       "    </tr>\n",
       "  </thead>\n",
       "  <tbody>\n",
       "    <tr>\n",
       "      <th>0</th>\n",
       "      <td>0.432148</td>\n",
       "      <td>0.475122</td>\n",
       "      <td>0.076751</td>\n",
       "      <td>0.672929</td>\n",
       "    </tr>\n",
       "    <tr>\n",
       "      <th>1</th>\n",
       "      <td>1.365737</td>\n",
       "      <td>1.515791</td>\n",
       "      <td>0.369223</td>\n",
       "      <td>-0.563320</td>\n",
       "    </tr>\n",
       "    <tr>\n",
       "      <th>2</th>\n",
       "      <td>-1.573148</td>\n",
       "      <td>0.699788</td>\n",
       "      <td>0.284713</td>\n",
       "      <td>-0.576827</td>\n",
       "    </tr>\n",
       "    <tr>\n",
       "      <th>3</th>\n",
       "      <td>0.208627</td>\n",
       "      <td>0.323253</td>\n",
       "      <td>0.163122</td>\n",
       "      <td>0.165000</td>\n",
       "    </tr>\n",
       "    <tr>\n",
       "      <th>4</th>\n",
       "      <td>0.157681</td>\n",
       "      <td>-0.841611</td>\n",
       "      <td>-1.513325</td>\n",
       "      <td>0.419078</td>\n",
       "    </tr>\n",
       "  </tbody>\n",
       "</table>\n",
       "</div>"
      ],
      "text/plain": [
       "          0         1         2         3\n",
       "0  0.432148  0.475122  0.076751  0.672929\n",
       "1  1.365737  1.515791  0.369223 -0.563320\n",
       "2 -1.573148  0.699788  0.284713 -0.576827\n",
       "3  0.208627  0.323253  0.163122  0.165000\n",
       "4  0.157681 -0.841611 -1.513325  0.419078"
      ]
     },
     "execution_count": 57,
     "metadata": {},
     "output_type": "execute_result"
    }
   ],
   "source": [
    "pd.DataFrame(np.random.randn(5,4))"
   ]
  },
  {
   "cell_type": "code",
   "execution_count": 58,
   "metadata": {},
   "outputs": [
    {
     "data": {
      "text/html": [
       "<div>\n",
       "<style scoped>\n",
       "    .dataframe tbody tr th:only-of-type {\n",
       "        vertical-align: middle;\n",
       "    }\n",
       "\n",
       "    .dataframe tbody tr th {\n",
       "        vertical-align: top;\n",
       "    }\n",
       "\n",
       "    .dataframe thead th {\n",
       "        text-align: right;\n",
       "    }\n",
       "</style>\n",
       "<table border=\"1\" class=\"dataframe\">\n",
       "  <thead>\n",
       "    <tr style=\"text-align: right;\">\n",
       "      <th></th>\n",
       "      <th>c</th>\n",
       "      <th>o</th>\n",
       "      <th>l</th>\n",
       "      <th>u</th>\n",
       "    </tr>\n",
       "  </thead>\n",
       "  <tbody>\n",
       "    <tr>\n",
       "      <th>a</th>\n",
       "      <td>-1.007165</td>\n",
       "      <td>-1.522161</td>\n",
       "      <td>0.454102</td>\n",
       "      <td>-0.908417</td>\n",
       "    </tr>\n",
       "    <tr>\n",
       "      <th>b</th>\n",
       "      <td>-0.265410</td>\n",
       "      <td>0.246893</td>\n",
       "      <td>1.484161</td>\n",
       "      <td>0.500641</td>\n",
       "    </tr>\n",
       "    <tr>\n",
       "      <th>c</th>\n",
       "      <td>0.490937</td>\n",
       "      <td>-0.327820</td>\n",
       "      <td>0.417542</td>\n",
       "      <td>-1.452452</td>\n",
       "    </tr>\n",
       "    <tr>\n",
       "      <th>d</th>\n",
       "      <td>1.086857</td>\n",
       "      <td>0.860738</td>\n",
       "      <td>-0.030451</td>\n",
       "      <td>1.336564</td>\n",
       "    </tr>\n",
       "    <tr>\n",
       "      <th>e</th>\n",
       "      <td>0.002682</td>\n",
       "      <td>-0.397961</td>\n",
       "      <td>0.351670</td>\n",
       "      <td>0.513668</td>\n",
       "    </tr>\n",
       "  </tbody>\n",
       "</table>\n",
       "</div>"
      ],
      "text/plain": [
       "          c         o         l         u\n",
       "a -1.007165 -1.522161  0.454102 -0.908417\n",
       "b -0.265410  0.246893  1.484161  0.500641\n",
       "c  0.490937 -0.327820  0.417542 -1.452452\n",
       "d  1.086857  0.860738 -0.030451  1.336564\n",
       "e  0.002682 -0.397961  0.351670  0.513668"
      ]
     },
     "execution_count": 58,
     "metadata": {},
     "output_type": "execute_result"
    }
   ],
   "source": [
    "# 指定行索引和列名\n",
    "pd.DataFrame(np.random.randn(5,4), index=list('abcde'), columns=list('colu'))"
   ]
  },
  {
   "cell_type": "markdown",
   "metadata": {
    "slideshow": {
     "slide_type": "slide"
    }
   },
   "source": [
    "#### 使用字典来创建`DataFrame`\n",
    "\n",
    "前面已经介绍过使用字典来创建`DataFrame`对象，这里再举一个稍微复杂的例子。"
   ]
  },
  {
   "cell_type": "code",
   "execution_count": 35,
   "metadata": {
    "slideshow": {
     "slide_type": "-"
    }
   },
   "outputs": [
    {
     "data": {
      "text/html": [
       "<div>\n",
       "<style scoped>\n",
       "    .dataframe tbody tr th:only-of-type {\n",
       "        vertical-align: middle;\n",
       "    }\n",
       "\n",
       "    .dataframe tbody tr th {\n",
       "        vertical-align: top;\n",
       "    }\n",
       "\n",
       "    .dataframe thead th {\n",
       "        text-align: right;\n",
       "    }\n",
       "</style>\n",
       "<table border=\"1\" class=\"dataframe\">\n",
       "  <thead>\n",
       "    <tr style=\"text-align: right;\">\n",
       "      <th></th>\n",
       "      <th>A</th>\n",
       "      <th>B</th>\n",
       "      <th>C</th>\n",
       "      <th>D</th>\n",
       "    </tr>\n",
       "  </thead>\n",
       "  <tbody>\n",
       "    <tr>\n",
       "      <th>0</th>\n",
       "      <td>3.13</td>\n",
       "      <td>字符</td>\n",
       "      <td>0</td>\n",
       "      <td>0</td>\n",
       "    </tr>\n",
       "    <tr>\n",
       "      <th>1</th>\n",
       "      <td>3.13</td>\n",
       "      <td>字符</td>\n",
       "      <td>1</td>\n",
       "      <td>2</td>\n",
       "    </tr>\n",
       "    <tr>\n",
       "      <th>2</th>\n",
       "      <td>3.13</td>\n",
       "      <td>字符</td>\n",
       "      <td>2</td>\n",
       "      <td>4</td>\n",
       "    </tr>\n",
       "    <tr>\n",
       "      <th>3</th>\n",
       "      <td>3.13</td>\n",
       "      <td>字符</td>\n",
       "      <td>3</td>\n",
       "      <td>6</td>\n",
       "    </tr>\n",
       "    <tr>\n",
       "      <th>4</th>\n",
       "      <td>3.13</td>\n",
       "      <td>字符</td>\n",
       "      <td>4</td>\n",
       "      <td>8</td>\n",
       "    </tr>\n",
       "  </tbody>\n",
       "</table>\n",
       "</div>"
      ],
      "text/plain": [
       "      A   B  C  D\n",
       "0  3.13  字符  0  0\n",
       "1  3.13  字符  1  2\n",
       "2  3.13  字符  2  4\n",
       "3  3.13  字符  3  6\n",
       "4  3.13  字符  4  8"
      ]
     },
     "execution_count": 35,
     "metadata": {},
     "output_type": "execute_result"
    }
   ],
   "source": [
    "data = {'A': 3.13, 'B': '字符', 'C': np.arange(5), 'D': pd.Series(np.arange(5)*2)}\n",
    "pd.DataFrame(data)"
   ]
  },
  {
   "cell_type": "code",
   "execution_count": 53,
   "metadata": {
    "slideshow": {
     "slide_type": "-"
    }
   },
   "outputs": [
    {
     "name": "stdout",
     "output_type": "stream",
     "text": [
      "<class 'builtin_function_or_method'>\n"
     ]
    },
    {
     "data": {
      "text/plain": [
       "<function dict.values>"
      ]
     },
     "execution_count": 53,
     "metadata": {},
     "output_type": "execute_result"
    }
   ],
   "source": [
    "print(type(data.values))\n",
    "data.values"
   ]
  },
  {
   "cell_type": "markdown",
   "metadata": {
    "slideshow": {
     "slide_type": "slide"
    }
   },
   "source": [
    "## Pandas速查手册\n",
    "\n",
    "Pandas 功能强大，除了核心数据结构类型`DataFrame`与`Series`外，还提供了大量的使用函数，`DataFrame`与`Series`对象本身还有很多方法。为了方便学习和使用，有人编写了速查手册。下面列出速查手册中的常用函数与方法。\n",
    "\n",
    "> Pandas的核心数据对象是`DataFrame`与`Series`，这里分别简写为`df`与`s`"
   ]
  },
  {
   "cell_type": "markdown",
   "metadata": {
    "slideshow": {
     "slide_type": "slide"
    }
   },
   "source": [
    "### 导入数据\n",
    "\n",
    "- `pd.read_csv(filename)`：读取CSV文件\n",
    "- `pd.read_table(filename)`：读取分隔符文本文件\n",
    "- `pd.read_excel(filename)`：读取Excel文件\n",
    "- `pd.read_sql(query, connection_object)`：读取SQL表/库\n",
    "- `pd.read_json(json_string)`：读取JSON字符串\n",
    "- `pd.read_html(url)`：解析URL或者HTML文件，抽取表格数据\n",
    "- `pd.DataFrame(dict)`：从字典对象创建`DataFrame`"
   ]
  },
  {
   "cell_type": "markdown",
   "metadata": {
    "slideshow": {
     "slide_type": "slide"
    }
   },
   "source": [
    "### 导出数据\n",
    "\n",
    "- `df.to_csv(filename)`：保存数据到CSV文件\n",
    "- `df.to_excel(filename)`：保存数据到Excel文件\n",
    "- `df.to_sql(table_name, connection_object)`：保存数据到SQL表\n",
    "- `df.to_json(filename)`：保存数据到Json格式文件"
   ]
  },
  {
   "cell_type": "markdown",
   "metadata": {
    "slideshow": {
     "slide_type": "slide"
    }
   },
   "source": [
    "### 探索数据\n",
    "\n",
    "- `df.head(n)`：查看`DataFrame`对象的前n行\n",
    "- `df.tail(n)`：查看`DataFrame对象`的最后n行\n",
    "- `df.shape`：查看行数和列数\n",
    "- `df.info()`：查看索引、数据类型和内存信息\n",
    "- `df.describe()`：查看数值型的汇总统计\n",
    "- `s.value_counts(dropna=False)`：查看`Series`对象的唯一值和计数\n",
    "- `df.apply(pd.Series.value_counts)`：查看`DataFrame`对象中每一列的唯一值和计数"
   ]
  },
  {
   "cell_type": "markdown",
   "metadata": {
    "slideshow": {
     "slide_type": "slide"
    }
   },
   "source": [
    "### 选取数据\n",
    "\n",
    "- `df[col]`：返回指定列\n",
    "- `df[[col1, col2]]`：返回指定多列\n",
    "- `s.loc['index_one']`：按索引选取数据\n",
    "- `s.iloc[0]`：按位置选取数据\n",
    "- `df.iloc[0,:]`：返回第1行\n",
    "- `df.iloc[0,0]`：返回第1列的第1个元素"
   ]
  },
  {
   "cell_type": "markdown",
   "metadata": {
    "slideshow": {
     "slide_type": "slide"
    }
   },
   "source": [
    "### 清洗数据\n",
    "\n",
    "- `df.columns = ['a','b','c']`：重命名列名\n",
    "- `pd.isnull()`：检查对象中的空值，返回一个Boolean数组\n",
    "- `pd.notnull()`：检查对象中的非空值，返回一个Boolean数组\n",
    "- `df.dropna()`：删除所有包含空值的行\n",
    "- `df.dropna(axis=1)`：删除所有包含空值的列\n",
    "- `df.dropna(axis=1,thresh=n)`：删除所有小于n个非空值的行\n",
    "- `df.fillna(x)`：用`x`来替换对象中所有的空值\n",
    "- `s.astype(float)`：更改数据类型为float类型\n",
    "- `s.replace(1,'one')`：用‘one’来替换所有等于1的值\n",
    "- `s.replace([1,3],['one','three'])`：用'one'代替1，用'three'代替3\n",
    "- `df.rename(columns=lambda x: x + 1)`：批量更改列名\n",
    "- `df.rename(columns={'old_name': 'new_ name'})`：选择性更改列名\n",
    "- `df.set_index('column_one')`：更改索引列\n",
    "- `df.rename(index=lambda x: x + 1)`：批量重命名索引"
   ]
  },
  {
   "cell_type": "markdown",
   "metadata": {
    "slideshow": {
     "slide_type": "slide"
    }
   },
   "source": [
    "### 数据处理`：Filter、Sort和GroupBy\n",
    "\n",
    "- `df[df[col] > 0.5]`：选择`col`列的值大于0.5的行\n",
    "- `df.sort_values(col1)`：按照列`col1`排序数据，默认升序排列\n",
    "- `df.sort_values(col2, ascending=False)`：按照列`col1`降序排列数据\n",
    "- `df.sort_values([col1,col2], ascending=[True,False])`：先按列`col1`升序排列，后按`col2`降序排列数据\n",
    "- `df.groupby(col)`：返回一个按列`col`进行分组的Groupby对象\n",
    "- `df.groupby([col1,col2])`：返回一个按多列进行分组的Groupby对象\n",
    "- `df.groupby(col1)[col2]`：返回按列`col1`进行分组后，列`col2`的均值\n",
    "- `df.pivot_table(index=col1, values=[col2,col3], aggfunc=max)`：创建一个按列`col1`进行分组，并计算`col2`和`col3`的最大值的数据透视表\n",
    "- `df.groupby(col1).agg(np.mean)`：返回按列`col1`分组的所有列的均值\n",
    "- `data.apply(np.mean)`：对每一列应用函数`np.mean`\n",
    "- `data.apply(np.max,axis=1)`：对每一行应用函数`np.max`"
   ]
  },
  {
   "cell_type": "markdown",
   "metadata": {
    "slideshow": {
     "slide_type": "slide"
    }
   },
   "source": [
    "### 合并数据\n",
    "\n",
    "- `df1.append(df2)`：将`df2`中的行添加到`df1`的尾部\n",
    "- `df.concat([df1, df2],axis=1)`：将`df2`中的列添加到`df1`的尾部\n",
    "- `df1.join(df2,on=col1,how='inner')`：对`df1`的列和`df2`的列执行SQL形式的合并"
   ]
  },
  {
   "cell_type": "markdown",
   "metadata": {
    "slideshow": {
     "slide_type": "slide"
    }
   },
   "source": [
    "### 数据统计\n",
    "\n",
    "- `df.describe()`：查看数据值列的汇总统计\n",
    "- `df.mean()`：返回所有列的均值\n",
    "- `df.corr()`：返回列与列之间的相关系数\n",
    "- `df.count()`：返回每一列中的非空值的个数\n",
    "- `df.max()`：返回每一列的最大值\n",
    "- `df.min()`：返回每一列的最小值\n",
    "- `df.median()`：返回每一列的中位数\n",
    "- `df.std()`：返回每一列的标准差"
   ]
  },
  {
   "cell_type": "markdown",
   "metadata": {
    "slideshow": {
     "slide_type": "slide"
    }
   },
   "source": [
    "## 小结\n",
    "\n",
    "本节主要简单介绍了 Pandas 总体情况，初步介绍了核心数据结构`DataFrame`与`Series`，同时列出了数据分析过程常用使用函数与方法。后续则需要围绕数据结构，逐步了解熟悉数据的创建、探索、清理、处理、分组、合并以及统计等操作。"
   ]
  }
 ],
 "metadata": {
  "celltoolbar": "Slideshow",
  "kernelspec": {
   "display_name": "Python 3",
   "language": "python",
   "name": "python3"
  },
  "language_info": {
   "codemirror_mode": {
    "name": "ipython",
    "version": 3
   },
   "file_extension": ".py",
   "mimetype": "text/x-python",
   "name": "python",
   "nbconvert_exporter": "python",
   "pygments_lexer": "ipython3",
   "version": "3.6.4"
  },
  "toc": {
   "base_numbering": 1,
   "nav_menu": {},
   "number_sections": true,
   "sideBar": true,
   "skip_h1_title": false,
   "title_cell": "Table of Contents",
   "title_sidebar": "Contents",
   "toc_cell": false,
   "toc_position": {
    "height": "calc(100% - 180px)",
    "left": "10px",
    "top": "150px",
    "width": "299px"
   },
   "toc_section_display": true,
   "toc_window_display": true
  }
 },
 "nbformat": 4,
 "nbformat_minor": 2
}
