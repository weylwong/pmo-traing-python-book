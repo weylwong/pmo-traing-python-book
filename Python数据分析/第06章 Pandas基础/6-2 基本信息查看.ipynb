{
 "cells": [
  {
   "cell_type": "markdown",
   "metadata": {
    "slideshow": {
     "slide_type": "slide"
    }
   },
   "source": [
    "# 基本信息查看\n",
    "\n",
    "Pandas 提供`Series`与`DataFrame`数据结构来存储大型数据集，`Series`用于一维数据集，`DataFrame`用于表格式数据集。创建`Series`与`DataFrame`对象来组织管理数据集，首要的是了解数据集中包含有哪些数据，为何种数据，数据规模是多少？掌握了数据集的基本概况，才方便后续的数据分析。本节会介绍如何查看数据集的基本信息。"
   ]
  },
  {
   "cell_type": "code",
   "execution_count": null,
   "metadata": {
    "slideshow": {
     "slide_type": "-"
    }
   },
   "outputs": [],
   "source": [
    "import numpy as np\n",
    "import pandas as pd\n",
    "import matplotlib.pyplot as plt\n",
    "%matplotlib inline"
   ]
  },
  {
   "cell_type": "markdown",
   "metadata": {
    "slideshow": {
     "slide_type": "slide"
    }
   },
   "source": [
    "## 查看对象属性\n",
    "\n",
    "通过查看`Series`与`DataFrame`对象的一些属性，可以快速查看数据集包含的数据，数据类型与规模如何。\n",
    "\n",
    "这里仍然使用上节的饭店示例来一些`Series`与`DataFrame`对象："
   ]
  },
  {
   "cell_type": "code",
   "execution_count": null,
   "metadata": {},
   "outputs": [],
   "source": [
    "from datetime import datetime\n",
    "# 时间\n",
    "times = [datetime(2018, 10, 10, 6), datetime(2018, 10, 10, 7), \n",
    "         datetime(2018, 10, 10, 8), datetime(2018, 10, 10, 11), \n",
    "         datetime(2018, 10, 10, 12), datetime(2018, 10, 10, 13), \n",
    "         datetime(2018, 10, 10, 18), datetime(2018, 10, 10, 19), \n",
    "         datetime(2018, 10, 10, 20), datetime(2018, 10, 10, 21)]\n",
    "# 餐时标识，顾客人数、平均消费、总消费\n",
    "meals = np.array(['B', 'B', 'B', 'L', 'L', 'L', 'D', 'D', 'D', 'D'])\n",
    "customers = np.array([60, 70, 65, 100, 230, 150, 100, 300, 250, 150])\n",
    "costs = np.array([6.5, 7, 8, 24, 23, 26, 45, 55.5, 45, 40])\n",
    "total_costs = customers * costs\n",
    "\n",
    "# 创建Series、DataFrame对象\n",
    "ser = pd.Series(customers, index=times)\n",
    "data = {'meals': meals, 'customers': customers, 'costs': costs, 'total_costs': total_costs}\n",
    "df = pd.DataFrame(data, index=times)"
   ]
  },
  {
   "cell_type": "markdown",
   "metadata": {},
   "source": [
    "访问如下属性来查看数据集\n",
    "- `shape`，数据集的维度，元组对象。\n",
    "- `index, columns`，数据集的索引，索引对象。\n",
    "- `dtypes`，数据集数据类型。\n",
    "- `values`, 数据集的数据。"
   ]
  },
  {
   "cell_type": "markdown",
   "metadata": {},
   "source": [
    "`Series` 对象是一维数据，属性`shape`为数据集大小；`DataFrame` 对象是表格式数据集，属性`shape`返回数据数及规模大小。在这里的示例中，`Series` 对象的数据集大小为10，`Series` 对象的数据集包括4组数据，大小为10："
   ]
  },
  {
   "cell_type": "code",
   "execution_count": null,
   "metadata": {},
   "outputs": [],
   "source": [
    "# Series对象维度\n",
    "print(ser.shape)\n",
    "# DataFrame对象维度\n",
    "print(df.shape)"
   ]
  },
  {
   "cell_type": "markdown",
   "metadata": {},
   "source": [
    "`Series` 对象只有索引`index`，`DataFrame` 对象则包括行索引与列索引。在这里的示例中，`Series` 对象的索引是一个日期索引对象；`DataFrame`对象的行索引是日期索引对象，列索引是索引对象，包含4个列名。"
   ]
  },
  {
   "cell_type": "code",
   "execution_count": null,
   "metadata": {},
   "outputs": [],
   "source": [
    "# Series对象的索引\n",
    "ser.index"
   ]
  },
  {
   "cell_type": "code",
   "execution_count": null,
   "metadata": {},
   "outputs": [],
   "source": [
    "# DataFrame对象的行索引\n",
    "df.index"
   ]
  },
  {
   "cell_type": "code",
   "execution_count": null,
   "metadata": {},
   "outputs": [],
   "source": [
    "# DataFrame对象的列索引\n",
    "df.columns"
   ]
  },
  {
   "cell_type": "markdown",
   "metadata": {},
   "source": [
    "`Series` 对象是一维数据集，其`dtypes`返回一个数据类型对象；`DataFrame`是表格式数据集，其`dtypes`会返回一个序列，分别为列名与对应数据类型。Pandas 支持的数据类型主要有如下：\n",
    "- `bool`：布尔类型\n",
    "- `int`： 整型类型\n",
    "- `float`：浮点数类型\n",
    "- `object`：字符串类型\n",
    "- `datetime`：日期类型"
   ]
  },
  {
   "cell_type": "code",
   "execution_count": null,
   "metadata": {},
   "outputs": [],
   "source": [
    "# Series对象的数据类型，整数\n",
    "ser.dtypes"
   ]
  },
  {
   "cell_type": "code",
   "execution_count": null,
   "metadata": {},
   "outputs": [],
   "source": [
    "# DataFrame对象的数据类型\n",
    "df.dtypes"
   ]
  },
  {
   "cell_type": "markdown",
   "metadata": {},
   "source": [
    "对于`Series` 对象，其`values`属性会返回一个一维数组对象，`DataFrame`则返回二维数组对象："
   ]
  },
  {
   "cell_type": "code",
   "execution_count": null,
   "metadata": {
    "code_folding": []
   },
   "outputs": [],
   "source": [
    "# Series对象的数据\n",
    "ser.values"
   ]
  },
  {
   "cell_type": "code",
   "execution_count": null,
   "metadata": {},
   "outputs": [],
   "source": [
    "# DataFrame对象的数据\n",
    "df.values"
   ]
  },
  {
   "cell_type": "markdown",
   "metadata": {},
   "source": [
    "通过查看`Series`与`DataFrame`对象这些属性，初步了解数据集有几组数据、数据规模如何，什么数据类型。"
   ]
  },
  {
   "cell_type": "markdown",
   "metadata": {},
   "source": [
    "## 查看数据集概况\n",
    "\n",
    "`Series`与`DataFrame` 对象提供有方法`memory_usage()`，用来查看对象占用内存，其使用语法为：\n",
    "```python\n",
    "memory_usage(index=True, deep=False)\n",
    "```"
   ]
  },
  {
   "cell_type": "code",
   "execution_count": null,
   "metadata": {},
   "outputs": [],
   "source": [
    "# 数据集占用内存\n",
    "print(ser.memory_usage(deep=True))\n",
    "print(df.memory_usage(deep=True).sum())"
   ]
  },
  {
   "cell_type": "markdown",
   "metadata": {},
   "source": [
    "对于`DataFrame`对象，除了查看上述属性方法外，还可使用其`info()`方法来查看数据集概况信息，其使用语法为：\n",
    "```python\n",
    "df.info(verbose=None, buf=None, max_cols=None, memory_usage=None, null_counts=None)\n",
    "```\n",
    "主要参数说明\n",
    "- `memory_usage`，指定为`deep`会返回数据集占用内存\n",
    "\n",
    "该方法会返回索引信息、列信息、每列类型及非空数据数目、数据类型计数以及占用内存。"
   ]
  },
  {
   "cell_type": "code",
   "execution_count": null,
   "metadata": {},
   "outputs": [],
   "source": [
    "df.info(memory_usage='deep')"
   ]
  },
  {
   "cell_type": "markdown",
   "metadata": {},
   "source": [
    "## 查看抽样数据\n",
    "\n",
    "Pandas 通常用来处理中等规模大小的数据集，其数据集大小可从几条到百万条数据。使用`Series`与`DataFrame`如下方法可以抽样查看数据集数据，快速获得数据集大概印象：\n",
    "- `head(n=5)`，查看头部几行数据：\n",
    "- `tail(n=5)`，查看尾部几行数据：\n",
    "- `sample(n=None, frac=None，...)`，随机查看数据 "
   ]
  },
  {
   "cell_type": "code",
   "execution_count": null,
   "metadata": {},
   "outputs": [],
   "source": [
    "# 头部数据\n",
    "ser.head()"
   ]
  },
  {
   "cell_type": "code",
   "execution_count": null,
   "metadata": {},
   "outputs": [],
   "source": [
    "# 尾部数据\n",
    "df.tail(3)"
   ]
  },
  {
   "cell_type": "code",
   "execution_count": null,
   "metadata": {},
   "outputs": [],
   "source": [
    "# 随机抽样数据\n",
    "df.sample(5)"
   ]
  },
  {
   "cell_type": "code",
   "execution_count": null,
   "metadata": {},
   "outputs": [],
   "source": [
    "# 随机抽样数据 \n",
    "df.sample(frac=0.3)"
   ]
  },
  {
   "cell_type": "markdown",
   "metadata": {},
   "source": [
    "## 小结\n",
    "\n",
    "本节介绍了如何通过对象属性（`shape, index, columns, dtypes, values`）来查看数据。同时还介绍了用于数据集概况与数据抽样的常用查看方法：\n",
    "- `memory_usage()`\n",
    "- `info()`\n",
    "- `head()`\n",
    "- `tail()`\n",
    "- `sample()`"
   ]
  }
 ],
 "metadata": {
  "kernelspec": {
   "display_name": "Python 3",
   "language": "python",
   "name": "python3"
  },
  "language_info": {
   "codemirror_mode": {
    "name": "ipython",
    "version": 3
   },
   "file_extension": ".py",
   "mimetype": "text/x-python",
   "name": "python",
   "nbconvert_exporter": "python",
   "pygments_lexer": "ipython3",
   "version": "3.6.4"
  },
  "toc": {
   "base_numbering": 1,
   "nav_menu": {},
   "number_sections": true,
   "sideBar": true,
   "skip_h1_title": false,
   "title_cell": "Table of Contents",
   "title_sidebar": "Contents",
   "toc_cell": false,
   "toc_position": {
    "height": "calc(100% - 180px)",
    "left": "10px",
    "top": "150px",
    "width": "299px"
   },
   "toc_section_display": true,
   "toc_window_display": true
  }
 },
 "nbformat": 4,
 "nbformat_minor": 2
}
