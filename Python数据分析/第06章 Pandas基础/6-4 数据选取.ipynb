{
 "cells": [
  {
   "cell_type": "markdown",
   "metadata": {
    "slideshow": {
     "slide_type": "slide"
    }
   },
   "source": [
    "# 数据选取\n",
    "\n",
    "Pandas 提供`Series`与`DataFrame`结构类型来住址管理一个有序、可变、可重复、有映射的数据集。对于一个数据集，经常要做的事就是从中选取数据。`DataFrame`是一个表格式结构（如下图所示），意味着会有如下数据选择：\n",
    "- 选择指定行与列的数据，如红框所示；\n",
    "- 选择某列中的数据，如黄框所示 ；\n",
    "- 选择某行中的数据，如绿框所示 ；\n",
    "- 选择指定行列范围中的数据，如蓝框所示 ；\n",
    "\n",
    "![数据选取](../images/pandas_table_select.png)"
   ]
  },
  {
   "cell_type": "markdown",
   "metadata": {},
   "source": [
    "与 Numpy 数组相比，`Series`与`DataFrame`中的数据有序，有映射。可以像数组那样使用整数索引来选取，还能够使用行列标签（有时也称为索引）来选择数据。Pandas 提供了如下方法来选取数据：\n",
    "- `df[col]`：返回指定列\n",
    "- `df[[col1, col2]]`：返回指定多列\n",
    "- `s.loc['index_one']`：按索引选取数据\n",
    "- `s.iloc[0]`：按位置选取数据\n",
    "- `df.iloc[0,:]`：返回第1行\n",
    "- `df.iloc[0,0]`：返回第1列的第1个元素\n",
    "\n",
    "本节介绍如何从`Series`与`DataFrame`对象中选取数据。"
   ]
  },
  {
   "cell_type": "code",
   "execution_count": null,
   "metadata": {
    "slideshow": {
     "slide_type": "-"
    }
   },
   "outputs": [],
   "source": [
    "import numpy as np\n",
    "import pandas as pd\n",
    "import matplotlib.pyplot as plt\n",
    "%matplotlib inline"
   ]
  },
  {
   "cell_type": "markdown",
   "metadata": {},
   "source": [
    "## `Series`对象\n",
    "\n",
    "Numpy 数组用于同质、有序、无映射的数据集。可以使用整数位置、索引数组、布尔数组来访问其中数据。与数组对象相比，`Series` 对象是有映射的，也就是可以使用标签来访问 `Series` 对象的元素。下面创建几个`Series`对象："
   ]
  },
  {
   "cell_type": "code",
   "execution_count": null,
   "metadata": {},
   "outputs": [],
   "source": [
    "from datetime import datetime\n",
    "\n",
    "# 索引: RangeIndex\n",
    "s0 = pd.Series([60, 70, 65, 100, 230, 150, 100, 300, 250, 150])\n",
    "\n",
    "# 索引: 整数序列\n",
    "times = np.array([6, 7, 8, 11, 12, 13, 18, 19, 20, 21])\n",
    "s1 = pd.Series([60, 70, 65, 100, 230, 150, 100, 300, 250, 150], index=times)\n",
    "\n",
    "# 索引: 字符串序列\n",
    "times = ['6h', '7h', '8h', '11h', '12h', '13h', '18h', '19h', '20h', '21h']\n",
    "s2 = pd.Series([60, 70, 65, 100, 230, 150, 100, 300, 250, 150], index=times)\n",
    "\n",
    "# 索引: 日期索引\n",
    "times = [datetime(2018, 10, 10, 6), datetime(2018, 10, 10, 7), \n",
    "         datetime(2018, 10, 10, 8), datetime(2018, 10, 10, 11), \n",
    "         datetime(2018, 10, 10, 12), datetime(2018, 10, 10, 13), \n",
    "         datetime(2018, 10, 10, 18), datetime(2018, 10, 10, 19), \n",
    "         datetime(2018, 10, 10, 20), datetime(2018, 10, 10, 21)]\n",
    "s3 = pd.Series([60, 70, 65, 100, 230, 150, 100, 300, 250, 150], index=times)"
   ]
  },
  {
   "cell_type": "markdown",
   "metadata": {},
   "source": [
    "### 使用标签选取数据\n",
    "\n",
    "`Series`对象可是使用标签来选取数据，使用 `s[idx]` 来访问数据，返回的是单个数据："
   ]
  },
  {
   "cell_type": "code",
   "execution_count": null,
   "metadata": {},
   "outputs": [],
   "source": [
    "# 访问单个数据\n",
    "s0[0], s1[6], s2['6h'], s3['2018-10-10 06']"
   ]
  },
  {
   "cell_type": "markdown",
   "metadata": {},
   "source": [
    "对于日期索引，访问单个数据可以是使用日期的字符串形式，会自动进行转化。"
   ]
  },
  {
   "cell_type": "markdown",
   "metadata": {},
   "source": [
    "### 索引数组\n",
    "\n",
    "使用标签组成的数组，即索引数组（标签数组），可以访问多个数据，返回的是一个序列对象："
   ]
  },
  {
   "cell_type": "code",
   "execution_count": null,
   "metadata": {},
   "outputs": [],
   "source": [
    "# 访问多个数据\n",
    "s0[[0, 1, 2]], s1[[6, 11, 18]], s2[['6h', '7h', '18h']]"
   ]
  },
  {
   "cell_type": "markdown",
   "metadata": {},
   "source": [
    "对于日期索引，此时就需要使用日期组成的索引数组："
   ]
  },
  {
   "cell_type": "code",
   "execution_count": null,
   "metadata": {},
   "outputs": [],
   "source": [
    "idx = [datetime(2018, 10, 10, 6), datetime(2018, 10, 10, 7), datetime(2018, 10, 10, 8)]\n",
    "s3[idx]"
   ]
  },
  {
   "cell_type": "markdown",
   "metadata": {},
   "source": [
    "### 布尔数组\n",
    "\n",
    "与数组对象一样，`Series`对象可以使用布尔数组来选取数组，让人返回一个`Serirs`对象："
   ]
  },
  {
   "cell_type": "code",
   "execution_count": null,
   "metadata": {},
   "outputs": [],
   "source": [
    "s0[s0 > 200]"
   ]
  },
  {
   "cell_type": "code",
   "execution_count": null,
   "metadata": {},
   "outputs": [],
   "source": [
    "s1[s1.index > 13]"
   ]
  },
  {
   "cell_type": "code",
   "execution_count": null,
   "metadata": {},
   "outputs": [],
   "source": [
    "s3[s3.index > '2018-10-10 12']"
   ]
  },
  {
   "cell_type": "markdown",
   "metadata": {},
   "source": [
    "### 使用`iloc`运算符选取数据\n",
    "\n",
    "`Series`对象的数据是有序的，因此可以使用第1个数据，或倒数第1个数据，或者切片的方式来选取数据。例如对于变量`s3`，可以直接使用整数位置来选取数据："
   ]
  },
  {
   "cell_type": "code",
   "execution_count": null,
   "metadata": {},
   "outputs": [],
   "source": [
    "s3[0], s3[-1]"
   ]
  },
  {
   "cell_type": "markdown",
   "metadata": {},
   "source": [
    "不过，这里有一个问题，当序列对象的序列是整数，就会出现不确定性。对于此种情况，Pandas 会以索引进行选择。当给出的整数值不在索引时，就会抛出异常。例如，下面语句想选取最后一个数据："
   ]
  },
  {
   "cell_type": "code",
   "execution_count": null,
   "metadata": {},
   "outputs": [],
   "source": [
    "for i, s in enumerate([s0, s1, s2, s3]):\n",
    "    try:\n",
    "        s[-1]\n",
    "    except KeyError:\n",
    "        print('s{} has KeyError'.format(i))"
   ]
  },
  {
   "cell_type": "markdown",
   "metadata": {},
   "source": [
    "对于这种情况，Pandas 创建了特殊运算符，即整数索引符号`iloc`来选取数据： "
   ]
  },
  {
   "cell_type": "code",
   "execution_count": null,
   "metadata": {},
   "outputs": [],
   "source": [
    "s0.iloc[-1], s1.iloc[0], s2.iloc[2], s3.iloc[3]"
   ]
  },
  {
   "cell_type": "markdown",
   "metadata": {},
   "source": [
    "使用`iloc`运算符，可以使用类似切片的方法："
   ]
  },
  {
   "cell_type": "code",
   "execution_count": null,
   "metadata": {},
   "outputs": [],
   "source": [
    "s0.iloc[2:3], s1.iloc[::3]"
   ]
  },
  {
   "cell_type": "markdown",
   "metadata": {},
   "source": [
    "### 使用`loc`运算符选取数据\n",
    "\n",
    "Pandas 还创建了`loc`运算符，用于基于标签的索引："
   ]
  },
  {
   "cell_type": "code",
   "execution_count": null,
   "metadata": {},
   "outputs": [],
   "source": [
    "# 访问多个数据\n",
    "s0.loc[[0, 1, 2]], s1.loc[[6, 11, 18]], s2.loc[['6h', '7h', '18h']]"
   ]
  },
  {
   "cell_type": "code",
   "execution_count": null,
   "metadata": {},
   "outputs": [],
   "source": [
    "# 访问多个数据\n",
    "s3.loc[s3.index > '2018-10-10 12']"
   ]
  },
  {
   "cell_type": "markdown",
   "metadata": {},
   "source": [
    "##  `DataFrame`对象\n",
    "\n",
    "与 `Series` 对象类似，差别在于`DataFrame`对象用于表格式数据集，多了列索引（标签）。下面创建 `DataFrame`对象，用于选取数据："
   ]
  },
  {
   "cell_type": "code",
   "execution_count": null,
   "metadata": {},
   "outputs": [],
   "source": [
    "from datetime import datetime\n",
    "\n",
    "# 时间\n",
    "times = [datetime(2018, 10, 10, 6), datetime(2018, 10, 10, 7), \n",
    "         datetime(2018, 10, 10, 8), datetime(2018, 10, 10, 11), \n",
    "         datetime(2018, 10, 10, 12), datetime(2018, 10, 10, 13), \n",
    "         datetime(2018, 10, 10, 18), datetime(2018, 10, 10, 19), \n",
    "         datetime(2018, 10, 10, 20), datetime(2018, 10, 10, 21)]\n",
    "# 餐时标识，顾客人数、平均消费、总消费\n",
    "meals = np.array(['B', 'B', 'B', 'L', 'L', 'L', 'D', 'D', 'D', ''])\n",
    "customers = np.array([60, 70, 65, 100, 230, 150, 100, 300, np.nan, 300])\n",
    "costs = np.array([6.5, 7, 8, 24, 23, 26, 45, 55.5, 45, np.nan])\n",
    "total_costs = customers * costs\n",
    "\n",
    "# 创建DataFrame对象\n",
    "data = {'meals': meals, 'customers': customers, 'costs': costs, 'total_costs': total_costs}\n",
    "df = pd.DataFrame(data, index=times)"
   ]
  },
  {
   "cell_type": "code",
   "execution_count": null,
   "metadata": {},
   "outputs": [],
   "source": [
    "df.info()"
   ]
  },
  {
   "cell_type": "markdown",
   "metadata": {},
   "source": [
    "下面介绍：\n",
    "- 如何选取列\n",
    "- 如何选取行\n",
    "- 如何选取单个标量\n",
    "- 如何选取多行多列"
   ]
  },
  {
   "cell_type": "markdown",
   "metadata": {},
   "source": [
    "### 选取列数据\n",
    "\n",
    "可以使用标签选取列："
   ]
  },
  {
   "cell_type": "code",
   "execution_count": null,
   "metadata": {},
   "outputs": [],
   "source": [
    "# 选取单个列，返回Series对象\n",
    "df['costs']"
   ]
  },
  {
   "cell_type": "markdown",
   "metadata": {},
   "source": [
    "单独选取一列时，还可以使用`.`运算符："
   ]
  },
  {
   "cell_type": "code",
   "execution_count": null,
   "metadata": {},
   "outputs": [],
   "source": [
    "df.costs"
   ]
  },
  {
   "cell_type": "code",
   "execution_count": null,
   "metadata": {},
   "outputs": [],
   "source": [
    "# 选取多列，返回DataFrame对象\n",
    "df[['customers', 'costs']]"
   ]
  },
  {
   "cell_type": "markdown",
   "metadata": {
    "slideshow": {
     "slide_type": "slide"
    }
   },
   "source": [
    "### 选取行数据\n",
    "\n",
    "使用 `loc` 运算符，传入 `DataFrame` 行标签来选择指定行数据："
   ]
  },
  {
   "cell_type": "code",
   "execution_count": null,
   "metadata": {
    "slideshow": {
     "slide_type": "-"
    }
   },
   "outputs": [],
   "source": [
    "# 使用`loc`运算符，传入行标签，返回序列对象\n",
    "df.loc['2018-10-10 08']"
   ]
  },
  {
   "cell_type": "markdown",
   "metadata": {
    "slideshow": {
     "slide_type": "slide"
    }
   },
   "source": [
    "使用 `iloc` 运算符，传入行的整数位置来选择指定行数据："
   ]
  },
  {
   "cell_type": "code",
   "execution_count": null,
   "metadata": {
    "slideshow": {
     "slide_type": "-"
    }
   },
   "outputs": [],
   "source": [
    "# 传入整数位置，返回序列对象\n",
    "df.iloc[-2]"
   ]
  },
  {
   "cell_type": "markdown",
   "metadata": {},
   "source": [
    "使用布尔数组来选择多行数据："
   ]
  },
  {
   "cell_type": "code",
   "execution_count": null,
   "metadata": {},
   "outputs": [],
   "source": [
    "df[df['customers'] > 250]"
   ]
  },
  {
   "cell_type": "markdown",
   "metadata": {
    "slideshow": {
     "slide_type": "slide"
    }
   },
   "source": [
    "可以使用切片方式来选择多行数据："
   ]
  },
  {
   "cell_type": "code",
   "execution_count": null,
   "metadata": {
    "slideshow": {
     "slide_type": "-"
    }
   },
   "outputs": [],
   "source": [
    "# 使用切片方式选择多行数据\n",
    "df.iloc[0:3]"
   ]
  },
  {
   "cell_type": "markdown",
   "metadata": {},
   "source": [
    "### 选择单个标量\n",
    "\n",
    "通过列标签来选取列（Series对象），再指定列标签前来选择单个标量数据："
   ]
  },
  {
   "cell_type": "code",
   "execution_count": null,
   "metadata": {},
   "outputs": [],
   "source": [
    "df['costs']['2018-10-10 07']"
   ]
  },
  {
   "cell_type": "markdown",
   "metadata": {},
   "source": [
    "使用`loc`与`iloc`运算符更为方便，须注意前面为行，后面为列："
   ]
  },
  {
   "cell_type": "code",
   "execution_count": null,
   "metadata": {},
   "outputs": [],
   "source": [
    "# loc运算符 \n",
    "df.loc['2018-10-10 07', 'costs']"
   ]
  },
  {
   "cell_type": "code",
   "execution_count": null,
   "metadata": {},
   "outputs": [],
   "source": [
    "# iloc运算符 \n",
    "df.iloc[0, -1]"
   ]
  },
  {
   "cell_type": "markdown",
   "metadata": {},
   "source": [
    "除了使用`loc`, `iloc`运算符外，Pandas还提供了 `at` 与 `iat` 运算符，专门用于选取单个数据。`at`运算符基于行列标签，`iat`基于行列整数位置："
   ]
  },
  {
   "cell_type": "code",
   "execution_count": null,
   "metadata": {},
   "outputs": [],
   "source": [
    "# at运算符 \n",
    "df.at[datetime(2018, 10, 10, 7), 'costs']"
   ]
  },
  {
   "cell_type": "code",
   "execution_count": null,
   "metadata": {},
   "outputs": [],
   "source": [
    "# iat运算符 \n",
    "df.iat[0, -1]"
   ]
  },
  {
   "cell_type": "markdown",
   "metadata": {
    "slideshow": {
     "slide_type": "slide"
    }
   },
   "source": [
    "### 选择多行与多列（`M*N`）\n",
    "\n",
    "使用`loc`运算符来选择多行与多列，前为行后为列，可以使用标签，也可使用布尔数："
   ]
  },
  {
   "cell_type": "code",
   "execution_count": null,
   "metadata": {
    "slideshow": {
     "slide_type": "-"
    }
   },
   "outputs": [],
   "source": [
    "idx = [datetime(2018, 10, 10, 6), datetime(2018, 10, 10, 7), datetime(2018, 10, 10, 8)]\n",
    "df.loc[idx, ['customers', 'costs']]"
   ]
  },
  {
   "cell_type": "code",
   "execution_count": null,
   "metadata": {},
   "outputs": [],
   "source": [
    "conds = df.index > '2018-10-10 12' \n",
    "df.loc[conds, ['customers', 'costs']]"
   ]
  },
  {
   "cell_type": "markdown",
   "metadata": {},
   "source": [
    "使用`iloc`运算符来选择多行与多列，前为行后为列："
   ]
  },
  {
   "cell_type": "code",
   "execution_count": null,
   "metadata": {
    "slideshow": {
     "slide_type": "-"
    }
   },
   "outputs": [],
   "source": [
    "# 使用位置数组\n",
    "df.iloc[[0, 3, 6], [0, 1, 3]]"
   ]
  },
  {
   "cell_type": "code",
   "execution_count": null,
   "metadata": {},
   "outputs": [],
   "source": [
    "# 使用切片\n",
    "df.iloc[::2, ::2]"
   ]
  },
  {
   "cell_type": "markdown",
   "metadata": {},
   "source": [
    "## 其它选取方法\n",
    "\n",
    "`DataFrame`对象提供有`select_dtypes()`方法，通过列的数据类型选择数据，其使用语法为：\n",
    "```python\n",
    "df.select_dtypes(include=None, exclude=None)\n",
    "```\n",
    "参数说明：\n",
    "- `include`，包括数据类型\n",
    "- `exclude`，排除数据类型"
   ]
  },
  {
   "cell_type": "markdown",
   "metadata": {},
   "source": [
    "例如，只选择数据类型为`object`的列："
   ]
  },
  {
   "cell_type": "code",
   "execution_count": null,
   "metadata": {},
   "outputs": [],
   "source": [
    "df.select_dtypes(include=['object'])"
   ]
  },
  {
   "cell_type": "markdown",
   "metadata": {},
   "source": [
    "`DataFrame`对象提供有`filter()`方法，通过匹配行列名称来选择某些行或者某些列，其使用语法为：\n",
    "```python\n",
    "df.filter(items=None, like=None, regex=None, axis=None)\n",
    "```\n",
    "参数说明：\n",
    "- `items`, `like`,  `regex` 互斥，只能3选1\n",
    "- `items`：具体索引名称列表\n",
    "- `like`：匹配包含like字符串的索引名称\n",
    "- `regex`：匹配符合正则表达式的索引名称\n",
    "- `axis`：0 表示匹配行，1表示匹配列"
   ]
  },
  {
   "cell_type": "code",
   "execution_count": null,
   "metadata": {},
   "outputs": [],
   "source": [
    "df.filter(like='c')"
   ]
  },
  {
   "cell_type": "code",
   "execution_count": null,
   "metadata": {},
   "outputs": [],
   "source": [
    "df.filter(regex='co.*')"
   ]
  },
  {
   "cell_type": "markdown",
   "metadata": {},
   "source": [
    "## 小结\n",
    "\n",
    "Pandas 的 `Series` 与 `DataFrame` 用于有序、有映射的数据集，故而可以使用标签（索引）或整数位置来选取数据。`DataFrame`对象有包括行列标签，使得数据选择灵活多变，有时也显得有些困难。只要根据选取目标即选取哪些数据，再加上选取方法（标签亦或整数），即可按图索骥，获得自己想要的数据。"
   ]
  }
 ],
 "metadata": {
  "kernelspec": {
   "display_name": "Python 3",
   "language": "python",
   "name": "python3"
  },
  "language_info": {
   "codemirror_mode": {
    "name": "ipython",
    "version": 3
   },
   "file_extension": ".py",
   "mimetype": "text/x-python",
   "name": "python",
   "nbconvert_exporter": "python",
   "pygments_lexer": "ipython3",
   "version": "3.6.4"
  },
  "toc": {
   "base_numbering": 1,
   "nav_menu": {},
   "number_sections": true,
   "sideBar": true,
   "skip_h1_title": false,
   "title_cell": "Table of Contents",
   "title_sidebar": "Contents",
   "toc_cell": false,
   "toc_position": {
    "height": "calc(100% - 180px)",
    "left": "10px",
    "top": "150px",
    "width": "299px"
   },
   "toc_section_display": true,
   "toc_window_display": true
  }
 },
 "nbformat": 4,
 "nbformat_minor": 2
}
