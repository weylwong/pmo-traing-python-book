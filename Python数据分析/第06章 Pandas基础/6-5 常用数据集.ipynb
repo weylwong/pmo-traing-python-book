{
 "cells": [
  {
   "cell_type": "markdown",
   "metadata": {},
   "source": [
    "# 常用数据集\n",
    "\n",
    "没有数据分析，数据只是数字而已！没有数据，数据分析只是空中楼阁。在后续章节以及未来数据分析过程中，需要接触很多数据集，这里列出几个常用的数据集\n",
    "- iris： 鸢尾花数据集\n",
    "- tips： 餐厅小费的数据集"
   ]
  },
  {
   "cell_type": "code",
   "execution_count": null,
   "metadata": {},
   "outputs": [],
   "source": [
    "import os\n",
    "import numpy as np\n",
    "import pandas as pd\n",
    "import matplotlib.pyplot as plt\n",
    "%matplotlib inline"
   ]
  },
  {
   "cell_type": "markdown",
   "metadata": {},
   "source": [
    "## iris（鸢尾花数据集）\n",
    "\n",
    "iris 是多重变量分析的数据集，常用于分类问题。通过花萼长度，花萼宽度，花瓣长度，花瓣宽度4个属性预测鸢尾花卉的种类。"
   ]
  },
  {
   "cell_type": "markdown",
   "metadata": {},
   "source": [
    "### 下载数据"
   ]
  },
  {
   "cell_type": "code",
   "execution_count": null,
   "metadata": {},
   "outputs": [],
   "source": [
    "!wget -N http://archive.ics.uci.edu/ml/machine-learning-databases/iris/iris.names\n",
    "!wget -N http://archive.ics.uci.edu/ml/machine-learning-databases/iris/iris.data\n",
    "!wget -N http://archive.ics.uci.edu/ml/machine-learning-databases/iris/bezdekIris.data    "
   ]
  },
  {
   "cell_type": "code",
   "execution_count": null,
   "metadata": {},
   "outputs": [],
   "source": [
    "!mv iris.data iris.names bezdekIris.data ../data/iris/"
   ]
  },
  {
   "cell_type": "markdown",
   "metadata": {},
   "source": [
    "### 数据描述"
   ]
  },
  {
   "cell_type": "code",
   "execution_count": null,
   "metadata": {},
   "outputs": [],
   "source": [
    "datafile = os.path.join('..', 'data', 'iris', 'iris.data')\n",
    "datafile"
   ]
  },
  {
   "cell_type": "code",
   "execution_count": null,
   "metadata": {},
   "outputs": [],
   "source": [
    "colnames = ['sepal length (cm)', 'sepal width (cm)',\n",
    "            'petal length (cm)', 'petal width (cm)',\n",
    "            'target']\n",
    "iris_df = pd.read_csv(datafile, names=colnames)\n",
    "iris_df.info()"
   ]
  },
  {
   "cell_type": "markdown",
   "metadata": {},
   "source": [
    "## tips数据集\n",
    "\n",
    "小费数据集(`tips`)，是一个关于餐厅小费的数据集，包含7列数据：\n",
    "- 总费用（total_bill）\n",
    "- 付小费的金额（tip）\n",
    "- 付款者性别（sex）\n",
    "- 是否吸烟（smoker）\n",
    "- 日期（day）\n",
    "- 日间（time）\n",
    "- 顾客人数（size）\n",
    "\n",
    "通过数据分析和建模，可帮助服务员预测来餐厅就餐的顾客是否会会支付小费。"
   ]
  },
  {
   "cell_type": "code",
   "execution_count": null,
   "metadata": {},
   "outputs": [],
   "source": [
    "filename = os.path.join('..', 'data', 'tips.csv')\n",
    "tipsdata = pd.read_csv(filename)\n",
    "tipsdata.sample(5)"
   ]
  },
  {
   "cell_type": "code",
   "execution_count": null,
   "metadata": {},
   "outputs": [],
   "source": [
    "## "
   ]
  }
 ],
 "metadata": {
  "kernelspec": {
   "display_name": "Python 3",
   "language": "python",
   "name": "python3"
  },
  "language_info": {
   "codemirror_mode": {
    "name": "ipython",
    "version": 3
   },
   "file_extension": ".py",
   "mimetype": "text/x-python",
   "name": "python",
   "nbconvert_exporter": "python",
   "pygments_lexer": "ipython3",
   "version": "3.6.4"
  },
  "toc": {
   "base_numbering": 1,
   "nav_menu": {},
   "number_sections": true,
   "sideBar": true,
   "skip_h1_title": false,
   "title_cell": "Table of Contents",
   "title_sidebar": "Contents",
   "toc_cell": false,
   "toc_position": {},
   "toc_section_display": true,
   "toc_window_display": false
  }
 },
 "nbformat": 4,
 "nbformat_minor": 2
}
