{
 "cells": [
  {
   "cell_type": "markdown",
   "metadata": {
    "slideshow": {
     "slide_type": "slide"
    }
   },
   "source": [
    "# 数据描述统计\n",
    "\n",
    "根据数据的类型与意义数据可分为：\n",
    "- 数值数据（Numerical data）；\n",
    "- 分类数据（Categorical data ）；\n",
    "- 有序数据（Ordinal data）；\n",
    "- 文本数据（text data）。\n",
    "\n",
    "`Series`与`DataFrame`对象用来组织管理数据集，需要掌握数据集中包含何种数据，数据的基本概况如何？本节会介绍一些 Pandas 中基本的数据查看函数或方法。"
   ]
  },
  {
   "cell_type": "code",
   "execution_count": 2,
   "metadata": {
    "slideshow": {
     "slide_type": "-"
    }
   },
   "outputs": [],
   "source": [
    "import numpy as np\n",
    "import pandas as pd\n",
    "import matplotlib.pyplot as plt\n",
    "%matplotlib inline"
   ]
  },
  {
   "cell_type": "markdown",
   "metadata": {
    "slideshow": {
     "slide_type": "slide"
    }
   },
   "source": [
    "## 查看数据特征\n",
    "\n",
    "这里仍然使用上节的饭店消费示例，但在创建数据集时加入了一些非数字值："
   ]
  },
  {
   "cell_type": "code",
   "execution_count": 27,
   "metadata": {},
   "outputs": [],
   "source": [
    "from datetime import datetime\n",
    "# 时间\n",
    "times = [datetime(2018, 10, 10, 6), datetime(2018, 10, 10, 7), \n",
    "         datetime(2018, 10, 10, 8), datetime(2018, 10, 10, 11), \n",
    "         datetime(2018, 10, 10, 12), datetime(2018, 10, 10, 13), \n",
    "         datetime(2018, 10, 10, 18), datetime(2018, 10, 10, 19), \n",
    "         datetime(2018, 10, 10, 20), datetime(2018, 10, 10, 21)]\n",
    "# 餐时标识，顾客人数、平均消费、总消费\n",
    "meals = np.array(['B', 'B', 'B', 'L', 'L', 'L', 'D', 'D', 'D', ''])\n",
    "customers = np.array([60, 70, 65, 100, 230, 150, 100, 300, np.nan, 300])\n",
    "costs = np.array([6.5, 7, 8, 24, 23, 26, 45, 55.5, 45, np.nan])\n",
    "total_costs = customers * costs\n",
    "\n",
    "# 创建Series、DataFrame对象\n",
    "ser = pd.Series(customers, index=times)\n",
    "data = {'meals': meals, 'customers': customers, 'costs': costs, 'total_costs': total_costs}\n",
    "df = pd.DataFrame(data, index=times)"
   ]
  },
  {
   "cell_type": "markdown",
   "metadata": {},
   "source": [
    "使用`info()`来查看数据集的数据及数据类型："
   ]
  },
  {
   "cell_type": "code",
   "execution_count": 28,
   "metadata": {},
   "outputs": [
    {
     "name": "stdout",
     "output_type": "stream",
     "text": [
      "<class 'pandas.core.frame.DataFrame'>\n",
      "DatetimeIndex: 10 entries, 2018-10-10 06:00:00 to 2018-10-10 21:00:00\n",
      "Data columns (total 4 columns):\n",
      "meals          10 non-null object\n",
      "customers      9 non-null float64\n",
      "costs          9 non-null float64\n",
      "total_costs    8 non-null float64\n",
      "dtypes: float64(3), object(1)\n",
      "memory usage: 937.0 bytes\n"
     ]
    }
   ],
   "source": [
    "df.info(memory_usage='deep')"
   ]
  },
  {
   "cell_type": "markdown",
   "metadata": {},
   "source": [
    "根据数据集的数据类型以及意义，可以把`df`对象的数据分为：\n",
    "- 餐时标识（`meals`）：字符串，分别代表早餐、午餐与晚餐，属于分类数据，\n",
    "- 顾客人数：整数类型，表示人数，属于数值数据\n",
    "- 平均消费、总消费：浮点数类型，属于数值数据，且为连续数据\n",
    "- 日期索引，可认为是特殊的有序数据。"
   ]
  },
  {
   "cell_type": "markdown",
   "metadata": {},
   "source": [
    "在数据收集过程中，经常会遇到数据缺失的情况。对于数值型数据，常使用`NaN (Not a Number)`来表示缺失值，对于日期型数据`datetime64`则使用`NaT (Not a Time)`来表示。Pandas中，可以使用序列或数据帧的`isnull()`或`isna()`方法来查看："
   ]
  },
  {
   "cell_type": "code",
   "execution_count": 29,
   "metadata": {},
   "outputs": [
    {
     "data": {
      "text/plain": [
       "2018-10-10 06:00:00    False\n",
       "2018-10-10 07:00:00    False\n",
       "2018-10-10 08:00:00    False\n",
       "2018-10-10 11:00:00    False\n",
       "2018-10-10 12:00:00    False\n",
       "2018-10-10 13:00:00    False\n",
       "2018-10-10 18:00:00    False\n",
       "2018-10-10 19:00:00    False\n",
       "2018-10-10 20:00:00     True\n",
       "2018-10-10 21:00:00    False\n",
       "dtype: bool"
      ]
     },
     "execution_count": 29,
     "metadata": {},
     "output_type": "execute_result"
    }
   ],
   "source": [
    "ser.isnull()"
   ]
  },
  {
   "cell_type": "code",
   "execution_count": 33,
   "metadata": {},
   "outputs": [
    {
     "data": {
      "text/html": [
       "<div>\n",
       "<style scoped>\n",
       "    .dataframe tbody tr th:only-of-type {\n",
       "        vertical-align: middle;\n",
       "    }\n",
       "\n",
       "    .dataframe tbody tr th {\n",
       "        vertical-align: top;\n",
       "    }\n",
       "\n",
       "    .dataframe thead th {\n",
       "        text-align: right;\n",
       "    }\n",
       "</style>\n",
       "<table border=\"1\" class=\"dataframe\">\n",
       "  <thead>\n",
       "    <tr style=\"text-align: right;\">\n",
       "      <th></th>\n",
       "      <th>meals</th>\n",
       "      <th>customers</th>\n",
       "      <th>costs</th>\n",
       "      <th>total_costs</th>\n",
       "    </tr>\n",
       "  </thead>\n",
       "  <tbody>\n",
       "    <tr>\n",
       "      <th>2018-10-10 06:00:00</th>\n",
       "      <td>False</td>\n",
       "      <td>False</td>\n",
       "      <td>False</td>\n",
       "      <td>False</td>\n",
       "    </tr>\n",
       "    <tr>\n",
       "      <th>2018-10-10 07:00:00</th>\n",
       "      <td>False</td>\n",
       "      <td>False</td>\n",
       "      <td>False</td>\n",
       "      <td>False</td>\n",
       "    </tr>\n",
       "    <tr>\n",
       "      <th>2018-10-10 08:00:00</th>\n",
       "      <td>False</td>\n",
       "      <td>False</td>\n",
       "      <td>False</td>\n",
       "      <td>False</td>\n",
       "    </tr>\n",
       "    <tr>\n",
       "      <th>2018-10-10 11:00:00</th>\n",
       "      <td>False</td>\n",
       "      <td>False</td>\n",
       "      <td>False</td>\n",
       "      <td>False</td>\n",
       "    </tr>\n",
       "    <tr>\n",
       "      <th>2018-10-10 12:00:00</th>\n",
       "      <td>False</td>\n",
       "      <td>False</td>\n",
       "      <td>False</td>\n",
       "      <td>False</td>\n",
       "    </tr>\n",
       "    <tr>\n",
       "      <th>2018-10-10 13:00:00</th>\n",
       "      <td>False</td>\n",
       "      <td>False</td>\n",
       "      <td>False</td>\n",
       "      <td>False</td>\n",
       "    </tr>\n",
       "    <tr>\n",
       "      <th>2018-10-10 18:00:00</th>\n",
       "      <td>False</td>\n",
       "      <td>False</td>\n",
       "      <td>False</td>\n",
       "      <td>False</td>\n",
       "    </tr>\n",
       "    <tr>\n",
       "      <th>2018-10-10 19:00:00</th>\n",
       "      <td>False</td>\n",
       "      <td>False</td>\n",
       "      <td>False</td>\n",
       "      <td>False</td>\n",
       "    </tr>\n",
       "    <tr>\n",
       "      <th>2018-10-10 20:00:00</th>\n",
       "      <td>False</td>\n",
       "      <td>True</td>\n",
       "      <td>False</td>\n",
       "      <td>True</td>\n",
       "    </tr>\n",
       "    <tr>\n",
       "      <th>2018-10-10 21:00:00</th>\n",
       "      <td>False</td>\n",
       "      <td>False</td>\n",
       "      <td>True</td>\n",
       "      <td>True</td>\n",
       "    </tr>\n",
       "  </tbody>\n",
       "</table>\n",
       "</div>"
      ],
      "text/plain": [
       "                     meals  customers  costs  total_costs\n",
       "2018-10-10 06:00:00  False      False  False        False\n",
       "2018-10-10 07:00:00  False      False  False        False\n",
       "2018-10-10 08:00:00  False      False  False        False\n",
       "2018-10-10 11:00:00  False      False  False        False\n",
       "2018-10-10 12:00:00  False      False  False        False\n",
       "2018-10-10 13:00:00  False      False  False        False\n",
       "2018-10-10 18:00:00  False      False  False        False\n",
       "2018-10-10 19:00:00  False      False  False        False\n",
       "2018-10-10 20:00:00  False       True  False         True\n",
       "2018-10-10 21:00:00  False      False   True         True"
      ]
     },
     "execution_count": 33,
     "metadata": {},
     "output_type": "execute_result"
    }
   ],
   "source": [
    "df.isna()"
   ]
  },
  {
   "cell_type": "markdown",
   "metadata": {},
   "source": [
    "`Series`与`DataFrame`结构类型中的数据是可重复的，使用`duplicated()`方法来检查是否有重复样本，其使用语法为：\n",
    "```python\n",
    "s.duplicated(keep='first')                  # Series对象\n",
    "df.duplicated(subset=None, keep='first')         # DataFrame对象\n",
    "```\n",
    "参数说明\n",
    "- `subset`，是否检查指定列\n",
    "- `keep='first'`：`first`将后出现判断为重复值。`last`则反之。"
   ]
  },
  {
   "cell_type": "code",
   "execution_count": null,
   "metadata": {},
   "outputs": [],
   "source": [
    "ser.duplicated()"
   ]
  },
  {
   "cell_type": "code",
   "execution_count": null,
   "metadata": {},
   "outputs": [],
   "source": [
    "df.duplicated(subset=['meals', 'costs'])"
   ]
  },
  {
   "cell_type": "markdown",
   "metadata": {},
   "source": [
    "使用序列对象的`unique()`方法可以返回唯一值："
   ]
  },
  {
   "cell_type": "code",
   "execution_count": null,
   "metadata": {},
   "outputs": [],
   "source": [
    "ser.unique()"
   ]
  },
  {
   "cell_type": "code",
   "execution_count": null,
   "metadata": {},
   "outputs": [],
   "source": [
    "df['meals'].unique()"
   ]
  },
  {
   "cell_type": "markdown",
   "metadata": {},
   "source": [
    "对于分类数据可以使用序列对象的`value_counts()`方法进行频次统计，返回一个序列对象，不同值的频次。其使用语法为：\n",
    "```python\n",
    "s.value_counts(normalize=False, sort=True, ascending=False, bins=None, dropna=True)\n",
    "```\n",
    "参数说明\n",
    "- `normalize=False`，如果为真则返回频次占比；\n",
    "- `sort=True`，进行排序；\n",
    "- `ascending=False`，排列次序，缺省为降序；\n",
    "- `bins=None`，仅用于数值型数据，对数据进行分箱计数；\n",
    "- `dropna=True`，是否包含空值；"
   ]
  },
  {
   "cell_type": "code",
   "execution_count": 34,
   "metadata": {},
   "outputs": [
    {
     "data": {
      "text/plain": [
       "B    3\n",
       "D    3\n",
       "L    3\n",
       "     1\n",
       "Name: meals, dtype: int64"
      ]
     },
     "execution_count": 34,
     "metadata": {},
     "output_type": "execute_result"
    }
   ],
   "source": [
    "# 分类数据\n",
    "df['meals'].value_counts()"
   ]
  },
  {
   "cell_type": "code",
   "execution_count": 35,
   "metadata": {},
   "outputs": [
    {
     "data": {
      "text/plain": [
       "(43.25, 55.5]                 3\n",
       "(18.75, 31.0]                 3\n",
       "(6.449999999999999, 18.75]    3\n",
       "(31.0, 43.25]                 0\n",
       "Name: costs, dtype: int64"
      ]
     },
     "execution_count": 35,
     "metadata": {},
     "output_type": "execute_result"
    }
   ],
   "source": [
    "# 数值数据\n",
    "df['costs'].value_counts(bins=4)"
   ]
  },
  {
   "cell_type": "markdown",
   "metadata": {},
   "source": [
    "## 查看数值统计信息\n",
    "\n",
    "对于数值型数据，Pandas 提供有如下描述性统计方法：\n",
    "- `count()`，非 NA 值的数量\n",
    "- `min(), max()`，计算最小值和最大值\n",
    "- `argmin(), argmax()`，计算最小值和最大值的索引位置（整数）\n",
    "- `idxmin(), idxmax()`，计算最小值和最大值的索引值\n",
    "- `quantile()`，计算样本的百分位数（0到1）\n",
    "- `sum()`，值得总和\n",
    "- `mean()`，平均值\n",
    "- `median()`，中位数\n",
    "- `mad()`，根据平均值计算平均绝对离差\n",
    "- `var()`，方差\n",
    "- `std()`，标准差\n",
    "- `skew()`，样本值的偏度（三阶矩）\n",
    "- `kurt()`，样本值的峰度（四阶矩）\n",
    "- `cumsum()`，样本值的累计和\n",
    "- `cummin(), cummax()`，\t样本值的累计最大值和累计最小值\n",
    "- `cumprod()`，样本值的累计积\n",
    "- `diff()`，计算一阶差分（对时间序列很有用）\n",
    "- `pct_change()`，计算百分数变化"
   ]
  },
  {
   "cell_type": "markdown",
   "metadata": {},
   "source": [
    "下面给出其中一个方法(`mean()`)的使用语法：\n",
    "```python\n",
    "s.mean(axis=None, skipna=None, level=None, numeric_only=None, **kwargs)\n",
    "df.mean(axis=None, skipna=None, level=None, numeric_only=None, **kwargs)\n",
    "```\n",
    "主要参数说明：\n",
    "- `axis`：行列标记\n",
    "- `skipna`：是否跳过NaN值\n",
    "- `level`：对于多层索引有效"
   ]
  },
  {
   "cell_type": "code",
   "execution_count": 36,
   "metadata": {},
   "outputs": [
    {
     "data": {
      "text/plain": [
       "34140.0"
      ]
     },
     "execution_count": 36,
     "metadata": {},
     "output_type": "execute_result"
    }
   ],
   "source": [
    "# 总收入\n",
    "df['total_costs'].sum()"
   ]
  },
  {
   "cell_type": "code",
   "execution_count": 37,
   "metadata": {},
   "outputs": [
    {
     "data": {
      "text/plain": [
       "152.77777777777777"
      ]
     },
     "execution_count": 37,
     "metadata": {},
     "output_type": "execute_result"
    }
   ],
   "source": [
    "# 均值\n",
    "ser.mean()"
   ]
  },
  {
   "cell_type": "markdown",
   "metadata": {},
   "source": [
    "## 查看数据集整体统计信息\n",
    "\n",
    "使用`describe()`方法，可以一次显示多种统计结果，其使用语法为：\n",
    "```python\n",
    "s.describe(percentiles=None, include=None, exclude=None)\n",
    "df.describe(percentiles=None, include=None, exclude=None)\n",
    "```\n",
    "主要参数说明\n",
    "- `Percentiles`：要显示的百分位数`[.25, .5, .75]`\n",
    "- `include`：需要显示什么类型的数据\n",
    "- `exclude`：不需要显示什么类型的数据"
   ]
  },
  {
   "cell_type": "code",
   "execution_count": null,
   "metadata": {},
   "outputs": [],
   "source": [
    "ser.describe()"
   ]
  },
  {
   "cell_type": "code",
   "execution_count": null,
   "metadata": {},
   "outputs": [],
   "source": [
    "df.describe()"
   ]
  },
  {
   "cell_type": "code",
   "execution_count": null,
   "metadata": {},
   "outputs": [],
   "source": [
    "df.describe(include=[np.object])"
   ]
  },
  {
   "cell_type": "markdown",
   "metadata": {},
   "source": [
    "## 小结\n",
    "\n",
    "本节介绍查看数据特征以及描述性统计的常用方法：\n",
    "- `isnull()`，检查数据集是否有空值\n",
    "- `isna()`，计算数据集是否有非数字值\n",
    "- `duplicated()`，计算数据集是否有重复\n",
    "- `unique()`，返回唯一值\n",
    "- `value_counts()`，频次统计\n",
    "\n",
    "- `count()`，非 NA 值的数量\n",
    "- `min(), max()`，计算最小值和最大值\n",
    "- `argmin(), argmax()`，计算最小值和最大值的索引位置（整数）\n",
    "- `idxmin(), idxmax()`，计算最小值和最大值的索引值\n",
    "- `quantile()`，计算样本的百分位数（0到1）\n",
    "- `sum()`，值得总和\n",
    "- `mean()`，平均值\n",
    "- `median()`，中位数\n",
    "- `mad()`，根据平均值计算平均绝对离差\n",
    "- `var()`，方差\n",
    "- `std()`，标准差\n",
    "- `skew()`，样本值的偏度（三阶矩）\n",
    "- `kurt()`，样本值的峰度（四阶矩）\n",
    "- `cumsum()`，样本值的累计和\n",
    "- `cummin(), cummax()`，\t样本值的累计最大值和累计最小值\n",
    "- `cumprod()`，样本值的累计积\n",
    "- `diff()`，计算一阶差分（对时间序列很有用）\n",
    "- `pct_change()`，计算百分数变化\n",
    "- `describe()`, 查看数据整体统计信息"
   ]
  }
 ],
 "metadata": {
  "kernelspec": {
   "display_name": "Python 3",
   "language": "python",
   "name": "python3"
  },
  "language_info": {
   "codemirror_mode": {
    "name": "ipython",
    "version": 3
   },
   "file_extension": ".py",
   "mimetype": "text/x-python",
   "name": "python",
   "nbconvert_exporter": "python",
   "pygments_lexer": "ipython3",
   "version": "3.6.4"
  },
  "toc": {
   "base_numbering": 1,
   "nav_menu": {},
   "number_sections": true,
   "sideBar": true,
   "skip_h1_title": false,
   "title_cell": "Table of Contents",
   "title_sidebar": "Contents",
   "toc_cell": false,
   "toc_position": {
    "height": "calc(100% - 180px)",
    "left": "10px",
    "top": "150px",
    "width": "299px"
   },
   "toc_section_display": true,
   "toc_window_display": true
  }
 },
 "nbformat": 4,
 "nbformat_minor": 2
}
