{
 "cells": [
  {
   "cell_type": "markdown",
   "metadata": {
    "slideshow": {
     "slide_type": "slide"
    }
   },
   "source": [
    "# 连续型变量的分组\n",
    "\n",
    "对于连续型数值类型，有时需要进行离散化，即把连续型特征变换为类别类型。数值类型离散化就是数据化为到若干个离散的区间，常称为分组或分箱操作。Pandas 提供有如下方法实现分组操作：\n",
    "- `pd.cut()`\n",
    "- `pd.qcut()`"
   ]
  },
  {
   "cell_type": "code",
   "execution_count": null,
   "metadata": {
    "slideshow": {
     "slide_type": "-"
    }
   },
   "outputs": [],
   "source": [
    "import numpy as np\n",
    "import pandas as pd\n",
    "import matplotlib.pyplot as plt\n",
    "%matplotlib inline\n",
    "from IPython.core.interactiveshell import InteractiveShell\n",
    "InteractiveShell.ast_node_interactivity='all'"
   ]
  },
  {
   "cell_type": "markdown",
   "metadata": {
    "slideshow": {
     "slide_type": "slide"
    }
   },
   "source": [
    "## `pd.cut()`\n",
    "\n",
    "`pd.cut()`函数通过指定一个区间实现数据分组，其使用语法为：\n",
    "```python\n",
    "pd.cut(x, bins, right=True, labels=None, retbins=False, precision=3, include_lowest=False, duplicates='raise')\n",
    "```\n",
    "主要参数\n",
    "- `x`，数据。\n",
    "- `bins`，可以为整数或类数组对象，必须是一维。\n",
    "- `right`，右侧是否为闭区间。\n",
    "- `labels`，类数组对象，表示离散化后类别名称。\n",
    "- `retbins`，是否返回区间标签。\n",
    "- `precision`，显示标签精度。\n",
    "- `include_lowest`，`right`优先级高，但不能与`include_lowest`同时为`False`。"
   ]
  },
  {
   "cell_type": "markdown",
   "metadata": {},
   "source": [
    "当`bins`为整数时，会将数据的至于分成具有相同宽度的区间，即对数据进行等宽离散化。例如："
   ]
  },
  {
   "cell_type": "code",
   "execution_count": null,
   "metadata": {},
   "outputs": [],
   "source": [
    "x = [0, 2, 6, 3, 9, 4]\n",
    "# 指定离散标签\n",
    "pd.cut(x, 3, labels=['k1', 'k2', 'k3'], right=True, retbins=True)"
   ]
  },
  {
   "cell_type": "markdown",
   "metadata": {},
   "source": [
    "Pandas 会返回一个类别（Categories）数据类型。\n",
    "\n",
    "通过传入类数组的对象，可以指定一个区间。例如把一个年龄序列，按照不同年龄段进行分组："
   ]
  },
  {
   "cell_type": "code",
   "execution_count": null,
   "metadata": {},
   "outputs": [],
   "source": [
    "x = [3, 11, 12, 14, 18, 19, 20, 21, 24, 30, 33, 35, 40, 42, 45, 59, 53, 60, 70, 80]\n",
    "bins = [0, 7, 16, 40, 60, 100]\n",
    "# 指定离散标签\n",
    "pd.cut(x, bins, labels=['幼儿', '少年', '青年', '中年', '老年'])"
   ]
  },
  {
   "cell_type": "markdown",
   "metadata": {},
   "source": [
    "在指定区间之外的数据，会作为缺失值处理。"
   ]
  },
  {
   "cell_type": "markdown",
   "metadata": {
    "slideshow": {
     "slide_type": "-"
    }
   },
   "source": [
    "在前面章节介绍过用电需求数据集`demand_profile.csv`，其有两个字段： `date_time` 与 `energy_kwh`。在不同时间段上电费费率不同，使用`df.apply()`来可以用电费用。不过可以看出，使用`pd.cut()`函数可以矢量化运算，其性能显然会更高。下面先导入数据，然后用`pd.cut()`来进行处理："
   ]
  },
  {
   "cell_type": "code",
   "execution_count": null,
   "metadata": {},
   "outputs": [],
   "source": [
    "import os\n",
    "\n",
    "# 导入数据\n",
    "df = pd.read_csv(os.path.join('..', 'data', 'demand_profile.csv'))\n",
    "# 转换日期\n",
    "df['date_time'] = pd.to_datetime(df['date_time'], format='%d/%m/%y %H:%M')\n",
    "# 分组\n",
    "cents_per_kwh = pd.cut(df.date_time.dt.hour, bins=[0, 7, 17, 24], include_lowest=True, labels=[12, 20, 28])\n",
    "# 计算电费\n",
    "df['cost_cents'] = df['energy_kwh'] = cents_per_kwh.astype(int)"
   ]
  },
  {
   "cell_type": "markdown",
   "metadata": {},
   "source": [
    "注意，其中`df.date_time.dt.hour`为 Pandas 日期数据的小时。"
   ]
  },
  {
   "cell_type": "markdown",
   "metadata": {},
   "source": [
    "## `pd.qcut()`\n",
    "\n",
    "与 `pd.cut` 函数功能类似，`pd.qcut()` 函数根据样本的分位数对数据进行分组，其使用语法为：\n",
    "```python\n",
    "pd.qcut(x, q, labels=None, retbins=False, precision=3, duplicates='raise')\n",
    "```\n",
    " 主要参数\n",
    " - `x`，数据数组\n",
    " - `q`，分位数个数或列表"
   ]
  },
  {
   "cell_type": "code",
   "execution_count": null,
   "metadata": {},
   "outputs": [],
   "source": [
    "x = [0, 2, 6, 3, 9, 4]\n",
    "# 指定分位数个数\n",
    "pd.qcut(x, 3, labels=['q1', 'q2', 'q3'])"
   ]
  },
  {
   "cell_type": "code",
   "execution_count": null,
   "metadata": {},
   "outputs": [],
   "source": [
    "x = [0, 2, 6, 3, 9, 4]\n",
    "# 指定分位数列表\n",
    "pd.qcut(x, [0.1, 0.5, 0.9, 1], labels=['q1', 'q2', 'q3'])"
   ]
  },
  {
   "cell_type": "code",
   "execution_count": null,
   "metadata": {},
   "outputs": [],
   "source": [
    "pd.qcut?"
   ]
  }
 ],
 "metadata": {
  "kernelspec": {
   "display_name": "Python 3",
   "language": "python",
   "name": "python3"
  },
  "language_info": {
   "codemirror_mode": {
    "name": "ipython",
    "version": 3
   },
   "file_extension": ".py",
   "mimetype": "text/x-python",
   "name": "python",
   "nbconvert_exporter": "python",
   "pygments_lexer": "ipython3",
   "version": "3.6.4"
  },
  "toc": {
   "base_numbering": 1,
   "nav_menu": {},
   "number_sections": true,
   "sideBar": true,
   "skip_h1_title": false,
   "title_cell": "Table of Contents",
   "title_sidebar": "Contents",
   "toc_cell": false,
   "toc_position": {},
   "toc_section_display": true,
   "toc_window_display": true
  }
 },
 "nbformat": 4,
 "nbformat_minor": 2
}
