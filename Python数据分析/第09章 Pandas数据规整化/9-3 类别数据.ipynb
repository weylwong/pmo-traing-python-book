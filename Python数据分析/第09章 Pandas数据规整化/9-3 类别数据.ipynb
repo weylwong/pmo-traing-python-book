{
 "cells": [
  {
   "cell_type": "markdown",
   "metadata": {},
   "source": [
    "# 类别数据（Categorical）\n",
    "\n",
    "使用 Pandas 能够处理从几行到几百万行的数据集。在 Pandas 底层，使用 Numpy 的数组对象来存储数据集。Pandas支持多种数据类型，例如数值型、字符串、日期等。整数与浮点数还具有多个子类型，以便使用较少字节表示不同数据，例如浮点型就有 float16、float32 和 float64 等子类型，下表列出 Pandas 常用数据类型及其占用内存字节：\n",
    "\n",
    "|内存      | float  |  int | uint | datetime | bool | object |\n",
    "|:----------:|:------:|:----:|:------:|:------:|:-----:|:-----:|\n",
    "|1 bytes    |      | int8 | uint8  |      | bool  |     |\n",
    "|2 bytes    | float16| int16| uint16 |      |     |     |  \n",
    "|4 bytes    | float32| int32| uint32 |      |     |     | \n",
    "|8 bytes    | float64| int64| uint64 | datetime64 |  |     |\n",
    "|variable   |      |    |      |        |    | object |\n",
    "\n",
    "本节介绍 Pandas 的特殊数据类型：类别数据（Categorical）。"
   ]
  },
  {
   "cell_type": "code",
   "execution_count": 2,
   "metadata": {},
   "outputs": [],
   "source": [
    "import numpy as np\n",
    "import pandas as pd\n",
    "import matplotlib.pyplot as plt\n",
    "%matplotlib inline\n",
    "from IPython.core.interactiveshell import InteractiveShell\n",
    "InteractiveShell.ast_node_interactivity='all'"
   ]
  },
  {
   "cell_type": "markdown",
   "metadata": {},
   "source": [
    "## 类别数据（Categorical）的由来\n",
    "\n",
    "前面章节提过，根据数据的类型与意义可分为：数值数据（Numerical data）；分类数据（Categorical data ）；有序数据（Ordinal data）。对于分类数据可以使用`value_counts()`方法提取不同值并计算频次。例如，下面给出用餐时间与用餐标识："
   ]
  },
  {
   "cell_type": "code",
   "execution_count": 54,
   "metadata": {},
   "outputs": [],
   "source": [
    "# 时间, 用餐标示\n",
    "times = [6, 7, 8, 11, 12, 13, 18, 19, 20, 21] * 1024\n",
    "meals = ['breakfast', 'breakfast', 'breakfast', 'lunch', 'lunch', 'lunch', 'dinner', 'dinner', 'dinner', 'dinner'] * 1024\n",
    "ser = pd.Series(meals, index=times)"
   ]
  },
  {
   "cell_type": "code",
   "execution_count": 55,
   "metadata": {},
   "outputs": [
    {
     "name": "stdout",
     "output_type": "stream",
     "text": [
      "object\n",
      "10240 888832\n"
     ]
    }
   ],
   "source": [
    "# 数据类型\n",
    "print(ser.dtypes)\n",
    "# 内存\n",
    "print(len(ser), ser.memory_usage(deep=True))"
   ]
  },
  {
   "cell_type": "code",
   "execution_count": 56,
   "metadata": {},
   "outputs": [
    {
     "data": {
      "text/plain": [
       "dinner       4096\n",
       "breakfast    3072\n",
       "lunch        3072\n",
       "dtype: int64"
      ]
     },
     "execution_count": 56,
     "metadata": {},
     "output_type": "execute_result"
    }
   ],
   "source": [
    "# 唯一值与频次\n",
    "ser.value_counts()"
   ]
  },
  {
   "cell_type": "markdown",
   "metadata": {},
   "source": [
    "由上可知，`Series`对象有 10240 个数据，唯一值只有3个，分别对应早餐、午餐与晚餐。数据类型为字符串对象(object)，占用内存大约为1233字节。\n",
    "\n",
    "在 Numpy 与Pandas 中使用 object 类型来表示 Python 字符串对象的值，即 object 列中的每个元素实际存放的是字符串真实位置的指针，这导致字符串是以一种碎片化方式进行存储，内存占用多且访问速度慢。\n",
    "\n",
    "Pandas 自 0.15 版开始引入类别数据类型，在底层使用整型数值而非原值来表示类别数据，再使用字典构建整型数据与原数据的映射关系。对于分类数据，使用类别会大大节省内存占用，且提高性能。下图展示一个包含个颜色的类别数据的示意图：\n",
    "![类别（categoricalas）类型](../images/categorical.svg)"
   ]
  },
  {
   "cell_type": "markdown",
   "metadata": {},
   "source": [
    "使用`Series`对象的方法`astype()`来转换字符串类型为类别数据："
   ]
  },
  {
   "cell_type": "code",
   "execution_count": 71,
   "metadata": {},
   "outputs": [
    {
     "data": {
      "text/plain": [
       "pandas.core.series.Series"
      ]
     },
     "execution_count": 71,
     "metadata": {},
     "output_type": "execute_result"
    },
    {
     "data": {
      "text/plain": [
       "6     breakfast\n",
       "7     breakfast\n",
       "8     breakfast\n",
       "11        lunch\n",
       "12        lunch\n",
       "dtype: category\n",
       "Categories (3, object): [breakfast, dinner, lunch]"
      ]
     },
     "execution_count": 71,
     "metadata": {},
     "output_type": "execute_result"
    }
   ],
   "source": [
    "ser2 = ser.astype('category')\n",
    "ser2.head()"
   ]
  },
  {
   "cell_type": "markdown",
   "metadata": {},
   "source": [
    "再来看看底层发生了什么，使用`Series.cat.codes`属性来返回类别数据用以表示每个值的整型数字："
   ]
  },
  {
   "cell_type": "code",
   "execution_count": 68,
   "metadata": {},
   "outputs": [
    {
     "data": {
      "text/plain": [
       "6     0\n",
       "7     0\n",
       "8     0\n",
       "11    2\n",
       "12    2\n",
       "dtype: int8"
      ]
     },
     "execution_count": 68,
     "metadata": {},
     "output_type": "execute_result"
    }
   ],
   "source": [
    "ser2.head().cat.codes"
   ]
  },
  {
   "cell_type": "markdown",
   "metadata": {},
   "source": [
    "可以看到，`Series`对象的每个数据都被赋值为一个整数，且为 int8 类型，分别用`0,1,2`标示。如果有缺失数据，会设为`-1`。\n",
    "\n",
    "最后，再来看看转换为类别数据前后的内存使用量。"
   ]
  },
  {
   "cell_type": "code",
   "execution_count": 69,
   "metadata": {},
   "outputs": [
    {
     "name": "stdout",
     "output_type": "stream",
     "text": [
      "888832\n",
      "92477\n"
     ]
    }
   ],
   "source": [
    "print(ser.memory_usage(deep=True))\n",
    "print(ser2.memory_usage(deep=True))"
   ]
  },
  {
   "cell_type": "markdown",
   "metadata": {},
   "source": [
    "内存占用率从 888 K 降到92 K，近乎90%的降幅！注意：仅为特例，包含近 10240 个数据的列只有 3 个唯一值。"
   ]
  },
  {
   "cell_type": "markdown",
   "metadata": {},
   "source": [
    "## 类别数据的 Dummy 处理\n",
    "\n",
    "在使用机器学习进行数据分析过程中，通常会将分类数据转换为独热（one-hot）编码或哑变量（Dummy)。Dummy 处理结果会返回一个 `DataFrame` 对象，每个唯一类别都是它的一列，用1表示出现，用0表示未出现。\n",
    "\n",
    "Pandas 提供`pd.get_dummies()`函数将一维分类数据转换为独热编码数据帧："
   ]
  },
  {
   "cell_type": "code",
   "execution_count": 73,
   "metadata": {},
   "outputs": [
    {
     "data": {
      "text/html": [
       "<div>\n",
       "<style scoped>\n",
       "    .dataframe tbody tr th:only-of-type {\n",
       "        vertical-align: middle;\n",
       "    }\n",
       "\n",
       "    .dataframe tbody tr th {\n",
       "        vertical-align: top;\n",
       "    }\n",
       "\n",
       "    .dataframe thead th {\n",
       "        text-align: right;\n",
       "    }\n",
       "</style>\n",
       "<table border=\"1\" class=\"dataframe\">\n",
       "  <thead>\n",
       "    <tr style=\"text-align: right;\">\n",
       "      <th></th>\n",
       "      <th>breakfast</th>\n",
       "      <th>dinner</th>\n",
       "      <th>lunch</th>\n",
       "    </tr>\n",
       "  </thead>\n",
       "  <tbody>\n",
       "    <tr>\n",
       "      <th>6</th>\n",
       "      <td>1</td>\n",
       "      <td>0</td>\n",
       "      <td>0</td>\n",
       "    </tr>\n",
       "    <tr>\n",
       "      <th>7</th>\n",
       "      <td>1</td>\n",
       "      <td>0</td>\n",
       "      <td>0</td>\n",
       "    </tr>\n",
       "    <tr>\n",
       "      <th>8</th>\n",
       "      <td>1</td>\n",
       "      <td>0</td>\n",
       "      <td>0</td>\n",
       "    </tr>\n",
       "    <tr>\n",
       "      <th>11</th>\n",
       "      <td>0</td>\n",
       "      <td>0</td>\n",
       "      <td>1</td>\n",
       "    </tr>\n",
       "    <tr>\n",
       "      <th>12</th>\n",
       "      <td>0</td>\n",
       "      <td>0</td>\n",
       "      <td>1</td>\n",
       "    </tr>\n",
       "  </tbody>\n",
       "</table>\n",
       "</div>"
      ],
      "text/plain": [
       "    breakfast  dinner  lunch\n",
       "6           1       0      0\n",
       "7           1       0      0\n",
       "8           1       0      0\n",
       "11          0       0      1\n",
       "12          0       0      1"
      ]
     },
     "execution_count": 73,
     "metadata": {},
     "output_type": "execute_result"
    }
   ],
   "source": [
    "df = pd.get_dummies(ser2)\n",
    "df.head()"
   ]
  }
 ],
 "metadata": {
  "kernelspec": {
   "display_name": "Python 3",
   "language": "python",
   "name": "python3"
  },
  "language_info": {
   "codemirror_mode": {
    "name": "ipython",
    "version": 3
   },
   "file_extension": ".py",
   "mimetype": "text/x-python",
   "name": "python",
   "nbconvert_exporter": "python",
   "pygments_lexer": "ipython3",
   "version": "3.6.4"
  },
  "toc": {
   "base_numbering": 1,
   "nav_menu": {},
   "number_sections": true,
   "sideBar": true,
   "skip_h1_title": false,
   "title_cell": "Table of Contents",
   "title_sidebar": "Contents",
   "toc_cell": false,
   "toc_position": {},
   "toc_section_display": true,
   "toc_window_display": false
  }
 },
 "nbformat": 4,
 "nbformat_minor": 2
}
