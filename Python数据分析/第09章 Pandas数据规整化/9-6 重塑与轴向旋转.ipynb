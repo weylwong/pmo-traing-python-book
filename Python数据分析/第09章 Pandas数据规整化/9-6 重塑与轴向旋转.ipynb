{
 "cells": [
  {
   "cell_type": "markdown",
   "metadata": {
    "slideshow": {
     "slide_type": "slide"
    }
   },
   "source": [
    "# 重塑与轴向旋转\n",
    "\n",
    "重新排列表格式数据的操作称为重塑（reshape），也称为轴向旋转(pivot)或透视。在 Pandas 中，重塑与轴向旋转的操作函数有：\n",
    "- `stack()`：将数据的列“旋转”为行；\n",
    "- `unstack()`：将数据的行“旋转”为列；\n",
    "- `pivot()`: 透视操作\n",
    "\n",
    "本节介绍这几个重塑操作函数的使用。"
   ]
  },
  {
   "cell_type": "code",
   "execution_count": 1,
   "metadata": {
    "slideshow": {
     "slide_type": "-"
    }
   },
   "outputs": [],
   "source": [
    "import numpy as np\n",
    "import pandas as pd\n",
    "import matplotlib.pyplot as plt\n",
    "%matplotlib inline\n",
    "from IPython.core.interactiveshell import InteractiveShell\n",
    "InteractiveShell.ast_node_interactivity='all'"
   ]
  },
  {
   "cell_type": "markdown",
   "metadata": {},
   "source": [
    "## 使用多层索引进行重塑\n",
    "\n",
    "`df.stack()`函数会将列“旋转”为行，产生一个新对象，其使用语法为：\n",
    "```python\n",
    "df.stack(level=-1, dropna=True)\n",
    "```\n",
    "主要参数\n",
    "- `level=-1`，指定旋转的索引层级，可为整数、字符串或列表。缺省为最里层行标签。\n",
    "- `dropna=True`，删除有缺失值的行。"
   ]
  },
  {
   "cell_type": "markdown",
   "metadata": {},
   "source": [
    "例如下面创建的`DataFrame`对象是多家门店的不同餐时的收入："
   ]
  },
  {
   "cell_type": "code",
   "execution_count": 2,
   "metadata": {},
   "outputs": [
    {
     "data": {
      "text/html": [
       "<div>\n",
       "<style scoped>\n",
       "    .dataframe tbody tr th:only-of-type {\n",
       "        vertical-align: middle;\n",
       "    }\n",
       "\n",
       "    .dataframe tbody tr th {\n",
       "        vertical-align: top;\n",
       "    }\n",
       "\n",
       "    .dataframe thead th {\n",
       "        text-align: right;\n",
       "    }\n",
       "</style>\n",
       "<table border=\"1\" class=\"dataframe\">\n",
       "  <thead>\n",
       "    <tr style=\"text-align: right;\">\n",
       "      <th>餐时</th>\n",
       "      <th>早点</th>\n",
       "      <th>午餐</th>\n",
       "      <th>夜市</th>\n",
       "    </tr>\n",
       "    <tr>\n",
       "      <th>门店</th>\n",
       "      <th></th>\n",
       "      <th></th>\n",
       "      <th></th>\n",
       "    </tr>\n",
       "  </thead>\n",
       "  <tbody>\n",
       "    <tr>\n",
       "      <th>Xuhui</th>\n",
       "      <td>872.0</td>\n",
       "      <td>2489.5</td>\n",
       "      <td>27028.9</td>\n",
       "    </tr>\n",
       "    <tr>\n",
       "      <th>Sheshan</th>\n",
       "      <td>160.0</td>\n",
       "      <td>3029.4</td>\n",
       "      <td>15293.0</td>\n",
       "    </tr>\n",
       "    <tr>\n",
       "      <th>Jingan</th>\n",
       "      <td>302.0</td>\n",
       "      <td>5649.2</td>\n",
       "      <td>20392.0</td>\n",
       "    </tr>\n",
       "  </tbody>\n",
       "</table>\n",
       "</div>"
      ],
      "text/plain": [
       "餐时          早点      午餐       夜市\n",
       "门店                             \n",
       "Xuhui    872.0  2489.5  27028.9\n",
       "Sheshan  160.0  3029.4  15293.0\n",
       "Jingan   302.0  5649.2  20392.0"
      ]
     },
     "execution_count": 2,
     "metadata": {},
     "output_type": "execute_result"
    }
   ],
   "source": [
    "df = pd.DataFrame([[872.0, 2489.5, 27028.9], [160.0, 3029.4, 15293.0], [302.0, 5649.2, 20392.0]],\n",
    "                  index=pd.Index(['Xuhui', 'Sheshan', 'Jingan'], name='门店'),\n",
    "                  columns = pd.Index(['早点', '午餐', '夜市'], name='餐时'))\n",
    "df"
   ]
  },
  {
   "cell_type": "markdown",
   "metadata": {},
   "source": [
    "使用`stack()`方法会将列旋转到行，产生一个`Series`对象："
   ]
  },
  {
   "cell_type": "code",
   "execution_count": 3,
   "metadata": {},
   "outputs": [
    {
     "data": {
      "text/plain": [
       "门店       餐时\n",
       "Xuhui    早点      872.0\n",
       "         午餐     2489.5\n",
       "         夜市    27028.9\n",
       "Sheshan  早点      160.0\n",
       "         午餐     3029.4\n",
       "         夜市    15293.0\n",
       "Jingan   早点      302.0\n",
       "         午餐     5649.2\n",
       "         夜市    20392.0\n",
       "dtype: float64"
      ]
     },
     "execution_count": 3,
     "metadata": {},
     "output_type": "execute_result"
    }
   ],
   "source": [
    "result = df.stack()\n",
    "result"
   ]
  },
  {
   "cell_type": "markdown",
   "metadata": {},
   "source": [
    "反之，使用`unstack()`方法，可以将数据的行旋转为列，其使用语法为：\n",
    "```python\n",
    "s.unstack(level=-1, fill_value=None)\n",
    "```\n",
    "主要参数\n",
    "- `level=-1`，指定旋转的索引层级。\n",
    "- `fill_value=None`，填充缺失值。"
   ]
  },
  {
   "cell_type": "markdown",
   "metadata": {},
   "source": [
    "例如，上面的结果运行`unstack()`，会得到新的`DataFrame`对象："
   ]
  },
  {
   "cell_type": "code",
   "execution_count": 4,
   "metadata": {},
   "outputs": [
    {
     "data": {
      "text/html": [
       "<div>\n",
       "<style scoped>\n",
       "    .dataframe tbody tr th:only-of-type {\n",
       "        vertical-align: middle;\n",
       "    }\n",
       "\n",
       "    .dataframe tbody tr th {\n",
       "        vertical-align: top;\n",
       "    }\n",
       "\n",
       "    .dataframe thead th {\n",
       "        text-align: right;\n",
       "    }\n",
       "</style>\n",
       "<table border=\"1\" class=\"dataframe\">\n",
       "  <thead>\n",
       "    <tr style=\"text-align: right;\">\n",
       "      <th>餐时</th>\n",
       "      <th>早点</th>\n",
       "      <th>午餐</th>\n",
       "      <th>夜市</th>\n",
       "    </tr>\n",
       "    <tr>\n",
       "      <th>门店</th>\n",
       "      <th></th>\n",
       "      <th></th>\n",
       "      <th></th>\n",
       "    </tr>\n",
       "  </thead>\n",
       "  <tbody>\n",
       "    <tr>\n",
       "      <th>Xuhui</th>\n",
       "      <td>872.0</td>\n",
       "      <td>2489.5</td>\n",
       "      <td>27028.9</td>\n",
       "    </tr>\n",
       "    <tr>\n",
       "      <th>Sheshan</th>\n",
       "      <td>160.0</td>\n",
       "      <td>3029.4</td>\n",
       "      <td>15293.0</td>\n",
       "    </tr>\n",
       "    <tr>\n",
       "      <th>Jingan</th>\n",
       "      <td>302.0</td>\n",
       "      <td>5649.2</td>\n",
       "      <td>20392.0</td>\n",
       "    </tr>\n",
       "  </tbody>\n",
       "</table>\n",
       "</div>"
      ],
      "text/plain": [
       "餐时          早点      午餐       夜市\n",
       "门店                             \n",
       "Xuhui    872.0  2489.5  27028.9\n",
       "Sheshan  160.0  3029.4  15293.0\n",
       "Jingan   302.0  5649.2  20392.0"
      ]
     },
     "execution_count": 4,
     "metadata": {},
     "output_type": "execute_result"
    }
   ],
   "source": [
    "result.unstack()"
   ]
  },
  {
   "cell_type": "markdown",
   "metadata": {},
   "source": [
    "缺省是把索引最里层进行旋转，可以指定使用标签索引“门店”："
   ]
  },
  {
   "cell_type": "code",
   "execution_count": 5,
   "metadata": {},
   "outputs": [
    {
     "data": {
      "text/html": [
       "<div>\n",
       "<style scoped>\n",
       "    .dataframe tbody tr th:only-of-type {\n",
       "        vertical-align: middle;\n",
       "    }\n",
       "\n",
       "    .dataframe tbody tr th {\n",
       "        vertical-align: top;\n",
       "    }\n",
       "\n",
       "    .dataframe thead th {\n",
       "        text-align: right;\n",
       "    }\n",
       "</style>\n",
       "<table border=\"1\" class=\"dataframe\">\n",
       "  <thead>\n",
       "    <tr style=\"text-align: right;\">\n",
       "      <th>门店</th>\n",
       "      <th>Xuhui</th>\n",
       "      <th>Sheshan</th>\n",
       "      <th>Jingan</th>\n",
       "    </tr>\n",
       "    <tr>\n",
       "      <th>餐时</th>\n",
       "      <th></th>\n",
       "      <th></th>\n",
       "      <th></th>\n",
       "    </tr>\n",
       "  </thead>\n",
       "  <tbody>\n",
       "    <tr>\n",
       "      <th>早点</th>\n",
       "      <td>872.0</td>\n",
       "      <td>160.0</td>\n",
       "      <td>302.0</td>\n",
       "    </tr>\n",
       "    <tr>\n",
       "      <th>午餐</th>\n",
       "      <td>2489.5</td>\n",
       "      <td>3029.4</td>\n",
       "      <td>5649.2</td>\n",
       "    </tr>\n",
       "    <tr>\n",
       "      <th>夜市</th>\n",
       "      <td>27028.9</td>\n",
       "      <td>15293.0</td>\n",
       "      <td>20392.0</td>\n",
       "    </tr>\n",
       "  </tbody>\n",
       "</table>\n",
       "</div>"
      ],
      "text/plain": [
       "门店    Xuhui  Sheshan   Jingan\n",
       "餐时                           \n",
       "早点    872.0    160.0    302.0\n",
       "午餐   2489.5   3029.4   5649.2\n",
       "夜市  27028.9  15293.0  20392.0"
      ]
     },
     "execution_count": 5,
     "metadata": {},
     "output_type": "execute_result"
    }
   ],
   "source": [
    "# 指定标签（字符串或整数）\n",
    "result.unstack('门店')"
   ]
  },
  {
   "cell_type": "markdown",
   "metadata": {},
   "source": [
    "在使用`stack()`把列旋转为行时，如果行中有缺失值，会删除掉改行："
   ]
  },
  {
   "cell_type": "code",
   "execution_count": 6,
   "metadata": {},
   "outputs": [
    {
     "data": {
      "text/html": [
       "<div>\n",
       "<style scoped>\n",
       "    .dataframe tbody tr th:only-of-type {\n",
       "        vertical-align: middle;\n",
       "    }\n",
       "\n",
       "    .dataframe tbody tr th {\n",
       "        vertical-align: top;\n",
       "    }\n",
       "\n",
       "    .dataframe thead th {\n",
       "        text-align: right;\n",
       "    }\n",
       "</style>\n",
       "<table border=\"1\" class=\"dataframe\">\n",
       "  <thead>\n",
       "    <tr style=\"text-align: right;\">\n",
       "      <th>餐时</th>\n",
       "      <th>早点</th>\n",
       "      <th>午餐</th>\n",
       "      <th>夜市</th>\n",
       "    </tr>\n",
       "    <tr>\n",
       "      <th>门店</th>\n",
       "      <th></th>\n",
       "      <th></th>\n",
       "      <th></th>\n",
       "    </tr>\n",
       "  </thead>\n",
       "  <tbody>\n",
       "    <tr>\n",
       "      <th>Xuhui</th>\n",
       "      <td>872.0</td>\n",
       "      <td>2489.5</td>\n",
       "      <td>27028.9</td>\n",
       "    </tr>\n",
       "    <tr>\n",
       "      <th>Sheshan</th>\n",
       "      <td>NaN</td>\n",
       "      <td>3029.4</td>\n",
       "      <td>15293.0</td>\n",
       "    </tr>\n",
       "    <tr>\n",
       "      <th>Jingan</th>\n",
       "      <td>302.0</td>\n",
       "      <td>5649.2</td>\n",
       "      <td>20392.0</td>\n",
       "    </tr>\n",
       "  </tbody>\n",
       "</table>\n",
       "</div>"
      ],
      "text/plain": [
       "餐时          早点      午餐       夜市\n",
       "门店                             \n",
       "Xuhui    872.0  2489.5  27028.9\n",
       "Sheshan    NaN  3029.4  15293.0\n",
       "Jingan   302.0  5649.2  20392.0"
      ]
     },
     "execution_count": 6,
     "metadata": {},
     "output_type": "execute_result"
    }
   ],
   "source": [
    "df2 = pd.DataFrame([[872.0, 2489.5, 27028.9], [np.NAN, 3029.4, 15293.0], [302.0, 5649.2, 20392.0]],\n",
    "                   index=pd.Index(['Xuhui', 'Sheshan', 'Jingan'], name='门店'),\n",
    "                   columns = pd.Index(['早点', '午餐', '夜市'], name='餐时'))\n",
    "df2"
   ]
  },
  {
   "cell_type": "code",
   "execution_count": 7,
   "metadata": {},
   "outputs": [
    {
     "data": {
      "text/plain": [
       "门店       餐时\n",
       "Xuhui    早点      872.0\n",
       "         午餐     2489.5\n",
       "         夜市    27028.9\n",
       "Sheshan  午餐     3029.4\n",
       "         夜市    15293.0\n",
       "Jingan   早点      302.0\n",
       "         午餐     5649.2\n",
       "         夜市    20392.0\n",
       "dtype: float64"
      ]
     },
     "execution_count": 7,
     "metadata": {},
     "output_type": "execute_result"
    }
   ],
   "source": [
    "result2 = df2.stack()\n",
    "result2"
   ]
  },
  {
   "cell_type": "markdown",
   "metadata": {},
   "source": [
    "通过传入`dropna=False`可以避免此种情况。同样在使用`unstack()`把行旋转为列时，㘝层级中所有值不齐全时，拆分可能会引入缺失值，使用`fill_value`参数可以指定值来填充缺失值。例如下面结果:"
   ]
  },
  {
   "cell_type": "code",
   "execution_count": 8,
   "metadata": {},
   "outputs": [
    {
     "data": {
      "text/html": [
       "<div>\n",
       "<style scoped>\n",
       "    .dataframe tbody tr th:only-of-type {\n",
       "        vertical-align: middle;\n",
       "    }\n",
       "\n",
       "    .dataframe tbody tr th {\n",
       "        vertical-align: top;\n",
       "    }\n",
       "\n",
       "    .dataframe thead th {\n",
       "        text-align: right;\n",
       "    }\n",
       "</style>\n",
       "<table border=\"1\" class=\"dataframe\">\n",
       "  <thead>\n",
       "    <tr style=\"text-align: right;\">\n",
       "      <th>餐时</th>\n",
       "      <th>早点</th>\n",
       "      <th>午餐</th>\n",
       "      <th>夜市</th>\n",
       "    </tr>\n",
       "    <tr>\n",
       "      <th>门店</th>\n",
       "      <th></th>\n",
       "      <th></th>\n",
       "      <th></th>\n",
       "    </tr>\n",
       "  </thead>\n",
       "  <tbody>\n",
       "    <tr>\n",
       "      <th>Xuhui</th>\n",
       "      <td>872.0</td>\n",
       "      <td>2489.5</td>\n",
       "      <td>27028.9</td>\n",
       "    </tr>\n",
       "    <tr>\n",
       "      <th>Sheshan</th>\n",
       "      <td>NaN</td>\n",
       "      <td>3029.4</td>\n",
       "      <td>15293.0</td>\n",
       "    </tr>\n",
       "    <tr>\n",
       "      <th>Jingan</th>\n",
       "      <td>302.0</td>\n",
       "      <td>5649.2</td>\n",
       "      <td>20392.0</td>\n",
       "    </tr>\n",
       "  </tbody>\n",
       "</table>\n",
       "</div>"
      ],
      "text/plain": [
       "餐时          早点      午餐       夜市\n",
       "门店                             \n",
       "Xuhui    872.0  2489.5  27028.9\n",
       "Sheshan    NaN  3029.4  15293.0\n",
       "Jingan   302.0  5649.2  20392.0"
      ]
     },
     "execution_count": 8,
     "metadata": {},
     "output_type": "execute_result"
    }
   ],
   "source": [
    "result2.unstack()\n",
    "# 指定值填充\n",
    "# result2.unstack(fill_value=0)"
   ]
  },
  {
   "cell_type": "markdown",
   "metadata": {},
   "source": [
    "## “长”格式与“宽”格式的转换\n",
    "\n",
    "收集数据时会在不同地点与时间进行观测采集，表中的每一行表示某个地点与某个时间的单个观测值。这种具有两个或多个键的观测数据常称为长格式数据。在数据库中，不断地采集数据，数据集也会不断增长。使用`pivot()`可以把长格式转换为宽格式数据，其使用语法为：\n",
    "```python\n",
    "df.pivot(index=None, columns=None, values=None)\n",
    "```\n",
    "主要参数\n",
    "- `index=None`，字符串或对象，指定新对象行索引。缺省使用原对象索引。\n",
    "- `columns=None`，字符串或对象，指定新对象列索引。缺省使用原对象索引。\n",
    "- `valuesNone`，字符串，对象或列表，指定新对象数据。缺省使用原对象剩余列。"
   ]
  },
  {
   "cell_type": "markdown",
   "metadata": {},
   "source": [
    "例如，下面创建一个`DataFrame`对象，表示不同门店，不同用餐时段的顾客人数与流水数。"
   ]
  },
  {
   "cell_type": "code",
   "execution_count": 9,
   "metadata": {},
   "outputs": [
    {
     "data": {
      "text/html": [
       "<div>\n",
       "<style scoped>\n",
       "    .dataframe tbody tr th:only-of-type {\n",
       "        vertical-align: middle;\n",
       "    }\n",
       "\n",
       "    .dataframe tbody tr th {\n",
       "        vertical-align: top;\n",
       "    }\n",
       "\n",
       "    .dataframe thead th {\n",
       "        text-align: right;\n",
       "    }\n",
       "</style>\n",
       "<table border=\"1\" class=\"dataframe\">\n",
       "  <thead>\n",
       "    <tr style=\"text-align: right;\">\n",
       "      <th></th>\n",
       "      <th>门店</th>\n",
       "      <th>餐时</th>\n",
       "      <th>顾客</th>\n",
       "      <th>流水</th>\n",
       "    </tr>\n",
       "  </thead>\n",
       "  <tbody>\n",
       "    <tr>\n",
       "      <th>0</th>\n",
       "      <td>Xuhui</td>\n",
       "      <td>早点</td>\n",
       "      <td>100</td>\n",
       "      <td>872.0</td>\n",
       "    </tr>\n",
       "    <tr>\n",
       "      <th>1</th>\n",
       "      <td>Xuhui</td>\n",
       "      <td>午餐</td>\n",
       "      <td>120</td>\n",
       "      <td>2489.5</td>\n",
       "    </tr>\n",
       "    <tr>\n",
       "      <th>2</th>\n",
       "      <td>Xuhui</td>\n",
       "      <td>夜市</td>\n",
       "      <td>300</td>\n",
       "      <td>27028.9</td>\n",
       "    </tr>\n",
       "    <tr>\n",
       "      <th>3</th>\n",
       "      <td>Sheshan</td>\n",
       "      <td>早点</td>\n",
       "      <td>30</td>\n",
       "      <td>160.0</td>\n",
       "    </tr>\n",
       "    <tr>\n",
       "      <th>4</th>\n",
       "      <td>Sheshan</td>\n",
       "      <td>午餐</td>\n",
       "      <td>200</td>\n",
       "      <td>3029.4</td>\n",
       "    </tr>\n",
       "    <tr>\n",
       "      <th>5</th>\n",
       "      <td>Sheshan</td>\n",
       "      <td>夜市</td>\n",
       "      <td>300</td>\n",
       "      <td>15293.0</td>\n",
       "    </tr>\n",
       "    <tr>\n",
       "      <th>6</th>\n",
       "      <td>Jingan</td>\n",
       "      <td>早点</td>\n",
       "      <td>40</td>\n",
       "      <td>302.0</td>\n",
       "    </tr>\n",
       "    <tr>\n",
       "      <th>7</th>\n",
       "      <td>Jingan</td>\n",
       "      <td>午餐</td>\n",
       "      <td>250</td>\n",
       "      <td>5649.2</td>\n",
       "    </tr>\n",
       "    <tr>\n",
       "      <th>8</th>\n",
       "      <td>Jingan</td>\n",
       "      <td>夜市</td>\n",
       "      <td>200</td>\n",
       "      <td>20392.0</td>\n",
       "    </tr>\n",
       "  </tbody>\n",
       "</table>\n",
       "</div>"
      ],
      "text/plain": [
       "        门店  餐时   顾客       流水\n",
       "0    Xuhui  早点  100    872.0\n",
       "1    Xuhui  午餐  120   2489.5\n",
       "2    Xuhui  夜市  300  27028.9\n",
       "3  Sheshan  早点   30    160.0\n",
       "4  Sheshan  午餐  200   3029.4\n",
       "5  Sheshan  夜市  300  15293.0\n",
       "6   Jingan  早点   40    302.0\n",
       "7   Jingan  午餐  250   5649.2\n",
       "8   Jingan  夜市  200  20392.0"
      ]
     },
     "execution_count": 9,
     "metadata": {},
     "output_type": "execute_result"
    }
   ],
   "source": [
    "df = pd.DataFrame({'门店': ['Xuhui', 'Xuhui', 'Xuhui', 'Sheshan', 'Sheshan', 'Sheshan', 'Jingan', 'Jingan', 'Jingan'],\n",
    "                   '餐时': ['早点', '午餐', '夜市','早点', '午餐', '夜市', '早点', '午餐', '夜市'],            \n",
    "                   '顾客': [100, 120, 300, 30, 200, 300, 40, 250, 200],\n",
    "                   '流水': [872.0, 2489.5, 27028.9, 160.0, 3029.4, 15293.0, 302.0, 5649.2, 20392.0]})\n",
    "df"
   ]
  },
  {
   "cell_type": "markdown",
   "metadata": {},
   "source": [
    "使用`pivot()`方法，指定列“门店”为新对象行索引，列“餐时”为列索引，其它剩余列为新对象数据，最后转换宽格式数据为："
   ]
  },
  {
   "cell_type": "code",
   "execution_count": 10,
   "metadata": {},
   "outputs": [
    {
     "data": {
      "text/html": [
       "<div>\n",
       "<style scoped>\n",
       "    .dataframe tbody tr th:only-of-type {\n",
       "        vertical-align: middle;\n",
       "    }\n",
       "\n",
       "    .dataframe tbody tr th {\n",
       "        vertical-align: top;\n",
       "    }\n",
       "\n",
       "    .dataframe thead tr th {\n",
       "        text-align: left;\n",
       "    }\n",
       "\n",
       "    .dataframe thead tr:last-of-type th {\n",
       "        text-align: right;\n",
       "    }\n",
       "</style>\n",
       "<table border=\"1\" class=\"dataframe\">\n",
       "  <thead>\n",
       "    <tr>\n",
       "      <th></th>\n",
       "      <th colspan=\"3\" halign=\"left\">顾客</th>\n",
       "      <th colspan=\"3\" halign=\"left\">流水</th>\n",
       "    </tr>\n",
       "    <tr>\n",
       "      <th>餐时</th>\n",
       "      <th>午餐</th>\n",
       "      <th>夜市</th>\n",
       "      <th>早点</th>\n",
       "      <th>午餐</th>\n",
       "      <th>夜市</th>\n",
       "      <th>早点</th>\n",
       "    </tr>\n",
       "    <tr>\n",
       "      <th>门店</th>\n",
       "      <th></th>\n",
       "      <th></th>\n",
       "      <th></th>\n",
       "      <th></th>\n",
       "      <th></th>\n",
       "      <th></th>\n",
       "    </tr>\n",
       "  </thead>\n",
       "  <tbody>\n",
       "    <tr>\n",
       "      <th>Jingan</th>\n",
       "      <td>250</td>\n",
       "      <td>200</td>\n",
       "      <td>40</td>\n",
       "      <td>5649.2</td>\n",
       "      <td>20392.0</td>\n",
       "      <td>302.0</td>\n",
       "    </tr>\n",
       "    <tr>\n",
       "      <th>Sheshan</th>\n",
       "      <td>200</td>\n",
       "      <td>300</td>\n",
       "      <td>30</td>\n",
       "      <td>3029.4</td>\n",
       "      <td>15293.0</td>\n",
       "      <td>160.0</td>\n",
       "    </tr>\n",
       "    <tr>\n",
       "      <th>Xuhui</th>\n",
       "      <td>120</td>\n",
       "      <td>300</td>\n",
       "      <td>100</td>\n",
       "      <td>2489.5</td>\n",
       "      <td>27028.9</td>\n",
       "      <td>872.0</td>\n",
       "    </tr>\n",
       "  </tbody>\n",
       "</table>\n",
       "</div>"
      ],
      "text/plain": [
       "          顾客                流水                \n",
       "餐时        午餐   夜市   早点      午餐       夜市     早点\n",
       "门店                                            \n",
       "Jingan   250  200   40  5649.2  20392.0  302.0\n",
       "Sheshan  200  300   30  3029.4  15293.0  160.0\n",
       "Xuhui    120  300  100  2489.5  27028.9  872.0"
      ]
     },
     "execution_count": 10,
     "metadata": {},
     "output_type": "execute_result"
    }
   ],
   "source": [
    "df.pivot('门店', '餐时')"
   ]
  },
  {
   "cell_type": "markdown",
   "metadata": {},
   "source": [
    "生成的宽格式数据的列索引为层级索引。也可以显式地指定新对象的数据列："
   ]
  },
  {
   "cell_type": "code",
   "execution_count": 11,
   "metadata": {},
   "outputs": [
    {
     "data": {
      "text/html": [
       "<div>\n",
       "<style scoped>\n",
       "    .dataframe tbody tr th:only-of-type {\n",
       "        vertical-align: middle;\n",
       "    }\n",
       "\n",
       "    .dataframe tbody tr th {\n",
       "        vertical-align: top;\n",
       "    }\n",
       "\n",
       "    .dataframe thead th {\n",
       "        text-align: right;\n",
       "    }\n",
       "</style>\n",
       "<table border=\"1\" class=\"dataframe\">\n",
       "  <thead>\n",
       "    <tr style=\"text-align: right;\">\n",
       "      <th>餐时</th>\n",
       "      <th>午餐</th>\n",
       "      <th>夜市</th>\n",
       "      <th>早点</th>\n",
       "    </tr>\n",
       "    <tr>\n",
       "      <th>门店</th>\n",
       "      <th></th>\n",
       "      <th></th>\n",
       "      <th></th>\n",
       "    </tr>\n",
       "  </thead>\n",
       "  <tbody>\n",
       "    <tr>\n",
       "      <th>Jingan</th>\n",
       "      <td>250</td>\n",
       "      <td>200</td>\n",
       "      <td>40</td>\n",
       "    </tr>\n",
       "    <tr>\n",
       "      <th>Sheshan</th>\n",
       "      <td>200</td>\n",
       "      <td>300</td>\n",
       "      <td>30</td>\n",
       "    </tr>\n",
       "    <tr>\n",
       "      <th>Xuhui</th>\n",
       "      <td>120</td>\n",
       "      <td>300</td>\n",
       "      <td>100</td>\n",
       "    </tr>\n",
       "  </tbody>\n",
       "</table>\n",
       "</div>"
      ],
      "text/plain": [
       "餐时        午餐   夜市   早点\n",
       "门店                    \n",
       "Jingan   250  200   40\n",
       "Sheshan  200  300   30\n",
       "Xuhui    120  300  100"
      ]
     },
     "execution_count": 11,
     "metadata": {},
     "output_type": "execute_result"
    }
   ],
   "source": [
    "df.pivot(index='门店',columns= '餐时', values='顾客')"
   ]
  },
  {
   "cell_type": "markdown",
   "metadata": {},
   "source": [
    "Pandas 提供函数`pd.melt()`来把宽格式透视为长格式，即将多列合并成一列，生成新的`DataFrame`对象，其使用语法为：\n",
    "```python\n",
    "df.melt(id_vars=None, value_vars=None, var_name=None, value_name='value', col_level=None)\n",
    "```\n",
    "主要参数\n",
    "- `id_vars`，元组、列表或类数组对象。指定分组列。\n",
    "- `value_vars`，元组、列表或类数组对象。指定数据列。"
   ]
  },
  {
   "cell_type": "markdown",
   "metadata": {},
   "source": [
    "例如下面创建一个宽格式数据："
   ]
  },
  {
   "cell_type": "code",
   "execution_count": 12,
   "metadata": {},
   "outputs": [
    {
     "data": {
      "text/html": [
       "<div>\n",
       "<style scoped>\n",
       "    .dataframe tbody tr th:only-of-type {\n",
       "        vertical-align: middle;\n",
       "    }\n",
       "\n",
       "    .dataframe tbody tr th {\n",
       "        vertical-align: top;\n",
       "    }\n",
       "\n",
       "    .dataframe thead th {\n",
       "        text-align: right;\n",
       "    }\n",
       "</style>\n",
       "<table border=\"1\" class=\"dataframe\">\n",
       "  <thead>\n",
       "    <tr style=\"text-align: right;\">\n",
       "      <th>餐时</th>\n",
       "      <th>门店</th>\n",
       "      <th>午餐</th>\n",
       "      <th>夜市</th>\n",
       "      <th>早点</th>\n",
       "    </tr>\n",
       "  </thead>\n",
       "  <tbody>\n",
       "    <tr>\n",
       "      <th>0</th>\n",
       "      <td>Jingan</td>\n",
       "      <td>5649.2</td>\n",
       "      <td>20392.0</td>\n",
       "      <td>302.0</td>\n",
       "    </tr>\n",
       "    <tr>\n",
       "      <th>1</th>\n",
       "      <td>Sheshan</td>\n",
       "      <td>3029.4</td>\n",
       "      <td>15293.0</td>\n",
       "      <td>160.0</td>\n",
       "    </tr>\n",
       "    <tr>\n",
       "      <th>2</th>\n",
       "      <td>Xuhui</td>\n",
       "      <td>2489.5</td>\n",
       "      <td>27028.9</td>\n",
       "      <td>872.0</td>\n",
       "    </tr>\n",
       "  </tbody>\n",
       "</table>\n",
       "</div>"
      ],
      "text/plain": [
       "餐时       门店      午餐       夜市     早点\n",
       "0    Jingan  5649.2  20392.0  302.0\n",
       "1   Sheshan  3029.4  15293.0  160.0\n",
       "2     Xuhui  2489.5  27028.9  872.0"
      ]
     },
     "execution_count": 12,
     "metadata": {},
     "output_type": "execute_result"
    }
   ],
   "source": [
    "data = pd.DataFrame({'门店': ['Xuhui', 'Xuhui', 'Xuhui', 'Sheshan', 'Sheshan', 'Sheshan', 'Jingan', 'Jingan', 'Jingan'],\n",
    "                     '餐时': ['早点', '午餐', '夜市','早点', '午餐', '夜市', '早点', '午餐', '夜市'],            \n",
    "                     '流水': [872.0, 2489.5, 27028.9, 160.0, 3029.4, 15293.0, 302.0, 5649.2, 20392.0]})\n",
    "df = data.pivot(index='门店',columns= '餐时', values='流水').reset_index()\n",
    "df"
   ]
  },
  {
   "cell_type": "markdown",
   "metadata": {},
   "source": [
    "使用`melt()`方法转换为长格式数据，例如指定分组列为“门店”，指定数据列为“早点，午餐”："
   ]
  },
  {
   "cell_type": "code",
   "execution_count": 13,
   "metadata": {},
   "outputs": [
    {
     "data": {
      "text/html": [
       "<div>\n",
       "<style scoped>\n",
       "    .dataframe tbody tr th:only-of-type {\n",
       "        vertical-align: middle;\n",
       "    }\n",
       "\n",
       "    .dataframe tbody tr th {\n",
       "        vertical-align: top;\n",
       "    }\n",
       "\n",
       "    .dataframe thead th {\n",
       "        text-align: right;\n",
       "    }\n",
       "</style>\n",
       "<table border=\"1\" class=\"dataframe\">\n",
       "  <thead>\n",
       "    <tr style=\"text-align: right;\">\n",
       "      <th></th>\n",
       "      <th>门店</th>\n",
       "      <th>餐时</th>\n",
       "      <th>value</th>\n",
       "    </tr>\n",
       "  </thead>\n",
       "  <tbody>\n",
       "    <tr>\n",
       "      <th>0</th>\n",
       "      <td>Jingan</td>\n",
       "      <td>早点</td>\n",
       "      <td>302.0</td>\n",
       "    </tr>\n",
       "    <tr>\n",
       "      <th>1</th>\n",
       "      <td>Sheshan</td>\n",
       "      <td>早点</td>\n",
       "      <td>160.0</td>\n",
       "    </tr>\n",
       "    <tr>\n",
       "      <th>2</th>\n",
       "      <td>Xuhui</td>\n",
       "      <td>早点</td>\n",
       "      <td>872.0</td>\n",
       "    </tr>\n",
       "    <tr>\n",
       "      <th>3</th>\n",
       "      <td>Jingan</td>\n",
       "      <td>午餐</td>\n",
       "      <td>5649.2</td>\n",
       "    </tr>\n",
       "    <tr>\n",
       "      <th>4</th>\n",
       "      <td>Sheshan</td>\n",
       "      <td>午餐</td>\n",
       "      <td>3029.4</td>\n",
       "    </tr>\n",
       "    <tr>\n",
       "      <th>5</th>\n",
       "      <td>Xuhui</td>\n",
       "      <td>午餐</td>\n",
       "      <td>2489.5</td>\n",
       "    </tr>\n",
       "  </tbody>\n",
       "</table>\n",
       "</div>"
      ],
      "text/plain": [
       "        门店  餐时   value\n",
       "0   Jingan  早点   302.0\n",
       "1  Sheshan  早点   160.0\n",
       "2    Xuhui  早点   872.0\n",
       "3   Jingan  午餐  5649.2\n",
       "4  Sheshan  午餐  3029.4\n",
       "5    Xuhui  午餐  2489.5"
      ]
     },
     "execution_count": 13,
     "metadata": {},
     "output_type": "execute_result"
    }
   ],
   "source": [
    "df.melt(id_vars=['门店'], value_vars=['早点', '午餐'])"
   ]
  },
  {
   "cell_type": "markdown",
   "metadata": {},
   "source": [
    "如果不指定数据列，会使用剩余数据列："
   ]
  },
  {
   "cell_type": "code",
   "execution_count": 14,
   "metadata": {},
   "outputs": [
    {
     "data": {
      "text/html": [
       "<div>\n",
       "<style scoped>\n",
       "    .dataframe tbody tr th:only-of-type {\n",
       "        vertical-align: middle;\n",
       "    }\n",
       "\n",
       "    .dataframe tbody tr th {\n",
       "        vertical-align: top;\n",
       "    }\n",
       "\n",
       "    .dataframe thead th {\n",
       "        text-align: right;\n",
       "    }\n",
       "</style>\n",
       "<table border=\"1\" class=\"dataframe\">\n",
       "  <thead>\n",
       "    <tr style=\"text-align: right;\">\n",
       "      <th></th>\n",
       "      <th>门店</th>\n",
       "      <th>餐时</th>\n",
       "      <th>value</th>\n",
       "    </tr>\n",
       "  </thead>\n",
       "  <tbody>\n",
       "    <tr>\n",
       "      <th>0</th>\n",
       "      <td>Jingan</td>\n",
       "      <td>午餐</td>\n",
       "      <td>5649.2</td>\n",
       "    </tr>\n",
       "    <tr>\n",
       "      <th>1</th>\n",
       "      <td>Sheshan</td>\n",
       "      <td>午餐</td>\n",
       "      <td>3029.4</td>\n",
       "    </tr>\n",
       "    <tr>\n",
       "      <th>2</th>\n",
       "      <td>Xuhui</td>\n",
       "      <td>午餐</td>\n",
       "      <td>2489.5</td>\n",
       "    </tr>\n",
       "    <tr>\n",
       "      <th>3</th>\n",
       "      <td>Jingan</td>\n",
       "      <td>夜市</td>\n",
       "      <td>20392.0</td>\n",
       "    </tr>\n",
       "    <tr>\n",
       "      <th>4</th>\n",
       "      <td>Sheshan</td>\n",
       "      <td>夜市</td>\n",
       "      <td>15293.0</td>\n",
       "    </tr>\n",
       "    <tr>\n",
       "      <th>5</th>\n",
       "      <td>Xuhui</td>\n",
       "      <td>夜市</td>\n",
       "      <td>27028.9</td>\n",
       "    </tr>\n",
       "    <tr>\n",
       "      <th>6</th>\n",
       "      <td>Jingan</td>\n",
       "      <td>早点</td>\n",
       "      <td>302.0</td>\n",
       "    </tr>\n",
       "    <tr>\n",
       "      <th>7</th>\n",
       "      <td>Sheshan</td>\n",
       "      <td>早点</td>\n",
       "      <td>160.0</td>\n",
       "    </tr>\n",
       "    <tr>\n",
       "      <th>8</th>\n",
       "      <td>Xuhui</td>\n",
       "      <td>早点</td>\n",
       "      <td>872.0</td>\n",
       "    </tr>\n",
       "  </tbody>\n",
       "</table>\n",
       "</div>"
      ],
      "text/plain": [
       "        门店  餐时    value\n",
       "0   Jingan  午餐   5649.2\n",
       "1  Sheshan  午餐   3029.4\n",
       "2    Xuhui  午餐   2489.5\n",
       "3   Jingan  夜市  20392.0\n",
       "4  Sheshan  夜市  15293.0\n",
       "5    Xuhui  夜市  27028.9\n",
       "6   Jingan  早点    302.0\n",
       "7  Sheshan  早点    160.0\n",
       "8    Xuhui  早点    872.0"
      ]
     },
     "execution_count": 14,
     "metadata": {},
     "output_type": "execute_result"
    }
   ],
   "source": [
    "df.melt(id_vars=['门店'])"
   ]
  }
 ],
 "metadata": {
  "kernelspec": {
   "display_name": "Python 3",
   "language": "python",
   "name": "python3"
  },
  "language_info": {
   "codemirror_mode": {
    "name": "ipython",
    "version": 3
   },
   "file_extension": ".py",
   "mimetype": "text/x-python",
   "name": "python",
   "nbconvert_exporter": "python",
   "pygments_lexer": "ipython3",
   "version": "3.6.4"
  },
  "toc": {
   "base_numbering": 1,
   "nav_menu": {},
   "number_sections": true,
   "sideBar": true,
   "skip_h1_title": false,
   "title_cell": "Table of Contents",
   "title_sidebar": "Contents",
   "toc_cell": false,
   "toc_position": {},
   "toc_section_display": true,
   "toc_window_display": true
  }
 },
 "nbformat": 4,
 "nbformat_minor": 2
}
