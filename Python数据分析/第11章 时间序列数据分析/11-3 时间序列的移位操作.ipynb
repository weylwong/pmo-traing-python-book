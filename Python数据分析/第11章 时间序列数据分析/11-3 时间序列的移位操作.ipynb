{
 "cells": [
  {
   "cell_type": "markdown",
   "metadata": {
    "slideshow": {
     "slide_type": "slide"
    }
   },
   "source": [
    "# 时间序列的移位操作\n",
    "\n",
    "Pandas 对象的移位方法`shift()` 可以把数据向前或向后移动，移位操作并不改变索引。对于时间序列数据，移位操作是指将日期按时间向前或向后移动。本节通过实例来介绍时间序列的移位操作。"
   ]
  },
  {
   "cell_type": "code",
   "execution_count": 1,
   "metadata": {
    "slideshow": {
     "slide_type": "-"
    }
   },
   "outputs": [],
   "source": [
    "import numpy as np\n",
    "import pandas as pd\n",
    "import matplotlib.pyplot as plt\n",
    "%matplotlib inline\n",
    "from IPython.core.interactiveshell import InteractiveShell\n",
    "InteractiveShell.ast_node_interactivity='all'"
   ]
  },
  {
   "cell_type": "markdown",
   "metadata": {},
   "source": [
    "## `shift()`的使用语法\n",
    "\n",
    "`shift()`的使用语法为：\n",
    "```pyhton\n",
    "s.shift(periods=1, freq=None, axis=0)\n",
    "df.shift(periods=1, freq=None, axis=0)\n",
    "```\n",
    "主要参数\n",
    "- `period=1`,需要移动的周期数，可以使用正或负整数，缺省为向前移动一位\n",
    "- `freq=None`，时间序列的频率\n",
    "- `axis=0`, 0表示行索引，1表示列索引\n"
   ]
  },
  {
   "cell_type": "markdown",
   "metadata": {},
   "source": [
    "例如下面创建一个序列对象，并继续向前与向后移位："
   ]
  },
  {
   "cell_type": "code",
   "execution_count": 2,
   "metadata": {},
   "outputs": [
    {
     "data": {
      "text/plain": [
       "0    0\n",
       "1    1\n",
       "2    2\n",
       "3    3\n",
       "4    4\n",
       "5    5\n",
       "dtype: int32"
      ]
     },
     "execution_count": 2,
     "metadata": {},
     "output_type": "execute_result"
    }
   ],
   "source": [
    "ser = pd.Series(np.arange(6))\n",
    "ser"
   ]
  },
  {
   "cell_type": "markdown",
   "metadata": {},
   "source": [
    "下面语句把序列向前或向后移动。注意：在进行移位时，在序列的其实位置或结束位置需要引入缺失值："
   ]
  },
  {
   "cell_type": "code",
   "execution_count": 3,
   "metadata": {},
   "outputs": [
    {
     "data": {
      "text/plain": [
       "0    NaN\n",
       "1    NaN\n",
       "2    0.0\n",
       "3    1.0\n",
       "4    2.0\n",
       "5    3.0\n",
       "dtype: float64"
      ]
     },
     "execution_count": 3,
     "metadata": {},
     "output_type": "execute_result"
    }
   ],
   "source": [
    "# 向前移动\n",
    "ser.shift(2)"
   ]
  },
  {
   "cell_type": "code",
   "execution_count": 4,
   "metadata": {},
   "outputs": [
    {
     "data": {
      "text/plain": [
       "0    2.0\n",
       "1    3.0\n",
       "2    4.0\n",
       "3    5.0\n",
       "4    NaN\n",
       "5    NaN\n",
       "dtype: float64"
      ]
     },
     "execution_count": 4,
     "metadata": {},
     "output_type": "execute_result"
    }
   ],
   "source": [
    "# 向后移动\n",
    "ser.shift(-2)"
   ]
  },
  {
   "cell_type": "markdown",
   "metadata": {},
   "source": [
    "对于时间序列数据，如果不使用`freq`参数，其结果与上面移位操作没什么区别："
   ]
  },
  {
   "cell_type": "code",
   "execution_count": 5,
   "metadata": {},
   "outputs": [
    {
     "data": {
      "text/plain": [
       "2018-01-01    0\n",
       "2018-01-02    1\n",
       "2018-01-04    2\n",
       "2018-01-05    3\n",
       "2018-01-06    4\n",
       "2018-01-08    5\n",
       "dtype: int32"
      ]
     },
     "execution_count": 5,
     "metadata": {},
     "output_type": "execute_result"
    }
   ],
   "source": [
    "dates = pd.to_datetime(['2018-01-01', '2018-01-02', '2018-01-04', '2018-01-05', '2018-01-06', '2018-01-08'])\n",
    "ser = pd.Series(np.arange(6), index=dates)\n",
    "ser"
   ]
  },
  {
   "cell_type": "code",
   "execution_count": 6,
   "metadata": {},
   "outputs": [
    {
     "data": {
      "text/plain": [
       "2018-01-01    NaN\n",
       "2018-01-02    NaN\n",
       "2018-01-04    0.0\n",
       "2018-01-05    1.0\n",
       "2018-01-06    2.0\n",
       "2018-01-08    3.0\n",
       "dtype: float64"
      ]
     },
     "execution_count": 6,
     "metadata": {},
     "output_type": "execute_result"
    }
   ],
   "source": [
    "# 向前移动\n",
    "ser.shift(2)"
   ]
  },
  {
   "cell_type": "markdown",
   "metadata": {},
   "source": [
    "如果使用`freq`参数，则会移动时间戳索引，而不是改变数据："
   ]
  },
  {
   "cell_type": "code",
   "execution_count": 7,
   "metadata": {},
   "outputs": [
    {
     "data": {
      "text/plain": [
       "2018-01-03    0\n",
       "2018-01-04    1\n",
       "2018-01-06    2\n",
       "2018-01-07    3\n",
       "2018-01-08    4\n",
       "2018-01-10    5\n",
       "dtype: int32"
      ]
     },
     "execution_count": 7,
     "metadata": {},
     "output_type": "execute_result"
    }
   ],
   "source": [
    "ser.shift(2, freq='D')"
   ]
  },
  {
   "cell_type": "markdown",
   "metadata": {},
   "source": [
    "可以传入其它频率，例如向前移动3个小时："
   ]
  },
  {
   "cell_type": "code",
   "execution_count": 8,
   "metadata": {},
   "outputs": [
    {
     "data": {
      "text/plain": [
       "2018-01-01 03:00:00    0\n",
       "2018-01-02 03:00:00    1\n",
       "2018-01-04 03:00:00    2\n",
       "2018-01-05 03:00:00    3\n",
       "2018-01-06 03:00:00    4\n",
       "2018-01-08 03:00:00    5\n",
       "dtype: int32"
      ]
     },
     "execution_count": 8,
     "metadata": {},
     "output_type": "execute_result"
    }
   ],
   "source": [
    "ser.shift(3, freq='60T')"
   ]
  },
  {
   "cell_type": "markdown",
   "metadata": {},
   "source": [
    "## 其它移位操作\n",
    "\n",
    "可以使用`shift`方法来计算时间序列的前后差值，以及百分比变化。可以用如下代码实现：\n",
    "```python\n",
    "ts - ts.shift(1)\n",
    "ts / ts.shift(1) - 1\n",
    "```\n",
    "\n",
    "不过，Pandas已经提供了类似这样的移位操作：\n",
    "- `s.diff()`，求序列前后差值\n",
    "- `s.pct_change()`，求序列前后百分比变化"
   ]
  },
  {
   "cell_type": "code",
   "execution_count": 9,
   "metadata": {},
   "outputs": [
    {
     "data": {
      "text/plain": [
       "2018-01-01    NaN\n",
       "2018-01-02    NaN\n",
       "2018-01-04    2.0\n",
       "2018-01-05    2.0\n",
       "2018-01-06    2.0\n",
       "2018-01-08    2.0\n",
       "dtype: float64"
      ]
     },
     "execution_count": 9,
     "metadata": {},
     "output_type": "execute_result"
    }
   ],
   "source": [
    "# 求序列差值\n",
    "ser.diff(2)"
   ]
  },
  {
   "cell_type": "code",
   "execution_count": 10,
   "metadata": {},
   "outputs": [
    {
     "data": {
      "text/plain": [
       "2018-01-01   -1.000000\n",
       "2018-01-02   -0.500000\n",
       "2018-01-04   -0.333333\n",
       "2018-01-05   -0.250000\n",
       "2018-01-06   -0.200000\n",
       "2018-01-08         NaN\n",
       "dtype: float64"
      ]
     },
     "execution_count": 10,
     "metadata": {},
     "output_type": "execute_result"
    }
   ],
   "source": [
    "# 求序列百分比变化\n",
    "ser.pct_change(-1)"
   ]
  },
  {
   "cell_type": "markdown",
   "metadata": {
    "slideshow": {
     "slide_type": "slide"
    }
   },
   "source": [
    "## 实例练习\n",
    "\n",
    "与上节一样，使用一个股票的交易数据集，首先导入股票数据文件："
   ]
  },
  {
   "cell_type": "code",
   "execution_count": 11,
   "metadata": {
    "slideshow": {
     "slide_type": "-"
    }
   },
   "outputs": [
    {
     "data": {
      "text/plain": [
       "('300137', '..\\\\data\\\\stocks\\\\300137_lday.csv')"
      ]
     },
     "execution_count": 11,
     "metadata": {},
     "output_type": "execute_result"
    }
   ],
   "source": [
    "import os\n",
    "import random\n",
    "\n",
    "stockcodes = ['300137', '300059', '601288', '600019', '000651'] \n",
    "stockcode = random.choice(stockcodes)\n",
    "csvfile = os.path.join('..', 'data', 'stocks', '{}_lday.csv'.format(stockcode))\n",
    "stockcode, csvfile"
   ]
  },
  {
   "cell_type": "code",
   "execution_count": 12,
   "metadata": {},
   "outputs": [
    {
     "name": "stdout",
     "output_type": "stream",
     "text": [
      "<class 'pandas.core.frame.DataFrame'>\n",
      "RangeIndex: 747 entries, 0 to 746\n",
      "Data columns (total 7 columns):\n",
      "date      747 non-null datetime64[ns]\n",
      "open      747 non-null float64\n",
      "close     747 non-null float64\n",
      "high      747 non-null float64\n",
      "low       747 non-null float64\n",
      "volume    747 non-null float64\n",
      "code      747 non-null int64\n",
      "dtypes: datetime64[ns](1), float64(5), int64(1)\n",
      "memory usage: 40.9 KB\n"
     ]
    }
   ],
   "source": [
    "# 解析`date`行，并设置为索引\n",
    "stockdata = pd.read_csv(csvfile, parse_dates=['date'])\n",
    "stockdata.info()"
   ]
  },
  {
   "cell_type": "markdown",
   "metadata": {},
   "source": [
    "对于一个股票，以收盘价买入，第二天再以收盘价卖出，二者百分比即使收益率，下面来计算收益率，也就是收盘价百分比变化："
   ]
  },
  {
   "cell_type": "code",
   "execution_count": 13,
   "metadata": {},
   "outputs": [],
   "source": [
    "# 收盘价百分比变化\n",
    "stockdata['gain'] = stockdata['close'].pct_change()"
   ]
  },
  {
   "cell_type": "markdown",
   "metadata": {},
   "source": [
    "下面绘制收益率的分布："
   ]
  },
  {
   "cell_type": "code",
   "execution_count": 14,
   "metadata": {
    "slideshow": {
     "slide_type": "slide"
    }
   },
   "outputs": [
    {
     "data": {
      "text/plain": [
       "<matplotlib.figure.Figure at 0x22082f3e080>"
      ]
     },
     "execution_count": 14,
     "metadata": {},
     "output_type": "execute_result"
    },
    {
     "data": {
      "text/plain": [
       "<matplotlib.axes._subplots.AxesSubplot at 0x22082f3e0f0>"
      ]
     },
     "execution_count": 14,
     "metadata": {},
     "output_type": "execute_result"
    },
    {
     "data": {
      "text/plain": [
       "<matplotlib.axes._subplots.AxesSubplot at 0x22082f3e0f0>"
      ]
     },
     "execution_count": 14,
     "metadata": {},
     "output_type": "execute_result"
    },
    {
     "data": {
      "text/plain": [
       "<matplotlib.axes._subplots.AxesSubplot at 0x220830086a0>"
      ]
     },
     "execution_count": 14,
     "metadata": {},
     "output_type": "execute_result"
    },
    {
     "data": {
      "text/plain": [
       "<matplotlib.axes._subplots.AxesSubplot at 0x220830086a0>"
      ]
     },
     "execution_count": 14,
     "metadata": {},
     "output_type": "execute_result"
    },
    {
     "data": {
      "image/png": "[encoded data removed]",
      "text/plain": [
       "<matplotlib.figure.Figure at 0x22082f3e080>"
      ]
     },
     "metadata": {},
     "output_type": "display_data"
    }
   ],
   "source": [
    "plt.figure(figsize=(10,8))\n",
    "plt.subplot(1, 2, 1)\n",
    "stockdata['gain'].plot()\n",
    "plt.subplot(1, 2, 2)\n",
    "stockdata['gain'].plot('hist')"
   ]
  }
 ],
 "metadata": {
  "kernelspec": {
   "display_name": "Python 3",
   "language": "python",
   "name": "python3"
  },
  "language_info": {
   "codemirror_mode": {
    "name": "ipython",
    "version": 3
   },
   "file_extension": ".py",
   "mimetype": "text/x-python",
   "name": "python",
   "nbconvert_exporter": "python",
   "pygments_lexer": "ipython3",
   "version": "3.6.4"
  },
  "toc": {
   "base_numbering": 1,
   "nav_menu": {},
   "number_sections": true,
   "sideBar": true,
   "skip_h1_title": false,
   "title_cell": "Table of Contents",
   "title_sidebar": "Contents",
   "toc_cell": false,
   "toc_position": {},
   "toc_section_display": true,
   "toc_window_display": false
  }
 },
 "nbformat": 4,
 "nbformat_minor": 2
}
