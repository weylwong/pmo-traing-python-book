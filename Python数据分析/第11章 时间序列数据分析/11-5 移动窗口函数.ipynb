{
 "cells": [
  {
   "cell_type": "markdown",
   "metadata": {
    "slideshow": {
     "slide_type": "slide"
    }
   },
   "source": [
    "# 移动窗口函数\n",
    "\n",
    "对与 `Series` 与 `DataFrame` 对象，大部分操作运算和矢量化方法(如`apply()`)都是在元素级别上进行运算，仍然返回长度相同的矢量数据（`n=>n`）；聚合函数则对一组数据进行操作返回一个标量值（`n=>1`）；分组聚合 `Groupby()` 与 重采样`resample()` 都是先对数据集进行分组再进行聚合操作，返回长度不同的矢量数据（`n=>m`）。\n",
    "\n",
    "在上一节介绍的`diff()`与`pct_change()`函数是矢量化操作，返回长度相同的矢量数据，不过其计算过程需要用到相邻的两个元素。在实际工作中，类似的操作还有不少，例如计算一组数据的移动平均（Moving Average，MA），对于每个索引位置，需要用当前位置的数据以及前面多个数据来计算平均值，其结果与输入数据长度相同。，“移动平均”结果常常称为移动平均线，简称均线，可用公式表示如下：\n",
    "$$F_t = \\frac{A_{t} + A_{t-1} + \\cdots + A_{t-n+1}}{n}$$\n",
    "\n",
    "在进行移动平均计算时，类似于先用一个移动窗口来选择数据，然后再进行聚合操作。在 Pandas 中，这类函数也称为移动窗口函数，本节将介绍如下窗口函数：\n",
    "- `rolling()`\n",
    "- `expending()`\n",
    "- `ewm()`"
   ]
  },
  {
   "cell_type": "code",
   "execution_count": 1,
   "metadata": {
    "slideshow": {
     "slide_type": "-"
    }
   },
   "outputs": [],
   "source": [
    "import numpy as np\n",
    "import pandas as pd\n",
    "import matplotlib.pyplot as plt\n",
    "%matplotlib inline\n",
    "from IPython.core.interactiveshell import InteractiveShell\n",
    "InteractiveShell.ast_node_interactivity='all'"
   ]
  },
  {
   "cell_type": "markdown",
   "metadata": {},
   "source": [
    "## 滚动窗口函数 `rolling()`\n",
    "\n",
    "`Series`与`DataFrame`对象都提供有`rolling()`方法，其使用与`groupby`操作类似先分组再聚合，区别在于使用移动窗口进行分组，其使用语法为：\n",
    "\n",
    "```python\n",
    "s.rolling(window, min_periods=None, center=False, win_type=None, on=None, axis=0, closed=None)\n",
    "df.rolling(window, min_periods=None, center=False, win_type=None, on=None, axis=0, closed=None)\n",
    "```\n",
    "主要参数\n",
    "- `windows`，移动窗口大小，整数或时间偏置字符串。\n",
    "- `min_periods=None`，移动窗口最少包含的有效观测值，如果少于该数则返回缺失值。\n",
    "- `center=False`，是否设定窗口中心标签索引。\n",
    "- `win_type=None`，指定窗口类型，设置数据权重。\n",
    "- `on=None`，对于`DataFrame`可以指定列而非使用索引。\n",
    "- `closed=None`，指定数组区间开闭。\n",
    "- `axis=0`，指定沿行或列聚合，确实为0。"
   ]
  },
  {
   "cell_type": "markdown",
   "metadata": {},
   "source": [
    "`rolling()`运算常用聚合函数有：\n",
    "- `count()`，对非 NaN 值计数\n",
    "- `max()`，最大值\n",
    "- `min()`，最小值\n",
    "- `sum()`，求和\n",
    "- `mean()`，求均值\n",
    "- `median()`，求中位数\n",
    "- `var()`，求方差\n",
    "- `std()`，求标准差\n",
    "- `skew()`，偏度（三阶矩）\n",
    "- `kurt()`，峰度（四阶矩）\n",
    "- `quantile()`，求中位数"
   ]
  },
  {
   "cell_type": "markdown",
   "metadata": {},
   "source": [
    "例如下面创建一个`DataFrame`对象，包括两列数据且为时序数据："
   ]
  },
  {
   "cell_type": "code",
   "execution_count": 31,
   "metadata": {},
   "outputs": [
    {
     "data": {
      "text/html": [
       "<div>\n",
       "<style scoped>\n",
       "    .dataframe tbody tr th:only-of-type {\n",
       "        vertical-align: middle;\n",
       "    }\n",
       "\n",
       "    .dataframe tbody tr th {\n",
       "        vertical-align: top;\n",
       "    }\n",
       "\n",
       "    .dataframe thead th {\n",
       "        text-align: right;\n",
       "    }\n",
       "</style>\n",
       "<table border=\"1\" class=\"dataframe\">\n",
       "  <thead>\n",
       "    <tr style=\"text-align: right;\">\n",
       "      <th></th>\n",
       "      <th>A</th>\n",
       "      <th>B</th>\n",
       "    </tr>\n",
       "  </thead>\n",
       "  <tbody>\n",
       "    <tr>\n",
       "      <th>2018-01-01 09:00:00</th>\n",
       "      <td>0</td>\n",
       "      <td>0.0</td>\n",
       "    </tr>\n",
       "    <tr>\n",
       "      <th>2018-01-01 09:00:02</th>\n",
       "      <td>1</td>\n",
       "      <td>1.0</td>\n",
       "    </tr>\n",
       "    <tr>\n",
       "      <th>2018-01-01 09:00:03</th>\n",
       "      <td>2</td>\n",
       "      <td>2.0</td>\n",
       "    </tr>\n",
       "    <tr>\n",
       "      <th>2018-01-01 09:00:05</th>\n",
       "      <td>3</td>\n",
       "      <td>NaN</td>\n",
       "    </tr>\n",
       "    <tr>\n",
       "      <th>2018-01-01 09:00:06</th>\n",
       "      <td>4</td>\n",
       "      <td>4.0</td>\n",
       "    </tr>\n",
       "    <tr>\n",
       "      <th>2018-01-01 09:00:07</th>\n",
       "      <td>5</td>\n",
       "      <td>5.0</td>\n",
       "    </tr>\n",
       "    <tr>\n",
       "      <th>2018-01-01 09:00:08</th>\n",
       "      <td>6</td>\n",
       "      <td>NaN</td>\n",
       "    </tr>\n",
       "    <tr>\n",
       "      <th>2018-01-01 09:00:08</th>\n",
       "      <td>9</td>\n",
       "      <td>7.0</td>\n",
       "    </tr>\n",
       "  </tbody>\n",
       "</table>\n",
       "</div>"
      ],
      "text/plain": [
       "                     A    B\n",
       "2018-01-01 09:00:00  0  0.0\n",
       "2018-01-01 09:00:02  1  1.0\n",
       "2018-01-01 09:00:03  2  2.0\n",
       "2018-01-01 09:00:05  3  NaN\n",
       "2018-01-01 09:00:06  4  4.0\n",
       "2018-01-01 09:00:07  5  5.0\n",
       "2018-01-01 09:00:08  6  NaN\n",
       "2018-01-01 09:00:08  9  7.0"
      ]
     },
     "execution_count": 31,
     "metadata": {},
     "output_type": "execute_result"
    }
   ],
   "source": [
    "dates = [pd.Timestamp('2018-01-01 09:00:00'),\n",
    "         pd.Timestamp('2018-01-01 09:00:02'),\n",
    "         pd.Timestamp('2018-01-01 09:00:03'),\n",
    "         pd.Timestamp('2018-01-01 09:00:05'),\n",
    "         pd.Timestamp('2018-01-01 09:00:06'),\n",
    "         pd.Timestamp('2018-01-01 09:00:07'),\n",
    "         pd.Timestamp('2018-01-01 09:00:08'),\n",
    "         pd.Timestamp('2018-01-01 09:00:08')]\n",
    "data = {'A': [0, 1, 2, 3, 4, 5, 6, 9], 'B': [0, 1, 2, np.nan, 4, 5, np.nan, 7]}\n",
    "df = pd.DataFrame(data, index=dates)\n",
    "df"
   ]
  },
  {
   "cell_type": "markdown",
   "metadata": {},
   "source": [
    "下面进行移动平均计算，移动窗口设置为3"
   ]
  },
  {
   "cell_type": "code",
   "execution_count": 13,
   "metadata": {},
   "outputs": [
    {
     "data": {
      "text/html": [
       "<div>\n",
       "<style scoped>\n",
       "    .dataframe tbody tr th:only-of-type {\n",
       "        vertical-align: middle;\n",
       "    }\n",
       "\n",
       "    .dataframe tbody tr th {\n",
       "        vertical-align: top;\n",
       "    }\n",
       "\n",
       "    .dataframe thead th {\n",
       "        text-align: right;\n",
       "    }\n",
       "</style>\n",
       "<table border=\"1\" class=\"dataframe\">\n",
       "  <thead>\n",
       "    <tr style=\"text-align: right;\">\n",
       "      <th></th>\n",
       "      <th>A</th>\n",
       "      <th>B</th>\n",
       "    </tr>\n",
       "  </thead>\n",
       "  <tbody>\n",
       "    <tr>\n",
       "      <th>2018-01-01 09:00:00</th>\n",
       "      <td>NaN</td>\n",
       "      <td>NaN</td>\n",
       "    </tr>\n",
       "    <tr>\n",
       "      <th>2018-01-01 09:00:02</th>\n",
       "      <td>NaN</td>\n",
       "      <td>NaN</td>\n",
       "    </tr>\n",
       "    <tr>\n",
       "      <th>2018-01-01 09:00:03</th>\n",
       "      <td>1.000000</td>\n",
       "      <td>1.0</td>\n",
       "    </tr>\n",
       "    <tr>\n",
       "      <th>2018-01-01 09:00:05</th>\n",
       "      <td>2.000000</td>\n",
       "      <td>NaN</td>\n",
       "    </tr>\n",
       "    <tr>\n",
       "      <th>2018-01-01 09:00:06</th>\n",
       "      <td>3.000000</td>\n",
       "      <td>NaN</td>\n",
       "    </tr>\n",
       "    <tr>\n",
       "      <th>2018-01-01 09:00:07</th>\n",
       "      <td>4.000000</td>\n",
       "      <td>NaN</td>\n",
       "    </tr>\n",
       "    <tr>\n",
       "      <th>2018-01-01 09:00:08</th>\n",
       "      <td>5.000000</td>\n",
       "      <td>NaN</td>\n",
       "    </tr>\n",
       "    <tr>\n",
       "      <th>2018-01-01 09:00:08</th>\n",
       "      <td>6.666667</td>\n",
       "      <td>NaN</td>\n",
       "    </tr>\n",
       "  </tbody>\n",
       "</table>\n",
       "</div>"
      ],
      "text/plain": [
       "                            A    B\n",
       "2018-01-01 09:00:00       NaN  NaN\n",
       "2018-01-01 09:00:02       NaN  NaN\n",
       "2018-01-01 09:00:03  1.000000  1.0\n",
       "2018-01-01 09:00:05  2.000000  NaN\n",
       "2018-01-01 09:00:06  3.000000  NaN\n",
       "2018-01-01 09:00:07  4.000000  NaN\n",
       "2018-01-01 09:00:08  5.000000  NaN\n",
       "2018-01-01 09:00:08  6.666667  NaN"
      ]
     },
     "execution_count": 13,
     "metadata": {},
     "output_type": "execute_result"
    }
   ],
   "source": [
    "# 移动窗口为3\n",
    "df.rolling(3).mean()"
   ]
  },
  {
   "cell_type": "markdown",
   "metadata": {},
   "source": [
    "可以看出，移动窗口中只要有缺失值，其均值结果就是`Nan`。使用参数`min_periods=2`指定移动窗口中有两个观测值即可："
   ]
  },
  {
   "cell_type": "code",
   "execution_count": 14,
   "metadata": {},
   "outputs": [
    {
     "data": {
      "text/html": [
       "<div>\n",
       "<style scoped>\n",
       "    .dataframe tbody tr th:only-of-type {\n",
       "        vertical-align: middle;\n",
       "    }\n",
       "\n",
       "    .dataframe tbody tr th {\n",
       "        vertical-align: top;\n",
       "    }\n",
       "\n",
       "    .dataframe thead th {\n",
       "        text-align: right;\n",
       "    }\n",
       "</style>\n",
       "<table border=\"1\" class=\"dataframe\">\n",
       "  <thead>\n",
       "    <tr style=\"text-align: right;\">\n",
       "      <th></th>\n",
       "      <th>A</th>\n",
       "      <th>B</th>\n",
       "    </tr>\n",
       "  </thead>\n",
       "  <tbody>\n",
       "    <tr>\n",
       "      <th>2018-01-01 09:00:00</th>\n",
       "      <td>NaN</td>\n",
       "      <td>NaN</td>\n",
       "    </tr>\n",
       "    <tr>\n",
       "      <th>2018-01-01 09:00:02</th>\n",
       "      <td>0.500000</td>\n",
       "      <td>0.5</td>\n",
       "    </tr>\n",
       "    <tr>\n",
       "      <th>2018-01-01 09:00:03</th>\n",
       "      <td>1.000000</td>\n",
       "      <td>1.0</td>\n",
       "    </tr>\n",
       "    <tr>\n",
       "      <th>2018-01-01 09:00:05</th>\n",
       "      <td>2.000000</td>\n",
       "      <td>1.5</td>\n",
       "    </tr>\n",
       "    <tr>\n",
       "      <th>2018-01-01 09:00:06</th>\n",
       "      <td>3.000000</td>\n",
       "      <td>3.0</td>\n",
       "    </tr>\n",
       "    <tr>\n",
       "      <th>2018-01-01 09:00:07</th>\n",
       "      <td>4.000000</td>\n",
       "      <td>4.5</td>\n",
       "    </tr>\n",
       "    <tr>\n",
       "      <th>2018-01-01 09:00:08</th>\n",
       "      <td>5.000000</td>\n",
       "      <td>4.5</td>\n",
       "    </tr>\n",
       "    <tr>\n",
       "      <th>2018-01-01 09:00:08</th>\n",
       "      <td>6.666667</td>\n",
       "      <td>6.0</td>\n",
       "    </tr>\n",
       "  </tbody>\n",
       "</table>\n",
       "</div>"
      ],
      "text/plain": [
       "                            A    B\n",
       "2018-01-01 09:00:00       NaN  NaN\n",
       "2018-01-01 09:00:02  0.500000  0.5\n",
       "2018-01-01 09:00:03  1.000000  1.0\n",
       "2018-01-01 09:00:05  2.000000  1.5\n",
       "2018-01-01 09:00:06  3.000000  3.0\n",
       "2018-01-01 09:00:07  4.000000  4.5\n",
       "2018-01-01 09:00:08  5.000000  4.5\n",
       "2018-01-01 09:00:08  6.666667  6.0"
      ]
     },
     "execution_count": 14,
     "metadata": {},
     "output_type": "execute_result"
    }
   ],
   "source": [
    "# 移动窗口为3\n",
    "df.rolling(3, min_periods=2).mean()"
   ]
  },
  {
   "cell_type": "markdown",
   "metadata": {},
   "source": [
    "对于时间序列数据，可以指定固定频率。对于时间序列数据`min_periods`缺省为1。例如下面每隔3秒进行求和："
   ]
  },
  {
   "cell_type": "code",
   "execution_count": 21,
   "metadata": {},
   "outputs": [
    {
     "data": {
      "text/html": [
       "<div>\n",
       "<style scoped>\n",
       "    .dataframe tbody tr th:only-of-type {\n",
       "        vertical-align: middle;\n",
       "    }\n",
       "\n",
       "    .dataframe tbody tr th {\n",
       "        vertical-align: top;\n",
       "    }\n",
       "\n",
       "    .dataframe thead th {\n",
       "        text-align: right;\n",
       "    }\n",
       "</style>\n",
       "<table border=\"1\" class=\"dataframe\">\n",
       "  <thead>\n",
       "    <tr style=\"text-align: right;\">\n",
       "      <th></th>\n",
       "      <th>A</th>\n",
       "      <th>B</th>\n",
       "    </tr>\n",
       "  </thead>\n",
       "  <tbody>\n",
       "    <tr>\n",
       "      <th>2018-01-01 09:00:00</th>\n",
       "      <td>0.0</td>\n",
       "      <td>0.0</td>\n",
       "    </tr>\n",
       "    <tr>\n",
       "      <th>2018-01-01 09:00:02</th>\n",
       "      <td>1.0</td>\n",
       "      <td>1.0</td>\n",
       "    </tr>\n",
       "    <tr>\n",
       "      <th>2018-01-01 09:00:03</th>\n",
       "      <td>3.0</td>\n",
       "      <td>3.0</td>\n",
       "    </tr>\n",
       "    <tr>\n",
       "      <th>2018-01-01 09:00:05</th>\n",
       "      <td>5.0</td>\n",
       "      <td>2.0</td>\n",
       "    </tr>\n",
       "    <tr>\n",
       "      <th>2018-01-01 09:00:06</th>\n",
       "      <td>7.0</td>\n",
       "      <td>4.0</td>\n",
       "    </tr>\n",
       "    <tr>\n",
       "      <th>2018-01-01 09:00:07</th>\n",
       "      <td>12.0</td>\n",
       "      <td>9.0</td>\n",
       "    </tr>\n",
       "    <tr>\n",
       "      <th>2018-01-01 09:00:08</th>\n",
       "      <td>15.0</td>\n",
       "      <td>9.0</td>\n",
       "    </tr>\n",
       "    <tr>\n",
       "      <th>2018-01-01 09:00:08</th>\n",
       "      <td>24.0</td>\n",
       "      <td>16.0</td>\n",
       "    </tr>\n",
       "  </tbody>\n",
       "</table>\n",
       "</div>"
      ],
      "text/plain": [
       "                        A     B\n",
       "2018-01-01 09:00:00   0.0   0.0\n",
       "2018-01-01 09:00:02   1.0   1.0\n",
       "2018-01-01 09:00:03   3.0   3.0\n",
       "2018-01-01 09:00:05   5.0   2.0\n",
       "2018-01-01 09:00:06   7.0   4.0\n",
       "2018-01-01 09:00:07  12.0   9.0\n",
       "2018-01-01 09:00:08  15.0   9.0\n",
       "2018-01-01 09:00:08  24.0  16.0"
      ]
     },
     "execution_count": 21,
     "metadata": {},
     "output_type": "execute_result"
    }
   ],
   "source": [
    "# 移动窗口为3s\n",
    "df.rolling('3s').sum()"
   ]
  },
  {
   "cell_type": "markdown",
   "metadata": {},
   "source": [
    "## 扩展窗口函数`expanding()`\n",
    "\n",
    "`rolling()`函数的移动窗口是固定大小，即总是使用当前位置以及前面几个数据。扩展窗口函数`extending()`的移动窗口是从开始到当前位置，其使用语法与`rolling`类似：\n",
    " ```python\n",
    "df.expanding(windows, min_periods=1, center=False, axis=0)\n",
    "```"
   ]
  },
  {
   "cell_type": "markdown",
   "metadata": {},
   "source": [
    "扩展窗口函数`extending()`的使用与累计求和等操作有点类似，例如下面使用`expanding()`来计算累计求和："
   ]
  },
  {
   "cell_type": "code",
   "execution_count": 45,
   "metadata": {},
   "outputs": [
    {
     "data": {
      "text/html": [
       "<div>\n",
       "<style scoped>\n",
       "    .dataframe tbody tr th:only-of-type {\n",
       "        vertical-align: middle;\n",
       "    }\n",
       "\n",
       "    .dataframe tbody tr th {\n",
       "        vertical-align: top;\n",
       "    }\n",
       "\n",
       "    .dataframe thead th {\n",
       "        text-align: right;\n",
       "    }\n",
       "</style>\n",
       "<table border=\"1\" class=\"dataframe\">\n",
       "  <thead>\n",
       "    <tr style=\"text-align: right;\">\n",
       "      <th></th>\n",
       "      <th>A</th>\n",
       "      <th>B</th>\n",
       "    </tr>\n",
       "  </thead>\n",
       "  <tbody>\n",
       "    <tr>\n",
       "      <th>2018-01-01 09:00:00</th>\n",
       "      <td>0.0</td>\n",
       "      <td>0.0</td>\n",
       "    </tr>\n",
       "    <tr>\n",
       "      <th>2018-01-01 09:00:02</th>\n",
       "      <td>1.0</td>\n",
       "      <td>1.0</td>\n",
       "    </tr>\n",
       "    <tr>\n",
       "      <th>2018-01-01 09:00:03</th>\n",
       "      <td>3.0</td>\n",
       "      <td>3.0</td>\n",
       "    </tr>\n",
       "    <tr>\n",
       "      <th>2018-01-01 09:00:05</th>\n",
       "      <td>6.0</td>\n",
       "      <td>3.0</td>\n",
       "    </tr>\n",
       "    <tr>\n",
       "      <th>2018-01-01 09:00:06</th>\n",
       "      <td>10.0</td>\n",
       "      <td>7.0</td>\n",
       "    </tr>\n",
       "    <tr>\n",
       "      <th>2018-01-01 09:00:07</th>\n",
       "      <td>15.0</td>\n",
       "      <td>12.0</td>\n",
       "    </tr>\n",
       "    <tr>\n",
       "      <th>2018-01-01 09:00:08</th>\n",
       "      <td>21.0</td>\n",
       "      <td>12.0</td>\n",
       "    </tr>\n",
       "    <tr>\n",
       "      <th>2018-01-01 09:00:08</th>\n",
       "      <td>30.0</td>\n",
       "      <td>19.0</td>\n",
       "    </tr>\n",
       "  </tbody>\n",
       "</table>\n",
       "</div>"
      ],
      "text/plain": [
       "                        A     B\n",
       "2018-01-01 09:00:00   0.0   0.0\n",
       "2018-01-01 09:00:02   1.0   1.0\n",
       "2018-01-01 09:00:03   3.0   3.0\n",
       "2018-01-01 09:00:05   6.0   3.0\n",
       "2018-01-01 09:00:06  10.0   7.0\n",
       "2018-01-01 09:00:07  15.0  12.0\n",
       "2018-01-01 09:00:08  21.0  12.0\n",
       "2018-01-01 09:00:08  30.0  19.0"
      ]
     },
     "execution_count": 45,
     "metadata": {},
     "output_type": "execute_result"
    }
   ],
   "source": [
    "# 扩展窗口求和\n",
    "df.expanding().sum()"
   ]
  },
  {
   "cell_type": "markdown",
   "metadata": {},
   "source": [
    "## 指数加权函数(`ewm()`)\n",
    "\n",
    "Pandas 中还提供了`ewm`函数实现指数移动平均。通过指定衰减因子，指数移动平均公式可表示为：\n",
    "$$F_t = \\alpha A_{t} + (1-\\alpha) F_{t-1}$$\n",
    "\n",
    "指数加权函数`ewm`的使用语法为：\n",
    "```python\n",
    "df.ewm(com=None, span=None, halflife=None, alpha=None, min_periods=0, adjust=True, ignore_na=False, axis=0)\n",
    "```\n",
    "主要参数\n",
    "- `com=None`, 通过质心指定衰减因子，计算公式为$\\alpha=\\frac{1}{\\mathrm{com}+1}$\n",
    "- `span=None`，通过跨度指定衰减因子，计算公式为$\\alpha=\\frac{2}{\\mathrm{span}+1}$\n",
    "- `halflife=None`，通过半衰期指定衰减因子，计算公式为$\\alpha=1-\\exp(\\frac{\\log{0.5}}{\\mathrm{halflife}})$\n",
    "- `alpha=None`，直接指定衰减因子\n",
    "- `adjust=True`，偏差修正。"
   ]
  },
  {
   "cell_type": "markdown",
   "metadata": {},
   "source": [
    "下面使用跨度`span=3`来计算指数移动平均线："
   ]
  },
  {
   "cell_type": "code",
   "execution_count": 51,
   "metadata": {},
   "outputs": [
    {
     "data": {
      "text/html": [
       "<div>\n",
       "<style scoped>\n",
       "    .dataframe tbody tr th:only-of-type {\n",
       "        vertical-align: middle;\n",
       "    }\n",
       "\n",
       "    .dataframe tbody tr th {\n",
       "        vertical-align: top;\n",
       "    }\n",
       "\n",
       "    .dataframe thead th {\n",
       "        text-align: right;\n",
       "    }\n",
       "</style>\n",
       "<table border=\"1\" class=\"dataframe\">\n",
       "  <thead>\n",
       "    <tr style=\"text-align: right;\">\n",
       "      <th></th>\n",
       "      <th>A</th>\n",
       "      <th>B</th>\n",
       "    </tr>\n",
       "  </thead>\n",
       "  <tbody>\n",
       "    <tr>\n",
       "      <th>2018-01-01 09:00:00</th>\n",
       "      <td>0.000000</td>\n",
       "      <td>0.000000</td>\n",
       "    </tr>\n",
       "    <tr>\n",
       "      <th>2018-01-01 09:00:02</th>\n",
       "      <td>0.666667</td>\n",
       "      <td>0.666667</td>\n",
       "    </tr>\n",
       "    <tr>\n",
       "      <th>2018-01-01 09:00:03</th>\n",
       "      <td>1.428571</td>\n",
       "      <td>1.428571</td>\n",
       "    </tr>\n",
       "    <tr>\n",
       "      <th>2018-01-01 09:00:05</th>\n",
       "      <td>2.266667</td>\n",
       "      <td>1.428571</td>\n",
       "    </tr>\n",
       "    <tr>\n",
       "      <th>2018-01-01 09:00:06</th>\n",
       "      <td>3.161290</td>\n",
       "      <td>3.217391</td>\n",
       "    </tr>\n",
       "    <tr>\n",
       "      <th>2018-01-01 09:00:07</th>\n",
       "      <td>4.095238</td>\n",
       "      <td>4.254545</td>\n",
       "    </tr>\n",
       "    <tr>\n",
       "      <th>2018-01-01 09:00:08</th>\n",
       "      <td>5.055118</td>\n",
       "      <td>4.254545</td>\n",
       "    </tr>\n",
       "    <tr>\n",
       "      <th>2018-01-01 09:00:08</th>\n",
       "      <td>7.035294</td>\n",
       "      <td>6.174863</td>\n",
       "    </tr>\n",
       "  </tbody>\n",
       "</table>\n",
       "</div>"
      ],
      "text/plain": [
       "                            A         B\n",
       "2018-01-01 09:00:00  0.000000  0.000000\n",
       "2018-01-01 09:00:02  0.666667  0.666667\n",
       "2018-01-01 09:00:03  1.428571  1.428571\n",
       "2018-01-01 09:00:05  2.266667  1.428571\n",
       "2018-01-01 09:00:06  3.161290  3.217391\n",
       "2018-01-01 09:00:07  4.095238  4.254545\n",
       "2018-01-01 09:00:08  5.055118  4.254545\n",
       "2018-01-01 09:00:08  7.035294  6.174863"
      ]
     },
     "execution_count": 51,
     "metadata": {},
     "output_type": "execute_result"
    }
   ],
   "source": [
    "# 指定span=3，衰减因子0.5\n",
    "df.ewm(span=3).mean()"
   ]
  },
  {
   "cell_type": "markdown",
   "metadata": {},
   "source": [
    "## 自定义聚合函数\n",
    "\n",
    "在使用上述移动窗口函数时，除了使用已有聚合函数（如求和、求均值）外，可以使用`apply()`调用自定义聚合函数，其唯一限制是必须返回一个标量值。\n",
    "\n",
    "例如下面定义一个计算变异系数的（最大值与最小值之差）的函数，并使用该函数进行聚合："
   ]
  },
  {
   "cell_type": "code",
   "execution_count": 60,
   "metadata": {},
   "outputs": [
    {
     "data": {
      "text/html": [
       "<div>\n",
       "<style scoped>\n",
       "    .dataframe tbody tr th:only-of-type {\n",
       "        vertical-align: middle;\n",
       "    }\n",
       "\n",
       "    .dataframe tbody tr th {\n",
       "        vertical-align: top;\n",
       "    }\n",
       "\n",
       "    .dataframe thead th {\n",
       "        text-align: right;\n",
       "    }\n",
       "</style>\n",
       "<table border=\"1\" class=\"dataframe\">\n",
       "  <thead>\n",
       "    <tr style=\"text-align: right;\">\n",
       "      <th></th>\n",
       "      <th>A</th>\n",
       "      <th>B</th>\n",
       "    </tr>\n",
       "  </thead>\n",
       "  <tbody>\n",
       "    <tr>\n",
       "      <th>2018-01-01 09:00:00</th>\n",
       "      <td>NaN</td>\n",
       "      <td>NaN</td>\n",
       "    </tr>\n",
       "    <tr>\n",
       "      <th>2018-01-01 09:00:02</th>\n",
       "      <td>NaN</td>\n",
       "      <td>NaN</td>\n",
       "    </tr>\n",
       "    <tr>\n",
       "      <th>2018-01-01 09:00:03</th>\n",
       "      <td>NaN</td>\n",
       "      <td>NaN</td>\n",
       "    </tr>\n",
       "    <tr>\n",
       "      <th>2018-01-01 09:00:05</th>\n",
       "      <td>0.860663</td>\n",
       "      <td>NaN</td>\n",
       "    </tr>\n",
       "    <tr>\n",
       "      <th>2018-01-01 09:00:06</th>\n",
       "      <td>0.516398</td>\n",
       "      <td>NaN</td>\n",
       "    </tr>\n",
       "    <tr>\n",
       "      <th>2018-01-01 09:00:07</th>\n",
       "      <td>0.368856</td>\n",
       "      <td>NaN</td>\n",
       "    </tr>\n",
       "    <tr>\n",
       "      <th>2018-01-01 09:00:08</th>\n",
       "      <td>0.286888</td>\n",
       "      <td>NaN</td>\n",
       "    </tr>\n",
       "    <tr>\n",
       "      <th>2018-01-01 09:00:08</th>\n",
       "      <td>0.360041</td>\n",
       "      <td>NaN</td>\n",
       "    </tr>\n",
       "  </tbody>\n",
       "</table>\n",
       "</div>"
      ],
      "text/plain": [
       "                            A   B\n",
       "2018-01-01 09:00:00       NaN NaN\n",
       "2018-01-01 09:00:02       NaN NaN\n",
       "2018-01-01 09:00:03       NaN NaN\n",
       "2018-01-01 09:00:05  0.860663 NaN\n",
       "2018-01-01 09:00:06  0.516398 NaN\n",
       "2018-01-01 09:00:07  0.368856 NaN\n",
       "2018-01-01 09:00:08  0.286888 NaN\n",
       "2018-01-01 09:00:08  0.360041 NaN"
      ]
     },
     "execution_count": 60,
     "metadata": {},
     "output_type": "execute_result"
    }
   ],
   "source": [
    "def variable_coefficient(s):\n",
    "    return s.std() / s.mean()\n",
    "    \n",
    "df.rolling(4).apply(variable_coefficient, raw=False)"
   ]
  },
  {
   "cell_type": "markdown",
   "metadata": {},
   "source": [
    "## 二元移动窗口函数\n",
    "\n",
    "前面几节介绍的都是对单独一个时间序列进行移动操作，不顾类似相关度和协方差的统计计算需要操作两个时间序列。在调用`rolling()`后，可以使用如下二元聚合函数：\n",
    "- `corr()`,计算相关系数\n",
    "- `cov()`，计算协方差"
   ]
  },
  {
   "cell_type": "markdown",
   "metadata": {},
   "source": [
    "下面创建两个带随机噪声的直线数据："
   ]
  },
  {
   "cell_type": "code",
   "execution_count": 105,
   "metadata": {},
   "outputs": [
    {
     "data": {
      "text/plain": [
       "[<matplotlib.lines.Line2D at 0x1b772464d68>]"
      ]
     },
     "execution_count": 105,
     "metadata": {},
     "output_type": "execute_result"
    },
    {
     "data": {
      "text/plain": [
       "[<matplotlib.lines.Line2D at 0x1b77246b2b0>]"
      ]
     },
     "execution_count": 105,
     "metadata": {},
     "output_type": "execute_result"
    },
    {
     "data": {
      "image/png": "[encoded data removed]",
      "text/plain": [
       "<matplotlib.figure.Figure at 0x1b7722ddd30>"
      ]
     },
     "metadata": {},
     "output_type": "display_data"
    }
   ],
   "source": [
    "n = 5.0\n",
    "dataa = pd.Series(np.linspace(0, n, 1024) + np.random.randn(1024))\n",
    "datab = pd.Series(np.linspace(0, 2*n, 1024) + np.random.randn(1024))\n",
    "plt.plot(dataa)\n",
    "plt.plot(datab)"
   ]
  },
  {
   "cell_type": "markdown",
   "metadata": {},
   "source": [
    "可以计算这两个数组的相关系数："
   ]
  },
  {
   "cell_type": "code",
   "execution_count": 107,
   "metadata": {},
   "outputs": [
    {
     "data": {
      "text/plain": [
       "0.7738361918563333"
      ]
     },
     "execution_count": 107,
     "metadata": {},
     "output_type": "execute_result"
    }
   ],
   "source": [
    "# 整体相关系数：\n",
    "dataa.corr(datab)"
   ]
  },
  {
   "cell_type": "markdown",
   "metadata": {},
   "source": [
    "下面使用移动窗口来计算二者的相关系数："
   ]
  },
  {
   "cell_type": "code",
   "execution_count": 109,
   "metadata": {},
   "outputs": [
    {
     "data": {
      "text/plain": [
       "[<matplotlib.lines.Line2D at 0x1b7724ca780>]"
      ]
     },
     "execution_count": 109,
     "metadata": {},
     "output_type": "execute_result"
    },
    {
     "data": {
      "image/png": "[encoded data removed]",
      "text/plain": [
       "<matplotlib.figure.Figure at 0x1b772357ef0>"
      ]
     },
     "metadata": {},
     "output_type": "display_data"
    }
   ],
   "source": [
    "windows = 128\n",
    "res = dataa.rolling(windows).corr(datab)\n",
    "plt.plot(res)"
   ]
  }
 ],
 "metadata": {
  "kernelspec": {
   "display_name": "Python 3",
   "language": "python",
   "name": "python3"
  },
  "language_info": {
   "codemirror_mode": {
    "name": "ipython",
    "version": 3
   },
   "file_extension": ".py",
   "mimetype": "text/x-python",
   "name": "python",
   "nbconvert_exporter": "python",
   "pygments_lexer": "ipython3",
   "version": "3.6.4"
  },
  "toc": {
   "base_numbering": 1,
   "nav_menu": {},
   "number_sections": true,
   "sideBar": true,
   "skip_h1_title": false,
   "title_cell": "Table of Contents",
   "title_sidebar": "Contents",
   "toc_cell": false,
   "toc_position": {},
   "toc_section_display": true,
   "toc_window_display": true
  }
 },
 "nbformat": 4,
 "nbformat_minor": 2
}
