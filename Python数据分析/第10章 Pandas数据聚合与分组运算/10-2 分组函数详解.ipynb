{
 "cells": [
  {
   "cell_type": "markdown",
   "metadata": {
    "slideshow": {
     "slide_type": "slide"
    }
   },
   "source": [
    "# 分组函数`groupby()`详解\n",
    "\n",
    "本节详细介绍`groupby()`的使用。"
   ]
  },
  {
   "cell_type": "code",
   "execution_count": null,
   "metadata": {
    "slideshow": {
     "slide_type": "-"
    }
   },
   "outputs": [],
   "source": [
    "import numpy as np\n",
    "import pandas as pd\n",
    "from IPython.core.interactiveshell import InteractiveShell\n",
    "InteractiveShell.ast_node_interactivity='all'"
   ]
  },
  {
   "cell_type": "markdown",
   "metadata": {},
   "source": [
    "## 使用语法\n",
    "\n",
    "`Series` 与 `DataFrame` 对象都支持`groupby()`功能，其使用语法为：\n",
    "```python\n",
    "groupby(by=None, axis=0, level=None, as_index=True, sort=True, group_keys=True, squeeze=False, observed=False, **kwargs)\n",
    "```\n",
    "主要参数\n",
    "- `by=None`,映射，函数，标签或标签列表。\n",
    "- `axis=0`, 整数。表示操作的轴向，0表示列，1表示行。\n",
    "- `level=None`, 整数或索引名，指定层级索引。\n",
    "- `as_index=True`，布尔数。表示聚合后的标签是否为`DataFrame`索引形式。设置为False，则使用“SQL风格”。\n",
    "- `sort=True`, 布尔数。是否对分组列或标签进行排序。\n",
    "- `group_keys=True`，布尔数。是否显示分组标签的名称。\n",
    "- `squeeze=False`，布尔数。是否在可行情况下对返回数据进行降维。\n",
    "- `observed=False`，布尔数。针对类别数据。"
   ]
  },
  {
   "cell_type": "markdown",
   "metadata": {},
   "source": [
    "## 指定列或数组\n",
    "\n",
    "下面创建一个`Series`对象与`DataFrame`对象："
   ]
  },
  {
   "cell_type": "code",
   "execution_count": null,
   "metadata": {},
   "outputs": [],
   "source": [
    "ser = pd.Series(range(6))\n",
    "ser"
   ]
  },
  {
   "cell_type": "code",
   "execution_count": null,
   "metadata": {},
   "outputs": [],
   "source": [
    "keys = ['A', 'B', 'C', 'A', 'B', 'C']\n",
    "df = pd.DataFrame({'key': keys, 'data': range(6)})\n",
    "df"
   ]
  },
  {
   "cell_type": "markdown",
   "metadata": {},
   "source": [
    "下面分别调用`Series`与`DataFrame`对象的`groupby()`方法："
   ]
  },
  {
   "cell_type": "code",
   "execution_count": null,
   "metadata": {},
   "outputs": [],
   "source": [
    "# 使用keys进行分组\n",
    "g1 = ser.groupby(keys)\n",
    "# 使用key列进行分组\n",
    "g2 = df.groupby('key')\n",
    "# 返回类型\n",
    "type(g1), type(g2)"
   ]
  },
  {
   "cell_type": "markdown",
   "metadata": {},
   "source": [
    "二者都返回分组（`GroupBy`）对象，分别是`SeriesGroupBy`与`DataFrameGroupBy`的实例对象。`GroupBy`对象支持迭代，会生成各个分组："
   ]
  },
  {
   "cell_type": "code",
   "execution_count": null,
   "metadata": {},
   "outputs": [],
   "source": [
    "for key, group in g1:\n",
    "    print(key, type(group))\n",
    "    print(group)"
   ]
  },
  {
   "cell_type": "code",
   "execution_count": null,
   "metadata": {},
   "outputs": [],
   "source": [
    "for key, group in g2:\n",
    "    print(key, type(group))\n",
    "    print(group)"
   ]
  },
  {
   "cell_type": "markdown",
   "metadata": {},
   "source": [
    "有上可见，`groupby()`只是进行分组，对于`Series`对象其分组数据为序列，`DataFrame`对象的分组数据是`DataFrame`对象。要进行后续的应用与联合操作，可以调用`GroupBy`对象的各种方法，下表列出常用描述性统计方法：\n",
    "- `count()`，非NA值计数。\n",
    "- `min(), max()`，非NA值的最小值与最大值。\n",
    "- `sum()`，非NA值求和。\n",
    "- `mean(), median()`，非NA值均值与中位数。\n",
    "- `std(), var()`，非NA值标准差与方差。\n",
    "- `first(), last()`，非NA值第一个与最后一个。\n",
    "- `size()`，大小\n",
    "- `prod`，非NA值的乘积"
   ]
  },
  {
   "cell_type": "markdown",
   "metadata": {},
   "source": [
    "下面调用`GroupBy`对象的`max()`方法，会对各个分组数据应用`max()`函数，并把结果合并起来："
   ]
  },
  {
   "cell_type": "code",
   "execution_count": null,
   "metadata": {},
   "outputs": [],
   "source": [
    "g1.max()"
   ]
  },
  {
   "cell_type": "code",
   "execution_count": null,
   "metadata": {},
   "outputs": [],
   "source": [
    "g2.max()"
   ]
  },
  {
   "cell_type": "markdown",
   "metadata": {
    "slideshow": {
     "slide_type": "slide"
    }
   },
   "source": [
    "## 指定多列\n",
    "\n",
    "在使用`groupby()`对`DataFrame`对象进行分组时，可以指定`DataFrame`多个列。下面创建一个`DataFrame`对象："
   ]
  },
  {
   "cell_type": "code",
   "execution_count": null,
   "metadata": {},
   "outputs": [],
   "source": [
    "dict_obj = {'key1' : ['a', 'b', 'a', 'b', \n",
    "                      'a', 'b', 'a', 'a'],\n",
    "            'key2' : ['one', 'one', 'two', 'three',\n",
    "                      np.nan, 'two', 'one', 'three'],\n",
    "            'data1': np.random.randint(1, 10, 8),\n",
    "            'data2': np.random.randint(1, 10, 8),\n",
    "            'data3': ['1', '2', '3', '4', '5', '6', '7', '8']}\n",
    "df = pd.DataFrame(dict_obj)\n",
    "df"
   ]
  },
  {
   "cell_type": "markdown",
   "metadata": {},
   "source": [
    "指定多列来进行分组："
   ]
  },
  {
   "cell_type": "code",
   "execution_count": null,
   "metadata": {},
   "outputs": [],
   "source": [
    "g3 = df.groupby(['key1', 'key2'])\n",
    "[key for key, group in g3]"
   ]
  },
  {
   "cell_type": "markdown",
   "metadata": {
    "slideshow": {
     "slide_type": "slide"
    }
   },
   "source": [
    "可以看出此时`GroupBy`对象的键值为元组。接着应用`mean()`方法，对各个分组数据进行求均值并合并结果："
   ]
  },
  {
   "cell_type": "code",
   "execution_count": null,
   "metadata": {},
   "outputs": [],
   "source": [
    "# 丢掉NA值行\n",
    "df.groupby(['key1', 'key2']).mean()"
   ]
  },
  {
   "cell_type": "markdown",
   "metadata": {},
   "source": [
    "在处理过程中，NA值行会被丢掉。缺省情况下，会对所有列进行处理，由于`mean()`主要用于数值型故会忽略`data3`列（字符串类型）。使用`GroupBy`对象的运算符`[]`可以处理指定列："
   ]
  },
  {
   "cell_type": "code",
   "execution_count": null,
   "metadata": {},
   "outputs": [],
   "source": [
    "# 分组计数\n",
    "df.groupby(['key1', 'key2'])['data1', 'data3'].count()"
   ]
  },
  {
   "cell_type": "markdown",
   "metadata": {},
   "source": [
    "## 使用字典\n",
    "\n",
    "除了指定列或数组外，还可以使用映射方式。例如下面对象为不同人不同语言考试成绩："
   ]
  },
  {
   "cell_type": "code",
   "execution_count": null,
   "metadata": {},
   "outputs": [],
   "source": [
    "scores = pd.DataFrame(np.random.randint(50, 90, (5,5)),\n",
    "                      columns=['Python', 'R', 'C', 'C++', 'Java'],\n",
    "                      index=['张三', '李四', '王五', '赵东', '钱西'])\n",
    "scores"
   ]
  },
  {
   "cell_type": "markdown",
   "metadata": {},
   "source": [
    "已知列的分组关系，使用如下映射:"
   ]
  },
  {
   "cell_type": "code",
   "execution_count": null,
   "metadata": {},
   "outputs": [],
   "source": [
    "mapping = {'Python': '脚本', 'R': '脚本', 'C': '编译',\n",
    "           'C++': '编译', 'Java':'编译', 'Matlab':'编译'}"
   ]
  },
  {
   "cell_type": "markdown",
   "metadata": {},
   "source": [
    "下面进行分组计算，得到脚本语言与编译语言的平均成绩："
   ]
  },
  {
   "cell_type": "code",
   "execution_count": null,
   "metadata": {
    "scrolled": true
   },
   "outputs": [],
   "source": [
    "scores.groupby(mapping, axis=1).mean()"
   ]
  }
 ],
 "metadata": {
  "kernelspec": {
   "display_name": "Python 3",
   "language": "python",
   "name": "python3"
  },
  "language_info": {
   "codemirror_mode": {
    "name": "ipython",
    "version": 3
   },
   "file_extension": ".py",
   "mimetype": "text/x-python",
   "name": "python",
   "nbconvert_exporter": "python",
   "pygments_lexer": "ipython3",
   "version": "3.6.4"
  },
  "toc": {
   "base_numbering": 1,
   "nav_menu": {},
   "number_sections": true,
   "sideBar": true,
   "skip_h1_title": false,
   "title_cell": "Table of Contents",
   "title_sidebar": "Contents",
   "toc_cell": false,
   "toc_position": {
    "height": "calc(100% - 180px)",
    "left": "10px",
    "top": "150px",
    "width": "256px"
   },
   "toc_section_display": true,
   "toc_window_display": false
  }
 },
 "nbformat": 4,
 "nbformat_minor": 2
}
