{
 "cells": [
  {
   "cell_type": "markdown",
   "metadata": {
    "slideshow": {
     "slide_type": "slide"
    }
   },
   "source": [
    "# 分组与聚合概述\n",
    "\n",
    "对于 `Series` 与 `DataFrame` 对象，Pandas 的大多操作运算都是矢量化运算，即在元素级别上进行运算，运算结果长度并不改变（`n=>n`）；Pandas还提供一些聚合函数或方法，例如求和、求均值等，都是对一组数据操作返回一个标量值（`n=>1`）。在数据处理中，经常会用到分组与聚合的操作，例如一个饭店连锁店，需要按照门店把流水数据进行分组，再把每个门店的数据进行聚合，最后把数据汇聚起来，得到与门店相关的数据。\n",
    "\n",
    "Pandas 提供了功能强大的分组聚合函数，本章通过实例来介绍常用操作。"
   ]
  },
  {
   "cell_type": "code",
   "execution_count": null,
   "metadata": {
    "slideshow": {
     "slide_type": "-"
    }
   },
   "outputs": [],
   "source": [
    "import numpy as np\n",
    "import pandas as pd"
   ]
  },
  {
   "cell_type": "markdown",
   "metadata": {
    "slideshow": {
     "slide_type": "slide"
    }
   },
   "source": [
    "## 理解分组与聚合\n",
    "\n",
    "在多个语言中都提供有分组与聚合的操作。例如，假定有一个代理商的数据库表格（agents），表格内容为代理商名字（agent_name）与工作地点（working_area）。现在想统计一下每个工作地点有多少代理商。使用如下 SQL 语句即可：\n",
    "```sql\n",
    "SELECT working_area, COUNT(*)\n",
    "FROM agensts\n",
    "GROUP BY working_area;\n",
    "```\n",
    "\n",
    "SQL 使用 GROUP BY 语句按照工作地点把数据集分组，即按照字段`working_area`把数据拆分成多个组；然后在每个组中进行计数操作`count(*)`，得到每个工作地点的人数；最后再把这些结果合并起来，得到工作地点与人数的结果。SQL的分组与聚合过程如下图所示：\n",
    "\n",
    "![SQL中分组与聚合](../images/pandas_sql_groupby_count.png)"
   ]
  },
  {
   "cell_type": "markdown",
   "metadata": {},
   "source": [
    "从上面示例可以看出，一个分组运算过程包括三个阶段：\n",
    "1. 拆分（split）。根据一个或多个键值把数据集进行分组；\n",
    "2. 应用（apply）。对每个分组数据应用一个函数，进行聚合计算，产生一个新值；\n",
    "3. 联合（combine）。把分组的运行结果合并起来，生成新的数据集。\n",
    "\n",
    "Hadley Wickham 是 R 语言专家，他创造了术语拆分-应用-联合（ `split-apply-combine` ）来描述分组运算。要熟练应用分组运算，重要的是搞清楚如何分组以及如何应用聚合函数。"
   ]
  },
  {
   "cell_type": "markdown",
   "metadata": {},
   "source": [
    "## `groupby`与聚合函数\n",
    "\n",
    "在 Pandas 中使用 `groupby` 功能可以快捷对数据集进行切片、切块等分组运算。`Series`与`DataFrame`对象都支持 `groupby` 分组操作。下面创建一个不同专业的考试成绩的数据集："
   ]
  },
  {
   "cell_type": "code",
   "execution_count": null,
   "metadata": {},
   "outputs": [],
   "source": [
    "data = {\n",
    "    'studentid': [1, 2, 1, 2, 3, 2, 3, 3, 4],  # 学生编号\n",
    "    'name': ['a', 'a', 'b', 'b', 'c', 'd', 'e', 'b', 'c'],  # 专业名\n",
    "    'score': [1, 2, 3, 4, 5, 6, 7, 8, 9],                    # 考试成绩\n",
    "}\n",
    "df = pd.DataFrame(data)\n",
    "df"
   ]
  },
  {
   "cell_type": "markdown",
   "metadata": {},
   "source": [
    "分组运算首先要对数据继续拆分。在本例中，要按照专业名进行拆分，使用`groupby`函数，并指定列名`name`，返回一个分组对象："
   ]
  },
  {
   "cell_type": "code",
   "execution_count": null,
   "metadata": {},
   "outputs": [],
   "source": [
    "g = df.groupby('name')\n",
    "type(g)"
   ]
  },
  {
   "cell_type": "markdown",
   "metadata": {},
   "source": [
    "这里使用 `groupby()` 方法返回一个`DataFrameGroupBy`分组对象。基于这个对象，对分组中成绩列`score`最大值，最后合并为一个结果："
   ]
  },
  {
   "cell_type": "code",
   "execution_count": null,
   "metadata": {},
   "outputs": [],
   "source": [
    "g['score'].max()"
   ]
  },
  {
   "cell_type": "markdown",
   "metadata": {},
   "source": [
    "可以把语句合并起来，即在一行语句中实现分组运算："
   ]
  },
  {
   "cell_type": "code",
   "execution_count": null,
   "metadata": {},
   "outputs": [],
   "source": [
    "# 分组聚合运算\n",
    "df.groupby('name')['score'].max()"
   ]
  },
  {
   "cell_type": "markdown",
   "metadata": {},
   "source": [
    "同样，Pandas 的分组运算过程也分为拆分，应用与联合三个步骤。上述示例的分组运算过程如下图所示：\n",
    "![分组计算最大值](../images/pandas_groupby_max.jpg)"
   ]
  },
  {
   "cell_type": "markdown",
   "metadata": {
    "slideshow": {
     "slide_type": "slide"
    }
   },
   "source": [
    "本节介绍了数据分组与聚合操作的基本概念、并通过简单例子来了解分组运算的过程。Pandas 中的聚合与分组运算功能强大，在后续节有更多详细介绍。"
   ]
  }
 ],
 "metadata": {
  "kernelspec": {
   "display_name": "Python 3",
   "language": "python",
   "name": "python3"
  },
  "language_info": {
   "codemirror_mode": {
    "name": "ipython",
    "version": 3
   },
   "file_extension": ".py",
   "mimetype": "text/x-python",
   "name": "python",
   "nbconvert_exporter": "python",
   "pygments_lexer": "ipython3",
   "version": "3.6.4"
  },
  "toc": {
   "base_numbering": 1,
   "nav_menu": {},
   "number_sections": true,
   "sideBar": true,
   "skip_h1_title": false,
   "title_cell": "Table of Contents",
   "title_sidebar": "Contents",
   "toc_cell": false,
   "toc_position": {},
   "toc_section_display": true,
   "toc_window_display": false
  }
 },
 "nbformat": 4,
 "nbformat_minor": 2
}
