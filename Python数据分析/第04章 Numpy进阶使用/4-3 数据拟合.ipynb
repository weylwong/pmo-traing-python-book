{
 "cells": [
  {
   "cell_type": "markdown",
   "metadata": {
    "slideshow": {
     "slide_type": "slide"
    }
   },
   "source": [
    "# 数据拟合\n",
    "\n",
    "给定一个样本$\\vec{x}$，有$n$个特征。使用列向量表示$(x^1, x^2, \\cdots, x^n)$，其中$x^i$表示第$i$个特征。线性模型的形式为：\n",
    "$$\n",
    "f(\\vec{x}) = \\vec{w} \\cdot \\vec{x} + b\n",
    "$$\n",
    "其中$\\vec{w}=(w^1, w^2, \\cdots, w^n)$是每个特征对应的权重生成的权重向量，用以表达各个特征在预测中的重要性。"
   ]
  },
  {
   "cell_type": "markdown",
   "metadata": {
    "slideshow": {
     "slide_type": "slide"
    }
   },
   "source": [
    "多项式函数的数学公式是：\n",
    "$$\n",
    "f(x) = a_0 + a_1x + a_2x^2 + \\cdots + a_nx^n\n",
    "$$\n",
    "\n",
    "给定一对数组，对数据进行多项式拟合是常遇到的工作。在 Numpy 中有多个与多项式有关的函数：\n",
    "- `numpy.polyfit()`，拟合函数，对一组数据进行多项式拟合，获得多项式系数；\n",
    "- `numpy.poly1d()`，根据多项式系数，构造多项式\n",
    "- `numpy.polyval()`，计算多项式函数的值。"
   ]
  },
  {
   "cell_type": "code",
   "execution_count": null,
   "metadata": {},
   "outputs": [],
   "source": [
    "import numpy as np\n",
    "import matplotlib.pyplot as plt\n",
    "%matplotlib inline"
   ]
  },
  {
   "cell_type": "markdown",
   "metadata": {
    "slideshow": {
     "slide_type": "slide"
    }
   },
   "source": [
    "## 直线拟合\n",
    "\n",
    "直线可以理解为一元多项式：\n",
    "$$\n",
    "f(x) = a_0 + a_1x\n",
    "$$\n",
    "\n",
    "下面根据一些数据来拟合一条直线："
   ]
  },
  {
   "cell_type": "code",
   "execution_count": null,
   "metadata": {
    "slideshow": {
     "slide_type": "slide"
    }
   },
   "outputs": [],
   "source": [
    "xdata = (0.21, 0.26, 0.27, 0.27, 0.45, 0.5, 0.8, 1.1, 1.4, 2.0)\n",
    "ydata = (130, 70, 185, 220, 200, 270, 300, 450, 500, 800)\n",
    "plt.plot(xdata, ydata, '.')"
   ]
  },
  {
   "cell_type": "code",
   "execution_count": null,
   "metadata": {
    "slideshow": {
     "slide_type": "slide"
    }
   },
   "outputs": [],
   "source": [
    "# 进行线性拟合（多项式为一元）\n",
    "deg = 1\n",
    "z1 = np.polyfit(xdata, ydata, deg)\n",
    "z1"
   ]
  },
  {
   "cell_type": "code",
   "execution_count": null,
   "metadata": {
    "slideshow": {
     "slide_type": "-"
    }
   },
   "outputs": [],
   "source": [
    "# 进行多项式计算\n",
    "x = np.arange(0, 2.2, 0.01)\n",
    "y = np.polyval(z1, x)"
   ]
  },
  {
   "cell_type": "code",
   "execution_count": null,
   "metadata": {
    "slideshow": {
     "slide_type": "slide"
    }
   },
   "outputs": [],
   "source": [
    "plt.plot(xdata, ydata, '.')\n",
    "plt.plot(x, y)\n",
    "plt.show()"
   ]
  },
  {
   "cell_type": "markdown",
   "metadata": {
    "slideshow": {
     "slide_type": "slide"
    }
   },
   "source": [
    "## 多项式拟合\n",
    "\n",
    "创建一个带有误差的正弦周期的数据集。"
   ]
  },
  {
   "cell_type": "code",
   "execution_count": null,
   "metadata": {
    "slideshow": {
     "slide_type": "-"
    }
   },
   "outputs": [],
   "source": [
    "xstart, xstop, ndata = -2*np.pi, 2*np.pi, 128\n",
    "xdata = np.linspace(xstart, xstop, ndata)\n",
    "ydata = np.sin(xdata) + np.random.normal(scale=0.5, size=ndata)\n",
    "plt.plot(xdata, ydata, '.')"
   ]
  },
  {
   "cell_type": "code",
   "execution_count": null,
   "metadata": {
    "slideshow": {
     "slide_type": "slide"
    }
   },
   "outputs": [],
   "source": [
    "# 分别用3、5, 7阶来拟合数据\n",
    "z1 = np.polyfit(xdata, ydata, 3)\n",
    "z2 = np.polyfit(xdata, ydata, 5)\n",
    "z3 = np.polyfit(xdata, ydata, 7)"
   ]
  },
  {
   "cell_type": "code",
   "execution_count": null,
   "metadata": {
    "slideshow": {
     "slide_type": "-"
    }
   },
   "outputs": [],
   "source": [
    "# 计算多项式值\n",
    "x = np.linspace(xstart, xstop, 1024)\n",
    "y1 = np.polyval(z1, x)\n",
    "y2 = np.polyval(z2, x)\n",
    "y3 = np.polyval(z3, x)"
   ]
  },
  {
   "cell_type": "code",
   "execution_count": null,
   "metadata": {
    "slideshow": {
     "slide_type": "slide"
    }
   },
   "outputs": [],
   "source": [
    "plt.plot(xdata, ydata, '.')\n",
    "plt.plot(x, y1, label='3')\n",
    "plt.plot(x, y2, label='5')\n",
    "plt.plot(x, y3, label='7')\n",
    "plt.legend()\n",
    "plt.show()"
   ]
  }
 ],
 "metadata": {
  "celltoolbar": "Slideshow",
  "kernelspec": {
   "display_name": "Python 3",
   "language": "python",
   "name": "python3"
  },
  "language_info": {
   "codemirror_mode": {
    "name": "ipython",
    "version": 3
   },
   "file_extension": ".py",
   "mimetype": "text/x-python",
   "name": "python",
   "nbconvert_exporter": "python",
   "pygments_lexer": "ipython3",
   "version": "3.6.4"
  },
  "toc": {
   "base_numbering": 1,
   "nav_menu": {},
   "number_sections": true,
   "sideBar": true,
   "skip_h1_title": false,
   "title_cell": "Table of Contents",
   "title_sidebar": "Contents",
   "toc_cell": false,
   "toc_position": {
    "height": "calc(100% - 180px)",
    "left": "10px",
    "top": "150px",
    "width": "196px"
   },
   "toc_section_display": true,
   "toc_window_display": true
  }
 },
 "nbformat": 4,
 "nbformat_minor": 2
}
