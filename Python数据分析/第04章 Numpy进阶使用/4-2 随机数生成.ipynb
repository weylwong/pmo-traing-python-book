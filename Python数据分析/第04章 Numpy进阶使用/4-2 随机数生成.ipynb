{
 "cells": [
  {
   "cell_type": "markdown",
   "metadata": {
    "slideshow": {
     "slide_type": "slide"
    }
   },
   "source": [
    "# 随机数生成\n",
    "\n",
    "Numpy 的子包 `random` 用来生成随机数，是对标准库 `random` 的补充，可以高效创建各种概率分布的样本值的函数。"
   ]
  },
  {
   "cell_type": "code",
   "execution_count": 3,
   "metadata": {
    "slideshow": {
     "slide_type": "-"
    }
   },
   "outputs": [],
   "source": [
    "import numpy as np\n",
    "import matplotlib.pyplot as plt\n",
    "%matplotlib inline"
   ]
  },
  {
   "cell_type": "markdown",
   "metadata": {
    "slideshow": {
     "slide_type": "slide"
    }
   },
   "source": [
    "## 随机数（random number）\n",
    "\n",
    "> 我确信上帝不会掷骰子\n",
    "\n",
    "> 生活就像一盒巧克力，你永远不知道下一颗是什么味道"
   ]
  },
  {
   "cell_type": "markdown",
   "metadata": {
    "slideshow": {
     "slide_type": "slide"
    }
   },
   "source": [
    "生活到底是命中注定还是随机发生，我们不得而知。但在现实生活或物理实验中，存在很多随机现象，例如掷硬币、赌博骰子，电子器件的噪声，核裂变等。\n",
    "\n",
    "上述物理现象会生成一些数字，称为随机数。要生成随机数，需要创建设备或设计一个试验。产生随机数的设备或试验称为随机数发生器（Random number generator）。"
   ]
  },
  {
   "cell_type": "markdown",
   "metadata": {
    "slideshow": {
     "slide_type": "slide"
    }
   },
   "source": [
    "随机数或随机事件是按照一定的分布概率随机产生的，其结果是不可预测的。在计算机中调用随机函数来生成随机数，这些随机函数也称为随机数发生器。\n",
    "\n",
    "与物理性的随机数发生器不同的是，计算机的随机数是用确定性的算法计算出来的，称为伪随机数（Pseudo Random Number）。物理随机数发生器产生的随机数称为真随机数（True Random Number）。\n",
    "\n",
    "伪随机数并不真正的随机，不过具有类似于随机数的统计特征，如均匀性、独立性等。要注意的是，伪随机数并非说随机数是假的，是指有一定规律的。例如在计算伪随机数时，如果随机数种子不变，则伪随机数的顺序不变。从某种意义上，伪随机数其实是有规律的，只不过规律周期比较长。"
   ]
  },
  {
   "cell_type": "markdown",
   "metadata": {
    "slideshow": {
     "slide_type": "slide"
    }
   },
   "source": [
    "## 自省\n",
    "\n",
    "使用内置函数``dir()`列出`numpy.random`子包的成员。"
   ]
  },
  {
   "cell_type": "code",
   "execution_count": 5,
   "metadata": {},
   "outputs": [
    {
     "name": "stdout",
     "output_type": "stream",
     "text": [
      "['Lock', 'RandomState', '__RandomState_ctor', '__all__', '__builtins__', '__cached__', '__doc__', '__file__', '__loader__', '__name__', '__package__', '__path__', '__spec__', '_numpy_tester', 'absolute_import', 'bench', 'beta', 'binomial', 'bytes', 'chisquare', 'choice', 'dirichlet', 'division', 'exponential', 'f', 'gamma', 'geometric', 'get_state', 'gumbel', 'hypergeometric', 'info', 'laplace', 'logistic', 'lognormal', 'logseries', 'mtrand', 'multinomial', 'multivariate_normal', 'negative_binomial', 'noncentral_chisquare', 'noncentral_f', 'normal', 'np', 'operator', 'pareto', 'permutation', 'poisson', 'power', 'print_function', 'rand', 'randint', 'randn', 'random', 'random_integers', 'random_sample', 'ranf', 'rayleigh', 'sample', 'seed', 'set_state', 'shuffle', 'standard_cauchy', 'standard_exponential', 'standard_gamma', 'standard_normal', 'standard_t', 'test', 'triangular', 'uniform', 'vonmises', 'wald', 'warnings', 'weibull', 'zipf']\n"
     ]
    }
   ],
   "source": [
    "print(dir(np.random))"
   ]
  },
  {
   "cell_type": "markdown",
   "metadata": {},
   "source": [
    "`np.random`提供有如下功能函数：\n",
    "- 随机数生成\n",
    "- 排列（Permutations¶）\n",
    "- 分布（Distributions）\n",
    "- 随机数"
   ]
  },
  {
   "cell_type": "markdown",
   "metadata": {},
   "source": [
    "## 随机数生成\n",
    "\n",
    "| 函数                             |  说明              |\n",
    "|:-----------------------------------------------|:--------------------------|\n",
    "| `rand(d0, d1, …, dn)`| 生成多维随机数（范围$[0,1)$） |\n",
    "| `randn(d0, d1, …, dn)`| 生成标准正态分布的随机数样本 |\n",
    "| `randint(low[, high, size, dtype])`| 生成随机整数（范围$[low, high]$）|\n",
    "| `random_integers(low[, high, size])`|  生成随机整数（范围$[low, high]$），数据类型为`np.int`|\n",
    "| `random_sample([size])`| 生成随机浮点数（范围$[0,1)$）|\n",
    "| `random([size])`| 生成随机浮点数（范围$[0,1)$）|\n",
    "| `ranf([size])`| 生成随机浮点数（范围$[0,1)$）|\n",
    "| `sample([size])`| 生成随机浮点数（范围$[0,1)$） |\n",
    "| `choice(a[, size, replace, p])`| 根据指定样本生成随机数 |\n",
    "| `bytes(length)`| 生成随机字节 |"
   ]
  },
  {
   "cell_type": "markdown",
   "metadata": {
    "slideshow": {
     "slide_type": "slide"
    }
   },
   "source": [
    "### `numpy.random.rand()`\n",
    "\n",
    "根据指定维度生成$[0,1)$之间的随机数据。"
   ]
  },
  {
   "cell_type": "code",
   "execution_count": 10,
   "metadata": {
    "slideshow": {
     "slide_type": "slide"
    }
   },
   "outputs": [
    {
     "data": {
      "text/plain": [
       "[<matplotlib.lines.Line2D at 0x7faa5ba46748>]"
      ]
     },
     "execution_count": 10,
     "metadata": {},
     "output_type": "execute_result"
    },
    {
     "data": {
      "image/png": "[encoded data removed]",
      "text/plain": [
       "<matplotlib.figure.Figure at 0x7faa5ba4d400>"
      ]
     },
     "metadata": {},
     "output_type": "display_data"
    }
   ],
   "source": [
    "data = np.random.rand(64)\n",
    "plt.plot(data, '.')"
   ]
  },
  {
   "cell_type": "code",
   "execution_count": 11,
   "metadata": {
    "slideshow": {
     "slide_type": "slide"
    }
   },
   "outputs": [
    {
     "data": {
      "text/plain": [
       "array([[0.00570064, 0.89375776],\n",
       "       [0.41011136, 0.07015828],\n",
       "       [0.25051242, 0.94477805]])"
      ]
     },
     "execution_count": 11,
     "metadata": {},
     "output_type": "execute_result"
    }
   ],
   "source": [
    "np.random.rand(3, 2)"
   ]
  },
  {
   "cell_type": "code",
   "execution_count": 14,
   "metadata": {
    "slideshow": {
     "slide_type": "slide"
    }
   },
   "outputs": [
    {
     "data": {
      "text/plain": [
       "array([[99.9494444 , 93.37614149],\n",
       "       [ 1.64525705, 98.74285693],\n",
       "       [41.89500345, 74.1122924 ]])"
      ]
     },
     "execution_count": 14,
     "metadata": {},
     "output_type": "execute_result"
    }
   ],
   "source": [
    "np.random.rand(3, 2) * 100"
   ]
  },
  {
   "cell_type": "markdown",
   "metadata": {
    "slideshow": {
     "slide_type": "slide"
    }
   },
   "source": [
    "### `numpy.random.randn()`\n",
    "\n",
    "返回一组具有标准正态分布的数据样本。\n",
    "\n",
    "标准正态分布是以0为均值、以1为标准差的正态分布。"
   ]
  },
  {
   "cell_type": "code",
   "execution_count": 18,
   "metadata": {
    "slideshow": {
     "slide_type": "slide"
    }
   },
   "outputs": [
    {
     "data": {
      "text/plain": [
       "[<matplotlib.lines.Line2D at 0x7faa5b75f400>]"
      ]
     },
     "execution_count": 18,
     "metadata": {},
     "output_type": "execute_result"
    },
    {
     "data": {
      "image/png": "[encoded data removed]",
      "text/plain": [
       "<matplotlib.figure.Figure at 0x7faa5b8cc160>"
      ]
     },
     "metadata": {},
     "output_type": "display_data"
    }
   ],
   "source": [
    "data = np.random.randn(128)\n",
    "plt.plot(data)"
   ]
  },
  {
   "cell_type": "code",
   "execution_count": 82,
   "metadata": {},
   "outputs": [
    {
     "data": {
      "image/png": "[encoded data removed]",
      "text/plain": [
       "<matplotlib.figure.Figure at 0x7faa599d41d0>"
      ]
     },
     "metadata": {},
     "output_type": "display_data"
    }
   ],
   "source": [
    "data = np.random.randn(1024)\n",
    "plt.hist(data, bins=21)\n",
    "plt.show()"
   ]
  },
  {
   "cell_type": "code",
   "execution_count": 22,
   "metadata": {
    "scrolled": true,
    "slideshow": {
     "slide_type": "slide"
    }
   },
   "outputs": [
    {
     "data": {
      "text/plain": [
       "array([[[ 1.03984829, -0.45311416],\n",
       "        [-0.29260699, -0.01848113],\n",
       "        [-1.05486403,  1.7031945 ]],\n",
       "\n",
       "       [[ 0.94941641, -0.95246731],\n",
       "        [ 1.38594529,  0.10235629],\n",
       "        [ 0.93473515, -0.55069474]],\n",
       "\n",
       "       [[ 2.65265373, -0.08460332],\n",
       "        [ 1.12504511, -0.75811843],\n",
       "        [-0.0065219 , -0.14928093]],\n",
       "\n",
       "       [[ 0.95313805, -0.29357846],\n",
       "        [ 0.3974193 , -1.47083433],\n",
       "        [ 0.76249298,  0.22662365]]])"
      ]
     },
     "execution_count": 22,
     "metadata": {},
     "output_type": "execute_result"
    }
   ],
   "source": [
    "np.random.randn(4,3,2)"
   ]
  },
  {
   "cell_type": "markdown",
   "metadata": {},
   "source": [
    "### `numpy.random.randint()`\n",
    "\n",
    "创建随机整数，范围区间为$[low,high）$。"
   ]
  },
  {
   "cell_type": "code",
   "execution_count": 51,
   "metadata": {
    "scrolled": true,
    "slideshow": {
     "slide_type": "slide"
    }
   },
   "outputs": [
    {
     "data": {
      "text/plain": [
       "[<matplotlib.lines.Line2D at 0x7faa5a14e748>]"
      ]
     },
     "execution_count": 51,
     "metadata": {},
     "output_type": "execute_result"
    },
    {
     "data": {
      "image/png": "[encoded data removed]",
      "text/plain": [
       "<matplotlib.figure.Figure at 0x7faa5a6652b0>"
      ]
     },
     "metadata": {},
     "output_type": "display_data"
    }
   ],
   "source": [
    "data = np.random.randint(100, 200, size=10)\n",
    "plt.plot(data, '.')"
   ]
  },
  {
   "cell_type": "markdown",
   "metadata": {
    "slideshow": {
     "slide_type": "slide"
    }
   },
   "source": [
    "### `numpy.random.random()`\n",
    "\n",
    "生成$[0,1)$之间的浮点数。与其它函数功能类似：\n",
    "- `numpy.random.random_sample()`\n",
    "- `numpy.random.ranf()`\n",
    "- `numpy.random.sample()`   "
   ]
  },
  {
   "cell_type": "code",
   "execution_count": 52,
   "metadata": {
    "slideshow": {
     "slide_type": "slide"
    }
   },
   "outputs": [
    {
     "data": {
      "text/plain": [
       "0.11451687973105285"
      ]
     },
     "execution_count": 52,
     "metadata": {},
     "output_type": "execute_result"
    }
   ],
   "source": [
    "np.random.random()"
   ]
  },
  {
   "cell_type": "code",
   "execution_count": 54,
   "metadata": {
    "slideshow": {
     "slide_type": "slide"
    }
   },
   "outputs": [
    {
     "data": {
      "text/plain": [
       "array([0.56633576, 0.42774905, 0.01683691, 0.77571805, 0.96641717,\n",
       "       0.13722912, 0.82928387, 0.45904039])"
      ]
     },
     "execution_count": 54,
     "metadata": {},
     "output_type": "execute_result"
    }
   ],
   "source": [
    "np.random.random(8)"
   ]
  },
  {
   "cell_type": "code",
   "execution_count": 55,
   "metadata": {
    "slideshow": {
     "slide_type": "slide"
    }
   },
   "outputs": [
    {
     "data": {
      "text/plain": [
       "[<matplotlib.lines.Line2D at 0x7faa5b57f908>]"
      ]
     },
     "execution_count": 55,
     "metadata": {},
     "output_type": "execute_result"
    },
    {
     "data": {
      "image/png": "[encoded data removed]",
      "text/plain": [
       "<matplotlib.figure.Figure at 0x7faa5a270668>"
      ]
     },
     "metadata": {},
     "output_type": "display_data"
    }
   ],
   "source": [
    "data = np.random.random(128)\n",
    "plt.plot(data, '.')"
   ]
  },
  {
   "cell_type": "markdown",
   "metadata": {
    "slideshow": {
     "slide_type": "slide"
    }
   },
   "source": [
    "### `numpy.random.choice()`\n",
    "\n",
    "从给定数组中随机选择，生成新的数组。"
   ]
  },
  {
   "cell_type": "code",
   "execution_count": 32,
   "metadata": {
    "slideshow": {
     "slide_type": "slide"
    }
   },
   "outputs": [
    {
     "data": {
      "text/plain": [
       "array(['R', 'C', 'R', 'R', 'C++'], dtype='<U6')"
      ]
     },
     "execution_count": 32,
     "metadata": {},
     "output_type": "execute_result"
    }
   ],
   "source": [
    "data = np.array(['Python', 'C', 'C++', 'Ruby', 'R'])\n",
    "np.random.choice(data, size=len(data))"
   ]
  },
  {
   "cell_type": "code",
   "execution_count": 33,
   "metadata": {
    "slideshow": {
     "slide_type": "-"
    }
   },
   "outputs": [
    {
     "data": {
      "text/plain": [
       "array(['C', 'R', 'Python', 'Ruby', 'C++'], dtype='<U6')"
      ]
     },
     "execution_count": 33,
     "metadata": {},
     "output_type": "execute_result"
    }
   ],
   "source": [
    "data = np.array(['Python', 'C', 'C++', 'Ruby', 'R'])\n",
    "np.random.choice(data, size=len(data), replace=False)"
   ]
  },
  {
   "cell_type": "markdown",
   "metadata": {
    "slideshow": {
     "slide_type": "slide"
    }
   },
   "source": [
    "### `numpy.random.bytes()`\n",
    "\n",
    "生成随机字节。"
   ]
  },
  {
   "cell_type": "code",
   "execution_count": 56,
   "metadata": {
    "slideshow": {
     "slide_type": "-"
    }
   },
   "outputs": [
    {
     "data": {
      "text/plain": [
       "b'*\\xbf~\\x17\\x99wX\\xefZ\\x04\\x0c\\x87_(\\x9eT(\\x17\\xd0V\\x80\\x1bI\\xd2\\x18M\\x81\\xbb\\x83\\x85vOV\\x8d\\xe4M\\xfes\\xefz\\xb6\\x1d`\\xda\\xec9\\x96\\x9d}\\xe1\\xce^\\x1a\\x99]s|\\xc2\\x93;\\xf9l&W\\xf0v<^=x\\xf0\\x0f\\xbc\\xecn\\xb1S\\xea\\x97\\x1e\"(\\xece\\xe0(\\xa2\\xa2\\x03\\x878T\\xba\\x9d6k\\x87e\\xe2\\xd9l\\xf4&U\\t\\x8bnQ^\\xf8\\xeb\\x06&W\\xff$\\xf5\\xf7\\xab\\xb2$\\xae1\\xf9\\xd7\\xb1\\xd9.'"
      ]
     },
     "execution_count": 56,
     "metadata": {},
     "output_type": "execute_result"
    }
   ],
   "source": [
    "np.random.bytes(128)"
   ]
  },
  {
   "cell_type": "markdown",
   "metadata": {
    "slideshow": {
     "slide_type": "slide"
    }
   },
   "source": [
    "## 排列（Permutations¶）\n",
    "\n",
    "| 函数       |  说明         |\n",
    "|:--------------|:------------------|\n",
    "| `shuffle(x)`| 随机修改数组 |\n",
    "| `permutation(x)`| 返回随机排列 |"
   ]
  },
  {
   "cell_type": "markdown",
   "metadata": {
    "slideshow": {
     "slide_type": "slide"
    }
   },
   "source": [
    "### `numpy.random.shffle()`\n",
    "\n",
    "随机修改数组内容，类似洗牌。"
   ]
  },
  {
   "cell_type": "code",
   "execution_count": 156,
   "metadata": {
    "slideshow": {
     "slide_type": "slide"
    }
   },
   "outputs": [
    {
     "name": "stdout",
     "output_type": "stream",
     "text": [
      "['Python' 'C' 'C++' 'Ruby' 'R']\n",
      "['Ruby' 'C++' 'Python' 'C' 'R']\n"
     ]
    }
   ],
   "source": [
    "data = np.array(['Python', 'C', 'C++', 'Ruby', 'R'])\n",
    "print(data)\n",
    "np.random.shuffle(data)\n",
    "print(data)"
   ]
  },
  {
   "cell_type": "code",
   "execution_count": 159,
   "metadata": {
    "slideshow": {
     "slide_type": "-"
    }
   },
   "outputs": [
    {
     "name": "stdout",
     "output_type": "stream",
     "text": [
      "[0 1 2 3 4 5 6 7 8 9]\n",
      "[9 0 2 7 5 6 8 1 3 4]\n"
     ]
    }
   ],
   "source": [
    "arr = np.arange(10)\n",
    "print(arr)\n",
    "np.random.shuffle(arr)\n",
    "print(arr)"
   ]
  },
  {
   "cell_type": "markdown",
   "metadata": {
    "slideshow": {
     "slide_type": "slide"
    }
   },
   "source": [
    "### `numpy.random.permutation`\n",
    "\n",
    "返回一个随机排列。"
   ]
  },
  {
   "cell_type": "code",
   "execution_count": 73,
   "metadata": {
    "slideshow": {
     "slide_type": "-"
    }
   },
   "outputs": [
    {
     "data": {
      "text/plain": [
       "array([51, 19,  3, 43, 18, 41, 32,  1,  2, 13, 22, 30, 52, 38,  6,  8, 25,\n",
       "       15, 26,  0, 16, 20, 35, 49, 44,  4, 37, 36, 31, 39,  5, 27, 10, 45,\n",
       "       48, 11, 21, 40, 17, 24, 28,  7, 50, 42,  9, 14, 46, 33, 23, 47, 29,\n",
       "       53, 12, 34])"
      ]
     },
     "execution_count": 73,
     "metadata": {},
     "output_type": "execute_result"
    }
   ],
   "source": [
    "np.random.permutation(54)"
   ]
  },
  {
   "cell_type": "markdown",
   "metadata": {
    "slideshow": {
     "slide_type": "slide"
    }
   },
   "source": [
    "## 分布（Distributions）\n",
    "\n",
    "调用下面函数会生成一个符合分布规律的样本。\n",
    "\n",
    "| 函数                             |  说明              |\n",
    "|:-----------------------------------------------|:--------------------------|\n",
    "| `beta(a, b[, size])`| 贝塔分布（Beta distribution） |\n",
    "| `binomial(n, p[, size])`| 二项分布（binomial distribution.） |\n",
    "| `chisquare(df[, size])`| 卡方分布（chi-square distribution）|\n",
    "| `dirichlet(alpha[, size])`| 狄利克雷分布（Dirichlet distribution）|\n",
    "| `exponential([scale, size])`| 指数分布（exponential distribution）|\n",
    "| `f(dfnum, dfden[, size])`| F分布（F distribution）|\n",
    "| `gamma(shape[, scale, size])`| 伽玛分布（Gamma distribution）|\n",
    "| `geometric(p[, size])`| 几何分布（geometric distribution）|\n",
    "| `gumbel([loc, scale, size])`| 耿贝尔分布（Gumbel distribution）|\n",
    "| `hypergeometric(ngood, nbad, nsample[, size])`| 超几何分布（Hypergeometric distribution）|\n",
    "| `laplace([loc, scale, size])`| 拉普拉斯分布（Laplace distribution）|\n",
    "| `logistic([loc, scale, size])`| 逻辑斯谛分布（logistic distribution） |\n",
    "| `lognormal([mean, sigma, size])`| 对数正态分布（log-normal distribution）|\n",
    "| `logseries(p[, size])`| 对数级数分布（logarithmic series distribution）|\n",
    "| `multinomial(n, pvals[, size])`| 多项分布（multinomial distribution）|\n",
    "| `multivariate_normal(mean, cov[, size, …)`| 多元正态分布（multivariate normal distribution）|\n",
    "| `negative_binomial(n, p[, size])`| 负二项分布（negative binomial distribution）|\n",
    "| `noncentral_chisquare(df, nonc[, size])`| 非中心卡方分布（noncentral chi-square distribution）|\n",
    "| `noncentral_f(dfnum, dfden, nonc[, size])`| 非中心f分布（noncentral F distribution）|\n",
    "| `normal([loc, scale, size])`| 正态（高斯）分布（normal distribution）|\n",
    "| `pareto(a[, size])`| Pareto分布|\n",
    "| `poisson([lam, size])`| 泊松分布（Poisson distribution）|\n",
    "| `power(a[, size])`| 正指数的功率分布（power distribution with positive exponent）|\n",
    "| `rayleigh([scale, size])`| 瑞利分布（Rayleigh distribution）|\n",
    "| `standard_cauchy([size])`| 标准柯西分布（standard Cauchy distribution）|\n",
    "| `standard_exponential([size])`| 标准指数分布（standard exponential distribution）|\n",
    "| `standard_gamma(shape[, size])`| 标准伽玛分布（standard Gamma distribution）|\n",
    "| `standard_normal([size])`| 标准正态分布（standard Normal distribution）|\n",
    "| `standard_t(df[, size])`| 标准学生t分布（standard Student’s t distribution）|\n",
    "| `triangular(left, mode, right[, size])`| 三角分布（triangular distribution）|\n",
    "| `uniform([low, high, size])`| 均匀分布（uniform distribution） |\n",
    "| `vonmises(mu, kappa[, size])`| von Mises分布|\n",
    "| `wald(mean, scale[, size])`| 瓦尔德分布（Wald distribution）或反高斯分布（inverse Gaussian distribution）|\n",
    "| `weibull(a[, size])`| 威布尔分布（Weibull distribution）|\n",
    "| `zipf(a[, size])`| 齐夫分布（Zipf distribution）|        "
   ]
  },
  {
   "cell_type": "markdown",
   "metadata": {
    "slideshow": {
     "slide_type": "slide"
    }
   },
   "source": [
    "### `numpy.random.normal()`\n",
    "\n",
    "`numpy.random.normal()`用来创建正态分布的样本数据。"
   ]
  },
  {
   "cell_type": "markdown",
   "metadata": {
    "slideshow": {
     "slide_type": "-"
    }
   },
   "source": [
    "正态分布式也称为高斯分布（Gauss distribution），是最常用的概率分布。在金融领域的很多模型都依赖于正态分布。"
   ]
  },
  {
   "cell_type": "markdown",
   "metadata": {
    "slideshow": {
     "slide_type": "slide"
    }
   },
   "source": [
    "概率密度函数为：\n",
    "$$\n",
    "f(x) = \\frac{1}{\\sigma\\sqrt{2\\pi}}e^{-\\frac{(x-\\mu)^2}{2\\sigma^2}}\n",
    "$$"
   ]
  },
  {
   "cell_type": "markdown",
   "metadata": {
    "slideshow": {
     "slide_type": "slide"
    }
   },
   "source": [
    "正态分布函数语法为：\n",
    "```\n",
    "normal(loc=0.0, scale=1.0, size=None)\n",
    "```\n",
    "其中：\n",
    "- `loc`为正态分布样本数据的期望值或均值，缺省为0；\n",
    "- `scale`为样本数据的标准差，缺省为1；\n",
    "- `size`为样本数据的数目"
   ]
  },
  {
   "cell_type": "code",
   "execution_count": 177,
   "metadata": {
    "slideshow": {
     "slide_type": "slide"
    }
   },
   "outputs": [
    {
     "data": {
      "text/plain": [
       "array([ 0.04486375, -0.09924298, -0.02259397, ..., -0.05337765,\n",
       "        0.02763654, -0.00072432])"
      ]
     },
     "execution_count": 177,
     "metadata": {},
     "output_type": "execute_result"
    }
   ],
   "source": [
    "mu, sigma = 0, 0.1 # mean and standard deviation\n",
    "data = np.random.normal(mu, sigma, 1024)\n",
    "data"
   ]
  },
  {
   "cell_type": "code",
   "execution_count": 178,
   "metadata": {
    "slideshow": {
     "slide_type": "-"
    }
   },
   "outputs": [
    {
     "name": "stdout",
     "output_type": "stream",
     "text": [
      "mean =  -0.006510593137800366\n",
      "standard deviation =  0.09843456074437612\n"
     ]
    }
   ],
   "source": [
    "print('mean = ', data.mean())\n",
    "print('standard deviation = ', data.std())"
   ]
  },
  {
   "cell_type": "code",
   "execution_count": 179,
   "metadata": {
    "slideshow": {
     "slide_type": "slide"
    }
   },
   "outputs": [
    {
     "data": {
      "image/png": "[encoded data removed]",
      "text/plain": [
       "<matplotlib.figure.Figure at 0x7faa592ccac8>"
      ]
     },
     "metadata": {},
     "output_type": "display_data"
    }
   ],
   "source": [
    "nbins = 30\n",
    "count, bins, ignored = plt.hist(data, nbins, normed=True)\n",
    "plt.plot(bins, 1/(sigma * np.sqrt(2 * np.pi)) * np.exp(-(bins-mu) ** 2 / (2*sigma**2)), linewidth=2, color='r')\n",
    "plt.show()"
   ]
  },
  {
   "cell_type": "markdown",
   "metadata": {
    "slideshow": {
     "slide_type": "slide"
    }
   },
   "source": [
    "### `numpy.random.uniform()`\n",
    "\n",
    "创建一个符合均匀分布的样本数据。\n",
    "\n",
    "在概率论和统计学中，均匀分布也叫矩形分布，它是对称概率分布，在相同长度间隔的分布概率是等可能的。均匀分布由两个参数定义，也就是最小值和最大值。"
   ]
  },
  {
   "cell_type": "markdown",
   "metadata": {
    "slideshow": {
     "slide_type": "slide"
    }
   },
   "source": [
    "`numpy.random.uniform()`的语法为：\n",
    "```\n",
    "uniform(low=0.0, high=1.0, size=None)\n",
    "```\n",
    "其中\n",
    "- `low`为最小值\n",
    "- `high`为最大值\n",
    "- `size`为样本数据大小"
   ]
  },
  {
   "cell_type": "code",
   "execution_count": 106,
   "metadata": {
    "slideshow": {
     "slide_type": "slide"
    }
   },
   "outputs": [
    {
     "data": {
      "text/plain": [
       "[<matplotlib.lines.Line2D at 0x7faa59dceac8>]"
      ]
     },
     "execution_count": 106,
     "metadata": {},
     "output_type": "execute_result"
    },
    {
     "data": {
      "image/png": "[encoded data removed]",
      "text/plain": [
       "<matplotlib.figure.Figure at 0x7faa59d6f2e8>"
      ]
     },
     "metadata": {},
     "output_type": "display_data"
    }
   ],
   "source": [
    "data = np.random.uniform(size=1024)\n",
    "plt.plot(data, '.')"
   ]
  },
  {
   "cell_type": "code",
   "execution_count": 107,
   "metadata": {
    "slideshow": {
     "slide_type": "slide"
    }
   },
   "outputs": [
    {
     "data": {
      "image/png": "[encoded data removed]",
      "text/plain": [
       "<matplotlib.figure.Figure at 0x7faa59a46be0>"
      ]
     },
     "metadata": {},
     "output_type": "display_data"
    }
   ],
   "source": [
    "plt.hist(data, 21)\n",
    "plt.show()"
   ]
  },
  {
   "cell_type": "markdown",
   "metadata": {
    "slideshow": {
     "slide_type": "slide"
    }
   },
   "source": [
    "### `numpy.random.binomial()`\n",
    "\n",
    "用于生成符合二项分布样本数据。"
   ]
  },
  {
   "cell_type": "markdown",
   "metadata": {
    "slideshow": {
     "slide_type": "slide"
    }
   },
   "source": [
    "伯努利试验（Bernoulli experiment）是在同样条件下重复地、相互独立地进行的一种随机试验，试验只有两种结果：成功或失败，黑或白，开或关。\n",
    "\n",
    "伯努利试验独立重复地进行了N次，则称之为N重伯努利试验或称为伯努利概型。"
   ]
  },
  {
   "cell_type": "markdown",
   "metadata": {
    "slideshow": {
     "slide_type": "-"
    }
   },
   "source": [
    "伯努利分布就是最简单的伯努利试验的数据样本。随机变量只有两个可能取值（1和0）。随机变量取值1的概率为$p$，则取值为0的概率为$1-p$。\n",
    "\n",
    "二项分布就是N重伯努利试验的数据样本。"
   ]
  },
  {
   "cell_type": "markdown",
   "metadata": {
    "slideshow": {
     "slide_type": "slide"
    }
   },
   "source": [
    "`numpy.random.binomial()`的调用语法为：\n",
    "```\n",
    "binomial(n, p, size=None)\n",
    "```\n",
    "其中：\n",
    "- `n`，伯努利试验次数\n",
    "- `p`，取值1的概率\n",
    "- `size`，样本数据大小。"
   ]
  },
  {
   "cell_type": "markdown",
   "metadata": {
    "slideshow": {
     "slide_type": "-"
    }
   },
   "source": [
    "在`numpy.random.binomial()`函数中，设置`n=1`会得到伯努利分布数据样本，指定`p=0.5`就是类似投掷硬币的结果。"
   ]
  },
  {
   "cell_type": "code",
   "execution_count": 182,
   "metadata": {
    "slideshow": {
     "slide_type": "slide"
    }
   },
   "outputs": [
    {
     "data": {
      "text/plain": [
       "[<matplotlib.lines.Line2D at 0x7faa599bf2b0>]"
      ]
     },
     "execution_count": 182,
     "metadata": {},
     "output_type": "execute_result"
    },
    {
     "data": {
      "image/png": "[encoded data removed]",
      "text/plain": [
       "<matplotlib.figure.Figure at 0x7faa59890128>"
      ]
     },
     "metadata": {},
     "output_type": "display_data"
    }
   ],
   "source": [
    "data = np.random.binomial(1, 0.3, 1024)\n",
    "plt.plot(data, '.')"
   ]
  },
  {
   "cell_type": "code",
   "execution_count": 183,
   "metadata": {
    "slideshow": {
     "slide_type": "slide"
    }
   },
   "outputs": [
    {
     "data": {
      "image/png": "[encoded data removed]",
      "text/plain": [
       "<matplotlib.figure.Figure at 0x7faa598ccb00>"
      ]
     },
     "metadata": {},
     "output_type": "display_data"
    }
   ],
   "source": [
    "plt.hist(data, 21)\n",
    "plt.show()"
   ]
  },
  {
   "cell_type": "markdown",
   "metadata": {
    "slideshow": {
     "slide_type": "slide"
    }
   },
   "source": [
    "假定掷硬币正面朝上的概率是0.5，可以连续掷20次，看看成功次数是如何分布："
   ]
  },
  {
   "cell_type": "code",
   "execution_count": 191,
   "metadata": {
    "slideshow": {
     "slide_type": "-"
    }
   },
   "outputs": [
    {
     "data": {
      "text/plain": [
       "[<matplotlib.lines.Line2D at 0x7faa59176978>]"
      ]
     },
     "execution_count": 191,
     "metadata": {},
     "output_type": "execute_result"
    },
    {
     "data": {
      "image/png": "[encoded data removed]",
      "text/plain": [
       "<matplotlib.figure.Figure at 0x7faa591d04a8>"
      ]
     },
     "metadata": {},
     "output_type": "display_data"
    }
   ],
   "source": [
    "data = np.random.binomial(20, 0.5, 1024*1024)\n",
    "plt.plot(data, '.')"
   ]
  },
  {
   "cell_type": "code",
   "execution_count": 193,
   "metadata": {
    "slideshow": {
     "slide_type": "slide"
    }
   },
   "outputs": [
    {
     "data": {
      "image/png": "[encoded data removed]",
      "text/plain": [
       "<matplotlib.figure.Figure at 0x7faa591c6ac8>"
      ]
     },
     "metadata": {},
     "output_type": "display_data"
    }
   ],
   "source": [
    "plt.hist(data, 19)\n",
    "plt.show()"
   ]
  },
  {
   "cell_type": "markdown",
   "metadata": {
    "slideshow": {
     "slide_type": "slide"
    }
   },
   "source": [
    "### `numpy.random.geometric()`\n",
    "\n",
    "生成符合几何分布的数据样本集。"
   ]
  },
  {
   "cell_type": "markdown",
   "metadata": {
    "slideshow": {
     "slide_type": "-"
    }
   },
   "source": [
    "几何分布（Geometric distribution）是离散型概率分布。在n次伯努利试验中，试验k次才得到第一次成功的机率。也就是说：前k-1次皆失败，第k次成功的概率。"
   ]
  },
  {
   "cell_type": "markdown",
   "metadata": {
    "slideshow": {
     "slide_type": "slide"
    }
   },
   "source": [
    "`numpy.random.geometric()`的调用语法为\n",
    "```\n",
    "geometric(p, size=None)\n",
    "```\n",
    "其中\n",
    "- `p`,成功概率"
   ]
  },
  {
   "cell_type": "code",
   "execution_count": 145,
   "metadata": {
    "slideshow": {
     "slide_type": "slide"
    }
   },
   "outputs": [
    {
     "data": {
      "text/plain": [
       "[<matplotlib.lines.Line2D at 0x7faa593c38d0>]"
      ]
     },
     "execution_count": 145,
     "metadata": {},
     "output_type": "execute_result"
    },
    {
     "data": {
      "image/png": "[encoded data removed]",
      "text/plain": [
       "<matplotlib.figure.Figure at 0x7faa59430b38>"
      ]
     },
     "metadata": {},
     "output_type": "display_data"
    }
   ],
   "source": [
    "data = np.random.geometric(p=0.35, size=1024)\n",
    "plt.plot(data, '.')"
   ]
  },
  {
   "cell_type": "code",
   "execution_count": 149,
   "metadata": {
    "slideshow": {
     "slide_type": "slide"
    }
   },
   "outputs": [
    {
     "data": {
      "image/png": "[encoded data removed]",
      "text/plain": [
       "<matplotlib.figure.Figure at 0x7faa592984e0>"
      ]
     },
     "metadata": {},
     "output_type": "display_data"
    }
   ],
   "source": [
    "plt.hist(data, 15)\n",
    "plt.show()"
   ]
  },
  {
   "cell_type": "markdown",
   "metadata": {
    "slideshow": {
     "slide_type": "slide"
    }
   },
   "source": [
    "## 随机数\n",
    "\n",
    "| 函数            |  说明              |\n",
    "|:---------------------|:--------------------------|\n",
    "| `RandomState([seed])`|伪随机数生成器容器 |\n",
    "| `seed([seed])`|\t设置随机数种子 |\n",
    "| `get_state()`|\t返回生成器状态 |\n",
    "| `set_state(state)`|\t设置生成器状态 |"
   ]
  },
  {
   "cell_type": "markdown",
   "metadata": {
    "slideshow": {
     "slide_type": "slide"
    }
   },
   "source": [
    "### `numpy.random.seed()`\n",
    "\n",
    "设置相同的seed，每次生成的随机数相同。"
   ]
  },
  {
   "cell_type": "code",
   "execution_count": 165,
   "metadata": {
    "slideshow": {
     "slide_type": "-"
    }
   },
   "outputs": [
    {
     "data": {
      "text/plain": [
       "array([0.5488135 , 0.71518937, 0.60276338, 0.54488318, 0.4236548 ])"
      ]
     },
     "execution_count": 165,
     "metadata": {},
     "output_type": "execute_result"
    }
   ],
   "source": [
    "np.random.seed(0)\n",
    "np.random.rand(5)"
   ]
  },
  {
   "cell_type": "code",
   "execution_count": 175,
   "metadata": {},
   "outputs": [
    {
     "data": {
      "text/plain": [
       "array([0.57019677, 0.43860151, 0.98837384, 0.10204481, 0.20887676])"
      ]
     },
     "execution_count": 175,
     "metadata": {},
     "output_type": "execute_result"
    }
   ],
   "source": [
    "np.random.rand(5)"
   ]
  },
  {
   "cell_type": "code",
   "execution_count": 75,
   "metadata": {
    "scrolled": true,
    "slideshow": {
     "slide_type": "-"
    }
   },
   "outputs": [
    {
     "data": {
      "text/plain": [
       "array([ 0, 91, 69, 21, 68])"
      ]
     },
     "execution_count": 75,
     "metadata": {},
     "output_type": "execute_result"
    }
   ],
   "source": [
    "np.random.seed(1676)\n",
    "np.random.randint(100, size=5)"
   ]
  }
 ],
 "metadata": {
  "celltoolbar": "Slideshow",
  "kernelspec": {
   "display_name": "Python 3",
   "language": "python",
   "name": "python3"
  },
  "language_info": {
   "codemirror_mode": {
    "name": "ipython",
    "version": 3
   },
   "file_extension": ".py",
   "mimetype": "text/x-python",
   "name": "python",
   "nbconvert_exporter": "python",
   "pygments_lexer": "ipython3",
   "version": "3.6.4"
  },
  "toc": {
   "base_numbering": 1,
   "nav_menu": {},
   "number_sections": true,
   "sideBar": true,
   "skip_h1_title": false,
   "title_cell": "Table of Contents",
   "title_sidebar": "Contents",
   "toc_cell": false,
   "toc_position": {
    "height": "calc(100% - 180px)",
    "left": "10px",
    "top": "150px",
    "width": "182px"
   },
   "toc_section_display": true,
   "toc_window_display": true
  }
 },
 "nbformat": 4,
 "nbformat_minor": 2
}
