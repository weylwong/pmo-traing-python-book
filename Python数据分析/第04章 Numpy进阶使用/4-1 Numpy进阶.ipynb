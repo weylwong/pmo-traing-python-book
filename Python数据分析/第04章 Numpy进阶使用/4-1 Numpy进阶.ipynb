{
 "cells": [
  {
   "cell_type": "markdown",
   "metadata": {
    "slideshow": {
     "slide_type": "slide"
    }
   },
   "source": [
    "# Numpy进阶\n",
    "\n",
    "Numpy 的数组对象是用于存储大数据集的结构类型实例，数组对象是同质、可变、可重复、有序、无映射的数据集：\n",
    "\n",
    "| 结构      | 同质 | 可变 | 重复 |  有序  | 映射 |\n",
    "|------------:|-----:|-----:|-----:|-----:|-----:|\n",
    "|列表（list） | 否   |  是 | 是   | 是 |  否  |\n",
    "|数组（ndarray）| 是   | 是 | 是   | 是 |  否  |\n",
    "\n",
    "本章将深入深入介绍数组对象更多细节，了解数组视图与深拷贝等概念，了解数组运算过程中的广播机制。介绍Numpy 中常用的随机数子包`np.random`、多项式拟合等功能函数，并通过一些实例来介绍 Numpy 的应用。"
   ]
  },
  {
   "cell_type": "code",
   "execution_count": 1,
   "metadata": {
    "slideshow": {
     "slide_type": "-"
    }
   },
   "outputs": [],
   "source": [
    "import numpy as np\n",
    "import matplotlib.pyplot as plt\n",
    "%matplotlib inline"
   ]
  },
  {
   "cell_type": "markdown",
   "metadata": {
    "slideshow": {
     "slide_type": "slide"
    }
   },
   "source": [
    "## 视图与深拷贝\n",
    "\n",
    "前面介绍过，数组对象的数据结构如图所示：\n",
    "![ndarray数据结构](../images/numpy_ndarray_type.png)\n",
    "\n",
    "数组的数据实际存放在对象属性`ndarray.data`所指对象，通过数组位置索引获取元素数据。Numpy 数组通常用于存储大数据集，数组对象的各种运算操作都会使用这些数据，数组数据的拷贝需要花费较多时间，故而数组对象的操作并非都需要数据拷贝。根据数组数据是否拷贝，可把数组对象的操作分为以下三种情况：\n",
    "- 完全不拷贝\n",
    "- 视图或浅拷贝\n",
    "- 深拷贝"
   ]
  },
  {
   "cell_type": "markdown",
   "metadata": {},
   "source": [
    "### 完全不拷贝\n",
    "\n",
    "Python 的赋值操作会创建一个新的变量，然后把变量绑定到一个对象。故而，通过赋值操作来创建一个变量，并指向已有数组对象，这种赋值操作不会拷贝任何数据："
   ]
  },
  {
   "cell_type": "code",
   "execution_count": 20,
   "metadata": {},
   "outputs": [
    {
     "data": {
      "text/plain": [
       "True"
      ]
     },
     "execution_count": 20,
     "metadata": {},
     "output_type": "execute_result"
    }
   ],
   "source": [
    "arr1 = np.array(range(1024))\n",
    "arr2 = arr1\n",
    "arr2 is arr1"
   ]
  },
  {
   "attachments": {},
   "cell_type": "markdown",
   "metadata": {},
   "source": [
    "### 视图或浅拷贝\n",
    "\n",
    "在 Numpy 中，数组对象的视图又称为浅拷贝，会创建一个新的数组对象，但会与原来的数组公用同一份数据。如下图所示：\n",
    "![Numpy 视图示意](../images/numpy_view_data.png)"
   ]
  },
  {
   "cell_type": "markdown",
   "metadata": {},
   "source": [
    "例如，下面使用切分创建新的数组对象："
   ]
  },
  {
   "cell_type": "code",
   "execution_count": 28,
   "metadata": {
    "slideshow": {
     "slide_type": "slide"
    }
   },
   "outputs": [],
   "source": [
    "arr1 = np.array(range(1024))\n",
    "arr2 = arr1[256:512]"
   ]
  },
  {
   "cell_type": "markdown",
   "metadata": {},
   "source": [
    "可以使用内置函数`id()`来查看两个数组对象的身份标识，或使用身份运算符比较："
   ]
  },
  {
   "cell_type": "code",
   "execution_count": 29,
   "metadata": {},
   "outputs": [
    {
     "name": "stdout",
     "output_type": "stream",
     "text": [
      "1842153120112 1842153120272 False\n"
     ]
    }
   ],
   "source": [
    "print(id(arr1), id(arr2), arr1 is arr2)"
   ]
  },
  {
   "cell_type": "markdown",
   "metadata": {},
   "source": [
    "由上可知，变量`arr1`与`arr2`指向两个数组对象。数组对象使用属性`ndarray.flags.owndata`来标识其数据是自己数据或是视图："
   ]
  },
  {
   "cell_type": "code",
   "execution_count": 30,
   "metadata": {},
   "outputs": [
    {
     "name": "stdout",
     "output_type": "stream",
     "text": [
      "True False\n"
     ]
    }
   ],
   "source": [
    "print(arr1.flags.owndata, arr2.flags.owndata)"
   ]
  },
  {
   "cell_type": "markdown",
   "metadata": {},
   "source": [
    "可以看出数组对象`arr1`的数据属于自身，而数组对象`arr1`则是视图。还可以通过数组对象属性`base`来检查数组视图数据来自哪个数组："
   ]
  },
  {
   "cell_type": "code",
   "execution_count": 31,
   "metadata": {},
   "outputs": [
    {
     "name": "stdout",
     "output_type": "stream",
     "text": [
      "True\n",
      "True\n"
     ]
    }
   ],
   "source": [
    "# 数组不是视图\n",
    "print(arr1.base is None)\n",
    "# arr2 是 arr1 的视图\n",
    "print(arr2.base is arr1)"
   ]
  },
  {
   "cell_type": "markdown",
   "metadata": {},
   "source": [
    "如果两个数组对象使用共享同一个数据，当其中更改数组中的数据，那么两个数组对应的数据都会得到更改："
   ]
  },
  {
   "cell_type": "code",
   "execution_count": 37,
   "metadata": {
    "slideshow": {
     "slide_type": "slide"
    }
   },
   "outputs": [
    {
     "name": "stdout",
     "output_type": "stream",
     "text": [
      "1 1 2 2\n",
      "1 1 2 2\n"
     ]
    }
   ],
   "source": [
    "# 原值\n",
    "print(arr1[256], arr2[0], arr1[257], arr2[1])\n",
    "# 更改\n",
    "arr2[0] = 1\n",
    "arr1[257] = 2 \n",
    "print(arr1[256], arr2[0], arr1[257], arr2[1])"
   ]
  },
  {
   "cell_type": "markdown",
   "metadata": {},
   "source": [
    "### 深拷贝\n",
    "\n",
    "有时候需要完全拷贝数组对象来创建全新的数组对象。数组对象提供有方法`ndarray.copy()`来实现："
   ]
  },
  {
   "cell_type": "code",
   "execution_count": 42,
   "metadata": {},
   "outputs": [
    {
     "name": "stdout",
     "output_type": "stream",
     "text": [
      "True True\n"
     ]
    }
   ],
   "source": [
    "arr3 = arr1.copy()\n",
    "print(arr1.base is None, arr3.base is None)"
   ]
  },
  {
   "cell_type": "markdown",
   "metadata": {},
   "source": [
    "此种情况下，更改数组中的元素，则互不影响："
   ]
  },
  {
   "cell_type": "code",
   "execution_count": 43,
   "metadata": {
    "slideshow": {
     "slide_type": "slide"
    }
   },
   "outputs": [
    {
     "name": "stdout",
     "output_type": "stream",
     "text": [
      "1 1\n",
      "1 0\n"
     ]
    }
   ],
   "source": [
    "print(arr1[256], arr3[256])\n",
    "arr3[256] = 0\n",
    "print(arr1[256], arr3[256])"
   ]
  },
  {
   "cell_type": "markdown",
   "metadata": {},
   "source": [
    "通过索引数组和布尔数组获取的数组对象都是深拷贝，也称之为`Fancy Indexing`。"
   ]
  },
  {
   "cell_type": "code",
   "execution_count": 45,
   "metadata": {},
   "outputs": [
    {
     "name": "stdout",
     "output_type": "stream",
     "text": [
      "True True\n"
     ]
    }
   ],
   "source": [
    "arr4 = arr1[arr1 % 10 == 0]\n",
    "print(arr1.base is None, arr4.base is None)"
   ]
  },
  {
   "cell_type": "markdown",
   "metadata": {},
   "source": [
    "在使用 Numpy 过程中，需要注意浅拷贝与深拷贝的区别。"
   ]
  },
  {
   "cell_type": "markdown",
   "metadata": {
    "slideshow": {
     "slide_type": "slide"
    }
   },
   "source": [
    "## 广播（broadcasting）\n",
    "\n",
    "数组一个好处是矢量化运算，即两个数组之间的运算支持元素级（element-wise）运行，直接进行数组的运算而不用写循环代码。"
   ]
  },
  {
   "cell_type": "code",
   "execution_count": 47,
   "metadata": {
    "slideshow": {
     "slide_type": "-"
    }
   },
   "outputs": [
    {
     "data": {
      "text/plain": [
       "array([0., 0., 0., 0.])"
      ]
     },
     "execution_count": 47,
     "metadata": {},
     "output_type": "execute_result"
    }
   ],
   "source": [
    "arr1 = np.array([1.0, 2.0, 3.0, 4.0])\n",
    "arr2 = np.array([-1.0, -2.0, -3.0, -4.0])\n",
    "arr1 + arr2"
   ]
  },
  {
   "cell_type": "markdown",
   "metadata": {
    "slideshow": {
     "slide_type": "slide"
    }
   },
   "source": [
    "当数组的维度不相同时，如何进行运算，会不会出现异常？\n",
    "\n",
    "Numpy 中的数组运算支持广播（broadcasting）。广播是不同形状的数组进行算术运算方式。Numpy中广播的规则如下：\n",
    "1. 如果数组的维数不等，则都向维数最多的数组看齐，维数较小的数组通过在前面加1补齐，直到维数相等；\n",
    "2. 依次比较两个数组每个维度的大小，当数组在某个维度长度为1，则可以沿这个维度进行扩充，直到维度大小相同。\n",
    "\n",
    "也就是说，两个数组的尾部维度（trailing dimension）的轴长度一致或者一方长度为1，则可以进行广播。广播会在缺失维度或长度为1的维度上进行。"
   ]
  },
  {
   "cell_type": "markdown",
   "metadata": {},
   "source": [
    "下面看一个最简单的广播方式，即数组与标量值之间的计算："
   ]
  },
  {
   "cell_type": "code",
   "execution_count": 48,
   "metadata": {
    "slideshow": {
     "slide_type": "-"
    }
   },
   "outputs": [
    {
     "data": {
      "text/plain": [
       "array([ 3.14159265,  6.28318531,  9.42477796, 12.56637061])"
      ]
     },
     "execution_count": 48,
     "metadata": {},
     "output_type": "execute_result"
    }
   ],
   "source": [
    "arr1 * np.pi"
   ]
  },
  {
   "cell_type": "markdown",
   "metadata": {
    "slideshow": {
     "slide_type": "-"
    }
   },
   "source": [
    "这里广播的功能，就是把圆周率标量值转换为与数组 `arr1` 维度一样的数组，再进行乘法。"
   ]
  },
  {
   "cell_type": "markdown",
   "metadata": {
    "slideshow": {
     "slide_type": "slide"
    }
   },
   "source": [
    "对于二维的情况，广播具有类似功能。例如一个二维数组"
   ]
  },
  {
   "cell_type": "code",
   "execution_count": 53,
   "metadata": {
    "slideshow": {
     "slide_type": "-"
    }
   },
   "outputs": [
    {
     "data": {
      "text/plain": [
       "array([[1., 2., 3.],\n",
       "       [3., 4., 5.],\n",
       "       [5., 6., 7.],\n",
       "       [7., 8., 9.]])"
      ]
     },
     "execution_count": 53,
     "metadata": {},
     "output_type": "execute_result"
    }
   ],
   "source": [
    "arr2 = np.array([[1.0, 2.0, 3.0], [3.0, 4.0, 5.0], [5.0, 6.0, 7.0], [7.0, 8.0, 9.0]])\n",
    "arr2"
   ]
  },
  {
   "cell_type": "code",
   "execution_count": 54,
   "metadata": {
    "slideshow": {
     "slide_type": "slide"
    }
   },
   "outputs": [
    {
     "data": {
      "text/plain": [
       "array([4., 5., 6.])"
      ]
     },
     "execution_count": 54,
     "metadata": {},
     "output_type": "execute_result"
    }
   ],
   "source": [
    "# 计算平均值\n",
    "arr2.mean(axis=0)"
   ]
  },
  {
   "cell_type": "code",
   "execution_count": 55,
   "metadata": {
    "slideshow": {
     "slide_type": "-"
    }
   },
   "outputs": [
    {
     "data": {
      "text/plain": [
       "array([[-3., -3., -3.],\n",
       "       [-1., -1., -1.],\n",
       "       [ 1.,  1.,  1.],\n",
       "       [ 3.,  3.,  3.]])"
      ]
     },
     "execution_count": 55,
     "metadata": {},
     "output_type": "execute_result"
    }
   ],
   "source": [
    "demeaned = arr2 - arr2.mean(axis=0)\n",
    "demeaned"
   ]
  },
  {
   "cell_type": "markdown",
   "metadata": {
    "slideshow": {
     "slide_type": "slide"
    }
   },
   "source": [
    "这里广播的作用就是把低纬度的值扩展到高纬度上去。"
   ]
  },
  {
   "cell_type": "markdown",
   "metadata": {},
   "source": [
    "广播的功能强大，但难于理解，容易出错。使用时要注意。"
   ]
  }
 ],
 "metadata": {
  "kernelspec": {
   "display_name": "Python 3",
   "language": "python",
   "name": "python3"
  },
  "language_info": {
   "codemirror_mode": {
    "name": "ipython",
    "version": 3
   },
   "file_extension": ".py",
   "mimetype": "text/x-python",
   "name": "python",
   "nbconvert_exporter": "python",
   "pygments_lexer": "ipython3",
   "version": "3.6.4"
  },
  "toc": {
   "base_numbering": 1,
   "nav_menu": {},
   "number_sections": true,
   "sideBar": true,
   "skip_h1_title": false,
   "title_cell": "Table of Contents",
   "title_sidebar": "Contents",
   "toc_cell": false,
   "toc_position": {
    "height": "calc(100% - 180px)",
    "left": "10px",
    "top": "150px",
    "width": "196px"
   },
   "toc_section_display": true,
   "toc_window_display": true
  }
 },
 "nbformat": 4,
 "nbformat_minor": 2
}
