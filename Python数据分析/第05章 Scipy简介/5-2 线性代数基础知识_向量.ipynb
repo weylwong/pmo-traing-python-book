{
 "cells": [
  {
   "cell_type": "markdown",
   "metadata": {
    "slideshow": {
     "slide_type": "slide"
    }
   },
   "source": [
    "# 线性代数基础知识：向量\n",
    "\n",
    "- 掌握向量的概念\n",
    "- 掌握向量的计算规则\n",
    "- 掌握Python中向量的表示方法"
   ]
  },
  {
   "cell_type": "markdown",
   "metadata": {},
   "source": [
    "## 什么是向量"
   ]
  },
  {
   "cell_type": "markdown",
   "metadata": {},
   "source": [
    "- 在二维和三维空间中，一个有方向的线段就称为向量\n",
    "\n",
    "![二维向量](../images/scipy_vector2d.png)\n",
    "\n",
    "![三维向量](../images/scipy_vector3d.png) "
   ]
  },
  {
   "cell_type": "markdown",
   "metadata": {},
   "source": [
    "- n维空间中的向量，可以用一个$n$元组来表示：$(𝑥_1, 𝑥_2, …, 𝑥_𝑛 )$\n",
    "    - $x_i$表示第$𝑖$个维度上的大小\n",
    "    - 向量可以理解为$n$维空间中的一个点\n",
    "    - 它的方向即为原点到这个点连线的方向\n"
   ]
  },
  {
   "cell_type": "markdown",
   "metadata": {},
   "source": [
    "## 向量的运算\n",
    "\n",
    "- 定义了两种二元运算\n",
    "\n",
    "    - 向量加法：两个向量相加（相同位置相加）得到第三个向量，记为$𝒖+𝒗$\n",
    "    - 向量数乘：一个数和向量相乘（与每个元素相乘）得到第三个向量，记为$𝑎∙𝒖$\n"
   ]
  },
  {
   "cell_type": "markdown",
   "metadata": {},
   "source": [
    "- 运算满足以下公理\n",
    "    - 向量加法结合律：$𝒖+(𝒗+𝒘)=(𝒖+𝒗)+𝒘$\n",
    "    - 向量加法交换律：$𝒖+𝒗=𝒗+𝒖$\n",
    "    - 存在零向量（记为𝟎），使得 $𝒖+𝟎=𝒖$\n",
    "    - 存在向量加法的逆元素𝒗，使得$𝒖+𝒗=𝟎$\n",
    "    - 数乘分配律：$𝑎∙(𝒖+𝒗)=𝑎∙𝒖+𝑎∙𝒗， (𝑎+b)∙𝒖=𝑎∙𝒖+𝑏∙𝒖$\n",
    "    - 乘法相容：$𝑎(𝑏∙𝒖)=(𝑎𝑏)∙𝒖$\n",
    "    - 数乘存在单位元：$1∙𝒖=𝒖$"
   ]
  },
  {
   "cell_type": "markdown",
   "metadata": {},
   "source": [
    "## Python中的向量表示"
   ]
  },
  {
   "cell_type": "code",
   "execution_count": 1,
   "metadata": {
    "slideshow": {
     "slide_type": "slide"
    }
   },
   "outputs": [],
   "source": [
    "import numpy as np"
   ]
  },
  {
   "cell_type": "code",
   "execution_count": 2,
   "metadata": {
    "slideshow": {
     "slide_type": "slide"
    }
   },
   "outputs": [
    {
     "data": {
      "text/plain": [
       "array([1, 2])"
      ]
     },
     "execution_count": 2,
     "metadata": {},
     "output_type": "execute_result"
    }
   ],
   "source": [
    "# 创建一个二维向量\n",
    "x = np.array([1, 2])\n",
    "x"
   ]
  },
  {
   "cell_type": "code",
   "execution_count": 3,
   "metadata": {
    "slideshow": {
     "slide_type": "slide"
    }
   },
   "outputs": [
    {
     "data": {
      "text/plain": [
       "array([3, 5])"
      ]
     },
     "execution_count": 3,
     "metadata": {},
     "output_type": "execute_result"
    }
   ],
   "source": [
    "# 向量加法\n",
    "x1 = np.array([1, 2])\n",
    "x2 = np.array([2, 3])\n",
    "x1 + x2"
   ]
  },
  {
   "cell_type": "code",
   "execution_count": 4,
   "metadata": {
    "slideshow": {
     "slide_type": "slide"
    }
   },
   "outputs": [
    {
     "data": {
      "text/plain": [
       "array([3, 6])"
      ]
     },
     "execution_count": 4,
     "metadata": {},
     "output_type": "execute_result"
    }
   ],
   "source": [
    "# 向量数乘\n",
    "x1 = np.array([1, 2])\n",
    "3 * x1"
   ]
  },
  {
   "cell_type": "code",
   "execution_count": 5,
   "metadata": {
    "slideshow": {
     "slide_type": "slide"
    }
   },
   "outputs": [
    {
     "data": {
      "text/plain": [
       "array([1, 2, 3])"
      ]
     },
     "execution_count": 5,
     "metadata": {},
     "output_type": "execute_result"
    }
   ],
   "source": [
    "# 创建一个三维向量\n",
    "x = np.array([1, 2, 3])\n",
    "x"
   ]
  },
  {
   "cell_type": "code",
   "execution_count": 6,
   "metadata": {
    "slideshow": {
     "slide_type": "slide"
    }
   },
   "outputs": [
    {
     "data": {
      "text/plain": [
       "array([3, 5, 7])"
      ]
     },
     "execution_count": 6,
     "metadata": {},
     "output_type": "execute_result"
    }
   ],
   "source": [
    "# 向量加法\n",
    "x1 = np.array([1, 2, 3])\n",
    "x2 = np.array([2, 3, 4])\n",
    "x1 + x2"
   ]
  },
  {
   "cell_type": "code",
   "execution_count": 7,
   "metadata": {
    "scrolled": true,
    "slideshow": {
     "slide_type": "slide"
    }
   },
   "outputs": [
    {
     "data": {
      "text/plain": [
       "array([3, 6, 9])"
      ]
     },
     "execution_count": 7,
     "metadata": {},
     "output_type": "execute_result"
    }
   ],
   "source": [
    "# 向量数乘\n",
    "x1 = np.array([1, 2, 3])\n",
    "3 * x1"
   ]
  },
  {
   "cell_type": "markdown",
   "metadata": {
    "slideshow": {
     "slide_type": "slide"
    }
   },
   "source": [
    "## 运算公理"
   ]
  },
  {
   "cell_type": "code",
   "execution_count": 8,
   "metadata": {
    "slideshow": {
     "slide_type": "slide"
    }
   },
   "outputs": [],
   "source": [
    "u = np.array([1, 2])\n",
    "v = np.array([3, 4])\n",
    "w = np.array([5, 6])"
   ]
  },
  {
   "cell_type": "code",
   "execution_count": 12,
   "metadata": {
    "slideshow": {
     "slide_type": "slide"
    }
   },
   "outputs": [
    {
     "name": "stdout",
     "output_type": "stream",
     "text": [
      "u + (v + w) =  [ 9 12]\n",
      "(u + v) + w =  [ 9 12]\n"
     ]
    }
   ],
   "source": [
    "# 向量加法结合律\n",
    "print('u + (v + w) = ', u + (v + w))\n",
    "print('(u + v) + w = ', (u + v) + w)"
   ]
  },
  {
   "cell_type": "code",
   "execution_count": 13,
   "metadata": {
    "slideshow": {
     "slide_type": "slide"
    }
   },
   "outputs": [
    {
     "name": "stdout",
     "output_type": "stream",
     "text": [
      "u + v =  [4 6]\n",
      "v + u =  [4 6]\n"
     ]
    }
   ],
   "source": [
    "# 向量加法交换律\n",
    "print('u + v = ', u + v)\n",
    "print('v + u = ', v + u)"
   ]
  },
  {
   "cell_type": "code",
   "execution_count": 14,
   "metadata": {
    "slideshow": {
     "slide_type": "slide"
    }
   },
   "outputs": [
    {
     "name": "stdout",
     "output_type": "stream",
     "text": [
      "u + 0 = [1 2]\n"
     ]
    }
   ],
   "source": [
    "# 零向量\n",
    "print('u + 0 =', u + np.zeros_like(u))"
   ]
  },
  {
   "cell_type": "code",
   "execution_count": 15,
   "metadata": {},
   "outputs": [
    {
     "name": "stdout",
     "output_type": "stream",
     "text": [
      "u + (-u) = [0 0]\n"
     ]
    }
   ],
   "source": [
    "# 逆元素\n",
    "print('u + (-u) =', u + (-u))"
   ]
  },
  {
   "cell_type": "code",
   "execution_count": 16,
   "metadata": {},
   "outputs": [
    {
     "name": "stdout",
     "output_type": "stream",
     "text": [
      "2 * (u + v) = [ 8 12]\n",
      "2 * u + 2 * v = [ 8 12]\n"
     ]
    }
   ],
   "source": [
    "# 数乘分配律：相对于向量加法\n",
    "print('2 * (u + v) = ', 2 * (u + v))\n",
    "print('2 * u + 2 * v = ', 2 * u + 2 * v)"
   ]
  },
  {
   "cell_type": "code",
   "execution_count": 17,
   "metadata": {},
   "outputs": [
    {
     "name": "stdout",
     "output_type": "stream",
     "text": [
      "(2 + 3) * u =  [ 5 10]\n",
      "2 * u + 3 * u =  [ 5 10]\n"
     ]
    }
   ],
   "source": [
    "# 数乘分配律：相对于域加法\n",
    "print('(2 + 3) * u = ', (2 + 3) * u)\n",
    "print('2 * u + 3 * u = ', 2 * u + 3 * u)"
   ]
  },
  {
   "cell_type": "code",
   "execution_count": 18,
   "metadata": {},
   "outputs": [
    {
     "name": "stdout",
     "output_type": "stream",
     "text": [
      "2 * (3 * u) =  [ 6 12]\n",
      "(2 * 3) * u =  [ 6 12]\n"
     ]
    }
   ],
   "source": [
    "# 乘法相容\n",
    "print('2 * (3 * u) = ', 2 * (3 * u))\n",
    "print('(2 * 3) * u = ', (2 * 3) * u)"
   ]
  },
  {
   "cell_type": "code",
   "execution_count": 19,
   "metadata": {},
   "outputs": [
    {
     "name": "stdout",
     "output_type": "stream",
     "text": [
      "1 * u = [1 2]\n"
     ]
    }
   ],
   "source": [
    "# 数乘单位元\n",
    "print('1 * u =', 1 * u)"
   ]
  }
 ],
 "metadata": {
  "kernelspec": {
   "display_name": "Python 3",
   "language": "python",
   "name": "python3"
  },
  "language_info": {
   "codemirror_mode": {
    "name": "ipython",
    "version": 3
   },
   "file_extension": ".py",
   "mimetype": "text/x-python",
   "name": "python",
   "nbconvert_exporter": "python",
   "pygments_lexer": "ipython3",
   "version": "3.6.4"
  },
  "toc": {
   "base_numbering": 1,
   "nav_menu": {},
   "number_sections": true,
   "sideBar": true,
   "skip_h1_title": false,
   "title_cell": "Table of Contents",
   "title_sidebar": "Contents",
   "toc_cell": false,
   "toc_position": {},
   "toc_section_display": true,
   "toc_window_display": false
  }
 },
 "nbformat": 4,
 "nbformat_minor": 2
}
