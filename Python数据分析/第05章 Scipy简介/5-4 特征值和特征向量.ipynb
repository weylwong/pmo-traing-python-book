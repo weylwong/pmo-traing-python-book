{
 "cells": [
  {
   "cell_type": "markdown",
   "metadata": {},
   "source": [
    "# 特征值和特征向量\n",
    "\n",
    "- 了解特征值和特征向量的概念\n",
    "- 掌握计算方法\n",
    "- 了解它的主要应用\n"
   ]
  },
  {
   "cell_type": "markdown",
   "metadata": {},
   "source": [
    "## 矩阵是线性变换\n",
    "\n",
    "![线性变换](../images/scipy_transform.png)"
   ]
  },
  {
   "cell_type": "markdown",
   "metadata": {},
   "source": [
    "> 是不是任何向量在经过线性变换之后方向都会改变？\n"
   ]
  },
  {
   "cell_type": "markdown",
   "metadata": {},
   "source": [
    "## 特征值和特征向量\n",
    "\n",
    "- 对于一个矩阵A，如果𝐴𝒗=𝜆𝒗，那么𝒗是一个特征向量，𝜆为相应的特征值\n",
    "    - 对于特征向量来说，在经过矩阵A变换之后，新的向量和原来方向一样（或相反），长度改变\n",
    "    - 计算方法：可参考[维基百科](https://zh.wikipedia.org/wiki/%E7%89%B9%E5%BE%81%E5%80%BC%E5%92%8C%E7%89%B9%E5%BE%81%E5%90%91%E9%87%8F#.E8.AE.A1.E7.AE.97.E7.9F.A9.E9.98.B5.E7.9A.84.E7.89.B9.E5.BE.81.E5.80.BC.E5.92.8C.E7.89.B9.E5.BE.81.E5.90.91.E9.87.8F)"
   ]
  },
  {
   "cell_type": "markdown",
   "metadata": {},
   "source": [
    "- Python中可使用scipy.linalg.eig(A)计算矩阵A的特征值和特征向量\n",
    "    - 返回值：\n",
    "        - w：特征值，按从大到小\n",
    "        - v：特征向量，每一列为相应特征值对应的特征向量\n",
    "        \n",
    "![特征向量](../images/scipy_432.png)"
   ]
  },
  {
   "cell_type": "markdown",
   "metadata": {},
   "source": [
    "## 特征值和特征向量的应用\n",
    "\n",
    "- 主成分分析（PCA, Principle Component Analysis）\n",
    "- PageRank\n",
    "- 人脸识别"
   ]
  },
  {
   "cell_type": "markdown",
   "metadata": {},
   "source": [
    "- 主成分分析（PCA, Principle Component Analysis）\n",
    "    - 选取特征值最高的k个特征向量来表示一个矩阵\n",
    "    - 主要用于降维和特征显示\n",
    "    \n",
    "![主成分分析](../images/scipy_433.png)"
   ]
  },
  {
   "cell_type": "markdown",
   "metadata": {},
   "source": [
    "- PageRank\n",
    "    - 通过计算状态转移矩阵在稳定状态下的特征向量来给每一个节点打分\n",
    "    \n",
    " ![特征向量](../images/scipy_434.png)"
   ]
  },
  {
   "cell_type": "markdown",
   "metadata": {},
   "source": [
    "- 人脸识别\n",
    "    - 使用特征向量将人脸表示为特征脸，任何面部图像都可以表达为它们的线性组合\n",
    "![图4_3.5.png](图4.3.5.png)"
   ]
  },
  {
   "cell_type": "code",
   "execution_count": 2,
   "metadata": {},
   "outputs": [],
   "source": [
    "import numpy as np\n",
    "from scipy.linalg import eig"
   ]
  },
  {
   "cell_type": "code",
   "execution_count": 3,
   "metadata": {},
   "outputs": [],
   "source": [
    "import matplotlib\n",
    "from matplotlib import pyplot as plt\n",
    "\n",
    "# 定义作图函数\n",
    "\n",
    "# 画一个网格\n",
    "def display_mat(plt, vmat, color='b'):\n",
    "    for i in range(vmat.shape[0]):\n",
    "        plt.plot([vmat[i, 0, 0], vmat[i, -1, 0]], [vmat[i, 0, 1], vmat[i, -1, 1]], color=color)\n",
    "    for j in range(vmat.shape[1]):\n",
    "        plt.plot([vmat[0, j, 0], vmat[-1, j, 0]], [vmat[0, j, 1], vmat[-1, j, 1]], color=color)\n",
    "\n",
    "# 画两个网格，蓝色=变换前的网格，绿色=变换后的网格\n",
    "# 参数\n",
    "# mat: 变换矩阵\n",
    "# x: 网格中x的取值\n",
    "# y: 网格中y的取值\n",
    "# 返回值\n",
    "# z: 变换前的网格\n",
    "# za: 变换后的网格\n",
    "def display(mat, x=None, y=None):\n",
    "    x = np.arange(-2, 8, 1) if x is None else x\n",
    "    y = np.arange(-2, 8, 1) if y is None else y\n",
    "    z = np.stack(np.meshgrid(x, y), axis=2)\n",
    "    display_mat(plt, z)\n",
    "    za = np.empty_like(z, dtype=np.float_)\n",
    "    for i in range(z.shape[0]):\n",
    "        for j in range(z.shape[1]):\n",
    "            za[i, j, :] = mat.dot(z[i, j, :].reshape((-1,1))).ravel()\n",
    "    display_mat(plt, za, color='g')\n",
    "    w, v = eig(mat)\n",
    "    wreal = np.real(w)\n",
    "    plt.axes().set_aspect('equal')\n",
    "    plt.arrow(0, 0, wreal[0]*v[0,0], wreal[0]*v[1,0], color='r')\n",
    "    plt.arrow(0, 0, wreal[1]*v[0,1], wreal[1]*v[1,1], color='r')\n",
    "    plt.show()"
   ]
  },
  {
   "cell_type": "code",
   "execution_count": 4,
   "metadata": {},
   "outputs": [],
   "source": [
    "A = np.array([[1,0.5], [0.5,1]])\n",
    "# 计算特征值和特征向量\n",
    "w, v = eig(A)"
   ]
  },
  {
   "cell_type": "code",
   "execution_count": 5,
   "metadata": {},
   "outputs": [
    {
     "data": {
      "text/plain": [
       "array([1.5+0.j, 0.5+0.j])"
      ]
     },
     "execution_count": 5,
     "metadata": {},
     "output_type": "execute_result"
    }
   ],
   "source": [
    "# 特征值\n",
    "w"
   ]
  },
  {
   "cell_type": "code",
   "execution_count": 6,
   "metadata": {},
   "outputs": [
    {
     "data": {
      "text/plain": [
       "array([[ 0.70710678, -0.70710678],\n",
       "       [ 0.70710678,  0.70710678]])"
      ]
     },
     "execution_count": 6,
     "metadata": {},
     "output_type": "execute_result"
    }
   ],
   "source": [
    "# 特征向量\n",
    "v"
   ]
  },
  {
   "cell_type": "code",
   "execution_count": 7,
   "metadata": {},
   "outputs": [
    {
     "name": "stderr",
     "output_type": "stream",
     "text": [
      "C:\\Anaconda3\\lib\\site-packages\\matplotlib\\cbook\\deprecation.py:106: MatplotlibDeprecationWarning: Adding an axes using the same arguments as a previous axes currently reuses the earlier instance.  In a future version, a new instance will always be created and returned.  Meanwhile, this warning can be suppressed, and the future behavior ensured, by passing a unique label to each axes instance.\n",
      "  warnings.warn(message, mplDeprecation, stacklevel=1)\n"
     ]
    },
    {
     "data": {
      "image/png": "[encoded data removed]",
      "text/plain": [
       "<matplotlib.figure.Figure at 0x1d10d3ac8d0>"
      ]
     },
     "metadata": {},
     "output_type": "display_data"
    }
   ],
   "source": [
    "# 蓝色网格：变换前\n",
    "# 绿色网格：变换后\n",
    "# 红色：特征向量\n",
    "display(A)"
   ]
  }
 ],
 "metadata": {
  "kernelspec": {
   "display_name": "Python 3",
   "language": "python",
   "name": "python3"
  },
  "language_info": {
   "codemirror_mode": {
    "name": "ipython",
    "version": 3
   },
   "file_extension": ".py",
   "mimetype": "text/x-python",
   "name": "python",
   "nbconvert_exporter": "python",
   "pygments_lexer": "ipython3",
   "version": "3.6.4"
  },
  "toc": {
   "base_numbering": 1,
   "nav_menu": {},
   "number_sections": true,
   "sideBar": true,
   "skip_h1_title": false,
   "title_cell": "Table of Contents",
   "title_sidebar": "Contents",
   "toc_cell": false,
   "toc_position": {},
   "toc_section_display": true,
   "toc_window_display": false
  }
 },
 "nbformat": 4,
 "nbformat_minor": 2
}
