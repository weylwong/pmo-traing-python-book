{
 "cells": [
  {
   "cell_type": "markdown",
   "metadata": {},
   "source": [
    "# 求解线性方程组"
   ]
  },
  {
   "cell_type": "markdown",
   "metadata": {},
   "source": [
    "## 鸡兔同笼问题\n",
    "- 《孙子算经》\n",
    "    - 今有雉、兔同笼，上有三十五头，下九十四足。问雉、兔各几何？\n",
    "    - 翻译成现代汉语：现在笼子里有鸡（雉）和兔子在一起。从上面数一共有三十五个头，从下面数一共有九十四只脚，问一共有多少只鸡、多少只兔子？\n"
   ]
  },
  {
   "cell_type": "markdown",
   "metadata": {},
   "source": [
    "- 设鸡有x只，兔有y只\n",
    "\n",
    "![鸡兔同笼](../images/scipy_441.png)"
   ]
  },
  {
   "cell_type": "markdown",
   "metadata": {},
   "source": [
    "## 利用Scipy求解线性方程组\n",
    "\n",
    "- scipy.linalg.solve(A, b)\n",
    "\n",
    "    - $𝐴𝑥=𝑏$，A为方阵，x和b为列向量\n",
    "    - $𝐴^{−1} 𝐴𝑥=𝐴^{−1} 𝑏$\n",
    "    - $𝐼𝑥=𝐴^{−1} 𝑏$\n",
    "    - $𝑥=𝐴^{−1} 𝑏$\n"
   ]
  },
  {
   "cell_type": "code",
   "execution_count": 1,
   "metadata": {},
   "outputs": [],
   "source": [
    "import numpy as np\n",
    "from scipy import linalg"
   ]
  },
  {
   "cell_type": "code",
   "execution_count": 2,
   "metadata": {},
   "outputs": [
    {
     "name": "stdout",
     "output_type": "stream",
     "text": [
      "鸡 23 只，兔 12 只。\n"
     ]
    }
   ],
   "source": [
    "# 鸡兔同笼问题\n",
    "# 今有雉、兔同笼，上有三十五头，下九十四足。问雉、兔各几何？\n",
    "# 设鸡x只，兔y只\n",
    "A = np.array([[1,1], [2,4]])\n",
    "b = np.array([35, 94])\n",
    "res = linalg.solve(A, b)\n",
    "print('鸡 {:.0f} 只，兔 {:.0f} 只。'.format(res[0], res[1]))"
   ]
  },
  {
   "cell_type": "markdown",
   "metadata": {},
   "source": [
    "## 练习"
   ]
  },
  {
   "cell_type": "code",
   "execution_count": 3,
   "metadata": {},
   "outputs": [
    {
     "name": "stdout",
     "output_type": "stream",
     "text": [
      "金牌：51\n",
      "银牌：21\n",
      "铜牌：28\n"
     ]
    }
   ],
   "source": [
    "# 在第29届奥运会上,中国健儿共获得100枚奖牌,金牌比银牌的2倍还多9块，银牌比铜牌少7块，问金牌、银牌、铜牌各多少块？\n",
    "# 设金牌x，银牌y，铜牌z\n",
    "# x +  y + z = 100\n",
    "# x - 2y     = 9\n",
    "#      y - z = -7\n",
    "A = np.array([[1, 1, 1], [1, -2, 0], [0, 1, -1]])\n",
    "b = np.array([100, 9, -7])\n",
    "res = linalg.solve(A, b)\n",
    "print('金牌：{:.0f}\\n银牌：{:.0f}\\n铜牌：{:.0f}'.format(res[0], res[1], res[2]))"
   ]
  },
  {
   "cell_type": "code",
   "execution_count": 4,
   "metadata": {},
   "outputs": [
    {
     "name": "stdout",
     "output_type": "stream",
     "text": [
      "胜：7\n",
      "平：13\n",
      "负：6\n"
     ]
    }
   ],
   "source": [
    "# 某足球联赛一个赛季共进行26场比赛（即每队均赛26场），其中胜一场得三分，平一场得一分，负一场得0分\n",
    "# 某队在这个赛季中平局的场数比负的场数多7场，结果共得34分.这个队在这个赛季中胜、平、负各多少场？\n",
    "# 设胜x，平y，负z\n",
    "#  x + y + z = 26\n",
    "#      y - z = 7\n",
    "# 3x + y     = 34\n",
    "A = np.array([[1,1,1], [0,1,-1], [3,1,0]])\n",
    "b = np.array([26, 7, 34])\n",
    "res = linalg.solve(A, b)\n",
    "print('胜：{:.0f}\\n平：{:.0f}\\n负：{:.0f}'.format(res[0], res[1], res[2]))"
   ]
  }
 ],
 "metadata": {
  "kernelspec": {
   "display_name": "Python 3",
   "language": "python",
   "name": "python3"
  },
  "language_info": {
   "codemirror_mode": {
    "name": "ipython",
    "version": 3
   },
   "file_extension": ".py",
   "mimetype": "text/x-python",
   "name": "python",
   "nbconvert_exporter": "python",
   "pygments_lexer": "ipython3",
   "version": "3.6.4"
  },
  "toc": {
   "base_numbering": 1,
   "nav_menu": {},
   "number_sections": true,
   "sideBar": true,
   "skip_h1_title": false,
   "title_cell": "Table of Contents",
   "title_sidebar": "Contents",
   "toc_cell": false,
   "toc_position": {},
   "toc_section_display": true,
   "toc_window_display": false
  }
 },
 "nbformat": 4,
 "nbformat_minor": 2
}
