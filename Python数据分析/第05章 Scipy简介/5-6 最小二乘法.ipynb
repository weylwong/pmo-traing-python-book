{
 "cells": [
  {
   "cell_type": "markdown",
   "metadata": {},
   "source": [
    "# 最小二乘法"
   ]
  },
  {
   "cell_type": "markdown",
   "metadata": {},
   "source": [
    "## 什么是最小二乘法"
   ]
  },
  {
   "cell_type": "markdown",
   "metadata": {},
   "source": [
    "- 某次实验得到了右图的4个数据点，我们希望找出一条和这4个点最匹配的直线$𝑦=𝑎𝑥+𝑏$\n",
    "- “最完美”的情况是这4个点都在直线上\n",
    "\n",
    "|x|y|\n",
    "|:---:|:---:|\n",
    "|1|6|\n",
    "|2|5|\n",
    "|3|7|\n",
    "|4|10|\n",
    "\n",
    "![匹配的直线](../images/scipy_451.png)"
   ]
  },
  {
   "cell_type": "markdown",
   "metadata": {},
   "source": [
    "- 对每一个点，可以计算它到“最佳拟合直线”之间的误差\n",
    "- 最小二乘法的目标是使得所有数据点误差的平方和最小\n",
    "    - 即$[6−(𝑎+𝑏)]^2+[5−(2𝑎+𝑏)]^2+[7−(3𝑎+𝑏)]^2+[10−(4𝑎+𝑏)]^2$最小\n",
    "    \n",
    "![最小二乘法](../images/scipy_452.png)    "
   ]
  },
  {
   "cell_type": "markdown",
   "metadata": {},
   "source": [
    "## 最小二乘法的由来\n",
    "\n",
    "- 1801年，意大利天文学家朱赛普·皮亚齐发现了第一颗小行星谷神星。经过40天的跟踪观测后，由于谷神星运行至太阳背后，使得皮亚齐失去了谷神星的位置。随后全世界的科学家利用皮亚齐的观测数据开始寻找谷神星，但是根据大多数人计算的结果来寻找谷神星都没有结果。时年24岁的高斯也计算了谷神星的轨道。奥地利天文学家海因里希·奥伯斯根据高斯计算出来的轨道重新发现了谷神星。\n"
   ]
  },
  {
   "cell_type": "markdown",
   "metadata": {},
   "source": [
    "- 高斯当时使用的方法就是最小二乘法\n",
    "![最小二乘法](../images/scipy_453.png)"
   ]
  },
  {
   "cell_type": "markdown",
   "metadata": {},
   "source": [
    "## 使用Scipy求解最小二乘问题\n",
    "\n",
    "- `scipy.optimize.leastsq(func, x0, args=())`\n",
    "    - 最小化目标：$arg \\min\\limits_{𝑝}⁡(𝑠𝑢𝑚(𝑓𝑢𝑛𝑐(𝑝)∗∗2, 𝑎𝑥𝑖𝑠=0))$\n",
    "    - `func`：定义每个数据点的误差函数，函数第一个参数为需要求解的目标系数，结果返回一个向量\n",
    "    - `x0`：初始参数\n",
    "    - `args`：指定`func`函数的其他参数，顺序与`func`中定义的顺序相同"
   ]
  },
  {
   "cell_type": "code",
   "execution_count": 1,
   "metadata": {},
   "outputs": [],
   "source": [
    "import numpy as np\n",
    "from scipy.optimize import leastsq\n",
    "\n",
    "import matplotlib\n",
    "from matplotlib import pyplot as plt"
   ]
  },
  {
   "cell_type": "code",
   "execution_count": 2,
   "metadata": {},
   "outputs": [],
   "source": [
    "# 定义误差函数\n",
    "# param: 需要求解的直线系数[a, b]，直线方程为 y = ax + b\n",
    "# x: 观测数据x\n",
    "# y: 观测数据y\n",
    "def error_fun(param, x, y):\n",
    "    expect_y = param[0] * x + param[1]\n",
    "    err = y - expect_y\n",
    "    return err"
   ]
  },
  {
   "cell_type": "code",
   "execution_count": 3,
   "metadata": {
    "scrolled": true
   },
   "outputs": [
    {
     "name": "stdout",
     "output_type": "stream",
     "text": [
      "直线方程：y = 1.400 x + 3.500\n"
     ]
    }
   ],
   "source": [
    "# 观测数据\n",
    "x = np.array([1,2,3,4])\n",
    "y = np.array([6,5,7,10])\n",
    "# 初始化系数\n",
    "init_param = np.array([0.1, 0.1])\n",
    "\n",
    "# 求解\n",
    "res, _ = leastsq(error_fun, init_param, args=(x, y))\n",
    "\n",
    "print('直线方程：y = {:.3f} x + {:.3f}'.format(res[0], res[1]))"
   ]
  },
  {
   "cell_type": "code",
   "execution_count": 4,
   "metadata": {
    "scrolled": true
   },
   "outputs": [
    {
     "data": {
      "image/png": "[encoded data removed]",
      "text/plain": [
       "<matplotlib.figure.Figure at 0x2571cbf8dd8>"
      ]
     },
     "metadata": {},
     "output_type": "display_data"
    }
   ],
   "source": [
    "# 绘制图像\n",
    "px = np.linspace(0, 5, 50)\n",
    "py = res[0] * px + res[1]\n",
    "plt.plot(x, y, 'o', label='Observed data')\n",
    "plt.plot(px, py, '-', label='Fitted line: y = {:.1f}x + {:.1f}'.format(res[0], res[1]))\n",
    "plt.legend(loc='upper left')\n",
    "plt.show()"
   ]
  },
  {
   "cell_type": "markdown",
   "metadata": {},
   "source": [
    "## 练习"
   ]
  },
  {
   "cell_type": "code",
   "execution_count": 5,
   "metadata": {},
   "outputs": [],
   "source": [
    "# 拟合二次曲线：y = a x^2 + b x + c\n",
    "# 数据文件：4.5_ex1_data.csv\n",
    "\n",
    "# 定义误差函数\n",
    "# param = [a, b, c]\n",
    "def error_fun(param, x, y):\n",
    "    expect_y = param[0] * x**2 + param[1] * x + param[2]\n",
    "    return y - expect_y"
   ]
  },
  {
   "cell_type": "code",
   "execution_count": 7,
   "metadata": {},
   "outputs": [
    {
     "name": "stdout",
     "output_type": "stream",
     "text": [
      "二次曲线：y = 2.985 x^2 + -2.030 x + 3.062\n"
     ]
    }
   ],
   "source": [
    "# 载入数据\n",
    "import os\n",
    "\n",
    "filename = os.path.join('..', 'data', 'scipy_exdata.csv')\n",
    "data = np.loadtxt(filename, dtype=np.float_, delimiter=',')\n",
    "\n",
    "# 初始化系数\n",
    "init_param = np.array([0.1, 0.1, 0.1])\n",
    "\n",
    "# 求解\n",
    "res, _ = leastsq(error_fun, init_param, args=(data[:, 0], data[:, 1]))\n",
    "\n",
    "print('二次曲线：y = {:.3f} x^2 + {:.3f} x + {:.3f}'.format(res[0], res[1], res[2]))"
   ]
  },
  {
   "cell_type": "code",
   "execution_count": 8,
   "metadata": {},
   "outputs": [
    {
     "data": {
      "image/png": "[encoded data removed]",
      "text/plain": [
       "<matplotlib.figure.Figure at 0x2571d011cc0>"
      ]
     },
     "metadata": {},
     "output_type": "display_data"
    }
   ],
   "source": [
    "# 绘制曲线\n",
    "px = np.linspace(min(data[:, 0]), max(data[:, 0]))\n",
    "py = res[0] * px**2 + res[1] * px + res[2]\n",
    "plt.plot(data[:, 0], data[:, 1], 'o', label='Observed points')\n",
    "plt.plot(px, py, '-', label='Fitted curve')\n",
    "plt.legend(loc='best')\n",
    "plt.show()"
   ]
  }
 ],
 "metadata": {
  "kernelspec": {
   "display_name": "Python 3",
   "language": "python",
   "name": "python3"
  },
  "language_info": {
   "codemirror_mode": {
    "name": "ipython",
    "version": 3
   },
   "file_extension": ".py",
   "mimetype": "text/x-python",
   "name": "python",
   "nbconvert_exporter": "python",
   "pygments_lexer": "ipython3",
   "version": "3.6.4"
  },
  "toc": {
   "base_numbering": 1,
   "nav_menu": {},
   "number_sections": true,
   "sideBar": true,
   "skip_h1_title": false,
   "title_cell": "Table of Contents",
   "title_sidebar": "Contents",
   "toc_cell": false,
   "toc_position": {},
   "toc_section_display": true,
   "toc_window_display": false
  }
 },
 "nbformat": 4,
 "nbformat_minor": 2
}
