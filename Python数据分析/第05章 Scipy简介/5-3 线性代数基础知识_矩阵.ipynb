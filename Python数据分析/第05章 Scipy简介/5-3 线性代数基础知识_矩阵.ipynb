{
 "cells": [
  {
   "cell_type": "markdown",
   "metadata": {},
   "source": [
    "# 线性代数基础知识：矩阵\n",
    "\n",
    "- 掌握矩阵的概念\n",
    "- 了解矩阵和线性变换之间的关系\n",
    "- 掌握Python中矩阵的表示方法\n",
    "- 掌握矩阵的一些基本运算"
   ]
  },
  {
   "cell_type": "markdown",
   "metadata": {},
   "source": [
    "## 什么是矩阵"
   ]
  },
  {
   "cell_type": "markdown",
   "metadata": {},
   "source": [
    "- 数学上，一个𝑚×𝑛的矩阵是一个由𝑚行𝑛列元素排列成的矩形阵列\n",
    "![矩阵](../images/scipy_421.png)\n",
    "\n",
    "- 矩阵A第i行第j列的元素记为$𝐴_𝑖𝑗$"
   ]
  },
  {
   "cell_type": "markdown",
   "metadata": {},
   "source": [
    "## 矩阵的基本运算"
   ]
  },
  {
   "cell_type": "markdown",
   "metadata": {},
   "source": [
    "- 加（减）法：$(𝐴±𝐵)_𝑖𝑗=𝐴_𝑖𝑗+𝐵_𝑖𝑗$\n",
    "![加法](../images/scipy_422.png)\n",
    "\n",
    "- 数乘：$(𝑐𝐴)_𝑖𝑗=𝑐𝐴_𝑖𝑗$\n",
    "![数乘](../images/scipy_423.png)\n",
    "\n",
    "- 转置：$(𝐴^𝑇 )_𝑖𝑗=𝐴_𝑗𝑖$\n",
    "![转置](../images/scipy_424.png)"
   ]
  },
  {
   "cell_type": "markdown",
   "metadata": {},
   "source": [
    "## 矩阵乘法"
   ]
  },
  {
   "cell_type": "markdown",
   "metadata": {},
   "source": [
    "- 两个矩阵相乘，只有在第一个矩阵的列数和第二个矩阵的行数相同才有定义\n",
    "- 若A为$𝑚×𝑛$矩阵，B为$𝑛×𝑝$矩阵，则他们的乘积AB为$𝑚×𝑝$矩阵\n",
    "$(𝐴𝐵)_𝑖𝑗=∑_(𝑘=1)^𝑛=𝑎_𝑖𝑘 𝑏_𝑘𝑗 =𝑎_𝑖1 𝑏_1𝑗+𝑎_𝑖2 𝑏_2𝑗+⋯+𝑎_𝑖𝑛 𝑏_𝑛𝑗$\n",
    "- 例如\n",
    "![矩阵乘法](../images/scipy_425.png)\n",
    "- 向量可以当作是一个只有一列的矩阵进行相乘，得到新的向量"
   ]
  },
  {
   "cell_type": "markdown",
   "metadata": {},
   "source": [
    "- 矩阵乘法满足下面这些规律\n",
    "    - 结合律：$(𝐴𝐵)𝐶=𝐴(𝐵𝐶)$\n",
    "    - 左分配律：$(𝐴+𝐵)𝐶=𝐴𝐶+𝐵𝐶$\n",
    "    - 右分配律：$𝐴(𝐵+𝐶)=𝐴𝐵+𝐴𝐶$\n",
    "    - 数乘的结合律：$𝑐(𝐴𝐵)=(𝑐𝐴)𝐵=𝐴(𝑐𝐵)$\n",
    "    - 转置与矩阵乘法：$(𝐴𝐵)^𝑇=𝐵^𝑇 𝐴^𝑇$\n",
    "- 矩阵乘法不满足交换律\n",
    "    - 若矩阵$A$和$B$的乘积$AB$存在，$BA$不一定存在\n",
    "    - 即使$BA$存在，通常$𝐴𝐵≠𝐵𝐴$\n",
    "    - 如\n",
    "    ![矩阵乘法2](../images/scipy_426.png)"
   ]
  },
  {
   "cell_type": "markdown",
   "metadata": {},
   "source": [
    "## 矩阵的直观解释"
   ]
  },
  {
   "cell_type": "markdown",
   "metadata": {},
   "source": [
    "- 根据矩阵与向量的乘法，矩阵可以理解为一种变换，它将一个向量变换成另外一个向量\n",
    "![矩阵直观解释](../images/scipy_427.png)"
   ]
  },
  {
   "cell_type": "code",
   "execution_count": 1,
   "metadata": {},
   "outputs": [],
   "source": [
    "import numpy as np"
   ]
  },
  {
   "cell_type": "code",
   "execution_count": 2,
   "metadata": {},
   "outputs": [
    {
     "data": {
      "text/plain": [
       "array([[1, 2, 3],\n",
       "       [4, 3, 2]])"
      ]
     },
     "execution_count": 2,
     "metadata": {},
     "output_type": "execute_result"
    }
   ],
   "source": [
    "# 创建一个 2x3 的矩阵\n",
    "x1 = np.array([[1,2,3], [4,3,2]])\n",
    "x1"
   ]
  },
  {
   "cell_type": "code",
   "execution_count": 3,
   "metadata": {},
   "outputs": [],
   "source": [
    "x2 = np.array([[0,1,0], [2,3,1]])"
   ]
  },
  {
   "cell_type": "code",
   "execution_count": 4,
   "metadata": {},
   "outputs": [
    {
     "data": {
      "text/plain": [
       "array([[1, 3, 3],\n",
       "       [6, 6, 3]])"
      ]
     },
     "execution_count": 4,
     "metadata": {},
     "output_type": "execute_result"
    }
   ],
   "source": [
    "# 矩阵加法\n",
    "x1 + x2"
   ]
  },
  {
   "cell_type": "code",
   "execution_count": 5,
   "metadata": {},
   "outputs": [
    {
     "data": {
      "text/plain": [
       "array([[1, 1, 3],\n",
       "       [2, 0, 1]])"
      ]
     },
     "execution_count": 5,
     "metadata": {},
     "output_type": "execute_result"
    }
   ],
   "source": [
    "# 矩阵减法\n",
    "x1 - x2"
   ]
  },
  {
   "cell_type": "code",
   "execution_count": 6,
   "metadata": {},
   "outputs": [
    {
     "data": {
      "text/plain": [
       "array([[2, 4, 6],\n",
       "       [8, 6, 4]])"
      ]
     },
     "execution_count": 6,
     "metadata": {},
     "output_type": "execute_result"
    }
   ],
   "source": [
    "# 数乘\n",
    "2 * x1"
   ]
  },
  {
   "cell_type": "code",
   "execution_count": 7,
   "metadata": {},
   "outputs": [
    {
     "data": {
      "text/plain": [
       "array([[1, 4],\n",
       "       [2, 3],\n",
       "       [3, 2]])"
      ]
     },
     "execution_count": 7,
     "metadata": {},
     "output_type": "execute_result"
    }
   ],
   "source": [
    "# 转置\n",
    "x1.T"
   ]
  },
  {
   "cell_type": "code",
   "execution_count": 8,
   "metadata": {},
   "outputs": [
    {
     "data": {
      "text/plain": [
       "array([[5, 1],\n",
       "       [4, 2]])"
      ]
     },
     "execution_count": 8,
     "metadata": {},
     "output_type": "execute_result"
    }
   ],
   "source": [
    "# 矩阵乘法\n",
    "x1 = np.array([[1,0,2], [-1,3,1]])\n",
    "x2 = np.array([[3,1], [2,1], [1,0]])\n",
    "x1.dot(x2)   # 或 np.dot(x1, x2) 或 np.matmul(x1, x2)"
   ]
  },
  {
   "cell_type": "code",
   "execution_count": 9,
   "metadata": {},
   "outputs": [
    {
     "data": {
      "text/plain": [
       "array([[5, 1],\n",
       "       [4, 2]])"
      ]
     },
     "execution_count": 9,
     "metadata": {},
     "output_type": "execute_result"
    }
   ],
   "source": [
    "np.dot(x1, x2)"
   ]
  },
  {
   "cell_type": "code",
   "execution_count": 10,
   "metadata": {},
   "outputs": [
    {
     "data": {
      "text/plain": [
       "array([[5, 1],\n",
       "       [4, 2]])"
      ]
     },
     "execution_count": 10,
     "metadata": {},
     "output_type": "execute_result"
    }
   ],
   "source": [
    "np.matmul(x1, x2)"
   ]
  },
  {
   "cell_type": "code",
   "execution_count": 11,
   "metadata": {},
   "outputs": [
    {
     "data": {
      "text/plain": [
       "array([[5],\n",
       "       [4]])"
      ]
     },
     "execution_count": 11,
     "metadata": {},
     "output_type": "execute_result"
    }
   ],
   "source": [
    "# 矩阵乘向量\n",
    "# 为了避免计算和理解的不一致，向量统一用只有一列的二维数组表示\n",
    "v = np.array([3,2,1]).reshape((-1,1))\n",
    "x1.dot(v)"
   ]
  },
  {
   "cell_type": "markdown",
   "metadata": {},
   "source": [
    "## 矩阵是一种变换"
   ]
  },
  {
   "cell_type": "code",
   "execution_count": 12,
   "metadata": {},
   "outputs": [],
   "source": [
    "import matplotlib\n",
    "from matplotlib import pyplot as plt\n",
    "\n",
    "# 定义作图函数\n",
    "\n",
    "# 画一个网格\n",
    "def display_mat(plt, vmat, color='b'):\n",
    "    for i in range(vmat.shape[0]):\n",
    "        plt.plot([vmat[i, 0, 0], vmat[i, -1, 0]], [vmat[i, 0, 1], vmat[i, -1, 1]], color=color)\n",
    "    for j in range(vmat.shape[1]):\n",
    "        plt.plot([vmat[0, j, 0], vmat[-1, j, 0]], [vmat[0, j, 1], vmat[-1, j, 1]], color=color)\n",
    "\n",
    "# 画两个网格，蓝色=变换前的网格，绿色=变换后的网格\n",
    "# 参数\n",
    "# mat: 变换矩阵\n",
    "# x: 网格中x的取值\n",
    "# y: 网格中y的取值\n",
    "# 返回值\n",
    "# z: 变换前的网格\n",
    "# za: 变换后的网格\n",
    "def display(mat, x=None, y=None):\n",
    "    x = np.arange(-2, 8, 1) if x is None else x\n",
    "    y = np.arange(-2, 8, 1) if y is None else y\n",
    "    z = np.stack(np.meshgrid(x, y), axis=2)\n",
    "    display_mat(plt, z)\n",
    "    za = np.empty_like(z, dtype=np.float_)\n",
    "    for i in range(z.shape[0]):\n",
    "        for j in range(z.shape[1]):\n",
    "            za[i, j, :] = mat.dot(z[i, j, :].reshape((-1,1))).ravel()\n",
    "    display_mat(plt, za, color='g')\n",
    "    return z, za"
   ]
  },
  {
   "cell_type": "code",
   "execution_count": 13,
   "metadata": {},
   "outputs": [
    {
     "name": "stderr",
     "output_type": "stream",
     "text": [
      "C:\\Anaconda3\\lib\\site-packages\\matplotlib\\cbook\\deprecation.py:106: MatplotlibDeprecationWarning: Adding an axes using the same arguments as a previous axes currently reuses the earlier instance.  In a future version, a new instance will always be created and returned.  Meanwhile, this warning can be suppressed, and the future behavior ensured, by passing a unique label to each axes instance.\n",
      "  warnings.warn(message, mplDeprecation, stacklevel=1)\n"
     ]
    },
    {
     "data": {
      "image/png": "[encoded data removed]",
      "text/plain": [
       "<matplotlib.figure.Figure at 0x1dcbc175550>"
      ]
     },
     "metadata": {},
     "output_type": "display_data"
    }
   ],
   "source": [
    "# 推移\n",
    "A = np.array([[1, 1.25], [0, 1]])\n",
    "z, za = display(A)\n",
    "plt.axes().set_aspect('equal')\n",
    "plt.show()"
   ]
  },
  {
   "cell_type": "code",
   "execution_count": 14,
   "metadata": {},
   "outputs": [
    {
     "name": "stderr",
     "output_type": "stream",
     "text": [
      "C:\\Anaconda3\\lib\\site-packages\\matplotlib\\cbook\\deprecation.py:106: MatplotlibDeprecationWarning: Adding an axes using the same arguments as a previous axes currently reuses the earlier instance.  In a future version, a new instance will always be created and returned.  Meanwhile, this warning can be suppressed, and the future behavior ensured, by passing a unique label to each axes instance.\n",
      "  warnings.warn(message, mplDeprecation, stacklevel=1)\n"
     ]
    },
    {
     "data": {
      "image/png": "[encoded data removed]",
      "text/plain": [
       "<matplotlib.figure.Figure at 0x1dcbcd72dd8>"
      ]
     },
     "metadata": {},
     "output_type": "display_data"
    }
   ],
   "source": [
    "# 水平镜像\n",
    "A = np.array([[-1, 0], [0, 1]])\n",
    "z, za = display(A)\n",
    "plt.axes().set_aspect('equal')\n",
    "plt.show()"
   ]
  },
  {
   "cell_type": "code",
   "execution_count": 15,
   "metadata": {},
   "outputs": [
    {
     "name": "stderr",
     "output_type": "stream",
     "text": [
      "C:\\Anaconda3\\lib\\site-packages\\matplotlib\\cbook\\deprecation.py:106: MatplotlibDeprecationWarning: Adding an axes using the same arguments as a previous axes currently reuses the earlier instance.  In a future version, a new instance will always be created and returned.  Meanwhile, this warning can be suppressed, and the future behavior ensured, by passing a unique label to each axes instance.\n",
      "  warnings.warn(message, mplDeprecation, stacklevel=1)\n"
     ]
    },
    {
     "data": {
      "image/png": "[encoded data removed]",
      "text/plain": [
       "<matplotlib.figure.Figure at 0x1dcb8d8f0f0>"
      ]
     },
     "metadata": {},
     "output_type": "display_data"
    }
   ],
   "source": [
    "# 挤压\n",
    "A = np.array([[3.0/2, 0], [0, 2.0/3]])\n",
    "z, za = display(A)\n",
    "plt.axes().set_aspect('equal')\n",
    "plt.show()"
   ]
  },
  {
   "cell_type": "code",
   "execution_count": 16,
   "metadata": {},
   "outputs": [
    {
     "name": "stderr",
     "output_type": "stream",
     "text": [
      "C:\\Anaconda3\\lib\\site-packages\\matplotlib\\cbook\\deprecation.py:106: MatplotlibDeprecationWarning: Adding an axes using the same arguments as a previous axes currently reuses the earlier instance.  In a future version, a new instance will always be created and returned.  Meanwhile, this warning can be suppressed, and the future behavior ensured, by passing a unique label to each axes instance.\n",
      "  warnings.warn(message, mplDeprecation, stacklevel=1)\n"
     ]
    },
    {
     "data": {
      "image/png": "[encoded data removed]",
      "text/plain": [
       "<matplotlib.figure.Figure at 0x1dcbd28c6d8>"
      ]
     },
     "metadata": {},
     "output_type": "display_data"
    }
   ],
   "source": [
    "# 伸缩\n",
    "A = np.array([[3.0/2, 0], [0, 3.0/2]])\n",
    "z, za = display(A)\n",
    "plt.axes().set_aspect('equal')\n",
    "plt.show()"
   ]
  },
  {
   "cell_type": "code",
   "execution_count": 17,
   "metadata": {},
   "outputs": [
    {
     "name": "stderr",
     "output_type": "stream",
     "text": [
      "C:\\Anaconda3\\lib\\site-packages\\matplotlib\\cbook\\deprecation.py:106: MatplotlibDeprecationWarning: Adding an axes using the same arguments as a previous axes currently reuses the earlier instance.  In a future version, a new instance will always be created and returned.  Meanwhile, this warning can be suppressed, and the future behavior ensured, by passing a unique label to each axes instance.\n",
      "  warnings.warn(message, mplDeprecation, stacklevel=1)\n"
     ]
    },
    {
     "data": {
      "image/png": "[encoded data removed]",
      "text/plain": [
       "<matplotlib.figure.Figure at 0x1dcbd2adcf8>"
      ]
     },
     "metadata": {},
     "output_type": "display_data"
    }
   ],
   "source": [
    "# 旋转\n",
    "A = np.array([[np.cos(np.pi/6.0), -np.sin(np.pi/6.0)], [np.sin(np.pi/6.0), np.cos(np.pi/6.0)]])\n",
    "z, za = display(A)\n",
    "plt.axes().set_aspect('equal')\n",
    "plt.show()"
   ]
  }
 ],
 "metadata": {
  "kernelspec": {
   "display_name": "Python 3",
   "language": "python",
   "name": "python3"
  },
  "language_info": {
   "codemirror_mode": {
    "name": "ipython",
    "version": 3
   },
   "file_extension": ".py",
   "mimetype": "text/x-python",
   "name": "python",
   "nbconvert_exporter": "python",
   "pygments_lexer": "ipython3",
   "version": "3.6.4"
  },
  "toc": {
   "base_numbering": 1,
   "nav_menu": {},
   "number_sections": true,
   "sideBar": true,
   "skip_h1_title": false,
   "title_cell": "Table of Contents",
   "title_sidebar": "Contents",
   "toc_cell": false,
   "toc_position": {},
   "toc_section_display": true,
   "toc_window_display": false
  }
 },
 "nbformat": 4,
 "nbformat_minor": 2
}
