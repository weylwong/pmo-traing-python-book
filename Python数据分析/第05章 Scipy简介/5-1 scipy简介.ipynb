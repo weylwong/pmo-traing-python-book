{
 "cells": [
  {
   "cell_type": "markdown",
   "metadata": {},
   "source": [
    "# scipy简介\n",
    "\n",
    "- 了解Scipy和Numpy之间的关系\n",
    "- 了解Scipy能解决哪些问题\n",
    "- 掌握线性代数中向量、矩阵的概念\n",
    "- 能够解线性方程组\n",
    "- 了解最小二乘问题\n",
    "- 了解特征值和特征向量"
   ]
  },
  {
   "cell_type": "markdown",
   "metadata": {},
   "source": [
    "## 科学计算包：Scipy"
   ]
  },
  {
   "cell_type": "markdown",
   "metadata": {},
   "source": [
    "- Scipy是基于Numpy开发的一个数学工具包\n",
    "- Scipy以子模块的形式提供了大部分科学计算工具\n",
    "\n",
    "|子模块|描述|子模块|描述|\n",
    "|:-----:|:----:|:-----:|:-----:|\n",
    "|cluster|聚类算法|optimize|最优化及求根|\n",
    "|constants|物理和数学常量|signal|信号处理|\n",
    "|fftpack|快速傅里叶变换|sparse|稀疏矩阵|\n",
    "|integrate|积分和常微分方程|spatial|空间数据结构和算法|\n",
    "|intepolate|插值和样条平滑|special|特殊函数|\n",
    "|linalg|线性代数|stats|统计分析|\n",
    "|ndimage|图像处理|||\n",
    "\n",
    "- Scipy随Anaconda自带，也可通过 conda install scipy 安装"
   ]
  },
  {
   "cell_type": "markdown",
   "metadata": {},
   "source": [
    "## Scipy和Numpy的关系"
   ]
  },
  {
   "cell_type": "markdown",
   "metadata": {},
   "source": [
    "- Numpy\n",
    "    - 面向任何使用者\n",
    "    - 侧重于数值计算\n",
    "    - 提供了多维数组这种数据结构\n",
    "    - 实现了多维数组的各种基本运算\n",
    "- Scipy\n",
    "    - 面向数据科学家\n",
    "    - 建立在Numpy的基础上\n",
    "    - 提供了更加广泛的科学计算工具\n",
    "    - 解决的问题更加具体"
   ]
  },
  {
   "cell_type": "markdown",
   "metadata": {},
   "source": [
    "## 线性代数\n",
    "\n",
    "- 线性代数是关于向量空间和线性映射的一个数学分支\n",
    "- 线性代数的研究最初出现在对行列式的研究上，行列式当时被用来求解线性方程组\n",
    "- 线性代数在各个学科中都有非常广泛的应用\n",
    "- 在计算机领域，计算机图形学、计算机辅助设计、密码学、虚拟现实等技术都以线性代数作为理论基础的一部分"
   ]
  },
  {
   "cell_type": "markdown",
   "metadata": {},
   "source": [
    "## 学习路线\n",
    "\n",
    "![学习路线](../images/scipy_path.png)"
   ]
  },
  {
   "cell_type": "markdown",
   "metadata": {},
   "source": [
    "## 模块的选择：`scipy.linalg or numpy.linalg?`\n",
    "\n",
    "- `scipy.linalg`和`numpy.linalg`\n",
    "    - 都包含了线性代数的常用功能\n",
    "    - `scipy.linalg`包含了`numpy.linalg`中的所有功能\n",
    "    - `scipy.linalg`中的函数做了优化，效率更高\n",
    "    - 优先选择`scipy.linalg`\n"
   ]
  },
  {
   "cell_type": "markdown",
   "metadata": {},
   "source": [
    "## 数据结构的选择：`numpy.matrix or 2D numpy.ndarray?`\n",
    "\n",
    "- `Numpy`提供了两种可以在线性代数中使用的数据结构\n",
    "    - 二维的数组结构：`ndarray`\n",
    "    - 矩阵：`matrix`\n",
    "- `matrix`提供了更便捷的用于矩阵计算的接口\n",
    "- 但是，从功能上来讲，`matrix`并没有任何特有的功能\n",
    "- `linalg`同时支持者两种数据结构\n",
    "- 所以，为了保持数据类型的一致性，建议使用二维的`ndarray`\n"
   ]
  }
 ],
 "metadata": {
  "kernelspec": {
   "display_name": "Python 3",
   "language": "python",
   "name": "python3"
  },
  "language_info": {
   "codemirror_mode": {
    "name": "ipython",
    "version": 3
   },
   "file_extension": ".py",
   "mimetype": "text/x-python",
   "name": "python",
   "nbconvert_exporter": "python",
   "pygments_lexer": "ipython3",
   "version": "3.6.4"
  },
  "toc": {
   "base_numbering": 1,
   "nav_menu": {},
   "number_sections": true,
   "sideBar": true,
   "skip_h1_title": false,
   "title_cell": "Table of Contents",
   "title_sidebar": "Contents",
   "toc_cell": false,
   "toc_position": {},
   "toc_section_display": true,
   "toc_window_display": false
  }
 },
 "nbformat": 4,
 "nbformat_minor": 2
}
