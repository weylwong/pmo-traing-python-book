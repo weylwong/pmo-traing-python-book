{
 "cells": [
  {
   "cell_type": "markdown",
   "metadata": {
    "slideshow": {
     "slide_type": "slide"
    }
   },
   "source": [
    "# 数组基本操作\n",
    "\n",
    "对于数组对象，Numpy 提供了一些基本的操作函数，包括如下：\n",
    "- 更改数组形状\n",
    "- 数组合并\n",
    "- 数组拆分\n",
    "- 数组元素删除\n",
    "- 数组元素重排"
   ]
  },
  {
   "cell_type": "code",
   "execution_count": null,
   "metadata": {},
   "outputs": [],
   "source": [
    "import numpy as np\n",
    "import matplotlib.pyplot as plt\n",
    "%matplotlib inline"
   ]
  },
  {
   "cell_type": "markdown",
   "metadata": {
    "slideshow": {
     "slide_type": "slide"
    }
   },
   "source": [
    "## 更改数组形状\n",
    "\n",
    "Numpy 提供了多个函数来更改数组的形状：\n",
    "- `np.reshape()`，更改数组形状\n",
    "- `np.resize()`，更改数组形状\n",
    "- `np.ravel()`，返回展开数组"
   ]
  },
  {
   "cell_type": "markdown",
   "metadata": {},
   "source": [
    "### `np.reshape()`\n",
    "\n",
    "数组对象的 `shape` 属性用来描述数组每个维度的大小，可以更改 `shape` 属性来改变数组形状。Numpy 还提供了`reshape()`函数来更改数组形状，其调用语法为：\n",
    "```python\n",
    "np.reshape(a, newshape, order='C')\n",
    "```\n",
    "- 输入\n",
    "    - `a`： 需要改变形状的数组\n",
    "    - `newshape`：表示新数组的形状，一个元组对象，如指定维度为-1，则其值会自动进行计算\n",
    "    - `order`：以何种顺序读取元组元素，可选如下值：\n",
    "        - 'C'，按行\n",
    "        - 'F'， 按列\n",
    "        - 'A'，原顺序\n",
    "        - 'k'，内存先后顺序。\n",
    "- 输出\n",
    "    返回指定形状的新数组"
   ]
  },
  {
   "cell_type": "code",
   "execution_count": null,
   "metadata": {
    "slideshow": {
     "slide_type": "slide"
    }
   },
   "outputs": [],
   "source": [
    "arr = np.arange(6)\n",
    "arr.shape"
   ]
  },
  {
   "cell_type": "code",
   "execution_count": null,
   "metadata": {
    "slideshow": {
     "slide_type": "slide"
    }
   },
   "outputs": [],
   "source": [
    "# 显式指定形状\n",
    "arr.reshape((3, 2))"
   ]
  },
  {
   "cell_type": "code",
   "execution_count": null,
   "metadata": {},
   "outputs": [],
   "source": [
    "# 自动计算\n",
    "arr.reshape((-1, 2))"
   ]
  },
  {
   "cell_type": "code",
   "execution_count": null,
   "metadata": {},
   "outputs": [],
   "source": [
    "# 增加维度\n",
    "arr.reshape((3, 1, 2))"
   ]
  },
  {
   "cell_type": "code",
   "execution_count": null,
   "metadata": {
    "slideshow": {
     "slide_type": "slide"
    }
   },
   "outputs": [],
   "source": [
    "# 使用Fortran顺序更改形状\n",
    "np.reshape(arr, (3, -1), order='F')"
   ]
  },
  {
   "cell_type": "markdown",
   "metadata": {},
   "source": [
    "### `np.resize()`\n",
    "\n",
    "Numpy 的`resize()`函数也可以来更改数组形状，与`reshape()`不同的时，新数组的形状与原数组的形状不一定非得相同，其调用语法为：\n",
    "```python\n",
    "np.resize(a, new_shape)\n",
    "```\n",
    "- 输入\n",
    "    - `a`： 需要改变形状的数组\n",
    "    - `new_shape`：表示新数组的形状，一个元组对象\n",
    "- 输出\n",
    "    返回指定形状的新数组"
   ]
  },
  {
   "cell_type": "code",
   "execution_count": null,
   "metadata": {},
   "outputs": [],
   "source": [
    "arr = np.arange(6)\n",
    "# 新的形状小则截断数组\n",
    "np.resize(arr, (2,2))"
   ]
  },
  {
   "cell_type": "markdown",
   "metadata": {},
   "source": [
    "如果新的形状大则会填充数组，会使用数组对象的`flatten`结果进行填充:"
   ]
  },
  {
   "cell_type": "code",
   "execution_count": null,
   "metadata": {},
   "outputs": [],
   "source": [
    "# 新的形状大则会填充数组\n",
    "np.resize(arr, (3,3))"
   ]
  },
  {
   "cell_type": "markdown",
   "metadata": {},
   "source": [
    "> 注意，数组对象本身有`resize()`方法，该方法会修改原数组，会使用0来进行填充。"
   ]
  },
  {
   "cell_type": "markdown",
   "metadata": {},
   "source": [
    "### `np.ravel)`\n",
    "\n",
    "`numpy.ravel)`函数会展平数组的元素，其使用语法为：\n",
    "```python\n",
    "np.ravel(a, order='C')\n",
    "```\n",
    "- 输入\n",
    "    - `a`，数组\n",
    "    - `order='C'，缺省按照\"C风格\"来展平\n",
    "- 输出\n",
    "    - 返回数组"
   ]
  },
  {
   "cell_type": "code",
   "execution_count": null,
   "metadata": {},
   "outputs": [],
   "source": [
    "arr = np.arange(6).reshape(2, 3)\n",
    "arr"
   ]
  },
  {
   "cell_type": "code",
   "execution_count": null,
   "metadata": {},
   "outputs": [],
   "source": [
    "np.ravel(arr, order='F')"
   ]
  },
  {
   "attachments": {},
   "cell_type": "markdown",
   "metadata": {},
   "source": [
    "## 数组连接\n",
    "\n",
    "Numpy 提供如下函数用来进行连接多个数组：\n",
    "- `np.row_stack(tup)`，将多个一维数组当作行，合并成二维\n",
    "- `np.column_stack(tup)`，将多个一维数组当作列，合并成二维\n",
    "- `np.concatenate(tup, axis=0)`，沿指定的维度合并数组\n",
    "- `np.stack(tup, axis)`，在新的维度上合并数组  \n",
    "- `np.vstack(tup)`，沿第1个维度合并数组\n",
    "- `np.hstack(tup)`，沿第2个维度合并数组\n",
    "其中`tup`为数组组成的序列。"
   ]
  },
  {
   "cell_type": "markdown",
   "metadata": {},
   "source": [
    "### `np.row_stack()`\n",
    "\n",
    "将多个一维数组当作行，合并成二维数组，其使用语法：\n",
    "```python\n",
    "np.row_stack(tup)\n",
    "```"
   ]
  },
  {
   "cell_type": "code",
   "execution_count": null,
   "metadata": {},
   "outputs": [],
   "source": [
    "x1 = np.array([1, 2, 3])\n",
    "y1 = np.array([11, 12, 13])\n",
    "# 行合并\n",
    "np.row_stack((x1, y1))"
   ]
  },
  {
   "cell_type": "markdown",
   "metadata": {},
   "source": [
    "###  `np.column_stack()`\n",
    "\n",
    "将多个一维数组当作列，合并成二维数组，其使用语法：\n",
    "```python\n",
    "np.column_stack(tup)\n",
    "```"
   ]
  },
  {
   "cell_type": "code",
   "execution_count": null,
   "metadata": {},
   "outputs": [],
   "source": [
    "x1 = np.array([1, 2, 3])\n",
    "y1 = np.array([11, 12, 13])\n",
    "# 列合并\n",
    "np.column_stack((x1, y1))"
   ]
  },
  {
   "cell_type": "markdown",
   "metadata": {},
   "source": [
    "### `np.concatenate()`\n",
    "\n",
    "沿指定的维度合并数组，其使用语法：\n",
    "```python\n",
    "concatenate(tup, axis=0, out=None)\n",
    "```\n",
    "参数说明：\n",
    "- `tup`，数组组成的序列\n",
    "- `axis`，指定维度"
   ]
  },
  {
   "cell_type": "code",
   "execution_count": null,
   "metadata": {
    "slideshow": {
     "slide_type": "slide"
    }
   },
   "outputs": [],
   "source": [
    "arra = np.array([[1, 2], [3, 4]])\n",
    "arrb = np.array([[5, 6]])\n",
    "# 缺省沿第1维度合并\n",
    "np.concatenate((arra, arrb))"
   ]
  },
  {
   "cell_type": "code",
   "execution_count": null,
   "metadata": {},
   "outputs": [],
   "source": [
    "x2 = np.array([[1, 2, 3], [4, 5, 6]])\n",
    "y2 = np.array([[11, 12, 13], [14, 15, 16]])\n",
    "# 沿第一个维度合并\n",
    "print(np.concatenate((x2, y2), axis=0))\n",
    "# 沿第二个维度合并\n",
    "print(np.concatenate((x2, y2), axis=1))"
   ]
  },
  {
   "cell_type": "markdown",
   "metadata": {},
   "source": [
    "### `np.stack()`等\n",
    "\n",
    "在新的维度上合并数组，相当于先建一个维度，再在那个维度上进行合并，其使用语法为：\n",
    "```python\n",
    "np.stack(arrays, axis=0, out=None)\n",
    "```\n",
    "参数说明\n",
    "- `arrays`，数组组成的序列\n",
    "- `axis=0`，指定合并的维度\n",
    "\n",
    "`np.vstack()`在垂直维度上进行合并，`np.hstack()`在水平维度上进行合并，相当于调用`np.stack()`时指定`axis`。|"
   ]
  },
  {
   "cell_type": "code",
   "execution_count": null,
   "metadata": {},
   "outputs": [],
   "source": [
    "a = np.array([1, 2, 3])\n",
    "b = np.array([2, 3, 4])\n",
    "np.stack((a, b))"
   ]
  },
  {
   "cell_type": "code",
   "execution_count": null,
   "metadata": {},
   "outputs": [],
   "source": [
    "np.stack((a, b), axis=-1)"
   ]
  },
  {
   "cell_type": "code",
   "execution_count": null,
   "metadata": {},
   "outputs": [],
   "source": [
    "a = np.array([1, 2, 3])\n",
    "b = np.array([2, 3, 4])\n",
    "np.vstack((a,b))"
   ]
  },
  {
   "cell_type": "code",
   "execution_count": null,
   "metadata": {},
   "outputs": [],
   "source": [
    "a = np.array([1, 2, 3])\n",
    "b = np.array([2, 3, 4])\n",
    "np.hstack((a,b))"
   ]
  },
  {
   "attachments": {},
   "cell_type": "markdown",
   "metadata": {},
   "source": [
    "## 数组拆分\n",
    "\n",
    "Numpy 提供如下函数用来拆分数组：\n",
    "- `np.split(arr, indices, axis=0)`，沿指定的方向拆分\n",
    "- `np.hsplit(arr, indices)`，水平方向拆分，拆成多列\n",
    "- `np.vsplit(arr, indices)`，垂直方向拆分，拆成多行"
   ]
  },
  {
   "cell_type": "markdown",
   "metadata": {},
   "source": [
    "### `np.split()`\n",
    "\n",
    "`np.split()`沿指定的方向拆分拆分数组，其使用语法为：\n",
    "```python\n",
    "np.split(ary, indices_or_sections, axis=0)\n",
    "```\n",
    "参数说明：\n",
    "- `arr`，数组\n",
    "- `indices_or_sections`，位置或列表\n",
    "- `axis`，拆分的维度"
   ]
  },
  {
   "cell_type": "code",
   "execution_count": null,
   "metadata": {
    "slideshow": {
     "slide_type": "slide"
    }
   },
   "outputs": [],
   "source": [
    "x = np.arange(9.0)\n",
    "# 整数N，沿相应的方向拆成N等分\n",
    "np.split(x, 3)"
   ]
  },
  {
   "cell_type": "code",
   "execution_count": null,
   "metadata": {},
   "outputs": [],
   "source": [
    "x = np.arange(8.0)\n",
    "# 列表，沿相应的方向依次拆分\n",
    "np.split(x, [3, 5, 6, 10])"
   ]
  },
  {
   "cell_type": "code",
   "execution_count": null,
   "metadata": {
    "slideshow": {
     "slide_type": "-"
    }
   },
   "outputs": [],
   "source": [
    "x = np.arange(8.0)\n",
    "np.split(x, [3, 5, 6, 10])"
   ]
  },
  {
   "cell_type": "code",
   "execution_count": null,
   "metadata": {},
   "outputs": [],
   "source": [
    "x = np.arange(12).reshape((3, 4))\n",
    "x"
   ]
  },
  {
   "cell_type": "markdown",
   "metadata": {},
   "source": [
    "### `np.vsplit()`与`np.hsplit()`\n",
    "\n",
    "`np.hsplit()`水平拆分一个数组，`np.vsplit()`则垂直拆分一个数组，实际上是`np.split()`指定沿烈或沿行拆分。"
   ]
  },
  {
   "cell_type": "code",
   "execution_count": null,
   "metadata": {},
   "outputs": [],
   "source": [
    "# 水平拆分，沿列\n",
    "c1, c2 = np.hsplit(x, [1,])\n",
    "c1, c2"
   ]
  },
  {
   "cell_type": "code",
   "execution_count": null,
   "metadata": {},
   "outputs": [],
   "source": [
    "# 垂直拆分，沿行\n",
    "r1, r2, r3 = np.vsplit(x, 3)\n",
    "r1, r2, r3"
   ]
  },
  {
   "cell_type": "markdown",
   "metadata": {},
   "source": [
    "## 元素添加与修改\n",
    "\n",
    "- `np.append()`，将值添加到数组末尾\n",
    "- `np.insert()`，沿指定轴插入值\n",
    "- `np.delete()`，删除某个轴的子数组\n",
    "- `np.unique()`，查找数组内的唯一元素"
   ]
  },
  {
   "cell_type": "markdown",
   "metadata": {},
   "source": [
    "### `np.append()`\n",
    "\n",
    "将值添加到数组的末尾，其使用语法为：\n",
    "```python\n",
    "np.append(arr, values, axis=None)\n",
    "```\n",
    "- 输入\n",
    "    - `arr`，类似数组对象\n",
    "    - `values`，类似数组对象\n",
    "    - `axis`，添加维度\n",
    "- 输出\n",
    "    - 返回新的数组对象\n",
    "    \n",
    "输入数组的维度必须匹配，否则将抛出 `ValueError` 异常。"
   ]
  },
  {
   "cell_type": "code",
   "execution_count": null,
   "metadata": {},
   "outputs": [],
   "source": [
    "np.append([1, 2, 3], [[4, 5, 6], [7, 8, 9]])"
   ]
  },
  {
   "cell_type": "markdown",
   "metadata": {},
   "source": [
    "### `np.insert()`\n",
    "\n",
    "沿给定轴在给定索引前，在输入数组插入值，其使用语法为：\n",
    "```python\n",
    "np.insert(arr, obj, values, axis=None)\n",
    "```\n",
    "- 输入\n",
    "    - `arr`，类似数组对象\n",
    "    - `obj`，位置索引、切片或位置序列\n",
    "    - `values`，类似数组对象\n",
    "    - `axis`，添加维度\n",
    "- 输出\n",
    "    - 返回新的数组对象"
   ]
  },
  {
   "cell_type": "code",
   "execution_count": null,
   "metadata": {},
   "outputs": [],
   "source": [
    "arr = np.array([[1, 1], [2, 2], [3, 3]])\n",
    "arr"
   ]
  },
  {
   "cell_type": "code",
   "execution_count": null,
   "metadata": {},
   "outputs": [],
   "source": [
    "# 如果未提供轴，则输入数组会被展开\n",
    "np.insert(arr, 1, 5)"
   ]
  },
  {
   "cell_type": "code",
   "execution_count": null,
   "metadata": {},
   "outputs": [],
   "source": [
    "np.insert(arr, [1], [[1],[2],[3]], axis=1)"
   ]
  },
  {
   "cell_type": "markdown",
   "metadata": {},
   "source": [
    "### `np.delete()`\n",
    "\n",
    "从输入数组中删除指定子数组，其使用语法为：\n",
    "```python\n",
    "np.delete(arr, obj, axis=None)\n",
    "```\n",
    "- 输入\n",
    "    - `arr`，类似数组对象\n",
    "    - `obj`，位置索引、切片或位置序列\n",
    "    - `axis`，添加维度\n",
    "- 输出\n",
    "    - 返回新的数组对象\n",
    "    \n",
    "如果未提供轴参数，返回的是展开的数组。"
   ]
  },
  {
   "cell_type": "code",
   "execution_count": null,
   "metadata": {},
   "outputs": [],
   "source": [
    "arr = np.array([[1,2,3,4], [5,6,7,8], [9,10,11,12]])\n",
    "arr"
   ]
  },
  {
   "cell_type": "code",
   "execution_count": null,
   "metadata": {},
   "outputs": [],
   "source": [
    "np.delete(arr, 1, axis=0)"
   ]
  },
  {
   "cell_type": "code",
   "execution_count": null,
   "metadata": {},
   "outputs": [],
   "source": [
    "# 未提供轴参数，返回的是展开的数组。\n",
    "np.delete(arr, [1, 3, 5])"
   ]
  },
  {
   "cell_type": "markdown",
   "metadata": {},
   "source": [
    "### `np.unique()`\n",
    "\n",
    "数组元素去重，其使用语法为：\n",
    "```python\n",
    "np.unique(arr, return_index=False, return_inverse=False, return_counts=False, axis=None)\n",
    "```\n",
    "- 输入\n",
    "    - `arr`，类似数组对象\n",
    "    - `return_index`，如果为 True，返回新数组元素在原数组中的位置\n",
    "    - `axis`，维度\n",
    "- 输出\n",
    "    - 返回新的数组对象"
   ]
  },
  {
   "cell_type": "code",
   "execution_count": null,
   "metadata": {
    "slideshow": {
     "slide_type": "slide"
    }
   },
   "outputs": [],
   "source": [
    "np.unique([1, 1, 2, 2, 3, 3])"
   ]
  },
  {
   "cell_type": "code",
   "execution_count": null,
   "metadata": {
    "slideshow": {
     "slide_type": "-"
    }
   },
   "outputs": [],
   "source": [
    "a = np.array(['a', 'b', 'b', 'c', 'a'])\n",
    "u, indices = np.unique(a, return_index=True)\n",
    "u, indices"
   ]
  },
  {
   "cell_type": "markdown",
   "metadata": {},
   "source": [
    "## 数组翻转\n",
    "\n",
    "- `np.transpose()`，对换数组的维度"
   ]
  },
  {
   "cell_type": "markdown",
   "metadata": {},
   "source": [
    "### `np.transpose()`\n",
    "\n",
    "数组对象的属性`T`会返回数组的转置结果。Numpy 函数`np.transpose()`具有类似功能，其语法为：\n",
    "```python\n",
    "np.transpose(a, axes=None)\n",
    "```"
   ]
  },
  {
   "cell_type": "code",
   "execution_count": null,
   "metadata": {},
   "outputs": [],
   "source": [
    "x = np.arange(4).reshape((2,2))\n",
    "x"
   ]
  },
  {
   "cell_type": "code",
   "execution_count": null,
   "metadata": {},
   "outputs": [],
   "source": [
    "# 数组的转置结果\n",
    "x.T"
   ]
  },
  {
   "cell_type": "code",
   "execution_count": null,
   "metadata": {},
   "outputs": [],
   "source": [
    "# 转置数组\n",
    "np.transpose(x)"
   ]
  }
 ],
 "metadata": {
  "celltoolbar": "Slideshow",
  "kernelspec": {
   "display_name": "Python 3",
   "language": "python",
   "name": "python3"
  },
  "language_info": {
   "codemirror_mode": {
    "name": "ipython",
    "version": 3
   },
   "file_extension": ".py",
   "mimetype": "text/x-python",
   "name": "python",
   "nbconvert_exporter": "python",
   "pygments_lexer": "ipython3",
   "version": "3.6.4"
  },
  "toc": {
   "base_numbering": 1,
   "nav_menu": {},
   "number_sections": true,
   "sideBar": true,
   "skip_h1_title": false,
   "title_cell": "Table of Contents",
   "title_sidebar": "Contents",
   "toc_cell": false,
   "toc_position": {
    "height": "calc(100% - 180px)",
    "left": "10px",
    "top": "150px",
    "width": "196px"
   },
   "toc_section_display": true,
   "toc_window_display": true
  }
 },
 "nbformat": 4,
 "nbformat_minor": 2
}
