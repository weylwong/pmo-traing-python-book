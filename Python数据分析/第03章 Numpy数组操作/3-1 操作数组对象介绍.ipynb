{
 "cells": [
  {
   "cell_type": "markdown",
   "metadata": {},
   "source": [
    "# 操作数组介绍\n",
    "\n",
    "中国饮食文化源远流长，烹调方法多样，如：\n",
    "- 炒、爆、熘、炸、烹\n",
    "- 煎、贴、烧、焖、炖\n",
    "- 蒸、氽、煮、烩、炝\n",
    "- 腌、拌、烤、卤、冻\n",
    "- 拔丝、蜜汁、熏、卷\n",
    "\n",
    "Numpy 库提供的数组（ndarray）对象，是用于科学计算数据存储的一个基本结构对象。如同中餐烹调一样，在创建数组对象后，还需要对数组数据进行整理、处理、分析等各种操作。Numpy 包还提供大量实用函数，用于数组数据的各种处理。\n",
    "\n",
    "在数据分析过程中，对于数据常需要如下操作处理：\n",
    "- 数据查看\n",
    "- 数据处理\n",
    "- 数据可视化\n",
    "- 数据输出\n",
    "\n",
    "本章将围绕介绍"
   ]
  }
 ],
 "metadata": {
  "kernelspec": {
   "display_name": "Python 3",
   "language": "python",
   "name": "python3"
  },
  "language_info": {
   "codemirror_mode": {
    "name": "ipython",
    "version": 3
   },
   "file_extension": ".py",
   "mimetype": "text/x-python",
   "name": "python",
   "nbconvert_exporter": "python",
   "pygments_lexer": "ipython3",
   "version": "3.6.4"
  },
  "toc": {
   "base_numbering": 1,
   "nav_menu": {},
   "number_sections": true,
   "sideBar": true,
   "skip_h1_title": false,
   "title_cell": "Table of Contents",
   "title_sidebar": "Contents",
   "toc_cell": false,
   "toc_position": {},
   "toc_section_display": true,
   "toc_window_display": false
  }
 },
 "nbformat": 4,
 "nbformat_minor": 2
}
