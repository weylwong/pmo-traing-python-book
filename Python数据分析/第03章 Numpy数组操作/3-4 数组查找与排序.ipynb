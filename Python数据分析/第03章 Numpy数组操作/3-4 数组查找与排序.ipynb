{
 "cells": [
  {
   "cell_type": "markdown",
   "metadata": {
    "slideshow": {
     "slide_type": "slide"
    }
   },
   "source": [
    "# 数组查找与排序\n",
    "\n",
    "对于一个数组，经常需要进行如下操作：\n",
    "- 查找与搜索\n",
    "- 排序\n",
    "- 计数"
   ]
  },
  {
   "cell_type": "code",
   "execution_count": 1,
   "metadata": {},
   "outputs": [],
   "source": [
    "import numpy as np\n",
    "import matplotlib.pyplot as plt\n",
    "%matplotlib inline"
   ]
  },
  {
   "cell_type": "markdown",
   "metadata": {
    "slideshow": {
     "slide_type": "slide"
    }
   },
   "source": [
    "## 查找\n",
    "\n",
    "| 函数          |  说明      |\n",
    "|:------------------|:-------------|\n",
    "| `np.argmin(a, axis=None, out=None)`| 沿指定的维度查找最小元素的下标|\n",
    "| `np.argmax(a, axis=None, out=None)`| 沿指定的维度查找最大元素的下标 |\n",
    "| `np.argwhere(a)`| 返回满足条件的位置 |\n",
    "| `np.nonzero(a)`| 查找非零元素的下标 |"
   ]
  },
  {
   "cell_type": "markdown",
   "metadata": {},
   "source": [
    "### `np.argmin()`"
   ]
  },
  {
   "cell_type": "code",
   "execution_count": 2,
   "metadata": {},
   "outputs": [
    {
     "name": "stdout",
     "output_type": "stream",
     "text": [
      "9\n",
      "[2 0]\n"
     ]
    }
   ],
   "source": [
    "# 查找最小元素的下标：np.argmin\n",
    "arr = np.array([11, 13, 15, 17, 19, 18, 16, 14, 12, 10])\n",
    "print(np.argmin(arr))\n",
    "print(np.argmin(np.array([[2,1,0,3], [1,2,3,4]]), axis=1))"
   ]
  },
  {
   "cell_type": "markdown",
   "metadata": {},
   "source": [
    "### `np.argmax()`"
   ]
  },
  {
   "cell_type": "code",
   "execution_count": 3,
   "metadata": {},
   "outputs": [
    {
     "name": "stdout",
     "output_type": "stream",
     "text": [
      "4\n",
      "[3 3]\n"
     ]
    }
   ],
   "source": [
    "# 查找最大元素的下标：np.argmax\n",
    "arr = np.array([11, 13, 15, 17, 19, 18, 16, 14, 12, 10])\n",
    "print(np.argmax(arr))\n",
    "print(np.argmax(np.array([[2,1,0,3], [1,2,3,4]]), axis=1))"
   ]
  },
  {
   "cell_type": "markdown",
   "metadata": {},
   "source": [
    "### `np.argwhere()`"
   ]
  },
  {
   "cell_type": "code",
   "execution_count": 5,
   "metadata": {},
   "outputs": [
    {
     "data": {
      "text/plain": [
       "array([[1, 2],\n",
       "       [2, 0],\n",
       "       [2, 1],\n",
       "       [2, 2]], dtype=int64)"
      ]
     },
     "execution_count": 5,
     "metadata": {},
     "output_type": "execute_result"
    }
   ],
   "source": [
    "arr = np.arange(9).reshape(3, 3)\n",
    "np.argwhere(arr > 4)"
   ]
  },
  {
   "cell_type": "markdown",
   "metadata": {},
   "source": [
    "### `np.nonzero()`"
   ]
  },
  {
   "cell_type": "code",
   "execution_count": 6,
   "metadata": {},
   "outputs": [
    {
     "data": {
      "text/plain": [
       "(array([0, 0, 1], dtype=int64), array([0, 1, 1], dtype=int64))"
      ]
     },
     "execution_count": 6,
     "metadata": {},
     "output_type": "execute_result"
    }
   ],
   "source": [
    "# 查找非零元素下标：np.nonzero\n",
    "# 返回多个array，每个array是对应维度上的下标\n",
    "m = np.array([[1,2], [0,1]])\n",
    "x_idx, y_idx = np.nonzero(m)\n",
    "x_idx, y_idx"
   ]
  },
  {
   "cell_type": "markdown",
   "metadata": {},
   "source": [
    "## 排序\n",
    "\n",
    "- `numpy.sort()`，对数组进行排序，返回排序结果\n",
    "- `numpy.argsort()`，对数组进行排序，返回排序位置参数"
   ]
  },
  {
   "cell_type": "markdown",
   "metadata": {
    "slideshow": {
     "slide_type": "slide"
    }
   },
   "source": [
    "### `numpy.sort()`\n",
    "\n",
    "`numpy.sort()` 函数返回输入数组的排序副本，其使用语法为：\n",
    "```\n",
    "np.sort(a, axis=-1, kind='quicksort', order=None)\n",
    "```\n",
    "- 输入\n",
    "    - `a`: 需要排序的数组\n",
    "    - `axis`: 数组排序的轴，`axis=0`表示按列排序，`axis=1`表示按行排序\n",
    "    - `kind='quicksort`\n",
    "        - 排序（`quicksort`），缺省算法；\n",
    "        - 归并排序（`mergesort`）；\n",
    "        - 堆排序（`heapsort`）。\n",
    "    - `order=None`: 如果数组包含字段，则是要排序的字段\n",
    "- 输出\n",
    "    - 返回排序后数组"
   ]
  },
  {
   "cell_type": "code",
   "execution_count": 7,
   "metadata": {
    "slideshow": {
     "slide_type": "slide"
    }
   },
   "outputs": [
    {
     "data": {
      "text/plain": [
       "array([10, 11, 12, 13, 14, 15, 16, 17, 18, 19])"
      ]
     },
     "execution_count": 7,
     "metadata": {},
     "output_type": "execute_result"
    }
   ],
   "source": [
    "arr = np.array([11, 13, 15, 17, 19, 18, 16, 14, 12, 10])\n",
    "np.sort(arr)"
   ]
  },
  {
   "cell_type": "markdown",
   "metadata": {},
   "source": [
    "### `numpy.argsort()`\n",
    "\n",
    "`numpy.argsort()` 对数组进行排序，返回在数组中位置索引。"
   ]
  },
  {
   "cell_type": "code",
   "execution_count": 8,
   "metadata": {
    "slideshow": {
     "slide_type": "-"
    }
   },
   "outputs": [
    {
     "data": {
      "text/plain": [
       "array([9, 0, 8, 1, 7, 2, 6, 3, 5, 4], dtype=int64)"
      ]
     },
     "execution_count": 8,
     "metadata": {},
     "output_type": "execute_result"
    }
   ],
   "source": [
    "arr = np.array([11, 13, 15, 17, 19, 18, 16, 14, 12, 10])\n",
    "np.argsort(arr)"
   ]
  },
  {
   "cell_type": "code",
   "execution_count": 9,
   "metadata": {
    "slideshow": {
     "slide_type": "slide"
    }
   },
   "outputs": [
    {
     "data": {
      "text/plain": [
       "array([[0, 1, 2],\n",
       "       [3, 4, 5],\n",
       "       [6, 7, 8]])"
      ]
     },
     "execution_count": 9,
     "metadata": {},
     "output_type": "execute_result"
    }
   ],
   "source": [
    "arr = np.arange(9).reshape(3, 3)\n",
    "arr"
   ]
  },
  {
   "cell_type": "markdown",
   "metadata": {},
   "source": [
    "## 计数\n",
    "\n",
    "- `np.count_nonzero(a, axis=None)`，非零数字计数"
   ]
  },
  {
   "cell_type": "code",
   "execution_count": 10,
   "metadata": {
    "slideshow": {
     "slide_type": "slide"
    }
   },
   "outputs": [
    {
     "name": "stdout",
     "output_type": "stream",
     "text": [
      "4\n",
      "5\n"
     ]
    }
   ],
   "source": [
    "print(np.count_nonzero(np.eye(4)))\n",
    "print(np.count_nonzero([[0, 1, 7, 0, 0], [3, 0, 0, 2, 19]]))"
   ]
  },
  {
   "cell_type": "code",
   "execution_count": 11,
   "metadata": {
    "slideshow": {
     "slide_type": "-"
    }
   },
   "outputs": [
    {
     "data": {
      "text/plain": [
       "array([1, 1, 1, 1, 1], dtype=int64)"
      ]
     },
     "execution_count": 11,
     "metadata": {},
     "output_type": "execute_result"
    }
   ],
   "source": [
    "np.count_nonzero([[0,1,7,0,0],[3,0,0,2,19]], axis=0)"
   ]
  },
  {
   "cell_type": "code",
   "execution_count": 12,
   "metadata": {
    "slideshow": {
     "slide_type": "-"
    }
   },
   "outputs": [
    {
     "data": {
      "text/plain": [
       "array([2, 3], dtype=int64)"
      ]
     },
     "execution_count": 12,
     "metadata": {},
     "output_type": "execute_result"
    }
   ],
   "source": [
    "np.count_nonzero([[0,1,7,0,0], [3,0,0,2,19]], axis=1)"
   ]
  }
 ],
 "metadata": {
  "kernelspec": {
   "display_name": "Python 3",
   "language": "python",
   "name": "python3"
  },
  "language_info": {
   "codemirror_mode": {
    "name": "ipython",
    "version": 3
   },
   "file_extension": ".py",
   "mimetype": "text/x-python",
   "name": "python",
   "nbconvert_exporter": "python",
   "pygments_lexer": "ipython3",
   "version": "3.6.4"
  },
  "toc": {
   "base_numbering": 1,
   "nav_menu": {},
   "number_sections": true,
   "sideBar": true,
   "skip_h1_title": false,
   "title_cell": "Table of Contents",
   "title_sidebar": "Contents",
   "toc_cell": false,
   "toc_position": {
    "height": "calc(100% - 180px)",
    "left": "10px",
    "top": "150px",
    "width": "196px"
   },
   "toc_section_display": true,
   "toc_window_display": true
  }
 },
 "nbformat": 4,
 "nbformat_minor": 2
}
