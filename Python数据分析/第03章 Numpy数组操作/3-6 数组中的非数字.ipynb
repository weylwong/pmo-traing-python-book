{
 "cells": [
  {
   "cell_type": "markdown",
   "metadata": {},
   "source": [
    "# 数组中的非数字（nan）\n",
    "\n",
    "在收集数值数据时有时会出错，导致没有数据，常常食用非数字来表示空数据。Numpy 包使用`np.nan`或`np.NAN`来表示非数字值。"
   ]
  },
  {
   "cell_type": "code",
   "execution_count": 1,
   "metadata": {},
   "outputs": [],
   "source": [
    "import numpy as np"
   ]
  },
  {
   "cell_type": "markdown",
   "metadata": {},
   "source": [
    "如果一个数组中包含有非数字（`np.nan`）时，计算结果会与想象的有所不同，例如："
   ]
  },
  {
   "cell_type": "code",
   "execution_count": 5,
   "metadata": {},
   "outputs": [
    {
     "name": "stdout",
     "output_type": "stream",
     "text": [
      "nan\n"
     ]
    }
   ],
   "source": [
    "x = np.arange(10.)\n",
    "x[3] = np.nan\n",
    "print(x.sum())"
   ]
  },
  {
   "cell_type": "markdown",
   "metadata": {},
   "source": [
    "当数组中包含`np.nan`时，其结果仍然为非数字值。Numpy 中提供`np.nansum()`函数，在进行数组求和时，会忽略其中的`np.nan`值。下面运行`np.nansum()`："
   ]
  },
  {
   "cell_type": "code",
   "execution_count": 6,
   "metadata": {},
   "outputs": [
    {
     "data": {
      "text/plain": [
       "42.0"
      ]
     },
     "execution_count": 6,
     "metadata": {},
     "output_type": "execute_result"
    }
   ],
   "source": [
    "np.nansum(x)"
   ]
  },
  {
   "cell_type": "markdown",
   "metadata": {},
   "source": [
    "Numpy 包中还有很多类似的函数，例如：\n",
    "- `np.nanargmax()`\n",
    "- `np.nanargmin()`\n",
    "- `np.nancumprod()`\n",
    "- `np.nancumsum()`\n",
    "- `np.nanmax()`\n",
    "- `np.nanmean()`\n",
    "- `np.nanmedian()`\n",
    "- `np.nanmin()`\n",
    "- `np.nanpercentile()`\n",
    "- `np.nanprod()`\n",
    "- `np.nanstd()`\n",
    "- `np.nansum()`\n",
    "- `np.nanvar()`"
   ]
  }
 ],
 "metadata": {
  "kernelspec": {
   "display_name": "Python 3",
   "language": "python",
   "name": "python3"
  },
  "language_info": {
   "codemirror_mode": {
    "name": "ipython",
    "version": 3
   },
   "file_extension": ".py",
   "mimetype": "text/x-python",
   "name": "python",
   "nbconvert_exporter": "python",
   "pygments_lexer": "ipython3",
   "version": "3.6.4"
  },
  "toc": {
   "base_numbering": 1,
   "nav_menu": {},
   "number_sections": true,
   "sideBar": true,
   "skip_h1_title": false,
   "title_cell": "Table of Contents",
   "title_sidebar": "Contents",
   "toc_cell": false,
   "toc_position": {},
   "toc_section_display": true,
   "toc_window_display": false
  }
 },
 "nbformat": 4,
 "nbformat_minor": 2
}
