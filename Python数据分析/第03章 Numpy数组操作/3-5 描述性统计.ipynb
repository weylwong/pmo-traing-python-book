{
 "cells": [
  {
   "cell_type": "markdown",
   "metadata": {
    "slideshow": {
     "slide_type": "slide"
    }
   },
   "source": [
    "# Numpy的描述性统计\n",
    "\n",
    "对于数值型数组来说，经常需要使用统计结果进行数据描述。本节介绍 Numpy 包中的一些常用的描述性统计函数：\n",
    "- 排序统计\n",
    "- 均值与方差\n",
    "- 相关系数"
   ]
  },
  {
   "cell_type": "code",
   "execution_count": 1,
   "metadata": {
    "slideshow": {
     "slide_type": "-"
    }
   },
   "outputs": [],
   "source": [
    "import numpy as np\n",
    "import matplotlib.pyplot as plt\n",
    "%matplotlib inline"
   ]
  },
  {
   "cell_type": "markdown",
   "metadata": {
    "slideshow": {
     "slide_type": "slide"
    }
   },
   "source": [
    "## 基本统计\n",
    "\n",
    "| 函数          |  说明      |\n",
    "|:------------------|:-------------|\n",
    "| `numpy.amin(a[, axis, out, keepdims])`| 返回给定数组指定轴的最小值 |\n",
    "| `numpy.amax(a[, axis, out, keepdims])`| 返回给定数组指定轴的最大值 |\n",
    "| `numpy.ptp(a[, axis, out])`| 返回数组指定轴数组范围（最大值-最小值）|\n",
    "| `numpy.percentile(a, q[, axis, out, …])`| 计算数组在指定轴的百分位数 |"
   ]
  },
  {
   "cell_type": "markdown",
   "metadata": {
    "slideshow": {
     "slide_type": "slide"
    }
   },
   "source": [
    "### `numpy.amin()`与`numpy.amax()`\n",
    "\n",
    "从数组中查找最小值与最大值，可以沿指定轴查找。"
   ]
  },
  {
   "cell_type": "code",
   "execution_count": 8,
   "metadata": {
    "slideshow": {
     "slide_type": "slide"
    }
   },
   "outputs": [
    {
     "data": {
      "text/plain": [
       "array([0, 1, 2, 3, 4])"
      ]
     },
     "execution_count": 8,
     "metadata": {},
     "output_type": "execute_result"
    }
   ],
   "source": [
    "data = np.array([0, 1, 2, 3, 4])\n",
    "data"
   ]
  },
  {
   "cell_type": "code",
   "execution_count": 16,
   "metadata": {
    "slideshow": {
     "slide_type": "-"
    }
   },
   "outputs": [
    {
     "name": "stdout",
     "output_type": "stream",
     "text": [
      "0\n",
      "4\n"
     ]
    }
   ],
   "source": [
    "print(np.amin(data))\n",
    "print(np.amax(data))"
   ]
  },
  {
   "cell_type": "code",
   "execution_count": 17,
   "metadata": {
    "slideshow": {
     "slide_type": "slide"
    }
   },
   "outputs": [
    {
     "data": {
      "text/plain": [
       "array([[3, 7, 5],\n",
       "       [8, 4, 3],\n",
       "       [2, 4, 9]])"
      ]
     },
     "execution_count": 17,
     "metadata": {},
     "output_type": "execute_result"
    }
   ],
   "source": [
    "arr = np.array([[3,7,5],[8,4,3],[2,4,9]]) \n",
    "arr"
   ]
  },
  {
   "cell_type": "code",
   "execution_count": 18,
   "metadata": {
    "slideshow": {
     "slide_type": "-"
    }
   },
   "outputs": [
    {
     "name": "stdout",
     "output_type": "stream",
     "text": [
      "[2 4 3]\n",
      "[8 7 9]\n",
      "[3 3 2]\n",
      "[7 8 9]\n"
     ]
    }
   ],
   "source": [
    "print(np.amin(arr, axis=0))\n",
    "print(np.amax(arr, axis=0))\n",
    "print(np.amin(arr, axis=1))\n",
    "print(np.amax(arr, axis=1))"
   ]
  },
  {
   "cell_type": "markdown",
   "metadata": {
    "slideshow": {
     "slide_type": "slide"
    }
   },
   "source": [
    "### `numpy.ptp()`\n",
    "\n",
    "返回数组值的范围（最大值与最小值之差），可以沿指定轴计算。"
   ]
  },
  {
   "cell_type": "code",
   "execution_count": 19,
   "metadata": {
    "slideshow": {
     "slide_type": "slide"
    }
   },
   "outputs": [
    {
     "name": "stdout",
     "output_type": "stream",
     "text": [
      "4\n"
     ]
    }
   ],
   "source": [
    "arr = np.array([0, 1, 2, 3, 4])\n",
    "print(np.ptp(arr))"
   ]
  },
  {
   "cell_type": "code",
   "execution_count": 21,
   "metadata": {
    "slideshow": {
     "slide_type": "-"
    }
   },
   "outputs": [
    {
     "name": "stdout",
     "output_type": "stream",
     "text": [
      "[6 3 6]\n",
      "[4 5 7]\n"
     ]
    }
   ],
   "source": [
    "arr = np.array([[3,7,5],[8,4,3],[2,4,9]]) \n",
    "print(np.ptp(arr, axis=0))\n",
    "print(np.ptp(arr, axis=1))"
   ]
  },
  {
   "cell_type": "markdown",
   "metadata": {
    "slideshow": {
     "slide_type": "slide"
    }
   },
   "source": [
    "### `numpy.percentile()`\n",
    "\n",
    "百分位数是统计中使用的度量，表示小于这个值得观察值占某个百分比。\n",
    "![百分位数](../images/numpy_quartile.png)"
   ]
  },
  {
   "cell_type": "markdown",
   "metadata": {
    "slideshow": {
     "slide_type": "slide"
    }
   },
   "source": [
    "`numpy.percentile()`的语法为：\n",
    "```\n",
    "percentile(a, q, axis=None, out=None, overwrite_input=False, interpolation='linear', keepdims=False)\n",
    "```\n",
    "其中：\n",
    "- `a`，数组\n",
    "- `q`，要计算的百分位数，范围在0与100之间。"
   ]
  },
  {
   "cell_type": "code",
   "execution_count": 29,
   "metadata": {
    "slideshow": {
     "slide_type": "slide"
    }
   },
   "outputs": [
    {
     "name": "stdout",
     "output_type": "stream",
     "text": [
      "50.0\n",
      "[50. 40. 60.]\n",
      "[40. 20. 60.]\n"
     ]
    }
   ],
   "source": [
    "arr = np.array([[30, 40, 70],[80, 20, 10],[50, 90, 60]])  \n",
    "print(np.percentile(arr, 50))\n",
    "print(np.percentile(arr, 50, axis=0))\n",
    "print(np.percentile(arr, 50, axis=1))"
   ]
  },
  {
   "cell_type": "markdown",
   "metadata": {
    "slideshow": {
     "slide_type": "slide"
    }
   },
   "source": [
    "## 均值与方差\n",
    "\n",
    "| 函数          |  说明      |\n",
    "|:------------------|:-------------|\n",
    "| `numpy.mean(a[, axis, dtype, out, keepdims])`| 算术平均值 |\n",
    "| `numpy.average(a[, axis, weights, returned])`| 加权平均值 |\n",
    "| `numpy.median(a[, axis, out, overwrite_input, keepdims])`| 中位数 |\n",
    "| `numpy.std(a[, axis, dtype, out, ddof, keepdims])`| 标准差 |\n",
    "| `numpy.var(a[, axis, dtype, out, ddof, keepdims])`| 方差 |"
   ]
  },
  {
   "cell_type": "markdown",
   "metadata": {
    "slideshow": {
     "slide_type": "slide"
    }
   },
   "source": [
    "### `numpy.mean()`\n",
    "\n",
    "`numpy.mean()`用来计算数组数值的算术平均值，可以沿指定轴来计算。"
   ]
  },
  {
   "cell_type": "markdown",
   "metadata": {
    "slideshow": {
     "slide_type": "-"
    }
   },
   "source": [
    "对于一个数组$X$，假设有n个数值，则其平均值公式为：\n",
    "$$\n",
    "\\mu = \\frac{x_0 + x_1 + \\cdots+x_{n-1}}{N}\n",
    "$$"
   ]
  },
  {
   "cell_type": "code",
   "execution_count": 32,
   "metadata": {
    "slideshow": {
     "slide_type": "slide"
    }
   },
   "outputs": [
    {
     "data": {
      "text/plain": [
       "array([[ 0,  1,  2,  3],\n",
       "       [ 4,  5,  6,  7],\n",
       "       [ 8,  9, 10, 11],\n",
       "       [12, 13, 14, 15]])"
      ]
     },
     "execution_count": 32,
     "metadata": {},
     "output_type": "execute_result"
    }
   ],
   "source": [
    "arr = np.arange(16).reshape(4, 4)\n",
    "arr"
   ]
  },
  {
   "cell_type": "code",
   "execution_count": 34,
   "metadata": {
    "slideshow": {
     "slide_type": "-"
    }
   },
   "outputs": [
    {
     "name": "stdout",
     "output_type": "stream",
     "text": [
      "7.5\n",
      "[6. 7. 8. 9.]\n",
      "[ 1.5  5.5  9.5 13.5]\n"
     ]
    }
   ],
   "source": [
    "print(np.mean(arr))\n",
    "print(np.mean(arr, axis=0))\n",
    "print(np.mean(arr, axis=1))"
   ]
  },
  {
   "cell_type": "markdown",
   "metadata": {
    "slideshow": {
     "slide_type": "slide"
    }
   },
   "source": [
    "### `numpy.average()`\n",
    "\n",
    "用于计算数组的加权平均值。"
   ]
  },
  {
   "cell_type": "code",
   "execution_count": 44,
   "metadata": {
    "slideshow": {
     "slide_type": "slide"
    }
   },
   "outputs": [
    {
     "data": {
      "text/plain": [
       "(array([ 1,  2,  3,  4,  5,  6,  7,  8,  9, 10]),\n",
       " array([10,  9,  8,  7,  6,  5,  4,  3,  2,  1]))"
      ]
     },
     "execution_count": 44,
     "metadata": {},
     "output_type": "execute_result"
    }
   ],
   "source": [
    "data = np.arange(1,11)\n",
    "wts = np.arange(10,0,-1)\n",
    "data, wts"
   ]
  },
  {
   "cell_type": "code",
   "execution_count": 46,
   "metadata": {
    "slideshow": {
     "slide_type": "-"
    }
   },
   "outputs": [
    {
     "name": "stdout",
     "output_type": "stream",
     "text": [
      "5.5\n",
      "4.0\n"
     ]
    }
   ],
   "source": [
    "print(np.average(data))\n",
    "print(np.average(data, weights=wts))"
   ]
  },
  {
   "cell_type": "markdown",
   "metadata": {
    "slideshow": {
     "slide_type": "slide"
    }
   },
   "source": [
    "### `numpy.median`\n",
    "\n",
    "计算平均值时，常常会被某些大值或异常值影响，也就是“被平均”了的由来。中值是将数据样本平分的值，类似百分位数取50。"
   ]
  },
  {
   "cell_type": "code",
   "execution_count": 37,
   "metadata": {
    "slideshow": {
     "slide_type": "slide"
    }
   },
   "outputs": [
    {
     "name": "stdout",
     "output_type": "stream",
     "text": [
      "50.0\n",
      "[50. 40. 60.]\n",
      "[40. 20. 60.]\n"
     ]
    }
   ],
   "source": [
    "arr = np.array([[30, 40, 70],[80, 20, 10],[50, 90, 60]])  \n",
    "print(np.median(arr))\n",
    "print(np.median(arr, axis=0))\n",
    "print(np.median(arr, axis=1))"
   ]
  },
  {
   "cell_type": "code",
   "execution_count": 38,
   "metadata": {
    "slideshow": {
     "slide_type": "-"
    }
   },
   "outputs": [
    {
     "name": "stdout",
     "output_type": "stream",
     "text": [
      "50.0\n",
      "[50. 40. 60.]\n",
      "[40. 20. 60.]\n"
     ]
    }
   ],
   "source": [
    "print(np.percentile(arr, 50))\n",
    "print(np.percentile(arr, 50, axis=0))\n",
    "print(np.percentile(arr, 50, axis=1))"
   ]
  },
  {
   "cell_type": "markdown",
   "metadata": {
    "slideshow": {
     "slide_type": "slide"
    }
   },
   "source": [
    "### `numpy.std()`\n",
    "\n",
    "对于一个数组$X$，假设有n个数值，其标准差定义为:\n",
    "$$\n",
    "\\sigma = \\sqrt{\\frac{(x_1-\\mu)^2 +(x_2-\\mu)^2 +\\cdots+(x_{n-1}-\\mu)^2}{n}}\n",
    "$$\n",
    "其中$\\mu$是算术平均值。"
   ]
  },
  {
   "cell_type": "markdown",
   "metadata": {
    "slideshow": {
     "slide_type": "-"
    }
   },
   "source": [
    "如果数组是一个样本数据，其标准差公式调整为：\n",
    "$$\n",
    "\\sigma = \\sqrt{\\frac{(x_1-\\mu)^2 +(x_2-\\mu)^2 +\\cdots+(x_{n-1}-\\mu)^2}{n-1}}\n",
    "$$\n"
   ]
  },
  {
   "cell_type": "markdown",
   "metadata": {
    "slideshow": {
     "slide_type": "slide"
    }
   },
   "source": [
    "`numpy.std()`用来计算数值的标准差，其语法为：\n",
    "```\n",
    "std(a, axis=None, dtype=None, out=None, ddof=0)\n",
    "```\n",
    "需要注意的是，函数关键字参数`ddof=0`表示计算的是总体标准差。如果要计算样本标准差需要设置`ddof=1`，也就是公式内要除以`n-1`。"
   ]
  },
  {
   "cell_type": "code",
   "execution_count": 47,
   "metadata": {
    "slideshow": {
     "slide_type": "slide"
    }
   },
   "outputs": [
    {
     "data": {
      "text/plain": [
       "array([[ 0,  1,  2,  3],\n",
       "       [ 4,  5,  6,  7],\n",
       "       [ 8,  9, 10, 11],\n",
       "       [12, 13, 14, 15]])"
      ]
     },
     "execution_count": 47,
     "metadata": {},
     "output_type": "execute_result"
    }
   ],
   "source": [
    "arr = np.arange(16).reshape(4, 4)\n",
    "arr"
   ]
  },
  {
   "cell_type": "code",
   "execution_count": 49,
   "metadata": {
    "slideshow": {
     "slide_type": "-"
    }
   },
   "outputs": [
    {
     "name": "stdout",
     "output_type": "stream",
     "text": [
      "4.6097722286464435\n",
      "[4.47213595 4.47213595 4.47213595 4.47213595]\n",
      "[1.11803399 1.11803399 1.11803399 1.11803399]\n"
     ]
    }
   ],
   "source": [
    "print(np.std(arr))\n",
    "print(np.std(arr, axis=0))\n",
    "print(np.std(arr, axis=1))"
   ]
  },
  {
   "cell_type": "markdown",
   "metadata": {
    "slideshow": {
     "slide_type": "slide"
    }
   },
   "source": [
    "### `numpy.var()`\n",
    "\n",
    "方差是标准差的平方。"
   ]
  },
  {
   "cell_type": "code",
   "execution_count": 51,
   "metadata": {
    "slideshow": {
     "slide_type": "-"
    }
   },
   "outputs": [
    {
     "name": "stdout",
     "output_type": "stream",
     "text": [
      "21.25\n",
      "[20. 20. 20. 20.]\n",
      "[1.25 1.25 1.25 1.25]\n"
     ]
    }
   ],
   "source": [
    "print(np.var(arr))\n",
    "print(np.var(arr, axis=0))\n",
    "print(np.var(arr, axis=1))"
   ]
  },
  {
   "cell_type": "markdown",
   "metadata": {
    "slideshow": {
     "slide_type": "slide"
    }
   },
   "source": [
    "## 相关\n",
    "\n",
    "| 函数          |  说明      |\n",
    "|:------------------|:-------------|\n",
    "| `numpy.corrcoef(x[, y, rowvar, bias, ddof])`| 计算Pearson相关系数 |\n",
    "| `numpy.cov(m[, y, rowvar, bias, ddof, fweights, …])`| 计算协方差阵 |\n",
    "| `numpy.correlate(a, v[, mode])`| 计算2个一维数组的互相关 |"
   ]
  },
  {
   "cell_type": "markdown",
   "metadata": {},
   "source": [
    "### `numpy.corrcoef()`\n",
    "\n",
    "计算 Pearson 相关系数。"
   ]
  },
  {
   "cell_type": "code",
   "execution_count": 9,
   "metadata": {},
   "outputs": [
    {
     "name": "stdout",
     "output_type": "stream",
     "text": [
      "[[ 1.        -0.0137996]\n",
      " [-0.0137996  1.       ]]\n",
      "[[1.         0.80575208]\n",
      " [0.80575208 1.        ]]\n"
     ]
    }
   ],
   "source": [
    "ages = np.random.normal(35.0, 10.0, 1000)\n",
    "saleries = np.random.normal(50000, 10000, 1000)\n",
    "capitals = ages * saleries\n",
    "print(np.corrcoef(ages, saleries))\n",
    "print(np.corrcoef(ages, capitals))"
   ]
  },
  {
   "cell_type": "markdown",
   "metadata": {},
   "source": [
    "### `numpy.cov()`\n",
    "\n",
    "计算协方差阵。"
   ]
  },
  {
   "cell_type": "code",
   "execution_count": 8,
   "metadata": {},
   "outputs": [
    {
     "name": "stdout",
     "output_type": "stream",
     "text": [
      "[[ 9.70685004e+01 -4.73949039e+02]\n",
      " [-4.73949039e+02  9.63057158e+07]]\n",
      "[[9.70685004e+01 4.82254337e+06]\n",
      " [4.82254337e+06 3.64445805e+11]]\n"
     ]
    }
   ],
   "source": [
    "print(np.cov(ages, saleries))\n",
    "print(np.cov(ages, capitals))"
   ]
  }
 ],
 "metadata": {
  "celltoolbar": "Slideshow",
  "kernelspec": {
   "display_name": "Python 3",
   "language": "python",
   "name": "python3"
  },
  "language_info": {
   "codemirror_mode": {
    "name": "ipython",
    "version": 3
   },
   "file_extension": ".py",
   "mimetype": "text/x-python",
   "name": "python",
   "nbconvert_exporter": "python",
   "pygments_lexer": "ipython3",
   "version": "3.6.4"
  },
  "toc": {
   "base_numbering": 1,
   "nav_menu": {},
   "number_sections": true,
   "sideBar": true,
   "skip_h1_title": false,
   "title_cell": "Table of Contents",
   "title_sidebar": "Contents",
   "toc_cell": false,
   "toc_position": {
    "height": "calc(100% - 180px)",
    "left": "10px",
    "top": "150px",
    "width": "179px"
   },
   "toc_section_display": true,
   "toc_window_display": true
  }
 },
 "nbformat": 4,
 "nbformat_minor": 2
}
