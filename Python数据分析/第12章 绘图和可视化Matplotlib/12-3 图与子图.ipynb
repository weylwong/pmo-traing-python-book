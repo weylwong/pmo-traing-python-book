{
 "cells": [
  {
   "cell_type": "markdown",
   "metadata": {
    "slideshow": {
     "slide_type": "slide"
    }
   },
   "source": [
    "# Matplotlib 图与子图\n",
    "\n",
    "Matplotlib 库绘图可以使用面向对象的方式来进行。与人画画时得先有画布一样，Matplotlib 库绘图时也要先创建一个 Figure 对象，可以使用`plt.figure()`函数来创建 Figure 对象。\n",
    "\n",
    "然后使用 Figure 对象来创建一个或者多个 Axes 对象，称为子图，一个图中可有多个子图。使用`plt.subplot()`生成一个 Axes 对象，也可以使用或`plt.subplots()`一下子生成多个子图。\n",
    "\n",
    "在使用 `matplotlib.pyplot` 模块的函数进行绘图时，会把这些对象所构成的复杂结构隐藏在 API 内部。`matplotlib.pyplot` 模块的内部保存了当前图表以及当前子图等信息。使用如下函数来获取、设置或清除当前图与当前子图：\n",
    "- `plt.gcf()/plt.gca()` 获得当前图/子图\n",
    "- `plt.scf()/plt.sca()` 设定当前图/子图\n",
    "- `plt.clf()/plt.cla()` 清空当前图/子图\n",
    "\n",
    "当前图与当前子图对应的英文及缩写分别为\"Current Figure, cf\"和\"Get Current Axes, ca\"。"
   ]
  },
  {
   "cell_type": "markdown",
   "metadata": {},
   "source": [
    "## 使用面向对象方法绘图\n",
    "\n",
    "下面示例中，首先使用`plt.figure()`创建一个 Figure 对象，然后使用 Figure 对象来创建两个 Axes 对象，即子图；最后在子图中进行绘图："
   ]
  },
  {
   "cell_type": "code",
   "execution_count": null,
   "metadata": {},
   "outputs": [],
   "source": [
    "# 面向对象式\n",
    "fig = plt.figure()\n",
    "ax1 = fig.add_axes([0.1, 0.5, 0.8, 0.4],\n",
    "                   xticklabels=[], ylim=(-1.2, 1.2), title='A')\n",
    "ax2 = fig.add_axes([0.1, 0.1, 0.8, 0.4],\n",
    "                   ylim=(-1.2, 1.2), title='B')\n",
    "x = np.linspace(0, 10)\n",
    "ax1.plot(np.sin(x))\n",
    "ax2.plot(np.cos(x))"
   ]
  },
  {
   "cell_type": "markdown",
   "metadata": {
    "slideshow": {
     "slide_type": "slide"
    }
   },
   "source": [
    "## 移动轴线到图中央\n",
    "\n",
    "在一幅图中，坐标轴定义数据区域的边界，默认放置在坐标轴的边界。\n",
    "\n",
    "接着上节介绍的实例，使用`plt.gca()`获得当前子图，然后通过更改子图的 `splines` 属性来移动坐标轴线到图中央。"
   ]
  },
  {
   "cell_type": "code",
   "execution_count": null,
   "metadata": {
    "slideshow": {
     "slide_type": "slide"
    }
   },
   "outputs": [],
   "source": [
    "%matplotlib inline\n",
    "import numpy as np\n",
    "import matplotlib.pyplot as plt\n",
    "\n",
    "# build data\n",
    "x1 = np.linspace(-0.5*np.pi, 1.5*np.pi, 128)\n",
    "y1 = 2 * np.sin(x1)\n",
    "x2 = np.linspace(-0.5*np.pi, 1.5*np.pi, 256)\n",
    "y2 = 1.7 * np.sin(x2)\n",
    "x3 = np.linspace(-0.5*np.pi, 1.5*np.pi, 512)\n",
    "y3 = 1.4 * np.sin(x3)\n",
    "x4 = np.linspace(-0.5*np.pi, 1.5*np.pi, 1024)\n",
    "y4 = 1.2 * np.sin(x4)\n",
    "x5 = np.linspace(-0.5*np.pi, 1.5*np.pi, 2048)\n",
    "y5 = 1.0 * np.sin(x5)\n",
    "\n",
    "# Plot...\n",
    "plt.plot(x1, y1, '-', linewidth=1, color='b', label='G-FeCow at open circuit')\n",
    "plt.plot(x2, y2, '--', linewidth=1, color='g', label='G-FeCow at $+1.4$ V')\n",
    "plt.plot(x3, y3, '-.', linewidth=1, color='r', label='A-FeCow at open circuit')\n",
    "plt.plot(x4, y4, ':', linewidth=1, color='c', label='A-FeCow at $+1.4$ V')\n",
    "plt.plot(x5, y5, '-', linewidth=1, color='m', label='WO$_3$ ref')\n",
    "plt.xlim(-0.5*np.pi, 1.5*np.pi)\n",
    "ax = plt.gca()\n",
    "ax.spines['top'].set_color('none')\n",
    "ax.spines['right'].set_color('none')\n",
    "ax.spines['bottom'].set_position(('data', 0))\n",
    "ax.spines['left'].set_position(('data', 0))\n",
    "plt.xticks([-np.pi/2, 0, np.pi/2, np.pi, np.pi*3/2],\n",
    "           [r'$-\\pi/2$', r'$0$', r'$\\pi/2$', r'$\\pi$', r'$3\\pi/2$'])\n",
    "plt.yticks([-2, -1, 0, 1, 2])\n",
    "plt.xlabel('Energy (eV)')\n",
    "plt.ylabel('WL$_3$-edge XANES Intensity (A.U.)')\n",
    "plt.title('SINAP Demo A')\n",
    "\n",
    "# plt.legend()\n",
    "plt.legend(fontsize='x-small')\n",
    "# export a pdf file\n",
    "plt.savefig('demo01h.png')\n",
    "plt.show()"
   ]
  },
  {
   "cell_type": "markdown",
   "metadata": {},
   "source": [
    "## 子图\n",
    "\n",
    "调用 `plt.subplot()` 函数会创建一个子图，通过传入行，列，编号3个参数，来创建一个子图。下面使用`plt.subplot()`来实现在一幅图中创建多个子图。"
   ]
  },
  {
   "cell_type": "code",
   "execution_count": null,
   "metadata": {},
   "outputs": [],
   "source": [
    "plt.subplot?"
   ]
  },
  {
   "cell_type": "markdown",
   "metadata": {
    "slideshow": {
     "slide_type": "slide"
    }
   },
   "source": [
    "下面通过传入行参数为2，列参数为1，来创建**水平图** ：\n",
    "\n",
    "![水平图](../images/matplotlib_subplot-horizontal.png)"
   ]
  },
  {
   "cell_type": "code",
   "execution_count": null,
   "metadata": {},
   "outputs": [],
   "source": [
    "plt.subplot(2, 1, 1)\n",
    "plt.subplot(2, 1, 2)"
   ]
  },
  {
   "cell_type": "markdown",
   "metadata": {
    "slideshow": {
     "slide_type": "slide"
    }
   },
   "source": [
    "下面通过传入行参数为1，列参数为2，来创建**垂直图**：\n",
    "\n",
    "![垂直图](../images/matplotlib_subplot-vertical.png)"
   ]
  },
  {
   "cell_type": "code",
   "execution_count": null,
   "metadata": {
    "slideshow": {
     "slide_type": "slide"
    }
   },
   "outputs": [],
   "source": [
    "plt.subplot(1, 2, 1)\n",
    "\n",
    "plt.subplot(1, 2, 2)"
   ]
  },
  {
   "cell_type": "markdown",
   "metadata": {
    "slideshow": {
     "slide_type": "slide"
    }
   },
   "source": [
    "下面通过传入行参数为2， 列参数为2，来创建网格图：\n",
    "\n",
    "![网格图](../images/matplotlib_subplot-grid.png)"
   ]
  },
  {
   "cell_type": "code",
   "execution_count": null,
   "metadata": {
    "slideshow": {
     "slide_type": "slide"
    }
   },
   "outputs": [],
   "source": [
    "plt.subplot(2, 2, 1)\n",
    "plt.plot(x1, y1, '.')\n",
    "\n",
    "plt.subplot(2, 2, 2)\n",
    "plt.plot(x1, y1, '-')\n",
    "\n",
    "\n",
    "plt.subplot(2, 2, 3)\n",
    "plt.plot(x1, y1, '+')\n",
    "\n",
    "plt.subplot(2, 2, 4)\n",
    "plt.plot(x1, y1, 'o')"
   ]
  },
  {
   "cell_type": "markdown",
   "metadata": {
    "slideshow": {
     "slide_type": "slide"
    }
   },
   "source": [
    "### 不规则网格子图\n",
    "\n",
    "`matplotlib.pyplot` 模块还提供有一个函数`subplot2grid()`，可以创建创建不规则网格图，其函数参数为：\n",
    "- `shape`，一个元组，表示`(总行，总列)`；\n",
    "- `loc`，一个元组，表示起始坐标\n",
    "- 关键字参数`colspan,rowspan`，表示列与行跨度。\n",
    "\n",
    "![不规则网格子图](../images/matplotlib_gridspec.png)"
   ]
  },
  {
   "cell_type": "code",
   "execution_count": null,
   "metadata": {},
   "outputs": [],
   "source": [
    "ax1 = plt.subplot2grid((3, 3), (0, 0), colspan=3)\n",
    "ax2 = plt.subplot2grid((3, 3), (1, 0), colspan=2)\n",
    "ax3 = plt.subplot2grid((3, 3), (1, 2), rowspan=2)\n",
    "ax4 = plt.subplot2grid((3, 3), (2, 0))\n",
    "ax5 = plt.subplot2grid((3, 3), (2, 1))"
   ]
  }
 ],
 "metadata": {
  "kernelspec": {
   "display_name": "Python 3",
   "language": "python",
   "name": "python3"
  },
  "language_info": {
   "codemirror_mode": {
    "name": "ipython",
    "version": 3
   },
   "file_extension": ".py",
   "mimetype": "text/x-python",
   "name": "python",
   "nbconvert_exporter": "python",
   "pygments_lexer": "ipython3",
   "version": "3.6.4"
  },
  "toc": {
   "base_numbering": 1,
   "nav_menu": {},
   "number_sections": true,
   "sideBar": true,
   "skip_h1_title": false,
   "title_cell": "Table of Contents",
   "title_sidebar": "Contents",
   "toc_cell": false,
   "toc_position": {
    "height": "calc(100% - 180px)",
    "left": "10px",
    "top": "150px",
    "width": "186px"
   },
   "toc_section_display": true,
   "toc_window_display": false
  }
 },
 "nbformat": 4,
 "nbformat_minor": 1
}
