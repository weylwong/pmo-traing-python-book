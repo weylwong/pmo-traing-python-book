{
 "cells": [
  {
   "cell_type": "markdown",
   "metadata": {
    "slideshow": {
     "slide_type": "slide"
    }
   },
   "source": [
    "# 数据分析基础知识\n",
    "\n",
    "要掌握数据分析，还是需要了解一些基本知识，包括一些统计与概率的基本知识。本节将介绍数据类型的基本概念，以及一些基本的统计概念。俗话说，一图胜千言，使用图表可以更好的说明数据和统计知识。实际上，数据可视化是数据分析的重要步骤。在 Python 中，可以使用 Matplotlib 等库来绘图，会在后续章节专门介绍 Matplotlib 等库的使用说明，但在前面章节也不得不用。故在前面章节先了解基本绘图即可，等专门学过Matplotlib 等库后，再回头看一下。"
   ]
  },
  {
   "cell_type": "markdown",
   "metadata": {},
   "source": [
    "在 Python 数据分析的每个 notebook 文件中，通常都会导入如下常用模块："
   ]
  },
  {
   "cell_type": "code",
   "execution_count": null,
   "metadata": {
    "slideshow": {
     "slide_type": "slide"
    }
   },
   "outputs": [],
   "source": [
    "import numpy as np\n",
    "import scipy as sp\n",
    "import pandas as pd\n",
    "import matplotlib.pyplot as plt\n",
    "%matplotlib inline"
   ]
  },
  {
   "cell_type": "markdown",
   "metadata": {
    "slideshow": {
     "slide_type": "slide"
    }
   },
   "source": [
    "## 数据的类型（data types）\n",
    "\n",
    "数据分析的基础是数据，要成为一名优秀的数据分析工作人员，首先需要熟悉自己的数据。在百度百科定义中，数据(data)是事实或观察的结果，是对客观事物的逻辑归纳，是用于表示客观事物的未经加工的的原始素材。\n",
    "\n",
    "数据千千万万，可以根据数据的类型与意义分为：\n",
    "- 数值数据（Numerical data）\n",
    "- 分类数据（Categorical data ）\n",
    "- 有序数据（Ordinal data）\n",
    "- 文本数据（text data）"
   ]
  },
  {
   "cell_type": "markdown",
   "metadata": {
    "slideshow": {
     "slide_type": "slide"
    }
   },
   "source": [
    "### 数值数据\n",
    "\n",
    "数值数据是最常见的数据类型。顾名思义，数值数据代表了包含可以测量，可以计数的数据。例如，一所学校学生的身高体重，一个单位人员工资，中国A股的股票价格等等。\n",
    "\n",
    "根据数值数据的离散或连续性，可以分为：\n",
    "- 离散数据（discrete data）；\n",
    "- 连续数据（continuous data）。\n",
    "\n",
    "离散数据是指其数值只能用自然数或整数单位计算的数据。例如学校里各班级人数，电商中各商品的销售件数等。\n",
    "\n",
    "连续数据的数值是连续不断的，相邻两个数值可取无限个数值。例如动物的奔跑速度，一根绳子的长度等。"
   ]
  },
  {
   "cell_type": "markdown",
   "metadata": {
    "slideshow": {
     "slide_type": "slide"
    }
   },
   "source": [
    "### 类别数据\n",
    "\n",
    "类别数据是指反映事物类别的数据，是没有固有数字含义的数据。例如人类的性别，班级学生的编号，商品的颜色等。\n",
    "\n",
    "类别数据是离散数据，但是类别数据的数值并没有特别的含义，只是对不同事物进行分类的方式。例如对学生进行编号，并不意味着编号1的学生要比其它编号的学生优秀。\n",
    "\n",
    "对于分类只有两个取值的类别数据，称为二元分类数据，例如雇佣状态，婚否等。"
   ]
  },
  {
   "cell_type": "markdown",
   "metadata": {
    "slideshow": {
     "slide_type": "slide"
    }
   },
   "source": [
    "### 有序数据\n",
    "\n",
    "有序数据，是数字和类别数据的混合物。例如班级中学生成绩的排名，电影票房排名等。"
   ]
  },
  {
   "cell_type": "markdown",
   "metadata": {
    "slideshow": {
     "slide_type": "slide"
    }
   },
   "source": [
    "### 文本数据\n",
    "\n",
    "文本数据包括字符串类型，例如电子邮件、网页，对话等，或者多媒体信息（图片、声音、视频）。文本数据属于非结构化数据，同样有分析价值，但要提起文本数据中的信息，需要进行特殊的预处理。"
   ]
  },
  {
   "cell_type": "markdown",
   "metadata": {
    "slideshow": {
     "slide_type": "slide"
    }
   },
   "source": [
    "## 描述性统计概念\n",
    "\n",
    "- 平均数\n",
    "- 中位数\n",
    "- 众数\n",
    "- 标准差\n",
    "- 方差"
   ]
  },
  {
   "cell_type": "markdown",
   "metadata": {
    "slideshow": {
     "slide_type": "slide"
    }
   },
   "source": [
    "### 平均数\n",
    "\n",
    "平均数是统计学中最常用的统计量，用来表明资料中各观测值相对集中较多的中心位置。平均数是指在一组数据中所有数据之和再除以数据的个数。\n",
    "\n",
    "$$\n",
    "\\bar{x} = \\frac{x_0 + x_1 + \\cdots + x_{n-1}}{N}\n",
    "$$"
   ]
  },
  {
   "cell_type": "markdown",
   "metadata": {
    "slideshow": {
     "slide_type": "slide"
    }
   },
   "source": [
    "例如统计调查不同年代家庭的子女数目，例如70后,80后,90后家庭的小孩数目："
   ]
  },
  {
   "cell_type": "code",
   "execution_count": null,
   "metadata": {
    "slideshow": {
     "slide_type": "-"
    }
   },
   "outputs": [],
   "source": [
    "children = [2, 2, 2, 1, 2, 0, 1, 1, 0]"
   ]
  },
  {
   "cell_type": "code",
   "execution_count": null,
   "metadata": {
    "slideshow": {
     "slide_type": "-"
    }
   },
   "outputs": [],
   "source": [
    "# 子女数平均值\n",
    "sum(children) / len(children)"
   ]
  },
  {
   "cell_type": "code",
   "execution_count": null,
   "metadata": {
    "slideshow": {
     "slide_type": "slide"
    }
   },
   "outputs": [],
   "source": [
    "def mean(xs):\n",
    "    \"\"\"求平均值\"\"\"\n",
    "    return sum(xs) / len(xs)"
   ]
  },
  {
   "cell_type": "code",
   "execution_count": null,
   "metadata": {
    "slideshow": {
     "slide_type": "-"
    }
   },
   "outputs": [],
   "source": [
    "mean(children)"
   ]
  },
  {
   "cell_type": "markdown",
   "metadata": {
    "slideshow": {
     "slide_type": "slide"
    }
   },
   "source": [
    "### 中位数\n",
    "\n",
    "中位数（Median），代表一个样本中的一个数值，其可将数值集合划分为相等的上下两部分。"
   ]
  },
  {
   "cell_type": "markdown",
   "metadata": {
    "slideshow": {
     "slide_type": "-"
    }
   },
   "source": [
    "首先要对一组数据进行排序，并以中间结果为准。按照顺序排列进行来了得到数据为,$x_0, x_1, \\cdots, x_{n-1}$，如果N为奇数时，中位数是$x_{(N-1)/2}$ ；当N为偶数时，中位数是$\\frac{x_{N/2-1} + x_{N/2}}{2}$ 。"
   ]
  },
  {
   "cell_type": "code",
   "execution_count": null,
   "metadata": {
    "slideshow": {
     "slide_type": "slide"
    }
   },
   "outputs": [],
   "source": [
    "sorted(children)"
   ]
  },
  {
   "cell_type": "markdown",
   "metadata": {
    "slideshow": {
     "slide_type": "-"
    }
   },
   "source": [
    "即中位数为1。"
   ]
  },
  {
   "cell_type": "code",
   "execution_count": null,
   "metadata": {
    "slideshow": {
     "slide_type": "slide"
    }
   },
   "outputs": [],
   "source": [
    "def median(xs):\n",
    "    \"\"\"求中位数\"\"\"\n",
    "    xs = sorted(xs)\n",
    "    N = len(xs)\n",
    "    if N % 2 == 0:\n",
    "        return (xs[N // 2 - 1] + xs[N // 2]) / 2\n",
    "    else:\n",
    "        return  xs[(N-1) // 2]"
   ]
  },
  {
   "cell_type": "code",
   "execution_count": null,
   "metadata": {
    "slideshow": {
     "slide_type": "-"
    }
   },
   "outputs": [],
   "source": [
    "median(children)"
   ]
  },
  {
   "cell_type": "markdown",
   "metadata": {
    "slideshow": {
     "slide_type": "slide"
    }
   },
   "source": [
    "### 异常值\n",
    "\n",
    "通常情况下，中位数和平均值非常接近。但如果有一些异常值，例如有一个超生游击队家庭有100个孩子（文王百子），那么平均数就失真了。"
   ]
  },
  {
   "cell_type": "code",
   "execution_count": null,
   "metadata": {
    "slideshow": {
     "slide_type": "-"
    }
   },
   "outputs": [],
   "source": [
    "tchildren = [2, 2, 2, 1, 2, 0, 1, 1, 0, 100]\n",
    "print(mean(tchildren), median(tchildren))"
   ]
  },
  {
   "cell_type": "markdown",
   "metadata": {
    "slideshow": {
     "slide_type": "-"
    }
   },
   "source": [
    "可以看出由于有异常值，平均值完全失真，但是中位数受到异常值的影响要小得多。"
   ]
  },
  {
   "cell_type": "markdown",
   "metadata": {
    "slideshow": {
     "slide_type": "slide"
    }
   },
   "source": [
    "### 众数\n",
    "\n",
    "众数（mode）是一组数据中出现次数最多的数值。例如家庭子女数目统计结果中，2个子女出现的频次最多，所以众数是2。"
   ]
  },
  {
   "cell_type": "code",
   "execution_count": null,
   "metadata": {
    "slideshow": {
     "slide_type": "slide"
    }
   },
   "outputs": [],
   "source": [
    "import collections\n",
    "def mode(xs):\n",
    "    freqs = collections.Counter()\n",
    "    for x in xs:\n",
    "        freqs[x] += 1\n",
    "\n",
    "    return freqs.most_common(1)[0]"
   ]
  },
  {
   "cell_type": "code",
   "execution_count": null,
   "metadata": {
    "slideshow": {
     "slide_type": "-"
    }
   },
   "outputs": [],
   "source": [
    "element, number = mode(children)\n",
    "element, number"
   ]
  },
  {
   "cell_type": "markdown",
   "metadata": {
    "slideshow": {
     "slide_type": "slide"
    }
   },
   "source": [
    "### 方差\n",
    "\n",
    "方差（variance）衡量随机变量或一组数据时离散程度的度量，是每个样本值与全体样本值的平均数之差的平方值的平均数。\n",
    "\n",
    "$$\n",
    "\\sigma^2 = \\frac{\\sum{(\\chi-\\mu)^2}}{N}\n",
    "$$"
   ]
  },
  {
   "cell_type": "code",
   "execution_count": null,
   "metadata": {
    "slideshow": {
     "slide_type": "-"
    }
   },
   "outputs": [],
   "source": [
    "def variance(xs):\n",
    "    \"\"\"求方差\"\"\"\n",
    "    avg = mean(xs)\n",
    "    xvars = [(x - avg)**2 for x in xs]\n",
    "    return sum(xvars) / len(xvars)"
   ]
  },
  {
   "cell_type": "code",
   "execution_count": null,
   "metadata": {
    "slideshow": {
     "slide_type": "slide"
    }
   },
   "outputs": [],
   "source": [
    "# 计算方差\n",
    "variance(children)"
   ]
  },
  {
   "cell_type": "markdown",
   "metadata": {
    "slideshow": {
     "slide_type": "-"
    }
   },
   "source": [
    "可知家庭子女数目调查结果数据的方差，大约为0.617。"
   ]
  },
  {
   "cell_type": "markdown",
   "metadata": {
    "slideshow": {
     "slide_type": "slide"
    }
   },
   "source": [
    "### 标准差\n",
    "\n",
    "标准差（Standard Deviation） ，能反映一个数据集的离散程度。标准差$\\sigma$是方差的算术平方根。"
   ]
  },
  {
   "cell_type": "code",
   "execution_count": null,
   "metadata": {
    "slideshow": {
     "slide_type": "-"
    }
   },
   "outputs": [],
   "source": [
    "import math\n",
    "\n",
    "def stdvar(xs):\n",
    "    \"\"\"求标准差\"\"\"\n",
    "    return math.sqrt(variance(xs))"
   ]
  },
  {
   "cell_type": "code",
   "execution_count": null,
   "metadata": {
    "slideshow": {
     "slide_type": "slide"
    }
   },
   "outputs": [],
   "source": [
    "# 计算方差\n",
    "stdvar(children)"
   ]
  },
  {
   "cell_type": "markdown",
   "metadata": {
    "slideshow": {
     "slide_type": "-"
    }
   },
   "source": [
    "可知家庭子女数目调查结果数据的标准差，大约为0.789"
   ]
  },
  {
   "cell_type": "markdown",
   "metadata": {
    "slideshow": {
     "slide_type": "slide"
    }
   },
   "source": [
    "### 总体方差与样本方差\n",
    "\n",
    "在实际工作，我们通常是从一个总体数据中进行抽样，得到一个样本数据。因此在计算方差时，存在总体方差与样本方差的区别。对于一个样本，其方差为：\n",
    "$$\n",
    "S^2 = \\frac{\\sum{(\\chi-\\mu)^2}}{N-1}\n",
    "$$"
   ]
  },
  {
   "cell_type": "markdown",
   "metadata": {
    "slideshow": {
     "slide_type": "slide"
    }
   },
   "source": [
    "因此，我们可以重新定义方差与标准差函数："
   ]
  },
  {
   "cell_type": "code",
   "execution_count": null,
   "metadata": {
    "slideshow": {
     "slide_type": "-"
    }
   },
   "outputs": [],
   "source": [
    "def variance(xs, ddof=0):\n",
    "    \"\"\"求方差\"\"\"\n",
    "    avg = mean(xs)\n",
    "    xvars = [(x - avg)**2 for x in xs]\n",
    "    return sum(xvars) / (len(xvars) - ddof)"
   ]
  },
  {
   "cell_type": "code",
   "execution_count": null,
   "metadata": {
    "slideshow": {
     "slide_type": "-"
    }
   },
   "outputs": [],
   "source": [
    "import math\n",
    "\n",
    "def stdvar(xs, ddof=0):\n",
    "    \"\"\"求标准差\"\"\"\n",
    "    return math.sqrt(variance(xs, ddof))"
   ]
  },
  {
   "cell_type": "markdown",
   "metadata": {
    "slideshow": {
     "slide_type": "slide"
    }
   },
   "source": [
    "### 使用Numpy与Scipy包\n",
    "\n",
    "实际上，在Numpy与Scipy包中，已经提供这些计算数据集的统计值函数：\n",
    "- 平均数，`numpy.mean()`\n",
    "- 中位数，`numpy.median()`\n",
    "- 众数，`scipy.stats.mode()`\n",
    "- 方差，`numpy.var()`\n",
    "- 标准差，`numpy.std()`"
   ]
  },
  {
   "cell_type": "markdown",
   "metadata": {
    "slideshow": {
     "slide_type": "slide"
    }
   },
   "source": [
    "下面调用这些函数再来计算以便家庭子女数目数据中的统计值："
   ]
  },
  {
   "cell_type": "code",
   "execution_count": null,
   "metadata": {
    "slideshow": {
     "slide_type": "-"
    }
   },
   "outputs": [],
   "source": [
    "from scipy import stats\n",
    "print(np.mean(children), np.median(children))\n",
    "print(stats.mode(children))\n",
    "print('总体方差：', np.var(children), np.std(children))\n",
    "print('样本方差：', np.var(children, ddof=1), np.std(children, ddof=1))"
   ]
  },
  {
   "cell_type": "markdown",
   "metadata": {
    "slideshow": {
     "slide_type": "slide"
    }
   },
   "source": [
    "### 你被平均了吗\n",
    "\n",
    "每次看到官方发布平均工资或收入的时候，总会有一种被平均的感觉。为什么会有这样的感觉呢？我们来仿真一个人们收入的样本数据。这里使用`numpy.random` 包中 `normal` 函数来创建一个年收入样本数据来。"
   ]
  },
  {
   "cell_type": "code",
   "execution_count": null,
   "metadata": {
    "slideshow": {
     "slide_type": "-"
    }
   },
   "outputs": [],
   "source": [
    "incomes = np.random.normal(50000, 25000, 10000)"
   ]
  },
  {
   "cell_type": "markdown",
   "metadata": {
    "slideshow": {
     "slide_type": "-"
    }
   },
   "source": [
    "在`np.random.normal`函数中，传入了三个参数，分别表示数据期望值集中在50000左右，标准差为25000，总共创建10000个数据点。"
   ]
  },
  {
   "cell_type": "markdown",
   "metadata": {
    "slideshow": {
     "slide_type": "slide"
    }
   },
   "source": [
    "然后计算出年收入的平均值、中值与标准差："
   ]
  },
  {
   "cell_type": "code",
   "execution_count": null,
   "metadata": {
    "slideshow": {
     "slide_type": "-"
    }
   },
   "outputs": [],
   "source": [
    "print(np.mean(incomes), np.median(incomes), np.std(incomes))"
   ]
  },
  {
   "cell_type": "markdown",
   "metadata": {
    "slideshow": {
     "slide_type": "slide"
    }
   },
   "source": [
    "看起来平均值与中值还比较一致。然而现实是“冰冰”们的存在。这里，在年收入数据集中增加一个年收入值，900000000。大家没看错是9个亿。"
   ]
  },
  {
   "cell_type": "code",
   "execution_count": null,
   "metadata": {
    "slideshow": {
     "slide_type": "-"
    }
   },
   "outputs": [],
   "source": [
    "incomes = np.append(incomes, [900000000])"
   ]
  },
  {
   "cell_type": "markdown",
   "metadata": {
    "slideshow": {
     "slide_type": "slide"
    }
   },
   "source": [
    "然后再来计算年收入的平均值、中值与标准差："
   ]
  },
  {
   "cell_type": "code",
   "execution_count": null,
   "metadata": {
    "slideshow": {
     "slide_type": "-"
    }
   },
   "outputs": [],
   "source": [
    "print(np.mean(incomes), np.median(incomes), np.std(incomes))"
   ]
  },
  {
   "cell_type": "markdown",
   "metadata": {
    "slideshow": {
     "slide_type": "slide"
    }
   },
   "source": [
    "没错，平均年收入到了14万，我们就这被平均了。不过中位数变化不大。也就是说，异常值对中位数改变并不大。如果怀疑数据中可能存在异常值的话，应该使用中位数。为什么在收入统计中用平均值而不用中位数，理由您懂得。\n",
    "\n",
    "从上还可以看到，标准差$\\sigma$大约是900万。如果年收入大于3倍$\\sigma$，也就是年收入达到2700万，那么恭喜，您绝对是一个“异常”优秀的人。\n",
    "\n",
    "从根本上来说，年收入与很多因素有关，肯定不是一个正态分布的随机数，平均数与中位数差异大也是正常的，但不要欺负我们不懂数据分析。"
   ]
  },
  {
   "cell_type": "markdown",
   "metadata": {
    "slideshow": {
     "slide_type": "slide"
    }
   },
   "source": [
    "### 使用直方图来绘制年收入\n",
    "\n",
    "直方图(Histogram)是一种统计报告图，由一系列高度不等的纵向条纹表示数据分布的情况。使用`Matplotlib`库可以轻松画出一个数据集的直方图来。大家不用担心，在后续章节会专门介绍Matplotlib。"
   ]
  },
  {
   "cell_type": "code",
   "execution_count": null,
   "metadata": {
    "slideshow": {
     "slide_type": "slide"
    }
   },
   "outputs": [],
   "source": [
    "import numpy as np\n",
    "import matplotlib.pyplot as plt\n",
    "\n",
    "incomes = np.random.normal(50000, 25000, 10000)\n",
    "plt.hist(incomes, 51)\n",
    "plt.show()"
   ]
  },
  {
   "cell_type": "markdown",
   "metadata": {
    "slideshow": {
     "slide_type": "slide"
    }
   },
   "source": [
    "如果把数据加入一个异常值来，再重新绘制直方图。"
   ]
  },
  {
   "cell_type": "code",
   "execution_count": null,
   "metadata": {
    "slideshow": {
     "slide_type": "-"
    }
   },
   "outputs": [],
   "source": [
    "incomes = np.append(incomes, [900000000])\n",
    "plt.hist(incomes, 50)\n",
    "plt.show()"
   ]
  },
  {
   "cell_type": "markdown",
   "metadata": {
    "slideshow": {
     "slide_type": "slide"
    }
   },
   "source": [
    "结果变得有些奇怪。这是因为由于有些异常大的数据，使得在大多数条状中没有数据。大部分数据都落在一个小的条状中。"
   ]
  },
  {
   "cell_type": "markdown",
   "metadata": {},
   "source": [
    "## 概率密度函数和概率质量函数\n",
    "\n"
   ]
  },
  {
   "cell_type": "markdown",
   "metadata": {
    "slideshow": {
     "slide_type": "slide"
    }
   },
   "source": [
    "### 正态分布\n"
   ]
  },
  {
   "cell_type": "code",
   "execution_count": null,
   "metadata": {
    "slideshow": {
     "slide_type": "-"
    }
   },
   "outputs": [],
   "source": [
    "from scipy.stats import norm\n",
    "import matplotlib.pyplot as plt\n",
    "\n",
    "x = np.arange(-3, 3, 0.001)\n",
    "incomes = np.random.normal(50000, 25000, 10000)\n",
    "plt.hist(incomes, 51)\n",
    "plt.show()\n",
    "plt.plot(x, norm.pdf(x))\n"
   ]
  },
  {
   "cell_type": "markdown",
   "metadata": {},
   "source": [
    "## 百分位数与矩\n",
    "\n"
   ]
  },
  {
   "cell_type": "markdown",
   "metadata": {},
   "source": [
    "### 百分位数\n",
    "\n",
    "统计学术语，如果将一组数据从小到大排序，并计算相应的累计百分位，则某一百分位所对应数据的值就称为这一百分位的百分位数。可表示为：一组n个观测值按数值大小排列。如，处于p%位置的值称第p百分位数。"
   ]
  },
  {
   "cell_type": "markdown",
   "metadata": {},
   "source": [
    "#### 四分位数（Quartiles）\n",
    "\n",
    "四分位数（Quartile），是指在统计学中把所有数值由小到大排列并分成四等份，处于三个分割点位置的数值。四分位数是通过3个点将全部数据等分为4部分，其中每部分包含25%的数据。"
   ]
  },
  {
   "cell_type": "markdown",
   "metadata": {
    "slideshow": {
     "slide_type": "slide"
    }
   },
   "source": [
    "四分位数有三个，分别表示如下：\n",
    "- Q1，称为下四分位数，等于该样本中所有数值由小到大排列后第25%的数字。\n",
    "- Q2，就是中位数，等于该样本中所有数值由小到大排列后第50%的数字。\n",
    "- Q3，称为上四分位数，等于该样本中所有数值由小到大排列后第75%的数字。"
   ]
  },
  {
   "cell_type": "markdown",
   "metadata": {
    "slideshow": {
     "slide_type": "-"
    }
   },
   "source": [
    "Q3与Q1的差距又称四分位距（InterQuartile Range,IQR）。"
   ]
  },
  {
   "cell_type": "markdown",
   "metadata": {
    "slideshow": {
     "slide_type": "slide"
    }
   },
   "source": [
    "### 矩（moment）\n",
    "\n",
    "在数学和统计学中，矩（moment）是对变量分布和形态特点的一组度量。n阶矩被定义为一变量的n次方与其概率密度函数（Probability Distribution Function, PDF）之积的积分。"
   ]
  },
  {
   "cell_type": "markdown",
   "metadata": {
    "slideshow": {
     "slide_type": "slide"
    }
   },
   "source": [
    "变量的\n",
    "- 一阶矩就是平均值（mean）\n",
    "- 二阶矩就是方差（variance）\n",
    "- 三阶矩就是偏度（skewness）\n",
    "- 四阶矩就是峰度（kurtosis）"
   ]
  },
  {
   "cell_type": "markdown",
   "metadata": {
    "slideshow": {
     "slide_type": "slide"
    }
   },
   "source": [
    "## 协方差与相关\n",
    "\n",
    "使用协方差和相关性来测量两个不同属性之间是否存在相关的方法\n",
    "\n",
    "<img src=\"../images/age_salary.png\" width=\"70%\" >"
   ]
  },
  {
   "cell_type": "markdown",
   "metadata": {
    "slideshow": {
     "slide_type": "slide"
    }
   },
   "source": [
    "- 协方差公式\n",
    "$$\\mathrm{COV}(X, Y) = \\frac{\\sum_{i=1}^n(X_i-\\hat{X})(Y_i-\\hat{Y})}{n-1}$$\n",
    "\n",
    "- 相关系数公式\n",
    "$$ r_{XY} = \\frac{\\mathrm{COV}(X,Y)}{\\sigma_x\\sigma_y}$$\n",
    "\n",
    "> 相关系数为-1代表完全负相关，0表示无相关，1表示完全正相关。"
   ]
  },
  {
   "cell_type": "code",
   "execution_count": null,
   "metadata": {
    "slideshow": {
     "slide_type": "slide"
    }
   },
   "outputs": [],
   "source": [
    "import numpy as np\n",
    "\n",
    "def de_mean(x):\n",
    "    xmean = mean(x)\n",
    "    return [xi - xmean for xi in x]\n",
    "\n",
    "def covariance(x, y):\n",
    "    n = len(x)\n",
    "    return np.dot(de_mean(x), de_mean(y)) / (n-1)\n",
    "\n",
    "def correlation(x, y):\n",
    "    stddevx = stdvar(x)\n",
    "    stddevy = stdvar(y)\n",
    "    return covariance(x,y) / stddevx / stddevy  #In real life you'd check for divide by zero here"
   ]
  },
  {
   "cell_type": "code",
   "execution_count": null,
   "metadata": {
    "slideshow": {
     "slide_type": "slide"
    }
   },
   "outputs": [],
   "source": [
    "ages = np.random.normal(35.0, 10.0, 1000)\n",
    "saleries = np.random.normal(50000, 10000, 1000)\n",
    "capitals = ages * saleries\n",
    "print('协方差: {}; 相关系数：{}'.format(covariance(ages, saleries), correlation(ages, saleries)))\n",
    "print('协方差: {}; 相关系数：{}'.format(covariance(ages, capitals), correlation(ages, capitals)))"
   ]
  },
  {
   "cell_type": "markdown",
   "metadata": {
    "slideshow": {
     "slide_type": "slide"
    }
   },
   "source": [
    "Numpy 则使用如下函数：\n",
    "- `numpy.cov()`: 计算协方差的函数\n",
    "- `numpy.corrcoef()`函数计算相关性"
   ]
  }
 ],
 "metadata": {
  "kernelspec": {
   "display_name": "Python 3",
   "language": "python",
   "name": "python3"
  },
  "language_info": {
   "codemirror_mode": {
    "name": "ipython",
    "version": 3
   },
   "file_extension": ".py",
   "mimetype": "text/x-python",
   "name": "python",
   "nbconvert_exporter": "python",
   "pygments_lexer": "ipython3",
   "version": "3.6.4"
  },
  "toc": {
   "base_numbering": 1,
   "nav_menu": {},
   "number_sections": true,
   "sideBar": true,
   "skip_h1_title": false,
   "title_cell": "Table of Contents",
   "title_sidebar": "Contents",
   "toc_cell": false,
   "toc_position": {
    "height": "calc(100% - 180px)",
    "left": "10px",
    "top": "150px",
    "width": "164px"
   },
   "toc_section_display": true,
   "toc_window_display": true
  }
 },
 "nbformat": 4,
 "nbformat_minor": 2
}
