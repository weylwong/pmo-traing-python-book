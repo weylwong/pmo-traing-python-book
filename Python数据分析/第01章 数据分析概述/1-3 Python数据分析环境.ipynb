{
 "cells": [
  {
   "cell_type": "markdown",
   "metadata": {
    "slideshow": {
     "slide_type": "slide"
    }
   },
   "source": [
    "# Python 数据分析环境\n",
    "\n",
    "要使用 Python 进行数据分析，需要搭建一个 Python 数据分析平台。"
   ]
  },
  {
   "cell_type": "markdown",
   "metadata": {},
   "source": [
    "## 操作系统\n",
    "\n",
    "首先得有一台配有操作系统计算机。Python 支持大部分操作系统，例如 Windows、Linux、与 Mac OS系统，故而可以选择一个自己喜爱的操作系统。个人偏好是创建一个 Linux 系统的云服务器以及一个安装 Windows 系统的笔记本。"
   ]
  },
  {
   "cell_type": "markdown",
   "metadata": {},
   "source": [
    "## Python 环境\n",
    "\n",
    "Python 同时维持了 Python 2 和 Python 3，这里会选择 Python 3。\n",
    "\n",
    "Python 程序开发与运行可以采用如下方式：\n",
    "- python，Python解释器\n",
    "- ipython，增强的交互式Python\n",
    "- jupyter notebook，基于网络的交互式环境\n",
    "- 集成开发环境（PyCharm 或 Visual Code）\n",
    "\n",
    "毫无疑问，首选 Anaconda 来搭建 Python 数据分析平台。这也意味着 python、ipython与jupyter notebook，以及后面提到的数据分析库会预先安装。\n",
    "\n",
    "对于 Linux 云服务器，建议再安装 Jupyter Hub，方便任意时间任意地点使用Jupyter Notebook。\n",
    "\n",
    "最后安装一个集成开发环境，Pycharm 或 Visual Code 都行。选择不重要，重要的是坚持用下去。"
   ]
  },
  {
   "cell_type": "markdown",
   "metadata": {
    "slideshow": {
     "slide_type": "slide"
    }
   },
   "source": [
    "## Python数据分析栈\n",
    "\n",
    "Python 数据分析强大之处，在于拥有一系列的数据分析库：\n",
    "\n",
    "**科学计算与数据分析**\n",
    "- Numpy，数值计算基础包。\n",
    "- SciPy，基于Numpy的科学计算包\n",
    "- Pandas，Python的数据分析包\n",
    "- statsmodels，包含模型、测试和数据挖掘的统计分析包。\n",
    "\n",
    "**可视化库**\n",
    "- Matplotlib，绘制图表的基础图形库。\n",
    "- Seaborn 是 Matplotlib 的高级封装，快速对数据集及其统计结果进行可视化。"
   ]
  },
  {
   "cell_type": "markdown",
   "metadata": {
    "slideshow": {
     "slide_type": "slide"
    }
   },
   "source": [
    "**机器学习与深度学习**\n",
    "- Scikit-Learn，通用机器学习工具包。\n",
    "- TensorFlow，Google开源的深度学习开源库\n",
    "- PyTorch，Facebook开源的深度学习框架\n",
    "- CNTK，微软开源的深度学习框架\n",
    "\n",
    "**大数据处理**\n",
    "- PySpark，Spark的Python接口库。"
   ]
  },
  {
   "cell_type": "markdown",
   "metadata": {},
   "source": [
    "## 安装 Anaconda Python 环境\n",
    "\n",
    "Anaconda 是最流行的 Python 数据科学平台。Anaconda 安装参见《Python入门与高级编程》。\n",
    "\n",
    "Anaconda安装后，缺省已经安装了大多数 Python 数据分析包。下面检查数据分析常用库的安装情况："
   ]
  },
  {
   "cell_type": "code",
   "execution_count": 5,
   "metadata": {
    "slideshow": {
     "slide_type": "-"
    }
   },
   "outputs": [],
   "source": [
    "import numpy\n",
    "import scipy\n",
    "import pandas\n",
    "import statsmodels\n",
    "import sklearn\n",
    "import matplotlib\n",
    "import seaborn"
   ]
  },
  {
   "cell_type": "code",
   "execution_count": 4,
   "metadata": {
    "slideshow": {
     "slide_type": "-"
    }
   },
   "outputs": [
    {
     "name": "stdout",
     "output_type": "stream",
     "text": [
      "1.14.2\n",
      "2.1.2\n",
      "1.0.0\n",
      "0.23.4\n",
      "0.8.0\n",
      "0.19.1\n",
      "0.8.1\n"
     ]
    }
   ],
   "source": [
    "print(numpy.__version__)\n",
    "print(matplotlib.__version__)\n",
    "print(scipy.__version__)\n",
    "print(pandas.__version__)\n",
    "print(statsmodels.__version__)\n",
    "print(sklearn.__version__)\n",
    "print(seaborn.__version__)"
   ]
  }
 ],
 "metadata": {
  "kernelspec": {
   "display_name": "Python 3",
   "language": "python",
   "name": "python3"
  },
  "language_info": {
   "codemirror_mode": {
    "name": "ipython",
    "version": 3
   },
   "file_extension": ".py",
   "mimetype": "text/x-python",
   "name": "python",
   "nbconvert_exporter": "python",
   "pygments_lexer": "ipython3",
   "version": "3.6.4"
  },
  "toc": {
   "base_numbering": 1,
   "nav_menu": {},
   "number_sections": true,
   "sideBar": true,
   "skip_h1_title": false,
   "title_cell": "Table of Contents",
   "title_sidebar": "Contents",
   "toc_cell": false,
   "toc_position": {},
   "toc_section_display": true,
   "toc_window_display": false
  }
 },
 "nbformat": 4,
 "nbformat_minor": 2
}
