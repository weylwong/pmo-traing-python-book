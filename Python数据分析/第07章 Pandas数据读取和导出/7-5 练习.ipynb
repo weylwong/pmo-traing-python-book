{
 "cells": [
  {
   "cell_type": "markdown",
   "metadata": {
    "slideshow": {
     "slide_type": "slide"
    }
   },
   "source": [
    "# 练习\n",
    "\n",
    "下面做一个练习，从数据库读取数据，并写入到csv与excel文件中去。"
   ]
  },
  {
   "cell_type": "code",
   "execution_count": null,
   "metadata": {
    "slideshow": {
     "slide_type": "-"
    }
   },
   "outputs": [],
   "source": [
    "import os\n",
    "import numpy as np\n",
    "import pandas as pd\n",
    "import matplotlib.pyplot as plt\n",
    "import sqlalchemy\n",
    "%matplotlib inline"
   ]
  },
  {
   "cell_type": "markdown",
   "metadata": {
    "slideshow": {
     "slide_type": "slide"
    }
   },
   "source": [
    "## 连接服务器\n",
    "\n",
    "使用 sqlalchemy 来连接数据库，这里仍然上节使用 sqlite 数据库。"
   ]
  },
  {
   "cell_type": "code",
   "execution_count": null,
   "metadata": {},
   "outputs": [],
   "source": [
    "dbfile = os.path.join('..', 'data', 'XSHG_000001.db')\n",
    "url = 'sqlite:///{}'.format(dbfile)\n",
    "engine = sqlalchemy.create_engine(url)"
   ]
  },
  {
   "cell_type": "markdown",
   "metadata": {},
   "source": [
    "## 数据库读取数据并存储\n",
    "\n",
    "数据库包括两个表 dailybar 与 min5bar，下面读取这两个表的文件，并存储为csv 与 excell 文件："
   ]
  },
  {
   "cell_type": "code",
   "execution_count": null,
   "metadata": {},
   "outputs": [],
   "source": [
    "for tabname in ['dailybar', 'min5bar']:\n",
    "    df = pd.read_sql(tabname, con=engine)\n",
    "    \n",
    "    # save data into cavfile\n",
    "    csvfile = '{}.csv'.format(tabname)\n",
    "    df.to_csv(csvfile, index=False)\n",
    "    \n",
    "    # save data into excelfile\n",
    "    excelfile = 'XSHG_000001.xlsx'\n",
    "    df.to_excel(excelfile, tabname)"
   ]
  },
  {
   "cell_type": "markdown",
   "metadata": {},
   "source": [
    "检查结果文件："
   ]
  },
  {
   "cell_type": "code",
   "execution_count": null,
   "metadata": {},
   "outputs": [],
   "source": [
    "%ls *.csv *.xlsx"
   ]
  }
 ],
 "metadata": {
  "kernelspec": {
   "display_name": "Python 3",
   "language": "python",
   "name": "python3"
  },
  "language_info": {
   "codemirror_mode": {
    "name": "ipython",
    "version": 3
   },
   "file_extension": ".py",
   "mimetype": "text/x-python",
   "name": "python",
   "nbconvert_exporter": "python",
   "pygments_lexer": "ipython3",
   "version": "3.6.4"
  },
  "toc": {
   "base_numbering": 1,
   "nav_menu": {},
   "number_sections": true,
   "sideBar": true,
   "skip_h1_title": false,
   "title_cell": "Table of Contents",
   "title_sidebar": "Contents",
   "toc_cell": false,
   "toc_position": {
    "height": "calc(100% - 180px)",
    "left": "10px",
    "top": "150px",
    "width": "307px"
   },
   "toc_section_display": true,
   "toc_window_display": false
  }
 },
 "nbformat": 4,
 "nbformat_minor": 2
}
