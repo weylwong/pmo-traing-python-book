{
 "cells": [
  {
   "cell_type": "markdown",
   "metadata": {
    "slideshow": {
     "slide_type": "slide"
    }
   },
   "source": [
    "# 文本文件读写\n",
    "\n",
    "本节介绍常用的表格式文本文件（csv）的读取与导出操作。"
   ]
  },
  {
   "cell_type": "code",
   "execution_count": 4,
   "metadata": {
    "slideshow": {
     "slide_type": "-"
    }
   },
   "outputs": [],
   "source": [
    "import os\n",
    "import numpy as np\n",
    "import pandas as pd\n",
    "import matplotlib.pyplot as plt\n",
    "%matplotlib inline"
   ]
  },
  {
   "cell_type": "markdown",
   "metadata": {},
   "source": [
    "## 读取csv文件\n",
    "\n",
    "数据分析中最常用文本文件格式就是`csv`文件，即逗号分隔值(Comma-Separated Values，CSV)文件。csv 文件是一种简单通用的文件格式，以文本形式存储表格数据，常用于程序之间表格数据的传送。"
   ]
  },
  {
   "cell_type": "markdown",
   "metadata": {},
   "source": [
    "### `read_csv()`语法\n",
    "\n",
    "Pandas 中提供`pd.read_csv() ` 函数来读取 csv 文件。尽管 csv 文件简单，但由于现实世界数据的复杂性，`pd.read_csv()` 函数的可选参数已经非常复杂，有几十个之多。有时会感到有些困难，多看看在线文档，通过示例总能找到正确参数。\n",
    "\n",
    "`pd.read_csv()`使用语法为：\n",
    "```python\n",
    "pd.read_csv(filepath_or_buffer, sep=',', delimiter=None, header='infer', names=None, index_col=None, usecols=None, squeeze=False, prefix=None, mangle_dupe_cols=True, dtype=None, engine=None, converters=None, true_values=None, false_values=None, skipinitialspace=False, skiprows=None, nrows=None, na_values=None, keep_default_na=True, na_filter=True, verbose=False, skip_blank_lines=True, parse_dates=False, infer_datetime_format=False, keep_date_col=False, date_parser=None, dayfirst=False, iterator=False, chunksize=None, compression='infer', thousands=None, decimal=b'.', lineterminator=None, quotechar='\"', quoting=0, escapechar=None, comment=None, encoding=None, dialect=None, tupleize_cols=None, error_bad_lines=True, warn_bad_lines=True, skipfooter=0, doublequote=True, delim_whitespace=False, low_memory=True, memory_map=False, float_precision=None)\n",
    "```\n",
    "主要参数包括：\n",
    "- `filepath_or_buffer`，文件路径、URL或文件型对象。\n",
    "- `sep=','`， 指定分隔符，可使用正则表达式。\n",
    "- `header='infer'`，用作列名的行号，默认是第一行。如果没有列名的话，设为 None。\n",
    "- `names`，结果的列名列表，与`header=None`配合使用。\n",
    "- `index_col`，用作行索引的列编号或列名。可以是名称/数字标量，也可以是分层索引。\n",
    "- `dtype`，指定每列的数据类型。\n",
    "- `skiprows`，从文件开头起，需要跳过的行数或行号列表。\n",
    "- `na_values`，需要用 NA 替换的值序列\n",
    "- `comment=None`，在行结尾处分隔注释的字符\n",
    "- `parse_dates=False`，尝试将数据解析为日期。默认是`False`。如果为`True`，则尝试解析所有列。可以指定列号或列名列表对指定列进行解析。\n",
    "- `date_parser`，用于解析日期的函数\n",
    "- `nrows`，从文件开头处读入的行数\n",
    "- `skip_footer`，忽略文件尾部的行数。\n",
    "- `verbose`，打印各种解析器输出的信息，比如位于非数值列中缺失值的数量。\n",
    "- `encoding`，Unicode文本编码\n",
    "- `squeeze`，如果解析数据只包含一列，返回一个 `Series` 对象\n",
    "- `engine`，使用的分析引擎。可选`C`或者`python`。`C`引擎快但`Python`引擎功能更完备。"
   ]
  },
  {
   "cell_type": "markdown",
   "metadata": {},
   "source": [
    "### 读取文件实例1\n",
    "\n",
    "通常一个 csv 文件的第一行内容为各列的字段名，后续则是数据行。例如下面创建一个简单示例文件，各列内容为：\n",
    "- restaurant_name, 饭店位置\n",
    "- times， 日期\n",
    "- meals, 用餐标识，早、午、晚餐\n",
    "- customers，顾客人数\n",
    "- costs，平均消费\n",
    "- notes，注"
   ]
  },
  {
   "cell_type": "code",
   "execution_count": 17,
   "metadata": {},
   "outputs": [
    {
     "name": "stdout",
     "output_type": "stream",
     "text": [
      "Overwriting demo01.csv\n"
     ]
    }
   ],
   "source": [
    "%%writefile demo01.csv\n",
    "restaurant_name,times,meals,customers,costs,notes\n",
    "Xuhui,2018-10-10 06:00:00,breakfast,60,6.6,xx\n",
    "Xuhui,2018-10-10 07:00:00,breakfast,70,7.6,xx\n",
    "Xuhui,2018-10-10 11:00:00,lunch,100,24.5,xx\n",
    "Xuhui,2018-10-10 12:00:00,lunch,230,23.4,xx\n",
    "Xuhui,2018-10-10 20:00:00,dinner,250,35.5,xx\n",
    "Xuhui,2018-10-10 21:00:00,dinner,150,40.6,xx"
   ]
  },
  {
   "cell_type": "markdown",
   "metadata": {},
   "source": [
    "传入文件路径，其它使用缺省参数，即可读取该文件："
   ]
  },
  {
   "cell_type": "code",
   "execution_count": 19,
   "metadata": {},
   "outputs": [
    {
     "name": "stdout",
     "output_type": "stream",
     "text": [
      "<class 'pandas.core.frame.DataFrame'>\n",
      "RangeIndex: 6 entries, 0 to 5\n",
      "Data columns (total 6 columns):\n",
      "restaurant_name    6 non-null object\n",
      "times              6 non-null object\n",
      "meals              6 non-null object\n",
      "customers          6 non-null int64\n",
      "costs              6 non-null float64\n",
      "notes              6 non-null object\n",
      "dtypes: float64(1), int64(1), object(4)\n",
      "memory usage: 368.0+ bytes\n"
     ]
    }
   ],
   "source": [
    "df = pd.read_csv('demo01.csv')\n",
    "df.info()"
   ]
  },
  {
   "cell_type": "code",
   "execution_count": 20,
   "metadata": {},
   "outputs": [
    {
     "data": {
      "text/html": [
       "<div>\n",
       "<style scoped>\n",
       "    .dataframe tbody tr th:only-of-type {\n",
       "        vertical-align: middle;\n",
       "    }\n",
       "\n",
       "    .dataframe tbody tr th {\n",
       "        vertical-align: top;\n",
       "    }\n",
       "\n",
       "    .dataframe thead th {\n",
       "        text-align: right;\n",
       "    }\n",
       "</style>\n",
       "<table border=\"1\" class=\"dataframe\">\n",
       "  <thead>\n",
       "    <tr style=\"text-align: right;\">\n",
       "      <th></th>\n",
       "      <th>restaurant_name</th>\n",
       "      <th>times</th>\n",
       "      <th>meals</th>\n",
       "      <th>customers</th>\n",
       "      <th>costs</th>\n",
       "      <th>notes</th>\n",
       "    </tr>\n",
       "  </thead>\n",
       "  <tbody>\n",
       "    <tr>\n",
       "      <th>0</th>\n",
       "      <td>Xuhui</td>\n",
       "      <td>2018-10-10 06:00:00</td>\n",
       "      <td>breakfast</td>\n",
       "      <td>60</td>\n",
       "      <td>6.6</td>\n",
       "      <td>xx</td>\n",
       "    </tr>\n",
       "    <tr>\n",
       "      <th>1</th>\n",
       "      <td>Xuhui</td>\n",
       "      <td>2018-10-10 07:00:00</td>\n",
       "      <td>breakfast</td>\n",
       "      <td>70</td>\n",
       "      <td>7.6</td>\n",
       "      <td>xx</td>\n",
       "    </tr>\n",
       "    <tr>\n",
       "      <th>2</th>\n",
       "      <td>Xuhui</td>\n",
       "      <td>2018-10-10 11:00:00</td>\n",
       "      <td>lunch</td>\n",
       "      <td>100</td>\n",
       "      <td>24.5</td>\n",
       "      <td>xx</td>\n",
       "    </tr>\n",
       "    <tr>\n",
       "      <th>3</th>\n",
       "      <td>Xuhui</td>\n",
       "      <td>2018-10-10 12:00:00</td>\n",
       "      <td>lunch</td>\n",
       "      <td>230</td>\n",
       "      <td>23.4</td>\n",
       "      <td>xx</td>\n",
       "    </tr>\n",
       "    <tr>\n",
       "      <th>4</th>\n",
       "      <td>Xuhui</td>\n",
       "      <td>2018-10-10 20:00:00</td>\n",
       "      <td>dinner</td>\n",
       "      <td>250</td>\n",
       "      <td>35.5</td>\n",
       "      <td>xx</td>\n",
       "    </tr>\n",
       "  </tbody>\n",
       "</table>\n",
       "</div>"
      ],
      "text/plain": [
       "  restaurant_name                times      meals  customers  costs notes\n",
       "0           Xuhui  2018-10-10 06:00:00  breakfast         60    6.6    xx\n",
       "1           Xuhui  2018-10-10 07:00:00  breakfast         70    7.6    xx\n",
       "2           Xuhui  2018-10-10 11:00:00      lunch        100   24.5    xx\n",
       "3           Xuhui  2018-10-10 12:00:00      lunch        230   23.4    xx\n",
       "4           Xuhui  2018-10-10 20:00:00     dinner        250   35.5    xx"
      ]
     },
     "execution_count": 20,
     "metadata": {},
     "output_type": "execute_result"
    }
   ],
   "source": [
    "df.head()"
   ]
  },
  {
   "cell_type": "markdown",
   "metadata": {},
   "source": [
    "有时候，csv 文件第一行没有数据集字段的描述，那么需要，通过使用`names`参数指定，同时配合`header=None`即可："
   ]
  },
  {
   "cell_type": "code",
   "execution_count": 13,
   "metadata": {},
   "outputs": [
    {
     "name": "stdout",
     "output_type": "stream",
     "text": [
      "Writing demo02.csv\n"
     ]
    }
   ],
   "source": [
    "%%writefile demo02.csv\n",
    "Xuhui,2018-10-10 06:00:00,breakfast,60,6.6,xx\n",
    "Xuhui,2018-10-10 07:00:00,breakfast,70,7.6,xx\n",
    "Xuhui,2018-10-10 11:00:00,lunch,100,24.5,xx\n",
    "Xuhui,2018-10-10 12:00:00,lunch,230,23.4,xx\n",
    "Xuhui,2018-10-10 20:00:00,dinner,250,35.5,xx\n",
    "Xuhui,2018-10-10 21:00:00,dinner,150,40.6,xx"
   ]
  },
  {
   "cell_type": "code",
   "execution_count": 21,
   "metadata": {},
   "outputs": [
    {
     "data": {
      "text/html": [
       "<div>\n",
       "<style scoped>\n",
       "    .dataframe tbody tr th:only-of-type {\n",
       "        vertical-align: middle;\n",
       "    }\n",
       "\n",
       "    .dataframe tbody tr th {\n",
       "        vertical-align: top;\n",
       "    }\n",
       "\n",
       "    .dataframe thead th {\n",
       "        text-align: right;\n",
       "    }\n",
       "</style>\n",
       "<table border=\"1\" class=\"dataframe\">\n",
       "  <thead>\n",
       "    <tr style=\"text-align: right;\">\n",
       "      <th></th>\n",
       "      <th>restaurant_name</th>\n",
       "      <th>times</th>\n",
       "      <th>meals</th>\n",
       "      <th>customers</th>\n",
       "      <th>costs</th>\n",
       "      <th>notes</th>\n",
       "    </tr>\n",
       "  </thead>\n",
       "  <tbody>\n",
       "    <tr>\n",
       "      <th>0</th>\n",
       "      <td>Xuhui</td>\n",
       "      <td>2018-10-10 06:00:00</td>\n",
       "      <td>breakfast</td>\n",
       "      <td>60</td>\n",
       "      <td>6.6</td>\n",
       "      <td>xx</td>\n",
       "    </tr>\n",
       "    <tr>\n",
       "      <th>1</th>\n",
       "      <td>Xuhui</td>\n",
       "      <td>2018-10-10 07:00:00</td>\n",
       "      <td>breakfast</td>\n",
       "      <td>70</td>\n",
       "      <td>7.6</td>\n",
       "      <td>xx</td>\n",
       "    </tr>\n",
       "    <tr>\n",
       "      <th>2</th>\n",
       "      <td>Xuhui</td>\n",
       "      <td>2018-10-10 11:00:00</td>\n",
       "      <td>lunch</td>\n",
       "      <td>100</td>\n",
       "      <td>24.5</td>\n",
       "      <td>xx</td>\n",
       "    </tr>\n",
       "    <tr>\n",
       "      <th>3</th>\n",
       "      <td>Xuhui</td>\n",
       "      <td>2018-10-10 12:00:00</td>\n",
       "      <td>lunch</td>\n",
       "      <td>230</td>\n",
       "      <td>23.4</td>\n",
       "      <td>xx</td>\n",
       "    </tr>\n",
       "    <tr>\n",
       "      <th>4</th>\n",
       "      <td>Xuhui</td>\n",
       "      <td>2018-10-10 20:00:00</td>\n",
       "      <td>dinner</td>\n",
       "      <td>250</td>\n",
       "      <td>35.5</td>\n",
       "      <td>xx</td>\n",
       "    </tr>\n",
       "  </tbody>\n",
       "</table>\n",
       "</div>"
      ],
      "text/plain": [
       "  restaurant_name                times      meals  customers  costs notes\n",
       "0           Xuhui  2018-10-10 06:00:00  breakfast         60    6.6    xx\n",
       "1           Xuhui  2018-10-10 07:00:00  breakfast         70    7.6    xx\n",
       "2           Xuhui  2018-10-10 11:00:00      lunch        100   24.5    xx\n",
       "3           Xuhui  2018-10-10 12:00:00      lunch        230   23.4    xx\n",
       "4           Xuhui  2018-10-10 20:00:00     dinner        250   35.5    xx"
      ]
     },
     "execution_count": 21,
     "metadata": {},
     "output_type": "execute_result"
    }
   ],
   "source": [
    "colnames = ['restaurant_name', 'times', 'meals', 'customers', 'costs', 'notes']\n",
    "df = pd.read_csv('demo02.csv', header=None, names=colnames)\n",
    "df.head()"
   ]
  },
  {
   "cell_type": "markdown",
   "metadata": {},
   "source": [
    "在上面示例中，第2列(times)数据类型为字符串(object)，可以使用`parse_dates`参数进行日期解析："
   ]
  },
  {
   "cell_type": "code",
   "execution_count": 26,
   "metadata": {},
   "outputs": [
    {
     "data": {
      "text/html": [
       "<div>\n",
       "<style scoped>\n",
       "    .dataframe tbody tr th:only-of-type {\n",
       "        vertical-align: middle;\n",
       "    }\n",
       "\n",
       "    .dataframe tbody tr th {\n",
       "        vertical-align: top;\n",
       "    }\n",
       "\n",
       "    .dataframe thead th {\n",
       "        text-align: right;\n",
       "    }\n",
       "</style>\n",
       "<table border=\"1\" class=\"dataframe\">\n",
       "  <thead>\n",
       "    <tr style=\"text-align: right;\">\n",
       "      <th></th>\n",
       "      <th>restaurant_name</th>\n",
       "      <th>times</th>\n",
       "      <th>meals</th>\n",
       "      <th>customers</th>\n",
       "      <th>costs</th>\n",
       "      <th>notes</th>\n",
       "    </tr>\n",
       "  </thead>\n",
       "  <tbody>\n",
       "    <tr>\n",
       "      <th>0</th>\n",
       "      <td>Xuhui</td>\n",
       "      <td>2018-10-10 06:00:00</td>\n",
       "      <td>breakfast</td>\n",
       "      <td>60</td>\n",
       "      <td>6.6</td>\n",
       "      <td>xx</td>\n",
       "    </tr>\n",
       "    <tr>\n",
       "      <th>1</th>\n",
       "      <td>Xuhui</td>\n",
       "      <td>2018-10-10 07:00:00</td>\n",
       "      <td>breakfast</td>\n",
       "      <td>70</td>\n",
       "      <td>7.6</td>\n",
       "      <td>xx</td>\n",
       "    </tr>\n",
       "    <tr>\n",
       "      <th>2</th>\n",
       "      <td>Xuhui</td>\n",
       "      <td>2018-10-10 11:00:00</td>\n",
       "      <td>lunch</td>\n",
       "      <td>100</td>\n",
       "      <td>24.5</td>\n",
       "      <td>xx</td>\n",
       "    </tr>\n",
       "    <tr>\n",
       "      <th>3</th>\n",
       "      <td>Xuhui</td>\n",
       "      <td>2018-10-10 12:00:00</td>\n",
       "      <td>lunch</td>\n",
       "      <td>230</td>\n",
       "      <td>23.4</td>\n",
       "      <td>xx</td>\n",
       "    </tr>\n",
       "    <tr>\n",
       "      <th>4</th>\n",
       "      <td>Xuhui</td>\n",
       "      <td>2018-10-10 20:00:00</td>\n",
       "      <td>dinner</td>\n",
       "      <td>250</td>\n",
       "      <td>35.5</td>\n",
       "      <td>xx</td>\n",
       "    </tr>\n",
       "  </tbody>\n",
       "</table>\n",
       "</div>"
      ],
      "text/plain": [
       "  restaurant_name               times      meals  customers  costs notes\n",
       "0           Xuhui 2018-10-10 06:00:00  breakfast         60    6.6    xx\n",
       "1           Xuhui 2018-10-10 07:00:00  breakfast         70    7.6    xx\n",
       "2           Xuhui 2018-10-10 11:00:00      lunch        100   24.5    xx\n",
       "3           Xuhui 2018-10-10 12:00:00      lunch        230   23.4    xx\n",
       "4           Xuhui 2018-10-10 20:00:00     dinner        250   35.5    xx"
      ]
     },
     "execution_count": 26,
     "metadata": {},
     "output_type": "execute_result"
    }
   ],
   "source": [
    "df = pd.read_csv('demo01.csv', parse_dates=[1])\n",
    "df.head()"
   ]
  },
  {
   "cell_type": "code",
   "execution_count": 27,
   "metadata": {},
   "outputs": [
    {
     "name": "stdout",
     "output_type": "stream",
     "text": [
      "<class 'pandas.core.frame.DataFrame'>\n",
      "RangeIndex: 6 entries, 0 to 5\n",
      "Data columns (total 6 columns):\n",
      "restaurant_name    6 non-null object\n",
      "times              6 non-null datetime64[ns]\n",
      "meals              6 non-null object\n",
      "customers          6 non-null int64\n",
      "costs              6 non-null float64\n",
      "notes              6 non-null object\n",
      "dtypes: datetime64[ns](1), float64(1), int64(1), object(3)\n",
      "memory usage: 368.0+ bytes\n"
     ]
    }
   ],
   "source": [
    "colnames = ['restaurant_name', 'times', 'meals', 'customers', 'costs', 'notes']\n",
    "df = pd.read_csv('demo02.csv', header=None, names=colnames, parse_dates=['times'])\n",
    "df.info()"
   ]
  },
  {
   "cell_type": "markdown",
   "metadata": {},
   "source": [
    "在读取文件时，可以使用如下参数控制读取的数据行：\n",
    "- `skiprows`：跳过⼀定的⾏数\n",
    "- `nrows`：仅读取⼀定的⾏数\n",
    "- `skipfooter`：尾部有固定的⾏数不读取"
   ]
  },
  {
   "cell_type": "code",
   "execution_count": 32,
   "metadata": {},
   "outputs": [
    {
     "data": {
      "text/html": [
       "<div>\n",
       "<style scoped>\n",
       "    .dataframe tbody tr th:only-of-type {\n",
       "        vertical-align: middle;\n",
       "    }\n",
       "\n",
       "    .dataframe tbody tr th {\n",
       "        vertical-align: top;\n",
       "    }\n",
       "\n",
       "    .dataframe thead th {\n",
       "        text-align: right;\n",
       "    }\n",
       "</style>\n",
       "<table border=\"1\" class=\"dataframe\">\n",
       "  <thead>\n",
       "    <tr style=\"text-align: right;\">\n",
       "      <th></th>\n",
       "      <th>restaurant_name</th>\n",
       "      <th>times</th>\n",
       "      <th>meals</th>\n",
       "      <th>customers</th>\n",
       "      <th>costs</th>\n",
       "      <th>notes</th>\n",
       "    </tr>\n",
       "  </thead>\n",
       "  <tbody>\n",
       "    <tr>\n",
       "      <th>0</th>\n",
       "      <td>Xuhui</td>\n",
       "      <td>2018-10-10 06:00:00</td>\n",
       "      <td>breakfast</td>\n",
       "      <td>60</td>\n",
       "      <td>6.6</td>\n",
       "      <td>xx</td>\n",
       "    </tr>\n",
       "    <tr>\n",
       "      <th>1</th>\n",
       "      <td>Xuhui</td>\n",
       "      <td>2018-10-10 07:00:00</td>\n",
       "      <td>breakfast</td>\n",
       "      <td>70</td>\n",
       "      <td>7.6</td>\n",
       "      <td>xx</td>\n",
       "    </tr>\n",
       "  </tbody>\n",
       "</table>\n",
       "</div>"
      ],
      "text/plain": [
       "  restaurant_name               times      meals  customers  costs notes\n",
       "0           Xuhui 2018-10-10 06:00:00  breakfast         60    6.6    xx\n",
       "1           Xuhui 2018-10-10 07:00:00  breakfast         70    7.6    xx"
      ]
     },
     "execution_count": 32,
     "metadata": {},
     "output_type": "execute_result"
    }
   ],
   "source": [
    "df = pd.read_csv('demo01.csv', parse_dates=['times'], nrows=2)\n",
    "df.head()"
   ]
  },
  {
   "cell_type": "code",
   "execution_count": 37,
   "metadata": {},
   "outputs": [
    {
     "data": {
      "text/html": [
       "<div>\n",
       "<style scoped>\n",
       "    .dataframe tbody tr th:only-of-type {\n",
       "        vertical-align: middle;\n",
       "    }\n",
       "\n",
       "    .dataframe tbody tr th {\n",
       "        vertical-align: top;\n",
       "    }\n",
       "\n",
       "    .dataframe thead th {\n",
       "        text-align: right;\n",
       "    }\n",
       "</style>\n",
       "<table border=\"1\" class=\"dataframe\">\n",
       "  <thead>\n",
       "    <tr style=\"text-align: right;\">\n",
       "      <th></th>\n",
       "      <th>restaurant_name</th>\n",
       "      <th>times</th>\n",
       "      <th>meals</th>\n",
       "      <th>customers</th>\n",
       "      <th>costs</th>\n",
       "      <th>notes</th>\n",
       "    </tr>\n",
       "  </thead>\n",
       "  <tbody>\n",
       "    <tr>\n",
       "      <th>0</th>\n",
       "      <td>Xuhui</td>\n",
       "      <td>2018-10-10 06:00:00</td>\n",
       "      <td>breakfast</td>\n",
       "      <td>60</td>\n",
       "      <td>6.6</td>\n",
       "      <td>xx</td>\n",
       "    </tr>\n",
       "    <tr>\n",
       "      <th>1</th>\n",
       "      <td>Xuhui</td>\n",
       "      <td>2018-10-10 07:00:00</td>\n",
       "      <td>breakfast</td>\n",
       "      <td>70</td>\n",
       "      <td>7.6</td>\n",
       "      <td>xx</td>\n",
       "    </tr>\n",
       "    <tr>\n",
       "      <th>2</th>\n",
       "      <td>Xuhui</td>\n",
       "      <td>2018-10-10 11:00:00</td>\n",
       "      <td>lunch</td>\n",
       "      <td>100</td>\n",
       "      <td>24.5</td>\n",
       "      <td>xx</td>\n",
       "    </tr>\n",
       "    <tr>\n",
       "      <th>3</th>\n",
       "      <td>Xuhui</td>\n",
       "      <td>2018-10-10 12:00:00</td>\n",
       "      <td>lunch</td>\n",
       "      <td>230</td>\n",
       "      <td>23.4</td>\n",
       "      <td>xx</td>\n",
       "    </tr>\n",
       "  </tbody>\n",
       "</table>\n",
       "</div>"
      ],
      "text/plain": [
       "  restaurant_name               times      meals  customers  costs notes\n",
       "0           Xuhui 2018-10-10 06:00:00  breakfast         60    6.6    xx\n",
       "1           Xuhui 2018-10-10 07:00:00  breakfast         70    7.6    xx\n",
       "2           Xuhui 2018-10-10 11:00:00      lunch        100   24.5    xx\n",
       "3           Xuhui 2018-10-10 12:00:00      lunch        230   23.4    xx"
      ]
     },
     "execution_count": 37,
     "metadata": {},
     "output_type": "execute_result"
    }
   ],
   "source": [
    "# 使用skipfooter时，解析引擎使用python\n",
    "df = pd.read_csv('demo01.csv', parse_dates=['times'], engine='python', skipfooter=2)\n",
    "df.head()"
   ]
  },
  {
   "cell_type": "markdown",
   "metadata": {},
   "source": [
    "有时候文件中包含中文时会乱码，使用`encoding`并指定正确的编码。"
   ]
  },
  {
   "cell_type": "code",
   "execution_count": 40,
   "metadata": {},
   "outputs": [
    {
     "name": "stdout",
     "output_type": "stream",
     "text": [
      "Overwriting demo03.csv\n"
     ]
    }
   ],
   "source": [
    "%%writefile demo03.csv\n",
    "restaurant_name,times,meals,customers,costs,notes\n",
    "徐汇,2018-10-10 06:00:00,breakfast,60,6.6,xx\n",
    "徐汇,2018-10-10 07:00:00,breakfast,70,7.6,xx\n",
    "徐汇,2018-10-10 11:00:00,lunch,100,24.5,xx\n",
    "徐汇,2018-10-10 12:00:00,lunch,230,23.4,xx\n",
    "徐汇,2018-10-10 20:00:00,dinner,250,35.5,xx\n",
    "徐汇,2018-10-10 21:00:00,dinner,150,40.6,xx"
   ]
  },
  {
   "cell_type": "code",
   "execution_count": 42,
   "metadata": {},
   "outputs": [
    {
     "data": {
      "text/html": [
       "<div>\n",
       "<style scoped>\n",
       "    .dataframe tbody tr th:only-of-type {\n",
       "        vertical-align: middle;\n",
       "    }\n",
       "\n",
       "    .dataframe tbody tr th {\n",
       "        vertical-align: top;\n",
       "    }\n",
       "\n",
       "    .dataframe thead th {\n",
       "        text-align: right;\n",
       "    }\n",
       "</style>\n",
       "<table border=\"1\" class=\"dataframe\">\n",
       "  <thead>\n",
       "    <tr style=\"text-align: right;\">\n",
       "      <th></th>\n",
       "      <th>restaurant_name</th>\n",
       "      <th>times</th>\n",
       "      <th>meals</th>\n",
       "      <th>customers</th>\n",
       "      <th>costs</th>\n",
       "      <th>notes</th>\n",
       "    </tr>\n",
       "  </thead>\n",
       "  <tbody>\n",
       "    <tr>\n",
       "      <th>0</th>\n",
       "      <td>徐汇</td>\n",
       "      <td>2018-10-10 06:00:00</td>\n",
       "      <td>breakfast</td>\n",
       "      <td>60</td>\n",
       "      <td>6.6</td>\n",
       "      <td>xx</td>\n",
       "    </tr>\n",
       "    <tr>\n",
       "      <th>1</th>\n",
       "      <td>徐汇</td>\n",
       "      <td>2018-10-10 07:00:00</td>\n",
       "      <td>breakfast</td>\n",
       "      <td>70</td>\n",
       "      <td>7.6</td>\n",
       "      <td>xx</td>\n",
       "    </tr>\n",
       "    <tr>\n",
       "      <th>2</th>\n",
       "      <td>徐汇</td>\n",
       "      <td>2018-10-10 11:00:00</td>\n",
       "      <td>lunch</td>\n",
       "      <td>100</td>\n",
       "      <td>24.5</td>\n",
       "      <td>xx</td>\n",
       "    </tr>\n",
       "    <tr>\n",
       "      <th>3</th>\n",
       "      <td>徐汇</td>\n",
       "      <td>2018-10-10 12:00:00</td>\n",
       "      <td>lunch</td>\n",
       "      <td>230</td>\n",
       "      <td>23.4</td>\n",
       "      <td>xx</td>\n",
       "    </tr>\n",
       "    <tr>\n",
       "      <th>4</th>\n",
       "      <td>徐汇</td>\n",
       "      <td>2018-10-10 20:00:00</td>\n",
       "      <td>dinner</td>\n",
       "      <td>250</td>\n",
       "      <td>35.5</td>\n",
       "      <td>xx</td>\n",
       "    </tr>\n",
       "  </tbody>\n",
       "</table>\n",
       "</div>"
      ],
      "text/plain": [
       "  restaurant_name               times      meals  customers  costs notes\n",
       "0              徐汇 2018-10-10 06:00:00  breakfast         60    6.6    xx\n",
       "1              徐汇 2018-10-10 07:00:00  breakfast         70    7.6    xx\n",
       "2              徐汇 2018-10-10 11:00:00      lunch        100   24.5    xx\n",
       "3              徐汇 2018-10-10 12:00:00      lunch        230   23.4    xx\n",
       "4              徐汇 2018-10-10 20:00:00     dinner        250   35.5    xx"
      ]
     },
     "execution_count": 42,
     "metadata": {},
     "output_type": "execute_result"
    }
   ],
   "source": [
    "# 使用skipfooter时，解析引擎使用python\n",
    "df = pd.read_csv('demo03.csv', parse_dates=['times'], encoding='utf-8')\n",
    "df.head()"
   ]
  },
  {
   "cell_type": "markdown",
   "metadata": {
    "slideshow": {
     "slide_type": "slide"
    }
   },
   "source": [
    "Pandas 在读取文本文件时，会自动解析数据，得到对应的数据类型。可以使用`dtype`参数按照自己意愿进行控制。下面创建一个 csv 文件："
   ]
  },
  {
   "cell_type": "code",
   "execution_count": 65,
   "metadata": {},
   "outputs": [
    {
     "name": "stdout",
     "output_type": "stream",
     "text": [
      "Overwriting demo04.csv\n"
     ]
    }
   ],
   "source": [
    "%%writefile demo04.csv\n",
    "a,b,c,d\n",
    "1,2,3,4\n",
    "5,6,7,8\n",
    "9,10,11,12"
   ]
  },
  {
   "cell_type": "markdown",
   "metadata": {},
   "source": [
    "缺省读取的话，返回的数据类型都是浮点数(np.float64)。这里传入`dtype=object`，使得数据为字符串类型："
   ]
  },
  {
   "cell_type": "code",
   "execution_count": 66,
   "metadata": {},
   "outputs": [
    {
     "name": "stdout",
     "output_type": "stream",
     "text": [
      "<class 'pandas.core.frame.DataFrame'>\n",
      "RangeIndex: 3 entries, 0 to 2\n",
      "Data columns (total 4 columns):\n",
      "a    3 non-null object\n",
      "b    3 non-null object\n",
      "c    3 non-null object\n",
      "d    3 non-null object\n",
      "dtypes: object(4)\n",
      "memory usage: 176.0+ bytes\n"
     ]
    }
   ],
   "source": [
    "df = pd.read_csv('demo04.csv', dtype=object)\n",
    "df.info()"
   ]
  },
  {
   "cell_type": "code",
   "execution_count": 67,
   "metadata": {},
   "outputs": [
    {
     "data": {
      "text/html": [
       "<div>\n",
       "<style scoped>\n",
       "    .dataframe tbody tr th:only-of-type {\n",
       "        vertical-align: middle;\n",
       "    }\n",
       "\n",
       "    .dataframe tbody tr th {\n",
       "        vertical-align: top;\n",
       "    }\n",
       "\n",
       "    .dataframe thead th {\n",
       "        text-align: right;\n",
       "    }\n",
       "</style>\n",
       "<table border=\"1\" class=\"dataframe\">\n",
       "  <thead>\n",
       "    <tr style=\"text-align: right;\">\n",
       "      <th></th>\n",
       "      <th>a</th>\n",
       "      <th>b</th>\n",
       "      <th>c</th>\n",
       "      <th>d</th>\n",
       "    </tr>\n",
       "  </thead>\n",
       "  <tbody>\n",
       "    <tr>\n",
       "      <th>0</th>\n",
       "      <td>1</td>\n",
       "      <td>2</td>\n",
       "      <td>3</td>\n",
       "      <td>4</td>\n",
       "    </tr>\n",
       "    <tr>\n",
       "      <th>1</th>\n",
       "      <td>5</td>\n",
       "      <td>6</td>\n",
       "      <td>7</td>\n",
       "      <td>8</td>\n",
       "    </tr>\n",
       "    <tr>\n",
       "      <th>2</th>\n",
       "      <td>9</td>\n",
       "      <td>10</td>\n",
       "      <td>11</td>\n",
       "      <td>12</td>\n",
       "    </tr>\n",
       "  </tbody>\n",
       "</table>\n",
       "</div>"
      ],
      "text/plain": [
       "   a   b   c   d\n",
       "0  1   2   3   4\n",
       "1  5   6   7   8\n",
       "2  9  10  11  12"
      ]
     },
     "execution_count": 67,
     "metadata": {},
     "output_type": "execute_result"
    }
   ],
   "source": [
    "df.head()"
   ]
  },
  {
   "cell_type": "markdown",
   "metadata": {},
   "source": [
    "可以传入参数`dtype`一个字典，则分别指定每列的数据类型："
   ]
  },
  {
   "cell_type": "code",
   "execution_count": 68,
   "metadata": {},
   "outputs": [
    {
     "name": "stdout",
     "output_type": "stream",
     "text": [
      "<class 'pandas.core.frame.DataFrame'>\n",
      "RangeIndex: 3 entries, 0 to 2\n",
      "Data columns (total 4 columns):\n",
      "a    3 non-null int64\n",
      "b    3 non-null object\n",
      "c    3 non-null float64\n",
      "d    3 non-null int64\n",
      "dtypes: float64(1), int64(2), object(1)\n",
      "memory usage: 176.0+ bytes\n"
     ]
    }
   ],
   "source": [
    "df = pd.read_csv('demo04.csv', engine='python',\n",
    "                 dtype={'b': object, 'c': np.float64, 'd': 'Int64'})\n",
    "df.info()"
   ]
  },
  {
   "cell_type": "markdown",
   "metadata": {
    "slideshow": {
     "slide_type": "slide"
    }
   },
   "source": [
    "### 读取文件实例2\n",
    "\n",
    "在泰坦尼克号幸存者预测分析比赛中提供的数据集共有12列，对应的列名以及含义如下：\n",
    "- `PassengerId`：乘客ID\n",
    "- `Survived`：是否生存\n",
    "- `Pclass`：客舱等级\n",
    "- `Name`：乘客姓名\n",
    "- `Sex`：性别\n",
    "- `Age`：年龄\n",
    "- `SibSp`：在船兄弟姐妹数/配偶数\n",
    "- `Parch`：在船父母数/子女数\n",
    "- `Ticket`：船票编号\n",
    "- `Fare`：船票价格\n",
    "- `Cabin`：客舱号\n",
    "- `Embarked`：登船港口\n",
    "\n",
    "数据集文件是是 csv 文件，下面来读取其中一个文件`train.csv`："
   ]
  },
  {
   "cell_type": "code",
   "execution_count": 8,
   "metadata": {
    "slideshow": {
     "slide_type": "-"
    }
   },
   "outputs": [
    {
     "data": {
      "text/plain": [
       "'..\\\\data\\\\titanic\\\\train.csv'"
      ]
     },
     "execution_count": 8,
     "metadata": {},
     "output_type": "execute_result"
    }
   ],
   "source": [
    "trainfile = os.path.join('..', 'data', 'titanic', 'train.csv')\n",
    "trainfile"
   ]
  },
  {
   "cell_type": "code",
   "execution_count": 43,
   "metadata": {},
   "outputs": [
    {
     "name": "stdout",
     "output_type": "stream",
     "text": [
      "<class 'pandas.core.frame.DataFrame'>\n",
      "RangeIndex: 891 entries, 0 to 890\n",
      "Data columns (total 12 columns):\n",
      "PassengerId    891 non-null int64\n",
      "Survived       891 non-null int64\n",
      "Pclass         891 non-null int64\n",
      "Name           891 non-null object\n",
      "Sex            891 non-null object\n",
      "Age            714 non-null float64\n",
      "SibSp          891 non-null int64\n",
      "Parch          891 non-null int64\n",
      "Ticket         891 non-null object\n",
      "Fare           891 non-null float64\n",
      "Cabin          204 non-null object\n",
      "Embarked       889 non-null object\n",
      "dtypes: float64(2), int64(5), object(5)\n",
      "memory usage: 83.6+ KB\n"
     ]
    }
   ],
   "source": [
    "# 使用缺省参数读取\n",
    "df = pd.read_csv(trainfile)\n",
    "df.info()"
   ]
  },
  {
   "cell_type": "markdown",
   "metadata": {
    "slideshow": {
     "slide_type": "slide"
    }
   },
   "source": [
    "`pandas.read_csv()`函数会自动创建一个整数序列的索引："
   ]
  },
  {
   "cell_type": "code",
   "execution_count": 44,
   "metadata": {},
   "outputs": [
    {
     "data": {
      "text/plain": [
       "RangeIndex(start=0, stop=891, step=1)"
      ]
     },
     "execution_count": 44,
     "metadata": {},
     "output_type": "execute_result"
    }
   ],
   "source": [
    "df.index"
   ]
  },
  {
   "cell_type": "markdown",
   "metadata": {
    "slideshow": {
     "slide_type": "-"
    }
   },
   "source": [
    "有时候会使用其中一列作为索引。例如，这里使用 `index_col`来指定数据集中一列作为索引："
   ]
  },
  {
   "cell_type": "code",
   "execution_count": 46,
   "metadata": {},
   "outputs": [
    {
     "name": "stdout",
     "output_type": "stream",
     "text": [
      "<class 'pandas.core.frame.DataFrame'>\n",
      "Int64Index: 891 entries, 1 to 891\n",
      "Data columns (total 11 columns):\n",
      "Survived    891 non-null int64\n",
      "Pclass      891 non-null int64\n",
      "Name        891 non-null object\n",
      "Sex         891 non-null object\n",
      "Age         714 non-null float64\n",
      "SibSp       891 non-null int64\n",
      "Parch       891 non-null int64\n",
      "Ticket      891 non-null object\n",
      "Fare        891 non-null float64\n",
      "Cabin       204 non-null object\n",
      "Embarked    889 non-null object\n",
      "dtypes: float64(2), int64(4), object(5)\n",
      "memory usage: 83.5+ KB\n"
     ]
    }
   ],
   "source": [
    "# 指定`PassengerId`为索引\n",
    "df = pd.read_csv(trainfile, index_col=['PassengerId'])\n",
    "df.info()"
   ]
  },
  {
   "cell_type": "code",
   "execution_count": 47,
   "metadata": {},
   "outputs": [
    {
     "data": {
      "text/plain": [
       "Int64Index([  1,   2,   3,   4,   5,   6,   7,   8,   9,  10,\n",
       "            ...\n",
       "            882, 883, 884, 885, 886, 887, 888, 889, 890, 891],\n",
       "           dtype='int64', name='PassengerId', length=891)"
      ]
     },
     "execution_count": 47,
     "metadata": {},
     "output_type": "execute_result"
    }
   ],
   "source": [
    "df.index"
   ]
  },
  {
   "cell_type": "code",
   "execution_count": null,
   "metadata": {
    "slideshow": {
     "slide_type": "-"
    }
   },
   "outputs": [],
   "source": [
    "df.index"
   ]
  },
  {
   "cell_type": "markdown",
   "metadata": {
    "slideshow": {
     "slide_type": "slide"
    }
   },
   "source": [
    "## 导出 csv 文件\n",
    "\n",
    "反过来，使用 `DataFrame` 对象的 `to_csv()` 方法可以把数据存储到指定文件中，其使用语法为：\n",
    "```python\n",
    "df.to_csv(path_or_buf=None, sep=',', na_rep='', float_format=None, columns=None, header=True, index=True, index_label=None, mode='w', encoding=None, compression=None, quoting=None, quotechar='\"', line_terminator='\\n', chunksize=None, tupleize_cols=None, date_format=None, doublequote=True, escapechar=None, decimal='.')\n",
    "```\n",
    "主要参数说明如下：\n",
    "- `path_or_buf`，输出文件路径字符串；\n",
    "- `sep=','`，数据分隔符，缺省是逗号`,`；\n",
    "- `na_rep=''`，NA值存储字符, 缺省`''`；\n",
    "- `float_format`，浮点数格式\n",
    "- `columns`，指定要存储的列，缺省全部列；\n",
    "- `header`，指定是否写入行写入列名，缺省是写入；\n",
    "- `index`，指定是否写入索引，缺省是写入；\n",
    "- `index_label`，指定行索引名称；\n",
    "- `mode='w'`，写入方式\n",
    "- `encoding`，编码格式\n",
    "- `date_format`，指定日期格式"
   ]
  },
  {
   "cell_type": "markdown",
   "metadata": {},
   "source": [
    "例如创建一个`DataFrame`对象："
   ]
  },
  {
   "cell_type": "code",
   "execution_count": 74,
   "metadata": {},
   "outputs": [],
   "source": [
    "from datetime import datetime\n",
    "# 时间\n",
    "times = [datetime(2018, 10, 10, 6), datetime(2018, 10, 10, 7), \n",
    "         datetime(2018, 10, 10, 8), datetime(2018, 10, 10, 11), \n",
    "         datetime(2018, 10, 10, 12), datetime(2018, 10, 10, 13), \n",
    "         datetime(2018, 10, 10, 18), datetime(2018, 10, 10, 19), \n",
    "         datetime(2018, 10, 10, 20), datetime(2018, 10, 10, 21)]\n",
    "# 餐时标识，顾客人数、平均消费、总消费\n",
    "meals = np.array(['B', 'B', 'B', 'L', 'L', 'L', 'D', 'D', 'D', ''])\n",
    "customers = np.array([60, 70, 65, 100, 230, 150, 100, 300, np.nan, 300])\n",
    "costs = np.array([6.5, 7, 8, 24, 23, 26, 45, 55.5, 45, np.nan])\n",
    "total_costs = customers * costs\n",
    "\n",
    "# 创建Series、DataFrame对象\n",
    "data = {'meals': meals, 'customers': customers, 'costs': costs, 'total_costs': total_costs}\n",
    "df = pd.DataFrame(data, index=times)"
   ]
  },
  {
   "cell_type": "code",
   "execution_count": 76,
   "metadata": {},
   "outputs": [
    {
     "data": {
      "text/html": [
       "<div>\n",
       "<style scoped>\n",
       "    .dataframe tbody tr th:only-of-type {\n",
       "        vertical-align: middle;\n",
       "    }\n",
       "\n",
       "    .dataframe tbody tr th {\n",
       "        vertical-align: top;\n",
       "    }\n",
       "\n",
       "    .dataframe thead th {\n",
       "        text-align: right;\n",
       "    }\n",
       "</style>\n",
       "<table border=\"1\" class=\"dataframe\">\n",
       "  <thead>\n",
       "    <tr style=\"text-align: right;\">\n",
       "      <th></th>\n",
       "      <th>meals</th>\n",
       "      <th>customers</th>\n",
       "      <th>costs</th>\n",
       "      <th>total_costs</th>\n",
       "    </tr>\n",
       "  </thead>\n",
       "  <tbody>\n",
       "    <tr>\n",
       "      <th>2018-10-10 06:00:00</th>\n",
       "      <td>B</td>\n",
       "      <td>60.0</td>\n",
       "      <td>6.5</td>\n",
       "      <td>390.0</td>\n",
       "    </tr>\n",
       "    <tr>\n",
       "      <th>2018-10-10 07:00:00</th>\n",
       "      <td>B</td>\n",
       "      <td>70.0</td>\n",
       "      <td>7.0</td>\n",
       "      <td>490.0</td>\n",
       "    </tr>\n",
       "    <tr>\n",
       "      <th>2018-10-10 08:00:00</th>\n",
       "      <td>B</td>\n",
       "      <td>65.0</td>\n",
       "      <td>8.0</td>\n",
       "      <td>520.0</td>\n",
       "    </tr>\n",
       "    <tr>\n",
       "      <th>2018-10-10 11:00:00</th>\n",
       "      <td>L</td>\n",
       "      <td>100.0</td>\n",
       "      <td>24.0</td>\n",
       "      <td>2400.0</td>\n",
       "    </tr>\n",
       "    <tr>\n",
       "      <th>2018-10-10 12:00:00</th>\n",
       "      <td>L</td>\n",
       "      <td>230.0</td>\n",
       "      <td>23.0</td>\n",
       "      <td>5290.0</td>\n",
       "    </tr>\n",
       "  </tbody>\n",
       "</table>\n",
       "</div>"
      ],
      "text/plain": [
       "                    meals  customers  costs  total_costs\n",
       "2018-10-10 06:00:00     B       60.0    6.5        390.0\n",
       "2018-10-10 07:00:00     B       70.0    7.0        490.0\n",
       "2018-10-10 08:00:00     B       65.0    8.0        520.0\n",
       "2018-10-10 11:00:00     L      100.0   24.0       2400.0\n",
       "2018-10-10 12:00:00     L      230.0   23.0       5290.0"
      ]
     },
     "execution_count": 76,
     "metadata": {},
     "output_type": "execute_result"
    }
   ],
   "source": [
    "df.head()"
   ]
  },
  {
   "cell_type": "markdown",
   "metadata": {},
   "source": [
    "下面使用`to_csv()`方法，写入到指定 csv 文件:"
   ]
  },
  {
   "cell_type": "code",
   "execution_count": 77,
   "metadata": {
    "slideshow": {
     "slide_type": "-"
    }
   },
   "outputs": [],
   "source": [
    "df.to_csv('out01.csv')"
   ]
  },
  {
   "cell_type": "markdown",
   "metadata": {
    "slideshow": {
     "slide_type": "slide"
    }
   },
   "source": [
    "检查结果文件，发现未写入索引名称，使用`index_label`参数来指定："
   ]
  },
  {
   "cell_type": "code",
   "execution_count": 85,
   "metadata": {
    "slideshow": {
     "slide_type": "-"
    }
   },
   "outputs": [],
   "source": [
    "df.to_csv('out02.csv', index_label='times')"
   ]
  },
  {
   "cell_type": "markdown",
   "metadata": {},
   "source": [
    "使用参数`columns`来控制输出列："
   ]
  },
  {
   "cell_type": "code",
   "execution_count": 87,
   "metadata": {},
   "outputs": [],
   "source": [
    "df.to_csv('out03.csv', index_label='times', columns=['customers', 'costs'])"
   ]
  },
  {
   "cell_type": "markdown",
   "metadata": {},
   "source": [
    "使用`float_format, header`等参数控制输出结果："
   ]
  },
  {
   "cell_type": "code",
   "execution_count": 88,
   "metadata": {},
   "outputs": [],
   "source": [
    "df.to_csv('out04.csv', index_label='times', header=False, float_format='%.2f')"
   ]
  },
  {
   "cell_type": "markdown",
   "metadata": {
    "slideshow": {
     "slide_type": "slide"
    }
   },
   "source": [
    "检查输出结果文件，会发现索引列没有了。使用`df.to_csv()`帮助信息，尝试其他参数，了解更多用法。"
   ]
  },
  {
   "cell_type": "markdown",
   "metadata": {
    "slideshow": {
     "slide_type": "slide"
    }
   },
   "source": [
    "## 更多文本文件读写\n",
    "\n",
    "Pandas 还提供其它文本文件读取函数：\n",
    "- `pd.read_table()`，从文件、URL或文件对象中读取表格分隔符的数据\n",
    "- `pd.read_fwf()`，从固定宽度格式文件中读取数据\n",
    "- `pd.read_json()`，从 JSON 字符串中读取数据\n",
    "- `pd.read_html()`，从 HTML 文件中读取数据\n",
    "\n",
    "这些函数的语法与`read_csv()`有很多类似，如有需求，多看示例与在线文档即可。"
   ]
  }
 ],
 "metadata": {
  "kernelspec": {
   "display_name": "Python 3",
   "language": "python",
   "name": "python3"
  },
  "language_info": {
   "codemirror_mode": {
    "name": "ipython",
    "version": 3
   },
   "file_extension": ".py",
   "mimetype": "text/x-python",
   "name": "python",
   "nbconvert_exporter": "python",
   "pygments_lexer": "ipython3",
   "version": "3.6.4"
  },
  "toc": {
   "base_numbering": 1,
   "nav_menu": {},
   "number_sections": true,
   "sideBar": true,
   "skip_h1_title": false,
   "title_cell": "Table of Contents",
   "title_sidebar": "Contents",
   "toc_cell": false,
   "toc_position": {
    "height": "calc(100% - 180px)",
    "left": "10px",
    "top": "150px",
    "width": "307px"
   },
   "toc_section_display": true,
   "toc_window_display": true
  }
 },
 "nbformat": 4,
 "nbformat_minor": 2
}
