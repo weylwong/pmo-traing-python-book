{
 "cells": [
  {
   "cell_type": "markdown",
   "metadata": {
    "slideshow": {
     "slide_type": "slide"
    }
   },
   "source": [
    "# 数据读取导出概述\n",
    "\n",
    "没有数据，数据分析只是空中楼阁。在实际数据分析工作中，数据来源多种多样，例如文本文件、二进制文件、数据库、网页、FTP或电子邮件等。使用 Pandas 进行数据处理，首先需要从不同数据源读取数据，最后经过处理分析的数据还能导出为各种数据源共后续应用。\n",
    "\n",
    "Pandas 包已经提供了多种数据源读取函数与相应的导出函数。下表列出 Pandas 支持的读取与导出函数：\n",
    "\n",
    "| 来源 | 格式 | 读取函数 |  导出函数 |\n",
    "|:-----|:-----|:---------|:---------|\n",
    "|文本  | 逗号分隔符（csv）| `pd.read_csv()` |`df.to_csv()`|\n",
    "|文本  | 表格分隔符     | `pd.read_table()` |       |\n",
    "|文本  | 固定宽度格式（fwf）| `pd.read_fwf()` |       |\n",
    "|文本  | JSON 格式       | `pd.read_json()` |`df.to_json()`|\n",
    "|文本  | HTML 格式  | `pd.read_html()` |`df.to_html()`|\n",
    "|二进制| 微软 Excel | `pd.read_excel()` |`df.to_excel()`|\n",
    "|二进制| Python pickle | `pd.read_pickl()` |`df.to_pickl()`|\n",
    "|二进制| HDF5   | `pd.read_hdf()` |`df.to_hdf()`|\n",
    "|二进制| SAS | `pd.read_sas()` | |\n",
    "|二进制| Feather| `pd.read_feather()` |`df.to_feather()`|\n",
    "|二进制| msgpack| `pd.read_msgpack()` |`df.to_msgpack()`|\n",
    "|二进制| parquet | `pd.read_parquet()` |`df.to_parquet()`|\n",
    "|二进制| stata| `pd.read_stata()` |`df.to_stata()`|\n",
    "|数据库| SQL| `pd.read_sql()` |`df.to_sql()`|\n",
    "|数据库| SQL 表| `pd.read_sql_table()` | |\n",
    "|数据库| SQL 查询| `pd.read_sql_query()` | |\n",
    "|数据库| Google Big Query | `pd.read_gbq()` |`df.to_gbq()`|\n",
    "|其它  | 剪切板| `pd.read_clipboard()` |`df.to_clipboard()`|"
   ]
  },
  {
   "cell_type": "markdown",
   "metadata": {},
   "source": [
    "本章主要介绍常用的 csv 文本文件、Excel二进制文件、SQL数据库的读取与写入操作。掌握了这三种读取与写入方法，能够完成数据分析大部分的读取与导出工作。熟悉这三种数据源读写方法后，其它数据源的读写方法也较容易掌握。"
   ]
  }
 ],
 "metadata": {
  "kernelspec": {
   "display_name": "Python 3",
   "language": "python",
   "name": "python3"
  },
  "language_info": {
   "codemirror_mode": {
    "name": "ipython",
    "version": 3
   },
   "file_extension": ".py",
   "mimetype": "text/x-python",
   "name": "python",
   "nbconvert_exporter": "python",
   "pygments_lexer": "ipython3",
   "version": "3.6.4"
  },
  "toc": {
   "base_numbering": 1,
   "nav_menu": {},
   "number_sections": true,
   "sideBar": true,
   "skip_h1_title": false,
   "title_cell": "Table of Contents",
   "title_sidebar": "Contents",
   "toc_cell": false,
   "toc_position": {
    "height": "calc(100% - 180px)",
    "left": "10px",
    "top": "150px",
    "width": "299px"
   },
   "toc_section_display": true,
   "toc_window_display": true
  }
 },
 "nbformat": 4,
 "nbformat_minor": 2
}
